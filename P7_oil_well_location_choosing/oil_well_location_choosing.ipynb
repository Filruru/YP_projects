{
 "cells": [
  {
   "cell_type": "markdown",
   "metadata": {},
   "source": [
    "# Выбор локации для скважины"
   ]
  },
  {
   "cell_type": "markdown",
   "metadata": {},
   "source": [
    "Допустим, вы работаете в добывающей компании «ГлавРосГосНефть». Нужно решить, где бурить новую скважину.\n",
    "\n",
    "Вам предоставлены пробы нефти в трёх регионах: в каждом 10 000 месторождений, где измерили качество нефти и объём её запасов. Постройте модель машинного обучения, которая поможет определить регион, где добыча принесёт наибольшую прибыль. Проанализируйте возможную прибыль и риски техникой *Bootstrap.*\n",
    "\n",
    "Шаги для выбора локации:\n",
    "\n",
    "- В избранном регионе ищут месторождения, для каждого определяют значения признаков;\n",
    "- Строят модель и оценивают объём запасов;\n",
    "- Выбирают месторождения с самым высокими оценками значений. Количество месторождений зависит от бюджета компании и стоимости разработки одной скважины;\n",
    "- Прибыль равна суммарной прибыли отобранных месторождений."
   ]
  },
  {
   "cell_type": "markdown",
   "metadata": {},
   "source": [
    "## Загрузка и подготовка данных"
   ]
  },
  {
   "cell_type": "code",
   "execution_count": 1,
   "metadata": {},
   "outputs": [],
   "source": [
    "import pandas as pd\n",
    "import numpy as np\n",
    "import seaborn as sns \n",
    "import matplotlib.pyplot as plt\n",
    "import scipy.stats as st\n",
    "import warnings\n",
    "warnings.simplefilter('ignore') \n",
    "\n",
    "from sklearn.model_selection import train_test_split\n",
    "from sklearn.preprocessing import StandardScaler\n",
    "from sklearn.linear_model import LinearRegression\n",
    "from sklearn.metrics import mean_squared_error"
   ]
  },
  {
   "cell_type": "markdown",
   "metadata": {},
   "source": [
    "Загружаем исходную информацию по 3м регионам нефтедобычи."
   ]
  },
  {
   "cell_type": "code",
   "execution_count": 2,
   "metadata": {},
   "outputs": [],
   "source": [
    "r0 = pd.read_csv('/datasets/geo_data_0.csv')\n",
    "r1 = pd.read_csv('/datasets/geo_data_1.csv')\n",
    "r2 = pd.read_csv('/datasets/geo_data_2.csv')"
   ]
  },
  {
   "cell_type": "markdown",
   "metadata": {},
   "source": [
    "Создал процедуру для изучения данных."
   ]
  },
  {
   "cell_type": "code",
   "execution_count": 3,
   "metadata": {},
   "outputs": [],
   "source": [
    "def data_exam(region):\n",
    "    \n",
    "    display(region.head())\n",
    "    print()\n",
    "    print(\"Наличие дубликатов:\", region.duplicated().sum())\n",
    "    print()\n",
    "    print(region.describe())\n",
    "    print()\n",
    "    region.boxplot(column = 'product',figsize=(7,5))\n",
    "    plt.title(\"Добыча по региону\")\n",
    "    plt.ylabel(\"тыс.баррелей\")\n",
    "    plt.show()\n",
    "    \n",
    "    region.info()\n",
    "    print()\n",
    "    print(\"Матрица корреляции\")\n",
    "    print(region.corr())\n",
    "    df_plot = sns.heatmap(region.corr(), cmap=\"YlGnBu\", annot=True)\n",
    "    plt.title('Тепловая карта корреляции')\n",
    "    plt.show()\n",
    "         \n",
    "    region.hist(figsize=(10, 12))\n",
    "    print(\"Гистограммы распределения признаков\")\n",
    "    None \n",
    "    "
   ]
  },
  {
   "cell_type": "markdown",
   "metadata": {},
   "source": [
    "Изучаем информацию по региону r0."
   ]
  },
  {
   "cell_type": "code",
   "execution_count": 4,
   "metadata": {},
   "outputs": [
    {
     "data": {
      "text/html": [
       "<div>\n",
       "<style scoped>\n",
       "    .dataframe tbody tr th:only-of-type {\n",
       "        vertical-align: middle;\n",
       "    }\n",
       "\n",
       "    .dataframe tbody tr th {\n",
       "        vertical-align: top;\n",
       "    }\n",
       "\n",
       "    .dataframe thead th {\n",
       "        text-align: right;\n",
       "    }\n",
       "</style>\n",
       "<table border=\"1\" class=\"dataframe\">\n",
       "  <thead>\n",
       "    <tr style=\"text-align: right;\">\n",
       "      <th></th>\n",
       "      <th>id</th>\n",
       "      <th>f0</th>\n",
       "      <th>f1</th>\n",
       "      <th>f2</th>\n",
       "      <th>product</th>\n",
       "    </tr>\n",
       "  </thead>\n",
       "  <tbody>\n",
       "    <tr>\n",
       "      <th>0</th>\n",
       "      <td>txEyH</td>\n",
       "      <td>0.705745</td>\n",
       "      <td>-0.497823</td>\n",
       "      <td>1.221170</td>\n",
       "      <td>105.280062</td>\n",
       "    </tr>\n",
       "    <tr>\n",
       "      <th>1</th>\n",
       "      <td>2acmU</td>\n",
       "      <td>1.334711</td>\n",
       "      <td>-0.340164</td>\n",
       "      <td>4.365080</td>\n",
       "      <td>73.037750</td>\n",
       "    </tr>\n",
       "    <tr>\n",
       "      <th>2</th>\n",
       "      <td>409Wp</td>\n",
       "      <td>1.022732</td>\n",
       "      <td>0.151990</td>\n",
       "      <td>1.419926</td>\n",
       "      <td>85.265647</td>\n",
       "    </tr>\n",
       "    <tr>\n",
       "      <th>3</th>\n",
       "      <td>iJLyR</td>\n",
       "      <td>-0.032172</td>\n",
       "      <td>0.139033</td>\n",
       "      <td>2.978566</td>\n",
       "      <td>168.620776</td>\n",
       "    </tr>\n",
       "    <tr>\n",
       "      <th>4</th>\n",
       "      <td>Xdl7t</td>\n",
       "      <td>1.988431</td>\n",
       "      <td>0.155413</td>\n",
       "      <td>4.751769</td>\n",
       "      <td>154.036647</td>\n",
       "    </tr>\n",
       "  </tbody>\n",
       "</table>\n",
       "</div>"
      ],
      "text/plain": [
       "      id        f0        f1        f2     product\n",
       "0  txEyH  0.705745 -0.497823  1.221170  105.280062\n",
       "1  2acmU  1.334711 -0.340164  4.365080   73.037750\n",
       "2  409Wp  1.022732  0.151990  1.419926   85.265647\n",
       "3  iJLyR -0.032172  0.139033  2.978566  168.620776\n",
       "4  Xdl7t  1.988431  0.155413  4.751769  154.036647"
      ]
     },
     "metadata": {},
     "output_type": "display_data"
    },
    {
     "name": "stdout",
     "output_type": "stream",
     "text": [
      "\n",
      "Наличие дубликатов: 0\n",
      "\n",
      "                  f0             f1             f2        product\n",
      "count  100000.000000  100000.000000  100000.000000  100000.000000\n",
      "mean        0.500419       0.250143       2.502647      92.500000\n",
      "std         0.871832       0.504433       3.248248      44.288691\n",
      "min        -1.408605      -0.848218     -12.088328       0.000000\n",
      "25%        -0.072580      -0.200881       0.287748      56.497507\n",
      "50%         0.502360       0.250252       2.515969      91.849972\n",
      "75%         1.073581       0.700646       4.715088     128.564089\n",
      "max         2.362331       1.343769      16.003790     185.364347\n",
      "\n"
     ]
    },
    {
     "data": {
      "image/png": "[encoded data removed]",
      "text/plain": [
       "<Figure size 504x360 with 1 Axes>"
      ]
     },
     "metadata": {
      "needs_background": "light"
     },
     "output_type": "display_data"
    },
    {
     "name": "stdout",
     "output_type": "stream",
     "text": [
      "<class 'pandas.core.frame.DataFrame'>\n",
      "RangeIndex: 100000 entries, 0 to 99999\n",
      "Data columns (total 5 columns):\n",
      " #   Column   Non-Null Count   Dtype  \n",
      "---  ------   --------------   -----  \n",
      " 0   id       100000 non-null  object \n",
      " 1   f0       100000 non-null  float64\n",
      " 2   f1       100000 non-null  float64\n",
      " 3   f2       100000 non-null  float64\n",
      " 4   product  100000 non-null  float64\n",
      "dtypes: float64(4), object(1)\n",
      "memory usage: 3.8+ MB\n",
      "\n",
      "Матрица корреляции\n",
      "               f0        f1        f2   product\n",
      "f0       1.000000 -0.440723 -0.003153  0.143536\n",
      "f1      -0.440723  1.000000  0.001724 -0.192356\n",
      "f2      -0.003153  0.001724  1.000000  0.483663\n",
      "product  0.143536 -0.192356  0.483663  1.000000\n"
     ]
    },
    {
     "data": {
      "image/png": "[encoded data removed]",
      "text/plain": [
       "<Figure size 432x288 with 2 Axes>"
      ]
     },
     "metadata": {
      "needs_background": "light"
     },
     "output_type": "display_data"
    },
    {
     "name": "stdout",
     "output_type": "stream",
     "text": [
      "Гистограммы распределения признаков\n"
     ]
    },
    {
     "data": {
      "image/png": "[encoded data removed]",
      "text/plain": [
       "<Figure size 720x864 with 4 Axes>"
      ]
     },
     "metadata": {
      "needs_background": "light"
     },
     "output_type": "display_data"
    }
   ],
   "source": [
    "data_exam(r0) #Изучаем информацию по региону r0."
   ]
  },
  {
   "cell_type": "markdown",
   "metadata": {},
   "source": [
    "Вывод:\n",
    "  - Дубликатов нет\n",
    "  - Пропусков нет\n",
    "  - Медианные и средние значения параметров приблизительно одинаковые\n",
    "  - В среднем в регионе добывается 92,5 тыс бареллей, максимум 185 тыс\n",
    "  - На фоне очень слабой корреляции между признаками f2 и product имеют слабую положительную 0.48 корреляцию, f1 и f0 отрицательную слабую корреляцию -0.44\n",
    "  - Визуально данные имеют нормальное распределение с выбросами fo и f1\n"
   ]
  },
  {
   "cell_type": "code",
   "execution_count": 5,
   "metadata": {},
   "outputs": [
    {
     "data": {
      "text/html": [
       "<div>\n",
       "<style scoped>\n",
       "    .dataframe tbody tr th:only-of-type {\n",
       "        vertical-align: middle;\n",
       "    }\n",
       "\n",
       "    .dataframe tbody tr th {\n",
       "        vertical-align: top;\n",
       "    }\n",
       "\n",
       "    .dataframe thead th {\n",
       "        text-align: right;\n",
       "    }\n",
       "</style>\n",
       "<table border=\"1\" class=\"dataframe\">\n",
       "  <thead>\n",
       "    <tr style=\"text-align: right;\">\n",
       "      <th></th>\n",
       "      <th>id</th>\n",
       "      <th>f0</th>\n",
       "      <th>f1</th>\n",
       "      <th>f2</th>\n",
       "      <th>product</th>\n",
       "    </tr>\n",
       "  </thead>\n",
       "  <tbody>\n",
       "    <tr>\n",
       "      <th>0</th>\n",
       "      <td>kBEdx</td>\n",
       "      <td>-15.001348</td>\n",
       "      <td>-8.276000</td>\n",
       "      <td>-0.005876</td>\n",
       "      <td>3.179103</td>\n",
       "    </tr>\n",
       "    <tr>\n",
       "      <th>1</th>\n",
       "      <td>62mP7</td>\n",
       "      <td>14.272088</td>\n",
       "      <td>-3.475083</td>\n",
       "      <td>0.999183</td>\n",
       "      <td>26.953261</td>\n",
       "    </tr>\n",
       "    <tr>\n",
       "      <th>2</th>\n",
       "      <td>vyE1P</td>\n",
       "      <td>6.263187</td>\n",
       "      <td>-5.948386</td>\n",
       "      <td>5.001160</td>\n",
       "      <td>134.766305</td>\n",
       "    </tr>\n",
       "    <tr>\n",
       "      <th>3</th>\n",
       "      <td>KcrkZ</td>\n",
       "      <td>-13.081196</td>\n",
       "      <td>-11.506057</td>\n",
       "      <td>4.999415</td>\n",
       "      <td>137.945408</td>\n",
       "    </tr>\n",
       "    <tr>\n",
       "      <th>4</th>\n",
       "      <td>AHL4O</td>\n",
       "      <td>12.702195</td>\n",
       "      <td>-8.147433</td>\n",
       "      <td>5.004363</td>\n",
       "      <td>134.766305</td>\n",
       "    </tr>\n",
       "  </tbody>\n",
       "</table>\n",
       "</div>"
      ],
      "text/plain": [
       "      id         f0         f1        f2     product\n",
       "0  kBEdx -15.001348  -8.276000 -0.005876    3.179103\n",
       "1  62mP7  14.272088  -3.475083  0.999183   26.953261\n",
       "2  vyE1P   6.263187  -5.948386  5.001160  134.766305\n",
       "3  KcrkZ -13.081196 -11.506057  4.999415  137.945408\n",
       "4  AHL4O  12.702195  -8.147433  5.004363  134.766305"
      ]
     },
     "metadata": {},
     "output_type": "display_data"
    },
    {
     "name": "stdout",
     "output_type": "stream",
     "text": [
      "\n",
      "Наличие дубликатов: 0\n",
      "\n",
      "                  f0             f1             f2        product\n",
      "count  100000.000000  100000.000000  100000.000000  100000.000000\n",
      "mean        1.141296      -4.796579       2.494541      68.825000\n",
      "std         8.965932       5.119872       1.703572      45.944423\n",
      "min       -31.609576     -26.358598      -0.018144       0.000000\n",
      "25%        -6.298551      -8.267985       1.000021      26.953261\n",
      "50%         1.153055      -4.813172       2.011479      57.085625\n",
      "75%         8.621015      -1.332816       3.999904     107.813044\n",
      "max        29.421755      18.734063       5.019721     137.945408\n",
      "\n"
     ]
    },
    {
     "data": {
      "image/png": "[encoded data removed]",
      "text/plain": [
       "<Figure size 504x360 with 1 Axes>"
      ]
     },
     "metadata": {
      "needs_background": "light"
     },
     "output_type": "display_data"
    },
    {
     "name": "stdout",
     "output_type": "stream",
     "text": [
      "<class 'pandas.core.frame.DataFrame'>\n",
      "RangeIndex: 100000 entries, 0 to 99999\n",
      "Data columns (total 5 columns):\n",
      " #   Column   Non-Null Count   Dtype  \n",
      "---  ------   --------------   -----  \n",
      " 0   id       100000 non-null  object \n",
      " 1   f0       100000 non-null  float64\n",
      " 2   f1       100000 non-null  float64\n",
      " 3   f2       100000 non-null  float64\n",
      " 4   product  100000 non-null  float64\n",
      "dtypes: float64(4), object(1)\n",
      "memory usage: 3.8+ MB\n",
      "\n",
      "Матрица корреляции\n",
      "               f0        f1        f2   product\n",
      "f0       1.000000  0.182287 -0.001777 -0.030491\n",
      "f1       0.182287  1.000000 -0.002595 -0.010155\n",
      "f2      -0.001777 -0.002595  1.000000  0.999397\n",
      "product -0.030491 -0.010155  0.999397  1.000000\n"
     ]
    },
    {
     "data": {
      "image/png": "[encoded data removed]",
      "text/plain": [
       "<Figure size 432x288 with 2 Axes>"
      ]
     },
     "metadata": {
      "needs_background": "light"
     },
     "output_type": "display_data"
    },
    {
     "name": "stdout",
     "output_type": "stream",
     "text": [
      "Гистограммы распределения признаков\n"
     ]
    },
    {
     "data": {
      "image/png": "[encoded data removed]",
      "text/plain": [
       "<Figure size 720x864 with 4 Axes>"
      ]
     },
     "metadata": {
      "needs_background": "light"
     },
     "output_type": "display_data"
    }
   ],
   "source": [
    "data_exam(r1) #Изучаем информацию по региону r1."
   ]
  },
  {
   "cell_type": "markdown",
   "metadata": {},
   "source": [
    "  Вывод:\n",
    "  - Дубликатов нет\n",
    "  - Пропусков нет\n",
    "  - Медианные и средние значения параметров f0,f1,f2 приблизительно одинаковые, что говорит о нормальном распределении данных, признак product скошен вправо, это наглядно видно на барплоте.\n",
    "  - В среднем в регионе добывается 68,83 тыс бареллей, максимум 138 тыс\n",
    "  - На фоне очень слабой корреляции между признаками,признаки f2 и product сильно взаимосвязаны и имеют корреляцию 1.\n",
    "  - Визуально данные f0 b f1 имеют нормальное распределение с некими пиками fo, f2 и product не нормально распределены, глядя на product можно сказать, что число скважин с добычей от 15 до 120 тысяч бареллей приблизительно одинаково в пределах чуть больше 8 тысяч, так же видно, что в регионе больше 16 тысяч скважин с максимальной добычей около 140 тыс., и такое число скважин со слаюой добычей до 15 тыс.  \n"
   ]
  },
  {
   "cell_type": "code",
   "execution_count": 6,
   "metadata": {},
   "outputs": [
    {
     "data": {
      "text/html": [
       "<div>\n",
       "<style scoped>\n",
       "    .dataframe tbody tr th:only-of-type {\n",
       "        vertical-align: middle;\n",
       "    }\n",
       "\n",
       "    .dataframe tbody tr th {\n",
       "        vertical-align: top;\n",
       "    }\n",
       "\n",
       "    .dataframe thead th {\n",
       "        text-align: right;\n",
       "    }\n",
       "</style>\n",
       "<table border=\"1\" class=\"dataframe\">\n",
       "  <thead>\n",
       "    <tr style=\"text-align: right;\">\n",
       "      <th></th>\n",
       "      <th>id</th>\n",
       "      <th>f0</th>\n",
       "      <th>f1</th>\n",
       "      <th>f2</th>\n",
       "      <th>product</th>\n",
       "    </tr>\n",
       "  </thead>\n",
       "  <tbody>\n",
       "    <tr>\n",
       "      <th>0</th>\n",
       "      <td>fwXo0</td>\n",
       "      <td>-1.146987</td>\n",
       "      <td>0.963328</td>\n",
       "      <td>-0.828965</td>\n",
       "      <td>27.758673</td>\n",
       "    </tr>\n",
       "    <tr>\n",
       "      <th>1</th>\n",
       "      <td>WJtFt</td>\n",
       "      <td>0.262778</td>\n",
       "      <td>0.269839</td>\n",
       "      <td>-2.530187</td>\n",
       "      <td>56.069697</td>\n",
       "    </tr>\n",
       "    <tr>\n",
       "      <th>2</th>\n",
       "      <td>ovLUW</td>\n",
       "      <td>0.194587</td>\n",
       "      <td>0.289035</td>\n",
       "      <td>-5.586433</td>\n",
       "      <td>62.871910</td>\n",
       "    </tr>\n",
       "    <tr>\n",
       "      <th>3</th>\n",
       "      <td>q6cA6</td>\n",
       "      <td>2.236060</td>\n",
       "      <td>-0.553760</td>\n",
       "      <td>0.930038</td>\n",
       "      <td>114.572842</td>\n",
       "    </tr>\n",
       "    <tr>\n",
       "      <th>4</th>\n",
       "      <td>WPMUX</td>\n",
       "      <td>-0.515993</td>\n",
       "      <td>1.716266</td>\n",
       "      <td>5.899011</td>\n",
       "      <td>149.600746</td>\n",
       "    </tr>\n",
       "  </tbody>\n",
       "</table>\n",
       "</div>"
      ],
      "text/plain": [
       "      id        f0        f1        f2     product\n",
       "0  fwXo0 -1.146987  0.963328 -0.828965   27.758673\n",
       "1  WJtFt  0.262778  0.269839 -2.530187   56.069697\n",
       "2  ovLUW  0.194587  0.289035 -5.586433   62.871910\n",
       "3  q6cA6  2.236060 -0.553760  0.930038  114.572842\n",
       "4  WPMUX -0.515993  1.716266  5.899011  149.600746"
      ]
     },
     "metadata": {},
     "output_type": "display_data"
    },
    {
     "name": "stdout",
     "output_type": "stream",
     "text": [
      "\n",
      "Наличие дубликатов: 0\n",
      "\n",
      "                  f0             f1             f2        product\n",
      "count  100000.000000  100000.000000  100000.000000  100000.000000\n",
      "mean        0.002023      -0.002081       2.495128      95.000000\n",
      "std         1.732045       1.730417       3.473445      44.749921\n",
      "min        -8.760004      -7.084020     -11.970335       0.000000\n",
      "25%        -1.162288      -1.174820       0.130359      59.450441\n",
      "50%         0.009424      -0.009482       2.484236      94.925613\n",
      "75%         1.158535       1.163678       4.858794     130.595027\n",
      "max         7.238262       7.844801      16.739402     190.029838\n",
      "\n"
     ]
    },
    {
     "data": {
      "image/png": "[encoded data removed]",
      "text/plain": [
       "<Figure size 504x360 with 1 Axes>"
      ]
     },
     "metadata": {
      "needs_background": "light"
     },
     "output_type": "display_data"
    },
    {
     "name": "stdout",
     "output_type": "stream",
     "text": [
      "<class 'pandas.core.frame.DataFrame'>\n",
      "RangeIndex: 100000 entries, 0 to 99999\n",
      "Data columns (total 5 columns):\n",
      " #   Column   Non-Null Count   Dtype  \n",
      "---  ------   --------------   -----  \n",
      " 0   id       100000 non-null  object \n",
      " 1   f0       100000 non-null  float64\n",
      " 2   f1       100000 non-null  float64\n",
      " 3   f2       100000 non-null  float64\n",
      " 4   product  100000 non-null  float64\n",
      "dtypes: float64(4), object(1)\n",
      "memory usage: 3.8+ MB\n",
      "\n",
      "Матрица корреляции\n",
      "               f0        f1        f2   product\n",
      "f0       1.000000  0.000528 -0.000448 -0.001987\n",
      "f1       0.000528  1.000000  0.000779 -0.001012\n",
      "f2      -0.000448  0.000779  1.000000  0.445871\n",
      "product -0.001987 -0.001012  0.445871  1.000000\n"
     ]
    },
    {
     "data": {
      "image/png": "[encoded data removed]",
      "text/plain": [
       "<Figure size 432x288 with 2 Axes>"
      ]
     },
     "metadata": {
      "needs_background": "light"
     },
     "output_type": "display_data"
    },
    {
     "name": "stdout",
     "output_type": "stream",
     "text": [
      "Гистограммы распределения признаков\n"
     ]
    },
    {
     "data": {
      "image/png": "[encoded data removed]",
      "text/plain": [
       "<Figure size 720x864 with 4 Axes>"
      ]
     },
     "metadata": {
      "needs_background": "light"
     },
     "output_type": "display_data"
    }
   ],
   "source": [
    "data_exam(r2) #Изучаем информацию по региону r2."
   ]
  },
  {
   "cell_type": "markdown",
   "metadata": {},
   "source": [
    " Вывод:\n",
    "  - Дубликатов нет\n",
    "  - Пропусков нет\n",
    "  - Медианные и средние значения параметров приблизительно одинаковые, f1 и f2 близки к 0.\n",
    "  - В среднем в регионе добывается 95 тыс бареллей, максимум 190 тыс\n",
    "  - Взаимосвязи между признаками нет, за исключением того, что признаки f2 и product слабо взаимовязаны с корреляцией 0.45.\n",
    "  - Визуально данные распределены нормально"
   ]
  },
  {
   "cell_type": "markdown",
   "metadata": {},
   "source": [
    "## Обучение и проверка модели"
   ]
  },
  {
   "cell_type": "markdown",
   "metadata": {},
   "source": [
    "Создал процедуру для разбиения датафрейма на выбоки, приведения features к одному масштабу, обучению модели линейной регрессии, предсказанию модели, вычислению метрики RMSE и вычислению среднего предсказанного обьема нефти добываемой в регионе."
   ]
  },
  {
   "cell_type": "code",
   "execution_count": 7,
   "metadata": {},
   "outputs": [],
   "source": [
    "def prepare_checking(region):\n",
    "    features = region.drop([\"product\",\"id\"], axis=1) # извлекаем признаки \n",
    "    target = region[\"product\"] # извлекаем целевой признак\n",
    "\n",
    "    features_train, features_valid, target_train, target_valid = \\\n",
    "            train_test_split(features,target,train_size=0.75,random_state=12345)\n",
    "\n",
    "    display(\"Размер обучающей выборки\")\n",
    "    display(features_train.shape)\n",
    "    display(target_train.shape)\n",
    "    display(\"Размер валидационной выборки\")\n",
    "    display(features_valid.shape)\n",
    "    display(target_valid.shape)\n",
    "    \n",
    "    #Приведем чтсленные признаки к одному масштабу\n",
    "    numeric = ['f0','f1','f2']\n",
    "    scaler = StandardScaler()\n",
    "    scaler.fit(features_train[numeric])\n",
    "    features_train[numeric] = scaler.transform(features_train[numeric])\n",
    "    features_valid[numeric] = scaler.transform(features_valid[numeric])\n",
    "    \n",
    "    model = LinearRegression().fit(features_train, target_train)#Обучаем модель\n",
    "    predictions_valid = model.predict(features_valid)#Предсказываем \n",
    "    predictions = pd.Series(predictions_valid) #предсказания сохраняем в Series\n",
    "    result = mean_squared_error(target_valid, predictions_valid)**0.5\n",
    "    print(\"RMSE модели линейной регрессии на валидационной выборке:\", result)\n",
    "    mean_prod = sum(predictions)/len(predictions)\n",
    "    print(\"средний запас предсказанного сырья :\", mean_prod)\n",
    "    \n",
    "    return(predictions, target_valid.reset_index(drop=True), result)"
   ]
  },
  {
   "cell_type": "markdown",
   "metadata": {},
   "source": [
    "**РЕГИОН 0**"
   ]
  },
  {
   "cell_type": "code",
   "execution_count": 8,
   "metadata": {},
   "outputs": [
    {
     "data": {
      "text/plain": [
       "'Размер обучающей выборки'"
      ]
     },
     "metadata": {},
     "output_type": "display_data"
    },
    {
     "data": {
      "text/plain": [
       "(75000, 3)"
      ]
     },
     "metadata": {},
     "output_type": "display_data"
    },
    {
     "data": {
      "text/plain": [
       "(75000,)"
      ]
     },
     "metadata": {},
     "output_type": "display_data"
    },
    {
     "data": {
      "text/plain": [
       "'Размер валидационной выборки'"
      ]
     },
     "metadata": {},
     "output_type": "display_data"
    },
    {
     "data": {
      "text/plain": [
       "(25000, 3)"
      ]
     },
     "metadata": {},
     "output_type": "display_data"
    },
    {
     "data": {
      "text/plain": [
       "(25000,)"
      ]
     },
     "metadata": {},
     "output_type": "display_data"
    },
    {
     "name": "stdout",
     "output_type": "stream",
     "text": [
      "RMSE модели линейной регрессии на валидационной выборке: 37.5794217150813\n",
      "средний запас предсказанного сырья : 92.59256778438008\n"
     ]
    }
   ],
   "source": [
    "predictions_0, validation_0, rmse_0 = prepare_checking(r0) #вызываем процедуру и сохраняем основные метрики"
   ]
  },
  {
   "cell_type": "markdown",
   "metadata": {},
   "source": [
    "**РЕГИОН 1**"
   ]
  },
  {
   "cell_type": "code",
   "execution_count": 9,
   "metadata": {},
   "outputs": [
    {
     "data": {
      "text/plain": [
       "'Размер обучающей выборки'"
      ]
     },
     "metadata": {},
     "output_type": "display_data"
    },
    {
     "data": {
      "text/plain": [
       "(75000, 3)"
      ]
     },
     "metadata": {},
     "output_type": "display_data"
    },
    {
     "data": {
      "text/plain": [
       "(75000,)"
      ]
     },
     "metadata": {},
     "output_type": "display_data"
    },
    {
     "data": {
      "text/plain": [
       "'Размер валидационной выборки'"
      ]
     },
     "metadata": {},
     "output_type": "display_data"
    },
    {
     "data": {
      "text/plain": [
       "(25000, 3)"
      ]
     },
     "metadata": {},
     "output_type": "display_data"
    },
    {
     "data": {
      "text/plain": [
       "(25000,)"
      ]
     },
     "metadata": {},
     "output_type": "display_data"
    },
    {
     "name": "stdout",
     "output_type": "stream",
     "text": [
      "RMSE модели линейной регрессии на валидационной выборке: 0.893099286775617\n",
      "средний запас предсказанного сырья : 68.7285468954458\n"
     ]
    }
   ],
   "source": [
    "predictions_1, validation_1, rmse_1 = prepare_checking(r1) #вызываем процедуру и сохраняем основные метрики"
   ]
  },
  {
   "cell_type": "markdown",
   "metadata": {},
   "source": [
    "**РЕГИОН 2**"
   ]
  },
  {
   "cell_type": "code",
   "execution_count": 10,
   "metadata": {},
   "outputs": [
    {
     "data": {
      "text/plain": [
       "'Размер обучающей выборки'"
      ]
     },
     "metadata": {},
     "output_type": "display_data"
    },
    {
     "data": {
      "text/plain": [
       "(75000, 3)"
      ]
     },
     "metadata": {},
     "output_type": "display_data"
    },
    {
     "data": {
      "text/plain": [
       "(75000,)"
      ]
     },
     "metadata": {},
     "output_type": "display_data"
    },
    {
     "data": {
      "text/plain": [
       "'Размер валидационной выборки'"
      ]
     },
     "metadata": {},
     "output_type": "display_data"
    },
    {
     "data": {
      "text/plain": [
       "(25000, 3)"
      ]
     },
     "metadata": {},
     "output_type": "display_data"
    },
    {
     "data": {
      "text/plain": [
       "(25000,)"
      ]
     },
     "metadata": {},
     "output_type": "display_data"
    },
    {
     "name": "stdout",
     "output_type": "stream",
     "text": [
      "RMSE модели линейной регрессии на валидационной выборке: 40.02970873393434\n",
      "средний запас предсказанного сырья : 94.96504596800506\n"
     ]
    }
   ],
   "source": [
    "predictions_2, validation_2, rmse_2 = prepare_checking(r2) #вызываем процедуру и сохраняем основные метрики"
   ]
  },
  {
   "cell_type": "markdown",
   "metadata": {},
   "source": [
    "Вывод:\n",
    "-  во каждому региону разбили исходный массив данных на выборки обучающую 75% и валидационную(тестовую)25%\n",
    "-  после масштабирования features обучили и сделали предсказания на модели линейной регресии, массив предсказаний обьема добычи нефти по каждой скважине и каждому региону сохранили в series\n",
    "- оценили средний обьем запасов по каждому региону, получилось что наибольший средний по скважине обьем сырья  \n",
    "        - в регионе 2 - 94.97 тыс.барр. \n",
    "        - в регионе 0 - 92.59 тыс.барр.\n",
    "        - в регионе 1 - 68.73 тыс.барр.\n",
    "- RMSE (квадратный корень из средней квадратичной ошибки) измеряет оклонение прогнозных значений от фактических значений в модели линейной регрессии. Это стандартный способ измерения точности модели, чем меньше значение RMSE, тем более точной считается модель и более точны ее прогнозы. \n",
    "        - в регионе 1 - 0.89 тыс.барр. \n",
    "        - в регионе 0 - 37.58 тыс.барр.\n",
    "        - в регионе 2 - 40.03 тыс.барр. \n",
    "- Наиболее точно модель предсказывает обьем добываемого сырья на данных в регионе 1, при том, что средний по скважине обьем сырья  в этом регионе наименьший из всех остальных регионов.        \n",
    "        "
   ]
  },
  {
   "cell_type": "markdown",
   "metadata": {},
   "source": [
    "## Подготовка к расчёту прибыли"
   ]
  },
  {
   "cell_type": "markdown",
   "metadata": {},
   "source": [
    "Для расчета прибыли сначала обьявил основные константы, которые будут использоваться при дальнейших расчетах."
   ]
  },
  {
   "cell_type": "code",
   "execution_count": 11,
   "metadata": {},
   "outputs": [
    {
     "name": "stdout",
     "output_type": "stream",
     "text": [
      "Бюджет на разработку скважин: 10.0 млрд.руб.\n",
      "1000 бареллей стоит: 450000 руб.\n",
      "Планируемое количество новых скважин: 200 шт.\n"
     ]
    }
   ],
   "source": [
    "budget = 10**10\n",
    "income_thousand_bar= 450_000\n",
    "quantity_wells = 200\n",
    "print(f'Бюджет на разработку скважин: {budget/10**9} млрд.руб.')\n",
    "print(f'1000 бареллей стоит: {income_thousand_bar} руб.')\n",
    "print(f'Планируемое количество новых скважин: {quantity_wells} шт.')"
   ]
  },
  {
   "cell_type": "markdown",
   "metadata": {},
   "source": [
    "Посчитал сколько должна добывать каждая новая скважина, чтобы не было ни прибыли  ни убытков."
   ]
  },
  {
   "cell_type": "code",
   "execution_count": 12,
   "metadata": {},
   "outputs": [
    {
     "name": "stdout",
     "output_type": "stream",
     "text": [
      "Точка безубыточности для одной скважины: 111.11 тыс. баррелей\n"
     ]
    }
   ],
   "source": [
    "zero_income_point = round(budget/quantity_wells/income_thousand_bar,2)\n",
    "print('Точка безубыточности для одной скважины: {0:.2f} тыс. баррелей'.format(zero_income_point))"
   ]
  },
  {
   "cell_type": "markdown",
   "metadata": {},
   "source": [
    "Наш бюджет для разработки 200 новых скважин - 10 млрд.руб.Затратами на одну скважину - 50 милн.руб.. При цене в 450 тыс.руб. за тыс.баррелей, безубыточная добыча начинается со скважин с запасом в 111,11 тыс.баррелей. По средним предсказаниям в предыдущем блоке такого объема нет ни в одном регионе (в регионе 2 - 94.97 тыс.барр., в регионе 0 - 92.59 тыс.барр., в регионе 1 - 68.73 тыс.барр.)"
   ]
  },
  {
   "cell_type": "markdown",
   "metadata": {},
   "source": [
    "Создал процедуру для расчета прибыли, где сначала будет сформирован датафрейм по каждому региону с реальными запасами и предполагаемыми и, в отдельном столбце income, будет подсчитана реальная выручка от добытого обьема по каждой скважине. Потом из этого датафрейма на основе предсказанных запасов будут отобраны 200 наиболее продуктивных скважин, посчитан реальный обьем добычи с этих скважин, реальная полученная выручка и от этого обьема посчитана прибыль. "
   ]
  },
  {
   "cell_type": "code",
   "execution_count": 13,
   "metadata": {},
   "outputs": [],
   "source": [
    "def profit(validation, predictions):\n",
    "    reg = pd.DataFrame()\n",
    "    reg['product_real'] = validation\n",
    "    reg['product_predicted'] = predictions\n",
    "    reg['income'] = validation * income_thousand_bar\n",
    "     \n",
    "    max_wells = reg.sort_values(by = 'product_predicted',ascending=False)[:quantity_wells]\n",
    "    max_wells_volume = round(max_wells.product_real.sum())\n",
    "    profit = round(max_wells.income.sum() - budget)/10**9\n",
    "    \n",
    "    print(f'Макисмальный объёма сырья выбранных скважин: {max_wells_volume} тыс.баррелей')\n",
    "    print(f'Прибыль от полученного объёма сырья: {profit} млрд.руб')\n",
    "    return reg\n",
    "    "
   ]
  },
  {
   "cell_type": "markdown",
   "metadata": {},
   "source": [
    "## Расчёт прибыли и рисков "
   ]
  },
  {
   "cell_type": "markdown",
   "metadata": {},
   "source": [
    "Для каждого региона теперь считаем прибыль, макисмальный объём сырья выбранных 200 скважин и сохраняем каждый сформированный датафрейм, тк он нам пригодиться в дальнейших расчетах."
   ]
  },
  {
   "cell_type": "code",
   "execution_count": 14,
   "metadata": {},
   "outputs": [
    {
     "name": "stdout",
     "output_type": "stream",
     "text": [
      "Макисмальный объёма сырья выбранных скважин: 29602 тыс.баррелей\n",
      "Прибыль от полученного объёма сырья: 3.320826043 млрд.руб\n"
     ]
    },
    {
     "data": {
      "text/html": [
       "<div>\n",
       "<style scoped>\n",
       "    .dataframe tbody tr th:only-of-type {\n",
       "        vertical-align: middle;\n",
       "    }\n",
       "\n",
       "    .dataframe tbody tr th {\n",
       "        vertical-align: top;\n",
       "    }\n",
       "\n",
       "    .dataframe thead th {\n",
       "        text-align: right;\n",
       "    }\n",
       "</style>\n",
       "<table border=\"1\" class=\"dataframe\">\n",
       "  <thead>\n",
       "    <tr style=\"text-align: right;\">\n",
       "      <th></th>\n",
       "      <th>product_real</th>\n",
       "      <th>product_predicted</th>\n",
       "      <th>income</th>\n",
       "    </tr>\n",
       "  </thead>\n",
       "  <tbody>\n",
       "    <tr>\n",
       "      <th>0</th>\n",
       "      <td>10.038645</td>\n",
       "      <td>95.894952</td>\n",
       "      <td>4.517390e+06</td>\n",
       "    </tr>\n",
       "    <tr>\n",
       "      <th>1</th>\n",
       "      <td>114.551489</td>\n",
       "      <td>77.572583</td>\n",
       "      <td>5.154817e+07</td>\n",
       "    </tr>\n",
       "    <tr>\n",
       "      <th>2</th>\n",
       "      <td>132.603635</td>\n",
       "      <td>77.892640</td>\n",
       "      <td>5.967164e+07</td>\n",
       "    </tr>\n",
       "    <tr>\n",
       "      <th>3</th>\n",
       "      <td>169.072125</td>\n",
       "      <td>90.175134</td>\n",
       "      <td>7.608246e+07</td>\n",
       "    </tr>\n",
       "    <tr>\n",
       "      <th>4</th>\n",
       "      <td>122.325180</td>\n",
       "      <td>70.510088</td>\n",
       "      <td>5.504633e+07</td>\n",
       "    </tr>\n",
       "    <tr>\n",
       "      <th>...</th>\n",
       "      <td>...</td>\n",
       "      <td>...</td>\n",
       "      <td>...</td>\n",
       "    </tr>\n",
       "    <tr>\n",
       "      <th>24995</th>\n",
       "      <td>170.116726</td>\n",
       "      <td>103.037104</td>\n",
       "      <td>7.655253e+07</td>\n",
       "    </tr>\n",
       "    <tr>\n",
       "      <th>24996</th>\n",
       "      <td>93.632175</td>\n",
       "      <td>85.403255</td>\n",
       "      <td>4.213448e+07</td>\n",
       "    </tr>\n",
       "    <tr>\n",
       "      <th>24997</th>\n",
       "      <td>127.352259</td>\n",
       "      <td>61.509833</td>\n",
       "      <td>5.730852e+07</td>\n",
       "    </tr>\n",
       "    <tr>\n",
       "      <th>24998</th>\n",
       "      <td>99.782700</td>\n",
       "      <td>118.180397</td>\n",
       "      <td>4.490221e+07</td>\n",
       "    </tr>\n",
       "    <tr>\n",
       "      <th>24999</th>\n",
       "      <td>177.821022</td>\n",
       "      <td>118.169392</td>\n",
       "      <td>8.001946e+07</td>\n",
       "    </tr>\n",
       "  </tbody>\n",
       "</table>\n",
       "<p>25000 rows × 3 columns</p>\n",
       "</div>"
      ],
      "text/plain": [
       "       product_real  product_predicted        income\n",
       "0         10.038645          95.894952  4.517390e+06\n",
       "1        114.551489          77.572583  5.154817e+07\n",
       "2        132.603635          77.892640  5.967164e+07\n",
       "3        169.072125          90.175134  7.608246e+07\n",
       "4        122.325180          70.510088  5.504633e+07\n",
       "...             ...                ...           ...\n",
       "24995    170.116726         103.037104  7.655253e+07\n",
       "24996     93.632175          85.403255  4.213448e+07\n",
       "24997    127.352259          61.509833  5.730852e+07\n",
       "24998     99.782700         118.180397  4.490221e+07\n",
       "24999    177.821022         118.169392  8.001946e+07\n",
       "\n",
       "[25000 rows x 3 columns]"
      ]
     },
     "execution_count": 14,
     "metadata": {},
     "output_type": "execute_result"
    }
   ],
   "source": [
    "reg0 = profit(validation_0, predictions_0)\n",
    "reg0"
   ]
  },
  {
   "cell_type": "code",
   "execution_count": 15,
   "metadata": {},
   "outputs": [
    {
     "name": "stdout",
     "output_type": "stream",
     "text": [
      "Макисмальный объёма сырья выбранных скважин: 27589 тыс.баррелей\n",
      "Прибыль от полученного объёма сырья: 2.415086697 млрд.руб\n"
     ]
    },
    {
     "data": {
      "text/html": [
       "<div>\n",
       "<style scoped>\n",
       "    .dataframe tbody tr th:only-of-type {\n",
       "        vertical-align: middle;\n",
       "    }\n",
       "\n",
       "    .dataframe tbody tr th {\n",
       "        vertical-align: top;\n",
       "    }\n",
       "\n",
       "    .dataframe thead th {\n",
       "        text-align: right;\n",
       "    }\n",
       "</style>\n",
       "<table border=\"1\" class=\"dataframe\">\n",
       "  <thead>\n",
       "    <tr style=\"text-align: right;\">\n",
       "      <th></th>\n",
       "      <th>product_real</th>\n",
       "      <th>product_predicted</th>\n",
       "      <th>income</th>\n",
       "    </tr>\n",
       "  </thead>\n",
       "  <tbody>\n",
       "    <tr>\n",
       "      <th>0</th>\n",
       "      <td>80.859783</td>\n",
       "      <td>82.663314</td>\n",
       "      <td>3.638690e+07</td>\n",
       "    </tr>\n",
       "    <tr>\n",
       "      <th>1</th>\n",
       "      <td>53.906522</td>\n",
       "      <td>54.431786</td>\n",
       "      <td>2.425793e+07</td>\n",
       "    </tr>\n",
       "    <tr>\n",
       "      <th>2</th>\n",
       "      <td>30.132364</td>\n",
       "      <td>29.748760</td>\n",
       "      <td>1.355956e+07</td>\n",
       "    </tr>\n",
       "    <tr>\n",
       "      <th>3</th>\n",
       "      <td>53.906522</td>\n",
       "      <td>53.552133</td>\n",
       "      <td>2.425793e+07</td>\n",
       "    </tr>\n",
       "    <tr>\n",
       "      <th>4</th>\n",
       "      <td>0.000000</td>\n",
       "      <td>1.243856</td>\n",
       "      <td>0.000000e+00</td>\n",
       "    </tr>\n",
       "    <tr>\n",
       "      <th>...</th>\n",
       "      <td>...</td>\n",
       "      <td>...</td>\n",
       "      <td>...</td>\n",
       "    </tr>\n",
       "    <tr>\n",
       "      <th>24995</th>\n",
       "      <td>137.945408</td>\n",
       "      <td>136.869211</td>\n",
       "      <td>6.207543e+07</td>\n",
       "    </tr>\n",
       "    <tr>\n",
       "      <th>24996</th>\n",
       "      <td>110.992147</td>\n",
       "      <td>110.693465</td>\n",
       "      <td>4.994647e+07</td>\n",
       "    </tr>\n",
       "    <tr>\n",
       "      <th>24997</th>\n",
       "      <td>137.945408</td>\n",
       "      <td>137.879341</td>\n",
       "      <td>6.207543e+07</td>\n",
       "    </tr>\n",
       "    <tr>\n",
       "      <th>24998</th>\n",
       "      <td>84.038886</td>\n",
       "      <td>83.761966</td>\n",
       "      <td>3.781750e+07</td>\n",
       "    </tr>\n",
       "    <tr>\n",
       "      <th>24999</th>\n",
       "      <td>53.906522</td>\n",
       "      <td>53.958466</td>\n",
       "      <td>2.425793e+07</td>\n",
       "    </tr>\n",
       "  </tbody>\n",
       "</table>\n",
       "<p>25000 rows × 3 columns</p>\n",
       "</div>"
      ],
      "text/plain": [
       "       product_real  product_predicted        income\n",
       "0         80.859783          82.663314  3.638690e+07\n",
       "1         53.906522          54.431786  2.425793e+07\n",
       "2         30.132364          29.748760  1.355956e+07\n",
       "3         53.906522          53.552133  2.425793e+07\n",
       "4          0.000000           1.243856  0.000000e+00\n",
       "...             ...                ...           ...\n",
       "24995    137.945408         136.869211  6.207543e+07\n",
       "24996    110.992147         110.693465  4.994647e+07\n",
       "24997    137.945408         137.879341  6.207543e+07\n",
       "24998     84.038886          83.761966  3.781750e+07\n",
       "24999     53.906522          53.958466  2.425793e+07\n",
       "\n",
       "[25000 rows x 3 columns]"
      ]
     },
     "execution_count": 15,
     "metadata": {},
     "output_type": "execute_result"
    }
   ],
   "source": [
    "reg1 = profit(validation_1, predictions_1)\n",
    "reg1"
   ]
  },
  {
   "cell_type": "code",
   "execution_count": 16,
   "metadata": {},
   "outputs": [
    {
     "name": "stdout",
     "output_type": "stream",
     "text": [
      "Макисмальный объёма сырья выбранных скважин: 28245 тыс.баррелей\n",
      "Прибыль от полученного объёма сырья: 2.710349964 млрд.руб\n"
     ]
    },
    {
     "data": {
      "text/html": [
       "<div>\n",
       "<style scoped>\n",
       "    .dataframe tbody tr th:only-of-type {\n",
       "        vertical-align: middle;\n",
       "    }\n",
       "\n",
       "    .dataframe tbody tr th {\n",
       "        vertical-align: top;\n",
       "    }\n",
       "\n",
       "    .dataframe thead th {\n",
       "        text-align: right;\n",
       "    }\n",
       "</style>\n",
       "<table border=\"1\" class=\"dataframe\">\n",
       "  <thead>\n",
       "    <tr style=\"text-align: right;\">\n",
       "      <th></th>\n",
       "      <th>product_real</th>\n",
       "      <th>product_predicted</th>\n",
       "      <th>income</th>\n",
       "    </tr>\n",
       "  </thead>\n",
       "  <tbody>\n",
       "    <tr>\n",
       "      <th>0</th>\n",
       "      <td>61.212375</td>\n",
       "      <td>93.599633</td>\n",
       "      <td>2.754557e+07</td>\n",
       "    </tr>\n",
       "    <tr>\n",
       "      <th>1</th>\n",
       "      <td>41.850118</td>\n",
       "      <td>75.105159</td>\n",
       "      <td>1.883255e+07</td>\n",
       "    </tr>\n",
       "    <tr>\n",
       "      <th>2</th>\n",
       "      <td>57.776581</td>\n",
       "      <td>90.066809</td>\n",
       "      <td>2.599946e+07</td>\n",
       "    </tr>\n",
       "    <tr>\n",
       "      <th>3</th>\n",
       "      <td>100.053761</td>\n",
       "      <td>105.162375</td>\n",
       "      <td>4.502419e+07</td>\n",
       "    </tr>\n",
       "    <tr>\n",
       "      <th>4</th>\n",
       "      <td>109.897122</td>\n",
       "      <td>115.303310</td>\n",
       "      <td>4.945370e+07</td>\n",
       "    </tr>\n",
       "    <tr>\n",
       "      <th>...</th>\n",
       "      <td>...</td>\n",
       "      <td>...</td>\n",
       "      <td>...</td>\n",
       "    </tr>\n",
       "    <tr>\n",
       "      <th>24995</th>\n",
       "      <td>28.492402</td>\n",
       "      <td>78.765887</td>\n",
       "      <td>1.282158e+07</td>\n",
       "    </tr>\n",
       "    <tr>\n",
       "      <th>24996</th>\n",
       "      <td>21.431303</td>\n",
       "      <td>95.603394</td>\n",
       "      <td>9.644086e+06</td>\n",
       "    </tr>\n",
       "    <tr>\n",
       "      <th>24997</th>\n",
       "      <td>125.487229</td>\n",
       "      <td>99.407281</td>\n",
       "      <td>5.646925e+07</td>\n",
       "    </tr>\n",
       "    <tr>\n",
       "      <th>24998</th>\n",
       "      <td>99.422903</td>\n",
       "      <td>77.779912</td>\n",
       "      <td>4.474031e+07</td>\n",
       "    </tr>\n",
       "    <tr>\n",
       "      <th>24999</th>\n",
       "      <td>127.445075</td>\n",
       "      <td>129.032417</td>\n",
       "      <td>5.735028e+07</td>\n",
       "    </tr>\n",
       "  </tbody>\n",
       "</table>\n",
       "<p>25000 rows × 3 columns</p>\n",
       "</div>"
      ],
      "text/plain": [
       "       product_real  product_predicted        income\n",
       "0         61.212375          93.599633  2.754557e+07\n",
       "1         41.850118          75.105159  1.883255e+07\n",
       "2         57.776581          90.066809  2.599946e+07\n",
       "3        100.053761         105.162375  4.502419e+07\n",
       "4        109.897122         115.303310  4.945370e+07\n",
       "...             ...                ...           ...\n",
       "24995     28.492402          78.765887  1.282158e+07\n",
       "24996     21.431303          95.603394  9.644086e+06\n",
       "24997    125.487229          99.407281  5.646925e+07\n",
       "24998     99.422903          77.779912  4.474031e+07\n",
       "24999    127.445075         129.032417  5.735028e+07\n",
       "\n",
       "[25000 rows x 3 columns]"
      ]
     },
     "execution_count": 16,
     "metadata": {},
     "output_type": "execute_result"
    }
   ],
   "source": [
    "reg2 = profit(validation_2, predictions_2)\n",
    "reg2"
   ]
  },
  {
   "cell_type": "markdown",
   "metadata": {},
   "source": [
    "По расчетам в каждой регионе прибыль составляет:\n",
    "  - регион0 3.32 млрд.руб. при обьеме добычи 29602 тыс.барр.\n",
    "  - регион2 2.71 млрд.руб. при обьеме добычи 28245 тыс.барр.\n",
    "  - регион1 2.42 млрд.руб. при обьеме добычи 27589 тыс.барр."
   ]
  },
  {
   "cell_type": "markdown",
   "metadata": {},
   "source": [
    "Применим технику Bootstrap с 1000 выборок, чтобы найти распределение прибыли. \n",
    "Создал процедуру, которая будет 1000 раз в случайном порядке из комбинированных датафреймов,которые мы сохранили на предыдущем этапе, где у нас есть реальные обьемы добычи и предсказанные обьемы добычи и доход по каждой скважине, выбирать выборки размером 500 скважин. Из этих 500 каждый раз будем выбирать 200 наиболее продуктивных скважин и считать для них прибыль. Из значений прибыли создадим массив revenue, посмотрим его распределение, есть ли отрицательные значения, что будет означать убытки, и долю этих убытков в доверительном интервале 95%(То есть отбрасываем 5% значений, а для остальных ищем максимум)"
   ]
  },
  {
   "cell_type": "code",
   "execution_count": 17,
   "metadata": {},
   "outputs": [],
   "source": [
    "sample_quantity = 1000\n",
    "sample_size = 500"
   ]
  },
  {
   "cell_type": "code",
   "execution_count": 18,
   "metadata": {},
   "outputs": [],
   "source": [
    "def revenue(df):\n",
    "    state = np.random.RandomState(12345)\n",
    "    revenue = []\n",
    "    for i in range(sample_quantity): \n",
    "        data = df.sample(n=sample_size, random_state=state, replace=True)\n",
    "        max_pred = data.sort_values(by='product_predicted', ascending=False)[:quantity_wells]\n",
    "        profit = (max_pred['income'].sum() - budget)/10**9\n",
    "        revenue.append(profit)\n",
    "    max_wells_volume = round(max_pred.product_real.sum())\n",
    "    revenue = pd.Series(revenue)\n",
    "    mean = revenue.mean()\n",
    "    lower = revenue.quantile(0.025)\n",
    "    upper = revenue.quantile(0.975)\n",
    "    losses =  revenue[revenue < 0]\n",
    "   \n",
    "   \n",
    "    print('Максимальный обьем запасов по скважинам: {:.0f} тыс.барр.'.format(max_wells_volume))\n",
    "    print('Cредний обьем запасов по скважине: {:.0f} тыс.барр.'.format(max_wells_volume/quantity_wells))\n",
    "    print('Средняя прибыль со скважины: {:.3f} млрд.руб.'.format(revenue.sum()/len(revenue)))\n",
    "    print('2,5%-квантиль: {:.6f} млрд.руб.'.format(lower))\n",
    "    print('97,5%-квантиль: {:.6f} млрд.руб.'.format(upper))\n",
    "    print('Количество убыточных экспериментов:',losses.count())\n",
    "    print('Вероятность убытков: {:.2%}'.format(losses.count()/len(revenue)))\n",
    "    print()\n",
    "    print(revenue.describe())     "
   ]
  },
  {
   "cell_type": "code",
   "execution_count": 19,
   "metadata": {},
   "outputs": [
    {
     "name": "stdout",
     "output_type": "stream",
     "text": [
      "Максимальный обьем запасов по скважинам: 22710 тыс.барр.\n",
      "Cредний обьем запасов по скважине: 114 тыс.барр.\n",
      "Средняя прибыль со скважины: 0.396 млрд.руб.\n",
      "2,5%-квантиль: -0.111216 млрд.руб.\n",
      "97,5%-квантиль: 0.909767 млрд.руб.\n",
      "Количество убыточных экспериментов: 69\n",
      "Вероятность убытков: 6.90%\n",
      "\n",
      "count    1000.000000\n",
      "mean        0.396165\n",
      "std         0.266614\n",
      "min        -0.369567\n",
      "25%         0.213920\n",
      "50%         0.395009\n",
      "75%         0.579300\n",
      "max         1.349267\n",
      "dtype: float64\n"
     ]
    }
   ],
   "source": [
    "revenue(reg0)"
   ]
  },
  {
   "cell_type": "code",
   "execution_count": 20,
   "metadata": {},
   "outputs": [
    {
     "name": "stdout",
     "output_type": "stream",
     "text": [
      "Максимальный обьем запасов по скважинам: 22499 тыс.барр.\n",
      "Cредний обьем запасов по скважине: 112 тыс.барр.\n",
      "Средняя прибыль со скважины: 0.456 млрд.руб.\n",
      "2,5%-квантиль: 0.033821 млрд.руб.\n",
      "97,5%-квантиль: 0.852289 млрд.руб.\n",
      "Количество убыточных экспериментов: 15\n",
      "Вероятность убытков: 1.50%\n",
      "\n",
      "count    1000.000000\n",
      "mean        0.456045\n",
      "std         0.207847\n",
      "min        -0.192268\n",
      "25%         0.325048\n",
      "50%         0.457036\n",
      "75%         0.598976\n",
      "max         1.154047\n",
      "dtype: float64\n"
     ]
    }
   ],
   "source": [
    "revenue(reg1)"
   ]
  },
  {
   "cell_type": "code",
   "execution_count": 21,
   "metadata": {},
   "outputs": [
    {
     "name": "stdout",
     "output_type": "stream",
     "text": [
      "Максимальный обьем запасов по скважинам: 22669 тыс.барр.\n",
      "Cредний обьем запасов по скважине: 113 тыс.барр.\n",
      "Средняя прибыль со скважины: 0.404 млрд.руб.\n",
      "2,5%-квантиль: -0.163350 млрд.руб.\n",
      "97,5%-квантиль: 0.950360 млрд.руб.\n",
      "Количество убыточных экспериментов: 76\n",
      "Вероятность убытков: 7.60%\n",
      "\n",
      "count    1000.000000\n",
      "mean        0.404404\n",
      "std         0.273276\n",
      "min        -0.417857\n",
      "25%         0.228147\n",
      "50%         0.407206\n",
      "75%         0.601945\n",
      "max         1.330593\n",
      "dtype: float64\n"
     ]
    }
   ],
   "source": [
    "revenue(reg2)"
   ]
  },
  {
   "cell_type": "markdown",
   "metadata": {},
   "source": [
    "Вывод:\n",
    "    \n",
    "    После применения техники bootstrep вероятность убытков по регионам выглядит следующим оьразом:\n",
    "        регион2 - 7.6 %\n",
    "        регион0 - 6.9 %\n",
    "        регион1 - 1.5 % НАИЛУЧШИЙ ПОКАЗАТЕЛЬ\n",
    "        \n",
    "    средняя прибыль:\n",
    "        регион1 - 0.456045 млрд.руб. НАИЛУЧШИЙ ПОКАЗАТЕЛЬ\n",
    "        регион2 - 0.404404 млрд.руб.\n",
    "        регион0 - 0.396165 млрд.руб.\n",
    "    \n",
    "    с вероятностью 95% мы не получим убытков в регионе1, так как нижний(2,5%) и верхний (97,5%) квантили положительные,\n",
    "    в отличие от реиона0 и региона2, где нижние квантили отрицательные.  \n",
    "    "
   ]
  },
  {
   "cell_type": "markdown",
   "metadata": {},
   "source": [
    "## Общий вывод:"
   ]
  },
  {
   "cell_type": "markdown",
   "metadata": {},
   "source": [
    "Для решения поставленной задачи по определению наиболее перспективного региона для разработки новых 200 нефтяных скважин сделано:\n",
    "\n",
    "1. Проведен исследовательский анализ данных, проверены датасеты на наличие пропусков, дупликатов, корреляции данных, а также исследовано распределение признаков, которые, в общем, распределены нормально.В целом на фоне очень слабой корреляции между признаками по регионам 0 и 2, выделяются признаки f2 и product в регионе 1, которые сильно взаимосвязаны и имеют корреляцию 1.\n",
    "Для региона1, глядя на product можно сказать, что число скважин с добычей от 15 до 120 тысяч бареллей приблизительно одинаково в пределах чуть больше 8 тысяч, так же видно, что в регионе больше 16 тысяч скважин с максимальной добычей около 140 тыс., что может говорить о потенциале региона, и такое же число скважин со слабой добычей до 15 тыс.\n",
    "\n",
    "2. Использовали модель линейной регресии, для предсказания объемов нефти в скважинах.\n",
    "во каждому региону разбили исходный массив данных на выборки обучающую 75% и валидационную(тестовую)25%\n",
    "после масштабирования features обучили и сделали предсказания на модели линейной регресии, массив предсказаний обьема добычи нефти по каждой скважине и каждому региону сохранили в series\n",
    "оценили средний обьем запасов по каждому региону, получилось что наибольший средний по скважине обьем сырья\n",
    "  - в регионе 2 - 94.97 тыс.барр. \n",
    "  - в регионе 0 - 92.59 тыс.барр.\n",
    "  - в регионе 1 - 68.73 тыс.барр.\n",
    "RMSE (квадратный корень из средней квадратичной ошибки)\n",
    "  - в регионе 1 - 0.89 тыс.барр. \n",
    "  - в регионе 0 - 37.58 тыс.барр.\n",
    "  - в регионе 2 - 40.03 тыс.барр. \n",
    "Получилось что наиболее точно модель предсказывает обьем добываемого сырья на данных в регионе 1, при том, что средний по скважине обьем сырья в этом регионе наименьший из всех остальных регионов.\n",
    "\n",
    "3. Определена точка безубыточности для одной скважины: 111.11 тыс. баррелей\n",
    "\n",
    "4. На основе предсказанных моделью запасов для каждого региона были отобраны 200 наиболее продуктивных скважин, посчитан реальный обьем добычи с этих скважин, реальная полученная выручка и от этого обьема посчитана прибыль.\n",
    "По расчетам в каждой регионе прибыль составила:\n",
    "  - регион0 3.32 млрд.руб. при обьеме добычи 29602 тыс.барр.\n",
    "  - регион2 2.71 млрд.руб. при обьеме добычи 28245 тыс.барр.\n",
    "  - регион1 2.42 млрд.руб. при обьеме добычи 27589 тыс.барр.\n",
    "  \n",
    "5. Была выполнена процедура bootstrep и определен 95% доверительный интервал для среднего объема нефти в скважинах. \n",
    "Получилось, что в среднем, по всем регионам скважины дают обьем достаточный для безубытка (регион0 = 114 тыс.барр., регион1 = 112 тыс.барр.(точка безубыточности), регион2 = 113 тыс.барр.). \n",
    "Наиболее перспективным для разработки на мой взгляд выглядит регион1, так как риски убытков в этом регионе наименьшие (1,5%), а средняя прибыль наибольшая (0.456045 млрд.руб)."
   ]
  }
 ],
 "metadata": {
  "ExecuteTimeLog": [
   {
    "duration": 842,
    "start_time": "2023-05-15T07:45:06.220Z"
   },
   {
    "duration": 139,
    "start_time": "2023-05-15T07:46:02.676Z"
   },
   {
    "duration": 540,
    "start_time": "2023-05-15T07:47:39.647Z"
   },
   {
    "duration": 201,
    "start_time": "2023-05-15T07:53:20.922Z"
   },
   {
    "duration": 1020,
    "start_time": "2023-05-15T07:53:30.077Z"
   },
   {
    "duration": 202,
    "start_time": "2023-05-15T07:53:33.229Z"
   },
   {
    "duration": 539,
    "start_time": "2023-05-15T07:54:00.716Z"
   },
   {
    "duration": 435,
    "start_time": "2023-05-15T07:54:59.748Z"
   },
   {
    "duration": 434,
    "start_time": "2023-05-15T07:55:45.374Z"
   },
   {
    "duration": 1629,
    "start_time": "2023-05-15T08:07:03.089Z"
   },
   {
    "duration": 485,
    "start_time": "2023-05-15T08:07:04.720Z"
   },
   {
    "duration": 486,
    "start_time": "2023-05-15T08:07:05.207Z"
   },
   {
    "duration": 480,
    "start_time": "2023-05-15T08:07:05.695Z"
   },
   {
    "duration": 132,
    "start_time": "2023-05-15T08:07:06.177Z"
   },
   {
    "duration": 29,
    "start_time": "2023-05-15T08:10:20.318Z"
   },
   {
    "duration": 18,
    "start_time": "2023-05-15T08:10:28.157Z"
   },
   {
    "duration": 33,
    "start_time": "2023-05-15T08:10:47.438Z"
   },
   {
    "duration": 38,
    "start_time": "2023-05-15T08:11:11.826Z"
   },
   {
    "duration": 31,
    "start_time": "2023-05-15T08:12:26.596Z"
   },
   {
    "duration": 27,
    "start_time": "2023-05-15T08:13:10.597Z"
   },
   {
    "duration": 48,
    "start_time": "2023-05-15T08:20:37.286Z"
   },
   {
    "duration": 1346,
    "start_time": "2023-05-15T11:15:54.420Z"
   },
   {
    "duration": 546,
    "start_time": "2023-05-15T11:15:55.768Z"
   },
   {
    "duration": 480,
    "start_time": "2023-05-15T11:15:56.316Z"
   },
   {
    "duration": 504,
    "start_time": "2023-05-15T11:15:56.798Z"
   },
   {
    "duration": 152,
    "start_time": "2023-05-15T11:15:57.304Z"
   },
   {
    "duration": 57,
    "start_time": "2023-05-15T11:16:18.226Z"
   },
   {
    "duration": 11,
    "start_time": "2023-05-15T11:21:58.135Z"
   },
   {
    "duration": 3,
    "start_time": "2023-05-15T11:22:08.696Z"
   },
   {
    "duration": 39,
    "start_time": "2023-05-15T11:22:40.347Z"
   },
   {
    "duration": 26,
    "start_time": "2023-05-15T11:26:26.814Z"
   },
   {
    "duration": 40,
    "start_time": "2023-05-15T11:54:54.713Z"
   },
   {
    "duration": 35,
    "start_time": "2023-05-15T11:56:34.416Z"
   },
   {
    "duration": 269,
    "start_time": "2023-05-15T12:17:33.064Z"
   },
   {
    "duration": 23,
    "start_time": "2023-05-15T12:17:52.081Z"
   },
   {
    "duration": 3,
    "start_time": "2023-05-15T12:18:04.181Z"
   },
   {
    "duration": 48,
    "start_time": "2023-05-15T12:18:14.178Z"
   },
   {
    "duration": 43,
    "start_time": "2023-05-15T12:18:47.070Z"
   },
   {
    "duration": 37,
    "start_time": "2023-05-15T12:21:11.697Z"
   },
   {
    "duration": 47,
    "start_time": "2023-05-15T12:22:01.781Z"
   },
   {
    "duration": 40,
    "start_time": "2023-05-15T12:23:05.429Z"
   },
   {
    "duration": 46,
    "start_time": "2023-05-15T12:23:27.706Z"
   },
   {
    "duration": 19,
    "start_time": "2023-05-15T12:24:40.893Z"
   },
   {
    "duration": 33,
    "start_time": "2023-05-15T12:25:07.591Z"
   },
   {
    "duration": 1339,
    "start_time": "2023-05-15T12:27:24.603Z"
   },
   {
    "duration": 496,
    "start_time": "2023-05-15T12:27:25.944Z"
   },
   {
    "duration": 440,
    "start_time": "2023-05-15T12:27:26.442Z"
   },
   {
    "duration": 477,
    "start_time": "2023-05-15T12:27:26.883Z"
   },
   {
    "duration": 143,
    "start_time": "2023-05-15T12:27:27.362Z"
   },
   {
    "duration": 14,
    "start_time": "2023-05-15T12:28:23.515Z"
   },
   {
    "duration": 16,
    "start_time": "2023-05-15T12:28:29.471Z"
   },
   {
    "duration": 23,
    "start_time": "2023-05-15T12:30:29.126Z"
   },
   {
    "duration": 15,
    "start_time": "2023-05-15T12:30:41.479Z"
   },
   {
    "duration": 579,
    "start_time": "2023-05-15T12:32:08.366Z"
   },
   {
    "duration": 17,
    "start_time": "2023-05-15T12:32:30.640Z"
   },
   {
    "duration": 16,
    "start_time": "2023-05-15T12:33:05.509Z"
   },
   {
    "duration": 15,
    "start_time": "2023-05-15T12:34:54.767Z"
   },
   {
    "duration": 14,
    "start_time": "2023-05-15T12:35:09.196Z"
   },
   {
    "duration": 14,
    "start_time": "2023-05-15T12:38:34.956Z"
   },
   {
    "duration": 12,
    "start_time": "2023-05-15T12:42:48.069Z"
   },
   {
    "duration": 12,
    "start_time": "2023-05-15T12:42:51.357Z"
   },
   {
    "duration": 15,
    "start_time": "2023-05-15T12:43:12.859Z"
   },
   {
    "duration": 26,
    "start_time": "2023-05-15T12:44:05.807Z"
   },
   {
    "duration": 26,
    "start_time": "2023-05-15T12:46:06.822Z"
   },
   {
    "duration": 23,
    "start_time": "2023-05-15T12:46:36.150Z"
   },
   {
    "duration": 9,
    "start_time": "2023-05-15T13:29:38.107Z"
   },
   {
    "duration": 1296,
    "start_time": "2023-05-15T13:29:55.904Z"
   },
   {
    "duration": 503,
    "start_time": "2023-05-15T13:29:57.202Z"
   },
   {
    "duration": 470,
    "start_time": "2023-05-15T13:29:57.707Z"
   },
   {
    "duration": 474,
    "start_time": "2023-05-15T13:29:58.179Z"
   },
   {
    "duration": 29,
    "start_time": "2023-05-15T13:29:58.655Z"
   },
   {
    "duration": 92,
    "start_time": "2023-05-15T13:29:58.685Z"
   },
   {
    "duration": 4,
    "start_time": "2023-05-15T15:16:54.013Z"
   },
   {
    "duration": 16,
    "start_time": "2023-05-15T15:19:14.231Z"
   },
   {
    "duration": 13,
    "start_time": "2023-05-15T15:19:16.695Z"
   },
   {
    "duration": 272,
    "start_time": "2023-05-15T15:21:15.339Z"
   },
   {
    "duration": 17,
    "start_time": "2023-05-15T15:21:36.217Z"
   },
   {
    "duration": 79,
    "start_time": "2023-05-15T15:23:36.014Z"
   },
   {
    "duration": 17,
    "start_time": "2023-05-15T15:24:16.941Z"
   },
   {
    "duration": 17,
    "start_time": "2023-05-15T15:27:20.919Z"
   },
   {
    "duration": 73,
    "start_time": "2023-05-15T15:45:26.787Z"
   },
   {
    "duration": 7,
    "start_time": "2023-05-15T15:45:40.975Z"
   },
   {
    "duration": 98,
    "start_time": "2023-05-15T15:46:13.488Z"
   },
   {
    "duration": 109,
    "start_time": "2023-05-15T15:47:28.005Z"
   },
   {
    "duration": 6,
    "start_time": "2023-05-15T15:47:33.095Z"
   },
   {
    "duration": 132,
    "start_time": "2023-05-15T15:48:17.255Z"
   },
   {
    "duration": 116,
    "start_time": "2023-05-15T15:49:01.367Z"
   },
   {
    "duration": 3,
    "start_time": "2023-05-15T15:59:40.605Z"
   },
   {
    "duration": 384,
    "start_time": "2023-05-15T16:00:00.534Z"
   },
   {
    "duration": 4,
    "start_time": "2023-05-15T16:03:06.701Z"
   },
   {
    "duration": 1021,
    "start_time": "2023-05-15T16:03:13.810Z"
   },
   {
    "duration": 3,
    "start_time": "2023-05-15T16:03:55.461Z"
   },
   {
    "duration": 4,
    "start_time": "2023-05-15T16:04:52.197Z"
   },
   {
    "duration": 838,
    "start_time": "2023-05-15T16:04:57.251Z"
   },
   {
    "duration": 4,
    "start_time": "2023-05-15T16:06:20.495Z"
   },
   {
    "duration": 833,
    "start_time": "2023-05-15T16:06:24.726Z"
   },
   {
    "duration": 4,
    "start_time": "2023-05-15T16:07:19.236Z"
   },
   {
    "duration": 31,
    "start_time": "2023-05-15T16:07:21.917Z"
   },
   {
    "duration": 4,
    "start_time": "2023-05-15T16:08:13.812Z"
   },
   {
    "duration": 842,
    "start_time": "2023-05-15T16:08:16.306Z"
   },
   {
    "duration": 4,
    "start_time": "2023-05-15T16:09:21.694Z"
   },
   {
    "duration": 886,
    "start_time": "2023-05-15T16:09:25.030Z"
   },
   {
    "duration": 3,
    "start_time": "2023-05-15T16:10:11.124Z"
   },
   {
    "duration": 935,
    "start_time": "2023-05-15T16:10:13.728Z"
   },
   {
    "duration": 3,
    "start_time": "2023-05-15T16:10:46.905Z"
   },
   {
    "duration": 400,
    "start_time": "2023-05-15T16:10:49.148Z"
   },
   {
    "duration": 14,
    "start_time": "2023-05-15T16:10:51.372Z"
   },
   {
    "duration": 875,
    "start_time": "2023-05-15T16:10:54.079Z"
   },
   {
    "duration": 4,
    "start_time": "2023-05-15T16:11:43.135Z"
   },
   {
    "duration": 930,
    "start_time": "2023-05-15T16:11:45.687Z"
   },
   {
    "duration": 47,
    "start_time": "2023-05-15T16:12:18.271Z"
   },
   {
    "duration": 4,
    "start_time": "2023-05-15T16:13:34.851Z"
   },
   {
    "duration": 832,
    "start_time": "2023-05-15T16:13:38.489Z"
   },
   {
    "duration": 5,
    "start_time": "2023-05-15T16:14:40.584Z"
   },
   {
    "duration": 866,
    "start_time": "2023-05-15T16:14:43.187Z"
   },
   {
    "duration": 5,
    "start_time": "2023-05-15T16:15:38.408Z"
   },
   {
    "duration": 848,
    "start_time": "2023-05-15T16:15:41.939Z"
   },
   {
    "duration": 6,
    "start_time": "2023-05-15T16:16:23.081Z"
   },
   {
    "duration": 1041,
    "start_time": "2023-05-15T16:16:26.186Z"
   },
   {
    "duration": 930,
    "start_time": "2023-05-15T16:17:25.996Z"
   },
   {
    "duration": 870,
    "start_time": "2023-05-15T16:17:56.560Z"
   },
   {
    "duration": 6,
    "start_time": "2023-05-15T16:18:34.412Z"
   },
   {
    "duration": 184,
    "start_time": "2023-05-15T16:18:43.194Z"
   },
   {
    "duration": 96,
    "start_time": "2023-05-15T16:18:48.704Z"
   },
   {
    "duration": 57,
    "start_time": "2023-05-15T16:18:54.532Z"
   },
   {
    "duration": 23,
    "start_time": "2023-05-17T13:15:21.181Z"
   },
   {
    "duration": 4,
    "start_time": "2023-05-17T13:16:35.308Z"
   },
   {
    "duration": 3,
    "start_time": "2023-05-17T13:19:08.740Z"
   },
   {
    "duration": 4,
    "start_time": "2023-05-17T13:19:36.030Z"
   },
   {
    "duration": 4,
    "start_time": "2023-05-17T13:22:18.718Z"
   },
   {
    "duration": 3,
    "start_time": "2023-05-17T13:25:17.507Z"
   },
   {
    "duration": 3,
    "start_time": "2023-05-17T13:26:35.340Z"
   },
   {
    "duration": 3,
    "start_time": "2023-05-17T13:29:32.414Z"
   },
   {
    "duration": 5,
    "start_time": "2023-05-17T13:35:57.629Z"
   },
   {
    "duration": 3,
    "start_time": "2023-05-17T13:38:21.958Z"
   },
   {
    "duration": 8,
    "start_time": "2023-05-17T13:38:25.111Z"
   },
   {
    "duration": 48,
    "start_time": "2023-05-17T13:41:18.719Z"
   },
   {
    "duration": 7,
    "start_time": "2023-05-17T13:41:21.811Z"
   },
   {
    "duration": 10,
    "start_time": "2023-05-17T13:41:23.921Z"
   },
   {
    "duration": 10,
    "start_time": "2023-05-17T13:41:54.404Z"
   },
   {
    "duration": 8,
    "start_time": "2023-05-17T13:45:49.532Z"
   },
   {
    "duration": 13,
    "start_time": "2023-05-17T13:52:30.481Z"
   },
   {
    "duration": 5,
    "start_time": "2023-05-17T13:53:28.269Z"
   },
   {
    "duration": 1937,
    "start_time": "2023-05-17T13:53:47.673Z"
   },
   {
    "duration": 1246,
    "start_time": "2023-05-17T13:53:49.618Z"
   },
   {
    "duration": 55,
    "start_time": "2023-05-17T13:53:50.866Z"
   },
   {
    "duration": 5,
    "start_time": "2023-05-17T13:53:50.923Z"
   },
   {
    "duration": 1011,
    "start_time": "2023-05-17T13:53:50.931Z"
   },
   {
    "duration": 916,
    "start_time": "2023-05-17T13:53:51.944Z"
   },
   {
    "duration": 778,
    "start_time": "2023-05-17T13:53:52.862Z"
   },
   {
    "duration": 11,
    "start_time": "2023-05-17T13:53:53.644Z"
   },
   {
    "duration": 242,
    "start_time": "2023-05-17T13:53:53.656Z"
   },
   {
    "duration": 193,
    "start_time": "2023-05-17T13:53:53.900Z"
   },
   {
    "duration": 180,
    "start_time": "2023-05-17T13:53:54.105Z"
   },
   {
    "duration": 288,
    "start_time": "2023-05-17T13:53:54.287Z"
   },
   {
    "duration": 0,
    "start_time": "2023-05-17T13:53:54.576Z"
   },
   {
    "duration": 0,
    "start_time": "2023-05-17T13:53:54.577Z"
   },
   {
    "duration": 467,
    "start_time": "2023-05-17T13:54:42.382Z"
   },
   {
    "duration": 1720,
    "start_time": "2023-05-18T09:22:46.311Z"
   },
   {
    "duration": 1623,
    "start_time": "2023-05-18T09:22:48.034Z"
   },
   {
    "duration": 59,
    "start_time": "2023-05-18T09:22:49.661Z"
   },
   {
    "duration": 5,
    "start_time": "2023-05-18T09:22:49.723Z"
   },
   {
    "duration": 1006,
    "start_time": "2023-05-18T09:22:49.731Z"
   },
   {
    "duration": 1022,
    "start_time": "2023-05-18T09:22:50.739Z"
   },
   {
    "duration": 907,
    "start_time": "2023-05-18T09:22:51.762Z"
   },
   {
    "duration": 7,
    "start_time": "2023-05-18T09:22:52.671Z"
   },
   {
    "duration": 347,
    "start_time": "2023-05-18T09:22:52.679Z"
   },
   {
    "duration": 202,
    "start_time": "2023-05-18T09:22:53.030Z"
   },
   {
    "duration": 290,
    "start_time": "2023-05-18T09:22:53.235Z"
   },
   {
    "duration": 499,
    "start_time": "2023-05-18T09:22:53.528Z"
   },
   {
    "duration": 4,
    "start_time": "2023-05-18T09:22:54.029Z"
   },
   {
    "duration": 251,
    "start_time": "2023-05-18T09:22:54.038Z"
   },
   {
    "duration": 0,
    "start_time": "2023-05-18T09:22:54.291Z"
   },
   {
    "duration": 5,
    "start_time": "2023-05-18T09:23:42.515Z"
   },
   {
    "duration": 10,
    "start_time": "2023-05-18T09:29:37.885Z"
   },
   {
    "duration": 4,
    "start_time": "2023-05-18T09:33:00.022Z"
   },
   {
    "duration": 4,
    "start_time": "2023-05-18T09:33:14.369Z"
   },
   {
    "duration": 4,
    "start_time": "2023-05-18T09:33:33.072Z"
   },
   {
    "duration": 8,
    "start_time": "2023-05-18T09:49:19.352Z"
   },
   {
    "duration": 8,
    "start_time": "2023-05-18T09:49:51.606Z"
   },
   {
    "duration": 9,
    "start_time": "2023-05-18T10:10:24.956Z"
   },
   {
    "duration": 877,
    "start_time": "2023-05-18T10:23:44.605Z"
   },
   {
    "duration": 11,
    "start_time": "2023-05-18T10:24:04.044Z"
   },
   {
    "duration": 873,
    "start_time": "2023-05-18T10:24:43.171Z"
   },
   {
    "duration": 21,
    "start_time": "2023-05-18T10:28:41.223Z"
   },
   {
    "duration": 19,
    "start_time": "2023-05-18T10:29:15.189Z"
   },
   {
    "duration": 8,
    "start_time": "2023-05-18T10:29:58.183Z"
   },
   {
    "duration": 20,
    "start_time": "2023-05-18T10:30:07.008Z"
   },
   {
    "duration": 17,
    "start_time": "2023-05-18T10:31:31.956Z"
   },
   {
    "duration": 30,
    "start_time": "2023-05-18T10:33:20.777Z"
   },
   {
    "duration": 13,
    "start_time": "2023-05-18T10:34:01.064Z"
   },
   {
    "duration": 14,
    "start_time": "2023-05-18T10:34:28.464Z"
   },
   {
    "duration": 17,
    "start_time": "2023-05-18T10:34:46.486Z"
   },
   {
    "duration": 18,
    "start_time": "2023-05-18T10:37:06.316Z"
   },
   {
    "duration": 16,
    "start_time": "2023-05-18T10:38:50.493Z"
   },
   {
    "duration": 15,
    "start_time": "2023-05-18T10:39:53.048Z"
   },
   {
    "duration": 13,
    "start_time": "2023-05-18T10:41:01.437Z"
   },
   {
    "duration": 10,
    "start_time": "2023-05-18T10:41:49.769Z"
   },
   {
    "duration": 11,
    "start_time": "2023-05-18T10:42:19.170Z"
   },
   {
    "duration": 23,
    "start_time": "2023-05-18T10:42:48.021Z"
   },
   {
    "duration": 9,
    "start_time": "2023-05-18T10:50:22.414Z"
   },
   {
    "duration": 56,
    "start_time": "2023-05-18T10:50:56.296Z"
   },
   {
    "duration": 9,
    "start_time": "2023-05-18T10:51:03.305Z"
   },
   {
    "duration": 76,
    "start_time": "2023-05-18T10:55:01.914Z"
   },
   {
    "duration": 8,
    "start_time": "2023-05-18T10:55:28.963Z"
   },
   {
    "duration": 12,
    "start_time": "2023-05-18T10:55:56.416Z"
   },
   {
    "duration": 8,
    "start_time": "2023-05-18T10:56:12.402Z"
   },
   {
    "duration": 52,
    "start_time": "2023-05-18T10:56:18.517Z"
   },
   {
    "duration": 53,
    "start_time": "2023-05-18T10:56:25.895Z"
   },
   {
    "duration": 48,
    "start_time": "2023-05-18T10:56:30.879Z"
   },
   {
    "duration": 9,
    "start_time": "2023-05-18T10:56:42.906Z"
   },
   {
    "duration": 8,
    "start_time": "2023-05-18T10:57:22.815Z"
   },
   {
    "duration": 9,
    "start_time": "2023-05-18T10:57:33.651Z"
   },
   {
    "duration": 5,
    "start_time": "2023-05-18T11:27:53.043Z"
   },
   {
    "duration": 8,
    "start_time": "2023-05-18T11:28:25.383Z"
   },
   {
    "duration": 8,
    "start_time": "2023-05-18T11:30:27.085Z"
   },
   {
    "duration": 9,
    "start_time": "2023-05-18T11:30:37.860Z"
   },
   {
    "duration": 8,
    "start_time": "2023-05-18T11:32:47.857Z"
   },
   {
    "duration": 8,
    "start_time": "2023-05-18T11:32:56.647Z"
   },
   {
    "duration": 4,
    "start_time": "2023-05-18T11:47:17.505Z"
   },
   {
    "duration": 13,
    "start_time": "2023-05-18T11:47:55.496Z"
   },
   {
    "duration": 14,
    "start_time": "2023-05-18T11:48:40.858Z"
   },
   {
    "duration": 8,
    "start_time": "2023-05-18T11:49:16.247Z"
   },
   {
    "duration": 511,
    "start_time": "2023-05-18T11:49:37.758Z"
   },
   {
    "duration": 4,
    "start_time": "2023-05-18T11:49:53.659Z"
   },
   {
    "duration": 5,
    "start_time": "2023-05-18T11:51:13.476Z"
   },
   {
    "duration": 25,
    "start_time": "2023-05-18T11:51:19.902Z"
   },
   {
    "duration": 4,
    "start_time": "2023-05-18T11:51:32.835Z"
   },
   {
    "duration": 9,
    "start_time": "2023-05-18T11:51:35.594Z"
   },
   {
    "duration": 3,
    "start_time": "2023-05-18T11:51:49.874Z"
   },
   {
    "duration": 5,
    "start_time": "2023-05-18T11:51:56.962Z"
   },
   {
    "duration": 7,
    "start_time": "2023-05-18T11:51:58.974Z"
   },
   {
    "duration": 4,
    "start_time": "2023-05-18T11:52:01.167Z"
   },
   {
    "duration": 9,
    "start_time": "2023-05-18T11:52:03.847Z"
   },
   {
    "duration": 13,
    "start_time": "2023-05-18T11:52:13.676Z"
   },
   {
    "duration": 16,
    "start_time": "2023-05-18T11:52:20.780Z"
   },
   {
    "duration": 12,
    "start_time": "2023-05-18T11:52:26.892Z"
   },
   {
    "duration": 5,
    "start_time": "2023-05-18T11:53:36.354Z"
   },
   {
    "duration": 19,
    "start_time": "2023-05-18T11:53:38.846Z"
   },
   {
    "duration": 4,
    "start_time": "2023-05-18T11:54:54.184Z"
   },
   {
    "duration": 14,
    "start_time": "2023-05-18T11:54:56.939Z"
   },
   {
    "duration": 14,
    "start_time": "2023-05-18T11:54:59.783Z"
   },
   {
    "duration": 13,
    "start_time": "2023-05-18T11:55:03.977Z"
   },
   {
    "duration": 4,
    "start_time": "2023-05-18T11:57:14.803Z"
   },
   {
    "duration": 8,
    "start_time": "2023-05-18T11:57:51.263Z"
   },
   {
    "duration": 12,
    "start_time": "2023-05-18T11:57:53.403Z"
   },
   {
    "duration": 12,
    "start_time": "2023-05-18T11:57:54.983Z"
   },
   {
    "duration": 11,
    "start_time": "2023-05-18T11:57:56.447Z"
   },
   {
    "duration": 17,
    "start_time": "2023-05-18T11:58:43.514Z"
   },
   {
    "duration": 6,
    "start_time": "2023-05-18T12:00:20.054Z"
   },
   {
    "duration": 19,
    "start_time": "2023-05-18T12:00:22.972Z"
   },
   {
    "duration": 5,
    "start_time": "2023-05-18T12:00:52.146Z"
   },
   {
    "duration": 21,
    "start_time": "2023-05-18T12:00:55.238Z"
   },
   {
    "duration": 20,
    "start_time": "2023-05-18T12:01:32.370Z"
   },
   {
    "duration": 20,
    "start_time": "2023-05-18T12:01:44.967Z"
   },
   {
    "duration": 22,
    "start_time": "2023-05-18T12:16:32.677Z"
   },
   {
    "duration": 18,
    "start_time": "2023-05-18T12:16:41.146Z"
   },
   {
    "duration": 27,
    "start_time": "2023-05-18T12:17:13.138Z"
   },
   {
    "duration": 9,
    "start_time": "2023-05-18T12:19:34.508Z"
   },
   {
    "duration": 12,
    "start_time": "2023-05-18T12:23:58.800Z"
   },
   {
    "duration": 3,
    "start_time": "2023-05-18T12:24:30.555Z"
   },
   {
    "duration": 20,
    "start_time": "2023-05-18T12:24:32.542Z"
   },
   {
    "duration": 3,
    "start_time": "2023-05-18T12:24:35.962Z"
   },
   {
    "duration": 9,
    "start_time": "2023-05-18T12:24:50.554Z"
   },
   {
    "duration": 5,
    "start_time": "2023-05-18T12:24:58.608Z"
   },
   {
    "duration": 5,
    "start_time": "2023-05-18T12:25:48.403Z"
   },
   {
    "duration": 20,
    "start_time": "2023-05-18T12:25:57.001Z"
   },
   {
    "duration": 12,
    "start_time": "2023-05-18T12:26:14.050Z"
   },
   {
    "duration": 14,
    "start_time": "2023-05-18T12:26:34.563Z"
   },
   {
    "duration": 1458,
    "start_time": "2023-05-18T12:26:49.055Z"
   },
   {
    "duration": 431,
    "start_time": "2023-05-18T12:26:50.515Z"
   },
   {
    "duration": 47,
    "start_time": "2023-05-18T12:26:50.949Z"
   },
   {
    "duration": 9,
    "start_time": "2023-05-18T12:26:50.998Z"
   },
   {
    "duration": 946,
    "start_time": "2023-05-18T12:26:51.009Z"
   },
   {
    "duration": 997,
    "start_time": "2023-05-18T12:26:51.957Z"
   },
   {
    "duration": 884,
    "start_time": "2023-05-18T12:26:52.957Z"
   },
   {
    "duration": 6,
    "start_time": "2023-05-18T12:26:53.843Z"
   },
   {
    "duration": 176,
    "start_time": "2023-05-18T12:26:53.851Z"
   },
   {
    "duration": 202,
    "start_time": "2023-05-18T12:26:54.029Z"
   },
   {
    "duration": 196,
    "start_time": "2023-05-18T12:26:54.233Z"
   },
   {
    "duration": 603,
    "start_time": "2023-05-18T12:26:54.433Z"
   },
   {
    "duration": 4,
    "start_time": "2023-05-18T12:26:55.124Z"
   },
   {
    "duration": 9,
    "start_time": "2023-05-18T12:26:55.132Z"
   },
   {
    "duration": 8,
    "start_time": "2023-05-18T12:26:55.145Z"
   },
   {
    "duration": 145,
    "start_time": "2023-05-18T12:26:55.155Z"
   },
   {
    "duration": 0,
    "start_time": "2023-05-18T12:26:55.302Z"
   },
   {
    "duration": 0,
    "start_time": "2023-05-18T12:26:55.303Z"
   },
   {
    "duration": 29,
    "start_time": "2023-05-18T12:27:20.779Z"
   },
   {
    "duration": 25,
    "start_time": "2023-05-18T12:27:30.446Z"
   },
   {
    "duration": 17,
    "start_time": "2023-05-18T12:31:10.510Z"
   },
   {
    "duration": 11,
    "start_time": "2023-05-18T12:31:30.521Z"
   },
   {
    "duration": 12,
    "start_time": "2023-05-18T12:32:43.673Z"
   },
   {
    "duration": 13,
    "start_time": "2023-05-18T12:32:45.150Z"
   },
   {
    "duration": 7,
    "start_time": "2023-05-18T12:43:52.022Z"
   },
   {
    "duration": 18,
    "start_time": "2023-05-18T12:44:27.352Z"
   },
   {
    "duration": 30,
    "start_time": "2023-05-18T12:45:01.224Z"
   },
   {
    "duration": 7,
    "start_time": "2023-05-18T12:46:00.355Z"
   },
   {
    "duration": 785,
    "start_time": "2023-05-18T12:46:02.618Z"
   },
   {
    "duration": 762,
    "start_time": "2023-05-18T12:49:06.802Z"
   },
   {
    "duration": 756,
    "start_time": "2023-05-18T12:49:37.223Z"
   },
   {
    "duration": 6,
    "start_time": "2023-05-18T12:50:59.524Z"
   },
   {
    "duration": 762,
    "start_time": "2023-05-18T12:51:02.242Z"
   },
   {
    "duration": 8,
    "start_time": "2023-05-18T12:53:28.254Z"
   },
   {
    "duration": 766,
    "start_time": "2023-05-18T12:53:31.161Z"
   },
   {
    "duration": 5,
    "start_time": "2023-05-18T12:54:18.248Z"
   },
   {
    "duration": 9,
    "start_time": "2023-05-18T12:55:20.796Z"
   },
   {
    "duration": 718,
    "start_time": "2023-05-18T12:55:23.880Z"
   },
   {
    "duration": 9,
    "start_time": "2023-05-18T12:55:49.399Z"
   },
   {
    "duration": 869,
    "start_time": "2023-05-18T12:55:52.855Z"
   },
   {
    "duration": 8,
    "start_time": "2023-05-18T12:56:07.990Z"
   },
   {
    "duration": 767,
    "start_time": "2023-05-18T12:56:09.989Z"
   },
   {
    "duration": 47,
    "start_time": "2023-05-18T12:57:04.261Z"
   },
   {
    "duration": 8,
    "start_time": "2023-05-18T12:57:15.861Z"
   },
   {
    "duration": 717,
    "start_time": "2023-05-18T12:57:17.759Z"
   },
   {
    "duration": 787,
    "start_time": "2023-05-18T12:57:56.322Z"
   },
   {
    "duration": 6,
    "start_time": "2023-05-18T12:59:30.414Z"
   },
   {
    "duration": 755,
    "start_time": "2023-05-18T12:59:32.382Z"
   },
   {
    "duration": 6,
    "start_time": "2023-05-18T13:02:12.775Z"
   },
   {
    "duration": 754,
    "start_time": "2023-05-18T13:02:15.674Z"
   },
   {
    "duration": 6,
    "start_time": "2023-05-18T13:03:40.294Z"
   },
   {
    "duration": 713,
    "start_time": "2023-05-18T13:03:41.895Z"
   },
   {
    "duration": 714,
    "start_time": "2023-05-18T13:04:03.977Z"
   },
   {
    "duration": 729,
    "start_time": "2023-05-18T13:04:06.962Z"
   },
   {
    "duration": 71,
    "start_time": "2023-05-18T13:07:18.001Z"
   },
   {
    "duration": 6,
    "start_time": "2023-05-18T13:07:33.708Z"
   },
   {
    "duration": 885,
    "start_time": "2023-05-18T13:07:37.111Z"
   },
   {
    "duration": 7,
    "start_time": "2023-05-18T13:08:38.506Z"
   },
   {
    "duration": 865,
    "start_time": "2023-05-18T13:08:41.361Z"
   },
   {
    "duration": 800,
    "start_time": "2023-05-18T13:08:45.965Z"
   },
   {
    "duration": 752,
    "start_time": "2023-05-18T13:08:49.957Z"
   },
   {
    "duration": 80,
    "start_time": "2023-05-18T13:10:27.474Z"
   },
   {
    "duration": 9,
    "start_time": "2023-05-18T13:11:29.799Z"
   },
   {
    "duration": 729,
    "start_time": "2023-05-18T13:11:31.790Z"
   },
   {
    "duration": 6,
    "start_time": "2023-05-18T13:12:21.053Z"
   },
   {
    "duration": 730,
    "start_time": "2023-05-18T13:12:24.369Z"
   },
   {
    "duration": 6,
    "start_time": "2023-05-18T13:13:31.405Z"
   },
   {
    "duration": 790,
    "start_time": "2023-05-18T13:13:37.081Z"
   },
   {
    "duration": 371,
    "start_time": "2023-05-18T13:17:17.808Z"
   },
   {
    "duration": 66,
    "start_time": "2023-05-18T13:18:20.679Z"
   },
   {
    "duration": 46,
    "start_time": "2023-05-18T13:19:20.483Z"
   },
   {
    "duration": 101,
    "start_time": "2023-05-18T13:21:00.388Z"
   },
   {
    "duration": 68,
    "start_time": "2023-05-18T13:21:06.490Z"
   },
   {
    "duration": 55,
    "start_time": "2023-05-18T13:21:22.171Z"
   },
   {
    "duration": 8,
    "start_time": "2023-05-18T13:22:31.888Z"
   },
   {
    "duration": 908,
    "start_time": "2023-05-18T13:22:34.797Z"
   },
   {
    "duration": 81,
    "start_time": "2023-05-18T13:22:52.779Z"
   },
   {
    "duration": 5,
    "start_time": "2023-05-18T13:23:27.590Z"
   },
   {
    "duration": 889,
    "start_time": "2023-05-18T13:23:31.477Z"
   },
   {
    "duration": 810,
    "start_time": "2023-05-18T13:23:37.679Z"
   },
   {
    "duration": 826,
    "start_time": "2023-05-18T13:23:44.487Z"
   },
   {
    "duration": 9,
    "start_time": "2023-05-18T13:26:12.852Z"
   },
   {
    "duration": 772,
    "start_time": "2023-05-18T13:26:15.018Z"
   },
   {
    "duration": 5,
    "start_time": "2023-05-18T13:27:14.277Z"
   },
   {
    "duration": 784,
    "start_time": "2023-05-18T13:27:15.775Z"
   },
   {
    "duration": 794,
    "start_time": "2023-05-18T13:27:18.209Z"
   },
   {
    "duration": 798,
    "start_time": "2023-05-18T13:27:20.694Z"
   },
   {
    "duration": 3,
    "start_time": "2023-05-18T13:32:13.578Z"
   },
   {
    "duration": 5,
    "start_time": "2023-05-18T13:35:17.086Z"
   },
   {
    "duration": 4,
    "start_time": "2023-05-18T13:38:42.649Z"
   },
   {
    "duration": 20,
    "start_time": "2023-05-18T13:42:49.655Z"
   },
   {
    "duration": 13,
    "start_time": "2023-05-18T13:42:52.194Z"
   },
   {
    "duration": 24,
    "start_time": "2023-05-18T13:43:13.481Z"
   },
   {
    "duration": 21,
    "start_time": "2023-05-18T13:43:22.683Z"
   },
   {
    "duration": 9,
    "start_time": "2023-05-18T13:44:18.048Z"
   },
   {
    "duration": 832,
    "start_time": "2023-05-18T13:44:20.889Z"
   },
   {
    "duration": 6,
    "start_time": "2023-05-18T13:44:57.861Z"
   },
   {
    "duration": 822,
    "start_time": "2023-05-18T13:45:00.779Z"
   },
   {
    "duration": 8,
    "start_time": "2023-05-18T13:45:55.148Z"
   },
   {
    "duration": 820,
    "start_time": "2023-05-18T13:45:58.444Z"
   },
   {
    "duration": 6,
    "start_time": "2023-05-18T13:49:08.703Z"
   },
   {
    "duration": 809,
    "start_time": "2023-05-18T13:49:11.680Z"
   },
   {
    "duration": 825,
    "start_time": "2023-05-18T13:49:56.292Z"
   },
   {
    "duration": 901,
    "start_time": "2023-05-18T13:49:59.603Z"
   },
   {
    "duration": 10,
    "start_time": "2023-05-18T13:58:53.442Z"
   },
   {
    "duration": 1003,
    "start_time": "2023-05-18T13:58:56.478Z"
   },
   {
    "duration": 6,
    "start_time": "2023-05-18T14:00:05.993Z"
   },
   {
    "duration": 821,
    "start_time": "2023-05-18T14:00:08.094Z"
   },
   {
    "duration": 4,
    "start_time": "2023-05-18T14:12:57.382Z"
   },
   {
    "duration": 979,
    "start_time": "2023-05-18T14:13:01.573Z"
   },
   {
    "duration": 5,
    "start_time": "2023-05-18T14:13:39.592Z"
   },
   {
    "duration": 1127,
    "start_time": "2023-05-18T14:13:43.088Z"
   },
   {
    "duration": 5,
    "start_time": "2023-05-18T14:14:01.286Z"
   },
   {
    "duration": 920,
    "start_time": "2023-05-18T14:14:04.048Z"
   },
   {
    "duration": 5,
    "start_time": "2023-05-18T14:14:55.535Z"
   },
   {
    "duration": 1014,
    "start_time": "2023-05-18T14:14:58.881Z"
   },
   {
    "duration": 10,
    "start_time": "2023-05-18T14:17:01.856Z"
   },
   {
    "duration": 728,
    "start_time": "2023-05-18T14:17:03.872Z"
   },
   {
    "duration": 5,
    "start_time": "2023-05-18T14:19:34.463Z"
   },
   {
    "duration": 432,
    "start_time": "2023-05-18T14:19:37.073Z"
   },
   {
    "duration": 9,
    "start_time": "2023-05-18T14:21:02.240Z"
   },
   {
    "duration": 1165,
    "start_time": "2023-05-18T14:21:04.668Z"
   },
   {
    "duration": 5,
    "start_time": "2023-05-18T14:26:32.782Z"
   },
   {
    "duration": 646,
    "start_time": "2023-05-18T14:26:35.376Z"
   },
   {
    "duration": 5,
    "start_time": "2023-05-18T14:27:33.097Z"
   },
   {
    "duration": 5,
    "start_time": "2023-05-18T14:27:39.176Z"
   },
   {
    "duration": 1324,
    "start_time": "2023-05-18T14:27:41.774Z"
   },
   {
    "duration": 5,
    "start_time": "2023-05-18T14:32:11.096Z"
   },
   {
    "duration": 1166,
    "start_time": "2023-05-18T14:32:14.771Z"
   },
   {
    "duration": 1128,
    "start_time": "2023-05-18T14:32:33.975Z"
   },
   {
    "duration": 1290,
    "start_time": "2023-05-18T14:32:42.102Z"
   },
   {
    "duration": 5,
    "start_time": "2023-05-18T14:48:38.097Z"
   },
   {
    "duration": 6,
    "start_time": "2023-05-18T14:49:01.580Z"
   },
   {
    "duration": 1358,
    "start_time": "2023-05-18T14:49:09.379Z"
   },
   {
    "duration": 1364,
    "start_time": "2023-05-18T15:10:45.707Z"
   },
   {
    "duration": 66,
    "start_time": "2023-05-18T15:28:40.826Z"
   },
   {
    "duration": 8,
    "start_time": "2023-05-18T15:47:03.291Z"
   },
   {
    "duration": 45,
    "start_time": "2023-05-19T02:44:46.267Z"
   },
   {
    "duration": 6,
    "start_time": "2023-05-19T02:46:27.658Z"
   },
   {
    "duration": 1442,
    "start_time": "2023-05-19T02:46:39.939Z"
   },
   {
    "duration": 762,
    "start_time": "2023-05-19T02:46:41.383Z"
   },
   {
    "duration": 7,
    "start_time": "2023-05-19T02:46:42.147Z"
   },
   {
    "duration": 1139,
    "start_time": "2023-05-19T02:46:42.157Z"
   },
   {
    "duration": 1098,
    "start_time": "2023-05-19T02:46:43.298Z"
   },
   {
    "duration": 1054,
    "start_time": "2023-05-19T02:46:44.398Z"
   },
   {
    "duration": 5,
    "start_time": "2023-05-19T02:46:45.454Z"
   },
   {
    "duration": 138,
    "start_time": "2023-05-19T02:46:45.460Z"
   },
   {
    "duration": 201,
    "start_time": "2023-05-19T02:46:45.600Z"
   },
   {
    "duration": 104,
    "start_time": "2023-05-19T02:46:45.894Z"
   },
   {
    "duration": 532,
    "start_time": "2023-05-19T02:46:46.001Z"
   },
   {
    "duration": 7,
    "start_time": "2023-05-19T02:46:46.601Z"
   },
   {
    "duration": 10,
    "start_time": "2023-05-19T02:46:46.695Z"
   },
   {
    "duration": 6,
    "start_time": "2023-05-19T02:46:46.706Z"
   },
   {
    "duration": 22,
    "start_time": "2023-05-19T02:46:46.713Z"
   },
   {
    "duration": 19,
    "start_time": "2023-05-19T02:46:46.737Z"
   },
   {
    "duration": 47,
    "start_time": "2023-05-19T02:46:46.758Z"
   },
   {
    "duration": 6,
    "start_time": "2023-05-19T02:46:46.807Z"
   },
   {
    "duration": 628,
    "start_time": "2023-05-19T02:46:46.815Z"
   },
   {
    "duration": 626,
    "start_time": "2023-05-19T02:46:47.446Z"
   },
   {
    "duration": 621,
    "start_time": "2023-05-19T02:46:48.074Z"
   },
   {
    "duration": 82,
    "start_time": "2023-05-19T04:06:25.777Z"
   },
   {
    "duration": 5,
    "start_time": "2023-05-19T04:20:45.523Z"
   },
   {
    "duration": 637,
    "start_time": "2023-05-19T04:20:47.315Z"
   },
   {
    "duration": 1405,
    "start_time": "2023-05-19T04:56:11.029Z"
   },
   {
    "duration": 419,
    "start_time": "2023-05-19T04:56:12.436Z"
   },
   {
    "duration": 5,
    "start_time": "2023-05-19T04:56:12.857Z"
   },
   {
    "duration": 1092,
    "start_time": "2023-05-19T04:56:12.863Z"
   },
   {
    "duration": 1103,
    "start_time": "2023-05-19T04:56:13.957Z"
   },
   {
    "duration": 993,
    "start_time": "2023-05-19T04:56:15.062Z"
   },
   {
    "duration": 6,
    "start_time": "2023-05-19T04:56:16.056Z"
   },
   {
    "duration": 232,
    "start_time": "2023-05-19T04:56:16.063Z"
   },
   {
    "duration": 103,
    "start_time": "2023-05-19T04:56:16.297Z"
   },
   {
    "duration": 193,
    "start_time": "2023-05-19T04:56:16.402Z"
   },
   {
    "duration": 5,
    "start_time": "2023-05-19T04:56:16.598Z"
   },
   {
    "duration": 91,
    "start_time": "2023-05-19T04:56:16.605Z"
   },
   {
    "duration": 70,
    "start_time": "2023-05-19T04:56:16.698Z"
   },
   {
    "duration": 0,
    "start_time": "2023-05-19T04:56:16.770Z"
   },
   {
    "duration": 0,
    "start_time": "2023-05-19T04:56:16.771Z"
   },
   {
    "duration": 0,
    "start_time": "2023-05-19T04:56:16.772Z"
   },
   {
    "duration": 0,
    "start_time": "2023-05-19T04:56:16.773Z"
   },
   {
    "duration": 0,
    "start_time": "2023-05-19T04:56:16.775Z"
   },
   {
    "duration": 0,
    "start_time": "2023-05-19T04:56:16.775Z"
   },
   {
    "duration": 0,
    "start_time": "2023-05-19T04:56:16.776Z"
   },
   {
    "duration": 1782,
    "start_time": "2023-05-19T06:30:18.127Z"
   },
   {
    "duration": 1585,
    "start_time": "2023-05-19T06:30:19.911Z"
   },
   {
    "duration": 5,
    "start_time": "2023-05-19T06:30:30.060Z"
   },
   {
    "duration": 1095,
    "start_time": "2023-05-19T06:30:33.270Z"
   },
   {
    "duration": 1137,
    "start_time": "2023-05-19T06:30:58.838Z"
   },
   {
    "duration": 6,
    "start_time": "2023-05-19T06:34:26.566Z"
   },
   {
    "duration": 135,
    "start_time": "2023-05-19T06:34:27.322Z"
   },
   {
    "duration": 57,
    "start_time": "2023-05-19T06:34:32.797Z"
   },
   {
    "duration": 111,
    "start_time": "2023-05-19T06:34:35.245Z"
   },
   {
    "duration": 4,
    "start_time": "2023-05-19T06:35:50.312Z"
   },
   {
    "duration": 2,
    "start_time": "2023-05-19T06:36:10.792Z"
   },
   {
    "duration": 4,
    "start_time": "2023-05-19T06:37:26.784Z"
   },
   {
    "duration": 24,
    "start_time": "2023-05-19T06:38:32.848Z"
   },
   {
    "duration": 18,
    "start_time": "2023-05-19T06:38:33.606Z"
   },
   {
    "duration": 20,
    "start_time": "2023-05-19T06:38:38.591Z"
   },
   {
    "duration": 13,
    "start_time": "2023-05-19T06:40:17.494Z"
   },
   {
    "duration": 745,
    "start_time": "2023-05-19T06:41:57.735Z"
   },
   {
    "duration": 754,
    "start_time": "2023-05-19T06:41:58.482Z"
   },
   {
    "duration": 730,
    "start_time": "2023-05-19T06:41:59.238Z"
   },
   {
    "duration": 11,
    "start_time": "2023-05-20T13:10:19.668Z"
   },
   {
    "duration": 67,
    "start_time": "2023-05-20T13:10:23.673Z"
   },
   {
    "duration": 2282,
    "start_time": "2023-05-20T13:10:35.074Z"
   },
   {
    "duration": 1142,
    "start_time": "2023-05-20T13:10:37.358Z"
   },
   {
    "duration": 10,
    "start_time": "2023-05-20T13:10:38.505Z"
   },
   {
    "duration": 1784,
    "start_time": "2023-05-20T13:10:38.517Z"
   },
   {
    "duration": 1551,
    "start_time": "2023-05-20T13:10:40.303Z"
   },
   {
    "duration": 1422,
    "start_time": "2023-05-20T13:10:41.857Z"
   },
   {
    "duration": 10,
    "start_time": "2023-05-20T13:10:43.281Z"
   },
   {
    "duration": 142,
    "start_time": "2023-05-20T13:10:43.293Z"
   },
   {
    "duration": 288,
    "start_time": "2023-05-20T13:10:43.439Z"
   },
   {
    "duration": 197,
    "start_time": "2023-05-20T13:10:43.729Z"
   },
   {
    "duration": 9,
    "start_time": "2023-05-20T13:10:43.929Z"
   },
   {
    "duration": 89,
    "start_time": "2023-05-20T13:10:43.944Z"
   },
   {
    "duration": 17,
    "start_time": "2023-05-20T13:10:44.035Z"
   },
   {
    "duration": 49,
    "start_time": "2023-05-20T13:10:44.055Z"
   },
   {
    "duration": 19,
    "start_time": "2023-05-20T13:10:44.106Z"
   },
   {
    "duration": 22,
    "start_time": "2023-05-20T13:10:44.127Z"
   },
   {
    "duration": 9,
    "start_time": "2023-05-20T13:10:44.151Z"
   },
   {
    "duration": 834,
    "start_time": "2023-05-20T13:10:44.162Z"
   },
   {
    "duration": 791,
    "start_time": "2023-05-20T13:10:44.998Z"
   },
   {
    "duration": 759,
    "start_time": "2023-05-20T13:10:45.792Z"
   },
   {
    "duration": 156,
    "start_time": "2023-05-20T13:11:59.442Z"
   },
   {
    "duration": 8,
    "start_time": "2023-05-20T13:12:10.231Z"
   },
   {
    "duration": 816,
    "start_time": "2023-05-20T13:12:12.734Z"
   },
   {
    "duration": 5,
    "start_time": "2023-05-20T13:12:46.025Z"
   },
   {
    "duration": 650,
    "start_time": "2023-05-20T13:12:48.179Z"
   },
   {
    "duration": 5,
    "start_time": "2023-05-20T13:13:38.145Z"
   },
   {
    "duration": 807,
    "start_time": "2023-05-20T13:13:40.622Z"
   },
   {
    "duration": 7,
    "start_time": "2023-05-20T13:14:10.937Z"
   },
   {
    "duration": 805,
    "start_time": "2023-05-20T13:14:15.310Z"
   },
   {
    "duration": 6,
    "start_time": "2023-05-20T13:14:21.653Z"
   },
   {
    "duration": 774,
    "start_time": "2023-05-20T13:14:24.629Z"
   },
   {
    "duration": 6,
    "start_time": "2023-05-20T13:15:01.562Z"
   },
   {
    "duration": 704,
    "start_time": "2023-05-20T13:15:04.212Z"
   },
   {
    "duration": 679,
    "start_time": "2023-05-20T13:15:10.469Z"
   },
   {
    "duration": 797,
    "start_time": "2023-05-20T13:15:14.268Z"
   },
   {
    "duration": 6,
    "start_time": "2023-05-20T13:18:30.595Z"
   },
   {
    "duration": 6,
    "start_time": "2023-05-20T13:19:00.706Z"
   },
   {
    "duration": 674,
    "start_time": "2023-05-20T13:19:04.015Z"
   },
   {
    "duration": 8,
    "start_time": "2023-05-20T13:20:16.186Z"
   },
   {
    "duration": 839,
    "start_time": "2023-05-20T13:20:19.939Z"
   },
   {
    "duration": 10,
    "start_time": "2023-05-20T13:23:08.541Z"
   },
   {
    "duration": 782,
    "start_time": "2023-05-20T13:23:11.789Z"
   },
   {
    "duration": 734,
    "start_time": "2023-05-20T13:23:53.831Z"
   },
   {
    "duration": 743,
    "start_time": "2023-05-20T13:23:59.871Z"
   },
   {
    "duration": 1704,
    "start_time": "2023-05-20T13:36:15.611Z"
   },
   {
    "duration": 628,
    "start_time": "2023-05-20T13:36:17.317Z"
   },
   {
    "duration": 5,
    "start_time": "2023-05-20T13:36:17.948Z"
   },
   {
    "duration": 1312,
    "start_time": "2023-05-20T13:36:17.955Z"
   },
   {
    "duration": 1295,
    "start_time": "2023-05-20T13:36:19.270Z"
   },
   {
    "duration": 1249,
    "start_time": "2023-05-20T13:36:20.566Z"
   },
   {
    "duration": 15,
    "start_time": "2023-05-20T13:36:21.817Z"
   },
   {
    "duration": 114,
    "start_time": "2023-05-20T13:36:21.834Z"
   },
   {
    "duration": 193,
    "start_time": "2023-05-20T13:36:21.957Z"
   },
   {
    "duration": 278,
    "start_time": "2023-05-20T13:36:22.154Z"
   },
   {
    "duration": 6,
    "start_time": "2023-05-20T13:36:22.434Z"
   },
   {
    "duration": 86,
    "start_time": "2023-05-20T13:36:22.442Z"
   },
   {
    "duration": 14,
    "start_time": "2023-05-20T13:36:22.532Z"
   },
   {
    "duration": 36,
    "start_time": "2023-05-20T13:36:22.550Z"
   },
   {
    "duration": 57,
    "start_time": "2023-05-20T13:36:22.588Z"
   },
   {
    "duration": 21,
    "start_time": "2023-05-20T13:36:22.646Z"
   },
   {
    "duration": 6,
    "start_time": "2023-05-20T13:36:22.669Z"
   },
   {
    "duration": 815,
    "start_time": "2023-05-20T13:36:22.677Z"
   },
   {
    "duration": 806,
    "start_time": "2023-05-20T13:36:23.494Z"
   },
   {
    "duration": 791,
    "start_time": "2023-05-20T13:36:24.302Z"
   },
   {
    "duration": 6,
    "start_time": "2023-05-20T13:40:28.637Z"
   },
   {
    "duration": 806,
    "start_time": "2023-05-20T13:40:31.387Z"
   },
   {
    "duration": 791,
    "start_time": "2023-05-20T13:40:50.448Z"
   },
   {
    "duration": 836,
    "start_time": "2023-05-20T13:41:02.797Z"
   },
   {
    "duration": 9,
    "start_time": "2023-05-20T13:42:12.321Z"
   },
   {
    "duration": 967,
    "start_time": "2023-05-20T13:42:15.933Z"
   },
   {
    "duration": 7,
    "start_time": "2023-05-20T13:42:45.585Z"
   },
   {
    "duration": 745,
    "start_time": "2023-05-20T13:42:48.679Z"
   },
   {
    "duration": 6,
    "start_time": "2023-05-20T13:43:02.079Z"
   },
   {
    "duration": 845,
    "start_time": "2023-05-20T13:43:05.121Z"
   },
   {
    "duration": 6,
    "start_time": "2023-05-20T13:43:19.622Z"
   },
   {
    "duration": 784,
    "start_time": "2023-05-20T13:43:22.567Z"
   },
   {
    "duration": 7,
    "start_time": "2023-05-20T13:44:14.528Z"
   },
   {
    "duration": 745,
    "start_time": "2023-05-20T13:44:17.043Z"
   },
   {
    "duration": 835,
    "start_time": "2023-05-20T13:44:24.819Z"
   },
   {
    "duration": 791,
    "start_time": "2023-05-20T13:44:39.150Z"
   },
   {
    "duration": 6,
    "start_time": "2023-05-20T13:48:27.953Z"
   },
   {
    "duration": 812,
    "start_time": "2023-05-20T13:48:30.621Z"
   },
   {
    "duration": 740,
    "start_time": "2023-05-20T13:48:35.381Z"
   },
   {
    "duration": 840,
    "start_time": "2023-05-20T13:48:50.858Z"
   },
   {
    "duration": 5,
    "start_time": "2023-05-20T13:49:29.182Z"
   },
   {
    "duration": 832,
    "start_time": "2023-05-20T13:49:31.129Z"
   },
   {
    "duration": 818,
    "start_time": "2023-05-20T13:49:34.821Z"
   },
   {
    "duration": 921,
    "start_time": "2023-05-20T13:49:44.357Z"
   },
   {
    "duration": 22,
    "start_time": "2023-05-20T13:53:25.524Z"
   },
   {
    "duration": 849,
    "start_time": "2023-05-20T13:53:30.391Z"
   },
   {
    "duration": 7,
    "start_time": "2023-05-20T13:53:42.653Z"
   },
   {
    "duration": 752,
    "start_time": "2023-05-20T13:53:46.252Z"
   },
   {
    "duration": 774,
    "start_time": "2023-05-20T13:53:55.729Z"
   },
   {
    "duration": 3,
    "start_time": "2023-05-20T13:59:55.777Z"
   },
   {
    "duration": 7,
    "start_time": "2023-05-20T14:00:19.170Z"
   },
   {
    "duration": 854,
    "start_time": "2023-05-20T14:00:21.565Z"
   },
   {
    "duration": 866,
    "start_time": "2023-05-20T14:00:33.149Z"
   },
   {
    "duration": 829,
    "start_time": "2023-05-20T14:00:37.676Z"
   },
   {
    "duration": 5,
    "start_time": "2023-05-20T14:18:26.079Z"
   },
   {
    "duration": 750,
    "start_time": "2023-05-20T14:18:29.841Z"
   },
   {
    "duration": 834,
    "start_time": "2023-05-20T14:18:55.457Z"
   },
   {
    "duration": 767,
    "start_time": "2023-05-20T14:19:03.518Z"
   },
   {
    "duration": 8,
    "start_time": "2023-05-20T14:19:24.917Z"
   },
   {
    "duration": 756,
    "start_time": "2023-05-20T14:19:28.956Z"
   },
   {
    "duration": 737,
    "start_time": "2023-05-20T14:19:35.940Z"
   },
   {
    "duration": 93,
    "start_time": "2023-05-20T14:20:45.549Z"
   },
   {
    "duration": 10,
    "start_time": "2023-05-20T14:20:54.423Z"
   },
   {
    "duration": 749,
    "start_time": "2023-05-20T14:20:57.054Z"
   },
   {
    "duration": 794,
    "start_time": "2023-05-20T14:21:04.507Z"
   },
   {
    "duration": 689,
    "start_time": "2023-05-20T14:21:08.266Z"
   },
   {
    "duration": 7,
    "start_time": "2023-05-20T14:24:38.008Z"
   },
   {
    "duration": 7,
    "start_time": "2023-05-20T14:24:56.876Z"
   },
   {
    "duration": 889,
    "start_time": "2023-05-20T14:25:00.051Z"
   },
   {
    "duration": 812,
    "start_time": "2023-05-20T14:25:06.893Z"
   },
   {
    "duration": 876,
    "start_time": "2023-05-20T14:25:10.593Z"
   },
   {
    "duration": 7,
    "start_time": "2023-05-20T14:25:56.110Z"
   },
   {
    "duration": 744,
    "start_time": "2023-05-20T14:25:58.562Z"
   },
   {
    "duration": 101,
    "start_time": "2023-05-20T14:26:10.490Z"
   },
   {
    "duration": 795,
    "start_time": "2023-05-20T14:26:13.049Z"
   },
   {
    "duration": 737,
    "start_time": "2023-05-20T14:26:16.205Z"
   },
   {
    "duration": 9,
    "start_time": "2023-05-20T14:27:02.783Z"
   },
   {
    "duration": 891,
    "start_time": "2023-05-20T14:27:06.900Z"
   },
   {
    "duration": 9,
    "start_time": "2023-05-20T14:28:28.895Z"
   },
   {
    "duration": 903,
    "start_time": "2023-05-20T14:28:30.974Z"
   },
   {
    "duration": 8,
    "start_time": "2023-05-20T14:28:59.453Z"
   },
   {
    "duration": 806,
    "start_time": "2023-05-20T14:29:01.905Z"
   },
   {
    "duration": 14,
    "start_time": "2023-05-20T14:30:37.418Z"
   },
   {
    "duration": 787,
    "start_time": "2023-05-20T14:30:39.996Z"
   },
   {
    "duration": 847,
    "start_time": "2023-05-20T14:30:45.198Z"
   },
   {
    "duration": 12,
    "start_time": "2023-05-20T14:31:15.320Z"
   },
   {
    "duration": 896,
    "start_time": "2023-05-20T14:31:17.282Z"
   },
   {
    "duration": 117,
    "start_time": "2023-05-20T14:32:30.853Z"
   },
   {
    "duration": 12,
    "start_time": "2023-05-20T14:32:40.516Z"
   },
   {
    "duration": 921,
    "start_time": "2023-05-20T14:32:48.793Z"
   },
   {
    "duration": 904,
    "start_time": "2023-05-20T14:32:58.250Z"
   },
   {
    "duration": 6,
    "start_time": "2023-05-20T14:36:16.981Z"
   },
   {
    "duration": 1001,
    "start_time": "2023-05-20T14:36:20.521Z"
   },
   {
    "duration": 8,
    "start_time": "2023-05-20T14:36:30.977Z"
   },
   {
    "duration": 954,
    "start_time": "2023-05-20T14:36:34.850Z"
   },
   {
    "duration": 882,
    "start_time": "2023-05-20T14:36:43.193Z"
   },
   {
    "duration": 785,
    "start_time": "2023-05-20T14:36:52.054Z"
   },
   {
    "duration": 1614,
    "start_time": "2023-05-20T14:38:28.813Z"
   },
   {
    "duration": 521,
    "start_time": "2023-05-20T14:38:30.430Z"
   },
   {
    "duration": 9,
    "start_time": "2023-05-20T14:38:30.953Z"
   },
   {
    "duration": 1506,
    "start_time": "2023-05-20T14:38:30.966Z"
   },
   {
    "duration": 1400,
    "start_time": "2023-05-20T14:38:32.481Z"
   },
   {
    "duration": 1335,
    "start_time": "2023-05-20T14:38:33.884Z"
   },
   {
    "duration": 15,
    "start_time": "2023-05-20T14:38:35.222Z"
   },
   {
    "duration": 200,
    "start_time": "2023-05-20T14:38:35.239Z"
   },
   {
    "duration": 212,
    "start_time": "2023-05-20T14:38:35.441Z"
   },
   {
    "duration": 162,
    "start_time": "2023-05-20T14:38:35.673Z"
   },
   {
    "duration": 91,
    "start_time": "2023-05-20T14:38:35.842Z"
   },
   {
    "duration": 62,
    "start_time": "2023-05-20T14:38:35.935Z"
   },
   {
    "duration": 63,
    "start_time": "2023-05-20T14:38:35.999Z"
   },
   {
    "duration": 39,
    "start_time": "2023-05-20T14:38:36.065Z"
   },
   {
    "duration": 72,
    "start_time": "2023-05-20T14:38:36.106Z"
   },
   {
    "duration": 33,
    "start_time": "2023-05-20T14:38:36.180Z"
   },
   {
    "duration": 44,
    "start_time": "2023-05-20T14:38:36.214Z"
   },
   {
    "duration": 31,
    "start_time": "2023-05-20T14:38:36.260Z"
   },
   {
    "duration": 836,
    "start_time": "2023-05-20T14:38:36.293Z"
   },
   {
    "duration": 854,
    "start_time": "2023-05-20T14:38:37.131Z"
   },
   {
    "duration": 811,
    "start_time": "2023-05-20T14:38:37.988Z"
   },
   {
    "duration": 6,
    "start_time": "2023-05-20T14:41:29.308Z"
   },
   {
    "duration": 998,
    "start_time": "2023-05-20T14:41:36.254Z"
   },
   {
    "duration": 114,
    "start_time": "2023-05-20T14:41:52.343Z"
   },
   {
    "duration": 7,
    "start_time": "2023-05-20T14:42:14.266Z"
   },
   {
    "duration": 949,
    "start_time": "2023-05-20T14:42:19.265Z"
   },
   {
    "duration": 6,
    "start_time": "2023-05-20T14:45:58.286Z"
   },
   {
    "duration": 792,
    "start_time": "2023-05-20T14:46:01.938Z"
   },
   {
    "duration": 760,
    "start_time": "2023-05-20T14:46:11.377Z"
   },
   {
    "duration": 851,
    "start_time": "2023-05-20T14:46:18.027Z"
   },
   {
    "duration": 1690,
    "start_time": "2023-05-20T14:46:37.318Z"
   },
   {
    "duration": 496,
    "start_time": "2023-05-20T14:46:39.010Z"
   },
   {
    "duration": 5,
    "start_time": "2023-05-20T14:46:39.507Z"
   },
   {
    "duration": 1581,
    "start_time": "2023-05-20T14:46:39.514Z"
   },
   {
    "duration": 1458,
    "start_time": "2023-05-20T14:46:41.099Z"
   },
   {
    "duration": 1344,
    "start_time": "2023-05-20T14:46:42.563Z"
   },
   {
    "duration": 7,
    "start_time": "2023-05-20T14:46:43.909Z"
   },
   {
    "duration": 104,
    "start_time": "2023-05-20T14:46:43.924Z"
   },
   {
    "duration": 227,
    "start_time": "2023-05-20T14:46:44.030Z"
   },
   {
    "duration": 162,
    "start_time": "2023-05-20T14:46:44.265Z"
   },
   {
    "duration": 7,
    "start_time": "2023-05-20T14:46:44.431Z"
   },
   {
    "duration": 132,
    "start_time": "2023-05-20T14:46:44.449Z"
   },
   {
    "duration": 5,
    "start_time": "2023-05-20T14:46:44.583Z"
   },
   {
    "duration": 23,
    "start_time": "2023-05-20T14:46:44.590Z"
   },
   {
    "duration": 37,
    "start_time": "2023-05-20T14:46:44.615Z"
   },
   {
    "duration": 58,
    "start_time": "2023-05-20T14:46:44.654Z"
   },
   {
    "duration": 3,
    "start_time": "2023-05-20T14:46:44.714Z"
   },
   {
    "duration": 42,
    "start_time": "2023-05-20T14:46:44.719Z"
   },
   {
    "duration": 965,
    "start_time": "2023-05-20T14:46:44.764Z"
   },
   {
    "duration": 816,
    "start_time": "2023-05-20T14:46:45.731Z"
   },
   {
    "duration": 886,
    "start_time": "2023-05-20T14:46:46.556Z"
   }
  ],
  "celltoolbar": "Raw Cell Format",
  "kernelspec": {
   "display_name": "Python 3 (ipykernel)",
   "language": "python",
   "name": "python3"
  },
  "language_info": {
   "codemirror_mode": {
    "name": "ipython",
    "version": 3
   },
   "file_extension": ".py",
   "mimetype": "text/x-python",
   "name": "python",
   "nbconvert_exporter": "python",
   "pygments_lexer": "ipython3",
   "version": "3.9.13"
  },
  "toc": {
   "base_numbering": 1,
   "nav_menu": {},
   "number_sections": true,
   "sideBar": true,
   "skip_h1_title": true,
   "title_cell": "Table of Contents",
   "title_sidebar": "Contents",
   "toc_cell": false,
   "toc_position": {
    "height": "calc(100% - 180px)",
    "left": "10px",
    "top": "150px",
    "width": "165px"
   },
   "toc_section_display": true,
   "toc_window_display": true
  }
 },
 "nbformat": 4,
 "nbformat_minor": 2
}

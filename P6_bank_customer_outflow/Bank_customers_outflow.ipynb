{
 "cells": [
  {
   "cell_type": "markdown",
   "metadata": {
    "toc": true
   },
   "source": [
    "<h1>Содержание<span class=\"tocSkip\"></span></h1>\n",
    "<div class=\"toc\"><ul class=\"toc-item\"><li><span><a href=\"#Подготовка-данных\" data-toc-modified-id=\"Подготовка-данных-1\"><span class=\"toc-item-num\">1&nbsp;&nbsp;</span>Подготовка данных</a></span></li><li><span><a href=\"#Исследование-задачи\" data-toc-modified-id=\"Исследование-задачи-2\"><span class=\"toc-item-num\">2&nbsp;&nbsp;</span>Исследование задачи</a></span></li><li><span><a href=\"#Борьба-с-дисбалансом\" data-toc-modified-id=\"Борьба-с-дисбалансом-3\"><span class=\"toc-item-num\">3&nbsp;&nbsp;</span>Борьба с дисбалансом</a></span></li><li><span><a href=\"#Тестирование-модели\" data-toc-modified-id=\"Тестирование-модели-4\"><span class=\"toc-item-num\">4&nbsp;&nbsp;</span>Тестирование модели</a></span></li><li><span><a href=\"#Общий-вывод\" data-toc-modified-id=\"Общий-вывод-5\"><span class=\"toc-item-num\">5&nbsp;&nbsp;</span><strong>Общий вывод</strong></a></span></li><li><span><a href=\"#Чек-лист-готовности-проекта\" data-toc-modified-id=\"Чек-лист-готовности-проекта-6\"><span class=\"toc-item-num\">6&nbsp;&nbsp;</span>Чек-лист готовности проекта</a></span></li></ul></div>"
   ]
  },
  {
   "cell_type": "markdown",
   "metadata": {},
   "source": [
    "# Отток клиентов"
   ]
  },
  {
   "cell_type": "markdown",
   "metadata": {},
   "source": [
    "Из «Бета-Банка» стали уходить клиенты. Каждый месяц. Немного, но заметно. Банковские маркетологи посчитали: сохранять текущих клиентов дешевле, чем привлекать новых.\n",
    "\n",
    "Нужно спрогнозировать, уйдёт клиент из банка в ближайшее время или нет. Вам предоставлены исторические данные о поведении клиентов и расторжении договоров с банком. \n",
    "\n",
    "Постройте модель с предельно большим значением *F1*-меры. Чтобы сдать проект успешно, нужно довести метрику до 0.59. Проверьте *F1*-меру на тестовой выборке самостоятельно.\n",
    "\n",
    "Дополнительно измеряйте *AUC-ROC*, сравнивайте её значение с *F1*-мерой.\n",
    "\n",
    "Источник данных: [https://www.kaggle.com/barelydedicated/bank-customer-churn-modeling](https://www.kaggle.com/barelydedicated/bank-customer-churn-modeling)"
   ]
  },
  {
   "cell_type": "markdown",
   "metadata": {},
   "source": [
    "## Подготовка данных"
   ]
  },
  {
   "cell_type": "code",
   "execution_count": 1,
   "metadata": {},
   "outputs": [],
   "source": [
    "import pandas as pd\n",
    "import numpy as np\n",
    "import matplotlib.pyplot as plt\n",
    "import seaborn as sns \n",
    "import warnings\n",
    "warnings.simplefilter('ignore') \n",
    "\n",
    "from sklearn.metrics import accuracy_score\n",
    "from sklearn.dummy import DummyClassifier\n",
    "from sklearn.model_selection import train_test_split\n",
    "from sklearn.preprocessing import StandardScaler\n",
    "from sklearn.model_selection import GridSearchCV\n",
    "from sklearn.tree import DecisionTreeClassifier\n",
    "from sklearn.ensemble import RandomForestClassifier\n",
    "from sklearn.linear_model import LogisticRegression\n",
    "from sklearn. metrics import classification_report\n",
    "from sklearn.metrics import confusion_matrix\n",
    "from sklearn.metrics import ConfusionMatrixDisplay\n",
    "from sklearn.metrics import f1_score\n",
    "from sklearn.metrics import roc_curve\n",
    "from sklearn.metrics import roc_auc_score\n",
    "from sklearn.utils import shuffle\n",
    "from sklearn.impute import SimpleImputer"
   ]
  },
  {
   "cell_type": "code",
   "execution_count": 2,
   "metadata": {},
   "outputs": [],
   "source": [
    "df = pd.read_csv('/datasets/Churn.csv')"
   ]
  },
  {
   "cell_type": "code",
   "execution_count": 3,
   "metadata": {},
   "outputs": [
    {
     "data": {
      "text/html": [
       "<div>\n",
       "<style scoped>\n",
       "    .dataframe tbody tr th:only-of-type {\n",
       "        vertical-align: middle;\n",
       "    }\n",
       "\n",
       "    .dataframe tbody tr th {\n",
       "        vertical-align: top;\n",
       "    }\n",
       "\n",
       "    .dataframe thead th {\n",
       "        text-align: right;\n",
       "    }\n",
       "</style>\n",
       "<table border=\"1\" class=\"dataframe\">\n",
       "  <thead>\n",
       "    <tr style=\"text-align: right;\">\n",
       "      <th></th>\n",
       "      <th>RowNumber</th>\n",
       "      <th>CustomerId</th>\n",
       "      <th>CreditScore</th>\n",
       "      <th>Age</th>\n",
       "      <th>Tenure</th>\n",
       "      <th>Balance</th>\n",
       "      <th>NumOfProducts</th>\n",
       "      <th>HasCrCard</th>\n",
       "      <th>IsActiveMember</th>\n",
       "      <th>EstimatedSalary</th>\n",
       "      <th>Exited</th>\n",
       "    </tr>\n",
       "  </thead>\n",
       "  <tbody>\n",
       "    <tr>\n",
       "      <th>count</th>\n",
       "      <td>10000.00000</td>\n",
       "      <td>1.000000e+04</td>\n",
       "      <td>10000.000000</td>\n",
       "      <td>10000.000000</td>\n",
       "      <td>9091.000000</td>\n",
       "      <td>10000.000000</td>\n",
       "      <td>10000.000000</td>\n",
       "      <td>10000.00000</td>\n",
       "      <td>10000.000000</td>\n",
       "      <td>10000.000000</td>\n",
       "      <td>10000.000000</td>\n",
       "    </tr>\n",
       "    <tr>\n",
       "      <th>mean</th>\n",
       "      <td>5000.50000</td>\n",
       "      <td>1.569094e+07</td>\n",
       "      <td>650.528800</td>\n",
       "      <td>38.921800</td>\n",
       "      <td>4.997690</td>\n",
       "      <td>76485.889288</td>\n",
       "      <td>1.530200</td>\n",
       "      <td>0.70550</td>\n",
       "      <td>0.515100</td>\n",
       "      <td>100090.239881</td>\n",
       "      <td>0.203700</td>\n",
       "    </tr>\n",
       "    <tr>\n",
       "      <th>std</th>\n",
       "      <td>2886.89568</td>\n",
       "      <td>7.193619e+04</td>\n",
       "      <td>96.653299</td>\n",
       "      <td>10.487806</td>\n",
       "      <td>2.894723</td>\n",
       "      <td>62397.405202</td>\n",
       "      <td>0.581654</td>\n",
       "      <td>0.45584</td>\n",
       "      <td>0.499797</td>\n",
       "      <td>57510.492818</td>\n",
       "      <td>0.402769</td>\n",
       "    </tr>\n",
       "    <tr>\n",
       "      <th>min</th>\n",
       "      <td>1.00000</td>\n",
       "      <td>1.556570e+07</td>\n",
       "      <td>350.000000</td>\n",
       "      <td>18.000000</td>\n",
       "      <td>0.000000</td>\n",
       "      <td>0.000000</td>\n",
       "      <td>1.000000</td>\n",
       "      <td>0.00000</td>\n",
       "      <td>0.000000</td>\n",
       "      <td>11.580000</td>\n",
       "      <td>0.000000</td>\n",
       "    </tr>\n",
       "    <tr>\n",
       "      <th>25%</th>\n",
       "      <td>2500.75000</td>\n",
       "      <td>1.562853e+07</td>\n",
       "      <td>584.000000</td>\n",
       "      <td>32.000000</td>\n",
       "      <td>2.000000</td>\n",
       "      <td>0.000000</td>\n",
       "      <td>1.000000</td>\n",
       "      <td>0.00000</td>\n",
       "      <td>0.000000</td>\n",
       "      <td>51002.110000</td>\n",
       "      <td>0.000000</td>\n",
       "    </tr>\n",
       "    <tr>\n",
       "      <th>50%</th>\n",
       "      <td>5000.50000</td>\n",
       "      <td>1.569074e+07</td>\n",
       "      <td>652.000000</td>\n",
       "      <td>37.000000</td>\n",
       "      <td>5.000000</td>\n",
       "      <td>97198.540000</td>\n",
       "      <td>1.000000</td>\n",
       "      <td>1.00000</td>\n",
       "      <td>1.000000</td>\n",
       "      <td>100193.915000</td>\n",
       "      <td>0.000000</td>\n",
       "    </tr>\n",
       "    <tr>\n",
       "      <th>75%</th>\n",
       "      <td>7500.25000</td>\n",
       "      <td>1.575323e+07</td>\n",
       "      <td>718.000000</td>\n",
       "      <td>44.000000</td>\n",
       "      <td>7.000000</td>\n",
       "      <td>127644.240000</td>\n",
       "      <td>2.000000</td>\n",
       "      <td>1.00000</td>\n",
       "      <td>1.000000</td>\n",
       "      <td>149388.247500</td>\n",
       "      <td>0.000000</td>\n",
       "    </tr>\n",
       "    <tr>\n",
       "      <th>max</th>\n",
       "      <td>10000.00000</td>\n",
       "      <td>1.581569e+07</td>\n",
       "      <td>850.000000</td>\n",
       "      <td>92.000000</td>\n",
       "      <td>10.000000</td>\n",
       "      <td>250898.090000</td>\n",
       "      <td>4.000000</td>\n",
       "      <td>1.00000</td>\n",
       "      <td>1.000000</td>\n",
       "      <td>199992.480000</td>\n",
       "      <td>1.000000</td>\n",
       "    </tr>\n",
       "  </tbody>\n",
       "</table>\n",
       "</div>"
      ],
      "text/plain": [
       "         RowNumber    CustomerId   CreditScore           Age       Tenure  \\\n",
       "count  10000.00000  1.000000e+04  10000.000000  10000.000000  9091.000000   \n",
       "mean    5000.50000  1.569094e+07    650.528800     38.921800     4.997690   \n",
       "std     2886.89568  7.193619e+04     96.653299     10.487806     2.894723   \n",
       "min        1.00000  1.556570e+07    350.000000     18.000000     0.000000   \n",
       "25%     2500.75000  1.562853e+07    584.000000     32.000000     2.000000   \n",
       "50%     5000.50000  1.569074e+07    652.000000     37.000000     5.000000   \n",
       "75%     7500.25000  1.575323e+07    718.000000     44.000000     7.000000   \n",
       "max    10000.00000  1.581569e+07    850.000000     92.000000    10.000000   \n",
       "\n",
       "             Balance  NumOfProducts    HasCrCard  IsActiveMember  \\\n",
       "count   10000.000000   10000.000000  10000.00000    10000.000000   \n",
       "mean    76485.889288       1.530200      0.70550        0.515100   \n",
       "std     62397.405202       0.581654      0.45584        0.499797   \n",
       "min         0.000000       1.000000      0.00000        0.000000   \n",
       "25%         0.000000       1.000000      0.00000        0.000000   \n",
       "50%     97198.540000       1.000000      1.00000        1.000000   \n",
       "75%    127644.240000       2.000000      1.00000        1.000000   \n",
       "max    250898.090000       4.000000      1.00000        1.000000   \n",
       "\n",
       "       EstimatedSalary        Exited  \n",
       "count     10000.000000  10000.000000  \n",
       "mean     100090.239881      0.203700  \n",
       "std       57510.492818      0.402769  \n",
       "min          11.580000      0.000000  \n",
       "25%       51002.110000      0.000000  \n",
       "50%      100193.915000      0.000000  \n",
       "75%      149388.247500      0.000000  \n",
       "max      199992.480000      1.000000  "
      ]
     },
     "execution_count": 3,
     "metadata": {},
     "output_type": "execute_result"
    }
   ],
   "source": [
    "df.describe()"
   ]
  },
  {
   "cell_type": "code",
   "execution_count": 4,
   "metadata": {
    "scrolled": false
   },
   "outputs": [
    {
     "name": "stdout",
     "output_type": "stream",
     "text": [
      "<class 'pandas.core.frame.DataFrame'>\n",
      "RangeIndex: 10000 entries, 0 to 9999\n",
      "Data columns (total 14 columns):\n",
      " #   Column           Non-Null Count  Dtype  \n",
      "---  ------           --------------  -----  \n",
      " 0   RowNumber        10000 non-null  int64  \n",
      " 1   CustomerId       10000 non-null  int64  \n",
      " 2   Surname          10000 non-null  object \n",
      " 3   CreditScore      10000 non-null  int64  \n",
      " 4   Geography        10000 non-null  object \n",
      " 5   Gender           10000 non-null  object \n",
      " 6   Age              10000 non-null  int64  \n",
      " 7   Tenure           9091 non-null   float64\n",
      " 8   Balance          10000 non-null  float64\n",
      " 9   NumOfProducts    10000 non-null  int64  \n",
      " 10  HasCrCard        10000 non-null  int64  \n",
      " 11  IsActiveMember   10000 non-null  int64  \n",
      " 12  EstimatedSalary  10000 non-null  float64\n",
      " 13  Exited           10000 non-null  int64  \n",
      "dtypes: float64(3), int64(8), object(3)\n",
      "memory usage: 1.1+ MB\n"
     ]
    }
   ],
   "source": [
    "df.info()"
   ]
  },
  {
   "cell_type": "code",
   "execution_count": 5,
   "metadata": {},
   "outputs": [
    {
     "data": {
      "image/png": "[encoded data removed]",
      "text/plain": [
       "<Figure size 720x864 with 12 Axes>"
      ]
     },
     "metadata": {
      "needs_background": "light"
     },
     "output_type": "display_data"
    }
   ],
   "source": [
    "df.hist(figsize=(10, 12))\n",
    "None"
   ]
  },
  {
   "cell_type": "markdown",
   "metadata": {},
   "source": [
    "Визуально, пожалуй только признак CreditScore распределен нормально, Age близок к нормальному распределению. \n",
    "Посмотрим визуально на матрице корреляции взаимозависимости признаков."
   ]
  },
  {
   "cell_type": "code",
   "execution_count": 6,
   "metadata": {},
   "outputs": [
    {
     "name": "stdout",
     "output_type": "stream",
     "text": [
      "                 RowNumber  CustomerId  CreditScore       Age    Tenure  \\\n",
      "RowNumber         1.000000    0.004202     0.005840  0.000783 -0.007322   \n",
      "CustomerId        0.004202    1.000000     0.005308  0.009497 -0.021418   \n",
      "CreditScore       0.005840    0.005308     1.000000 -0.003965 -0.000062   \n",
      "Age               0.000783    0.009497    -0.003965  1.000000 -0.013134   \n",
      "Tenure           -0.007322   -0.021418    -0.000062 -0.013134  1.000000   \n",
      "Balance          -0.009067   -0.012419     0.006268  0.028308 -0.007911   \n",
      "NumOfProducts     0.007246    0.016972     0.012238 -0.030680  0.011979   \n",
      "HasCrCard         0.000599   -0.014025    -0.005458 -0.011721  0.027232   \n",
      "IsActiveMember    0.012044    0.001665     0.025651  0.085472 -0.032178   \n",
      "EstimatedSalary  -0.005988    0.015271    -0.001384 -0.007201  0.010520   \n",
      "Exited           -0.016571   -0.006248    -0.027094  0.285323 -0.016761   \n",
      "\n",
      "                  Balance  NumOfProducts  HasCrCard  IsActiveMember  \\\n",
      "RowNumber       -0.009067       0.007246   0.000599        0.012044   \n",
      "CustomerId      -0.012419       0.016972  -0.014025        0.001665   \n",
      "CreditScore      0.006268       0.012238  -0.005458        0.025651   \n",
      "Age              0.028308      -0.030680  -0.011721        0.085472   \n",
      "Tenure          -0.007911       0.011979   0.027232       -0.032178   \n",
      "Balance          1.000000      -0.304180  -0.014858       -0.010084   \n",
      "NumOfProducts   -0.304180       1.000000   0.003183        0.009612   \n",
      "HasCrCard       -0.014858       0.003183   1.000000       -0.011866   \n",
      "IsActiveMember  -0.010084       0.009612  -0.011866        1.000000   \n",
      "EstimatedSalary  0.012797       0.014204  -0.009933       -0.011421   \n",
      "Exited           0.118533      -0.047820  -0.007138       -0.156128   \n",
      "\n",
      "                 EstimatedSalary    Exited  \n",
      "RowNumber              -0.005988 -0.016571  \n",
      "CustomerId              0.015271 -0.006248  \n",
      "CreditScore            -0.001384 -0.027094  \n",
      "Age                    -0.007201  0.285323  \n",
      "Tenure                  0.010520 -0.016761  \n",
      "Balance                 0.012797  0.118533  \n",
      "NumOfProducts           0.014204 -0.047820  \n",
      "HasCrCard              -0.009933 -0.007138  \n",
      "IsActiveMember         -0.011421 -0.156128  \n",
      "EstimatedSalary         1.000000  0.012097  \n",
      "Exited                  0.012097  1.000000  \n"
     ]
    },
    {
     "data": {
      "image/png": "[encoded data removed]",
      "text/plain": [
       "<Figure size 900x630 with 2 Axes>"
      ]
     },
     "metadata": {
      "needs_background": "light"
     },
     "output_type": "display_data"
    }
   ],
   "source": [
    "print(df.corr())\n",
    "\n",
    "plt.figure(figsize=(10,7),dpi=90)\n",
    "df_plot = sns.heatmap(df.corr(), cmap=\"Blues\", annot=True)\n",
    "plt.title('Тепловая карта корреляции')\n",
    "plt.show()"
   ]
  },
  {
   "cell_type": "markdown",
   "metadata": {},
   "source": [
    "В столбце Tenure 909 прорусков.\n",
    "Заполню пропуски нулями, что будет означать что клиенты уже не являются клиентами банка."
   ]
  },
  {
   "cell_type": "markdown",
   "metadata": {},
   "source": [
    "- RowNumber — не несетя ценности для обучения модели так как дублирует информацию стандартного датафрейма, практически не коррелирует с другими данными. Столбец можно удалить\n",
    "- CustomerId — является идентификатором пользователя не несет ценности для качества будущей модели, практически ине коррелирует с другими данными,столбец можно удалить.\n",
    "- Surname — является идентифицирующей пользователя информацией не несет ценности для качества будущей модели,столбец можно удалить."
   ]
  },
  {
   "cell_type": "code",
   "execution_count": 7,
   "metadata": {},
   "outputs": [
    {
     "data": {
      "text/html": [
       "<div>\n",
       "<style scoped>\n",
       "    .dataframe tbody tr th:only-of-type {\n",
       "        vertical-align: middle;\n",
       "    }\n",
       "\n",
       "    .dataframe tbody tr th {\n",
       "        vertical-align: top;\n",
       "    }\n",
       "\n",
       "    .dataframe thead th {\n",
       "        text-align: right;\n",
       "    }\n",
       "</style>\n",
       "<table border=\"1\" class=\"dataframe\">\n",
       "  <thead>\n",
       "    <tr style=\"text-align: right;\">\n",
       "      <th></th>\n",
       "      <th>CreditScore</th>\n",
       "      <th>Geography</th>\n",
       "      <th>Gender</th>\n",
       "      <th>Age</th>\n",
       "      <th>Tenure</th>\n",
       "      <th>Balance</th>\n",
       "      <th>NumOfProducts</th>\n",
       "      <th>HasCrCard</th>\n",
       "      <th>IsActiveMember</th>\n",
       "      <th>EstimatedSalary</th>\n",
       "      <th>Exited</th>\n",
       "    </tr>\n",
       "  </thead>\n",
       "  <tbody>\n",
       "    <tr>\n",
       "      <th>0</th>\n",
       "      <td>619</td>\n",
       "      <td>France</td>\n",
       "      <td>Female</td>\n",
       "      <td>42</td>\n",
       "      <td>2.0</td>\n",
       "      <td>0.00</td>\n",
       "      <td>1</td>\n",
       "      <td>1</td>\n",
       "      <td>1</td>\n",
       "      <td>101348.88</td>\n",
       "      <td>1</td>\n",
       "    </tr>\n",
       "    <tr>\n",
       "      <th>1</th>\n",
       "      <td>608</td>\n",
       "      <td>Spain</td>\n",
       "      <td>Female</td>\n",
       "      <td>41</td>\n",
       "      <td>1.0</td>\n",
       "      <td>83807.86</td>\n",
       "      <td>1</td>\n",
       "      <td>0</td>\n",
       "      <td>1</td>\n",
       "      <td>112542.58</td>\n",
       "      <td>0</td>\n",
       "    </tr>\n",
       "    <tr>\n",
       "      <th>2</th>\n",
       "      <td>502</td>\n",
       "      <td>France</td>\n",
       "      <td>Female</td>\n",
       "      <td>42</td>\n",
       "      <td>8.0</td>\n",
       "      <td>159660.80</td>\n",
       "      <td>3</td>\n",
       "      <td>1</td>\n",
       "      <td>0</td>\n",
       "      <td>113931.57</td>\n",
       "      <td>1</td>\n",
       "    </tr>\n",
       "    <tr>\n",
       "      <th>3</th>\n",
       "      <td>699</td>\n",
       "      <td>France</td>\n",
       "      <td>Female</td>\n",
       "      <td>39</td>\n",
       "      <td>1.0</td>\n",
       "      <td>0.00</td>\n",
       "      <td>2</td>\n",
       "      <td>0</td>\n",
       "      <td>0</td>\n",
       "      <td>93826.63</td>\n",
       "      <td>0</td>\n",
       "    </tr>\n",
       "    <tr>\n",
       "      <th>4</th>\n",
       "      <td>850</td>\n",
       "      <td>Spain</td>\n",
       "      <td>Female</td>\n",
       "      <td>43</td>\n",
       "      <td>2.0</td>\n",
       "      <td>125510.82</td>\n",
       "      <td>1</td>\n",
       "      <td>1</td>\n",
       "      <td>1</td>\n",
       "      <td>79084.10</td>\n",
       "      <td>0</td>\n",
       "    </tr>\n",
       "  </tbody>\n",
       "</table>\n",
       "</div>"
      ],
      "text/plain": [
       "   CreditScore Geography  Gender  Age  Tenure    Balance  NumOfProducts  \\\n",
       "0          619    France  Female   42     2.0       0.00              1   \n",
       "1          608     Spain  Female   41     1.0   83807.86              1   \n",
       "2          502    France  Female   42     8.0  159660.80              3   \n",
       "3          699    France  Female   39     1.0       0.00              2   \n",
       "4          850     Spain  Female   43     2.0  125510.82              1   \n",
       "\n",
       "   HasCrCard  IsActiveMember  EstimatedSalary  Exited  \n",
       "0          1               1        101348.88       1  \n",
       "1          0               1        112542.58       0  \n",
       "2          1               0        113931.57       1  \n",
       "3          0               0         93826.63       0  \n",
       "4          1               1         79084.10       0  "
      ]
     },
     "execution_count": 7,
     "metadata": {},
     "output_type": "execute_result"
    }
   ],
   "source": [
    "df = df.drop(['RowNumber','CustomerId', 'Surname'], axis=1)\n",
    "df.head()"
   ]
  },
  {
   "cell_type": "markdown",
   "metadata": {},
   "source": [
    "Посмотрим зависимость между оставшимися признаками датафрейма и целевым признаком при помощи барплотов."
   ]
  },
  {
   "cell_type": "code",
   "execution_count": 8,
   "metadata": {
    "scrolled": false
   },
   "outputs": [
    {
     "name": "stdout",
     "output_type": "stream",
     "text": [
      "              mean      median\n",
      "       CreditScore CreditScore\n",
      "Exited                        \n",
      "0       651.853196         653\n",
      "1       645.351497         646\n"
     ]
    },
    {
     "data": {
      "image/png": "[encoded data removed]",
      "text/plain": [
       "<Figure size 504x360 with 1 Axes>"
      ]
     },
     "metadata": {
      "needs_background": "light"
     },
     "output_type": "display_data"
    },
    {
     "name": "stdout",
     "output_type": "stream",
     "text": [
      "             mean median\n",
      "              Age    Age\n",
      "Exited                  \n",
      "0       37.408389     36\n",
      "1       44.837997     45\n"
     ]
    },
    {
     "data": {
      "image/png": "[encoded data removed]",
      "text/plain": [
       "<Figure size 504x360 with 1 Axes>"
      ]
     },
     "metadata": {
      "needs_background": "light"
     },
     "output_type": "display_data"
    },
    {
     "name": "stdout",
     "output_type": "stream",
     "text": [
      "            mean median\n",
      "          Tenure Tenure\n",
      "Exited                 \n",
      "0       5.022247    5.0\n",
      "1       4.901834    5.0\n"
     ]
    },
    {
     "data": {
      "image/png": "[encoded data removed]",
      "text/plain": [
       "<Figure size 504x360 with 1 Axes>"
      ]
     },
     "metadata": {
      "needs_background": "light"
     },
     "output_type": "display_data"
    },
    {
     "name": "stdout",
     "output_type": "stream",
     "text": [
      "                mean     median\n",
      "             Balance    Balance\n",
      "Exited                         \n",
      "0       72745.296779   92072.68\n",
      "1       91108.539337  109349.29\n"
     ]
    },
    {
     "data": {
      "image/png": "[encoded data removed]",
      "text/plain": [
       "<Figure size 504x360 with 1 Axes>"
      ]
     },
     "metadata": {
      "needs_background": "light"
     },
     "output_type": "display_data"
    },
    {
     "name": "stdout",
     "output_type": "stream",
     "text": [
      "                mean        median\n",
      "       NumOfProducts NumOfProducts\n",
      "Exited                            \n",
      "0           1.544267             2\n",
      "1           1.475209             1\n"
     ]
    },
    {
     "data": {
      "image/png": "[encoded data removed]",
      "text/plain": [
       "<Figure size 504x360 with 1 Axes>"
      ]
     },
     "metadata": {
      "needs_background": "light"
     },
     "output_type": "display_data"
    },
    {
     "name": "stdout",
     "output_type": "stream",
     "text": [
      "                  mean          median\n",
      "       EstimatedSalary EstimatedSalary\n",
      "Exited                                \n",
      "0         99738.391772        99645.04\n",
      "1        101465.677531       102460.84\n"
     ]
    },
    {
     "data": {
      "image/png": "[encoded data removed]",
      "text/plain": [
       "<Figure size 504x360 with 1 Axes>"
      ]
     },
     "metadata": {
      "needs_background": "light"
     },
     "output_type": "display_data"
    }
   ],
   "source": [
    "feautures_list = ['CreditScore', 'Age', 'Tenure', 'Balance', 'NumOfProducts', 'EstimatedSalary']\n",
    "for feature in feautures_list:\n",
    "    print(df.pivot_table(index=\"Exited\", values = feature, aggfunc = ['mean','median']))\n",
    "    df.boxplot(column = feature, by = \"Exited\", figsize=(7,5))\n",
    "    plt.title(\"Зависимость\" )\n",
    "    plt.xlabel(\"Exited\")\n",
    "    plt.ylabel(feature)\n",
    "    plt.show()"
   ]
  },
  {
   "cell_type": "markdown",
   "metadata": {},
   "source": [
    "Из полученных графиков видно:\n",
    "\n",
    "- Кредитный рейтинг покинувших банк клиентов практически не отличается от кредитного рейтинга остающихся клиентов банка (646 против 653)\n",
    "- В среднем банк покидают клиенты возраста 36-37 лет\n",
    "- Покидают банк клиенты в основном после 4-4.5 лет, действительные являются клиентами банка 4.5-5 лет\n",
    "- В среднем клиенты банка пользуются 1-2 продтами, покинувшие банк клиенты пользовались в среднем 1 продуктом\n",
    "- в зарплате оставшихся и покинувших банк клиентов дисбаланса нет."
   ]
  },
  {
   "cell_type": "markdown",
   "metadata": {},
   "source": [
    "Проверим данные на пропуски после заполнения пробелом и удаления столбцов\n"
   ]
  },
  {
   "cell_type": "code",
   "execution_count": 9,
   "metadata": {},
   "outputs": [
    {
     "name": "stdout",
     "output_type": "stream",
     "text": [
      "<class 'pandas.core.frame.DataFrame'>\n",
      "RangeIndex: 10000 entries, 0 to 9999\n",
      "Data columns (total 11 columns):\n",
      " #   Column           Non-Null Count  Dtype  \n",
      "---  ------           --------------  -----  \n",
      " 0   CreditScore      10000 non-null  int64  \n",
      " 1   Geography        10000 non-null  object \n",
      " 2   Gender           10000 non-null  object \n",
      " 3   Age              10000 non-null  int64  \n",
      " 4   Tenure           9091 non-null   float64\n",
      " 5   Balance          10000 non-null  float64\n",
      " 6   NumOfProducts    10000 non-null  int64  \n",
      " 7   HasCrCard        10000 non-null  int64  \n",
      " 8   IsActiveMember   10000 non-null  int64  \n",
      " 9   EstimatedSalary  10000 non-null  float64\n",
      " 10  Exited           10000 non-null  int64  \n",
      "dtypes: float64(3), int64(6), object(2)\n",
      "memory usage: 859.5+ KB\n"
     ]
    }
   ],
   "source": [
    "df.info()"
   ]
  },
  {
   "cell_type": "markdown",
   "metadata": {},
   "source": []
  },
  {
   "cell_type": "markdown",
   "metadata": {},
   "source": [
    "Exited - целевой признак, все остальные столбцы - это признаки, которые влияют на результат классификации. Исходя из основной информации о признаках, можно сказать,OHE применим к столбцам Gender и Geography,которые являются категориальными признаками, а для числовых признаковб таких как 'CreditScore', 'Age', 'Tenure', 'Balance', 'NumOfProducts', 'EstimatedSalary' потребуется масштабирование, чтобы при моделировании признаки с более высоким значением не были засчитаны как более значимые, что приведет к некорректоному моделированию и модели низкого качества."
   ]
  },
  {
   "cell_type": "code",
   "execution_count": 10,
   "metadata": {},
   "outputs": [
    {
     "data": {
      "text/plain": [
       "array(['France', 'Spain', 'Germany'], dtype=object)"
      ]
     },
     "execution_count": 10,
     "metadata": {},
     "output_type": "execute_result"
    }
   ],
   "source": [
    "df.Geography.unique()"
   ]
  },
  {
   "cell_type": "markdown",
   "metadata": {},
   "source": [
    "Geography \n",
    "- всего 3 уникальных значения 'France', 'Spain', 'Germany' — исполльзуем метод OHE / ordinal encoding"
   ]
  },
  {
   "cell_type": "code",
   "execution_count": 11,
   "metadata": {},
   "outputs": [
    {
     "data": {
      "text/plain": [
       "array(['Female', 'Male'], dtype=object)"
      ]
     },
     "execution_count": 11,
     "metadata": {},
     "output_type": "execute_result"
    }
   ],
   "source": [
    "df.Gender.unique()"
   ]
  },
  {
   "cell_type": "markdown",
   "metadata": {},
   "source": [
    "Gender \n",
    "- 2 уникальных значения, для кодирования используем метод OHE / ordinal encoding."
   ]
  },
  {
   "cell_type": "code",
   "execution_count": 12,
   "metadata": {},
   "outputs": [
    {
     "data": {
      "text/html": [
       "<div>\n",
       "<style scoped>\n",
       "    .dataframe tbody tr th:only-of-type {\n",
       "        vertical-align: middle;\n",
       "    }\n",
       "\n",
       "    .dataframe tbody tr th {\n",
       "        vertical-align: top;\n",
       "    }\n",
       "\n",
       "    .dataframe thead th {\n",
       "        text-align: right;\n",
       "    }\n",
       "</style>\n",
       "<table border=\"1\" class=\"dataframe\">\n",
       "  <thead>\n",
       "    <tr style=\"text-align: right;\">\n",
       "      <th></th>\n",
       "      <th>CreditScore</th>\n",
       "      <th>Age</th>\n",
       "      <th>Tenure</th>\n",
       "      <th>Balance</th>\n",
       "      <th>NumOfProducts</th>\n",
       "      <th>HasCrCard</th>\n",
       "      <th>IsActiveMember</th>\n",
       "      <th>EstimatedSalary</th>\n",
       "      <th>Exited</th>\n",
       "      <th>Geography_Germany</th>\n",
       "      <th>Geography_Spain</th>\n",
       "      <th>Gender_Male</th>\n",
       "    </tr>\n",
       "  </thead>\n",
       "  <tbody>\n",
       "    <tr>\n",
       "      <th>0</th>\n",
       "      <td>619</td>\n",
       "      <td>42</td>\n",
       "      <td>2.0</td>\n",
       "      <td>0.00</td>\n",
       "      <td>1</td>\n",
       "      <td>1</td>\n",
       "      <td>1</td>\n",
       "      <td>101348.88</td>\n",
       "      <td>1</td>\n",
       "      <td>0</td>\n",
       "      <td>0</td>\n",
       "      <td>0</td>\n",
       "    </tr>\n",
       "    <tr>\n",
       "      <th>1</th>\n",
       "      <td>608</td>\n",
       "      <td>41</td>\n",
       "      <td>1.0</td>\n",
       "      <td>83807.86</td>\n",
       "      <td>1</td>\n",
       "      <td>0</td>\n",
       "      <td>1</td>\n",
       "      <td>112542.58</td>\n",
       "      <td>0</td>\n",
       "      <td>0</td>\n",
       "      <td>1</td>\n",
       "      <td>0</td>\n",
       "    </tr>\n",
       "    <tr>\n",
       "      <th>2</th>\n",
       "      <td>502</td>\n",
       "      <td>42</td>\n",
       "      <td>8.0</td>\n",
       "      <td>159660.80</td>\n",
       "      <td>3</td>\n",
       "      <td>1</td>\n",
       "      <td>0</td>\n",
       "      <td>113931.57</td>\n",
       "      <td>1</td>\n",
       "      <td>0</td>\n",
       "      <td>0</td>\n",
       "      <td>0</td>\n",
       "    </tr>\n",
       "    <tr>\n",
       "      <th>3</th>\n",
       "      <td>699</td>\n",
       "      <td>39</td>\n",
       "      <td>1.0</td>\n",
       "      <td>0.00</td>\n",
       "      <td>2</td>\n",
       "      <td>0</td>\n",
       "      <td>0</td>\n",
       "      <td>93826.63</td>\n",
       "      <td>0</td>\n",
       "      <td>0</td>\n",
       "      <td>0</td>\n",
       "      <td>0</td>\n",
       "    </tr>\n",
       "    <tr>\n",
       "      <th>4</th>\n",
       "      <td>850</td>\n",
       "      <td>43</td>\n",
       "      <td>2.0</td>\n",
       "      <td>125510.82</td>\n",
       "      <td>1</td>\n",
       "      <td>1</td>\n",
       "      <td>1</td>\n",
       "      <td>79084.10</td>\n",
       "      <td>0</td>\n",
       "      <td>0</td>\n",
       "      <td>1</td>\n",
       "      <td>0</td>\n",
       "    </tr>\n",
       "  </tbody>\n",
       "</table>\n",
       "</div>"
      ],
      "text/plain": [
       "   CreditScore  Age  Tenure    Balance  NumOfProducts  HasCrCard  \\\n",
       "0          619   42     2.0       0.00              1          1   \n",
       "1          608   41     1.0   83807.86              1          0   \n",
       "2          502   42     8.0  159660.80              3          1   \n",
       "3          699   39     1.0       0.00              2          0   \n",
       "4          850   43     2.0  125510.82              1          1   \n",
       "\n",
       "   IsActiveMember  EstimatedSalary  Exited  Geography_Germany  \\\n",
       "0               1        101348.88       1                  0   \n",
       "1               1        112542.58       0                  0   \n",
       "2               0        113931.57       1                  0   \n",
       "3               0         93826.63       0                  0   \n",
       "4               1         79084.10       0                  0   \n",
       "\n",
       "   Geography_Spain  Gender_Male  \n",
       "0                0            0  \n",
       "1                1            0  \n",
       "2                0            0  \n",
       "3                0            0  \n",
       "4                1            0  "
      ]
     },
     "execution_count": 12,
     "metadata": {},
     "output_type": "execute_result"
    }
   ],
   "source": [
    "df = pd.get_dummies(df, drop_first=True)\n",
    "df.head()"
   ]
  },
  {
   "cell_type": "markdown",
   "metadata": {},
   "source": [
    "В преобразованном датафрейме кол-во столбцов увеличелось на 1.Столбец Geography содержал 3 класса, Gender_Male 2 класса — в результате мы получили только 2 и 1 столбцов соответственно, что позволяет избежать дами-ловушки использованием drop_first=True."
   ]
  },
  {
   "cell_type": "markdown",
   "metadata": {},
   "source": [
    "Теперь делим исходные данные на тренировочную, валидационную и тестовую выборки в соотношении 60/20/20"
   ]
  },
  {
   "cell_type": "code",
   "execution_count": 13,
   "metadata": {},
   "outputs": [],
   "source": [
    "features = df.drop([\"Exited\"], axis=1) # извлекаем признаки \n",
    "target = df[\"Exited\"] # извлекаем целевой признак\n",
    "\n",
    "#делим исходный датасет на обучающую и тестовую выборки в соотнощении 0.8/0.2\n",
    "features_train, features_test, target_train, target_test = \\\n",
    "        train_test_split(features,target,train_size=0.8,random_state=12345, stratify=target)\n",
    "\n",
    "#от обучающей выборки отделяем валидационную выборку в соотнbошении 0.25\n",
    "features_train, features_valid, target_train, target_valid = \\\n",
    "        train_test_split(features_train,target_train,train_size=0.75,random_state=12345,stratify=target_train)\n"
   ]
  },
  {
   "cell_type": "markdown",
   "metadata": {},
   "source": [
    "Проверяем размер выборок после разделения"
   ]
  },
  {
   "cell_type": "code",
   "execution_count": 14,
   "metadata": {},
   "outputs": [
    {
     "data": {
      "text/plain": [
       "'Размер обучающей выборки'"
      ]
     },
     "metadata": {},
     "output_type": "display_data"
    },
    {
     "data": {
      "text/plain": [
       "(6000, 11)"
      ]
     },
     "metadata": {},
     "output_type": "display_data"
    },
    {
     "data": {
      "text/plain": [
       "(6000,)"
      ]
     },
     "metadata": {},
     "output_type": "display_data"
    },
    {
     "data": {
      "text/plain": [
       "'Размер валидационной выборки'"
      ]
     },
     "metadata": {},
     "output_type": "display_data"
    },
    {
     "data": {
      "text/plain": [
       "(2000, 11)"
      ]
     },
     "metadata": {},
     "output_type": "display_data"
    },
    {
     "data": {
      "text/plain": [
       "(2000,)"
      ]
     },
     "metadata": {},
     "output_type": "display_data"
    },
    {
     "data": {
      "text/plain": [
       "'Размер тестовой выборки'"
      ]
     },
     "metadata": {},
     "output_type": "display_data"
    },
    {
     "data": {
      "text/plain": [
       "(2000, 11)"
      ]
     },
     "metadata": {},
     "output_type": "display_data"
    },
    {
     "data": {
      "text/plain": [
       "(2000,)"
      ]
     },
     "metadata": {},
     "output_type": "display_data"
    }
   ],
   "source": [
    "display(\"Размер обучающей выборки\")\n",
    "display(features_train.shape)\n",
    "display(target_train.shape)\n",
    "display(\"Размер валидационной выборки\")\n",
    "display(features_valid.shape)\n",
    "display(target_valid.shape)\n",
    "display(\"Размер тестовой выборки\")\n",
    "display(features_test.shape)\n",
    "display(target_test.shape)"
   ]
  },
  {
   "cell_type": "markdown",
   "metadata": {},
   "source": [
    "Заполненил пропущенные значения в столбце Tenure во всех выборках на медианное значение по столбцу Tenure в трейн выборке с помощью класса scikit-learn, который мы можем использовать для обработки недостающих значений в данных. С помощью этого класса мы можем заменить значения NaN(отсутствующие значения) в наборе данных трейн, валид и тест выборок медианой из трейн выборки.\n"
   ]
  },
  {
   "cell_type": "code",
   "execution_count": 15,
   "metadata": {},
   "outputs": [],
   "source": [
    "imp = SimpleImputer(missing_values=np.nan, strategy='median')\n",
    "imp = imp.fit(features_train[['Tenure']])\n",
    "\n",
    "features_train[['Tenure']] = imp.transform(features_train[['Tenure']]) \n",
    "features_valid[['Tenure']] = imp.transform(features_valid[['Tenure']])\n",
    "features_test[['Tenure']] = imp.transform(features_test[['Tenure']])\n"
   ]
  },
  {
   "cell_type": "markdown",
   "metadata": {},
   "source": [
    "Проверяем выборки на пропущенные значения после обработки"
   ]
  },
  {
   "cell_type": "code",
   "execution_count": 16,
   "metadata": {},
   "outputs": [
    {
     "name": "stdout",
     "output_type": "stream",
     "text": [
      "<class 'pandas.core.frame.DataFrame'>\n",
      "Int64Index: 6000 entries, 5536 to 8193\n",
      "Data columns (total 11 columns):\n",
      " #   Column             Non-Null Count  Dtype  \n",
      "---  ------             --------------  -----  \n",
      " 0   CreditScore        6000 non-null   int64  \n",
      " 1   Age                6000 non-null   int64  \n",
      " 2   Tenure             6000 non-null   float64\n",
      " 3   Balance            6000 non-null   float64\n",
      " 4   NumOfProducts      6000 non-null   int64  \n",
      " 5   HasCrCard          6000 non-null   int64  \n",
      " 6   IsActiveMember     6000 non-null   int64  \n",
      " 7   EstimatedSalary    6000 non-null   float64\n",
      " 8   Geography_Germany  6000 non-null   uint8  \n",
      " 9   Geography_Spain    6000 non-null   uint8  \n",
      " 10  Gender_Male        6000 non-null   uint8  \n",
      "dtypes: float64(3), int64(5), uint8(3)\n",
      "memory usage: 439.5 KB\n"
     ]
    }
   ],
   "source": [
    "features_train.info()"
   ]
  },
  {
   "cell_type": "code",
   "execution_count": 17,
   "metadata": {},
   "outputs": [
    {
     "name": "stdout",
     "output_type": "stream",
     "text": [
      "<class 'pandas.core.frame.DataFrame'>\n",
      "Int64Index: 2000 entries, 9375 to 1674\n",
      "Data columns (total 11 columns):\n",
      " #   Column             Non-Null Count  Dtype  \n",
      "---  ------             --------------  -----  \n",
      " 0   CreditScore        2000 non-null   int64  \n",
      " 1   Age                2000 non-null   int64  \n",
      " 2   Tenure             2000 non-null   float64\n",
      " 3   Balance            2000 non-null   float64\n",
      " 4   NumOfProducts      2000 non-null   int64  \n",
      " 5   HasCrCard          2000 non-null   int64  \n",
      " 6   IsActiveMember     2000 non-null   int64  \n",
      " 7   EstimatedSalary    2000 non-null   float64\n",
      " 8   Geography_Germany  2000 non-null   uint8  \n",
      " 9   Geography_Spain    2000 non-null   uint8  \n",
      " 10  Gender_Male        2000 non-null   uint8  \n",
      "dtypes: float64(3), int64(5), uint8(3)\n",
      "memory usage: 146.5 KB\n"
     ]
    }
   ],
   "source": [
    "features_valid.info()"
   ]
  },
  {
   "cell_type": "code",
   "execution_count": 18,
   "metadata": {},
   "outputs": [
    {
     "name": "stdout",
     "output_type": "stream",
     "text": [
      "<class 'pandas.core.frame.DataFrame'>\n",
      "Int64Index: 2000 entries, 7837 to 1729\n",
      "Data columns (total 11 columns):\n",
      " #   Column             Non-Null Count  Dtype  \n",
      "---  ------             --------------  -----  \n",
      " 0   CreditScore        2000 non-null   int64  \n",
      " 1   Age                2000 non-null   int64  \n",
      " 2   Tenure             2000 non-null   float64\n",
      " 3   Balance            2000 non-null   float64\n",
      " 4   NumOfProducts      2000 non-null   int64  \n",
      " 5   HasCrCard          2000 non-null   int64  \n",
      " 6   IsActiveMember     2000 non-null   int64  \n",
      " 7   EstimatedSalary    2000 non-null   float64\n",
      " 8   Geography_Germany  2000 non-null   uint8  \n",
      " 9   Geography_Spain    2000 non-null   uint8  \n",
      " 10  Gender_Male        2000 non-null   uint8  \n",
      "dtypes: float64(3), int64(5), uint8(3)\n",
      "memory usage: 146.5 KB\n"
     ]
    }
   ],
   "source": [
    "features_test.info()"
   ]
  },
  {
   "cell_type": "markdown",
   "metadata": {},
   "source": [
    "Производим масштабирование "
   ]
  },
  {
   "cell_type": "code",
   "execution_count": 19,
   "metadata": {},
   "outputs": [
    {
     "data": {
      "text/plain": [
       "StandardScaler()"
      ]
     },
     "execution_count": 19,
     "metadata": {},
     "output_type": "execute_result"
    }
   ],
   "source": [
    "# числовые признаки, подлежащие масштабированию\n",
    "numeric = ['CreditScore', 'Age', 'Tenure', 'Balance', 'NumOfProducts', 'EstimatedSalary']\n",
    "\n",
    "scaler = StandardScaler()\n",
    "scaler.fit(features_train[numeric])"
   ]
  },
  {
   "cell_type": "code",
   "execution_count": 20,
   "metadata": {},
   "outputs": [
    {
     "data": {
      "text/html": [
       "<div>\n",
       "<style scoped>\n",
       "    .dataframe tbody tr th:only-of-type {\n",
       "        vertical-align: middle;\n",
       "    }\n",
       "\n",
       "    .dataframe tbody tr th {\n",
       "        vertical-align: top;\n",
       "    }\n",
       "\n",
       "    .dataframe thead th {\n",
       "        text-align: right;\n",
       "    }\n",
       "</style>\n",
       "<table border=\"1\" class=\"dataframe\">\n",
       "  <thead>\n",
       "    <tr style=\"text-align: right;\">\n",
       "      <th></th>\n",
       "      <th>CreditScore</th>\n",
       "      <th>Age</th>\n",
       "      <th>Tenure</th>\n",
       "      <th>Balance</th>\n",
       "      <th>NumOfProducts</th>\n",
       "      <th>HasCrCard</th>\n",
       "      <th>IsActiveMember</th>\n",
       "      <th>EstimatedSalary</th>\n",
       "      <th>Geography_Germany</th>\n",
       "      <th>Geography_Spain</th>\n",
       "      <th>Gender_Male</th>\n",
       "    </tr>\n",
       "  </thead>\n",
       "  <tbody>\n",
       "    <tr>\n",
       "      <th>5536</th>\n",
       "      <td>-0.143332</td>\n",
       "      <td>0.577533</td>\n",
       "      <td>-0.001274</td>\n",
       "      <td>-1.220573</td>\n",
       "      <td>0.797767</td>\n",
       "      <td>1</td>\n",
       "      <td>1</td>\n",
       "      <td>1.029613</td>\n",
       "      <td>0</td>\n",
       "      <td>1</td>\n",
       "      <td>1</td>\n",
       "    </tr>\n",
       "    <tr>\n",
       "      <th>8530</th>\n",
       "      <td>1.632702</td>\n",
       "      <td>-0.564119</td>\n",
       "      <td>-1.092954</td>\n",
       "      <td>0.435807</td>\n",
       "      <td>-0.916018</td>\n",
       "      <td>1</td>\n",
       "      <td>0</td>\n",
       "      <td>0.237986</td>\n",
       "      <td>0</td>\n",
       "      <td>0</td>\n",
       "      <td>0</td>\n",
       "    </tr>\n",
       "    <tr>\n",
       "      <th>1762</th>\n",
       "      <td>1.116413</td>\n",
       "      <td>-0.468981</td>\n",
       "      <td>-1.456847</td>\n",
       "      <td>1.245822</td>\n",
       "      <td>-0.916018</td>\n",
       "      <td>1</td>\n",
       "      <td>1</td>\n",
       "      <td>-0.686104</td>\n",
       "      <td>0</td>\n",
       "      <td>0</td>\n",
       "      <td>0</td>\n",
       "    </tr>\n",
       "    <tr>\n",
       "      <th>9090</th>\n",
       "      <td>1.643028</td>\n",
       "      <td>0.006707</td>\n",
       "      <td>-0.001274</td>\n",
       "      <td>-1.220573</td>\n",
       "      <td>-0.916018</td>\n",
       "      <td>1</td>\n",
       "      <td>0</td>\n",
       "      <td>-0.391097</td>\n",
       "      <td>0</td>\n",
       "      <td>0</td>\n",
       "      <td>0</td>\n",
       "    </tr>\n",
       "    <tr>\n",
       "      <th>8777</th>\n",
       "      <td>-0.484083</td>\n",
       "      <td>-1.420358</td>\n",
       "      <td>-1.456847</td>\n",
       "      <td>1.421989</td>\n",
       "      <td>0.797767</td>\n",
       "      <td>1</td>\n",
       "      <td>0</td>\n",
       "      <td>-1.361559</td>\n",
       "      <td>0</td>\n",
       "      <td>1</td>\n",
       "      <td>1</td>\n",
       "    </tr>\n",
       "  </tbody>\n",
       "</table>\n",
       "</div>"
      ],
      "text/plain": [
       "      CreditScore       Age    Tenure   Balance  NumOfProducts  HasCrCard  \\\n",
       "5536    -0.143332  0.577533 -0.001274 -1.220573       0.797767          1   \n",
       "8530     1.632702 -0.564119 -1.092954  0.435807      -0.916018          1   \n",
       "1762     1.116413 -0.468981 -1.456847  1.245822      -0.916018          1   \n",
       "9090     1.643028  0.006707 -0.001274 -1.220573      -0.916018          1   \n",
       "8777    -0.484083 -1.420358 -1.456847  1.421989       0.797767          1   \n",
       "\n",
       "      IsActiveMember  EstimatedSalary  Geography_Germany  Geography_Spain  \\\n",
       "5536               1         1.029613                  0                1   \n",
       "8530               0         0.237986                  0                0   \n",
       "1762               1        -0.686104                  0                0   \n",
       "9090               0        -0.391097                  0                0   \n",
       "8777               0        -1.361559                  0                1   \n",
       "\n",
       "      Gender_Male  \n",
       "5536            1  \n",
       "8530            0  \n",
       "1762            0  \n",
       "9090            0  \n",
       "8777            1  "
      ]
     },
     "execution_count": 20,
     "metadata": {},
     "output_type": "execute_result"
    }
   ],
   "source": [
    "#Масштабируем численные признаки Обучающей выборки \n",
    "features_train[numeric] = scaler.transform(features_train[numeric])\n",
    "features_train.head()\n"
   ]
  },
  {
   "cell_type": "code",
   "execution_count": 21,
   "metadata": {},
   "outputs": [
    {
     "data": {
      "text/html": [
       "<div>\n",
       "<style scoped>\n",
       "    .dataframe tbody tr th:only-of-type {\n",
       "        vertical-align: middle;\n",
       "    }\n",
       "\n",
       "    .dataframe tbody tr th {\n",
       "        vertical-align: top;\n",
       "    }\n",
       "\n",
       "    .dataframe thead th {\n",
       "        text-align: right;\n",
       "    }\n",
       "</style>\n",
       "<table border=\"1\" class=\"dataframe\">\n",
       "  <thead>\n",
       "    <tr style=\"text-align: right;\">\n",
       "      <th></th>\n",
       "      <th>CreditScore</th>\n",
       "      <th>Age</th>\n",
       "      <th>Tenure</th>\n",
       "      <th>Balance</th>\n",
       "      <th>NumOfProducts</th>\n",
       "      <th>HasCrCard</th>\n",
       "      <th>IsActiveMember</th>\n",
       "      <th>EstimatedSalary</th>\n",
       "      <th>Geography_Germany</th>\n",
       "      <th>Geography_Spain</th>\n",
       "      <th>Gender_Male</th>\n",
       "    </tr>\n",
       "  </thead>\n",
       "  <tbody>\n",
       "    <tr>\n",
       "      <th>9375</th>\n",
       "      <td>0.094161</td>\n",
       "      <td>0.862946</td>\n",
       "      <td>-0.365167</td>\n",
       "      <td>0.757050</td>\n",
       "      <td>0.797767</td>\n",
       "      <td>1</td>\n",
       "      <td>0</td>\n",
       "      <td>-0.308325</td>\n",
       "      <td>1</td>\n",
       "      <td>0</td>\n",
       "      <td>1</td>\n",
       "    </tr>\n",
       "    <tr>\n",
       "      <th>9536</th>\n",
       "      <td>-1.031349</td>\n",
       "      <td>0.292120</td>\n",
       "      <td>1.818193</td>\n",
       "      <td>0.838881</td>\n",
       "      <td>-0.916018</td>\n",
       "      <td>1</td>\n",
       "      <td>0</td>\n",
       "      <td>-0.645029</td>\n",
       "      <td>1</td>\n",
       "      <td>0</td>\n",
       "      <td>0</td>\n",
       "    </tr>\n",
       "    <tr>\n",
       "      <th>6344</th>\n",
       "      <td>2.066384</td>\n",
       "      <td>0.196983</td>\n",
       "      <td>-0.729060</td>\n",
       "      <td>-1.220573</td>\n",
       "      <td>0.797767</td>\n",
       "      <td>1</td>\n",
       "      <td>0</td>\n",
       "      <td>0.498373</td>\n",
       "      <td>0</td>\n",
       "      <td>0</td>\n",
       "      <td>1</td>\n",
       "    </tr>\n",
       "    <tr>\n",
       "      <th>4357</th>\n",
       "      <td>1.085435</td>\n",
       "      <td>-0.278706</td>\n",
       "      <td>1.090407</td>\n",
       "      <td>-1.220573</td>\n",
       "      <td>0.797767</td>\n",
       "      <td>1</td>\n",
       "      <td>0</td>\n",
       "      <td>1.331035</td>\n",
       "      <td>0</td>\n",
       "      <td>0</td>\n",
       "      <td>1</td>\n",
       "    </tr>\n",
       "    <tr>\n",
       "      <th>9120</th>\n",
       "      <td>0.548495</td>\n",
       "      <td>1.814323</td>\n",
       "      <td>-0.365167</td>\n",
       "      <td>0.266421</td>\n",
       "      <td>-0.916018</td>\n",
       "      <td>0</td>\n",
       "      <td>1</td>\n",
       "      <td>-0.261760</td>\n",
       "      <td>0</td>\n",
       "      <td>1</td>\n",
       "      <td>1</td>\n",
       "    </tr>\n",
       "  </tbody>\n",
       "</table>\n",
       "</div>"
      ],
      "text/plain": [
       "      CreditScore       Age    Tenure   Balance  NumOfProducts  HasCrCard  \\\n",
       "9375     0.094161  0.862946 -0.365167  0.757050       0.797767          1   \n",
       "9536    -1.031349  0.292120  1.818193  0.838881      -0.916018          1   \n",
       "6344     2.066384  0.196983 -0.729060 -1.220573       0.797767          1   \n",
       "4357     1.085435 -0.278706  1.090407 -1.220573       0.797767          1   \n",
       "9120     0.548495  1.814323 -0.365167  0.266421      -0.916018          0   \n",
       "\n",
       "      IsActiveMember  EstimatedSalary  Geography_Germany  Geography_Spain  \\\n",
       "9375               0        -0.308325                  1                0   \n",
       "9536               0        -0.645029                  1                0   \n",
       "6344               0         0.498373                  0                0   \n",
       "4357               0         1.331035                  0                0   \n",
       "9120               1        -0.261760                  0                1   \n",
       "\n",
       "      Gender_Male  \n",
       "9375            1  \n",
       "9536            0  \n",
       "6344            1  \n",
       "4357            1  \n",
       "9120            1  "
      ]
     },
     "execution_count": 21,
     "metadata": {},
     "output_type": "execute_result"
    }
   ],
   "source": [
    "#Масштабируем численные признаки валидационной выборки \n",
    "features_valid[numeric] = scaler.transform(features_valid[numeric])\n",
    "features_valid.head()"
   ]
  },
  {
   "cell_type": "code",
   "execution_count": 22,
   "metadata": {},
   "outputs": [
    {
     "data": {
      "text/html": [
       "<div>\n",
       "<style scoped>\n",
       "    .dataframe tbody tr th:only-of-type {\n",
       "        vertical-align: middle;\n",
       "    }\n",
       "\n",
       "    .dataframe tbody tr th {\n",
       "        vertical-align: top;\n",
       "    }\n",
       "\n",
       "    .dataframe thead th {\n",
       "        text-align: right;\n",
       "    }\n",
       "</style>\n",
       "<table border=\"1\" class=\"dataframe\">\n",
       "  <thead>\n",
       "    <tr style=\"text-align: right;\">\n",
       "      <th></th>\n",
       "      <th>CreditScore</th>\n",
       "      <th>Age</th>\n",
       "      <th>Tenure</th>\n",
       "      <th>Balance</th>\n",
       "      <th>NumOfProducts</th>\n",
       "      <th>HasCrCard</th>\n",
       "      <th>IsActiveMember</th>\n",
       "      <th>EstimatedSalary</th>\n",
       "      <th>Geography_Germany</th>\n",
       "      <th>Geography_Spain</th>\n",
       "      <th>Gender_Male</th>\n",
       "    </tr>\n",
       "  </thead>\n",
       "  <tbody>\n",
       "    <tr>\n",
       "      <th>7837</th>\n",
       "      <td>2.066384</td>\n",
       "      <td>0.862946</td>\n",
       "      <td>-1.092954</td>\n",
       "      <td>-1.220573</td>\n",
       "      <td>-0.916018</td>\n",
       "      <td>1</td>\n",
       "      <td>0</td>\n",
       "      <td>1.202714</td>\n",
       "      <td>0</td>\n",
       "      <td>1</td>\n",
       "      <td>1</td>\n",
       "    </tr>\n",
       "    <tr>\n",
       "      <th>9505</th>\n",
       "      <td>0.011555</td>\n",
       "      <td>-1.039807</td>\n",
       "      <td>1.818193</td>\n",
       "      <td>0.052520</td>\n",
       "      <td>-0.916018</td>\n",
       "      <td>1</td>\n",
       "      <td>1</td>\n",
       "      <td>-0.443548</td>\n",
       "      <td>0</td>\n",
       "      <td>0</td>\n",
       "      <td>1</td>\n",
       "    </tr>\n",
       "    <tr>\n",
       "      <th>6208</th>\n",
       "      <td>0.662079</td>\n",
       "      <td>-0.468981</td>\n",
       "      <td>1.818193</td>\n",
       "      <td>-1.220573</td>\n",
       "      <td>0.797767</td>\n",
       "      <td>1</td>\n",
       "      <td>1</td>\n",
       "      <td>-0.347161</td>\n",
       "      <td>0</td>\n",
       "      <td>0</td>\n",
       "      <td>1</td>\n",
       "    </tr>\n",
       "    <tr>\n",
       "      <th>5642</th>\n",
       "      <td>1.364231</td>\n",
       "      <td>0.196983</td>\n",
       "      <td>-0.365167</td>\n",
       "      <td>-1.220573</td>\n",
       "      <td>-0.916018</td>\n",
       "      <td>1</td>\n",
       "      <td>0</td>\n",
       "      <td>0.568776</td>\n",
       "      <td>0</td>\n",
       "      <td>1</td>\n",
       "      <td>0</td>\n",
       "    </tr>\n",
       "    <tr>\n",
       "      <th>9643</th>\n",
       "      <td>-1.330797</td>\n",
       "      <td>0.196983</td>\n",
       "      <td>-1.092954</td>\n",
       "      <td>-1.220573</td>\n",
       "      <td>0.797767</td>\n",
       "      <td>1</td>\n",
       "      <td>1</td>\n",
       "      <td>0.223765</td>\n",
       "      <td>0</td>\n",
       "      <td>0</td>\n",
       "      <td>0</td>\n",
       "    </tr>\n",
       "  </tbody>\n",
       "</table>\n",
       "</div>"
      ],
      "text/plain": [
       "      CreditScore       Age    Tenure   Balance  NumOfProducts  HasCrCard  \\\n",
       "7837     2.066384  0.862946 -1.092954 -1.220573      -0.916018          1   \n",
       "9505     0.011555 -1.039807  1.818193  0.052520      -0.916018          1   \n",
       "6208     0.662079 -0.468981  1.818193 -1.220573       0.797767          1   \n",
       "5642     1.364231  0.196983 -0.365167 -1.220573      -0.916018          1   \n",
       "9643    -1.330797  0.196983 -1.092954 -1.220573       0.797767          1   \n",
       "\n",
       "      IsActiveMember  EstimatedSalary  Geography_Germany  Geography_Spain  \\\n",
       "7837               0         1.202714                  0                1   \n",
       "9505               1        -0.443548                  0                0   \n",
       "6208               1        -0.347161                  0                0   \n",
       "5642               0         0.568776                  0                1   \n",
       "9643               1         0.223765                  0                0   \n",
       "\n",
       "      Gender_Male  \n",
       "7837            1  \n",
       "9505            1  \n",
       "6208            1  \n",
       "5642            0  \n",
       "9643            0  "
      ]
     },
     "execution_count": 22,
     "metadata": {},
     "output_type": "execute_result"
    }
   ],
   "source": [
    "#Масштабируем численные признаки тестовой выборки \n",
    "features_test[numeric] = scaler.transform(features_test[numeric])\n",
    "features_test.head()"
   ]
  },
  {
   "cell_type": "markdown",
   "metadata": {},
   "source": [
    "## Исследование задачи"
   ]
  },
  {
   "cell_type": "markdown",
   "metadata": {},
   "source": [
    "Теперь, когда данные подготовлены, выборки определены, можно обучить несколько моделей и посмотреть их качественные характеристики, чтобы понять, что делать дальше. Выбрал модели Decision Tree, Random Forest и Logistic Regression."
   ]
  },
  {
   "cell_type": "markdown",
   "metadata": {},
   "source": [
    "Для начала посмотрел на сбалансированность целевого признака."
   ]
  },
  {
   "cell_type": "code",
   "execution_count": 23,
   "metadata": {},
   "outputs": [
    {
     "data": {
      "image/png": "[encoded data removed]",
      "text/plain": [
       "<Figure size 432x288 with 1 Axes>"
      ]
     },
     "metadata": {
      "needs_background": "light"
     },
     "output_type": "display_data"
    },
    {
     "name": "stdout",
     "output_type": "stream",
     "text": [
      "(1223,)\n",
      "0.2\n",
      "(4777,)\n",
      "0.8\n"
     ]
    }
   ],
   "source": [
    "sns.countplot(df['Exited'])\n",
    "plt.title(\"График сбалансированности целевого признака\")\n",
    "plt.show() \n",
    "\n",
    "yes= target_train [target_train ==1] \n",
    "no=target_train[target_train==0]\n",
    "print(yes.shape) \n",
    "print(round(len(yes) / len(target_train), 2))\n",
    "print(no.shape)\n",
    "print(round(len(no) / len(target_train), 2))\n"
   ]
  },
  {
   "cell_type": "markdown",
   "metadata": {},
   "source": [
    "Вывод:\n",
    " - в тренировочной выборке отрицательны значений  80% , положитительных 20%. Целевой признак не сбалансирован."
   ]
  },
  {
   "cell_type": "markdown",
   "metadata": {},
   "source": [
    "Создал процедуру, которая будет показывать все основные метрики качества моделей посредством отчета о  класификации и матрицу ошибок,будет считать метрику ROC-AUC score, которая нам покажет истинную и постоянную способность модели к прогнозированию."
   ]
  },
  {
   "cell_type": "code",
   "execution_count": 24,
   "metadata": {},
   "outputs": [],
   "source": [
    "def conf_m(model,target,features,prediction):\n",
    "    report = classification_report(target,prediction)\n",
    "    print(report)\n",
    "\n",
    "    probabilities = model.predict_proba(features)\n",
    "    probabilities_one = probabilities[:, 1]\n",
    "    print(\"ROC-AUC_log:\", roc_auc_score(target, probabilities_one))\n",
    "    print()\n",
    "\n",
    "    print(\"confusion_matrix\")\n",
    "    print(confusion_matrix(target,prediction))\n",
    "\n",
    "    cm = confusion_matrix(target,prediction)\n",
    "    ConfusionMatrixDisplay(cm).plot();\n",
    "    plt.title(\"Матрица ошибок\");\n",
    "    \n",
    "   "
   ]
  },
  {
   "cell_type": "markdown",
   "metadata": {},
   "source": [
    "<font size=\"3\"><b>Desigion Tree при исследовании на поиск лучших гиперпараметров</b></font>"
   ]
  },
  {
   "cell_type": "markdown",
   "metadata": {},
   "source": [
    "На начальном этапе исследования дерева решений на валидационной выборке посмотрел, как на точность модели влияет гиперпараметр глубина дерева при значении всех остальных гиперпараметров \"по умолчанию\". Обработку организовал с помощью цикла, увеличивая на каждой итерации глубину дерева."
   ]
  },
  {
   "cell_type": "code",
   "execution_count": 25,
   "metadata": {},
   "outputs": [
    {
     "name": "stdout",
     "output_type": "stream",
     "text": [
      "max_depth = 1 : 0.7965\n",
      "max_depth = 2 : 0.836\n",
      "max_depth = 3 : 0.836\n",
      "max_depth = 4 : 0.8495\n",
      "max_depth = 5 : 0.8495\n",
      "max_depth = 6 : 0.855\n",
      "max_depth = 7 : 0.8555\n",
      "max_depth = 8 : 0.8555\n",
      "max_depth = 9 : 0.8555\n",
      "max_depth = 10 : 0.8555\n",
      "max_depth = 11 : 0.8555\n",
      "max_depth = 12 : 0.8555\n",
      "max_depth = 13 : 0.8555\n",
      "max_depth = 14 : 0.8555\n",
      "max_depth = 15 : 0.8555\n",
      "max_depth = 16 : 0.8555\n",
      "max_depth = 17 : 0.8555\n",
      "max_depth = 18 : 0.8555\n",
      "max_depth = 19 : 0.8555\n",
      "max_depth = 20 : 0.8555\n",
      "max_depth = 21 : 0.8555\n",
      "max_depth = 22 : 0.8555\n",
      "max_depth = 23 : 0.8555\n",
      "max_depth = 24 : 0.8555\n",
      "max_depth = 25 : 0.8555\n",
      "max_depth = 26 : 0.8555\n",
      "max_depth = 27 : 0.8555\n",
      "max_depth = 28 : 0.8555\n",
      "max_depth = 29 : 0.8555\n",
      "max_depth = 30 : 0.8555\n",
      "Accuracy лучшей модели: 0.8555\n",
      "Depth лучшей модели: 7\n",
      "CPU times: user 1.05 s, sys: 2.28 ms, total: 1.05 s\n",
      "Wall time: 1.06 s\n"
     ]
    }
   ],
   "source": [
    "%%time\n",
    "\n",
    "model_DT = None\n",
    "best_result_dtc = 0\n",
    "\n",
    "train_acc = []#список метрик accuracy на тренировке\n",
    "valid_acc = []#список метрик accuracy на валидации\n",
    "\n",
    "for depth in range(1, 31):\n",
    "    model = DecisionTreeClassifier(class_weight=None, criterion='gini', max_depth=depth,\\\n",
    "            max_features=None, max_leaf_nodes=None,\\\n",
    "            min_impurity_decrease=0.0, min_impurity_split=None,\\\n",
    "            min_samples_leaf=1, min_samples_split=2,\\\n",
    "            min_weight_fraction_leaf=0.0,random_state=12345,\\\n",
    "            splitter='best')\n",
    "    # обучиv модель с заданной глубиной дерева\n",
    "    model.fit(features_train,target_train) # обучаем модель\n",
    "    train_acc.append(model.score(features_train, target_train))#собираем метрику accuracy в список на тренировке     \n",
    "    predictions = model.predict(features_valid) # получаем предсказания модели    \n",
    "    result = accuracy_score(target_valid, predictions) # считаем качество модели\n",
    "    valid_acc.append(result) #собираем метрику accuracy в список на валидации\n",
    "    if result > best_result_dtc: #находим лучший результат\n",
    "        model_DT = model\n",
    "        best_depth_dtc = depth\n",
    "        best_result_dtc = result\n",
    "    print(f\"max_depth = {depth} :\", best_result_dtc)\n",
    "\n",
    "print(\"Accuracy лучшей модели:\", best_result_dtc)\n",
    "print(\"Depth лучшей модели:\", best_depth_dtc)"
   ]
  },
  {
   "cell_type": "code",
   "execution_count": 26,
   "metadata": {},
   "outputs": [
    {
     "name": "stdout",
     "output_type": "stream",
     "text": [
      "              precision    recall  f1-score   support\n",
      "\n",
      "           0       0.87      0.86      0.87      1593\n",
      "           1       0.48      0.52      0.50       407\n",
      "\n",
      "    accuracy                           0.79      2000\n",
      "   macro avg       0.68      0.69      0.68      2000\n",
      "weighted avg       0.79      0.79      0.79      2000\n",
      "\n",
      "ROC-AUC_log: 0.8310575598711192\n",
      "\n",
      "confusion_matrix\n",
      "[[1367  226]\n",
      " [ 196  211]]\n"
     ]
    },
    {
     "data": {
      "image/png": "[encoded data removed]",
      "text/plain": [
       "<Figure size 432x288 with 2 Axes>"
      ]
     },
     "metadata": {
      "needs_background": "light"
     },
     "output_type": "display_data"
    }
   ],
   "source": [
    "conf_m(model_DT,target_valid,features_valid,predictions)"
   ]
  },
  {
   "cell_type": "markdown",
   "metadata": {},
   "source": [
    "Несмотря на высокое значение метрики accuracy(общая точность предсказания модели по всем классам), модель показала слабую метрику F1 (0.5),это значит, что модель идеально классифицирует каждое наблюдение в правильный класс всего лишь в 50% случаев. Точность определяет, как много отрицательных ответов нашла модель, пока искала положительные. Чем больше отрицательных, тем ниже точность. В нашем случае точность или, другими словами, процент доверия к решению модели, что выборка относится к классу Positive, составляет 48%. Полнота(recall) которая выявляет, какую долю положительных среди всех ответов выделила модель низкая (0.52). Хорошо, когда значение recall близко к единице: модель хорошо ищет положительные объекты.Если ближе к нулю — модель надо перепроверить и починить."
   ]
  },
  {
   "cell_type": "markdown",
   "metadata": {},
   "source": [
    "<font size=\"3\"><b>Random Forest при исследовании на поиск лучших гиперпараметров</b></font>"
   ]
  },
  {
   "cell_type": "markdown",
   "metadata": {},
   "source": [
    "На начальном этапе исследования задачи посмотрел модель случайного дерева решений на тренировочной выборке через кросс валидацию. Чтобы получить более оптимальные гиперпараметры тренировочную выборку увеличил на обьем валидационной. "
   ]
  },
  {
   "cell_type": "code",
   "execution_count": 27,
   "metadata": {},
   "outputs": [
    {
     "name": "stdout",
     "output_type": "stream",
     "text": [
      "Best grid search hyperparameters are: {'max_depth': 10, 'max_features': 5, 'min_samples_leaf': 1, 'min_samples_split': 2, 'n_estimators': 40}\n",
      "\n",
      "Best grid search score is: 0.8652509021518596\n",
      "\n",
      "Best grid estimator is: RandomForestClassifier(max_depth=10, max_features=5, n_estimators=40,\n",
      "                       random_state=12345)\n",
      "CPU times: user 2min 1s, sys: 528 ms, total: 2min 2s\n",
      "Wall time: 2min 2s\n"
     ]
    }
   ],
   "source": [
    "%%time\n",
    "model_RF = RandomForestClassifier(random_state=12345)\n",
    "\n",
    "#делим исходный датасет на обучающую и тестовую выборки в соотнощении 0.8/0.2\n",
    "features_train_gs, features_test_gs, target_train_gs, target_test_gs = \\\n",
    "        train_test_split(features,target,train_size=0.8,random_state=12345)\n",
    "\n",
    "imp = SimpleImputer(missing_values=np.nan, strategy='median')\n",
    "imp = imp.fit(features_train_gs[['Tenure']])\n",
    "\n",
    "features_train_gs[['Tenure']] = imp.transform(features_train_gs[['Tenure']]) \n",
    "features_test_gs[['Tenure']] = imp.transform(features_test_gs[['Tenure']])\n",
    "\n",
    "# grid search cv\n",
    "grid_space={'max_depth':[3,5,10,None],\n",
    "              'n_estimators':[10,20,40],\n",
    "              'max_features':[1,3,5,7],\n",
    "              'min_samples_leaf':[1,2,3],\n",
    "              'min_samples_split':[1,2,3]\n",
    "           }\n",
    "\n",
    "grid = GridSearchCV(model_RF,param_grid=grid_space,cv=3,scoring='accuracy')\n",
    "model_grid = grid.fit(features_train_gs,target_train_gs)\n",
    "\n",
    "# grid search results\n",
    "print('Best grid search hyperparameters are: '+str(model_grid.best_params_))\n",
    "print()\n",
    "print('Best grid search score is: '+str(model_grid.best_score_))\n",
    "print()\n",
    "print('Best grid estimator is: '+str(model_grid.best_estimator_))\n"
   ]
  },
  {
   "cell_type": "code",
   "execution_count": 28,
   "metadata": {},
   "outputs": [],
   "source": [
    "RF_prediction = model_grid.best_estimator_.predict(features_test_gs)"
   ]
  },
  {
   "cell_type": "code",
   "execution_count": 29,
   "metadata": {},
   "outputs": [
    {
     "name": "stdout",
     "output_type": "stream",
     "text": [
      "              precision    recall  f1-score   support\n",
      "\n",
      "           0       0.86      0.97      0.91      1573\n",
      "           1       0.79      0.44      0.56       427\n",
      "\n",
      "    accuracy                           0.86      2000\n",
      "   macro avg       0.83      0.70      0.74      2000\n",
      "weighted avg       0.85      0.86      0.84      2000\n",
      "\n",
      "ROC-AUC_log: 0.8683924123566449\n",
      "\n",
      "confusion_matrix\n",
      "[[1524   49]\n",
      " [ 240  187]]\n"
     ]
    },
    {
     "data": {
      "image/png": "[encoded data removed]",
      "text/plain": [
       "<Figure size 432x288 with 2 Axes>"
      ]
     },
     "metadata": {
      "needs_background": "light"
     },
     "output_type": "display_data"
    }
   ],
   "source": [
    "conf_m(model_grid.best_estimator_,target_test_gs,features_test_gs,RF_prediction)"
   ]
  },
  {
   "cell_type": "markdown",
   "metadata": {},
   "source": [
    "Модель показала метрику F1 выше в случае с decision tree (0.56 против 0.50), это значит, что модель идеально классифицирует каждое наблюдение в правильный класс всего лишь в 56% случаев. а нам надо добиться показателя более 59%. ТОчность модели гораздо выше чем decision tree (79% против 48%). Полнота  ниже (44% против 52%)"
   ]
  },
  {
   "cell_type": "markdown",
   "metadata": {},
   "source": [
    "<font size=\"3\"><b>Logistic Regression при исследовании на поиск лучших гиперпараметров</b></font>"
   ]
  },
  {
   "cell_type": "code",
   "execution_count": 30,
   "metadata": {},
   "outputs": [],
   "source": [
    "model_LR = LogisticRegression(random_state=12345,solver = 'liblinear')\n",
    "model_LR.fit(features_train, target_train)\n",
    "LR_prediction = model_LR.predict(features_valid)\n"
   ]
  },
  {
   "cell_type": "code",
   "execution_count": 31,
   "metadata": {},
   "outputs": [
    {
     "name": "stdout",
     "output_type": "stream",
     "text": [
      "              precision    recall  f1-score   support\n",
      "\n",
      "           0       0.83      0.97      0.90      1593\n",
      "           1       0.67      0.21      0.32       407\n",
      "\n",
      "    accuracy                           0.82      2000\n",
      "   macro avg       0.75      0.59      0.61      2000\n",
      "weighted avg       0.80      0.82      0.78      2000\n",
      "\n",
      "ROC-AUC_log: 0.7875672282451943\n",
      "\n",
      "confusion_matrix\n",
      "[[1551   42]\n",
      " [ 321   86]]\n"
     ]
    },
    {
     "data": {
      "image/png": "[encoded data removed]",
      "text/plain": [
       "<Figure size 432x288 with 2 Axes>"
      ]
     },
     "metadata": {
      "needs_background": "light"
     },
     "output_type": "display_data"
    }
   ],
   "source": [
    "conf_m(model_LR,target_valid,features_valid,LR_prediction)"
   ]
  },
  {
   "cell_type": "markdown",
   "metadata": {},
   "source": [
    "Модель LOgistic Regression показала самый слабый результат. F1 score всего лишь 0.32. Точность 67% Полнота всего 21%"
   ]
  },
  {
   "cell_type": "markdown",
   "metadata": {},
   "source": [
    "Посмотрим как поведут себя наши модели при попытке изменить дисбаланс исходных данных."
   ]
  },
  {
   "cell_type": "markdown",
   "metadata": {},
   "source": [
    "## Борьба с дисбалансом"
   ]
  },
  {
   "cell_type": "markdown",
   "metadata": {},
   "source": [
    "Рассмотрим 3 метода борьбы с дисбалансом классов:\n",
    "\n",
    "- Взвешивание классов\n",
    "- Увеличение выборки (upsampling)\n",
    "- Уменьшение выборки (downsampling)"
   ]
  },
  {
   "cell_type": "markdown",
   "metadata": {},
   "source": [
    "<font size=\"5\"><b>Взвешивание классов</b></font>"
   ]
  },
  {
   "cell_type": "markdown",
   "metadata": {},
   "source": [
    "<font size=\"3\"><b>Desigion Tree при сбалансированности</b></font>"
   ]
  },
  {
   "cell_type": "code",
   "execution_count": 32,
   "metadata": {},
   "outputs": [],
   "source": [
    "model_DT = DecisionTreeClassifier(criterion='gini',max_depth=8,\\\n",
    "                                    max_features=None, max_leaf_nodes=None,\\\n",
    "                                    min_impurity_decrease=0.0, min_impurity_split=None,\\\n",
    "                                    min_samples_leaf=1, min_samples_split=2,\\\n",
    "                                    min_weight_fraction_leaf=0.0,random_state=12345,\\\n",
    "                                    splitter='best', class_weight='balanced')\n",
    "model_DT.fit(features_train, target_train)#обучаем\n",
    "DT_prediction = model_DT.predict(features_valid)#тренируем\n"
   ]
  },
  {
   "cell_type": "markdown",
   "metadata": {},
   "source": [
    "                   Desigion Tree ключевые метрики и матрица ошибок"
   ]
  },
  {
   "cell_type": "code",
   "execution_count": 33,
   "metadata": {},
   "outputs": [
    {
     "name": "stdout",
     "output_type": "stream",
     "text": [
      "              precision    recall  f1-score   support\n",
      "\n",
      "           0       0.92      0.76      0.83      1593\n",
      "           1       0.44      0.75      0.55       407\n",
      "\n",
      "    accuracy                           0.75      2000\n",
      "   macro avg       0.68      0.75      0.69      2000\n",
      "weighted avg       0.82      0.75      0.77      2000\n",
      "\n",
      "ROC-AUC_log: 0.7963595336476692\n",
      "\n",
      "confusion_matrix\n",
      "[[1203  390]\n",
      " [ 101  306]]\n"
     ]
    },
    {
     "data": {
      "image/png": "[encoded data removed]",
      "text/plain": [
       "<Figure size 432x288 with 2 Axes>"
      ]
     },
     "metadata": {
      "needs_background": "light"
     },
     "output_type": "display_data"
    }
   ],
   "source": [
    "conf_m(model_DT,target_valid,features_valid,DT_prediction)"
   ]
  },
  {
   "cell_type": "markdown",
   "metadata": {},
   "source": [
    "<font size=\"3\"><b>Random Forest при сбалансированности</b></font>"
   ]
  },
  {
   "cell_type": "code",
   "execution_count": 34,
   "metadata": {},
   "outputs": [],
   "source": [
    "model_RF = RandomForestClassifier(max_depth=10,\n",
    "                                  n_estimators=40,\n",
    "                                  min_samples_leaf=1,\n",
    "                                  random_state=12345,\n",
    "                                  class_weight='balanced')\n",
    "model_RF.fit(features_train, target_train)#обучаем\n",
    "RF_prediction = model_RF.predict(features_valid)#тренируем"
   ]
  },
  {
   "cell_type": "markdown",
   "metadata": {},
   "source": [
    "                   Random Forest ключевые метрики и матрица ошибок"
   ]
  },
  {
   "cell_type": "code",
   "execution_count": 35,
   "metadata": {},
   "outputs": [
    {
     "name": "stdout",
     "output_type": "stream",
     "text": [
      "              precision    recall  f1-score   support\n",
      "\n",
      "           0       0.91      0.90      0.91      1593\n",
      "           1       0.63      0.64      0.63       407\n",
      "\n",
      "    accuracy                           0.85      2000\n",
      "   macro avg       0.77      0.77      0.77      2000\n",
      "weighted avg       0.85      0.85      0.85      2000\n",
      "\n",
      "ROC-AUC_log: 0.8614454207674547\n",
      "\n",
      "confusion_matrix\n",
      "[[1438  155]\n",
      " [ 146  261]]\n"
     ]
    },
    {
     "data": {
      "image/png": "[encoded data removed]",
      "text/plain": [
       "<Figure size 432x288 with 2 Axes>"
      ]
     },
     "metadata": {
      "needs_background": "light"
     },
     "output_type": "display_data"
    }
   ],
   "source": [
    "conf_m(model_RF,target_valid,features_valid,RF_prediction)"
   ]
  },
  {
   "cell_type": "markdown",
   "metadata": {},
   "source": [
    "Добились метрики F1 (0.63) выше целевой"
   ]
  },
  {
   "cell_type": "markdown",
   "metadata": {},
   "source": [
    "<font size=\"3\"><b>Logistic Regression при сбалансированности</b></font>"
   ]
  },
  {
   "cell_type": "code",
   "execution_count": 36,
   "metadata": {},
   "outputs": [],
   "source": [
    "model_LR = LogisticRegression(random_state=12345,solver = 'liblinear',class_weight='balanced')\n",
    "model_LR.fit(features_train, target_train)#обучаем\n",
    "LR_prediction = model_LR.predict(features_valid)#тренируем\n"
   ]
  },
  {
   "cell_type": "markdown",
   "metadata": {},
   "source": [
    "                   Logistic Regression ключевые метрики и матрица ошибок"
   ]
  },
  {
   "cell_type": "code",
   "execution_count": 37,
   "metadata": {},
   "outputs": [
    {
     "name": "stdout",
     "output_type": "stream",
     "text": [
      "              precision    recall  f1-score   support\n",
      "\n",
      "           0       0.91      0.72      0.80      1593\n",
      "           1       0.40      0.72      0.51       407\n",
      "\n",
      "    accuracy                           0.72      2000\n",
      "   macro avg       0.65      0.72      0.66      2000\n",
      "weighted avg       0.81      0.72      0.74      2000\n",
      "\n",
      "ROC-AUC_log: 0.791802588412758\n",
      "\n",
      "confusion_matrix\n",
      "[[1144  449]\n",
      " [ 113  294]]\n"
     ]
    },
    {
     "data": {
      "image/png": "[encoded data removed]",
      "text/plain": [
       "<Figure size 432x288 with 2 Axes>"
      ]
     },
     "metadata": {
      "needs_background": "light"
     },
     "output_type": "display_data"
    }
   ],
   "source": [
    "conf_m(model_LR,target_valid,features_valid,LR_prediction)"
   ]
  },
  {
   "cell_type": "markdown",
   "metadata": {},
   "source": [
    "У линейной регресии  метрика F1 после балансировки классов тоже быросла (51% против 32%), такде значительно увеличилась полнота (72% против 21%), точность упала (40% против 67%)"
   ]
  },
  {
   "cell_type": "markdown",
   "metadata": {},
   "source": [
    "**Вывод:**\n",
    "- Лучшую метрику F1 после балансировки классов показала модель Random Forest (63%). \n",
    "- Decision Tree 55%\n",
    "- Logistic Regression 51%\n",
    "       "
   ]
  },
  {
   "cell_type": "markdown",
   "metadata": {},
   "source": [
    "<font size=\"5\"><b>Уменьшение выборки (downsampling)</b></font>             "
   ]
  },
  {
   "cell_type": "code",
   "execution_count": 38,
   "metadata": {},
   "outputs": [
    {
     "name": "stdout",
     "output_type": "stream",
     "text": [
      "(2417, 11)\n",
      "(2417,)\n"
     ]
    }
   ],
   "source": [
    "# уменьшим выборку в 4 раза, так как положительный класс больше отрицательного в 4 раза\n",
    "def downsample(features, target, fraction):\n",
    "    features_zeros = features[target == 0]\n",
    "    features_ones = features[target == 1]\n",
    "    target_zeros = target[target == 0]\n",
    "    target_ones = target[target == 1]\n",
    "\n",
    "    # fractioning samples\n",
    "    features_downsampled = pd.concat([features_zeros.sample(frac=fraction, random_state=12345)] +\n",
    "                                     [features_ones])\n",
    "    target_downsampled = pd.concat([target_zeros.sample(frac=fraction, random_state=12345)] +\n",
    "                                   [target_ones])\n",
    "    \n",
    "    features_downsampled = shuffle(features_downsampled, random_state=12345)\n",
    "    target_downsampled = shuffle(target_downsampled, random_state=12345)\n",
    "\n",
    "    return features_downsampled, target_downsampled\n",
    "\n",
    "features_downsampled, target_downsampled = downsample(features_train, target_train, 0.25)\n",
    "\n",
    "print(features_downsampled.shape)\n",
    "print(target_downsampled.shape)"
   ]
  },
  {
   "cell_type": "markdown",
   "metadata": {},
   "source": [
    "<font size=\"3\"><b>Desigion Tree на уменьшенной выборке</b></font>"
   ]
  },
  {
   "cell_type": "code",
   "execution_count": 39,
   "metadata": {},
   "outputs": [],
   "source": [
    "model_DT = DecisionTreeClassifier(criterion='gini',max_depth=8,\\\n",
    "                                    max_features=None, max_leaf_nodes=None,\\\n",
    "                                    min_impurity_decrease=0.0, min_impurity_split=None,\\\n",
    "                                    min_samples_leaf=1, min_samples_split=2,\\\n",
    "                                    min_weight_fraction_leaf=0.0,random_state=12345,\\\n",
    "                                    splitter='best')#,class_weight='balanced')\n",
    "model_DT.fit(features_downsampled, target_downsampled)\n",
    "DT_prediction = model_DT.predict(features_valid)"
   ]
  },
  {
   "cell_type": "markdown",
   "metadata": {},
   "source": [
    "                   Desigion Tree ключевые метрики и матрица ошибок"
   ]
  },
  {
   "cell_type": "code",
   "execution_count": 40,
   "metadata": {},
   "outputs": [
    {
     "name": "stdout",
     "output_type": "stream",
     "text": [
      "              precision    recall  f1-score   support\n",
      "\n",
      "           0       0.91      0.77      0.84      1593\n",
      "           1       0.44      0.71      0.55       407\n",
      "\n",
      "    accuracy                           0.76      2000\n",
      "   macro avg       0.68      0.74      0.69      2000\n",
      "weighted avg       0.82      0.76      0.78      2000\n",
      "\n",
      "ROC-AUC_log: 0.7934344205530647\n",
      "\n",
      "confusion_matrix\n",
      "[[1231  362]\n",
      " [ 117  290]]\n"
     ]
    },
    {
     "data": {
      "image/png": "[encoded data removed]",
      "text/plain": [
       "<Figure size 432x288 with 2 Axes>"
      ]
     },
     "metadata": {
      "needs_background": "light"
     },
     "output_type": "display_data"
    }
   ],
   "source": [
    "conf_m(model_DT,target_valid,features_valid,DT_prediction)"
   ]
  },
  {
   "cell_type": "markdown",
   "metadata": {},
   "source": [
    "<font size=\"3\"><b>Random Forest на уменьшенной выборке</b></font>"
   ]
  },
  {
   "cell_type": "code",
   "execution_count": 41,
   "metadata": {},
   "outputs": [],
   "source": [
    "model_RF = RandomForestClassifier(max_depth=10, n_estimators=40, min_samples_leaf=1, \\\n",
    "                                  random_state=12345)\n",
    "model_RF.fit(features_downsampled, target_downsampled)\n",
    "RF_prediction = model_RF.predict(features_valid)\n"
   ]
  },
  {
   "cell_type": "markdown",
   "metadata": {},
   "source": [
    "                   Random Forest ключевые метрики и матрица ошибок"
   ]
  },
  {
   "cell_type": "code",
   "execution_count": 42,
   "metadata": {},
   "outputs": [
    {
     "name": "stdout",
     "output_type": "stream",
     "text": [
      "              precision    recall  f1-score   support\n",
      "\n",
      "           0       0.93      0.80      0.86      1593\n",
      "           1       0.50      0.77      0.60       407\n",
      "\n",
      "    accuracy                           0.79      2000\n",
      "   macro avg       0.71      0.78      0.73      2000\n",
      "weighted avg       0.84      0.79      0.81      2000\n",
      "\n",
      "ROC-AUC_log: 0.8650622887911024\n",
      "\n",
      "confusion_matrix\n",
      "[[1274  319]\n",
      " [  94  313]]\n"
     ]
    },
    {
     "data": {
      "image/png": "[encoded data removed]",
      "text/plain": [
       "<Figure size 432x288 with 2 Axes>"
      ]
     },
     "metadata": {
      "needs_background": "light"
     },
     "output_type": "display_data"
    }
   ],
   "source": [
    "conf_m(model_RF,target_valid,features_valid,RF_prediction)"
   ]
  },
  {
   "cell_type": "markdown",
   "metadata": {},
   "source": [
    "<font size=\"3\"><b>Logistic Regression на уменьшенной выборке</b></font>"
   ]
  },
  {
   "cell_type": "code",
   "execution_count": 43,
   "metadata": {},
   "outputs": [],
   "source": [
    "model_LR = LogisticRegression(random_state=12345,solver = 'liblinear')\n",
    "model_LR.fit(features_downsampled, target_downsampled)\n",
    "LR_prediction = model_LR.predict(features_valid)"
   ]
  },
  {
   "cell_type": "markdown",
   "metadata": {},
   "source": [
    "                   Logistic Regression ключевые метрики и матрица ошибок"
   ]
  },
  {
   "cell_type": "code",
   "execution_count": 44,
   "metadata": {},
   "outputs": [
    {
     "name": "stdout",
     "output_type": "stream",
     "text": [
      "              precision    recall  f1-score   support\n",
      "\n",
      "           0       0.91      0.71      0.80      1593\n",
      "           1       0.39      0.72      0.50       407\n",
      "\n",
      "    accuracy                           0.71      2000\n",
      "   macro avg       0.65      0.72      0.65      2000\n",
      "weighted avg       0.80      0.71      0.74      2000\n",
      "\n",
      "ROC-AUC_log: 0.7913244523414015\n",
      "\n",
      "confusion_matrix\n",
      "[[1129  464]\n",
      " [ 113  294]]\n"
     ]
    },
    {
     "data": {
      "image/png": "[encoded data removed]",
      "text/plain": [
       "<Figure size 432x288 with 2 Axes>"
      ]
     },
     "metadata": {
      "needs_background": "light"
     },
     "output_type": "display_data"
    }
   ],
   "source": [
    "conf_m(model_LR,target_valid,features_valid,LR_prediction)"
   ]
  },
  {
   "cell_type": "markdown",
   "metadata": {},
   "source": [
    "**Вывод:**\n",
    "- Лучшую метрику F1 после уменьшения валидационной выборки показала модель Random Forest (60%). \n",
    "- Decision Tree 55%\n",
    "- Logistic Regression 50%\n",
    "       "
   ]
  },
  {
   "cell_type": "markdown",
   "metadata": {},
   "source": [
    "<font size=\"5\"><b>Увеличение выборки (upsampling)</b></font>               "
   ]
  },
  {
   "cell_type": "code",
   "execution_count": 45,
   "metadata": {},
   "outputs": [
    {
     "name": "stdout",
     "output_type": "stream",
     "text": [
      "(9669, 11)\n",
      "(9669,)\n"
     ]
    }
   ],
   "source": [
    "# увеличим выборку в 4 раза, так как отрицательный класс больше положительного в 4 раза\n",
    "def upsample(features, target, repeat):\n",
    "    features_zeros = features[target == 0]\n",
    "    features_ones = features[target == 1]\n",
    "    target_zeros = target[target == 0]\n",
    "    target_ones = target[target == 1]\n",
    "    \n",
    "    # сцепляем выборки\n",
    "    features_upsampled = pd.concat([features_zeros] + [features_ones] * repeat)\n",
    "    target_upsampled = pd.concat([target_zeros] + [target_ones] * repeat)\n",
    "    \n",
    "    # перемешиваем значения, чтобы они не шли друг за другом \n",
    "    features_upsampled = shuffle(features_upsampled, random_state=12345)\n",
    "    target_upsampled = shuffle(target_upsampled, random_state=12345)\n",
    "    return features_upsampled, target_upsampled\n",
    "\n",
    "features_upsampled, target_upsampled = upsample(features_train, target_train, 4)\n",
    "\n",
    "print(features_upsampled.shape)\n",
    "print(target_upsampled.shape)"
   ]
  },
  {
   "cell_type": "markdown",
   "metadata": {},
   "source": [
    "<font size=\"3\"><b>Desigion Tree на увеличенной выборке</b></font>"
   ]
  },
  {
   "cell_type": "code",
   "execution_count": 46,
   "metadata": {},
   "outputs": [],
   "source": [
    "model_DT = DecisionTreeClassifier(criterion='gini',max_depth=8,\\\n",
    "                                    max_features=None, max_leaf_nodes=None,\\\n",
    "                                    min_impurity_decrease=0.0, min_impurity_split=None,\\\n",
    "                                    min_samples_leaf=1, min_samples_split=2,\\\n",
    "                                    min_weight_fraction_leaf=0.0,random_state=12345,\\\n",
    "                                    splitter='best')\n",
    "model_DT.fit(features_upsampled, target_upsampled)\n",
    "DT_prediction = model_DT.predict(features_valid)"
   ]
  },
  {
   "cell_type": "markdown",
   "metadata": {},
   "source": [
    "                    Desigion Tree ключевые метрики и матрица ошибок"
   ]
  },
  {
   "cell_type": "code",
   "execution_count": 47,
   "metadata": {},
   "outputs": [
    {
     "name": "stdout",
     "output_type": "stream",
     "text": [
      "              precision    recall  f1-score   support\n",
      "\n",
      "           0       0.91      0.76      0.83      1593\n",
      "           1       0.43      0.72      0.54       407\n",
      "\n",
      "    accuracy                           0.75      2000\n",
      "   macro avg       0.67      0.74      0.68      2000\n",
      "weighted avg       0.82      0.75      0.77      2000\n",
      "\n",
      "ROC-AUC_log: 0.7936588360317174\n",
      "\n",
      "confusion_matrix\n",
      "[[1208  385]\n",
      " [ 114  293]]\n"
     ]
    },
    {
     "data": {
      "image/png": "[encoded data removed]",
      "text/plain": [
       "<Figure size 432x288 with 2 Axes>"
      ]
     },
     "metadata": {
      "needs_background": "light"
     },
     "output_type": "display_data"
    }
   ],
   "source": [
    "conf_m(model_DT,target_valid,features_valid,DT_prediction)"
   ]
  },
  {
   "cell_type": "markdown",
   "metadata": {},
   "source": [
    "<font size=\"3\"><b>Random Forest на увеличенной выборке</b></font>"
   ]
  },
  {
   "cell_type": "code",
   "execution_count": 48,
   "metadata": {},
   "outputs": [],
   "source": [
    "model_RF = RandomForestClassifier(max_depth=10, n_estimators=40, min_samples_leaf=1,\\\n",
    "                                  random_state=12345)\n",
    "model_RF.fit(features_upsampled, target_upsampled)\n",
    "RF_prediction = model_RF.predict(features_valid)"
   ]
  },
  {
   "cell_type": "markdown",
   "metadata": {},
   "source": [
    "                Random Forest ключевые метрики и матрица ошибок"
   ]
  },
  {
   "cell_type": "code",
   "execution_count": 49,
   "metadata": {},
   "outputs": [
    {
     "name": "stdout",
     "output_type": "stream",
     "text": [
      "              precision    recall  f1-score   support\n",
      "\n",
      "           0       0.92      0.85      0.89      1593\n",
      "           1       0.55      0.70      0.62       407\n",
      "\n",
      "    accuracy                           0.82      2000\n",
      "   macro avg       0.74      0.78      0.75      2000\n",
      "weighted avg       0.84      0.82      0.83      2000\n",
      "\n",
      "ROC-AUC_log: 0.8608747422306744\n",
      "\n",
      "confusion_matrix\n",
      "[[1361  232]\n",
      " [ 121  286]]\n"
     ]
    },
    {
     "data": {
      "image/png": "[encoded data removed]",
      "text/plain": [
       "<Figure size 432x288 with 2 Axes>"
      ]
     },
     "metadata": {
      "needs_background": "light"
     },
     "output_type": "display_data"
    }
   ],
   "source": [
    "conf_m(model_RF,target_valid,features_valid,RF_prediction)"
   ]
  },
  {
   "cell_type": "markdown",
   "metadata": {},
   "source": [
    "<font size=\"3\"><b>LogisticRegression на увеличенной выборке</b></font>"
   ]
  },
  {
   "cell_type": "code",
   "execution_count": 50,
   "metadata": {},
   "outputs": [],
   "source": [
    "model_LR = LogisticRegression(random_state=12345,solver = 'liblinear')\n",
    "model_LR.fit(features_upsampled, target_upsampled)\n",
    "LR_prediction = model_LR.predict(features_valid)"
   ]
  },
  {
   "cell_type": "markdown",
   "metadata": {},
   "source": [
    "                 LOgistic Regression ключевые метрики и матрица ошибок"
   ]
  },
  {
   "cell_type": "code",
   "execution_count": 51,
   "metadata": {},
   "outputs": [
    {
     "name": "stdout",
     "output_type": "stream",
     "text": [
      "              precision    recall  f1-score   support\n",
      "\n",
      "           0       0.91      0.71      0.80      1593\n",
      "           1       0.39      0.73      0.51       407\n",
      "\n",
      "    accuracy                           0.71      2000\n",
      "   macro avg       0.65      0.72      0.65      2000\n",
      "weighted avg       0.80      0.71      0.74      2000\n",
      "\n",
      "ROC-AUC_log: 0.7918750800106732\n",
      "\n",
      "confusion_matrix\n",
      "[[1131  462]\n",
      " [ 111  296]]\n"
     ]
    },
    {
     "data": {
      "image/png": "[encoded data removed]",
      "text/plain": [
       "<Figure size 432x288 with 2 Axes>"
      ]
     },
     "metadata": {
      "needs_background": "light"
     },
     "output_type": "display_data"
    }
   ],
   "source": [
    "conf_m(model_LR,target_valid,features_valid,LR_prediction)"
   ]
  },
  {
   "cell_type": "markdown",
   "metadata": {},
   "source": [
    "Вывод:\n",
    "\n",
    "Лучшую метрику F1 после увеличения валидационной выборки показала модель Random Forest (62%).\n",
    "Decision Tree 54%\n",
    "Logistic Regression 51%"
   ]
  },
  {
   "cell_type": "markdown",
   "metadata": {},
   "source": [
    "## Тестирование модели"
   ]
  },
  {
   "cell_type": "markdown",
   "metadata": {},
   "source": [
    "Борьба с дисбалансом классов показала, что наилучщий результат дает модель Random Forest на балансировке классов (63%) и увеличении валидационной выбоки (62%). Ее и выбираем для финального тестирования. "
   ]
  },
  {
   "cell_type": "markdown",
   "metadata": {},
   "source": [
    "Проверим сохраняет ли качество наша выбранная модель RandomForest с лучшими гиперпараметрами на тестовой выборке."
   ]
  },
  {
   "cell_type": "code",
   "execution_count": 52,
   "metadata": {},
   "outputs": [],
   "source": [
    "model_RF = RandomForestClassifier(max_depth=10,\n",
    "                                  n_estimators=40,\n",
    "                                  min_samples_leaf=1,\n",
    "                                  random_state=12345,\n",
    "                                  class_weight='balanced')\n",
    "model_RF.fit(features_train, target_train)#обучаем\n",
    "RF_prediction = model_RF.predict(features_test)#тестируем"
   ]
  },
  {
   "cell_type": "code",
   "execution_count": 53,
   "metadata": {},
   "outputs": [
    {
     "name": "stdout",
     "output_type": "stream",
     "text": [
      "              precision    recall  f1-score   support\n",
      "\n",
      "           0       0.90      0.90      0.90      1593\n",
      "           1       0.62      0.63      0.62       407\n",
      "\n",
      "    accuracy                           0.84      2000\n",
      "   macro avg       0.76      0.76      0.76      2000\n",
      "weighted avg       0.85      0.84      0.85      2000\n",
      "\n",
      "ROC-AUC_log: 0.8590948421456897\n",
      "\n",
      "confusion_matrix\n",
      "[[1433  160]\n",
      " [ 151  256]]\n"
     ]
    },
    {
     "data": {
      "image/png": "[encoded data removed]",
      "text/plain": [
       "<Figure size 432x288 with 2 Axes>"
      ]
     },
     "metadata": {
      "needs_background": "light"
     },
     "output_type": "display_data"
    }
   ],
   "source": [
    "conf_m(model_RF,target_test,features_test,RF_prediction)"
   ]
  },
  {
   "cell_type": "markdown",
   "metadata": {},
   "source": [
    "Как видим модель сохраняет качество на тестовой выборке, F1 = 62% что выше целевого показателя в 59%."
   ]
  },
  {
   "cell_type": "markdown",
   "metadata": {},
   "source": [
    "Для проверки нашей модели на адекватность создадим простейшую (dummy) модель, которая всегда предсказывает наиболее часто встречающийся класс. Так мы получим контрольные данные для сравнительной оценки построенной нами более сложной модели. К тому же мы сможем быть уверены в качестве ее работы, например, в том, что она выдает не просто набор случайно подобранных данных."
   ]
  },
  {
   "cell_type": "code",
   "execution_count": 54,
   "metadata": {},
   "outputs": [
    {
     "name": "stdout",
     "output_type": "stream",
     "text": [
      "Accuracy DummyClassifier: 0.7965\n"
     ]
    }
   ],
   "source": [
    "model_dc = DummyClassifier(strategy='most_frequent', random_state=12345)#создаем простейшую модель\n",
    "model_dc.fit(features_train, target_train)#обучаем модель на тренировочных данных\n",
    "result_dc = model_dc.score(features_valid, target_valid)#получаем результат на проверочных данных\n",
    "print('Accuracy DummyClassifier:', result_dc)"
   ]
  },
  {
   "cell_type": "markdown",
   "metadata": {},
   "source": [
    "Вывод\n",
    "\n",
    "Качество модели RandomForest гораздо выше чем простейшей модели Dummy (0.84 против 0.80), это означает, что наша модель вполне вменяема и эффективна."
   ]
  },
  {
   "cell_type": "markdown",
   "metadata": {},
   "source": [
    "Чем больше площадь под кривой (AUC), тем лучше классификация. Идеальная или наилучшая кривая — это вертикальная линия от (0,0) до (0,1), которая тянется до (1,1). Это означает: модель всегда может различить положительные и отрицательные случаи."
   ]
  },
  {
   "cell_type": "code",
   "execution_count": 55,
   "metadata": {},
   "outputs": [
    {
     "data": {
      "image/png": "[encoded data removed]",
      "text/plain": [
       "<Figure size 432x288 with 1 Axes>"
      ]
     },
     "metadata": {
      "needs_background": "light"
     },
     "output_type": "display_data"
    }
   ],
   "source": [
    "probabilities = model_RF.predict_proba(features_test)\n",
    "probabilities_one = probabilities[:, 1]\n",
    "fpr, tpr, thresholds = roc_curve(target_test, probabilities_one) \n",
    "\n",
    "plt.figure()\n",
    "plt.plot(fpr, tpr, linestyle='solid')\n",
    "plt.plot([0, 1], [0, 1], linestyle='--')\n",
    "plt.xlim([0.0, 1.0])\n",
    "plt.ylim([0.0, 1.0])\n",
    "plt.xlabel('False Positive Rate')\n",
    "plt.ylabel('True Positive Rate')\n",
    "plt.title('ROC-кривая')\n",
    "plt.show()"
   ]
  },
  {
   "cell_type": "markdown",
   "metadata": {},
   "source": [
    "**Общий вывод**\n",
    "-"
   ]
  },
  {
   "cell_type": "markdown",
   "metadata": {},
   "source": [
    "Перед тем, как разделять выборку на обучающую, валидационную и тестовую, была проведена предварительная подготовка датасета:\n",
    "\n",
    "- удалены 3 категориальных столбца CustomerId и Surname RowNumber, так как они никак не влияют на качество обучения (а если и влияют, то только в негативном ключе)\n",
    "- Хитмэпом и матрицей корреляции проведена проверка на наличие сильной мультиколлинеарности, обнаружено что взаимосвязи между призрнаками слабые и практически отсутствуют\n",
    "- 2 категориальных признака (Gender, Geography) были преобразованы в бинарные при помощи техники One-Hot Ecnoding\n",
    "- Остальные количественным признаки ['CreditScore', 'Age', 'Tenure', 'Balance', 'NumOfProducts', 'EstimatedSalary'] были масштабированы, чтобы при обучении не получилось так, что какой-то признак с более высоким значением был засчитан как более значимый\n",
    "- Проверка датасета на наличие дисбаланса показала, что в целевом признаке наблюдается достаточно сильный дисбаланс классов - только 20% отражают факт ухода клиента.\n",
    "- После разбиения данных на тренировочную валидационную и тестовые выборки были заполнены пропуски данных в столбце \"Tenure\" медианным значением по данному признаку из тренировочной выборки.\n",
    "\n",
    "В первоначальные данных наблюдался значительный дисбаланс (80% ответов целевого признака были негативными и только 20% позитивными), из-за чего все модели не первоначальных данных характеризовались высокой степенью ошибок и низким качеством взвешенной величины (F1) — модели показывали низкие результаты точности и полноты.\n",
    "\n",
    "Было рассмотрено 3 варианта борьбы с дисбалансом:\n",
    "- взвешивание классов, \n",
    "- увеличение выборки (upsampling) \n",
    "- уменьшение выборки (downsampling)\n",
    "\n",
    "На новых данных все модели показали результат выше, чем на несбалансированной выборке. Наилучщий результат дает модель Random Forest при балансировке классов (63%). Ее и выбрали для финального тестирования. \n",
    "\n",
    "- Полнота 0.67\n",
    "- Точность 0.59\n",
    "- F1-мера 0.63\n",
    "- AUC-ROC 0.86\n",
    "\n",
    "Финальная модель прошла проверку на адекватность в сравнении с контантной моделью: accuracy_score константой модели: 0.796 финальной модели: 0.84\n",
    "\n",
    "На финальном тестировании модель Random Forest сохранила качество и показала следующие результаты, выше заявленной целевой F1 метрики в 59%\n",
    "\n",
    "- Полнота 0.62\n",
    "- Точность 0.63\n",
    "- F1-мера 0.62\n",
    "- AUC-ROC 0.84"
   ]
  }
 ],
 "metadata": {
  "ExecuteTimeLog": [
   {
    "duration": 375,
    "start_time": "2023-05-01T09:17:34.635Z"
   },
   {
    "duration": 3549,
    "start_time": "2023-05-01T09:17:36.925Z"
   },
   {
    "duration": 96,
    "start_time": "2023-05-01T09:19:19.952Z"
   },
   {
    "duration": 28,
    "start_time": "2023-05-01T09:19:33.636Z"
   },
   {
    "duration": 14,
    "start_time": "2023-05-01T09:20:24.055Z"
   },
   {
    "duration": 42,
    "start_time": "2023-05-01T09:23:02.627Z"
   },
   {
    "duration": 13,
    "start_time": "2023-05-01T09:23:30.355Z"
   },
   {
    "duration": 22,
    "start_time": "2023-05-01T09:29:55.003Z"
   },
   {
    "duration": 8,
    "start_time": "2023-05-01T09:30:06.841Z"
   },
   {
    "duration": 17,
    "start_time": "2023-05-01T09:30:13.401Z"
   },
   {
    "duration": 10,
    "start_time": "2023-05-01T09:38:35.415Z"
   },
   {
    "duration": 12,
    "start_time": "2023-05-01T09:38:44.582Z"
   },
   {
    "duration": 38,
    "start_time": "2023-05-01T11:22:03.790Z"
   },
   {
    "duration": 3,
    "start_time": "2023-05-01T11:24:06.901Z"
   },
   {
    "duration": 17501,
    "start_time": "2023-05-01T11:24:10.561Z"
   },
   {
    "duration": 50,
    "start_time": "2023-05-01T11:24:28.064Z"
   },
   {
    "duration": 361,
    "start_time": "2023-05-01T11:24:49.245Z"
   },
   {
    "duration": 2510,
    "start_time": "2023-05-01T11:24:49.608Z"
   },
   {
    "duration": 53,
    "start_time": "2023-05-01T11:24:52.121Z"
   },
   {
    "duration": 80,
    "start_time": "2023-05-01T11:24:52.176Z"
   },
   {
    "duration": 0,
    "start_time": "2023-05-01T11:24:52.258Z"
   },
   {
    "duration": 0,
    "start_time": "2023-05-01T11:24:52.259Z"
   },
   {
    "duration": 0,
    "start_time": "2023-05-01T11:24:52.260Z"
   },
   {
    "duration": 20098,
    "start_time": "2023-05-01T11:26:02.644Z"
   },
   {
    "duration": 128,
    "start_time": "2023-05-01T12:59:27.941Z"
   },
   {
    "duration": 3,
    "start_time": "2023-05-01T12:59:42.824Z"
   },
   {
    "duration": 51,
    "start_time": "2023-05-01T12:59:51.869Z"
   },
   {
    "duration": 409,
    "start_time": "2023-05-01T13:02:20.991Z"
   },
   {
    "duration": 2490,
    "start_time": "2023-05-01T13:02:21.402Z"
   },
   {
    "duration": 43,
    "start_time": "2023-05-01T13:02:23.894Z"
   },
   {
    "duration": 18922,
    "start_time": "2023-05-01T13:02:23.939Z"
   },
   {
    "duration": 6,
    "start_time": "2023-05-01T13:02:42.862Z"
   },
   {
    "duration": 1201,
    "start_time": "2023-05-01T13:02:42.869Z"
   },
   {
    "duration": 1647,
    "start_time": "2023-05-01T13:09:01.229Z"
   },
   {
    "duration": 79,
    "start_time": "2023-05-01T13:09:02.878Z"
   },
   {
    "duration": 0,
    "start_time": "2023-05-01T13:09:02.959Z"
   },
   {
    "duration": 0,
    "start_time": "2023-05-01T13:09:02.961Z"
   },
   {
    "duration": 0,
    "start_time": "2023-05-01T13:09:02.962Z"
   },
   {
    "duration": 0,
    "start_time": "2023-05-01T13:09:02.964Z"
   },
   {
    "duration": 1612,
    "start_time": "2023-05-01T13:09:35.812Z"
   },
   {
    "duration": 2488,
    "start_time": "2023-05-01T13:09:37.426Z"
   },
   {
    "duration": 42,
    "start_time": "2023-05-01T13:09:39.916Z"
   },
   {
    "duration": 1618,
    "start_time": "2023-05-01T13:10:21.293Z"
   },
   {
    "duration": 2344,
    "start_time": "2023-05-01T13:10:22.913Z"
   },
   {
    "duration": 43,
    "start_time": "2023-05-01T13:10:25.259Z"
   },
   {
    "duration": 16921,
    "start_time": "2023-05-01T13:10:25.304Z"
   },
   {
    "duration": 5,
    "start_time": "2023-05-01T13:10:42.227Z"
   },
   {
    "duration": 1086,
    "start_time": "2023-05-01T13:10:42.233Z"
   },
   {
    "duration": 1157,
    "start_time": "2023-05-01T13:16:11.881Z"
   },
   {
    "duration": 779,
    "start_time": "2023-05-01T13:16:21.428Z"
   },
   {
    "duration": 1738,
    "start_time": "2023-05-01T13:19:53.945Z"
   },
   {
    "duration": 2,
    "start_time": "2023-05-01T13:19:55.685Z"
   },
   {
    "duration": 72,
    "start_time": "2023-05-01T13:19:55.689Z"
   },
   {
    "duration": 18218,
    "start_time": "2023-05-01T13:19:55.763Z"
   },
   {
    "duration": 1167,
    "start_time": "2023-05-01T13:20:13.983Z"
   },
   {
    "duration": 1315,
    "start_time": "2023-05-01T13:20:15.152Z"
   },
   {
    "duration": 1228,
    "start_time": "2023-05-02T04:26:18.443Z"
   },
   {
    "duration": 0,
    "start_time": "2023-05-02T04:26:19.673Z"
   },
   {
    "duration": 1,
    "start_time": "2023-05-02T04:26:19.673Z"
   },
   {
    "duration": 0,
    "start_time": "2023-05-02T04:26:19.674Z"
   },
   {
    "duration": 8,
    "start_time": "2023-05-02T04:27:56.613Z"
   },
   {
    "duration": 3,
    "start_time": "2023-05-02T04:28:05.202Z"
   },
   {
    "duration": 77,
    "start_time": "2023-05-02T04:28:08.323Z"
   },
   {
    "duration": 38,
    "start_time": "2023-05-02T04:28:10.874Z"
   },
   {
    "duration": 11,
    "start_time": "2023-05-02T04:28:40.912Z"
   },
   {
    "duration": 14,
    "start_time": "2023-05-02T04:29:37.115Z"
   },
   {
    "duration": 8,
    "start_time": "2023-05-02T04:32:09.622Z"
   },
   {
    "duration": 7,
    "start_time": "2023-05-02T04:32:23.483Z"
   },
   {
    "duration": 3,
    "start_time": "2023-05-02T04:32:32.313Z"
   },
   {
    "duration": 1006,
    "start_time": "2023-05-02T04:33:41.434Z"
   },
   {
    "duration": 958,
    "start_time": "2023-05-02T04:34:04.473Z"
   },
   {
    "duration": 925,
    "start_time": "2023-05-02T04:58:51.647Z"
   },
   {
    "duration": 113,
    "start_time": "2023-05-02T04:59:40.833Z"
   },
   {
    "duration": 1107,
    "start_time": "2023-05-02T05:00:31.312Z"
   },
   {
    "duration": 1044,
    "start_time": "2023-05-02T05:01:03.553Z"
   },
   {
    "duration": 897,
    "start_time": "2023-05-02T05:01:18.022Z"
   },
   {
    "duration": 990,
    "start_time": "2023-05-02T05:01:36.428Z"
   },
   {
    "duration": 1178,
    "start_time": "2023-05-02T05:03:37.942Z"
   },
   {
    "duration": 3,
    "start_time": "2023-05-02T05:11:38.635Z"
   },
   {
    "duration": 12,
    "start_time": "2023-05-02T05:11:40.814Z"
   },
   {
    "duration": 10,
    "start_time": "2023-05-02T05:12:29.479Z"
   },
   {
    "duration": 220,
    "start_time": "2023-05-02T05:14:14.815Z"
   },
   {
    "duration": 21,
    "start_time": "2023-05-02T05:15:10.066Z"
   },
   {
    "duration": 15,
    "start_time": "2023-05-02T05:15:35.928Z"
   },
   {
    "duration": 1082,
    "start_time": "2023-05-02T05:37:30.809Z"
   },
   {
    "duration": 1658,
    "start_time": "2023-05-02T08:35:51.202Z"
   },
   {
    "duration": 77,
    "start_time": "2023-05-02T08:35:52.863Z"
   },
   {
    "duration": 21,
    "start_time": "2023-05-02T08:35:52.942Z"
   },
   {
    "duration": 50,
    "start_time": "2023-05-02T08:35:52.965Z"
   },
   {
    "duration": 14,
    "start_time": "2023-05-02T08:35:53.018Z"
   },
   {
    "duration": 1417,
    "start_time": "2023-05-02T08:35:53.034Z"
   },
   {
    "duration": 1245,
    "start_time": "2023-05-02T08:35:54.453Z"
   },
   {
    "duration": 5,
    "start_time": "2023-05-02T08:35:55.700Z"
   },
   {
    "duration": 25,
    "start_time": "2023-05-02T08:35:55.707Z"
   },
   {
    "duration": 29,
    "start_time": "2023-05-02T08:35:55.735Z"
   },
   {
    "duration": 25,
    "start_time": "2023-05-02T08:35:55.766Z"
   },
   {
    "duration": 16,
    "start_time": "2023-05-02T08:35:55.794Z"
   },
   {
    "duration": 13,
    "start_time": "2023-05-02T08:35:55.812Z"
   },
   {
    "duration": 4,
    "start_time": "2023-05-02T08:56:09.317Z"
   },
   {
    "duration": 35,
    "start_time": "2023-05-02T09:02:03.524Z"
   },
   {
    "duration": 10,
    "start_time": "2023-05-02T09:03:23.646Z"
   },
   {
    "duration": 29,
    "start_time": "2023-05-02T09:03:38.179Z"
   },
   {
    "duration": 20,
    "start_time": "2023-05-02T09:03:44.268Z"
   },
   {
    "duration": 24,
    "start_time": "2023-05-02T09:04:27.847Z"
   },
   {
    "duration": 22,
    "start_time": "2023-05-02T09:05:34.523Z"
   },
   {
    "duration": 28,
    "start_time": "2023-05-02T09:05:36.144Z"
   },
   {
    "duration": 1439,
    "start_time": "2023-05-02T09:06:11.890Z"
   },
   {
    "duration": 37,
    "start_time": "2023-05-02T09:06:13.332Z"
   },
   {
    "duration": 20,
    "start_time": "2023-05-02T09:06:13.370Z"
   },
   {
    "duration": 46,
    "start_time": "2023-05-02T09:06:13.393Z"
   },
   {
    "duration": 13,
    "start_time": "2023-05-02T09:06:13.441Z"
   },
   {
    "duration": 1498,
    "start_time": "2023-05-02T09:06:13.456Z"
   },
   {
    "duration": 1186,
    "start_time": "2023-05-02T09:06:14.956Z"
   },
   {
    "duration": 3,
    "start_time": "2023-05-02T09:06:16.144Z"
   },
   {
    "duration": 18,
    "start_time": "2023-05-02T09:06:16.149Z"
   },
   {
    "duration": 14,
    "start_time": "2023-05-02T09:06:16.169Z"
   },
   {
    "duration": 20,
    "start_time": "2023-05-02T09:06:16.185Z"
   },
   {
    "duration": 16,
    "start_time": "2023-05-02T09:06:16.207Z"
   },
   {
    "duration": 16,
    "start_time": "2023-05-02T09:06:16.225Z"
   },
   {
    "duration": 50,
    "start_time": "2023-05-02T09:06:16.243Z"
   },
   {
    "duration": 28,
    "start_time": "2023-05-02T09:06:16.296Z"
   },
   {
    "duration": 18,
    "start_time": "2023-05-02T09:06:16.326Z"
   },
   {
    "duration": 45,
    "start_time": "2023-05-02T09:06:16.346Z"
   },
   {
    "duration": 137,
    "start_time": "2023-05-02T09:10:03.637Z"
   },
   {
    "duration": 190,
    "start_time": "2023-05-02T09:36:28.817Z"
   },
   {
    "duration": 1573,
    "start_time": "2023-05-02T09:43:25.161Z"
   },
   {
    "duration": 36,
    "start_time": "2023-05-02T09:43:26.737Z"
   },
   {
    "duration": 22,
    "start_time": "2023-05-02T09:43:26.775Z"
   },
   {
    "duration": 46,
    "start_time": "2023-05-02T09:43:26.800Z"
   },
   {
    "duration": 19,
    "start_time": "2023-05-02T09:43:26.848Z"
   },
   {
    "duration": 1476,
    "start_time": "2023-05-02T09:43:26.889Z"
   },
   {
    "duration": 1199,
    "start_time": "2023-05-02T09:43:28.367Z"
   },
   {
    "duration": 6,
    "start_time": "2023-05-02T09:43:29.568Z"
   },
   {
    "duration": 15,
    "start_time": "2023-05-02T09:43:29.576Z"
   },
   {
    "duration": 13,
    "start_time": "2023-05-02T09:43:29.594Z"
   },
   {
    "duration": 22,
    "start_time": "2023-05-02T09:43:29.609Z"
   },
   {
    "duration": 16,
    "start_time": "2023-05-02T09:43:29.633Z"
   },
   {
    "duration": 46,
    "start_time": "2023-05-02T09:43:29.652Z"
   },
   {
    "duration": 12,
    "start_time": "2023-05-02T09:43:29.701Z"
   },
   {
    "duration": 23,
    "start_time": "2023-05-02T09:43:29.716Z"
   },
   {
    "duration": 61,
    "start_time": "2023-05-02T09:43:29.741Z"
   },
   {
    "duration": 21,
    "start_time": "2023-05-02T09:43:29.803Z"
   },
   {
    "duration": 277,
    "start_time": "2023-05-02T09:43:29.826Z"
   },
   {
    "duration": 0,
    "start_time": "2023-05-02T09:43:30.105Z"
   },
   {
    "duration": 0,
    "start_time": "2023-05-02T09:43:30.106Z"
   },
   {
    "duration": 1639,
    "start_time": "2023-05-02T09:44:19.854Z"
   },
   {
    "duration": 45,
    "start_time": "2023-05-02T09:44:21.497Z"
   },
   {
    "duration": 26,
    "start_time": "2023-05-02T09:44:21.545Z"
   },
   {
    "duration": 57,
    "start_time": "2023-05-02T09:44:21.576Z"
   },
   {
    "duration": 20,
    "start_time": "2023-05-02T09:44:21.635Z"
   },
   {
    "duration": 1566,
    "start_time": "2023-05-02T09:44:21.657Z"
   },
   {
    "duration": 1256,
    "start_time": "2023-05-02T09:44:23.225Z"
   },
   {
    "duration": 4,
    "start_time": "2023-05-02T09:44:24.484Z"
   },
   {
    "duration": 17,
    "start_time": "2023-05-02T09:44:24.489Z"
   },
   {
    "duration": 28,
    "start_time": "2023-05-02T09:44:24.509Z"
   },
   {
    "duration": 22,
    "start_time": "2023-05-02T09:44:24.539Z"
   },
   {
    "duration": 29,
    "start_time": "2023-05-02T09:44:24.563Z"
   },
   {
    "duration": 18,
    "start_time": "2023-05-02T09:44:24.594Z"
   },
   {
    "duration": 13,
    "start_time": "2023-05-02T09:44:24.614Z"
   },
   {
    "duration": 32,
    "start_time": "2023-05-02T09:44:24.629Z"
   },
   {
    "duration": 20,
    "start_time": "2023-05-02T09:44:24.690Z"
   },
   {
    "duration": 20,
    "start_time": "2023-05-02T09:44:24.712Z"
   },
   {
    "duration": 158,
    "start_time": "2023-05-02T09:44:24.734Z"
   },
   {
    "duration": 171,
    "start_time": "2023-05-02T09:44:24.894Z"
   },
   {
    "duration": 49,
    "start_time": "2023-05-02T09:44:25.067Z"
   },
   {
    "duration": 65,
    "start_time": "2023-05-02T09:44:58.253Z"
   },
   {
    "duration": 16,
    "start_time": "2023-05-02T09:45:35.021Z"
   },
   {
    "duration": 12,
    "start_time": "2023-05-02T09:46:01.417Z"
   },
   {
    "duration": 1540,
    "start_time": "2023-05-02T09:46:53.626Z"
   },
   {
    "duration": 44,
    "start_time": "2023-05-02T09:46:55.169Z"
   },
   {
    "duration": 22,
    "start_time": "2023-05-02T09:46:55.216Z"
   },
   {
    "duration": 58,
    "start_time": "2023-05-02T09:46:55.240Z"
   },
   {
    "duration": 14,
    "start_time": "2023-05-02T09:46:55.300Z"
   },
   {
    "duration": 1466,
    "start_time": "2023-05-02T09:46:55.317Z"
   },
   {
    "duration": 1188,
    "start_time": "2023-05-02T09:46:56.789Z"
   },
   {
    "duration": 4,
    "start_time": "2023-05-02T09:46:57.980Z"
   },
   {
    "duration": 44,
    "start_time": "2023-05-02T09:46:57.985Z"
   },
   {
    "duration": 15,
    "start_time": "2023-05-02T09:46:58.032Z"
   },
   {
    "duration": 26,
    "start_time": "2023-05-02T09:46:58.049Z"
   },
   {
    "duration": 15,
    "start_time": "2023-05-02T09:46:58.077Z"
   },
   {
    "duration": 15,
    "start_time": "2023-05-02T09:46:58.094Z"
   },
   {
    "duration": 10,
    "start_time": "2023-05-02T09:46:58.113Z"
   },
   {
    "duration": 22,
    "start_time": "2023-05-02T09:46:58.125Z"
   },
   {
    "duration": 55,
    "start_time": "2023-05-02T09:46:58.149Z"
   },
   {
    "duration": 21,
    "start_time": "2023-05-02T09:46:58.205Z"
   },
   {
    "duration": 163,
    "start_time": "2023-05-02T09:46:58.228Z"
   },
   {
    "duration": 304,
    "start_time": "2023-05-02T09:46:58.393Z"
   },
   {
    "duration": 426,
    "start_time": "2023-05-02T09:51:22.565Z"
   },
   {
    "duration": 123,
    "start_time": "2023-05-02T09:52:40.317Z"
   },
   {
    "duration": 158,
    "start_time": "2023-05-02T09:54:04.843Z"
   },
   {
    "duration": 14,
    "start_time": "2023-05-02T09:54:34.158Z"
   },
   {
    "duration": 125,
    "start_time": "2023-05-02T09:54:47.459Z"
   },
   {
    "duration": 1702,
    "start_time": "2023-05-02T10:27:29.495Z"
   },
   {
    "duration": 39,
    "start_time": "2023-05-02T10:27:31.199Z"
   },
   {
    "duration": 22,
    "start_time": "2023-05-02T10:27:31.240Z"
   },
   {
    "duration": 87,
    "start_time": "2023-05-02T10:27:31.264Z"
   },
   {
    "duration": 15,
    "start_time": "2023-05-02T10:27:31.354Z"
   },
   {
    "duration": 1511,
    "start_time": "2023-05-02T10:27:31.371Z"
   },
   {
    "duration": 1150,
    "start_time": "2023-05-02T10:27:32.884Z"
   },
   {
    "duration": 4,
    "start_time": "2023-05-02T10:27:34.035Z"
   },
   {
    "duration": 27,
    "start_time": "2023-05-02T10:27:34.041Z"
   },
   {
    "duration": 27,
    "start_time": "2023-05-02T10:27:34.069Z"
   },
   {
    "duration": 24,
    "start_time": "2023-05-02T10:27:34.097Z"
   },
   {
    "duration": 16,
    "start_time": "2023-05-02T10:27:34.123Z"
   },
   {
    "duration": 13,
    "start_time": "2023-05-02T10:27:34.141Z"
   },
   {
    "duration": 38,
    "start_time": "2023-05-02T10:27:34.157Z"
   },
   {
    "duration": 23,
    "start_time": "2023-05-02T10:27:34.197Z"
   },
   {
    "duration": 20,
    "start_time": "2023-05-02T10:27:34.221Z"
   },
   {
    "duration": 23,
    "start_time": "2023-05-02T10:27:34.243Z"
   },
   {
    "duration": 135,
    "start_time": "2023-05-02T10:27:34.289Z"
   },
   {
    "duration": 367,
    "start_time": "2023-05-02T10:27:34.425Z"
   },
   {
    "duration": 446,
    "start_time": "2023-05-02T10:27:34.796Z"
   },
   {
    "duration": 37,
    "start_time": "2023-05-02T10:34:02.505Z"
   },
   {
    "duration": 133,
    "start_time": "2023-05-02T10:35:01.934Z"
   },
   {
    "duration": 37,
    "start_time": "2023-05-02T10:35:05.018Z"
   },
   {
    "duration": 29,
    "start_time": "2023-05-02T10:35:28.943Z"
   },
   {
    "duration": 178,
    "start_time": "2023-05-02T10:35:31.806Z"
   },
   {
    "duration": 166,
    "start_time": "2023-05-02T10:36:23.109Z"
   },
   {
    "duration": 175,
    "start_time": "2023-05-02T10:37:08.231Z"
   },
   {
    "duration": 62,
    "start_time": "2023-05-02T11:02:54.744Z"
   },
   {
    "duration": 11,
    "start_time": "2023-05-02T11:03:09.817Z"
   },
   {
    "duration": 6,
    "start_time": "2023-05-02T11:03:57.470Z"
   },
   {
    "duration": 5,
    "start_time": "2023-05-02T11:04:14.520Z"
   },
   {
    "duration": 318,
    "start_time": "2023-05-02T11:13:37.083Z"
   },
   {
    "duration": 162,
    "start_time": "2023-05-02T11:14:23.349Z"
   },
   {
    "duration": 27,
    "start_time": "2023-05-02T11:18:41.441Z"
   },
   {
    "duration": 160,
    "start_time": "2023-05-02T11:18:45.431Z"
   },
   {
    "duration": 1607,
    "start_time": "2023-05-02T11:19:19.524Z"
   },
   {
    "duration": 37,
    "start_time": "2023-05-02T11:19:21.134Z"
   },
   {
    "duration": 22,
    "start_time": "2023-05-02T11:19:21.173Z"
   },
   {
    "duration": 147,
    "start_time": "2023-05-02T11:19:21.199Z"
   },
   {
    "duration": 13,
    "start_time": "2023-05-02T11:19:21.348Z"
   },
   {
    "duration": 1488,
    "start_time": "2023-05-02T11:19:21.363Z"
   },
   {
    "duration": 1168,
    "start_time": "2023-05-02T11:19:22.854Z"
   },
   {
    "duration": 5,
    "start_time": "2023-05-02T11:19:24.024Z"
   },
   {
    "duration": 21,
    "start_time": "2023-05-02T11:19:24.030Z"
   },
   {
    "duration": 20,
    "start_time": "2023-05-02T11:19:24.055Z"
   },
   {
    "duration": 21,
    "start_time": "2023-05-02T11:19:24.078Z"
   },
   {
    "duration": 17,
    "start_time": "2023-05-02T11:19:24.101Z"
   },
   {
    "duration": 15,
    "start_time": "2023-05-02T11:19:24.120Z"
   },
   {
    "duration": 10,
    "start_time": "2023-05-02T11:19:24.137Z"
   },
   {
    "duration": 58,
    "start_time": "2023-05-02T11:19:24.148Z"
   },
   {
    "duration": 20,
    "start_time": "2023-05-02T11:19:24.208Z"
   },
   {
    "duration": 21,
    "start_time": "2023-05-02T11:19:24.229Z"
   },
   {
    "duration": 155,
    "start_time": "2023-05-02T11:19:24.252Z"
   },
   {
    "duration": 387,
    "start_time": "2023-05-02T11:19:24.409Z"
   },
   {
    "duration": 112,
    "start_time": "2023-05-02T11:19:24.798Z"
   },
   {
    "duration": 334,
    "start_time": "2023-05-02T11:19:24.912Z"
   },
   {
    "duration": 182,
    "start_time": "2023-05-02T11:19:25.248Z"
   },
   {
    "duration": 185,
    "start_time": "2023-05-02T11:19:25.432Z"
   },
   {
    "duration": 67,
    "start_time": "2023-05-02T11:19:25.619Z"
   },
   {
    "duration": 0,
    "start_time": "2023-05-02T11:19:25.688Z"
   },
   {
    "duration": 0,
    "start_time": "2023-05-02T11:19:25.689Z"
   },
   {
    "duration": 0,
    "start_time": "2023-05-02T11:19:25.690Z"
   },
   {
    "duration": 1538,
    "start_time": "2023-05-02T11:19:49.019Z"
   },
   {
    "duration": 38,
    "start_time": "2023-05-02T11:19:50.559Z"
   },
   {
    "duration": 20,
    "start_time": "2023-05-02T11:19:50.599Z"
   },
   {
    "duration": 48,
    "start_time": "2023-05-02T11:19:50.621Z"
   },
   {
    "duration": 23,
    "start_time": "2023-05-02T11:19:50.671Z"
   },
   {
    "duration": 1463,
    "start_time": "2023-05-02T11:19:50.695Z"
   },
   {
    "duration": 1158,
    "start_time": "2023-05-02T11:19:52.160Z"
   },
   {
    "duration": 4,
    "start_time": "2023-05-02T11:19:53.320Z"
   },
   {
    "duration": 16,
    "start_time": "2023-05-02T11:19:53.326Z"
   },
   {
    "duration": 16,
    "start_time": "2023-05-02T11:19:53.346Z"
   },
   {
    "duration": 38,
    "start_time": "2023-05-02T11:19:53.364Z"
   },
   {
    "duration": 17,
    "start_time": "2023-05-02T11:19:53.405Z"
   },
   {
    "duration": 16,
    "start_time": "2023-05-02T11:19:53.424Z"
   },
   {
    "duration": 51,
    "start_time": "2023-05-02T11:19:53.442Z"
   },
   {
    "duration": 22,
    "start_time": "2023-05-02T11:19:53.495Z"
   },
   {
    "duration": 19,
    "start_time": "2023-05-02T11:19:53.518Z"
   },
   {
    "duration": 20,
    "start_time": "2023-05-02T11:19:53.538Z"
   },
   {
    "duration": 159,
    "start_time": "2023-05-02T11:19:53.559Z"
   },
   {
    "duration": 374,
    "start_time": "2023-05-02T11:19:53.719Z"
   },
   {
    "duration": 119,
    "start_time": "2023-05-02T11:19:54.096Z"
   },
   {
    "duration": 329,
    "start_time": "2023-05-02T11:19:54.218Z"
   },
   {
    "duration": 189,
    "start_time": "2023-05-02T11:19:54.549Z"
   },
   {
    "duration": 184,
    "start_time": "2023-05-02T11:19:54.740Z"
   },
   {
    "duration": 319,
    "start_time": "2023-05-02T11:19:54.926Z"
   },
   {
    "duration": 154,
    "start_time": "2023-05-02T11:19:55.247Z"
   },
   {
    "duration": 338,
    "start_time": "2023-05-02T11:19:55.403Z"
   },
   {
    "duration": 193,
    "start_time": "2023-05-02T11:21:11.520Z"
   },
   {
    "duration": 163,
    "start_time": "2023-05-02T11:21:54.321Z"
   },
   {
    "duration": 156,
    "start_time": "2023-05-02T11:32:28.680Z"
   },
   {
    "duration": 1464,
    "start_time": "2023-05-02T11:33:35.438Z"
   },
   {
    "duration": 37,
    "start_time": "2023-05-02T11:33:36.904Z"
   },
   {
    "duration": 22,
    "start_time": "2023-05-02T11:33:36.943Z"
   },
   {
    "duration": 47,
    "start_time": "2023-05-02T11:33:36.967Z"
   },
   {
    "duration": 14,
    "start_time": "2023-05-02T11:33:37.015Z"
   },
   {
    "duration": 1442,
    "start_time": "2023-05-02T11:33:37.031Z"
   },
   {
    "duration": 1160,
    "start_time": "2023-05-02T11:33:38.474Z"
   },
   {
    "duration": 3,
    "start_time": "2023-05-02T11:33:39.636Z"
   },
   {
    "duration": 17,
    "start_time": "2023-05-02T11:33:39.641Z"
   },
   {
    "duration": 13,
    "start_time": "2023-05-02T11:33:39.661Z"
   },
   {
    "duration": 27,
    "start_time": "2023-05-02T11:33:39.676Z"
   },
   {
    "duration": 17,
    "start_time": "2023-05-02T11:33:39.705Z"
   },
   {
    "duration": 14,
    "start_time": "2023-05-02T11:33:39.724Z"
   },
   {
    "duration": 14,
    "start_time": "2023-05-02T11:33:39.739Z"
   },
   {
    "duration": 53,
    "start_time": "2023-05-02T11:33:39.757Z"
   },
   {
    "duration": 21,
    "start_time": "2023-05-02T11:33:39.813Z"
   },
   {
    "duration": 21,
    "start_time": "2023-05-02T11:33:39.836Z"
   },
   {
    "duration": 137,
    "start_time": "2023-05-02T11:33:39.889Z"
   },
   {
    "duration": 365,
    "start_time": "2023-05-02T11:33:40.028Z"
   },
   {
    "duration": 202,
    "start_time": "2023-05-02T11:33:40.398Z"
   },
   {
    "duration": 344,
    "start_time": "2023-05-02T11:33:40.602Z"
   },
   {
    "duration": 186,
    "start_time": "2023-05-02T11:33:40.947Z"
   },
   {
    "duration": 185,
    "start_time": "2023-05-02T11:33:41.135Z"
   },
   {
    "duration": 378,
    "start_time": "2023-05-02T11:33:41.321Z"
   },
   {
    "duration": 110,
    "start_time": "2023-05-02T11:33:41.705Z"
   },
   {
    "duration": 332,
    "start_time": "2023-05-02T11:33:41.817Z"
   },
   {
    "duration": 185,
    "start_time": "2023-05-02T11:33:42.150Z"
   },
   {
    "duration": 182,
    "start_time": "2023-05-02T11:33:42.338Z"
   },
   {
    "duration": 553,
    "start_time": "2023-05-02T11:35:52.236Z"
   },
   {
    "duration": 1504,
    "start_time": "2023-05-02T11:43:06.606Z"
   },
   {
    "duration": 37,
    "start_time": "2023-05-02T11:43:08.113Z"
   },
   {
    "duration": 22,
    "start_time": "2023-05-02T11:43:08.151Z"
   },
   {
    "duration": 56,
    "start_time": "2023-05-02T11:43:08.174Z"
   },
   {
    "duration": 14,
    "start_time": "2023-05-02T11:43:08.232Z"
   },
   {
    "duration": 1502,
    "start_time": "2023-05-02T11:43:08.248Z"
   },
   {
    "duration": 1300,
    "start_time": "2023-05-02T11:43:09.754Z"
   },
   {
    "duration": 4,
    "start_time": "2023-05-02T11:43:11.056Z"
   },
   {
    "duration": 24,
    "start_time": "2023-05-02T11:43:11.062Z"
   },
   {
    "duration": 14,
    "start_time": "2023-05-02T11:43:11.088Z"
   },
   {
    "duration": 23,
    "start_time": "2023-05-02T11:43:11.103Z"
   },
   {
    "duration": 16,
    "start_time": "2023-05-02T11:43:11.128Z"
   },
   {
    "duration": 54,
    "start_time": "2023-05-02T11:43:11.146Z"
   },
   {
    "duration": 10,
    "start_time": "2023-05-02T11:43:11.203Z"
   },
   {
    "duration": 23,
    "start_time": "2023-05-02T11:43:11.215Z"
   },
   {
    "duration": 58,
    "start_time": "2023-05-02T11:43:11.240Z"
   },
   {
    "duration": 21,
    "start_time": "2023-05-02T11:43:11.300Z"
   },
   {
    "duration": 152,
    "start_time": "2023-05-02T11:43:11.323Z"
   },
   {
    "duration": 362,
    "start_time": "2023-05-02T11:43:11.477Z"
   },
   {
    "duration": 119,
    "start_time": "2023-05-02T11:43:11.892Z"
   },
   {
    "duration": 353,
    "start_time": "2023-05-02T11:43:12.014Z"
   },
   {
    "duration": 207,
    "start_time": "2023-05-02T11:43:12.369Z"
   },
   {
    "duration": 328,
    "start_time": "2023-05-02T11:43:12.578Z"
   },
   {
    "duration": 328,
    "start_time": "2023-05-02T11:43:12.907Z"
   },
   {
    "duration": 158,
    "start_time": "2023-05-02T11:43:13.238Z"
   },
   {
    "duration": 351,
    "start_time": "2023-05-02T11:43:13.398Z"
   },
   {
    "duration": 212,
    "start_time": "2023-05-02T11:43:13.751Z"
   },
   {
    "duration": 333,
    "start_time": "2023-05-02T11:43:13.965Z"
   },
   {
    "duration": 1541,
    "start_time": "2023-05-02T11:46:51.835Z"
   },
   {
    "duration": 38,
    "start_time": "2023-05-02T11:46:53.378Z"
   },
   {
    "duration": 22,
    "start_time": "2023-05-02T11:46:53.418Z"
   },
   {
    "duration": 58,
    "start_time": "2023-05-02T11:46:53.443Z"
   },
   {
    "duration": 15,
    "start_time": "2023-05-02T11:46:53.503Z"
   },
   {
    "duration": 1476,
    "start_time": "2023-05-02T11:46:53.521Z"
   },
   {
    "duration": 1143,
    "start_time": "2023-05-02T11:46:54.999Z"
   },
   {
    "duration": 5,
    "start_time": "2023-05-02T11:46:56.143Z"
   },
   {
    "duration": 16,
    "start_time": "2023-05-02T11:46:56.150Z"
   },
   {
    "duration": 20,
    "start_time": "2023-05-02T11:46:56.170Z"
   },
   {
    "duration": 24,
    "start_time": "2023-05-02T11:46:56.191Z"
   },
   {
    "duration": 18,
    "start_time": "2023-05-02T11:46:56.216Z"
   },
   {
    "duration": 17,
    "start_time": "2023-05-02T11:46:56.237Z"
   },
   {
    "duration": 41,
    "start_time": "2023-05-02T11:46:56.257Z"
   },
   {
    "duration": 34,
    "start_time": "2023-05-02T11:46:56.300Z"
   },
   {
    "duration": 21,
    "start_time": "2023-05-02T11:46:56.337Z"
   },
   {
    "duration": 21,
    "start_time": "2023-05-02T11:46:56.388Z"
   },
   {
    "duration": 147,
    "start_time": "2023-05-02T11:46:56.410Z"
   },
   {
    "duration": 332,
    "start_time": "2023-05-02T11:46:56.559Z"
   },
   {
    "duration": 7,
    "start_time": "2023-05-02T11:46:56.895Z"
   },
   {
    "duration": 198,
    "start_time": "2023-05-02T11:46:56.904Z"
   },
   {
    "duration": 339,
    "start_time": "2023-05-02T11:46:57.104Z"
   },
   {
    "duration": 198,
    "start_time": "2023-05-02T11:46:57.445Z"
   },
   {
    "duration": 314,
    "start_time": "2023-05-02T11:46:57.645Z"
   },
   {
    "duration": 329,
    "start_time": "2023-05-02T11:46:57.961Z"
   },
   {
    "duration": 204,
    "start_time": "2023-05-02T11:46:58.293Z"
   },
   {
    "duration": 357,
    "start_time": "2023-05-02T11:46:58.499Z"
   },
   {
    "duration": 208,
    "start_time": "2023-05-02T11:46:58.859Z"
   },
   {
    "duration": 374,
    "start_time": "2023-05-02T11:46:59.069Z"
   },
   {
    "duration": 564,
    "start_time": "2023-05-02T11:54:39.699Z"
   },
   {
    "duration": 316,
    "start_time": "2023-05-02T11:55:13.644Z"
   },
   {
    "duration": 307,
    "start_time": "2023-05-02T11:57:02.811Z"
   },
   {
    "duration": 1530,
    "start_time": "2023-05-02T11:59:56.211Z"
   },
   {
    "duration": 39,
    "start_time": "2023-05-02T11:59:57.744Z"
   },
   {
    "duration": 22,
    "start_time": "2023-05-02T11:59:57.785Z"
   },
   {
    "duration": 47,
    "start_time": "2023-05-02T11:59:57.809Z"
   },
   {
    "duration": 30,
    "start_time": "2023-05-02T11:59:57.859Z"
   },
   {
    "duration": 1435,
    "start_time": "2023-05-02T11:59:57.891Z"
   },
   {
    "duration": 1277,
    "start_time": "2023-05-02T11:59:59.328Z"
   },
   {
    "duration": 5,
    "start_time": "2023-05-02T12:00:00.607Z"
   },
   {
    "duration": 52,
    "start_time": "2023-05-02T12:00:00.614Z"
   },
   {
    "duration": 46,
    "start_time": "2023-05-02T12:00:00.668Z"
   },
   {
    "duration": 61,
    "start_time": "2023-05-02T12:00:00.716Z"
   },
   {
    "duration": 30,
    "start_time": "2023-05-02T12:00:00.779Z"
   },
   {
    "duration": 31,
    "start_time": "2023-05-02T12:00:00.811Z"
   },
   {
    "duration": 28,
    "start_time": "2023-05-02T12:00:00.845Z"
   },
   {
    "duration": 50,
    "start_time": "2023-05-02T12:00:00.875Z"
   },
   {
    "duration": 50,
    "start_time": "2023-05-02T12:00:00.927Z"
   },
   {
    "duration": 81,
    "start_time": "2023-05-02T12:00:00.979Z"
   },
   {
    "duration": 178,
    "start_time": "2023-05-02T12:00:01.062Z"
   },
   {
    "duration": 354,
    "start_time": "2023-05-02T12:00:01.242Z"
   },
   {
    "duration": 92,
    "start_time": "2023-05-02T12:00:01.598Z"
   },
   {
    "duration": 149,
    "start_time": "2023-05-02T12:00:01.692Z"
   },
   {
    "duration": 318,
    "start_time": "2023-05-02T12:00:01.843Z"
   },
   {
    "duration": 208,
    "start_time": "2023-05-02T12:00:02.163Z"
   },
   {
    "duration": 379,
    "start_time": "2023-05-02T12:00:02.373Z"
   },
   {
    "duration": 442,
    "start_time": "2023-05-02T12:00:02.754Z"
   },
   {
    "duration": 0,
    "start_time": "2023-05-02T12:00:03.198Z"
   },
   {
    "duration": 0,
    "start_time": "2023-05-02T12:00:03.200Z"
   },
   {
    "duration": 0,
    "start_time": "2023-05-02T12:00:03.201Z"
   },
   {
    "duration": 0,
    "start_time": "2023-05-02T12:00:03.202Z"
   },
   {
    "duration": 4,
    "start_time": "2023-05-02T12:00:43.921Z"
   },
   {
    "duration": 5,
    "start_time": "2023-05-02T12:01:45.144Z"
   },
   {
    "duration": 38,
    "start_time": "2023-05-02T12:01:51.407Z"
   },
   {
    "duration": 182,
    "start_time": "2023-05-02T12:01:53.902Z"
   },
   {
    "duration": 249,
    "start_time": "2023-05-02T12:02:01.518Z"
   },
   {
    "duration": 422,
    "start_time": "2023-05-02T12:02:10.320Z"
   },
   {
    "duration": 309,
    "start_time": "2023-05-02T12:02:25.444Z"
   },
   {
    "duration": 71,
    "start_time": "2023-05-02T12:02:35.418Z"
   },
   {
    "duration": 297,
    "start_time": "2023-05-02T12:02:38.448Z"
   },
   {
    "duration": 188,
    "start_time": "2023-05-02T12:02:47.267Z"
   },
   {
    "duration": 323,
    "start_time": "2023-05-02T12:02:57.014Z"
   },
   {
    "duration": 1539,
    "start_time": "2023-05-02T12:04:28.812Z"
   },
   {
    "duration": 41,
    "start_time": "2023-05-02T12:04:30.355Z"
   },
   {
    "duration": 32,
    "start_time": "2023-05-02T12:04:30.398Z"
   },
   {
    "duration": 73,
    "start_time": "2023-05-02T12:04:30.433Z"
   },
   {
    "duration": 18,
    "start_time": "2023-05-02T12:04:30.509Z"
   },
   {
    "duration": 1520,
    "start_time": "2023-05-02T12:04:30.530Z"
   },
   {
    "duration": 1194,
    "start_time": "2023-05-02T12:04:32.052Z"
   },
   {
    "duration": 4,
    "start_time": "2023-05-02T12:04:33.248Z"
   },
   {
    "duration": 28,
    "start_time": "2023-05-02T12:04:33.253Z"
   },
   {
    "duration": 13,
    "start_time": "2023-05-02T12:04:33.284Z"
   },
   {
    "duration": 21,
    "start_time": "2023-05-02T12:04:33.299Z"
   },
   {
    "duration": 16,
    "start_time": "2023-05-02T12:04:33.322Z"
   },
   {
    "duration": 19,
    "start_time": "2023-05-02T12:04:33.340Z"
   },
   {
    "duration": 37,
    "start_time": "2023-05-02T12:04:33.360Z"
   },
   {
    "duration": 30,
    "start_time": "2023-05-02T12:04:33.398Z"
   },
   {
    "duration": 28,
    "start_time": "2023-05-02T12:04:33.430Z"
   },
   {
    "duration": 19,
    "start_time": "2023-05-02T12:04:33.460Z"
   },
   {
    "duration": 134,
    "start_time": "2023-05-02T12:04:33.490Z"
   },
   {
    "duration": 364,
    "start_time": "2023-05-02T12:04:33.626Z"
   },
   {
    "duration": 6,
    "start_time": "2023-05-02T12:04:33.992Z"
   },
   {
    "duration": 29,
    "start_time": "2023-05-02T12:04:34.093Z"
   },
   {
    "duration": 325,
    "start_time": "2023-05-02T12:04:34.125Z"
   },
   {
    "duration": 199,
    "start_time": "2023-05-02T12:04:34.452Z"
   },
   {
    "duration": 309,
    "start_time": "2023-05-02T12:04:34.653Z"
   },
   {
    "duration": 329,
    "start_time": "2023-05-02T12:04:34.964Z"
   },
   {
    "duration": 209,
    "start_time": "2023-05-02T12:04:35.295Z"
   },
   {
    "duration": 345,
    "start_time": "2023-05-02T12:04:35.506Z"
   },
   {
    "duration": 205,
    "start_time": "2023-05-02T12:04:35.854Z"
   },
   {
    "duration": 361,
    "start_time": "2023-05-02T12:04:36.060Z"
   },
   {
    "duration": 5,
    "start_time": "2023-05-02T12:06:14.604Z"
   },
   {
    "duration": 1530,
    "start_time": "2023-05-02T12:06:47.480Z"
   },
   {
    "duration": 39,
    "start_time": "2023-05-02T12:06:49.013Z"
   },
   {
    "duration": 21,
    "start_time": "2023-05-02T12:06:49.054Z"
   },
   {
    "duration": 47,
    "start_time": "2023-05-02T12:06:49.076Z"
   },
   {
    "duration": 14,
    "start_time": "2023-05-02T12:06:49.125Z"
   },
   {
    "duration": 1483,
    "start_time": "2023-05-02T12:06:49.140Z"
   },
   {
    "duration": 1209,
    "start_time": "2023-05-02T12:06:50.625Z"
   },
   {
    "duration": 5,
    "start_time": "2023-05-02T12:06:51.836Z"
   },
   {
    "duration": 28,
    "start_time": "2023-05-02T12:06:51.843Z"
   },
   {
    "duration": 34,
    "start_time": "2023-05-02T12:06:51.873Z"
   },
   {
    "duration": 30,
    "start_time": "2023-05-02T12:06:51.909Z"
   },
   {
    "duration": 17,
    "start_time": "2023-05-02T12:06:51.940Z"
   },
   {
    "duration": 22,
    "start_time": "2023-05-02T12:06:51.958Z"
   },
   {
    "duration": 11,
    "start_time": "2023-05-02T12:06:51.988Z"
   },
   {
    "duration": 24,
    "start_time": "2023-05-02T12:06:52.001Z"
   },
   {
    "duration": 22,
    "start_time": "2023-05-02T12:06:52.027Z"
   },
   {
    "duration": 45,
    "start_time": "2023-05-02T12:06:52.050Z"
   },
   {
    "duration": 133,
    "start_time": "2023-05-02T12:06:52.097Z"
   },
   {
    "duration": 319,
    "start_time": "2023-05-02T12:06:52.232Z"
   },
   {
    "duration": 98,
    "start_time": "2023-05-02T12:06:52.591Z"
   },
   {
    "duration": 28,
    "start_time": "2023-05-02T12:06:52.692Z"
   },
   {
    "duration": 467,
    "start_time": "2023-05-02T12:06:52.722Z"
   },
   {
    "duration": 0,
    "start_time": "2023-05-02T12:06:53.192Z"
   },
   {
    "duration": 0,
    "start_time": "2023-05-02T12:06:53.193Z"
   },
   {
    "duration": 0,
    "start_time": "2023-05-02T12:06:53.194Z"
   },
   {
    "duration": 0,
    "start_time": "2023-05-02T12:06:53.196Z"
   },
   {
    "duration": 0,
    "start_time": "2023-05-02T12:06:53.198Z"
   },
   {
    "duration": 0,
    "start_time": "2023-05-02T12:06:53.199Z"
   },
   {
    "duration": 0,
    "start_time": "2023-05-02T12:06:53.201Z"
   },
   {
    "duration": 5,
    "start_time": "2023-05-02T12:08:35.023Z"
   },
   {
    "duration": 170,
    "start_time": "2023-05-02T12:08:38.809Z"
   },
   {
    "duration": 1515,
    "start_time": "2023-05-02T12:09:06.809Z"
   },
   {
    "duration": 38,
    "start_time": "2023-05-02T12:09:08.326Z"
   },
   {
    "duration": 21,
    "start_time": "2023-05-02T12:09:08.366Z"
   },
   {
    "duration": 48,
    "start_time": "2023-05-02T12:09:08.389Z"
   },
   {
    "duration": 14,
    "start_time": "2023-05-02T12:09:08.439Z"
   },
   {
    "duration": 1502,
    "start_time": "2023-05-02T12:09:08.455Z"
   },
   {
    "duration": 1267,
    "start_time": "2023-05-02T12:09:09.959Z"
   },
   {
    "duration": 5,
    "start_time": "2023-05-02T12:09:11.228Z"
   },
   {
    "duration": 19,
    "start_time": "2023-05-02T12:09:11.235Z"
   },
   {
    "duration": 69,
    "start_time": "2023-05-02T12:09:11.256Z"
   },
   {
    "duration": 45,
    "start_time": "2023-05-02T12:09:11.328Z"
   },
   {
    "duration": 17,
    "start_time": "2023-05-02T12:09:11.375Z"
   },
   {
    "duration": 32,
    "start_time": "2023-05-02T12:09:11.394Z"
   },
   {
    "duration": 14,
    "start_time": "2023-05-02T12:09:11.429Z"
   },
   {
    "duration": 26,
    "start_time": "2023-05-02T12:09:11.445Z"
   },
   {
    "duration": 35,
    "start_time": "2023-05-02T12:09:11.473Z"
   },
   {
    "duration": 25,
    "start_time": "2023-05-02T12:09:11.510Z"
   },
   {
    "duration": 158,
    "start_time": "2023-05-02T12:09:11.537Z"
   },
   {
    "duration": 395,
    "start_time": "2023-05-02T12:09:11.697Z"
   },
   {
    "duration": 95,
    "start_time": "2023-05-02T12:09:12.094Z"
   },
   {
    "duration": 50,
    "start_time": "2023-05-02T12:09:12.191Z"
   },
   {
    "duration": 320,
    "start_time": "2023-05-02T12:09:12.244Z"
   },
   {
    "duration": 214,
    "start_time": "2023-05-02T12:09:12.566Z"
   },
   {
    "duration": 365,
    "start_time": "2023-05-02T12:09:12.782Z"
   },
   {
    "duration": 341,
    "start_time": "2023-05-02T12:09:13.149Z"
   },
   {
    "duration": 117,
    "start_time": "2023-05-02T12:09:13.492Z"
   },
   {
    "duration": 262,
    "start_time": "2023-05-02T12:09:13.690Z"
   },
   {
    "duration": 209,
    "start_time": "2023-05-02T12:09:13.954Z"
   },
   {
    "duration": 366,
    "start_time": "2023-05-02T12:09:14.165Z"
   },
   {
    "duration": 338,
    "start_time": "2023-05-02T12:11:18.010Z"
   },
   {
    "duration": 318,
    "start_time": "2023-05-02T12:11:27.226Z"
   },
   {
    "duration": 329,
    "start_time": "2023-05-02T12:14:06.795Z"
   },
   {
    "duration": 1483,
    "start_time": "2023-05-02T12:14:17.030Z"
   },
   {
    "duration": 37,
    "start_time": "2023-05-02T12:14:18.515Z"
   },
   {
    "duration": 21,
    "start_time": "2023-05-02T12:14:18.554Z"
   },
   {
    "duration": 46,
    "start_time": "2023-05-02T12:14:18.578Z"
   },
   {
    "duration": 15,
    "start_time": "2023-05-02T12:14:18.626Z"
   },
   {
    "duration": 1454,
    "start_time": "2023-05-02T12:14:18.642Z"
   },
   {
    "duration": 1264,
    "start_time": "2023-05-02T12:14:20.098Z"
   },
   {
    "duration": 4,
    "start_time": "2023-05-02T12:14:21.364Z"
   },
   {
    "duration": 92,
    "start_time": "2023-05-02T12:14:21.370Z"
   },
   {
    "duration": 23,
    "start_time": "2023-05-02T12:14:21.465Z"
   },
   {
    "duration": 22,
    "start_time": "2023-05-02T12:14:21.490Z"
   },
   {
    "duration": 17,
    "start_time": "2023-05-02T12:14:21.514Z"
   },
   {
    "duration": 16,
    "start_time": "2023-05-02T12:14:21.533Z"
   },
   {
    "duration": 86,
    "start_time": "2023-05-02T12:14:21.551Z"
   },
   {
    "duration": 50,
    "start_time": "2023-05-02T12:14:21.640Z"
   },
   {
    "duration": 26,
    "start_time": "2023-05-02T12:14:21.693Z"
   },
   {
    "duration": 31,
    "start_time": "2023-05-02T12:14:21.722Z"
   },
   {
    "duration": 169,
    "start_time": "2023-05-02T12:14:21.756Z"
   },
   {
    "duration": 370,
    "start_time": "2023-05-02T12:14:21.927Z"
   },
   {
    "duration": 91,
    "start_time": "2023-05-02T12:14:22.300Z"
   },
   {
    "duration": 287,
    "start_time": "2023-05-02T12:14:22.393Z"
   },
   {
    "duration": 215,
    "start_time": "2023-05-02T12:14:22.682Z"
   },
   {
    "duration": 347,
    "start_time": "2023-05-02T12:14:22.898Z"
   },
   {
    "duration": 356,
    "start_time": "2023-05-02T12:14:23.247Z"
   },
   {
    "duration": 345,
    "start_time": "2023-05-02T12:14:23.605Z"
   },
   {
    "duration": 210,
    "start_time": "2023-05-02T12:14:23.952Z"
   },
   {
    "duration": 379,
    "start_time": "2023-05-02T12:14:24.164Z"
   },
   {
    "duration": 6,
    "start_time": "2023-05-02T12:19:48.939Z"
   },
   {
    "duration": 335,
    "start_time": "2023-05-02T12:19:53.133Z"
   },
   {
    "duration": 5,
    "start_time": "2023-05-02T12:20:28.426Z"
   },
   {
    "duration": 182,
    "start_time": "2023-05-02T12:20:32.019Z"
   },
   {
    "duration": 4,
    "start_time": "2023-05-02T12:36:17.281Z"
   },
   {
    "duration": 176,
    "start_time": "2023-05-02T12:36:22.141Z"
   },
   {
    "duration": 239,
    "start_time": "2023-05-02T12:36:39.720Z"
   },
   {
    "duration": 336,
    "start_time": "2023-05-02T12:37:02.018Z"
   },
   {
    "duration": 189,
    "start_time": "2023-05-02T12:37:25.819Z"
   },
   {
    "duration": 246,
    "start_time": "2023-05-02T12:37:41.755Z"
   },
   {
    "duration": 307,
    "start_time": "2023-05-02T12:38:06.235Z"
   },
   {
    "duration": 150,
    "start_time": "2023-05-02T12:43:23.947Z"
   },
   {
    "duration": 1654,
    "start_time": "2023-05-02T12:44:39.394Z"
   },
   {
    "duration": 39,
    "start_time": "2023-05-02T12:44:41.050Z"
   },
   {
    "duration": 23,
    "start_time": "2023-05-02T12:44:41.090Z"
   },
   {
    "duration": 49,
    "start_time": "2023-05-02T12:44:41.115Z"
   },
   {
    "duration": 38,
    "start_time": "2023-05-02T12:44:41.166Z"
   },
   {
    "duration": 1618,
    "start_time": "2023-05-02T12:44:41.207Z"
   },
   {
    "duration": 1258,
    "start_time": "2023-05-02T12:44:42.827Z"
   },
   {
    "duration": 4,
    "start_time": "2023-05-02T12:44:44.087Z"
   },
   {
    "duration": 19,
    "start_time": "2023-05-02T12:44:44.093Z"
   },
   {
    "duration": 14,
    "start_time": "2023-05-02T12:44:44.115Z"
   },
   {
    "duration": 21,
    "start_time": "2023-05-02T12:44:44.131Z"
   },
   {
    "duration": 48,
    "start_time": "2023-05-02T12:44:44.154Z"
   },
   {
    "duration": 18,
    "start_time": "2023-05-02T12:44:44.204Z"
   },
   {
    "duration": 10,
    "start_time": "2023-05-02T12:44:44.223Z"
   },
   {
    "duration": 71,
    "start_time": "2023-05-02T12:44:44.235Z"
   },
   {
    "duration": 23,
    "start_time": "2023-05-02T12:44:44.308Z"
   },
   {
    "duration": 29,
    "start_time": "2023-05-02T12:44:44.333Z"
   },
   {
    "duration": 160,
    "start_time": "2023-05-02T12:44:44.364Z"
   },
   {
    "duration": 390,
    "start_time": "2023-05-02T12:44:44.525Z"
   },
   {
    "duration": 5,
    "start_time": "2023-05-02T12:44:44.989Z"
   },
   {
    "duration": 257,
    "start_time": "2023-05-02T12:44:44.996Z"
   },
   {
    "duration": 215,
    "start_time": "2023-05-02T12:44:45.255Z"
   },
   {
    "duration": 375,
    "start_time": "2023-05-02T12:44:45.472Z"
   },
   {
    "duration": 365,
    "start_time": "2023-05-02T12:44:45.849Z"
   },
   {
    "duration": 354,
    "start_time": "2023-05-02T12:44:46.216Z"
   },
   {
    "duration": 236,
    "start_time": "2023-05-02T12:44:46.572Z"
   },
   {
    "duration": 329,
    "start_time": "2023-05-02T12:44:46.810Z"
   },
   {
    "duration": 17,
    "start_time": "2023-05-02T12:44:47.143Z"
   },
   {
    "duration": 204,
    "start_time": "2023-05-02T12:50:06.324Z"
   },
   {
    "duration": 341,
    "start_time": "2023-05-02T12:50:48.067Z"
   },
   {
    "duration": 188,
    "start_time": "2023-05-02T12:52:58.675Z"
   },
   {
    "duration": 298,
    "start_time": "2023-05-02T12:53:52.934Z"
   },
   {
    "duration": 14,
    "start_time": "2023-05-02T12:56:32.655Z"
   },
   {
    "duration": 172,
    "start_time": "2023-05-02T12:57:05.107Z"
   },
   {
    "duration": 184,
    "start_time": "2023-05-02T12:58:10.507Z"
   },
   {
    "duration": 340,
    "start_time": "2023-05-02T12:58:56.556Z"
   },
   {
    "duration": 1631,
    "start_time": "2023-05-02T12:59:14.047Z"
   },
   {
    "duration": 40,
    "start_time": "2023-05-02T12:59:15.681Z"
   },
   {
    "duration": 24,
    "start_time": "2023-05-02T12:59:15.723Z"
   },
   {
    "duration": 55,
    "start_time": "2023-05-02T12:59:15.749Z"
   },
   {
    "duration": 16,
    "start_time": "2023-05-02T12:59:15.805Z"
   },
   {
    "duration": 1520,
    "start_time": "2023-05-02T12:59:15.823Z"
   },
   {
    "duration": 1209,
    "start_time": "2023-05-02T12:59:17.345Z"
   },
   {
    "duration": 4,
    "start_time": "2023-05-02T12:59:18.556Z"
   },
   {
    "duration": 20,
    "start_time": "2023-05-02T12:59:18.562Z"
   },
   {
    "duration": 14,
    "start_time": "2023-05-02T12:59:18.585Z"
   },
   {
    "duration": 33,
    "start_time": "2023-05-02T12:59:18.601Z"
   },
   {
    "duration": 16,
    "start_time": "2023-05-02T12:59:18.636Z"
   },
   {
    "duration": 36,
    "start_time": "2023-05-02T12:59:18.654Z"
   },
   {
    "duration": 10,
    "start_time": "2023-05-02T12:59:18.692Z"
   },
   {
    "duration": 31,
    "start_time": "2023-05-02T12:59:18.703Z"
   },
   {
    "duration": 21,
    "start_time": "2023-05-02T12:59:18.735Z"
   },
   {
    "duration": 44,
    "start_time": "2023-05-02T12:59:18.759Z"
   },
   {
    "duration": 134,
    "start_time": "2023-05-02T12:59:18.805Z"
   },
   {
    "duration": 349,
    "start_time": "2023-05-02T12:59:18.941Z"
   },
   {
    "duration": 6,
    "start_time": "2023-05-02T12:59:19.291Z"
   },
   {
    "duration": 271,
    "start_time": "2023-05-02T12:59:19.389Z"
   },
   {
    "duration": 208,
    "start_time": "2023-05-02T12:59:19.662Z"
   },
   {
    "duration": 369,
    "start_time": "2023-05-02T12:59:19.872Z"
   },
   {
    "duration": 387,
    "start_time": "2023-05-02T12:59:20.244Z"
   },
   {
    "duration": 330,
    "start_time": "2023-05-02T12:59:20.633Z"
   },
   {
    "duration": 211,
    "start_time": "2023-05-02T12:59:20.965Z"
   },
   {
    "duration": 365,
    "start_time": "2023-05-02T12:59:21.177Z"
   },
   {
    "duration": 15,
    "start_time": "2023-05-02T12:59:21.545Z"
   },
   {
    "duration": 365,
    "start_time": "2023-05-02T12:59:21.561Z"
   },
   {
    "duration": 322,
    "start_time": "2023-05-02T12:59:21.928Z"
   },
   {
    "duration": 196,
    "start_time": "2023-05-02T12:59:22.252Z"
   },
   {
    "duration": 302,
    "start_time": "2023-05-02T12:59:22.450Z"
   },
   {
    "duration": 15,
    "start_time": "2023-05-02T12:59:22.754Z"
   },
   {
    "duration": 178,
    "start_time": "2023-05-02T12:59:22.771Z"
   },
   {
    "duration": 202,
    "start_time": "2023-05-02T12:59:22.951Z"
   },
   {
    "duration": 352,
    "start_time": "2023-05-02T12:59:23.155Z"
   },
   {
    "duration": 445,
    "start_time": "2023-05-02T13:03:10.699Z"
   },
   {
    "duration": 172,
    "start_time": "2023-05-02T13:03:16.444Z"
   },
   {
    "duration": 186,
    "start_time": "2023-05-02T13:03:24.936Z"
   },
   {
    "duration": 323,
    "start_time": "2023-05-02T13:03:37.907Z"
   },
   {
    "duration": 120,
    "start_time": "2023-05-02T13:26:13.081Z"
   },
   {
    "duration": 13,
    "start_time": "2023-05-02T13:26:32.455Z"
   },
   {
    "duration": 360,
    "start_time": "2023-05-02T13:28:51.133Z"
   },
   {
    "duration": 185,
    "start_time": "2023-05-02T13:29:18.071Z"
   },
   {
    "duration": 398,
    "start_time": "2023-05-02T13:30:10.261Z"
   },
   {
    "duration": 25,
    "start_time": "2023-05-02T13:32:48.232Z"
   },
   {
    "duration": 1597,
    "start_time": "2023-05-02T13:40:44.828Z"
   },
   {
    "duration": 39,
    "start_time": "2023-05-02T13:40:46.427Z"
   },
   {
    "duration": 31,
    "start_time": "2023-05-02T13:40:46.468Z"
   },
   {
    "duration": 71,
    "start_time": "2023-05-02T13:40:46.502Z"
   },
   {
    "duration": 31,
    "start_time": "2023-05-02T13:40:46.576Z"
   },
   {
    "duration": 1496,
    "start_time": "2023-05-02T13:40:46.609Z"
   },
   {
    "duration": 1158,
    "start_time": "2023-05-02T13:40:48.108Z"
   },
   {
    "duration": 5,
    "start_time": "2023-05-02T13:40:49.268Z"
   },
   {
    "duration": 26,
    "start_time": "2023-05-02T13:40:49.275Z"
   },
   {
    "duration": 17,
    "start_time": "2023-05-02T13:40:49.305Z"
   },
   {
    "duration": 22,
    "start_time": "2023-05-02T13:40:49.324Z"
   },
   {
    "duration": 41,
    "start_time": "2023-05-02T13:40:49.348Z"
   },
   {
    "duration": 13,
    "start_time": "2023-05-02T13:40:49.391Z"
   },
   {
    "duration": 10,
    "start_time": "2023-05-02T13:40:49.406Z"
   },
   {
    "duration": 40,
    "start_time": "2023-05-02T13:40:49.417Z"
   },
   {
    "duration": 34,
    "start_time": "2023-05-02T13:40:49.460Z"
   },
   {
    "duration": 21,
    "start_time": "2023-05-02T13:40:49.496Z"
   },
   {
    "duration": 147,
    "start_time": "2023-05-02T13:40:49.519Z"
   },
   {
    "duration": 327,
    "start_time": "2023-05-02T13:40:49.668Z"
   },
   {
    "duration": 6,
    "start_time": "2023-05-02T13:40:49.997Z"
   },
   {
    "duration": 358,
    "start_time": "2023-05-02T13:40:50.005Z"
   },
   {
    "duration": 244,
    "start_time": "2023-05-02T13:40:50.365Z"
   },
   {
    "duration": 342,
    "start_time": "2023-05-02T13:40:50.611Z"
   },
   {
    "duration": 342,
    "start_time": "2023-05-02T13:40:50.955Z"
   },
   {
    "duration": 368,
    "start_time": "2023-05-02T13:40:51.299Z"
   },
   {
    "duration": 230,
    "start_time": "2023-05-02T13:40:51.669Z"
   },
   {
    "duration": 341,
    "start_time": "2023-05-02T13:40:51.902Z"
   },
   {
    "duration": 16,
    "start_time": "2023-05-02T13:40:52.248Z"
   },
   {
    "duration": 335,
    "start_time": "2023-05-02T13:40:52.266Z"
   },
   {
    "duration": 391,
    "start_time": "2023-05-02T13:40:52.604Z"
   },
   {
    "duration": 203,
    "start_time": "2023-05-02T13:40:52.997Z"
   },
   {
    "duration": 341,
    "start_time": "2023-05-02T13:40:53.202Z"
   },
   {
    "duration": 15,
    "start_time": "2023-05-02T13:40:53.545Z"
   },
   {
    "duration": 464,
    "start_time": "2023-05-02T13:40:53.563Z"
   },
   {
    "duration": 328,
    "start_time": "2023-05-02T13:40:54.029Z"
   },
   {
    "duration": 201,
    "start_time": "2023-05-02T13:40:54.359Z"
   },
   {
    "duration": 382,
    "start_time": "2023-05-02T13:40:54.562Z"
   },
   {
    "duration": 359,
    "start_time": "2023-05-02T13:40:54.946Z"
   },
   {
    "duration": 152,
    "start_time": "2023-05-02T13:40:55.307Z"
   },
   {
    "duration": 258,
    "start_time": "2023-05-02T13:42:48.211Z"
   },
   {
    "duration": 22,
    "start_time": "2023-05-02T13:57:58.116Z"
   },
   {
    "duration": 1568,
    "start_time": "2023-05-02T13:59:06.687Z"
   },
   {
    "duration": 39,
    "start_time": "2023-05-02T13:59:08.258Z"
   },
   {
    "duration": 26,
    "start_time": "2023-05-02T13:59:08.299Z"
   },
   {
    "duration": 66,
    "start_time": "2023-05-02T13:59:08.327Z"
   },
   {
    "duration": 22,
    "start_time": "2023-05-02T13:59:08.396Z"
   },
   {
    "duration": 1526,
    "start_time": "2023-05-02T13:59:08.420Z"
   },
   {
    "duration": 1266,
    "start_time": "2023-05-02T13:59:09.948Z"
   },
   {
    "duration": 5,
    "start_time": "2023-05-02T13:59:11.216Z"
   },
   {
    "duration": 28,
    "start_time": "2023-05-02T13:59:11.223Z"
   },
   {
    "duration": 20,
    "start_time": "2023-05-02T13:59:11.254Z"
   },
   {
    "duration": 26,
    "start_time": "2023-05-02T13:59:11.276Z"
   },
   {
    "duration": 17,
    "start_time": "2023-05-02T13:59:11.304Z"
   },
   {
    "duration": 15,
    "start_time": "2023-05-02T13:59:11.323Z"
   },
   {
    "duration": 10,
    "start_time": "2023-05-02T13:59:11.339Z"
   },
   {
    "duration": 26,
    "start_time": "2023-05-02T13:59:11.388Z"
   },
   {
    "duration": 21,
    "start_time": "2023-05-02T13:59:11.416Z"
   },
   {
    "duration": 21,
    "start_time": "2023-05-02T13:59:11.439Z"
   },
   {
    "duration": 171,
    "start_time": "2023-05-02T13:59:11.461Z"
   },
   {
    "duration": 365,
    "start_time": "2023-05-02T13:59:11.634Z"
   },
   {
    "duration": 89,
    "start_time": "2023-05-02T13:59:12.000Z"
   },
   {
    "duration": 266,
    "start_time": "2023-05-02T13:59:12.091Z"
   },
   {
    "duration": 212,
    "start_time": "2023-05-02T13:59:12.359Z"
   },
   {
    "duration": 378,
    "start_time": "2023-05-02T13:59:12.573Z"
   },
   {
    "duration": 336,
    "start_time": "2023-05-02T13:59:12.954Z"
   },
   {
    "duration": 348,
    "start_time": "2023-05-02T13:59:13.291Z"
   },
   {
    "duration": 205,
    "start_time": "2023-05-02T13:59:13.642Z"
   },
   {
    "duration": 297,
    "start_time": "2023-05-02T13:59:13.849Z"
   },
   {
    "duration": 15,
    "start_time": "2023-05-02T13:59:14.149Z"
   },
   {
    "duration": 330,
    "start_time": "2023-05-02T13:59:14.167Z"
   },
   {
    "duration": 338,
    "start_time": "2023-05-02T13:59:14.499Z"
   },
   {
    "duration": 0,
    "start_time": "2023-05-02T13:59:14.839Z"
   },
   {
    "duration": 0,
    "start_time": "2023-05-02T13:59:14.841Z"
   },
   {
    "duration": 0,
    "start_time": "2023-05-02T13:59:14.843Z"
   },
   {
    "duration": 0,
    "start_time": "2023-05-02T13:59:14.844Z"
   },
   {
    "duration": 0,
    "start_time": "2023-05-02T13:59:14.845Z"
   },
   {
    "duration": 0,
    "start_time": "2023-05-02T13:59:14.847Z"
   },
   {
    "duration": 0,
    "start_time": "2023-05-02T13:59:14.849Z"
   },
   {
    "duration": 0,
    "start_time": "2023-05-02T13:59:14.850Z"
   },
   {
    "duration": 0,
    "start_time": "2023-05-02T13:59:14.851Z"
   },
   {
    "duration": 170,
    "start_time": "2023-05-02T14:01:40.852Z"
   },
   {
    "duration": 1654,
    "start_time": "2023-05-02T14:06:19.996Z"
   },
   {
    "duration": 39,
    "start_time": "2023-05-02T14:06:21.653Z"
   },
   {
    "duration": 27,
    "start_time": "2023-05-02T14:06:21.696Z"
   },
   {
    "duration": 65,
    "start_time": "2023-05-02T14:06:21.726Z"
   },
   {
    "duration": 19,
    "start_time": "2023-05-02T14:06:21.793Z"
   },
   {
    "duration": 1523,
    "start_time": "2023-05-02T14:06:21.814Z"
   },
   {
    "duration": 1278,
    "start_time": "2023-05-02T14:06:23.339Z"
   },
   {
    "duration": 6,
    "start_time": "2023-05-02T14:06:24.619Z"
   },
   {
    "duration": 19,
    "start_time": "2023-05-02T14:06:24.627Z"
   },
   {
    "duration": 14,
    "start_time": "2023-05-02T14:06:24.649Z"
   },
   {
    "duration": 30,
    "start_time": "2023-05-02T14:06:24.665Z"
   },
   {
    "duration": 23,
    "start_time": "2023-05-02T14:06:24.698Z"
   },
   {
    "duration": 13,
    "start_time": "2023-05-02T14:06:24.724Z"
   },
   {
    "duration": 12,
    "start_time": "2023-05-02T14:06:24.741Z"
   },
   {
    "duration": 61,
    "start_time": "2023-05-02T14:06:24.755Z"
   },
   {
    "duration": 20,
    "start_time": "2023-05-02T14:06:24.818Z"
   },
   {
    "duration": 19,
    "start_time": "2023-05-02T14:06:24.840Z"
   },
   {
    "duration": 175,
    "start_time": "2023-05-02T14:06:24.861Z"
   },
   {
    "duration": 317,
    "start_time": "2023-05-02T14:06:25.038Z"
   },
   {
    "duration": 10,
    "start_time": "2023-05-02T14:06:25.491Z"
   },
   {
    "duration": 207,
    "start_time": "2023-05-02T14:06:25.505Z"
   },
   {
    "duration": 221,
    "start_time": "2023-05-02T14:06:25.714Z"
   },
   {
    "duration": 334,
    "start_time": "2023-05-02T14:06:25.937Z"
   },
   {
    "duration": 354,
    "start_time": "2023-05-02T14:06:26.273Z"
   },
   {
    "duration": 323,
    "start_time": "2023-05-02T14:06:26.630Z"
   },
   {
    "duration": 211,
    "start_time": "2023-05-02T14:06:26.955Z"
   },
   {
    "duration": 381,
    "start_time": "2023-05-02T14:06:27.168Z"
   },
   {
    "duration": 13,
    "start_time": "2023-05-02T14:06:27.553Z"
   },
   {
    "duration": 356,
    "start_time": "2023-05-02T14:06:27.568Z"
   },
   {
    "duration": 356,
    "start_time": "2023-05-02T14:06:27.926Z"
   },
   {
    "duration": 203,
    "start_time": "2023-05-02T14:06:28.288Z"
   },
   {
    "duration": 358,
    "start_time": "2023-05-02T14:06:28.493Z"
   },
   {
    "duration": 16,
    "start_time": "2023-05-02T14:06:28.853Z"
   },
   {
    "duration": 458,
    "start_time": "2023-05-02T14:06:28.871Z"
   },
   {
    "duration": 315,
    "start_time": "2023-05-02T14:06:29.332Z"
   },
   {
    "duration": 212,
    "start_time": "2023-05-02T14:06:29.649Z"
   },
   {
    "duration": 362,
    "start_time": "2023-05-02T14:06:29.863Z"
   },
   {
    "duration": 314,
    "start_time": "2023-05-02T14:06:30.227Z"
   },
   {
    "duration": 178,
    "start_time": "2023-05-02T14:06:30.543Z"
   },
   {
    "duration": 297,
    "start_time": "2023-05-02T14:10:11.186Z"
   },
   {
    "duration": 5,
    "start_time": "2023-05-02T14:11:05.752Z"
   },
   {
    "duration": 294,
    "start_time": "2023-05-02T14:11:15.680Z"
   },
   {
    "duration": 263,
    "start_time": "2023-05-02T14:15:18.207Z"
   },
   {
    "duration": 326,
    "start_time": "2023-05-02T14:17:14.103Z"
   },
   {
    "duration": 325,
    "start_time": "2023-05-02T14:47:21.855Z"
   },
   {
    "duration": 508,
    "start_time": "2023-05-02T14:49:41.413Z"
   },
   {
    "duration": 210,
    "start_time": "2023-05-02T14:51:41.282Z"
   },
   {
    "duration": 559,
    "start_time": "2023-05-02T14:52:12.241Z"
   },
   {
    "duration": 14,
    "start_time": "2023-05-02T14:55:50.528Z"
   },
   {
    "duration": 184,
    "start_time": "2023-05-02T14:57:52.734Z"
   },
   {
    "duration": 5,
    "start_time": "2023-05-02T15:00:00.181Z"
   },
   {
    "duration": 35,
    "start_time": "2023-05-02T15:00:07.641Z"
   },
   {
    "duration": 6,
    "start_time": "2023-05-02T15:00:20.085Z"
   },
   {
    "duration": 1670,
    "start_time": "2023-05-02T15:02:19.016Z"
   },
   {
    "duration": 44,
    "start_time": "2023-05-02T15:02:20.689Z"
   },
   {
    "duration": 25,
    "start_time": "2023-05-02T15:02:20.736Z"
   },
   {
    "duration": 66,
    "start_time": "2023-05-02T15:02:20.764Z"
   },
   {
    "duration": 18,
    "start_time": "2023-05-02T15:02:20.833Z"
   },
   {
    "duration": 1658,
    "start_time": "2023-05-02T15:02:20.856Z"
   },
   {
    "duration": 1299,
    "start_time": "2023-05-02T15:02:22.516Z"
   },
   {
    "duration": 4,
    "start_time": "2023-05-02T15:02:23.817Z"
   },
   {
    "duration": 23,
    "start_time": "2023-05-02T15:02:23.823Z"
   },
   {
    "duration": 47,
    "start_time": "2023-05-02T15:02:23.849Z"
   },
   {
    "duration": 44,
    "start_time": "2023-05-02T15:02:23.899Z"
   },
   {
    "duration": 26,
    "start_time": "2023-05-02T15:02:23.945Z"
   },
   {
    "duration": 32,
    "start_time": "2023-05-02T15:02:23.973Z"
   },
   {
    "duration": 11,
    "start_time": "2023-05-02T15:02:24.007Z"
   },
   {
    "duration": 42,
    "start_time": "2023-05-02T15:02:24.020Z"
   },
   {
    "duration": 48,
    "start_time": "2023-05-02T15:02:24.065Z"
   },
   {
    "duration": 20,
    "start_time": "2023-05-02T15:02:24.114Z"
   },
   {
    "duration": 167,
    "start_time": "2023-05-02T15:02:24.136Z"
   },
   {
    "duration": 390,
    "start_time": "2023-05-02T15:02:24.306Z"
   },
   {
    "duration": 13,
    "start_time": "2023-05-02T15:02:24.699Z"
   },
   {
    "duration": 184,
    "start_time": "2023-05-02T15:02:24.789Z"
   },
   {
    "duration": 218,
    "start_time": "2023-05-02T15:02:24.975Z"
   },
   {
    "duration": 384,
    "start_time": "2023-05-02T15:02:25.197Z"
   },
   {
    "duration": 354,
    "start_time": "2023-05-02T15:02:25.583Z"
   },
   {
    "duration": 273,
    "start_time": "2023-05-02T15:02:25.994Z"
   },
   {
    "duration": 239,
    "start_time": "2023-05-02T15:02:26.270Z"
   },
   {
    "duration": 347,
    "start_time": "2023-05-02T15:02:26.513Z"
   },
   {
    "duration": 25,
    "start_time": "2023-05-02T15:02:26.864Z"
   },
   {
    "duration": 410,
    "start_time": "2023-05-02T15:02:26.892Z"
   },
   {
    "duration": 257,
    "start_time": "2023-05-02T15:02:27.305Z"
   },
   {
    "duration": 208,
    "start_time": "2023-05-02T15:02:27.564Z"
   },
   {
    "duration": 362,
    "start_time": "2023-05-02T15:02:27.774Z"
   },
   {
    "duration": 13,
    "start_time": "2023-05-02T15:02:28.138Z"
   },
   {
    "duration": 547,
    "start_time": "2023-05-02T15:02:28.153Z"
   },
   {
    "duration": 278,
    "start_time": "2023-05-02T15:02:28.702Z"
   },
   {
    "duration": 213,
    "start_time": "2023-05-02T15:02:28.982Z"
   },
   {
    "duration": 333,
    "start_time": "2023-05-02T15:02:29.199Z"
   },
   {
    "duration": 487,
    "start_time": "2023-05-02T15:02:29.534Z"
   },
   {
    "duration": 170,
    "start_time": "2023-05-02T15:02:30.023Z"
   },
   {
    "duration": 1666,
    "start_time": "2023-05-05T13:06:53.196Z"
   },
   {
    "duration": 353,
    "start_time": "2023-05-05T13:06:54.865Z"
   },
   {
    "duration": 24,
    "start_time": "2023-05-05T13:06:55.221Z"
   },
   {
    "duration": 57,
    "start_time": "2023-05-05T13:06:55.248Z"
   },
   {
    "duration": 20,
    "start_time": "2023-05-05T13:06:55.308Z"
   },
   {
    "duration": 1286,
    "start_time": "2023-05-05T13:06:55.329Z"
   },
   {
    "duration": 1263,
    "start_time": "2023-05-05T13:06:56.618Z"
   },
   {
    "duration": 5,
    "start_time": "2023-05-05T13:06:57.883Z"
   },
   {
    "duration": 34,
    "start_time": "2023-05-05T13:06:57.889Z"
   },
   {
    "duration": 30,
    "start_time": "2023-05-05T13:06:57.926Z"
   },
   {
    "duration": 25,
    "start_time": "2023-05-05T13:06:57.959Z"
   },
   {
    "duration": 24,
    "start_time": "2023-05-05T13:06:57.986Z"
   },
   {
    "duration": 42,
    "start_time": "2023-05-05T13:06:58.012Z"
   },
   {
    "duration": 14,
    "start_time": "2023-05-05T13:06:58.058Z"
   },
   {
    "duration": 56,
    "start_time": "2023-05-05T13:06:58.074Z"
   },
   {
    "duration": 23,
    "start_time": "2023-05-05T13:06:58.133Z"
   },
   {
    "duration": 22,
    "start_time": "2023-05-05T13:06:58.158Z"
   },
   {
    "duration": 1783,
    "start_time": "2023-05-05T13:06:58.183Z"
   },
   {
    "duration": 0,
    "start_time": "2023-05-05T13:06:59.969Z"
   },
   {
    "duration": 0,
    "start_time": "2023-05-05T13:06:59.970Z"
   },
   {
    "duration": 0,
    "start_time": "2023-05-05T13:06:59.972Z"
   },
   {
    "duration": 0,
    "start_time": "2023-05-05T13:06:59.973Z"
   },
   {
    "duration": 0,
    "start_time": "2023-05-05T13:06:59.975Z"
   },
   {
    "duration": 0,
    "start_time": "2023-05-05T13:06:59.977Z"
   },
   {
    "duration": 0,
    "start_time": "2023-05-05T13:06:59.978Z"
   },
   {
    "duration": 0,
    "start_time": "2023-05-05T13:06:59.980Z"
   },
   {
    "duration": 0,
    "start_time": "2023-05-05T13:06:59.981Z"
   },
   {
    "duration": 0,
    "start_time": "2023-05-05T13:06:59.982Z"
   },
   {
    "duration": 0,
    "start_time": "2023-05-05T13:06:59.984Z"
   },
   {
    "duration": 0,
    "start_time": "2023-05-05T13:06:59.986Z"
   },
   {
    "duration": 0,
    "start_time": "2023-05-05T13:06:59.987Z"
   },
   {
    "duration": 0,
    "start_time": "2023-05-05T13:06:59.988Z"
   },
   {
    "duration": 0,
    "start_time": "2023-05-05T13:06:59.989Z"
   },
   {
    "duration": 0,
    "start_time": "2023-05-05T13:06:59.991Z"
   },
   {
    "duration": 0,
    "start_time": "2023-05-05T13:06:59.992Z"
   },
   {
    "duration": 0,
    "start_time": "2023-05-05T13:06:59.993Z"
   },
   {
    "duration": 0,
    "start_time": "2023-05-05T13:06:59.994Z"
   },
   {
    "duration": 0,
    "start_time": "2023-05-05T13:06:59.995Z"
   },
   {
    "duration": 0,
    "start_time": "2023-05-05T13:06:59.996Z"
   },
   {
    "duration": 1316,
    "start_time": "2023-05-05T13:08:02.176Z"
   },
   {
    "duration": 5,
    "start_time": "2023-05-05T13:10:24.791Z"
   },
   {
    "duration": 122,
    "start_time": "2023-05-05T13:11:00.195Z"
   },
   {
    "duration": 130,
    "start_time": "2023-05-05T13:12:33.392Z"
   },
   {
    "duration": 141,
    "start_time": "2023-05-05T13:13:08.752Z"
   },
   {
    "duration": 137,
    "start_time": "2023-05-05T13:14:19.647Z"
   },
   {
    "duration": 122,
    "start_time": "2023-05-05T13:14:53.200Z"
   },
   {
    "duration": 117,
    "start_time": "2023-05-05T13:17:02.441Z"
   },
   {
    "duration": 235,
    "start_time": "2023-05-05T13:17:38.118Z"
   },
   {
    "duration": 131,
    "start_time": "2023-05-05T13:17:53.686Z"
   },
   {
    "duration": 102,
    "start_time": "2023-05-05T13:45:50.053Z"
   },
   {
    "duration": 131,
    "start_time": "2023-05-05T13:46:42.003Z"
   },
   {
    "duration": 834,
    "start_time": "2023-05-05T14:08:52.612Z"
   },
   {
    "duration": 916,
    "start_time": "2023-05-05T14:10:35.993Z"
   },
   {
    "duration": 1629,
    "start_time": "2023-05-05T14:11:10.991Z"
   },
   {
    "duration": 38,
    "start_time": "2023-05-05T14:11:12.622Z"
   },
   {
    "duration": 18,
    "start_time": "2023-05-05T14:11:12.662Z"
   },
   {
    "duration": 39,
    "start_time": "2023-05-05T14:11:12.683Z"
   },
   {
    "duration": 11,
    "start_time": "2023-05-05T14:11:12.724Z"
   },
   {
    "duration": 1288,
    "start_time": "2023-05-05T14:11:12.736Z"
   },
   {
    "duration": 1105,
    "start_time": "2023-05-05T14:11:14.027Z"
   },
   {
    "duration": 4,
    "start_time": "2023-05-05T14:11:15.134Z"
   },
   {
    "duration": 26,
    "start_time": "2023-05-05T14:11:15.140Z"
   },
   {
    "duration": 894,
    "start_time": "2023-05-05T14:11:15.168Z"
   },
   {
    "duration": 22,
    "start_time": "2023-05-05T14:11:16.065Z"
   },
   {
    "duration": 20,
    "start_time": "2023-05-05T14:11:16.088Z"
   },
   {
    "duration": 15,
    "start_time": "2023-05-05T14:11:16.110Z"
   },
   {
    "duration": 26,
    "start_time": "2023-05-05T14:11:16.127Z"
   },
   {
    "duration": 37,
    "start_time": "2023-05-05T14:11:16.155Z"
   },
   {
    "duration": 39,
    "start_time": "2023-05-05T14:11:16.194Z"
   },
   {
    "duration": 18,
    "start_time": "2023-05-05T14:11:16.236Z"
   },
   {
    "duration": 38,
    "start_time": "2023-05-05T14:11:16.256Z"
   },
   {
    "duration": 5,
    "start_time": "2023-05-05T14:11:16.297Z"
   },
   {
    "duration": 163,
    "start_time": "2023-05-05T14:11:16.304Z"
   },
   {
    "duration": 174,
    "start_time": "2023-05-05T14:11:16.469Z"
   },
   {
    "duration": 0,
    "start_time": "2023-05-05T14:11:16.645Z"
   },
   {
    "duration": 0,
    "start_time": "2023-05-05T14:11:16.647Z"
   },
   {
    "duration": 0,
    "start_time": "2023-05-05T14:11:16.648Z"
   },
   {
    "duration": 0,
    "start_time": "2023-05-05T14:11:16.649Z"
   },
   {
    "duration": 0,
    "start_time": "2023-05-05T14:11:16.650Z"
   },
   {
    "duration": 0,
    "start_time": "2023-05-05T14:11:16.651Z"
   },
   {
    "duration": 0,
    "start_time": "2023-05-05T14:11:16.653Z"
   },
   {
    "duration": 0,
    "start_time": "2023-05-05T14:11:16.654Z"
   },
   {
    "duration": 0,
    "start_time": "2023-05-05T14:11:16.655Z"
   },
   {
    "duration": 0,
    "start_time": "2023-05-05T14:11:16.656Z"
   },
   {
    "duration": 0,
    "start_time": "2023-05-05T14:11:16.768Z"
   },
   {
    "duration": 0,
    "start_time": "2023-05-05T14:11:16.769Z"
   },
   {
    "duration": 0,
    "start_time": "2023-05-05T14:11:16.770Z"
   },
   {
    "duration": 0,
    "start_time": "2023-05-05T14:11:16.784Z"
   },
   {
    "duration": 0,
    "start_time": "2023-05-05T14:11:16.785Z"
   },
   {
    "duration": 0,
    "start_time": "2023-05-05T14:11:16.786Z"
   },
   {
    "duration": 0,
    "start_time": "2023-05-05T14:11:16.787Z"
   },
   {
    "duration": 0,
    "start_time": "2023-05-05T14:11:16.788Z"
   },
   {
    "duration": 0,
    "start_time": "2023-05-05T14:11:16.789Z"
   },
   {
    "duration": 0,
    "start_time": "2023-05-05T14:11:16.791Z"
   },
   {
    "duration": 284,
    "start_time": "2023-05-05T14:13:57.360Z"
   },
   {
    "duration": 796,
    "start_time": "2023-05-05T14:14:12.450Z"
   },
   {
    "duration": 1013,
    "start_time": "2023-05-05T14:19:45.121Z"
   },
   {
    "duration": 835,
    "start_time": "2023-05-05T14:20:36.846Z"
   },
   {
    "duration": 1071,
    "start_time": "2023-05-05T14:22:43.641Z"
   },
   {
    "duration": 313,
    "start_time": "2023-05-05T14:32:02.011Z"
   },
   {
    "duration": 67,
    "start_time": "2023-05-05T14:38:05.431Z"
   },
   {
    "duration": 1702,
    "start_time": "2023-05-05T14:39:16.904Z"
   },
   {
    "duration": 42,
    "start_time": "2023-05-05T14:39:18.608Z"
   },
   {
    "duration": 19,
    "start_time": "2023-05-05T14:39:18.652Z"
   },
   {
    "duration": 50,
    "start_time": "2023-05-05T14:39:18.673Z"
   },
   {
    "duration": 12,
    "start_time": "2023-05-05T14:39:18.725Z"
   },
   {
    "duration": 1476,
    "start_time": "2023-05-05T14:39:18.740Z"
   },
   {
    "duration": 1274,
    "start_time": "2023-05-05T14:39:20.218Z"
   },
   {
    "duration": 5,
    "start_time": "2023-05-05T14:39:21.495Z"
   },
   {
    "duration": 23,
    "start_time": "2023-05-05T14:39:21.502Z"
   },
   {
    "duration": 1084,
    "start_time": "2023-05-05T14:39:21.528Z"
   },
   {
    "duration": 13,
    "start_time": "2023-05-05T14:39:22.614Z"
   },
   {
    "duration": 25,
    "start_time": "2023-05-05T14:39:22.629Z"
   },
   {
    "duration": 47,
    "start_time": "2023-05-05T14:39:22.656Z"
   },
   {
    "duration": 20,
    "start_time": "2023-05-05T14:39:22.706Z"
   },
   {
    "duration": 10,
    "start_time": "2023-05-05T14:39:22.729Z"
   },
   {
    "duration": 72,
    "start_time": "2023-05-05T14:39:22.741Z"
   },
   {
    "duration": 20,
    "start_time": "2023-05-05T14:39:22.815Z"
   },
   {
    "duration": 23,
    "start_time": "2023-05-05T14:39:22.837Z"
   },
   {
    "duration": 25,
    "start_time": "2023-05-05T14:39:22.862Z"
   },
   {
    "duration": 184,
    "start_time": "2023-05-05T14:39:22.890Z"
   },
   {
    "duration": 247,
    "start_time": "2023-05-05T14:39:23.077Z"
   },
   {
    "duration": 0,
    "start_time": "2023-05-05T14:39:23.390Z"
   },
   {
    "duration": 0,
    "start_time": "2023-05-05T14:39:23.395Z"
   },
   {
    "duration": 0,
    "start_time": "2023-05-05T14:39:23.397Z"
   },
   {
    "duration": 0,
    "start_time": "2023-05-05T14:39:23.404Z"
   },
   {
    "duration": 0,
    "start_time": "2023-05-05T14:39:23.409Z"
   },
   {
    "duration": 1,
    "start_time": "2023-05-05T14:39:23.483Z"
   },
   {
    "duration": 0,
    "start_time": "2023-05-05T14:39:23.485Z"
   },
   {
    "duration": 0,
    "start_time": "2023-05-05T14:39:23.487Z"
   },
   {
    "duration": 0,
    "start_time": "2023-05-05T14:39:23.489Z"
   },
   {
    "duration": 0,
    "start_time": "2023-05-05T14:39:23.491Z"
   },
   {
    "duration": 1,
    "start_time": "2023-05-05T14:39:23.493Z"
   },
   {
    "duration": 0,
    "start_time": "2023-05-05T14:39:23.496Z"
   },
   {
    "duration": 0,
    "start_time": "2023-05-05T14:39:23.500Z"
   },
   {
    "duration": 0,
    "start_time": "2023-05-05T14:39:23.505Z"
   },
   {
    "duration": 0,
    "start_time": "2023-05-05T14:39:23.507Z"
   },
   {
    "duration": 0,
    "start_time": "2023-05-05T14:39:23.509Z"
   },
   {
    "duration": 0,
    "start_time": "2023-05-05T14:39:23.510Z"
   },
   {
    "duration": 0,
    "start_time": "2023-05-05T14:39:23.511Z"
   },
   {
    "duration": 0,
    "start_time": "2023-05-05T14:39:23.513Z"
   },
   {
    "duration": 0,
    "start_time": "2023-05-05T14:39:23.514Z"
   },
   {
    "duration": 8,
    "start_time": "2023-05-05T14:41:07.165Z"
   },
   {
    "duration": 227,
    "start_time": "2023-05-05T14:41:26.700Z"
   },
   {
    "duration": 2468,
    "start_time": "2023-05-05T14:45:40.999Z"
   },
   {
    "duration": 55,
    "start_time": "2023-05-05T14:45:43.469Z"
   },
   {
    "duration": 30,
    "start_time": "2023-05-05T14:45:43.527Z"
   },
   {
    "duration": 75,
    "start_time": "2023-05-05T14:45:43.561Z"
   },
   {
    "duration": 22,
    "start_time": "2023-05-05T14:45:43.639Z"
   },
   {
    "duration": 1546,
    "start_time": "2023-05-05T14:45:43.664Z"
   },
   {
    "duration": 1295,
    "start_time": "2023-05-05T14:45:45.213Z"
   },
   {
    "duration": 5,
    "start_time": "2023-05-05T14:45:46.510Z"
   },
   {
    "duration": 34,
    "start_time": "2023-05-05T14:45:46.517Z"
   },
   {
    "duration": 1011,
    "start_time": "2023-05-05T14:45:46.555Z"
   },
   {
    "duration": 21,
    "start_time": "2023-05-05T14:45:47.568Z"
   },
   {
    "duration": 49,
    "start_time": "2023-05-05T14:45:47.592Z"
   },
   {
    "duration": 25,
    "start_time": "2023-05-05T14:45:47.643Z"
   },
   {
    "duration": 28,
    "start_time": "2023-05-05T14:45:47.670Z"
   },
   {
    "duration": 44,
    "start_time": "2023-05-05T14:45:47.701Z"
   },
   {
    "duration": 49,
    "start_time": "2023-05-05T14:45:47.747Z"
   },
   {
    "duration": 36,
    "start_time": "2023-05-05T14:45:47.799Z"
   },
   {
    "duration": 46,
    "start_time": "2023-05-05T14:45:47.838Z"
   },
   {
    "duration": 5,
    "start_time": "2023-05-05T14:45:47.887Z"
   },
   {
    "duration": 155,
    "start_time": "2023-05-05T14:45:47.895Z"
   },
   {
    "duration": 49,
    "start_time": "2023-05-05T14:45:48.056Z"
   },
   {
    "duration": 122913,
    "start_time": "2023-05-05T14:45:48.107Z"
   },
   {
    "duration": 67,
    "start_time": "2023-05-05T14:47:51.023Z"
   },
   {
    "duration": 7,
    "start_time": "2023-05-05T14:47:51.092Z"
   },
   {
    "duration": 389,
    "start_time": "2023-05-05T14:47:51.102Z"
   },
   {
    "duration": 143,
    "start_time": "2023-05-05T14:47:51.494Z"
   },
   {
    "duration": 0,
    "start_time": "2023-05-05T14:47:51.639Z"
   },
   {
    "duration": 0,
    "start_time": "2023-05-05T14:47:51.640Z"
   },
   {
    "duration": 0,
    "start_time": "2023-05-05T14:47:51.642Z"
   },
   {
    "duration": 0,
    "start_time": "2023-05-05T14:47:51.643Z"
   },
   {
    "duration": 0,
    "start_time": "2023-05-05T14:47:51.645Z"
   },
   {
    "duration": 0,
    "start_time": "2023-05-05T14:47:51.646Z"
   },
   {
    "duration": 0,
    "start_time": "2023-05-05T14:47:51.648Z"
   },
   {
    "duration": 0,
    "start_time": "2023-05-05T14:47:51.649Z"
   },
   {
    "duration": 0,
    "start_time": "2023-05-05T14:47:51.650Z"
   },
   {
    "duration": 0,
    "start_time": "2023-05-05T14:47:51.651Z"
   },
   {
    "duration": 0,
    "start_time": "2023-05-05T14:47:51.652Z"
   },
   {
    "duration": 0,
    "start_time": "2023-05-05T14:47:51.654Z"
   },
   {
    "duration": 0,
    "start_time": "2023-05-05T14:47:51.684Z"
   },
   {
    "duration": 0,
    "start_time": "2023-05-05T14:47:51.687Z"
   },
   {
    "duration": 1,
    "start_time": "2023-05-05T14:47:51.688Z"
   },
   {
    "duration": 0,
    "start_time": "2023-05-05T14:47:51.690Z"
   },
   {
    "duration": 0,
    "start_time": "2023-05-05T14:47:51.691Z"
   },
   {
    "duration": 19,
    "start_time": "2023-05-05T15:11:55.174Z"
   },
   {
    "duration": 27,
    "start_time": "2023-05-05T15:12:20.013Z"
   },
   {
    "duration": 5,
    "start_time": "2023-05-05T15:12:27.099Z"
   },
   {
    "duration": 158,
    "start_time": "2023-05-05T15:12:32.920Z"
   },
   {
    "duration": 23,
    "start_time": "2023-05-05T15:12:41.931Z"
   },
   {
    "duration": 180,
    "start_time": "2023-05-05T15:14:39.295Z"
   },
   {
    "duration": 217,
    "start_time": "2023-05-05T15:15:27.753Z"
   },
   {
    "duration": 387,
    "start_time": "2023-05-05T15:17:11.721Z"
   },
   {
    "duration": 1646,
    "start_time": "2023-05-05T15:17:46.098Z"
   },
   {
    "duration": 52,
    "start_time": "2023-05-05T15:17:47.746Z"
   },
   {
    "duration": 18,
    "start_time": "2023-05-05T15:17:47.800Z"
   },
   {
    "duration": 43,
    "start_time": "2023-05-05T15:17:47.820Z"
   },
   {
    "duration": 22,
    "start_time": "2023-05-05T15:17:47.865Z"
   },
   {
    "duration": 1361,
    "start_time": "2023-05-05T15:17:47.888Z"
   },
   {
    "duration": 1249,
    "start_time": "2023-05-05T15:17:49.251Z"
   },
   {
    "duration": 5,
    "start_time": "2023-05-05T15:17:50.502Z"
   },
   {
    "duration": 17,
    "start_time": "2023-05-05T15:17:50.511Z"
   },
   {
    "duration": 1003,
    "start_time": "2023-05-05T15:17:50.531Z"
   },
   {
    "duration": 13,
    "start_time": "2023-05-05T15:17:51.536Z"
   },
   {
    "duration": 22,
    "start_time": "2023-05-05T15:17:51.551Z"
   },
   {
    "duration": 31,
    "start_time": "2023-05-05T15:17:51.586Z"
   },
   {
    "duration": 17,
    "start_time": "2023-05-05T15:17:51.618Z"
   },
   {
    "duration": 10,
    "start_time": "2023-05-05T15:17:51.642Z"
   },
   {
    "duration": 62,
    "start_time": "2023-05-05T15:17:51.654Z"
   },
   {
    "duration": 26,
    "start_time": "2023-05-05T15:17:51.717Z"
   },
   {
    "duration": 29,
    "start_time": "2023-05-05T15:17:51.744Z"
   },
   {
    "duration": 7,
    "start_time": "2023-05-05T15:17:51.775Z"
   },
   {
    "duration": 139,
    "start_time": "2023-05-05T15:17:51.784Z"
   },
   {
    "duration": 32,
    "start_time": "2023-05-05T15:17:51.925Z"
   },
   {
    "duration": 132884,
    "start_time": "2023-05-05T15:17:51.959Z"
   },
   {
    "duration": 19,
    "start_time": "2023-05-05T15:20:04.845Z"
   },
   {
    "duration": 66,
    "start_time": "2023-05-05T15:20:04.866Z"
   },
   {
    "duration": 52,
    "start_time": "2023-05-05T15:20:04.935Z"
   },
   {
    "duration": 276,
    "start_time": "2023-05-05T15:20:04.998Z"
   },
   {
    "duration": 199,
    "start_time": "2023-05-05T15:20:05.276Z"
   },
   {
    "duration": 373,
    "start_time": "2023-05-05T15:20:05.482Z"
   },
   {
    "duration": 359,
    "start_time": "2023-05-05T15:20:05.857Z"
   },
   {
    "duration": 332,
    "start_time": "2023-05-05T15:20:06.220Z"
   },
   {
    "duration": 208,
    "start_time": "2023-05-05T15:20:06.554Z"
   },
   {
    "duration": 323,
    "start_time": "2023-05-05T15:20:06.764Z"
   },
   {
    "duration": 20,
    "start_time": "2023-05-05T15:20:07.089Z"
   },
   {
    "duration": 209,
    "start_time": "2023-05-05T15:20:07.111Z"
   },
   {
    "duration": 309,
    "start_time": "2023-05-05T15:20:07.323Z"
   },
   {
    "duration": 195,
    "start_time": "2023-05-05T15:20:07.633Z"
   },
   {
    "duration": 414,
    "start_time": "2023-05-05T15:20:07.829Z"
   },
   {
    "duration": 12,
    "start_time": "2023-05-05T15:20:08.244Z"
   },
   {
    "duration": 441,
    "start_time": "2023-05-05T15:20:08.258Z"
   },
   {
    "duration": 349,
    "start_time": "2023-05-05T15:20:08.701Z"
   },
   {
    "duration": 215,
    "start_time": "2023-05-05T15:20:09.052Z"
   },
   {
    "duration": 365,
    "start_time": "2023-05-05T15:20:09.269Z"
   },
   {
    "duration": 490,
    "start_time": "2023-05-05T15:20:09.636Z"
   },
   {
    "duration": 162,
    "start_time": "2023-05-05T15:20:10.128Z"
   },
   {
    "duration": 22,
    "start_time": "2023-05-05T15:25:49.402Z"
   },
   {
    "duration": 221,
    "start_time": "2023-05-05T15:26:01.265Z"
   },
   {
    "duration": 175,
    "start_time": "2023-05-05T15:26:40.515Z"
   },
   {
    "duration": 158,
    "start_time": "2023-05-05T15:26:47.493Z"
   },
   {
    "duration": 16,
    "start_time": "2023-05-05T15:30:36.037Z"
   },
   {
    "duration": 197,
    "start_time": "2023-05-05T15:31:22.523Z"
   },
   {
    "duration": 1630,
    "start_time": "2023-05-05T15:32:14.426Z"
   },
   {
    "duration": 62,
    "start_time": "2023-05-05T15:32:16.058Z"
   },
   {
    "duration": 24,
    "start_time": "2023-05-05T15:32:16.123Z"
   },
   {
    "duration": 76,
    "start_time": "2023-05-05T15:32:16.149Z"
   },
   {
    "duration": 17,
    "start_time": "2023-05-05T15:32:16.228Z"
   },
   {
    "duration": 1407,
    "start_time": "2023-05-05T15:32:16.247Z"
   },
   {
    "duration": 1221,
    "start_time": "2023-05-05T15:32:17.655Z"
   },
   {
    "duration": 4,
    "start_time": "2023-05-05T15:32:18.878Z"
   },
   {
    "duration": 33,
    "start_time": "2023-05-05T15:32:18.884Z"
   },
   {
    "duration": 1065,
    "start_time": "2023-05-05T15:32:18.919Z"
   },
   {
    "duration": 19,
    "start_time": "2023-05-05T15:32:19.986Z"
   },
   {
    "duration": 32,
    "start_time": "2023-05-05T15:32:20.007Z"
   },
   {
    "duration": 18,
    "start_time": "2023-05-05T15:32:20.041Z"
   },
   {
    "duration": 21,
    "start_time": "2023-05-05T15:32:20.085Z"
   },
   {
    "duration": 18,
    "start_time": "2023-05-05T15:32:20.109Z"
   },
   {
    "duration": 28,
    "start_time": "2023-05-05T15:32:20.129Z"
   },
   {
    "duration": 50,
    "start_time": "2023-05-05T15:32:20.159Z"
   },
   {
    "duration": 20,
    "start_time": "2023-05-05T15:32:20.211Z"
   },
   {
    "duration": 8,
    "start_time": "2023-05-05T15:32:20.233Z"
   },
   {
    "duration": 161,
    "start_time": "2023-05-05T15:32:20.243Z"
   },
   {
    "duration": 49,
    "start_time": "2023-05-05T15:32:20.406Z"
   },
   {
    "duration": 144797,
    "start_time": "2023-05-05T15:32:20.457Z"
   },
   {
    "duration": 28,
    "start_time": "2023-05-05T15:34:45.256Z"
   },
   {
    "duration": 70,
    "start_time": "2023-05-05T15:34:45.286Z"
   },
   {
    "duration": 13,
    "start_time": "2023-05-05T15:34:45.385Z"
   },
   {
    "duration": 303,
    "start_time": "2023-05-05T15:34:45.402Z"
   },
   {
    "duration": 220,
    "start_time": "2023-05-05T15:34:45.707Z"
   },
   {
    "duration": 351,
    "start_time": "2023-05-05T15:34:45.929Z"
   },
   {
    "duration": 346,
    "start_time": "2023-05-05T15:34:46.283Z"
   },
   {
    "duration": 383,
    "start_time": "2023-05-05T15:34:46.631Z"
   },
   {
    "duration": 210,
    "start_time": "2023-05-05T15:34:47.017Z"
   },
   {
    "duration": 334,
    "start_time": "2023-05-05T15:34:47.229Z"
   },
   {
    "duration": 21,
    "start_time": "2023-05-05T15:34:47.564Z"
   },
   {
    "duration": 237,
    "start_time": "2023-05-05T15:34:47.587Z"
   },
   {
    "duration": 362,
    "start_time": "2023-05-05T15:34:47.827Z"
   },
   {
    "duration": 241,
    "start_time": "2023-05-05T15:34:48.191Z"
   },
   {
    "duration": 328,
    "start_time": "2023-05-05T15:34:48.434Z"
   },
   {
    "duration": 134,
    "start_time": "2023-05-05T15:34:48.764Z"
   },
   {
    "duration": 449,
    "start_time": "2023-05-05T15:34:48.901Z"
   },
   {
    "duration": 345,
    "start_time": "2023-05-05T15:34:49.352Z"
   },
   {
    "duration": 259,
    "start_time": "2023-05-05T15:34:49.705Z"
   },
   {
    "duration": 373,
    "start_time": "2023-05-05T15:34:49.966Z"
   },
   {
    "duration": 522,
    "start_time": "2023-05-05T15:34:50.340Z"
   },
   {
    "duration": 187,
    "start_time": "2023-05-05T15:34:50.864Z"
   },
   {
    "duration": 25,
    "start_time": "2023-05-05T15:45:23.205Z"
   },
   {
    "duration": 18,
    "start_time": "2023-05-05T15:45:44.005Z"
   },
   {
    "duration": 19,
    "start_time": "2023-05-05T15:47:34.523Z"
   },
   {
    "duration": 23,
    "start_time": "2023-05-05T15:47:48.409Z"
   },
   {
    "duration": 25,
    "start_time": "2023-05-05T15:48:48.695Z"
   },
   {
    "duration": 32,
    "start_time": "2023-05-05T15:49:10.019Z"
   },
   {
    "duration": 1487,
    "start_time": "2023-05-05T15:49:24.793Z"
   },
   {
    "duration": 41,
    "start_time": "2023-05-05T15:49:26.282Z"
   },
   {
    "duration": 27,
    "start_time": "2023-05-05T15:49:26.325Z"
   },
   {
    "duration": 56,
    "start_time": "2023-05-05T15:49:26.355Z"
   },
   {
    "duration": 12,
    "start_time": "2023-05-05T15:49:26.414Z"
   },
   {
    "duration": 1334,
    "start_time": "2023-05-05T15:49:26.431Z"
   },
   {
    "duration": 1145,
    "start_time": "2023-05-05T15:49:27.767Z"
   },
   {
    "duration": 4,
    "start_time": "2023-05-05T15:49:28.915Z"
   },
   {
    "duration": 30,
    "start_time": "2023-05-05T15:49:28.921Z"
   },
   {
    "duration": 1017,
    "start_time": "2023-05-05T15:49:28.956Z"
   },
   {
    "duration": 18,
    "start_time": "2023-05-05T15:49:29.975Z"
   },
   {
    "duration": 31,
    "start_time": "2023-05-05T15:49:29.995Z"
   },
   {
    "duration": 42,
    "start_time": "2023-05-05T15:49:30.032Z"
   },
   {
    "duration": 17,
    "start_time": "2023-05-05T15:49:30.076Z"
   },
   {
    "duration": 31,
    "start_time": "2023-05-05T15:49:30.095Z"
   },
   {
    "duration": 52,
    "start_time": "2023-05-05T15:49:30.128Z"
   },
   {
    "duration": 20,
    "start_time": "2023-05-05T15:49:30.182Z"
   },
   {
    "duration": 27,
    "start_time": "2023-05-05T15:49:30.204Z"
   },
   {
    "duration": 4,
    "start_time": "2023-05-05T15:49:30.234Z"
   },
   {
    "duration": 144,
    "start_time": "2023-05-05T15:49:30.240Z"
   },
   {
    "duration": 32,
    "start_time": "2023-05-05T15:49:30.386Z"
   },
   {
    "duration": 126324,
    "start_time": "2023-05-05T15:49:30.419Z"
   },
   {
    "duration": 24,
    "start_time": "2023-05-05T15:51:36.744Z"
   },
   {
    "duration": 35,
    "start_time": "2023-05-05T15:51:36.783Z"
   },
   {
    "duration": 93,
    "start_time": "2023-05-05T15:51:36.891Z"
   },
   {
    "duration": 203,
    "start_time": "2023-05-05T15:51:36.986Z"
   },
   {
    "duration": 197,
    "start_time": "2023-05-05T15:51:37.192Z"
   },
   {
    "duration": 394,
    "start_time": "2023-05-05T15:51:37.394Z"
   },
   {
    "duration": 327,
    "start_time": "2023-05-05T15:51:37.790Z"
   },
   {
    "duration": 334,
    "start_time": "2023-05-05T15:51:38.121Z"
   },
   {
    "duration": 213,
    "start_time": "2023-05-05T15:51:38.457Z"
   },
   {
    "duration": 394,
    "start_time": "2023-05-05T15:51:38.672Z"
   },
   {
    "duration": 28,
    "start_time": "2023-05-05T15:51:39.068Z"
   },
   {
    "duration": 199,
    "start_time": "2023-05-05T15:51:39.099Z"
   },
   {
    "duration": 405,
    "start_time": "2023-05-05T15:51:39.301Z"
   },
   {
    "duration": 281,
    "start_time": "2023-05-05T15:51:39.708Z"
   },
   {
    "duration": 446,
    "start_time": "2023-05-05T15:51:39.991Z"
   },
   {
    "duration": 15,
    "start_time": "2023-05-05T15:51:40.439Z"
   },
   {
    "duration": 444,
    "start_time": "2023-05-05T15:51:40.456Z"
   },
   {
    "duration": 397,
    "start_time": "2023-05-05T15:51:40.903Z"
   },
   {
    "duration": 230,
    "start_time": "2023-05-05T15:51:41.302Z"
   },
   {
    "duration": 314,
    "start_time": "2023-05-05T15:51:41.534Z"
   },
   {
    "duration": 468,
    "start_time": "2023-05-05T15:51:41.850Z"
   },
   {
    "duration": 164,
    "start_time": "2023-05-05T15:51:42.321Z"
   },
   {
    "duration": 38,
    "start_time": "2023-05-05T15:54:29.944Z"
   },
   {
    "duration": 142,
    "start_time": "2023-05-05T15:55:56.511Z"
   },
   {
    "duration": 15,
    "start_time": "2023-05-05T16:02:51.906Z"
   },
   {
    "duration": 29,
    "start_time": "2023-05-05T16:03:13.977Z"
   },
   {
    "duration": 23,
    "start_time": "2023-05-05T16:18:25.422Z"
   },
   {
    "duration": 214,
    "start_time": "2023-05-05T16:27:35.701Z"
   },
   {
    "duration": 29,
    "start_time": "2023-05-05T16:31:15.273Z"
   },
   {
    "duration": 8,
    "start_time": "2023-05-05T16:41:07.649Z"
   },
   {
    "duration": 84,
    "start_time": "2023-05-05T16:41:28.841Z"
   },
   {
    "duration": 1483,
    "start_time": "2023-05-05T16:43:09.272Z"
   },
   {
    "duration": 41,
    "start_time": "2023-05-05T16:43:10.758Z"
   },
   {
    "duration": 18,
    "start_time": "2023-05-05T16:43:10.801Z"
   },
   {
    "duration": 49,
    "start_time": "2023-05-05T16:43:10.821Z"
   },
   {
    "duration": 21,
    "start_time": "2023-05-05T16:43:10.872Z"
   },
   {
    "duration": 1257,
    "start_time": "2023-05-05T16:43:10.895Z"
   },
   {
    "duration": 1126,
    "start_time": "2023-05-05T16:43:12.154Z"
   },
   {
    "duration": 4,
    "start_time": "2023-05-05T16:43:13.282Z"
   },
   {
    "duration": 21,
    "start_time": "2023-05-05T16:43:13.289Z"
   },
   {
    "duration": 865,
    "start_time": "2023-05-05T16:43:13.312Z"
   },
   {
    "duration": 11,
    "start_time": "2023-05-05T16:43:14.182Z"
   },
   {
    "duration": 21,
    "start_time": "2023-05-05T16:43:14.194Z"
   },
   {
    "duration": 26,
    "start_time": "2023-05-05T16:43:14.218Z"
   },
   {
    "duration": 33,
    "start_time": "2023-05-05T16:43:14.247Z"
   },
   {
    "duration": 22,
    "start_time": "2023-05-05T16:43:14.282Z"
   },
   {
    "duration": 42,
    "start_time": "2023-05-05T16:43:14.306Z"
   },
   {
    "duration": 26,
    "start_time": "2023-05-05T16:43:14.350Z"
   },
   {
    "duration": 31,
    "start_time": "2023-05-05T16:43:14.379Z"
   },
   {
    "duration": 8,
    "start_time": "2023-05-05T16:43:14.411Z"
   },
   {
    "duration": 128,
    "start_time": "2023-05-05T16:43:14.420Z"
   },
   {
    "duration": 4,
    "start_time": "2023-05-05T16:43:14.550Z"
   },
   {
    "duration": 1005,
    "start_time": "2023-05-05T16:43:14.555Z"
   },
   {
    "duration": 115,
    "start_time": "2023-05-05T16:43:15.562Z"
   },
   {
    "duration": 0,
    "start_time": "2023-05-05T16:43:15.684Z"
   },
   {
    "duration": 0,
    "start_time": "2023-05-05T16:43:15.685Z"
   },
   {
    "duration": 0,
    "start_time": "2023-05-05T16:43:15.686Z"
   },
   {
    "duration": 0,
    "start_time": "2023-05-05T16:43:15.687Z"
   },
   {
    "duration": 0,
    "start_time": "2023-05-05T16:43:15.688Z"
   },
   {
    "duration": 0,
    "start_time": "2023-05-05T16:43:15.689Z"
   },
   {
    "duration": 0,
    "start_time": "2023-05-05T16:43:15.690Z"
   },
   {
    "duration": 0,
    "start_time": "2023-05-05T16:43:15.691Z"
   },
   {
    "duration": 1,
    "start_time": "2023-05-05T16:43:15.692Z"
   },
   {
    "duration": 0,
    "start_time": "2023-05-05T16:43:15.694Z"
   },
   {
    "duration": 0,
    "start_time": "2023-05-05T16:43:15.695Z"
   },
   {
    "duration": 0,
    "start_time": "2023-05-05T16:43:15.697Z"
   },
   {
    "duration": 1,
    "start_time": "2023-05-05T16:43:15.698Z"
   },
   {
    "duration": 0,
    "start_time": "2023-05-05T16:43:15.700Z"
   },
   {
    "duration": 0,
    "start_time": "2023-05-05T16:43:15.701Z"
   },
   {
    "duration": 0,
    "start_time": "2023-05-05T16:43:15.703Z"
   },
   {
    "duration": 0,
    "start_time": "2023-05-05T16:43:15.704Z"
   },
   {
    "duration": 0,
    "start_time": "2023-05-05T16:43:15.706Z"
   },
   {
    "duration": 0,
    "start_time": "2023-05-05T16:43:15.708Z"
   },
   {
    "duration": 0,
    "start_time": "2023-05-05T16:43:15.709Z"
   },
   {
    "duration": 0,
    "start_time": "2023-05-05T16:43:15.710Z"
   },
   {
    "duration": 941,
    "start_time": "2023-05-05T16:45:49.971Z"
   },
   {
    "duration": 13,
    "start_time": "2023-05-05T16:45:53.920Z"
   },
   {
    "duration": 169,
    "start_time": "2023-05-05T16:47:51.991Z"
   },
   {
    "duration": 1492,
    "start_time": "2023-05-05T16:54:07.607Z"
   },
   {
    "duration": 49,
    "start_time": "2023-05-05T16:54:09.101Z"
   },
   {
    "duration": 23,
    "start_time": "2023-05-05T16:54:09.152Z"
   },
   {
    "duration": 45,
    "start_time": "2023-05-05T16:54:09.177Z"
   },
   {
    "duration": 13,
    "start_time": "2023-05-05T16:54:09.224Z"
   },
   {
    "duration": 1369,
    "start_time": "2023-05-05T16:54:09.239Z"
   },
   {
    "duration": 1195,
    "start_time": "2023-05-05T16:54:10.609Z"
   },
   {
    "duration": 5,
    "start_time": "2023-05-05T16:54:11.806Z"
   },
   {
    "duration": 32,
    "start_time": "2023-05-05T16:54:11.813Z"
   },
   {
    "duration": 970,
    "start_time": "2023-05-05T16:54:11.847Z"
   },
   {
    "duration": 13,
    "start_time": "2023-05-05T16:54:12.818Z"
   },
   {
    "duration": 24,
    "start_time": "2023-05-05T16:54:12.833Z"
   },
   {
    "duration": 33,
    "start_time": "2023-05-05T16:54:12.859Z"
   },
   {
    "duration": 14,
    "start_time": "2023-05-05T16:54:12.893Z"
   },
   {
    "duration": 10,
    "start_time": "2023-05-05T16:54:12.908Z"
   },
   {
    "duration": 65,
    "start_time": "2023-05-05T16:54:12.919Z"
   },
   {
    "duration": 20,
    "start_time": "2023-05-05T16:54:12.986Z"
   },
   {
    "duration": 20,
    "start_time": "2023-05-05T16:54:13.007Z"
   },
   {
    "duration": 4,
    "start_time": "2023-05-05T16:54:13.029Z"
   },
   {
    "duration": 150,
    "start_time": "2023-05-05T16:54:13.035Z"
   },
   {
    "duration": 4,
    "start_time": "2023-05-05T16:54:13.187Z"
   },
   {
    "duration": 1034,
    "start_time": "2023-05-05T16:54:13.193Z"
   },
   {
    "duration": 193,
    "start_time": "2023-05-05T16:54:14.229Z"
   },
   {
    "duration": 116661,
    "start_time": "2023-05-05T16:54:14.424Z"
   },
   {
    "duration": 22,
    "start_time": "2023-05-05T16:56:11.087Z"
   },
   {
    "duration": 183,
    "start_time": "2023-05-05T16:56:11.111Z"
   },
   {
    "duration": 20,
    "start_time": "2023-05-05T16:56:11.296Z"
   },
   {
    "duration": 510,
    "start_time": "2023-05-05T16:56:11.321Z"
   },
   {
    "duration": 82,
    "start_time": "2023-05-05T16:56:11.832Z"
   },
   {
    "duration": 0,
    "start_time": "2023-05-05T16:56:11.916Z"
   },
   {
    "duration": 0,
    "start_time": "2023-05-05T16:56:11.917Z"
   },
   {
    "duration": 0,
    "start_time": "2023-05-05T16:56:11.918Z"
   },
   {
    "duration": 0,
    "start_time": "2023-05-05T16:56:11.919Z"
   },
   {
    "duration": 0,
    "start_time": "2023-05-05T16:56:11.920Z"
   },
   {
    "duration": 0,
    "start_time": "2023-05-05T16:56:11.921Z"
   },
   {
    "duration": 0,
    "start_time": "2023-05-05T16:56:11.923Z"
   },
   {
    "duration": 0,
    "start_time": "2023-05-05T16:56:11.925Z"
   },
   {
    "duration": 0,
    "start_time": "2023-05-05T16:56:11.926Z"
   },
   {
    "duration": 0,
    "start_time": "2023-05-05T16:56:11.927Z"
   },
   {
    "duration": 0,
    "start_time": "2023-05-05T16:56:11.928Z"
   },
   {
    "duration": 0,
    "start_time": "2023-05-05T16:56:11.930Z"
   },
   {
    "duration": 0,
    "start_time": "2023-05-05T16:56:11.931Z"
   },
   {
    "duration": 0,
    "start_time": "2023-05-05T16:56:11.932Z"
   },
   {
    "duration": 0,
    "start_time": "2023-05-05T16:56:11.933Z"
   },
   {
    "duration": 0,
    "start_time": "2023-05-05T16:56:11.934Z"
   },
   {
    "duration": 0,
    "start_time": "2023-05-05T16:56:11.935Z"
   },
   {
    "duration": 27,
    "start_time": "2023-05-05T17:00:26.762Z"
   },
   {
    "duration": 164,
    "start_time": "2023-05-05T17:00:33.302Z"
   },
   {
    "duration": 263,
    "start_time": "2023-05-05T17:00:50.907Z"
   },
   {
    "duration": 185,
    "start_time": "2023-05-05T17:00:53.947Z"
   },
   {
    "duration": 89,
    "start_time": "2023-05-05T17:01:11.301Z"
   },
   {
    "duration": 349,
    "start_time": "2023-05-05T17:01:15.377Z"
   },
   {
    "duration": 352,
    "start_time": "2023-05-05T17:01:30.988Z"
   },
   {
    "duration": 1635,
    "start_time": "2023-05-07T12:58:55.288Z"
   },
   {
    "duration": 91,
    "start_time": "2023-05-07T12:58:56.925Z"
   },
   {
    "duration": 21,
    "start_time": "2023-05-07T12:58:57.019Z"
   },
   {
    "duration": 44,
    "start_time": "2023-05-07T12:58:57.042Z"
   },
   {
    "duration": 16,
    "start_time": "2023-05-07T12:58:57.091Z"
   },
   {
    "duration": 1401,
    "start_time": "2023-05-07T12:58:57.109Z"
   },
   {
    "duration": 1192,
    "start_time": "2023-05-07T12:58:58.512Z"
   },
   {
    "duration": 4,
    "start_time": "2023-05-07T12:58:59.706Z"
   },
   {
    "duration": 17,
    "start_time": "2023-05-07T12:58:59.711Z"
   },
   {
    "duration": 969,
    "start_time": "2023-05-07T12:58:59.732Z"
   },
   {
    "duration": 16,
    "start_time": "2023-05-07T12:59:00.708Z"
   },
   {
    "duration": 36,
    "start_time": "2023-05-07T12:59:00.726Z"
   },
   {
    "duration": 16,
    "start_time": "2023-05-07T12:59:00.764Z"
   },
   {
    "duration": 36,
    "start_time": "2023-05-07T12:59:00.781Z"
   },
   {
    "duration": 14,
    "start_time": "2023-05-07T12:59:00.819Z"
   },
   {
    "duration": 150,
    "start_time": "2023-05-07T12:59:00.835Z"
   },
   {
    "duration": 28,
    "start_time": "2023-05-07T12:59:00.987Z"
   },
   {
    "duration": 36,
    "start_time": "2023-05-07T12:59:01.017Z"
   },
   {
    "duration": 10,
    "start_time": "2023-05-07T12:59:01.054Z"
   },
   {
    "duration": 138,
    "start_time": "2023-05-07T12:59:01.066Z"
   },
   {
    "duration": 14,
    "start_time": "2023-05-07T12:59:01.205Z"
   },
   {
    "duration": 976,
    "start_time": "2023-05-07T12:59:01.221Z"
   },
   {
    "duration": 221,
    "start_time": "2023-05-07T12:59:02.198Z"
   },
   {
    "duration": 121822,
    "start_time": "2023-05-07T12:59:02.422Z"
   },
   {
    "duration": 22,
    "start_time": "2023-05-07T13:01:04.247Z"
   },
   {
    "duration": 249,
    "start_time": "2023-05-07T13:01:04.271Z"
   },
   {
    "duration": 19,
    "start_time": "2023-05-07T13:01:04.522Z"
   },
   {
    "duration": 483,
    "start_time": "2023-05-07T13:01:04.545Z"
   },
   {
    "duration": 27,
    "start_time": "2023-05-07T13:01:05.029Z"
   },
   {
    "duration": 177,
    "start_time": "2023-05-07T13:01:05.058Z"
   },
   {
    "duration": 266,
    "start_time": "2023-05-07T13:01:05.237Z"
   },
   {
    "duration": 190,
    "start_time": "2023-05-07T13:01:05.505Z"
   },
   {
    "duration": 31,
    "start_time": "2023-05-07T13:01:05.696Z"
   },
   {
    "duration": 428,
    "start_time": "2023-05-07T13:01:05.796Z"
   },
   {
    "duration": 13,
    "start_time": "2023-05-07T13:01:06.225Z"
   },
   {
    "duration": 175,
    "start_time": "2023-05-07T13:01:06.239Z"
   },
   {
    "duration": 324,
    "start_time": "2023-05-07T13:01:06.416Z"
   },
   {
    "duration": 277,
    "start_time": "2023-05-07T13:01:06.742Z"
   },
   {
    "duration": 324,
    "start_time": "2023-05-07T13:01:07.020Z"
   },
   {
    "duration": 19,
    "start_time": "2023-05-07T13:01:07.346Z"
   },
   {
    "duration": 460,
    "start_time": "2023-05-07T13:01:07.368Z"
   },
   {
    "duration": 319,
    "start_time": "2023-05-07T13:01:07.830Z"
   },
   {
    "duration": 186,
    "start_time": "2023-05-07T13:01:08.151Z"
   },
   {
    "duration": 308,
    "start_time": "2023-05-07T13:01:08.339Z"
   },
   {
    "duration": 403,
    "start_time": "2023-05-07T13:01:08.649Z"
   },
   {
    "duration": 155,
    "start_time": "2023-05-07T13:01:09.054Z"
   },
   {
    "duration": 58,
    "start_time": "2023-05-07T13:12:25.759Z"
   },
   {
    "duration": 47,
    "start_time": "2023-05-07T13:13:30.446Z"
   },
   {
    "duration": 236,
    "start_time": "2023-05-07T13:15:52.109Z"
   },
   {
    "duration": 50,
    "start_time": "2023-05-07T13:16:51.974Z"
   },
   {
    "duration": 43,
    "start_time": "2023-05-08T05:40:02.249Z"
   },
   {
    "duration": 1879,
    "start_time": "2023-05-08T05:42:17.465Z"
   },
   {
    "duration": 166,
    "start_time": "2023-05-08T05:42:19.346Z"
   },
   {
    "duration": 19,
    "start_time": "2023-05-08T05:42:19.514Z"
   },
   {
    "duration": 41,
    "start_time": "2023-05-08T05:42:19.536Z"
   },
   {
    "duration": 13,
    "start_time": "2023-05-08T05:42:19.580Z"
   },
   {
    "duration": 1444,
    "start_time": "2023-05-08T05:42:19.594Z"
   },
   {
    "duration": 1289,
    "start_time": "2023-05-08T05:42:21.041Z"
   },
   {
    "duration": 7,
    "start_time": "2023-05-08T05:42:22.332Z"
   },
   {
    "duration": 87,
    "start_time": "2023-05-08T05:42:22.342Z"
   },
   {
    "duration": 0,
    "start_time": "2023-05-08T05:42:22.433Z"
   },
   {
    "duration": 0,
    "start_time": "2023-05-08T05:42:22.435Z"
   },
   {
    "duration": 0,
    "start_time": "2023-05-08T05:42:22.436Z"
   },
   {
    "duration": 0,
    "start_time": "2023-05-08T05:42:22.437Z"
   },
   {
    "duration": 0,
    "start_time": "2023-05-08T05:42:22.439Z"
   },
   {
    "duration": 0,
    "start_time": "2023-05-08T05:42:22.440Z"
   },
   {
    "duration": 0,
    "start_time": "2023-05-08T05:42:22.442Z"
   },
   {
    "duration": 0,
    "start_time": "2023-05-08T05:42:22.444Z"
   },
   {
    "duration": 0,
    "start_time": "2023-05-08T05:42:22.445Z"
   },
   {
    "duration": 0,
    "start_time": "2023-05-08T05:42:22.447Z"
   },
   {
    "duration": 0,
    "start_time": "2023-05-08T05:42:22.448Z"
   },
   {
    "duration": 0,
    "start_time": "2023-05-08T05:42:22.449Z"
   },
   {
    "duration": 0,
    "start_time": "2023-05-08T05:42:22.450Z"
   },
   {
    "duration": 0,
    "start_time": "2023-05-08T05:42:22.452Z"
   },
   {
    "duration": 0,
    "start_time": "2023-05-08T05:42:22.452Z"
   },
   {
    "duration": 0,
    "start_time": "2023-05-08T05:42:22.453Z"
   },
   {
    "duration": 0,
    "start_time": "2023-05-08T05:42:22.454Z"
   },
   {
    "duration": 0,
    "start_time": "2023-05-08T05:42:22.455Z"
   },
   {
    "duration": 0,
    "start_time": "2023-05-08T05:42:22.456Z"
   },
   {
    "duration": 0,
    "start_time": "2023-05-08T05:42:22.457Z"
   },
   {
    "duration": 0,
    "start_time": "2023-05-08T05:42:22.458Z"
   },
   {
    "duration": 0,
    "start_time": "2023-05-08T05:42:22.459Z"
   },
   {
    "duration": 0,
    "start_time": "2023-05-08T05:42:22.460Z"
   },
   {
    "duration": 0,
    "start_time": "2023-05-08T05:42:22.461Z"
   },
   {
    "duration": 0,
    "start_time": "2023-05-08T05:42:22.462Z"
   },
   {
    "duration": 0,
    "start_time": "2023-05-08T05:42:22.464Z"
   },
   {
    "duration": 0,
    "start_time": "2023-05-08T05:42:22.465Z"
   },
   {
    "duration": 0,
    "start_time": "2023-05-08T05:42:22.466Z"
   },
   {
    "duration": 0,
    "start_time": "2023-05-08T05:42:22.467Z"
   },
   {
    "duration": 0,
    "start_time": "2023-05-08T05:42:22.468Z"
   },
   {
    "duration": 0,
    "start_time": "2023-05-08T05:42:22.469Z"
   },
   {
    "duration": 0,
    "start_time": "2023-05-08T05:42:22.470Z"
   },
   {
    "duration": 0,
    "start_time": "2023-05-08T05:42:22.472Z"
   },
   {
    "duration": 0,
    "start_time": "2023-05-08T05:42:22.473Z"
   },
   {
    "duration": 0,
    "start_time": "2023-05-08T05:42:22.475Z"
   },
   {
    "duration": 0,
    "start_time": "2023-05-08T05:42:22.476Z"
   },
   {
    "duration": 0,
    "start_time": "2023-05-08T05:42:22.477Z"
   },
   {
    "duration": 0,
    "start_time": "2023-05-08T05:42:22.478Z"
   },
   {
    "duration": 0,
    "start_time": "2023-05-08T05:42:22.480Z"
   },
   {
    "duration": 0,
    "start_time": "2023-05-08T05:42:22.481Z"
   },
   {
    "duration": 0,
    "start_time": "2023-05-08T05:42:22.535Z"
   },
   {
    "duration": 1,
    "start_time": "2023-05-08T05:42:22.536Z"
   },
   {
    "duration": 0,
    "start_time": "2023-05-08T05:42:22.537Z"
   },
   {
    "duration": 0,
    "start_time": "2023-05-08T05:42:22.538Z"
   },
   {
    "duration": 14,
    "start_time": "2023-05-08T05:44:18.950Z"
   },
   {
    "duration": 1060,
    "start_time": "2023-05-08T05:44:22.823Z"
   },
   {
    "duration": 14,
    "start_time": "2023-05-08T05:44:29.961Z"
   },
   {
    "duration": 6,
    "start_time": "2023-05-08T05:44:36.054Z"
   },
   {
    "duration": 6,
    "start_time": "2023-05-08T05:44:40.044Z"
   },
   {
    "duration": 14,
    "start_time": "2023-05-08T05:46:18.735Z"
   },
   {
    "duration": 21,
    "start_time": "2023-05-08T05:46:58.840Z"
   },
   {
    "duration": 3,
    "start_time": "2023-05-08T06:01:28.917Z"
   },
   {
    "duration": 121,
    "start_time": "2023-05-08T06:01:37.593Z"
   },
   {
    "duration": 4,
    "start_time": "2023-05-08T06:05:24.875Z"
   },
   {
    "duration": 347,
    "start_time": "2023-05-08T06:07:23.178Z"
   },
   {
    "duration": 1554,
    "start_time": "2023-05-08T06:07:54.063Z"
   },
   {
    "duration": 43,
    "start_time": "2023-05-08T06:07:55.619Z"
   },
   {
    "duration": 18,
    "start_time": "2023-05-08T06:07:55.664Z"
   },
   {
    "duration": 49,
    "start_time": "2023-05-08T06:07:55.685Z"
   },
   {
    "duration": 10,
    "start_time": "2023-05-08T06:07:55.736Z"
   },
   {
    "duration": 1270,
    "start_time": "2023-05-08T06:07:55.748Z"
   },
   {
    "duration": 1058,
    "start_time": "2023-05-08T06:07:57.020Z"
   },
   {
    "duration": 5,
    "start_time": "2023-05-08T06:07:58.080Z"
   },
   {
    "duration": 21,
    "start_time": "2023-05-08T06:07:58.086Z"
   },
   {
    "duration": 825,
    "start_time": "2023-05-08T06:07:58.110Z"
   },
   {
    "duration": 10,
    "start_time": "2023-05-08T06:07:58.937Z"
   },
   {
    "duration": 4,
    "start_time": "2023-05-08T06:07:58.949Z"
   },
   {
    "duration": 10,
    "start_time": "2023-05-08T06:07:58.955Z"
   },
   {
    "duration": 64,
    "start_time": "2023-05-08T06:07:58.968Z"
   },
   {
    "duration": 0,
    "start_time": "2023-05-08T06:07:59.034Z"
   },
   {
    "duration": 0,
    "start_time": "2023-05-08T06:07:59.035Z"
   },
   {
    "duration": 0,
    "start_time": "2023-05-08T06:07:59.037Z"
   },
   {
    "duration": 0,
    "start_time": "2023-05-08T06:07:59.038Z"
   },
   {
    "duration": 0,
    "start_time": "2023-05-08T06:07:59.040Z"
   },
   {
    "duration": 0,
    "start_time": "2023-05-08T06:07:59.041Z"
   },
   {
    "duration": 0,
    "start_time": "2023-05-08T06:07:59.042Z"
   },
   {
    "duration": 0,
    "start_time": "2023-05-08T06:07:59.044Z"
   },
   {
    "duration": 0,
    "start_time": "2023-05-08T06:07:59.045Z"
   },
   {
    "duration": 0,
    "start_time": "2023-05-08T06:07:59.047Z"
   },
   {
    "duration": 0,
    "start_time": "2023-05-08T06:07:59.048Z"
   },
   {
    "duration": 0,
    "start_time": "2023-05-08T06:07:59.049Z"
   },
   {
    "duration": 0,
    "start_time": "2023-05-08T06:07:59.051Z"
   },
   {
    "duration": 0,
    "start_time": "2023-05-08T06:07:59.052Z"
   },
   {
    "duration": 0,
    "start_time": "2023-05-08T06:07:59.053Z"
   },
   {
    "duration": 0,
    "start_time": "2023-05-08T06:07:59.055Z"
   },
   {
    "duration": 0,
    "start_time": "2023-05-08T06:07:59.056Z"
   },
   {
    "duration": 0,
    "start_time": "2023-05-08T06:07:59.058Z"
   },
   {
    "duration": 0,
    "start_time": "2023-05-08T06:07:59.059Z"
   },
   {
    "duration": 0,
    "start_time": "2023-05-08T06:07:59.061Z"
   },
   {
    "duration": 0,
    "start_time": "2023-05-08T06:07:59.062Z"
   },
   {
    "duration": 0,
    "start_time": "2023-05-08T06:07:59.063Z"
   },
   {
    "duration": 0,
    "start_time": "2023-05-08T06:07:59.065Z"
   },
   {
    "duration": 0,
    "start_time": "2023-05-08T06:07:59.067Z"
   },
   {
    "duration": 0,
    "start_time": "2023-05-08T06:07:59.068Z"
   },
   {
    "duration": 0,
    "start_time": "2023-05-08T06:07:59.069Z"
   },
   {
    "duration": 0,
    "start_time": "2023-05-08T06:07:59.070Z"
   },
   {
    "duration": 0,
    "start_time": "2023-05-08T06:07:59.071Z"
   },
   {
    "duration": 0,
    "start_time": "2023-05-08T06:07:59.074Z"
   },
   {
    "duration": 0,
    "start_time": "2023-05-08T06:07:59.075Z"
   },
   {
    "duration": 0,
    "start_time": "2023-05-08T06:07:59.134Z"
   },
   {
    "duration": 0,
    "start_time": "2023-05-08T06:07:59.135Z"
   },
   {
    "duration": 0,
    "start_time": "2023-05-08T06:07:59.137Z"
   },
   {
    "duration": 0,
    "start_time": "2023-05-08T06:07:59.139Z"
   },
   {
    "duration": 0,
    "start_time": "2023-05-08T06:07:59.140Z"
   },
   {
    "duration": 0,
    "start_time": "2023-05-08T06:07:59.141Z"
   },
   {
    "duration": 0,
    "start_time": "2023-05-08T06:07:59.143Z"
   },
   {
    "duration": 0,
    "start_time": "2023-05-08T06:07:59.144Z"
   },
   {
    "duration": 1582,
    "start_time": "2023-05-08T09:09:16.369Z"
   },
   {
    "duration": 158,
    "start_time": "2023-05-08T09:09:17.952Z"
   },
   {
    "duration": 21,
    "start_time": "2023-05-08T09:09:18.111Z"
   },
   {
    "duration": 41,
    "start_time": "2023-05-08T09:09:18.134Z"
   },
   {
    "duration": 13,
    "start_time": "2023-05-08T09:09:18.176Z"
   },
   {
    "duration": 1396,
    "start_time": "2023-05-08T09:09:18.191Z"
   },
   {
    "duration": 1240,
    "start_time": "2023-05-08T09:09:19.589Z"
   },
   {
    "duration": 4,
    "start_time": "2023-05-08T09:09:20.832Z"
   },
   {
    "duration": 16,
    "start_time": "2023-05-08T09:09:20.838Z"
   },
   {
    "duration": 891,
    "start_time": "2023-05-08T09:09:20.858Z"
   },
   {
    "duration": 13,
    "start_time": "2023-05-08T09:09:21.752Z"
   },
   {
    "duration": 5,
    "start_time": "2023-05-08T09:09:21.766Z"
   },
   {
    "duration": 6,
    "start_time": "2023-05-08T09:09:21.773Z"
   },
   {
    "duration": 108,
    "start_time": "2023-05-08T09:09:21.781Z"
   },
   {
    "duration": 0,
    "start_time": "2023-05-08T09:09:21.892Z"
   },
   {
    "duration": 0,
    "start_time": "2023-05-08T09:09:21.893Z"
   },
   {
    "duration": 0,
    "start_time": "2023-05-08T09:09:21.895Z"
   },
   {
    "duration": 0,
    "start_time": "2023-05-08T09:09:21.896Z"
   },
   {
    "duration": 0,
    "start_time": "2023-05-08T09:09:21.897Z"
   },
   {
    "duration": 0,
    "start_time": "2023-05-08T09:09:21.898Z"
   },
   {
    "duration": 0,
    "start_time": "2023-05-08T09:09:21.900Z"
   },
   {
    "duration": 0,
    "start_time": "2023-05-08T09:09:21.901Z"
   },
   {
    "duration": 0,
    "start_time": "2023-05-08T09:09:21.902Z"
   },
   {
    "duration": 0,
    "start_time": "2023-05-08T09:09:21.903Z"
   },
   {
    "duration": 0,
    "start_time": "2023-05-08T09:09:21.904Z"
   },
   {
    "duration": 0,
    "start_time": "2023-05-08T09:09:21.906Z"
   },
   {
    "duration": 0,
    "start_time": "2023-05-08T09:09:21.908Z"
   },
   {
    "duration": 0,
    "start_time": "2023-05-08T09:09:21.910Z"
   },
   {
    "duration": 0,
    "start_time": "2023-05-08T09:09:21.913Z"
   },
   {
    "duration": 0,
    "start_time": "2023-05-08T09:09:21.914Z"
   },
   {
    "duration": 0,
    "start_time": "2023-05-08T09:09:21.915Z"
   },
   {
    "duration": 0,
    "start_time": "2023-05-08T09:09:21.917Z"
   },
   {
    "duration": 0,
    "start_time": "2023-05-08T09:09:21.918Z"
   },
   {
    "duration": 0,
    "start_time": "2023-05-08T09:09:21.919Z"
   },
   {
    "duration": 0,
    "start_time": "2023-05-08T09:09:21.920Z"
   },
   {
    "duration": 0,
    "start_time": "2023-05-08T09:09:21.921Z"
   },
   {
    "duration": 0,
    "start_time": "2023-05-08T09:09:21.922Z"
   },
   {
    "duration": 0,
    "start_time": "2023-05-08T09:09:21.923Z"
   },
   {
    "duration": 0,
    "start_time": "2023-05-08T09:09:21.924Z"
   },
   {
    "duration": 0,
    "start_time": "2023-05-08T09:09:21.925Z"
   },
   {
    "duration": 0,
    "start_time": "2023-05-08T09:09:21.926Z"
   },
   {
    "duration": 0,
    "start_time": "2023-05-08T09:09:21.927Z"
   },
   {
    "duration": 0,
    "start_time": "2023-05-08T09:09:21.929Z"
   },
   {
    "duration": 0,
    "start_time": "2023-05-08T09:09:21.929Z"
   },
   {
    "duration": 0,
    "start_time": "2023-05-08T09:09:21.933Z"
   },
   {
    "duration": 0,
    "start_time": "2023-05-08T09:09:21.934Z"
   },
   {
    "duration": 0,
    "start_time": "2023-05-08T09:09:21.935Z"
   },
   {
    "duration": 0,
    "start_time": "2023-05-08T09:09:21.936Z"
   },
   {
    "duration": 0,
    "start_time": "2023-05-08T09:09:21.937Z"
   },
   {
    "duration": 0,
    "start_time": "2023-05-08T09:09:21.938Z"
   },
   {
    "duration": 0,
    "start_time": "2023-05-08T09:09:21.939Z"
   },
   {
    "duration": 0,
    "start_time": "2023-05-08T09:09:21.939Z"
   },
   {
    "duration": 1533,
    "start_time": "2023-05-08T09:11:22.452Z"
   },
   {
    "duration": 53,
    "start_time": "2023-05-08T09:11:23.987Z"
   },
   {
    "duration": 33,
    "start_time": "2023-05-08T09:11:24.042Z"
   },
   {
    "duration": 57,
    "start_time": "2023-05-08T09:11:24.078Z"
   },
   {
    "duration": 18,
    "start_time": "2023-05-08T09:11:24.137Z"
   },
   {
    "duration": 1325,
    "start_time": "2023-05-08T09:11:24.158Z"
   },
   {
    "duration": 1203,
    "start_time": "2023-05-08T09:11:25.485Z"
   },
   {
    "duration": 4,
    "start_time": "2023-05-08T09:11:26.691Z"
   },
   {
    "duration": 38,
    "start_time": "2023-05-08T09:11:26.699Z"
   },
   {
    "duration": 961,
    "start_time": "2023-05-08T09:11:26.739Z"
   },
   {
    "duration": 14,
    "start_time": "2023-05-08T09:11:27.702Z"
   },
   {
    "duration": 19,
    "start_time": "2023-05-08T09:11:27.718Z"
   },
   {
    "duration": 9,
    "start_time": "2023-05-08T09:11:27.739Z"
   },
   {
    "duration": 33,
    "start_time": "2023-05-08T09:11:27.751Z"
   },
   {
    "duration": 19,
    "start_time": "2023-05-08T09:11:27.786Z"
   },
   {
    "duration": 41,
    "start_time": "2023-05-08T09:11:27.807Z"
   },
   {
    "duration": 11,
    "start_time": "2023-05-08T09:11:27.850Z"
   },
   {
    "duration": 26,
    "start_time": "2023-05-08T09:11:27.862Z"
   },
   {
    "duration": 55,
    "start_time": "2023-05-08T09:11:27.890Z"
   },
   {
    "duration": 27,
    "start_time": "2023-05-08T09:11:27.947Z"
   },
   {
    "duration": 164,
    "start_time": "2023-05-08T09:11:27.976Z"
   },
   {
    "duration": 5,
    "start_time": "2023-05-08T09:11:28.143Z"
   },
   {
    "duration": 1125,
    "start_time": "2023-05-08T09:11:28.151Z"
   },
   {
    "duration": 189,
    "start_time": "2023-05-08T09:11:29.278Z"
   },
   {
    "duration": 122472,
    "start_time": "2023-05-08T09:11:29.470Z"
   },
   {
    "duration": 26,
    "start_time": "2023-05-08T09:13:31.943Z"
   },
   {
    "duration": 225,
    "start_time": "2023-05-08T09:13:31.971Z"
   },
   {
    "duration": 55,
    "start_time": "2023-05-08T09:13:32.197Z"
   },
   {
    "duration": 455,
    "start_time": "2023-05-08T09:13:32.334Z"
   },
   {
    "duration": 27,
    "start_time": "2023-05-08T09:13:32.791Z"
   },
   {
    "duration": 171,
    "start_time": "2023-05-08T09:13:32.820Z"
   },
   {
    "duration": 73,
    "start_time": "2023-05-08T09:13:32.992Z"
   },
   {
    "duration": 0,
    "start_time": "2023-05-08T09:13:33.067Z"
   },
   {
    "duration": 0,
    "start_time": "2023-05-08T09:13:33.069Z"
   },
   {
    "duration": 0,
    "start_time": "2023-05-08T09:13:33.071Z"
   },
   {
    "duration": 0,
    "start_time": "2023-05-08T09:13:33.072Z"
   },
   {
    "duration": 0,
    "start_time": "2023-05-08T09:13:33.073Z"
   },
   {
    "duration": 0,
    "start_time": "2023-05-08T09:13:33.075Z"
   },
   {
    "duration": 0,
    "start_time": "2023-05-08T09:13:33.077Z"
   },
   {
    "duration": 0,
    "start_time": "2023-05-08T09:13:33.078Z"
   },
   {
    "duration": 0,
    "start_time": "2023-05-08T09:13:33.079Z"
   },
   {
    "duration": 0,
    "start_time": "2023-05-08T09:13:33.081Z"
   },
   {
    "duration": 0,
    "start_time": "2023-05-08T09:13:33.083Z"
   },
   {
    "duration": 0,
    "start_time": "2023-05-08T09:13:33.084Z"
   },
   {
    "duration": 0,
    "start_time": "2023-05-08T09:13:33.086Z"
   },
   {
    "duration": 0,
    "start_time": "2023-05-08T09:13:33.087Z"
   },
   {
    "duration": 0,
    "start_time": "2023-05-08T09:13:33.089Z"
   },
   {
    "duration": 0,
    "start_time": "2023-05-08T09:13:33.090Z"
   },
   {
    "duration": 0,
    "start_time": "2023-05-08T09:13:33.091Z"
   },
   {
    "duration": 0,
    "start_time": "2023-05-08T09:13:33.093Z"
   },
   {
    "duration": 0,
    "start_time": "2023-05-08T09:13:33.095Z"
   },
   {
    "duration": 22,
    "start_time": "2023-05-08T09:37:16.190Z"
   },
   {
    "duration": 245,
    "start_time": "2023-05-08T10:13:45.428Z"
   },
   {
    "duration": 175,
    "start_time": "2023-05-08T10:13:49.502Z"
   },
   {
    "duration": 111,
    "start_time": "2023-05-08T10:15:33.127Z"
   },
   {
    "duration": 298,
    "start_time": "2023-05-08T10:15:35.570Z"
   },
   {
    "duration": 18,
    "start_time": "2023-05-08T10:25:37.653Z"
   },
   {
    "duration": 22,
    "start_time": "2023-05-08T10:25:59.962Z"
   },
   {
    "duration": 174,
    "start_time": "2023-05-08T10:26:04.909Z"
   },
   {
    "duration": 149,
    "start_time": "2023-05-08T10:26:16.481Z"
   },
   {
    "duration": 167,
    "start_time": "2023-05-08T10:26:19.346Z"
   },
   {
    "duration": 20,
    "start_time": "2023-05-08T10:26:30.094Z"
   },
   {
    "duration": 427,
    "start_time": "2023-05-08T10:26:33.102Z"
   },
   {
    "duration": 15,
    "start_time": "2023-05-08T10:28:37.472Z"
   },
   {
    "duration": 18,
    "start_time": "2023-05-08T10:28:49.905Z"
   },
   {
    "duration": 151,
    "start_time": "2023-05-08T10:28:56.350Z"
   },
   {
    "duration": 136,
    "start_time": "2023-05-08T10:29:02.880Z"
   },
   {
    "duration": 165,
    "start_time": "2023-05-08T10:29:08.947Z"
   },
   {
    "duration": 1545,
    "start_time": "2023-05-08T10:29:20.735Z"
   },
   {
    "duration": 46,
    "start_time": "2023-05-08T10:29:22.283Z"
   },
   {
    "duration": 20,
    "start_time": "2023-05-08T10:29:22.331Z"
   },
   {
    "duration": 47,
    "start_time": "2023-05-08T10:29:22.354Z"
   },
   {
    "duration": 31,
    "start_time": "2023-05-08T10:29:22.403Z"
   },
   {
    "duration": 1387,
    "start_time": "2023-05-08T10:29:22.435Z"
   },
   {
    "duration": 1158,
    "start_time": "2023-05-08T10:29:23.823Z"
   },
   {
    "duration": 4,
    "start_time": "2023-05-08T10:29:24.983Z"
   },
   {
    "duration": 17,
    "start_time": "2023-05-08T10:29:24.989Z"
   },
   {
    "duration": 960,
    "start_time": "2023-05-08T10:29:25.009Z"
   },
   {
    "duration": 13,
    "start_time": "2023-05-08T10:29:25.971Z"
   },
   {
    "duration": 5,
    "start_time": "2023-05-08T10:29:25.986Z"
   },
   {
    "duration": 19,
    "start_time": "2023-05-08T10:29:25.993Z"
   },
   {
    "duration": 38,
    "start_time": "2023-05-08T10:29:26.014Z"
   },
   {
    "duration": 19,
    "start_time": "2023-05-08T10:29:26.054Z"
   },
   {
    "duration": 20,
    "start_time": "2023-05-08T10:29:26.075Z"
   },
   {
    "duration": 44,
    "start_time": "2023-05-08T10:29:26.097Z"
   },
   {
    "duration": 27,
    "start_time": "2023-05-08T10:29:26.143Z"
   },
   {
    "duration": 19,
    "start_time": "2023-05-08T10:29:26.172Z"
   },
   {
    "duration": 44,
    "start_time": "2023-05-08T10:29:26.193Z"
   },
   {
    "duration": 150,
    "start_time": "2023-05-08T10:29:26.238Z"
   },
   {
    "duration": 4,
    "start_time": "2023-05-08T10:29:26.390Z"
   },
   {
    "duration": 1097,
    "start_time": "2023-05-08T10:29:26.396Z"
   },
   {
    "duration": 167,
    "start_time": "2023-05-08T10:29:27.494Z"
   },
   {
    "duration": 121079,
    "start_time": "2023-05-08T10:29:27.663Z"
   },
   {
    "duration": 23,
    "start_time": "2023-05-08T10:31:28.744Z"
   },
   {
    "duration": 205,
    "start_time": "2023-05-08T10:31:28.769Z"
   },
   {
    "duration": 60,
    "start_time": "2023-05-08T10:31:28.981Z"
   },
   {
    "duration": 428,
    "start_time": "2023-05-08T10:31:29.044Z"
   },
   {
    "duration": 25,
    "start_time": "2023-05-08T10:31:29.474Z"
   },
   {
    "duration": 162,
    "start_time": "2023-05-08T10:31:29.500Z"
   },
   {
    "duration": 248,
    "start_time": "2023-05-08T10:31:29.664Z"
   },
   {
    "duration": 196,
    "start_time": "2023-05-08T10:31:29.914Z"
   },
   {
    "duration": 32,
    "start_time": "2023-05-08T10:31:30.112Z"
   },
   {
    "duration": 440,
    "start_time": "2023-05-08T10:31:30.146Z"
   },
   {
    "duration": 16,
    "start_time": "2023-05-08T10:31:30.588Z"
   },
   {
    "duration": 55,
    "start_time": "2023-05-08T10:31:30.607Z"
   },
   {
    "duration": 180,
    "start_time": "2023-05-08T10:31:30.663Z"
   },
   {
    "duration": 148,
    "start_time": "2023-05-08T10:31:30.846Z"
   },
   {
    "duration": 180,
    "start_time": "2023-05-08T10:31:30.995Z"
   },
   {
    "duration": 59,
    "start_time": "2023-05-08T10:31:31.177Z"
   },
   {
    "duration": 523,
    "start_time": "2023-05-08T10:31:31.238Z"
   },
   {
    "duration": 12,
    "start_time": "2023-05-08T10:31:31.763Z"
   },
   {
    "duration": 43,
    "start_time": "2023-05-08T10:31:31.777Z"
   },
   {
    "duration": 167,
    "start_time": "2023-05-08T10:31:31.822Z"
   },
   {
    "duration": 337,
    "start_time": "2023-05-08T10:31:31.991Z"
   },
   {
    "duration": 168,
    "start_time": "2023-05-08T10:31:32.330Z"
   },
   {
    "duration": 48,
    "start_time": "2023-05-08T10:31:32.500Z"
   },
   {
    "duration": 424,
    "start_time": "2023-05-08T10:31:32.634Z"
   },
   {
    "duration": 425,
    "start_time": "2023-05-08T10:31:33.060Z"
   },
   {
    "duration": 138,
    "start_time": "2023-05-08T10:31:33.487Z"
   },
   {
    "duration": 9,
    "start_time": "2023-05-08T11:36:58.076Z"
   },
   {
    "duration": 156,
    "start_time": "2023-05-08T11:37:00.813Z"
   },
   {
    "duration": 7,
    "start_time": "2023-05-08T11:39:09.862Z"
   },
   {
    "duration": 107,
    "start_time": "2023-05-08T11:49:39.863Z"
   },
   {
    "duration": 2446,
    "start_time": "2023-05-08T12:15:03.154Z"
   },
   {
    "duration": 50,
    "start_time": "2023-05-08T12:15:05.602Z"
   },
   {
    "duration": 17,
    "start_time": "2023-05-08T12:15:05.654Z"
   },
   {
    "duration": 76,
    "start_time": "2023-05-08T12:15:05.673Z"
   },
   {
    "duration": 14,
    "start_time": "2023-05-08T12:15:05.754Z"
   },
   {
    "duration": 1405,
    "start_time": "2023-05-08T12:15:05.770Z"
   },
   {
    "duration": 1205,
    "start_time": "2023-05-08T12:15:07.177Z"
   },
   {
    "duration": 5,
    "start_time": "2023-05-08T12:15:08.384Z"
   },
   {
    "duration": 17,
    "start_time": "2023-05-08T12:15:08.391Z"
   },
   {
    "duration": 974,
    "start_time": "2023-05-08T12:15:08.409Z"
   },
   {
    "duration": 12,
    "start_time": "2023-05-08T12:15:09.384Z"
   },
   {
    "duration": 5,
    "start_time": "2023-05-08T12:15:09.397Z"
   },
   {
    "duration": 5,
    "start_time": "2023-05-08T12:15:09.403Z"
   },
   {
    "duration": 44,
    "start_time": "2023-05-08T12:15:09.411Z"
   },
   {
    "duration": 19,
    "start_time": "2023-05-08T12:15:09.457Z"
   },
   {
    "duration": 14,
    "start_time": "2023-05-08T12:15:09.478Z"
   },
   {
    "duration": 55,
    "start_time": "2023-05-08T12:15:09.494Z"
   },
   {
    "duration": 25,
    "start_time": "2023-05-08T12:15:09.551Z"
   },
   {
    "duration": 23,
    "start_time": "2023-05-08T12:15:09.577Z"
   },
   {
    "duration": 34,
    "start_time": "2023-05-08T12:15:09.602Z"
   },
   {
    "duration": 136,
    "start_time": "2023-05-08T12:15:09.638Z"
   },
   {
    "duration": 6,
    "start_time": "2023-05-08T12:15:09.775Z"
   },
   {
    "duration": 1030,
    "start_time": "2023-05-08T12:15:09.782Z"
   },
   {
    "duration": 173,
    "start_time": "2023-05-08T12:15:10.813Z"
   },
   {
    "duration": 123516,
    "start_time": "2023-05-08T12:15:10.988Z"
   },
   {
    "duration": 40,
    "start_time": "2023-05-08T12:17:14.506Z"
   },
   {
    "duration": 263,
    "start_time": "2023-05-08T12:17:14.548Z"
   },
   {
    "duration": 128,
    "start_time": "2023-05-08T12:17:14.813Z"
   },
   {
    "duration": 414,
    "start_time": "2023-05-08T12:17:14.945Z"
   },
   {
    "duration": 30,
    "start_time": "2023-05-08T12:17:15.361Z"
   },
   {
    "duration": 181,
    "start_time": "2023-05-08T12:17:15.393Z"
   },
   {
    "duration": 264,
    "start_time": "2023-05-08T12:17:15.575Z"
   },
   {
    "duration": 231,
    "start_time": "2023-05-08T12:17:15.840Z"
   },
   {
    "duration": 38,
    "start_time": "2023-05-08T12:17:16.073Z"
   },
   {
    "duration": 459,
    "start_time": "2023-05-08T12:17:16.114Z"
   },
   {
    "duration": 16,
    "start_time": "2023-05-08T12:17:16.578Z"
   },
   {
    "duration": 75,
    "start_time": "2023-05-08T12:17:16.597Z"
   },
   {
    "duration": 229,
    "start_time": "2023-05-08T12:17:16.674Z"
   },
   {
    "duration": 152,
    "start_time": "2023-05-08T12:17:16.905Z"
   },
   {
    "duration": 248,
    "start_time": "2023-05-08T12:17:17.059Z"
   },
   {
    "duration": 44,
    "start_time": "2023-05-08T12:17:17.312Z"
   },
   {
    "duration": 549,
    "start_time": "2023-05-08T12:17:17.365Z"
   },
   {
    "duration": 24,
    "start_time": "2023-05-08T12:17:17.916Z"
   },
   {
    "duration": 37,
    "start_time": "2023-05-08T12:17:17.951Z"
   },
   {
    "duration": 196,
    "start_time": "2023-05-08T12:17:17.990Z"
   },
   {
    "duration": 351,
    "start_time": "2023-05-08T12:17:18.188Z"
   },
   {
    "duration": 206,
    "start_time": "2023-05-08T12:17:18.548Z"
   },
   {
    "duration": 81,
    "start_time": "2023-05-08T12:17:18.755Z"
   },
   {
    "duration": 398,
    "start_time": "2023-05-08T12:17:18.843Z"
   },
   {
    "duration": 456,
    "start_time": "2023-05-08T12:17:19.243Z"
   },
   {
    "duration": 8,
    "start_time": "2023-05-08T12:17:19.701Z"
   },
   {
    "duration": 173,
    "start_time": "2023-05-08T12:17:19.713Z"
   },
   {
    "duration": 2946,
    "start_time": "2023-05-08T12:40:20.497Z"
   },
   {
    "duration": 44,
    "start_time": "2023-05-08T12:40:23.445Z"
   },
   {
    "duration": 20,
    "start_time": "2023-05-08T12:40:23.490Z"
   },
   {
    "duration": 59,
    "start_time": "2023-05-08T12:40:23.512Z"
   },
   {
    "duration": 14,
    "start_time": "2023-05-08T12:40:23.573Z"
   },
   {
    "duration": 1367,
    "start_time": "2023-05-08T12:40:23.589Z"
   },
   {
    "duration": 1184,
    "start_time": "2023-05-08T12:40:24.957Z"
   },
   {
    "duration": 5,
    "start_time": "2023-05-08T12:40:26.142Z"
   },
   {
    "duration": 37,
    "start_time": "2023-05-08T12:40:26.148Z"
   },
   {
    "duration": 1022,
    "start_time": "2023-05-08T12:40:26.187Z"
   },
   {
    "duration": 20,
    "start_time": "2023-05-08T12:40:27.211Z"
   },
   {
    "duration": 28,
    "start_time": "2023-05-08T12:40:27.234Z"
   },
   {
    "duration": 35,
    "start_time": "2023-05-08T12:40:27.263Z"
   },
   {
    "duration": 35,
    "start_time": "2023-05-08T12:40:27.301Z"
   },
   {
    "duration": 40,
    "start_time": "2023-05-08T12:40:27.338Z"
   },
   {
    "duration": 34,
    "start_time": "2023-05-08T12:40:27.380Z"
   },
   {
    "duration": 12,
    "start_time": "2023-05-08T12:40:27.416Z"
   },
   {
    "duration": 48,
    "start_time": "2023-05-08T12:40:27.429Z"
   },
   {
    "duration": 44,
    "start_time": "2023-05-08T12:40:27.479Z"
   },
   {
    "duration": 21,
    "start_time": "2023-05-08T12:40:27.525Z"
   },
   {
    "duration": 185,
    "start_time": "2023-05-08T12:40:27.548Z"
   },
   {
    "duration": 6,
    "start_time": "2023-05-08T12:40:27.734Z"
   },
   {
    "duration": 1128,
    "start_time": "2023-05-08T12:40:27.741Z"
   },
   {
    "duration": 248,
    "start_time": "2023-05-08T12:40:28.871Z"
   },
   {
    "duration": 125976,
    "start_time": "2023-05-08T12:40:29.121Z"
   },
   {
    "duration": 30,
    "start_time": "2023-05-08T12:42:35.098Z"
   },
   {
    "duration": 208,
    "start_time": "2023-05-08T12:42:35.130Z"
   },
   {
    "duration": 75,
    "start_time": "2023-05-08T12:42:35.341Z"
   },
   {
    "duration": 433,
    "start_time": "2023-05-08T12:42:35.419Z"
   },
   {
    "duration": 28,
    "start_time": "2023-05-08T12:42:35.854Z"
   },
   {
    "duration": 178,
    "start_time": "2023-05-08T12:42:35.883Z"
   },
   {
    "duration": 268,
    "start_time": "2023-05-08T12:42:36.063Z"
   },
   {
    "duration": 192,
    "start_time": "2023-05-08T12:42:36.333Z"
   },
   {
    "duration": 20,
    "start_time": "2023-05-08T12:42:36.527Z"
   },
   {
    "duration": 499,
    "start_time": "2023-05-08T12:42:36.549Z"
   },
   {
    "duration": 13,
    "start_time": "2023-05-08T12:42:37.050Z"
   },
   {
    "duration": 32,
    "start_time": "2023-05-08T12:42:37.065Z"
   },
   {
    "duration": 176,
    "start_time": "2023-05-08T12:42:37.099Z"
   },
   {
    "duration": 161,
    "start_time": "2023-05-08T12:42:37.278Z"
   },
   {
    "duration": 199,
    "start_time": "2023-05-08T12:42:37.441Z"
   },
   {
    "duration": 11,
    "start_time": "2023-05-08T12:42:37.645Z"
   },
   {
    "duration": 593,
    "start_time": "2023-05-08T12:42:37.658Z"
   },
   {
    "duration": 13,
    "start_time": "2023-05-08T12:42:38.253Z"
   },
   {
    "duration": 51,
    "start_time": "2023-05-08T12:42:38.268Z"
   },
   {
    "duration": 173,
    "start_time": "2023-05-08T12:42:38.321Z"
   },
   {
    "duration": 346,
    "start_time": "2023-05-08T12:42:38.496Z"
   },
   {
    "duration": 191,
    "start_time": "2023-05-08T12:42:38.843Z"
   },
   {
    "duration": 30,
    "start_time": "2023-05-08T12:42:39.036Z"
   },
   {
    "duration": 439,
    "start_time": "2023-05-08T12:42:39.119Z"
   },
   {
    "duration": 428,
    "start_time": "2023-05-08T12:42:39.560Z"
   },
   {
    "duration": 5,
    "start_time": "2023-05-08T12:42:39.990Z"
   },
   {
    "duration": 168,
    "start_time": "2023-05-08T12:42:39.997Z"
   },
   {
    "duration": 64,
    "start_time": "2023-05-13T04:53:19.049Z"
   },
   {
    "duration": 1965,
    "start_time": "2023-05-13T04:53:38.586Z"
   },
   {
    "duration": 98,
    "start_time": "2023-05-13T04:53:40.557Z"
   },
   {
    "duration": 41,
    "start_time": "2023-05-13T04:53:40.657Z"
   },
   {
    "duration": 68,
    "start_time": "2023-05-13T04:53:40.701Z"
   },
   {
    "duration": 18,
    "start_time": "2023-05-13T04:53:40.779Z"
   },
   {
    "duration": 1453,
    "start_time": "2023-05-13T04:53:40.799Z"
   },
   {
    "duration": 1240,
    "start_time": "2023-05-13T04:53:42.256Z"
   },
   {
    "duration": 4,
    "start_time": "2023-05-13T04:53:43.498Z"
   },
   {
    "duration": 23,
    "start_time": "2023-05-13T04:53:43.504Z"
   },
   {
    "duration": 1257,
    "start_time": "2023-05-13T04:53:43.529Z"
   },
   {
    "duration": 13,
    "start_time": "2023-05-13T04:53:44.787Z"
   },
   {
    "duration": 5,
    "start_time": "2023-05-13T04:53:44.801Z"
   },
   {
    "duration": 8,
    "start_time": "2023-05-13T04:53:44.808Z"
   },
   {
    "duration": 50,
    "start_time": "2023-05-13T04:53:44.819Z"
   },
   {
    "duration": 17,
    "start_time": "2023-05-13T04:53:44.874Z"
   },
   {
    "duration": 15,
    "start_time": "2023-05-13T04:53:44.893Z"
   },
   {
    "duration": 51,
    "start_time": "2023-05-13T04:53:44.909Z"
   },
   {
    "duration": 28,
    "start_time": "2023-05-13T04:53:44.968Z"
   },
   {
    "duration": 31,
    "start_time": "2023-05-13T04:53:44.998Z"
   },
   {
    "duration": 41,
    "start_time": "2023-05-13T04:53:45.031Z"
   },
   {
    "duration": 120,
    "start_time": "2023-05-13T04:53:45.074Z"
   },
   {
    "duration": 4,
    "start_time": "2023-05-13T04:53:45.196Z"
   },
   {
    "duration": 981,
    "start_time": "2023-05-13T04:53:45.201Z"
   },
   {
    "duration": 179,
    "start_time": "2023-05-13T04:53:46.184Z"
   },
   {
    "duration": 121266,
    "start_time": "2023-05-13T04:53:46.367Z"
   },
   {
    "duration": 34,
    "start_time": "2023-05-13T04:55:47.635Z"
   },
   {
    "duration": 181,
    "start_time": "2023-05-13T04:55:47.672Z"
   },
   {
    "duration": 31,
    "start_time": "2023-05-13T04:55:47.859Z"
   },
   {
    "duration": 408,
    "start_time": "2023-05-13T04:55:47.892Z"
   },
   {
    "duration": 24,
    "start_time": "2023-05-13T04:55:48.302Z"
   },
   {
    "duration": 195,
    "start_time": "2023-05-13T04:55:48.328Z"
   },
   {
    "duration": 245,
    "start_time": "2023-05-13T04:55:48.525Z"
   },
   {
    "duration": 203,
    "start_time": "2023-05-13T04:55:48.772Z"
   },
   {
    "duration": 83,
    "start_time": "2023-05-13T04:55:48.977Z"
   },
   {
    "duration": 422,
    "start_time": "2023-05-13T04:55:49.062Z"
   },
   {
    "duration": 12,
    "start_time": "2023-05-13T04:55:49.485Z"
   },
   {
    "duration": 17,
    "start_time": "2023-05-13T04:55:49.499Z"
   },
   {
    "duration": 174,
    "start_time": "2023-05-13T04:55:49.518Z"
   },
   {
    "duration": 145,
    "start_time": "2023-05-13T04:55:49.694Z"
   },
   {
    "duration": 180,
    "start_time": "2023-05-13T04:55:49.840Z"
   },
   {
    "duration": 42,
    "start_time": "2023-05-13T04:55:50.025Z"
   },
   {
    "duration": 517,
    "start_time": "2023-05-13T04:55:50.069Z"
   },
   {
    "duration": 13,
    "start_time": "2023-05-13T04:55:50.588Z"
   },
   {
    "duration": 31,
    "start_time": "2023-05-13T04:55:50.603Z"
   },
   {
    "duration": 162,
    "start_time": "2023-05-13T04:55:50.651Z"
   },
   {
    "duration": 328,
    "start_time": "2023-05-13T04:55:50.814Z"
   },
   {
    "duration": 206,
    "start_time": "2023-05-13T04:55:51.144Z"
   },
   {
    "duration": 43,
    "start_time": "2023-05-13T04:55:51.351Z"
   },
   {
    "duration": 325,
    "start_time": "2023-05-13T04:55:51.452Z"
   },
   {
    "duration": 408,
    "start_time": "2023-05-13T04:55:51.779Z"
   },
   {
    "duration": 6,
    "start_time": "2023-05-13T04:55:52.188Z"
   },
   {
    "duration": 144,
    "start_time": "2023-05-13T04:55:52.195Z"
   },
   {
    "duration": 57,
    "start_time": "2023-05-13T04:56:28.327Z"
   },
   {
    "duration": 170,
    "start_time": "2023-05-13T04:56:36.128Z"
   },
   {
    "duration": 5,
    "start_time": "2023-05-13T05:01:22.334Z"
   },
   {
    "duration": 9,
    "start_time": "2023-05-13T05:02:15.535Z"
   },
   {
    "duration": 15,
    "start_time": "2023-05-13T05:04:07.327Z"
   },
   {
    "duration": 8,
    "start_time": "2023-05-13T05:04:30.162Z"
   },
   {
    "duration": 9,
    "start_time": "2023-05-13T05:04:53.368Z"
   },
   {
    "duration": 8,
    "start_time": "2023-05-13T05:06:55.849Z"
   },
   {
    "duration": 9,
    "start_time": "2023-05-13T05:07:36.336Z"
   },
   {
    "duration": 8,
    "start_time": "2023-05-13T05:08:00.085Z"
   },
   {
    "duration": 7,
    "start_time": "2023-05-13T05:08:02.408Z"
   },
   {
    "duration": 40,
    "start_time": "2023-05-13T05:08:12.503Z"
   },
   {
    "duration": 29,
    "start_time": "2023-05-13T05:08:15.378Z"
   },
   {
    "duration": 9,
    "start_time": "2023-05-13T05:13:42.466Z"
   },
   {
    "duration": 4,
    "start_time": "2023-05-13T05:14:54.736Z"
   },
   {
    "duration": 4,
    "start_time": "2023-05-13T05:15:02.536Z"
   },
   {
    "duration": 34,
    "start_time": "2023-05-13T05:15:08.853Z"
   },
   {
    "duration": 5,
    "start_time": "2023-05-13T05:15:11.621Z"
   },
   {
    "duration": 19,
    "start_time": "2023-05-13T05:15:18.813Z"
   },
   {
    "duration": 604,
    "start_time": "2023-05-13T05:15:54.896Z"
   },
   {
    "duration": 23,
    "start_time": "2023-05-13T05:16:12.062Z"
   },
   {
    "duration": 953,
    "start_time": "2023-05-13T05:16:36.157Z"
   },
   {
    "duration": 24,
    "start_time": "2023-05-13T05:16:54.303Z"
   },
   {
    "duration": 12,
    "start_time": "2023-05-13T05:18:48.177Z"
   },
   {
    "duration": 764,
    "start_time": "2023-05-13T05:19:00.447Z"
   },
   {
    "duration": 43,
    "start_time": "2023-05-13T05:19:17.917Z"
   },
   {
    "duration": 4,
    "start_time": "2023-05-13T05:20:00.380Z"
   },
   {
    "duration": 11,
    "start_time": "2023-05-13T05:20:10.211Z"
   },
   {
    "duration": 15,
    "start_time": "2023-05-13T05:20:22.800Z"
   },
   {
    "duration": 33,
    "start_time": "2023-05-13T05:21:43.125Z"
   },
   {
    "duration": 28,
    "start_time": "2023-05-13T05:21:56.582Z"
   },
   {
    "duration": 23,
    "start_time": "2023-05-13T05:22:32.568Z"
   },
   {
    "duration": 5,
    "start_time": "2023-05-13T05:27:32.872Z"
   },
   {
    "duration": 14,
    "start_time": "2023-05-13T05:27:54.345Z"
   },
   {
    "duration": 11,
    "start_time": "2023-05-13T05:29:01.650Z"
   },
   {
    "duration": 9,
    "start_time": "2023-05-13T05:29:19.703Z"
   },
   {
    "duration": 34,
    "start_time": "2023-05-13T05:29:36.421Z"
   },
   {
    "duration": 28,
    "start_time": "2023-05-13T05:29:38.885Z"
   },
   {
    "duration": 4,
    "start_time": "2023-05-13T05:29:55.501Z"
   },
   {
    "duration": 7,
    "start_time": "2023-05-13T05:29:58.147Z"
   },
   {
    "duration": 16,
    "start_time": "2023-05-13T05:30:19.434Z"
   },
   {
    "duration": 9,
    "start_time": "2023-05-13T05:34:31.664Z"
   },
   {
    "duration": 15,
    "start_time": "2023-05-13T05:34:46.532Z"
   },
   {
    "duration": 6,
    "start_time": "2023-05-13T05:35:11.662Z"
   },
   {
    "duration": 6,
    "start_time": "2023-05-13T06:09:51.467Z"
   },
   {
    "duration": 5,
    "start_time": "2023-05-13T06:13:07.067Z"
   },
   {
    "duration": 41,
    "start_time": "2023-05-13T06:13:12.231Z"
   },
   {
    "duration": 38,
    "start_time": "2023-05-13T06:13:14.830Z"
   },
   {
    "duration": 1317,
    "start_time": "2023-05-13T06:13:18.184Z"
   },
   {
    "duration": 1229,
    "start_time": "2023-05-13T06:13:23.233Z"
   },
   {
    "duration": 15,
    "start_time": "2023-05-13T06:13:41.682Z"
   },
   {
    "duration": 1052,
    "start_time": "2023-05-13T06:13:45.924Z"
   },
   {
    "duration": 11,
    "start_time": "2023-05-13T06:13:49.781Z"
   },
   {
    "duration": 5,
    "start_time": "2023-05-13T06:13:54.072Z"
   },
   {
    "duration": 5,
    "start_time": "2023-05-13T06:13:56.121Z"
   },
   {
    "duration": 19,
    "start_time": "2023-05-13T06:14:00.193Z"
   },
   {
    "duration": 13,
    "start_time": "2023-05-13T06:14:17.124Z"
   },
   {
    "duration": 17,
    "start_time": "2023-05-13T06:14:20.794Z"
   },
   {
    "duration": 6,
    "start_time": "2023-05-13T06:14:25.792Z"
   },
   {
    "duration": 4,
    "start_time": "2023-05-13T06:25:03.301Z"
   },
   {
    "duration": 6,
    "start_time": "2023-05-13T06:25:06.109Z"
   },
   {
    "duration": 11,
    "start_time": "2023-05-13T06:26:06.539Z"
   },
   {
    "duration": 15,
    "start_time": "2023-05-13T06:26:35.667Z"
   },
   {
    "duration": 14,
    "start_time": "2023-05-13T06:26:56.814Z"
   },
   {
    "duration": 4,
    "start_time": "2023-05-13T06:36:07.368Z"
   },
   {
    "duration": 17,
    "start_time": "2023-05-13T06:36:10.007Z"
   },
   {
    "duration": 13,
    "start_time": "2023-05-13T06:36:30.560Z"
   },
   {
    "duration": 1413,
    "start_time": "2023-05-13T06:42:02.992Z"
   },
   {
    "duration": 37,
    "start_time": "2023-05-13T06:42:04.408Z"
   },
   {
    "duration": 51,
    "start_time": "2023-05-13T06:42:04.447Z"
   },
   {
    "duration": 16,
    "start_time": "2023-05-13T06:42:04.502Z"
   },
   {
    "duration": 1213,
    "start_time": "2023-05-13T06:42:04.520Z"
   },
   {
    "duration": 1066,
    "start_time": "2023-05-13T06:42:05.734Z"
   },
   {
    "duration": 2,
    "start_time": "2023-05-13T06:42:06.802Z"
   },
   {
    "duration": 4,
    "start_time": "2023-05-13T06:42:06.807Z"
   },
   {
    "duration": 20,
    "start_time": "2023-05-13T06:42:06.812Z"
   },
   {
    "duration": 850,
    "start_time": "2023-05-13T06:42:06.836Z"
   },
   {
    "duration": 11,
    "start_time": "2023-05-13T06:42:07.688Z"
   },
   {
    "duration": 5,
    "start_time": "2023-05-13T06:42:07.700Z"
   },
   {
    "duration": 12,
    "start_time": "2023-05-13T06:42:07.706Z"
   },
   {
    "duration": 44,
    "start_time": "2023-05-13T06:42:07.720Z"
   },
   {
    "duration": 18,
    "start_time": "2023-05-13T06:42:07.766Z"
   },
   {
    "duration": 14,
    "start_time": "2023-05-13T06:42:07.786Z"
   },
   {
    "duration": 5,
    "start_time": "2023-05-13T06:42:07.802Z"
   },
   {
    "duration": 45,
    "start_time": "2023-05-13T06:42:07.809Z"
   },
   {
    "duration": 10,
    "start_time": "2023-05-13T06:42:07.855Z"
   },
   {
    "duration": 10,
    "start_time": "2023-05-13T06:42:07.867Z"
   },
   {
    "duration": 11,
    "start_time": "2023-05-13T06:42:07.878Z"
   },
   {
    "duration": 3,
    "start_time": "2023-05-13T06:42:07.890Z"
   },
   {
    "duration": 138,
    "start_time": "2023-05-13T06:42:07.894Z"
   },
   {
    "duration": 0,
    "start_time": "2023-05-13T06:42:08.035Z"
   },
   {
    "duration": 0,
    "start_time": "2023-05-13T06:42:08.036Z"
   },
   {
    "duration": 0,
    "start_time": "2023-05-13T06:42:08.037Z"
   },
   {
    "duration": 0,
    "start_time": "2023-05-13T06:42:08.038Z"
   },
   {
    "duration": 0,
    "start_time": "2023-05-13T06:42:08.038Z"
   },
   {
    "duration": 0,
    "start_time": "2023-05-13T06:42:08.039Z"
   },
   {
    "duration": 0,
    "start_time": "2023-05-13T06:42:08.040Z"
   },
   {
    "duration": 0,
    "start_time": "2023-05-13T06:42:08.041Z"
   },
   {
    "duration": 0,
    "start_time": "2023-05-13T06:42:08.050Z"
   },
   {
    "duration": 0,
    "start_time": "2023-05-13T06:42:08.051Z"
   },
   {
    "duration": 0,
    "start_time": "2023-05-13T06:42:08.053Z"
   },
   {
    "duration": 0,
    "start_time": "2023-05-13T06:42:08.054Z"
   },
   {
    "duration": 1,
    "start_time": "2023-05-13T06:42:08.054Z"
   },
   {
    "duration": 0,
    "start_time": "2023-05-13T06:42:08.055Z"
   },
   {
    "duration": 0,
    "start_time": "2023-05-13T06:42:08.057Z"
   },
   {
    "duration": 0,
    "start_time": "2023-05-13T06:42:08.057Z"
   },
   {
    "duration": 0,
    "start_time": "2023-05-13T06:42:08.059Z"
   },
   {
    "duration": 0,
    "start_time": "2023-05-13T06:42:08.060Z"
   },
   {
    "duration": 0,
    "start_time": "2023-05-13T06:42:08.061Z"
   },
   {
    "duration": 0,
    "start_time": "2023-05-13T06:42:08.062Z"
   },
   {
    "duration": 0,
    "start_time": "2023-05-13T06:42:08.063Z"
   },
   {
    "duration": 0,
    "start_time": "2023-05-13T06:42:08.064Z"
   },
   {
    "duration": 0,
    "start_time": "2023-05-13T06:42:08.065Z"
   },
   {
    "duration": 0,
    "start_time": "2023-05-13T06:42:08.065Z"
   },
   {
    "duration": 0,
    "start_time": "2023-05-13T06:42:08.066Z"
   },
   {
    "duration": 0,
    "start_time": "2023-05-13T06:42:08.068Z"
   },
   {
    "duration": 0,
    "start_time": "2023-05-13T06:42:08.068Z"
   },
   {
    "duration": 0,
    "start_time": "2023-05-13T06:42:08.069Z"
   },
   {
    "duration": 0,
    "start_time": "2023-05-13T06:42:08.070Z"
   },
   {
    "duration": 0,
    "start_time": "2023-05-13T06:42:08.072Z"
   },
   {
    "duration": 0,
    "start_time": "2023-05-13T06:42:08.073Z"
   },
   {
    "duration": 0,
    "start_time": "2023-05-13T06:42:08.074Z"
   },
   {
    "duration": 0,
    "start_time": "2023-05-13T06:42:08.075Z"
   },
   {
    "duration": 0,
    "start_time": "2023-05-13T06:42:08.076Z"
   },
   {
    "duration": 1346,
    "start_time": "2023-05-13T06:43:58.691Z"
   },
   {
    "duration": 34,
    "start_time": "2023-05-13T06:44:00.039Z"
   },
   {
    "duration": 41,
    "start_time": "2023-05-13T06:44:00.075Z"
   },
   {
    "duration": 11,
    "start_time": "2023-05-13T06:44:00.118Z"
   },
   {
    "duration": 1277,
    "start_time": "2023-05-13T06:44:00.131Z"
   },
   {
    "duration": 1125,
    "start_time": "2023-05-13T06:44:01.410Z"
   },
   {
    "duration": 2,
    "start_time": "2023-05-13T06:44:02.537Z"
   },
   {
    "duration": 6,
    "start_time": "2023-05-13T06:44:02.541Z"
   },
   {
    "duration": 15,
    "start_time": "2023-05-13T06:44:02.549Z"
   },
   {
    "duration": 869,
    "start_time": "2023-05-13T06:44:02.565Z"
   },
   {
    "duration": 18,
    "start_time": "2023-05-13T06:44:03.436Z"
   },
   {
    "duration": 6,
    "start_time": "2023-05-13T06:44:03.456Z"
   },
   {
    "duration": 6,
    "start_time": "2023-05-13T06:44:03.464Z"
   },
   {
    "duration": 25,
    "start_time": "2023-05-13T06:44:03.473Z"
   },
   {
    "duration": 20,
    "start_time": "2023-05-13T06:44:03.500Z"
   },
   {
    "duration": 15,
    "start_time": "2023-05-13T06:44:03.550Z"
   },
   {
    "duration": 5,
    "start_time": "2023-05-13T06:44:03.567Z"
   },
   {
    "duration": 6,
    "start_time": "2023-05-13T06:44:03.574Z"
   },
   {
    "duration": 13,
    "start_time": "2023-05-13T06:44:03.583Z"
   },
   {
    "duration": 52,
    "start_time": "2023-05-13T06:44:03.598Z"
   },
   {
    "duration": 14,
    "start_time": "2023-05-13T06:44:03.653Z"
   },
   {
    "duration": 9,
    "start_time": "2023-05-13T06:44:03.669Z"
   },
   {
    "duration": 20,
    "start_time": "2023-05-13T06:44:03.680Z"
   },
   {
    "duration": 17,
    "start_time": "2023-05-13T06:44:03.702Z"
   },
   {
    "duration": 46,
    "start_time": "2023-05-13T06:44:03.721Z"
   },
   {
    "duration": 133,
    "start_time": "2023-05-13T06:44:03.769Z"
   },
   {
    "duration": 7,
    "start_time": "2023-05-13T06:44:03.903Z"
   },
   {
    "duration": 985,
    "start_time": "2023-05-13T06:44:03.912Z"
   },
   {
    "duration": 156,
    "start_time": "2023-05-13T06:44:04.899Z"
   },
   {
    "duration": 4029,
    "start_time": "2023-05-13T06:44:05.057Z"
   },
   {
    "duration": 9,
    "start_time": "2023-05-13T06:44:09.088Z"
   },
   {
    "duration": 0,
    "start_time": "2023-05-13T06:44:09.099Z"
   },
   {
    "duration": 0,
    "start_time": "2023-05-13T06:44:09.100Z"
   },
   {
    "duration": 0,
    "start_time": "2023-05-13T06:44:09.102Z"
   },
   {
    "duration": 0,
    "start_time": "2023-05-13T06:44:09.103Z"
   },
   {
    "duration": 0,
    "start_time": "2023-05-13T06:44:09.104Z"
   },
   {
    "duration": 0,
    "start_time": "2023-05-13T06:44:09.105Z"
   },
   {
    "duration": 0,
    "start_time": "2023-05-13T06:44:09.106Z"
   },
   {
    "duration": 0,
    "start_time": "2023-05-13T06:44:09.107Z"
   },
   {
    "duration": 0,
    "start_time": "2023-05-13T06:44:09.108Z"
   },
   {
    "duration": 0,
    "start_time": "2023-05-13T06:44:09.109Z"
   },
   {
    "duration": 0,
    "start_time": "2023-05-13T06:44:09.109Z"
   },
   {
    "duration": 0,
    "start_time": "2023-05-13T06:44:09.110Z"
   },
   {
    "duration": 0,
    "start_time": "2023-05-13T06:44:09.111Z"
   },
   {
    "duration": 0,
    "start_time": "2023-05-13T06:44:09.112Z"
   },
   {
    "duration": 0,
    "start_time": "2023-05-13T06:44:09.113Z"
   },
   {
    "duration": 0,
    "start_time": "2023-05-13T06:44:09.114Z"
   },
   {
    "duration": 0,
    "start_time": "2023-05-13T06:44:09.115Z"
   },
   {
    "duration": 0,
    "start_time": "2023-05-13T06:44:09.116Z"
   },
   {
    "duration": 0,
    "start_time": "2023-05-13T06:44:09.117Z"
   },
   {
    "duration": 0,
    "start_time": "2023-05-13T06:44:09.118Z"
   },
   {
    "duration": 0,
    "start_time": "2023-05-13T06:44:09.120Z"
   },
   {
    "duration": 0,
    "start_time": "2023-05-13T06:44:09.121Z"
   },
   {
    "duration": 0,
    "start_time": "2023-05-13T06:44:09.122Z"
   },
   {
    "duration": 0,
    "start_time": "2023-05-13T06:44:09.123Z"
   },
   {
    "duration": 0,
    "start_time": "2023-05-13T06:44:09.124Z"
   },
   {
    "duration": 0,
    "start_time": "2023-05-13T06:44:09.125Z"
   },
   {
    "duration": 3669,
    "start_time": "2023-05-13T06:53:30.370Z"
   },
   {
    "duration": 5,
    "start_time": "2023-05-13T07:07:34.479Z"
   },
   {
    "duration": 8,
    "start_time": "2023-05-13T07:09:03.475Z"
   },
   {
    "duration": 13,
    "start_time": "2023-05-13T07:09:09.906Z"
   },
   {
    "duration": 14,
    "start_time": "2023-05-13T07:09:21.792Z"
   },
   {
    "duration": 14,
    "start_time": "2023-05-13T07:09:26.431Z"
   },
   {
    "duration": 1425,
    "start_time": "2023-05-13T07:09:36.754Z"
   },
   {
    "duration": 37,
    "start_time": "2023-05-13T07:09:38.181Z"
   },
   {
    "duration": 54,
    "start_time": "2023-05-13T07:09:38.220Z"
   },
   {
    "duration": 17,
    "start_time": "2023-05-13T07:09:38.279Z"
   },
   {
    "duration": 1342,
    "start_time": "2023-05-13T07:09:38.299Z"
   },
   {
    "duration": 1179,
    "start_time": "2023-05-13T07:09:39.649Z"
   },
   {
    "duration": 3,
    "start_time": "2023-05-13T07:09:40.830Z"
   },
   {
    "duration": 7,
    "start_time": "2023-05-13T07:09:40.835Z"
   },
   {
    "duration": 19,
    "start_time": "2023-05-13T07:09:40.844Z"
   },
   {
    "duration": 954,
    "start_time": "2023-05-13T07:09:40.864Z"
   },
   {
    "duration": 12,
    "start_time": "2023-05-13T07:09:41.820Z"
   },
   {
    "duration": 21,
    "start_time": "2023-05-13T07:09:41.833Z"
   },
   {
    "duration": 16,
    "start_time": "2023-05-13T07:09:41.857Z"
   },
   {
    "duration": 25,
    "start_time": "2023-05-13T07:09:41.878Z"
   },
   {
    "duration": 21,
    "start_time": "2023-05-13T07:09:41.905Z"
   },
   {
    "duration": 36,
    "start_time": "2023-05-13T07:09:41.928Z"
   },
   {
    "duration": 5,
    "start_time": "2023-05-13T07:09:41.965Z"
   },
   {
    "duration": 13,
    "start_time": "2023-05-13T07:09:41.972Z"
   },
   {
    "duration": 9,
    "start_time": "2023-05-13T07:09:41.987Z"
   },
   {
    "duration": 19,
    "start_time": "2023-05-13T07:09:41.998Z"
   },
   {
    "duration": 37,
    "start_time": "2023-05-13T07:09:42.019Z"
   },
   {
    "duration": 13,
    "start_time": "2023-05-13T07:09:42.058Z"
   },
   {
    "duration": 9,
    "start_time": "2023-05-13T07:09:42.073Z"
   },
   {
    "duration": 34,
    "start_time": "2023-05-13T07:09:42.083Z"
   },
   {
    "duration": 40,
    "start_time": "2023-05-13T07:09:42.119Z"
   },
   {
    "duration": 33,
    "start_time": "2023-05-13T07:09:42.161Z"
   },
   {
    "duration": 116,
    "start_time": "2023-05-13T07:09:42.196Z"
   },
   {
    "duration": 4,
    "start_time": "2023-05-13T07:09:42.314Z"
   },
   {
    "duration": 1089,
    "start_time": "2023-05-13T07:09:42.319Z"
   },
   {
    "duration": 185,
    "start_time": "2023-05-13T07:09:43.410Z"
   },
   {
    "duration": 4280,
    "start_time": "2023-05-13T07:09:43.598Z"
   },
   {
    "duration": 9,
    "start_time": "2023-05-13T07:09:47.880Z"
   },
   {
    "duration": 0,
    "start_time": "2023-05-13T07:09:47.891Z"
   },
   {
    "duration": 0,
    "start_time": "2023-05-13T07:09:47.892Z"
   },
   {
    "duration": 0,
    "start_time": "2023-05-13T07:09:47.893Z"
   },
   {
    "duration": 0,
    "start_time": "2023-05-13T07:09:47.894Z"
   },
   {
    "duration": 0,
    "start_time": "2023-05-13T07:09:47.895Z"
   },
   {
    "duration": 0,
    "start_time": "2023-05-13T07:09:47.896Z"
   },
   {
    "duration": 0,
    "start_time": "2023-05-13T07:09:47.897Z"
   },
   {
    "duration": 0,
    "start_time": "2023-05-13T07:09:47.898Z"
   },
   {
    "duration": 0,
    "start_time": "2023-05-13T07:09:47.899Z"
   },
   {
    "duration": 0,
    "start_time": "2023-05-13T07:09:47.899Z"
   },
   {
    "duration": 0,
    "start_time": "2023-05-13T07:09:47.900Z"
   },
   {
    "duration": 0,
    "start_time": "2023-05-13T07:09:47.901Z"
   },
   {
    "duration": 0,
    "start_time": "2023-05-13T07:09:47.902Z"
   },
   {
    "duration": 0,
    "start_time": "2023-05-13T07:09:47.903Z"
   },
   {
    "duration": 0,
    "start_time": "2023-05-13T07:09:47.903Z"
   },
   {
    "duration": 0,
    "start_time": "2023-05-13T07:09:47.904Z"
   },
   {
    "duration": 0,
    "start_time": "2023-05-13T07:09:47.906Z"
   },
   {
    "duration": 0,
    "start_time": "2023-05-13T07:09:47.907Z"
   },
   {
    "duration": 0,
    "start_time": "2023-05-13T07:09:47.908Z"
   },
   {
    "duration": 0,
    "start_time": "2023-05-13T07:09:47.909Z"
   },
   {
    "duration": 0,
    "start_time": "2023-05-13T07:09:47.910Z"
   },
   {
    "duration": 0,
    "start_time": "2023-05-13T07:09:47.911Z"
   },
   {
    "duration": 0,
    "start_time": "2023-05-13T07:09:47.912Z"
   },
   {
    "duration": 0,
    "start_time": "2023-05-13T07:09:47.912Z"
   },
   {
    "duration": 0,
    "start_time": "2023-05-13T07:09:47.913Z"
   },
   {
    "duration": 0,
    "start_time": "2023-05-13T07:09:47.951Z"
   },
   {
    "duration": 6,
    "start_time": "2023-05-13T07:20:34.934Z"
   },
   {
    "duration": 10,
    "start_time": "2023-05-13T07:21:00.533Z"
   },
   {
    "duration": 12,
    "start_time": "2023-05-13T07:21:32.948Z"
   },
   {
    "duration": 16,
    "start_time": "2023-05-13T07:23:12.847Z"
   },
   {
    "duration": 17,
    "start_time": "2023-05-13T07:23:15.250Z"
   },
   {
    "duration": 1594,
    "start_time": "2023-05-13T07:23:23.826Z"
   },
   {
    "duration": 49,
    "start_time": "2023-05-13T07:23:25.422Z"
   },
   {
    "duration": 50,
    "start_time": "2023-05-13T07:23:25.479Z"
   },
   {
    "duration": 14,
    "start_time": "2023-05-13T07:23:25.530Z"
   },
   {
    "duration": 1401,
    "start_time": "2023-05-13T07:23:25.546Z"
   },
   {
    "duration": 1156,
    "start_time": "2023-05-13T07:23:26.949Z"
   },
   {
    "duration": 4,
    "start_time": "2023-05-13T07:23:28.109Z"
   },
   {
    "duration": 5,
    "start_time": "2023-05-13T07:23:28.115Z"
   },
   {
    "duration": 16,
    "start_time": "2023-05-13T07:23:28.121Z"
   },
   {
    "duration": 1056,
    "start_time": "2023-05-13T07:23:28.139Z"
   },
   {
    "duration": 16,
    "start_time": "2023-05-13T07:23:29.197Z"
   },
   {
    "duration": 5,
    "start_time": "2023-05-13T07:23:29.215Z"
   },
   {
    "duration": 5,
    "start_time": "2023-05-13T07:23:29.222Z"
   },
   {
    "duration": 36,
    "start_time": "2023-05-13T07:23:29.230Z"
   },
   {
    "duration": 18,
    "start_time": "2023-05-13T07:23:29.268Z"
   },
   {
    "duration": 19,
    "start_time": "2023-05-13T07:23:29.288Z"
   },
   {
    "duration": 6,
    "start_time": "2023-05-13T07:23:29.308Z"
   },
   {
    "duration": 172,
    "start_time": "2023-05-13T07:23:29.316Z"
   },
   {
    "duration": 0,
    "start_time": "2023-05-13T07:23:29.495Z"
   },
   {
    "duration": 0,
    "start_time": "2023-05-13T07:23:29.496Z"
   },
   {
    "duration": 0,
    "start_time": "2023-05-13T07:23:29.499Z"
   },
   {
    "duration": 0,
    "start_time": "2023-05-13T07:23:29.500Z"
   },
   {
    "duration": 0,
    "start_time": "2023-05-13T07:23:29.501Z"
   },
   {
    "duration": 0,
    "start_time": "2023-05-13T07:23:29.502Z"
   },
   {
    "duration": 0,
    "start_time": "2023-05-13T07:23:29.503Z"
   },
   {
    "duration": 0,
    "start_time": "2023-05-13T07:23:29.504Z"
   },
   {
    "duration": 0,
    "start_time": "2023-05-13T07:23:29.505Z"
   },
   {
    "duration": 0,
    "start_time": "2023-05-13T07:23:29.506Z"
   },
   {
    "duration": 0,
    "start_time": "2023-05-13T07:23:29.508Z"
   },
   {
    "duration": 0,
    "start_time": "2023-05-13T07:23:29.509Z"
   },
   {
    "duration": 0,
    "start_time": "2023-05-13T07:23:29.510Z"
   },
   {
    "duration": 0,
    "start_time": "2023-05-13T07:23:29.511Z"
   },
   {
    "duration": 0,
    "start_time": "2023-05-13T07:23:29.512Z"
   },
   {
    "duration": 0,
    "start_time": "2023-05-13T07:23:29.512Z"
   },
   {
    "duration": 0,
    "start_time": "2023-05-13T07:23:29.513Z"
   },
   {
    "duration": 0,
    "start_time": "2023-05-13T07:23:29.514Z"
   },
   {
    "duration": 0,
    "start_time": "2023-05-13T07:23:29.515Z"
   },
   {
    "duration": 0,
    "start_time": "2023-05-13T07:23:29.516Z"
   },
   {
    "duration": 0,
    "start_time": "2023-05-13T07:23:29.517Z"
   },
   {
    "duration": 0,
    "start_time": "2023-05-13T07:23:29.518Z"
   },
   {
    "duration": 0,
    "start_time": "2023-05-13T07:23:29.519Z"
   },
   {
    "duration": 0,
    "start_time": "2023-05-13T07:23:29.520Z"
   },
   {
    "duration": 0,
    "start_time": "2023-05-13T07:23:29.520Z"
   },
   {
    "duration": 0,
    "start_time": "2023-05-13T07:23:29.521Z"
   },
   {
    "duration": 0,
    "start_time": "2023-05-13T07:23:29.551Z"
   },
   {
    "duration": 0,
    "start_time": "2023-05-13T07:23:29.564Z"
   },
   {
    "duration": 0,
    "start_time": "2023-05-13T07:23:29.566Z"
   },
   {
    "duration": 0,
    "start_time": "2023-05-13T07:23:29.567Z"
   },
   {
    "duration": 0,
    "start_time": "2023-05-13T07:23:29.568Z"
   },
   {
    "duration": 0,
    "start_time": "2023-05-13T07:23:29.569Z"
   },
   {
    "duration": 0,
    "start_time": "2023-05-13T07:23:29.570Z"
   },
   {
    "duration": 0,
    "start_time": "2023-05-13T07:23:29.572Z"
   },
   {
    "duration": 0,
    "start_time": "2023-05-13T07:23:29.573Z"
   },
   {
    "duration": 0,
    "start_time": "2023-05-13T07:23:29.574Z"
   },
   {
    "duration": 0,
    "start_time": "2023-05-13T07:23:29.575Z"
   },
   {
    "duration": 0,
    "start_time": "2023-05-13T07:23:29.576Z"
   },
   {
    "duration": 0,
    "start_time": "2023-05-13T07:23:29.578Z"
   },
   {
    "duration": 0,
    "start_time": "2023-05-13T07:23:29.579Z"
   },
   {
    "duration": 0,
    "start_time": "2023-05-13T07:23:29.580Z"
   },
   {
    "duration": 25,
    "start_time": "2023-05-13T07:24:02.491Z"
   },
   {
    "duration": 17,
    "start_time": "2023-05-13T07:24:27.758Z"
   },
   {
    "duration": 15,
    "start_time": "2023-05-13T07:25:52.426Z"
   },
   {
    "duration": 8,
    "start_time": "2023-05-13T07:26:37.309Z"
   },
   {
    "duration": 43,
    "start_time": "2023-05-13T07:26:39.238Z"
   },
   {
    "duration": 20,
    "start_time": "2023-05-13T07:26:43.600Z"
   },
   {
    "duration": 17,
    "start_time": "2023-05-13T07:26:45.506Z"
   },
   {
    "duration": 155,
    "start_time": "2023-05-13T07:26:51.676Z"
   },
   {
    "duration": 6,
    "start_time": "2023-05-13T07:26:56.775Z"
   },
   {
    "duration": 229,
    "start_time": "2023-05-13T07:27:03.110Z"
   },
   {
    "duration": 1572,
    "start_time": "2023-05-13T07:27:30.702Z"
   },
   {
    "duration": 42,
    "start_time": "2023-05-13T07:27:32.280Z"
   },
   {
    "duration": 53,
    "start_time": "2023-05-13T07:27:32.324Z"
   },
   {
    "duration": 20,
    "start_time": "2023-05-13T07:27:32.379Z"
   },
   {
    "duration": 1481,
    "start_time": "2023-05-13T07:27:32.405Z"
   },
   {
    "duration": 1276,
    "start_time": "2023-05-13T07:27:33.890Z"
   },
   {
    "duration": 5,
    "start_time": "2023-05-13T07:27:35.174Z"
   },
   {
    "duration": 9,
    "start_time": "2023-05-13T07:27:35.185Z"
   },
   {
    "duration": 21,
    "start_time": "2023-05-13T07:27:35.196Z"
   },
   {
    "duration": 977,
    "start_time": "2023-05-13T07:27:35.219Z"
   },
   {
    "duration": 18,
    "start_time": "2023-05-13T07:27:36.200Z"
   },
   {
    "duration": 5,
    "start_time": "2023-05-13T07:27:36.220Z"
   },
   {
    "duration": 7,
    "start_time": "2023-05-13T07:27:36.226Z"
   },
   {
    "duration": 37,
    "start_time": "2023-05-13T07:27:36.251Z"
   },
   {
    "duration": 17,
    "start_time": "2023-05-13T07:27:36.293Z"
   },
   {
    "duration": 17,
    "start_time": "2023-05-13T07:27:36.313Z"
   },
   {
    "duration": 30,
    "start_time": "2023-05-13T07:27:36.332Z"
   },
   {
    "duration": 24,
    "start_time": "2023-05-13T07:27:36.365Z"
   },
   {
    "duration": 5,
    "start_time": "2023-05-13T07:27:36.393Z"
   },
   {
    "duration": 12,
    "start_time": "2023-05-13T07:27:36.400Z"
   },
   {
    "duration": 22,
    "start_time": "2023-05-13T07:27:36.414Z"
   },
   {
    "duration": 32,
    "start_time": "2023-05-13T07:27:36.438Z"
   },
   {
    "duration": 20,
    "start_time": "2023-05-13T07:27:36.472Z"
   },
   {
    "duration": 28,
    "start_time": "2023-05-13T07:27:36.495Z"
   },
   {
    "duration": 23,
    "start_time": "2023-05-13T07:27:36.525Z"
   },
   {
    "duration": 21,
    "start_time": "2023-05-13T07:27:36.551Z"
   },
   {
    "duration": 138,
    "start_time": "2023-05-13T07:27:36.576Z"
   },
   {
    "duration": 4,
    "start_time": "2023-05-13T07:27:36.715Z"
   },
   {
    "duration": 366,
    "start_time": "2023-05-13T07:27:36.720Z"
   },
   {
    "duration": 12,
    "start_time": "2023-05-13T07:27:37.088Z"
   },
   {
    "duration": 0,
    "start_time": "2023-05-13T07:27:37.103Z"
   },
   {
    "duration": 0,
    "start_time": "2023-05-13T07:27:37.104Z"
   },
   {
    "duration": 0,
    "start_time": "2023-05-13T07:27:37.106Z"
   },
   {
    "duration": 0,
    "start_time": "2023-05-13T07:27:37.107Z"
   },
   {
    "duration": 0,
    "start_time": "2023-05-13T07:27:37.108Z"
   },
   {
    "duration": 0,
    "start_time": "2023-05-13T07:27:37.109Z"
   },
   {
    "duration": 0,
    "start_time": "2023-05-13T07:27:37.110Z"
   },
   {
    "duration": 0,
    "start_time": "2023-05-13T07:27:37.111Z"
   },
   {
    "duration": 0,
    "start_time": "2023-05-13T07:27:37.112Z"
   },
   {
    "duration": 0,
    "start_time": "2023-05-13T07:27:37.113Z"
   },
   {
    "duration": 0,
    "start_time": "2023-05-13T07:27:37.114Z"
   },
   {
    "duration": 0,
    "start_time": "2023-05-13T07:27:37.116Z"
   },
   {
    "duration": 0,
    "start_time": "2023-05-13T07:27:37.117Z"
   },
   {
    "duration": 0,
    "start_time": "2023-05-13T07:27:37.117Z"
   },
   {
    "duration": 0,
    "start_time": "2023-05-13T07:27:37.119Z"
   },
   {
    "duration": 0,
    "start_time": "2023-05-13T07:27:37.120Z"
   },
   {
    "duration": 0,
    "start_time": "2023-05-13T07:27:37.121Z"
   },
   {
    "duration": 0,
    "start_time": "2023-05-13T07:27:37.122Z"
   },
   {
    "duration": 0,
    "start_time": "2023-05-13T07:27:37.123Z"
   },
   {
    "duration": 0,
    "start_time": "2023-05-13T07:27:37.124Z"
   },
   {
    "duration": 1,
    "start_time": "2023-05-13T07:27:37.125Z"
   },
   {
    "duration": 0,
    "start_time": "2023-05-13T07:27:37.126Z"
   },
   {
    "duration": 0,
    "start_time": "2023-05-13T07:27:37.127Z"
   },
   {
    "duration": 0,
    "start_time": "2023-05-13T07:27:37.128Z"
   },
   {
    "duration": 0,
    "start_time": "2023-05-13T07:27:37.129Z"
   },
   {
    "duration": 0,
    "start_time": "2023-05-13T07:27:37.130Z"
   },
   {
    "duration": 0,
    "start_time": "2023-05-13T07:27:37.150Z"
   },
   {
    "duration": 0,
    "start_time": "2023-05-13T07:27:37.150Z"
   },
   {
    "duration": 10,
    "start_time": "2023-05-13T07:31:58.880Z"
   },
   {
    "duration": 19,
    "start_time": "2023-05-13T07:32:04.201Z"
   },
   {
    "duration": 8,
    "start_time": "2023-05-13T07:33:15.590Z"
   },
   {
    "duration": 15,
    "start_time": "2023-05-13T07:33:20.469Z"
   },
   {
    "duration": 19,
    "start_time": "2023-05-13T07:38:02.579Z"
   },
   {
    "duration": 21,
    "start_time": "2023-05-13T07:38:20.833Z"
   },
   {
    "duration": 8,
    "start_time": "2023-05-13T07:38:34.034Z"
   },
   {
    "duration": 11,
    "start_time": "2023-05-13T07:38:43.488Z"
   },
   {
    "duration": 10,
    "start_time": "2023-05-13T07:39:32.724Z"
   },
   {
    "duration": 9,
    "start_time": "2023-05-13T07:39:46.723Z"
   },
   {
    "duration": 16,
    "start_time": "2023-05-13T07:42:02.952Z"
   },
   {
    "duration": 3,
    "start_time": "2023-05-13T07:42:53.944Z"
   },
   {
    "duration": 54,
    "start_time": "2023-05-13T07:42:57.882Z"
   },
   {
    "duration": 20,
    "start_time": "2023-05-13T07:43:29.758Z"
   },
   {
    "duration": 16,
    "start_time": "2023-05-13T07:43:33.698Z"
   },
   {
    "duration": 20,
    "start_time": "2023-05-13T07:46:08.772Z"
   },
   {
    "duration": 21,
    "start_time": "2023-05-13T07:46:30.598Z"
   },
   {
    "duration": 24,
    "start_time": "2023-05-13T07:46:42.081Z"
   },
   {
    "duration": 1465,
    "start_time": "2023-05-13T07:57:21.948Z"
   },
   {
    "duration": 40,
    "start_time": "2023-05-13T07:57:23.415Z"
   },
   {
    "duration": 55,
    "start_time": "2023-05-13T07:57:23.457Z"
   },
   {
    "duration": 14,
    "start_time": "2023-05-13T07:57:23.514Z"
   },
   {
    "duration": 1392,
    "start_time": "2023-05-13T07:57:23.530Z"
   },
   {
    "duration": 1152,
    "start_time": "2023-05-13T07:57:24.924Z"
   },
   {
    "duration": 3,
    "start_time": "2023-05-13T07:57:26.077Z"
   },
   {
    "duration": 5,
    "start_time": "2023-05-13T07:57:26.082Z"
   },
   {
    "duration": 15,
    "start_time": "2023-05-13T07:57:26.089Z"
   },
   {
    "duration": 931,
    "start_time": "2023-05-13T07:57:26.108Z"
   },
   {
    "duration": 31,
    "start_time": "2023-05-13T07:57:27.041Z"
   },
   {
    "duration": 5,
    "start_time": "2023-05-13T07:57:27.074Z"
   },
   {
    "duration": 5,
    "start_time": "2023-05-13T07:57:27.080Z"
   },
   {
    "duration": 21,
    "start_time": "2023-05-13T07:57:27.086Z"
   },
   {
    "duration": 15,
    "start_time": "2023-05-13T07:57:27.108Z"
   },
   {
    "duration": 52,
    "start_time": "2023-05-13T07:57:27.125Z"
   },
   {
    "duration": 2,
    "start_time": "2023-05-13T07:57:27.179Z"
   },
   {
    "duration": 11,
    "start_time": "2023-05-13T07:57:27.183Z"
   },
   {
    "duration": 4,
    "start_time": "2023-05-13T07:57:27.196Z"
   },
   {
    "duration": 11,
    "start_time": "2023-05-13T07:57:27.202Z"
   },
   {
    "duration": 48,
    "start_time": "2023-05-13T07:57:27.214Z"
   },
   {
    "duration": 15,
    "start_time": "2023-05-13T07:57:27.270Z"
   },
   {
    "duration": 10,
    "start_time": "2023-05-13T07:57:27.287Z"
   },
   {
    "duration": 28,
    "start_time": "2023-05-13T07:57:27.299Z"
   },
   {
    "duration": 42,
    "start_time": "2023-05-13T07:57:27.329Z"
   },
   {
    "duration": 18,
    "start_time": "2023-05-13T07:57:27.373Z"
   },
   {
    "duration": 136,
    "start_time": "2023-05-13T07:57:27.392Z"
   },
   {
    "duration": 4,
    "start_time": "2023-05-13T07:57:27.531Z"
   },
   {
    "duration": 288,
    "start_time": "2023-05-13T07:57:27.537Z"
   },
   {
    "duration": 12,
    "start_time": "2023-05-13T07:57:27.827Z"
   },
   {
    "duration": 0,
    "start_time": "2023-05-13T07:57:27.841Z"
   },
   {
    "duration": 0,
    "start_time": "2023-05-13T07:57:27.842Z"
   },
   {
    "duration": 0,
    "start_time": "2023-05-13T07:57:27.843Z"
   },
   {
    "duration": 0,
    "start_time": "2023-05-13T07:57:27.844Z"
   },
   {
    "duration": 0,
    "start_time": "2023-05-13T07:57:27.845Z"
   },
   {
    "duration": 0,
    "start_time": "2023-05-13T07:57:27.846Z"
   },
   {
    "duration": 0,
    "start_time": "2023-05-13T07:57:27.847Z"
   },
   {
    "duration": 0,
    "start_time": "2023-05-13T07:57:27.850Z"
   },
   {
    "duration": 0,
    "start_time": "2023-05-13T07:57:27.850Z"
   },
   {
    "duration": 0,
    "start_time": "2023-05-13T07:57:27.851Z"
   },
   {
    "duration": 1,
    "start_time": "2023-05-13T07:57:27.851Z"
   },
   {
    "duration": 0,
    "start_time": "2023-05-13T07:57:27.852Z"
   },
   {
    "duration": 0,
    "start_time": "2023-05-13T07:57:27.853Z"
   },
   {
    "duration": 0,
    "start_time": "2023-05-13T07:57:27.853Z"
   },
   {
    "duration": 0,
    "start_time": "2023-05-13T07:57:27.856Z"
   },
   {
    "duration": 0,
    "start_time": "2023-05-13T07:57:27.857Z"
   },
   {
    "duration": 0,
    "start_time": "2023-05-13T07:57:27.858Z"
   },
   {
    "duration": 0,
    "start_time": "2023-05-13T07:57:27.859Z"
   },
   {
    "duration": 0,
    "start_time": "2023-05-13T07:57:27.859Z"
   },
   {
    "duration": 0,
    "start_time": "2023-05-13T07:57:27.860Z"
   },
   {
    "duration": 0,
    "start_time": "2023-05-13T07:57:27.861Z"
   },
   {
    "duration": 0,
    "start_time": "2023-05-13T07:57:27.862Z"
   },
   {
    "duration": 0,
    "start_time": "2023-05-13T07:57:27.863Z"
   },
   {
    "duration": 0,
    "start_time": "2023-05-13T07:57:27.864Z"
   },
   {
    "duration": 0,
    "start_time": "2023-05-13T07:57:27.864Z"
   },
   {
    "duration": 0,
    "start_time": "2023-05-13T07:57:27.865Z"
   },
   {
    "duration": 0,
    "start_time": "2023-05-13T07:57:27.866Z"
   },
   {
    "duration": 0,
    "start_time": "2023-05-13T07:57:27.867Z"
   },
   {
    "duration": 39,
    "start_time": "2023-05-13T08:03:24.190Z"
   },
   {
    "duration": 21,
    "start_time": "2023-05-13T08:03:38.480Z"
   },
   {
    "duration": 13,
    "start_time": "2023-05-13T08:04:16.808Z"
   },
   {
    "duration": 12,
    "start_time": "2023-05-13T08:04:23.375Z"
   },
   {
    "duration": 16,
    "start_time": "2023-05-13T08:09:26.194Z"
   },
   {
    "duration": 11,
    "start_time": "2023-05-13T08:09:29.486Z"
   },
   {
    "duration": 14,
    "start_time": "2023-05-13T08:09:42.529Z"
   },
   {
    "duration": 12,
    "start_time": "2023-05-13T08:09:49.322Z"
   },
   {
    "duration": 9,
    "start_time": "2023-05-13T08:10:03.964Z"
   },
   {
    "duration": 21,
    "start_time": "2023-05-13T08:10:07.066Z"
   },
   {
    "duration": 23,
    "start_time": "2023-05-13T08:10:13.965Z"
   },
   {
    "duration": 24,
    "start_time": "2023-05-13T08:10:16.773Z"
   },
   {
    "duration": 141,
    "start_time": "2023-05-13T08:10:26.131Z"
   },
   {
    "duration": 5,
    "start_time": "2023-05-13T08:10:31.338Z"
   },
   {
    "duration": 859,
    "start_time": "2023-05-13T08:10:37.870Z"
   },
   {
    "duration": 151,
    "start_time": "2023-05-13T08:10:50.827Z"
   },
   {
    "duration": 4138,
    "start_time": "2023-05-13T08:11:01.207Z"
   },
   {
    "duration": 118247,
    "start_time": "2023-05-13T08:16:17.339Z"
   },
   {
    "duration": 21,
    "start_time": "2023-05-13T08:20:06.570Z"
   },
   {
    "duration": 173,
    "start_time": "2023-05-13T08:20:19.434Z"
   },
   {
    "duration": 17,
    "start_time": "2023-05-13T08:23:13.980Z"
   },
   {
    "duration": 323,
    "start_time": "2023-05-13T08:23:16.182Z"
   },
   {
    "duration": 26,
    "start_time": "2023-05-13T08:24:19.967Z"
   },
   {
    "duration": 164,
    "start_time": "2023-05-13T08:24:25.613Z"
   },
   {
    "duration": 233,
    "start_time": "2023-05-13T08:24:33.497Z"
   },
   {
    "duration": 181,
    "start_time": "2023-05-13T08:24:40.512Z"
   },
   {
    "duration": 21,
    "start_time": "2023-05-13T08:24:46.694Z"
   },
   {
    "duration": 297,
    "start_time": "2023-05-13T08:24:49.876Z"
   },
   {
    "duration": 10,
    "start_time": "2023-05-13T08:42:55.609Z"
   },
   {
    "duration": 14,
    "start_time": "2023-05-13T08:43:10.362Z"
   },
   {
    "duration": 14,
    "start_time": "2023-05-13T08:43:13.262Z"
   },
   {
    "duration": 154,
    "start_time": "2023-05-13T08:43:17.396Z"
   },
   {
    "duration": 130,
    "start_time": "2023-05-13T08:43:41.702Z"
   },
   {
    "duration": 133,
    "start_time": "2023-05-13T08:44:56.888Z"
   },
   {
    "duration": 261,
    "start_time": "2023-05-13T08:44:59.815Z"
   },
   {
    "duration": 14,
    "start_time": "2023-05-13T08:45:26.692Z"
   },
   {
    "duration": 323,
    "start_time": "2023-05-13T08:45:28.934Z"
   },
   {
    "duration": 13,
    "start_time": "2023-05-13T08:47:33.636Z"
   },
   {
    "duration": 35,
    "start_time": "2023-05-13T08:47:52.924Z"
   },
   {
    "duration": 166,
    "start_time": "2023-05-13T08:47:57.265Z"
   },
   {
    "duration": 364,
    "start_time": "2023-05-13T08:48:18.798Z"
   },
   {
    "duration": 212,
    "start_time": "2023-05-13T08:48:21.542Z"
   },
   {
    "duration": 33,
    "start_time": "2023-05-13T08:48:42.748Z"
   },
   {
    "duration": 274,
    "start_time": "2023-05-13T08:48:44.895Z"
   },
   {
    "duration": 429,
    "start_time": "2023-05-13T08:51:49.965Z"
   },
   {
    "duration": 391,
    "start_time": "2023-05-13T08:52:46.033Z"
   },
   {
    "duration": 409,
    "start_time": "2023-05-13T08:52:55.591Z"
   },
   {
    "duration": 1418,
    "start_time": "2023-05-13T08:53:15.313Z"
   },
   {
    "duration": 45,
    "start_time": "2023-05-13T08:53:16.733Z"
   },
   {
    "duration": 45,
    "start_time": "2023-05-13T08:53:16.780Z"
   },
   {
    "duration": 14,
    "start_time": "2023-05-13T08:53:16.827Z"
   },
   {
    "duration": 1359,
    "start_time": "2023-05-13T08:53:16.844Z"
   },
   {
    "duration": 1203,
    "start_time": "2023-05-13T08:53:18.205Z"
   },
   {
    "duration": 3,
    "start_time": "2023-05-13T08:53:19.409Z"
   },
   {
    "duration": 6,
    "start_time": "2023-05-13T08:53:19.413Z"
   },
   {
    "duration": 15,
    "start_time": "2023-05-13T08:53:19.421Z"
   },
   {
    "duration": 929,
    "start_time": "2023-05-13T08:53:19.438Z"
   },
   {
    "duration": 13,
    "start_time": "2023-05-13T08:53:20.368Z"
   },
   {
    "duration": 4,
    "start_time": "2023-05-13T08:53:20.383Z"
   },
   {
    "duration": 9,
    "start_time": "2023-05-13T08:53:20.388Z"
   },
   {
    "duration": 19,
    "start_time": "2023-05-13T08:53:20.400Z"
   },
   {
    "duration": 53,
    "start_time": "2023-05-13T08:53:20.420Z"
   },
   {
    "duration": 17,
    "start_time": "2023-05-13T08:53:20.475Z"
   },
   {
    "duration": 16,
    "start_time": "2023-05-13T08:53:20.494Z"
   },
   {
    "duration": 42,
    "start_time": "2023-05-13T08:53:20.511Z"
   },
   {
    "duration": 22,
    "start_time": "2023-05-13T08:53:20.555Z"
   },
   {
    "duration": 10,
    "start_time": "2023-05-13T08:53:20.579Z"
   },
   {
    "duration": 12,
    "start_time": "2023-05-13T08:53:20.591Z"
   },
   {
    "duration": 20,
    "start_time": "2023-05-13T08:53:20.605Z"
   },
   {
    "duration": 42,
    "start_time": "2023-05-13T08:53:20.627Z"
   },
   {
    "duration": 17,
    "start_time": "2023-05-13T08:53:20.670Z"
   },
   {
    "duration": 126,
    "start_time": "2023-05-13T08:53:20.688Z"
   },
   {
    "duration": 5,
    "start_time": "2023-05-13T08:53:20.815Z"
   },
   {
    "duration": 956,
    "start_time": "2023-05-13T08:53:20.822Z"
   },
   {
    "duration": 163,
    "start_time": "2023-05-13T08:53:21.780Z"
   },
   {
    "duration": 117449,
    "start_time": "2023-05-13T08:53:21.945Z"
   },
   {
    "duration": 22,
    "start_time": "2023-05-13T08:55:19.396Z"
   },
   {
    "duration": 200,
    "start_time": "2023-05-13T08:55:19.419Z"
   },
   {
    "duration": 31,
    "start_time": "2023-05-13T08:55:19.621Z"
   },
   {
    "duration": 429,
    "start_time": "2023-05-13T08:55:19.669Z"
   },
   {
    "duration": 25,
    "start_time": "2023-05-13T08:55:20.100Z"
   },
   {
    "duration": 186,
    "start_time": "2023-05-13T08:55:20.127Z"
   },
   {
    "duration": 266,
    "start_time": "2023-05-13T08:55:20.314Z"
   },
   {
    "duration": 194,
    "start_time": "2023-05-13T08:55:20.582Z"
   },
   {
    "duration": 22,
    "start_time": "2023-05-13T08:55:20.777Z"
   },
   {
    "duration": 397,
    "start_time": "2023-05-13T08:55:20.800Z"
   },
   {
    "duration": 14,
    "start_time": "2023-05-13T08:55:21.198Z"
   },
   {
    "duration": 37,
    "start_time": "2023-05-13T08:55:21.216Z"
   },
   {
    "duration": 162,
    "start_time": "2023-05-13T08:55:21.259Z"
   },
   {
    "duration": 162,
    "start_time": "2023-05-13T08:55:21.423Z"
   },
   {
    "duration": 190,
    "start_time": "2023-05-13T08:55:21.586Z"
   },
   {
    "duration": 17,
    "start_time": "2023-05-13T08:55:21.777Z"
   },
   {
    "duration": 464,
    "start_time": "2023-05-13T08:55:21.853Z"
   },
   {
    "duration": 14,
    "start_time": "2023-05-13T08:55:22.319Z"
   },
   {
    "duration": 50,
    "start_time": "2023-05-13T08:55:22.335Z"
   },
   {
    "duration": 191,
    "start_time": "2023-05-13T08:55:22.386Z"
   },
   {
    "duration": 332,
    "start_time": "2023-05-13T08:55:22.579Z"
   },
   {
    "duration": 188,
    "start_time": "2023-05-13T08:55:22.912Z"
   },
   {
    "duration": 64,
    "start_time": "2023-05-13T08:55:23.102Z"
   },
   {
    "duration": 426,
    "start_time": "2023-05-13T08:55:23.167Z"
   },
   {
    "duration": 425,
    "start_time": "2023-05-13T08:55:23.594Z"
   },
   {
    "duration": 7,
    "start_time": "2023-05-13T08:55:24.021Z"
   },
   {
    "duration": 200,
    "start_time": "2023-05-13T08:55:24.030Z"
   },
   {
    "duration": 227,
    "start_time": "2023-05-13T09:00:58.545Z"
   },
   {
    "duration": 240,
    "start_time": "2023-05-13T09:01:04.236Z"
   },
   {
    "duration": 277,
    "start_time": "2023-05-13T09:03:44.143Z"
   },
   {
    "duration": 48,
    "start_time": "2023-05-13T09:03:48.225Z"
   },
   {
    "duration": 181,
    "start_time": "2023-05-13T09:04:01.772Z"
   },
   {
    "duration": 243,
    "start_time": "2023-05-13T09:05:00.637Z"
   },
   {
    "duration": 175,
    "start_time": "2023-05-13T09:05:03.496Z"
   },
   {
    "duration": 6,
    "start_time": "2023-05-13T09:06:03.726Z"
   },
   {
    "duration": 146,
    "start_time": "2023-05-13T09:06:46.451Z"
   },
   {
    "duration": 1448,
    "start_time": "2023-05-13T09:18:51.836Z"
   },
   {
    "duration": 36,
    "start_time": "2023-05-13T09:18:53.286Z"
   },
   {
    "duration": 43,
    "start_time": "2023-05-13T09:18:53.324Z"
   },
   {
    "duration": 14,
    "start_time": "2023-05-13T09:18:53.368Z"
   },
   {
    "duration": 1390,
    "start_time": "2023-05-13T09:18:53.384Z"
   },
   {
    "duration": 1076,
    "start_time": "2023-05-13T09:18:54.776Z"
   },
   {
    "duration": 13,
    "start_time": "2023-05-13T09:18:55.853Z"
   },
   {
    "duration": 886,
    "start_time": "2023-05-13T09:18:55.867Z"
   },
   {
    "duration": 11,
    "start_time": "2023-05-13T09:18:56.755Z"
   },
   {
    "duration": 13,
    "start_time": "2023-05-13T09:18:56.768Z"
   },
   {
    "duration": 15,
    "start_time": "2023-05-13T09:18:56.782Z"
   },
   {
    "duration": 30,
    "start_time": "2023-05-13T09:18:56.799Z"
   },
   {
    "duration": 19,
    "start_time": "2023-05-13T09:18:56.831Z"
   },
   {
    "duration": 12,
    "start_time": "2023-05-13T09:18:56.853Z"
   },
   {
    "duration": 17,
    "start_time": "2023-05-13T09:18:56.867Z"
   },
   {
    "duration": 11,
    "start_time": "2023-05-13T09:18:56.885Z"
   },
   {
    "duration": 10,
    "start_time": "2023-05-13T09:18:56.897Z"
   },
   {
    "duration": 47,
    "start_time": "2023-05-13T09:18:56.909Z"
   },
   {
    "duration": 20,
    "start_time": "2023-05-13T09:18:56.958Z"
   },
   {
    "duration": 21,
    "start_time": "2023-05-13T09:18:56.979Z"
   },
   {
    "duration": 17,
    "start_time": "2023-05-13T09:18:57.002Z"
   },
   {
    "duration": 35,
    "start_time": "2023-05-13T09:18:57.021Z"
   },
   {
    "duration": 118,
    "start_time": "2023-05-13T09:18:57.057Z"
   },
   {
    "duration": 4,
    "start_time": "2023-05-13T09:18:57.176Z"
   },
   {
    "duration": 937,
    "start_time": "2023-05-13T09:18:57.181Z"
   },
   {
    "duration": 176,
    "start_time": "2023-05-13T09:18:58.120Z"
   },
   {
    "duration": 115299,
    "start_time": "2023-05-13T09:18:58.298Z"
   },
   {
    "duration": 27,
    "start_time": "2023-05-13T09:20:53.600Z"
   },
   {
    "duration": 206,
    "start_time": "2023-05-13T09:20:53.629Z"
   },
   {
    "duration": 31,
    "start_time": "2023-05-13T09:20:53.837Z"
   },
   {
    "duration": 472,
    "start_time": "2023-05-13T09:20:53.870Z"
   },
   {
    "duration": 36,
    "start_time": "2023-05-13T09:20:54.344Z"
   },
   {
    "duration": 312,
    "start_time": "2023-05-13T09:20:54.382Z"
   },
   {
    "duration": 247,
    "start_time": "2023-05-13T09:20:54.696Z"
   },
   {
    "duration": 205,
    "start_time": "2023-05-13T09:20:54.945Z"
   },
   {
    "duration": 109,
    "start_time": "2023-05-13T09:20:55.152Z"
   },
   {
    "duration": 412,
    "start_time": "2023-05-13T09:20:55.263Z"
   },
   {
    "duration": 14,
    "start_time": "2023-05-13T09:20:55.676Z"
   },
   {
    "duration": 26,
    "start_time": "2023-05-13T09:20:55.691Z"
   },
   {
    "duration": 198,
    "start_time": "2023-05-13T09:20:55.719Z"
   },
   {
    "duration": 148,
    "start_time": "2023-05-13T09:20:55.921Z"
   },
   {
    "duration": 168,
    "start_time": "2023-05-13T09:20:56.071Z"
   },
   {
    "duration": 20,
    "start_time": "2023-05-13T09:20:56.241Z"
   },
   {
    "duration": 510,
    "start_time": "2023-05-13T09:20:56.263Z"
   },
   {
    "duration": 13,
    "start_time": "2023-05-13T09:20:56.775Z"
   },
   {
    "duration": 31,
    "start_time": "2023-05-13T09:20:56.789Z"
   },
   {
    "duration": 179,
    "start_time": "2023-05-13T09:20:56.821Z"
   },
   {
    "duration": 329,
    "start_time": "2023-05-13T09:20:57.001Z"
   },
   {
    "duration": 185,
    "start_time": "2023-05-13T09:20:57.332Z"
   },
   {
    "duration": 41,
    "start_time": "2023-05-13T09:20:57.519Z"
   },
   {
    "duration": 512,
    "start_time": "2023-05-13T09:20:57.562Z"
   },
   {
    "duration": 262,
    "start_time": "2023-05-13T09:20:58.075Z"
   },
   {
    "duration": 184,
    "start_time": "2023-05-13T09:20:58.339Z"
   },
   {
    "duration": 6,
    "start_time": "2023-05-13T09:20:58.524Z"
   },
   {
    "duration": 156,
    "start_time": "2023-05-13T09:20:58.531Z"
   },
   {
    "duration": 1409,
    "start_time": "2023-05-13T09:35:55.111Z"
   },
   {
    "duration": 37,
    "start_time": "2023-05-13T09:35:56.522Z"
   },
   {
    "duration": 46,
    "start_time": "2023-05-13T09:35:56.561Z"
   },
   {
    "duration": 14,
    "start_time": "2023-05-13T09:35:56.609Z"
   },
   {
    "duration": 1322,
    "start_time": "2023-05-13T09:35:56.625Z"
   },
   {
    "duration": 1110,
    "start_time": "2023-05-13T09:35:57.950Z"
   },
   {
    "duration": 13,
    "start_time": "2023-05-13T09:35:59.062Z"
   },
   {
    "duration": 906,
    "start_time": "2023-05-13T09:35:59.077Z"
   },
   {
    "duration": 12,
    "start_time": "2023-05-13T09:35:59.985Z"
   },
   {
    "duration": 5,
    "start_time": "2023-05-13T09:36:00.000Z"
   },
   {
    "duration": 33,
    "start_time": "2023-05-13T09:36:00.007Z"
   },
   {
    "duration": 31,
    "start_time": "2023-05-13T09:36:00.042Z"
   },
   {
    "duration": 42,
    "start_time": "2023-05-13T09:36:00.074Z"
   },
   {
    "duration": 122,
    "start_time": "2023-05-13T09:36:00.119Z"
   },
   {
    "duration": 86,
    "start_time": "2023-05-13T09:36:00.242Z"
   },
   {
    "duration": 36,
    "start_time": "2023-05-13T09:36:00.332Z"
   },
   {
    "duration": 32,
    "start_time": "2023-05-13T09:36:00.369Z"
   },
   {
    "duration": 90,
    "start_time": "2023-05-13T09:36:00.403Z"
   },
   {
    "duration": 33,
    "start_time": "2023-05-13T09:36:00.495Z"
   },
   {
    "duration": 63,
    "start_time": "2023-05-13T09:36:00.529Z"
   },
   {
    "duration": 26,
    "start_time": "2023-05-13T09:36:00.594Z"
   },
   {
    "duration": 52,
    "start_time": "2023-05-13T09:36:00.622Z"
   },
   {
    "duration": 131,
    "start_time": "2023-05-13T09:36:00.676Z"
   },
   {
    "duration": 5,
    "start_time": "2023-05-13T09:36:00.809Z"
   },
   {
    "duration": 1185,
    "start_time": "2023-05-13T09:36:00.815Z"
   },
   {
    "duration": 170,
    "start_time": "2023-05-13T09:36:02.002Z"
   },
   {
    "duration": 1500,
    "start_time": "2023-10-31T07:24:22.627Z"
   },
   {
    "duration": 83,
    "start_time": "2023-10-31T07:24:24.129Z"
   },
   {
    "duration": 49,
    "start_time": "2023-10-31T07:24:24.213Z"
   },
   {
    "duration": 16,
    "start_time": "2023-10-31T07:24:24.264Z"
   },
   {
    "duration": 1404,
    "start_time": "2023-10-31T07:24:24.282Z"
   },
   {
    "duration": 1098,
    "start_time": "2023-10-31T07:24:25.688Z"
   },
   {
    "duration": 14,
    "start_time": "2023-10-31T07:24:26.788Z"
   },
   {
    "duration": 952,
    "start_time": "2023-10-31T07:24:26.804Z"
   },
   {
    "duration": 16,
    "start_time": "2023-10-31T07:24:27.758Z"
   },
   {
    "duration": 25,
    "start_time": "2023-10-31T07:24:27.778Z"
   },
   {
    "duration": 36,
    "start_time": "2023-10-31T07:24:27.805Z"
   },
   {
    "duration": 33,
    "start_time": "2023-10-31T07:24:27.843Z"
   },
   {
    "duration": 44,
    "start_time": "2023-10-31T07:24:27.877Z"
   },
   {
    "duration": 54,
    "start_time": "2023-10-31T07:24:27.923Z"
   },
   {
    "duration": 34,
    "start_time": "2023-10-31T07:24:27.979Z"
   },
   {
    "duration": 21,
    "start_time": "2023-10-31T07:24:28.015Z"
   },
   {
    "duration": 21,
    "start_time": "2023-10-31T07:24:28.039Z"
   },
   {
    "duration": 22,
    "start_time": "2023-10-31T07:24:28.063Z"
   },
   {
    "duration": 23,
    "start_time": "2023-10-31T07:24:28.087Z"
   },
   {
    "duration": 44,
    "start_time": "2023-10-31T07:24:28.111Z"
   },
   {
    "duration": 67,
    "start_time": "2023-10-31T07:24:28.157Z"
   },
   {
    "duration": 64,
    "start_time": "2023-10-31T07:24:28.226Z"
   },
   {
    "duration": 136,
    "start_time": "2023-10-31T07:24:28.292Z"
   },
   {
    "duration": 4,
    "start_time": "2023-10-31T07:24:28.430Z"
   },
   {
    "duration": 1088,
    "start_time": "2023-10-31T07:24:28.437Z"
   },
   {
    "duration": 175,
    "start_time": "2023-10-31T07:24:29.526Z"
   },
   {
    "duration": 122342,
    "start_time": "2023-10-31T07:24:29.703Z"
   },
   {
    "duration": 23,
    "start_time": "2023-10-31T07:26:32.048Z"
   },
   {
    "duration": 229,
    "start_time": "2023-10-31T07:26:32.073Z"
   },
   {
    "duration": 25,
    "start_time": "2023-10-31T07:26:32.304Z"
   },
   {
    "duration": 532,
    "start_time": "2023-10-31T07:26:32.331Z"
   },
   {
    "duration": 36,
    "start_time": "2023-10-31T07:26:32.865Z"
   },
   {
    "duration": 163,
    "start_time": "2023-10-31T07:26:32.903Z"
   },
   {
    "duration": 258,
    "start_time": "2023-10-31T07:26:33.068Z"
   },
   {
    "duration": 177,
    "start_time": "2023-10-31T07:26:33.328Z"
   },
   {
    "duration": 96,
    "start_time": "2023-10-31T07:26:33.506Z"
   },
   {
    "duration": 435,
    "start_time": "2023-10-31T07:26:33.604Z"
   },
   {
    "duration": 13,
    "start_time": "2023-10-31T07:26:34.041Z"
   },
   {
    "duration": 27,
    "start_time": "2023-10-31T07:26:34.056Z"
   },
   {
    "duration": 173,
    "start_time": "2023-10-31T07:26:34.085Z"
   },
   {
    "duration": 189,
    "start_time": "2023-10-31T07:26:34.259Z"
   },
   {
    "duration": 238,
    "start_time": "2023-10-31T07:26:34.450Z"
   },
   {
    "duration": 33,
    "start_time": "2023-10-31T07:26:34.690Z"
   },
   {
    "duration": 612,
    "start_time": "2023-10-31T07:26:34.727Z"
   },
   {
    "duration": 13,
    "start_time": "2023-10-31T07:26:35.341Z"
   },
   {
    "duration": 50,
    "start_time": "2023-10-31T07:26:35.355Z"
   },
   {
    "duration": 160,
    "start_time": "2023-10-31T07:26:35.407Z"
   },
   {
    "duration": 342,
    "start_time": "2023-10-31T07:26:35.569Z"
   },
   {
    "duration": 179,
    "start_time": "2023-10-31T07:26:35.913Z"
   },
   {
    "duration": 28,
    "start_time": "2023-10-31T07:26:36.094Z"
   },
   {
    "duration": 422,
    "start_time": "2023-10-31T07:26:36.124Z"
   },
   {
    "duration": 254,
    "start_time": "2023-10-31T07:26:36.548Z"
   },
   {
    "duration": 186,
    "start_time": "2023-10-31T07:26:36.803Z"
   },
   {
    "duration": 13,
    "start_time": "2023-10-31T07:26:36.991Z"
   },
   {
    "duration": 146,
    "start_time": "2023-10-31T07:26:37.006Z"
   }
  ],
  "kernelspec": {
   "display_name": "Python 3 (ipykernel)",
   "language": "python",
   "name": "python3"
  },
  "language_info": {
   "codemirror_mode": {
    "name": "ipython",
    "version": 3
   },
   "file_extension": ".py",
   "mimetype": "text/x-python",
   "name": "python",
   "nbconvert_exporter": "python",
   "pygments_lexer": "ipython3",
   "version": "3.9.13"
  },
  "toc": {
   "base_numbering": 1,
   "nav_menu": {},
   "number_sections": true,
   "sideBar": true,
   "skip_h1_title": true,
   "title_cell": "Содержание",
   "title_sidebar": "Contents",
   "toc_cell": true,
   "toc_position": {
    "height": "calc(100% - 180px)",
    "left": "10px",
    "top": "150px",
    "width": "165px"
   },
   "toc_section_display": true,
   "toc_window_display": true
  }
 },
 "nbformat": 4,
 "nbformat_minor": 2
}

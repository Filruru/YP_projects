{
 "cells": [
  {
   "cell_type": "markdown",
   "metadata": {
    "toc": true
   },
   "source": [
    "<h1>Содержание<span class=\"tocSkip\"></span></h1>\n",
    "<div class=\"toc\"><ul class=\"toc-item\"><li><span><a href=\"#Подготовка\" data-toc-modified-id=\"Подготовка-1\"><span class=\"toc-item-num\">1&nbsp;&nbsp;</span>Подготовка</a></span></li><li><span><a href=\"#Обучение\" data-toc-modified-id=\"Обучение-2\"><span class=\"toc-item-num\">2&nbsp;&nbsp;</span>Обучение</a></span></li><li><span><a href=\"#Выводы\" data-toc-modified-id=\"Выводы-3\"><span class=\"toc-item-num\">3&nbsp;&nbsp;</span>Выводы</a></span></li><li><span><a href=\"#Чек-лист-проверки\" data-toc-modified-id=\"Чек-лист-проверки-4\"><span class=\"toc-item-num\">4&nbsp;&nbsp;</span>Чек-лист проверки</a></span></li></ul></div>"
   ]
  },
  {
   "cell_type": "markdown",
   "metadata": {},
   "source": [
    "# Проект для «Викишоп» c BERT"
   ]
  },
  {
   "cell_type": "markdown",
   "metadata": {},
   "source": [
    "Интернет-магазин «Викишоп» запускает новый сервис. Теперь пользователи могут редактировать и дополнять описания товаров, как в вики-сообществах. То есть клиенты предлагают свои правки и комментируют изменения других. Магазину нужен инструмент, который будет искать токсичные комментарии и отправлять их на модерацию. \n",
    "\n",
    "Обучите модель классифицировать комментарии на позитивные и негативные. В вашем распоряжении набор данных с разметкой о токсичности правок.\n",
    "\n",
    "Постройте модель со значением метрики качества *F1* не меньше 0.75. \n",
    "\n",
    "**Инструкция по выполнению проекта**\n",
    "\n",
    "1. Загрузите и подготовьте данные.\n",
    "2. Обучите разные модели. \n",
    "3. Сделайте выводы.\n",
    "\n",
    "Для выполнения проекта применять *BERT* необязательно, но вы можете попробовать.\n",
    "\n",
    "**Описание данных**\n",
    "\n",
    "Данные находятся в файле `toxic_comments.csv`. Столбец *text* в нём содержит текст комментария, а *toxic* — целевой признак."
   ]
  },
  {
   "cell_type": "markdown",
   "metadata": {},
   "source": [
    "## Подготовка"
   ]
  },
  {
   "cell_type": "code",
   "execution_count": 1,
   "metadata": {},
   "outputs": [],
   "source": [
    "import numpy as np\n",
    "import pandas as pd\n",
    "import nltk\n",
    "import re\n",
    "import matplotlib.pyplot as plt\n",
    "import seaborn as sns\n",
    "\n",
    "import warnings\n",
    "warnings.filterwarnings('ignore')\n",
    "\n",
    "\n",
    "from nltk.corpus import stopwords \n",
    "from nltk.corpus import wordnet \n",
    "from nltk.stem import WordNetLemmatizer\n",
    "from nltk.tokenize import word_tokenize\n",
    "\n",
    "from catboost import CatBoostClassifier\n",
    "from lightgbm import LGBMClassifier\n",
    "from sklearn.feature_extraction.text import TfidfVectorizer\n",
    "from sklearn.linear_model import LogisticRegression\n",
    "from sklearn.pipeline import Pipeline\n",
    "from sklearn.model_selection import GridSearchCV\n",
    "from sklearn.ensemble._forest import RandomForestClassifier\n",
    "from lightgbm import LGBMClassifier\n",
    "from sklearn.metrics import f1_score\n",
    "from sklearn.model_selection import train_test_split\n",
    "from sklearn.metrics import classification_report\n"
   ]
  },
  {
   "cell_type": "markdown",
   "metadata": {},
   "source": [
    "<font color='blue'><b>Комментарий ревьюера: </b></font> ✔️\\\n",
    "<font color='green'> Хорошее оформление импортов! \\\n",
    "Импорты собраны в одной ячейке, разделены на функциональные группы пустой строкой.</font>"
   ]
  },
  {
   "cell_type": "markdown",
   "metadata": {},
   "source": [
    "Грузим библиотеку для обработи текста и стоп-слова из английского языка"
   ]
  },
  {
   "cell_type": "code",
   "execution_count": 2,
   "metadata": {},
   "outputs": [
    {
     "name": "stderr",
     "output_type": "stream",
     "text": [
      "[nltk_data] Downloading package stopwords to /home/jovyan/nltk_data...\n",
      "[nltk_data]   Package stopwords is already up-to-date!\n",
      "[nltk_data] Downloading package wordnet to /home/jovyan/nltk_data...\n",
      "[nltk_data]   Package wordnet is already up-to-date!\n",
      "[nltk_data] Downloading package averaged_perceptron_tagger to\n",
      "[nltk_data]     /home/jovyan/nltk_data...\n",
      "[nltk_data]   Unzipping taggers/averaged_perceptron_tagger.zip.\n"
     ]
    },
    {
     "data": {
      "text/plain": [
       "True"
      ]
     },
     "execution_count": 2,
     "metadata": {},
     "output_type": "execute_result"
    }
   ],
   "source": [
    "nltk.download('stopwords')\n",
    "stop_words=set(stopwords.words('english'))\n",
    "nltk.download('wordnet')\n",
    "nltk.download('averaged_perceptron_tagger')"
   ]
  },
  {
   "cell_type": "markdown",
   "metadata": {},
   "source": [
    "Читаю исходный файл"
   ]
  },
  {
   "cell_type": "code",
   "execution_count": 3,
   "metadata": {},
   "outputs": [
    {
     "data": {
      "text/html": [
       "<div>\n",
       "<style scoped>\n",
       "    .dataframe tbody tr th:only-of-type {\n",
       "        vertical-align: middle;\n",
       "    }\n",
       "\n",
       "    .dataframe tbody tr th {\n",
       "        vertical-align: top;\n",
       "    }\n",
       "\n",
       "    .dataframe thead th {\n",
       "        text-align: right;\n",
       "    }\n",
       "</style>\n",
       "<table border=\"1\" class=\"dataframe\">\n",
       "  <thead>\n",
       "    <tr style=\"text-align: right;\">\n",
       "      <th></th>\n",
       "      <th>Unnamed: 0</th>\n",
       "      <th>text</th>\n",
       "      <th>toxic</th>\n",
       "    </tr>\n",
       "  </thead>\n",
       "  <tbody>\n",
       "    <tr>\n",
       "      <th>0</th>\n",
       "      <td>0</td>\n",
       "      <td>Explanation\\nWhy the edits made under my usern...</td>\n",
       "      <td>0</td>\n",
       "    </tr>\n",
       "    <tr>\n",
       "      <th>1</th>\n",
       "      <td>1</td>\n",
       "      <td>D'aww! He matches this background colour I'm s...</td>\n",
       "      <td>0</td>\n",
       "    </tr>\n",
       "    <tr>\n",
       "      <th>2</th>\n",
       "      <td>2</td>\n",
       "      <td>Hey man, I'm really not trying to edit war. It...</td>\n",
       "      <td>0</td>\n",
       "    </tr>\n",
       "    <tr>\n",
       "      <th>3</th>\n",
       "      <td>3</td>\n",
       "      <td>\"\\nMore\\nI can't make any real suggestions on ...</td>\n",
       "      <td>0</td>\n",
       "    </tr>\n",
       "    <tr>\n",
       "      <th>4</th>\n",
       "      <td>4</td>\n",
       "      <td>You, sir, are my hero. Any chance you remember...</td>\n",
       "      <td>0</td>\n",
       "    </tr>\n",
       "    <tr>\n",
       "      <th>...</th>\n",
       "      <td>...</td>\n",
       "      <td>...</td>\n",
       "      <td>...</td>\n",
       "    </tr>\n",
       "    <tr>\n",
       "      <th>159287</th>\n",
       "      <td>159446</td>\n",
       "      <td>\":::::And for the second time of asking, when ...</td>\n",
       "      <td>0</td>\n",
       "    </tr>\n",
       "    <tr>\n",
       "      <th>159288</th>\n",
       "      <td>159447</td>\n",
       "      <td>You should be ashamed of yourself \\n\\nThat is ...</td>\n",
       "      <td>0</td>\n",
       "    </tr>\n",
       "    <tr>\n",
       "      <th>159289</th>\n",
       "      <td>159448</td>\n",
       "      <td>Spitzer \\n\\nUmm, theres no actual article for ...</td>\n",
       "      <td>0</td>\n",
       "    </tr>\n",
       "    <tr>\n",
       "      <th>159290</th>\n",
       "      <td>159449</td>\n",
       "      <td>And it looks like it was actually you who put ...</td>\n",
       "      <td>0</td>\n",
       "    </tr>\n",
       "    <tr>\n",
       "      <th>159291</th>\n",
       "      <td>159450</td>\n",
       "      <td>\"\\nAnd ... I really don't think you understand...</td>\n",
       "      <td>0</td>\n",
       "    </tr>\n",
       "  </tbody>\n",
       "</table>\n",
       "<p>159292 rows × 3 columns</p>\n",
       "</div>"
      ],
      "text/plain": [
       "        Unnamed: 0                                               text  toxic\n",
       "0                0  Explanation\\nWhy the edits made under my usern...      0\n",
       "1                1  D'aww! He matches this background colour I'm s...      0\n",
       "2                2  Hey man, I'm really not trying to edit war. It...      0\n",
       "3                3  \"\\nMore\\nI can't make any real suggestions on ...      0\n",
       "4                4  You, sir, are my hero. Any chance you remember...      0\n",
       "...            ...                                                ...    ...\n",
       "159287      159446  \":::::And for the second time of asking, when ...      0\n",
       "159288      159447  You should be ashamed of yourself \\n\\nThat is ...      0\n",
       "159289      159448  Spitzer \\n\\nUmm, theres no actual article for ...      0\n",
       "159290      159449  And it looks like it was actually you who put ...      0\n",
       "159291      159450  \"\\nAnd ... I really don't think you understand...      0\n",
       "\n",
       "[159292 rows x 3 columns]"
      ]
     },
     "metadata": {},
     "output_type": "display_data"
    }
   ],
   "source": [
    "df=pd.read_csv('/datasets/toxic_comments.csv')\n",
    "df_b = df\n",
    "display(df)"
   ]
  },
  {
   "cell_type": "code",
   "execution_count": 4,
   "metadata": {},
   "outputs": [
    {
     "name": "stdout",
     "output_type": "stream",
     "text": [
      "<class 'pandas.core.frame.DataFrame'>\n",
      "RangeIndex: 159292 entries, 0 to 159291\n",
      "Data columns (total 3 columns):\n",
      " #   Column      Non-Null Count   Dtype \n",
      "---  ------      --------------   ----- \n",
      " 0   Unnamed: 0  159292 non-null  int64 \n",
      " 1   text        159292 non-null  object\n",
      " 2   toxic       159292 non-null  int64 \n",
      "dtypes: int64(2), object(1)\n",
      "memory usage: 3.6+ MB\n"
     ]
    }
   ],
   "source": [
    "df.info()"
   ]
  },
  {
   "cell_type": "code",
   "execution_count": 5,
   "metadata": {
    "scrolled": true
   },
   "outputs": [
    {
     "data": {
      "text/plain": [
       "0         Explanation\\nWhy the edits made under my usern...\n",
       "1         D'aww! He matches this background colour I'm s...\n",
       "2         Hey man, I'm really not trying to edit war. It...\n",
       "3         \"\\nMore\\nI can't make any real suggestions on ...\n",
       "4         You, sir, are my hero. Any chance you remember...\n",
       "                                ...                        \n",
       "159287    \":::::And for the second time of asking, when ...\n",
       "159288    You should be ashamed of yourself \\n\\nThat is ...\n",
       "159289    Spitzer \\n\\nUmm, theres no actual article for ...\n",
       "159290    And it looks like it was actually you who put ...\n",
       "159291    \"\\nAnd ... I really don't think you understand...\n",
       "Name: text, Length: 159292, dtype: object"
      ]
     },
     "execution_count": 5,
     "metadata": {},
     "output_type": "execute_result"
    }
   ],
   "source": [
    "df['text']"
   ]
  },
  {
   "cell_type": "markdown",
   "metadata": {},
   "source": [
    "Функция РОS-тэгирования слов.Результатом будет список кортежей, в котором каждый кортеж содержит слово и его POS-тэг(часть речи)"
   ]
  },
  {
   "cell_type": "code",
   "execution_count": 6,
   "metadata": {},
   "outputs": [],
   "source": [
    "def get_wordnet_pos(word):\n",
    "    tag = nltk.pos_tag([word])[0][1][0].upper()\n",
    "    tag_dict = {\"J\": wordnet.ADJ,               #прилагательное\n",
    "                \"N\": wordnet.NOUN,              #существительное\n",
    "                \"V\": wordnet.VERB,              #глагол\n",
    "                \"R\": wordnet.ADV                #наречие\n",
    "               }  \n",
    "    return tag_dict.get(tag, wordnet.NOUN)"
   ]
  },
  {
   "cell_type": "markdown",
   "metadata": {},
   "source": [
    "Создал процедуру для предобработки отзывов, которая включает приведение слов в нижний регистр, удаление интернет ссылок, если они есть, удаление всех лишних символов, токенизацию, лемматизацию c POS-тегетированием слов и обединение через пробел преобразований для каждого отзыва."
   ]
  },
  {
   "cell_type": "code",
   "execution_count": 7,
   "metadata": {},
   "outputs": [],
   "source": [
    "def preprocess_text(text):\n",
    "    text=text.lower()\n",
    "    text=re.sub(r'http\\S+|www\\S+|http\\S+',' ',text)\n",
    "    text=re.sub(r'[^a-zA-Z]',' ',text)\n",
    "    tokens=nltk.word_tokenize(text)\n",
    "    #tokens=[token for token in tokens if token not in stop_words]\n",
    "    #tokens=[lemmatizer.lemmatize(token) for token in tokens]\n",
    "    tokens = [lemmatizer.lemmatize(w, get_wordnet_pos(w)) for w in nltk.word_tokenize(text)]\n",
    "    processed_text=' '.join(tokens)\n",
    "    return processed_text\n"
   ]
  },
  {
   "cell_type": "code",
   "execution_count": 8,
   "metadata": {},
   "outputs": [],
   "source": [
    "lemmatizer = WordNetLemmatizer()"
   ]
  },
  {
   "cell_type": "markdown",
   "metadata": {},
   "source": [
    "Проверяю на примере первого отзыва в датасете как он выглядел до преобразований"
   ]
  },
  {
   "cell_type": "code",
   "execution_count": 9,
   "metadata": {},
   "outputs": [
    {
     "data": {
      "text/plain": [
       "\"Explanation\\nWhy the edits made under my username Hardcore Metallica Fan were reverted? They weren't vandalisms, just closure on some GAs after I voted at New York Dolls FAC. And please don't remove the template from the talk page since I'm retired now.89.205.38.27\""
      ]
     },
     "execution_count": 9,
     "metadata": {},
     "output_type": "execute_result"
    }
   ],
   "source": [
    "df['text'][0]"
   ]
  },
  {
   "cell_type": "markdown",
   "metadata": {},
   "source": [
    "Проверяю тот же самый первый отзыв в датасете после преобразований преобразований"
   ]
  },
  {
   "cell_type": "code",
   "execution_count": 10,
   "metadata": {},
   "outputs": [
    {
     "data": {
      "text/plain": [
       "'explanation why the edits make under my username hardcore metallica fan be revert they weren t vandalism just closure on some gas after i vote at new york doll fac and please don t remove the template from the talk page since i m retire now'"
      ]
     },
     "execution_count": 10,
     "metadata": {},
     "output_type": "execute_result"
    }
   ],
   "source": [
    "preprocess_text(df['text'][0])"
   ]
  },
  {
   "cell_type": "markdown",
   "metadata": {},
   "source": [
    "Применяю преобразование на всем столбце с отзывами"
   ]
  },
  {
   "cell_type": "code",
   "execution_count": 11,
   "metadata": {},
   "outputs": [],
   "source": [
    "df['text'] = df['text'].apply(lambda x:preprocess_text(x))"
   ]
  },
  {
   "cell_type": "markdown",
   "metadata": {},
   "source": [
    "Удаляю столбец 'Unnamed: 0':"
   ]
  },
  {
   "cell_type": "code",
   "execution_count": 12,
   "metadata": {},
   "outputs": [],
   "source": [
    "df = df.drop(['Unnamed: 0'], axis=1)"
   ]
  },
  {
   "cell_type": "code",
   "execution_count": 13,
   "metadata": {},
   "outputs": [
    {
     "data": {
      "text/html": [
       "<div>\n",
       "<style scoped>\n",
       "    .dataframe tbody tr th:only-of-type {\n",
       "        vertical-align: middle;\n",
       "    }\n",
       "\n",
       "    .dataframe tbody tr th {\n",
       "        vertical-align: top;\n",
       "    }\n",
       "\n",
       "    .dataframe thead th {\n",
       "        text-align: right;\n",
       "    }\n",
       "</style>\n",
       "<table border=\"1\" class=\"dataframe\">\n",
       "  <thead>\n",
       "    <tr style=\"text-align: right;\">\n",
       "      <th></th>\n",
       "      <th>text</th>\n",
       "      <th>toxic</th>\n",
       "    </tr>\n",
       "  </thead>\n",
       "  <tbody>\n",
       "    <tr>\n",
       "      <th>0</th>\n",
       "      <td>explanation why the edits make under my userna...</td>\n",
       "      <td>0</td>\n",
       "    </tr>\n",
       "    <tr>\n",
       "      <th>1</th>\n",
       "      <td>d aww he match this background colour i m seem...</td>\n",
       "      <td>0</td>\n",
       "    </tr>\n",
       "    <tr>\n",
       "      <th>2</th>\n",
       "      <td>hey man i m really not try to edit war it s ju...</td>\n",
       "      <td>0</td>\n",
       "    </tr>\n",
       "    <tr>\n",
       "      <th>3</th>\n",
       "      <td>more i can t make any real suggestion on impro...</td>\n",
       "      <td>0</td>\n",
       "    </tr>\n",
       "    <tr>\n",
       "      <th>4</th>\n",
       "      <td>you sir be my hero any chance you remember wha...</td>\n",
       "      <td>0</td>\n",
       "    </tr>\n",
       "    <tr>\n",
       "      <th>...</th>\n",
       "      <td>...</td>\n",
       "      <td>...</td>\n",
       "    </tr>\n",
       "    <tr>\n",
       "      <th>159287</th>\n",
       "      <td>and for the second time of ask when your view ...</td>\n",
       "      <td>0</td>\n",
       "    </tr>\n",
       "    <tr>\n",
       "      <th>159288</th>\n",
       "      <td>you should be ashamed of yourself that be a ho...</td>\n",
       "      <td>0</td>\n",
       "    </tr>\n",
       "    <tr>\n",
       "      <th>159289</th>\n",
       "      <td>spitzer umm there no actual article for prosti...</td>\n",
       "      <td>0</td>\n",
       "    </tr>\n",
       "    <tr>\n",
       "      <th>159290</th>\n",
       "      <td>and it look like it be actually you who put on...</td>\n",
       "      <td>0</td>\n",
       "    </tr>\n",
       "    <tr>\n",
       "      <th>159291</th>\n",
       "      <td>and i really don t think you understand i come...</td>\n",
       "      <td>0</td>\n",
       "    </tr>\n",
       "  </tbody>\n",
       "</table>\n",
       "<p>159292 rows × 2 columns</p>\n",
       "</div>"
      ],
      "text/plain": [
       "                                                     text  toxic\n",
       "0       explanation why the edits make under my userna...      0\n",
       "1       d aww he match this background colour i m seem...      0\n",
       "2       hey man i m really not try to edit war it s ju...      0\n",
       "3       more i can t make any real suggestion on impro...      0\n",
       "4       you sir be my hero any chance you remember wha...      0\n",
       "...                                                   ...    ...\n",
       "159287  and for the second time of ask when your view ...      0\n",
       "159288  you should be ashamed of yourself that be a ho...      0\n",
       "159289  spitzer umm there no actual article for prosti...      0\n",
       "159290  and it look like it be actually you who put on...      0\n",
       "159291  and i really don t think you understand i come...      0\n",
       "\n",
       "[159292 rows x 2 columns]"
      ]
     },
     "execution_count": 13,
     "metadata": {},
     "output_type": "execute_result"
    }
   ],
   "source": [
    "df"
   ]
  },
  {
   "cell_type": "markdown",
   "metadata": {},
   "source": [
    "Выделим из датасета целевой и нецелевой признаки"
   ]
  },
  {
   "cell_type": "code",
   "execution_count": 14,
   "metadata": {},
   "outputs": [],
   "source": [
    "features=df.drop('toxic',axis=1)\n",
    "target=df.toxic"
   ]
  },
  {
   "cell_type": "markdown",
   "metadata": {},
   "source": [
    "Посмотрим на количество строк с разными классами: датасет очень несбалансирован в сторону 0 (в около 9 раз). Для не градиентных моделей буду использовать параметр class_weight='balanced', в градиентных моделях борьба с дисбалансом классов реализована внутри."
   ]
  },
  {
   "cell_type": "code",
   "execution_count": 15,
   "metadata": {},
   "outputs": [
    {
     "data": {
      "text/plain": [
       "0    143106\n",
       "1     16186\n",
       "Name: toxic, dtype: int64"
      ]
     },
     "execution_count": 15,
     "metadata": {},
     "output_type": "execute_result"
    }
   ],
   "source": [
    "target.value_counts()\n"
   ]
  },
  {
   "cell_type": "markdown",
   "metadata": {},
   "source": [
    "Разделяю признаки на тренировочную и тестовую выборки в соотношении 0.80/0.20 Валидационную не делаю, так как буду использовать поиск параметров моделей через GRidSearchCV, в котором реализована кросс валидация. "
   ]
  },
  {
   "cell_type": "code",
   "execution_count": 16,
   "metadata": {},
   "outputs": [],
   "source": [
    "features_train, features_test, target_train, target_test = train_test_split(features, target, \\\n",
    "                                                                            test_size=0.20, random_state=12345,\\\n",
    "                                                                            stratify=target)"
   ]
  },
  {
   "cell_type": "code",
   "execution_count": 17,
   "metadata": {},
   "outputs": [],
   "source": [
    "features_train = features_train.text"
   ]
  },
  {
   "cell_type": "markdown",
   "metadata": {},
   "source": [
    "## Обучение"
   ]
  },
  {
   "cell_type": "code",
   "execution_count": 18,
   "metadata": {
    "collapsed": true
   },
   "outputs": [
    {
     "name": "stdout",
     "output_type": "stream",
     "text": [
      "Fitting 2 folds for each of 12 candidates, totalling 24 fits\n",
      "[CV 1/2] END clf=LogisticRegression(random_state=12345), clf__C=5, clf__class_weight=balanced, clf__max_iter=100, clf__solver=lbfgs; total time=  43.2s\n",
      "[CV 2/2] END clf=LogisticRegression(random_state=12345), clf__C=5, clf__class_weight=balanced, clf__max_iter=100, clf__solver=lbfgs; total time=  40.2s\n",
      "[CV 1/2] END clf=LogisticRegression(random_state=12345), clf__C=5, clf__class_weight=balanced, clf__max_iter=300, clf__solver=lbfgs; total time= 1.1min\n",
      "[CV 2/2] END clf=LogisticRegression(random_state=12345), clf__C=5, clf__class_weight=balanced, clf__max_iter=300, clf__solver=lbfgs; total time=  52.7s\n",
      "[CV 1/2] END clf=LogisticRegression(random_state=12345), clf__C=10, clf__class_weight=balanced, clf__max_iter=100, clf__solver=lbfgs; total time=  42.0s\n",
      "[CV 2/2] END clf=LogisticRegression(random_state=12345), clf__C=10, clf__class_weight=balanced, clf__max_iter=100, clf__solver=lbfgs; total time=  40.5s\n",
      "[CV 1/2] END clf=LogisticRegression(random_state=12345), clf__C=10, clf__class_weight=balanced, clf__max_iter=300, clf__solver=lbfgs; total time= 1.3min\n",
      "[CV 2/2] END clf=LogisticRegression(random_state=12345), clf__C=10, clf__class_weight=balanced, clf__max_iter=300, clf__solver=lbfgs; total time= 1.6min\n",
      "[CV 1/2] END clf=RandomForestClassifier(random_state=12345), clf__class_weight=balanced, clf__max_depth=15, clf__n_estimators=150; total time=  11.4s\n",
      "[CV 2/2] END clf=RandomForestClassifier(random_state=12345), clf__class_weight=balanced, clf__max_depth=15, clf__n_estimators=150; total time=  11.7s\n",
      "[CV 1/2] END clf=RandomForestClassifier(random_state=12345), clf__class_weight=balanced, clf__max_depth=15, clf__n_estimators=200; total time=  14.3s\n",
      "[CV 2/2] END clf=RandomForestClassifier(random_state=12345), clf__class_weight=balanced, clf__max_depth=15, clf__n_estimators=200; total time=  13.7s\n",
      "[CV 1/2] END clf=RandomForestClassifier(random_state=12345), clf__class_weight=balanced, clf__max_depth=20, clf__n_estimators=150; total time=  14.7s\n",
      "[CV 2/2] END clf=RandomForestClassifier(random_state=12345), clf__class_weight=balanced, clf__max_depth=20, clf__n_estimators=150; total time=  14.3s\n",
      "[CV 1/2] END clf=RandomForestClassifier(random_state=12345), clf__class_weight=balanced, clf__max_depth=20, clf__n_estimators=200; total time=  17.3s\n",
      "[CV 2/2] END clf=RandomForestClassifier(random_state=12345), clf__class_weight=balanced, clf__max_depth=20, clf__n_estimators=200; total time=  16.9s\n",
      "[CV 1/2] END clf=LGBMClassifier(), clf__boosting_type=gbdt, clf__learning_rate=0.1, clf__max_depth=15; total time= 8.4min\n",
      "[CV 2/2] END clf=LGBMClassifier(), clf__boosting_type=gbdt, clf__learning_rate=0.1, clf__max_depth=15; total time=16.9min\n",
      "[CV 1/2] END clf=LGBMClassifier(), clf__boosting_type=gbdt, clf__learning_rate=0.1, clf__max_depth=25; total time=17.7min\n",
      "[CV 2/2] END clf=LGBMClassifier(), clf__boosting_type=gbdt, clf__learning_rate=0.1, clf__max_depth=25; total time=15.9min\n",
      "[CV 1/2] END clf=LGBMClassifier(), clf__boosting_type=gbdt, clf__learning_rate=0.3, clf__max_depth=15; total time=16.4min\n",
      "[CV 2/2] END clf=LGBMClassifier(), clf__boosting_type=gbdt, clf__learning_rate=0.3, clf__max_depth=15; total time=16.8min\n",
      "[CV 1/2] END clf=LGBMClassifier(), clf__boosting_type=gbdt, clf__learning_rate=0.3, clf__max_depth=25; total time=17.0min\n",
      "[CV 2/2] END clf=LGBMClassifier(), clf__boosting_type=gbdt, clf__learning_rate=0.3, clf__max_depth=25; total time=18.2min\n",
      "CPU times: user 2h 33min 2s, sys: 5min 27s, total: 2h 38min 30s\n",
      "Wall time: 2h 41min 17s\n"
     ]
    },
    {
     "data": {
      "text/plain": [
       "{'clf': LGBMClassifier(learning_rate=0.3, max_depth=25),\n",
       " 'clf__boosting_type': 'gbdt',\n",
       " 'clf__learning_rate': 0.3,\n",
       " 'clf__max_depth': 25}"
      ]
     },
     "execution_count": 18,
     "metadata": {},
     "output_type": "execute_result"
    }
   ],
   "source": [
    "%%time\n",
    "pipeline = Pipeline(\n",
    "    [\n",
    "        (\"vect\", TfidfVectorizer(stop_words=stop_words,analyzer='word')),\n",
    "        (\"clf\", LogisticRegression())\n",
    "        \n",
    "    ]\n",
    ")\n",
    "    \n",
    "parameters = [{\n",
    "              'clf':[LogisticRegression(random_state = 12345)],\n",
    "              'clf__solver': ['lbfgs'],\n",
    "              'clf__C': [5, 10],\n",
    "              'clf__max_iter': [100,300],\n",
    "              'clf__class_weight': ['balanced'],\n",
    "             },\n",
    "             {\n",
    "              'clf':[RandomForestClassifier(random_state = 12345)],\n",
    "              'clf__max_depth': [15,20],\n",
    "              'clf__n_estimators': [150,200],\n",
    "              'clf__class_weight': ['balanced'],\n",
    "             },  \n",
    "             {\n",
    "              'clf':[LGBMClassifier()], \n",
    "              'clf__max_depth': [15, 25],\n",
    "              'clf__learning_rate': [0.1, 0.3],\n",
    "              'clf__boosting_type':['gbdt'],\n",
    "             }]\n",
    "\n",
    "grid = GridSearchCV(pipeline, parameters, scoring='f1', cv=2, n_jobs=-1, verbose = 3)\n",
    "grid.fit(features_train, target_train)\n",
    "grid.best_params_\n"
   ]
  },
  {
   "cell_type": "code",
   "execution_count": 19,
   "metadata": {},
   "outputs": [
    {
     "name": "stdout",
     "output_type": "stream",
     "text": [
      "метрика f1--> 0.757269325410213\n"
     ]
    }
   ],
   "source": [
    "print('метрика f1-->', grid.best_score_)"
   ]
  },
  {
   "cell_type": "markdown",
   "metadata": {},
   "source": [
    "Конвейерная векторизация входных данных и обучение 3х моделей показало, что наиболее качественное предсказание у модели градиентного бустинга LGBMClassifier со значением метрики F1=0.76. Эту модель будем использовать для предсказания на тестовой выборке."
   ]
  },
  {
   "cell_type": "code",
   "execution_count": 20,
   "metadata": {},
   "outputs": [],
   "source": [
    "features_test=features_test.text"
   ]
  },
  {
   "cell_type": "code",
   "execution_count": 21,
   "metadata": {
    "scrolled": true
   },
   "outputs": [
    {
     "name": "stdout",
     "output_type": "stream",
     "text": [
      "метрика f1--> 0.7749653259361997\n"
     ]
    }
   ],
   "source": [
    "target_predict= grid.predict(features_test)\n",
    "f1=f1_score(target_test,target_predict)\n",
    "print('метрика f1-->', f1)"
   ]
  },
  {
   "cell_type": "markdown",
   "metadata": {},
   "source": [
    "Как видно, выбранная модель сохранила качество предсказания и показывает значение метрики F1 выше чем на тренировочной выборке и чем поставлено в задании."
   ]
  },
  {
   "cell_type": "markdown",
   "metadata": {},
   "source": [
    "Обучение логической регрессии на эмбеддирнгах BERT. Для проверки кода исходный датасет надо загрузить в Colab в папку content."
   ]
  },
  {
   "cell_type": "markdown",
   "metadata": {},
   "source": [
    "https://colab.research.google.com/drive/1zxZcYCevujC5j0AQYn1XTObL_jAGhY98?usp=sharing\n",
    "\n",
    "Вывод: F1=0.80 > 0.75, что означает, что обученная логистическая регрессия на эмбеддингах, как модель классификации отзывов на позитивные и негативные, идеально подходит для качественных предсказаний."
   ]
  },
  {
   "cell_type": "markdown",
   "metadata": {},
   "source": [
    "## Выводы"
   ]
  },
  {
   "cell_type": "code",
   "execution_count": 23,
   "metadata": {},
   "outputs": [
    {
     "data": {
      "image/png": "[encoded data removed]",
      "text/plain": [
       "<Figure size 720x432 with 1 Axes>"
      ]
     },
     "metadata": {},
     "output_type": "display_data"
    }
   ],
   "source": [
    "sns.set_style('darkgrid')\n",
    "plt.figure(figsize=(10,6))\n",
    "target_test.plot(kind='kde', linewidth=2)\n",
    "pd.Series(target_predict).plot(kind='kde',linewidth=2)\n",
    "plt.title('График предсказанных и фактических значений', y=1.01)\n",
    "plt.legend(['Факт','Предсказанние'])\n",
    "plt.text(0.75,6,'F1= {:.2f}'.format(f1))\n",
    "plt.xlabel('')\n",
    "plt.ylabel('Плотность')\n",
    "plt.show()"
   ]
  },
  {
   "cell_type": "markdown",
   "metadata": {},
   "source": [
    "Перед нами стояла задача обучить модели классифицировать комментарии на позитивные и негативные, на базе данных с отзывами на товары в интернет_магазине с разметкой о токсичности этих отзывов. Была поставлена задача достичь метрики качества предсказания модели F1 не более 0,75.\n",
    "\n",
    "В исходный датасет был изучен, данные предобработаны, удалены лишние символы, токенизирован и лемматизирован.\n",
    "На подготовленных данных были через Pipeline были обучены и протестированы несколько моделей LogisticRegressorClasifier,RandomForestClassifier,LightGBM c подбором разных гиперпараметров. CatBoostRegressorClassifier на обучении, к сожалению, постоянно останавливался из-за технических проблем.   \n",
    "\n",
    "В результате конвейерной векторизации и обучения модель LightGBMClassifier на тренировочной выборке достигла лучше чем заданное значения метрики. Для предсказания на тестовой выюорке быда отобрана модель LightGBMClasifier тк на обучении она показала наилучший результат.Значение метрики F1 на тесте **LightGBMClasifier = 0.775**, что укладывается в заданные параметры.\n",
    "\n",
    "Дополнительно было проведено обучение логической регрессии на эмбеддирнгах BERT в google colab.После проверки модели на тестовой выборке получили F1=0.80 > 0.75, что означает, что обученная логистическая регрессия на эмбеддингах по условиям задачи отлично подходит для качественного предсказания как модель классификации отзывов на позитивные и негативные.\n"
   ]
  }
 ],
 "metadata": {
  "ExecuteTimeLog": [
   {
    "duration": 480,
    "start_time": "2023-07-15T16:46:10.482Z"
   },
   {
    "duration": 9,
    "start_time": "2023-07-15T16:46:23.936Z"
   },
   {
    "duration": 62,
    "start_time": "2023-07-15T16:46:33.442Z"
   },
   {
    "duration": 13,
    "start_time": "2023-07-15T16:46:58.801Z"
   },
   {
    "duration": 66,
    "start_time": "2023-07-15T16:47:04.318Z"
   },
   {
    "duration": 77,
    "start_time": "2023-07-15T16:47:35.435Z"
   },
   {
    "duration": 14,
    "start_time": "2023-07-15T16:47:43.334Z"
   },
   {
    "duration": 66,
    "start_time": "2023-07-15T16:47:48.995Z"
   },
   {
    "duration": 81,
    "start_time": "2023-07-15T16:48:01.797Z"
   },
   {
    "duration": 69,
    "start_time": "2023-07-15T16:48:26.045Z"
   },
   {
    "duration": 67,
    "start_time": "2023-07-15T16:48:33.407Z"
   },
   {
    "duration": 3538,
    "start_time": "2023-07-15T16:49:34.695Z"
   },
   {
    "duration": 51,
    "start_time": "2023-07-18T09:56:46.473Z"
   },
   {
    "duration": 2853,
    "start_time": "2023-07-18T09:56:50.039Z"
   },
   {
    "duration": 38,
    "start_time": "2023-07-18T09:56:54.513Z"
   },
   {
    "duration": 1326,
    "start_time": "2023-07-18T10:07:15.870Z"
   },
   {
    "duration": 5,
    "start_time": "2023-07-18T10:08:39.449Z"
   },
   {
    "duration": 3,
    "start_time": "2023-07-18T10:08:41.909Z"
   },
   {
    "duration": 3,
    "start_time": "2023-07-18T11:33:34.661Z"
   },
   {
    "duration": 105,
    "start_time": "2023-07-18T11:33:36.353Z"
   },
   {
    "duration": 21,
    "start_time": "2023-07-18T11:34:00.407Z"
   },
   {
    "duration": 284,
    "start_time": "2023-07-18T11:34:35.753Z"
   },
   {
    "duration": 3,
    "start_time": "2023-07-18T11:34:37.637Z"
   },
   {
    "duration": 143030,
    "start_time": "2023-07-18T11:34:39.164Z"
   },
   {
    "duration": 25,
    "start_time": "2023-07-18T11:37:21.553Z"
   },
   {
    "duration": 9,
    "start_time": "2023-07-18T11:38:54.665Z"
   },
   {
    "duration": 24,
    "start_time": "2023-07-18T11:39:37.174Z"
   },
   {
    "duration": 141607,
    "start_time": "2023-07-18T11:41:22.475Z"
   },
   {
    "duration": 939,
    "start_time": "2023-07-18T11:44:15.404Z"
   },
   {
    "duration": 809,
    "start_time": "2023-07-18T11:45:18.136Z"
   },
   {
    "duration": 5,
    "start_time": "2023-07-18T12:17:27.346Z"
   },
   {
    "duration": 54,
    "start_time": "2023-07-18T12:17:36.136Z"
   },
   {
    "duration": 3045,
    "start_time": "2023-07-18T12:17:48.350Z"
   },
   {
    "duration": 1305,
    "start_time": "2023-07-18T12:17:53.989Z"
   },
   {
    "duration": 2085,
    "start_time": "2023-07-18T12:17:56.747Z"
   },
   {
    "duration": 3,
    "start_time": "2023-07-18T12:18:16.882Z"
   },
   {
    "duration": 4,
    "start_time": "2023-07-18T12:18:18.691Z"
   },
   {
    "duration": 3,
    "start_time": "2023-07-18T12:18:20.240Z"
   },
   {
    "duration": 1453,
    "start_time": "2023-07-18T14:39:48.690Z"
   },
   {
    "duration": 967,
    "start_time": "2023-07-18T14:39:50.145Z"
   },
   {
    "duration": 38,
    "start_time": "2023-07-18T14:39:51.114Z"
   },
   {
    "duration": 47,
    "start_time": "2023-07-18T14:39:51.154Z"
   },
   {
    "duration": 44,
    "start_time": "2023-07-18T14:39:51.203Z"
   },
   {
    "duration": 66,
    "start_time": "2023-07-18T14:39:51.249Z"
   },
   {
    "duration": 38,
    "start_time": "2023-07-18T14:39:51.318Z"
   },
   {
    "duration": 37,
    "start_time": "2023-07-18T14:39:51.359Z"
   },
   {
    "duration": 9181,
    "start_time": "2023-07-18T14:39:51.398Z"
   },
   {
    "duration": 12,
    "start_time": "2023-07-18T14:40:00.582Z"
   },
   {
    "duration": 1456,
    "start_time": "2023-07-18T14:47:10.071Z"
   },
   {
    "duration": 974,
    "start_time": "2023-07-18T14:47:11.530Z"
   },
   {
    "duration": 38,
    "start_time": "2023-07-18T14:47:12.506Z"
   },
   {
    "duration": 5,
    "start_time": "2023-07-18T14:47:12.546Z"
   },
   {
    "duration": 22,
    "start_time": "2023-07-18T14:47:12.554Z"
   },
   {
    "duration": 10,
    "start_time": "2023-07-18T14:47:12.578Z"
   },
   {
    "duration": 10,
    "start_time": "2023-07-18T14:47:12.590Z"
   },
   {
    "duration": 26,
    "start_time": "2023-07-18T14:47:12.602Z"
   },
   {
    "duration": 30,
    "start_time": "2023-07-18T14:47:12.630Z"
   },
   {
    "duration": 7065,
    "start_time": "2023-07-18T14:47:12.661Z"
   },
   {
    "duration": 11,
    "start_time": "2023-07-18T14:47:30.135Z"
   },
   {
    "duration": 1315,
    "start_time": "2023-07-18T14:48:27.665Z"
   },
   {
    "duration": 949,
    "start_time": "2023-07-18T14:48:28.982Z"
   },
   {
    "duration": 38,
    "start_time": "2023-07-18T14:48:29.933Z"
   },
   {
    "duration": 45,
    "start_time": "2023-07-18T14:48:29.973Z"
   },
   {
    "duration": 2008,
    "start_time": "2023-07-18T14:48:30.021Z"
   },
   {
    "duration": 59,
    "start_time": "2023-07-18T14:48:32.031Z"
   },
   {
    "duration": 35,
    "start_time": "2023-07-18T14:48:32.092Z"
   },
   {
    "duration": 15,
    "start_time": "2023-07-18T14:48:32.129Z"
   },
   {
    "duration": 15,
    "start_time": "2023-07-18T14:48:32.147Z"
   },
   {
    "duration": 7154,
    "start_time": "2023-07-18T14:48:32.164Z"
   },
   {
    "duration": 12,
    "start_time": "2023-07-18T14:48:39.320Z"
   },
   {
    "duration": 8,
    "start_time": "2023-07-18T14:50:53.628Z"
   },
   {
    "duration": 344,
    "start_time": "2023-07-18T14:50:55.383Z"
   },
   {
    "duration": 10,
    "start_time": "2023-07-18T14:50:57.944Z"
   },
   {
    "duration": 1664,
    "start_time": "2023-07-18T14:57:13.903Z"
   },
   {
    "duration": 995,
    "start_time": "2023-07-18T14:57:15.569Z"
   },
   {
    "duration": 47,
    "start_time": "2023-07-18T14:57:16.565Z"
   },
   {
    "duration": 3,
    "start_time": "2023-07-18T14:57:16.615Z"
   },
   {
    "duration": 130,
    "start_time": "2023-07-18T14:57:16.620Z"
   },
   {
    "duration": 0,
    "start_time": "2023-07-18T14:57:16.751Z"
   },
   {
    "duration": 0,
    "start_time": "2023-07-18T14:57:16.753Z"
   },
   {
    "duration": 0,
    "start_time": "2023-07-18T14:57:16.754Z"
   },
   {
    "duration": 0,
    "start_time": "2023-07-18T14:57:16.755Z"
   },
   {
    "duration": 0,
    "start_time": "2023-07-18T14:57:16.756Z"
   },
   {
    "duration": 0,
    "start_time": "2023-07-18T14:57:16.758Z"
   },
   {
    "duration": 0,
    "start_time": "2023-07-18T14:57:16.759Z"
   },
   {
    "duration": 38,
    "start_time": "2023-07-18T14:57:27.532Z"
   },
   {
    "duration": 3,
    "start_time": "2023-07-18T14:57:29.453Z"
   },
   {
    "duration": 3,
    "start_time": "2023-07-18T14:57:32.385Z"
   },
   {
    "duration": 3,
    "start_time": "2023-07-18T14:57:33.614Z"
   },
   {
    "duration": 19,
    "start_time": "2023-07-18T14:57:37.937Z"
   },
   {
    "duration": 7364,
    "start_time": "2023-07-18T14:57:39.173Z"
   },
   {
    "duration": 10,
    "start_time": "2023-07-18T14:57:46.539Z"
   },
   {
    "duration": 1675,
    "start_time": "2023-07-18T15:01:56.710Z"
   },
   {
    "duration": 981,
    "start_time": "2023-07-18T15:01:58.387Z"
   },
   {
    "duration": 48,
    "start_time": "2023-07-18T15:01:59.370Z"
   },
   {
    "duration": 3,
    "start_time": "2023-07-18T15:01:59.422Z"
   },
   {
    "duration": 56,
    "start_time": "2023-07-18T15:01:59.428Z"
   },
   {
    "duration": 3,
    "start_time": "2023-07-18T15:01:59.487Z"
   },
   {
    "duration": 4,
    "start_time": "2023-07-18T15:01:59.508Z"
   },
   {
    "duration": 16,
    "start_time": "2023-07-18T15:01:59.513Z"
   },
   {
    "duration": 6,
    "start_time": "2023-07-18T15:01:59.531Z"
   },
   {
    "duration": 22,
    "start_time": "2023-07-18T15:01:59.539Z"
   },
   {
    "duration": 7094,
    "start_time": "2023-07-18T15:01:59.563Z"
   },
   {
    "duration": 10,
    "start_time": "2023-07-18T15:02:06.659Z"
   },
   {
    "duration": 4,
    "start_time": "2023-07-18T15:22:01.479Z"
   },
   {
    "duration": 1560,
    "start_time": "2023-07-18T15:22:18.489Z"
   },
   {
    "duration": 974,
    "start_time": "2023-07-18T15:22:20.052Z"
   },
   {
    "duration": 39,
    "start_time": "2023-07-18T15:22:26.088Z"
   },
   {
    "duration": 40,
    "start_time": "2023-07-18T15:22:30.448Z"
   },
   {
    "duration": 6,
    "start_time": "2023-07-18T15:22:52.448Z"
   },
   {
    "duration": 4,
    "start_time": "2023-07-18T15:23:38.328Z"
   },
   {
    "duration": 7134,
    "start_time": "2023-07-18T15:23:45.769Z"
   },
   {
    "duration": 12,
    "start_time": "2023-07-18T15:23:55.637Z"
   },
   {
    "duration": 4,
    "start_time": "2023-07-18T15:25:53.735Z"
   },
   {
    "duration": 1451,
    "start_time": "2023-07-18T15:26:07.442Z"
   },
   {
    "duration": 1030,
    "start_time": "2023-07-18T15:26:10.042Z"
   },
   {
    "duration": 37,
    "start_time": "2023-07-18T15:26:14.732Z"
   },
   {
    "duration": 36,
    "start_time": "2023-07-18T15:26:17.562Z"
   },
   {
    "duration": 7,
    "start_time": "2023-07-18T15:26:19.483Z"
   },
   {
    "duration": 3,
    "start_time": "2023-07-18T15:26:25.293Z"
   },
   {
    "duration": 15,
    "start_time": "2023-07-18T15:26:29.696Z"
   },
   {
    "duration": 1708,
    "start_time": "2023-07-18T15:26:31.482Z"
   },
   {
    "duration": 10,
    "start_time": "2023-07-18T15:26:34.682Z"
   },
   {
    "duration": 6,
    "start_time": "2023-07-18T15:36:34.122Z"
   },
   {
    "duration": 130,
    "start_time": "2023-07-18T15:37:21.392Z"
   },
   {
    "duration": 1794,
    "start_time": "2023-07-18T15:37:25.692Z"
   },
   {
    "duration": 6,
    "start_time": "2023-07-18T15:37:28.912Z"
   },
   {
    "duration": 1437,
    "start_time": "2023-07-18T15:40:20.384Z"
   },
   {
    "duration": 1015,
    "start_time": "2023-07-18T15:40:21.823Z"
   },
   {
    "duration": 38,
    "start_time": "2023-07-18T15:40:22.840Z"
   },
   {
    "duration": 30,
    "start_time": "2023-07-18T15:40:22.880Z"
   },
   {
    "duration": 74,
    "start_time": "2023-07-18T15:40:22.913Z"
   },
   {
    "duration": 6,
    "start_time": "2023-07-18T15:40:22.989Z"
   },
   {
    "duration": 22,
    "start_time": "2023-07-18T15:40:22.997Z"
   },
   {
    "duration": 25,
    "start_time": "2023-07-18T15:40:23.022Z"
   },
   {
    "duration": 39,
    "start_time": "2023-07-18T15:40:23.049Z"
   },
   {
    "duration": 4535,
    "start_time": "2023-07-18T15:40:23.089Z"
   },
   {
    "duration": 14,
    "start_time": "2023-07-18T15:40:27.627Z"
   },
   {
    "duration": 35,
    "start_time": "2023-07-18T15:40:27.642Z"
   },
   {
    "duration": 95,
    "start_time": "2023-07-18T15:40:27.678Z"
   },
   {
    "duration": 1683,
    "start_time": "2023-07-18T15:41:13.527Z"
   },
   {
    "duration": 960,
    "start_time": "2023-07-18T15:41:15.213Z"
   },
   {
    "duration": 44,
    "start_time": "2023-07-18T15:41:16.176Z"
   },
   {
    "duration": 8,
    "start_time": "2023-07-18T15:41:16.223Z"
   },
   {
    "duration": 7,
    "start_time": "2023-07-18T15:41:16.233Z"
   },
   {
    "duration": 20,
    "start_time": "2023-07-18T15:41:16.241Z"
   },
   {
    "duration": 89,
    "start_time": "2023-07-18T15:41:16.263Z"
   },
   {
    "duration": 29,
    "start_time": "2023-07-18T15:41:16.354Z"
   },
   {
    "duration": 18,
    "start_time": "2023-07-18T15:41:16.385Z"
   },
   {
    "duration": 4682,
    "start_time": "2023-07-18T15:41:16.405Z"
   },
   {
    "duration": 13,
    "start_time": "2023-07-18T15:41:21.089Z"
   },
   {
    "duration": 77,
    "start_time": "2023-07-18T15:41:21.109Z"
   },
   {
    "duration": 56,
    "start_time": "2023-07-18T15:41:21.188Z"
   },
   {
    "duration": 4,
    "start_time": "2023-07-18T16:05:07.019Z"
   },
   {
    "duration": 5909,
    "start_time": "2023-07-18T16:05:10.987Z"
   },
   {
    "duration": 6,
    "start_time": "2023-07-18T16:05:19.549Z"
   },
   {
    "duration": 4,
    "start_time": "2023-07-18T16:09:28.777Z"
   },
   {
    "duration": 1234,
    "start_time": "2023-07-19T06:53:53.258Z"
   },
   {
    "duration": 2419,
    "start_time": "2023-07-19T06:53:54.494Z"
   },
   {
    "duration": 32,
    "start_time": "2023-07-19T06:53:56.914Z"
   },
   {
    "duration": 7,
    "start_time": "2023-07-19T06:53:56.947Z"
   },
   {
    "duration": 14,
    "start_time": "2023-07-19T06:53:56.956Z"
   },
   {
    "duration": 12,
    "start_time": "2023-07-19T06:53:56.971Z"
   },
   {
    "duration": 13,
    "start_time": "2023-07-19T06:53:56.984Z"
   },
   {
    "duration": 9,
    "start_time": "2023-07-19T06:53:56.999Z"
   },
   {
    "duration": 7,
    "start_time": "2023-07-19T06:53:57.010Z"
   },
   {
    "duration": 115,
    "start_time": "2023-07-19T06:53:57.018Z"
   },
   {
    "duration": 0,
    "start_time": "2023-07-19T06:53:57.135Z"
   },
   {
    "duration": 0,
    "start_time": "2023-07-19T06:53:57.136Z"
   },
   {
    "duration": 0,
    "start_time": "2023-07-19T06:53:57.137Z"
   },
   {
    "duration": 0,
    "start_time": "2023-07-19T06:53:57.138Z"
   },
   {
    "duration": 1281,
    "start_time": "2023-07-19T06:56:45.301Z"
   },
   {
    "duration": 843,
    "start_time": "2023-07-19T06:56:46.584Z"
   },
   {
    "duration": 26,
    "start_time": "2023-07-19T06:56:47.429Z"
   },
   {
    "duration": 14,
    "start_time": "2023-07-19T06:56:47.456Z"
   },
   {
    "duration": 41,
    "start_time": "2023-07-19T06:56:47.472Z"
   },
   {
    "duration": 18,
    "start_time": "2023-07-19T06:56:47.515Z"
   },
   {
    "duration": 76,
    "start_time": "2023-07-19T06:56:47.535Z"
   },
   {
    "duration": 21,
    "start_time": "2023-07-19T06:56:47.613Z"
   },
   {
    "duration": 71,
    "start_time": "2023-07-19T06:56:47.636Z"
   },
   {
    "duration": 83072,
    "start_time": "2023-07-19T06:56:47.708Z"
   },
   {
    "duration": 0,
    "start_time": "2023-07-19T06:58:10.782Z"
   },
   {
    "duration": 0,
    "start_time": "2023-07-19T06:58:10.783Z"
   },
   {
    "duration": 0,
    "start_time": "2023-07-19T06:58:10.785Z"
   },
   {
    "duration": 0,
    "start_time": "2023-07-19T06:58:10.786Z"
   },
   {
    "duration": 12,
    "start_time": "2023-07-19T07:01:34.819Z"
   },
   {
    "duration": 85516,
    "start_time": "2023-07-19T07:04:02.908Z"
   },
   {
    "duration": 1554,
    "start_time": "2023-07-19T07:06:41.051Z"
   },
   {
    "duration": 847,
    "start_time": "2023-07-19T07:06:42.607Z"
   },
   {
    "duration": 28,
    "start_time": "2023-07-19T07:06:43.455Z"
   },
   {
    "duration": 2,
    "start_time": "2023-07-19T07:06:43.485Z"
   },
   {
    "duration": 43,
    "start_time": "2023-07-19T07:06:43.489Z"
   },
   {
    "duration": 8,
    "start_time": "2023-07-19T07:06:43.534Z"
   },
   {
    "duration": 6,
    "start_time": "2023-07-19T07:06:43.543Z"
   },
   {
    "duration": 21,
    "start_time": "2023-07-19T07:06:43.550Z"
   },
   {
    "duration": 23,
    "start_time": "2023-07-19T07:06:43.572Z"
   },
   {
    "duration": 84047,
    "start_time": "2023-07-19T07:06:43.596Z"
   },
   {
    "duration": 0,
    "start_time": "2023-07-19T07:08:07.645Z"
   },
   {
    "duration": 0,
    "start_time": "2023-07-19T07:08:07.646Z"
   },
   {
    "duration": 0,
    "start_time": "2023-07-19T07:08:07.647Z"
   },
   {
    "duration": 0,
    "start_time": "2023-07-19T07:08:07.648Z"
   },
   {
    "duration": 1533,
    "start_time": "2023-07-19T07:32:16.231Z"
   },
   {
    "duration": 907,
    "start_time": "2023-07-19T07:32:22.346Z"
   },
   {
    "duration": 30,
    "start_time": "2023-07-19T07:32:24.392Z"
   },
   {
    "duration": 28,
    "start_time": "2023-07-19T07:32:30.488Z"
   },
   {
    "duration": 10,
    "start_time": "2023-07-19T07:32:32.726Z"
   },
   {
    "duration": 96,
    "start_time": "2023-07-19T07:32:35.551Z"
   },
   {
    "duration": 249,
    "start_time": "2023-07-19T07:35:04.498Z"
   },
   {
    "duration": 4,
    "start_time": "2023-07-19T07:35:26.519Z"
   },
   {
    "duration": 128,
    "start_time": "2023-07-19T07:35:28.943Z"
   },
   {
    "duration": 3,
    "start_time": "2023-07-19T07:36:08.674Z"
   },
   {
    "duration": 1154,
    "start_time": "2023-07-19T07:36:10.081Z"
   },
   {
    "duration": 4,
    "start_time": "2023-07-19T07:36:44.185Z"
   },
   {
    "duration": 3,
    "start_time": "2023-07-19T07:36:45.581Z"
   },
   {
    "duration": 4,
    "start_time": "2023-07-19T07:36:46.861Z"
   },
   {
    "duration": 4,
    "start_time": "2023-07-19T07:38:32.485Z"
   },
   {
    "duration": 2,
    "start_time": "2023-07-19T07:38:34.755Z"
   },
   {
    "duration": 5,
    "start_time": "2023-07-19T07:38:35.911Z"
   },
   {
    "duration": 4,
    "start_time": "2023-07-19T07:39:19.043Z"
   },
   {
    "duration": 24,
    "start_time": "2023-07-19T07:39:19.049Z"
   },
   {
    "duration": 4,
    "start_time": "2023-07-19T07:39:19.166Z"
   },
   {
    "duration": 3,
    "start_time": "2023-07-19T07:39:42.401Z"
   },
   {
    "duration": 3,
    "start_time": "2023-07-19T07:39:45.262Z"
   },
   {
    "duration": 4,
    "start_time": "2023-07-19T07:39:46.622Z"
   },
   {
    "duration": 3,
    "start_time": "2023-07-19T07:40:53.103Z"
   },
   {
    "duration": 16,
    "start_time": "2023-07-19T07:52:32.023Z"
   },
   {
    "duration": 5,
    "start_time": "2023-07-19T07:52:50.205Z"
   },
   {
    "duration": 71328,
    "start_time": "2023-07-19T07:57:29.061Z"
   },
   {
    "duration": 12,
    "start_time": "2023-07-19T07:58:58.151Z"
   },
   {
    "duration": 13,
    "start_time": "2023-07-19T07:58:59.991Z"
   },
   {
    "duration": 10,
    "start_time": "2023-07-19T10:02:24.129Z"
   },
   {
    "duration": 11,
    "start_time": "2023-07-19T10:02:34.897Z"
   },
   {
    "duration": 21,
    "start_time": "2023-07-19T10:03:52.732Z"
   },
   {
    "duration": 14,
    "start_time": "2023-07-19T10:03:54.976Z"
   },
   {
    "duration": 12,
    "start_time": "2023-07-19T10:03:56.551Z"
   },
   {
    "duration": 8,
    "start_time": "2023-07-19T10:04:10.398Z"
   },
   {
    "duration": 13,
    "start_time": "2023-07-19T10:06:10.081Z"
   },
   {
    "duration": 134,
    "start_time": "2023-07-19T10:06:38.375Z"
   },
   {
    "duration": 6,
    "start_time": "2023-07-19T10:06:57.644Z"
   },
   {
    "duration": 13,
    "start_time": "2023-07-19T10:07:28.969Z"
   },
   {
    "duration": 14,
    "start_time": "2023-07-19T10:07:42.845Z"
   },
   {
    "duration": 6,
    "start_time": "2023-07-19T10:08:04.659Z"
   },
   {
    "duration": 11,
    "start_time": "2023-07-19T10:22:14.761Z"
   },
   {
    "duration": 3,
    "start_time": "2023-07-19T10:22:46.989Z"
   },
   {
    "duration": 55,
    "start_time": "2023-07-19T10:22:48.404Z"
   },
   {
    "duration": 55,
    "start_time": "2023-07-19T10:23:11.612Z"
   },
   {
    "duration": 5,
    "start_time": "2023-07-19T10:24:22.116Z"
   },
   {
    "duration": 5,
    "start_time": "2023-07-19T10:24:52.297Z"
   },
   {
    "duration": 14,
    "start_time": "2023-07-19T12:01:25.205Z"
   },
   {
    "duration": 7,
    "start_time": "2023-07-19T12:01:40.184Z"
   },
   {
    "duration": 7,
    "start_time": "2023-07-19T12:23:03.774Z"
   },
   {
    "duration": 7,
    "start_time": "2023-07-19T12:23:12.973Z"
   },
   {
    "duration": 6,
    "start_time": "2023-07-19T12:23:52.978Z"
   },
   {
    "duration": 10,
    "start_time": "2023-07-19T12:25:00.089Z"
   },
   {
    "duration": 6,
    "start_time": "2023-07-19T12:25:21.363Z"
   },
   {
    "duration": 6,
    "start_time": "2023-07-19T12:25:56.005Z"
   },
   {
    "duration": 11,
    "start_time": "2023-07-19T12:29:12.541Z"
   },
   {
    "duration": 12,
    "start_time": "2023-07-19T12:29:23.638Z"
   },
   {
    "duration": 14,
    "start_time": "2023-07-19T12:29:37.032Z"
   },
   {
    "duration": 12,
    "start_time": "2023-07-19T12:29:43.773Z"
   },
   {
    "duration": 11,
    "start_time": "2023-07-19T12:30:29.558Z"
   },
   {
    "duration": 7,
    "start_time": "2023-07-19T12:30:36.836Z"
   },
   {
    "duration": 55,
    "start_time": "2023-07-19T12:30:53.015Z"
   },
   {
    "duration": 8,
    "start_time": "2023-07-19T12:32:15.159Z"
   },
   {
    "duration": 67,
    "start_time": "2023-07-19T12:32:22.276Z"
   },
   {
    "duration": 9,
    "start_time": "2023-07-19T12:32:24.311Z"
   },
   {
    "duration": 5,
    "start_time": "2023-07-19T12:32:29.374Z"
   },
   {
    "duration": 1847,
    "start_time": "2023-07-19T14:22:00.051Z"
   },
   {
    "duration": 1040,
    "start_time": "2023-07-19T14:22:01.901Z"
   },
   {
    "duration": 33,
    "start_time": "2023-07-19T14:22:02.943Z"
   },
   {
    "duration": 77,
    "start_time": "2023-07-19T14:22:02.978Z"
   },
   {
    "duration": 23,
    "start_time": "2023-07-19T14:22:03.057Z"
   },
   {
    "duration": 31,
    "start_time": "2023-07-19T14:22:03.081Z"
   },
   {
    "duration": 116,
    "start_time": "2023-07-19T14:22:03.114Z"
   },
   {
    "duration": 37,
    "start_time": "2023-07-19T14:22:03.232Z"
   },
   {
    "duration": 1398,
    "start_time": "2023-07-19T14:22:03.271Z"
   },
   {
    "duration": 80247,
    "start_time": "2023-07-19T14:22:04.673Z"
   },
   {
    "duration": 19,
    "start_time": "2023-07-19T14:23:24.922Z"
   },
   {
    "duration": 46,
    "start_time": "2023-07-19T14:23:24.943Z"
   },
   {
    "duration": 19,
    "start_time": "2023-07-19T14:23:24.991Z"
   },
   {
    "duration": 16,
    "start_time": "2023-07-19T14:23:25.012Z"
   },
   {
    "duration": 7,
    "start_time": "2023-07-19T14:23:25.029Z"
   },
   {
    "duration": 160,
    "start_time": "2023-07-19T14:23:25.037Z"
   },
   {
    "duration": 0,
    "start_time": "2023-07-19T14:23:25.199Z"
   },
   {
    "duration": 0,
    "start_time": "2023-07-19T14:23:25.202Z"
   },
   {
    "duration": 0,
    "start_time": "2023-07-19T14:23:25.203Z"
   },
   {
    "duration": 0,
    "start_time": "2023-07-19T14:23:25.204Z"
   },
   {
    "duration": 0,
    "start_time": "2023-07-19T14:23:25.208Z"
   },
   {
    "duration": 102,
    "start_time": "2023-07-19T14:24:23.530Z"
   },
   {
    "duration": 6,
    "start_time": "2023-07-19T14:24:28.555Z"
   },
   {
    "duration": 7,
    "start_time": "2023-07-19T14:24:30.194Z"
   },
   {
    "duration": 6,
    "start_time": "2023-07-19T14:24:32.487Z"
   },
   {
    "duration": 9,
    "start_time": "2023-07-19T14:24:34.486Z"
   },
   {
    "duration": 19,
    "start_time": "2023-07-19T14:24:36.821Z"
   },
   {
    "duration": 24,
    "start_time": "2023-07-19T14:25:17.947Z"
   },
   {
    "duration": 7,
    "start_time": "2023-07-19T14:26:38.394Z"
   },
   {
    "duration": 1702,
    "start_time": "2023-07-19T14:44:39.666Z"
   },
   {
    "duration": 943,
    "start_time": "2023-07-19T14:44:41.370Z"
   },
   {
    "duration": 36,
    "start_time": "2023-07-19T14:44:42.315Z"
   },
   {
    "duration": 38,
    "start_time": "2023-07-19T14:44:42.353Z"
   },
   {
    "duration": 6,
    "start_time": "2023-07-19T14:44:42.393Z"
   },
   {
    "duration": 9,
    "start_time": "2023-07-19T14:44:42.400Z"
   },
   {
    "duration": 22,
    "start_time": "2023-07-19T14:44:42.410Z"
   },
   {
    "duration": 10,
    "start_time": "2023-07-19T14:44:42.433Z"
   },
   {
    "duration": 1217,
    "start_time": "2023-07-19T14:44:42.444Z"
   },
   {
    "duration": 75074,
    "start_time": "2023-07-19T14:44:43.662Z"
   },
   {
    "duration": 9,
    "start_time": "2023-07-19T14:45:58.737Z"
   },
   {
    "duration": 69,
    "start_time": "2023-07-19T14:45:58.748Z"
   },
   {
    "duration": 39,
    "start_time": "2023-07-19T14:45:58.818Z"
   },
   {
    "duration": 42,
    "start_time": "2023-07-19T14:45:58.860Z"
   },
   {
    "duration": 16,
    "start_time": "2023-07-19T14:45:58.903Z"
   },
   {
    "duration": 86,
    "start_time": "2023-07-19T14:45:58.921Z"
   },
   {
    "duration": 5,
    "start_time": "2023-07-19T14:45:59.009Z"
   },
   {
    "duration": 24,
    "start_time": "2023-07-19T14:45:59.016Z"
   },
   {
    "duration": 22,
    "start_time": "2023-07-19T14:45:59.042Z"
   },
   {
    "duration": 34,
    "start_time": "2023-07-19T14:45:59.066Z"
   },
   {
    "duration": 255,
    "start_time": "2023-07-19T14:45:59.102Z"
   },
   {
    "duration": 0,
    "start_time": "2023-07-19T14:45:59.358Z"
   },
   {
    "duration": 52,
    "start_time": "2023-07-19T14:46:56.079Z"
   },
   {
    "duration": 5,
    "start_time": "2023-07-19T14:47:05.186Z"
   },
   {
    "duration": 102,
    "start_time": "2023-07-19T14:47:31.918Z"
   },
   {
    "duration": 10,
    "start_time": "2023-07-19T14:48:08.045Z"
   },
   {
    "duration": 4,
    "start_time": "2023-07-19T14:48:13.409Z"
   },
   {
    "duration": 8,
    "start_time": "2023-07-19T15:10:19.852Z"
   },
   {
    "duration": 3,
    "start_time": "2023-07-19T15:10:50.316Z"
   },
   {
    "duration": 754,
    "start_time": "2023-07-19T15:14:16.296Z"
   },
   {
    "duration": 654,
    "start_time": "2023-07-19T15:14:43.739Z"
   },
   {
    "duration": 9,
    "start_time": "2023-07-19T15:16:25.376Z"
   },
   {
    "duration": 4,
    "start_time": "2023-07-19T15:16:33.691Z"
   },
   {
    "duration": 1093,
    "start_time": "2023-07-19T15:18:15.347Z"
   },
   {
    "duration": 1178,
    "start_time": "2023-07-19T15:18:31.835Z"
   },
   {
    "duration": 534,
    "start_time": "2023-07-19T15:25:32.908Z"
   },
   {
    "duration": 3,
    "start_time": "2023-07-19T15:28:04.461Z"
   },
   {
    "duration": 109,
    "start_time": "2023-07-19T15:28:07.195Z"
   },
   {
    "duration": 8943,
    "start_time": "2023-07-19T15:30:23.513Z"
   },
   {
    "duration": 53,
    "start_time": "2023-07-19T15:43:12.499Z"
   },
   {
    "duration": 150,
    "start_time": "2023-07-19T15:43:33.975Z"
   },
   {
    "duration": 406542,
    "start_time": "2023-07-19T15:44:16.291Z"
   },
   {
    "duration": 9,
    "start_time": "2023-07-19T15:53:15.477Z"
   },
   {
    "duration": 41,
    "start_time": "2023-07-19T15:53:37.313Z"
   },
   {
    "duration": 4,
    "start_time": "2023-07-19T15:55:12.677Z"
   },
   {
    "duration": 214298,
    "start_time": "2023-07-19T15:58:48.646Z"
   },
   {
    "duration": 27,
    "start_time": "2023-07-19T16:02:52.477Z"
   },
   {
    "duration": 4,
    "start_time": "2023-07-19T16:03:28.112Z"
   },
   {
    "duration": 2546,
    "start_time": "2023-07-21T12:05:06.550Z"
   },
   {
    "duration": 3861,
    "start_time": "2023-07-21T12:05:09.098Z"
   },
   {
    "duration": 38,
    "start_time": "2023-07-21T12:05:12.961Z"
   },
   {
    "duration": 47,
    "start_time": "2023-07-21T12:05:13.001Z"
   },
   {
    "duration": 23,
    "start_time": "2023-07-21T12:05:13.050Z"
   },
   {
    "duration": 23,
    "start_time": "2023-07-21T12:05:13.074Z"
   },
   {
    "duration": 8,
    "start_time": "2023-07-21T12:05:13.099Z"
   },
   {
    "duration": 8,
    "start_time": "2023-07-21T12:05:13.109Z"
   },
   {
    "duration": 1486,
    "start_time": "2023-07-21T12:05:13.119Z"
   },
   {
    "duration": 75334,
    "start_time": "2023-07-21T12:05:14.608Z"
   },
   {
    "duration": 23,
    "start_time": "2023-07-21T12:06:29.944Z"
   },
   {
    "duration": 20,
    "start_time": "2023-07-21T12:06:29.969Z"
   },
   {
    "duration": 47,
    "start_time": "2023-07-21T12:06:29.991Z"
   },
   {
    "duration": 33,
    "start_time": "2023-07-21T12:06:30.040Z"
   },
   {
    "duration": 40,
    "start_time": "2023-07-21T12:06:30.075Z"
   },
   {
    "duration": 95,
    "start_time": "2023-07-21T12:06:30.117Z"
   },
   {
    "duration": 7,
    "start_time": "2023-07-21T12:06:30.215Z"
   },
   {
    "duration": 32,
    "start_time": "2023-07-21T12:06:30.225Z"
   },
   {
    "duration": 61,
    "start_time": "2023-07-21T12:06:30.259Z"
   },
   {
    "duration": 37,
    "start_time": "2023-07-21T12:06:30.322Z"
   },
   {
    "duration": 83,
    "start_time": "2023-07-21T12:06:30.361Z"
   },
   {
    "duration": 7,
    "start_time": "2023-07-21T12:06:30.447Z"
   },
   {
    "duration": 34,
    "start_time": "2023-07-21T12:06:30.456Z"
   },
   {
    "duration": 26,
    "start_time": "2023-07-21T12:06:30.492Z"
   },
   {
    "duration": 878,
    "start_time": "2023-07-21T12:06:30.520Z"
   },
   {
    "duration": 4,
    "start_time": "2023-07-21T12:06:31.401Z"
   },
   {
    "duration": 1506,
    "start_time": "2023-07-21T12:06:31.407Z"
   },
   {
    "duration": 144256,
    "start_time": "2023-07-21T12:06:32.917Z"
   },
   {
    "duration": 6,
    "start_time": "2023-07-21T12:08:57.175Z"
   },
   {
    "duration": 57768,
    "start_time": "2023-07-21T12:08:57.268Z"
   },
   {
    "duration": 4,
    "start_time": "2023-07-21T12:09:55.038Z"
   },
   {
    "duration": 1968,
    "start_time": "2023-07-22T01:25:27.177Z"
   },
   {
    "duration": 2239,
    "start_time": "2023-07-22T01:25:29.147Z"
   },
   {
    "duration": 36,
    "start_time": "2023-07-22T01:25:31.388Z"
   },
   {
    "duration": 119,
    "start_time": "2023-07-22T01:25:31.426Z"
   },
   {
    "duration": 22,
    "start_time": "2023-07-22T01:25:31.547Z"
   },
   {
    "duration": 72,
    "start_time": "2023-07-22T01:25:31.572Z"
   },
   {
    "duration": 59,
    "start_time": "2023-07-22T01:25:31.646Z"
   },
   {
    "duration": 43,
    "start_time": "2023-07-22T01:25:31.707Z"
   },
   {
    "duration": 1207,
    "start_time": "2023-07-22T01:25:31.752Z"
   },
   {
    "duration": 66037,
    "start_time": "2023-07-22T01:25:32.961Z"
   },
   {
    "duration": 10,
    "start_time": "2023-07-22T01:26:38.999Z"
   },
   {
    "duration": 32,
    "start_time": "2023-07-22T01:26:39.011Z"
   },
   {
    "duration": 31,
    "start_time": "2023-07-22T01:26:39.044Z"
   },
   {
    "duration": 32,
    "start_time": "2023-07-22T01:26:39.078Z"
   },
   {
    "duration": 67,
    "start_time": "2023-07-22T01:26:39.111Z"
   },
   {
    "duration": 6,
    "start_time": "2023-07-22T01:26:39.179Z"
   },
   {
    "duration": 32,
    "start_time": "2023-07-22T01:26:39.187Z"
   },
   {
    "duration": 44,
    "start_time": "2023-07-22T01:26:39.220Z"
   },
   {
    "duration": 19,
    "start_time": "2023-07-22T01:26:39.265Z"
   },
   {
    "duration": 67,
    "start_time": "2023-07-22T01:26:39.286Z"
   },
   {
    "duration": 5,
    "start_time": "2023-07-22T01:26:39.355Z"
   },
   {
    "duration": 44,
    "start_time": "2023-07-22T01:26:39.361Z"
   },
   {
    "duration": 27,
    "start_time": "2023-07-22T01:26:39.406Z"
   },
   {
    "duration": 700,
    "start_time": "2023-07-22T01:26:39.434Z"
   },
   {
    "duration": 4,
    "start_time": "2023-07-22T01:26:40.135Z"
   },
   {
    "duration": 1018,
    "start_time": "2023-07-22T01:26:40.140Z"
   },
   {
    "duration": 134767,
    "start_time": "2023-07-22T01:26:41.160Z"
   },
   {
    "duration": 89,
    "start_time": "2023-07-22T01:28:55.933Z"
   },
   {
    "duration": 48311,
    "start_time": "2023-07-22T01:28:56.024Z"
   },
   {
    "duration": 5,
    "start_time": "2023-07-22T01:29:44.337Z"
   },
   {
    "duration": 7253832,
    "start_time": "2023-07-22T01:29:44.344Z"
   },
   {
    "duration": 4,
    "start_time": "2023-07-22T03:30:38.178Z"
   },
   {
    "duration": 2691,
    "start_time": "2023-07-22T06:56:22.048Z"
   },
   {
    "duration": 2171,
    "start_time": "2023-07-22T06:57:01.624Z"
   },
   {
    "duration": 108,
    "start_time": "2023-07-22T06:57:26.288Z"
   },
   {
    "duration": 1534,
    "start_time": "2023-07-22T06:58:16.027Z"
   },
   {
    "duration": 3553,
    "start_time": "2023-07-22T06:58:30.841Z"
   },
   {
    "duration": 8,
    "start_time": "2023-07-22T06:58:44.165Z"
   },
   {
    "duration": 839,
    "start_time": "2023-07-22T07:00:51.996Z"
   },
   {
    "duration": 22,
    "start_time": "2023-07-22T07:01:10.606Z"
   },
   {
    "duration": 20,
    "start_time": "2023-07-22T07:01:22.160Z"
   },
   {
    "duration": 73,
    "start_time": "2023-07-22T07:03:40.794Z"
   },
   {
    "duration": 3,
    "start_time": "2023-07-22T07:04:13.563Z"
   },
   {
    "duration": 17,
    "start_time": "2023-07-22T07:04:14.930Z"
   },
   {
    "duration": 10,
    "start_time": "2023-07-22T07:04:50.350Z"
   },
   {
    "duration": 5,
    "start_time": "2023-07-22T07:05:12.272Z"
   },
   {
    "duration": 14152,
    "start_time": "2023-07-22T07:05:52.631Z"
   },
   {
    "duration": 456,
    "start_time": "2023-07-22T07:06:53.759Z"
   },
   {
    "duration": 174,
    "start_time": "2023-07-22T07:07:31.000Z"
   },
   {
    "duration": 22,
    "start_time": "2023-07-22T07:08:12.446Z"
   },
   {
    "duration": 12,
    "start_time": "2023-07-22T07:08:27.356Z"
   },
   {
    "duration": 4,
    "start_time": "2023-07-22T07:08:53.755Z"
   },
   {
    "duration": 4,
    "start_time": "2023-07-22T07:09:11.616Z"
   },
   {
    "duration": 45,
    "start_time": "2023-07-22T07:10:22.701Z"
   },
   {
    "duration": 7283,
    "start_time": "2023-07-22T07:11:41.382Z"
   },
   {
    "duration": 8,
    "start_time": "2023-07-22T07:12:00.476Z"
   },
   {
    "duration": 6,
    "start_time": "2023-07-22T07:12:48.945Z"
   },
   {
    "duration": 6,
    "start_time": "2023-07-22T07:16:58.834Z"
   },
   {
    "duration": 3078,
    "start_time": "2023-07-22T07:23:34.520Z"
   },
   {
    "duration": 3204,
    "start_time": "2023-07-22T07:23:44.308Z"
   },
   {
    "duration": 2108,
    "start_time": "2023-07-22T07:24:09.011Z"
   },
   {
    "duration": 2187,
    "start_time": "2023-07-22T07:24:12.473Z"
   },
   {
    "duration": 3,
    "start_time": "2023-07-22T07:24:21.288Z"
   },
   {
    "duration": 19,
    "start_time": "2023-07-22T07:24:23.049Z"
   },
   {
    "duration": 30,
    "start_time": "2023-07-22T07:24:24.804Z"
   },
   {
    "duration": 6,
    "start_time": "2023-07-22T07:24:26.247Z"
   },
   {
    "duration": 10817,
    "start_time": "2023-07-22T07:24:28.069Z"
   },
   {
    "duration": 391,
    "start_time": "2023-07-22T07:24:44.798Z"
   },
   {
    "duration": 14,
    "start_time": "2023-07-22T07:24:48.549Z"
   },
   {
    "duration": 4,
    "start_time": "2023-07-22T07:24:52.730Z"
   },
   {
    "duration": 4,
    "start_time": "2023-07-22T07:24:54.354Z"
   },
   {
    "duration": 49,
    "start_time": "2023-07-22T07:26:00.506Z"
   },
   {
    "duration": 3155,
    "start_time": "2023-07-22T07:26:21.265Z"
   },
   {
    "duration": 3076,
    "start_time": "2023-07-22T07:26:24.423Z"
   },
   {
    "duration": 2222,
    "start_time": "2023-07-22T07:26:48.387Z"
   },
   {
    "duration": 2448,
    "start_time": "2023-07-22T07:26:52.482Z"
   },
   {
    "duration": 3,
    "start_time": "2023-07-22T07:26:57.154Z"
   },
   {
    "duration": 182,
    "start_time": "2023-07-22T07:26:58.526Z"
   },
   {
    "duration": 16,
    "start_time": "2023-07-22T07:27:07.267Z"
   },
   {
    "duration": 31,
    "start_time": "2023-07-22T07:27:09.169Z"
   },
   {
    "duration": 6,
    "start_time": "2023-07-22T07:27:10.299Z"
   },
   {
    "duration": 10800,
    "start_time": "2023-07-22T07:27:15.572Z"
   },
   {
    "duration": 284,
    "start_time": "2023-07-22T07:27:28.627Z"
   },
   {
    "duration": 11,
    "start_time": "2023-07-22T07:27:30.817Z"
   },
   {
    "duration": 5,
    "start_time": "2023-07-22T07:27:32.433Z"
   },
   {
    "duration": 5,
    "start_time": "2023-07-22T07:27:33.827Z"
   },
   {
    "duration": 45,
    "start_time": "2023-07-22T07:28:01.869Z"
   },
   {
    "duration": 3455,
    "start_time": "2023-07-22T07:29:00.181Z"
   },
   {
    "duration": 3110,
    "start_time": "2023-07-22T07:29:03.638Z"
   },
   {
    "duration": 2214,
    "start_time": "2023-07-22T07:29:17.516Z"
   },
   {
    "duration": 2104,
    "start_time": "2023-07-22T07:29:20.577Z"
   },
   {
    "duration": 3,
    "start_time": "2023-07-22T07:29:23.600Z"
   },
   {
    "duration": 170,
    "start_time": "2023-07-22T07:29:26.318Z"
   },
   {
    "duration": 15,
    "start_time": "2023-07-22T07:29:35.911Z"
   },
   {
    "duration": 31,
    "start_time": "2023-07-22T07:29:37.779Z"
   },
   {
    "duration": 5,
    "start_time": "2023-07-22T07:29:39.283Z"
   },
   {
    "duration": 10973,
    "start_time": "2023-07-22T07:29:41.810Z"
   },
   {
    "duration": 189,
    "start_time": "2023-07-22T07:29:59.949Z"
   },
   {
    "duration": 9,
    "start_time": "2023-07-22T07:30:02.167Z"
   },
   {
    "duration": 5,
    "start_time": "2023-07-22T07:30:04.586Z"
   },
   {
    "duration": 4,
    "start_time": "2023-07-22T07:30:06.168Z"
   },
   {
    "duration": 2015,
    "start_time": "2023-07-22T14:13:16.724Z"
   },
   {
    "duration": 2185,
    "start_time": "2023-07-22T14:13:26.167Z"
   },
   {
    "duration": 33,
    "start_time": "2023-07-22T14:13:40.591Z"
   },
   {
    "duration": 28,
    "start_time": "2023-07-22T14:13:44.728Z"
   },
   {
    "duration": 5,
    "start_time": "2023-07-22T14:13:48.530Z"
   },
   {
    "duration": 4,
    "start_time": "2023-07-22T14:14:04.405Z"
   },
   {
    "duration": 3,
    "start_time": "2023-07-22T14:14:07.360Z"
   },
   {
    "duration": 5,
    "start_time": "2023-07-22T14:14:09.893Z"
   },
   {
    "duration": 1134,
    "start_time": "2023-07-22T14:14:23.806Z"
   },
   {
    "duration": 71156,
    "start_time": "2023-07-22T14:14:42.404Z"
   },
   {
    "duration": 2021,
    "start_time": "2023-07-24T04:38:45.406Z"
   },
   {
    "duration": 2182,
    "start_time": "2023-07-24T04:38:47.429Z"
   },
   {
    "duration": 24,
    "start_time": "2023-07-24T04:38:49.612Z"
   },
   {
    "duration": 15,
    "start_time": "2023-07-24T04:38:49.638Z"
   },
   {
    "duration": 4,
    "start_time": "2023-07-24T04:38:49.655Z"
   },
   {
    "duration": 3,
    "start_time": "2023-07-24T04:38:49.660Z"
   },
   {
    "duration": 5,
    "start_time": "2023-07-24T04:38:49.664Z"
   },
   {
    "duration": 6,
    "start_time": "2023-07-24T04:38:49.670Z"
   },
   {
    "duration": 1105,
    "start_time": "2023-07-24T04:38:49.677Z"
   },
   {
    "duration": 65605,
    "start_time": "2023-07-24T04:38:50.785Z"
   },
   {
    "duration": 9,
    "start_time": "2023-07-24T04:39:56.391Z"
   },
   {
    "duration": 40,
    "start_time": "2023-07-24T04:39:56.401Z"
   },
   {
    "duration": 16,
    "start_time": "2023-07-24T04:39:56.443Z"
   },
   {
    "duration": 16,
    "start_time": "2023-07-24T04:39:56.461Z"
   },
   {
    "duration": 78,
    "start_time": "2023-07-24T04:39:56.480Z"
   },
   {
    "duration": 7,
    "start_time": "2023-07-24T04:39:56.560Z"
   },
   {
    "duration": 17,
    "start_time": "2023-07-24T04:39:56.569Z"
   },
   {
    "duration": 13,
    "start_time": "2023-07-24T04:39:56.588Z"
   },
   {
    "duration": 14,
    "start_time": "2023-07-24T04:39:56.602Z"
   },
   {
    "duration": 49,
    "start_time": "2023-07-24T04:39:56.618Z"
   },
   {
    "duration": 6,
    "start_time": "2023-07-24T04:39:56.669Z"
   },
   {
    "duration": 24,
    "start_time": "2023-07-24T04:39:56.676Z"
   },
   {
    "duration": 5,
    "start_time": "2023-07-24T04:39:56.702Z"
   },
   {
    "duration": 765,
    "start_time": "2023-07-24T04:39:56.708Z"
   },
   {
    "duration": 5,
    "start_time": "2023-07-24T04:39:57.475Z"
   },
   {
    "duration": 1074,
    "start_time": "2023-07-24T04:39:57.481Z"
   },
   {
    "duration": 96144,
    "start_time": "2023-07-24T04:39:58.557Z"
   },
   {
    "duration": 5,
    "start_time": "2023-07-24T04:41:34.705Z"
   },
   {
    "duration": 52759,
    "start_time": "2023-07-24T04:41:34.800Z"
   },
   {
    "duration": 4,
    "start_time": "2023-07-24T04:42:27.561Z"
   },
   {
    "duration": 2046,
    "start_time": "2023-07-24T04:53:18.506Z"
   },
   {
    "duration": 830,
    "start_time": "2023-07-24T04:53:20.553Z"
   },
   {
    "duration": 34,
    "start_time": "2023-07-24T04:53:21.384Z"
   },
   {
    "duration": 14,
    "start_time": "2023-07-24T04:53:21.420Z"
   },
   {
    "duration": 6,
    "start_time": "2023-07-24T04:53:21.437Z"
   },
   {
    "duration": 5,
    "start_time": "2023-07-24T04:53:21.445Z"
   },
   {
    "duration": 9,
    "start_time": "2023-07-24T04:53:21.451Z"
   },
   {
    "duration": 5,
    "start_time": "2023-07-24T04:53:21.462Z"
   },
   {
    "duration": 1225,
    "start_time": "2023-07-24T04:53:21.469Z"
   },
   {
    "duration": 70176,
    "start_time": "2023-07-24T04:53:22.695Z"
   },
   {
    "duration": 6,
    "start_time": "2023-07-24T04:54:32.872Z"
   },
   {
    "duration": 40,
    "start_time": "2023-07-24T04:54:32.880Z"
   },
   {
    "duration": 11,
    "start_time": "2023-07-24T04:54:32.921Z"
   },
   {
    "duration": 10,
    "start_time": "2023-07-24T04:54:32.934Z"
   },
   {
    "duration": 64,
    "start_time": "2023-07-24T04:54:32.945Z"
   },
   {
    "duration": 5,
    "start_time": "2023-07-24T04:54:33.011Z"
   },
   {
    "duration": 13,
    "start_time": "2023-07-24T04:54:33.017Z"
   },
   {
    "duration": 5,
    "start_time": "2023-07-24T04:54:33.031Z"
   },
   {
    "duration": 14,
    "start_time": "2023-07-24T04:54:33.037Z"
   },
   {
    "duration": 46,
    "start_time": "2023-07-24T04:54:33.052Z"
   },
   {
    "duration": 5,
    "start_time": "2023-07-24T04:54:33.110Z"
   },
   {
    "duration": 9,
    "start_time": "2023-07-24T04:54:33.117Z"
   },
   {
    "duration": 6,
    "start_time": "2023-07-24T04:54:33.127Z"
   },
   {
    "duration": 647,
    "start_time": "2023-07-24T04:54:33.134Z"
   },
   {
    "duration": 4,
    "start_time": "2023-07-24T04:54:33.782Z"
   },
   {
    "duration": 1007,
    "start_time": "2023-07-24T04:54:33.787Z"
   },
   {
    "duration": 82205,
    "start_time": "2023-07-24T04:54:34.796Z"
   },
   {
    "duration": 9,
    "start_time": "2023-07-24T04:55:57.005Z"
   },
   {
    "duration": 54210,
    "start_time": "2023-07-24T04:55:57.017Z"
   },
   {
    "duration": 4,
    "start_time": "2023-07-24T04:56:51.228Z"
   },
   {
    "duration": 1760,
    "start_time": "2023-07-24T05:28:31.572Z"
   },
   {
    "duration": 239,
    "start_time": "2023-07-24T05:28:39.714Z"
   },
   {
    "duration": 833,
    "start_time": "2023-07-24T05:28:42.754Z"
   },
   {
    "duration": 28,
    "start_time": "2023-07-24T05:28:44.943Z"
   },
   {
    "duration": 24,
    "start_time": "2023-07-24T05:28:46.993Z"
   },
   {
    "duration": 5,
    "start_time": "2023-07-24T05:28:48.903Z"
   },
   {
    "duration": 3,
    "start_time": "2023-07-24T05:28:51.063Z"
   },
   {
    "duration": 3,
    "start_time": "2023-07-24T05:28:53.174Z"
   },
   {
    "duration": 4,
    "start_time": "2023-07-24T05:29:02.293Z"
   },
   {
    "duration": 1214,
    "start_time": "2023-07-24T05:29:05.133Z"
   },
   {
    "duration": 68370,
    "start_time": "2023-07-24T05:29:08.388Z"
   },
   {
    "duration": 10,
    "start_time": "2023-07-24T05:30:26.115Z"
   },
   {
    "duration": 8,
    "start_time": "2023-07-24T05:30:27.235Z"
   },
   {
    "duration": 8,
    "start_time": "2023-07-24T05:30:30.323Z"
   },
   {
    "duration": 6,
    "start_time": "2023-07-24T05:30:32.635Z"
   },
   {
    "duration": 47,
    "start_time": "2023-07-24T05:30:39.487Z"
   },
   {
    "duration": 8,
    "start_time": "2023-07-24T05:30:45.829Z"
   },
   {
    "duration": 6,
    "start_time": "2023-07-24T05:31:07.877Z"
   },
   {
    "duration": 42,
    "start_time": "2023-07-24T05:31:18.917Z"
   },
   {
    "duration": 5,
    "start_time": "2023-07-24T05:31:20.323Z"
   },
   {
    "duration": 4,
    "start_time": "2023-07-24T05:31:23.986Z"
   },
   {
    "duration": 715,
    "start_time": "2023-07-24T05:31:25.774Z"
   },
   {
    "duration": 3,
    "start_time": "2023-07-24T05:31:28.866Z"
   },
   {
    "duration": 979,
    "start_time": "2023-07-24T05:31:34.107Z"
   },
   {
    "duration": 48488,
    "start_time": "2023-07-24T05:31:39.917Z"
   },
   {
    "duration": 4,
    "start_time": "2023-07-24T05:32:32.957Z"
   },
   {
    "duration": 49671,
    "start_time": "2023-07-24T05:32:38.958Z"
   },
   {
    "duration": 3,
    "start_time": "2023-07-24T05:33:33.438Z"
   },
   {
    "duration": 227,
    "start_time": "2023-07-24T05:33:38.429Z"
   },
   {
    "duration": 136,
    "start_time": "2023-07-24T05:34:35.993Z"
   },
   {
    "duration": 120,
    "start_time": "2023-07-24T05:35:56.504Z"
   },
   {
    "duration": 114,
    "start_time": "2023-07-24T05:36:11.765Z"
   },
   {
    "duration": 5,
    "start_time": "2023-07-24T05:37:29.933Z"
   },
   {
    "duration": 130,
    "start_time": "2023-07-24T05:39:25.283Z"
   },
   {
    "duration": 18,
    "start_time": "2023-07-24T05:41:30.762Z"
   },
   {
    "duration": 119,
    "start_time": "2023-07-24T05:41:51.042Z"
   },
   {
    "duration": 7,
    "start_time": "2023-07-24T05:42:40.574Z"
   },
   {
    "duration": 13,
    "start_time": "2023-07-24T05:43:00.365Z"
   },
   {
    "duration": 121,
    "start_time": "2023-07-24T05:43:28.673Z"
   },
   {
    "duration": 20,
    "start_time": "2023-07-24T05:48:26.451Z"
   },
   {
    "duration": 127,
    "start_time": "2023-07-24T05:48:57.243Z"
   },
   {
    "duration": 6,
    "start_time": "2023-07-24T05:54:59.007Z"
   },
   {
    "duration": 17,
    "start_time": "2023-07-24T05:55:29.757Z"
   },
   {
    "duration": 124,
    "start_time": "2023-07-24T05:55:39.313Z"
   },
   {
    "duration": 130,
    "start_time": "2023-07-24T05:57:41.414Z"
   },
   {
    "duration": 117,
    "start_time": "2023-07-24T05:57:51.854Z"
   },
   {
    "duration": 6,
    "start_time": "2023-07-24T05:58:03.613Z"
   },
   {
    "duration": 117,
    "start_time": "2023-07-24T05:58:44.573Z"
   },
   {
    "duration": 119,
    "start_time": "2023-07-24T06:02:30.833Z"
   },
   {
    "duration": 4,
    "start_time": "2023-07-24T06:13:07.008Z"
   },
   {
    "duration": 8,
    "start_time": "2023-07-24T06:14:50.906Z"
   },
   {
    "duration": 3,
    "start_time": "2023-07-24T06:15:12.755Z"
   },
   {
    "duration": 15,
    "start_time": "2023-07-24T06:15:22.284Z"
   },
   {
    "duration": 10,
    "start_time": "2023-07-24T06:17:59.545Z"
   },
   {
    "duration": 154,
    "start_time": "2023-07-24T06:22:13.225Z"
   },
   {
    "duration": 1661,
    "start_time": "2023-07-24T08:22:12.313Z"
   },
   {
    "duration": 278,
    "start_time": "2023-07-24T08:22:17.793Z"
   },
   {
    "duration": 808,
    "start_time": "2023-07-24T08:22:20.115Z"
   },
   {
    "duration": 28,
    "start_time": "2023-07-24T08:22:23.791Z"
   },
   {
    "duration": 18,
    "start_time": "2023-07-24T08:22:25.740Z"
   },
   {
    "duration": 5,
    "start_time": "2023-07-24T08:22:27.622Z"
   },
   {
    "duration": 3,
    "start_time": "2023-07-24T08:22:30.741Z"
   },
   {
    "duration": 3,
    "start_time": "2023-07-24T08:22:32.882Z"
   },
   {
    "duration": 4,
    "start_time": "2023-07-24T08:22:38.571Z"
   },
   {
    "duration": 1261,
    "start_time": "2023-07-24T08:22:41.415Z"
   },
   {
    "duration": 71401,
    "start_time": "2023-07-24T08:22:45.411Z"
   },
   {
    "duration": 8,
    "start_time": "2023-07-24T08:24:01.849Z"
   },
   {
    "duration": 11,
    "start_time": "2023-07-24T08:24:03.870Z"
   },
   {
    "duration": 8,
    "start_time": "2023-07-24T08:24:06.950Z"
   },
   {
    "duration": 6,
    "start_time": "2023-07-24T08:24:09.462Z"
   },
   {
    "duration": 49,
    "start_time": "2023-07-24T08:24:13.530Z"
   },
   {
    "duration": 10,
    "start_time": "2023-07-24T08:24:35.938Z"
   },
   {
    "duration": 64,
    "start_time": "2023-07-24T08:24:40.450Z"
   },
   {
    "duration": 6,
    "start_time": "2023-07-24T08:24:43.665Z"
   },
   {
    "duration": 4,
    "start_time": "2023-07-24T08:24:46.034Z"
   },
   {
    "duration": 3,
    "start_time": "2023-07-24T08:24:48.065Z"
   },
   {
    "duration": 614,
    "start_time": "2023-07-24T08:24:49.669Z"
   },
   {
    "duration": 4,
    "start_time": "2023-07-24T08:24:58.177Z"
   },
   {
    "duration": 1088,
    "start_time": "2023-07-24T08:24:59.850Z"
   },
   {
    "duration": 85593,
    "start_time": "2023-07-24T08:25:20.115Z"
   },
   {
    "duration": 6,
    "start_time": "2023-07-24T08:26:55.606Z"
   },
   {
    "duration": 146,
    "start_time": "2023-07-24T08:27:05.361Z"
   },
   {
    "duration": 126,
    "start_time": "2023-07-24T08:27:19.238Z"
   },
   {
    "duration": 25,
    "start_time": "2023-07-24T08:32:07.395Z"
   },
   {
    "duration": 18,
    "start_time": "2023-07-24T08:32:17.667Z"
   },
   {
    "duration": 1870,
    "start_time": "2023-07-24T08:34:45.722Z"
   },
   {
    "duration": 274,
    "start_time": "2023-07-24T08:34:52.235Z"
   },
   {
    "duration": 991,
    "start_time": "2023-07-24T08:34:54.835Z"
   },
   {
    "duration": 26,
    "start_time": "2023-07-24T08:34:57.965Z"
   },
   {
    "duration": 19,
    "start_time": "2023-07-24T08:35:00.118Z"
   },
   {
    "duration": 6,
    "start_time": "2023-07-24T08:35:01.826Z"
   },
   {
    "duration": 4,
    "start_time": "2023-07-24T08:35:05.075Z"
   },
   {
    "duration": 3,
    "start_time": "2023-07-24T08:35:07.426Z"
   },
   {
    "duration": 5,
    "start_time": "2023-07-24T08:35:10.022Z"
   },
   {
    "duration": 1157,
    "start_time": "2023-07-24T08:35:13.118Z"
   },
   {
    "duration": 73591,
    "start_time": "2023-07-24T08:35:25.224Z"
   },
   {
    "duration": 8,
    "start_time": "2023-07-24T08:36:42.425Z"
   },
   {
    "duration": 8,
    "start_time": "2023-07-24T08:36:44.754Z"
   },
   {
    "duration": 7,
    "start_time": "2023-07-24T08:36:51.956Z"
   },
   {
    "duration": 11,
    "start_time": "2023-07-24T08:36:55.702Z"
   },
   {
    "duration": 128,
    "start_time": "2023-07-24T08:37:11.964Z"
   },
   {
    "duration": 54,
    "start_time": "2023-07-24T08:37:44.213Z"
   },
   {
    "duration": 3,
    "start_time": "2023-07-24T08:37:48.864Z"
   },
   {
    "duration": 6,
    "start_time": "2023-07-24T08:37:53.754Z"
   },
   {
    "duration": 5,
    "start_time": "2023-07-24T08:38:07.753Z"
   },
   {
    "duration": 849,
    "start_time": "2023-07-24T08:38:09.223Z"
   },
   {
    "duration": 11,
    "start_time": "2023-07-24T08:38:56.694Z"
   },
   {
    "duration": 1720,
    "start_time": "2023-07-24T08:39:57.801Z"
   },
   {
    "duration": 309,
    "start_time": "2023-07-24T08:40:02.116Z"
   },
   {
    "duration": 901,
    "start_time": "2023-07-24T08:40:04.800Z"
   },
   {
    "duration": 25,
    "start_time": "2023-07-24T08:40:08.834Z"
   },
   {
    "duration": 17,
    "start_time": "2023-07-24T08:40:10.764Z"
   },
   {
    "duration": 5,
    "start_time": "2023-07-24T08:40:12.174Z"
   },
   {
    "duration": 3,
    "start_time": "2023-07-24T08:40:14.767Z"
   },
   {
    "duration": 21,
    "start_time": "2023-07-24T08:40:16.300Z"
   },
   {
    "duration": 29,
    "start_time": "2023-07-24T08:40:20.797Z"
   },
   {
    "duration": 1292,
    "start_time": "2023-07-24T08:40:24.864Z"
   },
   {
    "duration": 80552,
    "start_time": "2023-07-24T08:40:29.954Z"
   },
   {
    "duration": 8,
    "start_time": "2023-07-24T08:43:52.156Z"
   },
   {
    "duration": 9,
    "start_time": "2023-07-24T08:43:53.754Z"
   },
   {
    "duration": 8,
    "start_time": "2023-07-24T08:44:02.147Z"
   },
   {
    "duration": 11,
    "start_time": "2023-07-24T08:44:04.132Z"
   },
   {
    "duration": 72,
    "start_time": "2023-07-24T08:44:08.261Z"
   },
   {
    "duration": 15,
    "start_time": "2023-07-24T08:44:27.594Z"
   },
   {
    "duration": 12,
    "start_time": "2023-07-24T08:44:30.420Z"
   },
   {
    "duration": 4,
    "start_time": "2023-07-24T08:47:54.455Z"
   },
   {
    "duration": 4171,
    "start_time": "2023-07-24T08:47:57.434Z"
   },
   {
    "duration": 3,
    "start_time": "2023-07-24T08:48:05.663Z"
   },
   {
    "duration": 1233,
    "start_time": "2023-07-24T08:48:07.555Z"
   },
   {
    "duration": 601,
    "start_time": "2023-07-24T08:48:20.240Z"
   },
   {
    "duration": 156438,
    "start_time": "2023-07-24T08:48:51.495Z"
   },
   {
    "duration": 3,
    "start_time": "2023-07-24T08:51:49.444Z"
   },
   {
    "duration": 17,
    "start_time": "2023-07-24T08:52:10.474Z"
   },
   {
    "duration": 140,
    "start_time": "2023-07-24T08:53:24.838Z"
   },
   {
    "duration": 382991,
    "start_time": "2023-07-24T08:53:36.157Z"
   },
   {
    "duration": 4,
    "start_time": "2023-07-24T09:03:30.121Z"
   },
   {
    "duration": 2154,
    "start_time": "2023-07-24T09:05:23.856Z"
   },
   {
    "duration": 273,
    "start_time": "2023-07-24T09:05:28.487Z"
   },
   {
    "duration": 959,
    "start_time": "2023-07-24T09:05:30.467Z"
   },
   {
    "duration": 25,
    "start_time": "2023-07-24T09:05:35.166Z"
   },
   {
    "duration": 3,
    "start_time": "2023-07-24T09:05:37.294Z"
   },
   {
    "duration": 4,
    "start_time": "2023-07-24T09:05:39.853Z"
   },
   {
    "duration": 182,
    "start_time": "2023-07-24T09:05:41.397Z"
   },
   {
    "duration": 2,
    "start_time": "2023-07-24T09:05:47.794Z"
   },
   {
    "duration": 4,
    "start_time": "2023-07-24T09:05:49.724Z"
   },
   {
    "duration": 1270,
    "start_time": "2023-07-24T09:05:51.474Z"
   },
   {
    "duration": 75837,
    "start_time": "2023-07-24T09:05:54.654Z"
   },
   {
    "duration": 27,
    "start_time": "2023-07-24T09:07:10.493Z"
   },
   {
    "duration": 19,
    "start_time": "2023-07-24T09:07:59.224Z"
   },
   {
    "duration": 8,
    "start_time": "2023-07-24T09:08:28.635Z"
   },
   {
    "duration": 8,
    "start_time": "2023-07-24T09:08:33.970Z"
   },
   {
    "duration": 7,
    "start_time": "2023-07-24T09:08:36.736Z"
   },
   {
    "duration": 47,
    "start_time": "2023-07-24T09:08:40.056Z"
   },
   {
    "duration": 7,
    "start_time": "2023-07-24T09:08:44.233Z"
   },
   {
    "duration": 53,
    "start_time": "2023-07-24T09:08:52.068Z"
   },
   {
    "duration": 4,
    "start_time": "2023-07-24T09:08:53.665Z"
   },
   {
    "duration": 4,
    "start_time": "2023-07-24T09:08:55.165Z"
   },
   {
    "duration": 4,
    "start_time": "2023-07-24T09:09:02.245Z"
   },
   {
    "duration": 701,
    "start_time": "2023-07-24T09:09:09.269Z"
   },
   {
    "duration": 5,
    "start_time": "2023-07-24T09:09:17.598Z"
   },
   {
    "duration": 1114,
    "start_time": "2023-07-24T09:09:19.315Z"
   },
   {
    "duration": 220,
    "start_time": "2023-07-24T09:09:32.498Z"
   },
   {
    "duration": 84198,
    "start_time": "2023-07-24T09:10:30.216Z"
   },
   {
    "duration": 4,
    "start_time": "2023-07-24T09:11:58.711Z"
   },
   {
    "duration": 18,
    "start_time": "2023-07-24T09:12:10.776Z"
   },
   {
    "duration": 49860,
    "start_time": "2023-07-24T09:13:11.527Z"
   },
   {
    "duration": 4,
    "start_time": "2023-07-24T09:14:51.525Z"
   },
   {
    "duration": 9,
    "start_time": "2023-07-24T09:15:06.737Z"
   },
   {
    "duration": 695,
    "start_time": "2023-07-24T09:15:26.970Z"
   },
   {
    "duration": 18,
    "start_time": "2023-07-24T09:15:41.716Z"
   },
   {
    "duration": 4,
    "start_time": "2023-07-24T09:19:34.245Z"
   },
   {
    "duration": 1616,
    "start_time": "2023-07-24T09:19:44.376Z"
   },
   {
    "duration": 2059,
    "start_time": "2023-07-24T11:21:27.911Z"
   },
   {
    "duration": 240,
    "start_time": "2023-07-24T11:21:32.670Z"
   },
   {
    "duration": 3343,
    "start_time": "2023-07-24T11:21:35.951Z"
   },
   {
    "duration": 37,
    "start_time": "2023-07-24T11:21:41.316Z"
   },
   {
    "duration": 33,
    "start_time": "2023-07-24T11:21:44.750Z"
   },
   {
    "duration": 6,
    "start_time": "2023-07-24T11:21:46.450Z"
   },
   {
    "duration": 4,
    "start_time": "2023-07-24T11:21:51.602Z"
   },
   {
    "duration": 3,
    "start_time": "2023-07-24T11:21:53.409Z"
   },
   {
    "duration": 5,
    "start_time": "2023-07-24T11:21:55.953Z"
   },
   {
    "duration": 1286,
    "start_time": "2023-07-24T11:21:58.702Z"
   },
   {
    "duration": 71159,
    "start_time": "2023-07-24T11:22:02.070Z"
   },
   {
    "duration": 17,
    "start_time": "2023-07-24T11:23:16.298Z"
   },
   {
    "duration": 11,
    "start_time": "2023-07-24T11:23:17.570Z"
   },
   {
    "duration": 12,
    "start_time": "2023-07-24T11:23:21.309Z"
   },
   {
    "duration": 6,
    "start_time": "2023-07-24T11:23:24.360Z"
   },
   {
    "duration": 56,
    "start_time": "2023-07-24T11:23:27.414Z"
   },
   {
    "duration": 9,
    "start_time": "2023-07-24T11:23:39.398Z"
   },
   {
    "duration": 129,
    "start_time": "2023-07-24T11:23:41.949Z"
   },
   {
    "duration": 7511,
    "start_time": "2023-07-24T11:26:45.749Z"
   },
   {
    "duration": 23,
    "start_time": "2023-07-24T11:27:52.470Z"
   },
   {
    "duration": 15,
    "start_time": "2023-07-24T11:28:42.365Z"
   },
   {
    "duration": 45323,
    "start_time": "2023-07-24T11:29:44.030Z"
   },
   {
    "duration": 31,
    "start_time": "2023-07-24T11:30:41.850Z"
   },
   {
    "duration": 16,
    "start_time": "2023-07-24T11:31:39.799Z"
   },
   {
    "duration": 2089,
    "start_time": "2023-07-24T11:35:51.412Z"
   },
   {
    "duration": 102,
    "start_time": "2023-07-24T11:36:35.758Z"
   },
   {
    "duration": 21,
    "start_time": "2023-07-24T11:36:56.699Z"
   },
   {
    "duration": 871,
    "start_time": "2023-07-24T11:38:14.119Z"
   },
   {
    "duration": 2509,
    "start_time": "2023-07-24T11:44:24.816Z"
   },
   {
    "duration": 27,
    "start_time": "2023-07-24T11:44:34.043Z"
   },
   {
    "duration": 1425,
    "start_time": "2023-07-24T11:45:58.571Z"
   },
   {
    "duration": 138,
    "start_time": "2023-07-24T11:46:01.467Z"
   },
   {
    "duration": 2470,
    "start_time": "2023-07-24T11:46:11.199Z"
   },
   {
    "duration": 22,
    "start_time": "2023-07-24T11:46:16.556Z"
   },
   {
    "duration": 17,
    "start_time": "2023-07-24T11:46:26.367Z"
   },
   {
    "duration": 1526,
    "start_time": "2023-07-24T11:48:07.743Z"
   },
   {
    "duration": 2570,
    "start_time": "2023-07-24T11:48:16.720Z"
   },
   {
    "duration": 148,
    "start_time": "2023-07-24T11:48:21.532Z"
   },
   {
    "duration": 12,
    "start_time": "2023-07-24T11:49:31.140Z"
   },
   {
    "duration": 2851,
    "start_time": "2023-07-24T11:49:50.772Z"
   },
   {
    "duration": 22,
    "start_time": "2023-07-24T11:50:00.339Z"
   },
   {
    "duration": 19,
    "start_time": "2023-07-24T11:50:12.199Z"
   },
   {
    "duration": 5,
    "start_time": "2023-07-24T12:00:44.816Z"
   },
   {
    "duration": 312,
    "start_time": "2023-07-24T12:00:47.679Z"
   },
   {
    "duration": 749,
    "start_time": "2023-07-24T12:00:50.027Z"
   },
   {
    "duration": 34,
    "start_time": "2023-07-24T12:00:52.639Z"
   },
   {
    "duration": 31,
    "start_time": "2023-07-24T12:00:54.680Z"
   },
   {
    "duration": 5,
    "start_time": "2023-07-24T12:00:56.571Z"
   },
   {
    "duration": 4,
    "start_time": "2023-07-24T12:00:58.930Z"
   },
   {
    "duration": 2,
    "start_time": "2023-07-24T12:01:00.752Z"
   },
   {
    "duration": 5,
    "start_time": "2023-07-24T12:01:03.971Z"
   },
   {
    "duration": 1233,
    "start_time": "2023-07-24T12:01:06.649Z"
   },
   {
    "duration": 68392,
    "start_time": "2023-07-24T12:01:10.031Z"
   },
   {
    "duration": 12,
    "start_time": "2023-07-24T12:02:24.911Z"
   },
   {
    "duration": 9,
    "start_time": "2023-07-24T12:02:26.259Z"
   },
   {
    "duration": 11,
    "start_time": "2023-07-24T12:02:28.762Z"
   },
   {
    "duration": 7,
    "start_time": "2023-07-24T12:02:30.714Z"
   },
   {
    "duration": 57,
    "start_time": "2023-07-24T12:02:33.939Z"
   },
   {
    "duration": 20,
    "start_time": "2023-07-24T12:02:35.923Z"
   },
   {
    "duration": 52,
    "start_time": "2023-07-24T12:31:21.576Z"
   },
   {
    "duration": 1498,
    "start_time": "2023-07-24T12:31:24.067Z"
   },
   {
    "duration": 221,
    "start_time": "2023-07-24T12:31:32.227Z"
   },
   {
    "duration": 837,
    "start_time": "2023-07-24T12:31:35.867Z"
   },
   {
    "duration": 7,
    "start_time": "2023-07-24T12:31:42.757Z"
   },
   {
    "duration": 4,
    "start_time": "2023-07-24T12:31:46.357Z"
   },
   {
    "duration": 2,
    "start_time": "2023-07-24T12:31:49.756Z"
   },
   {
    "duration": 5,
    "start_time": "2023-07-24T12:31:54.167Z"
   },
   {
    "duration": 1226,
    "start_time": "2023-07-24T12:31:57.436Z"
   },
   {
    "duration": 68401,
    "start_time": "2023-07-24T12:32:03.346Z"
   },
   {
    "duration": 11,
    "start_time": "2023-07-24T12:33:17.166Z"
   },
   {
    "duration": 9,
    "start_time": "2023-07-24T12:33:18.586Z"
   },
   {
    "duration": 12,
    "start_time": "2023-07-24T12:33:21.636Z"
   },
   {
    "duration": 6,
    "start_time": "2023-07-24T12:33:23.586Z"
   },
   {
    "duration": 62,
    "start_time": "2023-07-24T12:33:47.627Z"
   },
   {
    "duration": 4,
    "start_time": "2023-07-24T12:33:58.585Z"
   },
   {
    "duration": 3901,
    "start_time": "2023-07-24T12:34:05.856Z"
   },
   {
    "duration": 5,
    "start_time": "2023-07-24T12:34:14.846Z"
   },
   {
    "duration": 886,
    "start_time": "2023-07-24T12:34:18.146Z"
   },
   {
    "duration": 197,
    "start_time": "2023-07-24T12:38:46.026Z"
   },
   {
    "duration": 1235683,
    "start_time": "2023-07-24T12:39:01.278Z"
   },
   {
    "duration": 4,
    "start_time": "2023-07-24T12:59:50.229Z"
   },
   {
    "duration": 16,
    "start_time": "2023-07-24T13:00:17.529Z"
   },
   {
    "duration": 6,
    "start_time": "2023-07-24T13:00:34.183Z"
   },
   {
    "duration": 1504,
    "start_time": "2023-07-24T13:00:47.459Z"
   },
   {
    "duration": 330333,
    "start_time": "2023-07-24T13:03:12.459Z"
   },
   {
    "duration": 4,
    "start_time": "2023-07-24T13:08:54.529Z"
   },
   {
    "duration": 483734,
    "start_time": "2023-07-24T13:14:27.890Z"
   },
   {
    "duration": 4,
    "start_time": "2023-07-24T13:22:38.205Z"
   },
   {
    "duration": 123,
    "start_time": "2023-07-24T13:24:10.957Z"
   },
   {
    "duration": 446276,
    "start_time": "2023-07-24T13:24:39.137Z"
   },
   {
    "duration": 5,
    "start_time": "2023-07-24T13:32:36.055Z"
   },
   {
    "duration": 24,
    "start_time": "2023-07-24T13:36:51.040Z"
   },
   {
    "duration": 5,
    "start_time": "2023-07-24T13:40:00.405Z"
   },
   {
    "duration": 15,
    "start_time": "2023-07-24T13:41:01.156Z"
   },
   {
    "duration": 1588,
    "start_time": "2023-07-24T14:00:06.551Z"
   },
   {
    "duration": 250,
    "start_time": "2023-07-24T14:00:11.236Z"
   },
   {
    "duration": 824,
    "start_time": "2023-07-24T14:00:14.690Z"
   },
   {
    "duration": 36,
    "start_time": "2023-07-24T14:00:17.391Z"
   },
   {
    "duration": 5,
    "start_time": "2023-07-24T14:00:20.667Z"
   },
   {
    "duration": 4,
    "start_time": "2023-07-24T14:00:23.870Z"
   },
   {
    "duration": 3,
    "start_time": "2023-07-24T14:00:25.636Z"
   },
   {
    "duration": 4,
    "start_time": "2023-07-24T14:00:29.625Z"
   },
   {
    "duration": 1316,
    "start_time": "2023-07-24T14:00:32.151Z"
   },
   {
    "duration": 69249,
    "start_time": "2023-07-24T14:00:35.568Z"
   },
   {
    "duration": 13,
    "start_time": "2023-07-24T14:04:38.543Z"
   },
   {
    "duration": 10,
    "start_time": "2023-07-24T14:04:39.941Z"
   },
   {
    "duration": 12,
    "start_time": "2023-07-24T14:04:42.332Z"
   },
   {
    "duration": 6,
    "start_time": "2023-07-24T14:04:43.830Z"
   },
   {
    "duration": 58,
    "start_time": "2023-07-24T14:04:45.902Z"
   },
   {
    "duration": 4,
    "start_time": "2023-07-24T14:05:02.152Z"
   },
   {
    "duration": 3899,
    "start_time": "2023-07-24T14:05:05.051Z"
   },
   {
    "duration": 4,
    "start_time": "2023-07-24T14:05:10.625Z"
   },
   {
    "duration": 904,
    "start_time": "2023-07-24T14:05:16.429Z"
   },
   {
    "duration": 674242,
    "start_time": "2023-07-24T14:05:29.421Z"
   },
   {
    "duration": 4,
    "start_time": "2023-07-24T14:17:02.663Z"
   },
   {
    "duration": 386676,
    "start_time": "2023-07-24T14:17:10.320Z"
   },
   {
    "duration": 4,
    "start_time": "2023-07-24T14:23:56.445Z"
   },
   {
    "duration": 219713,
    "start_time": "2023-07-24T14:24:22.777Z"
   },
   {
    "duration": 3,
    "start_time": "2023-07-24T14:28:17.989Z"
   },
   {
    "duration": 317079,
    "start_time": "2023-07-24T14:28:45.272Z"
   },
   {
    "duration": 5,
    "start_time": "2023-07-24T14:34:06.398Z"
   },
   {
    "duration": 1621,
    "start_time": "2023-07-24T14:36:46.125Z"
   },
   {
    "duration": 191,
    "start_time": "2023-07-24T14:36:48.324Z"
   },
   {
    "duration": 778,
    "start_time": "2023-07-24T14:36:51.121Z"
   },
   {
    "duration": 36,
    "start_time": "2023-07-24T14:36:54.423Z"
   },
   {
    "duration": 7,
    "start_time": "2023-07-24T14:37:00.162Z"
   },
   {
    "duration": 4,
    "start_time": "2023-07-24T14:37:02.723Z"
   },
   {
    "duration": 2,
    "start_time": "2023-07-24T14:37:05.002Z"
   },
   {
    "duration": 3,
    "start_time": "2023-07-24T14:37:07.443Z"
   },
   {
    "duration": 1287,
    "start_time": "2023-07-24T14:37:09.822Z"
   },
   {
    "duration": 71428,
    "start_time": "2023-07-24T14:37:13.241Z"
   },
   {
    "duration": 18,
    "start_time": "2023-07-24T14:46:55.919Z"
   },
   {
    "duration": 10,
    "start_time": "2023-07-24T14:46:57.289Z"
   },
   {
    "duration": 12,
    "start_time": "2023-07-24T14:47:00.936Z"
   },
   {
    "duration": 8,
    "start_time": "2023-07-24T14:47:02.236Z"
   },
   {
    "duration": 69,
    "start_time": "2023-07-24T14:47:04.798Z"
   },
   {
    "duration": 5,
    "start_time": "2023-07-24T14:47:10.393Z"
   },
   {
    "duration": 4606,
    "start_time": "2023-07-24T14:47:14.817Z"
   },
   {
    "duration": 7,
    "start_time": "2023-07-24T14:47:21.517Z"
   },
   {
    "duration": 1036,
    "start_time": "2023-07-24T14:47:22.996Z"
   },
   {
    "duration": 2456,
    "start_time": "2023-07-25T05:19:21.343Z"
   },
   {
    "duration": 195,
    "start_time": "2023-07-25T05:19:23.802Z"
   },
   {
    "duration": 2844,
    "start_time": "2023-07-25T05:19:24.000Z"
   },
   {
    "duration": 36,
    "start_time": "2023-07-25T05:19:26.846Z"
   },
   {
    "duration": 6,
    "start_time": "2023-07-25T05:19:26.885Z"
   },
   {
    "duration": 10,
    "start_time": "2023-07-25T05:19:26.893Z"
   },
   {
    "duration": 41,
    "start_time": "2023-07-25T05:19:26.905Z"
   },
   {
    "duration": 13,
    "start_time": "2023-07-25T05:19:26.948Z"
   },
   {
    "duration": 1499,
    "start_time": "2023-07-25T05:19:26.963Z"
   },
   {
    "duration": 82303,
    "start_time": "2023-07-25T05:19:28.464Z"
   },
   {
    "duration": 14,
    "start_time": "2023-07-25T05:20:50.769Z"
   },
   {
    "duration": 35,
    "start_time": "2023-07-25T05:20:50.785Z"
   },
   {
    "duration": 39,
    "start_time": "2023-07-25T05:20:50.828Z"
   },
   {
    "duration": 30,
    "start_time": "2023-07-25T05:20:50.870Z"
   },
   {
    "duration": 132,
    "start_time": "2023-07-25T05:20:50.902Z"
   },
   {
    "duration": 5,
    "start_time": "2023-07-25T05:20:51.036Z"
   },
   {
    "duration": 5097,
    "start_time": "2023-07-25T05:20:51.042Z"
   },
   {
    "duration": 4,
    "start_time": "2023-07-25T05:20:56.141Z"
   },
   {
    "duration": 1155,
    "start_time": "2023-07-25T05:20:56.147Z"
   },
   {
    "duration": 978617,
    "start_time": "2023-07-25T05:20:57.304Z"
   },
   {
    "duration": 10,
    "start_time": "2023-07-25T05:37:15.933Z"
   },
   {
    "duration": 371182,
    "start_time": "2023-07-25T05:37:15.950Z"
   },
   {
    "duration": 5,
    "start_time": "2023-07-25T05:43:27.135Z"
   },
   {
    "duration": 9967625,
    "start_time": "2023-07-25T05:43:27.142Z"
   },
   {
    "duration": 4,
    "start_time": "2023-07-25T08:29:34.769Z"
   },
   {
    "duration": 129,
    "start_time": "2023-07-25T08:29:34.775Z"
   },
   {
    "duration": 0,
    "start_time": "2023-07-25T08:29:34.907Z"
   },
   {
    "duration": 0,
    "start_time": "2023-07-25T08:29:34.918Z"
   },
   {
    "duration": 0,
    "start_time": "2023-07-25T08:29:34.920Z"
   },
   {
    "duration": 0,
    "start_time": "2023-07-25T08:29:34.922Z"
   },
   {
    "duration": 60,
    "start_time": "2023-07-25T12:45:57.909Z"
   },
   {
    "duration": 62,
    "start_time": "2023-07-25T12:46:30.772Z"
   },
   {
    "duration": 91,
    "start_time": "2023-07-25T12:47:00.130Z"
   },
   {
    "duration": 54,
    "start_time": "2023-07-25T12:47:06.014Z"
   },
   {
    "duration": 244,
    "start_time": "2023-07-25T12:47:34.730Z"
   },
   {
    "duration": 2424,
    "start_time": "2023-07-25T12:49:15.424Z"
   },
   {
    "duration": 243,
    "start_time": "2023-07-25T12:49:17.970Z"
   },
   {
    "duration": 3057,
    "start_time": "2023-07-25T12:49:21.843Z"
   },
   {
    "duration": 48,
    "start_time": "2023-07-25T12:49:24.903Z"
   },
   {
    "duration": 10,
    "start_time": "2023-07-25T12:49:29.764Z"
   },
   {
    "duration": 4,
    "start_time": "2023-07-25T12:49:38.012Z"
   },
   {
    "duration": 4,
    "start_time": "2023-07-25T12:49:42.054Z"
   },
   {
    "duration": 5,
    "start_time": "2023-07-25T12:49:45.207Z"
   },
   {
    "duration": 1473,
    "start_time": "2023-07-25T12:49:47.008Z"
   },
   {
    "duration": 81790,
    "start_time": "2023-07-25T12:49:56.150Z"
   },
   {
    "duration": 24,
    "start_time": "2023-07-25T12:54:31.944Z"
   },
   {
    "duration": 10,
    "start_time": "2023-07-25T12:54:33.807Z"
   },
   {
    "duration": 17,
    "start_time": "2023-07-25T12:54:36.567Z"
   },
   {
    "duration": 7,
    "start_time": "2023-07-25T12:54:38.488Z"
   },
   {
    "duration": 68,
    "start_time": "2023-07-25T12:54:41.026Z"
   },
   {
    "duration": 4,
    "start_time": "2023-07-25T12:54:46.016Z"
   },
   {
    "duration": 4820,
    "start_time": "2023-07-25T12:54:47.592Z"
   },
   {
    "duration": 6,
    "start_time": "2023-07-25T12:54:54.353Z"
   },
   {
    "duration": 1083,
    "start_time": "2023-07-25T12:54:57.237Z"
   },
   {
    "duration": 856559,
    "start_time": "2023-07-25T12:55:09.096Z"
   },
   {
    "duration": 4,
    "start_time": "2023-07-25T13:09:46.649Z"
   },
   {
    "duration": 301,
    "start_time": "2023-07-25T13:09:53.843Z"
   },
   {
    "duration": 140,
    "start_time": "2023-07-25T13:26:48.013Z"
   },
   {
    "duration": 1967,
    "start_time": "2023-07-25T13:27:09.006Z"
   },
   {
    "duration": 166,
    "start_time": "2023-07-25T13:27:11.329Z"
   },
   {
    "duration": 862,
    "start_time": "2023-07-25T13:27:14.330Z"
   },
   {
    "duration": 36,
    "start_time": "2023-07-25T13:27:16.648Z"
   },
   {
    "duration": 7,
    "start_time": "2023-07-25T13:27:19.418Z"
   },
   {
    "duration": 4,
    "start_time": "2023-07-25T13:27:22.006Z"
   },
   {
    "duration": 3,
    "start_time": "2023-07-25T13:27:32.612Z"
   },
   {
    "duration": 4,
    "start_time": "2023-07-25T13:27:41.909Z"
   },
   {
    "duration": 3,
    "start_time": "2023-07-25T13:27:43.648Z"
   },
   {
    "duration": 5,
    "start_time": "2023-07-25T13:27:45.728Z"
   },
   {
    "duration": 1536,
    "start_time": "2023-07-25T13:27:47.720Z"
   },
   {
    "duration": 81428,
    "start_time": "2023-07-25T13:27:56.738Z"
   },
   {
    "duration": 27,
    "start_time": "2023-07-25T13:29:29.328Z"
   },
   {
    "duration": 13,
    "start_time": "2023-07-25T13:29:30.498Z"
   },
   {
    "duration": 18,
    "start_time": "2023-07-25T13:29:32.634Z"
   },
   {
    "duration": 10,
    "start_time": "2023-07-25T13:29:33.898Z"
   },
   {
    "duration": 63,
    "start_time": "2023-07-25T13:29:35.900Z"
   },
   {
    "duration": 5,
    "start_time": "2023-07-25T13:29:40.076Z"
   },
   {
    "duration": 4761,
    "start_time": "2023-07-25T13:29:41.528Z"
   },
   {
    "duration": 4,
    "start_time": "2023-07-25T13:29:47.802Z"
   },
   {
    "duration": 1076,
    "start_time": "2023-07-25T13:29:49.559Z"
   },
   {
    "duration": 157,
    "start_time": "2023-07-25T13:35:46.311Z"
   },
   {
    "duration": 7,
    "start_time": "2023-07-25T13:42:25.644Z"
   },
   {
    "duration": 9,
    "start_time": "2023-07-25T13:44:22.824Z"
   },
   {
    "duration": 2475,
    "start_time": "2023-07-25T13:44:37.631Z"
   },
   {
    "duration": 264,
    "start_time": "2023-07-25T13:44:40.346Z"
   },
   {
    "duration": 2771,
    "start_time": "2023-07-25T13:44:43.736Z"
   },
   {
    "duration": 35,
    "start_time": "2023-07-25T13:44:46.509Z"
   },
   {
    "duration": 6,
    "start_time": "2023-07-25T13:44:46.994Z"
   },
   {
    "duration": 4,
    "start_time": "2023-07-25T13:44:50.238Z"
   },
   {
    "duration": 3,
    "start_time": "2023-07-25T13:44:51.686Z"
   },
   {
    "duration": 5,
    "start_time": "2023-07-25T13:44:54.498Z"
   },
   {
    "duration": 1508,
    "start_time": "2023-07-25T13:44:57.205Z"
   },
   {
    "duration": 83313,
    "start_time": "2023-07-25T13:45:00.047Z"
   },
   {
    "duration": 18,
    "start_time": "2023-07-25T13:46:23.369Z"
   },
   {
    "duration": 21,
    "start_time": "2023-07-25T13:46:23.389Z"
   },
   {
    "duration": 27,
    "start_time": "2023-07-25T13:46:23.413Z"
   },
   {
    "duration": 41,
    "start_time": "2023-07-25T13:46:23.442Z"
   },
   {
    "duration": 125,
    "start_time": "2023-07-25T13:46:23.484Z"
   },
   {
    "duration": 5,
    "start_time": "2023-07-25T13:46:23.611Z"
   },
   {
    "duration": 4743,
    "start_time": "2023-07-25T13:46:23.617Z"
   },
   {
    "duration": 5,
    "start_time": "2023-07-25T13:46:28.362Z"
   },
   {
    "duration": 1205,
    "start_time": "2023-07-25T13:46:28.370Z"
   },
   {
    "duration": 4,
    "start_time": "2023-07-25T13:46:29.577Z"
   },
   {
    "duration": 19,
    "start_time": "2023-07-25T13:46:29.583Z"
   },
   {
    "duration": 767694,
    "start_time": "2023-07-25T13:46:29.604Z"
   },
   {
    "duration": 17,
    "start_time": "2023-07-25T13:59:17.355Z"
   },
   {
    "duration": 70,
    "start_time": "2023-07-25T13:59:17.375Z"
   },
   {
    "duration": 329336,
    "start_time": "2023-07-25T14:01:55.406Z"
   },
   {
    "duration": 22,
    "start_time": "2023-07-25T14:07:24.744Z"
   },
   {
    "duration": 3610007,
    "start_time": "2023-07-25T14:07:57.269Z"
   },
   {
    "duration": 10,
    "start_time": "2023-07-25T15:08:07.278Z"
   },
   {
    "duration": 18,
    "start_time": "2023-07-25T15:14:21.919Z"
   },
   {
    "duration": 16,
    "start_time": "2023-07-25T15:15:27.626Z"
   },
   {
    "duration": 133,
    "start_time": "2023-07-25T15:15:37.501Z"
   },
   {
    "duration": 17,
    "start_time": "2023-07-25T15:16:25.065Z"
   },
   {
    "duration": 15,
    "start_time": "2023-07-25T15:17:23.099Z"
   },
   {
    "duration": 1423,
    "start_time": "2023-07-25T15:17:47.834Z"
   },
   {
    "duration": 125,
    "start_time": "2023-07-25T15:36:29.450Z"
   },
   {
    "duration": 5,
    "start_time": "2023-07-26T15:30:30.907Z"
   },
   {
    "duration": 2217,
    "start_time": "2023-07-26T15:31:21.196Z"
   },
   {
    "duration": 252,
    "start_time": "2023-07-26T15:31:25.109Z"
   },
   {
    "duration": 3971,
    "start_time": "2023-07-26T15:31:33.129Z"
   },
   {
    "duration": 47,
    "start_time": "2023-07-26T15:31:38.847Z"
   },
   {
    "duration": 7,
    "start_time": "2023-07-26T15:31:40.630Z"
   },
   {
    "duration": 10,
    "start_time": "2023-07-26T15:32:03.166Z"
   },
   {
    "duration": 7,
    "start_time": "2023-07-26T15:32:08.280Z"
   },
   {
    "duration": 3,
    "start_time": "2023-07-26T15:32:14.120Z"
   },
   {
    "duration": 4,
    "start_time": "2023-07-26T15:32:16.315Z"
   },
   {
    "duration": 190,
    "start_time": "2023-07-26T15:32:19.059Z"
   },
   {
    "duration": 522,
    "start_time": "2023-07-26T15:34:39.889Z"
   },
   {
    "duration": 15,
    "start_time": "2023-07-26T15:35:27.164Z"
   },
   {
    "duration": 15,
    "start_time": "2023-07-26T15:35:30.829Z"
   },
   {
    "duration": 865,
    "start_time": "2023-07-26T15:35:45.249Z"
   },
   {
    "duration": 34,
    "start_time": "2023-07-26T15:35:48.289Z"
   },
   {
    "duration": 7,
    "start_time": "2023-07-26T15:35:49.892Z"
   },
   {
    "duration": 4,
    "start_time": "2023-07-26T15:35:53.448Z"
   },
   {
    "duration": 4,
    "start_time": "2023-07-26T15:35:57.202Z"
   },
   {
    "duration": 5,
    "start_time": "2023-07-26T15:36:02.583Z"
   },
   {
    "duration": 5,
    "start_time": "2023-07-26T15:36:04.322Z"
   },
   {
    "duration": 1567,
    "start_time": "2023-07-26T15:36:07.241Z"
   },
   {
    "duration": 4,
    "start_time": "2023-07-26T15:38:53.410Z"
   },
   {
    "duration": 3,
    "start_time": "2023-07-26T15:38:56.924Z"
   },
   {
    "duration": 6,
    "start_time": "2023-07-26T15:38:59.946Z"
   },
   {
    "duration": 5,
    "start_time": "2023-07-26T15:39:02.813Z"
   },
   {
    "duration": 4,
    "start_time": "2023-07-26T15:40:29.374Z"
   },
   {
    "duration": 3,
    "start_time": "2023-07-26T15:40:31.912Z"
   },
   {
    "duration": 4,
    "start_time": "2023-07-26T15:40:34.729Z"
   },
   {
    "duration": 14,
    "start_time": "2023-07-26T15:40:43.161Z"
   },
   {
    "duration": 1318498,
    "start_time": "2023-07-26T15:40:55.754Z"
   },
   {
    "duration": 14,
    "start_time": "2023-07-26T16:03:50.780Z"
   },
   {
    "duration": 10,
    "start_time": "2023-07-26T16:03:52.751Z"
   },
   {
    "duration": 18,
    "start_time": "2023-07-26T16:06:04.576Z"
   },
   {
    "duration": 7,
    "start_time": "2023-07-26T16:06:13.302Z"
   },
   {
    "duration": 64,
    "start_time": "2023-07-26T16:06:25.122Z"
   },
   {
    "duration": 5,
    "start_time": "2023-07-26T16:06:30.446Z"
   },
   {
    "duration": 5737,
    "start_time": "2023-07-26T16:06:36.145Z"
   },
   {
    "duration": 5,
    "start_time": "2023-07-26T16:06:48.484Z"
   },
   {
    "duration": 1365,
    "start_time": "2023-07-26T16:06:52.003Z"
   },
   {
    "duration": 4,
    "start_time": "2023-07-26T16:07:06.881Z"
   },
   {
    "duration": 5,
    "start_time": "2023-07-26T16:07:09.629Z"
   },
   {
    "duration": 976443,
    "start_time": "2023-07-26T16:07:15.133Z"
   },
   {
    "duration": 12,
    "start_time": "2023-07-26T16:23:49.000Z"
   },
   {
    "duration": 17,
    "start_time": "2023-07-26T16:24:14.708Z"
   },
   {
    "duration": 5,
    "start_time": "2023-07-26T16:32:05.347Z"
   },
   {
    "duration": 4,
    "start_time": "2023-07-26T16:32:26.189Z"
   },
   {
    "duration": 201,
    "start_time": "2023-07-27T13:07:05.297Z"
   },
   {
    "duration": 2411,
    "start_time": "2023-07-27T13:31:03.780Z"
   },
   {
    "duration": 535,
    "start_time": "2023-07-27T13:31:12.980Z"
   },
   {
    "duration": 3364,
    "start_time": "2023-07-27T13:31:17.418Z"
   },
   {
    "duration": 39,
    "start_time": "2023-07-27T13:31:26.222Z"
   },
   {
    "duration": 7,
    "start_time": "2023-07-27T13:31:28.575Z"
   },
   {
    "duration": 4,
    "start_time": "2023-07-27T13:31:34.575Z"
   },
   {
    "duration": 4,
    "start_time": "2023-07-27T13:31:37.497Z"
   },
   {
    "duration": 3,
    "start_time": "2023-07-27T13:31:44.811Z"
   },
   {
    "duration": 5,
    "start_time": "2023-07-27T13:31:48.382Z"
   },
   {
    "duration": 1536,
    "start_time": "2023-07-27T13:31:52.171Z"
   },
   {
    "duration": 1274998,
    "start_time": "2023-07-27T13:32:00.010Z"
   },
   {
    "duration": 19,
    "start_time": "2023-07-27T13:53:15.010Z"
   },
   {
    "duration": 105,
    "start_time": "2023-07-27T13:53:15.031Z"
   },
   {
    "duration": 83,
    "start_time": "2023-07-27T13:53:15.138Z"
   },
   {
    "duration": 16,
    "start_time": "2023-07-27T13:53:15.224Z"
   },
   {
    "duration": 64,
    "start_time": "2023-07-27T13:53:15.242Z"
   },
   {
    "duration": 5,
    "start_time": "2023-07-27T13:53:15.308Z"
   },
   {
    "duration": 133,
    "start_time": "2023-07-27T13:53:15.315Z"
   },
   {
    "duration": 11,
    "start_time": "2023-07-27T13:53:15.451Z"
   },
   {
    "duration": 134,
    "start_time": "2023-07-27T13:54:27.051Z"
   },
   {
    "duration": 106,
    "start_time": "2023-07-27T13:54:59.883Z"
   },
   {
    "duration": 112,
    "start_time": "2023-07-27T13:56:02.498Z"
   },
   {
    "duration": 127,
    "start_time": "2023-07-27T13:58:27.568Z"
   },
   {
    "duration": 169,
    "start_time": "2023-07-27T14:06:15.892Z"
   },
   {
    "duration": 139,
    "start_time": "2023-07-27T14:09:54.478Z"
   },
   {
    "duration": 189,
    "start_time": "2023-07-27T14:11:48.886Z"
   },
   {
    "duration": 156,
    "start_time": "2023-07-27T14:12:15.090Z"
   },
   {
    "duration": 15,
    "start_time": "2023-07-27T14:13:54.389Z"
   },
   {
    "duration": 11312,
    "start_time": "2023-07-27T14:14:41.286Z"
   },
   {
    "duration": 10749,
    "start_time": "2023-07-27T14:18:21.558Z"
   },
   {
    "duration": 14402,
    "start_time": "2023-07-27T14:19:56.205Z"
   },
   {
    "duration": 5,
    "start_time": "2023-07-27T14:27:43.979Z"
   },
   {
    "duration": 5,
    "start_time": "2023-07-27T14:28:19.965Z"
   },
   {
    "duration": 5,
    "start_time": "2023-07-27T14:29:10.149Z"
   },
   {
    "duration": 16,
    "start_time": "2023-07-27T14:35:16.385Z"
   },
   {
    "duration": 6,
    "start_time": "2023-07-27T14:35:18.220Z"
   },
   {
    "duration": 66,
    "start_time": "2023-07-27T14:35:22.185Z"
   },
   {
    "duration": 4,
    "start_time": "2023-07-27T14:35:46.752Z"
   },
   {
    "duration": 5,
    "start_time": "2023-07-27T14:35:48.184Z"
   },
   {
    "duration": 13716,
    "start_time": "2023-07-27T14:36:14.017Z"
   },
   {
    "duration": 14190,
    "start_time": "2023-07-27T14:49:08.499Z"
   },
   {
    "duration": 12,
    "start_time": "2023-07-27T14:53:36.170Z"
   },
   {
    "duration": 8,
    "start_time": "2023-07-27T14:53:50.795Z"
   },
   {
    "duration": 4,
    "start_time": "2023-07-27T14:54:04.797Z"
   },
   {
    "duration": 1866,
    "start_time": "2023-07-27T15:03:45.755Z"
   },
   {
    "duration": 172,
    "start_time": "2023-07-27T15:03:48.001Z"
   },
   {
    "duration": 867,
    "start_time": "2023-07-27T15:03:50.912Z"
   },
   {
    "duration": 38,
    "start_time": "2023-07-27T15:04:00.855Z"
   },
   {
    "duration": 7,
    "start_time": "2023-07-27T15:04:02.391Z"
   },
   {
    "duration": 4,
    "start_time": "2023-07-27T15:04:05.395Z"
   },
   {
    "duration": 4,
    "start_time": "2023-07-27T15:04:08.756Z"
   },
   {
    "duration": 3,
    "start_time": "2023-07-27T15:04:13.048Z"
   },
   {
    "duration": 4,
    "start_time": "2023-07-27T15:04:22.918Z"
   },
   {
    "duration": 1548,
    "start_time": "2023-07-27T15:04:52.747Z"
   },
   {
    "duration": 1294237,
    "start_time": "2023-07-27T15:05:42.483Z"
   },
   {
    "duration": 13,
    "start_time": "2023-07-27T15:30:20.406Z"
   },
   {
    "duration": 14,
    "start_time": "2023-07-27T15:30:22.883Z"
   },
   {
    "duration": 15,
    "start_time": "2023-07-27T15:30:27.849Z"
   },
   {
    "duration": 7,
    "start_time": "2023-07-27T15:30:57.205Z"
   },
   {
    "duration": 150,
    "start_time": "2023-07-27T15:31:19.797Z"
   },
   {
    "duration": 67,
    "start_time": "2023-07-27T15:31:39.498Z"
   },
   {
    "duration": 5,
    "start_time": "2023-07-27T15:31:59.780Z"
   },
   {
    "duration": 15,
    "start_time": "2023-07-27T15:32:03.294Z"
   },
   {
    "duration": 2031,
    "start_time": "2023-07-27T15:48:52.113Z"
   },
   {
    "duration": 320,
    "start_time": "2023-07-27T15:48:56.864Z"
   },
   {
    "duration": 962,
    "start_time": "2023-07-27T15:48:59.513Z"
   },
   {
    "duration": 40,
    "start_time": "2023-07-27T15:49:03.467Z"
   },
   {
    "duration": 7,
    "start_time": "2023-07-27T15:49:04.891Z"
   },
   {
    "duration": 4,
    "start_time": "2023-07-27T15:49:07.496Z"
   },
   {
    "duration": 5,
    "start_time": "2023-07-27T15:49:10.451Z"
   },
   {
    "duration": 14,
    "start_time": "2023-07-27T15:49:14.267Z"
   },
   {
    "duration": 6,
    "start_time": "2023-07-27T15:49:16.467Z"
   },
   {
    "duration": 1637,
    "start_time": "2023-07-27T15:49:18.484Z"
   },
   {
    "duration": 1351160,
    "start_time": "2023-07-27T15:49:28.476Z"
   },
   {
    "duration": 14,
    "start_time": "2023-07-27T16:12:18.381Z"
   },
   {
    "duration": 10,
    "start_time": "2023-07-27T16:12:19.948Z"
   },
   {
    "duration": 19,
    "start_time": "2023-07-27T16:12:27.007Z"
   },
   {
    "duration": 6,
    "start_time": "2023-07-27T16:12:30.390Z"
   },
   {
    "duration": 73,
    "start_time": "2023-07-27T16:12:35.688Z"
   },
   {
    "duration": 4,
    "start_time": "2023-07-27T16:12:59.147Z"
   },
   {
    "duration": 7234742,
    "start_time": "2023-07-27T16:13:32.657Z"
   },
   {
    "duration": 4,
    "start_time": "2023-07-27T18:14:26.459Z"
   },
   {
    "duration": 3,
    "start_time": "2023-07-27T18:16:43.547Z"
   },
   {
    "duration": 4021,
    "start_time": "2023-07-27T18:16:45.510Z"
   },
   {
    "duration": 1923,
    "start_time": "2023-07-28T03:37:52.652Z"
   },
   {
    "duration": 438,
    "start_time": "2023-07-28T03:37:54.578Z"
   },
   {
    "duration": 2638,
    "start_time": "2023-07-28T03:37:55.018Z"
   },
   {
    "duration": 35,
    "start_time": "2023-07-28T03:37:57.657Z"
   },
   {
    "duration": 7,
    "start_time": "2023-07-28T03:37:57.695Z"
   },
   {
    "duration": 5,
    "start_time": "2023-07-28T03:37:57.704Z"
   },
   {
    "duration": 5,
    "start_time": "2023-07-28T03:37:57.711Z"
   },
   {
    "duration": 5,
    "start_time": "2023-07-28T03:37:57.718Z"
   },
   {
    "duration": 8,
    "start_time": "2023-07-28T03:37:57.725Z"
   },
   {
    "duration": 1360,
    "start_time": "2023-07-28T03:37:57.735Z"
   },
   {
    "duration": 1316649,
    "start_time": "2023-07-28T03:37:59.096Z"
   },
   {
    "duration": 9,
    "start_time": "2023-07-28T03:59:55.747Z"
   },
   {
    "duration": 36,
    "start_time": "2023-07-28T03:59:55.758Z"
   },
   {
    "duration": 28,
    "start_time": "2023-07-28T03:59:55.796Z"
   },
   {
    "duration": 34,
    "start_time": "2023-07-28T03:59:55.826Z"
   },
   {
    "duration": 114,
    "start_time": "2023-07-28T03:59:55.861Z"
   },
   {
    "duration": 3,
    "start_time": "2023-07-28T03:59:55.976Z"
   },
   {
    "duration": 9677216,
    "start_time": "2023-07-28T03:59:55.980Z"
   },
   {
    "duration": 12,
    "start_time": "2023-07-28T06:41:13.201Z"
   },
   {
    "duration": 49,
    "start_time": "2023-07-28T06:41:13.216Z"
   },
   {
    "duration": 5109,
    "start_time": "2023-07-28T06:41:13.268Z"
   },
   {
    "duration": 1683,
    "start_time": "2023-07-28T06:41:18.380Z"
   },
   {
    "duration": 2273,
    "start_time": "2023-07-28T06:42:20.332Z"
   }
  ],
  "kernelspec": {
   "display_name": "Python 3 (ipykernel)",
   "language": "python",
   "name": "python3"
  },
  "language_info": {
   "codemirror_mode": {
    "name": "ipython",
    "version": 3
   },
   "file_extension": ".py",
   "mimetype": "text/x-python",
   "name": "python",
   "nbconvert_exporter": "python",
   "pygments_lexer": "ipython3",
   "version": "3.9.13"
  },
  "toc": {
   "base_numbering": 1,
   "nav_menu": {},
   "number_sections": true,
   "sideBar": true,
   "skip_h1_title": true,
   "title_cell": "Содержание",
   "title_sidebar": "Contents",
   "toc_cell": true,
   "toc_position": {
    "height": "calc(100% - 180px)",
    "left": "10px",
    "top": "150px",
    "width": "302.391px"
   },
   "toc_section_display": true,
   "toc_window_display": false
  }
 },
 "nbformat": 4,
 "nbformat_minor": 2
}

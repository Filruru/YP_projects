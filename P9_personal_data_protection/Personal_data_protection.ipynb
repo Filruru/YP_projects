{
 "cells": [
  {
   "cell_type": "markdown",
   "metadata": {
    "toc": true
   },
   "source": [
    "<h1>Содержание<span class=\"tocSkip\"></span></h1>\n",
    "<div class=\"toc\"><ul class=\"toc-item\"><li><span><a href=\"#Загрузка-данных\" data-toc-modified-id=\"Загрузка-данных-1\"><span class=\"toc-item-num\">1&nbsp;&nbsp;</span>Загрузка данных</a></span></li><li><span><a href=\"#Умножение-матриц\" data-toc-modified-id=\"Умножение-матриц-2\"><span class=\"toc-item-num\">2&nbsp;&nbsp;</span>Умножение матриц</a></span></li><li><span><a href=\"#Алгоритм-преобразования\" data-toc-modified-id=\"Алгоритм-преобразования-3\"><span class=\"toc-item-num\">3&nbsp;&nbsp;</span>Алгоритм преобразования</a></span></li><li><span><a href=\"#Проверка-алгоритма\" data-toc-modified-id=\"Проверка-алгоритма-4\"><span class=\"toc-item-num\">4&nbsp;&nbsp;</span>Проверка алгоритма</a></span></li><li><span><a href=\"#Общий-вывод\" data-toc-modified-id=\"Общий-вывод-5\"><span class=\"toc-item-num\">5&nbsp;&nbsp;</span>Общий вывод</a></span></li><li><span><a href=\"#Чек-лист-проверки\" data-toc-modified-id=\"Чек-лист-проверки-6\"><span class=\"toc-item-num\">6&nbsp;&nbsp;</span>Чек-лист проверки</a></span></li></ul></div>"
   ]
  },
  {
   "cell_type": "markdown",
   "metadata": {},
   "source": [
    "# Защита персональных данных клиентов"
   ]
  },
  {
   "cell_type": "markdown",
   "metadata": {},
   "source": [
    "Вам нужно защитить данные клиентов страховой компании «Хоть потоп». Разработайте такой метод преобразования данных, чтобы по ним было сложно восстановить персональную информацию. Обоснуйте корректность его работы.\n",
    "\n",
    "Нужно защитить данные, чтобы при преобразовании качество моделей машинного обучения не ухудшилось. Подбирать наилучшую модель не требуется."
   ]
  },
  {
   "cell_type": "markdown",
   "metadata": {},
   "source": [
    "## Загрузка данных"
   ]
  },
  {
   "cell_type": "code",
   "execution_count": 1,
   "metadata": {},
   "outputs": [],
   "source": [
    "import numpy as np\n",
    "import pandas as pd\n",
    "from sklearn.model_selection import train_test_split\n",
    "from sklearn.linear_model import LinearRegression\n",
    "from sklearn.metrics import mean_squared_error\n",
    "from sklearn.metrics import r2_score\n",
    "import matplotlib.pyplot as plt\n",
    "import seaborn as sns\n",
    "import warnings\n",
    "warnings.filterwarnings('ignore')"
   ]
  },
  {
   "cell_type": "code",
   "execution_count": 2,
   "metadata": {},
   "outputs": [],
   "source": [
    "df = pd.read_csv(\"/datasets/insurance.csv\")"
   ]
  },
  {
   "cell_type": "code",
   "execution_count": 3,
   "metadata": {},
   "outputs": [
    {
     "data": {
      "text/html": [
       "<div>\n",
       "<style scoped>\n",
       "    .dataframe tbody tr th:only-of-type {\n",
       "        vertical-align: middle;\n",
       "    }\n",
       "\n",
       "    .dataframe tbody tr th {\n",
       "        vertical-align: top;\n",
       "    }\n",
       "\n",
       "    .dataframe thead th {\n",
       "        text-align: right;\n",
       "    }\n",
       "</style>\n",
       "<table border=\"1\" class=\"dataframe\">\n",
       "  <thead>\n",
       "    <tr style=\"text-align: right;\">\n",
       "      <th></th>\n",
       "      <th>Пол</th>\n",
       "      <th>Возраст</th>\n",
       "      <th>Зарплата</th>\n",
       "      <th>Члены семьи</th>\n",
       "      <th>Страховые выплаты</th>\n",
       "    </tr>\n",
       "  </thead>\n",
       "  <tbody>\n",
       "    <tr>\n",
       "      <th>0</th>\n",
       "      <td>1</td>\n",
       "      <td>41.0</td>\n",
       "      <td>49600.0</td>\n",
       "      <td>1</td>\n",
       "      <td>0</td>\n",
       "    </tr>\n",
       "    <tr>\n",
       "      <th>1</th>\n",
       "      <td>0</td>\n",
       "      <td>46.0</td>\n",
       "      <td>38000.0</td>\n",
       "      <td>1</td>\n",
       "      <td>1</td>\n",
       "    </tr>\n",
       "    <tr>\n",
       "      <th>2</th>\n",
       "      <td>0</td>\n",
       "      <td>29.0</td>\n",
       "      <td>21000.0</td>\n",
       "      <td>0</td>\n",
       "      <td>0</td>\n",
       "    </tr>\n",
       "    <tr>\n",
       "      <th>3</th>\n",
       "      <td>0</td>\n",
       "      <td>21.0</td>\n",
       "      <td>41700.0</td>\n",
       "      <td>2</td>\n",
       "      <td>0</td>\n",
       "    </tr>\n",
       "    <tr>\n",
       "      <th>4</th>\n",
       "      <td>1</td>\n",
       "      <td>28.0</td>\n",
       "      <td>26100.0</td>\n",
       "      <td>0</td>\n",
       "      <td>0</td>\n",
       "    </tr>\n",
       "    <tr>\n",
       "      <th>5</th>\n",
       "      <td>1</td>\n",
       "      <td>43.0</td>\n",
       "      <td>41000.0</td>\n",
       "      <td>2</td>\n",
       "      <td>1</td>\n",
       "    </tr>\n",
       "    <tr>\n",
       "      <th>6</th>\n",
       "      <td>1</td>\n",
       "      <td>39.0</td>\n",
       "      <td>39700.0</td>\n",
       "      <td>2</td>\n",
       "      <td>0</td>\n",
       "    </tr>\n",
       "    <tr>\n",
       "      <th>7</th>\n",
       "      <td>1</td>\n",
       "      <td>25.0</td>\n",
       "      <td>38600.0</td>\n",
       "      <td>4</td>\n",
       "      <td>0</td>\n",
       "    </tr>\n",
       "    <tr>\n",
       "      <th>8</th>\n",
       "      <td>1</td>\n",
       "      <td>36.0</td>\n",
       "      <td>49700.0</td>\n",
       "      <td>1</td>\n",
       "      <td>0</td>\n",
       "    </tr>\n",
       "    <tr>\n",
       "      <th>9</th>\n",
       "      <td>1</td>\n",
       "      <td>32.0</td>\n",
       "      <td>51700.0</td>\n",
       "      <td>1</td>\n",
       "      <td>0</td>\n",
       "    </tr>\n",
       "  </tbody>\n",
       "</table>\n",
       "</div>"
      ],
      "text/plain": [
       "   Пол  Возраст  Зарплата  Члены семьи  Страховые выплаты\n",
       "0    1     41.0   49600.0            1                  0\n",
       "1    0     46.0   38000.0            1                  1\n",
       "2    0     29.0   21000.0            0                  0\n",
       "3    0     21.0   41700.0            2                  0\n",
       "4    1     28.0   26100.0            0                  0\n",
       "5    1     43.0   41000.0            2                  1\n",
       "6    1     39.0   39700.0            2                  0\n",
       "7    1     25.0   38600.0            4                  0\n",
       "8    1     36.0   49700.0            1                  0\n",
       "9    1     32.0   51700.0            1                  0"
      ]
     },
     "metadata": {},
     "output_type": "display_data"
    }
   ],
   "source": [
    "display(df.head(10))"
   ]
  },
  {
   "cell_type": "code",
   "execution_count": 4,
   "metadata": {},
   "outputs": [
    {
     "name": "stdout",
     "output_type": "stream",
     "text": [
      "<class 'pandas.core.frame.DataFrame'>\n",
      "RangeIndex: 5000 entries, 0 to 4999\n",
      "Data columns (total 5 columns):\n",
      " #   Column             Non-Null Count  Dtype  \n",
      "---  ------             --------------  -----  \n",
      " 0   Пол                5000 non-null   int64  \n",
      " 1   Возраст            5000 non-null   float64\n",
      " 2   Зарплата           5000 non-null   float64\n",
      " 3   Члены семьи        5000 non-null   int64  \n",
      " 4   Страховые выплаты  5000 non-null   int64  \n",
      "dtypes: float64(2), int64(3)\n",
      "memory usage: 195.4 KB\n"
     ]
    }
   ],
   "source": [
    "df.info()"
   ]
  },
  {
   "cell_type": "code",
   "execution_count": 5,
   "metadata": {},
   "outputs": [
    {
     "data": {
      "text/html": [
       "<div>\n",
       "<style scoped>\n",
       "    .dataframe tbody tr th:only-of-type {\n",
       "        vertical-align: middle;\n",
       "    }\n",
       "\n",
       "    .dataframe tbody tr th {\n",
       "        vertical-align: top;\n",
       "    }\n",
       "\n",
       "    .dataframe thead th {\n",
       "        text-align: right;\n",
       "    }\n",
       "</style>\n",
       "<table border=\"1\" class=\"dataframe\">\n",
       "  <thead>\n",
       "    <tr style=\"text-align: right;\">\n",
       "      <th></th>\n",
       "      <th>Пол</th>\n",
       "      <th>Возраст</th>\n",
       "      <th>Зарплата</th>\n",
       "      <th>Члены семьи</th>\n",
       "      <th>Страховые выплаты</th>\n",
       "    </tr>\n",
       "  </thead>\n",
       "  <tbody>\n",
       "    <tr>\n",
       "      <th>count</th>\n",
       "      <td>5000.000000</td>\n",
       "      <td>5000.000000</td>\n",
       "      <td>5000.000000</td>\n",
       "      <td>5000.000000</td>\n",
       "      <td>5000.000000</td>\n",
       "    </tr>\n",
       "    <tr>\n",
       "      <th>mean</th>\n",
       "      <td>0.499000</td>\n",
       "      <td>30.952800</td>\n",
       "      <td>39916.360000</td>\n",
       "      <td>1.194200</td>\n",
       "      <td>0.148000</td>\n",
       "    </tr>\n",
       "    <tr>\n",
       "      <th>std</th>\n",
       "      <td>0.500049</td>\n",
       "      <td>8.440807</td>\n",
       "      <td>9900.083569</td>\n",
       "      <td>1.091387</td>\n",
       "      <td>0.463183</td>\n",
       "    </tr>\n",
       "    <tr>\n",
       "      <th>min</th>\n",
       "      <td>0.000000</td>\n",
       "      <td>18.000000</td>\n",
       "      <td>5300.000000</td>\n",
       "      <td>0.000000</td>\n",
       "      <td>0.000000</td>\n",
       "    </tr>\n",
       "    <tr>\n",
       "      <th>25%</th>\n",
       "      <td>0.000000</td>\n",
       "      <td>24.000000</td>\n",
       "      <td>33300.000000</td>\n",
       "      <td>0.000000</td>\n",
       "      <td>0.000000</td>\n",
       "    </tr>\n",
       "    <tr>\n",
       "      <th>50%</th>\n",
       "      <td>0.000000</td>\n",
       "      <td>30.000000</td>\n",
       "      <td>40200.000000</td>\n",
       "      <td>1.000000</td>\n",
       "      <td>0.000000</td>\n",
       "    </tr>\n",
       "    <tr>\n",
       "      <th>75%</th>\n",
       "      <td>1.000000</td>\n",
       "      <td>37.000000</td>\n",
       "      <td>46600.000000</td>\n",
       "      <td>2.000000</td>\n",
       "      <td>0.000000</td>\n",
       "    </tr>\n",
       "    <tr>\n",
       "      <th>max</th>\n",
       "      <td>1.000000</td>\n",
       "      <td>65.000000</td>\n",
       "      <td>79000.000000</td>\n",
       "      <td>6.000000</td>\n",
       "      <td>5.000000</td>\n",
       "    </tr>\n",
       "  </tbody>\n",
       "</table>\n",
       "</div>"
      ],
      "text/plain": [
       "               Пол      Возраст      Зарплата  Члены семьи  Страховые выплаты\n",
       "count  5000.000000  5000.000000   5000.000000  5000.000000        5000.000000\n",
       "mean      0.499000    30.952800  39916.360000     1.194200           0.148000\n",
       "std       0.500049     8.440807   9900.083569     1.091387           0.463183\n",
       "min       0.000000    18.000000   5300.000000     0.000000           0.000000\n",
       "25%       0.000000    24.000000  33300.000000     0.000000           0.000000\n",
       "50%       0.000000    30.000000  40200.000000     1.000000           0.000000\n",
       "75%       1.000000    37.000000  46600.000000     2.000000           0.000000\n",
       "max       1.000000    65.000000  79000.000000     6.000000           5.000000"
      ]
     },
     "execution_count": 5,
     "metadata": {},
     "output_type": "execute_result"
    }
   ],
   "source": [
    "df.describe()"
   ]
  },
  {
   "cell_type": "markdown",
   "metadata": {},
   "source": [
    "Приведем типы признаков 'Возраст','Зарплата' к целочисленным."
   ]
  },
  {
   "cell_type": "code",
   "execution_count": 6,
   "metadata": {},
   "outputs": [],
   "source": [
    "df[['Возраст','Зарплата']] = df[['Возраст','Зарплата']].astype(int)"
   ]
  },
  {
   "cell_type": "code",
   "execution_count": 7,
   "metadata": {},
   "outputs": [
    {
     "name": "stdout",
     "output_type": "stream",
     "text": [
      "<class 'pandas.core.frame.DataFrame'>\n",
      "RangeIndex: 5000 entries, 0 to 4999\n",
      "Data columns (total 5 columns):\n",
      " #   Column             Non-Null Count  Dtype\n",
      "---  ------             --------------  -----\n",
      " 0   Пол                5000 non-null   int64\n",
      " 1   Возраст            5000 non-null   int64\n",
      " 2   Зарплата           5000 non-null   int64\n",
      " 3   Члены семьи        5000 non-null   int64\n",
      " 4   Страховые выплаты  5000 non-null   int64\n",
      "dtypes: int64(5)\n",
      "memory usage: 195.4 KB\n"
     ]
    }
   ],
   "source": [
    "df.info()"
   ]
  },
  {
   "cell_type": "code",
   "execution_count": 8,
   "metadata": {
    "scrolled": true
   },
   "outputs": [
    {
     "data": {
      "text/html": [
       "<div>\n",
       "<style scoped>\n",
       "    .dataframe tbody tr th:only-of-type {\n",
       "        vertical-align: middle;\n",
       "    }\n",
       "\n",
       "    .dataframe tbody tr th {\n",
       "        vertical-align: top;\n",
       "    }\n",
       "\n",
       "    .dataframe thead th {\n",
       "        text-align: right;\n",
       "    }\n",
       "</style>\n",
       "<table border=\"1\" class=\"dataframe\">\n",
       "  <thead>\n",
       "    <tr style=\"text-align: right;\">\n",
       "      <th></th>\n",
       "      <th>Пол</th>\n",
       "      <th>Возраст</th>\n",
       "      <th>Зарплата</th>\n",
       "      <th>Члены семьи</th>\n",
       "      <th>Страховые выплаты</th>\n",
       "    </tr>\n",
       "  </thead>\n",
       "  <tbody>\n",
       "    <tr>\n",
       "      <th>0</th>\n",
       "      <td>1</td>\n",
       "      <td>41</td>\n",
       "      <td>49600</td>\n",
       "      <td>1</td>\n",
       "      <td>0</td>\n",
       "    </tr>\n",
       "    <tr>\n",
       "      <th>1</th>\n",
       "      <td>0</td>\n",
       "      <td>46</td>\n",
       "      <td>38000</td>\n",
       "      <td>1</td>\n",
       "      <td>1</td>\n",
       "    </tr>\n",
       "    <tr>\n",
       "      <th>2</th>\n",
       "      <td>0</td>\n",
       "      <td>29</td>\n",
       "      <td>21000</td>\n",
       "      <td>0</td>\n",
       "      <td>0</td>\n",
       "    </tr>\n",
       "    <tr>\n",
       "      <th>3</th>\n",
       "      <td>0</td>\n",
       "      <td>21</td>\n",
       "      <td>41700</td>\n",
       "      <td>2</td>\n",
       "      <td>0</td>\n",
       "    </tr>\n",
       "    <tr>\n",
       "      <th>4</th>\n",
       "      <td>1</td>\n",
       "      <td>28</td>\n",
       "      <td>26100</td>\n",
       "      <td>0</td>\n",
       "      <td>0</td>\n",
       "    </tr>\n",
       "  </tbody>\n",
       "</table>\n",
       "</div>"
      ],
      "text/plain": [
       "   Пол  Возраст  Зарплата  Члены семьи  Страховые выплаты\n",
       "0    1       41     49600            1                  0\n",
       "1    0       46     38000            1                  1\n",
       "2    0       29     21000            0                  0\n",
       "3    0       21     41700            2                  0\n",
       "4    1       28     26100            0                  0"
      ]
     },
     "metadata": {},
     "output_type": "display_data"
    }
   ],
   "source": [
    "display(df.head())"
   ]
  },
  {
   "cell_type": "code",
   "execution_count": 9,
   "metadata": {},
   "outputs": [
    {
     "data": {
      "image/png": "[encoded data removed]",
      "text/plain": [
       "<Figure size 920.9x806.4 with 20 Axes>"
      ]
     },
     "metadata": {
      "needs_background": "light"
     },
     "output_type": "display_data"
    }
   ],
   "source": [
    "sns.pairplot(df,hue = \"Страховые выплаты\", height=2.8, palette='bright')#\n",
    "plt.suptitle(\"Зависимость данных от целевого признака\", y=1.02, fontsize=13)\n",
    "plt.show()"
   ]
  },
  {
   "cell_type": "markdown",
   "metadata": {},
   "source": [
    "Посмотрим визуально, как коррелируют признаки между собой . Видим, что  наиболее целевой признак \"Страховые выплаты\" связан с признаком \"Возраст\". "
   ]
  },
  {
   "cell_type": "code",
   "execution_count": 10,
   "metadata": {},
   "outputs": [],
   "source": [
    "corr = df.corr()"
   ]
  },
  {
   "cell_type": "code",
   "execution_count": 11,
   "metadata": {},
   "outputs": [
    {
     "data": {
      "image/png": "[encoded data removed]",
      "text/plain": [
       "<Figure size 432x288 with 2 Axes>"
      ]
     },
     "metadata": {
      "needs_background": "light"
     },
     "output_type": "display_data"
    }
   ],
   "source": [
    "sns.heatmap(corr,\n",
    "            xticklabels=corr.columns.values,\n",
    "            yticklabels=corr.columns.values,\n",
    "            annot = True, fmt='.1g',cmap= 'coolwarm');"
   ]
  },
  {
   "cell_type": "markdown",
   "metadata": {},
   "source": [
    "Данные загружены и не имеют аномалий. Привели типы признаков 'Возраст','Зарплата' к целочисленным. Корреляция между признаками отсутствует, за исключением признаков \"Страховые выплаты\" и \"Возраст\", которые сильно взаимосвязаны."
   ]
  },
  {
   "cell_type": "markdown",
   "metadata": {},
   "source": [
    "## Умножение матриц"
   ]
  },
  {
   "cell_type": "markdown",
   "metadata": {},
   "source": [
    "В этом проекте нам необходимо решить следующую задачу:\n",
    "\n",
    " - **Как для защиты зашифровать данные, чтобы качество модели машинного обучения при использовании этих данных не изменилось?**\n",
    "\n",
    "Постараемся доказать что, если умножить признаки (матрица Х) на обратимую матрицу (матрица P) и тем самым защифровать данные, качество модели регрессии для предсказаний не изменится."
   ]
  },
  {
   "cell_type": "markdown",
   "metadata": {},
   "source": [
    "**Обозначения:**\n",
    "\n",
    "- $X$ — матрица признаков (нулевой столбец состоит из единиц, сдвиг w0 умножится на этот столбец и формула предсказания примет вид описанный ниже)\n",
    "\n",
    "- $y$ — вектор целевого признака\n",
    "\n",
    "- $P$ — матрица, на которую умножаются признаки\n",
    "\n",
    "- $w$ — вектор весов линейной регрессии (нулевой элемент равен сдвигу)"
   ]
  },
  {
   "cell_type": "markdown",
   "metadata": {},
   "source": [
    "**Предсказания:**\n",
    "\n",
    "$$\n",
    "a = Xw \n",
    "$$ Bектор предсказаний линейной регресии(a) равен произведению матрицы признаков(X) на вектор весов(w) \n",
    "\n",
    "**Задача обучения - найти вектор w и число w0:**\n",
    "\n",
    "$$\n",
    "w = \\arg\\min_w MSE(Xw, y)\n",
    "$$\n",
    "Функция argmin() находит минимум MSE и возвращает, при каком аргументе он был достигнут. \n",
    "\n",
    "**Формула обучения:**\n",
    "\n",
    "Минимальное значение MSE получается, когда веса равны этой величине:\n",
    "\n",
    "$$\n",
    "w = (X^T X)^{-1} X^T y\n",
    "$$\n",
    " - Транспонированная матрица признаков умножается на себя;\n",
    " - Вычисляется обратная к результату матрица;\n",
    " - Обратная умножается на транспонированную матрицу признаков;\n",
    " - Результат умножается на вектор значений целевого признака."
   ]
  },
  {
   "cell_type": "markdown",
   "metadata": {},
   "source": [
    "\n",
    "\n",
    "**Обоснование:** ...\n",
    "\n",
    "$$a' = XPw'$$ , где a' - вектор предсказаний линейной регрессии после умножения на произвольную обратимую матрицу P\n",
    "\n",
    "$$ w' =  ((XP)^T (XP))^{-1} (XP)^T y$$  \n",
    "\n",
    "$$a' = XP((XP)^T) (XP))^{-1} (XP)^T y $$\n",
    "\n",
    "Упроситим формулу используя принцип ассоциативности $$(A(BC) = (AB)C)$$ и факт того, что транспонированное произведение матриц равно произведению транспонированных матриц взятых в обратном порядке $$(AB)^T=B^TA^T$$\n",
    "так же помним что $$PP^{-1} = E$$, где E - единичная матрица и умножение на нее ничего не меняет $$AE=EA=A$$.\n",
    "\n",
    "Формула вектора предсказаний после умножения матрицы признаков на обратимую матрицу будет выгдядеть следующим образом:\n",
    "$$a' = XPP^{-1}X^{-1}(P^TX^T)^{-1}P^TX^Ty = XEX^{-1}(X^T)^{-1}(P^T)^{-1}P^TX^Ty = XX^{-1}(X^T)^{-1}EX^Ty$$\n",
    "\n",
    "$$a' =  XX^{-1}(X^T)^{-1}X^Ty = X(X^TX)^{-1}X^Ty = Xw =a$$\n",
    "\n",
    "В итоге мы видим, что **изменение качества предсказания линейной регрессии не происходит при умножении признаков исходных данных, на обратимую матрицу**, т.к. параметры линейной регрессии в исходной задаче и в преобразованной связаны между собой алгоритмом преобразования признаков, по результату работы которого предсказание вычисляется методом умножения признаков исходных данных на вектор по длине равный ширине таблицы признаков, который в свою очередь умножается на целевые признаки. По результату скалярного умножения создаётся число, на которое умножается тестовая выборка, и если эта выборка была преобразована умножением на ту же матрицу, то качество предсказания не изменится.\n",
    "\n",
    "Таким образом, если изменить исходные данные методом умножения признаков на обратимую матрицу, не изменяя значений целевого признака, качество предсказания модели не изменится. \n",
    "\n",
    "Теперь можно уверенно применить этот принцип на практике\n"
   ]
  },
  {
   "cell_type": "markdown",
   "metadata": {},
   "source": [
    "## Алгоритм преобразования"
   ]
  },
  {
   "cell_type": "markdown",
   "metadata": {},
   "source": [
    "**Алгоритм**"
   ]
  },
  {
   "cell_type": "markdown",
   "metadata": {},
   "source": [
    "Для защиты информации на этапе поиска коэффициентов регрессии и предсказаний регрессии будем умножать матрицу признаков на обратимую матрицу, которая будет генерироваться случайным образом.\n",
    "\n",
    "Этапы алгоритма:\n",
    "\n",
    "- Составляем произвольную матрицу \n",
    "\n",
    "- Проверяем матрицу на обратимость.\n",
    "\n",
    "- Получаем матрицу преобразованных признаков умножением исходной матрицы на обратимую \n",
    "\n",
    "- Ищем метрики качества модели линейной регрессии из библиотеки sklearn и  на исходных данных и на преобразованных\n",
    "\n",
    "- Описываем вывод полученных результатов"
   ]
  },
  {
   "cell_type": "markdown",
   "metadata": {},
   "source": [
    "**Обоснование**\n",
    "\n",
    "Eсли мы произведём умножение признаков тренировочной и тестовой выборок на одну и ту же обратимую матрицу, то результатом предсказания будет произведение нашей изменённой таблицы с признаками на вектор, который был получен из той же таблицы с изменёнными данными увеличенную на ту же величину, что и признаки тренировочных данных. "
   ]
  },
  {
   "cell_type": "markdown",
   "metadata": {},
   "source": [
    "## Проверка алгоритма"
   ]
  },
  {
   "cell_type": "markdown",
   "metadata": {},
   "source": [
    "Выделяем в отдельные датафреймы признаки и целевой признак исходных данных"
   ]
  },
  {
   "cell_type": "code",
   "execution_count": 12,
   "metadata": {},
   "outputs": [],
   "source": [
    "features=df.drop(['Страховые выплаты'],axis=1)\n",
    "target=df['Страховые выплаты']"
   ]
  },
  {
   "cell_type": "markdown",
   "metadata": {},
   "source": [
    "Делим исходный датасет на тренировочную и тестовую выбоки в соотношении 75%/25%"
   ]
  },
  {
   "cell_type": "code",
   "execution_count": 13,
   "metadata": {},
   "outputs": [
    {
     "name": "stdout",
     "output_type": "stream",
     "text": [
      "Выборка train- 75%\n",
      "Выборка test- 25%\n"
     ]
    },
    {
     "data": {
      "text/plain": [
       "Index(['Пол', 'Возраст', 'Зарплата', 'Члены семьи'], dtype='object')"
      ]
     },
     "execution_count": 13,
     "metadata": {},
     "output_type": "execute_result"
    }
   ],
   "source": [
    "features_train, features_test, target_train, target_test = train_test_split(\n",
    "    features, target, test_size=0.25, random_state=12345)\n",
    "\n",
    "print('Выборка train- {:.0%}'.format(features_train.shape[0]/features.shape[0]))\n",
    "print('Выборка test- {:.0%}'.format(features_test.shape[0]/features.shape[0]))\n",
    "\n",
    "features_train.columns[:]"
   ]
  },
  {
   "cell_type": "code",
   "execution_count": 14,
   "metadata": {},
   "outputs": [
    {
     "name": "stdout",
     "output_type": "stream",
     "text": [
      "R2_score: 0.44\n",
      "MSE: 0.12\n"
     ]
    }
   ],
   "source": [
    "model = LinearRegression()\n",
    "model.fit(features_train, target_train)\n",
    "predict = model.predict(features_test)\n",
    "\n",
    "\n",
    "R2_score = r2_score(target_test,predict)\n",
    "MSE = mean_squared_error(predict,target_test)\n",
    "\n",
    "print(\"R2_score:\", R2_score.round(2))\n",
    "print(\"MSE:\", MSE.round(2))"
   ]
  },
  {
   "cell_type": "markdown",
   "metadata": {},
   "source": [
    "Создаю произвольную матрицу P размерностью n*n \n",
    ", где n - количество признаков для регрессии.Таким образом матрица после умножения \n",
    " будет иметь туже размерность, что и матрица до умножения."
   ]
  },
  {
   "cell_type": "code",
   "execution_count": 15,
   "metadata": {},
   "outputs": [
    {
     "name": "stdout",
     "output_type": "stream",
     "text": [
      "[[-0.23458842  1.49488794 -1.52158754  0.75843779]\n",
      " [-2.04072225  0.70168173 -1.34430462  1.44411468]\n",
      " [ 0.83083521  1.07692371 -0.24525949  0.06052558]\n",
      " [ 0.7808141   0.48853612 -0.02670159 -0.38377128]]\n"
     ]
    }
   ],
   "source": [
    "P=np.random.normal(size=(4,4))\n",
    "print(P)"
   ]
  },
  {
   "cell_type": "markdown",
   "metadata": {},
   "source": [
    "Проверяю созданную матрицу на обратимость с помощью np.linalg.inv() в Python — это библиотечная функция numpy, которая вычисляет обратную (мультипликативную) матрицу. "
   ]
  },
  {
   "cell_type": "code",
   "execution_count": 16,
   "metadata": {},
   "outputs": [
    {
     "name": "stdout",
     "output_type": "stream",
     "text": [
      "[[ 1.48372919 -1.72690436  0.63766912 -3.46544004]\n",
      " [-1.6571822   1.68741895  0.68563192  3.1827685 ]\n",
      " [-1.99179622  1.20175643  1.60148403  0.83839348]\n",
      " [ 1.04777882 -1.44907915  2.05876485 -5.66314778]]\n"
     ]
    }
   ],
   "source": [
    "P0=np.linalg.inv(P)\n",
    "print(P0)"
   ]
  },
  {
   "cell_type": "markdown",
   "metadata": {},
   "source": [
    "Обратная сформированная матрица, дает единичную матрицу при умножении на исходную матрицу."
   ]
  },
  {
   "cell_type": "code",
   "execution_count": 17,
   "metadata": {},
   "outputs": [
    {
     "name": "stdout",
     "output_type": "stream",
     "text": [
      "[[ 1.00000000e+00  1.01264993e-16  1.79415736e-16  6.92281286e-17]\n",
      " [-9.52003725e-17  1.00000000e+00  5.06809170e-16 -3.92322273e-17]\n",
      " [-2.08322448e-16 -1.23874552e-16  1.00000000e+00  1.32721809e-16]\n",
      " [-3.50477654e-16  5.29287977e-16 -2.51989545e-16  1.00000000e+00]]\n"
     ]
    }
   ],
   "source": [
    "print(P0.dot(P))"
   ]
  },
  {
   "cell_type": "markdown",
   "metadata": {},
   "source": [
    "Умножаю выборку train на обратную матрицу"
   ]
  },
  {
   "cell_type": "code",
   "execution_count": 18,
   "metadata": {},
   "outputs": [
    {
     "data": {
      "text/html": [
       "<div>\n",
       "<style scoped>\n",
       "    .dataframe tbody tr th:only-of-type {\n",
       "        vertical-align: middle;\n",
       "    }\n",
       "\n",
       "    .dataframe tbody tr th {\n",
       "        vertical-align: top;\n",
       "    }\n",
       "\n",
       "    .dataframe thead th {\n",
       "        text-align: right;\n",
       "    }\n",
       "</style>\n",
       "<table border=\"1\" class=\"dataframe\">\n",
       "  <thead>\n",
       "    <tr style=\"text-align: right;\">\n",
       "      <th></th>\n",
       "      <th>Пол</th>\n",
       "      <th>Возраст</th>\n",
       "      <th>Зарплата</th>\n",
       "      <th>Члены семьи</th>\n",
       "    </tr>\n",
       "  </thead>\n",
       "  <tbody>\n",
       "    <tr>\n",
       "      <th>3369</th>\n",
       "      <td>29989.029624</td>\n",
       "      <td>39016.793970</td>\n",
       "      <td>-8937.747001</td>\n",
       "      <td>2253.497638</td>\n",
       "    </tr>\n",
       "    <tr>\n",
       "      <th>1441</th>\n",
       "      <td>47786.488717</td>\n",
       "      <td>62056.157650</td>\n",
       "      <td>-14174.174688</td>\n",
       "      <td>3536.131815</td>\n",
       "    </tr>\n",
       "    <tr>\n",
       "      <th>571</th>\n",
       "      <td>34082.804666</td>\n",
       "      <td>44284.506752</td>\n",
       "      <td>-10123.209574</td>\n",
       "      <td>2533.429287</td>\n",
       "    </tr>\n",
       "    <tr>\n",
       "      <th>225</th>\n",
       "      <td>37397.982601</td>\n",
       "      <td>48595.008311</td>\n",
       "      <td>-11109.624760</td>\n",
       "      <td>2781.308070</td>\n",
       "    </tr>\n",
       "    <tr>\n",
       "      <th>2558</th>\n",
       "      <td>41974.479215</td>\n",
       "      <td>54516.472197</td>\n",
       "      <td>-12454.545754</td>\n",
       "      <td>3109.482652</td>\n",
       "    </tr>\n",
       "    <tr>\n",
       "      <th>...</th>\n",
       "      <td>...</td>\n",
       "      <td>...</td>\n",
       "      <td>...</td>\n",
       "      <td>...</td>\n",
       "    </tr>\n",
       "    <tr>\n",
       "      <th>3497</th>\n",
       "      <td>26584.099776</td>\n",
       "      <td>34598.721661</td>\n",
       "      <td>-7929.290489</td>\n",
       "      <td>2003.523974</td>\n",
       "    </tr>\n",
       "    <tr>\n",
       "      <th>3492</th>\n",
       "      <td>18805.942208</td>\n",
       "      <td>24467.769406</td>\n",
       "      <td>-5605.137806</td>\n",
       "      <td>1412.830820</td>\n",
       "    </tr>\n",
       "    <tr>\n",
       "      <th>2177</th>\n",
       "      <td>37055.210319</td>\n",
       "      <td>48169.242125</td>\n",
       "      <td>-11019.764074</td>\n",
       "      <td>2765.076849</td>\n",
       "    </tr>\n",
       "    <tr>\n",
       "      <th>3557</th>\n",
       "      <td>41583.071184</td>\n",
       "      <td>53971.268916</td>\n",
       "      <td>-12317.182061</td>\n",
       "      <td>3062.567057</td>\n",
       "    </tr>\n",
       "    <tr>\n",
       "      <th>4578</th>\n",
       "      <td>33859.302680</td>\n",
       "      <td>43951.819241</td>\n",
       "      <td>-10032.129064</td>\n",
       "      <td>2496.881893</td>\n",
       "    </tr>\n",
       "  </tbody>\n",
       "</table>\n",
       "<p>3750 rows × 4 columns</p>\n",
       "</div>"
      ],
      "text/plain": [
       "               Пол       Возраст      Зарплата  Члены семьи\n",
       "3369  29989.029624  39016.793970  -8937.747001  2253.497638\n",
       "1441  47786.488717  62056.157650 -14174.174688  3536.131815\n",
       "571   34082.804666  44284.506752 -10123.209574  2533.429287\n",
       "225   37397.982601  48595.008311 -11109.624760  2781.308070\n",
       "2558  41974.479215  54516.472197 -12454.545754  3109.482652\n",
       "...            ...           ...           ...          ...\n",
       "3497  26584.099776  34598.721661  -7929.290489  2003.523974\n",
       "3492  18805.942208  24467.769406  -5605.137806  1412.830820\n",
       "2177  37055.210319  48169.242125 -11019.764074  2765.076849\n",
       "3557  41583.071184  53971.268916 -12317.182061  3062.567057\n",
       "4578  33859.302680  43951.819241 -10032.129064  2496.881893\n",
       "\n",
       "[3750 rows x 4 columns]"
      ]
     },
     "execution_count": 18,
     "metadata": {},
     "output_type": "execute_result"
    }
   ],
   "source": [
    "features_train_P = features_train.dot(P)\n",
    "features_train_P.columns = features_train.columns \n",
    "features_train_P"
   ]
  },
  {
   "cell_type": "markdown",
   "metadata": {},
   "source": [
    "Умножаю выборку test на обратную матрицу"
   ]
  },
  {
   "cell_type": "code",
   "execution_count": 19,
   "metadata": {},
   "outputs": [
    {
     "data": {
      "text/html": [
       "<div>\n",
       "<style scoped>\n",
       "    .dataframe tbody tr th:only-of-type {\n",
       "        vertical-align: middle;\n",
       "    }\n",
       "\n",
       "    .dataframe tbody tr th {\n",
       "        vertical-align: top;\n",
       "    }\n",
       "\n",
       "    .dataframe thead th {\n",
       "        text-align: right;\n",
       "    }\n",
       "</style>\n",
       "<table border=\"1\" class=\"dataframe\">\n",
       "  <thead>\n",
       "    <tr style=\"text-align: right;\">\n",
       "      <th></th>\n",
       "      <th>Пол</th>\n",
       "      <th>Возраст</th>\n",
       "      <th>Зарплата</th>\n",
       "      <th>Члены семьи</th>\n",
       "    </tr>\n",
       "  </thead>\n",
       "  <tbody>\n",
       "    <tr>\n",
       "      <th>3183</th>\n",
       "      <td>32338.352454</td>\n",
       "      <td>42025.134255</td>\n",
       "      <td>-9609.589050</td>\n",
       "      <td>2406.618367</td>\n",
       "    </tr>\n",
       "    <tr>\n",
       "      <th>1071</th>\n",
       "      <td>35708.522892</td>\n",
       "      <td>46451.472976</td>\n",
       "      <td>-10637.952742</td>\n",
       "      <td>2680.090742</td>\n",
       "    </tr>\n",
       "    <tr>\n",
       "      <th>2640</th>\n",
       "      <td>34898.339414</td>\n",
       "      <td>45367.348584</td>\n",
       "      <td>-10379.374084</td>\n",
       "      <td>2605.205880</td>\n",
       "    </tr>\n",
       "    <tr>\n",
       "      <th>2282</th>\n",
       "      <td>28872.250722</td>\n",
       "      <td>37490.978675</td>\n",
       "      <td>-8561.916416</td>\n",
       "      <td>2135.172520</td>\n",
       "    </tr>\n",
       "    <tr>\n",
       "      <th>1595</th>\n",
       "      <td>33152.861882</td>\n",
       "      <td>43107.671417</td>\n",
       "      <td>-9865.602979</td>\n",
       "      <td>2478.696866</td>\n",
       "    </tr>\n",
       "    <tr>\n",
       "      <th>...</th>\n",
       "      <td>...</td>\n",
       "      <td>...</td>\n",
       "      <td>...</td>\n",
       "      <td>...</td>\n",
       "    </tr>\n",
       "    <tr>\n",
       "      <th>982</th>\n",
       "      <td>23991.471177</td>\n",
       "      <td>31269.045262</td>\n",
       "      <td>-7182.659796</td>\n",
       "      <td>1828.882599</td>\n",
       "    </tr>\n",
       "    <tr>\n",
       "      <th>3820</th>\n",
       "      <td>48040.122444</td>\n",
       "      <td>62379.998689</td>\n",
       "      <td>-14246.488336</td>\n",
       "      <td>3551.694061</td>\n",
       "    </tr>\n",
       "    <tr>\n",
       "      <th>3595</th>\n",
       "      <td>35072.669344</td>\n",
       "      <td>45579.926599</td>\n",
       "      <td>-10423.048764</td>\n",
       "      <td>2611.534537</td>\n",
       "    </tr>\n",
       "    <tr>\n",
       "      <th>3513</th>\n",
       "      <td>34239.793416</td>\n",
       "      <td>44503.704573</td>\n",
       "      <td>-10179.133576</td>\n",
       "      <td>2552.453071</td>\n",
       "    </tr>\n",
       "    <tr>\n",
       "      <th>1205</th>\n",
       "      <td>25739.760329</td>\n",
       "      <td>33527.198261</td>\n",
       "      <td>-7693.467831</td>\n",
       "      <td>1952.723424</td>\n",
       "    </tr>\n",
       "  </tbody>\n",
       "</table>\n",
       "<p>1250 rows × 4 columns</p>\n",
       "</div>"
      ],
      "text/plain": [
       "               Пол       Возраст      Зарплата  Члены семьи\n",
       "3183  32338.352454  42025.134255  -9609.589050  2406.618367\n",
       "1071  35708.522892  46451.472976 -10637.952742  2680.090742\n",
       "2640  34898.339414  45367.348584 -10379.374084  2605.205880\n",
       "2282  28872.250722  37490.978675  -8561.916416  2135.172520\n",
       "1595  33152.861882  43107.671417  -9865.602979  2478.696866\n",
       "...            ...           ...           ...          ...\n",
       "982   23991.471177  31269.045262  -7182.659796  1828.882599\n",
       "3820  48040.122444  62379.998689 -14246.488336  3551.694061\n",
       "3595  35072.669344  45579.926599 -10423.048764  2611.534537\n",
       "3513  34239.793416  44503.704573 -10179.133576  2552.453071\n",
       "1205  25739.760329  33527.198261  -7693.467831  1952.723424\n",
       "\n",
       "[1250 rows x 4 columns]"
      ]
     },
     "execution_count": 19,
     "metadata": {},
     "output_type": "execute_result"
    }
   ],
   "source": [
    "features_test_P = features_test.dot(P)\n",
    "features_test_P.columns = features_test.columns \n",
    "features_test_P"
   ]
  },
  {
   "cell_type": "markdown",
   "metadata": {},
   "source": [
    "Обучаем модель и предсказываем целевой признак на защифрованных с помощью умножения входных данных на обратную матрицу."
   ]
  },
  {
   "cell_type": "code",
   "execution_count": 20,
   "metadata": {},
   "outputs": [
    {
     "name": "stdout",
     "output_type": "stream",
     "text": [
      "R2_score: 0.44\n",
      "MSE: 0.12\n"
     ]
    }
   ],
   "source": [
    "model = LinearRegression()\n",
    "model.fit(features_train_P, target_train)\n",
    "predict_P = model.predict(features_test_P)\n",
    "\n",
    "\n",
    "R2_score_P = r2_score(target_test,predict_P)\n",
    "MSE_P = mean_squared_error(predict_P,target_test)\n",
    "\n",
    "print(\"R2_score:\", R2_score_P.round(2))\n",
    "print(\"MSE:\", MSE_P.round(2))"
   ]
  },
  {
   "cell_type": "markdown",
   "metadata": {},
   "source": [
    "**ВЫВОД:** Модель ведет себя одинаково как на исходных данных, так и на зашифрованных.\n",
    "Метрики качества модели до шифровки данных и после не изменились: R2_score: 0.44\n",
    "MSE: 0.12. Визуально посмотрим как графически выглядит линейная регрессия в обеих случаях."
   ]
  },
  {
   "cell_type": "code",
   "execution_count": 21,
   "metadata": {},
   "outputs": [
    {
     "data": {
      "image/png": "[encoded data removed]",
      "text/plain": [
       "<Figure size 720x360 with 2 Axes>"
      ]
     },
     "metadata": {
      "needs_background": "light"
     },
     "output_type": "display_data"
    }
   ],
   "source": [
    "fig, axes = plt.subplots(1, 2, sharex=True, sharey=True, figsize=(10, 5))\n",
    "fig.suptitle('График сравнения предсказаний модели линейной регрессии для страховых выплат') \n",
    "\n",
    "axes[0].set_title('Модель c базовыми признаками')\n",
    "axes[0].set_ylabel('Предсказанные значения')\n",
    "sns.regplot(target_test,predict, ax = axes[0],color='b')\n",
    "axes[0].set_xlabel('Истинные значения')\n",
    "\n",
    "axes[1].set_title('Модель c зашифрованными признаками')\n",
    "axes[1].set_ylabel('Предсказанные значения')\n",
    "sns.regplot(target_test,predict_P,ax = axes[1],color='r')\n",
    "axes[1].set_xlabel('Истинные значения');"
   ]
  },
  {
   "cell_type": "markdown",
   "metadata": {},
   "source": [
    "## Общий вывод"
   ]
  },
  {
   "cell_type": "markdown",
   "metadata": {},
   "source": [
    "В результате данной работы произведены следующие действия:\n",
    "\n",
    "- Разработан алгоритм с целью защитить данные клиентов страховой компании.\n",
    "- Исходные данные были зашифрованы методом умножения признаков исходных данных на обратимую матрицу, так как предварительно были проведены математический расчеты и доказано, что качество модели машинного обучения при этом не пострадает.\n",
    "- В результате исходная и изменённая шифрованием матрица признаков была использована в модели машинного обучения Линейная регрессия. По результатам предсказаний модели в обоих случаях качество предсказаний не изменилось, что подтверждает правильность использования данного метода."
   ]
  }
 ],
 "metadata": {
  "ExecuteTimeLog": [
   {
    "duration": 379,
    "start_time": "2023-06-12T10:20:20.073Z"
   },
   {
    "duration": 74,
    "start_time": "2023-06-12T10:20:21.986Z"
   },
   {
    "duration": 18,
    "start_time": "2023-06-12T10:20:23.775Z"
   },
   {
    "duration": 23,
    "start_time": "2023-06-12T10:20:53.716Z"
   },
   {
    "duration": 11,
    "start_time": "2023-06-12T10:21:10.829Z"
   },
   {
    "duration": 76,
    "start_time": "2023-06-13T09:47:05.658Z"
   },
   {
    "duration": 476,
    "start_time": "2023-06-13T09:47:14.655Z"
   },
   {
    "duration": 143,
    "start_time": "2023-06-13T09:47:16.350Z"
   },
   {
    "duration": 24,
    "start_time": "2023-06-13T09:47:18.191Z"
   },
   {
    "duration": 29,
    "start_time": "2023-06-13T09:47:19.844Z"
   },
   {
    "duration": 30,
    "start_time": "2023-06-13T09:47:21.652Z"
   },
   {
    "duration": 6,
    "start_time": "2023-06-13T09:47:23.486Z"
   },
   {
    "duration": 23,
    "start_time": "2023-06-13T09:47:58.255Z"
   },
   {
    "duration": 32,
    "start_time": "2023-06-13T09:49:59.518Z"
   },
   {
    "duration": 10,
    "start_time": "2023-06-13T09:51:02.954Z"
   },
   {
    "duration": 12,
    "start_time": "2023-06-13T09:51:04.490Z"
   },
   {
    "duration": 14,
    "start_time": "2023-06-13T09:51:27.042Z"
   },
   {
    "duration": 14,
    "start_time": "2023-06-13T09:51:30.094Z"
   },
   {
    "duration": 543,
    "start_time": "2023-06-13T09:51:54.226Z"
   },
   {
    "duration": 37,
    "start_time": "2023-06-13T09:51:54.778Z"
   },
   {
    "duration": 54,
    "start_time": "2023-06-13T09:51:54.818Z"
   },
   {
    "duration": 22,
    "start_time": "2023-06-13T09:51:54.876Z"
   },
   {
    "duration": 38,
    "start_time": "2023-06-13T09:51:54.900Z"
   },
   {
    "duration": 9,
    "start_time": "2023-06-13T09:51:54.940Z"
   },
   {
    "duration": 38,
    "start_time": "2023-06-13T09:51:54.951Z"
   },
   {
    "duration": 98,
    "start_time": "2023-06-13T09:52:24.512Z"
   },
   {
    "duration": 137,
    "start_time": "2023-06-13T09:52:52.202Z"
   },
   {
    "duration": 108,
    "start_time": "2023-06-13T09:53:32.322Z"
   },
   {
    "duration": 7,
    "start_time": "2023-06-13T09:54:00.602Z"
   },
   {
    "duration": 111,
    "start_time": "2023-06-13T09:54:08.074Z"
   },
   {
    "duration": 11,
    "start_time": "2023-06-13T09:54:16.969Z"
   },
   {
    "duration": 7,
    "start_time": "2023-06-13T09:57:42.875Z"
   },
   {
    "duration": 28,
    "start_time": "2023-06-13T09:57:44.550Z"
   },
   {
    "duration": 539,
    "start_time": "2023-06-13T09:58:03.421Z"
   },
   {
    "duration": 33,
    "start_time": "2023-06-13T09:58:03.969Z"
   },
   {
    "duration": 19,
    "start_time": "2023-06-13T09:58:04.004Z"
   },
   {
    "duration": 50,
    "start_time": "2023-06-13T09:58:04.032Z"
   },
   {
    "duration": 51,
    "start_time": "2023-06-13T09:58:04.085Z"
   },
   {
    "duration": 23,
    "start_time": "2023-06-13T09:58:04.138Z"
   },
   {
    "duration": 8,
    "start_time": "2023-06-13T09:58:04.166Z"
   },
   {
    "duration": 21,
    "start_time": "2023-06-13T09:58:04.176Z"
   },
   {
    "duration": 512,
    "start_time": "2023-06-13T10:01:54.116Z"
   },
   {
    "duration": 43,
    "start_time": "2023-06-13T10:01:54.633Z"
   },
   {
    "duration": 23,
    "start_time": "2023-06-13T10:01:54.679Z"
   },
   {
    "duration": 16,
    "start_time": "2023-06-13T10:01:54.704Z"
   },
   {
    "duration": 52,
    "start_time": "2023-06-13T10:01:54.721Z"
   },
   {
    "duration": 3,
    "start_time": "2023-06-13T10:01:54.777Z"
   },
   {
    "duration": 26,
    "start_time": "2023-06-13T10:01:54.782Z"
   },
   {
    "duration": 96,
    "start_time": "2023-06-13T10:01:54.810Z"
   },
   {
    "duration": 116,
    "start_time": "2023-06-13T10:03:23.258Z"
   },
   {
    "duration": 8,
    "start_time": "2023-06-13T10:03:36.001Z"
   },
   {
    "duration": 15,
    "start_time": "2023-06-13T10:03:39.675Z"
   },
   {
    "duration": 14,
    "start_time": "2023-06-13T10:04:11.854Z"
   },
   {
    "duration": 19,
    "start_time": "2023-06-13T10:04:13.239Z"
   },
   {
    "duration": 15,
    "start_time": "2023-06-13T10:04:35.137Z"
   },
   {
    "duration": 1314,
    "start_time": "2023-06-13T10:05:43.392Z"
   },
   {
    "duration": 8,
    "start_time": "2023-06-13T10:06:10.769Z"
   },
   {
    "duration": 12,
    "start_time": "2023-06-13T10:06:14.283Z"
   },
   {
    "duration": 3,
    "start_time": "2023-06-13T10:08:19.366Z"
   },
   {
    "duration": 14,
    "start_time": "2023-06-13T10:08:21.397Z"
   },
   {
    "duration": 4,
    "start_time": "2023-06-13T10:08:48.560Z"
   },
   {
    "duration": 16,
    "start_time": "2023-06-13T10:08:50.362Z"
   },
   {
    "duration": 14,
    "start_time": "2023-06-13T10:08:52.454Z"
   },
   {
    "duration": 7,
    "start_time": "2023-06-13T10:09:42.211Z"
   },
   {
    "duration": 466,
    "start_time": "2023-06-13T10:09:49.796Z"
   },
   {
    "duration": 36,
    "start_time": "2023-06-13T10:09:50.272Z"
   },
   {
    "duration": 23,
    "start_time": "2023-06-13T10:09:50.310Z"
   },
   {
    "duration": 33,
    "start_time": "2023-06-13T10:09:50.336Z"
   },
   {
    "duration": 35,
    "start_time": "2023-06-13T10:09:50.372Z"
   },
   {
    "duration": 3,
    "start_time": "2023-06-13T10:09:50.409Z"
   },
   {
    "duration": 15,
    "start_time": "2023-06-13T10:09:50.414Z"
   },
   {
    "duration": 17,
    "start_time": "2023-06-13T10:09:50.431Z"
   },
   {
    "duration": 18,
    "start_time": "2023-06-13T10:09:50.450Z"
   },
   {
    "duration": 1124,
    "start_time": "2023-06-15T10:03:08.879Z"
   },
   {
    "duration": 96,
    "start_time": "2023-06-15T10:03:10.005Z"
   },
   {
    "duration": 17,
    "start_time": "2023-06-15T10:03:10.103Z"
   },
   {
    "duration": 13,
    "start_time": "2023-06-15T10:03:10.122Z"
   },
   {
    "duration": 29,
    "start_time": "2023-06-15T10:03:10.136Z"
   },
   {
    "duration": 5,
    "start_time": "2023-06-15T10:03:10.167Z"
   },
   {
    "duration": 11,
    "start_time": "2023-06-15T10:03:10.173Z"
   },
   {
    "duration": 8,
    "start_time": "2023-06-15T10:03:10.186Z"
   },
   {
    "duration": 113,
    "start_time": "2023-06-15T10:03:10.196Z"
   },
   {
    "duration": 0,
    "start_time": "2023-06-15T10:03:10.310Z"
   },
   {
    "duration": 5,
    "start_time": "2023-06-15T10:03:29.929Z"
   },
   {
    "duration": 14,
    "start_time": "2023-06-15T10:03:32.507Z"
   },
   {
    "duration": 7,
    "start_time": "2023-06-15T10:04:06.676Z"
   },
   {
    "duration": 59,
    "start_time": "2023-06-15T10:17:50.560Z"
   },
   {
    "duration": 12,
    "start_time": "2023-06-15T10:18:03.786Z"
   },
   {
    "duration": 14,
    "start_time": "2023-06-15T10:22:03.816Z"
   },
   {
    "duration": 18,
    "start_time": "2023-06-15T10:22:18.915Z"
   },
   {
    "duration": 21,
    "start_time": "2023-06-15T10:22:40.873Z"
   },
   {
    "duration": 10,
    "start_time": "2023-06-15T10:23:06.596Z"
   },
   {
    "duration": 14,
    "start_time": "2023-06-15T10:23:39.114Z"
   },
   {
    "duration": 71,
    "start_time": "2023-06-15T10:23:45.295Z"
   },
   {
    "duration": 14,
    "start_time": "2023-06-15T10:24:08.294Z"
   },
   {
    "duration": 9,
    "start_time": "2023-06-15T10:24:33.313Z"
   },
   {
    "duration": 92,
    "start_time": "2023-06-15T10:24:51.475Z"
   },
   {
    "duration": 15,
    "start_time": "2023-06-15T10:25:03.274Z"
   },
   {
    "duration": 9,
    "start_time": "2023-06-15T10:25:15.834Z"
   },
   {
    "duration": 77,
    "start_time": "2023-06-15T10:31:08.694Z"
   },
   {
    "duration": 5,
    "start_time": "2023-06-15T10:32:10.666Z"
   },
   {
    "duration": 6,
    "start_time": "2023-06-15T10:32:30.864Z"
   },
   {
    "duration": 4,
    "start_time": "2023-06-15T10:34:15.523Z"
   },
   {
    "duration": 6,
    "start_time": "2023-06-15T10:37:47.104Z"
   },
   {
    "duration": 14,
    "start_time": "2023-06-15T10:44:03.855Z"
   },
   {
    "duration": 4,
    "start_time": "2023-06-15T10:44:08.946Z"
   },
   {
    "duration": 6,
    "start_time": "2023-06-15T10:44:14.443Z"
   },
   {
    "duration": 5,
    "start_time": "2023-06-15T10:44:16.685Z"
   },
   {
    "duration": 3,
    "start_time": "2023-06-15T10:44:19.515Z"
   },
   {
    "duration": 6,
    "start_time": "2023-06-15T10:44:39.675Z"
   },
   {
    "duration": 10,
    "start_time": "2023-06-15T10:45:06.076Z"
   },
   {
    "duration": 4,
    "start_time": "2023-06-15T10:46:03.670Z"
   },
   {
    "duration": 5,
    "start_time": "2023-06-15T10:46:40.317Z"
   },
   {
    "duration": 4,
    "start_time": "2023-06-15T10:46:52.945Z"
   },
   {
    "duration": 5,
    "start_time": "2023-06-15T10:47:10.148Z"
   },
   {
    "duration": 3,
    "start_time": "2023-06-15T10:51:14.532Z"
   },
   {
    "duration": 12,
    "start_time": "2023-06-15T10:51:24.832Z"
   },
   {
    "duration": 14,
    "start_time": "2023-06-15T11:19:46.771Z"
   },
   {
    "duration": 11,
    "start_time": "2023-06-15T11:21:50.154Z"
   },
   {
    "duration": 11,
    "start_time": "2023-06-15T11:24:20.192Z"
   },
   {
    "duration": 11,
    "start_time": "2023-06-15T11:25:05.885Z"
   },
   {
    "duration": 607,
    "start_time": "2023-06-15T11:33:51.828Z"
   },
   {
    "duration": 9808,
    "start_time": "2023-06-15T11:39:33.981Z"
   },
   {
    "duration": 33,
    "start_time": "2023-06-15T11:40:42.437Z"
   },
   {
    "duration": 1330,
    "start_time": "2023-06-16T13:26:29.710Z"
   },
   {
    "duration": 94,
    "start_time": "2023-06-16T13:26:31.043Z"
   },
   {
    "duration": 30,
    "start_time": "2023-06-16T13:26:31.140Z"
   },
   {
    "duration": 34,
    "start_time": "2023-06-16T13:26:31.172Z"
   },
   {
    "duration": 78,
    "start_time": "2023-06-16T13:26:31.208Z"
   },
   {
    "duration": 13,
    "start_time": "2023-06-16T13:26:31.288Z"
   },
   {
    "duration": 49,
    "start_time": "2023-06-16T13:26:31.304Z"
   },
   {
    "duration": 71,
    "start_time": "2023-06-16T13:26:31.355Z"
   },
   {
    "duration": 33,
    "start_time": "2023-06-16T13:26:31.428Z"
   },
   {
    "duration": 56,
    "start_time": "2023-06-16T13:26:31.464Z"
   },
   {
    "duration": 40,
    "start_time": "2023-06-16T13:26:31.522Z"
   },
   {
    "duration": 18,
    "start_time": "2023-06-16T13:26:31.564Z"
   },
   {
    "duration": 35,
    "start_time": "2023-06-16T13:26:31.585Z"
   },
   {
    "duration": 130,
    "start_time": "2023-06-16T13:26:31.624Z"
   },
   {
    "duration": 111,
    "start_time": "2023-06-16T13:26:31.756Z"
   },
   {
    "duration": 22,
    "start_time": "2023-06-16T13:26:31.869Z"
   },
   {
    "duration": 133,
    "start_time": "2023-06-16T13:26:31.894Z"
   },
   {
    "duration": 609,
    "start_time": "2023-06-16T13:26:32.029Z"
   },
   {
    "duration": 120,
    "start_time": "2023-06-16T13:26:32.640Z"
   },
   {
    "duration": 25,
    "start_time": "2023-06-16T13:27:32.106Z"
   },
   {
    "duration": 23,
    "start_time": "2023-06-16T13:27:57.606Z"
   },
   {
    "duration": 24,
    "start_time": "2023-06-16T13:38:16.926Z"
   },
   {
    "duration": 7383,
    "start_time": "2023-06-16T13:45:12.628Z"
   },
   {
    "duration": 8656,
    "start_time": "2023-06-16T13:46:00.303Z"
   },
   {
    "duration": 7893,
    "start_time": "2023-06-16T13:52:04.400Z"
   },
   {
    "duration": 10984,
    "start_time": "2023-06-16T13:53:20.506Z"
   },
   {
    "duration": 11425,
    "start_time": "2023-06-16T13:56:32.419Z"
   },
   {
    "duration": 11009,
    "start_time": "2023-06-16T13:57:50.700Z"
   },
   {
    "duration": 10938,
    "start_time": "2023-06-16T13:58:19.384Z"
   },
   {
    "duration": 10365,
    "start_time": "2023-06-16T13:58:45.652Z"
   },
   {
    "duration": 10089,
    "start_time": "2023-06-16T13:59:32.314Z"
   },
   {
    "duration": 10392,
    "start_time": "2023-06-16T13:59:52.697Z"
   },
   {
    "duration": 9536,
    "start_time": "2023-06-16T14:01:36.082Z"
   },
   {
    "duration": 7701,
    "start_time": "2023-06-16T14:04:37.683Z"
   },
   {
    "duration": 1186,
    "start_time": "2023-06-16T14:28:27.162Z"
   },
   {
    "duration": 46,
    "start_time": "2023-06-16T14:28:28.353Z"
   },
   {
    "duration": 20,
    "start_time": "2023-06-16T14:28:28.402Z"
   },
   {
    "duration": 20,
    "start_time": "2023-06-16T14:28:28.425Z"
   },
   {
    "duration": 54,
    "start_time": "2023-06-16T14:28:28.448Z"
   },
   {
    "duration": 6,
    "start_time": "2023-06-16T14:28:28.504Z"
   },
   {
    "duration": 20,
    "start_time": "2023-06-16T14:28:28.513Z"
   },
   {
    "duration": 36,
    "start_time": "2023-06-16T14:28:28.536Z"
   },
   {
    "duration": 36,
    "start_time": "2023-06-16T14:28:28.574Z"
   },
   {
    "duration": 15,
    "start_time": "2023-06-16T14:28:28.614Z"
   },
   {
    "duration": 17,
    "start_time": "2023-06-16T14:28:28.631Z"
   },
   {
    "duration": 50,
    "start_time": "2023-06-16T14:28:28.650Z"
   },
   {
    "duration": 14,
    "start_time": "2023-06-16T14:28:28.702Z"
   },
   {
    "duration": 51,
    "start_time": "2023-06-16T14:28:28.718Z"
   },
   {
    "duration": 106,
    "start_time": "2023-06-16T14:28:28.771Z"
   },
   {
    "duration": 21,
    "start_time": "2023-06-16T14:28:28.881Z"
   },
   {
    "duration": 11,
    "start_time": "2023-06-16T14:28:28.904Z"
   },
   {
    "duration": 400,
    "start_time": "2023-06-16T14:28:28.917Z"
   },
   {
    "duration": 7728,
    "start_time": "2023-06-16T14:28:29.319Z"
   },
   {
    "duration": 7609,
    "start_time": "2023-06-16T14:30:17.541Z"
   },
   {
    "duration": 7046,
    "start_time": "2023-06-16T14:33:52.691Z"
   },
   {
    "duration": 8053,
    "start_time": "2023-06-16T14:34:25.212Z"
   },
   {
    "duration": 8101,
    "start_time": "2023-06-16T14:35:35.923Z"
   },
   {
    "duration": 43294,
    "start_time": "2023-06-16T14:38:15.246Z"
   },
   {
    "duration": 8045,
    "start_time": "2023-06-16T14:39:03.975Z"
   },
   {
    "duration": 8140,
    "start_time": "2023-06-16T14:42:01.292Z"
   },
   {
    "duration": 7684,
    "start_time": "2023-06-16T14:44:28.829Z"
   },
   {
    "duration": 4655,
    "start_time": "2023-06-16T14:46:44.194Z"
   },
   {
    "duration": 6390,
    "start_time": "2023-06-16T14:47:24.723Z"
   },
   {
    "duration": 9668,
    "start_time": "2023-06-16T14:47:56.230Z"
   },
   {
    "duration": 9956,
    "start_time": "2023-06-16T14:50:17.504Z"
   },
   {
    "duration": 9928,
    "start_time": "2023-06-16T14:51:45.261Z"
   },
   {
    "duration": 8373,
    "start_time": "2023-06-16T14:52:54.500Z"
   },
   {
    "duration": 7360,
    "start_time": "2023-06-16T14:54:42.192Z"
   },
   {
    "duration": 8250,
    "start_time": "2023-06-16T14:55:18.678Z"
   },
   {
    "duration": 10246,
    "start_time": "2023-06-16T14:55:39.470Z"
   },
   {
    "duration": 7245,
    "start_time": "2023-06-16T14:56:19.093Z"
   },
   {
    "duration": 8797,
    "start_time": "2023-06-16T14:57:26.190Z"
   },
   {
    "duration": 11,
    "start_time": "2023-06-16T14:58:54.750Z"
   },
   {
    "duration": 8149,
    "start_time": "2023-06-16T14:59:03.694Z"
   },
   {
    "duration": 8199,
    "start_time": "2023-06-16T15:01:27.544Z"
   },
   {
    "duration": 4529,
    "start_time": "2023-06-16T15:02:47.410Z"
   },
   {
    "duration": 8041,
    "start_time": "2023-06-16T15:03:46.398Z"
   },
   {
    "duration": 26,
    "start_time": "2023-06-16T15:09:27.255Z"
   },
   {
    "duration": 14,
    "start_time": "2023-06-16T15:10:14.078Z"
   },
   {
    "duration": 11,
    "start_time": "2023-06-16T15:10:42.191Z"
   },
   {
    "duration": 11,
    "start_time": "2023-06-16T15:11:18.920Z"
   },
   {
    "duration": 119,
    "start_time": "2023-06-17T07:01:11.291Z"
   },
   {
    "duration": 69,
    "start_time": "2023-06-17T07:01:39.454Z"
   },
   {
    "duration": 1893,
    "start_time": "2023-06-17T07:01:50.940Z"
   },
   {
    "duration": 109,
    "start_time": "2023-06-17T07:01:52.835Z"
   },
   {
    "duration": 14,
    "start_time": "2023-06-17T07:01:52.946Z"
   },
   {
    "duration": 24,
    "start_time": "2023-06-17T07:01:52.962Z"
   },
   {
    "duration": 62,
    "start_time": "2023-06-17T07:01:52.988Z"
   },
   {
    "duration": 10,
    "start_time": "2023-06-17T07:01:53.052Z"
   },
   {
    "duration": 51,
    "start_time": "2023-06-17T07:01:53.064Z"
   },
   {
    "duration": 33,
    "start_time": "2023-06-17T07:01:53.118Z"
   },
   {
    "duration": 8440,
    "start_time": "2023-06-17T07:01:53.153Z"
   },
   {
    "duration": 24,
    "start_time": "2023-06-17T07:02:01.597Z"
   },
   {
    "duration": 121,
    "start_time": "2023-06-17T07:02:01.627Z"
   },
   {
    "duration": 150,
    "start_time": "2023-06-17T07:02:01.751Z"
   },
   {
    "duration": 145,
    "start_time": "2023-06-17T07:02:01.979Z"
   },
   {
    "duration": 126,
    "start_time": "2023-06-17T07:02:02.128Z"
   },
   {
    "duration": 124,
    "start_time": "2023-06-17T07:02:02.258Z"
   },
   {
    "duration": 120,
    "start_time": "2023-06-17T07:02:02.384Z"
   },
   {
    "duration": 56,
    "start_time": "2023-06-17T07:02:02.506Z"
   },
   {
    "duration": 79,
    "start_time": "2023-06-17T07:02:02.565Z"
   },
   {
    "duration": 177,
    "start_time": "2023-06-17T07:02:02.646Z"
   },
   {
    "duration": 162,
    "start_time": "2023-06-17T07:03:26.708Z"
   },
   {
    "duration": 12,
    "start_time": "2023-06-17T07:03:33.546Z"
   },
   {
    "duration": 34,
    "start_time": "2023-06-17T07:03:58.661Z"
   },
   {
    "duration": 376,
    "start_time": "2023-06-17T07:04:10.667Z"
   },
   {
    "duration": 340,
    "start_time": "2023-06-17T07:09:18.675Z"
   },
   {
    "duration": 1466,
    "start_time": "2023-06-17T07:09:38.114Z"
   },
   {
    "duration": 40,
    "start_time": "2023-06-17T07:09:39.582Z"
   },
   {
    "duration": 12,
    "start_time": "2023-06-17T07:09:39.624Z"
   },
   {
    "duration": 9,
    "start_time": "2023-06-17T07:09:39.638Z"
   },
   {
    "duration": 30,
    "start_time": "2023-06-17T07:09:39.648Z"
   },
   {
    "duration": 13,
    "start_time": "2023-06-17T07:09:39.684Z"
   },
   {
    "duration": 24,
    "start_time": "2023-06-17T07:09:39.707Z"
   },
   {
    "duration": 22,
    "start_time": "2023-06-17T07:09:39.733Z"
   },
   {
    "duration": 7595,
    "start_time": "2023-06-17T07:09:39.757Z"
   },
   {
    "duration": 5,
    "start_time": "2023-06-17T07:09:47.355Z"
   },
   {
    "duration": 55,
    "start_time": "2023-06-17T07:09:47.362Z"
   },
   {
    "duration": 29,
    "start_time": "2023-06-17T07:09:47.419Z"
   },
   {
    "duration": 13,
    "start_time": "2023-06-17T07:09:47.449Z"
   },
   {
    "duration": 54,
    "start_time": "2023-06-17T07:09:47.463Z"
   },
   {
    "duration": 14,
    "start_time": "2023-06-17T07:09:47.519Z"
   },
   {
    "duration": 65,
    "start_time": "2023-06-17T07:09:47.535Z"
   },
   {
    "duration": 90,
    "start_time": "2023-06-17T07:09:47.602Z"
   },
   {
    "duration": 41,
    "start_time": "2023-06-17T07:09:47.694Z"
   },
   {
    "duration": 486,
    "start_time": "2023-06-17T07:09:47.737Z"
   },
   {
    "duration": 179,
    "start_time": "2023-06-17T07:16:05.438Z"
   },
   {
    "duration": 482,
    "start_time": "2023-06-17T07:16:23.461Z"
   },
   {
    "duration": 375,
    "start_time": "2023-06-17T07:17:15.259Z"
   },
   {
    "duration": 219,
    "start_time": "2023-06-17T07:17:31.505Z"
   },
   {
    "duration": 14,
    "start_time": "2023-06-17T07:18:00.850Z"
   },
   {
    "duration": 19,
    "start_time": "2023-06-17T07:18:16.064Z"
   },
   {
    "duration": 369,
    "start_time": "2023-06-17T07:18:26.393Z"
   },
   {
    "duration": 298,
    "start_time": "2023-06-17T07:18:52.231Z"
   },
   {
    "duration": 278,
    "start_time": "2023-06-17T07:19:05.294Z"
   },
   {
    "duration": 564,
    "start_time": "2023-06-17T07:23:02.364Z"
   },
   {
    "duration": 511,
    "start_time": "2023-06-17T07:23:19.204Z"
   },
   {
    "duration": 544,
    "start_time": "2023-06-17T07:23:29.368Z"
   },
   {
    "duration": 193,
    "start_time": "2023-06-17T07:27:03.846Z"
   },
   {
    "duration": 525,
    "start_time": "2023-06-17T07:27:40.713Z"
   },
   {
    "duration": 627,
    "start_time": "2023-06-17T07:28:04.399Z"
   },
   {
    "duration": 319,
    "start_time": "2023-06-17T07:29:14.663Z"
   },
   {
    "duration": 569,
    "start_time": "2023-06-17T07:29:42.529Z"
   },
   {
    "duration": 228,
    "start_time": "2023-06-17T07:32:27.507Z"
   },
   {
    "duration": 452,
    "start_time": "2023-06-17T07:33:06.750Z"
   },
   {
    "duration": 245,
    "start_time": "2023-06-17T07:34:53.104Z"
   },
   {
    "duration": 133,
    "start_time": "2023-06-17T07:35:08.609Z"
   },
   {
    "duration": 559,
    "start_time": "2023-06-17T07:35:55.504Z"
   },
   {
    "duration": 600,
    "start_time": "2023-06-17T07:38:15.509Z"
   },
   {
    "duration": 545,
    "start_time": "2023-06-17T07:38:38.926Z"
   },
   {
    "duration": 578,
    "start_time": "2023-06-17T07:39:01.843Z"
   },
   {
    "duration": 575,
    "start_time": "2023-06-17T07:39:15.375Z"
   },
   {
    "duration": 638,
    "start_time": "2023-06-17T07:40:04.577Z"
   },
   {
    "duration": 505,
    "start_time": "2023-06-17T07:42:48.588Z"
   },
   {
    "duration": 219,
    "start_time": "2023-06-17T07:43:33.085Z"
   },
   {
    "duration": 718,
    "start_time": "2023-06-17T07:43:48.267Z"
   },
   {
    "duration": 612,
    "start_time": "2023-06-17T07:44:51.247Z"
   },
   {
    "duration": 520,
    "start_time": "2023-06-17T07:45:12.791Z"
   },
   {
    "duration": 610,
    "start_time": "2023-06-17T07:45:43.605Z"
   },
   {
    "duration": 646,
    "start_time": "2023-06-17T07:46:32.982Z"
   },
   {
    "duration": 1582,
    "start_time": "2023-06-17T07:47:05.559Z"
   },
   {
    "duration": 30,
    "start_time": "2023-06-17T07:47:07.143Z"
   },
   {
    "duration": 13,
    "start_time": "2023-06-17T07:47:07.175Z"
   },
   {
    "duration": 21,
    "start_time": "2023-06-17T07:47:07.190Z"
   },
   {
    "duration": 49,
    "start_time": "2023-06-17T07:47:07.214Z"
   },
   {
    "duration": 10,
    "start_time": "2023-06-17T07:47:07.265Z"
   },
   {
    "duration": 38,
    "start_time": "2023-06-17T07:47:07.277Z"
   },
   {
    "duration": 62,
    "start_time": "2023-06-17T07:47:07.317Z"
   },
   {
    "duration": 6851,
    "start_time": "2023-06-17T07:47:07.381Z"
   },
   {
    "duration": 4,
    "start_time": "2023-06-17T07:47:14.234Z"
   },
   {
    "duration": 22,
    "start_time": "2023-06-17T07:47:14.240Z"
   },
   {
    "duration": 17,
    "start_time": "2023-06-17T07:47:14.263Z"
   },
   {
    "duration": 16,
    "start_time": "2023-06-17T07:47:14.282Z"
   },
   {
    "duration": 6,
    "start_time": "2023-06-17T07:47:14.300Z"
   },
   {
    "duration": 67,
    "start_time": "2023-06-17T07:47:14.309Z"
   },
   {
    "duration": 100,
    "start_time": "2023-06-17T07:47:14.378Z"
   },
   {
    "duration": 32,
    "start_time": "2023-06-17T07:47:14.480Z"
   },
   {
    "duration": 9,
    "start_time": "2023-06-17T07:47:14.515Z"
   },
   {
    "duration": 575,
    "start_time": "2023-06-17T07:47:14.525Z"
   },
   {
    "duration": 513,
    "start_time": "2023-06-17T07:48:19.938Z"
   },
   {
    "duration": 594,
    "start_time": "2023-06-17T07:48:39.960Z"
   },
   {
    "duration": 584,
    "start_time": "2023-06-17T07:49:42.532Z"
   },
   {
    "duration": 723,
    "start_time": "2023-06-17T07:50:07.562Z"
   },
   {
    "duration": 642,
    "start_time": "2023-06-17T07:51:16.300Z"
   },
   {
    "duration": 558,
    "start_time": "2023-06-17T07:52:07.648Z"
   },
   {
    "duration": 110,
    "start_time": "2023-06-17T07:53:39.155Z"
   },
   {
    "duration": 602,
    "start_time": "2023-06-17T07:53:47.416Z"
   },
   {
    "duration": 486,
    "start_time": "2023-06-17T07:54:12.761Z"
   },
   {
    "duration": 601,
    "start_time": "2023-06-17T07:54:33.030Z"
   },
   {
    "duration": 584,
    "start_time": "2023-06-17T07:55:17.414Z"
   },
   {
    "duration": 665,
    "start_time": "2023-06-17T07:55:41.215Z"
   },
   {
    "duration": 559,
    "start_time": "2023-06-17T07:56:06.353Z"
   },
   {
    "duration": 549,
    "start_time": "2023-06-17T07:56:11.156Z"
   },
   {
    "duration": 603,
    "start_time": "2023-06-17T07:56:29.313Z"
   },
   {
    "duration": 657,
    "start_time": "2023-06-17T07:58:13.501Z"
   },
   {
    "duration": 564,
    "start_time": "2023-06-17T07:58:29.811Z"
   },
   {
    "duration": 549,
    "start_time": "2023-06-17T07:58:40.684Z"
   },
   {
    "duration": 529,
    "start_time": "2023-06-17T07:59:20.508Z"
   },
   {
    "duration": 593,
    "start_time": "2023-06-17T08:00:18.446Z"
   },
   {
    "duration": 574,
    "start_time": "2023-06-17T08:01:43.451Z"
   },
   {
    "duration": 554,
    "start_time": "2023-06-17T08:02:31.874Z"
   },
   {
    "duration": 542,
    "start_time": "2023-06-17T08:02:40.452Z"
   },
   {
    "duration": 572,
    "start_time": "2023-06-17T08:02:58.627Z"
   },
   {
    "duration": 537,
    "start_time": "2023-06-17T08:03:05.500Z"
   },
   {
    "duration": 542,
    "start_time": "2023-06-17T08:04:11.967Z"
   },
   {
    "duration": 728,
    "start_time": "2023-06-17T08:04:59.844Z"
   },
   {
    "duration": 640,
    "start_time": "2023-06-17T08:05:45.693Z"
   },
   {
    "duration": 632,
    "start_time": "2023-06-17T08:06:08.261Z"
   },
   {
    "duration": 552,
    "start_time": "2023-06-17T08:06:47.701Z"
   },
   {
    "duration": 216,
    "start_time": "2023-06-17T08:07:44.065Z"
   },
   {
    "duration": 206,
    "start_time": "2023-06-17T08:10:23.034Z"
   },
   {
    "duration": 557,
    "start_time": "2023-06-17T08:10:28.812Z"
   },
   {
    "duration": 613,
    "start_time": "2023-06-17T08:10:52.954Z"
   },
   {
    "duration": 575,
    "start_time": "2023-06-17T08:11:45.274Z"
   },
   {
    "duration": 217,
    "start_time": "2023-06-17T08:14:19.399Z"
   },
   {
    "duration": 230,
    "start_time": "2023-06-17T08:14:47.003Z"
   },
   {
    "duration": 212,
    "start_time": "2023-06-17T08:15:00.625Z"
   },
   {
    "duration": 754,
    "start_time": "2023-06-17T08:15:12.658Z"
   },
   {
    "duration": 607,
    "start_time": "2023-06-17T08:15:48.404Z"
   },
   {
    "duration": 697,
    "start_time": "2023-06-17T08:16:50.906Z"
   },
   {
    "duration": 702,
    "start_time": "2023-06-17T08:18:01.727Z"
   },
   {
    "duration": 656,
    "start_time": "2023-06-17T08:18:34.617Z"
   },
   {
    "duration": 608,
    "start_time": "2023-06-17T08:18:58.833Z"
   },
   {
    "duration": 589,
    "start_time": "2023-06-17T08:19:42.521Z"
   },
   {
    "duration": 526,
    "start_time": "2023-06-17T08:20:14.529Z"
   },
   {
    "duration": 209,
    "start_time": "2023-06-17T08:21:40.031Z"
   },
   {
    "duration": 651,
    "start_time": "2023-06-17T08:21:57.018Z"
   },
   {
    "duration": 576,
    "start_time": "2023-06-17T08:23:05.413Z"
   },
   {
    "duration": 626,
    "start_time": "2023-06-17T08:24:16.912Z"
   },
   {
    "duration": 1065,
    "start_time": "2023-06-17T08:24:34.927Z"
   },
   {
    "duration": 207,
    "start_time": "2023-06-17T08:38:29.371Z"
   },
   {
    "duration": 266,
    "start_time": "2023-06-17T08:41:11.065Z"
   },
   {
    "duration": 214,
    "start_time": "2023-06-17T08:41:29.369Z"
   },
   {
    "duration": 287,
    "start_time": "2023-06-17T08:41:36.446Z"
   },
   {
    "duration": 236,
    "start_time": "2023-06-17T08:43:35.486Z"
   },
   {
    "duration": 284,
    "start_time": "2023-06-17T08:43:49.317Z"
   },
   {
    "duration": 3,
    "start_time": "2023-06-17T08:48:52.093Z"
   },
   {
    "duration": 344,
    "start_time": "2023-06-17T08:57:34.625Z"
   },
   {
    "duration": 1653,
    "start_time": "2023-06-17T09:03:41.014Z"
   },
   {
    "duration": 61,
    "start_time": "2023-06-17T09:03:42.670Z"
   },
   {
    "duration": 14,
    "start_time": "2023-06-17T09:03:42.733Z"
   },
   {
    "duration": 33,
    "start_time": "2023-06-17T09:03:42.749Z"
   },
   {
    "duration": 55,
    "start_time": "2023-06-17T09:03:42.785Z"
   },
   {
    "duration": 11,
    "start_time": "2023-06-17T09:03:42.842Z"
   },
   {
    "duration": 14,
    "start_time": "2023-06-17T09:03:42.855Z"
   },
   {
    "duration": 40,
    "start_time": "2023-06-17T09:03:42.871Z"
   },
   {
    "duration": 8598,
    "start_time": "2023-06-17T09:03:42.914Z"
   },
   {
    "duration": 135,
    "start_time": "2023-06-17T09:03:51.514Z"
   },
   {
    "duration": 0,
    "start_time": "2023-06-17T09:03:51.653Z"
   },
   {
    "duration": 0,
    "start_time": "2023-06-17T09:03:51.654Z"
   },
   {
    "duration": 0,
    "start_time": "2023-06-17T09:03:51.656Z"
   },
   {
    "duration": 0,
    "start_time": "2023-06-17T09:03:51.658Z"
   },
   {
    "duration": 0,
    "start_time": "2023-06-17T09:03:51.659Z"
   },
   {
    "duration": 0,
    "start_time": "2023-06-17T09:03:51.662Z"
   },
   {
    "duration": 0,
    "start_time": "2023-06-17T09:03:51.664Z"
   },
   {
    "duration": 1,
    "start_time": "2023-06-17T09:03:51.665Z"
   },
   {
    "duration": 0,
    "start_time": "2023-06-17T09:03:51.675Z"
   },
   {
    "duration": 0,
    "start_time": "2023-06-17T09:03:51.677Z"
   },
   {
    "duration": 1536,
    "start_time": "2023-06-18T08:09:20.673Z"
   },
   {
    "duration": 83,
    "start_time": "2023-06-18T08:09:22.211Z"
   },
   {
    "duration": 16,
    "start_time": "2023-06-18T08:09:22.295Z"
   },
   {
    "duration": 12,
    "start_time": "2023-06-18T08:09:22.314Z"
   },
   {
    "duration": 29,
    "start_time": "2023-06-18T08:09:22.327Z"
   },
   {
    "duration": 5,
    "start_time": "2023-06-18T08:09:22.358Z"
   },
   {
    "duration": 15,
    "start_time": "2023-06-18T08:09:22.364Z"
   },
   {
    "duration": 7,
    "start_time": "2023-06-18T08:09:22.380Z"
   },
   {
    "duration": 6878,
    "start_time": "2023-06-18T08:09:22.389Z"
   },
   {
    "duration": 113,
    "start_time": "2023-06-18T08:09:29.270Z"
   },
   {
    "duration": 0,
    "start_time": "2023-06-18T08:09:29.384Z"
   },
   {
    "duration": 0,
    "start_time": "2023-06-18T08:09:29.385Z"
   },
   {
    "duration": 0,
    "start_time": "2023-06-18T08:09:29.386Z"
   },
   {
    "duration": 0,
    "start_time": "2023-06-18T08:09:29.387Z"
   },
   {
    "duration": 0,
    "start_time": "2023-06-18T08:09:29.388Z"
   },
   {
    "duration": 0,
    "start_time": "2023-06-18T08:09:29.389Z"
   },
   {
    "duration": 0,
    "start_time": "2023-06-18T08:09:29.390Z"
   },
   {
    "duration": 0,
    "start_time": "2023-06-18T08:09:29.391Z"
   },
   {
    "duration": 0,
    "start_time": "2023-06-18T08:09:29.392Z"
   },
   {
    "duration": 0,
    "start_time": "2023-06-18T08:09:29.393Z"
   },
   {
    "duration": 1581,
    "start_time": "2023-06-18T13:02:41.528Z"
   },
   {
    "duration": 86,
    "start_time": "2023-06-18T13:02:43.111Z"
   },
   {
    "duration": 18,
    "start_time": "2023-06-18T13:02:43.199Z"
   },
   {
    "duration": 12,
    "start_time": "2023-06-18T13:02:43.219Z"
   },
   {
    "duration": 35,
    "start_time": "2023-06-18T13:02:43.234Z"
   },
   {
    "duration": 6,
    "start_time": "2023-06-18T13:02:43.270Z"
   },
   {
    "duration": 21,
    "start_time": "2023-06-18T13:02:43.277Z"
   },
   {
    "duration": 8,
    "start_time": "2023-06-18T13:02:43.300Z"
   },
   {
    "duration": 6907,
    "start_time": "2023-06-18T13:02:43.310Z"
   },
   {
    "duration": 113,
    "start_time": "2023-06-18T13:02:50.220Z"
   },
   {
    "duration": 0,
    "start_time": "2023-06-18T13:02:50.335Z"
   },
   {
    "duration": 0,
    "start_time": "2023-06-18T13:02:50.336Z"
   },
   {
    "duration": 0,
    "start_time": "2023-06-18T13:02:50.338Z"
   },
   {
    "duration": 0,
    "start_time": "2023-06-18T13:02:50.340Z"
   },
   {
    "duration": 0,
    "start_time": "2023-06-18T13:02:50.356Z"
   },
   {
    "duration": 0,
    "start_time": "2023-06-18T13:02:50.357Z"
   },
   {
    "duration": 0,
    "start_time": "2023-06-18T13:02:50.359Z"
   },
   {
    "duration": 0,
    "start_time": "2023-06-18T13:02:50.360Z"
   },
   {
    "duration": 0,
    "start_time": "2023-06-18T13:02:50.362Z"
   },
   {
    "duration": 0,
    "start_time": "2023-06-18T13:02:50.363Z"
   },
   {
    "duration": 2,
    "start_time": "2023-06-18T13:03:58.652Z"
   },
   {
    "duration": 11,
    "start_time": "2023-06-18T13:04:01.244Z"
   },
   {
    "duration": 4,
    "start_time": "2023-06-18T13:04:25.705Z"
   },
   {
    "duration": 266,
    "start_time": "2023-06-18T13:04:27.466Z"
   },
   {
    "duration": 431,
    "start_time": "2023-06-20T15:44:43.955Z"
   },
   {
    "duration": 2028,
    "start_time": "2023-06-20T15:55:06.938Z"
   },
   {
    "duration": 152,
    "start_time": "2023-06-20T15:55:08.978Z"
   },
   {
    "duration": 19,
    "start_time": "2023-06-20T15:55:09.132Z"
   },
   {
    "duration": 75,
    "start_time": "2023-06-20T15:55:09.153Z"
   },
   {
    "duration": 59,
    "start_time": "2023-06-20T15:55:09.231Z"
   },
   {
    "duration": 31,
    "start_time": "2023-06-20T15:55:09.291Z"
   },
   {
    "duration": 18,
    "start_time": "2023-06-20T15:55:09.324Z"
   },
   {
    "duration": 30,
    "start_time": "2023-06-20T15:55:09.344Z"
   },
   {
    "duration": 9138,
    "start_time": "2023-06-20T15:55:09.385Z"
   },
   {
    "duration": 5,
    "start_time": "2023-06-20T15:55:18.525Z"
   },
   {
    "duration": 323,
    "start_time": "2023-06-20T15:55:18.532Z"
   },
   {
    "duration": 4,
    "start_time": "2023-06-20T15:55:18.856Z"
   },
   {
    "duration": 67,
    "start_time": "2023-06-20T15:55:18.862Z"
   },
   {
    "duration": 22,
    "start_time": "2023-06-20T15:55:18.933Z"
   },
   {
    "duration": 153,
    "start_time": "2023-06-20T15:55:18.967Z"
   },
   {
    "duration": 12,
    "start_time": "2023-06-20T15:55:19.122Z"
   },
   {
    "duration": 150,
    "start_time": "2023-06-20T15:55:19.161Z"
   },
   {
    "duration": 18,
    "start_time": "2023-06-20T15:55:19.313Z"
   },
   {
    "duration": 14,
    "start_time": "2023-06-20T15:55:19.333Z"
   },
   {
    "duration": 57,
    "start_time": "2023-06-20T15:55:19.349Z"
   },
   {
    "duration": 665,
    "start_time": "2023-06-20T15:55:19.408Z"
   }
  ],
  "kernelspec": {
   "display_name": "Python 3 (ipykernel)",
   "language": "python",
   "name": "python3"
  },
  "language_info": {
   "codemirror_mode": {
    "name": "ipython",
    "version": 3
   },
   "file_extension": ".py",
   "mimetype": "text/x-python",
   "name": "python",
   "nbconvert_exporter": "python",
   "pygments_lexer": "ipython3",
   "version": "3.9.13"
  },
  "toc": {
   "base_numbering": 1,
   "nav_menu": {},
   "number_sections": true,
   "sideBar": true,
   "skip_h1_title": true,
   "title_cell": "Содержание",
   "title_sidebar": "Contents",
   "toc_cell": true,
   "toc_position": {},
   "toc_section_display": true,
   "toc_window_display": true
  }
 },
 "nbformat": 4,
 "nbformat_minor": 2
}

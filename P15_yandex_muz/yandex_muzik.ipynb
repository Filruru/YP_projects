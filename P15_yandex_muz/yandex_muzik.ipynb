{
 "cells": [
  {
   "cell_type": "markdown",
   "metadata": {
    "deletable": false,
    "editable": false,
    "id": "E0vqbgi9ay0H"
   },
   "source": [
    "# Яндекс.Музыка"
   ]
  },
  {
   "cell_type": "markdown",
   "metadata": {
    "deletable": false,
    "editable": false,
    "id": "VUC88oWjTJw2"
   },
   "source": [
    "Сравнение Москвы и Петербурга окружено мифами. Например:\n",
    " * Москва — мегаполис, подчинённый жёсткому ритму рабочей недели;\n",
    " * Петербург — культурная столица, со своими вкусами.\n",
    "\n",
    "На данных Яндекс Музыки вы сравните поведение пользователей двух столиц.\n",
    "\n",
    "**Цель исследования** — проверьте три гипотезы:\n",
    "1. Активность пользователей зависит от дня недели. Причём в Москве и Петербурге это проявляется по-разному.\n",
    "2. В понедельник утром в Москве преобладают одни жанры, а в Петербурге — другие. Так же и вечером пятницы преобладают разные жанры — в зависимости от города. \n",
    "3. Москва и Петербург предпочитают разные жанры музыки. В Москве чаще слушают поп-музыку, в Петербурге — русский рэп.\n",
    "\n",
    "**Ход исследования**\n",
    "\n",
    "Данные о поведении пользователей вы получите из файла `yandex_music_project.csv`. О качестве данных ничего не известно. Поэтому перед проверкой гипотез понадобится обзор данных. \n",
    "\n",
    "Вы проверите данные на ошибки и оцените их влияние на исследование. Затем, на этапе предобработки вы поищете возможность исправить самые критичные ошибки данных.\n",
    " \n",
    "Таким образом, исследование пройдёт в три этапа:\n",
    " 1. Обзор данных.\n",
    " 2. Предобработка данных.\n",
    " 3. Проверка гипотез.\n",
    "\n"
   ]
  },
  {
   "cell_type": "markdown",
   "metadata": {
    "deletable": false,
    "editable": false,
    "id": "Ml1hmfXC_Zcs"
   },
   "source": [
    "## Обзор данных\n",
    "\n",
    "Составьте первое представление о данных Яндекс Музыки.\n",
    "\n",
    "\n"
   ]
  },
  {
   "cell_type": "markdown",
   "metadata": {
    "deletable": false,
    "editable": false,
    "id": "57eAOGIz_Zcs",
    "tags": [
     "start_task"
    ]
   },
   "source": [
    "**Задание 1**\n",
    "\n",
    "Основной инструмент аналитика — `pandas`. Импортируйте эту библиотеку."
   ]
  },
  {
   "cell_type": "code",
   "execution_count": 1,
   "metadata": {
    "deletable": false,
    "id": "AXN7PHPN_Zcs"
   },
   "outputs": [],
   "source": [
    "import pandas as pd # импорт библиотеки pandas# импорт библиотеки pandas"
   ]
  },
  {
   "cell_type": "markdown",
   "metadata": {
    "deletable": false,
    "editable": false,
    "id": "SG23P8tt_Zcs",
    "tags": [
     "start_task"
    ]
   },
   "source": [
    "**Задание 2**\n",
    "\n",
    "Прочитайте файл `yandex_music_project.csv` из папки `/datasets` и сохраните его в переменной `df`:"
   ]
  },
  {
   "cell_type": "code",
   "execution_count": 2,
   "metadata": {
    "deletable": false,
    "id": "fFVu7vqh_Zct"
   },
   "outputs": [],
   "source": [
    "df = pd.read_csv('/datasets/yandex_music_project.csv') # чтение файла с данными и сохранение в df"
   ]
  },
  {
   "cell_type": "markdown",
   "metadata": {
    "deletable": false,
    "editable": false,
    "id": "rDoOMd3uTqnZ",
    "tags": [
     "start_task"
    ]
   },
   "source": [
    "**Задание 3**\n",
    "\n",
    "\n",
    "Выведите на экран первые десять строк таблицы:"
   ]
  },
  {
   "cell_type": "code",
   "execution_count": 3,
   "metadata": {
    "deletable": false,
    "id": "oWTVX3gW_Zct"
   },
   "outputs": [
    {
     "data": {
      "text/html": [
       "<div>\n",
       "<style scoped>\n",
       "    .dataframe tbody tr th:only-of-type {\n",
       "        vertical-align: middle;\n",
       "    }\n",
       "\n",
       "    .dataframe tbody tr th {\n",
       "        vertical-align: top;\n",
       "    }\n",
       "\n",
       "    .dataframe thead th {\n",
       "        text-align: right;\n",
       "    }\n",
       "</style>\n",
       "<table border=\"1\" class=\"dataframe\">\n",
       "  <thead>\n",
       "    <tr style=\"text-align: right;\">\n",
       "      <th></th>\n",
       "      <th>userID</th>\n",
       "      <th>Track</th>\n",
       "      <th>artist</th>\n",
       "      <th>genre</th>\n",
       "      <th>City</th>\n",
       "      <th>time</th>\n",
       "      <th>Day</th>\n",
       "    </tr>\n",
       "  </thead>\n",
       "  <tbody>\n",
       "    <tr>\n",
       "      <th>0</th>\n",
       "      <td>FFB692EC</td>\n",
       "      <td>Kamigata To Boots</td>\n",
       "      <td>The Mass Missile</td>\n",
       "      <td>rock</td>\n",
       "      <td>Saint-Petersburg</td>\n",
       "      <td>20:28:33</td>\n",
       "      <td>Wednesday</td>\n",
       "    </tr>\n",
       "    <tr>\n",
       "      <th>1</th>\n",
       "      <td>55204538</td>\n",
       "      <td>Delayed Because of Accident</td>\n",
       "      <td>Andreas Rönnberg</td>\n",
       "      <td>rock</td>\n",
       "      <td>Moscow</td>\n",
       "      <td>14:07:09</td>\n",
       "      <td>Friday</td>\n",
       "    </tr>\n",
       "    <tr>\n",
       "      <th>2</th>\n",
       "      <td>20EC38</td>\n",
       "      <td>Funiculì funiculà</td>\n",
       "      <td>Mario Lanza</td>\n",
       "      <td>pop</td>\n",
       "      <td>Saint-Petersburg</td>\n",
       "      <td>20:58:07</td>\n",
       "      <td>Wednesday</td>\n",
       "    </tr>\n",
       "    <tr>\n",
       "      <th>3</th>\n",
       "      <td>A3DD03C9</td>\n",
       "      <td>Dragons in the Sunset</td>\n",
       "      <td>Fire + Ice</td>\n",
       "      <td>folk</td>\n",
       "      <td>Saint-Petersburg</td>\n",
       "      <td>08:37:09</td>\n",
       "      <td>Monday</td>\n",
       "    </tr>\n",
       "    <tr>\n",
       "      <th>4</th>\n",
       "      <td>E2DC1FAE</td>\n",
       "      <td>Soul People</td>\n",
       "      <td>Space Echo</td>\n",
       "      <td>dance</td>\n",
       "      <td>Moscow</td>\n",
       "      <td>08:34:34</td>\n",
       "      <td>Monday</td>\n",
       "    </tr>\n",
       "    <tr>\n",
       "      <th>5</th>\n",
       "      <td>842029A1</td>\n",
       "      <td>Преданная</td>\n",
       "      <td>IMPERVTOR</td>\n",
       "      <td>rusrap</td>\n",
       "      <td>Saint-Petersburg</td>\n",
       "      <td>13:09:41</td>\n",
       "      <td>Friday</td>\n",
       "    </tr>\n",
       "    <tr>\n",
       "      <th>6</th>\n",
       "      <td>4CB90AA5</td>\n",
       "      <td>True</td>\n",
       "      <td>Roman Messer</td>\n",
       "      <td>dance</td>\n",
       "      <td>Moscow</td>\n",
       "      <td>13:00:07</td>\n",
       "      <td>Wednesday</td>\n",
       "    </tr>\n",
       "    <tr>\n",
       "      <th>7</th>\n",
       "      <td>F03E1C1F</td>\n",
       "      <td>Feeling This Way</td>\n",
       "      <td>Polina Griffith</td>\n",
       "      <td>dance</td>\n",
       "      <td>Moscow</td>\n",
       "      <td>20:47:49</td>\n",
       "      <td>Wednesday</td>\n",
       "    </tr>\n",
       "    <tr>\n",
       "      <th>8</th>\n",
       "      <td>8FA1D3BE</td>\n",
       "      <td>И вновь продолжается бой</td>\n",
       "      <td>NaN</td>\n",
       "      <td>ruspop</td>\n",
       "      <td>Moscow</td>\n",
       "      <td>09:17:40</td>\n",
       "      <td>Friday</td>\n",
       "    </tr>\n",
       "    <tr>\n",
       "      <th>9</th>\n",
       "      <td>E772D5C0</td>\n",
       "      <td>Pessimist</td>\n",
       "      <td>NaN</td>\n",
       "      <td>dance</td>\n",
       "      <td>Saint-Petersburg</td>\n",
       "      <td>21:20:49</td>\n",
       "      <td>Wednesday</td>\n",
       "    </tr>\n",
       "  </tbody>\n",
       "</table>\n",
       "</div>"
      ],
      "text/plain": [
       "     userID                        Track            artist   genre  \\\n",
       "0  FFB692EC            Kamigata To Boots  The Mass Missile    rock   \n",
       "1  55204538  Delayed Because of Accident  Andreas Rönnberg    rock   \n",
       "2    20EC38            Funiculì funiculà       Mario Lanza     pop   \n",
       "3  A3DD03C9        Dragons in the Sunset        Fire + Ice    folk   \n",
       "4  E2DC1FAE                  Soul People        Space Echo   dance   \n",
       "5  842029A1                    Преданная         IMPERVTOR  rusrap   \n",
       "6  4CB90AA5                         True      Roman Messer   dance   \n",
       "7  F03E1C1F             Feeling This Way   Polina Griffith   dance   \n",
       "8  8FA1D3BE     И вновь продолжается бой               NaN  ruspop   \n",
       "9  E772D5C0                    Pessimist               NaN   dance   \n",
       "\n",
       "             City        time        Day  \n",
       "0  Saint-Petersburg  20:28:33  Wednesday  \n",
       "1            Moscow  14:07:09     Friday  \n",
       "2  Saint-Petersburg  20:58:07  Wednesday  \n",
       "3  Saint-Petersburg  08:37:09     Monday  \n",
       "4            Moscow  08:34:34     Monday  \n",
       "5  Saint-Petersburg  13:09:41     Friday  \n",
       "6            Moscow  13:00:07  Wednesday  \n",
       "7            Moscow  20:47:49  Wednesday  \n",
       "8            Moscow  09:17:40     Friday  \n",
       "9  Saint-Petersburg  21:20:49  Wednesday  "
      ]
     },
     "execution_count": 3,
     "metadata": {},
     "output_type": "execute_result"
    }
   ],
   "source": [
    "df.head(10) # получение первых 10 строк таблицы df"
   ]
  },
  {
   "cell_type": "markdown",
   "metadata": {
    "deletable": false,
    "editable": false,
    "id": "EO73Kwic_Zct",
    "tags": [
     "start_task"
    ]
   },
   "source": [
    "**Задание 4**\n",
    "\n",
    "\n",
    "Одной командой получить общую информацию о таблице c помощью метода `info()`:"
   ]
  },
  {
   "cell_type": "code",
   "execution_count": 4,
   "metadata": {
    "deletable": false,
    "id": "DSf2kIb-_Zct"
   },
   "outputs": [
    {
     "name": "stdout",
     "output_type": "stream",
     "text": [
      "<class 'pandas.core.frame.DataFrame'>\n",
      "RangeIndex: 65079 entries, 0 to 65078\n",
      "Data columns (total 7 columns):\n",
      " #   Column    Non-Null Count  Dtype \n",
      "---  ------    --------------  ----- \n",
      " 0     userID  65079 non-null  object\n",
      " 1   Track     63848 non-null  object\n",
      " 2   artist    57876 non-null  object\n",
      " 3   genre     63881 non-null  object\n",
      " 4     City    65079 non-null  object\n",
      " 5   time      65079 non-null  object\n",
      " 6   Day       65079 non-null  object\n",
      "dtypes: object(7)\n",
      "memory usage: 3.5+ MB\n"
     ]
    }
   ],
   "source": [
    "df.info()# получение общей информации о данных в таблице df"
   ]
  },
  {
   "cell_type": "markdown",
   "metadata": {
    "deletable": false,
    "editable": false,
    "id": "TaQ2Iwbr_Zct"
   },
   "source": [
    "Итак, в таблице семь столбцов. Тип данных во всех столбцах — `object`.\n",
    "\n",
    "Согласно документации к данным:\n",
    "* `userID` — идентификатор пользователя;\n",
    "* `Track` — название трека;  \n",
    "* `artist` — имя исполнителя;\n",
    "* `genre` — название жанра;\n",
    "* `City` — город пользователя;\n",
    "* `time` — время начала прослушивания;\n",
    "* `Day` — день недели.\n",
    "\n",
    "Количество значений в столбцах различается. Значит, в данных есть пропущенные значения."
   ]
  },
  {
   "cell_type": "markdown",
   "metadata": {
    "deletable": false,
    "editable": false,
    "id": "4P0UCWzswgEm",
    "tags": [
     "start_task"
    ]
   },
   "source": [
    "**Задание 5**\n",
    "\n",
    "**Вопрос со свободной формой ответа**\n",
    "\n",
    "В названиях колонок видны три нарушения стиля:\n",
    "1. Строчные буквы сочетаются с прописными.\n",
    "2. Встречаются пробелы."
   ]
  },
  {
   "cell_type": "code",
   "execution_count": 5,
   "metadata": {
    "id": "c137-ZstwgEm"
   },
   "outputs": [],
   "source": [
    "# В названиях колонок трочные буквы сочетаются с прописными.# Напишите ваш ответ здесь комментарием. Не удаляйте символ #. Не меняйте тип этой ячейки на Markdown."
   ]
  },
  {
   "cell_type": "markdown",
   "metadata": {
    "deletable": false,
    "editable": false,
    "id": "MCB6-dXG_Zct"
   },
   "source": [
    "**Выводы**\n",
    "\n",
    "В каждой строке таблицы — данные о прослушанном треке. Часть колонок описывает саму композицию: название, исполнителя и жанр. Остальные данные рассказывают о пользователе: из какого он города, когда он слушал музыку. \n",
    "\n",
    "Предварительно можно утверждать, что, данных достаточно для проверки гипотез. Но встречаются пропуски в данных, а в названиях колонок — расхождения с хорошим стилем.\n",
    "\n",
    "Чтобы двигаться дальше, нужно устранить проблемы в данных."
   ]
  },
  {
   "cell_type": "markdown",
   "metadata": {
    "deletable": false,
    "editable": false,
    "id": "SjYF6Ub9_Zct"
   },
   "source": [
    "## Предобработка данных\n",
    "Исправьте стиль в заголовках столбцов, исключите пропуски. Затем проверьте данные на дубликаты."
   ]
  },
  {
   "cell_type": "markdown",
   "metadata": {
    "deletable": false,
    "editable": false,
    "id": "dIaKXr29_Zct",
    "tags": [
     "start_task"
    ]
   },
   "source": [
    "### Стиль заголовков\n",
    "\n",
    "**Задание 6**\n",
    "\n",
    "Выведите на экран названия столбцов:"
   ]
  },
  {
   "cell_type": "code",
   "execution_count": 6,
   "metadata": {
    "deletable": false,
    "id": "oKOTdF_Q_Zct"
   },
   "outputs": [
    {
     "name": "stdout",
     "output_type": "stream",
     "text": [
      "Index(['  userID', 'Track', 'artist', 'genre', '  City  ', 'time', 'Day'], dtype='object')\n"
     ]
    }
   ],
   "source": [
    "print(df.columns) # перечень названий столбцов таблицы df"
   ]
  },
  {
   "cell_type": "markdown",
   "metadata": {
    "deletable": false,
    "editable": false,
    "id": "zj5534cv_Zct",
    "tags": [
     "start_task"
    ]
   },
   "source": [
    "**Задание 7**\n",
    "\n",
    "\n",
    "Приведите названия в соответствие с хорошим стилем:\n",
    "* несколько слов в названии запишите в «змеином_регистре»,\n",
    "* все символы сделайте строчными,\n",
    "* устраните пробелы.\n",
    "\n",
    "Для этого переименуйте колонки так:\n",
    "* `'  userID'` → `'user_id'`;\n",
    "* `'Track'` → `'track'`;\n",
    "* `'  City  '` → `'city'`;\n",
    "* `'Day'` → `'day'`."
   ]
  },
  {
   "cell_type": "code",
   "execution_count": 7,
   "metadata": {
    "deletable": false,
    "id": "ISlFqs5y_Zct"
   },
   "outputs": [],
   "source": [
    "df=df.rename(columns={'  userID':'user_id','Track':'track','  City  ':'city','Day':'day'})# переименование столбцов"
   ]
  },
  {
   "cell_type": "markdown",
   "metadata": {
    "deletable": false,
    "editable": false,
    "id": "1dqbh00J_Zct",
    "tags": [
     "start_task"
    ]
   },
   "source": [
    "**Задание 8**\n",
    "\n",
    "\n",
    "Проверьте результат. Для этого ещё раз выведите на экран названия столбцов:"
   ]
  },
  {
   "cell_type": "code",
   "execution_count": 8,
   "metadata": {
    "deletable": false,
    "id": "d4NOAmTW_Zct"
   },
   "outputs": [
    {
     "name": "stdout",
     "output_type": "stream",
     "text": [
      "Index(['user_id', 'track', 'artist', 'genre', 'city', 'time', 'day'], dtype='object')\n"
     ]
    }
   ],
   "source": [
    "print(df.columns) # проверка результатов - перечень названий столбцов"
   ]
  },
  {
   "cell_type": "markdown",
   "metadata": {
    "deletable": false,
    "editable": false,
    "id": "5ISfbcfY_Zct",
    "tags": [
     "start_task"
    ]
   },
   "source": [
    "### Пропуски значений\n",
    "\n",
    "**Задание 9**\n",
    "\n",
    "Сначала посчитайте, сколько в таблице пропущенных значений. Для этого достаточно двух методов `pandas`:"
   ]
  },
  {
   "cell_type": "code",
   "execution_count": 9,
   "metadata": {
    "deletable": false,
    "id": "RskX29qr_Zct"
   },
   "outputs": [
    {
     "name": "stdout",
     "output_type": "stream",
     "text": [
      "user_id       0\n",
      "track      1231\n",
      "artist     7203\n",
      "genre      1198\n",
      "city          0\n",
      "time          0\n",
      "day           0\n",
      "dtype: int64\n"
     ]
    }
   ],
   "source": [
    "print(df.isna().sum()) # подсчёт пропусков"
   ]
  },
  {
   "cell_type": "markdown",
   "metadata": {
    "deletable": false,
    "editable": false,
    "id": "qubhgnlO_Zct"
   },
   "source": [
    "Не все пропущенные значения влияют на исследование. Так в `track` и `artist` пропуски не важны для вашей работы. Достаточно заменить их явными обозначениями.\n",
    "\n",
    "Но пропуски в `genre` могут помешать сравнению музыкальных вкусов в Москве и Санкт-Петербурге. На практике было бы правильно установить причину пропусков и восстановить данные. Такой возможности нет в учебном проекте. Придётся:\n",
    "* заполнить и эти пропуски явными обозначениями,\n",
    "* оценить, насколько они повредят расчётам. "
   ]
  },
  {
   "cell_type": "markdown",
   "metadata": {
    "deletable": false,
    "editable": false,
    "id": "fSv2laPA_Zct",
    "tags": [
     "start_task"
    ]
   },
   "source": [
    "**Задание 10**\n",
    "\n",
    "Замените пропущенные значения в столбцах `track`, `artist` и `genre` на строку `'unknown'`. Для этого создайте список `columns_to_replace`, переберите его элементы циклом `for` и для каждого столбца выполните замену пропущенных значений:"
   ]
  },
  {
   "cell_type": "code",
   "execution_count": 10,
   "metadata": {
    "deletable": false,
    "id": "KplB5qWs_Zct"
   },
   "outputs": [],
   "source": [
    "columns_to_replace=['track','artist','genre']\n",
    "for column in columns_to_replace:\n",
    "    df[column] = df[column].fillna('unknown')\n",
    "\n",
    "# перебор названий столбцов в цикле и замена пропущенных значений на 'unknown'"
   ]
  },
  {
   "cell_type": "markdown",
   "metadata": {
    "deletable": false,
    "editable": false,
    "id": "Ilsm-MZo_Zct",
    "tags": [
     "start_task"
    ]
   },
   "source": [
    "**Задание 11**\n",
    "\n",
    "Убедитесь, что в таблице не осталось пропусков. Для этого ещё раз посчитайте пропущенные значения."
   ]
  },
  {
   "cell_type": "code",
   "execution_count": 11,
   "metadata": {
    "deletable": false,
    "id": "Tq4nYRX4_Zct"
   },
   "outputs": [
    {
     "name": "stdout",
     "output_type": "stream",
     "text": [
      "user_id    0\n",
      "track      0\n",
      "artist     0\n",
      "genre      0\n",
      "city       0\n",
      "time       0\n",
      "day        0\n",
      "dtype: int64\n"
     ]
    }
   ],
   "source": [
    "print(df.isna().sum())# подсчёт пропусков"
   ]
  },
  {
   "cell_type": "markdown",
   "metadata": {
    "deletable": false,
    "editable": false,
    "id": "BWKRtBJ3_Zct",
    "tags": [
     "start_task"
    ]
   },
   "source": [
    "### Дубликаты\n",
    "\n",
    "**Задание 12**\n",
    "\n",
    "Посчитайте явные дубликаты в таблице одной командой:"
   ]
  },
  {
   "cell_type": "code",
   "execution_count": 12,
   "metadata": {
    "deletable": false,
    "id": "36eES_S0_Zct"
   },
   "outputs": [
    {
     "name": "stdout",
     "output_type": "stream",
     "text": [
      "3826\n"
     ]
    }
   ],
   "source": [
    "print(df.duplicated().sum()) # подсчёт явных дубликатов"
   ]
  },
  {
   "cell_type": "markdown",
   "metadata": {
    "deletable": false,
    "editable": false,
    "id": "Ot25h6XR_Zct",
    "tags": [
     "start_task"
    ]
   },
   "source": [
    "**Задание 13**\n",
    "\n",
    "Вызовите специальный метод `pandas`, чтобы удалить явные дубликаты:"
   ]
  },
  {
   "cell_type": "code",
   "execution_count": 13,
   "metadata": {
    "deletable": false,
    "id": "exFHq6tt_Zct"
   },
   "outputs": [],
   "source": [
    "df = df.drop_duplicates()#reset_index(drop=True)# удаление явных дубликатов (с удалением старых индексов и формированием новых)"
   ]
  },
  {
   "cell_type": "markdown",
   "metadata": {
    "deletable": false,
    "editable": false,
    "id": "Im2YwBEG_Zct",
    "tags": [
     "start_task"
    ]
   },
   "source": [
    "**Задание 14**\n",
    "\n",
    "Ещё раз посчитайте явные дубликаты в таблице — убедитесь, что полностью от них избавились:"
   ]
  },
  {
   "cell_type": "code",
   "execution_count": 14,
   "metadata": {
    "deletable": false,
    "id": "-8PuNWQ0_Zct"
   },
   "outputs": [
    {
     "name": "stdout",
     "output_type": "stream",
     "text": [
      "0\n"
     ]
    }
   ],
   "source": [
    "print(df.duplicated().sum())# проверка на отсутствие дубликатов"
   ]
  },
  {
   "cell_type": "markdown",
   "metadata": {
    "deletable": false,
    "editable": false,
    "id": "QlFBsxAr_Zct"
   },
   "source": [
    "Теперь избавьтесь от неявных дубликатов в колонке `genre`. Например, название одного и того же жанра может быть записано немного по-разному. Такие ошибки тоже повлияют на результат исследования."
   ]
  },
  {
   "cell_type": "markdown",
   "metadata": {
    "deletable": false,
    "editable": false,
    "id": "eSjWwsOh_Zct",
    "tags": [
     "start_task"
    ]
   },
   "source": [
    "**Задание 15**\n",
    "\n",
    "Выведите на экран список уникальных названий жанров, отсортированный в алфавитном порядке. Для этого:\n",
    "* извлеките нужный столбец датафрейма, \n",
    "* примените к нему метод сортировки,\n",
    "* для отсортированного столбца вызовите метод, который вернёт уникальные значения из столбца."
   ]
  },
  {
   "cell_type": "code",
   "execution_count": 15,
   "metadata": {
    "deletable": false,
    "id": "JIUcqzZN_Zct"
   },
   "outputs": [
    {
     "data": {
      "text/plain": [
       "array(['acid', 'acoustic', 'action', 'adult', 'africa', 'afrikaans',\n",
       "       'alternative', 'alternativepunk', 'ambient', 'americana',\n",
       "       'animated', 'anime', 'arabesk', 'arabic', 'arena',\n",
       "       'argentinetango', 'art', 'audiobook', 'author', 'avantgarde',\n",
       "       'axé', 'baile', 'balkan', 'beats', 'bigroom', 'black', 'bluegrass',\n",
       "       'blues', 'bollywood', 'bossa', 'brazilian', 'breakbeat', 'breaks',\n",
       "       'broadway', 'cantautori', 'cantopop', 'canzone', 'caribbean',\n",
       "       'caucasian', 'celtic', 'chamber', 'chanson', 'children', 'chill',\n",
       "       'chinese', 'choral', 'christian', 'christmas', 'classical',\n",
       "       'classicmetal', 'club', 'colombian', 'comedy', 'conjazz',\n",
       "       'contemporary', 'country', 'cuban', 'dance', 'dancehall',\n",
       "       'dancepop', 'dark', 'death', 'deep', 'deutschrock', 'deutschspr',\n",
       "       'dirty', 'disco', 'dnb', 'documentary', 'downbeat', 'downtempo',\n",
       "       'drum', 'dub', 'dubstep', 'eastern', 'easy', 'electronic',\n",
       "       'electropop', 'emo', 'entehno', 'epicmetal', 'estrada', 'ethnic',\n",
       "       'eurofolk', 'european', 'experimental', 'extrememetal', 'fado',\n",
       "       'fairytail', 'film', 'fitness', 'flamenco', 'folk', 'folklore',\n",
       "       'folkmetal', 'folkrock', 'folktronica', 'forró', 'frankreich',\n",
       "       'französisch', 'french', 'funk', 'future', 'gangsta', 'garage',\n",
       "       'german', 'ghazal', 'gitarre', 'glitch', 'gospel', 'gothic',\n",
       "       'grime', 'grunge', 'gypsy', 'handsup', \"hard'n'heavy\", 'hardcore',\n",
       "       'hardstyle', 'hardtechno', 'hip', 'hip-hop', 'hiphop',\n",
       "       'historisch', 'holiday', 'hop', 'horror', 'house', 'hymn', 'idm',\n",
       "       'independent', 'indian', 'indie', 'indipop', 'industrial',\n",
       "       'inspirational', 'instrumental', 'international', 'irish', 'jam',\n",
       "       'japanese', 'jazz', 'jewish', 'jpop', 'jungle', 'k-pop',\n",
       "       'karadeniz', 'karaoke', 'kayokyoku', 'korean', 'laiko', 'latin',\n",
       "       'latino', 'leftfield', 'local', 'lounge', 'loungeelectronic',\n",
       "       'lovers', 'malaysian', 'mandopop', 'marschmusik', 'meditative',\n",
       "       'mediterranean', 'melodic', 'metal', 'metalcore', 'mexican',\n",
       "       'middle', 'minimal', 'miscellaneous', 'modern', 'mood', 'mpb',\n",
       "       'muslim', 'native', 'neoklassik', 'neue', 'new', 'newage',\n",
       "       'newwave', 'nu', 'nujazz', 'numetal', 'oceania', 'old', 'opera',\n",
       "       'orchestral', 'other', 'piano', 'podcasts', 'pop', 'popdance',\n",
       "       'popelectronic', 'popeurodance', 'poprussian', 'post',\n",
       "       'posthardcore', 'postrock', 'power', 'progmetal', 'progressive',\n",
       "       'psychedelic', 'punjabi', 'punk', 'quebecois', 'ragga', 'ram',\n",
       "       'rancheras', 'rap', 'rave', 'reggae', 'reggaeton', 'regional',\n",
       "       'relax', 'religious', 'retro', 'rhythm', 'rnb', 'rnr', 'rock',\n",
       "       'rockabilly', 'rockalternative', 'rockindie', 'rockother',\n",
       "       'romance', 'roots', 'ruspop', 'rusrap', 'rusrock', 'russian',\n",
       "       'salsa', 'samba', 'scenic', 'schlager', 'self', 'sertanejo',\n",
       "       'shanson', 'shoegazing', 'showtunes', 'singer', 'ska', 'skarock',\n",
       "       'slow', 'smooth', 'soft', 'soul', 'soulful', 'sound', 'soundtrack',\n",
       "       'southern', 'specialty', 'speech', 'spiritual', 'sport',\n",
       "       'stonerrock', 'surf', 'swing', 'synthpop', 'synthrock',\n",
       "       'sängerportrait', 'tango', 'tanzorchester', 'taraftar', 'tatar',\n",
       "       'tech', 'techno', 'teen', 'thrash', 'top', 'traditional',\n",
       "       'tradjazz', 'trance', 'tribal', 'trip', 'triphop', 'tropical',\n",
       "       'türk', 'türkçe', 'ukrrock', 'unknown', 'urban', 'uzbek',\n",
       "       'variété', 'vi', 'videogame', 'vocal', 'western', 'world',\n",
       "       'worldbeat', 'ïîï', 'электроника'], dtype=object)"
      ]
     },
     "execution_count": 15,
     "metadata": {},
     "output_type": "execute_result"
    }
   ],
   "source": [
    "sorted_genre = df['genre'].sort_values()\n",
    "sorted_genre.unique()# Просмотр уникальных названий жанров"
   ]
  },
  {
   "cell_type": "markdown",
   "metadata": {
    "deletable": false,
    "editable": false,
    "id": "qej-Qmuo_Zct",
    "tags": [
     "start_task"
    ]
   },
   "source": [
    "**Задание 16**\n",
    "\n",
    "Просмотрите список и найдите неявные дубликаты названия `hiphop`. Это могут быть названия с ошибками или альтернативные названия того же жанра.\n",
    "\n",
    "Вы увидите следующие неявные дубликаты:\n",
    "* *hip*,\n",
    "* *hop*,\n",
    "* *hip-hop*.\n",
    "\n",
    "Чтобы очистить от них таблицу используйте метод `replace()` с двумя аргументами: списком строк-дубликатов (включащий *hip*, *hop* и *hip-hop*) и строкой с правильным значением. Вам нужно исправить колонку `genre` в таблице `df`: заменить каждое значение из списка дубликатов на верное. Вместо `hip`, `hop` и `hip-hop` в таблице должно быть значение `hiphop`:"
   ]
  },
  {
   "cell_type": "code",
   "execution_count": 16,
   "metadata": {
    "deletable": false,
    "id": "ErNDkmns_Zct"
   },
   "outputs": [],
   "source": [
    "def replace_wrong_values(wrong_values,correct_value):\n",
    "    for wrong_value in wrong_values:\n",
    "        df['genre']= df['genre'].replace(wrong_value,correct_value)\n",
    "\n",
    "duplicates = ['hip', 'hop', 'hip-hop']\n",
    "name = 'hiphop'\n",
    "replace_wrong_values(duplicates,name) # Устранение неявных дубликатов"
   ]
  },
  {
   "cell_type": "markdown",
   "metadata": {
    "deletable": false,
    "editable": false,
    "id": "zQKF16_RG15m",
    "tags": [
     "start_task"
    ]
   },
   "source": [
    "**Задание 17**\n",
    "\n",
    "Проверьте, что заменили неправильные названия:\n",
    "\n",
    "*   hip\n",
    "*   hop\n",
    "*   hip-hop\n",
    "\n",
    "Выведите отсортированный список уникальных значений столбца `genre`:"
   ]
  },
  {
   "cell_type": "code",
   "execution_count": 17,
   "metadata": {
    "deletable": false,
    "id": "wvixALnFG15m"
   },
   "outputs": [
    {
     "data": {
      "text/plain": [
       "array(['acid', 'acoustic', 'action', 'adult', 'africa', 'afrikaans',\n",
       "       'alternative', 'alternativepunk', 'ambient', 'americana',\n",
       "       'animated', 'anime', 'arabesk', 'arabic', 'arena',\n",
       "       'argentinetango', 'art', 'audiobook', 'author', 'avantgarde',\n",
       "       'axé', 'baile', 'balkan', 'beats', 'bigroom', 'black', 'bluegrass',\n",
       "       'blues', 'bollywood', 'bossa', 'brazilian', 'breakbeat', 'breaks',\n",
       "       'broadway', 'cantautori', 'cantopop', 'canzone', 'caribbean',\n",
       "       'caucasian', 'celtic', 'chamber', 'chanson', 'children', 'chill',\n",
       "       'chinese', 'choral', 'christian', 'christmas', 'classical',\n",
       "       'classicmetal', 'club', 'colombian', 'comedy', 'conjazz',\n",
       "       'contemporary', 'country', 'cuban', 'dance', 'dancehall',\n",
       "       'dancepop', 'dark', 'death', 'deep', 'deutschrock', 'deutschspr',\n",
       "       'dirty', 'disco', 'dnb', 'documentary', 'downbeat', 'downtempo',\n",
       "       'drum', 'dub', 'dubstep', 'eastern', 'easy', 'electronic',\n",
       "       'electropop', 'emo', 'entehno', 'epicmetal', 'estrada', 'ethnic',\n",
       "       'eurofolk', 'european', 'experimental', 'extrememetal', 'fado',\n",
       "       'fairytail', 'film', 'fitness', 'flamenco', 'folk', 'folklore',\n",
       "       'folkmetal', 'folkrock', 'folktronica', 'forró', 'frankreich',\n",
       "       'französisch', 'french', 'funk', 'future', 'gangsta', 'garage',\n",
       "       'german', 'ghazal', 'gitarre', 'glitch', 'gospel', 'gothic',\n",
       "       'grime', 'grunge', 'gypsy', 'handsup', \"hard'n'heavy\", 'hardcore',\n",
       "       'hardstyle', 'hardtechno', 'hiphop', 'historisch', 'holiday',\n",
       "       'horror', 'house', 'hymn', 'idm', 'independent', 'indian', 'indie',\n",
       "       'indipop', 'industrial', 'inspirational', 'instrumental',\n",
       "       'international', 'irish', 'jam', 'japanese', 'jazz', 'jewish',\n",
       "       'jpop', 'jungle', 'k-pop', 'karadeniz', 'karaoke', 'kayokyoku',\n",
       "       'korean', 'laiko', 'latin', 'latino', 'leftfield', 'local',\n",
       "       'lounge', 'loungeelectronic', 'lovers', 'malaysian', 'mandopop',\n",
       "       'marschmusik', 'meditative', 'mediterranean', 'melodic', 'metal',\n",
       "       'metalcore', 'mexican', 'middle', 'minimal', 'miscellaneous',\n",
       "       'modern', 'mood', 'mpb', 'muslim', 'native', 'neoklassik', 'neue',\n",
       "       'new', 'newage', 'newwave', 'nu', 'nujazz', 'numetal', 'oceania',\n",
       "       'old', 'opera', 'orchestral', 'other', 'piano', 'podcasts', 'pop',\n",
       "       'popdance', 'popelectronic', 'popeurodance', 'poprussian', 'post',\n",
       "       'posthardcore', 'postrock', 'power', 'progmetal', 'progressive',\n",
       "       'psychedelic', 'punjabi', 'punk', 'quebecois', 'ragga', 'ram',\n",
       "       'rancheras', 'rap', 'rave', 'reggae', 'reggaeton', 'regional',\n",
       "       'relax', 'religious', 'retro', 'rhythm', 'rnb', 'rnr', 'rock',\n",
       "       'rockabilly', 'rockalternative', 'rockindie', 'rockother',\n",
       "       'romance', 'roots', 'ruspop', 'rusrap', 'rusrock', 'russian',\n",
       "       'salsa', 'samba', 'scenic', 'schlager', 'self', 'sertanejo',\n",
       "       'shanson', 'shoegazing', 'showtunes', 'singer', 'ska', 'skarock',\n",
       "       'slow', 'smooth', 'soft', 'soul', 'soulful', 'sound', 'soundtrack',\n",
       "       'southern', 'specialty', 'speech', 'spiritual', 'sport',\n",
       "       'stonerrock', 'surf', 'swing', 'synthpop', 'synthrock',\n",
       "       'sängerportrait', 'tango', 'tanzorchester', 'taraftar', 'tatar',\n",
       "       'tech', 'techno', 'teen', 'thrash', 'top', 'traditional',\n",
       "       'tradjazz', 'trance', 'tribal', 'trip', 'triphop', 'tropical',\n",
       "       'türk', 'türkçe', 'ukrrock', 'unknown', 'urban', 'uzbek',\n",
       "       'variété', 'vi', 'videogame', 'vocal', 'western', 'world',\n",
       "       'worldbeat', 'ïîï', 'электроника'], dtype=object)"
      ]
     },
     "execution_count": 17,
     "metadata": {},
     "output_type": "execute_result"
    }
   ],
   "source": [
    "sorted_genre = df['genre'].sort_values()\n",
    "sorted_genre.unique()# Проверка на неявные дубликаты"
   ]
  },
  {
   "cell_type": "markdown",
   "metadata": {
    "deletable": false,
    "editable": false,
    "id": "jz6a9-7HQUDd"
   },
   "source": [
    "**Выводы**\n",
    "\n",
    "Предобработка обнаружила три проблемы в данных:\n",
    "\n",
    "- нарушения в стиле заголовков,\n",
    "- пропущенные значения,\n",
    "- дубликаты — явные и неявные.\n",
    "\n",
    "Вы исправили заголовки, чтобы упростить работу с таблицей. Без дубликатов исследование станет более точным.\n",
    "\n",
    "Пропущенные значения вы заменили на `'unknown'`. Ещё предстоит увидеть, не повредят ли исследованию пропуски в колонке `genre`.\n",
    "\n",
    "Теперь можно перейти к проверке гипотез. "
   ]
  },
  {
   "cell_type": "markdown",
   "metadata": {
    "deletable": false,
    "editable": false,
    "id": "WttZHXH0SqKk"
   },
   "source": [
    "## Проверка гипотез"
   ]
  },
  {
   "cell_type": "markdown",
   "metadata": {
    "deletable": false,
    "editable": false,
    "id": "Im936VVi_Zcu"
   },
   "source": [
    "### Сравнение поведения пользователей двух столиц"
   ]
  },
  {
   "cell_type": "markdown",
   "metadata": {
    "deletable": false,
    "editable": false,
    "id": "nwt_MuaL_Zcu"
   },
   "source": [
    "Первая гипотеза утверждает, что пользователи по-разному слушают музыку в Москве и Санкт-Петербурге. Проверьте это предположение по данным о трёх днях недели — понедельнике, среде и пятнице. Для этого:\n",
    "\n",
    "* Разделите пользователей Москвы и Санкт-Петербурга\n",
    "* Сравните, сколько треков послушала каждая группа пользователей в понедельник, среду и пятницу.\n"
   ]
  },
  {
   "cell_type": "markdown",
   "metadata": {
    "deletable": false,
    "editable": false,
    "id": "8Dw_YMmT_Zcu",
    "tags": [
     "start_task"
    ]
   },
   "source": [
    "**Задание 18**\n",
    "\n",
    "Для тренировки сначала выполните каждый из расчётов по отдельности. \n",
    "\n",
    "Оцените активность пользователей в каждом городе. Сгруппируйте данные по городу и посчитайте прослушивания в каждой группе.\n",
    "\n"
   ]
  },
  {
   "cell_type": "code",
   "execution_count": 18,
   "metadata": {
    "deletable": false,
    "id": "0_Qs96oh_Zcu"
   },
   "outputs": [
    {
     "name": "stdout",
     "output_type": "stream",
     "text": [
      "city\n",
      "Moscow              42741\n",
      "Saint-Petersburg    18512\n",
      "Name: user_id, dtype: int64\n"
     ]
    }
   ],
   "source": [
    "play_number = df.groupby('city')['user_id'].count()\n",
    "\n",
    "print(play_number) # Подсчёт прослушиваний в каждом городе"
   ]
  },
  {
   "cell_type": "markdown",
   "metadata": {
    "deletable": false,
    "editable": false,
    "id": "dzli3w8o_Zcu",
    "tags": [
     "start_task"
    ]
   },
   "source": [
    "В Москве прослушиваний больше, чем в Петербурге. Из этого не следует, что московские пользователи чаще слушают музыку. Просто самих пользователей в Москве больше.\n",
    "\n",
    "**Задание 19**\n",
    "\n",
    "Теперь сгруппируйте данные по дню недели и подсчитайте прослушивания в понедельник, среду и пятницу. Учтите, что в данных есть информация только о прослушиваниях только за эти дни.\n"
   ]
  },
  {
   "cell_type": "code",
   "execution_count": 19,
   "metadata": {
    "deletable": false,
    "id": "uZMKjiJz_Zcu"
   },
   "outputs": [
    {
     "name": "stdout",
     "output_type": "stream",
     "text": [
      "day\n",
      "Friday       21840\n",
      "Monday       21354\n",
      "Wednesday    18059\n",
      "Name: user_id, dtype: int64\n"
     ]
    }
   ],
   "source": [
    "play_day_number = df.groupby('day')['user_id'].count()# Подсчёт прослушиваний в каждый из трёх дней\n",
    "print(play_day_number)"
   ]
  },
  {
   "cell_type": "markdown",
   "metadata": {
    "deletable": false,
    "editable": false,
    "id": "cC2tNrlL_Zcu"
   },
   "source": [
    "В среднем пользователи из двух городов менее активны по средам. Но картина может измениться, если рассмотреть каждый город в отдельности."
   ]
  },
  {
   "cell_type": "markdown",
   "metadata": {
    "deletable": false,
    "editable": false,
    "id": "POzs8bGa_Zcu",
    "tags": [
     "start_task"
    ]
   },
   "source": [
    "**Задание 20**\n",
    "\n",
    "\n",
    "Вы видели, как работает группировка по городу и по дням недели. Теперь напишите функцию, которая объединит два эти расчёта.\n",
    "\n",
    "Создайте функцию `number_tracks()`, которая посчитает прослушивания для заданного дня и города. Ей понадобятся два параметра:\n",
    "* день недели,\n",
    "* название города.\n",
    "\n",
    "В функции сохраните в переменную строки исходной таблицы, у которых значение:\n",
    "  * в колонке `day` равно параметру `day`,\n",
    "  * в колонке `city` равно параметру `city`.\n",
    "\n",
    "Для этого примените последовательную фильтрацию с логической индексацией (или сложные логические выражения в одну строку, если вы уже знакомы с ними).\n",
    "\n",
    "Затем посчитайте значения в столбце `user_id` получившейся таблицы. Результат сохраните в новую переменную. Верните эту переменную из функции."
   ]
  },
  {
   "cell_type": "code",
   "execution_count": 20,
   "metadata": {
    "deletable": false,
    "id": "Nz3GdQB1_Zcu"
   },
   "outputs": [],
   "source": [
    "# <создание функции number_tracks()>\n",
    "# Объявляется функция с двумя параметрами: day, city.\n",
    "# В переменной track_list сохраняются те строки таблицы df, для которых \n",
    "# значение в столбце 'day' равно параметру day и одновременно значение\n",
    "# в столбце 'city' равно параметру city (используйте последовательную фильтрацию\n",
    "# с помощью логической индексации или сложные логические выражения в одну строку, если вы уже знакомы с ними).\n",
    "# В переменной track_list_count сохраняется число значений столбца 'user_id',\n",
    "# рассчитанное методом count() для таблицы track_list.\n",
    "# Функция возвращает число - значение track_list_count.\n",
    "def number_tracks(day,city):\n",
    "    track_list = df[df['day'] == day]\n",
    "    track_list = track_list[track_list['city'] == city]\n",
    "    track_list_count = track_list['user_id'].count()\n",
    "    return(track_list_count)\n",
    "# Функция для подсчёта прослушиваний для конкретного города и дня.\n",
    "# С помощью последовательной фильтрации с логической индексацией она \n",
    "# сначала получит из исходной таблицы строки с нужным днём,\n",
    "# затем из результата отфильтрует строки с нужным городом,\n",
    "# методом count() посчитает количество значений в колонке user_id. \n",
    "# Это количество функция вернёт в качестве результата"
   ]
  },
  {
   "cell_type": "markdown",
   "metadata": {
    "deletable": false,
    "editable": false,
    "id": "ytf7xFrFJQ2r",
    "tags": [
     "start_task"
    ]
   },
   "source": [
    "**Задание 21**\n",
    "\n",
    "Вызовите `number_tracks()` шесть раз, меняя значение параметров — так, чтобы получить данные для каждого города в каждый из трёх дней."
   ]
  },
  {
   "cell_type": "code",
   "execution_count": 21,
   "metadata": {
    "deletable": false,
    "id": "rJcRATNQ_Zcu"
   },
   "outputs": [
    {
     "data": {
      "text/plain": [
       "15740"
      ]
     },
     "execution_count": 21,
     "metadata": {},
     "output_type": "execute_result"
    }
   ],
   "source": [
    "number_tracks('Monday','Moscow')# количество прослушиваний в Москве по понедельникам"
   ]
  },
  {
   "cell_type": "code",
   "execution_count": 22,
   "metadata": {
    "deletable": false,
    "id": "hq_ncZ5T_Zcu"
   },
   "outputs": [
    {
     "data": {
      "text/plain": [
       "5614"
      ]
     },
     "execution_count": 22,
     "metadata": {},
     "output_type": "execute_result"
    }
   ],
   "source": [
    "number_tracks('Monday','Saint-Petersburg')# количество прослушиваний в Санкт-Петербурге по понедельникам"
   ]
  },
  {
   "cell_type": "code",
   "execution_count": 23,
   "metadata": {
    "deletable": false,
    "id": "_NTy2VPU_Zcu"
   },
   "outputs": [
    {
     "data": {
      "text/plain": [
       "11056"
      ]
     },
     "execution_count": 23,
     "metadata": {},
     "output_type": "execute_result"
    }
   ],
   "source": [
    "number_tracks('Wednesday','Moscow')# количество прослушиваний в Москве по средам"
   ]
  },
  {
   "cell_type": "code",
   "execution_count": 24,
   "metadata": {
    "deletable": false,
    "id": "j2y3TAwo_Zcu"
   },
   "outputs": [
    {
     "data": {
      "text/plain": [
       "7003"
      ]
     },
     "execution_count": 24,
     "metadata": {},
     "output_type": "execute_result"
    }
   ],
   "source": [
    "number_tracks('Wednesday','Saint-Petersburg')# количество прослушиваний в Санкт-Петербурге по средам"
   ]
  },
  {
   "cell_type": "code",
   "execution_count": 25,
   "metadata": {
    "deletable": false,
    "id": "vYDw5u_K_Zcu"
   },
   "outputs": [
    {
     "data": {
      "text/plain": [
       "15945"
      ]
     },
     "execution_count": 25,
     "metadata": {},
     "output_type": "execute_result"
    }
   ],
   "source": [
    "number_tracks('Friday','Moscow')# количество прослушиваний в Москве по пятницам"
   ]
  },
  {
   "cell_type": "code",
   "execution_count": 26,
   "metadata": {
    "deletable": false,
    "id": "8_yzFtW3_Zcu"
   },
   "outputs": [
    {
     "data": {
      "text/plain": [
       "5895"
      ]
     },
     "execution_count": 26,
     "metadata": {},
     "output_type": "execute_result"
    }
   ],
   "source": [
    "number_tracks('Friday','Saint-Petersburg')# количество прослушиваний в Санкт-Петербурге по пятницам"
   ]
  },
  {
   "cell_type": "markdown",
   "metadata": {
    "deletable": false,
    "editable": false,
    "id": "7QXffbO-_Zcu",
    "tags": [
     "start_task"
    ]
   },
   "source": [
    "**Задание 22**\n",
    "\n",
    "Создайте c помощью конструктора `pd.DataFrame` таблицу, где\n",
    "* названия колонок — `['city', 'monday', 'wednesday', 'friday']`;\n",
    "* данные — результаты, которые вы получили с помощью `number_tracks`."
   ]
  },
  {
   "cell_type": "code",
   "execution_count": 27,
   "metadata": {
    "deletable": false,
    "id": "APAcLpOr_Zcu"
   },
   "outputs": [
    {
     "data": {
      "text/html": [
       "<div>\n",
       "<style scoped>\n",
       "    .dataframe tbody tr th:only-of-type {\n",
       "        vertical-align: middle;\n",
       "    }\n",
       "\n",
       "    .dataframe tbody tr th {\n",
       "        vertical-align: top;\n",
       "    }\n",
       "\n",
       "    .dataframe thead th {\n",
       "        text-align: right;\n",
       "    }\n",
       "</style>\n",
       "<table border=\"1\" class=\"dataframe\">\n",
       "  <thead>\n",
       "    <tr style=\"text-align: right;\">\n",
       "      <th></th>\n",
       "      <th>city</th>\n",
       "      <th>monday</th>\n",
       "      <th>wednesday</th>\n",
       "      <th>friday</th>\n",
       "    </tr>\n",
       "  </thead>\n",
       "  <tbody>\n",
       "    <tr>\n",
       "      <th>0</th>\n",
       "      <td>Moscow</td>\n",
       "      <td>15740</td>\n",
       "      <td>11056</td>\n",
       "      <td>15945</td>\n",
       "    </tr>\n",
       "    <tr>\n",
       "      <th>1</th>\n",
       "      <td>Saint-Petersburg</td>\n",
       "      <td>5614</td>\n",
       "      <td>7003</td>\n",
       "      <td>5895</td>\n",
       "    </tr>\n",
       "  </tbody>\n",
       "</table>\n",
       "</div>"
      ],
      "text/plain": [
       "               city  monday  wednesday  friday\n",
       "0            Moscow   15740      11056   15945\n",
       "1  Saint-Petersburg    5614       7003    5895"
      ]
     },
     "execution_count": 27,
     "metadata": {},
     "output_type": "execute_result"
    }
   ],
   "source": [
    "head = ['city', 'monday', 'wednesday', 'friday']\n",
    "city_tracks_by_day = [\n",
    "    ['Moscow',\n",
    "     number_tracks('Monday','Moscow'),\n",
    "     number_tracks('Wednesday','Moscow'),\n",
    "     number_tracks('Friday','Moscow')],\n",
    "    ['Saint-Petersburg',\n",
    "     number_tracks('Monday','Saint-Petersburg'),\n",
    "     number_tracks('Wednesday','Saint-Petersburg'),\n",
    "     number_tracks('Friday','Saint-Petersburg')],\n",
    "    ]\n",
    "\n",
    "results = pd.DataFrame(data=city_tracks_by_day, columns=head)\n",
    "results\n",
    "#print(results)\n",
    "# Таблица с результатами"
   ]
  },
  {
   "cell_type": "markdown",
   "metadata": {
    "deletable": false,
    "editable": false,
    "id": "-EgPIHYu_Zcu"
   },
   "source": [
    "**Выводы**\n",
    "\n",
    "Данные показывают разницу поведения пользователей:\n",
    "\n",
    "- В Москве пик прослушиваний приходится на понедельник и пятницу, а в среду заметен спад.\n",
    "- В Петербурге, наоборот, больше слушают музыку по средам. Активность в понедельник и пятницу здесь почти в равной мере уступает среде.\n",
    "\n",
    "Значит, данные говорят в пользу первой гипотезы."
   ]
  },
  {
   "cell_type": "markdown",
   "metadata": {
    "deletable": false,
    "editable": false,
    "id": "atZAxtq4_Zcu"
   },
   "source": [
    "### Музыка в начале и в конце недели"
   ]
  },
  {
   "cell_type": "markdown",
   "metadata": {
    "deletable": false,
    "editable": false,
    "id": "eXrQqXFH_Zcu"
   },
   "source": [
    "Согласно второй гипотезе, утром в понедельник в Москве преобладают одни жанры, а в Петербурге — другие. Так же и вечером пятницы преобладают разные жанры — в зависимости от города."
   ]
  },
  {
   "cell_type": "markdown",
   "metadata": {
    "deletable": false,
    "editable": false,
    "id": "S8UcW6Hw_Zcu",
    "tags": [
     "start_task"
    ]
   },
   "source": [
    "**Задание 23**\n",
    "\n",
    "Сохраните таблицы с данными в две переменные:\n",
    "* по Москве — в `moscow_general`;\n",
    "* по Санкт-Петербургу — в `spb_general`."
   ]
  },
  {
   "cell_type": "code",
   "execution_count": 28,
   "metadata": {
    "deletable": false,
    "id": "qeaFfM_P_Zcu"
   },
   "outputs": [],
   "source": [
    "moscow_general = df[df['city'] == 'Moscow']\n",
    "#moscow_general\n",
    "# получение таблицы moscow_general из тех строк таблицы df, \n",
    "# для которых значение в столбце 'city' равно 'Moscow'\n"
   ]
  },
  {
   "cell_type": "code",
   "execution_count": 29,
   "metadata": {
    "deletable": false,
    "id": "ORaVRKto_Zcu"
   },
   "outputs": [],
   "source": [
    "spb_general = df[df['city'] == 'Saint-Petersburg']\n",
    "#spb_general\n",
    "# получение таблицы spb_general из тех строк таблицы df,\n",
    "# для которых значение в столбце 'city' равно 'Saint-Petersburg'\n"
   ]
  },
  {
   "cell_type": "markdown",
   "metadata": {
    "deletable": false,
    "id": "MEJV-CX2_Zcu",
    "tags": [
     "start_task"
    ]
   },
   "source": [
    "**Задание 24**\n",
    "\n",
    "Создайте функцию `genre_weekday()` с четырьмя параметрами:\n",
    "* таблица (датафрейм) с данными,\n",
    "* день недели,\n",
    "* начальная временная метка в формате 'hh:mm', \n",
    "* последняя временная метка в формате 'hh:mm'.\n",
    "\n",
    "Функция должна вернуть информацию о топ-10 жанров тех треков, которые прослушивали в указанный день, в промежутке между двумя отметками времени."
   ]
  },
  {
   "cell_type": "code",
   "execution_count": 39,
   "metadata": {
    "deletable": false,
    "id": "laJT9BYl_Zcu"
   },
   "outputs": [],
   "source": [
    "# Объявление функции genre_weekday() с параметрами table, day, time1, time2,\n",
    "# которая возвращает информацию о самых популярных жанрах в указанный день в\n",
    "# заданное время:\n",
    "# 1) в переменную genre_df сохраняются те строки переданного датафрейма table, для\n",
    "#    которых одновременно:\n",
    "#    - значение в столбце day равно значению аргумента day\n",
    "#    - значение в столбце time больше значения аргумента time1\n",
    "#    - значение в столбце time меньше значения аргумента time2\n",
    "#    Используйте последовательную фильтрацию с помощью логической индексации.\n",
    "# 2) сгруппировать датафрейм genre_df по столбцу genre, взять один из его\n",
    "#    столбцов и посчитать методом count() количество записей для каждого из\n",
    "#    присутствующих жанров, получившийся Series записать в переменную\n",
    "#    genre_df_grouped\n",
    "# 3) отсортировать genre_df_grouped по убыванию встречаемости и сохранить\n",
    "#    в переменную genre_df_sorted\n",
    "# 4) вернуть Series из 10 первых значений genre_df_sorted, это будут топ-10\n",
    "#    популярных жанров (в указанный день, в заданное время)\n",
    "\n",
    "def genre_weekday(df, day, time1, time2):\n",
    "       \n",
    "    genre_df = df[df['day'] == day]   \n",
    "    genre_df = genre_df[genre_df['time'] > time1]   \n",
    "    genre_df = genre_df[genre_df['time'] < time2]    \n",
    "    genre_df_grouped = genre_df.groupby('genre')['genre'].count()    \n",
    "    genre_df_sorted = genre_df_grouped.sort_values(ascending=False)   \n",
    "    return genre_df_sorted[:10]"
   ]
  },
  {
   "cell_type": "markdown",
   "metadata": {
    "deletable": false,
    "editable": false,
    "id": "la2s2_PF_Zcu",
    "tags": [
     "start_task"
    ]
   },
   "source": [
    "**Задание 25**\n",
    "\n",
    "\n",
    "Cравните результаты функции `genre_weekday()` для Москвы и Санкт-Петербурга в понедельник утром (с 7:00 до 11:00) и в пятницу вечером (с 17:00 до 23:00):"
   ]
  },
  {
   "cell_type": "code",
   "execution_count": 40,
   "metadata": {
    "deletable": false,
    "id": "yz7itPUQ_Zcu"
   },
   "outputs": [
    {
     "data": {
      "text/plain": [
       "genre\n",
       "pop            781\n",
       "dance          549\n",
       "electronic     480\n",
       "rock           474\n",
       "hiphop         286\n",
       "ruspop         186\n",
       "world          181\n",
       "rusrap         175\n",
       "alternative    164\n",
       "unknown        161\n",
       "Name: genre, dtype: int64"
      ]
     },
     "execution_count": 40,
     "metadata": {},
     "output_type": "execute_result"
    }
   ],
   "source": [
    "# вызов функции для утра понедельника в Москве (вместо df — таблица moscow_general)\n",
    "# объекты, хранящие время, являются строками и сравниваются как строки\n",
    "# пример вызова: genre_weekday(moscow_general, 'Monday', '07:00', '11:00')\n",
    "genre_weekday(moscow_general, 'Monday', '07:00', '11:00')"
   ]
  },
  {
   "cell_type": "code",
   "execution_count": 41,
   "metadata": {
    "deletable": false,
    "id": "kwUcHPdy_Zcu"
   },
   "outputs": [
    {
     "data": {
      "text/plain": [
       "genre\n",
       "pop            218\n",
       "dance          182\n",
       "rock           162\n",
       "electronic     147\n",
       "hiphop          80\n",
       "ruspop          64\n",
       "alternative     58\n",
       "rusrap          55\n",
       "jazz            44\n",
       "classical       40\n",
       "Name: genre, dtype: int64"
      ]
     },
     "execution_count": 41,
     "metadata": {},
     "output_type": "execute_result"
    }
   ],
   "source": [
    "# вызов функции для утра понедельника в Петербурге (вместо df — таблица spb_general)\n",
    "genre_weekday(spb_general, 'Monday', '07:00', '11:00')"
   ]
  },
  {
   "cell_type": "code",
   "execution_count": 42,
   "metadata": {
    "deletable": false,
    "id": "EzXVRE1o_Zcu"
   },
   "outputs": [
    {
     "data": {
      "text/plain": [
       "genre\n",
       "pop            713\n",
       "rock           517\n",
       "dance          495\n",
       "electronic     482\n",
       "hiphop         273\n",
       "world          208\n",
       "ruspop         170\n",
       "alternative    163\n",
       "classical      163\n",
       "rusrap         142\n",
       "Name: genre, dtype: int64"
      ]
     },
     "execution_count": 42,
     "metadata": {},
     "output_type": "execute_result"
    }
   ],
   "source": [
    "# вызов функции для вечера пятницы в Москве\n",
    "genre_weekday(moscow_general, 'Friday', '17:00', '23:00')"
   ]
  },
  {
   "cell_type": "code",
   "execution_count": 43,
   "metadata": {
    "deletable": false,
    "id": "JZaEKu5v_Zcu"
   },
   "outputs": [
    {
     "data": {
      "text/plain": [
       "genre\n",
       "pop            256\n",
       "electronic     216\n",
       "rock           216\n",
       "dance          210\n",
       "hiphop          97\n",
       "alternative     63\n",
       "jazz            61\n",
       "classical       60\n",
       "rusrap          59\n",
       "world           54\n",
       "Name: genre, dtype: int64"
      ]
     },
     "execution_count": 43,
     "metadata": {},
     "output_type": "execute_result"
    }
   ],
   "source": [
    "# вызов функции для вечера пятницы в Петербурге\n",
    "genre_weekday(spb_general, 'Friday', '17:00', '23:00')"
   ]
  },
  {
   "cell_type": "markdown",
   "metadata": {
    "deletable": false,
    "editable": false,
    "id": "wrCe4MNX_Zcu"
   },
   "source": [
    "**Выводы**\n",
    "\n",
    "Если сравнить топ-10 жанров в понедельник утром, можно сделать такие выводы:\n",
    "\n",
    "1. В Москве и Петербурге слушают похожую музыку. Единственное отличие — в московский рейтинг вошёл жанр “world”, а в петербургский — джаз и классика.\n",
    "\n",
    "2. В Москве пропущенных значений оказалось так много, что значение `'unknown'` заняло десятое место среди самых популярных жанров. Значит, пропущенные значения занимают существенную долю в данных и угрожают достоверности исследования.\n",
    "\n",
    "Вечер пятницы не меняет эту картину. Некоторые жанры поднимаются немного выше, другие спускаются, но в целом топ-10 остаётся тем же самым.\n",
    "\n",
    "Таким образом, вторая гипотеза подтвердилась лишь частично:\n",
    "* Пользователи слушают похожую музыку в начале недели и в конце.\n",
    "* Разница между Москвой и Петербургом не слишком выражена. В Москве чаще слушают русскую популярную музыку, в Петербурге — джаз.\n",
    "\n",
    "Однако пропуски в данных ставят под сомнение этот результат. В Москве их так много, что рейтинг топ-10 мог бы выглядеть иначе, если бы не утерянные  данные о жанрах."
   ]
  },
  {
   "cell_type": "markdown",
   "metadata": {
    "deletable": false,
    "editable": false,
    "id": "JolODAqr_Zcu"
   },
   "source": [
    "### Жанровые предпочтения в Москве и Петербурге\n",
    "\n",
    "Гипотеза: Петербург — столица рэпа, музыку этого жанра там слушают чаще, чем в Москве.  А Москва — город контрастов, в котором, тем не менее, преобладает поп-музыка."
   ]
  },
  {
   "cell_type": "markdown",
   "metadata": {
    "deletable": false,
    "editable": false,
    "id": "DlegSvaT_Zcu",
    "tags": [
     "start_task"
    ]
   },
   "source": [
    "**Задание 26**\n",
    "\n",
    "Сгруппируйте таблицу `moscow_general` по жанру и посчитайте прослушивания треков каждого жанра методом `count()`. Затем отсортируйте результат в порядке убывания и сохраните его в таблице `moscow_genres`."
   ]
  },
  {
   "cell_type": "code",
   "execution_count": 44,
   "metadata": {
    "deletable": false,
    "id": "r19lIPke_Zcu"
   },
   "outputs": [],
   "source": [
    "moscow_genres = moscow_general.groupby('genre')['genre'].count().sort_values(ascending=False)\n",
    "#moscow_genres\n",
    "# одной строкой: группировка таблицы moscow_general по столбцу 'genre', \n",
    "# подсчёт числа значений 'genre' в этой группировке методом count(), \n",
    "# сортировка получившегося Series в порядке убывания и сохранение в moscow_genres"
   ]
  },
  {
   "cell_type": "markdown",
   "metadata": {
    "deletable": false,
    "editable": false,
    "id": "6kMuomxTiIr8",
    "tags": [
     "start_task"
    ]
   },
   "source": [
    "**Задание 27**\n",
    "\n",
    "Выведите на экран первые десять строк `moscow_genres`:"
   ]
  },
  {
   "cell_type": "code",
   "execution_count": 45,
   "metadata": {
    "deletable": false,
    "id": "WhCSooF8_Zcv"
   },
   "outputs": [
    {
     "data": {
      "text/plain": [
       "genre\n",
       "pop            5892\n",
       "dance          4435\n",
       "rock           3965\n",
       "electronic     3786\n",
       "hiphop         2096\n",
       "classical      1616\n",
       "world          1432\n",
       "alternative    1379\n",
       "ruspop         1372\n",
       "rusrap         1161\n",
       "Name: genre, dtype: int64"
      ]
     },
     "execution_count": 45,
     "metadata": {},
     "output_type": "execute_result"
    }
   ],
   "source": [
    "moscow_genres.head(10)\n",
    "# просмотр первых 10 строк moscow_genres"
   ]
  },
  {
   "cell_type": "markdown",
   "metadata": {
    "deletable": false,
    "editable": false,
    "id": "cnPG2vnN_Zcv",
    "tags": [
     "start_task"
    ]
   },
   "source": [
    "**Задание 28**\n",
    "\n",
    "\n",
    "Теперь повторите то же и для Петербурга.\n",
    "\n",
    "Сгруппируйте таблицу `spb_general` по жанру. Посчитайте прослушивания треков каждого жанра. Результат отсортируйте в порядке убывания и сохраните в таблице `spb_genres`:\n"
   ]
  },
  {
   "cell_type": "code",
   "execution_count": 48,
   "metadata": {
    "deletable": false,
    "id": "gluLIpE7_Zcv"
   },
   "outputs": [],
   "source": [
    "spb_genres = spb_general.groupby('genre')['genre'].count().sort_values(ascending=False)\n",
    "\n",
    "# одной строкой: группировка таблицы spb_general по столбцу 'genre', \n",
    "# подсчёт числа значений 'genre' в этой группировке методом count(), \n",
    "# сортировка получившегося Series в порядке убывания и сохранение в spb_genres"
   ]
  },
  {
   "cell_type": "markdown",
   "metadata": {
    "deletable": false,
    "editable": false,
    "id": "5Doha_ODgyQ8",
    "tags": [
     "start_task"
    ]
   },
   "source": [
    "**Задание 29**\n",
    "\n",
    "Выведите на экран первые десять строк `spb_genres`:"
   ]
  },
  {
   "cell_type": "code",
   "execution_count": 47,
   "metadata": {
    "deletable": false,
    "id": "uaGJHjVU_Zcv"
   },
   "outputs": [
    {
     "data": {
      "text/plain": [
       "genre\n",
       "pop            2431\n",
       "dance          1932\n",
       "rock           1879\n",
       "electronic     1736\n",
       "hiphop          960\n",
       "alternative     649\n",
       "classical       646\n",
       "rusrap          564\n",
       "ruspop          538\n",
       "world           515\n",
       "Name: genre, dtype: int64"
      ]
     },
     "execution_count": 47,
     "metadata": {},
     "output_type": "execute_result"
    }
   ],
   "source": [
    "spb_genres.head(10)# просмотр первых 10 строк spb_genres"
   ]
  },
  {
   "cell_type": "markdown",
   "metadata": {
    "deletable": false,
    "editable": false,
    "id": "RY51YJYu_Zcv"
   },
   "source": [
    "**Выводы**"
   ]
  },
  {
   "cell_type": "markdown",
   "metadata": {
    "deletable": false,
    "editable": false,
    "id": "nVhnJEm__Zcv"
   },
   "source": [
    "Гипотеза частично подтвердилась:\n",
    "* Поп-музыка — самый популярный жанр в Москве, как и предполагала гипотеза. Более того, в топ-10 жанров встречается близкий жанр — русская популярная музыка.\n",
    "* Вопреки ожиданиям, рэп одинаково популярен в Москве и Петербурге. \n"
   ]
  },
  {
   "cell_type": "markdown",
   "metadata": {
    "deletable": false,
    "editable": false,
    "id": "ykKQ0N65_Zcv"
   },
   "source": [
    "## Итоги исследования"
   ]
  },
  {
   "cell_type": "markdown",
   "metadata": {
    "deletable": false,
    "editable": false,
    "id": "tjUwbHb3_Zcv"
   },
   "source": [
    "Вы проверили три гипотезы и установили:\n",
    "\n",
    "1. День недели по-разному влияет на активность пользователей в Москве и Петербурге. \n",
    "\n",
    "Первая гипотеза полностью подтвердилась.\n",
    "\n",
    "2. Музыкальные предпочтения не сильно меняются в течение недели — будь то Москва или Петербург. Небольшие различия заметны в начале недели, по понедельникам:\n",
    "* в Москве слушают музыку жанра “world”,\n",
    "* в Петербурге — джаз и классику.\n",
    "\n",
    "Таким образом, вторая гипотеза подтвердилась лишь отчасти. Этот результат мог оказаться иным, если бы не пропуски в данных.\n",
    "\n",
    "3. Во вкусах пользователей Москвы и Петербурга больше общего чем различий. Вопреки ожиданиям, предпочтения жанров в Петербурге напоминают московские.\n",
    "\n",
    "Третья гипотеза не подтвердилась. Если различия в предпочтениях и существуют, на основной массе пользователей они незаметны.\n",
    "\n",
    "**На практике исследования содержат проверки статистических гипотез.**\n",
    "Из данных одного сервиса не всегда можно сделать вывод о всех жителях города.\n",
    "Проверки статистических гипотез покажут, насколько они достоверны, исходя из имеющихся данных. \n",
    "С методами проверок гипотез вы ещё познакомитесь в следующих темах."
   ]
  }
 ],
 "metadata": {
  "ExecuteTimeLog": [
   {
    "duration": 357,
    "start_time": "2023-02-08T15:18:19.705Z"
   },
   {
    "duration": 159,
    "start_time": "2023-02-08T15:18:20.064Z"
   },
   {
    "duration": 17,
    "start_time": "2023-02-08T15:18:20.225Z"
   },
   {
    "duration": 32,
    "start_time": "2023-02-08T15:18:20.243Z"
   },
   {
    "duration": 6,
    "start_time": "2023-02-08T15:18:20.278Z"
   },
   {
    "duration": 8,
    "start_time": "2023-02-08T15:18:20.285Z"
   },
   {
    "duration": 15,
    "start_time": "2023-02-08T15:18:20.295Z"
   },
   {
    "duration": 5,
    "start_time": "2023-02-08T15:18:20.312Z"
   },
   {
    "duration": 47,
    "start_time": "2023-02-08T15:18:20.319Z"
   },
   {
    "duration": 19,
    "start_time": "2023-02-08T15:18:20.368Z"
   },
   {
    "duration": 23,
    "start_time": "2023-02-08T15:18:20.389Z"
   },
   {
    "duration": 87,
    "start_time": "2023-02-08T15:18:20.414Z"
   },
   {
    "duration": 87,
    "start_time": "2023-02-08T15:18:20.503Z"
   },
   {
    "duration": 69,
    "start_time": "2023-02-08T15:18:20.593Z"
   },
   {
    "duration": 7,
    "start_time": "2023-02-08T15:18:20.663Z"
   },
   {
    "duration": 23,
    "start_time": "2023-02-08T15:18:20.671Z"
   },
   {
    "duration": 15,
    "start_time": "2023-02-08T15:18:20.695Z"
   },
   {
    "duration": 23,
    "start_time": "2023-02-08T15:18:20.712Z"
   },
   {
    "duration": 33,
    "start_time": "2023-02-08T15:18:20.737Z"
   },
   {
    "duration": 4,
    "start_time": "2023-02-08T15:18:20.772Z"
   },
   {
    "duration": 22,
    "start_time": "2023-02-08T15:18:20.778Z"
   },
   {
    "duration": 16,
    "start_time": "2023-02-08T15:18:20.801Z"
   },
   {
    "duration": 34,
    "start_time": "2023-02-08T15:18:20.819Z"
   },
   {
    "duration": 15,
    "start_time": "2023-02-08T15:18:20.855Z"
   },
   {
    "duration": 15,
    "start_time": "2023-02-08T15:18:20.872Z"
   },
   {
    "duration": 14,
    "start_time": "2023-02-08T15:18:20.889Z"
   },
   {
    "duration": 108,
    "start_time": "2023-02-08T15:18:20.905Z"
   },
   {
    "duration": 19,
    "start_time": "2023-02-08T15:18:21.015Z"
   },
   {
    "duration": 25,
    "start_time": "2023-02-08T15:18:21.035Z"
   },
   {
    "duration": 11,
    "start_time": "2023-02-08T15:18:21.062Z"
   },
   {
    "duration": 29,
    "start_time": "2023-02-08T15:18:21.074Z"
   },
   {
    "duration": 88,
    "start_time": "2023-02-08T15:18:21.105Z"
   },
   {
    "duration": 0,
    "start_time": "2023-02-08T15:18:21.195Z"
   },
   {
    "duration": 0,
    "start_time": "2023-02-08T15:18:21.196Z"
   },
   {
    "duration": 0,
    "start_time": "2023-02-08T15:18:21.197Z"
   },
   {
    "duration": 0,
    "start_time": "2023-02-08T15:18:21.199Z"
   },
   {
    "duration": 0,
    "start_time": "2023-02-08T15:18:21.200Z"
   },
   {
    "duration": 0,
    "start_time": "2023-02-08T15:18:21.201Z"
   },
   {
    "duration": 431,
    "start_time": "2023-02-08T15:18:54.417Z"
   },
   {
    "duration": 167,
    "start_time": "2023-02-08T15:18:54.851Z"
   },
   {
    "duration": 17,
    "start_time": "2023-02-08T15:18:55.020Z"
   },
   {
    "duration": 43,
    "start_time": "2023-02-08T15:18:55.038Z"
   },
   {
    "duration": 3,
    "start_time": "2023-02-08T15:18:55.083Z"
   },
   {
    "duration": 13,
    "start_time": "2023-02-08T15:18:55.088Z"
   },
   {
    "duration": 17,
    "start_time": "2023-02-08T15:18:55.102Z"
   },
   {
    "duration": 33,
    "start_time": "2023-02-08T15:18:55.122Z"
   },
   {
    "duration": 26,
    "start_time": "2023-02-08T15:18:55.157Z"
   },
   {
    "duration": 22,
    "start_time": "2023-02-08T15:18:55.186Z"
   },
   {
    "duration": 43,
    "start_time": "2023-02-08T15:18:55.209Z"
   },
   {
    "duration": 63,
    "start_time": "2023-02-08T15:18:55.254Z"
   },
   {
    "duration": 98,
    "start_time": "2023-02-08T15:18:55.319Z"
   },
   {
    "duration": 76,
    "start_time": "2023-02-08T15:18:55.418Z"
   },
   {
    "duration": 7,
    "start_time": "2023-02-08T15:18:55.496Z"
   },
   {
    "duration": 13,
    "start_time": "2023-02-08T15:18:55.504Z"
   },
   {
    "duration": 10,
    "start_time": "2023-02-08T15:18:55.518Z"
   },
   {
    "duration": 12,
    "start_time": "2023-02-08T15:18:55.548Z"
   },
   {
    "duration": 9,
    "start_time": "2023-02-08T15:18:55.562Z"
   },
   {
    "duration": 3,
    "start_time": "2023-02-08T15:18:55.573Z"
   },
   {
    "duration": 30,
    "start_time": "2023-02-08T15:18:55.578Z"
   },
   {
    "duration": 40,
    "start_time": "2023-02-08T15:18:55.609Z"
   },
   {
    "duration": 16,
    "start_time": "2023-02-08T15:18:55.651Z"
   },
   {
    "duration": 14,
    "start_time": "2023-02-08T15:18:55.669Z"
   },
   {
    "duration": 12,
    "start_time": "2023-02-08T15:18:55.685Z"
   },
   {
    "duration": 50,
    "start_time": "2023-02-08T15:18:55.699Z"
   },
   {
    "duration": 68,
    "start_time": "2023-02-08T15:18:55.751Z"
   },
   {
    "duration": 37,
    "start_time": "2023-02-08T15:18:55.821Z"
   },
   {
    "duration": 26,
    "start_time": "2023-02-08T15:18:55.860Z"
   },
   {
    "duration": 6,
    "start_time": "2023-02-08T15:18:55.888Z"
   },
   {
    "duration": 22,
    "start_time": "2023-02-08T15:18:55.896Z"
   },
   {
    "duration": 37,
    "start_time": "2023-02-08T15:18:55.920Z"
   },
   {
    "duration": 19,
    "start_time": "2023-02-08T15:18:55.959Z"
   },
   {
    "duration": 15,
    "start_time": "2023-02-08T15:18:55.980Z"
   },
   {
    "duration": 11,
    "start_time": "2023-02-08T15:18:55.997Z"
   },
   {
    "duration": 43,
    "start_time": "2023-02-08T15:18:56.010Z"
   },
   {
    "duration": 18,
    "start_time": "2023-02-08T15:18:56.055Z"
   },
   {
    "duration": 9,
    "start_time": "2023-02-08T15:18:56.074Z"
   },
   {
    "duration": 76,
    "start_time": "2023-02-08T15:40:31.317Z"
   },
   {
    "duration": 65,
    "start_time": "2023-02-08T15:42:48.647Z"
   },
   {
    "duration": 112,
    "start_time": "2023-02-08T15:43:06.074Z"
   },
   {
    "duration": 48,
    "start_time": "2023-02-08T15:45:18.290Z"
   },
   {
    "duration": 49,
    "start_time": "2023-02-08T15:46:51.694Z"
   },
   {
    "duration": 95,
    "start_time": "2023-02-08T15:48:29.478Z"
   },
   {
    "duration": 50,
    "start_time": "2023-02-08T15:48:43.985Z"
   },
   {
    "duration": 48,
    "start_time": "2023-02-08T15:49:05.412Z"
   },
   {
    "duration": 50,
    "start_time": "2023-02-08T15:49:23.752Z"
   },
   {
    "duration": 47,
    "start_time": "2023-02-08T15:51:05.286Z"
   },
   {
    "duration": 36,
    "start_time": "2023-02-08T16:04:32.525Z"
   },
   {
    "duration": 37,
    "start_time": "2023-02-08T16:04:52.914Z"
   },
   {
    "duration": 41,
    "start_time": "2023-02-08T16:05:39.318Z"
   },
   {
    "duration": 9,
    "start_time": "2023-02-08T16:08:01.832Z"
   },
   {
    "duration": 40,
    "start_time": "2023-02-08T16:10:57.593Z"
   },
   {
    "duration": 379,
    "start_time": "2023-02-08T16:13:17.793Z"
   },
   {
    "duration": 181,
    "start_time": "2023-02-08T16:13:18.174Z"
   },
   {
    "duration": 25,
    "start_time": "2023-02-08T16:13:18.358Z"
   },
   {
    "duration": 65,
    "start_time": "2023-02-08T16:13:18.385Z"
   },
   {
    "duration": 3,
    "start_time": "2023-02-08T16:13:18.452Z"
   },
   {
    "duration": 6,
    "start_time": "2023-02-08T16:13:18.456Z"
   },
   {
    "duration": 17,
    "start_time": "2023-02-08T16:13:18.464Z"
   },
   {
    "duration": 7,
    "start_time": "2023-02-08T16:13:18.483Z"
   },
   {
    "duration": 29,
    "start_time": "2023-02-08T16:13:18.491Z"
   },
   {
    "duration": 47,
    "start_time": "2023-02-08T16:13:18.522Z"
   },
   {
    "duration": 25,
    "start_time": "2023-02-08T16:13:18.571Z"
   },
   {
    "duration": 100,
    "start_time": "2023-02-08T16:13:18.597Z"
   },
   {
    "duration": 88,
    "start_time": "2023-02-08T16:13:18.699Z"
   },
   {
    "duration": 68,
    "start_time": "2023-02-08T16:13:18.791Z"
   },
   {
    "duration": 38,
    "start_time": "2023-02-08T16:13:18.861Z"
   },
   {
    "duration": 10,
    "start_time": "2023-02-08T16:13:18.901Z"
   },
   {
    "duration": 69,
    "start_time": "2023-02-08T16:13:18.912Z"
   },
   {
    "duration": 11,
    "start_time": "2023-02-08T16:13:18.982Z"
   },
   {
    "duration": 15,
    "start_time": "2023-02-08T16:13:18.995Z"
   },
   {
    "duration": 4,
    "start_time": "2023-02-08T16:13:19.012Z"
   },
   {
    "duration": 48,
    "start_time": "2023-02-08T16:13:19.017Z"
   },
   {
    "duration": 15,
    "start_time": "2023-02-08T16:13:19.066Z"
   },
   {
    "duration": 17,
    "start_time": "2023-02-08T16:13:19.083Z"
   },
   {
    "duration": 58,
    "start_time": "2023-02-08T16:13:19.101Z"
   },
   {
    "duration": 13,
    "start_time": "2023-02-08T16:13:19.161Z"
   },
   {
    "duration": 16,
    "start_time": "2023-02-08T16:13:19.176Z"
   },
   {
    "duration": 120,
    "start_time": "2023-02-08T16:13:19.194Z"
   },
   {
    "duration": 34,
    "start_time": "2023-02-08T16:13:19.315Z"
   },
   {
    "duration": 19,
    "start_time": "2023-02-08T16:13:19.351Z"
   },
   {
    "duration": 5,
    "start_time": "2023-02-08T16:13:19.371Z"
   },
   {
    "duration": 27,
    "start_time": "2023-02-08T16:13:19.377Z"
   },
   {
    "duration": 56,
    "start_time": "2023-02-08T16:13:19.406Z"
   },
   {
    "duration": 18,
    "start_time": "2023-02-08T16:13:19.464Z"
   },
   {
    "duration": 12,
    "start_time": "2023-02-08T16:13:19.484Z"
   },
   {
    "duration": 9,
    "start_time": "2023-02-08T16:13:19.498Z"
   },
   {
    "duration": 5,
    "start_time": "2023-02-08T16:13:19.548Z"
   },
   {
    "duration": 8,
    "start_time": "2023-02-08T16:13:19.555Z"
   },
   {
    "duration": 5,
    "start_time": "2023-02-08T16:13:19.564Z"
   },
   {
    "duration": 18,
    "start_time": "2023-02-08T16:18:29.868Z"
   },
   {
    "duration": 17,
    "start_time": "2023-02-08T16:18:32.446Z"
   },
   {
    "duration": 15,
    "start_time": "2023-02-08T16:18:35.867Z"
   },
   {
    "duration": 15,
    "start_time": "2023-02-08T16:18:38.465Z"
   },
   {
    "duration": 18,
    "start_time": "2023-02-08T16:18:40.875Z"
   },
   {
    "duration": 21,
    "start_time": "2023-02-08T16:18:43.427Z"
   },
   {
    "duration": 12,
    "start_time": "2023-02-08T16:20:15.207Z"
   },
   {
    "duration": 12,
    "start_time": "2023-02-08T16:20:18.072Z"
   },
   {
    "duration": 22,
    "start_time": "2023-02-08T16:22:50.421Z"
   },
   {
    "duration": 20,
    "start_time": "2023-02-08T16:22:53.361Z"
   },
   {
    "duration": 17,
    "start_time": "2023-02-08T16:23:01.360Z"
   },
   {
    "duration": 21,
    "start_time": "2023-02-08T16:23:04.409Z"
   },
   {
    "duration": 22,
    "start_time": "2023-02-08T16:24:32.283Z"
   },
   {
    "duration": 14,
    "start_time": "2023-02-08T16:24:41.639Z"
   },
   {
    "duration": 445,
    "start_time": "2023-02-08T16:27:24.271Z"
   },
   {
    "duration": 175,
    "start_time": "2023-02-08T16:27:24.718Z"
   },
   {
    "duration": 18,
    "start_time": "2023-02-08T16:27:24.894Z"
   },
   {
    "duration": 50,
    "start_time": "2023-02-08T16:27:24.913Z"
   },
   {
    "duration": 3,
    "start_time": "2023-02-08T16:27:24.966Z"
   },
   {
    "duration": 6,
    "start_time": "2023-02-08T16:27:24.971Z"
   },
   {
    "duration": 20,
    "start_time": "2023-02-08T16:27:24.978Z"
   },
   {
    "duration": 11,
    "start_time": "2023-02-08T16:27:25.000Z"
   },
   {
    "duration": 60,
    "start_time": "2023-02-08T16:27:25.012Z"
   },
   {
    "duration": 38,
    "start_time": "2023-02-08T16:27:25.073Z"
   },
   {
    "duration": 44,
    "start_time": "2023-02-08T16:27:25.113Z"
   },
   {
    "duration": 90,
    "start_time": "2023-02-08T16:27:25.160Z"
   },
   {
    "duration": 73,
    "start_time": "2023-02-08T16:27:25.251Z"
   },
   {
    "duration": 87,
    "start_time": "2023-02-08T16:27:25.327Z"
   },
   {
    "duration": 57,
    "start_time": "2023-02-08T16:27:25.416Z"
   },
   {
    "duration": 11,
    "start_time": "2023-02-08T16:27:25.475Z"
   },
   {
    "duration": 62,
    "start_time": "2023-02-08T16:27:25.488Z"
   },
   {
    "duration": 12,
    "start_time": "2023-02-08T16:27:25.552Z"
   },
   {
    "duration": 16,
    "start_time": "2023-02-08T16:27:25.565Z"
   },
   {
    "duration": 3,
    "start_time": "2023-02-08T16:27:25.583Z"
   },
   {
    "duration": 37,
    "start_time": "2023-02-08T16:27:25.588Z"
   },
   {
    "duration": 35,
    "start_time": "2023-02-08T16:27:25.627Z"
   },
   {
    "duration": 20,
    "start_time": "2023-02-08T16:27:25.663Z"
   },
   {
    "duration": 13,
    "start_time": "2023-02-08T16:27:25.685Z"
   },
   {
    "duration": 18,
    "start_time": "2023-02-08T16:27:25.700Z"
   },
   {
    "duration": 31,
    "start_time": "2023-02-08T16:27:25.720Z"
   },
   {
    "duration": 70,
    "start_time": "2023-02-08T16:27:25.752Z"
   },
   {
    "duration": 10,
    "start_time": "2023-02-08T16:27:25.824Z"
   },
   {
    "duration": 14,
    "start_time": "2023-02-08T16:27:25.836Z"
   },
   {
    "duration": 5,
    "start_time": "2023-02-08T16:27:25.852Z"
   },
   {
    "duration": 24,
    "start_time": "2023-02-08T16:27:25.859Z"
   },
   {
    "duration": 12,
    "start_time": "2023-02-08T16:27:25.885Z"
   },
   {
    "duration": 19,
    "start_time": "2023-02-08T16:27:25.898Z"
   },
   {
    "duration": 12,
    "start_time": "2023-02-08T16:27:25.919Z"
   },
   {
    "duration": 17,
    "start_time": "2023-02-08T16:27:25.933Z"
   },
   {
    "duration": 6,
    "start_time": "2023-02-08T16:27:25.951Z"
   },
   {
    "duration": 11,
    "start_time": "2023-02-08T16:27:25.958Z"
   },
   {
    "duration": 6,
    "start_time": "2023-02-08T16:27:25.970Z"
   },
   {
    "duration": 29,
    "start_time": "2023-02-08T16:28:22.519Z"
   },
   {
    "duration": 4,
    "start_time": "2023-02-08T16:30:21.969Z"
   },
   {
    "duration": 20,
    "start_time": "2023-02-08T16:30:30.881Z"
   },
   {
    "duration": 10,
    "start_time": "2023-02-08T16:30:36.079Z"
   },
   {
    "duration": 15,
    "start_time": "2023-02-08T16:30:38.639Z"
   },
   {
    "duration": 11,
    "start_time": "2023-02-08T16:30:44.758Z"
   },
   {
    "duration": 5,
    "start_time": "2023-02-08T16:32:09.825Z"
   },
   {
    "duration": 20,
    "start_time": "2023-02-08T16:32:29.417Z"
   },
   {
    "duration": 13,
    "start_time": "2023-02-08T16:32:33.056Z"
   },
   {
    "duration": 20,
    "start_time": "2023-02-08T16:32:39.402Z"
   },
   {
    "duration": 15,
    "start_time": "2023-02-08T16:32:46.418Z"
   },
   {
    "duration": 20,
    "start_time": "2023-02-08T16:37:59.915Z"
   },
   {
    "duration": 22,
    "start_time": "2023-02-08T16:38:05.537Z"
   },
   {
    "duration": 22,
    "start_time": "2023-02-08T16:38:12.214Z"
   },
   {
    "duration": 22,
    "start_time": "2023-02-08T16:38:13.619Z"
   },
   {
    "duration": 27,
    "start_time": "2023-02-08T16:38:14.769Z"
   },
   {
    "duration": 34,
    "start_time": "2023-02-08T16:38:22.728Z"
   },
   {
    "duration": 15,
    "start_time": "2023-02-08T16:38:24.116Z"
   },
   {
    "duration": 415,
    "start_time": "2023-02-08T16:47:04.752Z"
   },
   {
    "duration": 185,
    "start_time": "2023-02-08T16:47:05.169Z"
   },
   {
    "duration": 24,
    "start_time": "2023-02-08T16:47:05.356Z"
   },
   {
    "duration": 70,
    "start_time": "2023-02-08T16:47:05.383Z"
   },
   {
    "duration": 3,
    "start_time": "2023-02-08T16:47:05.456Z"
   },
   {
    "duration": 11,
    "start_time": "2023-02-08T16:47:05.462Z"
   },
   {
    "duration": 15,
    "start_time": "2023-02-08T16:47:05.476Z"
   },
   {
    "duration": 7,
    "start_time": "2023-02-08T16:47:05.493Z"
   },
   {
    "duration": 50,
    "start_time": "2023-02-08T16:47:05.502Z"
   },
   {
    "duration": 22,
    "start_time": "2023-02-08T16:47:05.554Z"
   },
   {
    "duration": 26,
    "start_time": "2023-02-08T16:47:05.578Z"
   },
   {
    "duration": 131,
    "start_time": "2023-02-08T16:47:05.606Z"
   },
   {
    "duration": 78,
    "start_time": "2023-02-08T16:47:05.739Z"
   },
   {
    "duration": 78,
    "start_time": "2023-02-08T16:47:05.820Z"
   },
   {
    "duration": 57,
    "start_time": "2023-02-08T16:47:05.900Z"
   },
   {
    "duration": 10,
    "start_time": "2023-02-08T16:47:05.959Z"
   },
   {
    "duration": 42,
    "start_time": "2023-02-08T16:47:05.971Z"
   },
   {
    "duration": 37,
    "start_time": "2023-02-08T16:47:06.015Z"
   },
   {
    "duration": 12,
    "start_time": "2023-02-08T16:47:06.054Z"
   },
   {
    "duration": 4,
    "start_time": "2023-02-08T16:47:06.068Z"
   },
   {
    "duration": 21,
    "start_time": "2023-02-08T16:47:06.073Z"
   },
   {
    "duration": 65,
    "start_time": "2023-02-08T16:47:06.095Z"
   },
   {
    "duration": 18,
    "start_time": "2023-02-08T16:47:06.162Z"
   },
   {
    "duration": 19,
    "start_time": "2023-02-08T16:47:06.181Z"
   },
   {
    "duration": 17,
    "start_time": "2023-02-08T16:47:06.201Z"
   },
   {
    "duration": 19,
    "start_time": "2023-02-08T16:47:06.249Z"
   },
   {
    "duration": 120,
    "start_time": "2023-02-08T16:47:06.271Z"
   },
   {
    "duration": 14,
    "start_time": "2023-02-08T16:47:06.393Z"
   },
   {
    "duration": 15,
    "start_time": "2023-02-08T16:47:06.409Z"
   },
   {
    "duration": 24,
    "start_time": "2023-02-08T16:47:06.427Z"
   },
   {
    "duration": 39,
    "start_time": "2023-02-08T16:47:06.453Z"
   },
   {
    "duration": 17,
    "start_time": "2023-02-08T16:47:06.495Z"
   },
   {
    "duration": 51,
    "start_time": "2023-02-08T16:47:06.514Z"
   },
   {
    "duration": 19,
    "start_time": "2023-02-08T16:47:06.568Z"
   },
   {
    "duration": 26,
    "start_time": "2023-02-08T16:47:06.589Z"
   },
   {
    "duration": 16,
    "start_time": "2023-02-08T16:47:06.618Z"
   },
   {
    "duration": 11,
    "start_time": "2023-02-08T16:47:06.648Z"
   },
   {
    "duration": 10,
    "start_time": "2023-02-08T16:47:06.661Z"
   },
   {
    "duration": 411,
    "start_time": "2023-02-08T17:15:29.416Z"
   },
   {
    "duration": 168,
    "start_time": "2023-02-08T17:15:29.829Z"
   },
   {
    "duration": 18,
    "start_time": "2023-02-08T17:15:29.999Z"
   },
   {
    "duration": 47,
    "start_time": "2023-02-08T17:15:30.019Z"
   },
   {
    "duration": 3,
    "start_time": "2023-02-08T17:15:30.069Z"
   },
   {
    "duration": 33,
    "start_time": "2023-02-08T17:15:30.074Z"
   },
   {
    "duration": 27,
    "start_time": "2023-02-08T17:15:30.109Z"
   },
   {
    "duration": 15,
    "start_time": "2023-02-08T17:15:30.138Z"
   },
   {
    "duration": 33,
    "start_time": "2023-02-08T17:15:30.155Z"
   },
   {
    "duration": 38,
    "start_time": "2023-02-08T17:15:30.190Z"
   },
   {
    "duration": 39,
    "start_time": "2023-02-08T17:15:30.229Z"
   },
   {
    "duration": 96,
    "start_time": "2023-02-08T17:15:30.269Z"
   },
   {
    "duration": 70,
    "start_time": "2023-02-08T17:15:30.367Z"
   },
   {
    "duration": 68,
    "start_time": "2023-02-08T17:15:30.449Z"
   },
   {
    "duration": 64,
    "start_time": "2023-02-08T17:15:30.519Z"
   },
   {
    "duration": 12,
    "start_time": "2023-02-08T17:15:30.585Z"
   },
   {
    "duration": 76,
    "start_time": "2023-02-08T17:15:30.598Z"
   },
   {
    "duration": 23,
    "start_time": "2023-02-08T17:15:30.676Z"
   },
   {
    "duration": 50,
    "start_time": "2023-02-08T17:15:30.701Z"
   },
   {
    "duration": 20,
    "start_time": "2023-02-08T17:15:30.753Z"
   },
   {
    "duration": 56,
    "start_time": "2023-02-08T17:15:30.775Z"
   },
   {
    "duration": 46,
    "start_time": "2023-02-08T17:15:30.833Z"
   },
   {
    "duration": 33,
    "start_time": "2023-02-08T17:15:30.880Z"
   },
   {
    "duration": 30,
    "start_time": "2023-02-08T17:15:30.914Z"
   },
   {
    "duration": 37,
    "start_time": "2023-02-08T17:15:30.945Z"
   },
   {
    "duration": 45,
    "start_time": "2023-02-08T17:15:30.984Z"
   },
   {
    "duration": 91,
    "start_time": "2023-02-08T17:15:31.031Z"
   },
   {
    "duration": 10,
    "start_time": "2023-02-08T17:15:31.124Z"
   },
   {
    "duration": 28,
    "start_time": "2023-02-08T17:15:31.135Z"
   },
   {
    "duration": 20,
    "start_time": "2023-02-08T17:15:31.165Z"
   },
   {
    "duration": 60,
    "start_time": "2023-02-08T17:15:31.187Z"
   },
   {
    "duration": 35,
    "start_time": "2023-02-08T17:15:31.249Z"
   },
   {
    "duration": 28,
    "start_time": "2023-02-08T17:15:31.285Z"
   },
   {
    "duration": 12,
    "start_time": "2023-02-08T17:15:31.314Z"
   },
   {
    "duration": 37,
    "start_time": "2023-02-08T17:15:31.328Z"
   },
   {
    "duration": 24,
    "start_time": "2023-02-08T17:15:31.367Z"
   },
   {
    "duration": 31,
    "start_time": "2023-02-08T17:15:31.392Z"
   },
   {
    "duration": 25,
    "start_time": "2023-02-08T17:15:31.425Z"
   },
   {
    "duration": 5,
    "start_time": "2023-02-08T17:17:56.615Z"
   },
   {
    "duration": 22,
    "start_time": "2023-02-08T17:18:04.796Z"
   },
   {
    "duration": 18,
    "start_time": "2023-02-08T17:18:37.425Z"
   },
   {
    "duration": 6,
    "start_time": "2023-02-08T17:18:44.315Z"
   },
   {
    "duration": 32,
    "start_time": "2023-02-08T17:18:49.035Z"
   },
   {
    "duration": 17,
    "start_time": "2023-02-08T17:18:56.671Z"
   },
   {
    "duration": 22,
    "start_time": "2023-02-08T17:19:06.885Z"
   },
   {
    "duration": 17,
    "start_time": "2023-02-08T17:19:13.190Z"
   },
   {
    "duration": 47,
    "start_time": "2023-02-09T02:24:22.662Z"
   },
   {
    "duration": 6,
    "start_time": "2023-02-09T02:24:35.993Z"
   },
   {
    "duration": 5,
    "start_time": "2023-02-09T02:24:37.645Z"
   },
   {
    "duration": 6,
    "start_time": "2023-02-09T02:24:51.266Z"
   },
   {
    "duration": 11,
    "start_time": "2023-02-09T02:24:55.662Z"
   },
   {
    "duration": 433,
    "start_time": "2023-02-09T02:25:12.381Z"
   },
   {
    "duration": 249,
    "start_time": "2023-02-09T02:25:12.816Z"
   },
   {
    "duration": 17,
    "start_time": "2023-02-09T02:25:13.067Z"
   },
   {
    "duration": 37,
    "start_time": "2023-02-09T02:25:13.086Z"
   },
   {
    "duration": 2,
    "start_time": "2023-02-09T02:25:13.126Z"
   },
   {
    "duration": 7,
    "start_time": "2023-02-09T02:25:13.130Z"
   },
   {
    "duration": 14,
    "start_time": "2023-02-09T02:25:13.140Z"
   },
   {
    "duration": 7,
    "start_time": "2023-02-09T02:25:13.156Z"
   },
   {
    "duration": 46,
    "start_time": "2023-02-09T02:25:13.165Z"
   },
   {
    "duration": 20,
    "start_time": "2023-02-09T02:25:13.213Z"
   },
   {
    "duration": 24,
    "start_time": "2023-02-09T02:25:13.235Z"
   },
   {
    "duration": 95,
    "start_time": "2023-02-09T02:25:13.261Z"
   },
   {
    "duration": 92,
    "start_time": "2023-02-09T02:25:13.357Z"
   },
   {
    "duration": 70,
    "start_time": "2023-02-09T02:25:13.453Z"
   },
   {
    "duration": 46,
    "start_time": "2023-02-09T02:25:13.524Z"
   },
   {
    "duration": 28,
    "start_time": "2023-02-09T02:25:13.572Z"
   },
   {
    "duration": 49,
    "start_time": "2023-02-09T02:25:13.602Z"
   },
   {
    "duration": 18,
    "start_time": "2023-02-09T02:25:13.654Z"
   },
   {
    "duration": 25,
    "start_time": "2023-02-09T02:25:13.674Z"
   },
   {
    "duration": 6,
    "start_time": "2023-02-09T02:25:13.701Z"
   },
   {
    "duration": 35,
    "start_time": "2023-02-09T02:25:13.709Z"
   },
   {
    "duration": 20,
    "start_time": "2023-02-09T02:25:13.747Z"
   },
   {
    "duration": 35,
    "start_time": "2023-02-09T02:25:13.769Z"
   },
   {
    "duration": 14,
    "start_time": "2023-02-09T02:25:13.806Z"
   },
   {
    "duration": 17,
    "start_time": "2023-02-09T02:25:13.822Z"
   },
   {
    "duration": 16,
    "start_time": "2023-02-09T02:25:13.841Z"
   },
   {
    "duration": 112,
    "start_time": "2023-02-09T02:25:13.858Z"
   },
   {
    "duration": 25,
    "start_time": "2023-02-09T02:25:13.972Z"
   },
   {
    "duration": 15,
    "start_time": "2023-02-09T02:25:13.999Z"
   },
   {
    "duration": 23,
    "start_time": "2023-02-09T02:25:14.016Z"
   },
   {
    "duration": 35,
    "start_time": "2023-02-09T02:25:14.041Z"
   },
   {
    "duration": 21,
    "start_time": "2023-02-09T02:25:14.079Z"
   },
   {
    "duration": 26,
    "start_time": "2023-02-09T02:25:14.102Z"
   },
   {
    "duration": 19,
    "start_time": "2023-02-09T02:25:14.130Z"
   },
   {
    "duration": 12,
    "start_time": "2023-02-09T02:25:14.151Z"
   },
   {
    "duration": 32,
    "start_time": "2023-02-09T02:25:14.166Z"
   },
   {
    "duration": 13,
    "start_time": "2023-02-09T02:25:14.200Z"
   },
   {
    "duration": 23,
    "start_time": "2023-02-09T02:25:14.215Z"
   },
   {
    "duration": 17,
    "start_time": "2023-02-09T02:25:57.437Z"
   },
   {
    "duration": 19,
    "start_time": "2023-02-09T02:26:06.372Z"
   },
   {
    "duration": 21,
    "start_time": "2023-02-09T02:26:55.149Z"
   },
   {
    "duration": 20,
    "start_time": "2023-02-09T02:26:59.030Z"
   },
   {
    "duration": 20,
    "start_time": "2023-02-09T02:27:00.301Z"
   },
   {
    "duration": 21,
    "start_time": "2023-02-09T02:27:01.229Z"
   },
   {
    "duration": 8,
    "start_time": "2023-02-09T02:27:41.781Z"
   },
   {
    "duration": 5,
    "start_time": "2023-02-09T02:27:47.697Z"
   },
   {
    "duration": 23,
    "start_time": "2023-02-09T02:32:53.435Z"
   },
   {
    "duration": 13,
    "start_time": "2023-02-09T02:33:42.102Z"
   },
   {
    "duration": 28,
    "start_time": "2023-02-09T02:33:47.139Z"
   },
   {
    "duration": 6,
    "start_time": "2023-02-09T02:33:57.141Z"
   },
   {
    "duration": 21,
    "start_time": "2023-02-09T02:34:06.058Z"
   },
   {
    "duration": 22,
    "start_time": "2023-02-09T02:34:11.050Z"
   },
   {
    "duration": 21,
    "start_time": "2023-02-09T02:34:14.914Z"
   },
   {
    "duration": 19,
    "start_time": "2023-02-09T02:34:16.095Z"
   },
   {
    "duration": 20,
    "start_time": "2023-02-09T02:34:16.995Z"
   },
   {
    "duration": 19,
    "start_time": "2023-02-09T02:34:18.295Z"
   },
   {
    "duration": 20,
    "start_time": "2023-02-09T02:34:19.454Z"
   },
   {
    "duration": 6,
    "start_time": "2023-02-09T02:34:53.986Z"
   },
   {
    "duration": 18,
    "start_time": "2023-02-09T02:35:04.935Z"
   },
   {
    "duration": 18,
    "start_time": "2023-02-09T02:35:09.241Z"
   },
   {
    "duration": 18,
    "start_time": "2023-02-09T02:35:11.243Z"
   },
   {
    "duration": 5,
    "start_time": "2023-02-09T02:35:48.225Z"
   },
   {
    "duration": 25,
    "start_time": "2023-02-09T02:35:59.768Z"
   },
   {
    "duration": 5,
    "start_time": "2023-02-09T02:37:12.459Z"
   },
   {
    "duration": 23,
    "start_time": "2023-02-09T02:37:25.094Z"
   },
   {
    "duration": 5,
    "start_time": "2023-02-09T02:38:19.293Z"
   },
   {
    "duration": 27,
    "start_time": "2023-02-09T02:38:38.828Z"
   },
   {
    "duration": 25,
    "start_time": "2023-02-09T02:38:41.428Z"
   },
   {
    "duration": 27,
    "start_time": "2023-02-09T02:38:44.795Z"
   },
   {
    "duration": 20,
    "start_time": "2023-02-09T02:38:47.622Z"
   },
   {
    "duration": 4,
    "start_time": "2023-02-09T02:40:01.181Z"
   },
   {
    "duration": 14,
    "start_time": "2023-02-09T02:40:09.242Z"
   },
   {
    "duration": 12,
    "start_time": "2023-02-09T02:40:17.879Z"
   },
   {
    "duration": 12,
    "start_time": "2023-02-09T02:40:19.340Z"
   },
   {
    "duration": 7,
    "start_time": "2023-02-09T02:40:51.018Z"
   },
   {
    "duration": 4,
    "start_time": "2023-02-09T02:41:49.817Z"
   },
   {
    "duration": 12,
    "start_time": "2023-02-09T02:42:00.611Z"
   },
   {
    "duration": 5,
    "start_time": "2023-02-09T02:53:52.941Z"
   },
   {
    "duration": 16,
    "start_time": "2023-02-09T02:54:03.607Z"
   },
   {
    "duration": 16,
    "start_time": "2023-02-09T02:54:10.483Z"
   },
   {
    "duration": 460,
    "start_time": "2023-02-09T02:54:28.569Z"
   },
   {
    "duration": 170,
    "start_time": "2023-02-09T02:54:29.031Z"
   },
   {
    "duration": 17,
    "start_time": "2023-02-09T02:54:29.203Z"
   },
   {
    "duration": 28,
    "start_time": "2023-02-09T02:54:29.222Z"
   },
   {
    "duration": 2,
    "start_time": "2023-02-09T02:54:29.253Z"
   },
   {
    "duration": 10,
    "start_time": "2023-02-09T02:54:29.257Z"
   },
   {
    "duration": 28,
    "start_time": "2023-02-09T02:54:29.268Z"
   },
   {
    "duration": 7,
    "start_time": "2023-02-09T02:54:29.298Z"
   },
   {
    "duration": 27,
    "start_time": "2023-02-09T02:54:29.306Z"
   },
   {
    "duration": 20,
    "start_time": "2023-02-09T02:54:29.336Z"
   },
   {
    "duration": 39,
    "start_time": "2023-02-09T02:54:29.357Z"
   },
   {
    "duration": 64,
    "start_time": "2023-02-09T02:54:29.398Z"
   },
   {
    "duration": 79,
    "start_time": "2023-02-09T02:54:29.463Z"
   },
   {
    "duration": 70,
    "start_time": "2023-02-09T02:54:29.544Z"
   },
   {
    "duration": 37,
    "start_time": "2023-02-09T02:54:29.615Z"
   },
   {
    "duration": 9,
    "start_time": "2023-02-09T02:54:29.654Z"
   },
   {
    "duration": 50,
    "start_time": "2023-02-09T02:54:29.664Z"
   },
   {
    "duration": 9,
    "start_time": "2023-02-09T02:54:29.716Z"
   },
   {
    "duration": 11,
    "start_time": "2023-02-09T02:54:29.727Z"
   },
   {
    "duration": 4,
    "start_time": "2023-02-09T02:54:29.739Z"
   },
   {
    "duration": 21,
    "start_time": "2023-02-09T02:54:29.745Z"
   },
   {
    "duration": 36,
    "start_time": "2023-02-09T02:54:29.768Z"
   },
   {
    "duration": 39,
    "start_time": "2023-02-09T02:54:29.806Z"
   },
   {
    "duration": 15,
    "start_time": "2023-02-09T02:54:29.846Z"
   },
   {
    "duration": 16,
    "start_time": "2023-02-09T02:54:29.862Z"
   },
   {
    "duration": 24,
    "start_time": "2023-02-09T02:54:29.880Z"
   },
   {
    "duration": 77,
    "start_time": "2023-02-09T02:54:29.905Z"
   },
   {
    "duration": 11,
    "start_time": "2023-02-09T02:54:29.985Z"
   },
   {
    "duration": 12,
    "start_time": "2023-02-09T02:54:29.998Z"
   },
   {
    "duration": 18,
    "start_time": "2023-02-09T02:54:30.011Z"
   },
   {
    "duration": 30,
    "start_time": "2023-02-09T02:54:30.030Z"
   },
   {
    "duration": 9,
    "start_time": "2023-02-09T02:54:30.062Z"
   },
   {
    "duration": 26,
    "start_time": "2023-02-09T02:54:30.072Z"
   },
   {
    "duration": 11,
    "start_time": "2023-02-09T02:54:30.100Z"
   },
   {
    "duration": 25,
    "start_time": "2023-02-09T02:54:30.112Z"
   },
   {
    "duration": 7,
    "start_time": "2023-02-09T02:54:30.138Z"
   },
   {
    "duration": 13,
    "start_time": "2023-02-09T02:54:30.147Z"
   },
   {
    "duration": 10,
    "start_time": "2023-02-09T02:54:30.161Z"
   },
   {
    "duration": 5,
    "start_time": "2023-02-09T02:55:22.657Z"
   },
   {
    "duration": 19,
    "start_time": "2023-02-09T02:55:25.730Z"
   },
   {
    "duration": 11,
    "start_time": "2023-02-09T02:55:32.890Z"
   },
   {
    "duration": 16,
    "start_time": "2023-02-09T02:55:39.680Z"
   },
   {
    "duration": 12,
    "start_time": "2023-02-09T02:55:46.030Z"
   },
   {
    "duration": 9,
    "start_time": "2023-02-09T02:57:09.532Z"
   },
   {
    "duration": 4,
    "start_time": "2023-02-09T02:57:33.481Z"
   },
   {
    "duration": 7,
    "start_time": "2023-02-09T02:58:30.980Z"
   },
   {
    "duration": 5,
    "start_time": "2023-02-09T02:59:08.263Z"
   },
   {
    "duration": 7,
    "start_time": "2023-02-09T02:59:45.253Z"
   }
  ],
  "colab": {
   "collapsed_sections": [
    "E0vqbgi9ay0H",
    "VUC88oWjTJw2"
   ],
   "provenance": []
  },
  "kernelspec": {
   "display_name": "Python 3 (ipykernel)",
   "language": "python",
   "name": "python3"
  },
  "language_info": {
   "codemirror_mode": {
    "name": "ipython",
    "version": 3
   },
   "file_extension": ".py",
   "mimetype": "text/x-python",
   "name": "python",
   "nbconvert_exporter": "python",
   "pygments_lexer": "ipython3",
   "version": "3.9.13"
  },
  "toc": {
   "base_numbering": 1,
   "nav_menu": {
    "height": "215px",
    "width": "403px"
   },
   "number_sections": true,
   "sideBar": true,
   "skip_h1_title": true,
   "title_cell": "Table of Contents",
   "title_sidebar": "Contents",
   "toc_cell": false,
   "toc_position": {
    "height": "calc(100% - 180px)",
    "left": "10px",
    "top": "150px",
    "width": "285.825px"
   },
   "toc_section_display": true,
   "toc_window_display": false
  }
 },
 "nbformat": 4,
 "nbformat_minor": 1
}

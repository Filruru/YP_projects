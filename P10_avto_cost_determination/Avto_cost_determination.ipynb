{
 "cells": [
  {
   "cell_type": "markdown",
   "metadata": {},
   "source": [
    "# Определение стоимости автомобилей"
   ]
  },
  {
   "cell_type": "markdown",
   "metadata": {},
   "source": [
    "Сервис по продаже автомобилей с пробегом «Не бит, не крашен» разрабатывает приложение для привлечения новых клиентов. В нём можно быстро узнать рыночную стоимость своего автомобиля. В вашем распоряжении исторические данные: технические характеристики, комплектации и цены автомобилей. Вам нужно построить модель для определения стоимости. \n",
    "\n",
    "Заказчику важны:\n",
    "\n",
    "- качество предсказания;\n",
    "- скорость предсказания;\n",
    "- время обучения."
   ]
  },
  {
   "cell_type": "markdown",
   "metadata": {},
   "source": [
    "## Подготовка данных"
   ]
  },
  {
   "cell_type": "code",
   "execution_count": 1,
   "metadata": {},
   "outputs": [],
   "source": [
    "import pandas as pd\n",
    "import numpy as np\n",
    "import matplotlib.pyplot as plt\n",
    "import seaborn as sns\n",
    "import time\n",
    "import warnings\n",
    "warnings.filterwarnings('ignore')\n",
    "from sklearn.metrics import mean_absolute_error,mean_squared_error\n",
    "from sklearn.preprocessing import OrdinalEncoder\n",
    "from sklearn.model_selection import train_test_split\n",
    "from sklearn.preprocessing import StandardScaler\n",
    "from sklearn.model_selection import GridSearchCV\n",
    "from sklearn.ensemble import RandomForestRegressor\n",
    "from catboost import CatBoostRegressor\n",
    "from lightgbm import LGBMRegressor"
   ]
  },
  {
   "cell_type": "code",
   "execution_count": 2,
   "metadata": {},
   "outputs": [],
   "source": [
    "df = pd.read_csv(\"/datasets/autos.csv\")"
   ]
  },
  {
   "cell_type": "code",
   "execution_count": 3,
   "metadata": {},
   "outputs": [
    {
     "data": {
      "text/html": [
       "<div>\n",
       "<style scoped>\n",
       "    .dataframe tbody tr th:only-of-type {\n",
       "        vertical-align: middle;\n",
       "    }\n",
       "\n",
       "    .dataframe tbody tr th {\n",
       "        vertical-align: top;\n",
       "    }\n",
       "\n",
       "    .dataframe thead th {\n",
       "        text-align: right;\n",
       "    }\n",
       "</style>\n",
       "<table border=\"1\" class=\"dataframe\">\n",
       "  <thead>\n",
       "    <tr style=\"text-align: right;\">\n",
       "      <th></th>\n",
       "      <th>DateCrawled</th>\n",
       "      <th>Price</th>\n",
       "      <th>VehicleType</th>\n",
       "      <th>RegistrationYear</th>\n",
       "      <th>Gearbox</th>\n",
       "      <th>Power</th>\n",
       "      <th>Model</th>\n",
       "      <th>Kilometer</th>\n",
       "      <th>RegistrationMonth</th>\n",
       "      <th>FuelType</th>\n",
       "      <th>Brand</th>\n",
       "      <th>Repaired</th>\n",
       "      <th>DateCreated</th>\n",
       "      <th>NumberOfPictures</th>\n",
       "      <th>PostalCode</th>\n",
       "      <th>LastSeen</th>\n",
       "    </tr>\n",
       "  </thead>\n",
       "  <tbody>\n",
       "    <tr>\n",
       "      <th>0</th>\n",
       "      <td>2016-03-24 11:52:17</td>\n",
       "      <td>480</td>\n",
       "      <td>NaN</td>\n",
       "      <td>1993</td>\n",
       "      <td>manual</td>\n",
       "      <td>0</td>\n",
       "      <td>golf</td>\n",
       "      <td>150000</td>\n",
       "      <td>0</td>\n",
       "      <td>petrol</td>\n",
       "      <td>volkswagen</td>\n",
       "      <td>NaN</td>\n",
       "      <td>2016-03-24 00:00:00</td>\n",
       "      <td>0</td>\n",
       "      <td>70435</td>\n",
       "      <td>2016-04-07 03:16:57</td>\n",
       "    </tr>\n",
       "    <tr>\n",
       "      <th>1</th>\n",
       "      <td>2016-03-24 10:58:45</td>\n",
       "      <td>18300</td>\n",
       "      <td>coupe</td>\n",
       "      <td>2011</td>\n",
       "      <td>manual</td>\n",
       "      <td>190</td>\n",
       "      <td>NaN</td>\n",
       "      <td>125000</td>\n",
       "      <td>5</td>\n",
       "      <td>gasoline</td>\n",
       "      <td>audi</td>\n",
       "      <td>yes</td>\n",
       "      <td>2016-03-24 00:00:00</td>\n",
       "      <td>0</td>\n",
       "      <td>66954</td>\n",
       "      <td>2016-04-07 01:46:50</td>\n",
       "    </tr>\n",
       "    <tr>\n",
       "      <th>2</th>\n",
       "      <td>2016-03-14 12:52:21</td>\n",
       "      <td>9800</td>\n",
       "      <td>suv</td>\n",
       "      <td>2004</td>\n",
       "      <td>auto</td>\n",
       "      <td>163</td>\n",
       "      <td>grand</td>\n",
       "      <td>125000</td>\n",
       "      <td>8</td>\n",
       "      <td>gasoline</td>\n",
       "      <td>jeep</td>\n",
       "      <td>NaN</td>\n",
       "      <td>2016-03-14 00:00:00</td>\n",
       "      <td>0</td>\n",
       "      <td>90480</td>\n",
       "      <td>2016-04-05 12:47:46</td>\n",
       "    </tr>\n",
       "    <tr>\n",
       "      <th>3</th>\n",
       "      <td>2016-03-17 16:54:04</td>\n",
       "      <td>1500</td>\n",
       "      <td>small</td>\n",
       "      <td>2001</td>\n",
       "      <td>manual</td>\n",
       "      <td>75</td>\n",
       "      <td>golf</td>\n",
       "      <td>150000</td>\n",
       "      <td>6</td>\n",
       "      <td>petrol</td>\n",
       "      <td>volkswagen</td>\n",
       "      <td>no</td>\n",
       "      <td>2016-03-17 00:00:00</td>\n",
       "      <td>0</td>\n",
       "      <td>91074</td>\n",
       "      <td>2016-03-17 17:40:17</td>\n",
       "    </tr>\n",
       "    <tr>\n",
       "      <th>4</th>\n",
       "      <td>2016-03-31 17:25:20</td>\n",
       "      <td>3600</td>\n",
       "      <td>small</td>\n",
       "      <td>2008</td>\n",
       "      <td>manual</td>\n",
       "      <td>69</td>\n",
       "      <td>fabia</td>\n",
       "      <td>90000</td>\n",
       "      <td>7</td>\n",
       "      <td>gasoline</td>\n",
       "      <td>skoda</td>\n",
       "      <td>no</td>\n",
       "      <td>2016-03-31 00:00:00</td>\n",
       "      <td>0</td>\n",
       "      <td>60437</td>\n",
       "      <td>2016-04-06 10:17:21</td>\n",
       "    </tr>\n",
       "    <tr>\n",
       "      <th>5</th>\n",
       "      <td>2016-04-04 17:36:23</td>\n",
       "      <td>650</td>\n",
       "      <td>sedan</td>\n",
       "      <td>1995</td>\n",
       "      <td>manual</td>\n",
       "      <td>102</td>\n",
       "      <td>3er</td>\n",
       "      <td>150000</td>\n",
       "      <td>10</td>\n",
       "      <td>petrol</td>\n",
       "      <td>bmw</td>\n",
       "      <td>yes</td>\n",
       "      <td>2016-04-04 00:00:00</td>\n",
       "      <td>0</td>\n",
       "      <td>33775</td>\n",
       "      <td>2016-04-06 19:17:07</td>\n",
       "    </tr>\n",
       "    <tr>\n",
       "      <th>6</th>\n",
       "      <td>2016-04-01 20:48:51</td>\n",
       "      <td>2200</td>\n",
       "      <td>convertible</td>\n",
       "      <td>2004</td>\n",
       "      <td>manual</td>\n",
       "      <td>109</td>\n",
       "      <td>2_reihe</td>\n",
       "      <td>150000</td>\n",
       "      <td>8</td>\n",
       "      <td>petrol</td>\n",
       "      <td>peugeot</td>\n",
       "      <td>no</td>\n",
       "      <td>2016-04-01 00:00:00</td>\n",
       "      <td>0</td>\n",
       "      <td>67112</td>\n",
       "      <td>2016-04-05 18:18:39</td>\n",
       "    </tr>\n",
       "    <tr>\n",
       "      <th>7</th>\n",
       "      <td>2016-03-21 18:54:38</td>\n",
       "      <td>0</td>\n",
       "      <td>sedan</td>\n",
       "      <td>1980</td>\n",
       "      <td>manual</td>\n",
       "      <td>50</td>\n",
       "      <td>other</td>\n",
       "      <td>40000</td>\n",
       "      <td>7</td>\n",
       "      <td>petrol</td>\n",
       "      <td>volkswagen</td>\n",
       "      <td>no</td>\n",
       "      <td>2016-03-21 00:00:00</td>\n",
       "      <td>0</td>\n",
       "      <td>19348</td>\n",
       "      <td>2016-03-25 16:47:58</td>\n",
       "    </tr>\n",
       "    <tr>\n",
       "      <th>8</th>\n",
       "      <td>2016-04-04 23:42:13</td>\n",
       "      <td>14500</td>\n",
       "      <td>bus</td>\n",
       "      <td>2014</td>\n",
       "      <td>manual</td>\n",
       "      <td>125</td>\n",
       "      <td>c_max</td>\n",
       "      <td>30000</td>\n",
       "      <td>8</td>\n",
       "      <td>petrol</td>\n",
       "      <td>ford</td>\n",
       "      <td>NaN</td>\n",
       "      <td>2016-04-04 00:00:00</td>\n",
       "      <td>0</td>\n",
       "      <td>94505</td>\n",
       "      <td>2016-04-04 23:42:13</td>\n",
       "    </tr>\n",
       "    <tr>\n",
       "      <th>9</th>\n",
       "      <td>2016-03-17 10:53:50</td>\n",
       "      <td>999</td>\n",
       "      <td>small</td>\n",
       "      <td>1998</td>\n",
       "      <td>manual</td>\n",
       "      <td>101</td>\n",
       "      <td>golf</td>\n",
       "      <td>150000</td>\n",
       "      <td>0</td>\n",
       "      <td>NaN</td>\n",
       "      <td>volkswagen</td>\n",
       "      <td>NaN</td>\n",
       "      <td>2016-03-17 00:00:00</td>\n",
       "      <td>0</td>\n",
       "      <td>27472</td>\n",
       "      <td>2016-03-31 17:17:06</td>\n",
       "    </tr>\n",
       "  </tbody>\n",
       "</table>\n",
       "</div>"
      ],
      "text/plain": [
       "           DateCrawled  Price  VehicleType  RegistrationYear Gearbox  Power  \\\n",
       "0  2016-03-24 11:52:17    480          NaN              1993  manual      0   \n",
       "1  2016-03-24 10:58:45  18300        coupe              2011  manual    190   \n",
       "2  2016-03-14 12:52:21   9800          suv              2004    auto    163   \n",
       "3  2016-03-17 16:54:04   1500        small              2001  manual     75   \n",
       "4  2016-03-31 17:25:20   3600        small              2008  manual     69   \n",
       "5  2016-04-04 17:36:23    650        sedan              1995  manual    102   \n",
       "6  2016-04-01 20:48:51   2200  convertible              2004  manual    109   \n",
       "7  2016-03-21 18:54:38      0        sedan              1980  manual     50   \n",
       "8  2016-04-04 23:42:13  14500          bus              2014  manual    125   \n",
       "9  2016-03-17 10:53:50    999        small              1998  manual    101   \n",
       "\n",
       "     Model  Kilometer  RegistrationMonth  FuelType       Brand Repaired  \\\n",
       "0     golf     150000                  0    petrol  volkswagen      NaN   \n",
       "1      NaN     125000                  5  gasoline        audi      yes   \n",
       "2    grand     125000                  8  gasoline        jeep      NaN   \n",
       "3     golf     150000                  6    petrol  volkswagen       no   \n",
       "4    fabia      90000                  7  gasoline       skoda       no   \n",
       "5      3er     150000                 10    petrol         bmw      yes   \n",
       "6  2_reihe     150000                  8    petrol     peugeot       no   \n",
       "7    other      40000                  7    petrol  volkswagen       no   \n",
       "8    c_max      30000                  8    petrol        ford      NaN   \n",
       "9     golf     150000                  0       NaN  volkswagen      NaN   \n",
       "\n",
       "           DateCreated  NumberOfPictures  PostalCode             LastSeen  \n",
       "0  2016-03-24 00:00:00                 0       70435  2016-04-07 03:16:57  \n",
       "1  2016-03-24 00:00:00                 0       66954  2016-04-07 01:46:50  \n",
       "2  2016-03-14 00:00:00                 0       90480  2016-04-05 12:47:46  \n",
       "3  2016-03-17 00:00:00                 0       91074  2016-03-17 17:40:17  \n",
       "4  2016-03-31 00:00:00                 0       60437  2016-04-06 10:17:21  \n",
       "5  2016-04-04 00:00:00                 0       33775  2016-04-06 19:17:07  \n",
       "6  2016-04-01 00:00:00                 0       67112  2016-04-05 18:18:39  \n",
       "7  2016-03-21 00:00:00                 0       19348  2016-03-25 16:47:58  \n",
       "8  2016-04-04 00:00:00                 0       94505  2016-04-04 23:42:13  \n",
       "9  2016-03-17 00:00:00                 0       27472  2016-03-31 17:17:06  "
      ]
     },
     "metadata": {},
     "output_type": "display_data"
    }
   ],
   "source": [
    "display(df.head(10))"
   ]
  },
  {
   "cell_type": "code",
   "execution_count": 4,
   "metadata": {},
   "outputs": [
    {
     "name": "stdout",
     "output_type": "stream",
     "text": [
      "<class 'pandas.core.frame.DataFrame'>\n",
      "RangeIndex: 354369 entries, 0 to 354368\n",
      "Data columns (total 16 columns):\n",
      " #   Column             Non-Null Count   Dtype \n",
      "---  ------             --------------   ----- \n",
      " 0   DateCrawled        354369 non-null  object\n",
      " 1   Price              354369 non-null  int64 \n",
      " 2   VehicleType        316879 non-null  object\n",
      " 3   RegistrationYear   354369 non-null  int64 \n",
      " 4   Gearbox            334536 non-null  object\n",
      " 5   Power              354369 non-null  int64 \n",
      " 6   Model              334664 non-null  object\n",
      " 7   Kilometer          354369 non-null  int64 \n",
      " 8   RegistrationMonth  354369 non-null  int64 \n",
      " 9   FuelType           321474 non-null  object\n",
      " 10  Brand              354369 non-null  object\n",
      " 11  Repaired           283215 non-null  object\n",
      " 12  DateCreated        354369 non-null  object\n",
      " 13  NumberOfPictures   354369 non-null  int64 \n",
      " 14  PostalCode         354369 non-null  int64 \n",
      " 15  LastSeen           354369 non-null  object\n",
      "dtypes: int64(7), object(9)\n",
      "memory usage: 43.3+ MB\n"
     ]
    }
   ],
   "source": [
    "df.info()"
   ]
  },
  {
   "cell_type": "code",
   "execution_count": 5,
   "metadata": {},
   "outputs": [],
   "source": [
    "def mis_inf(data): # функция для подсчета пропусков и их процента по признакам и в общем,дубликатов и размера.\n",
    "    total = data.isna().sum().sort_values(ascending = False)\n",
    "    percent = (data.isna().sum()/data.isna().count()*100).sort_values(ascending = False)\n",
    "    print(f'Размер датафрейма:',  data.shape)\n",
    "    print(f'Количество дубликатов датафрейма:', data.duplicated().sum())\n",
    "    print(f'Количество пропусков датафрейма:',  total.sum())\n",
    "    print(f'Процент пропусков датафрейма:',  round(percent.sum(),2))\n",
    "    return pd.concat([total, round(percent,2)], axis=1, keys=['Total', 'Percent'])"
   ]
  },
  {
   "cell_type": "code",
   "execution_count": 6,
   "metadata": {},
   "outputs": [
    {
     "name": "stdout",
     "output_type": "stream",
     "text": [
      "Размер датафрейма: (354369, 16)\n",
      "Количество дубликатов датафрейма: 4\n",
      "Количество пропусков датафрейма: 181077\n",
      "Процент пропусков датафрейма: 51.1\n"
     ]
    },
    {
     "data": {
      "text/html": [
       "<div>\n",
       "<style scoped>\n",
       "    .dataframe tbody tr th:only-of-type {\n",
       "        vertical-align: middle;\n",
       "    }\n",
       "\n",
       "    .dataframe tbody tr th {\n",
       "        vertical-align: top;\n",
       "    }\n",
       "\n",
       "    .dataframe thead th {\n",
       "        text-align: right;\n",
       "    }\n",
       "</style>\n",
       "<table border=\"1\" class=\"dataframe\">\n",
       "  <thead>\n",
       "    <tr style=\"text-align: right;\">\n",
       "      <th></th>\n",
       "      <th>Total</th>\n",
       "      <th>Percent</th>\n",
       "    </tr>\n",
       "  </thead>\n",
       "  <tbody>\n",
       "    <tr>\n",
       "      <th>Repaired</th>\n",
       "      <td>71154</td>\n",
       "      <td>20.08</td>\n",
       "    </tr>\n",
       "    <tr>\n",
       "      <th>VehicleType</th>\n",
       "      <td>37490</td>\n",
       "      <td>10.58</td>\n",
       "    </tr>\n",
       "    <tr>\n",
       "      <th>FuelType</th>\n",
       "      <td>32895</td>\n",
       "      <td>9.28</td>\n",
       "    </tr>\n",
       "    <tr>\n",
       "      <th>Gearbox</th>\n",
       "      <td>19833</td>\n",
       "      <td>5.60</td>\n",
       "    </tr>\n",
       "    <tr>\n",
       "      <th>Model</th>\n",
       "      <td>19705</td>\n",
       "      <td>5.56</td>\n",
       "    </tr>\n",
       "    <tr>\n",
       "      <th>DateCrawled</th>\n",
       "      <td>0</td>\n",
       "      <td>0.00</td>\n",
       "    </tr>\n",
       "    <tr>\n",
       "      <th>Price</th>\n",
       "      <td>0</td>\n",
       "      <td>0.00</td>\n",
       "    </tr>\n",
       "    <tr>\n",
       "      <th>RegistrationYear</th>\n",
       "      <td>0</td>\n",
       "      <td>0.00</td>\n",
       "    </tr>\n",
       "    <tr>\n",
       "      <th>Power</th>\n",
       "      <td>0</td>\n",
       "      <td>0.00</td>\n",
       "    </tr>\n",
       "    <tr>\n",
       "      <th>Kilometer</th>\n",
       "      <td>0</td>\n",
       "      <td>0.00</td>\n",
       "    </tr>\n",
       "    <tr>\n",
       "      <th>RegistrationMonth</th>\n",
       "      <td>0</td>\n",
       "      <td>0.00</td>\n",
       "    </tr>\n",
       "    <tr>\n",
       "      <th>Brand</th>\n",
       "      <td>0</td>\n",
       "      <td>0.00</td>\n",
       "    </tr>\n",
       "    <tr>\n",
       "      <th>DateCreated</th>\n",
       "      <td>0</td>\n",
       "      <td>0.00</td>\n",
       "    </tr>\n",
       "    <tr>\n",
       "      <th>NumberOfPictures</th>\n",
       "      <td>0</td>\n",
       "      <td>0.00</td>\n",
       "    </tr>\n",
       "    <tr>\n",
       "      <th>PostalCode</th>\n",
       "      <td>0</td>\n",
       "      <td>0.00</td>\n",
       "    </tr>\n",
       "    <tr>\n",
       "      <th>LastSeen</th>\n",
       "      <td>0</td>\n",
       "      <td>0.00</td>\n",
       "    </tr>\n",
       "  </tbody>\n",
       "</table>\n",
       "</div>"
      ],
      "text/plain": [
       "                   Total  Percent\n",
       "Repaired           71154    20.08\n",
       "VehicleType        37490    10.58\n",
       "FuelType           32895     9.28\n",
       "Gearbox            19833     5.60\n",
       "Model              19705     5.56\n",
       "DateCrawled            0     0.00\n",
       "Price                  0     0.00\n",
       "RegistrationYear       0     0.00\n",
       "Power                  0     0.00\n",
       "Kilometer              0     0.00\n",
       "RegistrationMonth      0     0.00\n",
       "Brand                  0     0.00\n",
       "DateCreated            0     0.00\n",
       "NumberOfPictures       0     0.00\n",
       "PostalCode             0     0.00\n",
       "LastSeen               0     0.00"
      ]
     },
     "execution_count": 6,
     "metadata": {},
     "output_type": "execute_result"
    }
   ],
   "source": [
    "mis_inf(df)"
   ]
  },
  {
   "cell_type": "markdown",
   "metadata": {},
   "source": [
    "- С типами в целом, всё в порядке\n",
    "- Есть много пропущенный значений\n",
    "- Есть дубликаты"
   ]
  },
  {
   "cell_type": "markdown",
   "metadata": {},
   "source": [
    "Удаляем дубликаты"
   ]
  },
  {
   "cell_type": "code",
   "execution_count": 7,
   "metadata": {},
   "outputs": [],
   "source": [
    "df.drop_duplicates(inplace=True)\n"
   ]
  },
  {
   "cell_type": "code",
   "execution_count": 8,
   "metadata": {},
   "outputs": [
    {
     "data": {
      "text/html": [
       "<div>\n",
       "<style scoped>\n",
       "    .dataframe tbody tr th:only-of-type {\n",
       "        vertical-align: middle;\n",
       "    }\n",
       "\n",
       "    .dataframe tbody tr th {\n",
       "        vertical-align: top;\n",
       "    }\n",
       "\n",
       "    .dataframe thead th {\n",
       "        text-align: right;\n",
       "    }\n",
       "</style>\n",
       "<table border=\"1\" class=\"dataframe\">\n",
       "  <thead>\n",
       "    <tr style=\"text-align: right;\">\n",
       "      <th></th>\n",
       "      <th>Price</th>\n",
       "      <th>RegistrationYear</th>\n",
       "      <th>Power</th>\n",
       "      <th>Kilometer</th>\n",
       "      <th>RegistrationMonth</th>\n",
       "      <th>NumberOfPictures</th>\n",
       "      <th>PostalCode</th>\n",
       "    </tr>\n",
       "  </thead>\n",
       "  <tbody>\n",
       "    <tr>\n",
       "      <th>count</th>\n",
       "      <td>354365.000000</td>\n",
       "      <td>354365.000000</td>\n",
       "      <td>354365.000000</td>\n",
       "      <td>354365.000000</td>\n",
       "      <td>354365.000000</td>\n",
       "      <td>354365.0</td>\n",
       "      <td>354365.000000</td>\n",
       "    </tr>\n",
       "    <tr>\n",
       "      <th>mean</th>\n",
       "      <td>4416.679830</td>\n",
       "      <td>2004.234481</td>\n",
       "      <td>110.093816</td>\n",
       "      <td>128211.363989</td>\n",
       "      <td>5.714650</td>\n",
       "      <td>0.0</td>\n",
       "      <td>50508.503800</td>\n",
       "    </tr>\n",
       "    <tr>\n",
       "      <th>std</th>\n",
       "      <td>4514.176349</td>\n",
       "      <td>90.228466</td>\n",
       "      <td>189.851330</td>\n",
       "      <td>37905.083858</td>\n",
       "      <td>3.726432</td>\n",
       "      <td>0.0</td>\n",
       "      <td>25783.100078</td>\n",
       "    </tr>\n",
       "    <tr>\n",
       "      <th>min</th>\n",
       "      <td>0.000000</td>\n",
       "      <td>1000.000000</td>\n",
       "      <td>0.000000</td>\n",
       "      <td>5000.000000</td>\n",
       "      <td>0.000000</td>\n",
       "      <td>0.0</td>\n",
       "      <td>1067.000000</td>\n",
       "    </tr>\n",
       "    <tr>\n",
       "      <th>25%</th>\n",
       "      <td>1050.000000</td>\n",
       "      <td>1999.000000</td>\n",
       "      <td>69.000000</td>\n",
       "      <td>125000.000000</td>\n",
       "      <td>3.000000</td>\n",
       "      <td>0.0</td>\n",
       "      <td>30165.000000</td>\n",
       "    </tr>\n",
       "    <tr>\n",
       "      <th>50%</th>\n",
       "      <td>2700.000000</td>\n",
       "      <td>2003.000000</td>\n",
       "      <td>105.000000</td>\n",
       "      <td>150000.000000</td>\n",
       "      <td>6.000000</td>\n",
       "      <td>0.0</td>\n",
       "      <td>49413.000000</td>\n",
       "    </tr>\n",
       "    <tr>\n",
       "      <th>75%</th>\n",
       "      <td>6400.000000</td>\n",
       "      <td>2008.000000</td>\n",
       "      <td>143.000000</td>\n",
       "      <td>150000.000000</td>\n",
       "      <td>9.000000</td>\n",
       "      <td>0.0</td>\n",
       "      <td>71083.000000</td>\n",
       "    </tr>\n",
       "    <tr>\n",
       "      <th>max</th>\n",
       "      <td>20000.000000</td>\n",
       "      <td>9999.000000</td>\n",
       "      <td>20000.000000</td>\n",
       "      <td>150000.000000</td>\n",
       "      <td>12.000000</td>\n",
       "      <td>0.0</td>\n",
       "      <td>99998.000000</td>\n",
       "    </tr>\n",
       "  </tbody>\n",
       "</table>\n",
       "</div>"
      ],
      "text/plain": [
       "               Price  RegistrationYear          Power      Kilometer  \\\n",
       "count  354365.000000     354365.000000  354365.000000  354365.000000   \n",
       "mean     4416.679830       2004.234481     110.093816  128211.363989   \n",
       "std      4514.176349         90.228466     189.851330   37905.083858   \n",
       "min         0.000000       1000.000000       0.000000    5000.000000   \n",
       "25%      1050.000000       1999.000000      69.000000  125000.000000   \n",
       "50%      2700.000000       2003.000000     105.000000  150000.000000   \n",
       "75%      6400.000000       2008.000000     143.000000  150000.000000   \n",
       "max     20000.000000       9999.000000   20000.000000  150000.000000   \n",
       "\n",
       "       RegistrationMonth  NumberOfPictures     PostalCode  \n",
       "count      354365.000000          354365.0  354365.000000  \n",
       "mean            5.714650               0.0   50508.503800  \n",
       "std             3.726432               0.0   25783.100078  \n",
       "min             0.000000               0.0    1067.000000  \n",
       "25%             3.000000               0.0   30165.000000  \n",
       "50%             6.000000               0.0   49413.000000  \n",
       "75%             9.000000               0.0   71083.000000  \n",
       "max            12.000000               0.0   99998.000000  "
      ]
     },
     "execution_count": 8,
     "metadata": {},
     "output_type": "execute_result"
    }
   ],
   "source": [
    "df.describe()"
   ]
  },
  {
   "cell_type": "markdown",
   "metadata": {},
   "source": [
    "Есть явные выбросы в числовых признаках в обе стороны, которые посмотрим детально и исправим далее:\n",
    "- лошадинные силы (0 и 20000?)\n",
    "- год регистрации (1000 и 9999?)\n",
    "- Нулевой месяц регистрации\n",
    "- Нулевая цена некоторых авто\n"
   ]
  },
  {
   "cell_type": "markdown",
   "metadata": {},
   "source": [
    "Удаляем лишние не информативные для нашей задачи признаки, которые скорее всего будут влиять на скорость продажи авто, а не его цену."
   ]
  },
  {
   "cell_type": "code",
   "execution_count": 9,
   "metadata": {},
   "outputs": [],
   "source": [
    "df.drop(['LastSeen','PostalCode','NumberOfPictures','DateCreated','DateCrawled'], axis= 1 , inplace= True)"
   ]
  },
  {
   "cell_type": "code",
   "execution_count": 10,
   "metadata": {},
   "outputs": [
    {
     "name": "stdout",
     "output_type": "stream",
     "text": [
      "<class 'pandas.core.frame.DataFrame'>\n",
      "Int64Index: 354365 entries, 0 to 354368\n",
      "Data columns (total 11 columns):\n",
      " #   Column             Non-Null Count   Dtype \n",
      "---  ------             --------------   ----- \n",
      " 0   Price              354365 non-null  int64 \n",
      " 1   VehicleType        316875 non-null  object\n",
      " 2   RegistrationYear   354365 non-null  int64 \n",
      " 3   Gearbox            334532 non-null  object\n",
      " 4   Power              354365 non-null  int64 \n",
      " 5   Model              334660 non-null  object\n",
      " 6   Kilometer          354365 non-null  int64 \n",
      " 7   RegistrationMonth  354365 non-null  int64 \n",
      " 8   FuelType           321470 non-null  object\n",
      " 9   Brand              354365 non-null  object\n",
      " 10  Repaired           283211 non-null  object\n",
      "dtypes: int64(5), object(6)\n",
      "memory usage: 32.4+ MB\n"
     ]
    }
   ],
   "source": [
    "df.info()"
   ]
  },
  {
   "cell_type": "markdown",
   "metadata": {},
   "source": [
    "Удалил данные с неизвестными моделями, так как это основопологающий фактор, который на прямую воздействует на образование цены и заменить неизвестно что на такое же неизвестно что в этом случае неверно."
   ]
  },
  {
   "cell_type": "code",
   "execution_count": 11,
   "metadata": {},
   "outputs": [],
   "source": [
    "df.dropna(subset=['Model'], inplace=True)"
   ]
  },
  {
   "cell_type": "markdown",
   "metadata": {},
   "source": [
    "Пропуски в типе кузова,типе топлива авто и типе коробки передач заменил на \"Unknown\""
   ]
  },
  {
   "cell_type": "code",
   "execution_count": 12,
   "metadata": {},
   "outputs": [],
   "source": [
    "columns_for_fill = ['VehicleType','FuelType','Gearbox']\n",
    "df[columns_for_fill] = df[columns_for_fill].fillna('unknown')"
   ]
  },
  {
   "cell_type": "code",
   "execution_count": 13,
   "metadata": {},
   "outputs": [
    {
     "name": "stdout",
     "output_type": "stream",
     "text": [
      "[1000, 1001, 1111, 1200, 1234, 1300, 1400, 1500, 1600, 1602, 1800, 1910, 1919, 1923, 1927, 1928, 1929, 1930, 1931, 1932, 1933, 1934, 1935, 1936, 1937, 1938, 1941, 1942, 1943, 1945, 1947, 1949, 1950, 1951, 1952, 1953, 1954, 1955, 1956, 1957, 1958, 1959, 1960, 1961, 1962, 1963, 1964, 1965, 1966, 1967, 1968, 1969, 1970, 1971, 1972, 1973, 1974, 1975, 1976, 1977, 1978, 1979, 1980, 1981, 1982, 1983, 1984, 1985, 1986, 1987, 1988, 1989, 1990, 1991, 1992, 1993, 1994, 1995, 1996, 1997, 1998, 1999, 2000, 2001, 2002, 2003, 2004, 2005, 2006, 2007, 2008, 2009, 2010, 2011, 2012, 2013, 2014, 2015, 2016, 2017, 2018, 2019, 2066, 2200, 2290, 2500, 2900, 3000, 3700, 4000, 4500, 5000, 5555, 5900, 5911, 6000, 6500, 7000, 7100, 7500, 7800, 8000, 8200, 8500, 9000, 9999]\n"
     ]
    }
   ],
   "source": [
    "print(sorted(df.RegistrationYear.unique()))"
   ]
  },
  {
   "cell_type": "markdown",
   "metadata": {},
   "source": [
    "Уникальные значения года регистрации показываю нереальные года, например начала прошлого тысячелетия и тп. Оставляем в датасете записи с годом регистрации с 1950 по 2019."
   ]
  },
  {
   "cell_type": "code",
   "execution_count": 14,
   "metadata": {},
   "outputs": [],
   "source": [
    "df=df.query('RegistrationYear >= 1950 & RegistrationYear <= 2019')"
   ]
  },
  {
   "cell_type": "markdown",
   "metadata": {},
   "source": [
    "Пропуски в признаке \"Repaired\" заменим на \"no\", если год регистрации больще 2016 года, в остальных случаях будем полагать, что после гарантийного обслуживания, обычно 3 года, автомобиль был в ремонте и в таком случае пропуски заменим на \"yes\""
   ]
  },
  {
   "cell_type": "code",
   "execution_count": 15,
   "metadata": {},
   "outputs": [
    {
     "data": {
      "text/html": [
       "<div>\n",
       "<style scoped>\n",
       "    .dataframe tbody tr th:only-of-type {\n",
       "        vertical-align: middle;\n",
       "    }\n",
       "\n",
       "    .dataframe tbody tr th {\n",
       "        vertical-align: top;\n",
       "    }\n",
       "\n",
       "    .dataframe thead th {\n",
       "        text-align: right;\n",
       "    }\n",
       "</style>\n",
       "<table border=\"1\" class=\"dataframe\">\n",
       "  <thead>\n",
       "    <tr style=\"text-align: right;\">\n",
       "      <th></th>\n",
       "      <th>Price</th>\n",
       "      <th>VehicleType</th>\n",
       "      <th>RegistrationYear</th>\n",
       "      <th>Gearbox</th>\n",
       "      <th>Power</th>\n",
       "      <th>Model</th>\n",
       "      <th>Kilometer</th>\n",
       "      <th>RegistrationMonth</th>\n",
       "      <th>FuelType</th>\n",
       "      <th>Brand</th>\n",
       "      <th>Repaired</th>\n",
       "    </tr>\n",
       "  </thead>\n",
       "  <tbody>\n",
       "    <tr>\n",
       "      <th>0</th>\n",
       "      <td>480</td>\n",
       "      <td>unknown</td>\n",
       "      <td>1993</td>\n",
       "      <td>manual</td>\n",
       "      <td>0</td>\n",
       "      <td>golf</td>\n",
       "      <td>150000</td>\n",
       "      <td>0</td>\n",
       "      <td>petrol</td>\n",
       "      <td>volkswagen</td>\n",
       "      <td>NaN</td>\n",
       "    </tr>\n",
       "    <tr>\n",
       "      <th>2</th>\n",
       "      <td>9800</td>\n",
       "      <td>suv</td>\n",
       "      <td>2004</td>\n",
       "      <td>auto</td>\n",
       "      <td>163</td>\n",
       "      <td>grand</td>\n",
       "      <td>125000</td>\n",
       "      <td>8</td>\n",
       "      <td>gasoline</td>\n",
       "      <td>jeep</td>\n",
       "      <td>NaN</td>\n",
       "    </tr>\n",
       "    <tr>\n",
       "      <th>8</th>\n",
       "      <td>14500</td>\n",
       "      <td>bus</td>\n",
       "      <td>2014</td>\n",
       "      <td>manual</td>\n",
       "      <td>125</td>\n",
       "      <td>c_max</td>\n",
       "      <td>30000</td>\n",
       "      <td>8</td>\n",
       "      <td>petrol</td>\n",
       "      <td>ford</td>\n",
       "      <td>NaN</td>\n",
       "    </tr>\n",
       "    <tr>\n",
       "      <th>9</th>\n",
       "      <td>999</td>\n",
       "      <td>small</td>\n",
       "      <td>1998</td>\n",
       "      <td>manual</td>\n",
       "      <td>101</td>\n",
       "      <td>golf</td>\n",
       "      <td>150000</td>\n",
       "      <td>0</td>\n",
       "      <td>unknown</td>\n",
       "      <td>volkswagen</td>\n",
       "      <td>NaN</td>\n",
       "    </tr>\n",
       "    <tr>\n",
       "      <th>12</th>\n",
       "      <td>999</td>\n",
       "      <td>wagon</td>\n",
       "      <td>1995</td>\n",
       "      <td>manual</td>\n",
       "      <td>115</td>\n",
       "      <td>passat</td>\n",
       "      <td>150000</td>\n",
       "      <td>11</td>\n",
       "      <td>petrol</td>\n",
       "      <td>volkswagen</td>\n",
       "      <td>NaN</td>\n",
       "    </tr>\n",
       "    <tr>\n",
       "      <th>...</th>\n",
       "      <td>...</td>\n",
       "      <td>...</td>\n",
       "      <td>...</td>\n",
       "      <td>...</td>\n",
       "      <td>...</td>\n",
       "      <td>...</td>\n",
       "      <td>...</td>\n",
       "      <td>...</td>\n",
       "      <td>...</td>\n",
       "      <td>...</td>\n",
       "      <td>...</td>\n",
       "    </tr>\n",
       "    <tr>\n",
       "      <th>354346</th>\n",
       "      <td>2600</td>\n",
       "      <td>unknown</td>\n",
       "      <td>2005</td>\n",
       "      <td>auto</td>\n",
       "      <td>0</td>\n",
       "      <td>c_klasse</td>\n",
       "      <td>150000</td>\n",
       "      <td>9</td>\n",
       "      <td>unknown</td>\n",
       "      <td>mercedes_benz</td>\n",
       "      <td>NaN</td>\n",
       "    </tr>\n",
       "    <tr>\n",
       "      <th>354349</th>\n",
       "      <td>5999</td>\n",
       "      <td>wagon</td>\n",
       "      <td>2005</td>\n",
       "      <td>manual</td>\n",
       "      <td>140</td>\n",
       "      <td>a4</td>\n",
       "      <td>150000</td>\n",
       "      <td>4</td>\n",
       "      <td>gasoline</td>\n",
       "      <td>audi</td>\n",
       "      <td>NaN</td>\n",
       "    </tr>\n",
       "    <tr>\n",
       "      <th>354356</th>\n",
       "      <td>999</td>\n",
       "      <td>convertible</td>\n",
       "      <td>2000</td>\n",
       "      <td>manual</td>\n",
       "      <td>95</td>\n",
       "      <td>megane</td>\n",
       "      <td>150000</td>\n",
       "      <td>4</td>\n",
       "      <td>petrol</td>\n",
       "      <td>renault</td>\n",
       "      <td>NaN</td>\n",
       "    </tr>\n",
       "    <tr>\n",
       "      <th>354357</th>\n",
       "      <td>1690</td>\n",
       "      <td>wagon</td>\n",
       "      <td>2004</td>\n",
       "      <td>manual</td>\n",
       "      <td>55</td>\n",
       "      <td>fabia</td>\n",
       "      <td>150000</td>\n",
       "      <td>4</td>\n",
       "      <td>petrol</td>\n",
       "      <td>skoda</td>\n",
       "      <td>NaN</td>\n",
       "    </tr>\n",
       "    <tr>\n",
       "      <th>354368</th>\n",
       "      <td>3400</td>\n",
       "      <td>wagon</td>\n",
       "      <td>2002</td>\n",
       "      <td>manual</td>\n",
       "      <td>100</td>\n",
       "      <td>golf</td>\n",
       "      <td>150000</td>\n",
       "      <td>6</td>\n",
       "      <td>gasoline</td>\n",
       "      <td>volkswagen</td>\n",
       "      <td>NaN</td>\n",
       "    </tr>\n",
       "  </tbody>\n",
       "</table>\n",
       "<p>61966 rows × 11 columns</p>\n",
       "</div>"
      ],
      "text/plain": [
       "        Price  VehicleType  RegistrationYear Gearbox  Power     Model  \\\n",
       "0         480      unknown              1993  manual      0      golf   \n",
       "2        9800          suv              2004    auto    163     grand   \n",
       "8       14500          bus              2014  manual    125     c_max   \n",
       "9         999        small              1998  manual    101      golf   \n",
       "12        999        wagon              1995  manual    115    passat   \n",
       "...       ...          ...               ...     ...    ...       ...   \n",
       "354346   2600      unknown              2005    auto      0  c_klasse   \n",
       "354349   5999        wagon              2005  manual    140        a4   \n",
       "354356    999  convertible              2000  manual     95    megane   \n",
       "354357   1690        wagon              2004  manual     55     fabia   \n",
       "354368   3400        wagon              2002  manual    100      golf   \n",
       "\n",
       "        Kilometer  RegistrationMonth  FuelType          Brand Repaired  \n",
       "0          150000                  0    petrol     volkswagen      NaN  \n",
       "2          125000                  8  gasoline           jeep      NaN  \n",
       "8           30000                  8    petrol           ford      NaN  \n",
       "9          150000                  0   unknown     volkswagen      NaN  \n",
       "12         150000                 11    petrol     volkswagen      NaN  \n",
       "...           ...                ...       ...            ...      ...  \n",
       "354346     150000                  9   unknown  mercedes_benz      NaN  \n",
       "354349     150000                  4  gasoline           audi      NaN  \n",
       "354356     150000                  4    petrol        renault      NaN  \n",
       "354357     150000                  4    petrol          skoda      NaN  \n",
       "354368     150000                  6  gasoline     volkswagen      NaN  \n",
       "\n",
       "[61966 rows x 11 columns]"
      ]
     },
     "metadata": {},
     "output_type": "display_data"
    }
   ],
   "source": [
    "display(df[df['Repaired'].isna()])"
   ]
  },
  {
   "cell_type": "code",
   "execution_count": 16,
   "metadata": {},
   "outputs": [],
   "source": [
    "def encode(row):\n",
    "    if row['RegistrationYear'] <= 2016 and pd.isna(row['Repaired']):\n",
    "        return 'yes'\n",
    "    else:\n",
    "        return 'no'\n",
    "df['Repaired'] = df.apply(encode,axis=1)\n"
   ]
  },
  {
   "cell_type": "markdown",
   "metadata": {},
   "source": [
    "Проверяем, как функция сделала обработку"
   ]
  },
  {
   "cell_type": "code",
   "execution_count": 17,
   "metadata": {},
   "outputs": [
    {
     "data": {
      "text/html": [
       "<div>\n",
       "<style scoped>\n",
       "    .dataframe tbody tr th:only-of-type {\n",
       "        vertical-align: middle;\n",
       "    }\n",
       "\n",
       "    .dataframe tbody tr th {\n",
       "        vertical-align: top;\n",
       "    }\n",
       "\n",
       "    .dataframe thead th {\n",
       "        text-align: right;\n",
       "    }\n",
       "</style>\n",
       "<table border=\"1\" class=\"dataframe\">\n",
       "  <thead>\n",
       "    <tr style=\"text-align: right;\">\n",
       "      <th></th>\n",
       "      <th>Price</th>\n",
       "      <th>VehicleType</th>\n",
       "      <th>RegistrationYear</th>\n",
       "      <th>Gearbox</th>\n",
       "      <th>Power</th>\n",
       "      <th>Model</th>\n",
       "      <th>Kilometer</th>\n",
       "      <th>RegistrationMonth</th>\n",
       "      <th>FuelType</th>\n",
       "      <th>Brand</th>\n",
       "      <th>Repaired</th>\n",
       "    </tr>\n",
       "  </thead>\n",
       "  <tbody>\n",
       "    <tr>\n",
       "      <th>0</th>\n",
       "      <td>480</td>\n",
       "      <td>unknown</td>\n",
       "      <td>1993</td>\n",
       "      <td>manual</td>\n",
       "      <td>0</td>\n",
       "      <td>golf</td>\n",
       "      <td>150000</td>\n",
       "      <td>0</td>\n",
       "      <td>petrol</td>\n",
       "      <td>volkswagen</td>\n",
       "      <td>yes</td>\n",
       "    </tr>\n",
       "    <tr>\n",
       "      <th>2</th>\n",
       "      <td>9800</td>\n",
       "      <td>suv</td>\n",
       "      <td>2004</td>\n",
       "      <td>auto</td>\n",
       "      <td>163</td>\n",
       "      <td>grand</td>\n",
       "      <td>125000</td>\n",
       "      <td>8</td>\n",
       "      <td>gasoline</td>\n",
       "      <td>jeep</td>\n",
       "      <td>yes</td>\n",
       "    </tr>\n",
       "    <tr>\n",
       "      <th>3</th>\n",
       "      <td>1500</td>\n",
       "      <td>small</td>\n",
       "      <td>2001</td>\n",
       "      <td>manual</td>\n",
       "      <td>75</td>\n",
       "      <td>golf</td>\n",
       "      <td>150000</td>\n",
       "      <td>6</td>\n",
       "      <td>petrol</td>\n",
       "      <td>volkswagen</td>\n",
       "      <td>no</td>\n",
       "    </tr>\n",
       "    <tr>\n",
       "      <th>4</th>\n",
       "      <td>3600</td>\n",
       "      <td>small</td>\n",
       "      <td>2008</td>\n",
       "      <td>manual</td>\n",
       "      <td>69</td>\n",
       "      <td>fabia</td>\n",
       "      <td>90000</td>\n",
       "      <td>7</td>\n",
       "      <td>gasoline</td>\n",
       "      <td>skoda</td>\n",
       "      <td>no</td>\n",
       "    </tr>\n",
       "    <tr>\n",
       "      <th>5</th>\n",
       "      <td>650</td>\n",
       "      <td>sedan</td>\n",
       "      <td>1995</td>\n",
       "      <td>manual</td>\n",
       "      <td>102</td>\n",
       "      <td>3er</td>\n",
       "      <td>150000</td>\n",
       "      <td>10</td>\n",
       "      <td>petrol</td>\n",
       "      <td>bmw</td>\n",
       "      <td>no</td>\n",
       "    </tr>\n",
       "    <tr>\n",
       "      <th>6</th>\n",
       "      <td>2200</td>\n",
       "      <td>convertible</td>\n",
       "      <td>2004</td>\n",
       "      <td>manual</td>\n",
       "      <td>109</td>\n",
       "      <td>2_reihe</td>\n",
       "      <td>150000</td>\n",
       "      <td>8</td>\n",
       "      <td>petrol</td>\n",
       "      <td>peugeot</td>\n",
       "      <td>no</td>\n",
       "    </tr>\n",
       "    <tr>\n",
       "      <th>7</th>\n",
       "      <td>0</td>\n",
       "      <td>sedan</td>\n",
       "      <td>1980</td>\n",
       "      <td>manual</td>\n",
       "      <td>50</td>\n",
       "      <td>other</td>\n",
       "      <td>40000</td>\n",
       "      <td>7</td>\n",
       "      <td>petrol</td>\n",
       "      <td>volkswagen</td>\n",
       "      <td>no</td>\n",
       "    </tr>\n",
       "    <tr>\n",
       "      <th>8</th>\n",
       "      <td>14500</td>\n",
       "      <td>bus</td>\n",
       "      <td>2014</td>\n",
       "      <td>manual</td>\n",
       "      <td>125</td>\n",
       "      <td>c_max</td>\n",
       "      <td>30000</td>\n",
       "      <td>8</td>\n",
       "      <td>petrol</td>\n",
       "      <td>ford</td>\n",
       "      <td>yes</td>\n",
       "    </tr>\n",
       "    <tr>\n",
       "      <th>9</th>\n",
       "      <td>999</td>\n",
       "      <td>small</td>\n",
       "      <td>1998</td>\n",
       "      <td>manual</td>\n",
       "      <td>101</td>\n",
       "      <td>golf</td>\n",
       "      <td>150000</td>\n",
       "      <td>0</td>\n",
       "      <td>unknown</td>\n",
       "      <td>volkswagen</td>\n",
       "      <td>yes</td>\n",
       "    </tr>\n",
       "    <tr>\n",
       "      <th>10</th>\n",
       "      <td>2000</td>\n",
       "      <td>sedan</td>\n",
       "      <td>2004</td>\n",
       "      <td>manual</td>\n",
       "      <td>105</td>\n",
       "      <td>3_reihe</td>\n",
       "      <td>150000</td>\n",
       "      <td>12</td>\n",
       "      <td>petrol</td>\n",
       "      <td>mazda</td>\n",
       "      <td>no</td>\n",
       "    </tr>\n",
       "  </tbody>\n",
       "</table>\n",
       "</div>"
      ],
      "text/plain": [
       "    Price  VehicleType  RegistrationYear Gearbox  Power    Model  Kilometer  \\\n",
       "0     480      unknown              1993  manual      0     golf     150000   \n",
       "2    9800          suv              2004    auto    163    grand     125000   \n",
       "3    1500        small              2001  manual     75     golf     150000   \n",
       "4    3600        small              2008  manual     69    fabia      90000   \n",
       "5     650        sedan              1995  manual    102      3er     150000   \n",
       "6    2200  convertible              2004  manual    109  2_reihe     150000   \n",
       "7       0        sedan              1980  manual     50    other      40000   \n",
       "8   14500          bus              2014  manual    125    c_max      30000   \n",
       "9     999        small              1998  manual    101     golf     150000   \n",
       "10   2000        sedan              2004  manual    105  3_reihe     150000   \n",
       "\n",
       "    RegistrationMonth  FuelType       Brand Repaired  \n",
       "0                   0    petrol  volkswagen      yes  \n",
       "2                   8  gasoline        jeep      yes  \n",
       "3                   6    petrol  volkswagen       no  \n",
       "4                   7  gasoline       skoda       no  \n",
       "5                  10    petrol         bmw       no  \n",
       "6                   8    petrol     peugeot       no  \n",
       "7                   7    petrol  volkswagen       no  \n",
       "8                   8    petrol        ford      yes  \n",
       "9                   0   unknown  volkswagen      yes  \n",
       "10                 12    petrol       mazda       no  "
      ]
     },
     "metadata": {},
     "output_type": "display_data"
    }
   ],
   "source": [
    "display(df.head(10))"
   ]
  },
  {
   "cell_type": "code",
   "execution_count": 18,
   "metadata": {},
   "outputs": [
    {
     "data": {
      "text/plain": [
       "count    334476.000000\n",
       "mean        111.365153\n",
       "std         184.857614\n",
       "min           0.000000\n",
       "25%          70.000000\n",
       "50%         105.000000\n",
       "75%         143.000000\n",
       "max       20000.000000\n",
       "Name: Power, dtype: float64"
      ]
     },
     "execution_count": 18,
     "metadata": {},
     "output_type": "execute_result"
    }
   ],
   "source": [
    "df.Power.describe()"
   ]
  },
  {
   "cell_type": "markdown",
   "metadata": {},
   "source": [
    "Гладя на уникальные значения мощности авто, наблюдаем множественные выбросы, как например, нереальные мощности автомобиля 0 и 20000."
   ]
  },
  {
   "cell_type": "code",
   "execution_count": 19,
   "metadata": {},
   "outputs": [
    {
     "name": "stdout",
     "output_type": "stream",
     "text": [
      "[0, 1, 2, 3, 4, 5, 6, 7, 8, 9, 10, 11, 12, 13, 14, 15, 16, 17, 18, 19, 20, 21, 22, 23, 24, 25, 26, 27, 28, 29, 30, 31, 32, 33, 34, 35, 36, 37, 38, 39, 40, 41, 42, 43, 44, 45, 46, 47, 48, 49, 50, 51, 52, 53, 54, 55, 56, 57, 58, 59, 60, 61, 62, 63, 64, 65, 66, 67, 68, 69, 70, 71, 72, 73, 74, 75, 76, 77, 78, 79, 80, 81, 82, 83, 84, 85, 86, 87, 88, 89, 90, 91, 92, 93, 94, 95, 96, 97, 98, 99, 100, 101, 102, 103, 104, 105, 106, 107, 108, 109, 110, 111, 112, 113, 114, 115, 116, 117, 118, 119, 120, 121, 122, 123, 124, 125, 126, 127, 128, 129, 130, 131, 132, 133, 134, 135, 136, 137, 138, 139, 140, 141, 142, 143, 144, 145, 146, 147, 148, 149, 150, 151, 152, 153, 154, 155, 156, 157, 158, 159, 160, 161, 162, 163, 164, 165, 166, 167, 168, 169, 170, 171, 172, 173, 174, 175, 176, 177, 178, 179, 180, 181, 182, 183, 184, 185, 186, 187, 188, 189, 190, 191, 192, 193, 194, 195, 196, 197, 198, 199, 200, 201, 202, 203, 204, 205, 206, 207, 208, 209, 210, 211, 212, 213, 214, 215, 216, 217, 218, 219, 220, 221, 222, 223, 224, 225, 226, 227, 228, 229, 230, 231, 232, 233, 234, 235, 236, 237, 238, 239, 240, 241, 242, 243, 244, 245, 246, 247, 248, 249, 250, 251, 252, 253, 254, 255, 256, 257, 258, 259, 260, 261, 262, 264, 265, 266, 267, 268, 269, 270, 271, 272, 273, 274, 275, 276, 277, 278, 279, 280, 281, 282, 283, 284, 285, 286, 287, 288, 289, 290, 292, 293, 294, 295, 296, 298, 299, 300, 301, 303, 304, 305, 306, 307, 308, 309, 310, 311, 313, 314, 315, 316, 317, 318, 320, 321, 322, 323, 324, 325, 326, 327, 328, 329, 330, 331, 332, 333, 334, 335, 336, 337, 338, 339, 340, 341, 343, 344, 345, 346, 347, 348, 349, 350, 351, 352, 353, 354, 355, 356, 357, 358, 360, 361, 362, 363, 364, 365, 367, 368, 370, 371, 374, 375, 376, 377, 379, 380, 381, 382, 385, 386, 387, 388, 390, 392, 394, 396, 398, 399, 400, 401, 405, 408, 409, 411, 416, 420, 421, 425, 426, 428, 430, 431, 435, 440, 445, 449, 450, 454, 457, 459, 460, 475, 476, 485, 487, 489, 490, 500, 504, 505, 507, 508, 510, 514, 515, 517, 519, 520, 521, 525, 530, 540, 541, 544, 550, 551, 560, 572, 574, 579, 580, 584, 585, 599, 600, 601, 603, 604, 606, 607, 610, 612, 620, 640, 645, 650, 651, 671, 678, 685, 696, 700, 702, 703, 743, 750, 751, 754, 771, 776, 800, 805, 808, 850, 871, 900, 901, 902, 903, 907, 909, 923, 950, 952, 953, 960, 998, 999, 1000, 1001, 1003, 1004, 1005, 1011, 1012, 1016, 1017, 1021, 1024, 1054, 1055, 1056, 1062, 1079, 1082, 1090, 1100, 1103, 1105, 1111, 1115, 1149, 1151, 1158, 1160, 1162, 1164, 1199, 1202, 1221, 1223, 1230, 1239, 1240, 1241, 1250, 1252, 1275, 1288, 1299, 1300, 1312, 1339, 1360, 1362, 1363, 1367, 1390, 1394, 1398, 1399, 1400, 1401, 1403, 1405, 1416, 1432, 1433, 1436, 1500, 1501, 1502, 1503, 1506, 1521, 1548, 1595, 1597, 1598, 1600, 1625, 1631, 1653, 1659, 1689, 1700, 1701, 1703, 1704, 1707, 1753, 1771, 1779, 1780, 1781, 1783, 1793, 1796, 1799, 1800, 1870, 1895, 1896, 1900, 1910, 1920, 1933, 1937, 1968, 1986, 1988, 1992, 1993, 1995, 1998, 1999, 2000, 2005, 2007, 2009, 2016, 2017, 2018, 2172, 2200, 2201, 2331, 2402, 2461, 2598, 2729, 2789, 2792, 2799, 3199, 3454, 3500, 3750, 4400, 4507, 4700, 5411, 5420, 5575, 5809, 5815, 5867, 6006, 6010, 6011, 6012, 6018, 6045, 6062, 6226, 6512, 6920, 7508, 7511, 7512, 7515, 7518, 7529, 7544, 8011, 8259, 8404, 8500, 9000, 9007, 9011, 9012, 9013, 9710, 10110, 10218, 10311, 10317, 10520, 10522, 10710, 11011, 11025, 11111, 11509, 11530, 11635, 12012, 12510, 12512, 13616, 13636, 15001, 15016, 15017, 15020, 15033, 16011, 16311, 16312, 17011, 17019, 17410, 17700, 17932, 19208, 19211, 19312, 20000]\n"
     ]
    }
   ],
   "source": [
    "print(sorted(df.Power.unique()))"
   ]
  },
  {
   "cell_type": "markdown",
   "metadata": {},
   "source": [
    "В датасете оставляем только авто с можностью от 15ти до 2500 лошадиных сил  "
   ]
  },
  {
   "cell_type": "code",
   "execution_count": 20,
   "metadata": {},
   "outputs": [],
   "source": [
    "df=df.query('Power > 15 & Power < 2500')"
   ]
  },
  {
   "cell_type": "code",
   "execution_count": 21,
   "metadata": {},
   "outputs": [
    {
     "name": "stdout",
     "output_type": "stream",
     "text": [
      "[16, 17, 18, 19, 20, 21, 22, 23, 24, 25, 26, 27, 28, 29, 30, 31, 32, 33, 34, 35, 36, 37, 38, 39, 40, 41, 42, 43, 44, 45, 46, 47, 48, 49, 50, 51, 52, 53, 54, 55, 56, 57, 58, 59, 60, 61, 62, 63, 64, 65, 66, 67, 68, 69, 70, 71, 72, 73, 74, 75, 76, 77, 78, 79, 80, 81, 82, 83, 84, 85, 86, 87, 88, 89, 90, 91, 92, 93, 94, 95, 96, 97, 98, 99, 100, 101, 102, 103, 104, 105, 106, 107, 108, 109, 110, 111, 112, 113, 114, 115, 116, 117, 118, 119, 120, 121, 122, 123, 124, 125, 126, 127, 128, 129, 130, 131, 132, 133, 134, 135, 136, 137, 138, 139, 140, 141, 142, 143, 144, 145, 146, 147, 148, 149, 150, 151, 152, 153, 154, 155, 156, 157, 158, 159, 160, 161, 162, 163, 164, 165, 166, 167, 168, 169, 170, 171, 172, 173, 174, 175, 176, 177, 178, 179, 180, 181, 182, 183, 184, 185, 186, 187, 188, 189, 190, 191, 192, 193, 194, 195, 196, 197, 198, 199, 200, 201, 202, 203, 204, 205, 206, 207, 208, 209, 210, 211, 212, 213, 214, 215, 216, 217, 218, 219, 220, 221, 222, 223, 224, 225, 226, 227, 228, 229, 230, 231, 232, 233, 234, 235, 236, 237, 238, 239, 240, 241, 242, 243, 244, 245, 246, 247, 248, 249, 250, 251, 252, 253, 254, 255, 256, 257, 258, 259, 260, 261, 262, 264, 265, 266, 267, 268, 269, 270, 271, 272, 273, 274, 275, 276, 277, 278, 279, 280, 281, 282, 283, 284, 285, 286, 287, 288, 289, 290, 292, 293, 294, 295, 296, 298, 299, 300, 301, 303, 304, 305, 306, 307, 308, 309, 310, 311, 313, 314, 315, 316, 317, 318, 320, 321, 322, 323, 324, 325, 326, 327, 328, 329, 330, 331, 332, 333, 334, 335, 336, 337, 338, 339, 340, 341, 343, 344, 345, 346, 347, 348, 349, 350, 351, 352, 353, 354, 355, 356, 357, 358, 360, 361, 362, 363, 364, 365, 367, 368, 370, 371, 374, 375, 376, 377, 379, 380, 381, 382, 385, 386, 387, 388, 390, 392, 394, 396, 398, 399, 400, 401, 405, 408, 409, 411, 416, 420, 421, 425, 426, 428, 430, 431, 435, 440, 445, 449, 450, 454, 457, 459, 460, 475, 476, 485, 487, 489, 490, 500, 504, 505, 507, 508, 510, 514, 515, 517, 519, 520, 521, 525, 530, 540, 541, 544, 550, 551, 560, 572, 574, 579, 580, 584, 585, 599, 600, 601, 603, 604, 606, 607, 610, 612, 620, 640, 645, 650, 651, 671, 678, 685, 696, 700, 702, 703, 743, 750, 751, 754, 771, 776, 800, 805, 808, 850, 871, 900, 901, 902, 903, 907, 909, 923, 950, 952, 953, 960, 998, 999, 1000, 1001, 1003, 1004, 1005, 1011, 1012, 1016, 1017, 1021, 1024, 1054, 1055, 1056, 1062, 1079, 1082, 1090, 1100, 1103, 1105, 1111, 1115, 1149, 1151, 1158, 1160, 1162, 1164, 1199, 1202, 1221, 1223, 1230, 1239, 1240, 1241, 1250, 1252, 1275, 1288, 1299, 1300, 1312, 1339, 1360, 1362, 1363, 1367, 1390, 1394, 1398, 1399, 1400, 1401, 1403, 1405, 1416, 1432, 1433, 1436, 1500, 1501, 1502, 1503, 1506, 1521, 1548, 1595, 1597, 1598, 1600, 1625, 1631, 1653, 1659, 1689, 1700, 1701, 1703, 1704, 1707, 1753, 1771, 1779, 1780, 1781, 1783, 1793, 1796, 1799, 1800, 1870, 1895, 1896, 1900, 1910, 1920, 1933, 1937, 1968, 1986, 1988, 1992, 1993, 1995, 1998, 1999, 2000, 2005, 2007, 2009, 2016, 2017, 2018, 2172, 2200, 2201, 2331, 2402, 2461]\n"
     ]
    }
   ],
   "source": [
    "print(sorted(df.Power.unique()))"
   ]
  },
  {
   "cell_type": "markdown",
   "metadata": {},
   "source": [
    "С пробегом автомобилей вроде все в порядке."
   ]
  },
  {
   "cell_type": "code",
   "execution_count": 22,
   "metadata": {},
   "outputs": [
    {
     "data": {
      "text/plain": [
       "count    300452.000000\n",
       "mean     128547.987699\n",
       "std       36575.379519\n",
       "min        5000.000000\n",
       "25%      125000.000000\n",
       "50%      150000.000000\n",
       "75%      150000.000000\n",
       "max      150000.000000\n",
       "Name: Kilometer, dtype: float64"
      ]
     },
     "execution_count": 22,
     "metadata": {},
     "output_type": "execute_result"
    }
   ],
   "source": [
    "df.Kilometer.describe()"
   ]
  },
  {
   "cell_type": "markdown",
   "metadata": {},
   "source": [
    "Визуализируем целевой признак исследования - цену. На гистограмме и в уникальных значениях видим наличие каких-то нулевых и супер низких цен, которые явно не прибавят точности нашим моделям."
   ]
  },
  {
   "cell_type": "code",
   "execution_count": 23,
   "metadata": {},
   "outputs": [
    {
     "data": {
      "image/png": "[encoded data removed]",
      "text/plain": [
       "<Figure size 864x504 with 1 Axes>"
      ]
     },
     "metadata": {
      "needs_background": "light"
     },
     "output_type": "display_data"
    },
    {
     "data": {
      "text/plain": [
       "count    300452.000000\n",
       "mean       4759.206362\n",
       "std        4599.640571\n",
       "min           0.000000\n",
       "25%        1290.000000\n",
       "50%        3000.000000\n",
       "75%        6900.000000\n",
       "max       20000.000000\n",
       "Name: Price, dtype: float64"
      ]
     },
     "execution_count": 23,
     "metadata": {},
     "output_type": "execute_result"
    }
   ],
   "source": [
    "df.Price.describe()\n",
    "df.Price.hist(bins=50,figsize=(12,7))\n",
    "plt.title('График стоимости автомобилей')\n",
    "plt.xlabel('Стоимость,Евро')\n",
    "plt.ylabel('Количество')\n",
    "plt.show()\n",
    "df.Price.describe()"
   ]
  },
  {
   "cell_type": "code",
   "execution_count": 24,
   "metadata": {
    "scrolled": true
   },
   "outputs": [
    {
     "name": "stdout",
     "output_type": "stream",
     "text": [
      "[0, 1, 2, 3, 5, 9, 10, 11, 12, 13, 15, 16, 17, 19, 20, 24, 25, 26, 29, 30, 35, 38, 39, 40, 45, 47, 49, 50, 55, 60, 65, 66, 69, 70, 75, 77, 79, 80, 85, 89, 90, 95, 98, 99, 100, 101, 105, 108, 110, 111, 112, 115, 117, 119, 120, 122, 123, 125, 126, 128, 129, 130, 132, 133, 135, 139, 140, 142, 145, 149, 150, 155, 156, 157, 159, 160, 162, 165, 166, 169, 170, 173, 175, 179, 180, 181, 185, 188, 189, 190, 192, 193, 195, 196, 198, 199, 200, 202, 205, 209, 210, 211, 215, 217, 219, 220, 222, 224, 225, 229, 230, 235, 236, 240, 243, 245, 248, 249, 250, 251, 252, 253, 255, 259, 260, 261, 263, 265, 266, 269, 270, 272, 273, 274, 275, 277, 278, 279, 280, 281, 284, 285, 289, 290, 295, 298, 299, 300, 301, 305, 308, 309, 310, 315, 316, 319, 320, 321, 323, 325, 329, 330, 331, 332, 333, 335, 338, 339, 340, 341, 344, 345, 348, 349, 350, 355, 356, 359, 360, 365, 366, 369, 370, 373, 375, 377, 378, 379, 380, 384, 385, 388, 390, 393, 395, 397, 398, 399, 400, 408, 410, 414, 415, 418, 420, 422, 425, 429, 430, 433, 435, 439, 440, 444, 445, 449, 450, 455, 458, 459, 460, 465, 467, 469, 470, 475, 479, 480, 485, 487, 489, 490, 495, 498, 499, 500, 501, 505, 510, 514, 515, 517, 519, 520, 522, 523, 525, 530, 531, 533, 536, 540, 543, 544, 545, 548, 549, 550, 555, 559, 560, 566, 569, 570, 574, 575, 576, 577, 578, 579, 580, 585, 586, 588, 589, 590, 593, 595, 597, 598, 599, 600, 601, 605, 606, 610, 615, 619, 620, 622, 623, 625, 628, 629, 630, 632, 633, 634, 635, 639, 640, 644, 645, 647, 648, 649, 650, 655, 656, 658, 659, 660, 665, 666, 667, 669, 670, 675, 679, 680, 685, 686, 688, 689, 690, 695, 696, 698, 699, 700, 701, 706, 709, 710, 715, 717, 719, 720, 722, 725, 728, 729, 730, 735, 739, 740, 744, 745, 747, 749, 750, 755, 759, 760, 768, 769, 770, 775, 776, 777, 780, 785, 788, 789, 790, 793, 795, 797, 798, 799, 800, 804, 810, 820, 822, 823, 825, 828, 829, 830, 833, 834, 836, 837, 839, 840, 844, 845, 846, 849, 850, 855, 860, 865, 868, 869, 870, 875, 879, 880, 885, 888, 889, 890, 895, 897, 898, 899, 900, 901, 909, 910, 915, 919, 920, 923, 925, 929, 930, 934, 935, 940, 944, 945, 948, 949, 950, 951, 955, 958, 959, 960, 965, 966, 968, 969, 970, 975, 976, 979, 980, 982, 985, 987, 988, 989, 990, 991, 993, 995, 996, 997, 998, 999, 1000, 1001, 1010, 1020, 1025, 1026, 1030, 1031, 1033, 1035, 1039, 1040, 1042, 1045, 1049, 1050, 1055, 1059, 1060, 1070, 1075, 1080, 1085, 1089, 1090, 1095, 1098, 1099, 1100, 1101, 1110, 1111, 1112, 1113, 1119, 1120, 1125, 1129, 1130, 1135, 1140, 1144, 1145, 1149, 1150, 1155, 1159, 1160, 1165, 1169, 1170, 1175, 1179, 1180, 1185, 1187, 1189, 1190, 1192, 1193, 1195, 1198, 1199, 1200, 1201, 1208, 1209, 1210, 1211, 1212, 1220, 1221, 1222, 1224, 1225, 1230, 1231, 1233, 1234, 1240, 1247, 1249, 1250, 1252, 1253, 1255, 1259, 1260, 1262, 1265, 1269, 1270, 1275, 1277, 1280, 1285, 1289, 1290, 1294, 1295, 1296, 1297, 1298, 1299, 1300, 1310, 1311, 1320, 1321, 1325, 1329, 1330, 1333, 1335, 1340, 1344, 1345, 1348, 1349, 1350, 1355, 1357, 1358, 1360, 1361, 1365, 1366, 1368, 1370, 1375, 1378, 1379, 1380, 1385, 1388, 1389, 1390, 1395, 1397, 1398, 1399, 1400, 1401, 1402, 1410, 1414, 1416, 1420, 1425, 1429, 1430, 1432, 1440, 1444, 1445, 1448, 1449, 1450, 1453, 1455, 1459, 1460, 1465, 1466, 1469, 1470, 1475, 1479, 1480, 1483, 1485, 1488, 1489, 1490, 1494, 1495, 1497, 1498, 1499, 1500, 1506, 1510, 1515, 1517, 1520, 1525, 1529, 1530, 1540, 1544, 1545, 1549, 1550, 1551, 1555, 1558, 1559, 1560, 1565, 1566, 1570, 1575, 1577, 1579, 1580, 1585, 1587, 1588, 1589, 1590, 1595, 1596, 1598, 1599, 1600, 1605, 1620, 1625, 1629, 1630, 1631, 1633, 1635, 1640, 1642, 1645, 1648, 1649, 1650, 1652, 1654, 1655, 1659, 1660, 1666, 1669, 1670, 1675, 1679, 1680, 1685, 1687, 1688, 1689, 1690, 1693, 1695, 1697, 1698, 1699, 1700, 1710, 1720, 1725, 1730, 1733, 1735, 1740, 1745, 1749, 1750, 1755, 1759, 1760, 1765, 1770, 1775, 1777, 1779, 1780, 1789, 1790, 1795, 1797, 1798, 1799, 1800, 1801, 1802, 1810, 1811, 1820, 1823, 1829, 1830, 1840, 1845, 1849, 1850, 1855, 1856, 1857, 1858, 1860, 1870, 1875, 1877, 1878, 1879, 1880, 1881, 1885, 1887, 1888, 1890, 1894, 1895, 1897, 1899, 1900, 1904, 1906, 1920, 1925, 1929, 1930, 1933, 1935, 1940, 1945, 1947, 1948, 1949, 1950, 1954, 1955, 1956, 1958, 1959, 1960, 1965, 1970, 1975, 1980, 1981, 1982, 1984, 1985, 1986, 1987, 1989, 1990, 1991, 1994, 1995, 1996, 1997, 1998, 1999, 2000, 2001, 2002, 2004, 2005, 2010, 2025, 2035, 2036, 2049, 2050, 2055, 2070, 2075, 2080, 2085, 2090, 2091, 2095, 2098, 2099, 2100, 2101, 2105, 2111, 2120, 2125, 2128, 2130, 2134, 2140, 2148, 2149, 2150, 2151, 2155, 2165, 2170, 2175, 2179, 2180, 2189, 2190, 2194, 2195, 2198, 2199, 2200, 2201, 2210, 2211, 2215, 2220, 2221, 2222, 2224, 2225, 2229, 2230, 2233, 2235, 2238, 2240, 2241, 2243, 2245, 2249, 2250, 2255, 2259, 2260, 2262, 2265, 2270, 2275, 2276, 2278, 2280, 2285, 2288, 2289, 2290, 2295, 2298, 2299, 2300, 2301, 2305, 2314, 2320, 2321, 2322, 2323, 2325, 2329, 2330, 2333, 2335, 2340, 2344, 2345, 2349, 2350, 2351, 2355, 2359, 2360, 2365, 2366, 2370, 2375, 2377, 2379, 2380, 2384, 2385, 2388, 2389, 2390, 2395, 2398, 2399, 2400, 2405, 2410, 2420, 2421, 2424, 2430, 2432, 2440, 2444, 2448, 2449, 2450, 2455, 2459, 2460, 2465, 2470, 2475, 2479, 2480, 2488, 2489, 2490, 2495, 2496, 2498, 2499, 2500, 2501, 2510, 2511, 2512, 2520, 2525, 2530, 2540, 2544, 2549, 2550, 2555, 2560, 2565, 2569, 2570, 2575, 2579, 2580, 2589, 2590, 2595, 2598, 2599, 2600, 2601, 2610, 2620, 2625, 2629, 2630, 2633, 2640, 2645, 2649, 2650, 2651, 2655, 2657, 2660, 2666, 2670, 2675, 2677, 2679, 2680, 2683, 2689, 2690, 2691, 2695, 2698, 2699, 2700, 2701, 2717, 2720, 2725, 2727, 2740, 2744, 2745, 2749, 2750, 2754, 2759, 2760, 2765, 2766, 2770, 2775, 2777, 2780, 2785, 2788, 2789, 2790, 2792, 2795, 2796, 2798, 2799, 2800, 2810, 2820, 2825, 2828, 2840, 2845, 2846, 2849, 2850, 2855, 2860, 2869, 2870, 2874, 2875, 2877, 2879, 2880, 2885, 2888, 2889, 2890, 2895, 2897, 2898, 2899, 2900, 2901, 2910, 2911, 2920, 2925, 2930, 2940, 2944, 2945, 2946, 2947, 2949, 2950, 2955, 2960, 2962, 2965, 2968, 2970, 2975, 2980, 2982, 2985, 2986, 2989, 2990, 2993, 2995, 2996, 2997, 2998, 2999, 3000, 3001, 3009, 3010, 3012, 3020, 3021, 3030, 3038, 3040, 3049, 3050, 3051, 3055, 3060, 3070, 3075, 3080, 3087, 3089, 3090, 3099, 3100, 3111, 3112, 3119, 3120, 3122, 3125, 3129, 3130, 3131, 3140, 3149, 3150, 3151, 3160, 3165, 3170, 3178, 3180, 3190, 3195, 3198, 3199, 3200, 3210, 3220, 3222, 3225, 3230, 3240, 3245, 3249, 3250, 3255, 3256, 3259, 3260, 3270, 3275, 3280, 3285, 3290, 3295, 3298, 3299, 3300, 3310, 3318, 3320, 3321, 3325, 3330, 3333, 3339, 3340, 3349, 3350, 3360, 3370, 3378, 3380, 3385, 3390, 3393, 3395, 3398, 3399, 3400, 3410, 3420, 3425, 3431, 3440, 3444, 3445, 3448, 3449, 3450, 3452, 3455, 3456, 3458, 3460, 3470, 3475, 3480, 3485, 3488, 3489, 3490, 3494, 3495, 3496, 3498, 3499, 3500, 3501, 3509, 3510, 3512, 3520, 3522, 3525, 3529, 3530, 3535, 3540, 3544, 3545, 3549, 3550, 3555, 3560, 3561, 3566, 3570, 3575, 3579, 3580, 3585, 3589, 3590, 3591, 3595, 3598, 3599, 3600, 3620, 3622, 3630, 3633, 3640, 3649, 3650, 3651, 3655, 3660, 3666, 3670, 3673, 3675, 3680, 3690, 3695, 3699, 3700, 3710, 3715, 3720, 3725, 3730, 3740, 3745, 3749, 3750, 3755, 3757, 3759, 3760, 3768, 3770, 3774, 3775, 3777, 3779, 3780, 3785, 3787, 3789, 3790, 3795, 3798, 3799, 3800, 3801, 3805, 3810, 3838, 3840, 3845, 3849, 3850, 3855, 3860, 3867, 3869, 3870, 3875, 3876, 3879, 3880, 3884, 3885, 3888, 3889, 3890, 3895, 3896, 3898, 3899, 3900, 3901, 3902, 3905, 3920, 3925, 3933, 3940, 3941, 3944, 3945, 3948, 3949, 3950, 3952, 3955, 3957, 3960, 3965, 3969, 3970, 3975, 3977, 3980, 3985, 3987, 3988, 3989, 3990, 3991, 3993, 3995, 3996, 3997, 3998, 3999, 4000, 4001, 4002, 4004, 4005, 4012, 4030, 4033, 4040, 4044, 4049, 4050, 4088, 4090, 4095, 4099, 4100, 4101, 4110, 4111, 4123, 4124, 4125, 4130, 4140, 4145, 4149, 4150, 4155, 4158, 4159, 4160, 4165, 4170, 4175, 4179, 4180, 4190, 4195, 4198, 4199, 4200, 4201, 4205, 4210, 4220, 4222, 4225, 4230, 4240, 4242, 4249, 4250, 4255, 4260, 4270, 4275, 4278, 4279, 4280, 4285, 4286, 4290, 4295, 4298, 4299, 4300, 4301, 4317, 4320, 4321, 4330, 4333, 4335, 4339, 4340, 4349, 4350, 4355, 4359, 4360, 4370, 4375, 4378, 4380, 4390, 4395, 4398, 4399, 4400, 4411, 4415, 4420, 4430, 4440, 4444, 4445, 4449, 4450, 4455, 4460, 4470, 4475, 4477, 4480, 4484, 4485, 4487, 4488, 4489, 4490, 4495, 4497, 4498, 4499, 4500, 4510, 4516, 4525, 4529, 4530, 4532, 4538, 4545, 4548, 4549, 4550, 4555, 4559, 4560, 4565, 4567, 4570, 4580, 4590, 4595, 4598, 4599, 4600, 4620, 4622, 4630, 4635, 4640, 4645, 4646, 4649, 4650, 4652, 4655, 4660, 4666, 4670, 4675, 4680, 4684, 4688, 4689, 4690, 4698, 4699, 4700, 4710, 4720, 4725, 4730, 4737, 4740, 4747, 4749, 4750, 4751, 4755, 4758, 4759, 4760, 4766, 4770, 4775, 4777, 4780, 4782, 4785, 4786, 4790, 4792, 4795, 4797, 4798, 4799, 4800, 4816, 4820, 4824, 4825, 4829, 4830, 4835, 4840, 4849, 4850, 4855, 4860, 4870, 4880, 4885, 4888, 4889, 4890, 4895, 4898, 4899, 4900, 4901, 4909, 4911, 4919, 4920, 4925, 4930, 4938, 4940, 4949, 4950, 4955, 4960, 4970, 4975, 4977, 4980, 4985, 4988, 4989, 4990, 4994, 4995, 4997, 4998, 4999, 5000, 5001, 5002, 5003, 5005, 5006, 5007, 5008, 5012, 5015, 5020, 5022, 5030, 5049, 5050, 5090, 5099, 5100, 5111, 5120, 5125, 5129, 5130, 5140, 5145, 5149, 5150, 5151, 5160, 5175, 5180, 5185, 5189, 5190, 5195, 5198, 5199, 5200, 5211, 5220, 5222, 5225, 5234, 5235, 5240, 5246, 5247, 5248, 5249, 5250, 5255, 5275, 5277, 5280, 5285, 5289, 5290, 5298, 5299, 5300, 5318, 5320, 5333, 5340, 5349, 5350, 5359, 5370, 5372, 5375, 5377, 5380, 5385, 5390, 5395, 5398, 5399, 5400, 5401, 5409, 5411, 5425, 5430, 5432, 5440, 5444, 5445, 5449, 5450, 5454, 5455, 5459, 5470, 5475, 5480, 5485, 5489, 5490, 5495, 5497, 5498, 5499, 5500, 5520, 5530, 5540, 5542, 5544, 5549, 5550, 5554, 5555, 5558, 5560, 5569, 5570, 5575, 5580, 5581, 5585, 5590, 5595, 5599, 5600, 5606, 5620, 5625, 5630, 5634, 5648, 5649, 5650, 5660, 5666, 5680, 5685, 5686, 5689, 5690, 5695, 5697, 5699, 5700, 5723, 5740, 5748, 5749, 5750, 5755, 5760, 5765, 5770, 5775, 5777, 5780, 5790, 5795, 5799, 5800, 5803, 5827, 5830, 5840, 5844, 5849, 5850, 5855, 5860, 5865, 5870, 5875, 5876, 5879, 5880, 5885, 5888, 5889, 5890, 5896, 5898, 5899, 5900, 5920, 5924, 5925, 5940, 5949, 5950, 5955, 5959, 5960, 5970, 5975, 5980, 5988, 5990, 5994, 5995, 5996, 5997, 5998, 5999, 6000, 6001, 6039, 6050, 6066, 6089, 6090, 6099, 6100, 6101, 6106, 6111, 6120, 6124, 6125, 6130, 6140, 6144, 6149, 6150, 6165, 6170, 6180, 6190, 6192, 6195, 6198, 6199, 6200, 6202, 6208, 6220, 6222, 6225, 6229, 6230, 6235, 6240, 6249, 6250, 6255, 6275, 6279, 6280, 6289, 6290, 6295, 6298, 6299, 6300, 6303, 6310, 6330, 6333, 6340, 6349, 6350, 6365, 6370, 6375, 6380, 6385, 6389, 6390, 6395, 6398, 6399, 6400, 6410, 6434, 6435, 6440, 6444, 6447, 6449, 6450, 6453, 6455, 6460, 6470, 6475, 6479, 6480, 6489, 6490, 6495, 6498, 6499, 6500, 6501, 6510, 6523, 6530, 6537, 6540, 6543, 6545, 6550, 6555, 6560, 6570, 6575, 6578, 6580, 6583, 6588, 6589, 6590, 6595, 6598, 6599, 6600, 6609, 6620, 6639, 6640, 6649, 6650, 6657, 6660, 6665, 6666, 6667, 6680, 6687, 6690, 6695, 6699, 6700, 6720, 6725, 6730, 6740, 6745, 6749, 6750, 6755, 6759, 6770, 6777, 6780, 6783, 6785, 6788, 6789, 6790, 6792, 6795, 6798, 6799, 6800, 6801, 6820, 6830, 6840, 6845, 6849, 6850, 6855, 6860, 6866, 6868, 6870, 6872, 6875, 6879, 6880, 6888, 6889, 6890, 6895, 6897, 6899, 6900, 6911, 6913, 6916, 6920, 6930, 6940, 6944, 6949, 6950, 6951, 6959, 6960, 6966, 6969, 6970, 6973, 6975, 6977, 6979, 6980, 6985, 6988, 6989, 6990, 6995, 6996, 6998, 6999, 7000, 7001, 7007, 7016, 7040, 7049, 7050, 7052, 7070, 7085, 7090, 7099, 7100, 7111, 7115, 7118, 7130, 7139, 7140, 7149, 7150, 7170, 7180, 7185, 7188, 7190, 7198, 7199, 7200, 7217, 7220, 7222, 7230, 7234, 7240, 7249, 7250, 7255, 7260, 7270, 7280, 7285, 7290, 7291, 7295, 7298, 7299, 7300, 7328, 7330, 7333, 7340, 7349, 7350, 7359, 7360, 7370, 7373, 7379, 7380, 7385, 7390, 7395, 7396, 7399, 7400, 7420, 7428, 7430, 7435, 7440, 7444, 7446, 7449, 7450, 7455, 7460, 7470, 7480, 7485, 7489, 7490, 7491, 7495, 7497, 7498, 7499, 7500, 7522, 7530, 7539, 7540, 7545, 7549, 7550, 7555, 7560, 7563, 7570, 7588, 7590, 7591, 7595, 7596, 7598, 7599, 7600, 7603, 7640, 7645, 7649, 7650, 7654, 7655, 7657, 7660, 7666, 7675, 7680, 7685, 7688, 7689, 7690, 7695, 7699, 7700, 7740, 7745, 7749, 7750, 7760, 7770, 7775, 7777, 7780, 7789, 7790, 7795, 7799, 7800, 7820, 7825, 7830, 7839, 7840, 7845, 7849, 7850, 7855, 7856, 7859, 7860, 7869, 7875, 7877, 7880, 7885, 7888, 7890, 7893, 7895, 7898, 7899, 7900, 7924, 7930, 7940, 7949, 7950, 7960, 7970, 7980, 7985, 7988, 7989, 7990, 7994, 7995, 7996, 7997, 7998, 7999, 8000, 8008, 8050, 8069, 8080, 8090, 8099, 8100, 8111, 8115, 8125, 8129, 8146, 8150, 8155, 8159, 8180, 8188, 8189, 8190, 8198, 8199, 8200, 8211, 8219, 8222, 8225, 8230, 8240, 8245, 8248, 8249, 8250, 8255, 8258, 8265, 8270, 8275, 8280, 8282, 8285, 8290, 8295, 8299, 8300, 8320, 8321, 8330, 8333, 8335, 8340, 8345, 8349, 8350, 8360, 8370, 8380, 8390, 8395, 8399, 8400, 8419, 8420, 8425, 8431, 8444, 8446, 8447, 8449, 8450, 8460, 8469, 8470, 8480, 8484, 8485, 8488, 8490, 8494, 8495, 8498, 8499, 8500, 8520, 8549, 8550, 8555, 8560, 8570, 8579, 8580, 8590, 8595, 8599, 8600, 8620, 8630, 8640, 8645, 8650, 8655, 8663, 8665, 8666, 8670, 8675, 8680, 8690, 8695, 8699, 8700, 8720, 8730, 8749, 8750, 8751, 8755, 8764, 8765, 8770, 8777, 8780, 8785, 8788, 8790, 8795, 8798, 8799, 8800, 8801, 8833, 8840, 8849, 8850, 8854, 8870, 8875, 8880, 8885, 8886, 8887, 8888, 8889, 8890, 8891, 8895, 8898, 8899, 8900, 8904, 8911, 8925, 8930, 8940, 8944, 8949, 8950, 8955, 8960, 8970, 8974, 8975, 8979, 8980, 8987, 8989, 8990, 8995, 8998, 8999, 9000, 9001, 9049, 9050, 9090, 9099, 9100, 9110, 9120, 9125, 9130, 9149, 9150, 9170, 9190, 9195, 9198, 9199, 9200, 9203, 9221, 9222, 9240, 9245, 9249, 9250, 9270, 9275, 9280, 9289, 9290, 9298, 9299, 9300, 9307, 9320, 9325, 9333, 9349, 9350, 9370, 9375, 9379, 9380, 9385, 9390, 9395, 9398, 9399, 9400, 9410, 9420, 9428, 9440, 9444, 9445, 9449, 9450, 9455, 9460, 9469, 9470, 9475, 9480, 9488, 9490, 9495, 9498, 9499, 9500, 9520, 9525, 9529, 9530, 9540, 9549, 9550, 9555, 9560, 9570, 9577, 9580, 9590, 9599, 9600, 9649, 9650, 9654, 9655, 9660, 9666, 9667, 9675, 9680, 9681, 9690, 9695, 9699, 9700, 9720, 9725, 9734, 9740, 9745, 9749, 9750, 9760, 9769, 9773, 9777, 9780, 9788, 9789, 9790, 9799, 9800, 9840, 9845, 9849, 9850, 9860, 9870, 9875, 9876, 9877, 9880, 9885, 9888, 9890, 9895, 9899, 9900, 9920, 9925, 9939, 9945, 9949, 9950, 9959, 9964, 9968, 9970, 9975, 9980, 9985, 9987, 9988, 9989, 9990, 9991, 9993, 9994, 9995, 9996, 9997, 9998, 9999, 10000, 10001, 10009, 10050, 10080, 10089, 10090, 10099, 10100, 10111, 10150, 10175, 10180, 10190, 10198, 10199, 10200, 10220, 10222, 10230, 10240, 10249, 10250, 10260, 10280, 10288, 10290, 10295, 10299, 10300, 10310, 10317, 10328, 10333, 10340, 10344, 10349, 10350, 10370, 10375, 10379, 10380, 10389, 10390, 10398, 10399, 10400, 10422, 10430, 10444, 10449, 10450, 10466, 10470, 10472, 10475, 10480, 10488, 10490, 10495, 10498, 10499, 10500, 10529, 10540, 10550, 10555, 10556, 10560, 10590, 10599, 10600, 10625, 10650, 10655, 10666, 10670, 10680, 10690, 10695, 10699, 10700, 10725, 10730, 10749, 10750, 10755, 10760, 10777, 10780, 10789, 10790, 10791, 10795, 10799, 10800, 10830, 10849, 10850, 10860, 10870, 10875, 10879, 10880, 10888, 10890, 10891, 10895, 10898, 10899, 10900, 10910, 10920, 10930, 10939, 10940, 10945, 10949, 10950, 10960, 10970, 10975, 10980, 10985, 10986, 10987, 10988, 10989, 10990, 10995, 10997, 10998, 10999, 11000, 11050, 11080, 11090, 11099, 11100, 11111, 11140, 11148, 11149, 11150, 11180, 11190, 11195, 11199, 11200, 11205, 11220, 11222, 11230, 11235, 11240, 11247, 11250, 11270, 11290, 11295, 11299, 11300, 11320, 11325, 11330, 11333, 11349, 11350, 11360, 11379, 11380, 11389, 11390, 11399, 11400, 11410, 11430, 11432, 11444, 11448, 11449, 11450, 11454, 11470, 11475, 11479, 11480, 11488, 11489, 11490, 11495, 11498, 11499, 11500, 11533, 11540, 11549, 11550, 11552, 11555, 11580, 11590, 11599, 11600, 11625, 11649, 11650, 11654, 11660, 11666, 11670, 11680, 11685, 11687, 11690, 11693, 11697, 11699, 11700, 11720, 11722, 11725, 11733, 11738, 11749, 11750, 11756, 11760, 11770, 11777, 11780, 11784, 11790, 11798, 11799, 11800, 11820, 11825, 11840, 11845, 11849, 11850, 11878, 11880, 11888, 11889, 11890, 11897, 11899, 11900, 11909, 11919, 11920, 11923, 11928, 11930, 11935, 11940, 11950, 11955, 11960, 11968, 11970, 11975, 11979, 11980, 11981, 11982, 11985, 11988, 11989, 11990, 11995, 11998, 11999, 12000, 12050, 12059, 12090, 12099, 12100, 12120, 12125, 12145, 12150, 12180, 12190, 12195, 12199, 12200, 12220, 12222, 12225, 12249, 12250, 12255, 12270, 12280, 12290, 12295, 12298, 12299, 12300, 12320, 12330, 12333, 12340, 12345, 12349, 12350, 12355, 12368, 12370, 12380, 12390, 12395, 12399, 12400, 12430, 12440, 12444, 12449, 12450, 12465, 12469, 12470, 12475, 12480, 12488, 12489, 12490, 12495, 12498, 12499, 12500, 12501, 12523, 12525, 12540, 12549, 12550, 12555, 12560, 12567, 12580, 12590, 12599, 12600, 12647, 12650, 12660, 12667, 12680, 12685, 12690, 12696, 12699, 12700, 12735, 12740, 12749, 12750, 12770, 12777, 12780, 12789, 12790, 12799, 12800, 12808, 12821, 12830, 12850, 12860, 12870, 12877, 12880, 12887, 12888, 12889, 12890, 12898, 12899, 12900, 12920, 12932, 12944, 12949, 12950, 12955, 12968, 12970, 12973, 12978, 12980, 12985, 12986, 12988, 12989, 12990, 12991, 12995, 12997, 12998, 12999, 13000, 13049, 13050, 13090, 13099, 13100, 13131, 13150, 13180, 13190, 13199, 13200, 13220, 13222, 13225, 13230, 13240, 13249, 13250, 13275, 13280, 13290, 13298, 13299, 13300, 13321, 13330, 13333, 13349, 13350, 13362, 13380, 13383, 13384, 13387, 13390, 13399, 13400, 13423, 13440, 13444, 13449, 13450, 13456, 13470, 13475, 13480, 13485, 13488, 13489, 13490, 13493, 13495, 13498, 13499, 13500, 13520, 13530, 13548, 13550, 13555, 13560, 13590, 13599, 13600, 13620, 13650, 13666, 13680, 13690, 13699, 13700, 13730, 13749, 13750, 13755, 13777, 13780, 13790, 13798, 13799, 13800, 13830, 13849, 13850, 13870, 13875, 13879, 13880, 13885, 13888, 13890, 13899, 13900, 13911, 13930, 13940, 13949, 13950, 13955, 13960, 13970, 13975, 13978, 13980, 13985, 13986, 13988, 13989, 13990, 13995, 13998, 13999, 14000, 14001, 14010, 14050, 14099, 14100, 14111, 14114, 14140, 14150, 14180, 14190, 14199, 14200, 14220, 14222, 14227, 14230, 14240, 14249, 14250, 14260, 14270, 14275, 14280, 14290, 14295, 14299, 14300, 14320, 14321, 14333, 14337, 14341, 14349, 14350, 14386, 14390, 14398, 14399, 14400, 14430, 14440, 14444, 14449, 14450, 14475, 14480, 14489, 14490, 14495, 14498, 14499, 14500, 14525, 14530, 14540, 14550, 14555, 14560, 14580, 14590, 14599, 14600, 14640, 14650, 14666, 14690, 14699, 14700, 14730, 14749, 14750, 14777, 14780, 14790, 14799, 14800, 14810, 14830, 14850, 14860, 14863, 14870, 14880, 14888, 14890, 14898, 14899, 14900, 14920, 14940, 14949, 14950, 14960, 14970, 14975, 14979, 14980, 14986, 14989, 14990, 14995, 14998, 14999, 15000, 15001, 15050, 15099, 15100, 15120, 15150, 15151, 15165, 15186, 15190, 15199, 15200, 15210, 15219, 15222, 15232, 15249, 15250, 15260, 15272, 15280, 15290, 15298, 15299, 15300, 15333, 15349, 15350, 15370, 15390, 15395, 15399, 15400, 15413, 15423, 15425, 15445, 15449, 15450, 15451, 15460, 15470, 15480, 15490, 15492, 15495, 15498, 15499, 15500, 15550, 15555, 15580, 15590, 15595, 15599, 15600, 15650, 15666, 15670, 15680, 15683, 15690, 15699, 15700, 15749, 15750, 15755, 15777, 15780, 15790, 15799, 15800, 15823, 15849, 15850, 15860, 15870, 15876, 15880, 15888, 15890, 15898, 15899, 15900, 15911, 15920, 15921, 15944, 15945, 15946, 15950, 15960, 15965, 15970, 15975, 15980, 15986, 15990, 15995, 15998, 15999, 16000, 16050, 16065, 16099, 16100, 16150, 16190, 16199, 16200, 16215, 16222, 16250, 16270, 16280, 16285, 16290, 16299, 16300, 16320, 16329, 16333, 16340, 16345, 16350, 16375, 16390, 16399, 16400, 16430, 16444, 16445, 16449, 16450, 16475, 16480, 16485, 16490, 16495, 16499, 16500, 16541, 16550, 16555, 16579, 16580, 16590, 16599, 16600, 16620, 16648, 16649, 16650, 16660, 16666, 16669, 16680, 16689, 16690, 16699, 16700, 16749, 16750, 16777, 16780, 16786, 16788, 16790, 16799, 16800, 16830, 16840, 16845, 16849, 16850, 16856, 16866, 16870, 16880, 16885, 16888, 16890, 16899, 16900, 16911, 16920, 16940, 16950, 16955, 16960, 16966, 16970, 16975, 16980, 16988, 16989, 16990, 16995, 16998, 16999, 17000, 17047, 17064, 17099, 17100, 17111, 17135, 17148, 17149, 17150, 17159, 17189, 17190, 17199, 17200, 17249, 17250, 17255, 17260, 17280, 17290, 17299, 17300, 17307, 17350, 17370, 17390, 17399, 17400, 17419, 17444, 17449, 17450, 17480, 17485, 17490, 17495, 17498, 17499, 17500, 17501, 17520, 17530, 17550, 17555, 17580, 17590, 17599, 17600, 17650, 17666, 17680, 17690, 17695, 17699, 17700, 17740, 17749, 17750, 17770, 17775, 17777, 17780, 17790, 17799, 17800, 17830, 17850, 17875, 17880, 17888, 17889, 17890, 17898, 17899, 17900, 17920, 17944, 17949, 17950, 17970, 17979, 17980, 17989, 17990, 17995, 17996, 17998, 17999, 18000, 18090, 18099, 18100, 18111, 18149, 18150, 18181, 18190, 18199, 18200, 18230, 18247, 18249, 18250, 18270, 18276, 18290, 18299, 18300, 18310, 18350, 18380, 18390, 18399, 18400, 18420, 18429, 18430, 18440, 18444, 18449, 18450, 18455, 18460, 18470, 18480, 18490, 18496, 18498, 18499, 18500, 18550, 18555, 18580, 18590, 18599, 18600, 18650, 18690, 18699, 18700, 18740, 18750, 18777, 18789, 18790, 18798, 18799, 18800, 18850, 18870, 18880, 18886, 18888, 18889, 18890, 18899, 18900, 18930, 18940, 18950, 18977, 18980, 18989, 18990, 18995, 18999, 19000, 19099, 19100, 19117, 19121, 19149, 19150, 19190, 19199, 19200, 19230, 19250, 19269, 19280, 19290, 19295, 19299, 19300, 19340, 19350, 19380, 19390, 19399, 19400, 19444, 19450, 19480, 19489, 19490, 19495, 19498, 19499, 19500, 19550, 19580, 19590, 19599, 19600, 19649, 19650, 19666, 19690, 19699, 19700, 19750, 19770, 19777, 19780, 19790, 19798, 19799, 19800, 19830, 19850, 19870, 19875, 19880, 19888, 19890, 19899, 19900, 19911, 19935, 19945, 19949, 19950, 19960, 19968, 19970, 19975, 19980, 19985, 19986, 19987, 19990, 19995, 19997, 19998, 19999, 20000]\n"
     ]
    }
   ],
   "source": [
    "print(sorted(df.Price.unique()))"
   ]
  },
  {
   "cell_type": "markdown",
   "metadata": {},
   "source": [
    "Оставляем в датасете только автомобили с ценами больше 50 евро. 5971 строк с ценами ниже пришлось удалить. "
   ]
  },
  {
   "cell_type": "code",
   "execution_count": 25,
   "metadata": {},
   "outputs": [
    {
     "data": {
      "text/plain": [
       "Price  VehicleType  RegistrationYear  Gearbox  Power  Model    Kilometer  RegistrationMonth  FuelType  Brand          Repaired\n",
       "0      sedan        1997              manual   75     golf     150000     0                  petrol    volkswagen     no          56\n",
       "       small        2012              manual   90     rio      90000      7                  gasoline  kia            no          18\n",
       "       sedan        1998              manual   60     golf     150000     0                  petrol    volkswagen     no          18\n",
       "       bus          2005              manual   101    vivaro   80000      8                  gasoline  opel           no          16\n",
       "       other        2002              manual   64     other    150000     2                  gasoline  seat           no           9\n",
       "                                                                                                                                  ..\n",
       "       sedan        2011              manual   116    i_reihe  90000      9                  gasoline  hyundai        no           1\n",
       "                                               101    megane   90000      11                 cng       renault        no           1\n",
       "                                      auto     265    cl       90000      4                  gasoline  mercedes_benz  no           1\n",
       "                                               140    astra    100000     7                  unknown   opel           yes          1\n",
       "49     small        1995              manual   70     polo     150000     6                  petrol    volkswagen     yes          1\n",
       "Length: 5971, dtype: int64"
      ]
     },
     "execution_count": 25,
     "metadata": {},
     "output_type": "execute_result"
    }
   ],
   "source": [
    "df.query('Price < 50').value_counts()"
   ]
  },
  {
   "cell_type": "code",
   "execution_count": 26,
   "metadata": {},
   "outputs": [],
   "source": [
    "df = df.query('Price > 50')"
   ]
  },
  {
   "cell_type": "code",
   "execution_count": 27,
   "metadata": {},
   "outputs": [
    {
     "data": {
      "text/plain": [
       "count    293624.000000\n",
       "mean       4869.844934\n",
       "std        4594.566280\n",
       "min          55.000000\n",
       "25%        1375.000000\n",
       "50%        3200.000000\n",
       "75%        6999.000000\n",
       "max       20000.000000\n",
       "Name: Price, dtype: float64"
      ]
     },
     "execution_count": 27,
     "metadata": {},
     "output_type": "execute_result"
    }
   ],
   "source": [
    "df.Price.describe()"
   ]
  },
  {
   "cell_type": "markdown",
   "metadata": {},
   "source": [
    "в 16540 строках месяц регистрации авто равен 0. На первый взгляд признак вроде незначительный, но был оставлен, так как вполне может влиять на цену, так как, например,не вдаваясь в подробности, авто регистрации 12.2021 будет смотреться на год старше, чем авто 01.2022"
   ]
  },
  {
   "cell_type": "code",
   "execution_count": 28,
   "metadata": {},
   "outputs": [
    {
     "data": {
      "text/plain": [
       "array([ 8,  6,  7, 10,  0, 12, 11,  2,  3,  1,  4,  5,  9])"
      ]
     },
     "execution_count": 28,
     "metadata": {},
     "output_type": "execute_result"
    }
   ],
   "source": [
    "df.RegistrationMonth.unique()"
   ]
  },
  {
   "cell_type": "code",
   "execution_count": 29,
   "metadata": {},
   "outputs": [
    {
     "data": {
      "text/plain": [
       "Price  VehicleType  RegistrationYear  Gearbox  Power  Model    Kilometer  RegistrationMonth  FuelType  Brand       Repaired\n",
       "900    unknown      2017              manual   60     corsa    150000     0                  petrol    opel        no          8\n",
       "1600   sedan        2001              manual   85     astra    150000     0                  petrol    opel        yes         8\n",
       "950    sedan        1995              manual   115    5er      150000     0                  petrol    bmw         yes         6\n",
       "1200   unknown      2017              manual   125    a4       150000     0                  petrol    audi        no          5\n",
       "200    small        1996              manual   60     corsa    150000     0                  petrol    opel        no          5\n",
       "                                                                                                                              ..\n",
       "800    unknown      2017              manual   88     3_reihe  150000     0                  unknown   mazda       no          1\n",
       "                                               90     156      150000     0                  gasoline  alfa_romeo  no          1\n",
       "                                                      corsa    150000     0                  petrol    opel        no          1\n",
       "                                                      other    125000     0                  petrol    mazda       no          1\n",
       "20000  unknown      2017              manual   286    m_reihe  150000     0                  unknown   bmw         no          1\n",
       "Length: 16540, dtype: int64"
      ]
     },
     "execution_count": 29,
     "metadata": {},
     "output_type": "execute_result"
    }
   ],
   "source": [
    "df.query('RegistrationMonth == 0').value_counts()"
   ]
  },
  {
   "cell_type": "markdown",
   "metadata": {},
   "source": [
    "Заполнил нулевой месяц регистрации авто средним значением 6."
   ]
  },
  {
   "cell_type": "code",
   "execution_count": 30,
   "metadata": {},
   "outputs": [],
   "source": [
    "df.loc[df['RegistrationMonth'] == 0,'RegistrationMonth'] =6"
   ]
  },
  {
   "cell_type": "code",
   "execution_count": 31,
   "metadata": {},
   "outputs": [
    {
     "data": {
      "text/plain": [
       "Series([], dtype: int64)"
      ]
     },
     "execution_count": 31,
     "metadata": {},
     "output_type": "execute_result"
    }
   ],
   "source": [
    "df.query('RegistrationMonth == 0').value_counts()"
   ]
  },
  {
   "cell_type": "code",
   "execution_count": 32,
   "metadata": {},
   "outputs": [],
   "source": [
    "df = df.reset_index()"
   ]
  },
  {
   "cell_type": "markdown",
   "metadata": {},
   "source": [
    "Финалаьная проверка после предобработки."
   ]
  },
  {
   "cell_type": "code",
   "execution_count": 33,
   "metadata": {},
   "outputs": [
    {
     "name": "stdout",
     "output_type": "stream",
     "text": [
      "Размер датафрейма: (293624, 12)\n",
      "Количество дубликатов датафрейма: 0\n",
      "Количество пропусков датафрейма: 0\n",
      "Процент пропусков датафрейма: 0.0\n"
     ]
    },
    {
     "data": {
      "text/html": [
       "<div>\n",
       "<style scoped>\n",
       "    .dataframe tbody tr th:only-of-type {\n",
       "        vertical-align: middle;\n",
       "    }\n",
       "\n",
       "    .dataframe tbody tr th {\n",
       "        vertical-align: top;\n",
       "    }\n",
       "\n",
       "    .dataframe thead th {\n",
       "        text-align: right;\n",
       "    }\n",
       "</style>\n",
       "<table border=\"1\" class=\"dataframe\">\n",
       "  <thead>\n",
       "    <tr style=\"text-align: right;\">\n",
       "      <th></th>\n",
       "      <th>Total</th>\n",
       "      <th>Percent</th>\n",
       "    </tr>\n",
       "  </thead>\n",
       "  <tbody>\n",
       "    <tr>\n",
       "      <th>index</th>\n",
       "      <td>0</td>\n",
       "      <td>0.0</td>\n",
       "    </tr>\n",
       "    <tr>\n",
       "      <th>Price</th>\n",
       "      <td>0</td>\n",
       "      <td>0.0</td>\n",
       "    </tr>\n",
       "    <tr>\n",
       "      <th>VehicleType</th>\n",
       "      <td>0</td>\n",
       "      <td>0.0</td>\n",
       "    </tr>\n",
       "    <tr>\n",
       "      <th>RegistrationYear</th>\n",
       "      <td>0</td>\n",
       "      <td>0.0</td>\n",
       "    </tr>\n",
       "    <tr>\n",
       "      <th>Gearbox</th>\n",
       "      <td>0</td>\n",
       "      <td>0.0</td>\n",
       "    </tr>\n",
       "    <tr>\n",
       "      <th>Power</th>\n",
       "      <td>0</td>\n",
       "      <td>0.0</td>\n",
       "    </tr>\n",
       "    <tr>\n",
       "      <th>Model</th>\n",
       "      <td>0</td>\n",
       "      <td>0.0</td>\n",
       "    </tr>\n",
       "    <tr>\n",
       "      <th>Kilometer</th>\n",
       "      <td>0</td>\n",
       "      <td>0.0</td>\n",
       "    </tr>\n",
       "    <tr>\n",
       "      <th>RegistrationMonth</th>\n",
       "      <td>0</td>\n",
       "      <td>0.0</td>\n",
       "    </tr>\n",
       "    <tr>\n",
       "      <th>FuelType</th>\n",
       "      <td>0</td>\n",
       "      <td>0.0</td>\n",
       "    </tr>\n",
       "    <tr>\n",
       "      <th>Brand</th>\n",
       "      <td>0</td>\n",
       "      <td>0.0</td>\n",
       "    </tr>\n",
       "    <tr>\n",
       "      <th>Repaired</th>\n",
       "      <td>0</td>\n",
       "      <td>0.0</td>\n",
       "    </tr>\n",
       "  </tbody>\n",
       "</table>\n",
       "</div>"
      ],
      "text/plain": [
       "                   Total  Percent\n",
       "index                  0      0.0\n",
       "Price                  0      0.0\n",
       "VehicleType            0      0.0\n",
       "RegistrationYear       0      0.0\n",
       "Gearbox                0      0.0\n",
       "Power                  0      0.0\n",
       "Model                  0      0.0\n",
       "Kilometer              0      0.0\n",
       "RegistrationMonth      0      0.0\n",
       "FuelType               0      0.0\n",
       "Brand                  0      0.0\n",
       "Repaired               0      0.0"
      ]
     },
     "execution_count": 33,
     "metadata": {},
     "output_type": "execute_result"
    }
   ],
   "source": [
    "mis_inf(df)"
   ]
  },
  {
   "cell_type": "markdown",
   "metadata": {},
   "source": [
    "Посмотрим корреляцию целевого и остальных числовых признаков  "
   ]
  },
  {
   "cell_type": "code",
   "execution_count": 34,
   "metadata": {},
   "outputs": [],
   "source": [
    "def corr_mtrx(data):      \n",
    "    plt.figure(figsize=(15,10))\n",
    "    sns.set(font_scale=1.4)\n",
    "    corr = round(data.corr(),2)  \n",
    "    sns.heatmap(corr, annot=True,linewidths = 0.1,cmap='summer')    \n",
    "    plt.title('Тепловая карта корреляции')\n",
    "    plt.show()"
   ]
  },
  {
   "cell_type": "code",
   "execution_count": 35,
   "metadata": {},
   "outputs": [
    {
     "data": {
      "image/png": "[encoded data removed]",
      "text/plain": [
       "<Figure size 1080x720 with 2 Axes>"
      ]
     },
     "metadata": {
      "needs_background": "light"
     },
     "output_type": "display_data"
    }
   ],
   "source": [
    "corr_mtrx(df)"
   ]
  },
  {
   "cell_type": "markdown",
   "metadata": {},
   "source": [
    "По тепловой карте видно, что цена в положительно зависит  от года регистрации и  мощности двигателя авто (больше мощность, не так давно регистрация - цена выше), больше пробег авто - цена падает."
   ]
  },
  {
   "cell_type": "markdown",
   "metadata": {},
   "source": [
    "Итак, на этапе предобработки исходного датасета удалены дубликаты, строки с неизвестными моделями, пропуски  в признаках типа топлива, типа кузова, типа коробки передач заменены на unknown, нулевой месяц регистрации авто заменен на среднее значение  6, пропуски признака был ли автомобиль времонте заменены на yes, если автомобиль старше 3х лет. Так же удалены выбросы: в годе регистрации авто,оставлены авто с регистрацией с 1950 по 2019 год,оставлены авто с мощностью от 15 до 2500 лошадиных сил, оставлены только авто с ценой больше 50 евро."
   ]
  },
  {
   "cell_type": "markdown",
   "metadata": {},
   "source": [
    "## Обучение моделей"
   ]
  },
  {
   "cell_type": "markdown",
   "metadata": {},
   "source": [
    "Разделим данные на основную выборку и целевой признак"
   ]
  },
  {
   "cell_type": "code",
   "execution_count": 36,
   "metadata": {},
   "outputs": [],
   "source": [
    "features = df.drop('Price', axis=1)\n",
    "target = df['Price']"
   ]
  },
  {
   "cell_type": "code",
   "execution_count": 37,
   "metadata": {},
   "outputs": [
    {
     "data": {
      "text/html": [
       "<div>\n",
       "<style scoped>\n",
       "    .dataframe tbody tr th:only-of-type {\n",
       "        vertical-align: middle;\n",
       "    }\n",
       "\n",
       "    .dataframe tbody tr th {\n",
       "        vertical-align: top;\n",
       "    }\n",
       "\n",
       "    .dataframe thead th {\n",
       "        text-align: right;\n",
       "    }\n",
       "</style>\n",
       "<table border=\"1\" class=\"dataframe\">\n",
       "  <thead>\n",
       "    <tr style=\"text-align: right;\">\n",
       "      <th></th>\n",
       "      <th>index</th>\n",
       "      <th>VehicleType</th>\n",
       "      <th>RegistrationYear</th>\n",
       "      <th>Gearbox</th>\n",
       "      <th>Power</th>\n",
       "      <th>Model</th>\n",
       "      <th>Kilometer</th>\n",
       "      <th>RegistrationMonth</th>\n",
       "      <th>FuelType</th>\n",
       "      <th>Brand</th>\n",
       "      <th>Repaired</th>\n",
       "    </tr>\n",
       "  </thead>\n",
       "  <tbody>\n",
       "    <tr>\n",
       "      <th>0</th>\n",
       "      <td>2</td>\n",
       "      <td>suv</td>\n",
       "      <td>2004</td>\n",
       "      <td>auto</td>\n",
       "      <td>163</td>\n",
       "      <td>grand</td>\n",
       "      <td>125000</td>\n",
       "      <td>8</td>\n",
       "      <td>gasoline</td>\n",
       "      <td>jeep</td>\n",
       "      <td>yes</td>\n",
       "    </tr>\n",
       "    <tr>\n",
       "      <th>1</th>\n",
       "      <td>3</td>\n",
       "      <td>small</td>\n",
       "      <td>2001</td>\n",
       "      <td>manual</td>\n",
       "      <td>75</td>\n",
       "      <td>golf</td>\n",
       "      <td>150000</td>\n",
       "      <td>6</td>\n",
       "      <td>petrol</td>\n",
       "      <td>volkswagen</td>\n",
       "      <td>no</td>\n",
       "    </tr>\n",
       "    <tr>\n",
       "      <th>2</th>\n",
       "      <td>4</td>\n",
       "      <td>small</td>\n",
       "      <td>2008</td>\n",
       "      <td>manual</td>\n",
       "      <td>69</td>\n",
       "      <td>fabia</td>\n",
       "      <td>90000</td>\n",
       "      <td>7</td>\n",
       "      <td>gasoline</td>\n",
       "      <td>skoda</td>\n",
       "      <td>no</td>\n",
       "    </tr>\n",
       "    <tr>\n",
       "      <th>3</th>\n",
       "      <td>5</td>\n",
       "      <td>sedan</td>\n",
       "      <td>1995</td>\n",
       "      <td>manual</td>\n",
       "      <td>102</td>\n",
       "      <td>3er</td>\n",
       "      <td>150000</td>\n",
       "      <td>10</td>\n",
       "      <td>petrol</td>\n",
       "      <td>bmw</td>\n",
       "      <td>no</td>\n",
       "    </tr>\n",
       "    <tr>\n",
       "      <th>4</th>\n",
       "      <td>6</td>\n",
       "      <td>convertible</td>\n",
       "      <td>2004</td>\n",
       "      <td>manual</td>\n",
       "      <td>109</td>\n",
       "      <td>2_reihe</td>\n",
       "      <td>150000</td>\n",
       "      <td>8</td>\n",
       "      <td>petrol</td>\n",
       "      <td>peugeot</td>\n",
       "      <td>no</td>\n",
       "    </tr>\n",
       "    <tr>\n",
       "      <th>...</th>\n",
       "      <td>...</td>\n",
       "      <td>...</td>\n",
       "      <td>...</td>\n",
       "      <td>...</td>\n",
       "      <td>...</td>\n",
       "      <td>...</td>\n",
       "      <td>...</td>\n",
       "      <td>...</td>\n",
       "      <td>...</td>\n",
       "      <td>...</td>\n",
       "      <td>...</td>\n",
       "    </tr>\n",
       "    <tr>\n",
       "      <th>293619</th>\n",
       "      <td>354361</td>\n",
       "      <td>unknown</td>\n",
       "      <td>2016</td>\n",
       "      <td>auto</td>\n",
       "      <td>150</td>\n",
       "      <td>159</td>\n",
       "      <td>150000</td>\n",
       "      <td>12</td>\n",
       "      <td>unknown</td>\n",
       "      <td>alfa_romeo</td>\n",
       "      <td>no</td>\n",
       "    </tr>\n",
       "    <tr>\n",
       "      <th>293620</th>\n",
       "      <td>354362</td>\n",
       "      <td>sedan</td>\n",
       "      <td>2004</td>\n",
       "      <td>manual</td>\n",
       "      <td>225</td>\n",
       "      <td>leon</td>\n",
       "      <td>150000</td>\n",
       "      <td>5</td>\n",
       "      <td>petrol</td>\n",
       "      <td>seat</td>\n",
       "      <td>no</td>\n",
       "    </tr>\n",
       "    <tr>\n",
       "      <th>293621</th>\n",
       "      <td>354366</td>\n",
       "      <td>convertible</td>\n",
       "      <td>2000</td>\n",
       "      <td>auto</td>\n",
       "      <td>101</td>\n",
       "      <td>fortwo</td>\n",
       "      <td>125000</td>\n",
       "      <td>3</td>\n",
       "      <td>petrol</td>\n",
       "      <td>smart</td>\n",
       "      <td>no</td>\n",
       "    </tr>\n",
       "    <tr>\n",
       "      <th>293622</th>\n",
       "      <td>354367</td>\n",
       "      <td>bus</td>\n",
       "      <td>1996</td>\n",
       "      <td>manual</td>\n",
       "      <td>102</td>\n",
       "      <td>transporter</td>\n",
       "      <td>150000</td>\n",
       "      <td>3</td>\n",
       "      <td>gasoline</td>\n",
       "      <td>volkswagen</td>\n",
       "      <td>no</td>\n",
       "    </tr>\n",
       "    <tr>\n",
       "      <th>293623</th>\n",
       "      <td>354368</td>\n",
       "      <td>wagon</td>\n",
       "      <td>2002</td>\n",
       "      <td>manual</td>\n",
       "      <td>100</td>\n",
       "      <td>golf</td>\n",
       "      <td>150000</td>\n",
       "      <td>6</td>\n",
       "      <td>gasoline</td>\n",
       "      <td>volkswagen</td>\n",
       "      <td>yes</td>\n",
       "    </tr>\n",
       "  </tbody>\n",
       "</table>\n",
       "<p>293624 rows × 11 columns</p>\n",
       "</div>"
      ],
      "text/plain": [
       "         index  VehicleType  RegistrationYear Gearbox  Power        Model  \\\n",
       "0            2          suv              2004    auto    163        grand   \n",
       "1            3        small              2001  manual     75         golf   \n",
       "2            4        small              2008  manual     69        fabia   \n",
       "3            5        sedan              1995  manual    102          3er   \n",
       "4            6  convertible              2004  manual    109      2_reihe   \n",
       "...        ...          ...               ...     ...    ...          ...   \n",
       "293619  354361      unknown              2016    auto    150          159   \n",
       "293620  354362        sedan              2004  manual    225         leon   \n",
       "293621  354366  convertible              2000    auto    101       fortwo   \n",
       "293622  354367          bus              1996  manual    102  transporter   \n",
       "293623  354368        wagon              2002  manual    100         golf   \n",
       "\n",
       "        Kilometer  RegistrationMonth  FuelType       Brand Repaired  \n",
       "0          125000                  8  gasoline        jeep      yes  \n",
       "1          150000                  6    petrol  volkswagen       no  \n",
       "2           90000                  7  gasoline       skoda       no  \n",
       "3          150000                 10    petrol         bmw       no  \n",
       "4          150000                  8    petrol     peugeot       no  \n",
       "...           ...                ...       ...         ...      ...  \n",
       "293619     150000                 12   unknown  alfa_romeo       no  \n",
       "293620     150000                  5    petrol        seat       no  \n",
       "293621     125000                  3    petrol       smart       no  \n",
       "293622     150000                  3  gasoline  volkswagen       no  \n",
       "293623     150000                  6  gasoline  volkswagen      yes  \n",
       "\n",
       "[293624 rows x 11 columns]"
      ]
     },
     "execution_count": 37,
     "metadata": {},
     "output_type": "execute_result"
    }
   ],
   "source": [
    "features"
   ]
  },
  {
   "cell_type": "code",
   "execution_count": 38,
   "metadata": {},
   "outputs": [
    {
     "data": {
      "text/plain": [
       "0         9800\n",
       "1         1500\n",
       "2         3600\n",
       "3          650\n",
       "4         2200\n",
       "          ... \n",
       "293619    5250\n",
       "293620    3200\n",
       "293621    1199\n",
       "293622    9200\n",
       "293623    3400\n",
       "Name: Price, Length: 293624, dtype: int64"
      ]
     },
     "execution_count": 38,
     "metadata": {},
     "output_type": "execute_result"
    }
   ],
   "source": [
    "target"
   ]
  },
  {
   "cell_type": "markdown",
   "metadata": {},
   "source": [
    "Выбираем категориальные признаки, которые нам предствоит закодировать"
   ]
  },
  {
   "cell_type": "markdown",
   "metadata": {},
   "source": [
    "Для кодирования использовал порядковое кодирование Original Encoding, т.к. буду тестировать модели основанные на деревьях - случайный лес, градиентный бустинг."
   ]
  },
  {
   "cell_type": "markdown",
   "metadata": {},
   "source": [
    "Разобьем признаки и таргет на тестовую и тренировочную выборки в пропорции 75-25, т.к. параметры мы будем искать с помощью кросс-валидации через GridSearchCV валидационная выборка нам не нужна."
   ]
  },
  {
   "cell_type": "code",
   "execution_count": 39,
   "metadata": {},
   "outputs": [],
   "source": [
    "features_train, features_test, target_train, target_test = \\\n",
    "    train_test_split(features,target,test_size=0.25, random_state=12345)"
   ]
  },
  {
   "cell_type": "code",
   "execution_count": 40,
   "metadata": {},
   "outputs": [
    {
     "name": "stdout",
     "output_type": "stream",
     "text": [
      "Тренировочная выборка- 75%\n",
      "Тестовая выборка - 25%\n"
     ]
    }
   ],
   "source": [
    "print('Тренировочная выборка- {:.0%}'.format(features_train.shape[0]/features.shape[0]))\n",
    "print('Тестовая выборка - {:.0%}'.format(features_test.shape[0]/features.shape[0]))"
   ]
  },
  {
   "cell_type": "markdown",
   "metadata": {},
   "source": [
    "Выделяю категориальные и числовые признаки."
   ]
  },
  {
   "cell_type": "code",
   "execution_count": 41,
   "metadata": {},
   "outputs": [],
   "source": [
    "category_features=['VehicleType', 'Gearbox','Model','FuelType', 'Brand', 'Repaired']\n",
    "num_features=['RegistrationYear','Power','Kilometer','RegistrationMonth']"
   ]
  },
  {
   "cell_type": "code",
   "execution_count": 42,
   "metadata": {},
   "outputs": [
    {
     "data": {
      "text/plain": [
       "OrdinalEncoder(handle_unknown='ignore')"
      ]
     },
     "execution_count": 42,
     "metadata": {},
     "output_type": "execute_result"
    }
   ],
   "source": [
    "encoder = OrdinalEncoder(handle_unknown='ignore')\n",
    "encoder.fit(features_train[category_features])"
   ]
  },
  {
   "cell_type": "code",
   "execution_count": 43,
   "metadata": {},
   "outputs": [
    {
     "data": {
      "text/html": [
       "<div>\n",
       "<style scoped>\n",
       "    .dataframe tbody tr th:only-of-type {\n",
       "        vertical-align: middle;\n",
       "    }\n",
       "\n",
       "    .dataframe tbody tr th {\n",
       "        vertical-align: top;\n",
       "    }\n",
       "\n",
       "    .dataframe thead th {\n",
       "        text-align: right;\n",
       "    }\n",
       "</style>\n",
       "<table border=\"1\" class=\"dataframe\">\n",
       "  <thead>\n",
       "    <tr style=\"text-align: right;\">\n",
       "      <th></th>\n",
       "      <th>index</th>\n",
       "      <th>VehicleType</th>\n",
       "      <th>RegistrationYear</th>\n",
       "      <th>Gearbox</th>\n",
       "      <th>Power</th>\n",
       "      <th>Model</th>\n",
       "      <th>Kilometer</th>\n",
       "      <th>RegistrationMonth</th>\n",
       "      <th>FuelType</th>\n",
       "      <th>Brand</th>\n",
       "      <th>Repaired</th>\n",
       "    </tr>\n",
       "  </thead>\n",
       "  <tbody>\n",
       "    <tr>\n",
       "      <th>89056</th>\n",
       "      <td>107594</td>\n",
       "      <td>5.0</td>\n",
       "      <td>1999</td>\n",
       "      <td>1.0</td>\n",
       "      <td>60</td>\n",
       "      <td>128.0</td>\n",
       "      <td>60000</td>\n",
       "      <td>6</td>\n",
       "      <td>7.0</td>\n",
       "      <td>10.0</td>\n",
       "      <td>0.0</td>\n",
       "    </tr>\n",
       "    <tr>\n",
       "      <th>126064</th>\n",
       "      <td>152221</td>\n",
       "      <td>8.0</td>\n",
       "      <td>2011</td>\n",
       "      <td>1.0</td>\n",
       "      <td>140</td>\n",
       "      <td>122.0</td>\n",
       "      <td>100000</td>\n",
       "      <td>4</td>\n",
       "      <td>6.0</td>\n",
       "      <td>24.0</td>\n",
       "      <td>1.0</td>\n",
       "    </tr>\n",
       "    <tr>\n",
       "      <th>74935</th>\n",
       "      <td>90608</td>\n",
       "      <td>7.0</td>\n",
       "      <td>2017</td>\n",
       "      <td>0.0</td>\n",
       "      <td>150</td>\n",
       "      <td>71.0</td>\n",
       "      <td>125000</td>\n",
       "      <td>3</td>\n",
       "      <td>2.0</td>\n",
       "      <td>14.0</td>\n",
       "      <td>0.0</td>\n",
       "    </tr>\n",
       "    <tr>\n",
       "      <th>155406</th>\n",
       "      <td>187668</td>\n",
       "      <td>7.0</td>\n",
       "      <td>2016</td>\n",
       "      <td>0.0</td>\n",
       "      <td>75</td>\n",
       "      <td>42.0</td>\n",
       "      <td>150000</td>\n",
       "      <td>8</td>\n",
       "      <td>7.0</td>\n",
       "      <td>24.0</td>\n",
       "      <td>1.0</td>\n",
       "    </tr>\n",
       "    <tr>\n",
       "      <th>197046</th>\n",
       "      <td>238023</td>\n",
       "      <td>8.0</td>\n",
       "      <td>2006</td>\n",
       "      <td>1.0</td>\n",
       "      <td>163</td>\n",
       "      <td>11.0</td>\n",
       "      <td>150000</td>\n",
       "      <td>4</td>\n",
       "      <td>2.0</td>\n",
       "      <td>2.0</td>\n",
       "      <td>0.0</td>\n",
       "    </tr>\n",
       "  </tbody>\n",
       "</table>\n",
       "</div>"
      ],
      "text/plain": [
       "         index  VehicleType  RegistrationYear  Gearbox  Power  Model  \\\n",
       "89056   107594          5.0              1999      1.0     60  128.0   \n",
       "126064  152221          8.0              2011      1.0    140  122.0   \n",
       "74935    90608          7.0              2017      0.0    150   71.0   \n",
       "155406  187668          7.0              2016      0.0     75   42.0   \n",
       "197046  238023          8.0              2006      1.0    163   11.0   \n",
       "\n",
       "        Kilometer  RegistrationMonth  FuelType  Brand  Repaired  \n",
       "89056       60000                  6       7.0   10.0       0.0  \n",
       "126064     100000                  4       6.0   24.0       1.0  \n",
       "74935      125000                  3       2.0   14.0       0.0  \n",
       "155406     150000                  8       7.0   24.0       1.0  \n",
       "197046     150000                  4       2.0    2.0       0.0  "
      ]
     },
     "execution_count": 43,
     "metadata": {},
     "output_type": "execute_result"
    }
   ],
   "source": [
    "features_train_encoded=features_train.copy()\n",
    "features_train_encoded[category_features]= encoder.transform(features_train[category_features])\n",
    "                                                  \n",
    "features_train_encoded.head()"
   ]
  },
  {
   "cell_type": "code",
   "execution_count": 44,
   "metadata": {},
   "outputs": [
    {
     "data": {
      "text/html": [
       "<div>\n",
       "<style scoped>\n",
       "    .dataframe tbody tr th:only-of-type {\n",
       "        vertical-align: middle;\n",
       "    }\n",
       "\n",
       "    .dataframe tbody tr th {\n",
       "        vertical-align: top;\n",
       "    }\n",
       "\n",
       "    .dataframe thead th {\n",
       "        text-align: right;\n",
       "    }\n",
       "</style>\n",
       "<table border=\"1\" class=\"dataframe\">\n",
       "  <thead>\n",
       "    <tr style=\"text-align: right;\">\n",
       "      <th></th>\n",
       "      <th>index</th>\n",
       "      <th>VehicleType</th>\n",
       "      <th>RegistrationYear</th>\n",
       "      <th>Gearbox</th>\n",
       "      <th>Power</th>\n",
       "      <th>Model</th>\n",
       "      <th>Kilometer</th>\n",
       "      <th>RegistrationMonth</th>\n",
       "      <th>FuelType</th>\n",
       "      <th>Brand</th>\n",
       "      <th>Repaired</th>\n",
       "    </tr>\n",
       "  </thead>\n",
       "  <tbody>\n",
       "    <tr>\n",
       "      <th>177793</th>\n",
       "      <td>214735</td>\n",
       "      <td>0.0</td>\n",
       "      <td>1998</td>\n",
       "      <td>1.0</td>\n",
       "      <td>100</td>\n",
       "      <td>166.0</td>\n",
       "      <td>150000</td>\n",
       "      <td>3</td>\n",
       "      <td>6.0</td>\n",
       "      <td>25.0</td>\n",
       "      <td>0.0</td>\n",
       "    </tr>\n",
       "    <tr>\n",
       "      <th>155802</th>\n",
       "      <td>188150</td>\n",
       "      <td>8.0</td>\n",
       "      <td>2003</td>\n",
       "      <td>0.0</td>\n",
       "      <td>193</td>\n",
       "      <td>15.0</td>\n",
       "      <td>150000</td>\n",
       "      <td>5</td>\n",
       "      <td>2.0</td>\n",
       "      <td>2.0</td>\n",
       "      <td>0.0</td>\n",
       "    </tr>\n",
       "    <tr>\n",
       "      <th>195454</th>\n",
       "      <td>236107</td>\n",
       "      <td>4.0</td>\n",
       "      <td>1996</td>\n",
       "      <td>1.0</td>\n",
       "      <td>125</td>\n",
       "      <td>28.0</td>\n",
       "      <td>150000</td>\n",
       "      <td>11</td>\n",
       "      <td>6.0</td>\n",
       "      <td>1.0</td>\n",
       "      <td>0.0</td>\n",
       "    </tr>\n",
       "    <tr>\n",
       "      <th>74277</th>\n",
       "      <td>89833</td>\n",
       "      <td>4.0</td>\n",
       "      <td>1994</td>\n",
       "      <td>1.0</td>\n",
       "      <td>150</td>\n",
       "      <td>11.0</td>\n",
       "      <td>150000</td>\n",
       "      <td>6</td>\n",
       "      <td>6.0</td>\n",
       "      <td>2.0</td>\n",
       "      <td>1.0</td>\n",
       "    </tr>\n",
       "    <tr>\n",
       "      <th>34700</th>\n",
       "      <td>42067</td>\n",
       "      <td>7.0</td>\n",
       "      <td>2018</td>\n",
       "      <td>1.0</td>\n",
       "      <td>140</td>\n",
       "      <td>221.0</td>\n",
       "      <td>150000</td>\n",
       "      <td>12</td>\n",
       "      <td>6.0</td>\n",
       "      <td>37.0</td>\n",
       "      <td>0.0</td>\n",
       "    </tr>\n",
       "  </tbody>\n",
       "</table>\n",
       "</div>"
      ],
      "text/plain": [
       "         index  VehicleType  RegistrationYear  Gearbox  Power  Model  \\\n",
       "177793  214735          0.0              1998      1.0    100  166.0   \n",
       "155802  188150          8.0              2003      0.0    193   15.0   \n",
       "195454  236107          4.0              1996      1.0    125   28.0   \n",
       "74277    89833          4.0              1994      1.0    150   11.0   \n",
       "34700    42067          7.0              2018      1.0    140  221.0   \n",
       "\n",
       "        Kilometer  RegistrationMonth  FuelType  Brand  Repaired  \n",
       "177793     150000                  3       6.0   25.0       0.0  \n",
       "155802     150000                  5       2.0    2.0       0.0  \n",
       "195454     150000                 11       6.0    1.0       0.0  \n",
       "74277      150000                  6       6.0    2.0       1.0  \n",
       "34700      150000                 12       6.0   37.0       0.0  "
      ]
     },
     "execution_count": 44,
     "metadata": {},
     "output_type": "execute_result"
    }
   ],
   "source": [
    "features_test_encoded=features_test.copy()\n",
    "features_test_encoded[category_features]= encoder.transform(features_test[category_features])\n",
    "                                                     \n",
    "\n",
    "features_test_encoded.head()"
   ]
  },
  {
   "cell_type": "markdown",
   "metadata": {},
   "source": [
    "Проведем масштабирование числовых признаков при помощи StandartScaler. Обучать scaler будем только на выборке train, так как иначе это может привести к утечке данных (data leak)."
   ]
  },
  {
   "cell_type": "code",
   "execution_count": 45,
   "metadata": {},
   "outputs": [],
   "source": [
    "scaler = StandardScaler()\n",
    "\n",
    "scaler.fit(features_train[num_features])\n",
    "scaled_features_train_encoded=features_train_encoded.copy()\n",
    "scaled_features_test_encoded=features_test_encoded.copy()\n",
    "\n",
    "scaled_features_train_encoded[num_features] = scaler.transform(features_train_encoded[num_features])\n",
    "scaled_features_test_encoded[num_features] = scaler.transform(features_test_encoded[num_features])\n"
   ]
  },
  {
   "cell_type": "code",
   "execution_count": 46,
   "metadata": {},
   "outputs": [
    {
     "data": {
      "text/html": [
       "<div>\n",
       "<style scoped>\n",
       "    .dataframe tbody tr th:only-of-type {\n",
       "        vertical-align: middle;\n",
       "    }\n",
       "\n",
       "    .dataframe tbody tr th {\n",
       "        vertical-align: top;\n",
       "    }\n",
       "\n",
       "    .dataframe thead th {\n",
       "        text-align: right;\n",
       "    }\n",
       "</style>\n",
       "<table border=\"1\" class=\"dataframe\">\n",
       "  <thead>\n",
       "    <tr style=\"text-align: right;\">\n",
       "      <th></th>\n",
       "      <th>index</th>\n",
       "      <th>VehicleType</th>\n",
       "      <th>RegistrationYear</th>\n",
       "      <th>Gearbox</th>\n",
       "      <th>Power</th>\n",
       "      <th>Model</th>\n",
       "      <th>Kilometer</th>\n",
       "      <th>RegistrationMonth</th>\n",
       "      <th>FuelType</th>\n",
       "      <th>Brand</th>\n",
       "      <th>Repaired</th>\n",
       "    </tr>\n",
       "  </thead>\n",
       "  <tbody>\n",
       "    <tr>\n",
       "      <th>89056</th>\n",
       "      <td>107594</td>\n",
       "      <td>5.0</td>\n",
       "      <td>-0.655459</td>\n",
       "      <td>1.0</td>\n",
       "      <td>-0.957975</td>\n",
       "      <td>128.0</td>\n",
       "      <td>-1.877571</td>\n",
       "      <td>-0.112062</td>\n",
       "      <td>7.0</td>\n",
       "      <td>10.0</td>\n",
       "      <td>0.0</td>\n",
       "    </tr>\n",
       "    <tr>\n",
       "      <th>126064</th>\n",
       "      <td>152221</td>\n",
       "      <td>8.0</td>\n",
       "      <td>1.139355</td>\n",
       "      <td>1.0</td>\n",
       "      <td>0.295204</td>\n",
       "      <td>122.0</td>\n",
       "      <td>-0.780882</td>\n",
       "      <td>-0.727385</td>\n",
       "      <td>6.0</td>\n",
       "      <td>24.0</td>\n",
       "      <td>1.0</td>\n",
       "    </tr>\n",
       "    <tr>\n",
       "      <th>74935</th>\n",
       "      <td>90608</td>\n",
       "      <td>7.0</td>\n",
       "      <td>2.036762</td>\n",
       "      <td>0.0</td>\n",
       "      <td>0.451851</td>\n",
       "      <td>71.0</td>\n",
       "      <td>-0.095452</td>\n",
       "      <td>-1.035046</td>\n",
       "      <td>2.0</td>\n",
       "      <td>14.0</td>\n",
       "      <td>0.0</td>\n",
       "    </tr>\n",
       "    <tr>\n",
       "      <th>155406</th>\n",
       "      <td>187668</td>\n",
       "      <td>7.0</td>\n",
       "      <td>1.887194</td>\n",
       "      <td>0.0</td>\n",
       "      <td>-0.723004</td>\n",
       "      <td>42.0</td>\n",
       "      <td>0.589979</td>\n",
       "      <td>0.503260</td>\n",
       "      <td>7.0</td>\n",
       "      <td>24.0</td>\n",
       "      <td>1.0</td>\n",
       "    </tr>\n",
       "    <tr>\n",
       "      <th>197046</th>\n",
       "      <td>238023</td>\n",
       "      <td>8.0</td>\n",
       "      <td>0.391516</td>\n",
       "      <td>1.0</td>\n",
       "      <td>0.655493</td>\n",
       "      <td>11.0</td>\n",
       "      <td>0.589979</td>\n",
       "      <td>-0.727385</td>\n",
       "      <td>2.0</td>\n",
       "      <td>2.0</td>\n",
       "      <td>0.0</td>\n",
       "    </tr>\n",
       "    <tr>\n",
       "      <th>...</th>\n",
       "      <td>...</td>\n",
       "      <td>...</td>\n",
       "      <td>...</td>\n",
       "      <td>...</td>\n",
       "      <td>...</td>\n",
       "      <td>...</td>\n",
       "      <td>...</td>\n",
       "      <td>...</td>\n",
       "      <td>...</td>\n",
       "      <td>...</td>\n",
       "      <td>...</td>\n",
       "    </tr>\n",
       "    <tr>\n",
       "      <th>158838</th>\n",
       "      <td>191827</td>\n",
       "      <td>4.0</td>\n",
       "      <td>0.391516</td>\n",
       "      <td>1.0</td>\n",
       "      <td>0.295204</td>\n",
       "      <td>233.0</td>\n",
       "      <td>-1.877571</td>\n",
       "      <td>-1.035046</td>\n",
       "      <td>6.0</td>\n",
       "      <td>24.0</td>\n",
       "      <td>0.0</td>\n",
       "    </tr>\n",
       "    <tr>\n",
       "      <th>47873</th>\n",
       "      <td>57953</td>\n",
       "      <td>4.0</td>\n",
       "      <td>0.241948</td>\n",
       "      <td>1.0</td>\n",
       "      <td>-0.190403</td>\n",
       "      <td>10.0</td>\n",
       "      <td>0.589979</td>\n",
       "      <td>-1.035046</td>\n",
       "      <td>2.0</td>\n",
       "      <td>19.0</td>\n",
       "      <td>0.0</td>\n",
       "    </tr>\n",
       "    <tr>\n",
       "      <th>86398</th>\n",
       "      <td>104374</td>\n",
       "      <td>7.0</td>\n",
       "      <td>2.186330</td>\n",
       "      <td>1.0</td>\n",
       "      <td>-0.723004</td>\n",
       "      <td>28.0</td>\n",
       "      <td>0.589979</td>\n",
       "      <td>1.118582</td>\n",
       "      <td>6.0</td>\n",
       "      <td>1.0</td>\n",
       "      <td>0.0</td>\n",
       "    </tr>\n",
       "    <tr>\n",
       "      <th>77285</th>\n",
       "      <td>93428</td>\n",
       "      <td>8.0</td>\n",
       "      <td>0.391516</td>\n",
       "      <td>1.0</td>\n",
       "      <td>1.517053</td>\n",
       "      <td>11.0</td>\n",
       "      <td>0.589979</td>\n",
       "      <td>-0.112062</td>\n",
       "      <td>6.0</td>\n",
       "      <td>2.0</td>\n",
       "      <td>0.0</td>\n",
       "    </tr>\n",
       "    <tr>\n",
       "      <th>217570</th>\n",
       "      <td>262688</td>\n",
       "      <td>5.0</td>\n",
       "      <td>0.092380</td>\n",
       "      <td>0.0</td>\n",
       "      <td>-0.816993</td>\n",
       "      <td>246.0</td>\n",
       "      <td>0.589979</td>\n",
       "      <td>-0.727385</td>\n",
       "      <td>7.0</td>\n",
       "      <td>17.0</td>\n",
       "      <td>0.0</td>\n",
       "    </tr>\n",
       "  </tbody>\n",
       "</table>\n",
       "<p>220218 rows × 11 columns</p>\n",
       "</div>"
      ],
      "text/plain": [
       "         index  VehicleType  RegistrationYear  Gearbox     Power  Model  \\\n",
       "89056   107594          5.0         -0.655459      1.0 -0.957975  128.0   \n",
       "126064  152221          8.0          1.139355      1.0  0.295204  122.0   \n",
       "74935    90608          7.0          2.036762      0.0  0.451851   71.0   \n",
       "155406  187668          7.0          1.887194      0.0 -0.723004   42.0   \n",
       "197046  238023          8.0          0.391516      1.0  0.655493   11.0   \n",
       "...        ...          ...               ...      ...       ...    ...   \n",
       "158838  191827          4.0          0.391516      1.0  0.295204  233.0   \n",
       "47873    57953          4.0          0.241948      1.0 -0.190403   10.0   \n",
       "86398   104374          7.0          2.186330      1.0 -0.723004   28.0   \n",
       "77285    93428          8.0          0.391516      1.0  1.517053   11.0   \n",
       "217570  262688          5.0          0.092380      0.0 -0.816993  246.0   \n",
       "\n",
       "        Kilometer  RegistrationMonth  FuelType  Brand  Repaired  \n",
       "89056   -1.877571          -0.112062       7.0   10.0       0.0  \n",
       "126064  -0.780882          -0.727385       6.0   24.0       1.0  \n",
       "74935   -0.095452          -1.035046       2.0   14.0       0.0  \n",
       "155406   0.589979           0.503260       7.0   24.0       1.0  \n",
       "197046   0.589979          -0.727385       2.0    2.0       0.0  \n",
       "...           ...                ...       ...    ...       ...  \n",
       "158838  -1.877571          -1.035046       6.0   24.0       0.0  \n",
       "47873    0.589979          -1.035046       2.0   19.0       0.0  \n",
       "86398    0.589979           1.118582       6.0    1.0       0.0  \n",
       "77285    0.589979          -0.112062       6.0    2.0       0.0  \n",
       "217570   0.589979          -0.727385       7.0   17.0       0.0  \n",
       "\n",
       "[220218 rows x 11 columns]"
      ]
     },
     "execution_count": 46,
     "metadata": {},
     "output_type": "execute_result"
    }
   ],
   "source": [
    "scaled_features_train_encoded"
   ]
  },
  {
   "cell_type": "code",
   "execution_count": 47,
   "metadata": {},
   "outputs": [
    {
     "data": {
      "text/html": [
       "<div>\n",
       "<style scoped>\n",
       "    .dataframe tbody tr th:only-of-type {\n",
       "        vertical-align: middle;\n",
       "    }\n",
       "\n",
       "    .dataframe tbody tr th {\n",
       "        vertical-align: top;\n",
       "    }\n",
       "\n",
       "    .dataframe thead th {\n",
       "        text-align: right;\n",
       "    }\n",
       "</style>\n",
       "<table border=\"1\" class=\"dataframe\">\n",
       "  <thead>\n",
       "    <tr style=\"text-align: right;\">\n",
       "      <th></th>\n",
       "      <th>index</th>\n",
       "      <th>VehicleType</th>\n",
       "      <th>RegistrationYear</th>\n",
       "      <th>Gearbox</th>\n",
       "      <th>Power</th>\n",
       "      <th>Model</th>\n",
       "      <th>Kilometer</th>\n",
       "      <th>RegistrationMonth</th>\n",
       "      <th>FuelType</th>\n",
       "      <th>Brand</th>\n",
       "      <th>Repaired</th>\n",
       "    </tr>\n",
       "  </thead>\n",
       "  <tbody>\n",
       "    <tr>\n",
       "      <th>177793</th>\n",
       "      <td>214735</td>\n",
       "      <td>0.0</td>\n",
       "      <td>-0.805027</td>\n",
       "      <td>1.0</td>\n",
       "      <td>-0.331386</td>\n",
       "      <td>166.0</td>\n",
       "      <td>0.589979</td>\n",
       "      <td>-1.035046</td>\n",
       "      <td>6.0</td>\n",
       "      <td>25.0</td>\n",
       "      <td>0.0</td>\n",
       "    </tr>\n",
       "    <tr>\n",
       "      <th>155802</th>\n",
       "      <td>188150</td>\n",
       "      <td>8.0</td>\n",
       "      <td>-0.057188</td>\n",
       "      <td>0.0</td>\n",
       "      <td>1.125435</td>\n",
       "      <td>15.0</td>\n",
       "      <td>0.589979</td>\n",
       "      <td>-0.419723</td>\n",
       "      <td>2.0</td>\n",
       "      <td>2.0</td>\n",
       "      <td>0.0</td>\n",
       "    </tr>\n",
       "    <tr>\n",
       "      <th>195454</th>\n",
       "      <td>236107</td>\n",
       "      <td>4.0</td>\n",
       "      <td>-1.104163</td>\n",
       "      <td>1.0</td>\n",
       "      <td>0.060233</td>\n",
       "      <td>28.0</td>\n",
       "      <td>0.589979</td>\n",
       "      <td>1.426244</td>\n",
       "      <td>6.0</td>\n",
       "      <td>1.0</td>\n",
       "      <td>0.0</td>\n",
       "    </tr>\n",
       "    <tr>\n",
       "      <th>74277</th>\n",
       "      <td>89833</td>\n",
       "      <td>4.0</td>\n",
       "      <td>-1.403298</td>\n",
       "      <td>1.0</td>\n",
       "      <td>0.451851</td>\n",
       "      <td>11.0</td>\n",
       "      <td>0.589979</td>\n",
       "      <td>-0.112062</td>\n",
       "      <td>6.0</td>\n",
       "      <td>2.0</td>\n",
       "      <td>1.0</td>\n",
       "    </tr>\n",
       "    <tr>\n",
       "      <th>34700</th>\n",
       "      <td>42067</td>\n",
       "      <td>7.0</td>\n",
       "      <td>2.186330</td>\n",
       "      <td>1.0</td>\n",
       "      <td>0.295204</td>\n",
       "      <td>221.0</td>\n",
       "      <td>0.589979</td>\n",
       "      <td>1.733905</td>\n",
       "      <td>6.0</td>\n",
       "      <td>37.0</td>\n",
       "      <td>0.0</td>\n",
       "    </tr>\n",
       "    <tr>\n",
       "      <th>...</th>\n",
       "      <td>...</td>\n",
       "      <td>...</td>\n",
       "      <td>...</td>\n",
       "      <td>...</td>\n",
       "      <td>...</td>\n",
       "      <td>...</td>\n",
       "      <td>...</td>\n",
       "      <td>...</td>\n",
       "      <td>...</td>\n",
       "      <td>...</td>\n",
       "      <td>...</td>\n",
       "    </tr>\n",
       "    <tr>\n",
       "      <th>283448</th>\n",
       "      <td>342085</td>\n",
       "      <td>5.0</td>\n",
       "      <td>0.690652</td>\n",
       "      <td>1.0</td>\n",
       "      <td>-0.707340</td>\n",
       "      <td>226.0</td>\n",
       "      <td>0.589979</td>\n",
       "      <td>0.810921</td>\n",
       "      <td>6.0</td>\n",
       "      <td>27.0</td>\n",
       "      <td>1.0</td>\n",
       "    </tr>\n",
       "    <tr>\n",
       "      <th>195787</th>\n",
       "      <td>236498</td>\n",
       "      <td>0.0</td>\n",
       "      <td>0.092380</td>\n",
       "      <td>1.0</td>\n",
       "      <td>-0.488033</td>\n",
       "      <td>50.0</td>\n",
       "      <td>-1.055055</td>\n",
       "      <td>-1.035046</td>\n",
       "      <td>2.0</td>\n",
       "      <td>5.0</td>\n",
       "      <td>0.0</td>\n",
       "    </tr>\n",
       "    <tr>\n",
       "      <th>201823</th>\n",
       "      <td>243750</td>\n",
       "      <td>5.0</td>\n",
       "      <td>-0.505891</td>\n",
       "      <td>1.0</td>\n",
       "      <td>-0.973640</td>\n",
       "      <td>176.0</td>\n",
       "      <td>0.589979</td>\n",
       "      <td>-1.650368</td>\n",
       "      <td>6.0</td>\n",
       "      <td>9.0</td>\n",
       "      <td>0.0</td>\n",
       "    </tr>\n",
       "    <tr>\n",
       "      <th>204219</th>\n",
       "      <td>246624</td>\n",
       "      <td>5.0</td>\n",
       "      <td>0.840219</td>\n",
       "      <td>1.0</td>\n",
       "      <td>-0.456704</td>\n",
       "      <td>215.0</td>\n",
       "      <td>-1.329227</td>\n",
       "      <td>1.118582</td>\n",
       "      <td>6.0</td>\n",
       "      <td>34.0</td>\n",
       "      <td>1.0</td>\n",
       "    </tr>\n",
       "    <tr>\n",
       "      <th>79507</th>\n",
       "      <td>96074</td>\n",
       "      <td>4.0</td>\n",
       "      <td>0.241948</td>\n",
       "      <td>1.0</td>\n",
       "      <td>0.451851</td>\n",
       "      <td>219.0</td>\n",
       "      <td>-0.780882</td>\n",
       "      <td>0.810921</td>\n",
       "      <td>6.0</td>\n",
       "      <td>30.0</td>\n",
       "      <td>0.0</td>\n",
       "    </tr>\n",
       "  </tbody>\n",
       "</table>\n",
       "<p>73406 rows × 11 columns</p>\n",
       "</div>"
      ],
      "text/plain": [
       "         index  VehicleType  RegistrationYear  Gearbox     Power  Model  \\\n",
       "177793  214735          0.0         -0.805027      1.0 -0.331386  166.0   \n",
       "155802  188150          8.0         -0.057188      0.0  1.125435   15.0   \n",
       "195454  236107          4.0         -1.104163      1.0  0.060233   28.0   \n",
       "74277    89833          4.0         -1.403298      1.0  0.451851   11.0   \n",
       "34700    42067          7.0          2.186330      1.0  0.295204  221.0   \n",
       "...        ...          ...               ...      ...       ...    ...   \n",
       "283448  342085          5.0          0.690652      1.0 -0.707340  226.0   \n",
       "195787  236498          0.0          0.092380      1.0 -0.488033   50.0   \n",
       "201823  243750          5.0         -0.505891      1.0 -0.973640  176.0   \n",
       "204219  246624          5.0          0.840219      1.0 -0.456704  215.0   \n",
       "79507    96074          4.0          0.241948      1.0  0.451851  219.0   \n",
       "\n",
       "        Kilometer  RegistrationMonth  FuelType  Brand  Repaired  \n",
       "177793   0.589979          -1.035046       6.0   25.0       0.0  \n",
       "155802   0.589979          -0.419723       2.0    2.0       0.0  \n",
       "195454   0.589979           1.426244       6.0    1.0       0.0  \n",
       "74277    0.589979          -0.112062       6.0    2.0       1.0  \n",
       "34700    0.589979           1.733905       6.0   37.0       0.0  \n",
       "...           ...                ...       ...    ...       ...  \n",
       "283448   0.589979           0.810921       6.0   27.0       1.0  \n",
       "195787  -1.055055          -1.035046       2.0    5.0       0.0  \n",
       "201823   0.589979          -1.650368       6.0    9.0       0.0  \n",
       "204219  -1.329227           1.118582       6.0   34.0       1.0  \n",
       "79507   -0.780882           0.810921       6.0   30.0       0.0  \n",
       "\n",
       "[73406 rows x 11 columns]"
      ]
     },
     "execution_count": 47,
     "metadata": {},
     "output_type": "execute_result"
    }
   ],
   "source": [
    "scaled_features_test_encoded"
   ]
  },
  {
   "cell_type": "markdown",
   "metadata": {},
   "source": [
    "По условиям проекта, для оценки качества моделей применять метрику RMSE. Значение метрики RMSE должно быть меньше 2500. \n",
    "Среднеквадратичная ошибка (RMSE) оценивает качество работы модели регрессии. Эти показатели говорят нам, насколько точны наши прогнозы и какова величина отклонения от фактических значений.Создадим функцию для определения RMSE."
   ]
  },
  {
   "cell_type": "code",
   "execution_count": 48,
   "metadata": {},
   "outputs": [],
   "source": [
    "def rmse(test,predict):\n",
    "    return ((mean_squared_error(test,predict))**0.5).round(2)"
   ]
  },
  {
   "cell_type": "markdown",
   "metadata": {},
   "source": [
    "Тестировать буду 3 модели RandomForest, CatBoostRegressor и LightGBM"
   ]
  },
  {
   "cell_type": "markdown",
   "metadata": {},
   "source": [
    "### **RandomForest**"
   ]
  },
  {
   "cell_type": "markdown",
   "metadata": {},
   "source": [
    "Обучаем модель и вычисляем время обучения. Среди гиперпараметров будем искать наилучщую глубину и количество деревьев."
   ]
  },
  {
   "cell_type": "code",
   "execution_count": 49,
   "metadata": {},
   "outputs": [
    {
     "name": "stdout",
     "output_type": "stream",
     "text": [
      "Fitting 3 folds for each of 8 candidates, totalling 24 fits\n",
      "[CV 1/3; 1/8] START max_depth=3, n_estimators=100...............................\n",
      "[CV 1/3; 1/8] END .............max_depth=3, n_estimators=100; total time=  12.5s\n",
      "[CV 2/3; 1/8] START max_depth=3, n_estimators=100...............................\n",
      "[CV 2/3; 1/8] END .............max_depth=3, n_estimators=100; total time=  12.3s\n",
      "[CV 3/3; 1/8] START max_depth=3, n_estimators=100...............................\n",
      "[CV 3/3; 1/8] END .............max_depth=3, n_estimators=100; total time=  11.8s\n",
      "[CV 1/3; 2/8] START max_depth=3, n_estimators=150...............................\n",
      "[CV 1/3; 2/8] END .............max_depth=3, n_estimators=150; total time=  17.9s\n",
      "[CV 2/3; 2/8] START max_depth=3, n_estimators=150...............................\n",
      "[CV 2/3; 2/8] END .............max_depth=3, n_estimators=150; total time=  18.6s\n",
      "[CV 3/3; 2/8] START max_depth=3, n_estimators=150...............................\n",
      "[CV 3/3; 2/8] END .............max_depth=3, n_estimators=150; total time=  18.6s\n",
      "[CV 1/3; 3/8] START max_depth=6, n_estimators=100...............................\n",
      "[CV 1/3; 3/8] END .............max_depth=6, n_estimators=100; total time=  23.2s\n",
      "[CV 2/3; 3/8] START max_depth=6, n_estimators=100...............................\n",
      "[CV 2/3; 3/8] END .............max_depth=6, n_estimators=100; total time=  23.2s\n",
      "[CV 3/3; 3/8] START max_depth=6, n_estimators=100...............................\n",
      "[CV 3/3; 3/8] END .............max_depth=6, n_estimators=100; total time=  22.0s\n",
      "[CV 1/3; 4/8] START max_depth=6, n_estimators=150...............................\n",
      "[CV 1/3; 4/8] END .............max_depth=6, n_estimators=150; total time=  33.3s\n",
      "[CV 2/3; 4/8] START max_depth=6, n_estimators=150...............................\n",
      "[CV 2/3; 4/8] END .............max_depth=6, n_estimators=150; total time=  34.0s\n",
      "[CV 3/3; 4/8] START max_depth=6, n_estimators=150...............................\n",
      "[CV 3/3; 4/8] END .............max_depth=6, n_estimators=150; total time=  32.6s\n",
      "[CV 1/3; 5/8] START max_depth=9, n_estimators=100...............................\n",
      "[CV 1/3; 5/8] END .............max_depth=9, n_estimators=100; total time=  30.8s\n",
      "[CV 2/3; 5/8] START max_depth=9, n_estimators=100...............................\n",
      "[CV 2/3; 5/8] END .............max_depth=9, n_estimators=100; total time=  31.0s\n",
      "[CV 3/3; 5/8] START max_depth=9, n_estimators=100...............................\n",
      "[CV 3/3; 5/8] END .............max_depth=9, n_estimators=100; total time=  30.6s\n",
      "[CV 1/3; 6/8] START max_depth=9, n_estimators=150...............................\n",
      "[CV 1/3; 6/8] END .............max_depth=9, n_estimators=150; total time=  47.0s\n",
      "[CV 2/3; 6/8] START max_depth=9, n_estimators=150...............................\n",
      "[CV 2/3; 6/8] END .............max_depth=9, n_estimators=150; total time=  47.0s\n",
      "[CV 3/3; 6/8] START max_depth=9, n_estimators=150...............................\n",
      "[CV 3/3; 6/8] END .............max_depth=9, n_estimators=150; total time=  46.7s\n",
      "[CV 1/3; 7/8] START max_depth=12, n_estimators=100..............................\n",
      "[CV 1/3; 7/8] END ............max_depth=12, n_estimators=100; total time=  39.1s\n",
      "[CV 2/3; 7/8] START max_depth=12, n_estimators=100..............................\n",
      "[CV 2/3; 7/8] END ............max_depth=12, n_estimators=100; total time=  39.0s\n",
      "[CV 3/3; 7/8] START max_depth=12, n_estimators=100..............................\n",
      "[CV 3/3; 7/8] END ............max_depth=12, n_estimators=100; total time=  39.3s\n",
      "[CV 1/3; 8/8] START max_depth=12, n_estimators=150..............................\n",
      "[CV 1/3; 8/8] END ............max_depth=12, n_estimators=150; total time=  58.8s\n",
      "[CV 2/3; 8/8] START max_depth=12, n_estimators=150..............................\n",
      "[CV 2/3; 8/8] END ............max_depth=12, n_estimators=150; total time=  57.3s\n",
      "[CV 3/3; 8/8] START max_depth=12, n_estimators=150..............................\n",
      "[CV 3/3; 8/8] END ............max_depth=12, n_estimators=150; total time=  56.0s\n"
     ]
    }
   ],
   "source": [
    "RFR = RandomForestRegressor(bootstrap=True,random_state=12345)\n",
    "\n",
    "parameters = {'max_depth': [x for x in range (3,13,3)],\n",
    "              'n_estimators': [x for x in range(100,151,50)],\n",
    "             }\n",
    "\n",
    "grid_RFR = GridSearchCV(RFR,parameters,cv=3, scoring='neg_root_mean_squared_error', n_jobs=-1,verbose=25)\n",
    "grid_RFR = grid_RFR.fit(scaled_features_train_encoded,target_train)"
   ]
  },
  {
   "cell_type": "markdown",
   "metadata": {},
   "source": [
    "Посмотрим, как выглядит датафрейм с результатами."
   ]
  },
  {
   "cell_type": "code",
   "execution_count": 50,
   "metadata": {},
   "outputs": [
    {
     "data": {
      "text/html": [
       "<div>\n",
       "<style scoped>\n",
       "    .dataframe tbody tr th:only-of-type {\n",
       "        vertical-align: middle;\n",
       "    }\n",
       "\n",
       "    .dataframe tbody tr th {\n",
       "        vertical-align: top;\n",
       "    }\n",
       "\n",
       "    .dataframe thead th {\n",
       "        text-align: right;\n",
       "    }\n",
       "</style>\n",
       "<table border=\"1\" class=\"dataframe\">\n",
       "  <thead>\n",
       "    <tr style=\"text-align: right;\">\n",
       "      <th></th>\n",
       "      <th>mean_fit_time</th>\n",
       "      <th>std_fit_time</th>\n",
       "      <th>mean_score_time</th>\n",
       "      <th>std_score_time</th>\n",
       "      <th>param_max_depth</th>\n",
       "      <th>param_n_estimators</th>\n",
       "      <th>params</th>\n",
       "      <th>split0_test_score</th>\n",
       "      <th>split1_test_score</th>\n",
       "      <th>split2_test_score</th>\n",
       "      <th>mean_test_score</th>\n",
       "      <th>std_test_score</th>\n",
       "      <th>rank_test_score</th>\n",
       "    </tr>\n",
       "  </thead>\n",
       "  <tbody>\n",
       "    <tr>\n",
       "      <th>0</th>\n",
       "      <td>11.976077</td>\n",
       "      <td>0.312365</td>\n",
       "      <td>0.198018</td>\n",
       "      <td>0.001828</td>\n",
       "      <td>3</td>\n",
       "      <td>100</td>\n",
       "      <td>{'max_depth': 3, 'n_estimators': 100}</td>\n",
       "      <td>-2951.865698</td>\n",
       "      <td>-2954.324748</td>\n",
       "      <td>-2930.822181</td>\n",
       "      <td>-2945.670876</td>\n",
       "      <td>10.547497</td>\n",
       "      <td>7</td>\n",
       "    </tr>\n",
       "    <tr>\n",
       "      <th>1</th>\n",
       "      <td>18.062563</td>\n",
       "      <td>0.309093</td>\n",
       "      <td>0.309275</td>\n",
       "      <td>0.008773</td>\n",
       "      <td>3</td>\n",
       "      <td>150</td>\n",
       "      <td>{'max_depth': 3, 'n_estimators': 150}</td>\n",
       "      <td>-2954.077942</td>\n",
       "      <td>-2953.812331</td>\n",
       "      <td>-2930.593634</td>\n",
       "      <td>-2946.161303</td>\n",
       "      <td>11.008538</td>\n",
       "      <td>8</td>\n",
       "    </tr>\n",
       "    <tr>\n",
       "      <th>2</th>\n",
       "      <td>22.491654</td>\n",
       "      <td>0.563115</td>\n",
       "      <td>0.342703</td>\n",
       "      <td>0.012294</td>\n",
       "      <td>6</td>\n",
       "      <td>100</td>\n",
       "      <td>{'max_depth': 6, 'n_estimators': 100}</td>\n",
       "      <td>-2275.069685</td>\n",
       "      <td>-2259.679955</td>\n",
       "      <td>-2239.348904</td>\n",
       "      <td>-2258.032848</td>\n",
       "      <td>14.629383</td>\n",
       "      <td>5</td>\n",
       "    </tr>\n",
       "    <tr>\n",
       "      <th>3</th>\n",
       "      <td>32.799594</td>\n",
       "      <td>0.590139</td>\n",
       "      <td>0.511412</td>\n",
       "      <td>0.018324</td>\n",
       "      <td>6</td>\n",
       "      <td>150</td>\n",
       "      <td>{'max_depth': 6, 'n_estimators': 150}</td>\n",
       "      <td>-2276.646576</td>\n",
       "      <td>-2260.946124</td>\n",
       "      <td>-2238.654681</td>\n",
       "      <td>-2258.749127</td>\n",
       "      <td>15.587733</td>\n",
       "      <td>6</td>\n",
       "    </tr>\n",
       "    <tr>\n",
       "      <th>4</th>\n",
       "      <td>30.250857</td>\n",
       "      <td>0.144178</td>\n",
       "      <td>0.563435</td>\n",
       "      <td>0.013113</td>\n",
       "      <td>9</td>\n",
       "      <td>100</td>\n",
       "      <td>{'max_depth': 9, 'n_estimators': 100}</td>\n",
       "      <td>-1977.994254</td>\n",
       "      <td>-1952.939052</td>\n",
       "      <td>-1942.574574</td>\n",
       "      <td>-1957.835960</td>\n",
       "      <td>14.868831</td>\n",
       "      <td>3</td>\n",
       "    </tr>\n",
       "    <tr>\n",
       "      <th>5</th>\n",
       "      <td>46.024042</td>\n",
       "      <td>0.156067</td>\n",
       "      <td>0.861516</td>\n",
       "      <td>0.022733</td>\n",
       "      <td>9</td>\n",
       "      <td>150</td>\n",
       "      <td>{'max_depth': 9, 'n_estimators': 150}</td>\n",
       "      <td>-1978.331212</td>\n",
       "      <td>-1953.028659</td>\n",
       "      <td>-1942.228130</td>\n",
       "      <td>-1957.862667</td>\n",
       "      <td>15.130188</td>\n",
       "      <td>4</td>\n",
       "    </tr>\n",
       "    <tr>\n",
       "      <th>6</th>\n",
       "      <td>38.192263</td>\n",
       "      <td>0.112237</td>\n",
       "      <td>0.909967</td>\n",
       "      <td>0.003255</td>\n",
       "      <td>12</td>\n",
       "      <td>100</td>\n",
       "      <td>{'max_depth': 12, 'n_estimators': 100}</td>\n",
       "      <td>-1788.772797</td>\n",
       "      <td>-1769.453439</td>\n",
       "      <td>-1755.975736</td>\n",
       "      <td>-1771.400657</td>\n",
       "      <td>13.459954</td>\n",
       "      <td>2</td>\n",
       "    </tr>\n",
       "    <tr>\n",
       "      <th>7</th>\n",
       "      <td>55.971450</td>\n",
       "      <td>1.154873</td>\n",
       "      <td>1.395210</td>\n",
       "      <td>0.081797</td>\n",
       "      <td>12</td>\n",
       "      <td>150</td>\n",
       "      <td>{'max_depth': 12, 'n_estimators': 150}</td>\n",
       "      <td>-1788.317107</td>\n",
       "      <td>-1769.617133</td>\n",
       "      <td>-1755.037684</td>\n",
       "      <td>-1770.990641</td>\n",
       "      <td>13.620937</td>\n",
       "      <td>1</td>\n",
       "    </tr>\n",
       "  </tbody>\n",
       "</table>\n",
       "</div>"
      ],
      "text/plain": [
       "   mean_fit_time  std_fit_time  mean_score_time  std_score_time  \\\n",
       "0      11.976077      0.312365         0.198018        0.001828   \n",
       "1      18.062563      0.309093         0.309275        0.008773   \n",
       "2      22.491654      0.563115         0.342703        0.012294   \n",
       "3      32.799594      0.590139         0.511412        0.018324   \n",
       "4      30.250857      0.144178         0.563435        0.013113   \n",
       "5      46.024042      0.156067         0.861516        0.022733   \n",
       "6      38.192263      0.112237         0.909967        0.003255   \n",
       "7      55.971450      1.154873         1.395210        0.081797   \n",
       "\n",
       "  param_max_depth param_n_estimators                                  params  \\\n",
       "0               3                100   {'max_depth': 3, 'n_estimators': 100}   \n",
       "1               3                150   {'max_depth': 3, 'n_estimators': 150}   \n",
       "2               6                100   {'max_depth': 6, 'n_estimators': 100}   \n",
       "3               6                150   {'max_depth': 6, 'n_estimators': 150}   \n",
       "4               9                100   {'max_depth': 9, 'n_estimators': 100}   \n",
       "5               9                150   {'max_depth': 9, 'n_estimators': 150}   \n",
       "6              12                100  {'max_depth': 12, 'n_estimators': 100}   \n",
       "7              12                150  {'max_depth': 12, 'n_estimators': 150}   \n",
       "\n",
       "   split0_test_score  split1_test_score  split2_test_score  mean_test_score  \\\n",
       "0       -2951.865698       -2954.324748       -2930.822181     -2945.670876   \n",
       "1       -2954.077942       -2953.812331       -2930.593634     -2946.161303   \n",
       "2       -2275.069685       -2259.679955       -2239.348904     -2258.032848   \n",
       "3       -2276.646576       -2260.946124       -2238.654681     -2258.749127   \n",
       "4       -1977.994254       -1952.939052       -1942.574574     -1957.835960   \n",
       "5       -1978.331212       -1953.028659       -1942.228130     -1957.862667   \n",
       "6       -1788.772797       -1769.453439       -1755.975736     -1771.400657   \n",
       "7       -1788.317107       -1769.617133       -1755.037684     -1770.990641   \n",
       "\n",
       "   std_test_score  rank_test_score  \n",
       "0       10.547497                7  \n",
       "1       11.008538                8  \n",
       "2       14.629383                5  \n",
       "3       15.587733                6  \n",
       "4       14.868831                3  \n",
       "5       15.130188                4  \n",
       "6       13.459954                2  \n",
       "7       13.620937                1  "
      ]
     },
     "execution_count": 50,
     "metadata": {},
     "output_type": "execute_result"
    }
   ],
   "source": [
    "pd.DataFrame(grid_RFR.cv_results_)"
   ]
  },
  {
   "cell_type": "code",
   "execution_count": 51,
   "metadata": {},
   "outputs": [],
   "source": [
    "results_df=pd.DataFrame()"
   ]
  },
  {
   "cell_type": "code",
   "execution_count": 52,
   "metadata": {},
   "outputs": [],
   "source": [
    "def results(model):\n",
    "    global results_df\n",
    "    # лучшее значение RMSE на кросс-валидации\n",
    "    best_score=model.best_score_*-1\n",
    "    print(f'best_score RMSE: {round(best_score,2)}')\n",
    "    \n",
    "   \n",
    "   \n",
    "    # лучшие гиперпараметры\n",
    "    print(f'best_params: {model.best_params_}')\n",
    "    best_params_index=model.cv_results_['params'].index(model.best_params_)\n",
    "    best_fit_time = round(model.cv_results_['mean_fit_time'][best_params_index],2)\n",
    "    best_score_time = round(model.cv_results_['mean_score_time'][best_params_index],2)\n",
    "   \n",
    "    print('best fit time, sec.:',best_fit_time)\n",
    "    print('best score time, sec.:',best_score_time)\n",
    "    \n",
    "    estimator=model.estimator.__class__.__name__\n",
    "    model_result=pd.DataFrame({'Model':[estimator],'RMSE':[best_score],'Fit_Time':[best_fit_time],'Score_time':[best_score_time]})\n",
    "    results_df=pd.concat([results_df,model_result],ignore_index=True)\n",
    "    \n",
    "    return results_df\n",
    "    "
   ]
  },
  {
   "cell_type": "code",
   "execution_count": 53,
   "metadata": {},
   "outputs": [
    {
     "name": "stdout",
     "output_type": "stream",
     "text": [
      "best_score RMSE: 1770.99\n",
      "best_params: {'max_depth': 12, 'n_estimators': 150}\n",
      "best fit time, sec.: 55.97\n",
      "best score time, sec.: 1.4\n"
     ]
    },
    {
     "data": {
      "text/html": [
       "<div>\n",
       "<style scoped>\n",
       "    .dataframe tbody tr th:only-of-type {\n",
       "        vertical-align: middle;\n",
       "    }\n",
       "\n",
       "    .dataframe tbody tr th {\n",
       "        vertical-align: top;\n",
       "    }\n",
       "\n",
       "    .dataframe thead th {\n",
       "        text-align: right;\n",
       "    }\n",
       "</style>\n",
       "<table border=\"1\" class=\"dataframe\">\n",
       "  <thead>\n",
       "    <tr style=\"text-align: right;\">\n",
       "      <th></th>\n",
       "      <th>Model</th>\n",
       "      <th>RMSE</th>\n",
       "      <th>Fit_Time</th>\n",
       "      <th>Score_time</th>\n",
       "    </tr>\n",
       "  </thead>\n",
       "  <tbody>\n",
       "    <tr>\n",
       "      <th>0</th>\n",
       "      <td>RandomForestRegressor</td>\n",
       "      <td>1770.990641</td>\n",
       "      <td>55.97</td>\n",
       "      <td>1.4</td>\n",
       "    </tr>\n",
       "  </tbody>\n",
       "</table>\n",
       "</div>"
      ],
      "text/plain": [
       "                   Model         RMSE  Fit_Time  Score_time\n",
       "0  RandomForestRegressor  1770.990641     55.97         1.4"
      ]
     },
     "execution_count": 53,
     "metadata": {},
     "output_type": "execute_result"
    }
   ],
   "source": [
    "results(grid_RFR)"
   ]
  },
  {
   "cell_type": "markdown",
   "metadata": {},
   "source": [
    "### **CatBoostRegressor**"
   ]
  },
  {
   "cell_type": "markdown",
   "metadata": {},
   "source": [
    "В модели CatBoost реализован  внутренний метод кодировки данных. Т.е. модель CatBoost работает с категориальными признаками, и не требует их перевода в числа. Поэтому придется снова разбить датасет на выборки без кодирования и отмасштабировать их."
   ]
  },
  {
   "cell_type": "markdown",
   "metadata": {},
   "source": [
    "Берем некодированные выборки и масштабируем числовые признаки"
   ]
  },
  {
   "cell_type": "code",
   "execution_count": 54,
   "metadata": {},
   "outputs": [],
   "source": [
    "scaler.fit(features_train[num_features])\n",
    "features_train_CBR=features_train.copy()\n",
    "features_test_CBR=features_test.copy()\n",
    "features_train_CBR[num_features] = scaler.transform(features_train_CBR[num_features])\n",
    "features_test_CBR[num_features] = scaler.transform(features_test_CBR[num_features])"
   ]
  },
  {
   "cell_type": "markdown",
   "metadata": {},
   "source": [
    "Обучаем модель и вычисляем время обучения и предсказания."
   ]
  },
  {
   "cell_type": "code",
   "execution_count": 55,
   "metadata": {
    "scrolled": true
   },
   "outputs": [
    {
     "name": "stdout",
     "output_type": "stream",
     "text": [
      "Fitting 3 folds for each of 60 candidates, totalling 180 fits\n",
      "[CV 1/3; 1/60] START depth=3, iterations=20, learning_rate=0.001................\n",
      "[CV 1/3; 1/60] END depth=3, iterations=20, learning_rate=0.001; total time=   1.8s\n",
      "[CV 2/3; 1/60] START depth=3, iterations=20, learning_rate=0.001................\n",
      "[CV 2/3; 1/60] END depth=3, iterations=20, learning_rate=0.001; total time=   1.7s\n",
      "[CV 3/3; 1/60] START depth=3, iterations=20, learning_rate=0.001................\n",
      "[CV 3/3; 1/60] END depth=3, iterations=20, learning_rate=0.001; total time=   1.6s\n",
      "[CV 1/3; 2/60] START depth=3, iterations=20, learning_rate=0.005623413251903491.\n",
      "[CV 1/3; 2/60] END depth=3, iterations=20, learning_rate=0.005623413251903491; total time=   1.7s\n",
      "[CV 2/3; 2/60] START depth=3, iterations=20, learning_rate=0.005623413251903491.\n",
      "[CV 2/3; 2/60] END depth=3, iterations=20, learning_rate=0.005623413251903491; total time=   1.7s\n",
      "[CV 3/3; 2/60] START depth=3, iterations=20, learning_rate=0.005623413251903491.\n",
      "[CV 3/3; 2/60] END depth=3, iterations=20, learning_rate=0.005623413251903491; total time=   1.7s\n",
      "[CV 1/3; 3/60] START depth=3, iterations=20, learning_rate=0.03162277660168379..\n",
      "[CV 1/3; 3/60] END depth=3, iterations=20, learning_rate=0.03162277660168379; total time=   2.0s\n",
      "[CV 2/3; 3/60] START depth=3, iterations=20, learning_rate=0.03162277660168379..\n",
      "[CV 2/3; 3/60] END depth=3, iterations=20, learning_rate=0.03162277660168379; total time=   1.7s\n",
      "[CV 3/3; 3/60] START depth=3, iterations=20, learning_rate=0.03162277660168379..\n",
      "[CV 3/3; 3/60] END depth=3, iterations=20, learning_rate=0.03162277660168379; total time=   1.8s\n",
      "[CV 1/3; 4/60] START depth=3, iterations=20, learning_rate=0.1778279410038923...\n",
      "[CV 1/3; 4/60] END depth=3, iterations=20, learning_rate=0.1778279410038923; total time=   3.5s\n",
      "[CV 2/3; 4/60] START depth=3, iterations=20, learning_rate=0.1778279410038923...\n",
      "[CV 2/3; 4/60] END depth=3, iterations=20, learning_rate=0.1778279410038923; total time=   2.2s\n",
      "[CV 3/3; 4/60] START depth=3, iterations=20, learning_rate=0.1778279410038923...\n",
      "[CV 3/3; 4/60] END depth=3, iterations=20, learning_rate=0.1778279410038923; total time=   1.9s\n",
      "[CV 1/3; 5/60] START depth=3, iterations=20, learning_rate=1.0..................\n",
      "[CV 1/3; 5/60] END depth=3, iterations=20, learning_rate=1.0; total time=   2.0s\n",
      "[CV 2/3; 5/60] START depth=3, iterations=20, learning_rate=1.0..................\n",
      "[CV 2/3; 5/60] END depth=3, iterations=20, learning_rate=1.0; total time=   1.7s\n",
      "[CV 3/3; 5/60] START depth=3, iterations=20, learning_rate=1.0..................\n",
      "[CV 3/3; 5/60] END depth=3, iterations=20, learning_rate=1.0; total time=   1.9s\n",
      "[CV 1/3; 6/60] START depth=3, iterations=40, learning_rate=0.001................\n",
      "[CV 1/3; 6/60] END depth=3, iterations=40, learning_rate=0.001; total time=   2.5s\n",
      "[CV 2/3; 6/60] START depth=3, iterations=40, learning_rate=0.001................\n",
      "[CV 2/3; 6/60] END depth=3, iterations=40, learning_rate=0.001; total time=   2.3s\n",
      "[CV 3/3; 6/60] START depth=3, iterations=40, learning_rate=0.001................\n",
      "[CV 3/3; 6/60] END depth=3, iterations=40, learning_rate=0.001; total time=   2.3s\n",
      "[CV 1/3; 7/60] START depth=3, iterations=40, learning_rate=0.005623413251903491.\n",
      "[CV 1/3; 7/60] END depth=3, iterations=40, learning_rate=0.005623413251903491; total time=   2.8s\n",
      "[CV 2/3; 7/60] START depth=3, iterations=40, learning_rate=0.005623413251903491.\n",
      "[CV 2/3; 7/60] END depth=3, iterations=40, learning_rate=0.005623413251903491; total time=   2.5s\n",
      "[CV 3/3; 7/60] START depth=3, iterations=40, learning_rate=0.005623413251903491.\n",
      "[CV 3/3; 7/60] END depth=3, iterations=40, learning_rate=0.005623413251903491; total time=   2.5s\n",
      "[CV 1/3; 8/60] START depth=3, iterations=40, learning_rate=0.03162277660168379..\n",
      "[CV 1/3; 8/60] END depth=3, iterations=40, learning_rate=0.03162277660168379; total time=   3.6s\n",
      "[CV 2/3; 8/60] START depth=3, iterations=40, learning_rate=0.03162277660168379..\n",
      "[CV 2/3; 8/60] END depth=3, iterations=40, learning_rate=0.03162277660168379; total time=   2.5s\n",
      "[CV 3/3; 8/60] START depth=3, iterations=40, learning_rate=0.03162277660168379..\n",
      "[CV 3/3; 8/60] END depth=3, iterations=40, learning_rate=0.03162277660168379; total time=   3.2s\n",
      "[CV 1/3; 9/60] START depth=3, iterations=40, learning_rate=0.1778279410038923...\n",
      "[CV 1/3; 9/60] END depth=3, iterations=40, learning_rate=0.1778279410038923; total time=   2.2s\n",
      "[CV 2/3; 9/60] START depth=3, iterations=40, learning_rate=0.1778279410038923...\n",
      "[CV 2/3; 9/60] END depth=3, iterations=40, learning_rate=0.1778279410038923; total time=   2.3s\n",
      "[CV 3/3; 9/60] START depth=3, iterations=40, learning_rate=0.1778279410038923...\n",
      "[CV 3/3; 9/60] END depth=3, iterations=40, learning_rate=0.1778279410038923; total time=   2.5s\n",
      "[CV 1/3; 10/60] START depth=3, iterations=40, learning_rate=1.0.................\n",
      "[CV 1/3; 10/60] END depth=3, iterations=40, learning_rate=1.0; total time=   2.9s\n",
      "[CV 2/3; 10/60] START depth=3, iterations=40, learning_rate=1.0.................\n",
      "[CV 2/3; 10/60] END depth=3, iterations=40, learning_rate=1.0; total time=   2.4s\n",
      "[CV 3/3; 10/60] START depth=3, iterations=40, learning_rate=1.0.................\n",
      "[CV 3/3; 10/60] END depth=3, iterations=40, learning_rate=1.0; total time=   2.4s\n",
      "[CV 1/3; 11/60] START depth=3, iterations=60, learning_rate=0.001...............\n",
      "[CV 1/3; 11/60] END depth=3, iterations=60, learning_rate=0.001; total time=   3.1s\n",
      "[CV 2/3; 11/60] START depth=3, iterations=60, learning_rate=0.001...............\n",
      "[CV 2/3; 11/60] END depth=3, iterations=60, learning_rate=0.001; total time=   2.9s\n",
      "[CV 3/3; 11/60] START depth=3, iterations=60, learning_rate=0.001...............\n",
      "[CV 3/3; 11/60] END depth=3, iterations=60, learning_rate=0.001; total time=   2.8s\n",
      "[CV 1/3; 12/60] START depth=3, iterations=60, learning_rate=0.005623413251903491\n",
      "[CV 1/3; 12/60] END depth=3, iterations=60, learning_rate=0.005623413251903491; total time=   3.1s\n",
      "[CV 2/3; 12/60] START depth=3, iterations=60, learning_rate=0.005623413251903491\n",
      "[CV 2/3; 12/60] END depth=3, iterations=60, learning_rate=0.005623413251903491; total time=   2.8s\n",
      "[CV 3/3; 12/60] START depth=3, iterations=60, learning_rate=0.005623413251903491\n",
      "[CV 3/3; 12/60] END depth=3, iterations=60, learning_rate=0.005623413251903491; total time=   2.7s\n",
      "[CV 1/3; 13/60] START depth=3, iterations=60, learning_rate=0.03162277660168379.\n",
      "[CV 1/3; 13/60] END depth=3, iterations=60, learning_rate=0.03162277660168379; total time=   2.9s\n",
      "[CV 2/3; 13/60] START depth=3, iterations=60, learning_rate=0.03162277660168379.\n",
      "[CV 2/3; 13/60] END depth=3, iterations=60, learning_rate=0.03162277660168379; total time=   3.0s\n",
      "[CV 3/3; 13/60] START depth=3, iterations=60, learning_rate=0.03162277660168379.\n",
      "[CV 3/3; 13/60] END depth=3, iterations=60, learning_rate=0.03162277660168379; total time=   3.5s\n",
      "[CV 1/3; 14/60] START depth=3, iterations=60, learning_rate=0.1778279410038923..\n",
      "[CV 1/3; 14/60] END depth=3, iterations=60, learning_rate=0.1778279410038923; total time=   3.0s\n",
      "[CV 2/3; 14/60] START depth=3, iterations=60, learning_rate=0.1778279410038923..\n",
      "[CV 2/3; 14/60] END depth=3, iterations=60, learning_rate=0.1778279410038923; total time=   3.3s\n",
      "[CV 3/3; 14/60] START depth=3, iterations=60, learning_rate=0.1778279410038923..\n",
      "[CV 3/3; 14/60] END depth=3, iterations=60, learning_rate=0.1778279410038923; total time=   3.1s\n",
      "[CV 1/3; 15/60] START depth=3, iterations=60, learning_rate=1.0.................\n",
      "[CV 1/3; 15/60] END depth=3, iterations=60, learning_rate=1.0; total time=   3.1s\n",
      "[CV 2/3; 15/60] START depth=3, iterations=60, learning_rate=1.0.................\n",
      "[CV 2/3; 15/60] END depth=3, iterations=60, learning_rate=1.0; total time=   3.5s\n",
      "[CV 3/3; 15/60] START depth=3, iterations=60, learning_rate=1.0.................\n",
      "[CV 3/3; 15/60] END depth=3, iterations=60, learning_rate=1.0; total time=   3.1s\n",
      "[CV 1/3; 16/60] START depth=6, iterations=20, learning_rate=0.001...............\n",
      "[CV 1/3; 16/60] END depth=6, iterations=20, learning_rate=0.001; total time=   2.2s\n",
      "[CV 2/3; 16/60] START depth=6, iterations=20, learning_rate=0.001...............\n",
      "[CV 2/3; 16/60] END depth=6, iterations=20, learning_rate=0.001; total time=   2.3s\n",
      "[CV 3/3; 16/60] START depth=6, iterations=20, learning_rate=0.001...............\n",
      "[CV 3/3; 16/60] END depth=6, iterations=20, learning_rate=0.001; total time=   2.2s\n",
      "[CV 1/3; 17/60] START depth=6, iterations=20, learning_rate=0.005623413251903491\n",
      "[CV 1/3; 17/60] END depth=6, iterations=20, learning_rate=0.005623413251903491; total time=   2.4s\n",
      "[CV 2/3; 17/60] START depth=6, iterations=20, learning_rate=0.005623413251903491\n",
      "[CV 2/3; 17/60] END depth=6, iterations=20, learning_rate=0.005623413251903491; total time=   2.8s\n",
      "[CV 3/3; 17/60] START depth=6, iterations=20, learning_rate=0.005623413251903491\n",
      "[CV 3/3; 17/60] END depth=6, iterations=20, learning_rate=0.005623413251903491; total time=   2.5s\n",
      "[CV 1/3; 18/60] START depth=6, iterations=20, learning_rate=0.03162277660168379.\n",
      "[CV 1/3; 18/60] END depth=6, iterations=20, learning_rate=0.03162277660168379; total time=   2.2s\n",
      "[CV 2/3; 18/60] START depth=6, iterations=20, learning_rate=0.03162277660168379.\n",
      "[CV 2/3; 18/60] END depth=6, iterations=20, learning_rate=0.03162277660168379; total time=   2.1s\n",
      "[CV 3/3; 18/60] START depth=6, iterations=20, learning_rate=0.03162277660168379.\n",
      "[CV 3/3; 18/60] END depth=6, iterations=20, learning_rate=0.03162277660168379; total time=   2.1s\n",
      "[CV 1/3; 19/60] START depth=6, iterations=20, learning_rate=0.1778279410038923..\n",
      "[CV 1/3; 19/60] END depth=6, iterations=20, learning_rate=0.1778279410038923; total time=   2.2s\n",
      "[CV 2/3; 19/60] START depth=6, iterations=20, learning_rate=0.1778279410038923..\n",
      "[CV 2/3; 19/60] END depth=6, iterations=20, learning_rate=0.1778279410038923; total time=   2.4s\n",
      "[CV 3/3; 19/60] START depth=6, iterations=20, learning_rate=0.1778279410038923..\n",
      "[CV 3/3; 19/60] END depth=6, iterations=20, learning_rate=0.1778279410038923; total time=   2.1s\n",
      "[CV 1/3; 20/60] START depth=6, iterations=20, learning_rate=1.0.................\n",
      "[CV 1/3; 20/60] END depth=6, iterations=20, learning_rate=1.0; total time=   2.6s\n",
      "[CV 2/3; 20/60] START depth=6, iterations=20, learning_rate=1.0.................\n",
      "[CV 2/3; 20/60] END depth=6, iterations=20, learning_rate=1.0; total time=   2.5s\n",
      "[CV 3/3; 20/60] START depth=6, iterations=20, learning_rate=1.0.................\n",
      "[CV 3/3; 20/60] END depth=6, iterations=20, learning_rate=1.0; total time=   2.2s\n",
      "[CV 1/3; 21/60] START depth=6, iterations=40, learning_rate=0.001...............\n",
      "[CV 1/3; 21/60] END depth=6, iterations=40, learning_rate=0.001; total time=   3.2s\n",
      "[CV 2/3; 21/60] START depth=6, iterations=40, learning_rate=0.001...............\n",
      "[CV 2/3; 21/60] END depth=6, iterations=40, learning_rate=0.001; total time=   3.6s\n",
      "[CV 3/3; 21/60] START depth=6, iterations=40, learning_rate=0.001...............\n",
      "[CV 3/3; 21/60] END depth=6, iterations=40, learning_rate=0.001; total time=   3.5s\n",
      "[CV 1/3; 22/60] START depth=6, iterations=40, learning_rate=0.005623413251903491\n",
      "[CV 1/3; 22/60] END depth=6, iterations=40, learning_rate=0.005623413251903491; total time=   3.8s\n",
      "[CV 2/3; 22/60] START depth=6, iterations=40, learning_rate=0.005623413251903491\n",
      "[CV 2/3; 22/60] END depth=6, iterations=40, learning_rate=0.005623413251903491; total time=   3.1s\n",
      "[CV 3/3; 22/60] START depth=6, iterations=40, learning_rate=0.005623413251903491\n",
      "[CV 3/3; 22/60] END depth=6, iterations=40, learning_rate=0.005623413251903491; total time=   4.2s\n",
      "[CV 1/3; 23/60] START depth=6, iterations=40, learning_rate=0.03162277660168379.\n",
      "[CV 1/3; 23/60] END depth=6, iterations=40, learning_rate=0.03162277660168379; total time=   3.3s\n",
      "[CV 2/3; 23/60] START depth=6, iterations=40, learning_rate=0.03162277660168379.\n",
      "[CV 2/3; 23/60] END depth=6, iterations=40, learning_rate=0.03162277660168379; total time=   3.1s\n",
      "[CV 3/3; 23/60] START depth=6, iterations=40, learning_rate=0.03162277660168379.\n",
      "[CV 3/3; 23/60] END depth=6, iterations=40, learning_rate=0.03162277660168379; total time=   3.5s\n",
      "[CV 1/3; 24/60] START depth=6, iterations=40, learning_rate=0.1778279410038923..\n",
      "[CV 1/3; 24/60] END depth=6, iterations=40, learning_rate=0.1778279410038923; total time=   3.6s\n",
      "[CV 2/3; 24/60] START depth=6, iterations=40, learning_rate=0.1778279410038923..\n",
      "[CV 2/3; 24/60] END depth=6, iterations=40, learning_rate=0.1778279410038923; total time=   3.2s\n",
      "[CV 3/3; 24/60] START depth=6, iterations=40, learning_rate=0.1778279410038923..\n",
      "[CV 3/3; 24/60] END depth=6, iterations=40, learning_rate=0.1778279410038923; total time=   3.7s\n",
      "[CV 1/3; 25/60] START depth=6, iterations=40, learning_rate=1.0.................\n",
      "[CV 1/3; 25/60] END depth=6, iterations=40, learning_rate=1.0; total time=   3.7s\n",
      "[CV 2/3; 25/60] START depth=6, iterations=40, learning_rate=1.0.................\n",
      "[CV 2/3; 25/60] END depth=6, iterations=40, learning_rate=1.0; total time=   3.8s\n",
      "[CV 3/3; 25/60] START depth=6, iterations=40, learning_rate=1.0.................\n",
      "[CV 3/3; 25/60] END depth=6, iterations=40, learning_rate=1.0; total time=   4.3s\n",
      "[CV 1/3; 26/60] START depth=6, iterations=60, learning_rate=0.001...............\n",
      "[CV 1/3; 26/60] END depth=6, iterations=60, learning_rate=0.001; total time=   4.5s\n",
      "[CV 2/3; 26/60] START depth=6, iterations=60, learning_rate=0.001...............\n",
      "[CV 2/3; 26/60] END depth=6, iterations=60, learning_rate=0.001; total time=   4.6s\n",
      "[CV 3/3; 26/60] START depth=6, iterations=60, learning_rate=0.001...............\n",
      "[CV 3/3; 26/60] END depth=6, iterations=60, learning_rate=0.001; total time=   4.4s\n",
      "[CV 1/3; 27/60] START depth=6, iterations=60, learning_rate=0.005623413251903491\n",
      "[CV 1/3; 27/60] END depth=6, iterations=60, learning_rate=0.005623413251903491; total time=   4.2s\n",
      "[CV 2/3; 27/60] START depth=6, iterations=60, learning_rate=0.005623413251903491\n",
      "[CV 2/3; 27/60] END depth=6, iterations=60, learning_rate=0.005623413251903491; total time=   4.5s\n",
      "[CV 3/3; 27/60] START depth=6, iterations=60, learning_rate=0.005623413251903491\n",
      "[CV 3/3; 27/60] END depth=6, iterations=60, learning_rate=0.005623413251903491; total time=   4.3s\n",
      "[CV 1/3; 28/60] START depth=6, iterations=60, learning_rate=0.03162277660168379.\n",
      "[CV 1/3; 28/60] END depth=6, iterations=60, learning_rate=0.03162277660168379; total time=   4.2s\n",
      "[CV 2/3; 28/60] START depth=6, iterations=60, learning_rate=0.03162277660168379.\n",
      "[CV 2/3; 28/60] END depth=6, iterations=60, learning_rate=0.03162277660168379; total time=   4.5s\n",
      "[CV 3/3; 28/60] START depth=6, iterations=60, learning_rate=0.03162277660168379.\n",
      "[CV 3/3; 28/60] END depth=6, iterations=60, learning_rate=0.03162277660168379; total time=   4.2s\n",
      "[CV 1/3; 29/60] START depth=6, iterations=60, learning_rate=0.1778279410038923..\n",
      "[CV 1/3; 29/60] END depth=6, iterations=60, learning_rate=0.1778279410038923; total time=   4.5s\n",
      "[CV 2/3; 29/60] START depth=6, iterations=60, learning_rate=0.1778279410038923..\n",
      "[CV 2/3; 29/60] END depth=6, iterations=60, learning_rate=0.1778279410038923; total time=   4.8s\n",
      "[CV 3/3; 29/60] START depth=6, iterations=60, learning_rate=0.1778279410038923..\n",
      "[CV 3/3; 29/60] END depth=6, iterations=60, learning_rate=0.1778279410038923; total time=   4.9s\n",
      "[CV 1/3; 30/60] START depth=6, iterations=60, learning_rate=1.0.................\n",
      "[CV 1/3; 30/60] END depth=6, iterations=60, learning_rate=1.0; total time=   4.8s\n",
      "[CV 2/3; 30/60] START depth=6, iterations=60, learning_rate=1.0.................\n",
      "[CV 2/3; 30/60] END depth=6, iterations=60, learning_rate=1.0; total time=   4.7s\n",
      "[CV 3/3; 30/60] START depth=6, iterations=60, learning_rate=1.0.................\n",
      "[CV 3/3; 30/60] END depth=6, iterations=60, learning_rate=1.0; total time=   4.6s\n",
      "[CV 1/3; 31/60] START depth=9, iterations=20, learning_rate=0.001...............\n",
      "[CV 1/3; 31/60] END depth=9, iterations=20, learning_rate=0.001; total time=   2.7s\n",
      "[CV 2/3; 31/60] START depth=9, iterations=20, learning_rate=0.001...............\n",
      "[CV 2/3; 31/60] END depth=9, iterations=20, learning_rate=0.001; total time=   3.1s\n",
      "[CV 3/3; 31/60] START depth=9, iterations=20, learning_rate=0.001...............\n",
      "[CV 3/3; 31/60] END depth=9, iterations=20, learning_rate=0.001; total time=   2.9s\n",
      "[CV 1/3; 32/60] START depth=9, iterations=20, learning_rate=0.005623413251903491\n",
      "[CV 1/3; 32/60] END depth=9, iterations=20, learning_rate=0.005623413251903491; total time=   2.8s\n",
      "[CV 2/3; 32/60] START depth=9, iterations=20, learning_rate=0.005623413251903491\n",
      "[CV 2/3; 32/60] END depth=9, iterations=20, learning_rate=0.005623413251903491; total time=   3.8s\n",
      "[CV 3/3; 32/60] START depth=9, iterations=20, learning_rate=0.005623413251903491\n",
      "[CV 3/3; 32/60] END depth=9, iterations=20, learning_rate=0.005623413251903491; total time=   3.1s\n",
      "[CV 1/3; 33/60] START depth=9, iterations=20, learning_rate=0.03162277660168379.\n",
      "[CV 1/3; 33/60] END depth=9, iterations=20, learning_rate=0.03162277660168379; total time=   3.0s\n",
      "[CV 2/3; 33/60] START depth=9, iterations=20, learning_rate=0.03162277660168379.\n",
      "[CV 2/3; 33/60] END depth=9, iterations=20, learning_rate=0.03162277660168379; total time=   2.8s\n",
      "[CV 3/3; 33/60] START depth=9, iterations=20, learning_rate=0.03162277660168379.\n",
      "[CV 3/3; 33/60] END depth=9, iterations=20, learning_rate=0.03162277660168379; total time=   2.7s\n",
      "[CV 1/3; 34/60] START depth=9, iterations=20, learning_rate=0.1778279410038923..\n",
      "[CV 1/3; 34/60] END depth=9, iterations=20, learning_rate=0.1778279410038923; total time=   2.6s\n",
      "[CV 2/3; 34/60] START depth=9, iterations=20, learning_rate=0.1778279410038923..\n",
      "[CV 2/3; 34/60] END depth=9, iterations=20, learning_rate=0.1778279410038923; total time=   2.7s\n",
      "[CV 3/3; 34/60] START depth=9, iterations=20, learning_rate=0.1778279410038923..\n",
      "[CV 3/3; 34/60] END depth=9, iterations=20, learning_rate=0.1778279410038923; total time=   2.9s\n",
      "[CV 1/3; 35/60] START depth=9, iterations=20, learning_rate=1.0.................\n",
      "[CV 1/3; 35/60] END depth=9, iterations=20, learning_rate=1.0; total time=   3.0s\n",
      "[CV 2/3; 35/60] START depth=9, iterations=20, learning_rate=1.0.................\n",
      "[CV 2/3; 35/60] END depth=9, iterations=20, learning_rate=1.0; total time=   3.1s\n",
      "[CV 3/3; 35/60] START depth=9, iterations=20, learning_rate=1.0.................\n",
      "[CV 3/3; 35/60] END depth=9, iterations=20, learning_rate=1.0; total time=   3.2s\n",
      "[CV 1/3; 36/60] START depth=9, iterations=40, learning_rate=0.001...............\n",
      "[CV 1/3; 36/60] END depth=9, iterations=40, learning_rate=0.001; total time=   4.6s\n",
      "[CV 2/3; 36/60] START depth=9, iterations=40, learning_rate=0.001...............\n",
      "[CV 2/3; 36/60] END depth=9, iterations=40, learning_rate=0.001; total time=   4.5s\n",
      "[CV 3/3; 36/60] START depth=9, iterations=40, learning_rate=0.001...............\n",
      "[CV 3/3; 36/60] END depth=9, iterations=40, learning_rate=0.001; total time=   4.2s\n",
      "[CV 1/3; 37/60] START depth=9, iterations=40, learning_rate=0.005623413251903491\n",
      "[CV 1/3; 37/60] END depth=9, iterations=40, learning_rate=0.005623413251903491; total time=   4.5s\n",
      "[CV 2/3; 37/60] START depth=9, iterations=40, learning_rate=0.005623413251903491\n",
      "[CV 2/3; 37/60] END depth=9, iterations=40, learning_rate=0.005623413251903491; total time=   4.8s\n",
      "[CV 3/3; 37/60] START depth=9, iterations=40, learning_rate=0.005623413251903491\n",
      "[CV 3/3; 37/60] END depth=9, iterations=40, learning_rate=0.005623413251903491; total time=   4.5s\n",
      "[CV 1/3; 38/60] START depth=9, iterations=40, learning_rate=0.03162277660168379.\n",
      "[CV 1/3; 38/60] END depth=9, iterations=40, learning_rate=0.03162277660168379; total time=   4.3s\n",
      "[CV 2/3; 38/60] START depth=9, iterations=40, learning_rate=0.03162277660168379.\n",
      "[CV 2/3; 38/60] END depth=9, iterations=40, learning_rate=0.03162277660168379; total time=   4.5s\n",
      "[CV 3/3; 38/60] START depth=9, iterations=40, learning_rate=0.03162277660168379.\n",
      "[CV 3/3; 38/60] END depth=9, iterations=40, learning_rate=0.03162277660168379; total time=   4.4s\n",
      "[CV 1/3; 39/60] START depth=9, iterations=40, learning_rate=0.1778279410038923..\n",
      "[CV 1/3; 39/60] END depth=9, iterations=40, learning_rate=0.1778279410038923; total time=   4.4s\n",
      "[CV 2/3; 39/60] START depth=9, iterations=40, learning_rate=0.1778279410038923..\n",
      "[CV 2/3; 39/60] END depth=9, iterations=40, learning_rate=0.1778279410038923; total time=   4.9s\n",
      "[CV 3/3; 39/60] START depth=9, iterations=40, learning_rate=0.1778279410038923..\n",
      "[CV 3/3; 39/60] END depth=9, iterations=40, learning_rate=0.1778279410038923; total time=   5.2s\n",
      "[CV 1/3; 40/60] START depth=9, iterations=40, learning_rate=1.0.................\n",
      "[CV 1/3; 40/60] END depth=9, iterations=40, learning_rate=1.0; total time=   4.6s\n",
      "[CV 2/3; 40/60] START depth=9, iterations=40, learning_rate=1.0.................\n",
      "[CV 2/3; 40/60] END depth=9, iterations=40, learning_rate=1.0; total time=   5.1s\n",
      "[CV 3/3; 40/60] START depth=9, iterations=40, learning_rate=1.0.................\n",
      "[CV 3/3; 40/60] END depth=9, iterations=40, learning_rate=1.0; total time=   4.6s\n",
      "[CV 1/3; 41/60] START depth=9, iterations=60, learning_rate=0.001...............\n",
      "[CV 1/3; 41/60] END depth=9, iterations=60, learning_rate=0.001; total time=   6.1s\n",
      "[CV 2/3; 41/60] START depth=9, iterations=60, learning_rate=0.001...............\n",
      "[CV 2/3; 41/60] END depth=9, iterations=60, learning_rate=0.001; total time=   6.3s\n",
      "[CV 3/3; 41/60] START depth=9, iterations=60, learning_rate=0.001...............\n",
      "[CV 3/3; 41/60] END depth=9, iterations=60, learning_rate=0.001; total time=   7.8s\n",
      "[CV 1/3; 42/60] START depth=9, iterations=60, learning_rate=0.005623413251903491\n",
      "[CV 1/3; 42/60] END depth=9, iterations=60, learning_rate=0.005623413251903491; total time=   6.3s\n",
      "[CV 2/3; 42/60] START depth=9, iterations=60, learning_rate=0.005623413251903491\n",
      "[CV 2/3; 42/60] END depth=9, iterations=60, learning_rate=0.005623413251903491; total time=   6.0s\n",
      "[CV 3/3; 42/60] START depth=9, iterations=60, learning_rate=0.005623413251903491\n",
      "[CV 3/3; 42/60] END depth=9, iterations=60, learning_rate=0.005623413251903491; total time=   6.0s\n",
      "[CV 1/3; 43/60] START depth=9, iterations=60, learning_rate=0.03162277660168379.\n",
      "[CV 1/3; 43/60] END depth=9, iterations=60, learning_rate=0.03162277660168379; total time=   6.4s\n",
      "[CV 2/3; 43/60] START depth=9, iterations=60, learning_rate=0.03162277660168379.\n",
      "[CV 2/3; 43/60] END depth=9, iterations=60, learning_rate=0.03162277660168379; total time=   6.5s\n",
      "[CV 3/3; 43/60] START depth=9, iterations=60, learning_rate=0.03162277660168379.\n",
      "[CV 3/3; 43/60] END depth=9, iterations=60, learning_rate=0.03162277660168379; total time=   6.6s\n",
      "[CV 1/3; 44/60] START depth=9, iterations=60, learning_rate=0.1778279410038923..\n",
      "[CV 1/3; 44/60] END depth=9, iterations=60, learning_rate=0.1778279410038923; total time=   6.5s\n",
      "[CV 2/3; 44/60] START depth=9, iterations=60, learning_rate=0.1778279410038923..\n",
      "[CV 2/3; 44/60] END depth=9, iterations=60, learning_rate=0.1778279410038923; total time=   6.8s\n",
      "[CV 3/3; 44/60] START depth=9, iterations=60, learning_rate=0.1778279410038923..\n",
      "[CV 3/3; 44/60] END depth=9, iterations=60, learning_rate=0.1778279410038923; total time=   6.1s\n",
      "[CV 1/3; 45/60] START depth=9, iterations=60, learning_rate=1.0.................\n",
      "[CV 1/3; 45/60] END depth=9, iterations=60, learning_rate=1.0; total time=   6.3s\n",
      "[CV 2/3; 45/60] START depth=9, iterations=60, learning_rate=1.0.................\n",
      "[CV 2/3; 45/60] END depth=9, iterations=60, learning_rate=1.0; total time=   6.8s\n",
      "[CV 3/3; 45/60] START depth=9, iterations=60, learning_rate=1.0.................\n",
      "[CV 3/3; 45/60] END depth=9, iterations=60, learning_rate=1.0; total time=   6.1s\n",
      "[CV 1/3; 46/60] START depth=12, iterations=20, learning_rate=0.001..............\n",
      "[CV 1/3; 46/60] END depth=12, iterations=20, learning_rate=0.001; total time=   4.4s\n",
      "[CV 2/3; 46/60] START depth=12, iterations=20, learning_rate=0.001..............\n",
      "[CV 2/3; 46/60] END depth=12, iterations=20, learning_rate=0.001; total time=   4.3s\n",
      "[CV 3/3; 46/60] START depth=12, iterations=20, learning_rate=0.001..............\n",
      "[CV 3/3; 46/60] END depth=12, iterations=20, learning_rate=0.001; total time=   4.6s\n",
      "[CV 1/3; 47/60] START depth=12, iterations=20, learning_rate=0.005623413251903491\n",
      "[CV 1/3; 47/60] END depth=12, iterations=20, learning_rate=0.005623413251903491; total time=   4.3s\n",
      "[CV 2/3; 47/60] START depth=12, iterations=20, learning_rate=0.005623413251903491\n",
      "[CV 2/3; 47/60] END depth=12, iterations=20, learning_rate=0.005623413251903491; total time=   4.7s\n",
      "[CV 3/3; 47/60] START depth=12, iterations=20, learning_rate=0.005623413251903491\n",
      "[CV 3/3; 47/60] END depth=12, iterations=20, learning_rate=0.005623413251903491; total time=   4.3s\n",
      "[CV 1/3; 48/60] START depth=12, iterations=20, learning_rate=0.03162277660168379\n",
      "[CV 1/3; 48/60] END depth=12, iterations=20, learning_rate=0.03162277660168379; total time=   4.8s\n",
      "[CV 2/3; 48/60] START depth=12, iterations=20, learning_rate=0.03162277660168379\n",
      "[CV 2/3; 48/60] END depth=12, iterations=20, learning_rate=0.03162277660168379; total time=   4.3s\n",
      "[CV 3/3; 48/60] START depth=12, iterations=20, learning_rate=0.03162277660168379\n",
      "[CV 3/3; 48/60] END depth=12, iterations=20, learning_rate=0.03162277660168379; total time=   4.5s\n",
      "[CV 1/3; 49/60] START depth=12, iterations=20, learning_rate=0.1778279410038923.\n",
      "[CV 1/3; 49/60] END depth=12, iterations=20, learning_rate=0.1778279410038923; total time=   4.3s\n",
      "[CV 2/3; 49/60] START depth=12, iterations=20, learning_rate=0.1778279410038923.\n",
      "[CV 2/3; 49/60] END depth=12, iterations=20, learning_rate=0.1778279410038923; total time=   4.3s\n",
      "[CV 3/3; 49/60] START depth=12, iterations=20, learning_rate=0.1778279410038923.\n",
      "[CV 3/3; 49/60] END depth=12, iterations=20, learning_rate=0.1778279410038923; total time=   4.7s\n",
      "[CV 1/3; 50/60] START depth=12, iterations=20, learning_rate=1.0................\n",
      "[CV 1/3; 50/60] END depth=12, iterations=20, learning_rate=1.0; total time=   4.5s\n",
      "[CV 2/3; 50/60] START depth=12, iterations=20, learning_rate=1.0................\n",
      "[CV 2/3; 50/60] END depth=12, iterations=20, learning_rate=1.0; total time=   5.3s\n",
      "[CV 3/3; 50/60] START depth=12, iterations=20, learning_rate=1.0................\n",
      "[CV 3/3; 50/60] END depth=12, iterations=20, learning_rate=1.0; total time=   4.3s\n",
      "[CV 1/3; 51/60] START depth=12, iterations=40, learning_rate=0.001..............\n",
      "[CV 1/3; 51/60] END depth=12, iterations=40, learning_rate=0.001; total time=   8.6s\n",
      "[CV 2/3; 51/60] START depth=12, iterations=40, learning_rate=0.001..............\n",
      "[CV 2/3; 51/60] END depth=12, iterations=40, learning_rate=0.001; total time=   7.4s\n",
      "[CV 3/3; 51/60] START depth=12, iterations=40, learning_rate=0.001..............\n",
      "[CV 3/3; 51/60] END depth=12, iterations=40, learning_rate=0.001; total time=   7.7s\n",
      "[CV 1/3; 52/60] START depth=12, iterations=40, learning_rate=0.005623413251903491\n",
      "[CV 1/3; 52/60] END depth=12, iterations=40, learning_rate=0.005623413251903491; total time=   7.9s\n",
      "[CV 2/3; 52/60] START depth=12, iterations=40, learning_rate=0.005623413251903491\n",
      "[CV 2/3; 52/60] END depth=12, iterations=40, learning_rate=0.005623413251903491; total time=   7.3s\n",
      "[CV 3/3; 52/60] START depth=12, iterations=40, learning_rate=0.005623413251903491\n",
      "[CV 3/3; 52/60] END depth=12, iterations=40, learning_rate=0.005623413251903491; total time=   7.8s\n",
      "[CV 1/3; 53/60] START depth=12, iterations=40, learning_rate=0.03162277660168379\n",
      "[CV 1/3; 53/60] END depth=12, iterations=40, learning_rate=0.03162277660168379; total time=   7.6s\n",
      "[CV 2/3; 53/60] START depth=12, iterations=40, learning_rate=0.03162277660168379\n",
      "[CV 2/3; 53/60] END depth=12, iterations=40, learning_rate=0.03162277660168379; total time=   8.3s\n",
      "[CV 3/3; 53/60] START depth=12, iterations=40, learning_rate=0.03162277660168379\n",
      "[CV 3/3; 53/60] END depth=12, iterations=40, learning_rate=0.03162277660168379; total time=   7.8s\n",
      "[CV 1/3; 54/60] START depth=12, iterations=40, learning_rate=0.1778279410038923.\n",
      "[CV 1/3; 54/60] END depth=12, iterations=40, learning_rate=0.1778279410038923; total time=   8.2s\n",
      "[CV 2/3; 54/60] START depth=12, iterations=40, learning_rate=0.1778279410038923.\n",
      "[CV 2/3; 54/60] END depth=12, iterations=40, learning_rate=0.1778279410038923; total time=   7.4s\n",
      "[CV 3/3; 54/60] START depth=12, iterations=40, learning_rate=0.1778279410038923.\n",
      "[CV 3/3; 54/60] END depth=12, iterations=40, learning_rate=0.1778279410038923; total time=   7.8s\n",
      "[CV 1/3; 55/60] START depth=12, iterations=40, learning_rate=1.0................\n",
      "[CV 1/3; 55/60] END depth=12, iterations=40, learning_rate=1.0; total time=   7.5s\n",
      "[CV 2/3; 55/60] START depth=12, iterations=40, learning_rate=1.0................\n",
      "[CV 2/3; 55/60] END depth=12, iterations=40, learning_rate=1.0; total time=   7.2s\n",
      "[CV 3/3; 55/60] START depth=12, iterations=40, learning_rate=1.0................\n",
      "[CV 3/3; 55/60] END depth=12, iterations=40, learning_rate=1.0; total time=   7.4s\n",
      "[CV 1/3; 56/60] START depth=12, iterations=60, learning_rate=0.001..............\n",
      "[CV 1/3; 56/60] END depth=12, iterations=60, learning_rate=0.001; total time=  10.5s\n",
      "[CV 2/3; 56/60] START depth=12, iterations=60, learning_rate=0.001..............\n",
      "[CV 2/3; 56/60] END depth=12, iterations=60, learning_rate=0.001; total time=  10.3s\n",
      "[CV 3/3; 56/60] START depth=12, iterations=60, learning_rate=0.001..............\n",
      "[CV 3/3; 56/60] END depth=12, iterations=60, learning_rate=0.001; total time=  10.2s\n",
      "[CV 1/3; 57/60] START depth=12, iterations=60, learning_rate=0.005623413251903491\n",
      "[CV 1/3; 57/60] END depth=12, iterations=60, learning_rate=0.005623413251903491; total time=  10.2s\n",
      "[CV 2/3; 57/60] START depth=12, iterations=60, learning_rate=0.005623413251903491\n",
      "[CV 2/3; 57/60] END depth=12, iterations=60, learning_rate=0.005623413251903491; total time=  10.2s\n",
      "[CV 3/3; 57/60] START depth=12, iterations=60, learning_rate=0.005623413251903491\n",
      "[CV 3/3; 57/60] END depth=12, iterations=60, learning_rate=0.005623413251903491; total time=  10.1s\n",
      "[CV 1/3; 58/60] START depth=12, iterations=60, learning_rate=0.03162277660168379\n",
      "[CV 1/3; 58/60] END depth=12, iterations=60, learning_rate=0.03162277660168379; total time=  10.3s\n",
      "[CV 2/3; 58/60] START depth=12, iterations=60, learning_rate=0.03162277660168379\n",
      "[CV 2/3; 58/60] END depth=12, iterations=60, learning_rate=0.03162277660168379; total time=  10.4s\n",
      "[CV 3/3; 58/60] START depth=12, iterations=60, learning_rate=0.03162277660168379\n",
      "[CV 3/3; 58/60] END depth=12, iterations=60, learning_rate=0.03162277660168379; total time=  10.3s\n",
      "[CV 1/3; 59/60] START depth=12, iterations=60, learning_rate=0.1778279410038923.\n",
      "[CV 1/3; 59/60] END depth=12, iterations=60, learning_rate=0.1778279410038923; total time=  10.7s\n",
      "[CV 2/3; 59/60] START depth=12, iterations=60, learning_rate=0.1778279410038923.\n",
      "[CV 2/3; 59/60] END depth=12, iterations=60, learning_rate=0.1778279410038923; total time=  10.6s\n",
      "[CV 3/3; 59/60] START depth=12, iterations=60, learning_rate=0.1778279410038923.\n",
      "[CV 3/3; 59/60] END depth=12, iterations=60, learning_rate=0.1778279410038923; total time=  10.5s\n",
      "[CV 1/3; 60/60] START depth=12, iterations=60, learning_rate=1.0................\n",
      "[CV 1/3; 60/60] END depth=12, iterations=60, learning_rate=1.0; total time=  11.0s\n",
      "[CV 2/3; 60/60] START depth=12, iterations=60, learning_rate=1.0................\n",
      "[CV 2/3; 60/60] END depth=12, iterations=60, learning_rate=1.0; total time=  11.6s\n",
      "[CV 3/3; 60/60] START depth=12, iterations=60, learning_rate=1.0................\n",
      "[CV 3/3; 60/60] END depth=12, iterations=60, learning_rate=1.0; total time=  10.8s\n"
     ]
    }
   ],
   "source": [
    "CBR = CatBoostRegressor(loss_function='RMSE',silent=True, cat_features=category_features, random_seed=12345)\n",
    "CBR_params = {'learning_rate': np.logspace(-3, 0, 5),'iterations': range(20, 61, 20),'depth': range(3,13,3)}\n",
    "\n",
    "grid_CBR = GridSearchCV(CBR, CBR_params, cv=3, scoring='neg_root_mean_squared_error',n_jobs = -1, verbose = 25)\n",
    "grid_CBR.fit(features_train_CBR, target_train);"
   ]
  },
  {
   "cell_type": "code",
   "execution_count": 56,
   "metadata": {},
   "outputs": [
    {
     "name": "stdout",
     "output_type": "stream",
     "text": [
      "best_score RMSE: 1685.57\n",
      "best_params: {'depth': 12, 'iterations': 60, 'learning_rate': 0.1778279410038923}\n",
      "best fit time, sec.: 10.47\n",
      "best score time, sec.: 0.13\n"
     ]
    },
    {
     "data": {
      "text/html": [
       "<div>\n",
       "<style scoped>\n",
       "    .dataframe tbody tr th:only-of-type {\n",
       "        vertical-align: middle;\n",
       "    }\n",
       "\n",
       "    .dataframe tbody tr th {\n",
       "        vertical-align: top;\n",
       "    }\n",
       "\n",
       "    .dataframe thead th {\n",
       "        text-align: right;\n",
       "    }\n",
       "</style>\n",
       "<table border=\"1\" class=\"dataframe\">\n",
       "  <thead>\n",
       "    <tr style=\"text-align: right;\">\n",
       "      <th></th>\n",
       "      <th>Model</th>\n",
       "      <th>RMSE</th>\n",
       "      <th>Fit_Time</th>\n",
       "      <th>Score_time</th>\n",
       "    </tr>\n",
       "  </thead>\n",
       "  <tbody>\n",
       "    <tr>\n",
       "      <th>0</th>\n",
       "      <td>RandomForestRegressor</td>\n",
       "      <td>1770.990641</td>\n",
       "      <td>55.97</td>\n",
       "      <td>1.40</td>\n",
       "    </tr>\n",
       "    <tr>\n",
       "      <th>1</th>\n",
       "      <td>CatBoostRegressor</td>\n",
       "      <td>1685.566194</td>\n",
       "      <td>10.47</td>\n",
       "      <td>0.13</td>\n",
       "    </tr>\n",
       "  </tbody>\n",
       "</table>\n",
       "</div>"
      ],
      "text/plain": [
       "                   Model         RMSE  Fit_Time  Score_time\n",
       "0  RandomForestRegressor  1770.990641     55.97        1.40\n",
       "1      CatBoostRegressor  1685.566194     10.47        0.13"
      ]
     },
     "execution_count": 56,
     "metadata": {},
     "output_type": "execute_result"
    }
   ],
   "source": [
    "results(grid_CBR)"
   ]
  },
  {
   "cell_type": "markdown",
   "metadata": {},
   "source": [
    "### **LightGBM**"
   ]
  },
  {
   "cell_type": "markdown",
   "metadata": {},
   "source": [
    "Обучаем модель и вычисляем время обучения и предсказания."
   ]
  },
  {
   "cell_type": "code",
   "execution_count": 57,
   "metadata": {},
   "outputs": [
    {
     "name": "stdout",
     "output_type": "stream",
     "text": [
      "<class 'pandas.core.frame.DataFrame'>\n",
      "Int64Index: 220218 entries, 89056 to 217570\n",
      "Data columns (total 11 columns):\n",
      " #   Column             Non-Null Count   Dtype   \n",
      "---  ------             --------------   -----   \n",
      " 0   index              220218 non-null  int64   \n",
      " 1   VehicleType        220218 non-null  category\n",
      " 2   RegistrationYear   220218 non-null  float64 \n",
      " 3   Gearbox            220218 non-null  category\n",
      " 4   Power              220218 non-null  float64 \n",
      " 5   Model              220218 non-null  category\n",
      " 6   Kilometer          220218 non-null  float64 \n",
      " 7   RegistrationMonth  220218 non-null  float64 \n",
      " 8   FuelType           220218 non-null  category\n",
      " 9   Brand              220218 non-null  category\n",
      " 10  Repaired           220218 non-null  category\n",
      "dtypes: category(6), float64(4), int64(1)\n",
      "memory usage: 11.6 MB\n"
     ]
    }
   ],
   "source": [
    "features_train_CBR[category_features]=features_train_CBR[category_features].astype('category')\n",
    "features_test_CBR[category_features]=features_test_CBR[category_features].astype('category')\n",
    "features_train_CBR.info()"
   ]
  },
  {
   "cell_type": "code",
   "execution_count": 58,
   "metadata": {
    "scrolled": true
   },
   "outputs": [
    {
     "name": "stdout",
     "output_type": "stream",
     "text": [
      "Fitting 3 folds for each of 6 candidates, totalling 18 fits\n",
      "[CV 1/3; 1/6] START n_estimators=40, num_leaves=31..............................\n",
      "[CV 1/3; 1/6] END ............n_estimators=40, num_leaves=31; total time=   4.3s\n",
      "[CV 2/3; 1/6] START n_estimators=40, num_leaves=31..............................\n",
      "[CV 2/3; 1/6] END ............n_estimators=40, num_leaves=31; total time=   5.0s\n",
      "[CV 3/3; 1/6] START n_estimators=40, num_leaves=31..............................\n",
      "[CV 3/3; 1/6] END ............n_estimators=40, num_leaves=31; total time=   5.2s\n",
      "[CV 1/3; 2/6] START n_estimators=40, num_leaves=41..............................\n",
      "[CV 1/3; 2/6] END ............n_estimators=40, num_leaves=41; total time=   5.5s\n",
      "[CV 2/3; 2/6] START n_estimators=40, num_leaves=41..............................\n",
      "[CV 2/3; 2/6] END ............n_estimators=40, num_leaves=41; total time=   5.7s\n",
      "[CV 3/3; 2/6] START n_estimators=40, num_leaves=41..............................\n",
      "[CV 3/3; 2/6] END ............n_estimators=40, num_leaves=41; total time=   4.9s\n",
      "[CV 1/3; 3/6] START n_estimators=40, num_leaves=51..............................\n",
      "[CV 1/3; 3/6] END ............n_estimators=40, num_leaves=51; total time=   5.9s\n",
      "[CV 2/3; 3/6] START n_estimators=40, num_leaves=51..............................\n",
      "[CV 2/3; 3/6] END ............n_estimators=40, num_leaves=51; total time=   6.4s\n",
      "[CV 3/3; 3/6] START n_estimators=40, num_leaves=51..............................\n",
      "[CV 3/3; 3/6] END ............n_estimators=40, num_leaves=51; total time=   6.4s\n",
      "[CV 1/3; 4/6] START n_estimators=60, num_leaves=31..............................\n",
      "[CV 1/3; 4/6] END ............n_estimators=60, num_leaves=31; total time=   6.3s\n",
      "[CV 2/3; 4/6] START n_estimators=60, num_leaves=31..............................\n",
      "[CV 2/3; 4/6] END ............n_estimators=60, num_leaves=31; total time=   7.3s\n",
      "[CV 3/3; 4/6] START n_estimators=60, num_leaves=31..............................\n",
      "[CV 3/3; 4/6] END ............n_estimators=60, num_leaves=31; total time=   7.4s\n",
      "[CV 1/3; 5/6] START n_estimators=60, num_leaves=41..............................\n",
      "[CV 1/3; 5/6] END ............n_estimators=60, num_leaves=41; total time=   6.7s\n",
      "[CV 2/3; 5/6] START n_estimators=60, num_leaves=41..............................\n",
      "[CV 2/3; 5/6] END ............n_estimators=60, num_leaves=41; total time= 4.6min\n",
      "[CV 3/3; 5/6] START n_estimators=60, num_leaves=41..............................\n",
      "[CV 3/3; 5/6] END ............n_estimators=60, num_leaves=41; total time= 6.1min\n",
      "[CV 1/3; 6/6] START n_estimators=60, num_leaves=51..............................\n",
      "[CV 1/3; 6/6] END ............n_estimators=60, num_leaves=51; total time= 1.1min\n",
      "[CV 2/3; 6/6] START n_estimators=60, num_leaves=51..............................\n",
      "[CV 2/3; 6/6] END ............n_estimators=60, num_leaves=51; total time=   4.6s\n",
      "[CV 3/3; 6/6] START n_estimators=60, num_leaves=51..............................\n",
      "[CV 3/3; 6/6] END ............n_estimators=60, num_leaves=51; total time=   5.1s\n"
     ]
    },
    {
     "data": {
      "text/plain": [
       "GridSearchCV(cv=3,\n",
       "             estimator=LGBMRegressor(force_col_wise=True, learning_rate=0.18,\n",
       "                                     objective='rmse', random_state=12345),\n",
       "             param_grid={'n_estimators': [40, 60], 'num_leaves': [31, 41, 51]},\n",
       "             scoring='neg_root_mean_squared_error', verbose=25)"
      ]
     },
     "execution_count": 58,
     "metadata": {},
     "output_type": "execute_result"
    }
   ],
   "source": [
    "LGBM = LGBMRegressor(boosting_type='gbdt',random_state=12345, learning_rate = 0.18, objective='rmse',force_col_wise=True)\n",
    "LGBM_params ={'n_estimators': [40, 60], 'num_leaves': [31, 41, 51]}\n",
    "grid_LGBM = GridSearchCV(LGBM, LGBM_params, cv=3, scoring='neg_root_mean_squared_error', verbose = 25)\n",
    "grid_LGBM.fit(features_train_CBR, target_train)"
   ]
  },
  {
   "cell_type": "code",
   "execution_count": 59,
   "metadata": {},
   "outputs": [
    {
     "name": "stdout",
     "output_type": "stream",
     "text": [
      "best_score RMSE: 1638.43\n",
      "best_params: {'n_estimators': 60, 'num_leaves': 51}\n",
      "best fit time, sec.: 25.3\n",
      "best score time, sec.: 0.54\n"
     ]
    },
    {
     "data": {
      "text/html": [
       "<div>\n",
       "<style scoped>\n",
       "    .dataframe tbody tr th:only-of-type {\n",
       "        vertical-align: middle;\n",
       "    }\n",
       "\n",
       "    .dataframe tbody tr th {\n",
       "        vertical-align: top;\n",
       "    }\n",
       "\n",
       "    .dataframe thead th {\n",
       "        text-align: right;\n",
       "    }\n",
       "</style>\n",
       "<table border=\"1\" class=\"dataframe\">\n",
       "  <thead>\n",
       "    <tr style=\"text-align: right;\">\n",
       "      <th></th>\n",
       "      <th>Model</th>\n",
       "      <th>RMSE</th>\n",
       "      <th>Fit_Time</th>\n",
       "      <th>Score_time</th>\n",
       "    </tr>\n",
       "  </thead>\n",
       "  <tbody>\n",
       "    <tr>\n",
       "      <th>0</th>\n",
       "      <td>RandomForestRegressor</td>\n",
       "      <td>1770.990641</td>\n",
       "      <td>55.97</td>\n",
       "      <td>1.40</td>\n",
       "    </tr>\n",
       "    <tr>\n",
       "      <th>1</th>\n",
       "      <td>CatBoostRegressor</td>\n",
       "      <td>1685.566194</td>\n",
       "      <td>10.47</td>\n",
       "      <td>0.13</td>\n",
       "    </tr>\n",
       "    <tr>\n",
       "      <th>2</th>\n",
       "      <td>LGBMRegressor</td>\n",
       "      <td>1638.430788</td>\n",
       "      <td>25.30</td>\n",
       "      <td>0.54</td>\n",
       "    </tr>\n",
       "  </tbody>\n",
       "</table>\n",
       "</div>"
      ],
      "text/plain": [
       "                   Model         RMSE  Fit_Time  Score_time\n",
       "0  RandomForestRegressor  1770.990641     55.97        1.40\n",
       "1      CatBoostRegressor  1685.566194     10.47        0.13\n",
       "2          LGBMRegressor  1638.430788     25.30        0.54"
      ]
     },
     "execution_count": 59,
     "metadata": {},
     "output_type": "execute_result"
    }
   ],
   "source": [
    "results(grid_LGBM)"
   ]
  },
  {
   "cell_type": "markdown",
   "metadata": {},
   "source": [
    "## Анализ моделей"
   ]
  },
  {
   "cell_type": "markdown",
   "metadata": {},
   "source": [
    "Посмотрим какие признаки модели выбирают, как наиболее важные для предсказаний.Для этого создал процедуру для визуализации важности признаков."
   ]
  },
  {
   "cell_type": "code",
   "execution_count": 60,
   "metadata": {},
   "outputs": [],
   "source": [
    "def importance(model,features):\n",
    "    features=features.columns\n",
    "    importances = model.best_estimator_.feature_importances_\n",
    "    indices = np.argsort(importances)\n",
    "    \n",
    "    plt.figure(figsize=(8, 5))\n",
    "    plt.title(f'Важность признаков модели {model.estimator.__class__.__name__}')\n",
    "    plt.barh(range(len(indices)), importances[indices], color='g', align='center')\n",
    "    plt.yticks(range(len(indices)), features[indices])\n",
    "    plt.xlabel('Относительная важность')\n",
    "    plt.show()    "
   ]
  },
  {
   "cell_type": "code",
   "execution_count": 61,
   "metadata": {},
   "outputs": [
    {
     "data": {
      "image/png": "[encoded data removed]",
      "text/plain": [
       "<Figure size 576x360 with 1 Axes>"
      ]
     },
     "metadata": {},
     "output_type": "display_data"
    }
   ],
   "source": [
    "importance(grid_RFR,scaled_features_train_encoded)"
   ]
  },
  {
   "cell_type": "code",
   "execution_count": 62,
   "metadata": {},
   "outputs": [
    {
     "data": {
      "image/png": "[encoded data removed]",
      "text/plain": [
       "<Figure size 576x360 with 1 Axes>"
      ]
     },
     "metadata": {},
     "output_type": "display_data"
    }
   ],
   "source": [
    "importance(grid_CBR,features_train_CBR)"
   ]
  },
  {
   "cell_type": "code",
   "execution_count": 63,
   "metadata": {},
   "outputs": [
    {
     "data": {
      "image/png": "[encoded data removed]",
      "text/plain": [
       "<Figure size 576x360 with 1 Axes>"
      ]
     },
     "metadata": {},
     "output_type": "display_data"
    }
   ],
   "source": [
    "importance(grid_LGBM,features_train_CBR)"
   ]
  },
  {
   "cell_type": "markdown",
   "metadata": {},
   "source": [
    "Приведённые выше графики показывают, что на выбранных данных модели RandomForest и CatBoost ведут себя схожим образом и отбирают почти одни и те же наиболее важные по весу признаки год регистрации и мощность авто, у модели LightGBM наиболее важный признак, влияющий на предсказание цены, это модель авто, а потом уже год регистрации,мощность и прочие признаки."
   ]
  },
  {
   "cell_type": "markdown",
   "metadata": {},
   "source": [
    "Исходя из условий задачи, нам важны:\n",
    "1. качество предсказания; \n",
    "2. скорость предсказания; \n",
    "3. время обучения.\n",
    "\n",
    "**Исходя из результатов, по качеству предсказания и времени обучения лидирует модель LGBMRegressor, ее и будет финально тестировать на тестовой выборке.**"
   ]
  },
  {
   "cell_type": "code",
   "execution_count": 64,
   "metadata": {},
   "outputs": [],
   "source": [
    "predict_LGBM = grid_LGBM.best_estimator_.predict(features_test_CBR)"
   ]
  },
  {
   "cell_type": "code",
   "execution_count": 65,
   "metadata": {},
   "outputs": [
    {
     "name": "stdout",
     "output_type": "stream",
     "text": [
      "RMSE 1639.14\n"
     ]
    }
   ],
   "source": [
    "print('RMSE',rmse(target_test,predict_LGBM))"
   ]
  },
  {
   "cell_type": "markdown",
   "metadata": {},
   "source": [
    "**ВЫВОД: Модель LightGBM так же качественно предсказывает на тестовой выбоке как и на тренировочной.**  "
   ]
  },
  {
   "cell_type": "markdown",
   "metadata": {},
   "source": [
    "## Вывод"
   ]
  },
  {
   "cell_type": "markdown",
   "metadata": {},
   "source": [
    "Для выполнения поставленной задачи были обучены модели RandomForest,CatBoost и LightGMB. Исходный датасет был предобработан с целью избавиться от пропусков и выбросов данных. Для каждой модели подготовлены входные данные. Для модели CatBoost и  LightGBM данные без кодирования, так как в этих моделях реализован механизм самостоятельной обработки категориальных признаков, на входе RandomForest данные преобразованы методом Original Encoding.Все данные были отмасштабированы.\n",
    "\n",
    " - Наилучшие параметры из ряда предложенных для RandomForest n_estimators=150, depth=12. RMSE по данным параметрам best_score      RMSE: 1770.99, из    трех моделей это наихудший результат. Время обучения best fit time, sec.: 52.38 это худший результат.      Время предсказания best score time, sec.: 1.23 это худший результат.\n",
    " \n",
    " - Наилучшие параметры из ряда предложенных для CatBoostRegressor 'depth': 12, 'iterations': 60, 'learning_rate':                  0.1778279410038923. RMSE по данным параметрам best_score RMSE: 1685.57. Время обучения best fit time, sec.: 9.57. Время        прогноза наилучшее из трех моделей best score time, sec.: 0.11.\n",
    "\n",
    " - Наилучшие параметры из ряда предложенных для LightGBM best_params: {'n_estimators': 60, 'num_leaves': 51}\n",
    "   В результате RMSE по данным параметрам best_score **RMSE: 1638.43 это лучший по качеству результат**\n",
    "   best fit time, sec.: 4.16 **лучший результат**\n",
    "   best score time, sec.: 0.5 \n",
    "\n",
    "Исходя из результатов, предпочтение дыло отдано модели **LightGBM**, т.к. она имеет лучшее качество, скорость обучения в данной задаче. Предсказание данной модели на тестовой выборке не изменилось по качеству с показателем RMSE 1639.14/"
   ]
  }
 ],
 "metadata": {
  "ExecuteTimeLog": [
   {
    "duration": 50,
    "start_time": "2023-06-26T14:11:59.643Z"
   },
   {
    "duration": 7,
    "start_time": "2023-06-26T14:12:13.086Z"
   },
   {
    "duration": 457,
    "start_time": "2023-06-26T14:12:15.632Z"
   },
   {
    "duration": 1180,
    "start_time": "2023-06-26T14:12:16.922Z"
   },
   {
    "duration": 123,
    "start_time": "2023-06-26T14:12:41.192Z"
   },
   {
    "duration": 20,
    "start_time": "2023-06-26T14:12:58.442Z"
   },
   {
    "duration": 962,
    "start_time": "2023-06-26T14:21:42.493Z"
   },
   {
    "duration": 1016,
    "start_time": "2023-06-26T14:21:45.054Z"
   },
   {
    "duration": 17,
    "start_time": "2023-06-26T14:21:51.162Z"
   },
   {
    "duration": 119,
    "start_time": "2023-06-26T14:22:35.613Z"
   },
   {
    "duration": 142,
    "start_time": "2023-06-26T14:22:56.003Z"
   },
   {
    "duration": 109,
    "start_time": "2023-06-26T14:23:42.653Z"
   },
   {
    "duration": 5,
    "start_time": "2023-06-26T14:29:06.561Z"
   },
   {
    "duration": 853,
    "start_time": "2023-06-26T14:29:23.660Z"
   },
   {
    "duration": 5,
    "start_time": "2023-06-26T14:37:19.701Z"
   },
   {
    "duration": 875,
    "start_time": "2023-06-26T14:37:24.818Z"
   },
   {
    "duration": 1246,
    "start_time": "2023-06-26T15:06:17.032Z"
   },
   {
    "duration": 977,
    "start_time": "2023-06-26T15:06:18.280Z"
   },
   {
    "duration": 34,
    "start_time": "2023-06-26T15:06:19.260Z"
   },
   {
    "duration": 165,
    "start_time": "2023-06-26T15:06:19.308Z"
   },
   {
    "duration": 7,
    "start_time": "2023-06-26T15:06:19.476Z"
   },
   {
    "duration": 1067,
    "start_time": "2023-06-26T15:06:19.486Z"
   },
   {
    "duration": 1356,
    "start_time": "2023-06-26T15:08:56.718Z"
   },
   {
    "duration": 1039,
    "start_time": "2023-06-26T15:08:58.077Z"
   },
   {
    "duration": 22,
    "start_time": "2023-06-26T15:08:59.118Z"
   },
   {
    "duration": 149,
    "start_time": "2023-06-26T15:08:59.142Z"
   },
   {
    "duration": 14,
    "start_time": "2023-06-26T15:08:59.294Z"
   },
   {
    "duration": 1038,
    "start_time": "2023-06-26T15:08:59.310Z"
   },
   {
    "duration": 1321,
    "start_time": "2023-06-26T15:09:47.458Z"
   },
   {
    "duration": 1162,
    "start_time": "2023-06-26T15:09:48.781Z"
   },
   {
    "duration": 27,
    "start_time": "2023-06-26T15:09:49.945Z"
   },
   {
    "duration": 183,
    "start_time": "2023-06-26T15:09:49.975Z"
   },
   {
    "duration": 20,
    "start_time": "2023-06-26T15:09:50.161Z"
   },
   {
    "duration": 1012,
    "start_time": "2023-06-26T15:09:50.183Z"
   },
   {
    "duration": 656,
    "start_time": "2023-06-26T15:09:51.197Z"
   },
   {
    "duration": 179,
    "start_time": "2023-06-26T15:16:12.327Z"
   },
   {
    "duration": 1243,
    "start_time": "2023-06-27T12:26:49.621Z"
   },
   {
    "duration": 2726,
    "start_time": "2023-06-27T12:26:50.867Z"
   },
   {
    "duration": 17,
    "start_time": "2023-06-27T12:26:53.594Z"
   },
   {
    "duration": 132,
    "start_time": "2023-06-27T12:26:53.613Z"
   },
   {
    "duration": 4,
    "start_time": "2023-06-27T12:26:53.748Z"
   },
   {
    "duration": 871,
    "start_time": "2023-06-27T12:26:53.754Z"
   },
   {
    "duration": 50,
    "start_time": "2023-06-27T12:26:54.626Z"
   },
   {
    "duration": 69,
    "start_time": "2023-06-27T12:26:54.678Z"
   },
   {
    "duration": 1161,
    "start_time": "2023-06-27T12:31:58.167Z"
   },
   {
    "duration": 760,
    "start_time": "2023-06-27T12:31:59.331Z"
   },
   {
    "duration": 19,
    "start_time": "2023-06-27T12:32:00.093Z"
   },
   {
    "duration": 198,
    "start_time": "2023-06-27T12:32:00.114Z"
   },
   {
    "duration": 42,
    "start_time": "2023-06-27T12:32:00.314Z"
   },
   {
    "duration": 922,
    "start_time": "2023-06-27T12:32:00.358Z"
   },
   {
    "duration": 43,
    "start_time": "2023-06-27T12:32:01.283Z"
   },
   {
    "duration": 140,
    "start_time": "2023-06-27T12:32:01.328Z"
   },
   {
    "duration": 74,
    "start_time": "2023-06-27T12:32:01.470Z"
   },
   {
    "duration": 1187,
    "start_time": "2023-06-27T12:33:26.223Z"
   },
   {
    "duration": 817,
    "start_time": "2023-06-27T12:33:27.413Z"
   },
   {
    "duration": 19,
    "start_time": "2023-06-27T12:33:28.232Z"
   },
   {
    "duration": 143,
    "start_time": "2023-06-27T12:33:28.253Z"
   },
   {
    "duration": 45,
    "start_time": "2023-06-27T12:33:28.398Z"
   },
   {
    "duration": 23,
    "start_time": "2023-06-27T12:33:28.445Z"
   },
   {
    "duration": 452,
    "start_time": "2023-06-27T12:33:28.470Z"
   },
   {
    "duration": 96,
    "start_time": "2023-06-27T12:33:28.924Z"
   },
   {
    "duration": 81,
    "start_time": "2023-06-27T12:33:29.022Z"
   },
   {
    "duration": 94,
    "start_time": "2023-06-27T14:18:34.838Z"
   },
   {
    "duration": 79,
    "start_time": "2023-06-27T14:18:47.719Z"
   },
   {
    "duration": 9,
    "start_time": "2023-06-27T14:27:43.409Z"
   },
   {
    "duration": 80,
    "start_time": "2023-06-27T14:27:50.659Z"
   },
   {
    "duration": 11,
    "start_time": "2023-06-27T14:28:42.251Z"
   },
   {
    "duration": 84,
    "start_time": "2023-06-27T14:28:54.472Z"
   },
   {
    "duration": 10,
    "start_time": "2023-06-27T14:29:29.266Z"
   },
   {
    "duration": 86,
    "start_time": "2023-06-27T14:29:42.831Z"
   },
   {
    "duration": 1139,
    "start_time": "2023-06-27T14:39:31.111Z"
   },
   {
    "duration": 817,
    "start_time": "2023-06-27T14:39:32.252Z"
   },
   {
    "duration": 17,
    "start_time": "2023-06-27T14:39:33.071Z"
   },
   {
    "duration": 139,
    "start_time": "2023-06-27T14:39:33.090Z"
   },
   {
    "duration": 2,
    "start_time": "2023-06-27T14:39:33.231Z"
   },
   {
    "duration": 5,
    "start_time": "2023-06-27T14:39:33.235Z"
   },
   {
    "duration": 871,
    "start_time": "2023-06-27T14:39:33.242Z"
   },
   {
    "duration": 134,
    "start_time": "2023-06-27T14:39:34.116Z"
   },
   {
    "duration": 96,
    "start_time": "2023-06-27T14:39:34.251Z"
   },
   {
    "duration": 104,
    "start_time": "2023-06-27T14:39:34.349Z"
   },
   {
    "duration": 425,
    "start_time": "2023-06-27T14:41:28.912Z"
   },
   {
    "duration": 486,
    "start_time": "2023-06-27T14:42:17.001Z"
   },
   {
    "duration": 46,
    "start_time": "2023-06-27T14:42:40.707Z"
   },
   {
    "duration": 91,
    "start_time": "2023-06-27T14:47:57.231Z"
   },
   {
    "duration": 122,
    "start_time": "2023-06-27T14:52:29.247Z"
   },
   {
    "duration": 1143,
    "start_time": "2023-06-27T14:52:55.221Z"
   },
   {
    "duration": 806,
    "start_time": "2023-06-27T14:52:56.366Z"
   },
   {
    "duration": 17,
    "start_time": "2023-06-27T14:52:57.173Z"
   },
   {
    "duration": 150,
    "start_time": "2023-06-27T14:52:57.192Z"
   },
   {
    "duration": 4,
    "start_time": "2023-06-27T14:52:57.345Z"
   },
   {
    "duration": 812,
    "start_time": "2023-06-27T14:52:57.350Z"
   },
   {
    "duration": 489,
    "start_time": "2023-06-27T14:52:58.168Z"
   },
   {
    "duration": 44,
    "start_time": "2023-06-27T14:52:58.658Z"
   },
   {
    "duration": 113,
    "start_time": "2023-06-27T14:52:58.703Z"
   },
   {
    "duration": 89,
    "start_time": "2023-06-27T14:52:58.819Z"
   },
   {
    "duration": 98,
    "start_time": "2023-06-27T14:52:58.910Z"
   },
   {
    "duration": 129,
    "start_time": "2023-06-27T14:52:59.010Z"
   },
   {
    "duration": 95,
    "start_time": "2023-06-27T15:00:31.808Z"
   },
   {
    "duration": 85,
    "start_time": "2023-06-27T15:00:49.876Z"
   },
   {
    "duration": 2701,
    "start_time": "2023-06-27T15:11:38.547Z"
   },
   {
    "duration": 23,
    "start_time": "2023-06-27T15:11:53.925Z"
   },
   {
    "duration": 84,
    "start_time": "2023-06-27T15:13:14.896Z"
   },
   {
    "duration": 80,
    "start_time": "2023-06-27T15:14:15.538Z"
   },
   {
    "duration": 9,
    "start_time": "2023-06-27T15:14:46.359Z"
   },
   {
    "duration": 85,
    "start_time": "2023-06-27T15:15:03.889Z"
   },
   {
    "duration": 79,
    "start_time": "2023-06-27T15:16:03.200Z"
   },
   {
    "duration": 74,
    "start_time": "2023-06-27T15:16:21.141Z"
   },
   {
    "duration": 74,
    "start_time": "2023-06-27T15:19:08.830Z"
   },
   {
    "duration": 21,
    "start_time": "2023-06-27T15:19:36.669Z"
   },
   {
    "duration": 20,
    "start_time": "2023-06-27T15:20:39.548Z"
   },
   {
    "duration": 1817,
    "start_time": "2023-06-27T15:21:14.404Z"
   },
   {
    "duration": 35,
    "start_time": "2023-06-27T15:21:31.019Z"
   },
   {
    "duration": 21,
    "start_time": "2023-06-27T15:21:50.939Z"
   },
   {
    "duration": 19,
    "start_time": "2023-06-27T15:22:04.340Z"
   },
   {
    "duration": 1180,
    "start_time": "2023-06-27T15:22:22.705Z"
   },
   {
    "duration": 855,
    "start_time": "2023-06-27T15:22:23.887Z"
   },
   {
    "duration": 25,
    "start_time": "2023-06-27T15:22:24.744Z"
   },
   {
    "duration": 156,
    "start_time": "2023-06-27T15:22:24.772Z"
   },
   {
    "duration": 5,
    "start_time": "2023-06-27T15:22:24.930Z"
   },
   {
    "duration": 839,
    "start_time": "2023-06-27T15:22:24.936Z"
   },
   {
    "duration": 526,
    "start_time": "2023-06-27T15:22:25.777Z"
   },
   {
    "duration": 44,
    "start_time": "2023-06-27T15:22:26.304Z"
   },
   {
    "duration": 91,
    "start_time": "2023-06-27T15:22:26.350Z"
   },
   {
    "duration": 79,
    "start_time": "2023-06-27T15:22:26.444Z"
   },
   {
    "duration": 98,
    "start_time": "2023-06-27T15:22:26.525Z"
   },
   {
    "duration": 19,
    "start_time": "2023-06-27T15:22:26.625Z"
   },
   {
    "duration": 89,
    "start_time": "2023-06-27T15:22:26.646Z"
   },
   {
    "duration": 87,
    "start_time": "2023-06-27T15:22:26.737Z"
   },
   {
    "duration": 102,
    "start_time": "2023-06-27T15:22:26.825Z"
   },
   {
    "duration": 23,
    "start_time": "2023-06-27T15:22:26.929Z"
   },
   {
    "duration": 22,
    "start_time": "2023-06-27T15:22:26.968Z"
   },
   {
    "duration": 17,
    "start_time": "2023-06-27T15:22:53.418Z"
   },
   {
    "duration": 17,
    "start_time": "2023-06-27T15:23:50.938Z"
   },
   {
    "duration": 17,
    "start_time": "2023-06-27T15:23:51.905Z"
   },
   {
    "duration": 523,
    "start_time": "2023-06-27T15:25:02.058Z"
   },
   {
    "duration": 22,
    "start_time": "2023-06-27T15:25:53.498Z"
   },
   {
    "duration": 481,
    "start_time": "2023-06-27T15:26:04.145Z"
   },
   {
    "duration": 37,
    "start_time": "2023-06-27T15:26:56.153Z"
   },
   {
    "duration": 379,
    "start_time": "2023-06-27T15:27:06.500Z"
   },
   {
    "duration": 101,
    "start_time": "2023-06-27T15:51:07.349Z"
   },
   {
    "duration": 98,
    "start_time": "2023-06-27T15:51:23.216Z"
   },
   {
    "duration": 637,
    "start_time": "2023-06-27T15:51:36.218Z"
   },
   {
    "duration": 80,
    "start_time": "2023-06-27T15:53:27.693Z"
   },
   {
    "duration": 72,
    "start_time": "2023-06-27T15:53:42.932Z"
   },
   {
    "duration": 14,
    "start_time": "2023-06-27T15:55:27.920Z"
   },
   {
    "duration": 7,
    "start_time": "2023-06-27T15:55:52.513Z"
   },
   {
    "duration": 20,
    "start_time": "2023-06-27T15:56:21.412Z"
   },
   {
    "duration": 45,
    "start_time": "2023-06-28T06:58:59.701Z"
   },
   {
    "duration": 8,
    "start_time": "2023-06-28T06:59:06.659Z"
   },
   {
    "duration": 7,
    "start_time": "2023-06-28T06:59:41.151Z"
   },
   {
    "duration": 1276,
    "start_time": "2023-06-28T06:59:54.119Z"
   },
   {
    "duration": 1109,
    "start_time": "2023-06-28T06:59:55.398Z"
   },
   {
    "duration": 21,
    "start_time": "2023-06-28T06:59:56.509Z"
   },
   {
    "duration": 161,
    "start_time": "2023-06-28T06:59:56.532Z"
   },
   {
    "duration": 4,
    "start_time": "2023-06-28T06:59:56.695Z"
   },
   {
    "duration": 988,
    "start_time": "2023-06-28T06:59:56.701Z"
   },
   {
    "duration": 522,
    "start_time": "2023-06-28T06:59:57.691Z"
   },
   {
    "duration": 44,
    "start_time": "2023-06-28T06:59:58.215Z"
   },
   {
    "duration": 94,
    "start_time": "2023-06-28T06:59:58.260Z"
   },
   {
    "duration": 88,
    "start_time": "2023-06-28T06:59:58.356Z"
   },
   {
    "duration": 87,
    "start_time": "2023-06-28T06:59:58.445Z"
   },
   {
    "duration": 19,
    "start_time": "2023-06-28T06:59:58.534Z"
   },
   {
    "duration": 93,
    "start_time": "2023-06-28T06:59:58.555Z"
   },
   {
    "duration": 86,
    "start_time": "2023-06-28T06:59:58.651Z"
   },
   {
    "duration": 90,
    "start_time": "2023-06-28T06:59:58.739Z"
   },
   {
    "duration": 20,
    "start_time": "2023-06-28T06:59:58.830Z"
   },
   {
    "duration": 423,
    "start_time": "2023-06-28T06:59:58.852Z"
   },
   {
    "duration": 17,
    "start_time": "2023-06-28T06:59:59.276Z"
   },
   {
    "duration": 8,
    "start_time": "2023-06-28T06:59:59.294Z"
   },
   {
    "duration": 93,
    "start_time": "2023-06-28T07:00:39.421Z"
   },
   {
    "duration": 9,
    "start_time": "2023-06-28T07:00:51.523Z"
   },
   {
    "duration": 3,
    "start_time": "2023-06-28T07:01:19.112Z"
   },
   {
    "duration": 1209,
    "start_time": "2023-06-28T07:01:26.657Z"
   },
   {
    "duration": 804,
    "start_time": "2023-06-28T07:01:27.868Z"
   },
   {
    "duration": 25,
    "start_time": "2023-06-28T07:01:28.675Z"
   },
   {
    "duration": 192,
    "start_time": "2023-06-28T07:01:28.703Z"
   },
   {
    "duration": 4,
    "start_time": "2023-06-28T07:01:28.897Z"
   },
   {
    "duration": 867,
    "start_time": "2023-06-28T07:01:28.904Z"
   },
   {
    "duration": 594,
    "start_time": "2023-06-28T07:01:29.774Z"
   },
   {
    "duration": 51,
    "start_time": "2023-06-28T07:01:30.374Z"
   },
   {
    "duration": 114,
    "start_time": "2023-06-28T07:01:30.427Z"
   },
   {
    "duration": 135,
    "start_time": "2023-06-28T07:01:30.544Z"
   },
   {
    "duration": 86,
    "start_time": "2023-06-28T07:01:30.681Z"
   },
   {
    "duration": 96,
    "start_time": "2023-06-28T07:01:30.768Z"
   },
   {
    "duration": 204,
    "start_time": "2023-06-28T07:01:30.865Z"
   },
   {
    "duration": 147,
    "start_time": "2023-06-28T07:01:31.071Z"
   },
   {
    "duration": 140,
    "start_time": "2023-06-28T07:01:31.221Z"
   },
   {
    "duration": 21,
    "start_time": "2023-06-28T07:01:31.363Z"
   },
   {
    "duration": 500,
    "start_time": "2023-06-28T07:01:31.386Z"
   },
   {
    "duration": 20,
    "start_time": "2023-06-28T07:01:31.888Z"
   },
   {
    "duration": 125,
    "start_time": "2023-06-28T07:01:31.909Z"
   },
   {
    "duration": 6,
    "start_time": "2023-06-28T07:03:10.644Z"
   },
   {
    "duration": 15,
    "start_time": "2023-06-28T07:08:00.205Z"
   },
   {
    "duration": 1219,
    "start_time": "2023-06-28T07:08:34.956Z"
   },
   {
    "duration": 846,
    "start_time": "2023-06-28T07:08:36.177Z"
   },
   {
    "duration": 23,
    "start_time": "2023-06-28T07:08:37.025Z"
   },
   {
    "duration": 220,
    "start_time": "2023-06-28T07:08:37.050Z"
   },
   {
    "duration": 5,
    "start_time": "2023-06-28T07:08:37.275Z"
   },
   {
    "duration": 813,
    "start_time": "2023-06-28T07:08:37.282Z"
   },
   {
    "duration": 507,
    "start_time": "2023-06-28T07:08:38.098Z"
   },
   {
    "duration": 44,
    "start_time": "2023-06-28T07:08:38.607Z"
   },
   {
    "duration": 90,
    "start_time": "2023-06-28T07:08:38.653Z"
   },
   {
    "duration": 83,
    "start_time": "2023-06-28T07:08:38.745Z"
   },
   {
    "duration": 112,
    "start_time": "2023-06-28T07:08:38.830Z"
   },
   {
    "duration": 36,
    "start_time": "2023-06-28T07:08:38.944Z"
   },
   {
    "duration": 80,
    "start_time": "2023-06-28T07:08:38.981Z"
   },
   {
    "duration": 86,
    "start_time": "2023-06-28T07:08:39.064Z"
   },
   {
    "duration": 97,
    "start_time": "2023-06-28T07:08:39.152Z"
   },
   {
    "duration": 33,
    "start_time": "2023-06-28T07:08:39.251Z"
   },
   {
    "duration": 462,
    "start_time": "2023-06-28T07:08:39.286Z"
   },
   {
    "duration": 31,
    "start_time": "2023-06-28T07:08:39.749Z"
   },
   {
    "duration": 100,
    "start_time": "2023-06-28T07:08:39.781Z"
   },
   {
    "duration": 6,
    "start_time": "2023-06-28T07:08:52.963Z"
   },
   {
    "duration": 55,
    "start_time": "2023-06-28T07:13:12.838Z"
   },
   {
    "duration": 644,
    "start_time": "2023-06-28T07:14:03.718Z"
   },
   {
    "duration": 85,
    "start_time": "2023-06-28T07:14:22.364Z"
   },
   {
    "duration": 24,
    "start_time": "2023-06-28T07:17:50.797Z"
   },
   {
    "duration": 18,
    "start_time": "2023-06-28T07:18:10.701Z"
   },
   {
    "duration": 12,
    "start_time": "2023-06-28T07:18:17.654Z"
   },
   {
    "duration": 115,
    "start_time": "2023-06-28T08:09:42.976Z"
   },
   {
    "duration": 106,
    "start_time": "2023-06-28T08:11:11.930Z"
   },
   {
    "duration": 115,
    "start_time": "2023-06-28T08:11:44.216Z"
   },
   {
    "duration": 114,
    "start_time": "2023-06-28T08:13:23.349Z"
   },
   {
    "duration": 141,
    "start_time": "2023-06-28T08:13:36.156Z"
   },
   {
    "duration": 109,
    "start_time": "2023-06-28T08:24:33.858Z"
   },
   {
    "duration": 82,
    "start_time": "2023-06-28T08:24:45.060Z"
   },
   {
    "duration": 2895,
    "start_time": "2023-06-28T08:32:32.111Z"
   },
   {
    "duration": 3014,
    "start_time": "2023-06-28T08:34:04.513Z"
   },
   {
    "duration": 17,
    "start_time": "2023-06-28T08:34:09.924Z"
   },
   {
    "duration": 6,
    "start_time": "2023-06-28T08:35:21.036Z"
   },
   {
    "duration": 17,
    "start_time": "2023-06-28T08:35:49.853Z"
   },
   {
    "duration": 112,
    "start_time": "2023-06-28T08:36:27.807Z"
   },
   {
    "duration": 2582,
    "start_time": "2023-06-28T09:05:16.140Z"
   },
   {
    "duration": 16,
    "start_time": "2023-06-28T09:06:02.138Z"
   },
   {
    "duration": 2307,
    "start_time": "2023-06-28T09:07:40.861Z"
   },
   {
    "duration": 19,
    "start_time": "2023-06-28T09:11:28.812Z"
   },
   {
    "duration": 27,
    "start_time": "2023-06-28T09:12:26.802Z"
   },
   {
    "duration": 1177,
    "start_time": "2023-06-28T09:12:53.844Z"
   },
   {
    "duration": 890,
    "start_time": "2023-06-28T09:12:55.024Z"
   },
   {
    "duration": 17,
    "start_time": "2023-06-28T09:12:55.918Z"
   },
   {
    "duration": 188,
    "start_time": "2023-06-28T09:12:55.937Z"
   },
   {
    "duration": 5,
    "start_time": "2023-06-28T09:12:56.127Z"
   },
   {
    "duration": 1081,
    "start_time": "2023-06-28T09:12:56.134Z"
   },
   {
    "duration": 574,
    "start_time": "2023-06-28T09:12:57.216Z"
   },
   {
    "duration": 49,
    "start_time": "2023-06-28T09:12:57.792Z"
   },
   {
    "duration": 112,
    "start_time": "2023-06-28T09:12:57.843Z"
   },
   {
    "duration": 80,
    "start_time": "2023-06-28T09:12:57.958Z"
   },
   {
    "duration": 55,
    "start_time": "2023-06-28T09:12:58.039Z"
   },
   {
    "duration": 110,
    "start_time": "2023-06-28T09:12:58.100Z"
   },
   {
    "duration": 2374,
    "start_time": "2023-06-28T09:12:58.213Z"
   },
   {
    "duration": 110,
    "start_time": "2023-06-28T09:13:00.589Z"
   },
   {
    "duration": 105,
    "start_time": "2023-06-28T09:13:00.706Z"
   },
   {
    "duration": 103,
    "start_time": "2023-06-28T09:13:00.813Z"
   },
   {
    "duration": 2279,
    "start_time": "2023-06-28T09:13:00.918Z"
   },
   {
    "duration": 26,
    "start_time": "2023-06-28T09:13:03.204Z"
   },
   {
    "duration": 572,
    "start_time": "2023-06-28T09:13:03.232Z"
   },
   {
    "duration": 19,
    "start_time": "2023-06-28T09:13:03.806Z"
   },
   {
    "duration": 35,
    "start_time": "2023-06-28T09:13:03.827Z"
   },
   {
    "duration": 166,
    "start_time": "2023-06-28T09:13:03.864Z"
   },
   {
    "duration": 12,
    "start_time": "2023-06-28T09:14:37.811Z"
   },
   {
    "duration": 3512,
    "start_time": "2023-06-28T09:14:56.902Z"
   },
   {
    "duration": 12,
    "start_time": "2023-06-28T09:15:39.233Z"
   },
   {
    "duration": 2697,
    "start_time": "2023-06-28T09:16:35.009Z"
   },
   {
    "duration": 23,
    "start_time": "2023-06-28T09:16:41.365Z"
   },
   {
    "duration": 14,
    "start_time": "2023-06-28T09:20:46.634Z"
   },
   {
    "duration": 8,
    "start_time": "2023-06-28T09:21:51.126Z"
   },
   {
    "duration": 2103,
    "start_time": "2023-06-28T09:23:16.687Z"
   },
   {
    "duration": 12,
    "start_time": "2023-06-28T09:23:21.327Z"
   },
   {
    "duration": 12,
    "start_time": "2023-06-28T09:23:24.286Z"
   },
   {
    "duration": 1145,
    "start_time": "2023-06-28T09:24:19.910Z"
   },
   {
    "duration": 797,
    "start_time": "2023-06-28T09:24:21.057Z"
   },
   {
    "duration": 27,
    "start_time": "2023-06-28T09:24:21.856Z"
   },
   {
    "duration": 285,
    "start_time": "2023-06-28T09:24:21.885Z"
   },
   {
    "duration": 4,
    "start_time": "2023-06-28T09:24:22.172Z"
   },
   {
    "duration": 834,
    "start_time": "2023-06-28T09:24:22.178Z"
   },
   {
    "duration": 503,
    "start_time": "2023-06-28T09:24:23.013Z"
   },
   {
    "duration": 44,
    "start_time": "2023-06-28T09:24:23.517Z"
   },
   {
    "duration": 97,
    "start_time": "2023-06-28T09:24:23.563Z"
   },
   {
    "duration": 69,
    "start_time": "2023-06-28T09:24:23.663Z"
   },
   {
    "duration": 55,
    "start_time": "2023-06-28T09:24:23.734Z"
   },
   {
    "duration": 101,
    "start_time": "2023-06-28T09:24:23.790Z"
   },
   {
    "duration": 2065,
    "start_time": "2023-06-28T09:24:23.893Z"
   },
   {
    "duration": 82,
    "start_time": "2023-06-28T09:24:25.960Z"
   },
   {
    "duration": 82,
    "start_time": "2023-06-28T09:24:26.044Z"
   },
   {
    "duration": 100,
    "start_time": "2023-06-28T09:24:26.128Z"
   },
   {
    "duration": 2014,
    "start_time": "2023-06-28T09:24:26.230Z"
   },
   {
    "duration": 12,
    "start_time": "2023-06-28T09:24:28.245Z"
   },
   {
    "duration": 452,
    "start_time": "2023-06-28T09:24:28.274Z"
   },
   {
    "duration": 12,
    "start_time": "2023-06-28T09:24:28.728Z"
   },
   {
    "duration": 18,
    "start_time": "2023-06-28T09:24:28.742Z"
   },
   {
    "duration": 107,
    "start_time": "2023-06-28T09:24:28.762Z"
   },
   {
    "duration": 15,
    "start_time": "2023-06-28T09:24:58.888Z"
   },
   {
    "duration": 2819,
    "start_time": "2023-06-28T09:26:10.608Z"
   },
   {
    "duration": 15,
    "start_time": "2023-06-28T09:26:19.651Z"
   },
   {
    "duration": 14,
    "start_time": "2023-06-28T09:26:23.572Z"
   },
   {
    "duration": 1091,
    "start_time": "2023-06-28T09:26:48.475Z"
   },
   {
    "duration": 766,
    "start_time": "2023-06-28T09:26:49.568Z"
   },
   {
    "duration": 16,
    "start_time": "2023-06-28T09:26:50.336Z"
   },
   {
    "duration": 138,
    "start_time": "2023-06-28T09:26:50.354Z"
   },
   {
    "duration": 4,
    "start_time": "2023-06-28T09:26:50.494Z"
   },
   {
    "duration": 790,
    "start_time": "2023-06-28T09:26:50.500Z"
   },
   {
    "duration": 487,
    "start_time": "2023-06-28T09:26:51.291Z"
   },
   {
    "duration": 45,
    "start_time": "2023-06-28T09:26:51.780Z"
   },
   {
    "duration": 90,
    "start_time": "2023-06-28T09:26:51.827Z"
   },
   {
    "duration": 80,
    "start_time": "2023-06-28T09:26:51.920Z"
   },
   {
    "duration": 45,
    "start_time": "2023-06-28T09:26:52.001Z"
   },
   {
    "duration": 102,
    "start_time": "2023-06-28T09:26:52.048Z"
   },
   {
    "duration": 2011,
    "start_time": "2023-06-28T09:26:52.152Z"
   },
   {
    "duration": 81,
    "start_time": "2023-06-28T09:26:54.165Z"
   },
   {
    "duration": 87,
    "start_time": "2023-06-28T09:26:54.248Z"
   },
   {
    "duration": 95,
    "start_time": "2023-06-28T09:26:54.337Z"
   },
   {
    "duration": 2694,
    "start_time": "2023-06-28T09:26:54.434Z"
   },
   {
    "duration": 15,
    "start_time": "2023-06-28T09:26:57.129Z"
   },
   {
    "duration": 484,
    "start_time": "2023-06-28T09:26:57.145Z"
   },
   {
    "duration": 12,
    "start_time": "2023-06-28T09:26:57.630Z"
   },
   {
    "duration": 13,
    "start_time": "2023-06-28T09:26:57.643Z"
   },
   {
    "duration": 102,
    "start_time": "2023-06-28T09:26:57.657Z"
   },
   {
    "duration": 12,
    "start_time": "2023-06-28T09:28:20.564Z"
   },
   {
    "duration": 442,
    "start_time": "2023-06-28T09:28:28.905Z"
   },
   {
    "duration": 449,
    "start_time": "2023-06-28T09:29:35.536Z"
   },
   {
    "duration": 1200,
    "start_time": "2023-06-28T09:29:46.569Z"
   },
   {
    "duration": 796,
    "start_time": "2023-06-28T09:29:47.771Z"
   },
   {
    "duration": 22,
    "start_time": "2023-06-28T09:29:48.568Z"
   },
   {
    "duration": 154,
    "start_time": "2023-06-28T09:29:48.592Z"
   },
   {
    "duration": 4,
    "start_time": "2023-06-28T09:29:48.748Z"
   },
   {
    "duration": 821,
    "start_time": "2023-06-28T09:29:48.754Z"
   },
   {
    "duration": 475,
    "start_time": "2023-06-28T09:29:49.576Z"
   },
   {
    "duration": 48,
    "start_time": "2023-06-28T09:29:50.052Z"
   },
   {
    "duration": 92,
    "start_time": "2023-06-28T09:29:50.101Z"
   },
   {
    "duration": 81,
    "start_time": "2023-06-28T09:29:50.195Z"
   },
   {
    "duration": 46,
    "start_time": "2023-06-28T09:29:50.278Z"
   },
   {
    "duration": 99,
    "start_time": "2023-06-28T09:29:50.325Z"
   },
   {
    "duration": 85,
    "start_time": "2023-06-28T09:29:50.425Z"
   },
   {
    "duration": 33,
    "start_time": "2023-06-28T09:29:50.511Z"
   },
   {
    "duration": 2890,
    "start_time": "2023-06-28T09:29:50.546Z"
   },
   {
    "duration": 15,
    "start_time": "2023-06-28T09:29:53.437Z"
   },
   {
    "duration": 442,
    "start_time": "2023-06-28T09:29:53.453Z"
   },
   {
    "duration": 15,
    "start_time": "2023-06-28T09:29:53.897Z"
   },
   {
    "duration": 20,
    "start_time": "2023-06-28T09:29:53.914Z"
   },
   {
    "duration": 101,
    "start_time": "2023-06-28T09:29:53.936Z"
   },
   {
    "duration": 8,
    "start_time": "2023-06-28T09:33:32.075Z"
   },
   {
    "duration": 31,
    "start_time": "2023-06-28T09:33:44.011Z"
   },
   {
    "duration": 19,
    "start_time": "2023-06-28T09:33:50.800Z"
   },
   {
    "duration": 35,
    "start_time": "2023-06-28T09:34:39.010Z"
   },
   {
    "duration": 1073,
    "start_time": "2023-06-28T09:36:56.212Z"
   },
   {
    "duration": 774,
    "start_time": "2023-06-28T09:36:57.287Z"
   },
   {
    "duration": 21,
    "start_time": "2023-06-28T09:36:58.062Z"
   },
   {
    "duration": 133,
    "start_time": "2023-06-28T09:36:58.084Z"
   },
   {
    "duration": 4,
    "start_time": "2023-06-28T09:36:58.219Z"
   },
   {
    "duration": 776,
    "start_time": "2023-06-28T09:36:58.225Z"
   },
   {
    "duration": 476,
    "start_time": "2023-06-28T09:36:59.003Z"
   },
   {
    "duration": 41,
    "start_time": "2023-06-28T09:36:59.481Z"
   },
   {
    "duration": 93,
    "start_time": "2023-06-28T09:36:59.523Z"
   },
   {
    "duration": 70,
    "start_time": "2023-06-28T09:36:59.618Z"
   },
   {
    "duration": 42,
    "start_time": "2023-06-28T09:36:59.690Z"
   },
   {
    "duration": 89,
    "start_time": "2023-06-28T09:36:59.734Z"
   },
   {
    "duration": 80,
    "start_time": "2023-06-28T09:36:59.825Z"
   },
   {
    "duration": 4,
    "start_time": "2023-06-28T09:36:59.908Z"
   },
   {
    "duration": 47,
    "start_time": "2023-06-28T09:36:59.913Z"
   },
   {
    "duration": 33,
    "start_time": "2023-06-28T09:36:59.962Z"
   },
   {
    "duration": 2711,
    "start_time": "2023-06-28T09:36:59.997Z"
   },
   {
    "duration": 11,
    "start_time": "2023-06-28T09:37:02.710Z"
   },
   {
    "duration": 399,
    "start_time": "2023-06-28T09:37:02.723Z"
   },
   {
    "duration": 14,
    "start_time": "2023-06-28T09:37:03.124Z"
   },
   {
    "duration": 116,
    "start_time": "2023-06-28T09:37:03.140Z"
   },
   {
    "duration": 19,
    "start_time": "2023-06-28T09:51:18.685Z"
   },
   {
    "duration": 17,
    "start_time": "2023-06-28T09:57:47.181Z"
   },
   {
    "duration": 18,
    "start_time": "2023-06-28T09:58:02.448Z"
   },
   {
    "duration": 1173,
    "start_time": "2023-06-28T09:58:49.902Z"
   },
   {
    "duration": 810,
    "start_time": "2023-06-28T09:58:51.077Z"
   },
   {
    "duration": 19,
    "start_time": "2023-06-28T09:58:51.889Z"
   },
   {
    "duration": 145,
    "start_time": "2023-06-28T09:58:51.909Z"
   },
   {
    "duration": 4,
    "start_time": "2023-06-28T09:58:52.057Z"
   },
   {
    "duration": 866,
    "start_time": "2023-06-28T09:58:52.062Z"
   },
   {
    "duration": 536,
    "start_time": "2023-06-28T09:58:52.929Z"
   },
   {
    "duration": 50,
    "start_time": "2023-06-28T09:58:53.467Z"
   },
   {
    "duration": 95,
    "start_time": "2023-06-28T09:58:53.519Z"
   },
   {
    "duration": 88,
    "start_time": "2023-06-28T09:58:53.615Z"
   },
   {
    "duration": 47,
    "start_time": "2023-06-28T09:58:53.705Z"
   },
   {
    "duration": 33,
    "start_time": "2023-06-28T09:58:53.754Z"
   },
   {
    "duration": 15,
    "start_time": "2023-06-28T09:58:53.789Z"
   },
   {
    "duration": 105,
    "start_time": "2023-06-28T09:58:53.807Z"
   },
   {
    "duration": 5,
    "start_time": "2023-06-28T09:58:53.914Z"
   },
   {
    "duration": 27,
    "start_time": "2023-06-28T09:58:53.921Z"
   },
   {
    "duration": 64,
    "start_time": "2023-06-28T09:58:53.949Z"
   },
   {
    "duration": 2891,
    "start_time": "2023-06-28T09:58:54.015Z"
   },
   {
    "duration": 12,
    "start_time": "2023-06-28T09:58:56.908Z"
   },
   {
    "duration": 455,
    "start_time": "2023-06-28T09:58:56.922Z"
   },
   {
    "duration": 15,
    "start_time": "2023-06-28T09:58:57.379Z"
   },
   {
    "duration": 172,
    "start_time": "2023-06-28T09:58:57.396Z"
   },
   {
    "duration": 18,
    "start_time": "2023-06-28T09:59:16.388Z"
   },
   {
    "duration": 17,
    "start_time": "2023-06-28T09:59:39.136Z"
   },
   {
    "duration": 1164,
    "start_time": "2023-06-28T10:01:03.116Z"
   },
   {
    "duration": 822,
    "start_time": "2023-06-28T10:01:04.282Z"
   },
   {
    "duration": 18,
    "start_time": "2023-06-28T10:01:05.106Z"
   },
   {
    "duration": 152,
    "start_time": "2023-06-28T10:01:05.126Z"
   },
   {
    "duration": 5,
    "start_time": "2023-06-28T10:01:05.281Z"
   },
   {
    "duration": 866,
    "start_time": "2023-06-28T10:01:05.287Z"
   },
   {
    "duration": 574,
    "start_time": "2023-06-28T10:01:06.155Z"
   },
   {
    "duration": 49,
    "start_time": "2023-06-28T10:01:06.731Z"
   },
   {
    "duration": 179,
    "start_time": "2023-06-28T10:01:06.781Z"
   },
   {
    "duration": 117,
    "start_time": "2023-06-28T10:01:06.962Z"
   },
   {
    "duration": 53,
    "start_time": "2023-06-28T10:01:07.081Z"
   },
   {
    "duration": 123,
    "start_time": "2023-06-28T10:01:07.136Z"
   },
   {
    "duration": 0,
    "start_time": "2023-06-28T10:01:07.262Z"
   },
   {
    "duration": 0,
    "start_time": "2023-06-28T10:01:07.263Z"
   },
   {
    "duration": 0,
    "start_time": "2023-06-28T10:01:07.264Z"
   },
   {
    "duration": 0,
    "start_time": "2023-06-28T10:01:07.275Z"
   },
   {
    "duration": 0,
    "start_time": "2023-06-28T10:01:07.276Z"
   },
   {
    "duration": 0,
    "start_time": "2023-06-28T10:01:07.278Z"
   },
   {
    "duration": 0,
    "start_time": "2023-06-28T10:01:07.279Z"
   },
   {
    "duration": 0,
    "start_time": "2023-06-28T10:01:07.280Z"
   },
   {
    "duration": 0,
    "start_time": "2023-06-28T10:01:07.282Z"
   },
   {
    "duration": 0,
    "start_time": "2023-06-28T10:01:07.283Z"
   },
   {
    "duration": 8,
    "start_time": "2023-06-28T10:01:51.490Z"
   },
   {
    "duration": 1591,
    "start_time": "2023-06-28T10:03:07.015Z"
   },
   {
    "duration": 860,
    "start_time": "2023-06-28T10:03:08.608Z"
   },
   {
    "duration": 37,
    "start_time": "2023-06-28T10:03:09.470Z"
   },
   {
    "duration": 179,
    "start_time": "2023-06-28T10:03:09.509Z"
   },
   {
    "duration": 6,
    "start_time": "2023-06-28T10:03:09.698Z"
   },
   {
    "duration": 919,
    "start_time": "2023-06-28T10:03:09.706Z"
   },
   {
    "duration": 531,
    "start_time": "2023-06-28T10:03:10.626Z"
   },
   {
    "duration": 52,
    "start_time": "2023-06-28T10:03:11.159Z"
   },
   {
    "duration": 109,
    "start_time": "2023-06-28T10:03:11.214Z"
   },
   {
    "duration": 85,
    "start_time": "2023-06-28T10:03:11.325Z"
   },
   {
    "duration": 49,
    "start_time": "2023-06-28T10:03:11.412Z"
   },
   {
    "duration": 120,
    "start_time": "2023-06-28T10:03:11.463Z"
   },
   {
    "duration": 0,
    "start_time": "2023-06-28T10:03:11.587Z"
   },
   {
    "duration": 0,
    "start_time": "2023-06-28T10:03:11.589Z"
   },
   {
    "duration": 0,
    "start_time": "2023-06-28T10:03:11.590Z"
   },
   {
    "duration": 0,
    "start_time": "2023-06-28T10:03:11.590Z"
   },
   {
    "duration": 0,
    "start_time": "2023-06-28T10:03:11.591Z"
   },
   {
    "duration": 0,
    "start_time": "2023-06-28T10:03:11.592Z"
   },
   {
    "duration": 0,
    "start_time": "2023-06-28T10:03:11.593Z"
   },
   {
    "duration": 0,
    "start_time": "2023-06-28T10:03:11.594Z"
   },
   {
    "duration": 0,
    "start_time": "2023-06-28T10:03:11.595Z"
   },
   {
    "duration": 0,
    "start_time": "2023-06-28T10:03:11.597Z"
   },
   {
    "duration": 10,
    "start_time": "2023-06-28T10:03:27.448Z"
   },
   {
    "duration": 15,
    "start_time": "2023-06-28T10:03:52.968Z"
   },
   {
    "duration": 10,
    "start_time": "2023-06-28T10:04:01.611Z"
   },
   {
    "duration": 9,
    "start_time": "2023-06-28T10:10:20.008Z"
   },
   {
    "duration": 10,
    "start_time": "2023-06-28T10:11:56.527Z"
   },
   {
    "duration": 8,
    "start_time": "2023-06-28T10:12:03.522Z"
   },
   {
    "duration": 1122,
    "start_time": "2023-06-28T10:12:54.248Z"
   },
   {
    "duration": 822,
    "start_time": "2023-06-28T10:12:55.374Z"
   },
   {
    "duration": 17,
    "start_time": "2023-06-28T10:12:56.198Z"
   },
   {
    "duration": 162,
    "start_time": "2023-06-28T10:12:56.216Z"
   },
   {
    "duration": 14,
    "start_time": "2023-06-28T10:12:56.380Z"
   },
   {
    "duration": 878,
    "start_time": "2023-06-28T10:12:56.399Z"
   },
   {
    "duration": 527,
    "start_time": "2023-06-28T10:12:57.279Z"
   },
   {
    "duration": 42,
    "start_time": "2023-06-28T10:12:57.808Z"
   },
   {
    "duration": 100,
    "start_time": "2023-06-28T10:12:57.854Z"
   },
   {
    "duration": 75,
    "start_time": "2023-06-28T10:12:57.957Z"
   },
   {
    "duration": 65,
    "start_time": "2023-06-28T10:12:58.033Z"
   },
   {
    "duration": 120,
    "start_time": "2023-06-28T10:12:58.100Z"
   },
   {
    "duration": 0,
    "start_time": "2023-06-28T10:12:58.222Z"
   },
   {
    "duration": 0,
    "start_time": "2023-06-28T10:12:58.224Z"
   },
   {
    "duration": 0,
    "start_time": "2023-06-28T10:12:58.225Z"
   },
   {
    "duration": 0,
    "start_time": "2023-06-28T10:12:58.226Z"
   },
   {
    "duration": 0,
    "start_time": "2023-06-28T10:12:58.228Z"
   },
   {
    "duration": 0,
    "start_time": "2023-06-28T10:12:58.228Z"
   },
   {
    "duration": 0,
    "start_time": "2023-06-28T10:12:58.230Z"
   },
   {
    "duration": 0,
    "start_time": "2023-06-28T10:12:58.231Z"
   },
   {
    "duration": 0,
    "start_time": "2023-06-28T10:12:58.232Z"
   },
   {
    "duration": 0,
    "start_time": "2023-06-28T10:12:58.233Z"
   },
   {
    "duration": 10,
    "start_time": "2023-06-28T10:15:33.211Z"
   },
   {
    "duration": 104,
    "start_time": "2023-06-28T10:15:42.684Z"
   },
   {
    "duration": 78,
    "start_time": "2023-06-28T10:15:54.382Z"
   },
   {
    "duration": 9,
    "start_time": "2023-06-28T10:16:05.695Z"
   },
   {
    "duration": 8,
    "start_time": "2023-06-28T10:16:14.344Z"
   },
   {
    "duration": 9,
    "start_time": "2023-06-28T10:18:11.804Z"
   },
   {
    "duration": 10,
    "start_time": "2023-06-28T10:22:15.054Z"
   },
   {
    "duration": 10,
    "start_time": "2023-06-28T10:23:52.783Z"
   },
   {
    "duration": 1201,
    "start_time": "2023-06-28T10:24:28.207Z"
   },
   {
    "duration": 820,
    "start_time": "2023-06-28T10:24:29.410Z"
   },
   {
    "duration": 20,
    "start_time": "2023-06-28T10:24:30.232Z"
   },
   {
    "duration": 181,
    "start_time": "2023-06-28T10:24:30.254Z"
   },
   {
    "duration": 9,
    "start_time": "2023-06-28T10:24:30.437Z"
   },
   {
    "duration": 967,
    "start_time": "2023-06-28T10:24:30.448Z"
   },
   {
    "duration": 558,
    "start_time": "2023-06-28T10:24:31.417Z"
   },
   {
    "duration": 49,
    "start_time": "2023-06-28T10:24:31.978Z"
   },
   {
    "duration": 117,
    "start_time": "2023-06-28T10:24:32.029Z"
   },
   {
    "duration": 90,
    "start_time": "2023-06-28T10:24:32.148Z"
   },
   {
    "duration": 72,
    "start_time": "2023-06-28T10:24:32.239Z"
   },
   {
    "duration": 120,
    "start_time": "2023-06-28T10:24:32.312Z"
   },
   {
    "duration": 0,
    "start_time": "2023-06-28T10:24:32.434Z"
   },
   {
    "duration": 0,
    "start_time": "2023-06-28T10:24:32.435Z"
   },
   {
    "duration": 0,
    "start_time": "2023-06-28T10:24:32.437Z"
   },
   {
    "duration": 0,
    "start_time": "2023-06-28T10:24:32.438Z"
   },
   {
    "duration": 0,
    "start_time": "2023-06-28T10:24:32.440Z"
   },
   {
    "duration": 0,
    "start_time": "2023-06-28T10:24:32.441Z"
   },
   {
    "duration": 0,
    "start_time": "2023-06-28T10:24:32.442Z"
   },
   {
    "duration": 0,
    "start_time": "2023-06-28T10:24:32.443Z"
   },
   {
    "duration": 0,
    "start_time": "2023-06-28T10:24:32.445Z"
   },
   {
    "duration": 0,
    "start_time": "2023-06-28T10:24:32.446Z"
   },
   {
    "duration": 0,
    "start_time": "2023-06-28T10:24:32.447Z"
   },
   {
    "duration": 8,
    "start_time": "2023-06-28T10:25:11.040Z"
   },
   {
    "duration": 8,
    "start_time": "2023-06-28T10:25:23.561Z"
   },
   {
    "duration": 1211,
    "start_time": "2023-06-28T10:25:38.405Z"
   },
   {
    "duration": 912,
    "start_time": "2023-06-28T10:25:39.618Z"
   },
   {
    "duration": 20,
    "start_time": "2023-06-28T10:25:40.532Z"
   },
   {
    "duration": 179,
    "start_time": "2023-06-28T10:25:40.553Z"
   },
   {
    "duration": 4,
    "start_time": "2023-06-28T10:25:40.734Z"
   },
   {
    "duration": 985,
    "start_time": "2023-06-28T10:25:40.739Z"
   },
   {
    "duration": 649,
    "start_time": "2023-06-28T10:25:41.726Z"
   },
   {
    "duration": 58,
    "start_time": "2023-06-28T10:25:42.378Z"
   },
   {
    "duration": 121,
    "start_time": "2023-06-28T10:25:42.438Z"
   },
   {
    "duration": 91,
    "start_time": "2023-06-28T10:25:42.561Z"
   },
   {
    "duration": 62,
    "start_time": "2023-06-28T10:25:42.654Z"
   },
   {
    "duration": 118,
    "start_time": "2023-06-28T10:25:42.717Z"
   },
   {
    "duration": 0,
    "start_time": "2023-06-28T10:25:42.837Z"
   },
   {
    "duration": 0,
    "start_time": "2023-06-28T10:25:42.838Z"
   },
   {
    "duration": 0,
    "start_time": "2023-06-28T10:25:42.839Z"
   },
   {
    "duration": 0,
    "start_time": "2023-06-28T10:25:42.840Z"
   },
   {
    "duration": 0,
    "start_time": "2023-06-28T10:25:42.841Z"
   },
   {
    "duration": 0,
    "start_time": "2023-06-28T10:25:42.843Z"
   },
   {
    "duration": 0,
    "start_time": "2023-06-28T10:25:42.844Z"
   },
   {
    "duration": 0,
    "start_time": "2023-06-28T10:25:42.845Z"
   },
   {
    "duration": 0,
    "start_time": "2023-06-28T10:25:42.846Z"
   },
   {
    "duration": 0,
    "start_time": "2023-06-28T10:25:42.847Z"
   },
   {
    "duration": 0,
    "start_time": "2023-06-28T10:25:42.848Z"
   },
   {
    "duration": 9,
    "start_time": "2023-06-28T10:26:59.008Z"
   },
   {
    "duration": 1224,
    "start_time": "2023-06-28T10:27:30.064Z"
   },
   {
    "duration": 849,
    "start_time": "2023-06-28T10:27:31.290Z"
   },
   {
    "duration": 16,
    "start_time": "2023-06-28T10:27:32.141Z"
   },
   {
    "duration": 150,
    "start_time": "2023-06-28T10:27:32.159Z"
   },
   {
    "duration": 5,
    "start_time": "2023-06-28T10:27:32.311Z"
   },
   {
    "duration": 942,
    "start_time": "2023-06-28T10:27:32.318Z"
   },
   {
    "duration": 649,
    "start_time": "2023-06-28T10:27:33.261Z"
   },
   {
    "duration": 71,
    "start_time": "2023-06-28T10:27:33.912Z"
   },
   {
    "duration": 113,
    "start_time": "2023-06-28T10:27:33.986Z"
   },
   {
    "duration": 93,
    "start_time": "2023-06-28T10:27:34.102Z"
   },
   {
    "duration": 44,
    "start_time": "2023-06-28T10:27:34.197Z"
   },
   {
    "duration": 130,
    "start_time": "2023-06-28T10:27:34.243Z"
   },
   {
    "duration": 0,
    "start_time": "2023-06-28T10:27:34.376Z"
   },
   {
    "duration": 0,
    "start_time": "2023-06-28T10:27:34.380Z"
   },
   {
    "duration": 0,
    "start_time": "2023-06-28T10:27:34.382Z"
   },
   {
    "duration": 0,
    "start_time": "2023-06-28T10:27:34.384Z"
   },
   {
    "duration": 0,
    "start_time": "2023-06-28T10:27:34.386Z"
   },
   {
    "duration": 0,
    "start_time": "2023-06-28T10:27:34.388Z"
   },
   {
    "duration": 0,
    "start_time": "2023-06-28T10:27:34.390Z"
   },
   {
    "duration": 0,
    "start_time": "2023-06-28T10:27:34.391Z"
   },
   {
    "duration": 0,
    "start_time": "2023-06-28T10:27:34.392Z"
   },
   {
    "duration": 0,
    "start_time": "2023-06-28T10:27:34.394Z"
   },
   {
    "duration": 0,
    "start_time": "2023-06-28T10:27:34.395Z"
   },
   {
    "duration": 9,
    "start_time": "2023-06-28T10:27:46.343Z"
   },
   {
    "duration": 9,
    "start_time": "2023-06-28T10:28:32.926Z"
   },
   {
    "duration": 10,
    "start_time": "2023-06-28T10:28:51.403Z"
   },
   {
    "duration": 14,
    "start_time": "2023-06-28T10:29:08.791Z"
   },
   {
    "duration": 10,
    "start_time": "2023-06-28T10:29:43.132Z"
   },
   {
    "duration": 8,
    "start_time": "2023-06-28T10:30:28.428Z"
   },
   {
    "duration": 12,
    "start_time": "2023-06-28T10:30:43.955Z"
   },
   {
    "duration": 9,
    "start_time": "2023-06-28T10:33:53.939Z"
   },
   {
    "duration": 9,
    "start_time": "2023-06-28T10:44:55.745Z"
   },
   {
    "duration": 9,
    "start_time": "2023-06-28T10:51:03.475Z"
   },
   {
    "duration": 9,
    "start_time": "2023-06-28T10:52:39.016Z"
   },
   {
    "duration": 8,
    "start_time": "2023-06-28T10:53:10.945Z"
   },
   {
    "duration": 1139,
    "start_time": "2023-06-28T10:53:33.837Z"
   },
   {
    "duration": 827,
    "start_time": "2023-06-28T10:53:34.978Z"
   },
   {
    "duration": 19,
    "start_time": "2023-06-28T10:53:35.807Z"
   },
   {
    "duration": 148,
    "start_time": "2023-06-28T10:53:35.828Z"
   },
   {
    "duration": 5,
    "start_time": "2023-06-28T10:53:35.977Z"
   },
   {
    "duration": 893,
    "start_time": "2023-06-28T10:53:35.983Z"
   },
   {
    "duration": 540,
    "start_time": "2023-06-28T10:53:36.877Z"
   },
   {
    "duration": 48,
    "start_time": "2023-06-28T10:53:37.419Z"
   },
   {
    "duration": 81,
    "start_time": "2023-06-28T10:53:37.475Z"
   },
   {
    "duration": 74,
    "start_time": "2023-06-28T10:53:37.558Z"
   },
   {
    "duration": 63,
    "start_time": "2023-06-28T10:53:37.634Z"
   },
   {
    "duration": 2,
    "start_time": "2023-06-28T10:53:37.699Z"
   },
   {
    "duration": 103,
    "start_time": "2023-06-28T10:53:37.703Z"
   },
   {
    "duration": 0,
    "start_time": "2023-06-28T10:53:37.807Z"
   },
   {
    "duration": 0,
    "start_time": "2023-06-28T10:53:37.808Z"
   },
   {
    "duration": 0,
    "start_time": "2023-06-28T10:53:37.809Z"
   },
   {
    "duration": 0,
    "start_time": "2023-06-28T10:53:37.810Z"
   },
   {
    "duration": 0,
    "start_time": "2023-06-28T10:53:37.810Z"
   },
   {
    "duration": 0,
    "start_time": "2023-06-28T10:53:37.811Z"
   },
   {
    "duration": 0,
    "start_time": "2023-06-28T10:53:37.812Z"
   },
   {
    "duration": 0,
    "start_time": "2023-06-28T10:53:37.813Z"
   },
   {
    "duration": 0,
    "start_time": "2023-06-28T10:53:37.814Z"
   },
   {
    "duration": 9,
    "start_time": "2023-06-28T10:53:52.324Z"
   },
   {
    "duration": 8,
    "start_time": "2023-06-28T10:53:55.369Z"
   },
   {
    "duration": 1203,
    "start_time": "2023-06-28T10:54:04.664Z"
   },
   {
    "duration": 847,
    "start_time": "2023-06-28T10:54:05.869Z"
   },
   {
    "duration": 17,
    "start_time": "2023-06-28T10:54:06.718Z"
   },
   {
    "duration": 145,
    "start_time": "2023-06-28T10:54:06.737Z"
   },
   {
    "duration": 11,
    "start_time": "2023-06-28T10:54:06.884Z"
   },
   {
    "duration": 858,
    "start_time": "2023-06-28T10:54:06.897Z"
   },
   {
    "duration": 519,
    "start_time": "2023-06-28T10:54:07.757Z"
   },
   {
    "duration": 51,
    "start_time": "2023-06-28T10:54:08.278Z"
   },
   {
    "duration": 170,
    "start_time": "2023-06-28T10:54:08.330Z"
   },
   {
    "duration": 73,
    "start_time": "2023-06-28T10:54:08.503Z"
   },
   {
    "duration": 52,
    "start_time": "2023-06-28T10:54:08.578Z"
   },
   {
    "duration": 2,
    "start_time": "2023-06-28T10:54:08.632Z"
   },
   {
    "duration": 25,
    "start_time": "2023-06-28T10:54:08.635Z"
   },
   {
    "duration": 115,
    "start_time": "2023-06-28T10:54:08.661Z"
   },
   {
    "duration": 0,
    "start_time": "2023-06-28T10:54:08.777Z"
   },
   {
    "duration": 0,
    "start_time": "2023-06-28T10:54:08.778Z"
   },
   {
    "duration": 0,
    "start_time": "2023-06-28T10:54:08.779Z"
   },
   {
    "duration": 0,
    "start_time": "2023-06-28T10:54:08.780Z"
   },
   {
    "duration": 0,
    "start_time": "2023-06-28T10:54:08.781Z"
   },
   {
    "duration": 0,
    "start_time": "2023-06-28T10:54:08.783Z"
   },
   {
    "duration": 0,
    "start_time": "2023-06-28T10:54:08.784Z"
   },
   {
    "duration": 0,
    "start_time": "2023-06-28T10:54:08.785Z"
   },
   {
    "duration": 1403,
    "start_time": "2023-06-28T10:55:55.276Z"
   },
   {
    "duration": 894,
    "start_time": "2023-06-28T10:55:56.682Z"
   },
   {
    "duration": 20,
    "start_time": "2023-06-28T10:55:57.577Z"
   },
   {
    "duration": 158,
    "start_time": "2023-06-28T10:55:57.599Z"
   },
   {
    "duration": 5,
    "start_time": "2023-06-28T10:55:57.760Z"
   },
   {
    "duration": 946,
    "start_time": "2023-06-28T10:55:57.766Z"
   },
   {
    "duration": 549,
    "start_time": "2023-06-28T10:55:58.714Z"
   },
   {
    "duration": 52,
    "start_time": "2023-06-28T10:55:59.264Z"
   },
   {
    "duration": 130,
    "start_time": "2023-06-28T10:55:59.318Z"
   },
   {
    "duration": 81,
    "start_time": "2023-06-28T10:55:59.450Z"
   },
   {
    "duration": 64,
    "start_time": "2023-06-28T10:55:59.532Z"
   },
   {
    "duration": 3,
    "start_time": "2023-06-28T10:55:59.598Z"
   },
   {
    "duration": 12,
    "start_time": "2023-06-28T10:55:59.602Z"
   },
   {
    "duration": 108,
    "start_time": "2023-06-28T10:55:59.617Z"
   },
   {
    "duration": 0,
    "start_time": "2023-06-28T10:55:59.727Z"
   },
   {
    "duration": 0,
    "start_time": "2023-06-28T10:55:59.728Z"
   },
   {
    "duration": 0,
    "start_time": "2023-06-28T10:55:59.729Z"
   },
   {
    "duration": 0,
    "start_time": "2023-06-28T10:55:59.731Z"
   },
   {
    "duration": 0,
    "start_time": "2023-06-28T10:55:59.732Z"
   },
   {
    "duration": 0,
    "start_time": "2023-06-28T10:55:59.733Z"
   },
   {
    "duration": 0,
    "start_time": "2023-06-28T10:55:59.735Z"
   },
   {
    "duration": 0,
    "start_time": "2023-06-28T10:55:59.737Z"
   },
   {
    "duration": 12,
    "start_time": "2023-06-28T10:57:56.256Z"
   },
   {
    "duration": 1147,
    "start_time": "2023-06-28T10:58:14.230Z"
   },
   {
    "duration": 939,
    "start_time": "2023-06-28T10:58:15.893Z"
   },
   {
    "duration": 18,
    "start_time": "2023-06-28T10:58:17.159Z"
   },
   {
    "duration": 135,
    "start_time": "2023-06-28T10:58:18.763Z"
   },
   {
    "duration": 4,
    "start_time": "2023-06-28T10:58:20.662Z"
   },
   {
    "duration": 900,
    "start_time": "2023-06-28T10:58:22.954Z"
   },
   {
    "duration": 49,
    "start_time": "2023-06-28T10:58:27.089Z"
   },
   {
    "duration": 95,
    "start_time": "2023-06-28T10:58:30.097Z"
   },
   {
    "duration": 73,
    "start_time": "2023-06-28T10:58:32.660Z"
   },
   {
    "duration": 60,
    "start_time": "2023-06-28T10:58:36.265Z"
   },
   {
    "duration": 99,
    "start_time": "2023-06-28T10:59:24.662Z"
   },
   {
    "duration": 9,
    "start_time": "2023-06-28T10:59:53.711Z"
   },
   {
    "duration": 1212,
    "start_time": "2023-06-28T13:00:26.186Z"
   },
   {
    "duration": 810,
    "start_time": "2023-06-28T13:00:27.401Z"
   },
   {
    "duration": 17,
    "start_time": "2023-06-28T13:00:28.213Z"
   },
   {
    "duration": 145,
    "start_time": "2023-06-28T13:00:28.231Z"
   },
   {
    "duration": 17,
    "start_time": "2023-06-28T13:00:28.378Z"
   },
   {
    "duration": 807,
    "start_time": "2023-06-28T13:00:28.397Z"
   },
   {
    "duration": 498,
    "start_time": "2023-06-28T13:00:29.205Z"
   },
   {
    "duration": 46,
    "start_time": "2023-06-28T13:00:29.704Z"
   },
   {
    "duration": 95,
    "start_time": "2023-06-28T13:00:29.752Z"
   },
   {
    "duration": 83,
    "start_time": "2023-06-28T13:00:29.849Z"
   },
   {
    "duration": 66,
    "start_time": "2023-06-28T13:00:29.934Z"
   },
   {
    "duration": 106,
    "start_time": "2023-06-28T13:00:30.002Z"
   },
   {
    "duration": 0,
    "start_time": "2023-06-28T13:00:30.110Z"
   },
   {
    "duration": 0,
    "start_time": "2023-06-28T13:00:30.111Z"
   },
   {
    "duration": 0,
    "start_time": "2023-06-28T13:00:30.113Z"
   },
   {
    "duration": 0,
    "start_time": "2023-06-28T13:00:30.114Z"
   },
   {
    "duration": 0,
    "start_time": "2023-06-28T13:00:30.115Z"
   },
   {
    "duration": 0,
    "start_time": "2023-06-28T13:00:30.116Z"
   },
   {
    "duration": 0,
    "start_time": "2023-06-28T13:00:30.117Z"
   },
   {
    "duration": 0,
    "start_time": "2023-06-28T13:00:30.118Z"
   },
   {
    "duration": 0,
    "start_time": "2023-06-28T13:00:30.120Z"
   },
   {
    "duration": 0,
    "start_time": "2023-06-28T13:00:30.120Z"
   },
   {
    "duration": 1189,
    "start_time": "2023-06-28T13:02:00.817Z"
   },
   {
    "duration": 877,
    "start_time": "2023-06-28T13:02:02.008Z"
   },
   {
    "duration": 18,
    "start_time": "2023-06-28T13:02:02.886Z"
   },
   {
    "duration": 144,
    "start_time": "2023-06-28T13:02:02.906Z"
   },
   {
    "duration": 4,
    "start_time": "2023-06-28T13:02:03.052Z"
   },
   {
    "duration": 939,
    "start_time": "2023-06-28T13:02:03.058Z"
   },
   {
    "duration": 537,
    "start_time": "2023-06-28T13:02:03.999Z"
   },
   {
    "duration": 56,
    "start_time": "2023-06-28T13:02:04.538Z"
   },
   {
    "duration": 104,
    "start_time": "2023-06-28T13:02:04.596Z"
   },
   {
    "duration": 82,
    "start_time": "2023-06-28T13:02:04.704Z"
   },
   {
    "duration": 51,
    "start_time": "2023-06-28T13:02:04.787Z"
   },
   {
    "duration": 114,
    "start_time": "2023-06-28T13:02:04.840Z"
   },
   {
    "duration": 0,
    "start_time": "2023-06-28T13:02:04.956Z"
   },
   {
    "duration": 0,
    "start_time": "2023-06-28T13:02:04.957Z"
   },
   {
    "duration": 0,
    "start_time": "2023-06-28T13:02:04.959Z"
   },
   {
    "duration": 0,
    "start_time": "2023-06-28T13:02:04.961Z"
   },
   {
    "duration": 0,
    "start_time": "2023-06-28T13:02:04.975Z"
   },
   {
    "duration": 0,
    "start_time": "2023-06-28T13:02:04.977Z"
   },
   {
    "duration": 0,
    "start_time": "2023-06-28T13:02:04.978Z"
   },
   {
    "duration": 0,
    "start_time": "2023-06-28T13:02:04.979Z"
   },
   {
    "duration": 0,
    "start_time": "2023-06-28T13:02:04.981Z"
   },
   {
    "duration": 0,
    "start_time": "2023-06-28T13:02:04.983Z"
   },
   {
    "duration": 9,
    "start_time": "2023-06-28T13:02:25.105Z"
   },
   {
    "duration": 18,
    "start_time": "2023-06-28T13:06:14.968Z"
   },
   {
    "duration": 0,
    "start_time": "2023-06-28T13:06:42.006Z"
   },
   {
    "duration": 0,
    "start_time": "2023-06-28T13:06:42.007Z"
   },
   {
    "duration": 0,
    "start_time": "2023-06-28T13:06:42.008Z"
   },
   {
    "duration": 0,
    "start_time": "2023-06-28T13:06:42.010Z"
   },
   {
    "duration": 0,
    "start_time": "2023-06-28T13:06:42.011Z"
   },
   {
    "duration": 0,
    "start_time": "2023-06-28T13:06:42.013Z"
   },
   {
    "duration": 0,
    "start_time": "2023-06-28T13:06:42.014Z"
   },
   {
    "duration": 0,
    "start_time": "2023-06-28T13:06:42.015Z"
   },
   {
    "duration": 0,
    "start_time": "2023-06-28T13:06:42.017Z"
   },
   {
    "duration": 0,
    "start_time": "2023-06-28T13:06:42.018Z"
   },
   {
    "duration": 0,
    "start_time": "2023-06-28T13:06:42.020Z"
   },
   {
    "duration": 0,
    "start_time": "2023-06-28T13:06:42.022Z"
   },
   {
    "duration": 0,
    "start_time": "2023-06-28T13:06:42.023Z"
   },
   {
    "duration": 0,
    "start_time": "2023-06-28T13:06:42.025Z"
   },
   {
    "duration": 0,
    "start_time": "2023-06-28T13:06:42.026Z"
   },
   {
    "duration": 0,
    "start_time": "2023-06-28T13:06:42.028Z"
   },
   {
    "duration": 0,
    "start_time": "2023-06-28T13:06:42.029Z"
   },
   {
    "duration": 0,
    "start_time": "2023-06-28T13:06:42.031Z"
   },
   {
    "duration": 0,
    "start_time": "2023-06-28T13:06:42.032Z"
   },
   {
    "duration": 0,
    "start_time": "2023-06-28T13:06:42.033Z"
   },
   {
    "duration": 0,
    "start_time": "2023-06-28T13:06:42.075Z"
   },
   {
    "duration": 0,
    "start_time": "2023-06-28T13:06:42.076Z"
   },
   {
    "duration": 1166,
    "start_time": "2023-06-28T13:07:45.040Z"
   },
   {
    "duration": 810,
    "start_time": "2023-06-28T13:07:49.520Z"
   },
   {
    "duration": 18,
    "start_time": "2023-06-28T13:07:52.118Z"
   },
   {
    "duration": 139,
    "start_time": "2023-06-28T13:08:04.200Z"
   },
   {
    "duration": 4,
    "start_time": "2023-06-28T13:08:11.558Z"
   },
   {
    "duration": 841,
    "start_time": "2023-06-28T13:08:18.512Z"
   },
   {
    "duration": 502,
    "start_time": "2023-06-28T13:08:28.907Z"
   },
   {
    "duration": 44,
    "start_time": "2023-06-28T13:08:36.488Z"
   },
   {
    "duration": 81,
    "start_time": "2023-06-28T13:08:39.108Z"
   },
   {
    "duration": 74,
    "start_time": "2023-06-28T13:08:46.923Z"
   },
   {
    "duration": 19,
    "start_time": "2023-06-28T13:08:54.492Z"
   },
   {
    "duration": 23,
    "start_time": "2023-06-28T13:09:26.356Z"
   },
   {
    "duration": 85,
    "start_time": "2023-06-28T13:09:29.159Z"
   },
   {
    "duration": 6,
    "start_time": "2023-06-28T13:09:40.646Z"
   },
   {
    "duration": 33,
    "start_time": "2023-06-28T13:09:47.420Z"
   },
   {
    "duration": 37,
    "start_time": "2023-06-28T13:09:52.204Z"
   },
   {
    "duration": 2956,
    "start_time": "2023-06-28T13:09:58.319Z"
   },
   {
    "duration": 11,
    "start_time": "2023-06-28T13:10:01.277Z"
   },
   {
    "duration": 1371,
    "start_time": "2023-06-28T13:11:15.648Z"
   },
   {
    "duration": 786,
    "start_time": "2023-06-28T13:11:17.021Z"
   },
   {
    "duration": 17,
    "start_time": "2023-06-28T13:11:17.808Z"
   },
   {
    "duration": 149,
    "start_time": "2023-06-28T13:11:17.827Z"
   },
   {
    "duration": 4,
    "start_time": "2023-06-28T13:11:17.978Z"
   },
   {
    "duration": 924,
    "start_time": "2023-06-28T13:11:17.984Z"
   },
   {
    "duration": 508,
    "start_time": "2023-06-28T13:11:18.911Z"
   },
   {
    "duration": 43,
    "start_time": "2023-06-28T13:11:19.421Z"
   },
   {
    "duration": 102,
    "start_time": "2023-06-28T13:11:19.465Z"
   },
   {
    "duration": 66,
    "start_time": "2023-06-28T13:11:19.568Z"
   },
   {
    "duration": 56,
    "start_time": "2023-06-28T13:11:19.635Z"
   },
   {
    "duration": 17,
    "start_time": "2023-06-28T13:11:19.693Z"
   },
   {
    "duration": 16,
    "start_time": "2023-06-28T13:11:19.712Z"
   },
   {
    "duration": 88,
    "start_time": "2023-06-28T13:11:19.731Z"
   },
   {
    "duration": 5,
    "start_time": "2023-06-28T13:11:19.820Z"
   },
   {
    "duration": 39,
    "start_time": "2023-06-28T13:11:19.826Z"
   },
   {
    "duration": 32,
    "start_time": "2023-06-28T13:11:19.866Z"
   },
   {
    "duration": 2815,
    "start_time": "2023-06-28T13:11:19.900Z"
   },
   {
    "duration": 11,
    "start_time": "2023-06-28T13:11:22.717Z"
   },
   {
    "duration": 394,
    "start_time": "2023-06-28T13:11:22.729Z"
   },
   {
    "duration": 10,
    "start_time": "2023-06-28T13:11:23.125Z"
   },
   {
    "duration": 93,
    "start_time": "2023-06-28T13:20:05.241Z"
   },
   {
    "duration": 89,
    "start_time": "2023-06-28T13:20:14.876Z"
   },
   {
    "duration": 79,
    "start_time": "2023-06-28T13:21:19.679Z"
   },
   {
    "duration": 98,
    "start_time": "2023-06-28T13:22:49.535Z"
   },
   {
    "duration": 122,
    "start_time": "2023-06-28T13:26:14.195Z"
   },
   {
    "duration": 94,
    "start_time": "2023-06-28T13:28:59.250Z"
   },
   {
    "duration": 86,
    "start_time": "2023-06-28T13:29:04.412Z"
   },
   {
    "duration": 98,
    "start_time": "2023-06-28T13:29:12.537Z"
   },
   {
    "duration": 87,
    "start_time": "2023-06-28T13:29:38.795Z"
   },
   {
    "duration": 96,
    "start_time": "2023-06-28T13:33:14.889Z"
   },
   {
    "duration": 102,
    "start_time": "2023-06-28T13:34:57.592Z"
   },
   {
    "duration": 32,
    "start_time": "2023-06-28T13:35:54.131Z"
   },
   {
    "duration": 18,
    "start_time": "2023-06-28T13:36:41.751Z"
   },
   {
    "duration": 20,
    "start_time": "2023-06-28T13:37:42.497Z"
   },
   {
    "duration": 11,
    "start_time": "2023-06-28T13:38:31.397Z"
   },
   {
    "duration": 115,
    "start_time": "2023-06-28T13:40:04.013Z"
   },
   {
    "duration": 52,
    "start_time": "2023-06-28T13:47:22.089Z"
   },
   {
    "duration": 21,
    "start_time": "2023-06-28T13:47:48.006Z"
   },
   {
    "duration": 86,
    "start_time": "2023-06-28T13:47:55.342Z"
   },
   {
    "duration": 1223,
    "start_time": "2023-06-28T13:48:07.545Z"
   },
   {
    "duration": 821,
    "start_time": "2023-06-28T13:48:08.771Z"
   },
   {
    "duration": 21,
    "start_time": "2023-06-28T13:48:09.594Z"
   },
   {
    "duration": 147,
    "start_time": "2023-06-28T13:48:09.617Z"
   },
   {
    "duration": 8,
    "start_time": "2023-06-28T13:48:09.767Z"
   },
   {
    "duration": 884,
    "start_time": "2023-06-28T13:48:09.777Z"
   },
   {
    "duration": 546,
    "start_time": "2023-06-28T13:48:10.663Z"
   },
   {
    "duration": 46,
    "start_time": "2023-06-28T13:48:11.211Z"
   },
   {
    "duration": 94,
    "start_time": "2023-06-28T13:48:11.259Z"
   },
   {
    "duration": 76,
    "start_time": "2023-06-28T13:48:11.354Z"
   },
   {
    "duration": 57,
    "start_time": "2023-06-28T13:48:11.431Z"
   },
   {
    "duration": 54,
    "start_time": "2023-06-28T13:48:11.490Z"
   },
   {
    "duration": 30,
    "start_time": "2023-06-28T13:48:11.546Z"
   },
   {
    "duration": 103,
    "start_time": "2023-06-28T13:48:11.580Z"
   },
   {
    "duration": 7,
    "start_time": "2023-06-28T13:48:11.685Z"
   },
   {
    "duration": 38,
    "start_time": "2023-06-28T13:48:11.694Z"
   },
   {
    "duration": 58,
    "start_time": "2023-06-28T13:48:11.734Z"
   },
   {
    "duration": 3034,
    "start_time": "2023-06-28T13:48:11.794Z"
   },
   {
    "duration": 13,
    "start_time": "2023-06-28T13:48:14.830Z"
   },
   {
    "duration": 437,
    "start_time": "2023-06-28T13:48:14.844Z"
   },
   {
    "duration": 121,
    "start_time": "2023-06-28T13:48:15.283Z"
   },
   {
    "duration": 10,
    "start_time": "2023-06-28T13:48:15.405Z"
   },
   {
    "duration": 58,
    "start_time": "2023-06-28T13:50:13.105Z"
   },
   {
    "duration": 17,
    "start_time": "2023-06-28T13:50:17.348Z"
   },
   {
    "duration": 396,
    "start_time": "2023-06-28T13:50:25.102Z"
   },
   {
    "duration": 103,
    "start_time": "2023-06-28T13:53:03.264Z"
   },
   {
    "duration": 18,
    "start_time": "2023-06-28T13:53:10.162Z"
   },
   {
    "duration": 28,
    "start_time": "2023-06-28T13:55:04.987Z"
   },
   {
    "duration": 451,
    "start_time": "2023-06-28T13:55:16.361Z"
   },
   {
    "duration": 15,
    "start_time": "2023-06-28T13:55:56.759Z"
   },
   {
    "duration": 8,
    "start_time": "2023-06-28T13:57:14.820Z"
   },
   {
    "duration": 6,
    "start_time": "2023-06-28T13:58:02.157Z"
   },
   {
    "duration": 28,
    "start_time": "2023-06-28T14:00:28.696Z"
   },
   {
    "duration": 6,
    "start_time": "2023-06-28T14:00:52.023Z"
   },
   {
    "duration": 14,
    "start_time": "2023-06-28T14:07:23.105Z"
   },
   {
    "duration": 14,
    "start_time": "2023-06-28T14:08:10.932Z"
   },
   {
    "duration": 21,
    "start_time": "2023-06-28T14:10:08.022Z"
   },
   {
    "duration": 230,
    "start_time": "2023-06-28T14:10:19.614Z"
   },
   {
    "duration": 255,
    "start_time": "2023-06-28T14:11:25.865Z"
   },
   {
    "duration": 12,
    "start_time": "2023-06-28T14:12:42.586Z"
   },
   {
    "duration": 9,
    "start_time": "2023-06-28T14:13:05.497Z"
   },
   {
    "duration": 7,
    "start_time": "2023-06-28T14:13:12.244Z"
   },
   {
    "duration": 11,
    "start_time": "2023-06-28T14:20:57.216Z"
   },
   {
    "duration": 23,
    "start_time": "2023-06-28T14:21:03.309Z"
   },
   {
    "duration": 27,
    "start_time": "2023-06-28T14:22:37.488Z"
   },
   {
    "duration": 24,
    "start_time": "2023-06-28T14:23:05.834Z"
   },
   {
    "duration": 15,
    "start_time": "2023-06-28T14:24:20.013Z"
   },
   {
    "duration": 23,
    "start_time": "2023-06-28T14:24:34.193Z"
   },
   {
    "duration": 6,
    "start_time": "2023-06-28T14:25:33.306Z"
   },
   {
    "duration": 19,
    "start_time": "2023-06-28T14:25:35.577Z"
   },
   {
    "duration": 1262,
    "start_time": "2023-06-28T14:25:46.504Z"
   },
   {
    "duration": 767,
    "start_time": "2023-06-28T14:25:47.768Z"
   },
   {
    "duration": 17,
    "start_time": "2023-06-28T14:25:48.537Z"
   },
   {
    "duration": 133,
    "start_time": "2023-06-28T14:25:48.556Z"
   },
   {
    "duration": 4,
    "start_time": "2023-06-28T14:25:48.690Z"
   },
   {
    "duration": 813,
    "start_time": "2023-06-28T14:25:48.696Z"
   },
   {
    "duration": 486,
    "start_time": "2023-06-28T14:25:49.510Z"
   },
   {
    "duration": 46,
    "start_time": "2023-06-28T14:25:49.998Z"
   },
   {
    "duration": 92,
    "start_time": "2023-06-28T14:25:50.046Z"
   },
   {
    "duration": 82,
    "start_time": "2023-06-28T14:25:50.141Z"
   },
   {
    "duration": 60,
    "start_time": "2023-06-28T14:25:50.224Z"
   },
   {
    "duration": 51,
    "start_time": "2023-06-28T14:25:50.286Z"
   },
   {
    "duration": 5,
    "start_time": "2023-06-28T14:25:50.339Z"
   },
   {
    "duration": 36,
    "start_time": "2023-06-28T14:25:50.345Z"
   },
   {
    "duration": 32,
    "start_time": "2023-06-28T14:25:50.383Z"
   },
   {
    "duration": 2791,
    "start_time": "2023-06-28T14:25:50.416Z"
   },
   {
    "duration": 14,
    "start_time": "2023-06-28T14:25:53.209Z"
   },
   {
    "duration": 415,
    "start_time": "2023-06-28T14:25:53.224Z"
   },
   {
    "duration": 15,
    "start_time": "2023-06-28T14:25:53.640Z"
   },
   {
    "duration": 22,
    "start_time": "2023-06-28T14:25:53.657Z"
   },
   {
    "duration": 26,
    "start_time": "2023-06-28T14:25:53.681Z"
   },
   {
    "duration": 7,
    "start_time": "2023-06-28T14:25:53.709Z"
   },
   {
    "duration": 22,
    "start_time": "2023-06-28T14:25:53.718Z"
   },
   {
    "duration": 290,
    "start_time": "2023-06-28T14:25:53.742Z"
   },
   {
    "duration": 8,
    "start_time": "2023-06-28T14:25:54.034Z"
   },
   {
    "duration": 39,
    "start_time": "2023-06-28T14:25:54.044Z"
   },
   {
    "duration": 15,
    "start_time": "2023-06-28T14:25:54.085Z"
   },
   {
    "duration": 21,
    "start_time": "2023-06-28T14:25:54.104Z"
   },
   {
    "duration": 4,
    "start_time": "2023-06-28T14:26:37.948Z"
   },
   {
    "duration": 5,
    "start_time": "2023-06-28T14:26:52.928Z"
   },
   {
    "duration": 4,
    "start_time": "2023-06-28T14:26:55.993Z"
   },
   {
    "duration": 10,
    "start_time": "2023-06-28T14:27:33.798Z"
   },
   {
    "duration": 7,
    "start_time": "2023-06-28T14:28:30.332Z"
   },
   {
    "duration": 7,
    "start_time": "2023-06-28T14:28:54.217Z"
   },
   {
    "duration": 1044,
    "start_time": "2023-06-28T14:29:05.031Z"
   },
   {
    "duration": 815,
    "start_time": "2023-06-28T14:29:06.077Z"
   },
   {
    "duration": 17,
    "start_time": "2023-06-28T14:29:06.894Z"
   },
   {
    "duration": 138,
    "start_time": "2023-06-28T14:29:06.913Z"
   },
   {
    "duration": 5,
    "start_time": "2023-06-28T14:29:07.052Z"
   },
   {
    "duration": 831,
    "start_time": "2023-06-28T14:29:07.058Z"
   },
   {
    "duration": 521,
    "start_time": "2023-06-28T14:29:07.890Z"
   },
   {
    "duration": 46,
    "start_time": "2023-06-28T14:29:08.413Z"
   },
   {
    "duration": 101,
    "start_time": "2023-06-28T14:29:08.462Z"
   },
   {
    "duration": 68,
    "start_time": "2023-06-28T14:29:08.575Z"
   },
   {
    "duration": 56,
    "start_time": "2023-06-28T14:29:08.644Z"
   },
   {
    "duration": 54,
    "start_time": "2023-06-28T14:29:08.702Z"
   },
   {
    "duration": 20,
    "start_time": "2023-06-28T14:29:08.757Z"
   },
   {
    "duration": 29,
    "start_time": "2023-06-28T14:29:08.778Z"
   },
   {
    "duration": 34,
    "start_time": "2023-06-28T14:29:08.809Z"
   },
   {
    "duration": 2762,
    "start_time": "2023-06-28T14:29:08.844Z"
   },
   {
    "duration": 13,
    "start_time": "2023-06-28T14:29:11.608Z"
   },
   {
    "duration": 413,
    "start_time": "2023-06-28T14:29:11.622Z"
   },
   {
    "duration": 16,
    "start_time": "2023-06-28T14:29:12.037Z"
   },
   {
    "duration": 23,
    "start_time": "2023-06-28T14:29:12.054Z"
   },
   {
    "duration": 25,
    "start_time": "2023-06-28T14:29:12.079Z"
   },
   {
    "duration": 5,
    "start_time": "2023-06-28T14:29:12.106Z"
   },
   {
    "duration": 32,
    "start_time": "2023-06-28T14:29:12.113Z"
   },
   {
    "duration": 272,
    "start_time": "2023-06-28T14:29:12.147Z"
   },
   {
    "duration": 7,
    "start_time": "2023-06-28T14:29:12.421Z"
   },
   {
    "duration": 31,
    "start_time": "2023-06-28T14:29:12.429Z"
   },
   {
    "duration": 34,
    "start_time": "2023-06-28T14:29:12.461Z"
   },
   {
    "duration": 15,
    "start_time": "2023-06-28T14:29:12.497Z"
   },
   {
    "duration": 5,
    "start_time": "2023-06-28T14:30:55.654Z"
   },
   {
    "duration": 106,
    "start_time": "2023-06-28T14:31:55.561Z"
   },
   {
    "duration": 37,
    "start_time": "2023-06-28T14:31:59.995Z"
   },
   {
    "duration": 6,
    "start_time": "2023-06-28T14:45:41.662Z"
   },
   {
    "duration": 10,
    "start_time": "2023-06-28T14:46:06.851Z"
   },
   {
    "duration": 1298,
    "start_time": "2023-06-28T14:53:17.993Z"
   },
   {
    "duration": 1046,
    "start_time": "2023-06-28T14:53:19.292Z"
   },
   {
    "duration": 16,
    "start_time": "2023-06-28T14:53:20.339Z"
   },
   {
    "duration": 136,
    "start_time": "2023-06-28T14:53:20.357Z"
   },
   {
    "duration": 5,
    "start_time": "2023-06-28T14:53:20.494Z"
   },
   {
    "duration": 820,
    "start_time": "2023-06-28T14:53:20.501Z"
   },
   {
    "duration": 500,
    "start_time": "2023-06-28T14:53:21.322Z"
   },
   {
    "duration": 56,
    "start_time": "2023-06-28T14:53:21.824Z"
   },
   {
    "duration": 86,
    "start_time": "2023-06-28T14:53:21.882Z"
   },
   {
    "duration": 69,
    "start_time": "2023-06-28T14:53:21.976Z"
   },
   {
    "duration": 55,
    "start_time": "2023-06-28T14:53:22.046Z"
   },
   {
    "duration": 56,
    "start_time": "2023-06-28T14:53:22.103Z"
   },
   {
    "duration": 15,
    "start_time": "2023-06-28T14:53:22.161Z"
   },
   {
    "duration": 40,
    "start_time": "2023-06-28T14:53:22.178Z"
   },
   {
    "duration": 44,
    "start_time": "2023-06-28T14:53:22.221Z"
   },
   {
    "duration": 2706,
    "start_time": "2023-06-28T14:53:22.266Z"
   },
   {
    "duration": 10,
    "start_time": "2023-06-28T14:53:24.974Z"
   },
   {
    "duration": 403,
    "start_time": "2023-06-28T14:53:24.987Z"
   },
   {
    "duration": 14,
    "start_time": "2023-06-28T14:53:25.392Z"
   },
   {
    "duration": 8,
    "start_time": "2023-06-28T14:53:25.407Z"
   },
   {
    "duration": 51,
    "start_time": "2023-06-28T14:53:25.416Z"
   },
   {
    "duration": 5,
    "start_time": "2023-06-28T14:53:25.469Z"
   },
   {
    "duration": 35,
    "start_time": "2023-06-28T14:53:25.476Z"
   },
   {
    "duration": 263,
    "start_time": "2023-06-28T14:53:25.513Z"
   },
   {
    "duration": 7,
    "start_time": "2023-06-28T14:53:25.778Z"
   },
   {
    "duration": 26,
    "start_time": "2023-06-28T14:53:25.786Z"
   },
   {
    "duration": 21,
    "start_time": "2023-06-28T14:53:25.813Z"
   },
   {
    "duration": 15,
    "start_time": "2023-06-28T14:53:25.837Z"
   },
   {
    "duration": 4,
    "start_time": "2023-06-28T14:53:25.876Z"
   },
   {
    "duration": 33,
    "start_time": "2023-06-28T14:53:25.882Z"
   },
   {
    "duration": 5,
    "start_time": "2023-06-28T14:53:25.916Z"
   },
   {
    "duration": 11,
    "start_time": "2023-06-28T14:53:25.922Z"
   },
   {
    "duration": 76386,
    "start_time": "2023-06-28T14:53:25.935Z"
   },
   {
    "duration": 202875,
    "start_time": "2023-06-28T14:58:38.118Z"
   },
   {
    "duration": 101,
    "start_time": "2023-06-28T15:05:25.700Z"
   },
   {
    "duration": 10,
    "start_time": "2023-06-28T15:11:41.552Z"
   },
   {
    "duration": 33569,
    "start_time": "2023-06-28T15:12:36.098Z"
   },
   {
    "duration": 19935,
    "start_time": "2023-06-28T15:15:52.101Z"
   },
   {
    "duration": 20806,
    "start_time": "2023-06-28T15:17:04.277Z"
   },
   {
    "duration": 2412,
    "start_time": "2023-06-28T15:25:27.705Z"
   },
   {
    "duration": 6126,
    "start_time": "2023-06-28T15:25:51.935Z"
   },
   {
    "duration": 7912,
    "start_time": "2023-06-28T15:26:55.063Z"
   },
   {
    "duration": 6959,
    "start_time": "2023-06-28T15:28:04.726Z"
   },
   {
    "duration": 19355,
    "start_time": "2023-06-28T15:28:42.510Z"
   },
   {
    "duration": 35,
    "start_time": "2023-06-28T15:35:27.689Z"
   },
   {
    "duration": 121,
    "start_time": "2023-06-28T15:36:44.829Z"
   },
   {
    "duration": 415,
    "start_time": "2023-06-28T15:37:08.444Z"
   },
   {
    "duration": 751,
    "start_time": "2023-06-28T15:37:16.890Z"
   },
   {
    "duration": 1409,
    "start_time": "2023-06-30T09:39:04.094Z"
   },
   {
    "duration": 2783,
    "start_time": "2023-06-30T09:39:05.506Z"
   },
   {
    "duration": 17,
    "start_time": "2023-06-30T09:39:08.290Z"
   },
   {
    "duration": 133,
    "start_time": "2023-06-30T09:39:08.308Z"
   },
   {
    "duration": 4,
    "start_time": "2023-06-30T09:39:08.443Z"
   },
   {
    "duration": 830,
    "start_time": "2023-06-30T09:39:08.448Z"
   },
   {
    "duration": 541,
    "start_time": "2023-06-30T09:39:09.280Z"
   },
   {
    "duration": 49,
    "start_time": "2023-06-30T09:39:09.824Z"
   },
   {
    "duration": 100,
    "start_time": "2023-06-30T09:39:09.875Z"
   },
   {
    "duration": 74,
    "start_time": "2023-06-30T09:39:09.977Z"
   },
   {
    "duration": 60,
    "start_time": "2023-06-30T09:39:10.052Z"
   },
   {
    "duration": 80,
    "start_time": "2023-06-30T09:39:10.113Z"
   },
   {
    "duration": 6,
    "start_time": "2023-06-30T09:39:10.196Z"
   },
   {
    "duration": 31,
    "start_time": "2023-06-30T09:39:10.206Z"
   },
   {
    "duration": 71,
    "start_time": "2023-06-30T09:39:10.239Z"
   },
   {
    "duration": 3154,
    "start_time": "2023-06-30T09:39:10.312Z"
   },
   {
    "duration": 15,
    "start_time": "2023-06-30T09:39:13.467Z"
   },
   {
    "duration": 412,
    "start_time": "2023-06-30T09:39:13.484Z"
   },
   {
    "duration": 21,
    "start_time": "2023-06-30T09:39:13.899Z"
   },
   {
    "duration": 9,
    "start_time": "2023-06-30T09:39:13.921Z"
   },
   {
    "duration": 57,
    "start_time": "2023-06-30T09:39:13.932Z"
   },
   {
    "duration": 8,
    "start_time": "2023-06-30T09:39:13.992Z"
   },
   {
    "duration": 16,
    "start_time": "2023-06-30T09:39:14.003Z"
   },
   {
    "duration": 359,
    "start_time": "2023-06-30T09:39:14.022Z"
   },
   {
    "duration": 11,
    "start_time": "2023-06-30T09:39:14.383Z"
   },
   {
    "duration": 43,
    "start_time": "2023-06-30T09:39:14.396Z"
   },
   {
    "duration": 41,
    "start_time": "2023-06-30T09:39:14.441Z"
   },
   {
    "duration": 16,
    "start_time": "2023-06-30T09:39:14.484Z"
   },
   {
    "duration": 5,
    "start_time": "2023-06-30T09:39:14.502Z"
   },
   {
    "duration": 59,
    "start_time": "2023-06-30T09:39:14.509Z"
   },
   {
    "duration": 6,
    "start_time": "2023-06-30T09:39:14.569Z"
   },
   {
    "duration": 39,
    "start_time": "2023-06-30T09:39:14.577Z"
   },
   {
    "duration": 39,
    "start_time": "2023-06-30T09:39:14.617Z"
   },
   {
    "duration": 435,
    "start_time": "2023-06-30T09:39:14.657Z"
   },
   {
    "duration": 16,
    "start_time": "2023-06-30T09:39:15.094Z"
   },
   {
    "duration": 45,
    "start_time": "2023-06-30T09:39:15.112Z"
   },
   {
    "duration": 5,
    "start_time": "2023-06-30T09:40:22.342Z"
   },
   {
    "duration": 3,
    "start_time": "2023-06-30T09:57:48.232Z"
   },
   {
    "duration": 293,
    "start_time": "2023-06-30T09:57:49.782Z"
   },
   {
    "duration": 140,
    "start_time": "2023-06-30T09:57:51.596Z"
   },
   {
    "duration": 26,
    "start_time": "2023-06-30T09:59:13.796Z"
   },
   {
    "duration": 80,
    "start_time": "2023-06-30T09:59:15.754Z"
   },
   {
    "duration": 20,
    "start_time": "2023-06-30T09:59:18.475Z"
   },
   {
    "duration": 20,
    "start_time": "2023-06-30T09:59:19.852Z"
   },
   {
    "duration": 5,
    "start_time": "2023-06-30T09:59:22.152Z"
   },
   {
    "duration": 3,
    "start_time": "2023-06-30T09:59:26.094Z"
   },
   {
    "duration": 3,
    "start_time": "2023-06-30T09:59:27.232Z"
   },
   {
    "duration": 11,
    "start_time": "2023-06-30T09:59:28.753Z"
   },
   {
    "duration": 18,
    "start_time": "2023-06-30T09:59:30.163Z"
   },
   {
    "duration": 3,
    "start_time": "2023-06-30T10:00:08.002Z"
   },
   {
    "duration": 2,
    "start_time": "2023-06-30T10:00:09.343Z"
   },
   {
    "duration": 524,
    "start_time": "2023-06-30T10:00:10.853Z"
   },
   {
    "duration": 21,
    "start_time": "2023-06-30T10:00:36.751Z"
   },
   {
    "duration": 109,
    "start_time": "2023-06-30T10:13:57.966Z"
   },
   {
    "duration": 8,
    "start_time": "2023-06-30T10:14:12.135Z"
   },
   {
    "duration": 18,
    "start_time": "2023-06-30T10:14:22.149Z"
   },
   {
    "duration": 33,
    "start_time": "2023-06-30T10:14:31.668Z"
   },
   {
    "duration": 45,
    "start_time": "2023-06-30T10:20:15.703Z"
   },
   {
    "duration": 1736,
    "start_time": "2023-06-30T10:26:46.511Z"
   },
   {
    "duration": 160,
    "start_time": "2023-06-30T10:27:22.483Z"
   },
   {
    "duration": 111,
    "start_time": "2023-06-30T10:27:30.283Z"
   },
   {
    "duration": 1721,
    "start_time": "2023-06-30T10:27:56.219Z"
   },
   {
    "duration": 1732,
    "start_time": "2023-06-30T10:28:19.815Z"
   },
   {
    "duration": 163,
    "start_time": "2023-06-30T10:29:03.972Z"
   },
   {
    "duration": 4,
    "start_time": "2023-06-30T10:29:36.823Z"
   },
   {
    "duration": 4,
    "start_time": "2023-06-30T10:30:53.216Z"
   },
   {
    "duration": 16,
    "start_time": "2023-06-30T10:40:32.311Z"
   },
   {
    "duration": 18,
    "start_time": "2023-06-30T10:40:48.479Z"
   },
   {
    "duration": 74,
    "start_time": "2023-06-30T10:47:23.443Z"
   },
   {
    "duration": 67,
    "start_time": "2023-06-30T10:47:32.071Z"
   },
   {
    "duration": 62,
    "start_time": "2023-06-30T10:49:46.183Z"
   },
   {
    "duration": 71,
    "start_time": "2023-06-30T10:52:07.111Z"
   },
   {
    "duration": 81,
    "start_time": "2023-06-30T10:52:21.060Z"
   },
   {
    "duration": 153,
    "start_time": "2023-06-30T11:42:44.336Z"
   },
   {
    "duration": 1879486,
    "start_time": "2023-06-30T11:43:18.599Z"
   },
   {
    "duration": 10,
    "start_time": "2023-06-30T12:16:28.199Z"
   },
   {
    "duration": 4,
    "start_time": "2023-06-30T12:16:41.190Z"
   },
   {
    "duration": 5,
    "start_time": "2023-06-30T12:18:33.311Z"
   },
   {
    "duration": 3,
    "start_time": "2023-06-30T12:31:28.799Z"
   },
   {
    "duration": 9,
    "start_time": "2023-06-30T12:35:36.652Z"
   },
   {
    "duration": 302,
    "start_time": "2023-06-30T12:36:05.123Z"
   },
   {
    "duration": 3,
    "start_time": "2023-06-30T12:36:09.712Z"
   },
   {
    "duration": 4,
    "start_time": "2023-06-30T12:36:11.293Z"
   },
   {
    "duration": 3,
    "start_time": "2023-06-30T12:37:58.622Z"
   },
   {
    "duration": 4,
    "start_time": "2023-06-30T12:38:00.512Z"
   },
   {
    "duration": 5,
    "start_time": "2023-06-30T12:38:04.182Z"
   },
   {
    "duration": 2,
    "start_time": "2023-06-30T12:38:21.992Z"
   },
   {
    "duration": 6,
    "start_time": "2023-06-30T12:38:23.641Z"
   },
   {
    "duration": 3,
    "start_time": "2023-06-30T12:39:00.898Z"
   },
   {
    "duration": 5,
    "start_time": "2023-06-30T12:39:02.722Z"
   },
   {
    "duration": 321015,
    "start_time": "2023-06-30T12:50:32.742Z"
   },
   {
    "duration": 155,
    "start_time": "2023-06-30T12:56:24.096Z"
   },
   {
    "duration": 5,
    "start_time": "2023-06-30T12:56:26.139Z"
   },
   {
    "duration": 58,
    "start_time": "2023-06-30T13:01:13.114Z"
   },
   {
    "duration": 57,
    "start_time": "2023-06-30T13:01:20.439Z"
   },
   {
    "duration": 53,
    "start_time": "2023-06-30T13:01:23.490Z"
   },
   {
    "duration": 58,
    "start_time": "2023-06-30T13:01:37.554Z"
   },
   {
    "duration": 136,
    "start_time": "2023-06-30T13:03:52.521Z"
   },
   {
    "duration": 4,
    "start_time": "2023-06-30T13:04:50.661Z"
   },
   {
    "duration": 636476,
    "start_time": "2023-06-30T13:05:01.984Z"
   },
   {
    "duration": 190,
    "start_time": "2023-06-30T13:16:26.123Z"
   },
   {
    "duration": 8,
    "start_time": "2023-06-30T13:16:39.512Z"
   },
   {
    "duration": 180,
    "start_time": "2023-06-30T13:17:14.332Z"
   },
   {
    "duration": 5,
    "start_time": "2023-06-30T13:17:16.452Z"
   },
   {
    "duration": 42360,
    "start_time": "2023-06-30T13:28:57.509Z"
   },
   {
    "duration": 44463,
    "start_time": "2023-06-30T13:30:57.662Z"
   },
   {
    "duration": 43146,
    "start_time": "2023-06-30T13:36:44.653Z"
   },
   {
    "duration": 65,
    "start_time": "2023-06-30T13:54:05.701Z"
   },
   {
    "duration": 97,
    "start_time": "2023-06-30T13:56:18.102Z"
   },
   {
    "duration": 139,
    "start_time": "2023-06-30T13:56:19.753Z"
   },
   {
    "duration": 20,
    "start_time": "2023-06-30T13:57:49.234Z"
   },
   {
    "duration": 75,
    "start_time": "2023-06-30T14:00:52.036Z"
   },
   {
    "duration": 41,
    "start_time": "2023-06-30T14:05:55.054Z"
   },
   {
    "duration": 177,
    "start_time": "2023-06-30T14:07:54.754Z"
   },
   {
    "duration": 293665,
    "start_time": "2023-06-30T14:08:57.903Z"
   },
   {
    "duration": 168,
    "start_time": "2023-06-30T14:15:56.604Z"
   },
   {
    "duration": 8,
    "start_time": "2023-06-30T14:16:06.444Z"
   },
   {
    "duration": 110,
    "start_time": "2023-06-30T14:16:31.444Z"
   },
   {
    "duration": 8,
    "start_time": "2023-06-30T14:16:39.253Z"
   },
   {
    "duration": 8,
    "start_time": "2023-06-30T14:16:47.767Z"
   },
   {
    "duration": 116,
    "start_time": "2023-06-30T15:02:01.147Z"
   },
   {
    "duration": 4,
    "start_time": "2023-06-30T15:08:35.403Z"
   },
   {
    "duration": 122,
    "start_time": "2023-06-30T15:08:48.694Z"
   },
   {
    "duration": 201,
    "start_time": "2023-07-01T04:01:56.674Z"
   },
   {
    "duration": 1729,
    "start_time": "2023-07-01T04:02:19.571Z"
   },
   {
    "duration": 1330,
    "start_time": "2023-07-01T04:02:25.163Z"
   },
   {
    "duration": 557,
    "start_time": "2023-07-01T04:02:39.554Z"
   },
   {
    "duration": 54,
    "start_time": "2023-07-01T04:02:42.783Z"
   },
   {
    "duration": 69,
    "start_time": "2023-07-01T04:02:48.992Z"
   },
   {
    "duration": 70,
    "start_time": "2023-07-01T04:02:55.723Z"
   },
   {
    "duration": 31,
    "start_time": "2023-07-01T04:03:00.939Z"
   },
   {
    "duration": 2993,
    "start_time": "2023-07-01T04:03:10.173Z"
   },
   {
    "duration": 74,
    "start_time": "2023-07-01T04:03:15.948Z"
   },
   {
    "duration": 4,
    "start_time": "2023-07-01T04:03:41.557Z"
   },
   {
    "duration": 3126,
    "start_time": "2023-07-01T04:03:59.774Z"
   },
   {
    "duration": 25,
    "start_time": "2023-07-01T04:04:11.254Z"
   },
   {
    "duration": 27,
    "start_time": "2023-07-01T04:04:21.771Z"
   },
   {
    "duration": 33,
    "start_time": "2023-07-01T04:04:30.024Z"
   },
   {
    "duration": 6,
    "start_time": "2023-07-01T04:04:32.723Z"
   },
   {
    "duration": 31,
    "start_time": "2023-07-01T04:04:41.571Z"
   },
   {
    "duration": 7,
    "start_time": "2023-07-01T04:04:44.683Z"
   },
   {
    "duration": 15,
    "start_time": "2023-07-01T04:04:48.284Z"
   },
   {
    "duration": 8,
    "start_time": "2023-07-01T04:05:02.388Z"
   },
   {
    "duration": 25,
    "start_time": "2023-07-01T04:05:04.056Z"
   },
   {
    "duration": 18,
    "start_time": "2023-07-01T04:05:09.955Z"
   },
   {
    "duration": 4,
    "start_time": "2023-07-01T04:05:11.467Z"
   },
   {
    "duration": 5,
    "start_time": "2023-07-01T04:05:15.445Z"
   },
   {
    "duration": 9,
    "start_time": "2023-07-01T04:05:21.455Z"
   },
   {
    "duration": 2,
    "start_time": "2023-07-01T04:05:28.403Z"
   },
   {
    "duration": 577,
    "start_time": "2023-07-01T04:05:29.846Z"
   },
   {
    "duration": 20,
    "start_time": "2023-07-01T04:05:31.693Z"
   },
   {
    "duration": 55,
    "start_time": "2023-07-01T04:05:36.514Z"
   },
   {
    "duration": 4,
    "start_time": "2023-07-01T04:05:38.056Z"
   },
   {
    "duration": 82,
    "start_time": "2023-07-01T04:05:43.994Z"
   },
   {
    "duration": 4,
    "start_time": "2023-07-01T04:05:47.239Z"
   },
   {
    "duration": 43984,
    "start_time": "2023-07-01T04:06:16.876Z"
   },
   {
    "duration": 261,
    "start_time": "2023-07-01T04:07:24.004Z"
   },
   {
    "duration": 206,
    "start_time": "2023-07-01T04:08:40.066Z"
   },
   {
    "duration": 1108969,
    "start_time": "2023-07-01T04:10:01.777Z"
   },
   {
    "duration": 123,
    "start_time": "2023-07-01T04:34:52.056Z"
   },
   {
    "duration": 336340,
    "start_time": "2023-07-01T04:43:36.993Z"
   },
   {
    "duration": 150318,
    "start_time": "2023-07-01T04:49:13.339Z"
   },
   {
    "duration": 140062,
    "start_time": "2023-07-01T04:51:54.471Z"
   },
   {
    "duration": 196,
    "start_time": "2023-07-01T04:54:27.043Z"
   },
   {
    "duration": 6,
    "start_time": "2023-07-01T04:54:30.397Z"
   },
   {
    "duration": 60998,
    "start_time": "2023-07-01T04:55:37.434Z"
   },
   {
    "duration": 121,
    "start_time": "2023-07-01T04:56:49.712Z"
   },
   {
    "duration": 5,
    "start_time": "2023-07-01T04:56:53.891Z"
   },
   {
    "duration": 36,
    "start_time": "2023-07-01T05:12:41.555Z"
   },
   {
    "duration": 34,
    "start_time": "2023-07-01T05:13:36.705Z"
   },
   {
    "duration": 1511,
    "start_time": "2023-07-01T05:17:00.756Z"
   },
   {
    "duration": 817,
    "start_time": "2023-07-01T05:17:02.269Z"
   },
   {
    "duration": 16,
    "start_time": "2023-07-01T05:17:03.088Z"
   },
   {
    "duration": 333,
    "start_time": "2023-07-01T05:17:03.106Z"
   },
   {
    "duration": 8,
    "start_time": "2023-07-01T05:17:03.441Z"
   },
   {
    "duration": 869,
    "start_time": "2023-07-01T05:17:03.450Z"
   },
   {
    "duration": 536,
    "start_time": "2023-07-01T05:17:04.320Z"
   },
   {
    "duration": 46,
    "start_time": "2023-07-01T05:17:04.857Z"
   },
   {
    "duration": 107,
    "start_time": "2023-07-01T05:17:04.904Z"
   },
   {
    "duration": 81,
    "start_time": "2023-07-01T05:17:05.015Z"
   },
   {
    "duration": 63,
    "start_time": "2023-07-01T05:17:05.098Z"
   },
   {
    "duration": 52,
    "start_time": "2023-07-01T05:17:05.163Z"
   },
   {
    "duration": 4,
    "start_time": "2023-07-01T05:17:05.217Z"
   },
   {
    "duration": 34,
    "start_time": "2023-07-01T05:17:05.237Z"
   },
   {
    "duration": 31,
    "start_time": "2023-07-01T05:17:05.272Z"
   },
   {
    "duration": 2878,
    "start_time": "2023-07-01T05:17:05.304Z"
   },
   {
    "duration": 10,
    "start_time": "2023-07-01T05:17:08.184Z"
   },
   {
    "duration": 420,
    "start_time": "2023-07-01T05:17:08.196Z"
   },
   {
    "duration": 25,
    "start_time": "2023-07-01T05:17:08.617Z"
   },
   {
    "duration": 9,
    "start_time": "2023-07-01T05:17:08.644Z"
   },
   {
    "duration": 27,
    "start_time": "2023-07-01T05:17:08.654Z"
   },
   {
    "duration": 5,
    "start_time": "2023-07-01T05:17:08.682Z"
   },
   {
    "duration": 13,
    "start_time": "2023-07-01T05:17:08.688Z"
   },
   {
    "duration": 265,
    "start_time": "2023-07-01T05:17:08.702Z"
   },
   {
    "duration": 7,
    "start_time": "2023-07-01T05:17:08.969Z"
   },
   {
    "duration": 24,
    "start_time": "2023-07-01T05:17:08.978Z"
   },
   {
    "duration": 45,
    "start_time": "2023-07-01T05:17:09.003Z"
   },
   {
    "duration": 16,
    "start_time": "2023-07-01T05:17:09.052Z"
   },
   {
    "duration": 5,
    "start_time": "2023-07-01T05:17:09.069Z"
   },
   {
    "duration": 33,
    "start_time": "2023-07-01T05:17:09.075Z"
   },
   {
    "duration": 24,
    "start_time": "2023-07-01T05:17:09.110Z"
   },
   {
    "duration": 11,
    "start_time": "2023-07-01T05:17:09.136Z"
   },
   {
    "duration": 18,
    "start_time": "2023-07-01T05:17:09.148Z"
   },
   {
    "duration": 68,
    "start_time": "2023-07-01T05:17:09.167Z"
   },
   {
    "duration": 636,
    "start_time": "2023-07-01T05:17:09.236Z"
   },
   {
    "duration": 19,
    "start_time": "2023-07-01T05:17:09.873Z"
   },
   {
    "duration": 16,
    "start_time": "2023-07-01T05:17:09.893Z"
   },
   {
    "duration": 22,
    "start_time": "2023-07-01T05:17:09.910Z"
   },
   {
    "duration": 5,
    "start_time": "2023-07-01T05:17:09.934Z"
   },
   {
    "duration": 6,
    "start_time": "2023-07-01T05:17:09.941Z"
   },
   {
    "duration": 507,
    "start_time": "2023-07-01T05:17:09.949Z"
   },
   {
    "duration": 17,
    "start_time": "2023-07-01T05:17:10.458Z"
   },
   {
    "duration": 56,
    "start_time": "2023-07-01T05:17:10.477Z"
   },
   {
    "duration": 10,
    "start_time": "2023-07-01T05:17:10.535Z"
   },
   {
    "duration": 149,
    "start_time": "2023-07-01T05:17:10.547Z"
   },
   {
    "duration": 0,
    "start_time": "2023-07-01T05:17:10.698Z"
   },
   {
    "duration": 0,
    "start_time": "2023-07-01T05:17:10.699Z"
   },
   {
    "duration": 0,
    "start_time": "2023-07-01T05:17:10.700Z"
   },
   {
    "duration": 0,
    "start_time": "2023-07-01T05:17:10.701Z"
   },
   {
    "duration": 1,
    "start_time": "2023-07-01T05:17:10.702Z"
   },
   {
    "duration": 0,
    "start_time": "2023-07-01T05:17:10.704Z"
   },
   {
    "duration": 0,
    "start_time": "2023-07-01T05:17:10.705Z"
   },
   {
    "duration": 0,
    "start_time": "2023-07-01T05:17:10.706Z"
   },
   {
    "duration": 0,
    "start_time": "2023-07-01T05:17:10.707Z"
   },
   {
    "duration": 0,
    "start_time": "2023-07-01T05:17:10.708Z"
   },
   {
    "duration": 0,
    "start_time": "2023-07-01T05:17:10.733Z"
   },
   {
    "duration": 0,
    "start_time": "2023-07-01T05:17:10.734Z"
   },
   {
    "duration": 0,
    "start_time": "2023-07-01T05:17:10.735Z"
   },
   {
    "duration": 0,
    "start_time": "2023-07-01T05:17:10.737Z"
   },
   {
    "duration": 26,
    "start_time": "2023-07-01T05:19:49.604Z"
   },
   {
    "duration": 18,
    "start_time": "2023-07-01T05:19:52.824Z"
   },
   {
    "duration": 32,
    "start_time": "2023-07-01T05:20:41.997Z"
   },
   {
    "duration": 184,
    "start_time": "2023-07-01T05:24:46.217Z"
   },
   {
    "duration": 206,
    "start_time": "2023-07-01T05:25:17.206Z"
   },
   {
    "duration": 13,
    "start_time": "2023-07-01T05:26:24.816Z"
   },
   {
    "duration": 4,
    "start_time": "2023-07-01T05:26:36.756Z"
   },
   {
    "duration": 210866,
    "start_time": "2023-07-01T05:26:44.501Z"
   },
   {
    "duration": 169,
    "start_time": "2023-07-01T05:30:21.901Z"
   },
   {
    "duration": 88,
    "start_time": "2023-07-01T05:32:18.292Z"
   },
   {
    "duration": 2,
    "start_time": "2023-07-01T05:32:26.727Z"
   },
   {
    "duration": 628415,
    "start_time": "2023-07-01T05:32:36.358Z"
   },
   {
    "duration": 457,
    "start_time": "2023-07-01T05:43:16.205Z"
   },
   {
    "duration": 6,
    "start_time": "2023-07-01T05:43:20.684Z"
   },
   {
    "duration": 1752535,
    "start_time": "2023-07-01T05:44:34.661Z"
   },
   {
    "duration": 1029,
    "start_time": "2023-07-01T06:14:44.094Z"
   },
   {
    "duration": 6,
    "start_time": "2023-07-01T06:14:47.566Z"
   },
   {
    "duration": 61,
    "start_time": "2023-07-01T06:16:43.838Z"
   },
   {
    "duration": 15,
    "start_time": "2023-07-01T06:16:45.415Z"
   },
   {
    "duration": 185,
    "start_time": "2023-07-01T06:16:47.917Z"
   },
   {
    "duration": 97,
    "start_time": "2023-07-01T06:16:59.926Z"
   },
   {
    "duration": 236405,
    "start_time": "2023-07-01T06:17:27.286Z"
   },
   {
    "duration": 89,
    "start_time": "2023-07-01T06:26:45.981Z"
   },
   {
    "duration": 6,
    "start_time": "2023-07-01T06:26:48.570Z"
   },
   {
    "duration": 907678,
    "start_time": "2023-07-01T06:28:17.562Z"
   },
   {
    "duration": 163,
    "start_time": "2023-07-01T06:43:39.572Z"
   },
   {
    "duration": 6,
    "start_time": "2023-07-01T06:43:41.772Z"
   },
   {
    "duration": 61806,
    "start_time": "2023-07-01T06:44:15.332Z"
   },
   {
    "duration": 189,
    "start_time": "2023-07-01T06:45:22.053Z"
   },
   {
    "duration": 6,
    "start_time": "2023-07-01T06:45:24.732Z"
   },
   {
    "duration": 4,
    "start_time": "2023-07-01T06:48:24.592Z"
   },
   {
    "duration": 209,
    "start_time": "2023-07-01T06:48:27.460Z"
   },
   {
    "duration": 9,
    "start_time": "2023-07-01T06:50:42.250Z"
   },
   {
    "duration": 4,
    "start_time": "2023-07-01T06:51:06.771Z"
   },
   {
    "duration": 211,
    "start_time": "2023-07-01T06:51:14.350Z"
   },
   {
    "duration": 236,
    "start_time": "2023-07-01T06:52:14.110Z"
   },
   {
    "duration": 4,
    "start_time": "2023-07-01T06:52:55.370Z"
   },
   {
    "duration": 204,
    "start_time": "2023-07-01T06:52:57.311Z"
   },
   {
    "duration": 4,
    "start_time": "2023-07-01T06:53:43.651Z"
   },
   {
    "duration": 316,
    "start_time": "2023-07-01T06:53:47.500Z"
   },
   {
    "duration": 190,
    "start_time": "2023-07-01T06:53:54.699Z"
   },
   {
    "duration": 224,
    "start_time": "2023-07-01T06:54:03.820Z"
   },
   {
    "duration": 6,
    "start_time": "2023-07-01T06:55:52.762Z"
   },
   {
    "duration": 227,
    "start_time": "2023-07-01T06:55:55.350Z"
   },
   {
    "duration": 193,
    "start_time": "2023-07-01T06:56:04.350Z"
   },
   {
    "duration": 213,
    "start_time": "2023-07-01T06:56:11.270Z"
   },
   {
    "duration": 5,
    "start_time": "2023-07-01T06:57:20.952Z"
   },
   {
    "duration": 216,
    "start_time": "2023-07-01T06:57:23.049Z"
   },
   {
    "duration": 195,
    "start_time": "2023-07-01T06:57:31.364Z"
   },
   {
    "duration": 201,
    "start_time": "2023-07-01T06:57:34.230Z"
   },
   {
    "duration": 6,
    "start_time": "2023-07-01T06:58:37.057Z"
   },
   {
    "duration": 215,
    "start_time": "2023-07-01T06:58:41.150Z"
   },
   {
    "duration": 4,
    "start_time": "2023-07-01T06:58:54.229Z"
   },
   {
    "duration": 212,
    "start_time": "2023-07-01T06:58:58.646Z"
   },
   {
    "duration": 302,
    "start_time": "2023-07-01T06:59:06.350Z"
   },
   {
    "duration": 220,
    "start_time": "2023-07-01T06:59:13.550Z"
   },
   {
    "duration": 333,
    "start_time": "2023-07-01T07:01:58.320Z"
   },
   {
    "duration": 236285,
    "start_time": "2023-07-01T07:02:20.272Z"
   },
   {
    "duration": 8,
    "start_time": "2023-07-01T07:13:38.248Z"
   },
   {
    "duration": 11,
    "start_time": "2023-07-01T07:18:23.601Z"
   },
   {
    "duration": 10,
    "start_time": "2023-07-01T07:18:34.955Z"
   },
   {
    "duration": 11,
    "start_time": "2023-07-01T07:18:46.748Z"
   },
   {
    "duration": 16,
    "start_time": "2023-07-01T07:20:44.683Z"
   },
   {
    "duration": 10,
    "start_time": "2023-07-01T07:23:48.312Z"
   },
   {
    "duration": 11,
    "start_time": "2023-07-01T07:24:37.549Z"
   },
   {
    "duration": 14,
    "start_time": "2023-07-01T07:25:02.747Z"
   },
   {
    "duration": 15,
    "start_time": "2023-07-01T07:25:27.721Z"
   },
   {
    "duration": 2152,
    "start_time": "2023-07-01T07:29:11.052Z"
   },
   {
    "duration": 5,
    "start_time": "2023-07-01T07:34:47.770Z"
   },
   {
    "duration": 319,
    "start_time": "2023-07-01T07:34:50.892Z"
   },
   {
    "duration": 4,
    "start_time": "2023-07-01T07:35:35.941Z"
   },
   {
    "duration": 445,
    "start_time": "2023-07-01T07:35:51.781Z"
   },
   {
    "duration": 5,
    "start_time": "2023-07-01T07:39:06.484Z"
   },
   {
    "duration": 1215,
    "start_time": "2023-07-01T07:39:12.288Z"
   },
   {
    "duration": 5,
    "start_time": "2023-07-01T07:40:03.099Z"
   },
   {
    "duration": 1364,
    "start_time": "2023-07-01T07:40:06.098Z"
   },
   {
    "duration": 4,
    "start_time": "2023-07-01T07:41:43.299Z"
   },
   {
    "duration": 1254,
    "start_time": "2023-07-01T07:41:45.890Z"
   },
   {
    "duration": 5,
    "start_time": "2023-07-01T07:42:16.299Z"
   },
   {
    "duration": 1319,
    "start_time": "2023-07-01T07:42:18.588Z"
   },
   {
    "duration": 4,
    "start_time": "2023-07-01T07:42:47.610Z"
   },
   {
    "duration": 1108,
    "start_time": "2023-07-01T07:42:50.729Z"
   },
   {
    "duration": 4,
    "start_time": "2023-07-01T07:43:30.282Z"
   },
   {
    "duration": 1279,
    "start_time": "2023-07-01T07:43:32.769Z"
   },
   {
    "duration": 4,
    "start_time": "2023-07-01T07:43:58.561Z"
   },
   {
    "duration": 1157,
    "start_time": "2023-07-01T07:44:00.969Z"
   },
   {
    "duration": 1244,
    "start_time": "2023-07-01T07:44:18.946Z"
   },
   {
    "duration": 1295,
    "start_time": "2023-07-01T07:44:31.848Z"
   },
   {
    "duration": 4,
    "start_time": "2023-07-01T07:45:25.524Z"
   },
   {
    "duration": 1197,
    "start_time": "2023-07-01T07:45:27.866Z"
   },
   {
    "duration": 4,
    "start_time": "2023-07-01T07:45:54.970Z"
   },
   {
    "duration": 1127,
    "start_time": "2023-07-01T07:45:57.230Z"
   },
   {
    "duration": 5,
    "start_time": "2023-07-01T07:46:32.417Z"
   },
   {
    "duration": 1200,
    "start_time": "2023-07-01T07:46:35.289Z"
   },
   {
    "duration": 5,
    "start_time": "2023-07-01T07:50:51.031Z"
   },
   {
    "duration": 1164,
    "start_time": "2023-07-01T07:50:54.440Z"
   },
   {
    "duration": 223,
    "start_time": "2023-07-01T07:51:30.972Z"
   },
   {
    "duration": 3,
    "start_time": "2023-07-01T07:52:19.111Z"
   },
   {
    "duration": 5,
    "start_time": "2023-07-01T07:52:40.252Z"
   },
   {
    "duration": 758,
    "start_time": "2023-07-01T07:52:46.761Z"
   },
   {
    "duration": 4,
    "start_time": "2023-07-01T07:53:18.892Z"
   },
   {
    "duration": 1186,
    "start_time": "2023-07-01T07:53:21.421Z"
   },
   {
    "duration": 90,
    "start_time": "2023-07-01T07:57:40.201Z"
   },
   {
    "duration": 4,
    "start_time": "2023-07-01T07:58:04.031Z"
   },
   {
    "duration": 83,
    "start_time": "2023-07-01T07:58:06.931Z"
   },
   {
    "duration": 4,
    "start_time": "2023-07-01T08:00:22.873Z"
   },
   {
    "duration": 1440,
    "start_time": "2023-07-01T08:00:24.992Z"
   },
   {
    "duration": 4,
    "start_time": "2023-07-01T08:01:20.185Z"
   },
   {
    "duration": 1085,
    "start_time": "2023-07-01T08:01:21.721Z"
   },
   {
    "duration": 4,
    "start_time": "2023-07-01T08:01:55.741Z"
   },
   {
    "duration": 1205,
    "start_time": "2023-07-01T08:01:58.512Z"
   },
   {
    "duration": 6,
    "start_time": "2023-07-01T08:02:58.113Z"
   },
   {
    "duration": 1064,
    "start_time": "2023-07-01T08:03:00.032Z"
   },
   {
    "duration": 1188,
    "start_time": "2023-07-01T08:03:07.262Z"
   },
   {
    "duration": 1417,
    "start_time": "2023-07-01T08:03:18.271Z"
   },
   {
    "duration": 1234,
    "start_time": "2023-07-01T08:03:28.192Z"
   },
   {
    "duration": 140,
    "start_time": "2023-07-02T03:20:35.526Z"
   },
   {
    "duration": 188,
    "start_time": "2023-07-02T03:20:48.059Z"
   },
   {
    "duration": 394,
    "start_time": "2023-07-02T03:21:43.835Z"
   },
   {
    "duration": 202,
    "start_time": "2023-07-02T03:21:53.227Z"
   },
   {
    "duration": 6,
    "start_time": "2023-07-02T03:22:58.635Z"
   },
   {
    "duration": 127,
    "start_time": "2023-07-02T03:33:27.857Z"
   },
   {
    "duration": 50,
    "start_time": "2023-07-02T03:43:40.939Z"
   },
   {
    "duration": 1742,
    "start_time": "2023-07-02T03:44:01.125Z"
   },
   {
    "duration": 1328,
    "start_time": "2023-07-02T03:44:03.927Z"
   },
   {
    "duration": 18,
    "start_time": "2023-07-02T03:44:05.542Z"
   },
   {
    "duration": 152,
    "start_time": "2023-07-02T03:44:07.297Z"
   },
   {
    "duration": 13,
    "start_time": "2023-07-02T03:44:09.221Z"
   },
   {
    "duration": 768,
    "start_time": "2023-07-02T03:44:11.169Z"
   },
   {
    "duration": 86,
    "start_time": "2023-07-02T03:44:17.638Z"
   },
   {
    "duration": 491,
    "start_time": "2023-07-02T03:44:31.438Z"
   },
   {
    "duration": 95,
    "start_time": "2023-07-02T03:44:33.248Z"
   },
   {
    "duration": 46,
    "start_time": "2023-07-02T03:44:41.132Z"
   },
   {
    "duration": 87,
    "start_time": "2023-07-02T03:44:42.557Z"
   },
   {
    "duration": 77,
    "start_time": "2023-07-02T03:44:48.469Z"
   },
   {
    "duration": 6,
    "start_time": "2023-07-02T03:44:49.933Z"
   },
   {
    "duration": 37,
    "start_time": "2023-07-02T03:44:52.926Z"
   },
   {
    "duration": 55,
    "start_time": "2023-07-02T03:44:56.732Z"
   },
   {
    "duration": 3594,
    "start_time": "2023-07-02T03:44:59.089Z"
   },
   {
    "duration": 3593,
    "start_time": "2023-07-02T03:45:02.685Z"
   },
   {
    "duration": 12,
    "start_time": "2023-07-02T03:45:46.058Z"
   },
   {
    "duration": 961,
    "start_time": "2023-07-02T03:46:15.130Z"
   },
   {
    "duration": 2095,
    "start_time": "2023-07-02T03:46:50.249Z"
   },
   {
    "duration": 2119,
    "start_time": "2023-07-02T03:46:59.725Z"
   },
   {
    "duration": 6,
    "start_time": "2023-07-02T03:47:16.368Z"
   },
   {
    "duration": 9,
    "start_time": "2023-07-02T03:47:35.472Z"
   },
   {
    "duration": 1459,
    "start_time": "2023-07-02T03:47:54.334Z"
   },
   {
    "duration": 10,
    "start_time": "2023-07-02T03:48:33.577Z"
   },
   {
    "duration": 10,
    "start_time": "2023-07-02T03:48:43.041Z"
   },
   {
    "duration": 118,
    "start_time": "2023-07-02T03:53:38.851Z"
   },
   {
    "duration": 157,
    "start_time": "2023-07-02T03:59:11.777Z"
   },
   {
    "duration": 563,
    "start_time": "2023-07-02T04:04:46.474Z"
   },
   {
    "duration": 62,
    "start_time": "2023-07-02T04:05:28.891Z"
   },
   {
    "duration": 101,
    "start_time": "2023-07-02T04:05:31.535Z"
   },
   {
    "duration": 7,
    "start_time": "2023-07-02T04:05:34.235Z"
   },
   {
    "duration": 4,
    "start_time": "2023-07-02T04:06:11.751Z"
   },
   {
    "duration": 747,
    "start_time": "2023-07-02T04:06:13.430Z"
   },
   {
    "duration": 14,
    "start_time": "2023-07-02T04:06:14.791Z"
   },
   {
    "duration": 144,
    "start_time": "2023-07-02T04:06:16.291Z"
   },
   {
    "duration": 6,
    "start_time": "2023-07-02T04:06:17.934Z"
   },
   {
    "duration": 777,
    "start_time": "2023-07-02T04:06:31.771Z"
   },
   {
    "duration": 458,
    "start_time": "2023-07-02T04:06:38.982Z"
   },
   {
    "duration": 105,
    "start_time": "2023-07-02T04:06:41.228Z"
   },
   {
    "duration": 57,
    "start_time": "2023-07-02T04:06:45.471Z"
   },
   {
    "duration": 96,
    "start_time": "2023-07-02T04:06:46.890Z"
   },
   {
    "duration": 66,
    "start_time": "2023-07-02T04:06:51.551Z"
   },
   {
    "duration": 106,
    "start_time": "2023-07-02T04:06:54.239Z"
   },
   {
    "duration": 5,
    "start_time": "2023-07-02T04:06:55.560Z"
   },
   {
    "duration": 33,
    "start_time": "2023-07-02T04:07:00.954Z"
   },
   {
    "duration": 58,
    "start_time": "2023-07-02T04:07:03.351Z"
   },
   {
    "duration": 3166,
    "start_time": "2023-07-02T04:07:08.294Z"
   },
   {
    "duration": 25,
    "start_time": "2023-07-02T04:07:13.799Z"
   },
   {
    "duration": 19,
    "start_time": "2023-07-02T04:07:16.242Z"
   },
   {
    "duration": 7,
    "start_time": "2023-07-02T04:07:19.241Z"
   },
   {
    "duration": 5,
    "start_time": "2023-07-02T04:07:24.068Z"
   },
   {
    "duration": 39,
    "start_time": "2023-07-02T04:07:32.590Z"
   },
   {
    "duration": 9,
    "start_time": "2023-07-02T04:07:34.227Z"
   },
   {
    "duration": 16,
    "start_time": "2023-07-02T04:07:39.930Z"
   },
   {
    "duration": 349,
    "start_time": "2023-07-02T04:07:42.391Z"
   },
   {
    "duration": 8,
    "start_time": "2023-07-02T04:07:46.232Z"
   },
   {
    "duration": 31,
    "start_time": "2023-07-02T04:07:49.119Z"
   },
   {
    "duration": 34,
    "start_time": "2023-07-02T04:07:52.644Z"
   },
   {
    "duration": 15,
    "start_time": "2023-07-02T04:07:55.070Z"
   },
   {
    "duration": 5,
    "start_time": "2023-07-02T04:08:01.669Z"
   },
   {
    "duration": 39,
    "start_time": "2023-07-02T04:08:04.149Z"
   },
   {
    "duration": 5,
    "start_time": "2023-07-02T04:08:09.190Z"
   },
   {
    "duration": 35,
    "start_time": "2023-07-02T04:08:10.590Z"
   },
   {
    "duration": 26,
    "start_time": "2023-07-02T04:08:13.770Z"
   },
   {
    "duration": 390,
    "start_time": "2023-07-02T04:08:15.450Z"
   },
   {
    "duration": 355,
    "start_time": "2023-07-02T04:09:23.088Z"
   },
   {
    "duration": 116,
    "start_time": "2023-07-02T04:49:08.303Z"
   },
   {
    "duration": 12,
    "start_time": "2023-07-02T05:37:13.319Z"
   },
   {
    "duration": 12,
    "start_time": "2023-07-02T05:37:26.998Z"
   },
   {
    "duration": 1434,
    "start_time": "2023-07-02T05:37:53.729Z"
   },
   {
    "duration": 769,
    "start_time": "2023-07-02T05:37:55.929Z"
   },
   {
    "duration": 16,
    "start_time": "2023-07-02T05:37:57.219Z"
   },
   {
    "duration": 104,
    "start_time": "2023-07-02T05:37:59.569Z"
   },
   {
    "duration": 4,
    "start_time": "2023-07-02T05:38:01.132Z"
   },
   {
    "duration": 675,
    "start_time": "2023-07-02T05:38:02.609Z"
   },
   {
    "duration": 413,
    "start_time": "2023-07-02T05:38:06.399Z"
   },
   {
    "duration": 88,
    "start_time": "2023-07-02T05:38:07.648Z"
   },
   {
    "duration": 41,
    "start_time": "2023-07-02T05:38:10.289Z"
   },
   {
    "duration": 77,
    "start_time": "2023-07-02T05:38:11.598Z"
   },
   {
    "duration": 51,
    "start_time": "2023-07-02T05:38:14.189Z"
   },
   {
    "duration": 61,
    "start_time": "2023-07-02T05:38:15.969Z"
   },
   {
    "duration": 5,
    "start_time": "2023-07-02T05:38:17.586Z"
   },
   {
    "duration": 24,
    "start_time": "2023-07-02T05:38:19.739Z"
   },
   {
    "duration": 29,
    "start_time": "2023-07-02T05:38:21.611Z"
   },
   {
    "duration": 2932,
    "start_time": "2023-07-02T05:38:23.649Z"
   },
   {
    "duration": 10,
    "start_time": "2023-07-02T05:38:26.582Z"
   },
   {
    "duration": 16,
    "start_time": "2023-07-02T05:38:26.969Z"
   },
   {
    "duration": 5,
    "start_time": "2023-07-02T05:38:31.739Z"
   },
   {
    "duration": 94,
    "start_time": "2023-07-02T05:38:33.249Z"
   },
   {
    "duration": 31,
    "start_time": "2023-07-02T05:38:45.339Z"
   },
   {
    "duration": 5,
    "start_time": "2023-07-02T05:38:46.658Z"
   },
   {
    "duration": 12,
    "start_time": "2023-07-02T05:38:49.840Z"
   },
   {
    "duration": 245,
    "start_time": "2023-07-02T05:38:53.329Z"
   },
   {
    "duration": 9,
    "start_time": "2023-07-02T05:38:57.278Z"
   },
   {
    "duration": 29,
    "start_time": "2023-07-02T05:39:00.899Z"
   },
   {
    "duration": 23,
    "start_time": "2023-07-02T05:39:02.468Z"
   },
   {
    "duration": 15,
    "start_time": "2023-07-02T05:39:03.918Z"
   },
   {
    "duration": 7,
    "start_time": "2023-07-02T05:39:07.889Z"
   },
   {
    "duration": 34,
    "start_time": "2023-07-02T05:39:11.013Z"
   },
   {
    "duration": 277,
    "start_time": "2023-07-02T05:39:12.650Z"
   },
   {
    "duration": 6,
    "start_time": "2023-07-02T05:39:20.858Z"
   },
   {
    "duration": 10,
    "start_time": "2023-07-02T05:39:22.130Z"
   },
   {
    "duration": 12,
    "start_time": "2023-07-02T05:39:23.561Z"
   },
   {
    "duration": 332,
    "start_time": "2023-07-02T05:39:27.168Z"
   },
   {
    "duration": 56,
    "start_time": "2023-07-02T05:39:32.067Z"
   },
   {
    "duration": 574,
    "start_time": "2023-07-02T05:39:33.648Z"
   },
   {
    "duration": 18,
    "start_time": "2023-07-02T05:39:41.849Z"
   },
   {
    "duration": 15,
    "start_time": "2023-07-02T05:39:43.548Z"
   },
   {
    "duration": 5,
    "start_time": "2023-07-02T05:39:46.119Z"
   },
   {
    "duration": 3,
    "start_time": "2023-07-02T05:39:49.488Z"
   },
   {
    "duration": 439,
    "start_time": "2023-07-02T05:39:54.059Z"
   },
   {
    "duration": 19,
    "start_time": "2023-07-02T05:39:55.426Z"
   },
   {
    "duration": 42,
    "start_time": "2023-07-02T05:39:58.659Z"
   },
   {
    "duration": 3,
    "start_time": "2023-07-02T05:39:59.969Z"
   },
   {
    "duration": 114,
    "start_time": "2023-07-02T05:40:04.150Z"
   },
   {
    "duration": 8,
    "start_time": "2023-07-02T05:40:07.611Z"
   },
   {
    "duration": 9,
    "start_time": "2023-07-02T05:40:13.479Z"
   },
   {
    "duration": 67,
    "start_time": "2023-07-02T05:41:31.970Z"
   },
   {
    "duration": 99,
    "start_time": "2023-07-02T05:41:34.449Z"
   },
   {
    "duration": 481,
    "start_time": "2023-07-02T05:42:18.689Z"
   },
   {
    "duration": 955,
    "start_time": "2023-07-02T05:44:44.391Z"
   },
   {
    "duration": 5,
    "start_time": "2023-07-02T05:50:18.053Z"
   },
   {
    "duration": 75,
    "start_time": "2023-07-02T05:51:25.764Z"
   },
   {
    "duration": 4,
    "start_time": "2023-07-02T05:51:48.372Z"
   },
   {
    "duration": 74,
    "start_time": "2023-07-02T05:51:51.852Z"
   },
   {
    "duration": 4,
    "start_time": "2023-07-02T05:52:10.754Z"
   },
   {
    "duration": 499,
    "start_time": "2023-07-02T05:52:13.170Z"
   },
   {
    "duration": 13,
    "start_time": "2023-07-02T05:54:53.099Z"
   },
   {
    "duration": 480,
    "start_time": "2023-07-02T05:54:57.173Z"
   },
   {
    "duration": 4,
    "start_time": "2023-07-02T05:55:19.373Z"
   },
   {
    "duration": 515,
    "start_time": "2023-07-02T05:55:23.324Z"
   },
   {
    "duration": 4,
    "start_time": "2023-07-02T05:55:55.383Z"
   },
   {
    "duration": 231,
    "start_time": "2023-07-02T05:55:58.644Z"
   },
   {
    "duration": 4,
    "start_time": "2023-07-02T05:57:08.334Z"
   },
   {
    "duration": 4,
    "start_time": "2023-07-02T05:57:15.384Z"
   },
   {
    "duration": 545,
    "start_time": "2023-07-02T05:57:19.836Z"
   },
   {
    "duration": 3,
    "start_time": "2023-07-02T05:57:33.664Z"
   },
   {
    "duration": 482,
    "start_time": "2023-07-02T05:57:38.603Z"
   },
   {
    "duration": 934,
    "start_time": "2023-07-02T05:58:36.864Z"
   },
   {
    "duration": 82,
    "start_time": "2023-07-02T06:19:46.814Z"
   },
   {
    "duration": 1519,
    "start_time": "2023-07-02T06:23:52.626Z"
   },
   {
    "duration": 715,
    "start_time": "2023-07-02T06:23:54.148Z"
   },
   {
    "duration": 30,
    "start_time": "2023-07-02T06:23:54.865Z"
   },
   {
    "duration": 121,
    "start_time": "2023-07-02T06:23:54.896Z"
   },
   {
    "duration": 7,
    "start_time": "2023-07-02T06:23:55.019Z"
   },
   {
    "duration": 946,
    "start_time": "2023-07-02T06:23:55.027Z"
   },
   {
    "duration": 503,
    "start_time": "2023-07-02T06:23:55.975Z"
   },
   {
    "duration": 91,
    "start_time": "2023-07-02T06:23:56.479Z"
   },
   {
    "duration": 40,
    "start_time": "2023-07-02T06:23:56.571Z"
   },
   {
    "duration": 71,
    "start_time": "2023-07-02T06:23:56.612Z"
   },
   {
    "duration": 59,
    "start_time": "2023-07-02T06:23:56.684Z"
   },
   {
    "duration": 266,
    "start_time": "2023-07-02T06:23:56.744Z"
   },
   {
    "duration": 5,
    "start_time": "2023-07-02T06:23:57.011Z"
   },
   {
    "duration": 27,
    "start_time": "2023-07-02T06:23:57.019Z"
   },
   {
    "duration": 31,
    "start_time": "2023-07-02T06:23:57.048Z"
   },
   {
    "duration": 2824,
    "start_time": "2023-07-02T06:23:57.080Z"
   },
   {
    "duration": 11,
    "start_time": "2023-07-02T06:23:59.906Z"
   },
   {
    "duration": 22,
    "start_time": "2023-07-02T06:23:59.919Z"
   },
   {
    "duration": 7,
    "start_time": "2023-07-02T06:23:59.943Z"
   },
   {
    "duration": 61,
    "start_time": "2023-07-02T06:23:59.952Z"
   },
   {
    "duration": 8,
    "start_time": "2023-07-02T06:24:00.015Z"
   },
   {
    "duration": 75,
    "start_time": "2023-07-02T06:24:00.025Z"
   },
   {
    "duration": 298,
    "start_time": "2023-07-02T06:24:00.102Z"
   },
   {
    "duration": 8,
    "start_time": "2023-07-02T06:24:00.402Z"
   },
   {
    "duration": 45,
    "start_time": "2023-07-02T06:24:00.411Z"
   },
   {
    "duration": 48,
    "start_time": "2023-07-02T06:24:00.457Z"
   },
   {
    "duration": 78,
    "start_time": "2023-07-02T06:24:00.506Z"
   },
   {
    "duration": 56,
    "start_time": "2023-07-02T06:24:00.586Z"
   },
   {
    "duration": 75,
    "start_time": "2023-07-02T06:24:00.644Z"
   },
   {
    "duration": 20,
    "start_time": "2023-07-02T06:24:00.722Z"
   },
   {
    "duration": 51,
    "start_time": "2023-07-02T06:24:00.744Z"
   },
   {
    "duration": 38,
    "start_time": "2023-07-02T06:24:00.797Z"
   },
   {
    "duration": 344,
    "start_time": "2023-07-02T06:24:00.837Z"
   },
   {
    "duration": 4,
    "start_time": "2023-07-02T06:24:01.182Z"
   },
   {
    "duration": 591,
    "start_time": "2023-07-02T06:24:01.187Z"
   },
   {
    "duration": 27,
    "start_time": "2023-07-02T06:24:01.780Z"
   },
   {
    "duration": 22,
    "start_time": "2023-07-02T06:24:01.809Z"
   },
   {
    "duration": 42,
    "start_time": "2023-07-02T06:24:01.833Z"
   },
   {
    "duration": 42,
    "start_time": "2023-07-02T06:24:01.877Z"
   },
   {
    "duration": 486,
    "start_time": "2023-07-02T06:24:01.921Z"
   },
   {
    "duration": 22,
    "start_time": "2023-07-02T06:24:02.411Z"
   },
   {
    "duration": 74,
    "start_time": "2023-07-02T06:24:02.435Z"
   },
   {
    "duration": 33,
    "start_time": "2023-07-02T06:24:02.511Z"
   },
   {
    "duration": 82,
    "start_time": "2023-07-02T06:24:02.546Z"
   },
   {
    "duration": 3,
    "start_time": "2023-07-02T06:24:02.629Z"
   },
   {
    "duration": 1676,
    "start_time": "2023-07-02T06:25:34.843Z"
   },
   {
    "duration": 713,
    "start_time": "2023-07-02T06:25:36.521Z"
   },
   {
    "duration": 18,
    "start_time": "2023-07-02T06:25:37.235Z"
   },
   {
    "duration": 123,
    "start_time": "2023-07-02T06:25:37.255Z"
   },
   {
    "duration": 4,
    "start_time": "2023-07-02T06:25:37.380Z"
   },
   {
    "duration": 721,
    "start_time": "2023-07-02T06:25:37.386Z"
   },
   {
    "duration": 443,
    "start_time": "2023-07-02T06:25:38.108Z"
   },
   {
    "duration": 90,
    "start_time": "2023-07-02T06:25:38.552Z"
   },
   {
    "duration": 35,
    "start_time": "2023-07-02T06:25:38.643Z"
   },
   {
    "duration": 140,
    "start_time": "2023-07-02T06:25:38.680Z"
   },
   {
    "duration": 61,
    "start_time": "2023-07-02T06:25:38.822Z"
   },
   {
    "duration": 69,
    "start_time": "2023-07-02T06:25:38.884Z"
   },
   {
    "duration": 5,
    "start_time": "2023-07-02T06:25:38.955Z"
   },
   {
    "duration": 37,
    "start_time": "2023-07-02T06:25:38.963Z"
   },
   {
    "duration": 35,
    "start_time": "2023-07-02T06:25:39.002Z"
   },
   {
    "duration": 3129,
    "start_time": "2023-07-02T06:25:39.039Z"
   },
   {
    "duration": 11,
    "start_time": "2023-07-02T06:25:42.170Z"
   },
   {
    "duration": 31,
    "start_time": "2023-07-02T06:25:42.182Z"
   },
   {
    "duration": 6,
    "start_time": "2023-07-02T06:25:42.214Z"
   },
   {
    "duration": 32,
    "start_time": "2023-07-02T06:25:42.221Z"
   },
   {
    "duration": 10,
    "start_time": "2023-07-02T06:25:42.254Z"
   },
   {
    "duration": 34,
    "start_time": "2023-07-02T06:25:42.266Z"
   },
   {
    "duration": 231,
    "start_time": "2023-07-02T06:25:42.302Z"
   },
   {
    "duration": 8,
    "start_time": "2023-07-02T06:25:42.534Z"
   },
   {
    "duration": 34,
    "start_time": "2023-07-02T06:25:42.543Z"
   },
   {
    "duration": 40,
    "start_time": "2023-07-02T06:25:42.579Z"
   },
   {
    "duration": 18,
    "start_time": "2023-07-02T06:25:42.621Z"
   },
   {
    "duration": 5,
    "start_time": "2023-07-02T06:25:42.641Z"
   },
   {
    "duration": 52,
    "start_time": "2023-07-02T06:25:42.648Z"
   },
   {
    "duration": 6,
    "start_time": "2023-07-02T06:25:42.702Z"
   },
   {
    "duration": 25,
    "start_time": "2023-07-02T06:25:42.709Z"
   },
   {
    "duration": 12,
    "start_time": "2023-07-02T06:25:42.736Z"
   },
   {
    "duration": 351,
    "start_time": "2023-07-02T06:25:42.750Z"
   },
   {
    "duration": 3,
    "start_time": "2023-07-02T06:25:43.103Z"
   },
   {
    "duration": 543,
    "start_time": "2023-07-02T06:25:43.108Z"
   },
   {
    "duration": 17,
    "start_time": "2023-07-02T06:25:43.653Z"
   },
   {
    "duration": 31,
    "start_time": "2023-07-02T06:25:43.672Z"
   },
   {
    "duration": 7,
    "start_time": "2023-07-02T06:25:43.705Z"
   },
   {
    "duration": 7,
    "start_time": "2023-07-02T06:25:43.713Z"
   },
   {
    "duration": 453,
    "start_time": "2023-07-02T06:25:43.721Z"
   },
   {
    "duration": 25,
    "start_time": "2023-07-02T06:25:44.178Z"
   },
   {
    "duration": 34,
    "start_time": "2023-07-02T06:25:44.205Z"
   },
   {
    "duration": 5,
    "start_time": "2023-07-02T06:25:44.241Z"
   },
   {
    "duration": 91,
    "start_time": "2023-07-02T06:25:44.247Z"
   },
   {
    "duration": 3,
    "start_time": "2023-07-02T06:25:44.339Z"
   },
   {
    "duration": 1490953,
    "start_time": "2023-07-02T06:25:44.343Z"
   },
   {
    "duration": 268,
    "start_time": "2023-07-02T06:50:35.300Z"
   },
   {
    "duration": 5,
    "start_time": "2023-07-02T06:50:35.570Z"
   },
   {
    "duration": 62,
    "start_time": "2023-07-02T06:50:35.576Z"
   },
   {
    "duration": 22,
    "start_time": "2023-07-02T06:50:35.639Z"
   },
   {
    "duration": 183,
    "start_time": "2023-07-02T06:50:35.662Z"
   },
   {
    "duration": 78,
    "start_time": "2023-07-02T06:50:35.847Z"
   },
   {
    "duration": 0,
    "start_time": "2023-07-02T06:50:35.927Z"
   },
   {
    "duration": 0,
    "start_time": "2023-07-02T06:50:35.929Z"
   },
   {
    "duration": 0,
    "start_time": "2023-07-02T06:50:35.930Z"
   },
   {
    "duration": 0,
    "start_time": "2023-07-02T06:50:35.931Z"
   },
   {
    "duration": 0,
    "start_time": "2023-07-02T06:50:35.932Z"
   },
   {
    "duration": 0,
    "start_time": "2023-07-02T06:50:35.933Z"
   },
   {
    "duration": 0,
    "start_time": "2023-07-02T06:50:35.934Z"
   },
   {
    "duration": 0,
    "start_time": "2023-07-02T06:50:35.934Z"
   },
   {
    "duration": 0,
    "start_time": "2023-07-02T06:50:35.935Z"
   },
   {
    "duration": 0,
    "start_time": "2023-07-02T06:50:35.936Z"
   },
   {
    "duration": 1652,
    "start_time": "2023-07-02T06:54:20.022Z"
   },
   {
    "duration": 798,
    "start_time": "2023-07-02T06:54:21.676Z"
   },
   {
    "duration": 18,
    "start_time": "2023-07-02T06:54:22.475Z"
   },
   {
    "duration": 112,
    "start_time": "2023-07-02T06:54:22.494Z"
   },
   {
    "duration": 4,
    "start_time": "2023-07-02T06:54:22.608Z"
   },
   {
    "duration": 718,
    "start_time": "2023-07-02T06:54:22.613Z"
   },
   {
    "duration": 473,
    "start_time": "2023-07-02T06:54:23.333Z"
   },
   {
    "duration": 92,
    "start_time": "2023-07-02T06:54:23.807Z"
   },
   {
    "duration": 40,
    "start_time": "2023-07-02T06:54:23.901Z"
   },
   {
    "duration": 91,
    "start_time": "2023-07-02T06:54:23.943Z"
   },
   {
    "duration": 43,
    "start_time": "2023-07-02T06:54:24.036Z"
   },
   {
    "duration": 60,
    "start_time": "2023-07-02T06:54:24.080Z"
   },
   {
    "duration": 4,
    "start_time": "2023-07-02T06:54:24.141Z"
   },
   {
    "duration": 24,
    "start_time": "2023-07-02T06:54:24.148Z"
   },
   {
    "duration": 50,
    "start_time": "2023-07-02T06:54:24.174Z"
   },
   {
    "duration": 2901,
    "start_time": "2023-07-02T06:54:24.226Z"
   },
   {
    "duration": 10,
    "start_time": "2023-07-02T06:54:27.128Z"
   },
   {
    "duration": 19,
    "start_time": "2023-07-02T06:54:27.139Z"
   },
   {
    "duration": 5,
    "start_time": "2023-07-02T06:54:27.160Z"
   },
   {
    "duration": 49,
    "start_time": "2023-07-02T06:54:27.166Z"
   },
   {
    "duration": 5,
    "start_time": "2023-07-02T06:54:27.216Z"
   },
   {
    "duration": 24,
    "start_time": "2023-07-02T06:54:27.222Z"
   },
   {
    "duration": 234,
    "start_time": "2023-07-02T06:54:27.247Z"
   },
   {
    "duration": 7,
    "start_time": "2023-07-02T06:54:27.483Z"
   },
   {
    "duration": 23,
    "start_time": "2023-07-02T06:54:27.500Z"
   },
   {
    "duration": 25,
    "start_time": "2023-07-02T06:54:27.525Z"
   },
   {
    "duration": 24,
    "start_time": "2023-07-02T06:54:27.555Z"
   },
   {
    "duration": 20,
    "start_time": "2023-07-02T06:54:27.580Z"
   },
   {
    "duration": 30,
    "start_time": "2023-07-02T06:54:27.601Z"
   },
   {
    "duration": 5,
    "start_time": "2023-07-02T06:54:27.632Z"
   },
   {
    "duration": 17,
    "start_time": "2023-07-02T06:54:27.639Z"
   },
   {
    "duration": 13,
    "start_time": "2023-07-02T06:54:27.657Z"
   },
   {
    "duration": 337,
    "start_time": "2023-07-02T06:54:27.671Z"
   },
   {
    "duration": 3,
    "start_time": "2023-07-02T06:54:28.009Z"
   },
   {
    "duration": 595,
    "start_time": "2023-07-02T06:54:28.013Z"
   },
   {
    "duration": 18,
    "start_time": "2023-07-02T06:54:28.610Z"
   },
   {
    "duration": 17,
    "start_time": "2023-07-02T06:54:28.629Z"
   },
   {
    "duration": 6,
    "start_time": "2023-07-02T06:54:28.648Z"
   },
   {
    "duration": 5,
    "start_time": "2023-07-02T06:54:28.656Z"
   },
   {
    "duration": 482,
    "start_time": "2023-07-02T06:54:28.663Z"
   },
   {
    "duration": 20,
    "start_time": "2023-07-02T06:54:29.149Z"
   },
   {
    "duration": 64,
    "start_time": "2023-07-02T06:54:29.171Z"
   },
   {
    "duration": 3,
    "start_time": "2023-07-02T06:54:29.237Z"
   },
   {
    "duration": 79,
    "start_time": "2023-07-02T06:54:29.242Z"
   },
   {
    "duration": 2,
    "start_time": "2023-07-02T06:54:29.323Z"
   },
   {
    "duration": 1511,
    "start_time": "2023-07-02T06:56:15.232Z"
   },
   {
    "duration": 723,
    "start_time": "2023-07-02T06:56:16.745Z"
   },
   {
    "duration": 15,
    "start_time": "2023-07-02T06:56:17.469Z"
   },
   {
    "duration": 119,
    "start_time": "2023-07-02T06:56:17.486Z"
   },
   {
    "duration": 4,
    "start_time": "2023-07-02T06:56:17.607Z"
   },
   {
    "duration": 710,
    "start_time": "2023-07-02T06:56:17.612Z"
   },
   {
    "duration": 423,
    "start_time": "2023-07-02T06:56:18.324Z"
   },
   {
    "duration": 95,
    "start_time": "2023-07-02T06:56:18.749Z"
   },
   {
    "duration": 37,
    "start_time": "2023-07-02T06:56:18.845Z"
   },
   {
    "duration": 85,
    "start_time": "2023-07-02T06:56:18.883Z"
   },
   {
    "duration": 60,
    "start_time": "2023-07-02T06:56:18.970Z"
   },
   {
    "duration": 74,
    "start_time": "2023-07-02T06:56:19.032Z"
   },
   {
    "duration": 6,
    "start_time": "2023-07-02T06:56:19.108Z"
   },
   {
    "duration": 28,
    "start_time": "2023-07-02T06:56:19.117Z"
   },
   {
    "duration": 56,
    "start_time": "2023-07-02T06:56:19.147Z"
   },
   {
    "duration": 3057,
    "start_time": "2023-07-02T06:56:19.204Z"
   },
   {
    "duration": 12,
    "start_time": "2023-07-02T06:56:22.263Z"
   },
   {
    "duration": 30,
    "start_time": "2023-07-02T06:56:22.276Z"
   },
   {
    "duration": 6,
    "start_time": "2023-07-02T06:56:22.308Z"
   },
   {
    "duration": 35,
    "start_time": "2023-07-02T06:56:22.315Z"
   },
   {
    "duration": 10,
    "start_time": "2023-07-02T06:56:22.351Z"
   },
   {
    "duration": 38,
    "start_time": "2023-07-02T06:56:22.363Z"
   },
   {
    "duration": 261,
    "start_time": "2023-07-02T06:56:22.403Z"
   },
   {
    "duration": 7,
    "start_time": "2023-07-02T06:56:22.667Z"
   },
   {
    "duration": 40,
    "start_time": "2023-07-02T06:56:22.676Z"
   },
   {
    "duration": 24,
    "start_time": "2023-07-02T06:56:22.719Z"
   },
   {
    "duration": 16,
    "start_time": "2023-07-02T06:56:22.745Z"
   },
   {
    "duration": 9,
    "start_time": "2023-07-02T06:56:22.763Z"
   },
   {
    "duration": 54,
    "start_time": "2023-07-02T06:56:22.773Z"
   },
   {
    "duration": 6,
    "start_time": "2023-07-02T06:56:22.828Z"
   },
   {
    "duration": 12,
    "start_time": "2023-07-02T06:56:22.835Z"
   },
   {
    "duration": 13,
    "start_time": "2023-07-02T06:56:22.849Z"
   },
   {
    "duration": 404,
    "start_time": "2023-07-02T06:56:22.863Z"
   },
   {
    "duration": 3,
    "start_time": "2023-07-02T06:56:23.269Z"
   },
   {
    "duration": 554,
    "start_time": "2023-07-02T06:56:23.273Z"
   },
   {
    "duration": 19,
    "start_time": "2023-07-02T06:56:23.828Z"
   },
   {
    "duration": 16,
    "start_time": "2023-07-02T06:56:23.848Z"
   },
   {
    "duration": 38,
    "start_time": "2023-07-02T06:56:23.865Z"
   },
   {
    "duration": 23,
    "start_time": "2023-07-02T06:56:23.904Z"
   },
   {
    "duration": 484,
    "start_time": "2023-07-02T06:56:23.929Z"
   },
   {
    "duration": 39,
    "start_time": "2023-07-02T06:56:24.418Z"
   },
   {
    "duration": 52,
    "start_time": "2023-07-02T06:56:24.459Z"
   },
   {
    "duration": 5,
    "start_time": "2023-07-02T06:56:24.512Z"
   },
   {
    "duration": 73,
    "start_time": "2023-07-02T06:56:24.518Z"
   },
   {
    "duration": 3,
    "start_time": "2023-07-02T06:56:24.600Z"
   },
   {
    "duration": 2660,
    "start_time": "2023-07-02T10:21:54.132Z"
   },
   {
    "duration": 3550,
    "start_time": "2023-07-02T10:21:56.795Z"
   },
   {
    "duration": 33,
    "start_time": "2023-07-02T10:22:00.347Z"
   },
   {
    "duration": 164,
    "start_time": "2023-07-02T10:22:00.382Z"
   },
   {
    "duration": 7,
    "start_time": "2023-07-02T10:22:00.550Z"
   },
   {
    "duration": 1119,
    "start_time": "2023-07-02T10:22:00.566Z"
   },
   {
    "duration": 699,
    "start_time": "2023-07-02T10:22:01.686Z"
   },
   {
    "duration": 132,
    "start_time": "2023-07-02T10:22:02.387Z"
   },
   {
    "duration": 55,
    "start_time": "2023-07-02T10:22:02.521Z"
   },
   {
    "duration": 103,
    "start_time": "2023-07-02T10:22:02.582Z"
   },
   {
    "duration": 55,
    "start_time": "2023-07-02T10:22:02.696Z"
   },
   {
    "duration": 71,
    "start_time": "2023-07-02T10:22:02.753Z"
   },
   {
    "duration": 5,
    "start_time": "2023-07-02T10:22:02.826Z"
   },
   {
    "duration": 57,
    "start_time": "2023-07-02T10:22:02.834Z"
   },
   {
    "duration": 49,
    "start_time": "2023-07-02T10:22:02.893Z"
   },
   {
    "duration": 3934,
    "start_time": "2023-07-02T10:22:02.944Z"
   },
   {
    "duration": 23,
    "start_time": "2023-07-02T10:22:06.880Z"
   },
   {
    "duration": 23,
    "start_time": "2023-07-02T10:22:06.910Z"
   },
   {
    "duration": 9,
    "start_time": "2023-07-02T10:22:06.936Z"
   },
   {
    "duration": 58,
    "start_time": "2023-07-02T10:22:06.947Z"
   },
   {
    "duration": 6,
    "start_time": "2023-07-02T10:22:07.008Z"
   },
   {
    "duration": 16,
    "start_time": "2023-07-02T10:22:07.016Z"
   },
   {
    "duration": 356,
    "start_time": "2023-07-02T10:22:07.034Z"
   },
   {
    "duration": 14,
    "start_time": "2023-07-02T10:22:07.392Z"
   },
   {
    "duration": 35,
    "start_time": "2023-07-02T10:22:07.412Z"
   },
   {
    "duration": 49,
    "start_time": "2023-07-02T10:22:07.450Z"
   },
   {
    "duration": 21,
    "start_time": "2023-07-02T10:22:07.502Z"
   },
   {
    "duration": 5,
    "start_time": "2023-07-02T10:22:07.525Z"
   },
   {
    "duration": 65,
    "start_time": "2023-07-02T10:22:07.532Z"
   },
   {
    "duration": 7,
    "start_time": "2023-07-02T10:22:07.599Z"
   },
   {
    "duration": 15,
    "start_time": "2023-07-02T10:22:07.607Z"
   },
   {
    "duration": 16,
    "start_time": "2023-07-02T10:22:07.624Z"
   },
   {
    "duration": 439,
    "start_time": "2023-07-02T10:22:07.642Z"
   },
   {
    "duration": 11,
    "start_time": "2023-07-02T10:22:08.082Z"
   },
   {
    "duration": 756,
    "start_time": "2023-07-02T10:22:08.095Z"
   },
   {
    "duration": 35,
    "start_time": "2023-07-02T10:22:08.853Z"
   },
   {
    "duration": 19,
    "start_time": "2023-07-02T10:22:08.896Z"
   },
   {
    "duration": 9,
    "start_time": "2023-07-02T10:22:08.917Z"
   },
   {
    "duration": 10,
    "start_time": "2023-07-02T10:22:08.928Z"
   },
   {
    "duration": 578,
    "start_time": "2023-07-02T10:22:08.940Z"
   },
   {
    "duration": 26,
    "start_time": "2023-07-02T10:22:09.525Z"
   },
   {
    "duration": 82,
    "start_time": "2023-07-02T10:22:09.553Z"
   },
   {
    "duration": 4,
    "start_time": "2023-07-02T10:22:09.637Z"
   },
   {
    "duration": 135,
    "start_time": "2023-07-02T10:22:09.643Z"
   },
   {
    "duration": 11,
    "start_time": "2023-07-02T10:22:09.779Z"
   },
   {
    "duration": 1586637,
    "start_time": "2023-07-02T10:22:09.792Z"
   },
   {
    "duration": 134,
    "start_time": "2023-07-02T10:48:36.431Z"
   },
   {
    "duration": 18,
    "start_time": "2023-07-02T10:48:36.569Z"
   },
   {
    "duration": 0,
    "start_time": "2023-07-02T10:48:36.589Z"
   },
   {
    "duration": 0,
    "start_time": "2023-07-02T10:48:36.590Z"
   },
   {
    "duration": 0,
    "start_time": "2023-07-02T10:48:36.592Z"
   },
   {
    "duration": 0,
    "start_time": "2023-07-02T10:48:36.593Z"
   },
   {
    "duration": 0,
    "start_time": "2023-07-02T10:48:36.594Z"
   },
   {
    "duration": 0,
    "start_time": "2023-07-02T10:48:36.594Z"
   },
   {
    "duration": 0,
    "start_time": "2023-07-02T10:48:36.595Z"
   },
   {
    "duration": 0,
    "start_time": "2023-07-02T10:48:36.596Z"
   },
   {
    "duration": 0,
    "start_time": "2023-07-02T10:48:36.597Z"
   },
   {
    "duration": 0,
    "start_time": "2023-07-02T10:48:36.598Z"
   },
   {
    "duration": 0,
    "start_time": "2023-07-02T10:48:36.601Z"
   },
   {
    "duration": 0,
    "start_time": "2023-07-02T10:48:36.603Z"
   },
   {
    "duration": 0,
    "start_time": "2023-07-02T10:48:36.604Z"
   },
   {
    "duration": 0,
    "start_time": "2023-07-02T10:48:36.608Z"
   },
   {
    "duration": 2299078,
    "start_time": "2023-07-02T10:48:42.615Z"
   },
   {
    "duration": 395,
    "start_time": "2023-07-02T11:27:42.304Z"
   },
   {
    "duration": 6,
    "start_time": "2023-07-02T11:27:45.223Z"
   },
   {
    "duration": 92,
    "start_time": "2023-07-02T11:27:57.609Z"
   },
   {
    "duration": 27,
    "start_time": "2023-07-02T11:27:59.196Z"
   },
   {
    "duration": 249,
    "start_time": "2023-07-02T11:28:01.952Z"
   },
   {
    "duration": 990885,
    "start_time": "2023-07-02T11:28:05.144Z"
   },
   {
    "duration": 217,
    "start_time": "2023-07-02T11:45:08.358Z"
   },
   {
    "duration": 7,
    "start_time": "2023-07-02T11:45:12.258Z"
   },
   {
    "duration": 1849,
    "start_time": "2023-07-02T12:09:44.368Z"
   },
   {
    "duration": 9,
    "start_time": "2023-07-02T12:09:55.594Z"
   },
   {
    "duration": 1094,
    "start_time": "2023-07-02T12:10:00.019Z"
   },
   {
    "duration": 35,
    "start_time": "2023-07-02T12:10:02.526Z"
   },
   {
    "duration": 156,
    "start_time": "2023-07-02T12:10:04.619Z"
   },
   {
    "duration": 6,
    "start_time": "2023-07-02T12:10:07.319Z"
   },
   {
    "duration": 1007,
    "start_time": "2023-07-02T12:10:09.194Z"
   },
   {
    "duration": 762,
    "start_time": "2023-07-02T12:10:12.630Z"
   },
   {
    "duration": 133,
    "start_time": "2023-07-02T12:10:14.509Z"
   },
   {
    "duration": 47,
    "start_time": "2023-07-02T12:10:17.679Z"
   },
   {
    "duration": 118,
    "start_time": "2023-07-02T12:10:20.099Z"
   },
   {
    "duration": 63,
    "start_time": "2023-07-02T12:10:22.849Z"
   },
   {
    "duration": 76,
    "start_time": "2023-07-02T12:10:25.028Z"
   },
   {
    "duration": 7,
    "start_time": "2023-07-02T12:10:26.709Z"
   },
   {
    "duration": 32,
    "start_time": "2023-07-02T12:10:29.671Z"
   },
   {
    "duration": 42,
    "start_time": "2023-07-02T12:10:31.609Z"
   },
   {
    "duration": 3642,
    "start_time": "2023-07-02T12:10:33.461Z"
   },
   {
    "duration": 17,
    "start_time": "2023-07-02T12:10:40.873Z"
   },
   {
    "duration": 20,
    "start_time": "2023-07-02T12:10:42.789Z"
   },
   {
    "duration": 7,
    "start_time": "2023-07-02T12:10:45.030Z"
   },
   {
    "duration": 44,
    "start_time": "2023-07-02T12:10:47.459Z"
   },
   {
    "duration": 11,
    "start_time": "2023-07-02T12:10:48.767Z"
   },
   {
    "duration": 17,
    "start_time": "2023-07-02T12:10:50.892Z"
   },
   {
    "duration": 280,
    "start_time": "2023-07-02T12:10:55.276Z"
   },
   {
    "duration": 20,
    "start_time": "2023-07-02T12:10:59.259Z"
   },
   {
    "duration": 30,
    "start_time": "2023-07-02T12:11:01.681Z"
   },
   {
    "duration": 26,
    "start_time": "2023-07-02T12:11:03.198Z"
   },
   {
    "duration": 32,
    "start_time": "2023-07-02T12:11:04.950Z"
   },
   {
    "duration": 8,
    "start_time": "2023-07-02T12:11:09.188Z"
   },
   {
    "duration": 48,
    "start_time": "2023-07-02T12:11:11.289Z"
   },
   {
    "duration": 7,
    "start_time": "2023-07-02T12:11:13.849Z"
   },
   {
    "duration": 12,
    "start_time": "2023-07-02T12:11:16.790Z"
   },
   {
    "duration": 16,
    "start_time": "2023-07-02T12:11:18.439Z"
   },
   {
    "duration": 394,
    "start_time": "2023-07-02T12:11:20.403Z"
   },
   {
    "duration": 4,
    "start_time": "2023-07-02T12:11:23.090Z"
   },
   {
    "duration": 687,
    "start_time": "2023-07-02T12:11:24.516Z"
   },
   {
    "duration": 23,
    "start_time": "2023-07-02T12:11:30.700Z"
   },
   {
    "duration": 24,
    "start_time": "2023-07-02T12:11:32.386Z"
   },
   {
    "duration": 7,
    "start_time": "2023-07-02T12:11:36.760Z"
   },
   {
    "duration": 3,
    "start_time": "2023-07-02T12:11:39.590Z"
   },
   {
    "duration": 598,
    "start_time": "2023-07-02T12:11:42.410Z"
   },
   {
    "duration": 25,
    "start_time": "2023-07-02T12:11:45.587Z"
   },
   {
    "duration": 70,
    "start_time": "2023-07-02T12:11:47.960Z"
   },
   {
    "duration": 4,
    "start_time": "2023-07-02T12:11:49.710Z"
   },
   {
    "duration": 109,
    "start_time": "2023-07-02T12:11:52.341Z"
   },
   {
    "duration": 4,
    "start_time": "2023-07-02T12:11:55.600Z"
   },
   {
    "duration": 1819,
    "start_time": "2023-07-02T12:15:01.106Z"
   },
   {
    "duration": 1080,
    "start_time": "2023-07-02T12:15:02.928Z"
   },
   {
    "duration": 28,
    "start_time": "2023-07-02T12:15:04.010Z"
   },
   {
    "duration": 196,
    "start_time": "2023-07-02T12:15:04.041Z"
   },
   {
    "duration": 7,
    "start_time": "2023-07-02T12:15:04.240Z"
   },
   {
    "duration": 1032,
    "start_time": "2023-07-02T12:15:04.250Z"
   },
   {
    "duration": 640,
    "start_time": "2023-07-02T12:15:05.285Z"
   },
   {
    "duration": 121,
    "start_time": "2023-07-02T12:15:05.928Z"
   },
   {
    "duration": 60,
    "start_time": "2023-07-02T12:15:06.052Z"
   },
   {
    "duration": 97,
    "start_time": "2023-07-02T12:15:06.116Z"
   },
   {
    "duration": 89,
    "start_time": "2023-07-02T12:15:06.215Z"
   },
   {
    "duration": 69,
    "start_time": "2023-07-02T12:15:06.306Z"
   },
   {
    "duration": 13,
    "start_time": "2023-07-02T12:15:06.376Z"
   },
   {
    "duration": 35,
    "start_time": "2023-07-02T12:15:06.395Z"
   },
   {
    "duration": 60,
    "start_time": "2023-07-02T12:15:06.432Z"
   },
   {
    "duration": 3599,
    "start_time": "2023-07-02T12:15:06.494Z"
   },
   {
    "duration": 20,
    "start_time": "2023-07-02T12:15:10.095Z"
   },
   {
    "duration": 26,
    "start_time": "2023-07-02T12:15:10.118Z"
   },
   {
    "duration": 33,
    "start_time": "2023-07-02T12:15:10.146Z"
   },
   {
    "duration": 38,
    "start_time": "2023-07-02T12:15:10.185Z"
   },
   {
    "duration": 7,
    "start_time": "2023-07-02T12:15:10.225Z"
   },
   {
    "duration": 43,
    "start_time": "2023-07-02T12:15:10.233Z"
   },
   {
    "duration": 343,
    "start_time": "2023-07-02T12:15:10.282Z"
   },
   {
    "duration": 14,
    "start_time": "2023-07-02T12:15:10.628Z"
   },
   {
    "duration": 58,
    "start_time": "2023-07-02T12:15:10.645Z"
   },
   {
    "duration": 32,
    "start_time": "2023-07-02T12:15:10.705Z"
   },
   {
    "duration": 38,
    "start_time": "2023-07-02T12:15:10.739Z"
   },
   {
    "duration": 11,
    "start_time": "2023-07-02T12:15:10.784Z"
   },
   {
    "duration": 42,
    "start_time": "2023-07-02T12:15:10.797Z"
   },
   {
    "duration": 8,
    "start_time": "2023-07-02T12:15:10.841Z"
   },
   {
    "duration": 34,
    "start_time": "2023-07-02T12:15:10.850Z"
   },
   {
    "duration": 18,
    "start_time": "2023-07-02T12:15:10.891Z"
   },
   {
    "duration": 590,
    "start_time": "2023-07-02T12:15:10.911Z"
   },
   {
    "duration": 5,
    "start_time": "2023-07-02T12:15:11.502Z"
   },
   {
    "duration": 723,
    "start_time": "2023-07-02T12:15:11.509Z"
   },
   {
    "duration": 53,
    "start_time": "2023-07-02T12:15:12.234Z"
   },
   {
    "duration": 28,
    "start_time": "2023-07-02T12:15:12.290Z"
   },
   {
    "duration": 8,
    "start_time": "2023-07-02T12:15:12.320Z"
   },
   {
    "duration": 4,
    "start_time": "2023-07-02T12:15:12.330Z"
   },
   {
    "duration": 594,
    "start_time": "2023-07-02T12:15:12.336Z"
   },
   {
    "duration": 41,
    "start_time": "2023-07-02T12:15:12.934Z"
   },
   {
    "duration": 71,
    "start_time": "2023-07-02T12:15:12.977Z"
   },
   {
    "duration": 5,
    "start_time": "2023-07-02T12:15:13.050Z"
   },
   {
    "duration": 123,
    "start_time": "2023-07-02T12:15:13.056Z"
   },
   {
    "duration": 4,
    "start_time": "2023-07-02T12:15:13.190Z"
   },
   {
    "duration": 1439852,
    "start_time": "2023-07-02T12:15:13.196Z"
   },
   {
    "duration": 347,
    "start_time": "2023-07-02T12:39:13.050Z"
   },
   {
    "duration": 12,
    "start_time": "2023-07-02T12:39:13.399Z"
   },
   {
    "duration": 98,
    "start_time": "2023-07-02T12:39:13.413Z"
   },
   {
    "duration": 20,
    "start_time": "2023-07-02T12:39:13.513Z"
   },
   {
    "duration": 381,
    "start_time": "2023-07-02T12:39:13.535Z"
   },
   {
    "duration": 1046563,
    "start_time": "2023-07-02T12:39:13.923Z"
   },
   {
    "duration": 189,
    "start_time": "2023-07-02T12:56:40.497Z"
   },
   {
    "duration": 13,
    "start_time": "2023-07-02T12:56:40.688Z"
   },
   {
    "duration": 2495377,
    "start_time": "2023-07-02T12:56:40.705Z"
   },
   {
    "duration": 309,
    "start_time": "2023-07-02T13:38:16.084Z"
   },
   {
    "duration": 18,
    "start_time": "2023-07-02T13:38:16.395Z"
   },
   {
    "duration": 6,
    "start_time": "2023-07-02T13:38:16.416Z"
   },
   {
    "duration": 1397,
    "start_time": "2023-07-02T13:38:16.425Z"
   },
   {
    "duration": 1448,
    "start_time": "2023-07-02T13:38:17.824Z"
   },
   {
    "duration": 1578,
    "start_time": "2023-07-02T13:38:19.276Z"
   },
   {
    "duration": 165,
    "start_time": "2023-07-02T13:38:20.855Z"
   },
   {
    "duration": 22,
    "start_time": "2023-07-02T13:58:07.958Z"
   },
   {
    "duration": 14,
    "start_time": "2023-07-02T14:00:21.227Z"
   },
   {
    "duration": 20,
    "start_time": "2023-07-02T14:00:48.224Z"
   },
   {
    "duration": 18,
    "start_time": "2023-07-02T14:01:14.712Z"
   },
   {
    "duration": 167,
    "start_time": "2023-07-02T14:02:03.997Z"
   },
   {
    "duration": 14,
    "start_time": "2023-07-02T14:02:37.821Z"
   },
   {
    "duration": 2701067,
    "start_time": "2023-07-02T14:03:28.996Z"
   },
   {
    "duration": 416,
    "start_time": "2023-07-02T14:52:11.043Z"
   },
   {
    "duration": 6,
    "start_time": "2023-07-02T14:52:13.627Z"
   },
   {
    "duration": 18,
    "start_time": "2023-07-02T14:52:15.162Z"
   },
   {
    "duration": 2064,
    "start_time": "2023-07-02T14:54:10.850Z"
   },
   {
    "duration": 4606,
    "start_time": "2023-07-02T14:54:12.918Z"
   },
   {
    "duration": 23,
    "start_time": "2023-07-02T14:54:17.526Z"
   },
   {
    "duration": 184,
    "start_time": "2023-07-02T14:54:17.551Z"
   },
   {
    "duration": 6,
    "start_time": "2023-07-02T14:54:17.737Z"
   },
   {
    "duration": 1113,
    "start_time": "2023-07-02T14:54:17.745Z"
   },
   {
    "duration": 702,
    "start_time": "2023-07-02T14:54:18.860Z"
   },
   {
    "duration": 149,
    "start_time": "2023-07-02T14:54:19.564Z"
   },
   {
    "duration": 49,
    "start_time": "2023-07-02T14:54:19.716Z"
   },
   {
    "duration": 107,
    "start_time": "2023-07-02T14:54:19.769Z"
   },
   {
    "duration": 67,
    "start_time": "2023-07-02T14:54:19.878Z"
   },
   {
    "duration": 86,
    "start_time": "2023-07-02T14:54:19.947Z"
   },
   {
    "duration": 6,
    "start_time": "2023-07-02T14:54:20.034Z"
   },
   {
    "duration": 49,
    "start_time": "2023-07-02T14:54:20.043Z"
   },
   {
    "duration": 49,
    "start_time": "2023-07-02T14:54:20.093Z"
   },
   {
    "duration": 4409,
    "start_time": "2023-07-02T14:54:20.144Z"
   },
   {
    "duration": 26,
    "start_time": "2023-07-02T14:54:24.555Z"
   },
   {
    "duration": 45,
    "start_time": "2023-07-02T14:54:24.584Z"
   },
   {
    "duration": 9,
    "start_time": "2023-07-02T14:54:24.631Z"
   },
   {
    "duration": 69,
    "start_time": "2023-07-02T14:54:24.642Z"
   },
   {
    "duration": 11,
    "start_time": "2023-07-02T14:54:24.714Z"
   },
   {
    "duration": 24,
    "start_time": "2023-07-02T14:54:24.729Z"
   },
   {
    "duration": 364,
    "start_time": "2023-07-02T14:54:24.756Z"
   },
   {
    "duration": 11,
    "start_time": "2023-07-02T14:54:25.122Z"
   },
   {
    "duration": 55,
    "start_time": "2023-07-02T14:54:25.136Z"
   },
   {
    "duration": 45,
    "start_time": "2023-07-02T14:54:25.193Z"
   },
   {
    "duration": 19,
    "start_time": "2023-07-02T14:54:25.240Z"
   },
   {
    "duration": 10,
    "start_time": "2023-07-02T14:54:25.266Z"
   },
   {
    "duration": 58,
    "start_time": "2023-07-02T14:54:25.279Z"
   },
   {
    "duration": 7,
    "start_time": "2023-07-02T14:54:25.339Z"
   },
   {
    "duration": 28,
    "start_time": "2023-07-02T14:54:25.349Z"
   },
   {
    "duration": 23,
    "start_time": "2023-07-02T14:54:25.384Z"
   },
   {
    "duration": 510,
    "start_time": "2023-07-02T14:54:25.417Z"
   },
   {
    "duration": 15,
    "start_time": "2023-07-02T14:54:25.929Z"
   },
   {
    "duration": 776,
    "start_time": "2023-07-02T14:54:25.946Z"
   },
   {
    "duration": 26,
    "start_time": "2023-07-02T14:54:26.725Z"
   },
   {
    "duration": 56,
    "start_time": "2023-07-02T14:54:26.754Z"
   },
   {
    "duration": 16,
    "start_time": "2023-07-02T14:54:26.830Z"
   },
   {
    "duration": 4,
    "start_time": "2023-07-02T14:54:26.849Z"
   },
   {
    "duration": 796,
    "start_time": "2023-07-02T14:54:26.856Z"
   },
   {
    "duration": 33,
    "start_time": "2023-07-02T14:54:27.657Z"
   },
   {
    "duration": 113,
    "start_time": "2023-07-02T14:54:27.695Z"
   },
   {
    "duration": 7,
    "start_time": "2023-07-02T14:54:27.817Z"
   },
   {
    "duration": 152,
    "start_time": "2023-07-02T14:54:27.832Z"
   },
   {
    "duration": 5,
    "start_time": "2023-07-02T14:54:27.986Z"
   },
   {
    "duration": 1920895,
    "start_time": "2023-07-02T14:54:27.994Z"
   },
   {
    "duration": 337,
    "start_time": "2023-07-02T15:26:28.891Z"
   },
   {
    "duration": 7,
    "start_time": "2023-07-02T15:26:29.230Z"
   },
   {
    "duration": 104,
    "start_time": "2023-07-02T15:26:29.239Z"
   },
   {
    "duration": 46,
    "start_time": "2023-07-02T15:26:29.346Z"
   },
   {
    "duration": 233,
    "start_time": "2023-07-02T15:26:29.396Z"
   },
   {
    "duration": 1011923,
    "start_time": "2023-07-02T15:26:29.631Z"
   },
   {
    "duration": 162,
    "start_time": "2023-07-02T15:43:21.556Z"
   },
   {
    "duration": 7,
    "start_time": "2023-07-02T15:43:21.721Z"
   },
   {
    "duration": 1522554,
    "start_time": "2023-07-02T15:43:21.731Z"
   },
   {
    "duration": 302,
    "start_time": "2023-07-02T16:08:44.288Z"
   },
   {
    "duration": 7,
    "start_time": "2023-07-02T16:08:44.592Z"
   },
   {
    "duration": 6,
    "start_time": "2023-07-02T16:08:44.600Z"
   },
   {
    "duration": 1432,
    "start_time": "2023-07-02T16:08:44.608Z"
   },
   {
    "duration": 1379,
    "start_time": "2023-07-02T16:08:46.042Z"
   },
   {
    "duration": 1616,
    "start_time": "2023-07-02T16:08:47.423Z"
   },
   {
    "duration": 12,
    "start_time": "2023-07-02T16:08:49.041Z"
   },
   {
    "duration": 1513,
    "start_time": "2023-07-03T02:30:38.488Z"
   },
   {
    "duration": 1023,
    "start_time": "2023-07-03T02:30:40.002Z"
   },
   {
    "duration": 17,
    "start_time": "2023-07-03T02:30:41.026Z"
   },
   {
    "duration": 134,
    "start_time": "2023-07-03T02:30:41.045Z"
   },
   {
    "duration": 4,
    "start_time": "2023-07-03T02:30:41.180Z"
   },
   {
    "duration": 795,
    "start_time": "2023-07-03T02:30:41.186Z"
   },
   {
    "duration": 497,
    "start_time": "2023-07-03T02:30:41.983Z"
   },
   {
    "duration": 89,
    "start_time": "2023-07-03T02:30:42.482Z"
   },
   {
    "duration": 40,
    "start_time": "2023-07-03T02:30:42.573Z"
   },
   {
    "duration": 90,
    "start_time": "2023-07-03T02:30:42.615Z"
   },
   {
    "duration": 56,
    "start_time": "2023-07-03T02:30:42.706Z"
   },
   {
    "duration": 52,
    "start_time": "2023-07-03T02:30:42.763Z"
   },
   {
    "duration": 16,
    "start_time": "2023-07-03T02:30:42.816Z"
   },
   {
    "duration": 24,
    "start_time": "2023-07-03T02:30:42.834Z"
   },
   {
    "duration": 32,
    "start_time": "2023-07-03T02:30:42.859Z"
   },
   {
    "duration": 2727,
    "start_time": "2023-07-03T02:30:42.893Z"
   },
   {
    "duration": 11,
    "start_time": "2023-07-03T02:30:45.622Z"
   },
   {
    "duration": 22,
    "start_time": "2023-07-03T02:30:45.634Z"
   },
   {
    "duration": 6,
    "start_time": "2023-07-03T02:30:45.658Z"
   },
   {
    "duration": 38,
    "start_time": "2023-07-03T02:30:45.666Z"
   },
   {
    "duration": 26,
    "start_time": "2023-07-03T02:30:45.707Z"
   },
   {
    "duration": 13,
    "start_time": "2023-07-03T02:30:45.735Z"
   },
   {
    "duration": 241,
    "start_time": "2023-07-03T02:30:45.749Z"
   },
   {
    "duration": 7,
    "start_time": "2023-07-03T02:30:45.992Z"
   },
   {
    "duration": 39,
    "start_time": "2023-07-03T02:30:46.000Z"
   },
   {
    "duration": 20,
    "start_time": "2023-07-03T02:30:46.041Z"
   },
   {
    "duration": 14,
    "start_time": "2023-07-03T02:30:46.062Z"
   },
   {
    "duration": 5,
    "start_time": "2023-07-03T02:30:46.080Z"
   },
   {
    "duration": 56,
    "start_time": "2023-07-03T02:30:46.086Z"
   },
   {
    "duration": 5,
    "start_time": "2023-07-03T02:30:46.143Z"
   },
   {
    "duration": 12,
    "start_time": "2023-07-03T02:30:46.149Z"
   },
   {
    "duration": 14,
    "start_time": "2023-07-03T02:30:46.162Z"
   },
   {
    "duration": 368,
    "start_time": "2023-07-03T02:30:46.178Z"
   },
   {
    "duration": 3,
    "start_time": "2023-07-03T02:30:46.548Z"
   },
   {
    "duration": 642,
    "start_time": "2023-07-03T02:30:46.552Z"
   },
   {
    "duration": 20,
    "start_time": "2023-07-03T02:30:47.195Z"
   },
   {
    "duration": 32,
    "start_time": "2023-07-03T02:30:47.216Z"
   },
   {
    "duration": 5,
    "start_time": "2023-07-03T02:30:47.249Z"
   },
   {
    "duration": 5,
    "start_time": "2023-07-03T02:30:47.256Z"
   },
   {
    "duration": 498,
    "start_time": "2023-07-03T02:30:47.262Z"
   },
   {
    "duration": 23,
    "start_time": "2023-07-03T02:30:47.762Z"
   },
   {
    "duration": 71,
    "start_time": "2023-07-03T02:30:47.787Z"
   },
   {
    "duration": 3,
    "start_time": "2023-07-03T02:30:47.860Z"
   },
   {
    "duration": 94,
    "start_time": "2023-07-03T02:30:47.865Z"
   },
   {
    "duration": 3,
    "start_time": "2023-07-03T02:30:47.961Z"
   },
   {
    "duration": 1391998,
    "start_time": "2023-07-03T02:30:47.965Z"
   },
   {
    "duration": 273,
    "start_time": "2023-07-03T02:53:59.964Z"
   },
   {
    "duration": 7,
    "start_time": "2023-07-03T02:54:00.238Z"
   },
   {
    "duration": 93,
    "start_time": "2023-07-03T02:54:00.247Z"
   },
   {
    "duration": 16,
    "start_time": "2023-07-03T02:54:00.342Z"
   },
   {
    "duration": 203,
    "start_time": "2023-07-03T02:54:00.360Z"
   },
   {
    "duration": 1519,
    "start_time": "2023-07-03T02:55:53.471Z"
   },
   {
    "duration": 795,
    "start_time": "2023-07-03T02:55:54.993Z"
   },
   {
    "duration": 17,
    "start_time": "2023-07-03T02:55:55.790Z"
   },
   {
    "duration": 147,
    "start_time": "2023-07-03T02:55:55.808Z"
   },
   {
    "duration": 4,
    "start_time": "2023-07-03T02:55:55.957Z"
   },
   {
    "duration": 818,
    "start_time": "2023-07-03T02:55:55.963Z"
   },
   {
    "duration": 522,
    "start_time": "2023-07-03T02:55:56.782Z"
   },
   {
    "duration": 90,
    "start_time": "2023-07-03T02:55:57.305Z"
   },
   {
    "duration": 52,
    "start_time": "2023-07-03T02:55:57.397Z"
   },
   {
    "duration": 97,
    "start_time": "2023-07-03T02:55:57.451Z"
   },
   {
    "duration": 66,
    "start_time": "2023-07-03T02:55:57.550Z"
   },
   {
    "duration": 60,
    "start_time": "2023-07-03T02:55:57.617Z"
   },
   {
    "duration": 5,
    "start_time": "2023-07-03T02:55:57.679Z"
   },
   {
    "duration": 47,
    "start_time": "2023-07-03T02:55:57.687Z"
   },
   {
    "duration": 36,
    "start_time": "2023-07-03T02:55:57.736Z"
   },
   {
    "duration": 2753,
    "start_time": "2023-07-03T02:55:57.774Z"
   },
   {
    "duration": 12,
    "start_time": "2023-07-03T02:56:00.528Z"
   },
   {
    "duration": 49,
    "start_time": "2023-07-03T02:56:00.542Z"
   },
   {
    "duration": 9,
    "start_time": "2023-07-03T02:56:00.592Z"
   },
   {
    "duration": 67,
    "start_time": "2023-07-03T02:56:00.603Z"
   },
   {
    "duration": 12,
    "start_time": "2023-07-03T02:56:00.671Z"
   },
   {
    "duration": 46,
    "start_time": "2023-07-03T02:56:00.684Z"
   },
   {
    "duration": 268,
    "start_time": "2023-07-03T02:56:00.731Z"
   },
   {
    "duration": 10,
    "start_time": "2023-07-03T02:56:01.001Z"
   },
   {
    "duration": 44,
    "start_time": "2023-07-03T02:56:01.032Z"
   },
   {
    "duration": 21,
    "start_time": "2023-07-03T02:56:01.078Z"
   },
   {
    "duration": 47,
    "start_time": "2023-07-03T02:56:01.100Z"
   },
   {
    "duration": 33,
    "start_time": "2023-07-03T02:56:01.148Z"
   },
   {
    "duration": 57,
    "start_time": "2023-07-03T02:56:01.183Z"
   },
   {
    "duration": 6,
    "start_time": "2023-07-03T02:56:01.242Z"
   },
   {
    "duration": 23,
    "start_time": "2023-07-03T02:56:01.250Z"
   },
   {
    "duration": 30,
    "start_time": "2023-07-03T02:56:01.275Z"
   },
   {
    "duration": 410,
    "start_time": "2023-07-03T02:56:01.307Z"
   },
   {
    "duration": 13,
    "start_time": "2023-07-03T02:56:01.719Z"
   },
   {
    "duration": 682,
    "start_time": "2023-07-03T02:56:01.733Z"
   },
   {
    "duration": 34,
    "start_time": "2023-07-03T02:56:02.417Z"
   },
   {
    "duration": 30,
    "start_time": "2023-07-03T02:56:02.453Z"
   },
   {
    "duration": 16,
    "start_time": "2023-07-03T02:56:02.484Z"
   },
   {
    "duration": 9,
    "start_time": "2023-07-03T02:56:02.502Z"
   },
   {
    "duration": 499,
    "start_time": "2023-07-03T02:56:02.513Z"
   },
   {
    "duration": 28,
    "start_time": "2023-07-03T02:56:03.016Z"
   },
   {
    "duration": 72,
    "start_time": "2023-07-03T02:56:03.045Z"
   },
   {
    "duration": 4,
    "start_time": "2023-07-03T02:56:03.118Z"
   },
   {
    "duration": 114,
    "start_time": "2023-07-03T02:56:03.124Z"
   },
   {
    "duration": 3,
    "start_time": "2023-07-03T02:56:03.239Z"
   },
   {
    "duration": 581435,
    "start_time": "2023-07-03T02:56:03.244Z"
   },
   {
    "duration": 196,
    "start_time": "2023-07-03T03:05:44.681Z"
   },
   {
    "duration": 6,
    "start_time": "2023-07-03T03:05:44.879Z"
   },
   {
    "duration": 71,
    "start_time": "2023-07-03T03:05:44.886Z"
   },
   {
    "duration": 17,
    "start_time": "2023-07-03T03:05:44.959Z"
   },
   {
    "duration": 196,
    "start_time": "2023-07-03T03:05:44.978Z"
   },
   {
    "duration": 709326,
    "start_time": "2023-07-03T03:05:45.177Z"
   },
   {
    "duration": 156,
    "start_time": "2023-07-03T03:17:34.504Z"
   },
   {
    "duration": 7,
    "start_time": "2023-07-03T03:17:34.662Z"
   },
   {
    "duration": 1195174,
    "start_time": "2023-07-03T03:17:34.670Z"
   },
   {
    "duration": 289,
    "start_time": "2023-07-03T03:37:29.845Z"
   },
   {
    "duration": 9,
    "start_time": "2023-07-03T03:37:30.135Z"
   },
   {
    "duration": 44,
    "start_time": "2023-07-03T03:37:30.148Z"
   },
   {
    "duration": 1420,
    "start_time": "2023-07-03T03:37:30.194Z"
   },
   {
    "duration": 1381,
    "start_time": "2023-07-03T03:37:31.616Z"
   },
   {
    "duration": 1291,
    "start_time": "2023-07-03T03:37:32.998Z"
   },
   {
    "duration": 11,
    "start_time": "2023-07-03T03:37:34.291Z"
   },
   {
    "duration": 1443,
    "start_time": "2023-07-03T03:38:56.793Z"
   },
   {
    "duration": 767,
    "start_time": "2023-07-03T03:38:58.237Z"
   },
   {
    "duration": 27,
    "start_time": "2023-07-03T03:38:59.005Z"
   },
   {
    "duration": 126,
    "start_time": "2023-07-03T03:38:59.034Z"
   },
   {
    "duration": 4,
    "start_time": "2023-07-03T03:38:59.163Z"
   },
   {
    "duration": 824,
    "start_time": "2023-07-03T03:38:59.169Z"
   },
   {
    "duration": 515,
    "start_time": "2023-07-03T03:38:59.994Z"
   },
   {
    "duration": 97,
    "start_time": "2023-07-03T03:39:00.511Z"
   },
   {
    "duration": 65,
    "start_time": "2023-07-03T03:39:00.610Z"
   },
   {
    "duration": 88,
    "start_time": "2023-07-03T03:39:00.677Z"
   },
   {
    "duration": 71,
    "start_time": "2023-07-03T03:39:00.768Z"
   },
   {
    "duration": 60,
    "start_time": "2023-07-03T03:39:00.840Z"
   },
   {
    "duration": 7,
    "start_time": "2023-07-03T03:39:00.902Z"
   },
   {
    "duration": 46,
    "start_time": "2023-07-03T03:39:00.912Z"
   },
   {
    "duration": 47,
    "start_time": "2023-07-03T03:39:00.960Z"
   },
   {
    "duration": 2673,
    "start_time": "2023-07-03T03:39:01.008Z"
   },
   {
    "duration": 12,
    "start_time": "2023-07-03T03:39:03.683Z"
   },
   {
    "duration": 85,
    "start_time": "2023-07-03T03:39:03.697Z"
   },
   {
    "duration": 6,
    "start_time": "2023-07-03T03:39:03.784Z"
   },
   {
    "duration": 42,
    "start_time": "2023-07-03T03:39:03.792Z"
   },
   {
    "duration": 5,
    "start_time": "2023-07-03T03:39:03.836Z"
   },
   {
    "duration": 13,
    "start_time": "2023-07-03T03:39:03.842Z"
   },
   {
    "duration": 255,
    "start_time": "2023-07-03T03:39:03.857Z"
   },
   {
    "duration": 8,
    "start_time": "2023-07-03T03:39:04.114Z"
   },
   {
    "duration": 23,
    "start_time": "2023-07-03T03:39:04.131Z"
   },
   {
    "duration": 20,
    "start_time": "2023-07-03T03:39:04.156Z"
   },
   {
    "duration": 15,
    "start_time": "2023-07-03T03:39:04.177Z"
   },
   {
    "duration": 5,
    "start_time": "2023-07-03T03:39:04.193Z"
   },
   {
    "duration": 31,
    "start_time": "2023-07-03T03:39:04.232Z"
   },
   {
    "duration": 5,
    "start_time": "2023-07-03T03:39:04.264Z"
   },
   {
    "duration": 10,
    "start_time": "2023-07-03T03:39:04.271Z"
   },
   {
    "duration": 13,
    "start_time": "2023-07-03T03:39:04.283Z"
   },
   {
    "duration": 442,
    "start_time": "2023-07-03T03:39:04.297Z"
   },
   {
    "duration": 3,
    "start_time": "2023-07-03T03:39:04.741Z"
   },
   {
    "duration": 649,
    "start_time": "2023-07-03T03:39:04.745Z"
   },
   {
    "duration": 20,
    "start_time": "2023-07-03T03:39:05.395Z"
   },
   {
    "duration": 28,
    "start_time": "2023-07-03T03:39:05.417Z"
   },
   {
    "duration": 36,
    "start_time": "2023-07-03T03:39:05.447Z"
   },
   {
    "duration": 17,
    "start_time": "2023-07-03T03:39:05.485Z"
   },
   {
    "duration": 460,
    "start_time": "2023-07-03T03:39:05.504Z"
   },
   {
    "duration": 19,
    "start_time": "2023-07-03T03:39:05.968Z"
   },
   {
    "duration": 60,
    "start_time": "2023-07-03T03:39:05.988Z"
   },
   {
    "duration": 4,
    "start_time": "2023-07-03T03:39:06.050Z"
   },
   {
    "duration": 97,
    "start_time": "2023-07-03T03:39:06.055Z"
   },
   {
    "duration": 3,
    "start_time": "2023-07-03T03:39:06.153Z"
   },
   {
    "duration": 305979,
    "start_time": "2023-07-03T03:39:06.157Z"
   },
   {
    "duration": 172,
    "start_time": "2023-07-03T03:44:12.138Z"
   },
   {
    "duration": 6,
    "start_time": "2023-07-03T03:44:12.312Z"
   },
   {
    "duration": 57,
    "start_time": "2023-07-03T03:44:12.332Z"
   },
   {
    "duration": 17,
    "start_time": "2023-07-03T03:44:12.391Z"
   },
   {
    "duration": 187,
    "start_time": "2023-07-03T03:44:12.409Z"
   },
   {
    "duration": 1382,
    "start_time": "2023-07-03T03:47:34.843Z"
   },
   {
    "duration": 761,
    "start_time": "2023-07-03T03:47:36.227Z"
   },
   {
    "duration": 19,
    "start_time": "2023-07-03T03:47:36.990Z"
   },
   {
    "duration": 144,
    "start_time": "2023-07-03T03:47:37.011Z"
   },
   {
    "duration": 6,
    "start_time": "2023-07-03T03:47:37.156Z"
   },
   {
    "duration": 849,
    "start_time": "2023-07-03T03:47:37.163Z"
   },
   {
    "duration": 497,
    "start_time": "2023-07-03T03:47:38.013Z"
   },
   {
    "duration": 91,
    "start_time": "2023-07-03T03:47:38.511Z"
   },
   {
    "duration": 46,
    "start_time": "2023-07-03T03:47:38.603Z"
   },
   {
    "duration": 91,
    "start_time": "2023-07-03T03:47:38.652Z"
   },
   {
    "duration": 50,
    "start_time": "2023-07-03T03:47:38.745Z"
   },
   {
    "duration": 68,
    "start_time": "2023-07-03T03:47:38.797Z"
   },
   {
    "duration": 5,
    "start_time": "2023-07-03T03:47:38.866Z"
   },
   {
    "duration": 26,
    "start_time": "2023-07-03T03:47:38.873Z"
   },
   {
    "duration": 51,
    "start_time": "2023-07-03T03:47:38.900Z"
   },
   {
    "duration": 2657,
    "start_time": "2023-07-03T03:47:38.953Z"
   },
   {
    "duration": 11,
    "start_time": "2023-07-03T03:47:41.611Z"
   },
   {
    "duration": 17,
    "start_time": "2023-07-03T03:47:41.632Z"
   },
   {
    "duration": 5,
    "start_time": "2023-07-03T03:47:41.651Z"
   },
   {
    "duration": 44,
    "start_time": "2023-07-03T03:47:41.657Z"
   },
   {
    "duration": 8,
    "start_time": "2023-07-03T03:47:41.702Z"
   },
   {
    "duration": 22,
    "start_time": "2023-07-03T03:47:41.731Z"
   },
   {
    "duration": 243,
    "start_time": "2023-07-03T03:47:41.756Z"
   },
   {
    "duration": 8,
    "start_time": "2023-07-03T03:47:42.001Z"
   },
   {
    "duration": 78,
    "start_time": "2023-07-03T03:47:42.010Z"
   },
   {
    "duration": 21,
    "start_time": "2023-07-03T03:47:42.090Z"
   },
   {
    "duration": 16,
    "start_time": "2023-07-03T03:47:42.112Z"
   },
   {
    "duration": 5,
    "start_time": "2023-07-03T03:47:42.131Z"
   },
   {
    "duration": 35,
    "start_time": "2023-07-03T03:47:42.138Z"
   },
   {
    "duration": 5,
    "start_time": "2023-07-03T03:47:42.175Z"
   },
   {
    "duration": 12,
    "start_time": "2023-07-03T03:47:42.181Z"
   },
   {
    "duration": 38,
    "start_time": "2023-07-03T03:47:42.194Z"
   },
   {
    "duration": 369,
    "start_time": "2023-07-03T03:47:42.233Z"
   },
   {
    "duration": 3,
    "start_time": "2023-07-03T03:47:42.603Z"
   },
   {
    "duration": 571,
    "start_time": "2023-07-03T03:47:42.607Z"
   },
   {
    "duration": 22,
    "start_time": "2023-07-03T03:47:43.180Z"
   },
   {
    "duration": 32,
    "start_time": "2023-07-03T03:47:43.204Z"
   },
   {
    "duration": 5,
    "start_time": "2023-07-03T03:47:43.237Z"
   },
   {
    "duration": 5,
    "start_time": "2023-07-03T03:47:43.243Z"
   },
   {
    "duration": 484,
    "start_time": "2023-07-03T03:47:43.249Z"
   },
   {
    "duration": 21,
    "start_time": "2023-07-03T03:47:43.735Z"
   },
   {
    "duration": 81,
    "start_time": "2023-07-03T03:47:43.758Z"
   },
   {
    "duration": 5,
    "start_time": "2023-07-03T03:47:43.841Z"
   },
   {
    "duration": 90,
    "start_time": "2023-07-03T03:47:43.847Z"
   },
   {
    "duration": 3,
    "start_time": "2023-07-03T03:47:43.939Z"
   },
   {
    "duration": 873969,
    "start_time": "2023-07-03T03:47:43.943Z"
   },
   {
    "duration": 359,
    "start_time": "2023-07-03T04:02:17.914Z"
   },
   {
    "duration": 5,
    "start_time": "2023-07-03T04:02:18.275Z"
   },
   {
    "duration": 75,
    "start_time": "2023-07-03T04:02:18.281Z"
   },
   {
    "duration": 17,
    "start_time": "2023-07-03T04:02:18.358Z"
   },
   {
    "duration": 213,
    "start_time": "2023-07-03T04:02:18.377Z"
   },
   {
    "duration": 1814,
    "start_time": "2023-07-03T04:05:02.925Z"
   },
   {
    "duration": 860,
    "start_time": "2023-07-03T04:05:04.746Z"
   },
   {
    "duration": 44,
    "start_time": "2023-07-03T04:05:05.608Z"
   },
   {
    "duration": 172,
    "start_time": "2023-07-03T04:05:05.654Z"
   },
   {
    "duration": 12,
    "start_time": "2023-07-03T04:05:05.834Z"
   },
   {
    "duration": 882,
    "start_time": "2023-07-03T04:05:05.847Z"
   },
   {
    "duration": 559,
    "start_time": "2023-07-03T04:05:06.736Z"
   },
   {
    "duration": 100,
    "start_time": "2023-07-03T04:05:07.297Z"
   },
   {
    "duration": 52,
    "start_time": "2023-07-03T04:05:07.398Z"
   },
   {
    "duration": 89,
    "start_time": "2023-07-03T04:05:07.453Z"
   },
   {
    "duration": 57,
    "start_time": "2023-07-03T04:05:07.547Z"
   },
   {
    "duration": 78,
    "start_time": "2023-07-03T04:05:07.606Z"
   },
   {
    "duration": 6,
    "start_time": "2023-07-03T04:05:07.686Z"
   },
   {
    "duration": 51,
    "start_time": "2023-07-03T04:05:07.697Z"
   },
   {
    "duration": 47,
    "start_time": "2023-07-03T04:05:07.750Z"
   },
   {
    "duration": 2878,
    "start_time": "2023-07-03T04:05:07.800Z"
   },
   {
    "duration": 14,
    "start_time": "2023-07-03T04:05:10.680Z"
   },
   {
    "duration": 23,
    "start_time": "2023-07-03T04:05:10.696Z"
   },
   {
    "duration": 21,
    "start_time": "2023-07-03T04:05:10.720Z"
   },
   {
    "duration": 36,
    "start_time": "2023-07-03T04:05:10.750Z"
   },
   {
    "duration": 6,
    "start_time": "2023-07-03T04:05:10.787Z"
   },
   {
    "duration": 14,
    "start_time": "2023-07-03T04:05:10.794Z"
   },
   {
    "duration": 263,
    "start_time": "2023-07-03T04:05:10.809Z"
   },
   {
    "duration": 12,
    "start_time": "2023-07-03T04:05:11.075Z"
   },
   {
    "duration": 53,
    "start_time": "2023-07-03T04:05:11.089Z"
   },
   {
    "duration": 25,
    "start_time": "2023-07-03T04:05:11.143Z"
   },
   {
    "duration": 15,
    "start_time": "2023-07-03T04:05:11.170Z"
   },
   {
    "duration": 6,
    "start_time": "2023-07-03T04:05:11.187Z"
   },
   {
    "duration": 57,
    "start_time": "2023-07-03T04:05:11.194Z"
   },
   {
    "duration": 5,
    "start_time": "2023-07-03T04:05:11.253Z"
   },
   {
    "duration": 14,
    "start_time": "2023-07-03T04:05:11.260Z"
   },
   {
    "duration": 13,
    "start_time": "2023-07-03T04:05:11.275Z"
   },
   {
    "duration": 395,
    "start_time": "2023-07-03T04:05:11.290Z"
   },
   {
    "duration": 4,
    "start_time": "2023-07-03T04:05:11.686Z"
   },
   {
    "duration": 626,
    "start_time": "2023-07-03T04:05:11.691Z"
   },
   {
    "duration": 28,
    "start_time": "2023-07-03T04:05:12.320Z"
   },
   {
    "duration": 22,
    "start_time": "2023-07-03T04:05:12.352Z"
   },
   {
    "duration": 10,
    "start_time": "2023-07-03T04:05:12.376Z"
   },
   {
    "duration": 7,
    "start_time": "2023-07-03T04:05:12.388Z"
   },
   {
    "duration": 514,
    "start_time": "2023-07-03T04:05:12.397Z"
   },
   {
    "duration": 39,
    "start_time": "2023-07-03T04:05:12.915Z"
   },
   {
    "duration": 45,
    "start_time": "2023-07-03T04:05:12.956Z"
   },
   {
    "duration": 3,
    "start_time": "2023-07-03T04:05:13.003Z"
   },
   {
    "duration": 96,
    "start_time": "2023-07-03T04:05:13.008Z"
   },
   {
    "duration": 3,
    "start_time": "2023-07-03T04:05:13.106Z"
   },
   {
    "duration": 1485,
    "start_time": "2023-07-03T04:07:05.376Z"
   },
   {
    "duration": 858,
    "start_time": "2023-07-03T04:07:06.863Z"
   },
   {
    "duration": 26,
    "start_time": "2023-07-03T04:07:07.723Z"
   },
   {
    "duration": 169,
    "start_time": "2023-07-03T04:07:07.750Z"
   },
   {
    "duration": 17,
    "start_time": "2023-07-03T04:07:07.921Z"
   },
   {
    "duration": 911,
    "start_time": "2023-07-03T04:07:07.940Z"
   },
   {
    "duration": 508,
    "start_time": "2023-07-03T04:07:08.852Z"
   },
   {
    "duration": 98,
    "start_time": "2023-07-03T04:07:09.362Z"
   },
   {
    "duration": 42,
    "start_time": "2023-07-03T04:07:09.462Z"
   },
   {
    "duration": 101,
    "start_time": "2023-07-03T04:07:09.506Z"
   },
   {
    "duration": 69,
    "start_time": "2023-07-03T04:07:09.609Z"
   },
   {
    "duration": 70,
    "start_time": "2023-07-03T04:07:09.679Z"
   },
   {
    "duration": 6,
    "start_time": "2023-07-03T04:07:09.750Z"
   },
   {
    "duration": 26,
    "start_time": "2023-07-03T04:07:09.760Z"
   },
   {
    "duration": 59,
    "start_time": "2023-07-03T04:07:09.787Z"
   },
   {
    "duration": 2884,
    "start_time": "2023-07-03T04:07:09.850Z"
   },
   {
    "duration": 21,
    "start_time": "2023-07-03T04:07:12.743Z"
   },
   {
    "duration": 29,
    "start_time": "2023-07-03T04:07:12.766Z"
   },
   {
    "duration": 8,
    "start_time": "2023-07-03T04:07:12.797Z"
   },
   {
    "duration": 49,
    "start_time": "2023-07-03T04:07:12.808Z"
   },
   {
    "duration": 6,
    "start_time": "2023-07-03T04:07:12.859Z"
   },
   {
    "duration": 22,
    "start_time": "2023-07-03T04:07:12.866Z"
   },
   {
    "duration": 262,
    "start_time": "2023-07-03T04:07:12.889Z"
   },
   {
    "duration": 7,
    "start_time": "2023-07-03T04:07:13.153Z"
   },
   {
    "duration": 39,
    "start_time": "2023-07-03T04:07:13.162Z"
   },
   {
    "duration": 36,
    "start_time": "2023-07-03T04:07:13.202Z"
   },
   {
    "duration": 15,
    "start_time": "2023-07-03T04:07:13.247Z"
   },
   {
    "duration": 4,
    "start_time": "2023-07-03T04:07:13.264Z"
   },
   {
    "duration": 33,
    "start_time": "2023-07-03T04:07:13.270Z"
   },
   {
    "duration": 5,
    "start_time": "2023-07-03T04:07:13.304Z"
   },
   {
    "duration": 36,
    "start_time": "2023-07-03T04:07:13.311Z"
   },
   {
    "duration": 18,
    "start_time": "2023-07-03T04:07:13.349Z"
   },
   {
    "duration": 402,
    "start_time": "2023-07-03T04:07:13.369Z"
   },
   {
    "duration": 3,
    "start_time": "2023-07-03T04:07:13.773Z"
   },
   {
    "duration": 608,
    "start_time": "2023-07-03T04:07:13.778Z"
   },
   {
    "duration": 19,
    "start_time": "2023-07-03T04:07:14.388Z"
   },
   {
    "duration": 36,
    "start_time": "2023-07-03T04:07:14.409Z"
   },
   {
    "duration": 5,
    "start_time": "2023-07-03T04:07:14.450Z"
   },
   {
    "duration": 9,
    "start_time": "2023-07-03T04:07:14.457Z"
   },
   {
    "duration": 666,
    "start_time": "2023-07-03T04:07:14.468Z"
   },
   {
    "duration": 27,
    "start_time": "2023-07-03T04:07:15.144Z"
   },
   {
    "duration": 84,
    "start_time": "2023-07-03T04:07:15.172Z"
   },
   {
    "duration": 4,
    "start_time": "2023-07-03T04:07:15.257Z"
   },
   {
    "duration": 102,
    "start_time": "2023-07-03T04:07:15.263Z"
   },
   {
    "duration": 3,
    "start_time": "2023-07-03T04:07:15.367Z"
   },
   {
    "duration": 1565,
    "start_time": "2023-07-03T04:22:15.027Z"
   },
   {
    "duration": 821,
    "start_time": "2023-07-03T04:22:16.594Z"
   },
   {
    "duration": 30,
    "start_time": "2023-07-03T04:22:17.416Z"
   },
   {
    "duration": 140,
    "start_time": "2023-07-03T04:22:17.448Z"
   },
   {
    "duration": 4,
    "start_time": "2023-07-03T04:22:17.590Z"
   },
   {
    "duration": 875,
    "start_time": "2023-07-03T04:22:17.596Z"
   },
   {
    "duration": 523,
    "start_time": "2023-07-03T04:22:18.472Z"
   },
   {
    "duration": 96,
    "start_time": "2023-07-03T04:22:18.997Z"
   },
   {
    "duration": 52,
    "start_time": "2023-07-03T04:22:19.095Z"
   },
   {
    "duration": 97,
    "start_time": "2023-07-03T04:22:19.148Z"
   },
   {
    "duration": 61,
    "start_time": "2023-07-03T04:22:19.246Z"
   },
   {
    "duration": 60,
    "start_time": "2023-07-03T04:22:19.308Z"
   },
   {
    "duration": 4,
    "start_time": "2023-07-03T04:22:19.370Z"
   },
   {
    "duration": 26,
    "start_time": "2023-07-03T04:22:19.377Z"
   },
   {
    "duration": 53,
    "start_time": "2023-07-03T04:22:19.404Z"
   },
   {
    "duration": 2900,
    "start_time": "2023-07-03T04:22:19.459Z"
   },
   {
    "duration": 11,
    "start_time": "2023-07-03T04:22:22.361Z"
   },
   {
    "duration": 43,
    "start_time": "2023-07-03T04:22:22.373Z"
   },
   {
    "duration": 27,
    "start_time": "2023-07-03T04:22:22.417Z"
   },
   {
    "duration": 47,
    "start_time": "2023-07-03T04:22:22.445Z"
   },
   {
    "duration": 6,
    "start_time": "2023-07-03T04:22:22.493Z"
   },
   {
    "duration": 21,
    "start_time": "2023-07-03T04:22:22.500Z"
   },
   {
    "duration": 245,
    "start_time": "2023-07-03T04:22:22.523Z"
   },
   {
    "duration": 6,
    "start_time": "2023-07-03T04:22:22.770Z"
   },
   {
    "duration": 32,
    "start_time": "2023-07-03T04:22:22.778Z"
   },
   {
    "duration": 35,
    "start_time": "2023-07-03T04:22:22.812Z"
   },
   {
    "duration": 16,
    "start_time": "2023-07-03T04:22:22.849Z"
   },
   {
    "duration": 10,
    "start_time": "2023-07-03T04:22:22.867Z"
   },
   {
    "duration": 33,
    "start_time": "2023-07-03T04:22:22.879Z"
   },
   {
    "duration": 23,
    "start_time": "2023-07-03T04:22:22.913Z"
   },
   {
    "duration": 10,
    "start_time": "2023-07-03T04:22:22.945Z"
   },
   {
    "duration": 22,
    "start_time": "2023-07-03T04:22:22.956Z"
   },
   {
    "duration": 371,
    "start_time": "2023-07-03T04:22:22.980Z"
   },
   {
    "duration": 4,
    "start_time": "2023-07-03T04:22:23.353Z"
   },
   {
    "duration": 618,
    "start_time": "2023-07-03T04:22:23.359Z"
   },
   {
    "duration": 21,
    "start_time": "2023-07-03T04:22:23.979Z"
   },
   {
    "duration": 43,
    "start_time": "2023-07-03T04:22:24.002Z"
   },
   {
    "duration": 5,
    "start_time": "2023-07-03T04:22:24.047Z"
   },
   {
    "duration": 22,
    "start_time": "2023-07-03T04:22:24.053Z"
   },
   {
    "duration": 492,
    "start_time": "2023-07-03T04:22:24.077Z"
   },
   {
    "duration": 21,
    "start_time": "2023-07-03T04:22:24.574Z"
   },
   {
    "duration": 80,
    "start_time": "2023-07-03T04:22:24.597Z"
   },
   {
    "duration": 4,
    "start_time": "2023-07-03T04:22:24.679Z"
   },
   {
    "duration": 104,
    "start_time": "2023-07-03T04:22:24.685Z"
   },
   {
    "duration": 3,
    "start_time": "2023-07-03T04:22:24.791Z"
   },
   {
    "duration": 915553,
    "start_time": "2023-07-03T04:22:24.795Z"
   },
   {
    "duration": 1444,
    "start_time": "2023-07-03T04:37:40.350Z"
   },
   {
    "duration": 5,
    "start_time": "2023-07-03T04:37:41.795Z"
   },
   {
    "duration": 91,
    "start_time": "2023-07-03T04:37:41.802Z"
   },
   {
    "duration": 16,
    "start_time": "2023-07-03T04:37:41.895Z"
   },
   {
    "duration": 268,
    "start_time": "2023-07-03T04:37:41.912Z"
   },
   {
    "duration": 988031,
    "start_time": "2023-07-03T04:37:42.182Z"
   },
   {
    "duration": 173,
    "start_time": "2023-07-03T04:54:10.215Z"
   },
   {
    "duration": 5,
    "start_time": "2023-07-03T04:54:10.390Z"
   },
   {
    "duration": 2502766,
    "start_time": "2023-07-03T04:54:10.397Z"
   },
   {
    "duration": 284,
    "start_time": "2023-07-03T05:35:53.166Z"
   },
   {
    "duration": 40,
    "start_time": "2023-07-03T05:35:53.452Z"
   },
   {
    "duration": 21,
    "start_time": "2023-07-03T05:35:53.494Z"
   },
   {
    "duration": 1630,
    "start_time": "2023-07-03T05:35:53.517Z"
   },
   {
    "duration": 1501,
    "start_time": "2023-07-03T05:35:55.151Z"
   },
   {
    "duration": 1611,
    "start_time": "2023-07-03T05:35:56.655Z"
   },
   {
    "duration": 14,
    "start_time": "2023-07-03T05:35:58.268Z"
   },
   {
    "duration": 2239,
    "start_time": "2023-07-03T06:49:10.868Z"
   },
   {
    "duration": 3610,
    "start_time": "2023-07-03T06:49:13.109Z"
   },
   {
    "duration": 29,
    "start_time": "2023-07-03T06:49:16.721Z"
   },
   {
    "duration": 128,
    "start_time": "2023-07-03T06:49:16.753Z"
   },
   {
    "duration": 5,
    "start_time": "2023-07-03T06:49:16.884Z"
   },
   {
    "duration": 874,
    "start_time": "2023-07-03T06:49:16.891Z"
   },
   {
    "duration": 552,
    "start_time": "2023-07-03T06:49:17.768Z"
   },
   {
    "duration": 109,
    "start_time": "2023-07-03T06:49:18.322Z"
   },
   {
    "duration": 55,
    "start_time": "2023-07-03T06:49:18.433Z"
   },
   {
    "duration": 103,
    "start_time": "2023-07-03T06:49:18.491Z"
   },
   {
    "duration": 48,
    "start_time": "2023-07-03T06:49:18.596Z"
   },
   {
    "duration": 70,
    "start_time": "2023-07-03T06:49:18.645Z"
   },
   {
    "duration": 13,
    "start_time": "2023-07-03T06:49:18.716Z"
   },
   {
    "duration": 47,
    "start_time": "2023-07-03T06:49:18.730Z"
   },
   {
    "duration": 48,
    "start_time": "2023-07-03T06:49:18.779Z"
   },
   {
    "duration": 3078,
    "start_time": "2023-07-03T06:49:18.828Z"
   },
   {
    "duration": 13,
    "start_time": "2023-07-03T06:49:21.908Z"
   },
   {
    "duration": 48,
    "start_time": "2023-07-03T06:49:21.923Z"
   },
   {
    "duration": 8,
    "start_time": "2023-07-03T06:49:21.979Z"
   },
   {
    "duration": 36,
    "start_time": "2023-07-03T06:49:21.989Z"
   },
   {
    "duration": 6,
    "start_time": "2023-07-03T06:49:22.026Z"
   },
   {
    "duration": 14,
    "start_time": "2023-07-03T06:49:22.033Z"
   },
   {
    "duration": 258,
    "start_time": "2023-07-03T06:49:22.059Z"
   },
   {
    "duration": 7,
    "start_time": "2023-07-03T06:49:22.319Z"
   },
   {
    "duration": 52,
    "start_time": "2023-07-03T06:49:22.329Z"
   },
   {
    "duration": 24,
    "start_time": "2023-07-03T06:49:22.382Z"
   },
   {
    "duration": 16,
    "start_time": "2023-07-03T06:49:22.408Z"
   },
   {
    "duration": 6,
    "start_time": "2023-07-03T06:49:22.427Z"
   },
   {
    "duration": 155,
    "start_time": "2023-07-03T06:49:22.434Z"
   },
   {
    "duration": 6,
    "start_time": "2023-07-03T06:49:22.591Z"
   },
   {
    "duration": 11,
    "start_time": "2023-07-03T06:49:22.598Z"
   },
   {
    "duration": 15,
    "start_time": "2023-07-03T06:49:22.611Z"
   },
   {
    "duration": 391,
    "start_time": "2023-07-03T06:49:22.628Z"
   },
   {
    "duration": 4,
    "start_time": "2023-07-03T06:49:23.020Z"
   },
   {
    "duration": 611,
    "start_time": "2023-07-03T06:49:23.026Z"
   },
   {
    "duration": 35,
    "start_time": "2023-07-03T06:49:23.639Z"
   },
   {
    "duration": 23,
    "start_time": "2023-07-03T06:49:23.677Z"
   },
   {
    "duration": 6,
    "start_time": "2023-07-03T06:49:23.702Z"
   },
   {
    "duration": 4,
    "start_time": "2023-07-03T06:49:23.710Z"
   },
   {
    "duration": 605,
    "start_time": "2023-07-03T06:49:23.716Z"
   },
   {
    "duration": 25,
    "start_time": "2023-07-03T06:49:24.323Z"
   },
   {
    "duration": 68,
    "start_time": "2023-07-03T06:49:24.359Z"
   },
   {
    "duration": 4,
    "start_time": "2023-07-03T06:49:24.429Z"
   },
   {
    "duration": 109,
    "start_time": "2023-07-03T06:49:24.435Z"
   },
   {
    "duration": 3,
    "start_time": "2023-07-03T06:49:24.545Z"
   },
   {
    "duration": 900884,
    "start_time": "2023-07-03T06:49:24.550Z"
   },
   {
    "duration": 1356,
    "start_time": "2023-07-03T07:04:25.437Z"
   },
   {
    "duration": 6,
    "start_time": "2023-07-03T07:04:26.794Z"
   },
   {
    "duration": 105,
    "start_time": "2023-07-03T07:04:26.802Z"
   },
   {
    "duration": 19,
    "start_time": "2023-07-03T07:04:26.909Z"
   },
   {
    "duration": 245,
    "start_time": "2023-07-03T07:04:26.930Z"
   },
   {
    "duration": 904114,
    "start_time": "2023-07-03T07:04:27.177Z"
   },
   {
    "duration": 156,
    "start_time": "2023-07-03T07:19:31.293Z"
   },
   {
    "duration": 14,
    "start_time": "2023-07-03T07:19:31.451Z"
   },
   {
    "duration": 1882510,
    "start_time": "2023-07-03T07:19:31.472Z"
   },
   {
    "duration": 277,
    "start_time": "2023-07-03T07:50:53.984Z"
   },
   {
    "duration": 8,
    "start_time": "2023-07-03T07:50:54.263Z"
   },
   {
    "duration": 18,
    "start_time": "2023-07-03T07:50:54.273Z"
   },
   {
    "duration": 1476,
    "start_time": "2023-07-03T07:50:54.296Z"
   },
   {
    "duration": 1434,
    "start_time": "2023-07-03T07:50:55.774Z"
   },
   {
    "duration": 1633,
    "start_time": "2023-07-03T07:50:57.210Z"
   },
   {
    "duration": 29,
    "start_time": "2023-07-03T07:50:58.845Z"
   },
   {
    "duration": 1965,
    "start_time": "2023-07-03T09:20:04.024Z"
   },
   {
    "duration": 1289,
    "start_time": "2023-07-03T09:20:05.991Z"
   },
   {
    "duration": 20,
    "start_time": "2023-07-03T09:20:07.282Z"
   },
   {
    "duration": 131,
    "start_time": "2023-07-03T09:20:07.304Z"
   },
   {
    "duration": 4,
    "start_time": "2023-07-03T09:20:07.437Z"
   },
   {
    "duration": 938,
    "start_time": "2023-07-03T09:20:07.443Z"
   },
   {
    "duration": 632,
    "start_time": "2023-07-03T09:20:08.382Z"
   },
   {
    "duration": 116,
    "start_time": "2023-07-03T09:20:09.016Z"
   },
   {
    "duration": 61,
    "start_time": "2023-07-03T09:20:09.134Z"
   },
   {
    "duration": 103,
    "start_time": "2023-07-03T09:20:09.199Z"
   },
   {
    "duration": 65,
    "start_time": "2023-07-03T09:20:09.306Z"
   },
   {
    "duration": 64,
    "start_time": "2023-07-03T09:20:09.373Z"
   },
   {
    "duration": 39,
    "start_time": "2023-07-03T09:20:09.439Z"
   },
   {
    "duration": 44,
    "start_time": "2023-07-03T09:20:09.482Z"
   },
   {
    "duration": 71,
    "start_time": "2023-07-03T09:20:09.528Z"
   },
   {
    "duration": 3315,
    "start_time": "2023-07-03T09:20:09.604Z"
   },
   {
    "duration": 12,
    "start_time": "2023-07-03T09:20:12.921Z"
   },
   {
    "duration": 47,
    "start_time": "2023-07-03T09:20:12.935Z"
   },
   {
    "duration": 7,
    "start_time": "2023-07-03T09:20:12.985Z"
   },
   {
    "duration": 54,
    "start_time": "2023-07-03T09:20:12.993Z"
   },
   {
    "duration": 22,
    "start_time": "2023-07-03T09:20:13.048Z"
   },
   {
    "duration": 30,
    "start_time": "2023-07-03T09:20:13.074Z"
   },
   {
    "duration": 347,
    "start_time": "2023-07-03T09:20:13.106Z"
   },
   {
    "duration": 14,
    "start_time": "2023-07-03T09:20:13.455Z"
   },
   {
    "duration": 50,
    "start_time": "2023-07-03T09:20:13.471Z"
   },
   {
    "duration": 44,
    "start_time": "2023-07-03T09:20:13.524Z"
   },
   {
    "duration": 35,
    "start_time": "2023-07-03T09:20:13.570Z"
   },
   {
    "duration": 8,
    "start_time": "2023-07-03T09:20:13.611Z"
   },
   {
    "duration": 62,
    "start_time": "2023-07-03T09:20:13.621Z"
   },
   {
    "duration": 6,
    "start_time": "2023-07-03T09:20:13.686Z"
   },
   {
    "duration": 18,
    "start_time": "2023-07-03T09:20:13.694Z"
   },
   {
    "duration": 17,
    "start_time": "2023-07-03T09:20:13.714Z"
   },
   {
    "duration": 451,
    "start_time": "2023-07-03T09:20:13.734Z"
   },
   {
    "duration": 7,
    "start_time": "2023-07-03T09:20:14.187Z"
   },
   {
    "duration": 774,
    "start_time": "2023-07-03T09:20:14.196Z"
   },
   {
    "duration": 22,
    "start_time": "2023-07-03T09:20:14.980Z"
   },
   {
    "duration": 26,
    "start_time": "2023-07-03T09:20:15.004Z"
   },
   {
    "duration": 38,
    "start_time": "2023-07-03T09:20:15.031Z"
   },
   {
    "duration": 31,
    "start_time": "2023-07-03T09:20:15.071Z"
   },
   {
    "duration": 642,
    "start_time": "2023-07-03T09:20:15.104Z"
   },
   {
    "duration": 39,
    "start_time": "2023-07-03T09:20:15.748Z"
   },
   {
    "duration": 80,
    "start_time": "2023-07-03T09:20:15.789Z"
   },
   {
    "duration": 5,
    "start_time": "2023-07-03T09:20:15.874Z"
   },
   {
    "duration": 140,
    "start_time": "2023-07-03T09:20:15.882Z"
   },
   {
    "duration": 4,
    "start_time": "2023-07-03T09:20:16.026Z"
   },
   {
    "duration": 910175,
    "start_time": "2023-07-03T09:20:16.033Z"
   },
   {
    "duration": 1267,
    "start_time": "2023-07-03T09:35:26.210Z"
   },
   {
    "duration": 9,
    "start_time": "2023-07-03T09:35:27.482Z"
   },
   {
    "duration": 100,
    "start_time": "2023-07-03T09:35:27.494Z"
   },
   {
    "duration": 20,
    "start_time": "2023-07-03T09:35:27.598Z"
   },
   {
    "duration": 229,
    "start_time": "2023-07-03T09:35:27.619Z"
   },
   {
    "duration": 884756,
    "start_time": "2023-07-03T09:35:27.850Z"
   },
   {
    "duration": 125,
    "start_time": "2023-07-03T09:50:12.608Z"
   },
   {
    "duration": 6,
    "start_time": "2023-07-03T09:50:12.735Z"
   },
   {
    "duration": 1466432,
    "start_time": "2023-07-03T09:50:12.743Z"
   },
   {
    "duration": 397,
    "start_time": "2023-07-03T10:14:39.177Z"
   },
   {
    "duration": 8,
    "start_time": "2023-07-03T10:14:39.579Z"
   },
   {
    "duration": 15,
    "start_time": "2023-07-03T10:14:39.589Z"
   },
   {
    "duration": 1351,
    "start_time": "2023-07-03T10:14:39.606Z"
   },
   {
    "duration": 1412,
    "start_time": "2023-07-03T10:14:40.959Z"
   },
   {
    "duration": 1501,
    "start_time": "2023-07-03T10:14:42.380Z"
   },
   {
    "duration": 13,
    "start_time": "2023-07-03T10:14:43.884Z"
   },
   {
    "duration": 1744,
    "start_time": "2023-07-04T13:19:54.808Z"
   },
   {
    "duration": 891,
    "start_time": "2023-07-04T13:19:56.861Z"
   },
   {
    "duration": 20,
    "start_time": "2023-07-04T13:19:58.130Z"
   },
   {
    "duration": 120,
    "start_time": "2023-07-04T13:20:00.134Z"
   },
   {
    "duration": 5,
    "start_time": "2023-07-04T13:20:01.924Z"
   },
   {
    "duration": 870,
    "start_time": "2023-07-04T13:20:03.436Z"
   },
   {
    "duration": 522,
    "start_time": "2023-07-04T13:20:07.116Z"
   },
   {
    "duration": 106,
    "start_time": "2023-07-04T13:20:09.316Z"
   },
   {
    "duration": 44,
    "start_time": "2023-07-04T13:20:12.316Z"
   },
   {
    "duration": 79,
    "start_time": "2023-07-04T13:20:14.459Z"
   },
   {
    "duration": 51,
    "start_time": "2023-07-04T13:20:17.004Z"
   },
   {
    "duration": 60,
    "start_time": "2023-07-04T13:20:19.817Z"
   },
   {
    "duration": 7,
    "start_time": "2023-07-04T13:20:23.824Z"
   },
   {
    "duration": 29,
    "start_time": "2023-07-04T13:20:26.340Z"
   },
   {
    "duration": 39,
    "start_time": "2023-07-04T13:20:28.653Z"
   },
   {
    "duration": 3173,
    "start_time": "2023-07-04T13:20:34.408Z"
   },
   {
    "duration": 15,
    "start_time": "2023-07-04T13:20:43.779Z"
   },
   {
    "duration": 21,
    "start_time": "2023-07-04T13:20:45.438Z"
   },
   {
    "duration": 8,
    "start_time": "2023-07-04T13:20:47.969Z"
   },
   {
    "duration": 37,
    "start_time": "2023-07-04T13:20:50.647Z"
   },
   {
    "duration": 7,
    "start_time": "2023-07-04T13:20:52.548Z"
   },
   {
    "duration": 15,
    "start_time": "2023-07-04T13:20:54.739Z"
   },
   {
    "duration": 292,
    "start_time": "2023-07-04T13:20:57.123Z"
   },
   {
    "duration": 11,
    "start_time": "2023-07-04T13:21:00.008Z"
   },
   {
    "duration": 34,
    "start_time": "2023-07-04T13:21:02.353Z"
   },
   {
    "duration": 30,
    "start_time": "2023-07-04T13:21:04.083Z"
   },
   {
    "duration": 18,
    "start_time": "2023-07-04T13:21:06.341Z"
   },
   {
    "duration": 6,
    "start_time": "2023-07-04T13:21:09.024Z"
   },
   {
    "duration": 39,
    "start_time": "2023-07-04T13:21:10.561Z"
   },
   {
    "duration": 7,
    "start_time": "2023-07-04T13:21:13.226Z"
   },
   {
    "duration": 12,
    "start_time": "2023-07-04T13:21:15.030Z"
   },
   {
    "duration": 15,
    "start_time": "2023-07-04T13:21:16.556Z"
   },
   {
    "duration": 365,
    "start_time": "2023-07-04T13:21:18.904Z"
   },
   {
    "duration": 3,
    "start_time": "2023-07-04T13:21:21.636Z"
   },
   {
    "duration": 703,
    "start_time": "2023-07-04T13:21:23.707Z"
   },
   {
    "duration": 22,
    "start_time": "2023-07-04T13:21:29.354Z"
   },
   {
    "duration": 21,
    "start_time": "2023-07-04T13:21:30.812Z"
   },
   {
    "duration": 6,
    "start_time": "2023-07-04T13:21:32.728Z"
   },
   {
    "duration": 132,
    "start_time": "2023-07-04T13:21:37.767Z"
   },
   {
    "duration": 79,
    "start_time": "2023-07-04T13:21:49.363Z"
   },
   {
    "duration": 5,
    "start_time": "2023-07-04T13:21:51.069Z"
   },
   {
    "duration": 4,
    "start_time": "2023-07-04T13:21:53.123Z"
   },
   {
    "duration": 498,
    "start_time": "2023-07-04T13:21:54.645Z"
   },
   {
    "duration": 155,
    "start_time": "2023-07-04T13:23:16.216Z"
   },
   {
    "duration": 152,
    "start_time": "2023-07-04T13:24:24.973Z"
   },
   {
    "duration": 217,
    "start_time": "2023-07-04T13:25:00.001Z"
   },
   {
    "duration": 7,
    "start_time": "2023-07-04T13:26:11.266Z"
   },
   {
    "duration": 1041,
    "start_time": "2023-07-04T13:26:13.271Z"
   },
   {
    "duration": 1890,
    "start_time": "2023-07-04T13:26:27.155Z"
   },
   {
    "duration": 1054,
    "start_time": "2023-07-04T13:26:31.037Z"
   },
   {
    "duration": 21,
    "start_time": "2023-07-04T13:26:33.646Z"
   },
   {
    "duration": 135,
    "start_time": "2023-07-04T13:26:35.804Z"
   },
   {
    "duration": 5,
    "start_time": "2023-07-04T13:26:37.636Z"
   },
   {
    "duration": 899,
    "start_time": "2023-07-04T13:26:40.298Z"
   },
   {
    "duration": 629,
    "start_time": "2023-07-04T13:26:44.614Z"
   },
   {
    "duration": 117,
    "start_time": "2023-07-04T13:26:46.893Z"
   },
   {
    "duration": 48,
    "start_time": "2023-07-04T13:26:52.246Z"
   },
   {
    "duration": 86,
    "start_time": "2023-07-04T13:26:54.147Z"
   },
   {
    "duration": 55,
    "start_time": "2023-07-04T13:26:56.528Z"
   },
   {
    "duration": 58,
    "start_time": "2023-07-04T13:26:58.463Z"
   },
   {
    "duration": 8,
    "start_time": "2023-07-04T13:27:01.066Z"
   },
   {
    "duration": 37,
    "start_time": "2023-07-04T13:27:04.007Z"
   },
   {
    "duration": 38,
    "start_time": "2023-07-04T13:27:06.408Z"
   },
   {
    "duration": 3351,
    "start_time": "2023-07-04T13:27:09.533Z"
   },
   {
    "duration": 13,
    "start_time": "2023-07-04T13:27:14.968Z"
   },
   {
    "duration": 20,
    "start_time": "2023-07-04T13:27:16.774Z"
   },
   {
    "duration": 7,
    "start_time": "2023-07-04T13:27:18.936Z"
   },
   {
    "duration": 39,
    "start_time": "2023-07-04T13:27:21.346Z"
   },
   {
    "duration": 7,
    "start_time": "2023-07-04T13:27:23.268Z"
   },
   {
    "duration": 21,
    "start_time": "2023-07-04T13:27:25.608Z"
   },
   {
    "duration": 299,
    "start_time": "2023-07-04T13:27:28.117Z"
   },
   {
    "duration": 10,
    "start_time": "2023-07-04T13:27:30.654Z"
   },
   {
    "duration": 29,
    "start_time": "2023-07-04T13:27:33.277Z"
   },
   {
    "duration": 33,
    "start_time": "2023-07-04T13:27:35.123Z"
   },
   {
    "duration": 18,
    "start_time": "2023-07-04T13:27:37.260Z"
   },
   {
    "duration": 7,
    "start_time": "2023-07-04T13:27:39.916Z"
   },
   {
    "duration": 38,
    "start_time": "2023-07-04T13:27:41.546Z"
   },
   {
    "duration": 8,
    "start_time": "2023-07-04T13:27:43.948Z"
   },
   {
    "duration": 13,
    "start_time": "2023-07-04T13:27:45.554Z"
   },
   {
    "duration": 16,
    "start_time": "2023-07-04T13:27:47.128Z"
   },
   {
    "duration": 370,
    "start_time": "2023-07-04T13:27:49.408Z"
   },
   {
    "duration": 6,
    "start_time": "2023-07-04T13:27:52.067Z"
   },
   {
    "duration": 756,
    "start_time": "2023-07-04T13:27:53.746Z"
   },
   {
    "duration": 24,
    "start_time": "2023-07-04T13:27:59.528Z"
   },
   {
    "duration": 20,
    "start_time": "2023-07-04T13:28:01.025Z"
   },
   {
    "duration": 7,
    "start_time": "2023-07-04T13:28:03.119Z"
   },
   {
    "duration": 86,
    "start_time": "2023-07-04T13:28:09.152Z"
   },
   {
    "duration": 4,
    "start_time": "2023-07-04T13:28:10.769Z"
   },
   {
    "duration": 4,
    "start_time": "2023-07-04T13:28:14.276Z"
   },
   {
    "duration": 603,
    "start_time": "2023-07-04T13:28:15.828Z"
   },
   {
    "duration": 155,
    "start_time": "2023-07-04T13:29:21.269Z"
   },
   {
    "duration": 213,
    "start_time": "2023-07-04T13:30:04.412Z"
   },
   {
    "duration": 19,
    "start_time": "2023-07-04T13:32:03.753Z"
   },
   {
    "duration": 145,
    "start_time": "2023-07-04T13:32:16.711Z"
   },
   {
    "duration": 148,
    "start_time": "2023-07-04T13:32:19.647Z"
   },
   {
    "duration": 128,
    "start_time": "2023-07-04T13:32:57.444Z"
   },
   {
    "duration": 107,
    "start_time": "2023-07-04T13:33:08.072Z"
   },
   {
    "duration": 25,
    "start_time": "2023-07-04T13:33:19.109Z"
   },
   {
    "duration": 146,
    "start_time": "2023-07-04T13:33:38.016Z"
   },
   {
    "duration": 3,
    "start_time": "2023-07-04T13:34:24.626Z"
   },
   {
    "duration": 156,
    "start_time": "2023-07-04T13:34:27.827Z"
   },
   {
    "duration": 134,
    "start_time": "2023-07-04T13:36:35.208Z"
   },
   {
    "duration": 250,
    "start_time": "2023-07-04T13:37:23.756Z"
   },
   {
    "duration": 29,
    "start_time": "2023-07-04T13:38:36.453Z"
   },
   {
    "duration": 1923,
    "start_time": "2023-07-04T13:38:58.217Z"
   },
   {
    "duration": 951,
    "start_time": "2023-07-04T13:39:00.143Z"
   },
   {
    "duration": 23,
    "start_time": "2023-07-04T13:39:01.927Z"
   },
   {
    "duration": 180,
    "start_time": "2023-07-04T13:39:03.949Z"
   },
   {
    "duration": 5,
    "start_time": "2023-07-04T13:39:05.299Z"
   },
   {
    "duration": 919,
    "start_time": "2023-07-04T13:39:06.573Z"
   },
   {
    "duration": 618,
    "start_time": "2023-07-04T13:39:10.410Z"
   },
   {
    "duration": 118,
    "start_time": "2023-07-04T13:39:11.475Z"
   },
   {
    "duration": 57,
    "start_time": "2023-07-04T13:39:13.909Z"
   },
   {
    "duration": 79,
    "start_time": "2023-07-04T13:39:15.566Z"
   },
   {
    "duration": 68,
    "start_time": "2023-07-04T13:39:17.707Z"
   },
   {
    "duration": 56,
    "start_time": "2023-07-04T13:39:19.671Z"
   },
   {
    "duration": 8,
    "start_time": "2023-07-04T13:39:25.626Z"
   },
   {
    "duration": 36,
    "start_time": "2023-07-04T13:39:27.901Z"
   },
   {
    "duration": 40,
    "start_time": "2023-07-04T13:39:30.206Z"
   },
   {
    "duration": 3591,
    "start_time": "2023-07-04T13:39:32.121Z"
   },
   {
    "duration": 14,
    "start_time": "2023-07-04T13:39:37.613Z"
   },
   {
    "duration": 26,
    "start_time": "2023-07-04T13:39:39.364Z"
   },
   {
    "duration": 6,
    "start_time": "2023-07-04T13:39:41.346Z"
   },
   {
    "duration": 47,
    "start_time": "2023-07-04T13:39:43.685Z"
   },
   {
    "duration": 9,
    "start_time": "2023-07-04T13:39:45.431Z"
   },
   {
    "duration": 21,
    "start_time": "2023-07-04T13:39:47.491Z"
   },
   {
    "duration": 299,
    "start_time": "2023-07-04T13:39:50.272Z"
   },
   {
    "duration": 9,
    "start_time": "2023-07-04T13:39:56.203Z"
   },
   {
    "duration": 31,
    "start_time": "2023-07-04T13:39:59.095Z"
   },
   {
    "duration": 27,
    "start_time": "2023-07-04T13:40:00.647Z"
   },
   {
    "duration": 22,
    "start_time": "2023-07-04T13:40:02.348Z"
   },
   {
    "duration": 9,
    "start_time": "2023-07-04T13:40:04.903Z"
   },
   {
    "duration": 56,
    "start_time": "2023-07-04T13:40:06.323Z"
   },
   {
    "duration": 7,
    "start_time": "2023-07-04T13:40:08.506Z"
   },
   {
    "duration": 13,
    "start_time": "2023-07-04T13:40:09.841Z"
   },
   {
    "duration": 16,
    "start_time": "2023-07-04T13:40:11.214Z"
   },
   {
    "duration": 374,
    "start_time": "2023-07-04T13:40:13.307Z"
   },
   {
    "duration": 4,
    "start_time": "2023-07-04T13:40:15.742Z"
   },
   {
    "duration": 723,
    "start_time": "2023-07-04T13:40:18.204Z"
   },
   {
    "duration": 27,
    "start_time": "2023-07-04T13:40:24.354Z"
   },
   {
    "duration": 32,
    "start_time": "2023-07-04T13:40:25.640Z"
   },
   {
    "duration": 7,
    "start_time": "2023-07-04T13:40:27.408Z"
   },
   {
    "duration": 88,
    "start_time": "2023-07-04T13:40:33.735Z"
   },
   {
    "duration": 4,
    "start_time": "2023-07-04T13:40:36.249Z"
   },
   {
    "duration": 3,
    "start_time": "2023-07-04T13:40:39.755Z"
   },
   {
    "duration": 80,
    "start_time": "2023-07-04T13:41:29.136Z"
   },
   {
    "duration": 534,
    "start_time": "2023-07-04T13:41:33.858Z"
   },
   {
    "duration": 162,
    "start_time": "2023-07-04T13:41:47.971Z"
   },
   {
    "duration": 468,
    "start_time": "2023-07-04T13:42:22.437Z"
   },
   {
    "duration": 194,
    "start_time": "2023-07-04T13:42:32.146Z"
   },
   {
    "duration": 219,
    "start_time": "2023-07-04T13:47:14.405Z"
   },
   {
    "duration": 167,
    "start_time": "2023-07-04T13:53:58.025Z"
   },
   {
    "duration": 180,
    "start_time": "2023-07-04T13:57:27.102Z"
   },
   {
    "duration": 125,
    "start_time": "2023-07-04T13:58:26.288Z"
   },
   {
    "duration": 523,
    "start_time": "2023-07-04T13:58:29.258Z"
   },
   {
    "duration": 177,
    "start_time": "2023-07-04T13:58:35.304Z"
   },
   {
    "duration": 313,
    "start_time": "2023-07-04T14:01:21.425Z"
   },
   {
    "duration": 1817,
    "start_time": "2023-07-04T14:06:23.298Z"
   },
   {
    "duration": 1016,
    "start_time": "2023-07-04T14:06:26.892Z"
   },
   {
    "duration": 23,
    "start_time": "2023-07-04T14:06:29.590Z"
   },
   {
    "duration": 150,
    "start_time": "2023-07-04T14:06:31.663Z"
   },
   {
    "duration": 6,
    "start_time": "2023-07-04T14:06:33.610Z"
   },
   {
    "duration": 996,
    "start_time": "2023-07-04T14:06:36.342Z"
   },
   {
    "duration": 667,
    "start_time": "2023-07-04T14:06:40.742Z"
   },
   {
    "duration": 118,
    "start_time": "2023-07-04T14:06:43.386Z"
   },
   {
    "duration": 53,
    "start_time": "2023-07-04T14:06:46.543Z"
   },
   {
    "duration": 94,
    "start_time": "2023-07-04T14:06:48.743Z"
   },
   {
    "duration": 58,
    "start_time": "2023-07-04T14:06:51.149Z"
   },
   {
    "duration": 66,
    "start_time": "2023-07-04T14:06:53.063Z"
   },
   {
    "duration": 6,
    "start_time": "2023-07-04T14:06:57.102Z"
   },
   {
    "duration": 34,
    "start_time": "2023-07-04T14:06:59.587Z"
   },
   {
    "duration": 57,
    "start_time": "2023-07-04T14:07:02.260Z"
   },
   {
    "duration": 3582,
    "start_time": "2023-07-04T14:07:05.563Z"
   },
   {
    "duration": 14,
    "start_time": "2023-07-04T14:07:11.143Z"
   },
   {
    "duration": 24,
    "start_time": "2023-07-04T14:07:12.963Z"
   },
   {
    "duration": 8,
    "start_time": "2023-07-04T14:07:14.862Z"
   },
   {
    "duration": 44,
    "start_time": "2023-07-04T14:07:17.390Z"
   },
   {
    "duration": 6,
    "start_time": "2023-07-04T14:07:19.308Z"
   },
   {
    "duration": 17,
    "start_time": "2023-07-04T14:07:21.742Z"
   },
   {
    "duration": 299,
    "start_time": "2023-07-04T14:07:24.303Z"
   },
   {
    "duration": 15,
    "start_time": "2023-07-04T14:07:26.890Z"
   },
   {
    "duration": 28,
    "start_time": "2023-07-04T14:07:29.687Z"
   },
   {
    "duration": 27,
    "start_time": "2023-07-04T14:07:31.504Z"
   },
   {
    "duration": 18,
    "start_time": "2023-07-04T14:07:33.499Z"
   },
   {
    "duration": 6,
    "start_time": "2023-07-04T14:07:36.216Z"
   },
   {
    "duration": 44,
    "start_time": "2023-07-04T14:07:38.063Z"
   },
   {
    "duration": 7,
    "start_time": "2023-07-04T14:07:40.502Z"
   },
   {
    "duration": 12,
    "start_time": "2023-07-04T14:07:42.090Z"
   },
   {
    "duration": 17,
    "start_time": "2023-07-04T14:07:43.591Z"
   },
   {
    "duration": 402,
    "start_time": "2023-07-04T14:07:45.749Z"
   },
   {
    "duration": 4,
    "start_time": "2023-07-04T14:07:48.824Z"
   },
   {
    "duration": 718,
    "start_time": "2023-07-04T14:07:50.623Z"
   },
   {
    "duration": 39,
    "start_time": "2023-07-04T14:08:25.566Z"
   },
   {
    "duration": 19,
    "start_time": "2023-07-04T14:08:27.342Z"
   },
   {
    "duration": 5,
    "start_time": "2023-07-04T14:08:29.350Z"
   },
   {
    "duration": 104,
    "start_time": "2023-07-04T14:08:33.996Z"
   },
   {
    "duration": 5,
    "start_time": "2023-07-04T14:08:36.386Z"
   },
   {
    "duration": 2,
    "start_time": "2023-07-04T14:08:39.703Z"
   },
   {
    "duration": 81,
    "start_time": "2023-07-04T14:08:41.253Z"
   },
   {
    "duration": 786,
    "start_time": "2023-07-04T14:08:43.022Z"
   },
   {
    "duration": 278,
    "start_time": "2023-07-04T14:08:48.552Z"
   },
   {
    "duration": 5,
    "start_time": "2023-07-04T14:26:35.994Z"
   },
   {
    "duration": 231,
    "start_time": "2023-07-04T14:30:18.722Z"
   },
   {
    "duration": 89,
    "start_time": "2023-07-04T14:32:29.651Z"
   },
   {
    "duration": 64,
    "start_time": "2023-07-04T14:32:40.858Z"
   },
   {
    "duration": 87,
    "start_time": "2023-07-04T14:32:54.345Z"
   },
   {
    "duration": 74,
    "start_time": "2023-07-04T14:33:02.319Z"
   },
   {
    "duration": 300,
    "start_time": "2023-07-04T14:35:12.551Z"
   },
   {
    "duration": 323,
    "start_time": "2023-07-04T14:35:39.155Z"
   },
   {
    "duration": 23,
    "start_time": "2023-07-04T14:36:20.022Z"
   },
   {
    "duration": 24,
    "start_time": "2023-07-04T14:36:26.328Z"
   },
   {
    "duration": 5,
    "start_time": "2023-07-04T14:37:44.637Z"
   },
   {
    "duration": 970107,
    "start_time": "2023-07-04T15:47:26.860Z"
   },
   {
    "duration": 8,
    "start_time": "2023-07-04T16:04:11.350Z"
   },
   {
    "duration": 4,
    "start_time": "2023-07-04T16:05:34.664Z"
   },
   {
    "duration": 23,
    "start_time": "2023-07-04T16:07:27.079Z"
   },
   {
    "duration": 912969,
    "start_time": "2023-07-04T16:16:03.625Z"
   },
   {
    "duration": 18,
    "start_time": "2023-07-04T16:31:25.621Z"
   },
   {
    "duration": 4,
    "start_time": "2023-07-04T16:31:32.493Z"
   },
   {
    "duration": 15,
    "start_time": "2023-07-04T16:33:35.632Z"
   },
   {
    "duration": 11,
    "start_time": "2023-07-04T16:34:47.109Z"
   },
   {
    "duration": 116,
    "start_time": "2023-07-04T16:43:59.803Z"
   },
   {
    "duration": 107,
    "start_time": "2023-07-04T16:45:17.798Z"
   },
   {
    "duration": 16,
    "start_time": "2023-07-04T16:45:24.065Z"
   },
   {
    "duration": 5,
    "start_time": "2023-07-04T16:46:51.786Z"
   },
   {
    "duration": 4,
    "start_time": "2023-07-04T16:47:59.700Z"
   },
   {
    "duration": 6,
    "start_time": "2023-07-04T16:48:49.264Z"
   },
   {
    "duration": 5,
    "start_time": "2023-07-04T16:49:08.500Z"
   },
   {
    "duration": 5,
    "start_time": "2023-07-04T16:49:41.018Z"
   },
   {
    "duration": 6,
    "start_time": "2023-07-04T16:50:09.815Z"
   },
   {
    "duration": 111,
    "start_time": "2023-07-04T16:51:40.228Z"
   },
   {
    "duration": 108,
    "start_time": "2023-07-04T16:52:44.502Z"
   },
   {
    "duration": 126,
    "start_time": "2023-07-04T16:52:55.229Z"
   },
   {
    "duration": 5,
    "start_time": "2023-07-04T16:53:22.508Z"
   },
   {
    "duration": 5,
    "start_time": "2023-07-04T16:53:50.465Z"
   },
   {
    "duration": 4,
    "start_time": "2023-07-04T16:56:25.458Z"
   },
   {
    "duration": 10,
    "start_time": "2023-07-04T16:57:04.717Z"
   },
   {
    "duration": 4,
    "start_time": "2023-07-04T16:57:15.674Z"
   },
   {
    "duration": 4,
    "start_time": "2023-07-04T16:57:47.132Z"
   },
   {
    "duration": 4,
    "start_time": "2023-07-04T16:58:04.152Z"
   },
   {
    "duration": 3,
    "start_time": "2023-07-04T16:58:06.652Z"
   },
   {
    "duration": 4,
    "start_time": "2023-07-04T16:59:53.358Z"
   },
   {
    "duration": 3,
    "start_time": "2023-07-04T16:59:56.505Z"
   },
   {
    "duration": 13,
    "start_time": "2023-07-04T17:08:17.066Z"
   },
   {
    "duration": 36,
    "start_time": "2023-07-04T17:09:25.004Z"
   },
   {
    "duration": 167,
    "start_time": "2023-07-04T17:11:26.307Z"
   },
   {
    "duration": 174,
    "start_time": "2023-07-04T17:12:40.204Z"
   },
   {
    "duration": 158,
    "start_time": "2023-07-04T17:12:57.653Z"
   },
   {
    "duration": 203,
    "start_time": "2023-07-04T17:13:27.315Z"
   },
   {
    "duration": 17,
    "start_time": "2023-07-04T17:19:27.104Z"
   },
   {
    "duration": 850888,
    "start_time": "2023-07-04T17:19:54.968Z"
   },
   {
    "duration": 4,
    "start_time": "2023-07-04T17:39:47.549Z"
   },
   {
    "duration": 506,
    "start_time": "2023-07-04T17:41:23.619Z"
   },
   {
    "duration": 77146,
    "start_time": "2023-07-04T17:43:10.624Z"
   },
   {
    "duration": 11,
    "start_time": "2023-07-04T17:46:04.300Z"
   },
   {
    "duration": 6,
    "start_time": "2023-07-04T17:46:42.437Z"
   },
   {
    "duration": 640,
    "start_time": "2023-07-04T17:52:02.448Z"
   },
   {
    "duration": 1566,
    "start_time": "2023-07-04T17:57:27.911Z"
   },
   {
    "duration": 908,
    "start_time": "2023-07-04T17:57:29.479Z"
   },
   {
    "duration": 20,
    "start_time": "2023-07-04T17:57:30.389Z"
   },
   {
    "duration": 149,
    "start_time": "2023-07-04T17:57:30.411Z"
   },
   {
    "duration": 4,
    "start_time": "2023-07-04T17:57:30.568Z"
   },
   {
    "duration": 936,
    "start_time": "2023-07-04T17:57:30.574Z"
   },
   {
    "duration": 642,
    "start_time": "2023-07-04T17:57:31.512Z"
   },
   {
    "duration": 114,
    "start_time": "2023-07-04T17:57:32.156Z"
   },
   {
    "duration": 54,
    "start_time": "2023-07-04T17:57:32.272Z"
   },
   {
    "duration": 102,
    "start_time": "2023-07-04T17:57:32.329Z"
   },
   {
    "duration": 71,
    "start_time": "2023-07-04T17:57:32.434Z"
   },
   {
    "duration": 74,
    "start_time": "2023-07-04T17:57:32.507Z"
   },
   {
    "duration": 6,
    "start_time": "2023-07-04T17:57:32.583Z"
   },
   {
    "duration": 33,
    "start_time": "2023-07-04T17:57:32.593Z"
   },
   {
    "duration": 67,
    "start_time": "2023-07-04T17:57:32.628Z"
   },
   {
    "duration": 3234,
    "start_time": "2023-07-04T17:57:32.697Z"
   },
   {
    "duration": 17,
    "start_time": "2023-07-04T17:57:35.933Z"
   },
   {
    "duration": 31,
    "start_time": "2023-07-04T17:57:35.952Z"
   },
   {
    "duration": 6,
    "start_time": "2023-07-04T17:57:35.985Z"
   },
   {
    "duration": 46,
    "start_time": "2023-07-04T17:57:35.993Z"
   },
   {
    "duration": 6,
    "start_time": "2023-07-04T17:57:36.041Z"
   },
   {
    "duration": 33,
    "start_time": "2023-07-04T17:57:36.048Z"
   },
   {
    "duration": 290,
    "start_time": "2023-07-04T17:57:36.083Z"
   },
   {
    "duration": 11,
    "start_time": "2023-07-04T17:57:36.375Z"
   },
   {
    "duration": 28,
    "start_time": "2023-07-04T17:57:36.388Z"
   },
   {
    "duration": 53,
    "start_time": "2023-07-04T17:57:36.419Z"
   },
   {
    "duration": 18,
    "start_time": "2023-07-04T17:57:36.474Z"
   },
   {
    "duration": 7,
    "start_time": "2023-07-04T17:57:36.495Z"
   },
   {
    "duration": 67,
    "start_time": "2023-07-04T17:57:36.504Z"
   },
   {
    "duration": 7,
    "start_time": "2023-07-04T17:57:36.573Z"
   },
   {
    "duration": 16,
    "start_time": "2023-07-04T17:57:36.581Z"
   },
   {
    "duration": 30,
    "start_time": "2023-07-04T17:57:36.598Z"
   },
   {
    "duration": 429,
    "start_time": "2023-07-04T17:57:36.631Z"
   },
   {
    "duration": 6,
    "start_time": "2023-07-04T17:57:37.062Z"
   },
   {
    "duration": 700,
    "start_time": "2023-07-04T17:57:37.070Z"
   },
   {
    "duration": 22,
    "start_time": "2023-07-04T17:57:37.772Z"
   },
   {
    "duration": 19,
    "start_time": "2023-07-04T17:57:37.796Z"
   },
   {
    "duration": 6,
    "start_time": "2023-07-04T17:57:37.817Z"
   },
   {
    "duration": 5,
    "start_time": "2023-07-04T17:57:37.824Z"
   },
   {
    "duration": 108,
    "start_time": "2023-07-04T17:57:37.831Z"
   },
   {
    "duration": 3,
    "start_time": "2023-07-04T17:57:37.944Z"
   },
   {
    "duration": 9,
    "start_time": "2023-07-04T17:57:37.949Z"
   },
   {
    "duration": 90,
    "start_time": "2023-07-04T17:57:37.967Z"
   },
   {
    "duration": 695,
    "start_time": "2023-07-04T17:57:38.066Z"
   },
   {
    "duration": 268,
    "start_time": "2023-07-04T17:57:38.763Z"
   },
   {
    "duration": 232,
    "start_time": "2023-07-04T17:57:39.033Z"
   },
   {
    "duration": 22,
    "start_time": "2023-07-04T17:57:39.267Z"
   },
   {
    "duration": 21,
    "start_time": "2023-07-04T17:57:39.291Z"
   },
   {
    "duration": 3,
    "start_time": "2023-07-04T17:57:39.314Z"
   },
   {
    "duration": 20,
    "start_time": "2023-07-04T18:13:10.214Z"
   },
   {
    "duration": 7,
    "start_time": "2023-07-04T18:13:10.236Z"
   },
   {
    "duration": 24,
    "start_time": "2023-07-04T18:13:10.245Z"
   },
   {
    "duration": 223,
    "start_time": "2023-07-04T18:13:10.271Z"
   },
   {
    "duration": 867233,
    "start_time": "2023-07-04T18:13:10.496Z"
   },
   {
    "duration": 4,
    "start_time": "2023-07-04T18:27:37.731Z"
   },
   {
    "duration": 670754,
    "start_time": "2023-07-04T18:27:37.737Z"
   },
   {
    "duration": 0,
    "start_time": "2023-07-04T18:38:48.494Z"
   },
   {
    "duration": 0,
    "start_time": "2023-07-04T18:38:48.496Z"
   },
   {
    "duration": 0,
    "start_time": "2023-07-04T18:38:48.498Z"
   },
   {
    "duration": 0,
    "start_time": "2023-07-04T18:38:48.500Z"
   },
   {
    "duration": 0,
    "start_time": "2023-07-04T18:38:48.502Z"
   },
   {
    "duration": 0,
    "start_time": "2023-07-04T18:38:48.503Z"
   },
   {
    "duration": 0,
    "start_time": "2023-07-04T18:38:48.505Z"
   },
   {
    "duration": 45,
    "start_time": "2023-07-05T04:26:24.378Z"
   },
   {
    "duration": 1679,
    "start_time": "2023-07-05T04:26:34.837Z"
   },
   {
    "duration": 1014,
    "start_time": "2023-07-05T04:26:36.518Z"
   },
   {
    "duration": 18,
    "start_time": "2023-07-05T04:26:37.534Z"
   },
   {
    "duration": 130,
    "start_time": "2023-07-05T04:26:37.554Z"
   },
   {
    "duration": 4,
    "start_time": "2023-07-05T04:26:37.686Z"
   },
   {
    "duration": 803,
    "start_time": "2023-07-05T04:26:37.692Z"
   },
   {
    "duration": 500,
    "start_time": "2023-07-05T04:26:38.497Z"
   },
   {
    "duration": 91,
    "start_time": "2023-07-05T04:26:38.999Z"
   },
   {
    "duration": 38,
    "start_time": "2023-07-05T04:26:39.092Z"
   },
   {
    "duration": 105,
    "start_time": "2023-07-05T04:26:39.132Z"
   },
   {
    "duration": 61,
    "start_time": "2023-07-05T04:26:39.239Z"
   },
   {
    "duration": 52,
    "start_time": "2023-07-05T04:26:39.302Z"
   },
   {
    "duration": 5,
    "start_time": "2023-07-05T04:26:39.355Z"
   },
   {
    "duration": 35,
    "start_time": "2023-07-05T04:26:39.362Z"
   },
   {
    "duration": 32,
    "start_time": "2023-07-05T04:26:39.399Z"
   },
   {
    "duration": 2611,
    "start_time": "2023-07-05T04:26:39.433Z"
   },
   {
    "duration": 11,
    "start_time": "2023-07-05T04:26:42.046Z"
   },
   {
    "duration": 27,
    "start_time": "2023-07-05T04:26:42.059Z"
   },
   {
    "duration": 5,
    "start_time": "2023-07-05T04:26:42.088Z"
   },
   {
    "duration": 37,
    "start_time": "2023-07-05T04:26:42.095Z"
   },
   {
    "duration": 5,
    "start_time": "2023-07-05T04:26:42.134Z"
   },
   {
    "duration": 16,
    "start_time": "2023-07-05T04:26:42.141Z"
   },
   {
    "duration": 232,
    "start_time": "2023-07-05T04:26:42.174Z"
   },
   {
    "duration": 8,
    "start_time": "2023-07-05T04:26:42.407Z"
   },
   {
    "duration": 34,
    "start_time": "2023-07-05T04:26:42.416Z"
   },
   {
    "duration": 32,
    "start_time": "2023-07-05T04:26:42.451Z"
   },
   {
    "duration": 14,
    "start_time": "2023-07-05T04:26:42.484Z"
   },
   {
    "duration": 5,
    "start_time": "2023-07-05T04:26:42.501Z"
   },
   {
    "duration": 32,
    "start_time": "2023-07-05T04:26:42.508Z"
   },
   {
    "duration": 34,
    "start_time": "2023-07-05T04:26:42.542Z"
   },
   {
    "duration": 10,
    "start_time": "2023-07-05T04:26:42.577Z"
   },
   {
    "duration": 13,
    "start_time": "2023-07-05T04:26:42.589Z"
   },
   {
    "duration": 356,
    "start_time": "2023-07-05T04:26:42.604Z"
   },
   {
    "duration": 13,
    "start_time": "2023-07-05T04:26:42.962Z"
   },
   {
    "duration": 627,
    "start_time": "2023-07-05T04:26:42.976Z"
   },
   {
    "duration": 19,
    "start_time": "2023-07-05T04:26:43.605Z"
   },
   {
    "duration": 17,
    "start_time": "2023-07-05T04:26:43.625Z"
   },
   {
    "duration": 11,
    "start_time": "2023-07-05T04:26:43.643Z"
   },
   {
    "duration": 76,
    "start_time": "2023-07-05T04:26:43.656Z"
   },
   {
    "duration": 4,
    "start_time": "2023-07-05T04:26:43.733Z"
   },
   {
    "duration": 12,
    "start_time": "2023-07-05T04:26:43.738Z"
   },
   {
    "duration": 76,
    "start_time": "2023-07-05T04:26:43.751Z"
   },
   {
    "duration": 637,
    "start_time": "2023-07-05T04:26:43.829Z"
   },
   {
    "duration": 184,
    "start_time": "2023-07-05T04:26:44.468Z"
   },
   {
    "duration": 200,
    "start_time": "2023-07-05T04:26:44.653Z"
   },
   {
    "duration": 25,
    "start_time": "2023-07-05T04:26:44.854Z"
   },
   {
    "duration": 21,
    "start_time": "2023-07-05T04:26:44.881Z"
   },
   {
    "duration": 2,
    "start_time": "2023-07-05T04:26:44.904Z"
   },
   {
    "duration": 786936,
    "start_time": "2023-07-05T04:26:44.908Z"
   },
   {
    "duration": 17,
    "start_time": "2023-07-05T04:39:51.845Z"
   },
   {
    "duration": 6,
    "start_time": "2023-07-05T04:39:51.875Z"
   },
   {
    "duration": 18,
    "start_time": "2023-07-05T04:39:51.884Z"
   },
   {
    "duration": 199,
    "start_time": "2023-07-05T04:39:51.904Z"
   },
   {
    "duration": 724323,
    "start_time": "2023-07-05T04:39:52.104Z"
   },
   {
    "duration": 5,
    "start_time": "2023-07-05T04:51:56.430Z"
   },
   {
    "duration": 674644,
    "start_time": "2023-07-05T04:51:56.437Z"
   },
   {
    "duration": 3,
    "start_time": "2023-07-05T05:03:11.083Z"
   },
   {
    "duration": 20,
    "start_time": "2023-07-05T05:03:11.088Z"
   },
   {
    "duration": 144,
    "start_time": "2023-07-05T05:03:11.109Z"
   },
   {
    "duration": 0,
    "start_time": "2023-07-05T05:03:11.255Z"
   },
   {
    "duration": 0,
    "start_time": "2023-07-05T05:03:11.256Z"
   },
   {
    "duration": 0,
    "start_time": "2023-07-05T05:03:11.257Z"
   },
   {
    "duration": 4,
    "start_time": "2023-07-05T05:19:30.736Z"
   },
   {
    "duration": 14,
    "start_time": "2023-07-05T05:19:33.428Z"
   },
   {
    "duration": 4,
    "start_time": "2023-07-05T05:20:28.293Z"
   },
   {
    "duration": 8,
    "start_time": "2023-07-05T05:20:30.258Z"
   },
   {
    "duration": 4,
    "start_time": "2023-07-05T05:21:44.492Z"
   },
   {
    "duration": 8,
    "start_time": "2023-07-05T05:21:46.000Z"
   },
   {
    "duration": 8,
    "start_time": "2023-07-05T05:21:54.458Z"
   },
   {
    "duration": 8,
    "start_time": "2023-07-05T05:22:14.202Z"
   },
   {
    "duration": 5,
    "start_time": "2023-07-05T05:22:36.402Z"
   },
   {
    "duration": 9,
    "start_time": "2023-07-05T05:22:38.983Z"
   },
   {
    "duration": 10,
    "start_time": "2023-07-05T05:22:41.100Z"
   },
   {
    "duration": 98,
    "start_time": "2023-07-05T05:23:13.286Z"
   },
   {
    "duration": 82,
    "start_time": "2023-07-05T05:23:22.255Z"
   },
   {
    "duration": 95,
    "start_time": "2023-07-05T05:23:39.181Z"
   },
   {
    "duration": 82,
    "start_time": "2023-07-05T05:24:57.436Z"
   },
   {
    "duration": 187,
    "start_time": "2023-07-05T05:25:04.508Z"
   },
   {
    "duration": 103,
    "start_time": "2023-07-05T05:25:11.449Z"
   },
   {
    "duration": 4,
    "start_time": "2023-07-05T05:25:21.939Z"
   },
   {
    "duration": 9,
    "start_time": "2023-07-05T05:25:26.477Z"
   },
   {
    "duration": 8,
    "start_time": "2023-07-05T05:26:04.080Z"
   },
   {
    "duration": 5,
    "start_time": "2023-07-05T05:26:26.321Z"
   },
   {
    "duration": 9,
    "start_time": "2023-07-05T05:26:28.023Z"
   },
   {
    "duration": 4,
    "start_time": "2023-07-05T05:27:08.761Z"
   },
   {
    "duration": 10,
    "start_time": "2023-07-05T05:27:10.585Z"
   },
   {
    "duration": 4,
    "start_time": "2023-07-05T05:27:44.696Z"
   },
   {
    "duration": 14,
    "start_time": "2023-07-05T05:27:46.188Z"
   },
   {
    "duration": 4,
    "start_time": "2023-07-05T05:28:04.593Z"
   },
   {
    "duration": 10,
    "start_time": "2023-07-05T05:28:07.239Z"
   },
   {
    "duration": 11,
    "start_time": "2023-07-05T05:29:32.801Z"
   },
   {
    "duration": 4,
    "start_time": "2023-07-05T05:35:50.683Z"
   },
   {
    "duration": 16,
    "start_time": "2023-07-05T05:35:52.838Z"
   },
   {
    "duration": 5,
    "start_time": "2023-07-05T05:36:10.008Z"
   },
   {
    "duration": 10,
    "start_time": "2023-07-05T05:36:12.169Z"
   },
   {
    "duration": 9,
    "start_time": "2023-07-05T05:36:30.365Z"
   },
   {
    "duration": 89,
    "start_time": "2023-07-05T05:37:08.040Z"
   },
   {
    "duration": 95,
    "start_time": "2023-07-05T05:37:20.977Z"
   },
   {
    "duration": 9,
    "start_time": "2023-07-05T05:40:30.239Z"
   },
   {
    "duration": 5,
    "start_time": "2023-07-05T05:57:19.837Z"
   },
   {
    "duration": 14,
    "start_time": "2023-07-05T05:57:21.699Z"
   },
   {
    "duration": 6,
    "start_time": "2023-07-05T05:57:51.562Z"
   },
   {
    "duration": 10,
    "start_time": "2023-07-05T05:57:52.929Z"
   },
   {
    "duration": 12,
    "start_time": "2023-07-05T05:58:18.299Z"
   },
   {
    "duration": 16,
    "start_time": "2023-07-05T05:58:42.256Z"
   },
   {
    "duration": 83,
    "start_time": "2023-07-05T06:04:25.997Z"
   },
   {
    "duration": 6,
    "start_time": "2023-07-05T06:04:50.508Z"
   },
   {
    "duration": 17,
    "start_time": "2023-07-05T06:04:53.449Z"
   },
   {
    "duration": 14,
    "start_time": "2023-07-05T06:05:39.020Z"
   },
   {
    "duration": 16,
    "start_time": "2023-07-05T06:05:53.119Z"
   },
   {
    "duration": 5,
    "start_time": "2023-07-05T06:12:26.013Z"
   },
   {
    "duration": 20,
    "start_time": "2023-07-05T06:12:28.648Z"
   },
   {
    "duration": 7,
    "start_time": "2023-07-05T06:12:56.911Z"
   },
   {
    "duration": 15,
    "start_time": "2023-07-05T06:12:59.457Z"
   },
   {
    "duration": 6,
    "start_time": "2023-07-05T06:13:29.302Z"
   },
   {
    "duration": 16,
    "start_time": "2023-07-05T06:13:35.079Z"
   },
   {
    "duration": 5,
    "start_time": "2023-07-05T06:13:49.744Z"
   },
   {
    "duration": 59,
    "start_time": "2023-07-05T06:13:52.152Z"
   },
   {
    "duration": 6,
    "start_time": "2023-07-05T06:14:42.392Z"
   },
   {
    "duration": 15,
    "start_time": "2023-07-05T06:14:44.394Z"
   },
   {
    "duration": 6,
    "start_time": "2023-07-05T06:15:06.106Z"
   },
   {
    "duration": 12,
    "start_time": "2023-07-05T06:15:08.317Z"
   },
   {
    "duration": 5,
    "start_time": "2023-07-05T06:16:00.538Z"
   },
   {
    "duration": 9,
    "start_time": "2023-07-05T06:16:07.729Z"
   },
   {
    "duration": 8,
    "start_time": "2023-07-05T06:18:53.487Z"
   },
   {
    "duration": 19,
    "start_time": "2023-07-05T06:18:54.962Z"
   },
   {
    "duration": 8,
    "start_time": "2023-07-05T06:20:41.666Z"
   },
   {
    "duration": 16,
    "start_time": "2023-07-05T06:20:43.601Z"
   },
   {
    "duration": 15,
    "start_time": "2023-07-05T06:21:02.990Z"
   },
   {
    "duration": 17,
    "start_time": "2023-07-05T06:21:31.891Z"
   },
   {
    "duration": 27,
    "start_time": "2023-07-05T06:21:37.363Z"
   },
   {
    "duration": 20,
    "start_time": "2023-07-05T06:21:39.091Z"
   },
   {
    "duration": 21,
    "start_time": "2023-07-05T06:22:05.328Z"
   },
   {
    "duration": 25,
    "start_time": "2023-07-05T06:22:10.737Z"
   },
   {
    "duration": 29,
    "start_time": "2023-07-05T06:22:19.536Z"
   },
   {
    "duration": 30,
    "start_time": "2023-07-05T06:23:31.135Z"
   },
   {
    "duration": 6,
    "start_time": "2023-07-05T06:24:16.484Z"
   },
   {
    "duration": 3,
    "start_time": "2023-07-05T06:24:18.999Z"
   },
   {
    "duration": 6,
    "start_time": "2023-07-05T06:24:21.273Z"
   },
   {
    "duration": 13,
    "start_time": "2023-07-05T06:24:24.021Z"
   },
   {
    "duration": 4,
    "start_time": "2023-07-05T06:25:07.546Z"
   },
   {
    "duration": 3,
    "start_time": "2023-07-05T06:25:12.948Z"
   },
   {
    "duration": 5,
    "start_time": "2023-07-05T06:25:14.933Z"
   },
   {
    "duration": 10,
    "start_time": "2023-07-05T06:25:16.815Z"
   },
   {
    "duration": 12,
    "start_time": "2023-07-05T06:25:29.693Z"
   },
   {
    "duration": 14,
    "start_time": "2023-07-05T06:25:39.580Z"
   },
   {
    "duration": 18,
    "start_time": "2023-07-05T06:50:49.823Z"
   },
   {
    "duration": 114,
    "start_time": "2023-07-05T06:55:24.740Z"
   },
   {
    "duration": 125,
    "start_time": "2023-07-05T06:55:52.257Z"
   },
   {
    "duration": 29,
    "start_time": "2023-07-05T06:56:08.649Z"
   },
   {
    "duration": 1292791,
    "start_time": "2023-07-05T06:56:55.291Z"
   },
   {
    "duration": 77,
    "start_time": "2023-07-05T07:18:28.084Z"
   },
   {
    "duration": 11,
    "start_time": "2023-07-05T07:20:11.440Z"
   },
   {
    "duration": 11,
    "start_time": "2023-07-05T07:22:50.259Z"
   },
   {
    "duration": 9,
    "start_time": "2023-07-05T07:28:48.157Z"
   },
   {
    "duration": 9,
    "start_time": "2023-07-05T07:28:58.199Z"
   },
   {
    "duration": 4,
    "start_time": "2023-07-05T07:39:30.038Z"
   },
   {
    "duration": 9,
    "start_time": "2023-07-05T07:41:13.841Z"
   },
   {
    "duration": 13,
    "start_time": "2023-07-05T07:41:45.670Z"
   },
   {
    "duration": 4,
    "start_time": "2023-07-05T07:55:17.936Z"
   },
   {
    "duration": 3,
    "start_time": "2023-07-05T07:56:39.561Z"
   },
   {
    "duration": 9,
    "start_time": "2023-07-05T07:56:59.392Z"
   },
   {
    "duration": 6,
    "start_time": "2023-07-05T07:57:46.773Z"
   },
   {
    "duration": 5,
    "start_time": "2023-07-05T08:27:21.979Z"
   },
   {
    "duration": 4,
    "start_time": "2023-07-05T08:28:35.261Z"
   },
   {
    "duration": 204,
    "start_time": "2023-07-05T08:28:36.800Z"
   },
   {
    "duration": 12,
    "start_time": "2023-07-05T08:35:16.652Z"
   },
   {
    "duration": 6,
    "start_time": "2023-07-05T08:35:24.192Z"
   },
   {
    "duration": 219,
    "start_time": "2023-07-05T08:35:30.460Z"
   },
   {
    "duration": 311,
    "start_time": "2023-07-05T08:37:52.584Z"
   },
   {
    "duration": 7,
    "start_time": "2023-07-05T08:38:44.755Z"
   },
   {
    "duration": 183,
    "start_time": "2023-07-05T08:38:49.366Z"
   },
   {
    "duration": 7,
    "start_time": "2023-07-05T08:39:06.695Z"
   },
   {
    "duration": 198,
    "start_time": "2023-07-05T08:39:12.814Z"
   },
   {
    "duration": 186,
    "start_time": "2023-07-05T08:39:27.847Z"
   },
   {
    "duration": 201,
    "start_time": "2023-07-05T08:39:38.927Z"
   },
   {
    "duration": 46,
    "start_time": "2023-07-05T08:49:53.674Z"
   },
   {
    "duration": 94,
    "start_time": "2023-07-05T08:50:29.115Z"
   },
   {
    "duration": 330,
    "start_time": "2023-07-05T08:50:38.914Z"
   },
   {
    "duration": 6,
    "start_time": "2023-07-05T09:00:00.103Z"
   },
   {
    "duration": 217,
    "start_time": "2023-07-05T09:00:11.227Z"
   },
   {
    "duration": 207,
    "start_time": "2023-07-05T09:00:22.529Z"
   },
   {
    "duration": 204,
    "start_time": "2023-07-05T09:00:30.323Z"
   },
   {
    "duration": 4,
    "start_time": "2023-07-05T09:01:59.378Z"
   },
   {
    "duration": 205,
    "start_time": "2023-07-05T09:02:05.793Z"
   },
   {
    "duration": 426,
    "start_time": "2023-07-05T09:02:59.524Z"
   },
   {
    "duration": 5,
    "start_time": "2023-07-05T09:03:05.303Z"
   },
   {
    "duration": 152,
    "start_time": "2023-07-05T09:03:15.232Z"
   },
   {
    "duration": 4,
    "start_time": "2023-07-05T09:07:06.050Z"
   },
   {
    "duration": 308,
    "start_time": "2023-07-05T09:07:16.441Z"
   },
   {
    "duration": 6,
    "start_time": "2023-07-05T09:08:41.599Z"
   },
   {
    "duration": 199,
    "start_time": "2023-07-05T09:08:48.721Z"
   },
   {
    "duration": 210,
    "start_time": "2023-07-05T09:08:55.685Z"
   },
   {
    "duration": 202,
    "start_time": "2023-07-05T09:09:01.901Z"
   },
   {
    "duration": 1669,
    "start_time": "2023-07-05T09:11:23.384Z"
   },
   {
    "duration": 1163,
    "start_time": "2023-07-05T09:11:25.054Z"
   },
   {
    "duration": 19,
    "start_time": "2023-07-05T09:11:26.219Z"
   },
   {
    "duration": 141,
    "start_time": "2023-07-05T09:11:26.241Z"
   },
   {
    "duration": 6,
    "start_time": "2023-07-05T09:11:26.383Z"
   },
   {
    "duration": 1005,
    "start_time": "2023-07-05T09:11:26.391Z"
   },
   {
    "duration": 557,
    "start_time": "2023-07-05T09:11:27.398Z"
   },
   {
    "duration": 98,
    "start_time": "2023-07-05T09:11:27.957Z"
   },
   {
    "duration": 50,
    "start_time": "2023-07-05T09:11:28.056Z"
   },
   {
    "duration": 94,
    "start_time": "2023-07-05T09:11:28.109Z"
   },
   {
    "duration": 52,
    "start_time": "2023-07-05T09:11:28.206Z"
   },
   {
    "duration": 68,
    "start_time": "2023-07-05T09:11:28.260Z"
   },
   {
    "duration": 5,
    "start_time": "2023-07-05T09:11:28.330Z"
   },
   {
    "duration": 41,
    "start_time": "2023-07-05T09:11:28.337Z"
   },
   {
    "duration": 37,
    "start_time": "2023-07-05T09:11:28.380Z"
   },
   {
    "duration": 2988,
    "start_time": "2023-07-05T09:11:28.418Z"
   },
   {
    "duration": 12,
    "start_time": "2023-07-05T09:11:31.408Z"
   },
   {
    "duration": 90,
    "start_time": "2023-07-05T09:11:31.422Z"
   },
   {
    "duration": 40,
    "start_time": "2023-07-05T09:11:31.514Z"
   },
   {
    "duration": 92,
    "start_time": "2023-07-05T09:11:31.556Z"
   },
   {
    "duration": 8,
    "start_time": "2023-07-05T09:11:31.650Z"
   },
   {
    "duration": 51,
    "start_time": "2023-07-05T09:11:31.660Z"
   },
   {
    "duration": 307,
    "start_time": "2023-07-05T09:11:31.713Z"
   },
   {
    "duration": 11,
    "start_time": "2023-07-05T09:11:32.021Z"
   },
   {
    "duration": 51,
    "start_time": "2023-07-05T09:11:32.034Z"
   },
   {
    "duration": 23,
    "start_time": "2023-07-05T09:11:32.087Z"
   },
   {
    "duration": 28,
    "start_time": "2023-07-05T09:11:32.112Z"
   },
   {
    "duration": 7,
    "start_time": "2023-07-05T09:11:32.144Z"
   },
   {
    "duration": 68,
    "start_time": "2023-07-05T09:11:32.153Z"
   },
   {
    "duration": 6,
    "start_time": "2023-07-05T09:11:32.223Z"
   },
   {
    "duration": 23,
    "start_time": "2023-07-05T09:11:32.231Z"
   },
   {
    "duration": 26,
    "start_time": "2023-07-05T09:11:32.256Z"
   },
   {
    "duration": 459,
    "start_time": "2023-07-05T09:11:32.284Z"
   },
   {
    "duration": 4,
    "start_time": "2023-07-05T09:11:32.745Z"
   },
   {
    "duration": 641,
    "start_time": "2023-07-05T09:11:32.750Z"
   },
   {
    "duration": 21,
    "start_time": "2023-07-05T09:11:33.393Z"
   },
   {
    "duration": 17,
    "start_time": "2023-07-05T09:11:33.416Z"
   },
   {
    "duration": 11,
    "start_time": "2023-07-05T09:11:33.435Z"
   },
   {
    "duration": 90,
    "start_time": "2023-07-05T09:11:33.448Z"
   },
   {
    "duration": 4,
    "start_time": "2023-07-05T09:11:33.539Z"
   },
   {
    "duration": 17,
    "start_time": "2023-07-05T09:11:33.545Z"
   },
   {
    "duration": 94,
    "start_time": "2023-07-05T09:11:33.565Z"
   },
   {
    "duration": 681,
    "start_time": "2023-07-05T09:11:33.661Z"
   },
   {
    "duration": 197,
    "start_time": "2023-07-05T09:11:34.343Z"
   },
   {
    "duration": 199,
    "start_time": "2023-07-05T09:11:34.541Z"
   },
   {
    "duration": 20,
    "start_time": "2023-07-05T09:11:34.741Z"
   },
   {
    "duration": 34,
    "start_time": "2023-07-05T09:11:34.763Z"
   },
   {
    "duration": 33,
    "start_time": "2023-07-05T09:11:34.800Z"
   },
   {
    "duration": 800985,
    "start_time": "2023-07-05T09:11:34.836Z"
   },
   {
    "duration": 17,
    "start_time": "2023-07-05T09:24:55.822Z"
   },
   {
    "duration": 20,
    "start_time": "2023-07-05T09:24:55.841Z"
   },
   {
    "duration": 11,
    "start_time": "2023-07-05T09:24:55.863Z"
   },
   {
    "duration": 22,
    "start_time": "2023-07-05T09:24:55.875Z"
   },
   {
    "duration": 204,
    "start_time": "2023-07-05T09:24:55.899Z"
   },
   {
    "duration": 745847,
    "start_time": "2023-07-05T09:24:56.105Z"
   },
   {
    "duration": 11,
    "start_time": "2023-07-05T09:37:21.954Z"
   },
   {
    "duration": 150,
    "start_time": "2023-07-05T09:37:21.967Z"
   },
   {
    "duration": 0,
    "start_time": "2023-07-05T09:37:22.119Z"
   },
   {
    "duration": 0,
    "start_time": "2023-07-05T09:37:22.120Z"
   },
   {
    "duration": 0,
    "start_time": "2023-07-05T09:37:22.121Z"
   },
   {
    "duration": 0,
    "start_time": "2023-07-05T09:37:22.122Z"
   },
   {
    "duration": 0,
    "start_time": "2023-07-05T09:37:22.123Z"
   },
   {
    "duration": 0,
    "start_time": "2023-07-05T09:37:22.124Z"
   },
   {
    "duration": 166,
    "start_time": "2023-07-05T09:39:35.049Z"
   },
   {
    "duration": 73805,
    "start_time": "2023-07-05T09:39:43.773Z"
   },
   {
    "duration": 11,
    "start_time": "2023-07-05T09:41:04.282Z"
   },
   {
    "duration": 5,
    "start_time": "2023-07-05T09:43:13.769Z"
   },
   {
    "duration": 199,
    "start_time": "2023-07-05T09:43:15.711Z"
   },
   {
    "duration": 186,
    "start_time": "2023-07-05T09:43:18.143Z"
   },
   {
    "duration": 188,
    "start_time": "2023-07-05T09:43:20.323Z"
   },
   {
    "duration": 125,
    "start_time": "2023-07-05T09:47:17.171Z"
   },
   {
    "duration": 9,
    "start_time": "2023-07-05T10:04:30.792Z"
   },
   {
    "duration": 508,
    "start_time": "2023-07-05T10:04:49.993Z"
   },
   {
    "duration": 14,
    "start_time": "2023-07-05T10:05:53.402Z"
   },
   {
    "duration": 12,
    "start_time": "2023-07-05T10:07:28.498Z"
   },
   {
    "duration": 5,
    "start_time": "2023-07-05T10:08:03.073Z"
   },
   {
    "duration": 10,
    "start_time": "2023-07-05T10:10:50.396Z"
   },
   {
    "duration": 15,
    "start_time": "2023-07-05T10:13:12.305Z"
   },
   {
    "duration": 11,
    "start_time": "2023-07-05T10:13:30.650Z"
   },
   {
    "duration": 441,
    "start_time": "2023-07-05T10:18:02.253Z"
   },
   {
    "duration": 9,
    "start_time": "2023-07-05T10:18:06.001Z"
   },
   {
    "duration": 13,
    "start_time": "2023-07-05T10:20:24.039Z"
   },
   {
    "duration": 10,
    "start_time": "2023-07-05T10:24:49.294Z"
   },
   {
    "duration": 7,
    "start_time": "2023-07-05T10:29:16.715Z"
   },
   {
    "duration": 13,
    "start_time": "2023-07-05T10:34:55.371Z"
   },
   {
    "duration": 381,
    "start_time": "2023-07-05T10:35:18.331Z"
   },
   {
    "duration": 6,
    "start_time": "2023-07-05T10:35:21.119Z"
   },
   {
    "duration": 5,
    "start_time": "2023-07-05T10:35:22.931Z"
   },
   {
    "duration": 108,
    "start_time": "2023-07-05T10:38:51.115Z"
   },
   {
    "duration": 198,
    "start_time": "2023-07-05T10:39:13.973Z"
   },
   {
    "duration": 118,
    "start_time": "2023-07-05T11:34:04.203Z"
   },
   {
    "duration": 86,
    "start_time": "2023-07-05T11:34:26.966Z"
   },
   {
    "duration": 207,
    "start_time": "2023-07-05T11:34:52.552Z"
   },
   {
    "duration": 12,
    "start_time": "2023-07-05T11:35:18.388Z"
   },
   {
    "duration": 4,
    "start_time": "2023-07-05T11:36:28.989Z"
   },
   {
    "duration": 492,
    "start_time": "2023-07-05T11:37:27.100Z"
   },
   {
    "duration": 485,
    "start_time": "2023-07-05T11:37:39.390Z"
   },
   {
    "duration": 83,
    "start_time": "2023-07-05T12:10:48.854Z"
   },
   {
    "duration": 1497,
    "start_time": "2023-07-05T12:22:04.197Z"
   },
   {
    "duration": 986,
    "start_time": "2023-07-05T12:22:05.696Z"
   },
   {
    "duration": 20,
    "start_time": "2023-07-05T12:22:06.684Z"
   },
   {
    "duration": 176,
    "start_time": "2023-07-05T12:22:06.706Z"
   },
   {
    "duration": 6,
    "start_time": "2023-07-05T12:22:06.886Z"
   },
   {
    "duration": 910,
    "start_time": "2023-07-05T12:22:06.894Z"
   },
   {
    "duration": 526,
    "start_time": "2023-07-05T12:22:07.805Z"
   },
   {
    "duration": 110,
    "start_time": "2023-07-05T12:22:08.333Z"
   },
   {
    "duration": 51,
    "start_time": "2023-07-05T12:22:08.445Z"
   },
   {
    "duration": 92,
    "start_time": "2023-07-05T12:22:08.498Z"
   },
   {
    "duration": 49,
    "start_time": "2023-07-05T12:22:08.592Z"
   },
   {
    "duration": 73,
    "start_time": "2023-07-05T12:22:08.642Z"
   },
   {
    "duration": 5,
    "start_time": "2023-07-05T12:22:08.717Z"
   },
   {
    "duration": 31,
    "start_time": "2023-07-05T12:22:08.725Z"
   },
   {
    "duration": 44,
    "start_time": "2023-07-05T12:22:08.758Z"
   },
   {
    "duration": 2843,
    "start_time": "2023-07-05T12:22:08.804Z"
   },
   {
    "duration": 12,
    "start_time": "2023-07-05T12:22:11.649Z"
   },
   {
    "duration": 26,
    "start_time": "2023-07-05T12:22:11.675Z"
   },
   {
    "duration": 14,
    "start_time": "2023-07-05T12:22:11.703Z"
   },
   {
    "duration": 28,
    "start_time": "2023-07-05T12:22:11.718Z"
   },
   {
    "duration": 8,
    "start_time": "2023-07-05T12:22:11.747Z"
   },
   {
    "duration": 35,
    "start_time": "2023-07-05T12:22:11.757Z"
   },
   {
    "duration": 289,
    "start_time": "2023-07-05T12:22:11.794Z"
   },
   {
    "duration": 8,
    "start_time": "2023-07-05T12:22:12.084Z"
   },
   {
    "duration": 27,
    "start_time": "2023-07-05T12:22:12.093Z"
   },
   {
    "duration": 25,
    "start_time": "2023-07-05T12:22:12.122Z"
   },
   {
    "duration": 40,
    "start_time": "2023-07-05T12:22:12.149Z"
   },
   {
    "duration": 5,
    "start_time": "2023-07-05T12:22:12.191Z"
   },
   {
    "duration": 39,
    "start_time": "2023-07-05T12:22:12.197Z"
   },
   {
    "duration": 5,
    "start_time": "2023-07-05T12:22:12.238Z"
   },
   {
    "duration": 34,
    "start_time": "2023-07-05T12:22:12.245Z"
   },
   {
    "duration": 30,
    "start_time": "2023-07-05T12:22:12.281Z"
   },
   {
    "duration": 406,
    "start_time": "2023-07-05T12:22:12.313Z"
   },
   {
    "duration": 3,
    "start_time": "2023-07-05T12:22:12.721Z"
   },
   {
    "duration": 642,
    "start_time": "2023-07-05T12:22:12.726Z"
   },
   {
    "duration": 25,
    "start_time": "2023-07-05T12:22:13.369Z"
   },
   {
    "duration": 17,
    "start_time": "2023-07-05T12:22:13.395Z"
   },
   {
    "duration": 9,
    "start_time": "2023-07-05T12:22:13.413Z"
   },
   {
    "duration": 84,
    "start_time": "2023-07-05T12:22:13.424Z"
   },
   {
    "duration": 5,
    "start_time": "2023-07-05T12:22:13.509Z"
   },
   {
    "duration": 87,
    "start_time": "2023-07-05T12:22:13.518Z"
   },
   {
    "duration": 0,
    "start_time": "2023-07-05T12:22:13.607Z"
   },
   {
    "duration": 0,
    "start_time": "2023-07-05T12:22:13.608Z"
   },
   {
    "duration": 0,
    "start_time": "2023-07-05T12:22:13.610Z"
   },
   {
    "duration": 0,
    "start_time": "2023-07-05T12:22:13.611Z"
   },
   {
    "duration": 0,
    "start_time": "2023-07-05T12:22:13.613Z"
   },
   {
    "duration": 0,
    "start_time": "2023-07-05T12:22:13.614Z"
   },
   {
    "duration": 0,
    "start_time": "2023-07-05T12:22:13.616Z"
   },
   {
    "duration": 0,
    "start_time": "2023-07-05T12:22:13.617Z"
   },
   {
    "duration": 0,
    "start_time": "2023-07-05T12:22:13.619Z"
   },
   {
    "duration": 0,
    "start_time": "2023-07-05T12:22:13.620Z"
   },
   {
    "duration": 0,
    "start_time": "2023-07-05T12:22:13.621Z"
   },
   {
    "duration": 0,
    "start_time": "2023-07-05T12:22:13.622Z"
   },
   {
    "duration": 0,
    "start_time": "2023-07-05T12:22:13.623Z"
   },
   {
    "duration": 0,
    "start_time": "2023-07-05T12:22:13.624Z"
   },
   {
    "duration": 0,
    "start_time": "2023-07-05T12:22:13.625Z"
   },
   {
    "duration": 0,
    "start_time": "2023-07-05T12:22:13.626Z"
   },
   {
    "duration": 0,
    "start_time": "2023-07-05T12:22:13.627Z"
   },
   {
    "duration": 0,
    "start_time": "2023-07-05T12:22:13.627Z"
   },
   {
    "duration": 0,
    "start_time": "2023-07-05T12:22:13.629Z"
   },
   {
    "duration": 1,
    "start_time": "2023-07-05T12:22:13.629Z"
   },
   {
    "duration": 0,
    "start_time": "2023-07-05T12:22:13.631Z"
   },
   {
    "duration": 0,
    "start_time": "2023-07-05T12:22:13.632Z"
   },
   {
    "duration": 0,
    "start_time": "2023-07-05T12:22:13.633Z"
   },
   {
    "duration": 0,
    "start_time": "2023-07-05T12:22:13.634Z"
   },
   {
    "duration": 1477,
    "start_time": "2023-07-05T12:31:42.199Z"
   },
   {
    "duration": 814,
    "start_time": "2023-07-05T12:31:43.678Z"
   },
   {
    "duration": 17,
    "start_time": "2023-07-05T12:31:44.494Z"
   },
   {
    "duration": 147,
    "start_time": "2023-07-05T12:31:44.513Z"
   },
   {
    "duration": 4,
    "start_time": "2023-07-05T12:31:44.662Z"
   },
   {
    "duration": 846,
    "start_time": "2023-07-05T12:31:44.667Z"
   },
   {
    "duration": 511,
    "start_time": "2023-07-05T12:31:45.514Z"
   },
   {
    "duration": 93,
    "start_time": "2023-07-05T12:31:46.026Z"
   },
   {
    "duration": 40,
    "start_time": "2023-07-05T12:31:46.121Z"
   },
   {
    "duration": 88,
    "start_time": "2023-07-05T12:31:46.164Z"
   },
   {
    "duration": 73,
    "start_time": "2023-07-05T12:31:46.253Z"
   },
   {
    "duration": 77,
    "start_time": "2023-07-05T12:31:46.329Z"
   },
   {
    "duration": 7,
    "start_time": "2023-07-05T12:31:46.408Z"
   },
   {
    "duration": 33,
    "start_time": "2023-07-05T12:31:46.417Z"
   },
   {
    "duration": 50,
    "start_time": "2023-07-05T12:31:46.452Z"
   },
   {
    "duration": 2777,
    "start_time": "2023-07-05T12:31:46.504Z"
   },
   {
    "duration": 11,
    "start_time": "2023-07-05T12:31:49.283Z"
   },
   {
    "duration": 29,
    "start_time": "2023-07-05T12:31:49.296Z"
   },
   {
    "duration": 6,
    "start_time": "2023-07-05T12:31:49.327Z"
   },
   {
    "duration": 49,
    "start_time": "2023-07-05T12:31:49.335Z"
   },
   {
    "duration": 5,
    "start_time": "2023-07-05T12:31:49.386Z"
   },
   {
    "duration": 21,
    "start_time": "2023-07-05T12:31:49.392Z"
   },
   {
    "duration": 261,
    "start_time": "2023-07-05T12:31:49.415Z"
   },
   {
    "duration": 9,
    "start_time": "2023-07-05T12:31:49.678Z"
   },
   {
    "duration": 30,
    "start_time": "2023-07-05T12:31:49.689Z"
   },
   {
    "duration": 21,
    "start_time": "2023-07-05T12:31:49.721Z"
   },
   {
    "duration": 35,
    "start_time": "2023-07-05T12:31:49.744Z"
   },
   {
    "duration": 5,
    "start_time": "2023-07-05T12:31:49.782Z"
   },
   {
    "duration": 37,
    "start_time": "2023-07-05T12:31:49.789Z"
   },
   {
    "duration": 6,
    "start_time": "2023-07-05T12:31:49.828Z"
   },
   {
    "duration": 17,
    "start_time": "2023-07-05T12:31:49.835Z"
   },
   {
    "duration": 31,
    "start_time": "2023-07-05T12:31:49.853Z"
   },
   {
    "duration": 377,
    "start_time": "2023-07-05T12:31:49.886Z"
   },
   {
    "duration": 11,
    "start_time": "2023-07-05T12:31:50.265Z"
   },
   {
    "duration": 583,
    "start_time": "2023-07-05T12:31:50.278Z"
   },
   {
    "duration": 27,
    "start_time": "2023-07-05T12:31:50.863Z"
   },
   {
    "duration": 16,
    "start_time": "2023-07-05T12:31:50.892Z"
   },
   {
    "duration": 10,
    "start_time": "2023-07-05T12:31:50.909Z"
   },
   {
    "duration": 75,
    "start_time": "2023-07-05T12:31:50.921Z"
   },
   {
    "duration": 4,
    "start_time": "2023-07-05T12:31:50.998Z"
   },
   {
    "duration": 10,
    "start_time": "2023-07-05T12:31:51.003Z"
   },
   {
    "duration": 83,
    "start_time": "2023-07-05T12:31:51.015Z"
   },
   {
    "duration": 685,
    "start_time": "2023-07-05T12:31:51.100Z"
   },
   {
    "duration": 215,
    "start_time": "2023-07-05T12:31:51.787Z"
   },
   {
    "duration": 215,
    "start_time": "2023-07-05T12:31:52.004Z"
   },
   {
    "duration": 19,
    "start_time": "2023-07-05T12:31:52.221Z"
   },
   {
    "duration": 35,
    "start_time": "2023-07-05T12:31:52.241Z"
   },
   {
    "duration": 3,
    "start_time": "2023-07-05T12:31:52.278Z"
   },
   {
    "duration": 801389,
    "start_time": "2023-07-05T12:31:52.283Z"
   },
   {
    "duration": 18,
    "start_time": "2023-07-05T12:45:13.674Z"
   },
   {
    "duration": 34,
    "start_time": "2023-07-05T12:45:13.693Z"
   },
   {
    "duration": 14,
    "start_time": "2023-07-05T12:45:13.729Z"
   },
   {
    "duration": 30,
    "start_time": "2023-07-05T12:45:13.745Z"
   },
   {
    "duration": 200,
    "start_time": "2023-07-05T12:45:13.777Z"
   },
   {
    "duration": 1743,
    "start_time": "2023-09-13T07:34:48.545Z"
   },
   {
    "duration": 1269,
    "start_time": "2023-09-13T07:34:52.547Z"
   },
   {
    "duration": 22,
    "start_time": "2023-09-13T07:34:54.689Z"
   },
   {
    "duration": 176,
    "start_time": "2023-09-13T07:34:57.095Z"
   },
   {
    "duration": 5,
    "start_time": "2023-09-13T07:34:59.236Z"
   },
   {
    "duration": 1008,
    "start_time": "2023-09-13T07:35:02.545Z"
   },
   {
    "duration": 1511,
    "start_time": "2023-10-31T08:04:20.443Z"
   },
   {
    "duration": 1389,
    "start_time": "2023-10-31T08:04:21.956Z"
   },
   {
    "duration": 21,
    "start_time": "2023-10-31T08:04:23.347Z"
   },
   {
    "duration": 223,
    "start_time": "2023-10-31T08:04:23.371Z"
   },
   {
    "duration": 7,
    "start_time": "2023-10-31T08:04:23.604Z"
   },
   {
    "duration": 1052,
    "start_time": "2023-10-31T08:04:23.614Z"
   },
   {
    "duration": 662,
    "start_time": "2023-10-31T08:04:24.669Z"
   },
   {
    "duration": 121,
    "start_time": "2023-10-31T08:04:25.333Z"
   },
   {
    "duration": 63,
    "start_time": "2023-10-31T08:04:25.456Z"
   },
   {
    "duration": 113,
    "start_time": "2023-10-31T08:04:25.521Z"
   },
   {
    "duration": 82,
    "start_time": "2023-10-31T08:04:25.636Z"
   },
   {
    "duration": 62,
    "start_time": "2023-10-31T08:04:25.719Z"
   },
   {
    "duration": 6,
    "start_time": "2023-10-31T08:04:25.783Z"
   },
   {
    "duration": 52,
    "start_time": "2023-10-31T08:04:25.803Z"
   },
   {
    "duration": 37,
    "start_time": "2023-10-31T08:04:25.856Z"
   },
   {
    "duration": 3216,
    "start_time": "2023-10-31T08:04:25.895Z"
   },
   {
    "duration": 14,
    "start_time": "2023-10-31T08:04:29.113Z"
   },
   {
    "duration": 33,
    "start_time": "2023-10-31T08:04:29.128Z"
   },
   {
    "duration": 6,
    "start_time": "2023-10-31T08:04:29.163Z"
   },
   {
    "duration": 57,
    "start_time": "2023-10-31T08:04:29.171Z"
   },
   {
    "duration": 6,
    "start_time": "2023-10-31T08:04:29.230Z"
   },
   {
    "duration": 32,
    "start_time": "2023-10-31T08:04:29.238Z"
   },
   {
    "duration": 342,
    "start_time": "2023-10-31T08:04:29.272Z"
   },
   {
    "duration": 11,
    "start_time": "2023-10-31T08:04:29.615Z"
   },
   {
    "duration": 32,
    "start_time": "2023-10-31T08:04:29.627Z"
   },
   {
    "duration": 51,
    "start_time": "2023-10-31T08:04:29.661Z"
   },
   {
    "duration": 18,
    "start_time": "2023-10-31T08:04:29.715Z"
   },
   {
    "duration": 8,
    "start_time": "2023-10-31T08:04:29.735Z"
   },
   {
    "duration": 77,
    "start_time": "2023-10-31T08:04:29.745Z"
   },
   {
    "duration": 7,
    "start_time": "2023-10-31T08:04:29.825Z"
   },
   {
    "duration": 46,
    "start_time": "2023-10-31T08:04:29.833Z"
   },
   {
    "duration": 16,
    "start_time": "2023-10-31T08:04:29.881Z"
   },
   {
    "duration": 455,
    "start_time": "2023-10-31T08:04:29.899Z"
   },
   {
    "duration": 5,
    "start_time": "2023-10-31T08:04:30.357Z"
   },
   {
    "duration": 1180,
    "start_time": "2023-10-31T08:04:30.364Z"
   },
   {
    "duration": 22,
    "start_time": "2023-10-31T08:04:31.546Z"
   },
   {
    "duration": 172,
    "start_time": "2023-10-31T08:04:31.570Z"
   },
   {
    "duration": 318,
    "start_time": "2023-10-31T08:04:31.745Z"
   },
   {
    "duration": 161,
    "start_time": "2023-10-31T08:04:32.065Z"
   },
   {
    "duration": 4,
    "start_time": "2023-10-31T08:04:32.228Z"
   },
   {
    "duration": 32,
    "start_time": "2023-10-31T08:04:32.238Z"
   },
   {
    "duration": 146,
    "start_time": "2023-10-31T08:04:32.272Z"
   },
   {
    "duration": 747,
    "start_time": "2023-10-31T08:04:32.420Z"
   },
   {
    "duration": 266,
    "start_time": "2023-10-31T08:04:33.169Z"
   },
   {
    "duration": 267,
    "start_time": "2023-10-31T08:04:33.438Z"
   },
   {
    "duration": 37,
    "start_time": "2023-10-31T08:04:33.707Z"
   },
   {
    "duration": 33,
    "start_time": "2023-10-31T08:04:33.746Z"
   },
   {
    "duration": 12,
    "start_time": "2023-10-31T08:04:33.781Z"
   },
   {
    "duration": 1599,
    "start_time": "2023-10-31T08:17:12.176Z"
   },
   {
    "duration": 1000,
    "start_time": "2023-10-31T08:17:13.778Z"
   },
   {
    "duration": 29,
    "start_time": "2023-10-31T08:17:14.781Z"
   },
   {
    "duration": 167,
    "start_time": "2023-10-31T08:17:14.812Z"
   },
   {
    "duration": 4,
    "start_time": "2023-10-31T08:17:14.983Z"
   },
   {
    "duration": 984,
    "start_time": "2023-10-31T08:17:15.001Z"
   },
   {
    "duration": 603,
    "start_time": "2023-10-31T08:17:15.986Z"
   },
   {
    "duration": 102,
    "start_time": "2023-10-31T08:17:16.591Z"
   },
   {
    "duration": 43,
    "start_time": "2023-10-31T08:17:16.695Z"
   },
   {
    "duration": 114,
    "start_time": "2023-10-31T08:17:16.740Z"
   },
   {
    "duration": 67,
    "start_time": "2023-10-31T08:17:16.856Z"
   },
   {
    "duration": 62,
    "start_time": "2023-10-31T08:17:16.927Z"
   },
   {
    "duration": 11,
    "start_time": "2023-10-31T08:17:16.991Z"
   },
   {
    "duration": 39,
    "start_time": "2023-10-31T08:17:17.005Z"
   },
   {
    "duration": 40,
    "start_time": "2023-10-31T08:17:17.046Z"
   },
   {
    "duration": 3219,
    "start_time": "2023-10-31T08:17:17.087Z"
   },
   {
    "duration": 13,
    "start_time": "2023-10-31T08:17:20.308Z"
   },
   {
    "duration": 50,
    "start_time": "2023-10-31T08:17:20.323Z"
   },
   {
    "duration": 18,
    "start_time": "2023-10-31T08:17:20.375Z"
   },
   {
    "duration": 76,
    "start_time": "2023-10-31T08:17:20.395Z"
   },
   {
    "duration": 6,
    "start_time": "2023-10-31T08:17:20.473Z"
   },
   {
    "duration": 24,
    "start_time": "2023-10-31T08:17:20.480Z"
   },
   {
    "duration": 282,
    "start_time": "2023-10-31T08:17:20.506Z"
   },
   {
    "duration": 11,
    "start_time": "2023-10-31T08:17:20.790Z"
   },
   {
    "duration": 45,
    "start_time": "2023-10-31T08:17:20.803Z"
   },
   {
    "duration": 24,
    "start_time": "2023-10-31T08:17:20.849Z"
   },
   {
    "duration": 40,
    "start_time": "2023-10-31T08:17:20.875Z"
   },
   {
    "duration": 20,
    "start_time": "2023-10-31T08:17:20.918Z"
   },
   {
    "duration": 54,
    "start_time": "2023-10-31T08:17:20.940Z"
   },
   {
    "duration": 6,
    "start_time": "2023-10-31T08:17:20.996Z"
   },
   {
    "duration": 35,
    "start_time": "2023-10-31T08:17:21.004Z"
   },
   {
    "duration": 35,
    "start_time": "2023-10-31T08:17:21.041Z"
   },
   {
    "duration": 418,
    "start_time": "2023-10-31T08:17:21.078Z"
   },
   {
    "duration": 5,
    "start_time": "2023-10-31T08:17:21.501Z"
   },
   {
    "duration": 701,
    "start_time": "2023-10-31T08:17:21.507Z"
   },
   {
    "duration": 22,
    "start_time": "2023-10-31T08:17:22.210Z"
   },
   {
    "duration": 19,
    "start_time": "2023-10-31T08:17:22.234Z"
   },
   {
    "duration": 8,
    "start_time": "2023-10-31T08:17:22.256Z"
   },
   {
    "duration": 117,
    "start_time": "2023-10-31T08:17:22.266Z"
   },
   {
    "duration": 5,
    "start_time": "2023-10-31T08:17:22.385Z"
   },
   {
    "duration": 20,
    "start_time": "2023-10-31T08:17:22.403Z"
   },
   {
    "duration": 91,
    "start_time": "2023-10-31T08:17:22.425Z"
   },
   {
    "duration": 681,
    "start_time": "2023-10-31T08:17:22.517Z"
   },
   {
    "duration": 232,
    "start_time": "2023-10-31T08:17:23.201Z"
   },
   {
    "duration": 223,
    "start_time": "2023-10-31T08:17:23.435Z"
   },
   {
    "duration": 22,
    "start_time": "2023-10-31T08:17:23.660Z"
   },
   {
    "duration": 29,
    "start_time": "2023-10-31T08:17:23.684Z"
   },
   {
    "duration": 3,
    "start_time": "2023-10-31T08:17:23.715Z"
   },
   {
    "duration": 899205,
    "start_time": "2023-10-31T08:17:23.719Z"
   },
   {
    "duration": 19,
    "start_time": "2023-10-31T08:32:22.926Z"
   },
   {
    "duration": 28,
    "start_time": "2023-10-31T08:32:22.947Z"
   },
   {
    "duration": 33,
    "start_time": "2023-10-31T08:32:22.977Z"
   },
   {
    "duration": 26,
    "start_time": "2023-10-31T08:32:23.012Z"
   },
   {
    "duration": 217,
    "start_time": "2023-10-31T08:32:23.040Z"
   },
   {
    "duration": 1774,
    "start_time": "2023-10-31T10:32:06.720Z"
   },
   {
    "duration": 1295,
    "start_time": "2023-10-31T10:32:08.496Z"
   },
   {
    "duration": 18,
    "start_time": "2023-10-31T10:32:09.793Z"
   },
   {
    "duration": 164,
    "start_time": "2023-10-31T10:32:09.813Z"
   },
   {
    "duration": 4,
    "start_time": "2023-10-31T10:32:09.979Z"
   },
   {
    "duration": 944,
    "start_time": "2023-10-31T10:32:09.984Z"
   },
   {
    "duration": 533,
    "start_time": "2023-10-31T10:32:10.937Z"
   },
   {
    "duration": 101,
    "start_time": "2023-10-31T10:32:11.472Z"
   },
   {
    "duration": 35,
    "start_time": "2023-10-31T10:32:11.575Z"
   },
   {
    "duration": 144,
    "start_time": "2023-10-31T10:32:11.612Z"
   },
   {
    "duration": 48,
    "start_time": "2023-10-31T10:32:11.757Z"
   },
   {
    "duration": 77,
    "start_time": "2023-10-31T10:32:11.807Z"
   },
   {
    "duration": 4,
    "start_time": "2023-10-31T10:32:11.886Z"
   },
   {
    "duration": 41,
    "start_time": "2023-10-31T10:32:11.893Z"
   },
   {
    "duration": 35,
    "start_time": "2023-10-31T10:32:11.937Z"
   },
   {
    "duration": 3094,
    "start_time": "2023-10-31T10:32:11.974Z"
   },
   {
    "duration": 12,
    "start_time": "2023-10-31T10:32:15.070Z"
   },
   {
    "duration": 39,
    "start_time": "2023-10-31T10:32:15.084Z"
   },
   {
    "duration": 10,
    "start_time": "2023-10-31T10:32:15.126Z"
   },
   {
    "duration": 36,
    "start_time": "2023-10-31T10:32:15.139Z"
   },
   {
    "duration": 5,
    "start_time": "2023-10-31T10:32:15.177Z"
   },
   {
    "duration": 37,
    "start_time": "2023-10-31T10:32:15.183Z"
   },
   {
    "duration": 293,
    "start_time": "2023-10-31T10:32:15.222Z"
   },
   {
    "duration": 12,
    "start_time": "2023-10-31T10:32:15.523Z"
   },
   {
    "duration": 37,
    "start_time": "2023-10-31T10:32:15.537Z"
   },
   {
    "duration": 22,
    "start_time": "2023-10-31T10:32:15.575Z"
   },
   {
    "duration": 41,
    "start_time": "2023-10-31T10:32:15.598Z"
   },
   {
    "duration": 7,
    "start_time": "2023-10-31T10:32:15.641Z"
   },
   {
    "duration": 70,
    "start_time": "2023-10-31T10:32:15.649Z"
   },
   {
    "duration": 6,
    "start_time": "2023-10-31T10:32:15.720Z"
   },
   {
    "duration": 54,
    "start_time": "2023-10-31T10:32:15.728Z"
   },
   {
    "duration": 54,
    "start_time": "2023-10-31T10:32:15.784Z"
   },
   {
    "duration": 532,
    "start_time": "2023-10-31T10:32:15.840Z"
   },
   {
    "duration": 3,
    "start_time": "2023-10-31T10:32:16.374Z"
   },
   {
    "duration": 749,
    "start_time": "2023-10-31T10:32:16.379Z"
   },
   {
    "duration": 24,
    "start_time": "2023-10-31T10:32:17.130Z"
   },
   {
    "duration": 22,
    "start_time": "2023-10-31T10:32:17.156Z"
   },
   {
    "duration": 36,
    "start_time": "2023-10-31T10:32:17.179Z"
   },
   {
    "duration": 86,
    "start_time": "2023-10-31T10:32:17.216Z"
   },
   {
    "duration": 5,
    "start_time": "2023-10-31T10:32:17.304Z"
   },
   {
    "duration": 23,
    "start_time": "2023-10-31T10:32:17.313Z"
   },
   {
    "duration": 121,
    "start_time": "2023-10-31T10:32:17.339Z"
   },
   {
    "duration": 722,
    "start_time": "2023-10-31T10:32:17.462Z"
   },
   {
    "duration": 217,
    "start_time": "2023-10-31T10:32:18.186Z"
   },
   {
    "duration": 220,
    "start_time": "2023-10-31T10:32:18.404Z"
   },
   {
    "duration": 23,
    "start_time": "2023-10-31T10:32:18.627Z"
   },
   {
    "duration": 18,
    "start_time": "2023-10-31T10:32:18.652Z"
   },
   {
    "duration": 3,
    "start_time": "2023-10-31T10:32:18.672Z"
   },
   {
    "duration": 864807,
    "start_time": "2023-10-31T10:32:18.677Z"
   },
   {
    "duration": 19,
    "start_time": "2023-10-31T10:46:43.485Z"
   },
   {
    "duration": 4,
    "start_time": "2023-10-31T10:46:43.505Z"
   },
   {
    "duration": 17,
    "start_time": "2023-10-31T10:46:43.510Z"
   },
   {
    "duration": 16,
    "start_time": "2023-10-31T10:46:43.529Z"
   },
   {
    "duration": 204,
    "start_time": "2023-10-31T10:46:43.547Z"
   },
   {
    "duration": 834442,
    "start_time": "2023-10-31T10:46:43.753Z"
   },
   {
    "duration": 11,
    "start_time": "2023-10-31T11:00:38.197Z"
   },
   {
    "duration": 199,
    "start_time": "2023-10-31T11:00:38.210Z"
   },
   {
    "duration": 804932,
    "start_time": "2023-10-31T11:00:38.411Z"
   },
   {
    "duration": 89,
    "start_time": "2023-10-31T11:14:03.344Z"
   },
   {
    "duration": 24,
    "start_time": "2023-10-31T11:14:03.435Z"
   },
   {
    "duration": 385,
    "start_time": "2023-10-31T11:14:03.461Z"
   },
   {
    "duration": 208,
    "start_time": "2023-10-31T11:14:03.847Z"
   },
   {
    "duration": 243,
    "start_time": "2023-10-31T11:14:04.056Z"
   },
   {
    "duration": 436,
    "start_time": "2023-10-31T11:14:04.301Z"
   },
   {
    "duration": 4,
    "start_time": "2023-10-31T11:14:04.739Z"
   }
  ],
  "kernelspec": {
   "display_name": "Python 3 (ipykernel)",
   "language": "python",
   "name": "python3"
  },
  "language_info": {
   "codemirror_mode": {
    "name": "ipython",
    "version": 3
   },
   "file_extension": ".py",
   "mimetype": "text/x-python",
   "name": "python",
   "nbconvert_exporter": "python",
   "pygments_lexer": "ipython3",
   "version": "3.9.13"
  },
  "toc": {
   "base_numbering": 1,
   "nav_menu": {},
   "number_sections": true,
   "sideBar": true,
   "skip_h1_title": true,
   "title_cell": "Table of Contents",
   "title_sidebar": "Contents",
   "toc_cell": false,
   "toc_position": {},
   "toc_section_display": true,
   "toc_window_display": false
  }
 },
 "nbformat": 4,
 "nbformat_minor": 2
}

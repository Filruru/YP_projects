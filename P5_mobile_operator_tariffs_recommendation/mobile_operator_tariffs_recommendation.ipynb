{
 "cells": [
  {
   "cell_type": "markdown",
   "metadata": {},
   "source": [
    "# Рекомендация тарифов"
   ]
  },
  {
   "cell_type": "markdown",
   "metadata": {},
   "source": [
    "В вашем распоряжении данные о поведении клиентов, которые уже перешли на эти тарифы (из проекта курса «Статистический анализ данных»). Нужно построить модель для задачи классификации, которая выберет подходящий тариф. Предобработка данных не понадобится — вы её уже сделали.\n",
    "\n",
    "Постройте модель с максимально большим значением *accuracy*. Чтобы сдать проект успешно, нужно довести долю правильных ответов по крайней мере до 0.75. Проверьте *accuracy* на тестовой выборке самостоятельно."
   ]
  },
  {
   "cell_type": "markdown",
   "metadata": {},
   "source": [
    "## Откройте и изучите файл"
   ]
  },
  {
   "cell_type": "code",
   "execution_count": 1,
   "metadata": {},
   "outputs": [],
   "source": [
    "import pandas as pd\n",
    "import numpy as np\n",
    "import seaborn as sns \n",
    "import matplotlib.pyplot as plt\n",
    "import warnings\n",
    "warnings.simplefilter('ignore') \n",
    "\n",
    "from scipy.stats import randint\n",
    "from sklearn.model_selection import RandomizedSearchCV\n",
    "from sklearn.model_selection import train_test_split\n",
    "from sklearn.model_selection import GridSearchCV\n",
    "from sklearn.tree import DecisionTreeClassifier\n",
    "from sklearn.ensemble import RandomForestClassifier\n",
    "from sklearn.linear_model import LogisticRegression\n",
    "from sklearn.metrics import accuracy_score\n",
    "from sklearn.dummy import DummyClassifier\n",
    "from sklearn. metrics import classification_report\n",
    "from sklearn.metrics import confusion_matrix\n",
    "from sklearn.metrics import ConfusionMatrixDisplay\n",
    "from sklearn import tree\n",
    "from tqdm import tqdm"
   ]
  },
  {
   "cell_type": "code",
   "execution_count": 2,
   "metadata": {},
   "outputs": [],
   "source": [
    "df=pd.read_csv('/datasets/users_behavior.csv')"
   ]
  },
  {
   "cell_type": "code",
   "execution_count": 3,
   "metadata": {},
   "outputs": [
    {
     "data": {
      "text/html": [
       "<div>\n",
       "<style scoped>\n",
       "    .dataframe tbody tr th:only-of-type {\n",
       "        vertical-align: middle;\n",
       "    }\n",
       "\n",
       "    .dataframe tbody tr th {\n",
       "        vertical-align: top;\n",
       "    }\n",
       "\n",
       "    .dataframe thead th {\n",
       "        text-align: right;\n",
       "    }\n",
       "</style>\n",
       "<table border=\"1\" class=\"dataframe\">\n",
       "  <thead>\n",
       "    <tr style=\"text-align: right;\">\n",
       "      <th></th>\n",
       "      <th>calls</th>\n",
       "      <th>minutes</th>\n",
       "      <th>messages</th>\n",
       "      <th>mb_used</th>\n",
       "      <th>is_ultra</th>\n",
       "    </tr>\n",
       "  </thead>\n",
       "  <tbody>\n",
       "    <tr>\n",
       "      <th>0</th>\n",
       "      <td>40.0</td>\n",
       "      <td>311.90</td>\n",
       "      <td>83.0</td>\n",
       "      <td>19915.42</td>\n",
       "      <td>0</td>\n",
       "    </tr>\n",
       "    <tr>\n",
       "      <th>1</th>\n",
       "      <td>85.0</td>\n",
       "      <td>516.75</td>\n",
       "      <td>56.0</td>\n",
       "      <td>22696.96</td>\n",
       "      <td>0</td>\n",
       "    </tr>\n",
       "    <tr>\n",
       "      <th>2</th>\n",
       "      <td>77.0</td>\n",
       "      <td>467.66</td>\n",
       "      <td>86.0</td>\n",
       "      <td>21060.45</td>\n",
       "      <td>0</td>\n",
       "    </tr>\n",
       "    <tr>\n",
       "      <th>3</th>\n",
       "      <td>106.0</td>\n",
       "      <td>745.53</td>\n",
       "      <td>81.0</td>\n",
       "      <td>8437.39</td>\n",
       "      <td>1</td>\n",
       "    </tr>\n",
       "    <tr>\n",
       "      <th>4</th>\n",
       "      <td>66.0</td>\n",
       "      <td>418.74</td>\n",
       "      <td>1.0</td>\n",
       "      <td>14502.75</td>\n",
       "      <td>0</td>\n",
       "    </tr>\n",
       "    <tr>\n",
       "      <th>5</th>\n",
       "      <td>58.0</td>\n",
       "      <td>344.56</td>\n",
       "      <td>21.0</td>\n",
       "      <td>15823.37</td>\n",
       "      <td>0</td>\n",
       "    </tr>\n",
       "    <tr>\n",
       "      <th>6</th>\n",
       "      <td>57.0</td>\n",
       "      <td>431.64</td>\n",
       "      <td>20.0</td>\n",
       "      <td>3738.90</td>\n",
       "      <td>1</td>\n",
       "    </tr>\n",
       "    <tr>\n",
       "      <th>7</th>\n",
       "      <td>15.0</td>\n",
       "      <td>132.40</td>\n",
       "      <td>6.0</td>\n",
       "      <td>21911.60</td>\n",
       "      <td>0</td>\n",
       "    </tr>\n",
       "    <tr>\n",
       "      <th>8</th>\n",
       "      <td>7.0</td>\n",
       "      <td>43.39</td>\n",
       "      <td>3.0</td>\n",
       "      <td>2538.67</td>\n",
       "      <td>1</td>\n",
       "    </tr>\n",
       "    <tr>\n",
       "      <th>9</th>\n",
       "      <td>90.0</td>\n",
       "      <td>665.41</td>\n",
       "      <td>38.0</td>\n",
       "      <td>17358.61</td>\n",
       "      <td>0</td>\n",
       "    </tr>\n",
       "  </tbody>\n",
       "</table>\n",
       "</div>"
      ],
      "text/plain": [
       "   calls  minutes  messages   mb_used  is_ultra\n",
       "0   40.0   311.90      83.0  19915.42         0\n",
       "1   85.0   516.75      56.0  22696.96         0\n",
       "2   77.0   467.66      86.0  21060.45         0\n",
       "3  106.0   745.53      81.0   8437.39         1\n",
       "4   66.0   418.74       1.0  14502.75         0\n",
       "5   58.0   344.56      21.0  15823.37         0\n",
       "6   57.0   431.64      20.0   3738.90         1\n",
       "7   15.0   132.40       6.0  21911.60         0\n",
       "8    7.0    43.39       3.0   2538.67         1\n",
       "9   90.0   665.41      38.0  17358.61         0"
      ]
     },
     "metadata": {},
     "output_type": "display_data"
    }
   ],
   "source": [
    "display(df.head(10))"
   ]
  },
  {
   "cell_type": "code",
   "execution_count": 4,
   "metadata": {},
   "outputs": [
    {
     "name": "stdout",
     "output_type": "stream",
     "text": [
      "<class 'pandas.core.frame.DataFrame'>\n",
      "RangeIndex: 3214 entries, 0 to 3213\n",
      "Data columns (total 5 columns):\n",
      " #   Column    Non-Null Count  Dtype  \n",
      "---  ------    --------------  -----  \n",
      " 0   calls     3214 non-null   float64\n",
      " 1   minutes   3214 non-null   float64\n",
      " 2   messages  3214 non-null   float64\n",
      " 3   mb_used   3214 non-null   float64\n",
      " 4   is_ultra  3214 non-null   int64  \n",
      "dtypes: float64(4), int64(1)\n",
      "memory usage: 125.7 KB\n"
     ]
    }
   ],
   "source": [
    "df.info()"
   ]
  },
  {
   "cell_type": "code",
   "execution_count": 5,
   "metadata": {},
   "outputs": [
    {
     "data": {
      "text/html": [
       "<div>\n",
       "<style scoped>\n",
       "    .dataframe tbody tr th:only-of-type {\n",
       "        vertical-align: middle;\n",
       "    }\n",
       "\n",
       "    .dataframe tbody tr th {\n",
       "        vertical-align: top;\n",
       "    }\n",
       "\n",
       "    .dataframe thead th {\n",
       "        text-align: right;\n",
       "    }\n",
       "</style>\n",
       "<table border=\"1\" class=\"dataframe\">\n",
       "  <thead>\n",
       "    <tr style=\"text-align: right;\">\n",
       "      <th></th>\n",
       "      <th>calls</th>\n",
       "      <th>minutes</th>\n",
       "      <th>messages</th>\n",
       "      <th>mb_used</th>\n",
       "      <th>is_ultra</th>\n",
       "    </tr>\n",
       "  </thead>\n",
       "  <tbody>\n",
       "    <tr>\n",
       "      <th>count</th>\n",
       "      <td>3214.000000</td>\n",
       "      <td>3214.000000</td>\n",
       "      <td>3214.000000</td>\n",
       "      <td>3214.000000</td>\n",
       "      <td>3214.000000</td>\n",
       "    </tr>\n",
       "    <tr>\n",
       "      <th>mean</th>\n",
       "      <td>63.038892</td>\n",
       "      <td>438.208787</td>\n",
       "      <td>38.281269</td>\n",
       "      <td>17207.673836</td>\n",
       "      <td>0.306472</td>\n",
       "    </tr>\n",
       "    <tr>\n",
       "      <th>std</th>\n",
       "      <td>33.236368</td>\n",
       "      <td>234.569872</td>\n",
       "      <td>36.148326</td>\n",
       "      <td>7570.968246</td>\n",
       "      <td>0.461100</td>\n",
       "    </tr>\n",
       "    <tr>\n",
       "      <th>min</th>\n",
       "      <td>0.000000</td>\n",
       "      <td>0.000000</td>\n",
       "      <td>0.000000</td>\n",
       "      <td>0.000000</td>\n",
       "      <td>0.000000</td>\n",
       "    </tr>\n",
       "    <tr>\n",
       "      <th>25%</th>\n",
       "      <td>40.000000</td>\n",
       "      <td>274.575000</td>\n",
       "      <td>9.000000</td>\n",
       "      <td>12491.902500</td>\n",
       "      <td>0.000000</td>\n",
       "    </tr>\n",
       "    <tr>\n",
       "      <th>50%</th>\n",
       "      <td>62.000000</td>\n",
       "      <td>430.600000</td>\n",
       "      <td>30.000000</td>\n",
       "      <td>16943.235000</td>\n",
       "      <td>0.000000</td>\n",
       "    </tr>\n",
       "    <tr>\n",
       "      <th>75%</th>\n",
       "      <td>82.000000</td>\n",
       "      <td>571.927500</td>\n",
       "      <td>57.000000</td>\n",
       "      <td>21424.700000</td>\n",
       "      <td>1.000000</td>\n",
       "    </tr>\n",
       "    <tr>\n",
       "      <th>max</th>\n",
       "      <td>244.000000</td>\n",
       "      <td>1632.060000</td>\n",
       "      <td>224.000000</td>\n",
       "      <td>49745.730000</td>\n",
       "      <td>1.000000</td>\n",
       "    </tr>\n",
       "  </tbody>\n",
       "</table>\n",
       "</div>"
      ],
      "text/plain": [
       "             calls      minutes     messages       mb_used     is_ultra\n",
       "count  3214.000000  3214.000000  3214.000000   3214.000000  3214.000000\n",
       "mean     63.038892   438.208787    38.281269  17207.673836     0.306472\n",
       "std      33.236368   234.569872    36.148326   7570.968246     0.461100\n",
       "min       0.000000     0.000000     0.000000      0.000000     0.000000\n",
       "25%      40.000000   274.575000     9.000000  12491.902500     0.000000\n",
       "50%      62.000000   430.600000    30.000000  16943.235000     0.000000\n",
       "75%      82.000000   571.927500    57.000000  21424.700000     1.000000\n",
       "max     244.000000  1632.060000   224.000000  49745.730000     1.000000"
      ]
     },
     "execution_count": 5,
     "metadata": {},
     "output_type": "execute_result"
    }
   ],
   "source": [
    "df.describe()"
   ]
  },
  {
   "cell_type": "markdown",
   "metadata": {},
   "source": [
    "Не вижу каких то проблем с данными, за исключением, что тип для звонков и сообщений можно поменять на целочисленный"
   ]
  },
  {
   "cell_type": "code",
   "execution_count": 6,
   "metadata": {},
   "outputs": [
    {
     "data": {
      "text/html": [
       "<div>\n",
       "<style scoped>\n",
       "    .dataframe tbody tr th:only-of-type {\n",
       "        vertical-align: middle;\n",
       "    }\n",
       "\n",
       "    .dataframe tbody tr th {\n",
       "        vertical-align: top;\n",
       "    }\n",
       "\n",
       "    .dataframe thead th {\n",
       "        text-align: right;\n",
       "    }\n",
       "</style>\n",
       "<table border=\"1\" class=\"dataframe\">\n",
       "  <thead>\n",
       "    <tr style=\"text-align: right;\">\n",
       "      <th></th>\n",
       "      <th>calls</th>\n",
       "      <th>minutes</th>\n",
       "      <th>messages</th>\n",
       "      <th>mb_used</th>\n",
       "      <th>is_ultra</th>\n",
       "    </tr>\n",
       "  </thead>\n",
       "  <tbody>\n",
       "    <tr>\n",
       "      <th>0</th>\n",
       "      <td>40</td>\n",
       "      <td>311.90</td>\n",
       "      <td>83</td>\n",
       "      <td>19915.42</td>\n",
       "      <td>0</td>\n",
       "    </tr>\n",
       "    <tr>\n",
       "      <th>1</th>\n",
       "      <td>85</td>\n",
       "      <td>516.75</td>\n",
       "      <td>56</td>\n",
       "      <td>22696.96</td>\n",
       "      <td>0</td>\n",
       "    </tr>\n",
       "    <tr>\n",
       "      <th>2</th>\n",
       "      <td>77</td>\n",
       "      <td>467.66</td>\n",
       "      <td>86</td>\n",
       "      <td>21060.45</td>\n",
       "      <td>0</td>\n",
       "    </tr>\n",
       "    <tr>\n",
       "      <th>3</th>\n",
       "      <td>106</td>\n",
       "      <td>745.53</td>\n",
       "      <td>81</td>\n",
       "      <td>8437.39</td>\n",
       "      <td>1</td>\n",
       "    </tr>\n",
       "    <tr>\n",
       "      <th>4</th>\n",
       "      <td>66</td>\n",
       "      <td>418.74</td>\n",
       "      <td>1</td>\n",
       "      <td>14502.75</td>\n",
       "      <td>0</td>\n",
       "    </tr>\n",
       "    <tr>\n",
       "      <th>...</th>\n",
       "      <td>...</td>\n",
       "      <td>...</td>\n",
       "      <td>...</td>\n",
       "      <td>...</td>\n",
       "      <td>...</td>\n",
       "    </tr>\n",
       "    <tr>\n",
       "      <th>3209</th>\n",
       "      <td>122</td>\n",
       "      <td>910.98</td>\n",
       "      <td>20</td>\n",
       "      <td>35124.90</td>\n",
       "      <td>1</td>\n",
       "    </tr>\n",
       "    <tr>\n",
       "      <th>3210</th>\n",
       "      <td>25</td>\n",
       "      <td>190.36</td>\n",
       "      <td>0</td>\n",
       "      <td>3275.61</td>\n",
       "      <td>0</td>\n",
       "    </tr>\n",
       "    <tr>\n",
       "      <th>3211</th>\n",
       "      <td>97</td>\n",
       "      <td>634.44</td>\n",
       "      <td>70</td>\n",
       "      <td>13974.06</td>\n",
       "      <td>0</td>\n",
       "    </tr>\n",
       "    <tr>\n",
       "      <th>3212</th>\n",
       "      <td>64</td>\n",
       "      <td>462.32</td>\n",
       "      <td>90</td>\n",
       "      <td>31239.78</td>\n",
       "      <td>0</td>\n",
       "    </tr>\n",
       "    <tr>\n",
       "      <th>3213</th>\n",
       "      <td>80</td>\n",
       "      <td>566.09</td>\n",
       "      <td>6</td>\n",
       "      <td>29480.52</td>\n",
       "      <td>1</td>\n",
       "    </tr>\n",
       "  </tbody>\n",
       "</table>\n",
       "<p>3214 rows × 5 columns</p>\n",
       "</div>"
      ],
      "text/plain": [
       "      calls  minutes  messages   mb_used  is_ultra\n",
       "0        40   311.90        83  19915.42         0\n",
       "1        85   516.75        56  22696.96         0\n",
       "2        77   467.66        86  21060.45         0\n",
       "3       106   745.53        81   8437.39         1\n",
       "4        66   418.74         1  14502.75         0\n",
       "...     ...      ...       ...       ...       ...\n",
       "3209    122   910.98        20  35124.90         1\n",
       "3210     25   190.36         0   3275.61         0\n",
       "3211     97   634.44        70  13974.06         0\n",
       "3212     64   462.32        90  31239.78         0\n",
       "3213     80   566.09         6  29480.52         1\n",
       "\n",
       "[3214 rows x 5 columns]"
      ]
     },
     "execution_count": 6,
     "metadata": {},
     "output_type": "execute_result"
    }
   ],
   "source": [
    "df.astype({ \"calls\": \"int64\", \"messages\": \"int64\"})"
   ]
  },
  {
   "cell_type": "code",
   "execution_count": 7,
   "metadata": {},
   "outputs": [
    {
     "data": {
      "image/png": "[encoded data removed]",
      "text/plain": [
       "<Figure size 432x288 with 1 Axes>"
      ]
     },
     "metadata": {
      "needs_background": "light"
     },
     "output_type": "display_data"
    },
    {
     "name": "stdout",
     "output_type": "stream",
     "text": [
      "(985, 5)\n",
      "(2229, 5)\n"
     ]
    }
   ],
   "source": [
    "sns.countplot(df[\"is_ultra\"])\n",
    "plt.title(\"График сбалансированности целевого признака\")\n",
    "plt.show() \n",
    "\n",
    "is_ultra= df [df [\"is_ultra\"]==1] \n",
    "is_smart=df[df[\"is_ultra\"]==0]\n",
    "print(is_ultra.shape) \n",
    "print(is_smart.shape)"
   ]
  },
  {
   "cell_type": "code",
   "execution_count": 8,
   "metadata": {},
   "outputs": [
    {
     "name": "stdout",
     "output_type": "stream",
     "text": [
      "             calls   minutes  messages   mb_used  is_ultra\n",
      "calls     1.000000  0.982083  0.177385  0.286442  0.207122\n",
      "minutes   0.982083  1.000000  0.173110  0.280967  0.206955\n",
      "messages  0.177385  0.173110  1.000000  0.195721  0.203830\n",
      "mb_used   0.286442  0.280967  0.195721  1.000000  0.198568\n",
      "is_ultra  0.207122  0.206955  0.203830  0.198568  1.000000\n"
     ]
    },
    {
     "data": {
      "image/png": "[encoded data removed]",
      "text/plain": [
       "<Figure size 432x288 with 2 Axes>"
      ]
     },
     "metadata": {
      "needs_background": "light"
     },
     "output_type": "display_data"
    }
   ],
   "source": [
    "print(df.corr())\n",
    "df_plot = sns.heatmap(df.corr(), cmap=\"YlGnBu\", annot=True)\n",
    "plt.title('Тепловая карта корреляции')\n",
    "plt.show()"
   ]
  },
  {
   "cell_type": "markdown",
   "metadata": {},
   "source": [
    "Два признака сильно коррелированы \"calls\" и \"minutes\", присутствует мультиколлинеарность между ними в датасете. "
   ]
  },
  {
   "cell_type": "markdown",
   "metadata": {},
   "source": [
    "## Разбейте данные на выборки"
   ]
  },
  {
   "cell_type": "code",
   "execution_count": 9,
   "metadata": {},
   "outputs": [],
   "source": [
    "features = df.drop([\"is_ultra\"], axis=1) # извлекаем признаки \n",
    "target = df[\"is_ultra\"] # извлекаем целевой признак\n"
   ]
  },
  {
   "cell_type": "markdown",
   "metadata": {},
   "source": [
    "Разделим датасет на 3 выборки (обучающую 60%, валидационную 20%, тестовую 20%)\n",
    "\n",
    "Обучающая выборка (на которой модель обучают)\n",
    "\n",
    "Валидационная выборка (для оценки переобученности модели, для оценки ошибки прогнозирования при выборе модели, для настройки гиперпараметров и выбора лучшей модели), показывает, как может повести себя модель с новыми данными.\n",
    "При валидации модели выбирают набор гиперпараметров, который соответствует лучшей модели.\n",
    "\n",
    "Тестовая выборка (для оценки работы готовой модели, для оценки ошибки обобщения для окончательной выбранной модели)"
   ]
  },
  {
   "cell_type": "code",
   "execution_count": 10,
   "metadata": {},
   "outputs": [],
   "source": [
    "#делим исходный датасет на обучающую и тестовую выборки в соотнощении 0.8/0.2\n",
    "features_train, features_test, target_train, target_test = \\\n",
    "        train_test_split(features,target,train_size=0.8,random_state=12345, stratify=target)\n",
    "\n",
    "#от обучающей выборки отделяем валидационную выборку в соотношении 0.25\n",
    "features_train, features_valid, target_train, target_valid = \\\n",
    "        train_test_split(features_train,target_train,train_size=0.75,random_state=12345,stratify=target_train)\n"
   ]
  },
  {
   "cell_type": "code",
   "execution_count": 11,
   "metadata": {},
   "outputs": [
    {
     "data": {
      "text/plain": [
       "'Размер обучающей выборки'"
      ]
     },
     "metadata": {},
     "output_type": "display_data"
    },
    {
     "data": {
      "text/plain": [
       "(1928, 4)"
      ]
     },
     "metadata": {},
     "output_type": "display_data"
    },
    {
     "data": {
      "text/plain": [
       "(1928,)"
      ]
     },
     "metadata": {},
     "output_type": "display_data"
    },
    {
     "data": {
      "text/plain": [
       "'Размер валидационной выборки'"
      ]
     },
     "metadata": {},
     "output_type": "display_data"
    },
    {
     "data": {
      "text/plain": [
       "(643, 4)"
      ]
     },
     "metadata": {},
     "output_type": "display_data"
    },
    {
     "data": {
      "text/plain": [
       "(643,)"
      ]
     },
     "metadata": {},
     "output_type": "display_data"
    },
    {
     "data": {
      "text/plain": [
       "'Размер тестовой выборки'"
      ]
     },
     "metadata": {},
     "output_type": "display_data"
    },
    {
     "data": {
      "text/plain": [
       "(643, 4)"
      ]
     },
     "metadata": {},
     "output_type": "display_data"
    },
    {
     "data": {
      "text/plain": [
       "(643,)"
      ]
     },
     "metadata": {},
     "output_type": "display_data"
    }
   ],
   "source": [
    "display(\"Размер обучающей выборки\")\n",
    "display(features_train.shape)\n",
    "display(target_train.shape)\n",
    "display(\"Размер валидационной выборки\")\n",
    "display(features_valid.shape)\n",
    "display(target_valid.shape)\n",
    "display(\"Размер тестовой выборки\")\n",
    "display(features_test.shape)\n",
    "display(target_test.shape)"
   ]
  },
  {
   "cell_type": "markdown",
   "metadata": {},
   "source": [
    "Для равномерного распределения количества классов в наборах данных, разделенных для обучения, насройки и тестирования добавил стратификацию по таргетам."
   ]
  },
  {
   "cell_type": "markdown",
   "metadata": {},
   "source": [
    "## Исследуйте модели"
   ]
  },
  {
   "cell_type": "markdown",
   "metadata": {},
   "source": [
    "### DecisionTreeClassifier"
   ]
  },
  {
   "cell_type": "markdown",
   "metadata": {},
   "source": [
    "На начальном этапе исследования дерева решений на валидационной выборке посмотрел, как на точность модели влияет гиперпараметр глубина дерева при значении всех остальных гиперпараметров \"по умолчанию\". Обработку организовал с помощью цикла, увеличивая на каждой итерации глубину дерева. "
   ]
  },
  {
   "cell_type": "code",
   "execution_count": 12,
   "metadata": {},
   "outputs": [
    {
     "name": "stdout",
     "output_type": "stream",
     "text": [
      "max_depth = 1 : 0.7589424572317263\n",
      "max_depth = 2 : 0.7838258164852255\n",
      "max_depth = 3 : 0.8040435458786936\n",
      "max_depth = 4 : 0.8040435458786936\n",
      "max_depth = 5 : 0.8164852255054432\n",
      "max_depth = 6 : 0.8164852255054432\n",
      "max_depth = 7 : 0.8164852255054432\n",
      "max_depth = 8 : 0.8164852255054432\n",
      "max_depth = 9 : 0.8164852255054432\n",
      "max_depth = 10 : 0.8164852255054432\n",
      "max_depth = 11 : 0.8164852255054432\n",
      "max_depth = 12 : 0.8164852255054432\n",
      "max_depth = 13 : 0.8164852255054432\n",
      "max_depth = 14 : 0.8164852255054432\n",
      "max_depth = 15 : 0.8164852255054432\n",
      "max_depth = 16 : 0.8164852255054432\n",
      "max_depth = 17 : 0.8164852255054432\n",
      "max_depth = 18 : 0.8164852255054432\n",
      "max_depth = 19 : 0.8164852255054432\n",
      "max_depth = 20 : 0.8164852255054432\n",
      "max_depth = 21 : 0.8164852255054432\n",
      "max_depth = 22 : 0.8164852255054432\n",
      "max_depth = 23 : 0.8164852255054432\n",
      "max_depth = 24 : 0.8164852255054432\n",
      "max_depth = 25 : 0.8164852255054432\n",
      "max_depth = 26 : 0.8164852255054432\n",
      "max_depth = 27 : 0.8164852255054432\n",
      "max_depth = 28 : 0.8164852255054432\n",
      "max_depth = 29 : 0.8164852255054432\n",
      "max_depth = 30 : 0.8164852255054432\n",
      "Accuracy лучшей модели: 0.8164852255054432\n",
      "Depth лучшей модели: 5\n",
      "CPU times: user 371 ms, sys: 8.16 ms, total: 379 ms\n",
      "Wall time: 384 ms\n"
     ]
    }
   ],
   "source": [
    "%%time\n",
    "best_model_dtc = None\n",
    "best_result_dtc = 0\n",
    "\n",
    "train_acc = []#список метрик accuracy на тренировке\n",
    "valid_acc = []#список метрик accuracy на валидации\n",
    "\n",
    "for depth in range(1, 31):\n",
    "    model = DecisionTreeClassifier(class_weight=None, criterion='gini', max_depth=depth,\\\n",
    "            max_features=None, max_leaf_nodes=None,\\\n",
    "            min_impurity_decrease=0.0, min_impurity_split=None,\\\n",
    "            min_samples_leaf=1, min_samples_split=2,\\\n",
    "            min_weight_fraction_leaf=0.0,random_state=12345,\\\n",
    "            splitter='best')\n",
    "    # обучиv модель с заданной глубиной дерева\n",
    "    model.fit(features_train,target_train) # обучаем модель\n",
    "    train_acc.append(model.score(features_train, target_train))#собираем метрику accuracy в список на тренировке     \n",
    "    predictions = model.predict(features_valid) # получаем предсказания модели    \n",
    "    result = accuracy_score(target_valid, predictions) # считаем качество модели\n",
    "    valid_acc.append(result) #собираем метрику accuracy в список на валидации\n",
    "    if result > best_result_dtc: #находим лучший результат\n",
    "        best_model_dtc = model\n",
    "        best_depth_dtc = depth\n",
    "        best_result_dtc = result\n",
    "    print(f\"max_depth = {depth} :\", best_result_dtc)\n",
    "\n",
    "print(\"Accuracy лучшей модели:\", best_result_dtc)\n",
    "print(\"Depth лучшей модели:\", best_depth_dtc)\n",
    "\n",
    "#print(train_acc)\n",
    "#print(valid_acc)\n",
    "\n"
   ]
  },
  {
   "cell_type": "code",
   "execution_count": 13,
   "metadata": {},
   "outputs": [
    {
     "data": {
      "image/png": "[encoded data removed]",
      "text/plain": [
       "<Figure size 800x560 with 1 Axes>"
      ]
     },
     "metadata": {
      "needs_background": "light"
     },
     "output_type": "display_data"
    }
   ],
   "source": [
    "plt.figure(figsize=(10,7), dpi=80)\n",
    "plt.ylabel('Accuracy',fontsize=12)\n",
    "plt.yticks(fontsize=12)\n",
    "plt.xlabel('Depth',fontsize=12)\n",
    "plt.yticks(fontsize=12)\n",
    "plt.title(\"Изменение точности модели при изменении глубины дерева\", fontsize=14)\n",
    "plt.grid(axis='y', alpha=.3)\n",
    "plt.plot(train_acc, label='train');\n",
    "plt.plot(valid_acc, label='valid');\n",
    "plt.legend(loc='best');"
   ]
  },
  {
   "cell_type": "markdown",
   "metadata": {},
   "source": [
    "В результате самая лучшая точность модели получилась у 5ти уровнего дерева при значениие всех остальных гиперпараметров \"по умолчанию\". После 5го уровня модель \"переобучается\" и теряет точность на валидационной выборке. На тренировочной выборке модель так же \"переобучается\" и ее точность в конечном итоге достигает 1. "
   ]
  },
  {
   "cell_type": "markdown",
   "metadata": {},
   "source": [
    "Построим tree_plot, чтобы обьяснить заказчику как примерно модель принимает решение."
   ]
  },
  {
   "cell_type": "code",
   "execution_count": 14,
   "metadata": {},
   "outputs": [
    {
     "data": {
      "image/png": "[encoded data removed]",
      "text/plain": [
       "<Figure size 1440x720 with 1 Axes>"
      ]
     },
     "metadata": {
      "needs_background": "light"
     },
     "output_type": "display_data"
    }
   ],
   "source": [
    "fig, axe = plt.subplots(figsize=(20,10))\n",
    "tree.plot_tree(model,max_depth=3, filled=True,ax = axe, fontsize=15);\n",
    "plt.title('3 уровня дерева модели DecisionTreeClassifier',fontsize=15);\n"
   ]
  },
  {
   "cell_type": "markdown",
   "metadata": {},
   "source": [
    "### RandomForestClassifier"
   ]
  },
  {
   "cell_type": "markdown",
   "metadata": {},
   "source": [
    "На начальном этапе исследования модели случайного дерева решений на валидационной выборке посмотрел, как на точность модели влияет гиперпараметр количество деревьев при значении всех остальных гиперпараметров \"по умолчанию\". Обработку организовал с помощью цикла, увеличивая на каждой итерации количество деревьев."
   ]
  },
  {
   "cell_type": "code",
   "execution_count": 15,
   "metadata": {},
   "outputs": [
    {
     "name": "stderr",
     "output_type": "stream",
     "text": [
      " 13%|█▎        | 2/15 [00:00<00:01, 10.55it/s]"
     ]
    },
    {
     "name": "stdout",
     "output_type": "stream",
     "text": [
      "max_n_estimators = 1 : 1\n",
      "max_depth = 1 : 1\n",
      "max_n_estimators = 1 : 1\n",
      "max_depth = 2 : 2\n",
      "max_n_estimators = 1 : 1\n",
      "max_depth = 3 : 2\n",
      "max_n_estimators = 1 : 1\n",
      "max_depth = 4 : 2\n",
      "max_n_estimators = 1 : 1\n",
      "max_depth = 5 : 5\n",
      "max_n_estimators = 1 : 1\n",
      "max_depth = 6 : 5\n",
      "max_n_estimators = 1 : 1\n",
      "max_depth = 7 : 5\n",
      "max_n_estimators = 1 : 1\n",
      "max_depth = 8 : 5\n",
      "max_n_estimators = 1 : 1\n",
      "max_depth = 9 : 5\n",
      "max_n_estimators = 1 : 1\n",
      "max_depth = 10 : 5\n",
      "max_n_estimators = 2 : 1\n",
      "max_depth = 1 : 5\n",
      "max_n_estimators = 2 : 1\n",
      "max_depth = 2 : 5\n",
      "max_n_estimators = 2 : 1\n",
      "max_depth = 3 : 5\n",
      "max_n_estimators = 2 : 1\n",
      "max_depth = 4 : 5\n",
      "max_n_estimators = 2 : 1\n",
      "max_depth = 5 : 5\n",
      "max_n_estimators = 2 : 1\n",
      "max_depth = 6 : 5\n",
      "max_n_estimators = 2 : 2\n",
      "max_depth = 7 : 7\n",
      "max_n_estimators = 2 : 2\n",
      "max_depth = 8 : 8\n",
      "max_n_estimators = 2 : 2\n",
      "max_depth = 9 : 8\n",
      "max_n_estimators = 2 : 2\n",
      "max_depth = 10 : 8\n",
      "max_n_estimators = 3 : 2\n",
      "max_depth = 1 : 8\n",
      "max_n_estimators = 3 : 2\n",
      "max_depth = 2 : 8\n",
      "max_n_estimators = 3 : 2\n",
      "max_depth = 3 : 8\n",
      "max_n_estimators = 3 : 2\n",
      "max_depth = 4 : 8\n",
      "max_n_estimators = 3 : 3\n",
      "max_depth = 5 : 5\n",
      "max_n_estimators = 3 : 3\n",
      "max_depth = 6 : 5\n",
      "max_n_estimators = 3 : 3\n",
      "max_depth = 7 : 5\n",
      "max_n_estimators = 3 : 3\n",
      "max_depth = 8 : 5\n",
      "max_n_estimators = 3 : 3\n",
      "max_depth = 9 : 5\n",
      "max_n_estimators = 3 : 3\n",
      "max_depth = 10 : 5\n",
      "max_n_estimators = 4 : 3\n",
      "max_depth = 1 : 5\n",
      "max_n_estimators = 4 : 3\n",
      "max_depth = 2 : 5\n",
      "max_n_estimators = 4 : 3\n",
      "max_depth = 3 : 5\n",
      "max_n_estimators = 4 : 3\n",
      "max_depth = 4 : 5\n",
      "max_n_estimators = 4 : 3\n",
      "max_depth = 5 : 5\n",
      "max_n_estimators = 4 : 4\n",
      "max_depth = 6 : 6\n"
     ]
    },
    {
     "name": "stderr",
     "output_type": "stream",
     "text": [
      " 27%|██▋       | 4/15 [00:00<00:01,  7.70it/s]"
     ]
    },
    {
     "name": "stdout",
     "output_type": "stream",
     "text": [
      "max_n_estimators = 4 : 4\n",
      "max_depth = 7 : 7\n",
      "max_n_estimators = 4 : 4\n",
      "max_depth = 8 : 7\n",
      "max_n_estimators = 4 : 4\n",
      "max_depth = 9 : 7\n",
      "max_n_estimators = 4 : 4\n",
      "max_depth = 10 : 7\n",
      "max_n_estimators = 5 : 4\n",
      "max_depth = 1 : 7\n",
      "max_n_estimators = 5 : 4\n",
      "max_depth = 2 : 7\n",
      "max_n_estimators = 5 : 4\n",
      "max_depth = 3 : 7\n",
      "max_n_estimators = 5 : 4\n",
      "max_depth = 4 : 7\n",
      "max_n_estimators = 5 : 5\n",
      "max_depth = 5 : 5\n",
      "max_n_estimators = 5 : 5\n",
      "max_depth = 6 : 5\n",
      "max_n_estimators = 5 : 5\n",
      "max_depth = 7 : 5\n"
     ]
    },
    {
     "name": "stderr",
     "output_type": "stream",
     "text": [
      " 33%|███▎      | 5/15 [00:00<00:01,  6.70it/s]"
     ]
    },
    {
     "name": "stdout",
     "output_type": "stream",
     "text": [
      "max_n_estimators = 5 : 5\n",
      "max_depth = 8 : 8\n",
      "max_n_estimators = 5 : 5\n",
      "max_depth = 9 : 8\n",
      "max_n_estimators = 5 : 5\n",
      "max_depth = 10 : 8\n",
      "max_n_estimators = 6 : 5\n",
      "max_depth = 1 : 8\n",
      "max_n_estimators = 6 : 5\n",
      "max_depth = 2 : 8\n",
      "max_n_estimators = 6 : 5\n",
      "max_depth = 3 : 8\n",
      "max_n_estimators = 6 : 5\n",
      "max_depth = 4 : 8\n",
      "max_n_estimators = 6 : 5\n",
      "max_depth = 5 : 8\n",
      "max_n_estimators = 6 : 5\n",
      "max_depth = 6 : 8\n",
      "max_n_estimators = 6 : 5\n",
      "max_depth = 7 : 8\n"
     ]
    },
    {
     "name": "stderr",
     "output_type": "stream",
     "text": [
      " 40%|████      | 6/15 [00:00<00:01,  5.80it/s]"
     ]
    },
    {
     "name": "stdout",
     "output_type": "stream",
     "text": [
      "max_n_estimators = 6 : 6\n",
      "max_depth = 8 : 8\n",
      "max_n_estimators = 6 : 6\n",
      "max_depth = 9 : 8\n",
      "max_n_estimators = 6 : 6\n",
      "max_depth = 10 : 8\n",
      "max_n_estimators = 7 : 6\n",
      "max_depth = 1 : 8\n",
      "max_n_estimators = 7 : 6\n",
      "max_depth = 2 : 8\n",
      "max_n_estimators = 7 : 6\n",
      "max_depth = 3 : 8\n",
      "max_n_estimators = 7 : 6\n",
      "max_depth = 4 : 8\n",
      "max_n_estimators = 7 : 6\n",
      "max_depth = 5 : 8\n",
      "max_n_estimators = 7 : 6\n",
      "max_depth = 6 : 8\n"
     ]
    },
    {
     "name": "stderr",
     "output_type": "stream",
     "text": [
      " 47%|████▋     | 7/15 [00:01<00:01,  5.04it/s]"
     ]
    },
    {
     "name": "stdout",
     "output_type": "stream",
     "text": [
      "max_n_estimators = 7 : 6\n",
      "max_depth = 7 : 8\n",
      "max_n_estimators = 7 : 7\n",
      "max_depth = 8 : 8\n",
      "max_n_estimators = 7 : 7\n",
      "max_depth = 9 : 8\n",
      "max_n_estimators = 7 : 7\n",
      "max_depth = 10 : 8\n",
      "max_n_estimators = 8 : 7\n",
      "max_depth = 1 : 8\n",
      "max_n_estimators = 8 : 7\n",
      "max_depth = 2 : 8\n",
      "max_n_estimators = 8 : 7\n",
      "max_depth = 3 : 8\n",
      "max_n_estimators = 8 : 7\n",
      "max_depth = 4 : 8\n"
     ]
    },
    {
     "name": "stderr",
     "output_type": "stream",
     "text": [
      " 53%|█████▎    | 8/15 [00:01<00:01,  4.38it/s]"
     ]
    },
    {
     "name": "stdout",
     "output_type": "stream",
     "text": [
      "max_n_estimators = 8 : 7\n",
      "max_depth = 5 : 8\n",
      "max_n_estimators = 8 : 7\n",
      "max_depth = 6 : 8\n",
      "max_n_estimators = 8 : 7\n",
      "max_depth = 7 : 8\n",
      "max_n_estimators = 8 : 7\n",
      "max_depth = 8 : 8\n",
      "max_n_estimators = 8 : 7\n",
      "max_depth = 9 : 8\n",
      "max_n_estimators = 8 : 7\n",
      "max_depth = 10 : 8\n",
      "max_n_estimators = 9 : 7\n",
      "max_depth = 1 : 8\n",
      "max_n_estimators = 9 : 7\n",
      "max_depth = 2 : 8\n",
      "max_n_estimators = 9 : 7\n",
      "max_depth = 3 : 8\n",
      "max_n_estimators = 9 : 7\n",
      "max_depth = 4 : 8\n",
      "max_n_estimators = 9 : 7\n",
      "max_depth = 5 : 8\n",
      "max_n_estimators = 9 : 7\n",
      "max_depth = 6 : 8\n",
      "max_n_estimators = 9 : 7\n",
      "max_depth = 7 : 8\n",
      "max_n_estimators = 9 : 9\n",
      "max_depth = 8 : 8\n"
     ]
    },
    {
     "name": "stderr",
     "output_type": "stream",
     "text": [
      " 60%|██████    | 9/15 [00:01<00:01,  3.91it/s]"
     ]
    },
    {
     "name": "stdout",
     "output_type": "stream",
     "text": [
      "max_n_estimators = 9 : 9\n",
      "max_depth = 9 : 8\n",
      "max_n_estimators = 9 : 9\n",
      "max_depth = 10 : 8\n",
      "max_n_estimators = 10 : 9\n",
      "max_depth = 1 : 8\n",
      "max_n_estimators = 10 : 9\n",
      "max_depth = 2 : 8\n",
      "max_n_estimators = 10 : 9\n",
      "max_depth = 3 : 8\n",
      "max_n_estimators = 10 : 9\n",
      "max_depth = 4 : 8\n",
      "max_n_estimators = 10 : 9\n",
      "max_depth = 5 : 8\n"
     ]
    },
    {
     "name": "stderr",
     "output_type": "stream",
     "text": [
      " 67%|██████▋   | 10/15 [00:02<00:01,  3.61it/s]"
     ]
    },
    {
     "name": "stdout",
     "output_type": "stream",
     "text": [
      "max_n_estimators = 10 : 9\n",
      "max_depth = 6 : 8\n",
      "max_n_estimators = 10 : 9\n",
      "max_depth = 7 : 8\n",
      "max_n_estimators = 10 : 10\n",
      "max_depth = 8 : 8\n",
      "max_n_estimators = 10 : 10\n",
      "max_depth = 9 : 8\n",
      "max_n_estimators = 10 : 10\n",
      "max_depth = 10 : 8\n",
      "max_n_estimators = 11 : 10\n",
      "max_depth = 1 : 8\n",
      "max_n_estimators = 11 : 10\n",
      "max_depth = 2 : 8\n",
      "max_n_estimators = 11 : 10\n",
      "max_depth = 3 : 8\n",
      "max_n_estimators = 11 : 10\n",
      "max_depth = 4 : 8\n",
      "max_n_estimators = 11 : 10\n",
      "max_depth = 5 : 8\n",
      "max_n_estimators = 11 : 10\n",
      "max_depth = 6 : 8\n",
      "max_n_estimators = 11 : 10\n",
      "max_depth = 7 : 8\n"
     ]
    },
    {
     "name": "stderr",
     "output_type": "stream",
     "text": [
      " 73%|███████▎  | 11/15 [00:02<00:01,  3.27it/s]"
     ]
    },
    {
     "name": "stdout",
     "output_type": "stream",
     "text": [
      "max_n_estimators = 11 : 10\n",
      "max_depth = 8 : 8\n",
      "max_n_estimators = 11 : 10\n",
      "max_depth = 9 : 8\n",
      "max_n_estimators = 11 : 10\n",
      "max_depth = 10 : 8\n",
      "max_n_estimators = 12 : 10\n",
      "max_depth = 1 : 8\n",
      "max_n_estimators = 12 : 10\n",
      "max_depth = 2 : 8\n",
      "max_n_estimators = 12 : 10\n",
      "max_depth = 3 : 8\n",
      "max_n_estimators = 12 : 10\n",
      "max_depth = 4 : 8\n",
      "max_n_estimators = 12 : 10\n",
      "max_depth = 5 : 8\n",
      "max_n_estimators = 12 : 10\n",
      "max_depth = 6 : 8\n",
      "max_n_estimators = 12 : 10\n",
      "max_depth = 7 : 8\n",
      "max_n_estimators = 12 : 10\n",
      "max_depth = 8 : 8\n"
     ]
    },
    {
     "name": "stderr",
     "output_type": "stream",
     "text": [
      " 80%|████████  | 12/15 [00:02<00:01,  2.99it/s]"
     ]
    },
    {
     "name": "stdout",
     "output_type": "stream",
     "text": [
      "max_n_estimators = 12 : 10\n",
      "max_depth = 9 : 8\n",
      "max_n_estimators = 12 : 10\n",
      "max_depth = 10 : 8\n",
      "max_n_estimators = 13 : 10\n",
      "max_depth = 1 : 8\n",
      "max_n_estimators = 13 : 10\n",
      "max_depth = 2 : 8\n",
      "max_n_estimators = 13 : 10\n",
      "max_depth = 3 : 8\n",
      "max_n_estimators = 13 : 10\n",
      "max_depth = 4 : 8\n",
      "max_n_estimators = 13 : 10\n",
      "max_depth = 5 : 8\n",
      "max_n_estimators = 13 : 10\n",
      "max_depth = 6 : 8\n",
      "max_n_estimators = 13 : 10\n",
      "max_depth = 7 : 8\n",
      "max_n_estimators = 13 : 10\n",
      "max_depth = 8 : 8\n",
      "max_n_estimators = 13 : 10\n",
      "max_depth = 9 : 8\n"
     ]
    },
    {
     "name": "stderr",
     "output_type": "stream",
     "text": [
      " 87%|████████▋ | 13/15 [00:03<00:00,  2.77it/s]"
     ]
    },
    {
     "name": "stdout",
     "output_type": "stream",
     "text": [
      "max_n_estimators = 13 : 10\n",
      "max_depth = 10 : 8\n",
      "max_n_estimators = 14 : 10\n",
      "max_depth = 1 : 8\n",
      "max_n_estimators = 14 : 10\n",
      "max_depth = 2 : 8\n",
      "max_n_estimators = 14 : 10\n",
      "max_depth = 3 : 8\n",
      "max_n_estimators = 14 : 10\n",
      "max_depth = 4 : 8\n",
      "max_n_estimators = 14 : 10\n",
      "max_depth = 5 : 8\n",
      "max_n_estimators = 14 : 10\n",
      "max_depth = 6 : 8\n",
      "max_n_estimators = 14 : 10\n",
      "max_depth = 7 : 8\n",
      "max_n_estimators = 14 : 10\n",
      "max_depth = 8 : 8\n",
      "max_n_estimators = 14 : 10\n",
      "max_depth = 9 : 8\n"
     ]
    },
    {
     "name": "stderr",
     "output_type": "stream",
     "text": [
      " 93%|█████████▎| 14/15 [00:03<00:00,  2.53it/s]"
     ]
    },
    {
     "name": "stdout",
     "output_type": "stream",
     "text": [
      "max_n_estimators = 14 : 10\n",
      "max_depth = 10 : 8\n",
      "max_n_estimators = 15 : 10\n",
      "max_depth = 1 : 8\n",
      "max_n_estimators = 15 : 10\n",
      "max_depth = 2 : 8\n",
      "max_n_estimators = 15 : 10\n",
      "max_depth = 3 : 8\n",
      "max_n_estimators = 15 : 10\n",
      "max_depth = 4 : 8\n",
      "max_n_estimators = 15 : 10\n",
      "max_depth = 5 : 8\n",
      "max_n_estimators = 15 : 10\n",
      "max_depth = 6 : 8\n",
      "max_n_estimators = 15 : 10\n",
      "max_depth = 7 : 8\n",
      "max_n_estimators = 15 : 10\n",
      "max_depth = 8 : 8\n"
     ]
    },
    {
     "name": "stderr",
     "output_type": "stream",
     "text": [
      "100%|██████████| 15/15 [00:04<00:00,  3.43it/s]"
     ]
    },
    {
     "name": "stdout",
     "output_type": "stream",
     "text": [
      "max_n_estimators = 15 : 10\n",
      "max_depth = 9 : 8\n",
      "max_n_estimators = 15 : 10\n",
      "max_depth = 10 : 8\n",
      "\n",
      "Accuracy наилучшей модели на валидационной выборке: 0.8320373250388803\n",
      "Лучшее количество деревьев: 10\n",
      "Лучшая глубина дерева: 8\n"
     ]
    },
    {
     "name": "stderr",
     "output_type": "stream",
     "text": [
      "\n"
     ]
    }
   ],
   "source": [
    "best_model_rfc = None\n",
    "best_result_rfc = 0\n",
    "\n",
    "for est in tqdm(range(1, 16)):\n",
    "    for depth in range(1, 11):\n",
    "        model = RandomForestClassifier(random_state=12345, n_estimators=est,max_depth=depth) # обучим модель с заданным количеством деревьев\n",
    "        model.fit(features_train,target_train) # обучим модель на тренировочной выборке\n",
    "        result = model.score(features_valid,target_valid) # посчитаем качество модели на валидационной выборке\n",
    "        if result > best_result_rfc:\n",
    "            best_model_rfc = model# сохраняем наилучшую модель\n",
    "            best_result_rfc = result#  сохраняем наилучшее значение метрики accuracy на валидационных данных\n",
    "            best_n_estimators = est#  сохраняем наилучшее значение гиперпараметра n_estimators на валидационных данных\n",
    "            best_max_depth = depth#  сохраняем наилучшее значение гиперпараметра depth на валидационных данных\n",
    "        print(f\"max_n_estimators = {est} :\", best_n_estimators)\n",
    "        print(f\"max_depth = {depth} :\", best_max_depth)\n",
    "print()\n",
    "print(\"Accuracy наилучшей модели на валидационной выборке:\", best_result_rfc)\n",
    "print(\"Лучшее количество деревьев:\",best_n_estimators )\n",
    "print(\"Лучшая глубина дерева:\",best_max_depth )\n",
    "\n"
   ]
  },
  {
   "cell_type": "markdown",
   "metadata": {},
   "source": [
    "В результате самая лучшая точность модели RandomForestClassifier получилась у леса из 10ти деревьев и глубине дерева 8 при значениие всех остальных гиперпараметров \"по умолчанию\".\n"
   ]
  },
  {
   "cell_type": "markdown",
   "metadata": {},
   "source": [
    " ### LogisticRegression"
   ]
  },
  {
   "cell_type": "markdown",
   "metadata": {},
   "source": [
    "Попробуем ещё один алгоритм — логистическую регрессию, чтобы не ограничиваться только моделями с деревьями.\n",
    "Дополнительные гиперпараметры: solver='lbfgs' и max_iter=1000. Первый гиперпараметр позволяет выбрать алгоритм, который будет строить модель. Алгоритм 'lbfgs' — один из самых распространённых. Он подходит для большинства задач. Гиперпараметром max_iter задаётся максимальное количество итераций обучения. \n"
   ]
  },
  {
   "cell_type": "code",
   "execution_count": 16,
   "metadata": {},
   "outputs": [
    {
     "name": "stdout",
     "output_type": "stream",
     "text": [
      "Accuracy LogisticRegression: 0.7558320373250389\n"
     ]
    }
   ],
   "source": [
    "model_lr = LogisticRegression(random_state=12345, solver='lbfgs', max_iter=1000)\n",
    "model_lr.fit(features_train, target_train)  # обучите модель на тренировочной выборке\n",
    "predictions_valid_lr = model_lr.predict(features_valid)  # получите предсказания модели\n",
    "accuracy_lr = accuracy_score( predictions_valid_lr, target_valid)\n",
    "print('Accuracy LogisticRegression:', accuracy_lr)"
   ]
  },
  {
   "cell_type": "markdown",
   "metadata": {},
   "source": [
    "Точность модели LogisticRegression показала самый слабый результат"
   ]
  },
  {
   "cell_type": "markdown",
   "metadata": {},
   "source": [
    "****Вывод****\n",
    "\n",
    "Из 3х обученных на тренировочной выборке исследуемых моделей  наилучший результат по метрике Accuracy на валидационной выборке показала модель RandomForestClassifier(случайный лес).\n",
    "\n",
    "1)Accuracy RandomForestClassifier:  0.7884914463452566\n",
    "2)Accuracy DecisionTreeClassifier: 0.7744945567651633\n",
    "3)Accuracy LogisticRegression: 0.7262830482115086"
   ]
  },
  {
   "cell_type": "markdown",
   "metadata": {},
   "source": [
    "Для дальнейшего улучшения будем использовать модель RandomForestClassifier.\n",
    "Посмотрим, как изменение других гиперпараметров повлияет на точность модели. Для поиска комбинации гиперпараметров применил случайный поиск RandomizedSearchCV из библиотеки Scikit-Learn в диапазоне значений, так как у нас еще нет представления о параметрах, которые будут хорошо работать в модели. Случайный поиск быстрее, чем поиск по сетке значений, и его рекомендуют использовать, когда у вас большая область значений параметров."
   ]
  },
  {
   "cell_type": "code",
   "execution_count": 17,
   "metadata": {},
   "outputs": [
    {
     "name": "stdout",
     "output_type": "stream",
     "text": [
      "Лучшие гиперпараметры: {'criterion': 'gini', 'max_depth': 9, 'min_samples_leaf': 2, 'min_samples_split': 8, 'n_estimators': 14}\n",
      "Лучший результат: 0.8102441498225024\n",
      "CPU times: user 37.8 s, sys: 297 ms, total: 38.1 s\n",
      "Wall time: 38.1 s\n"
     ]
    }
   ],
   "source": [
    "%%time\n",
    "rs_space={    'max_depth':list(np.arange(5,20, step=1)),\n",
    "              'n_estimators':np.arange(1, 20, step=1),\n",
    "              'criterion':['gini','entropy'],\n",
    "              'min_samples_leaf':randint(1,4),\n",
    "              'min_samples_split':np.arange(2, 10, step=2)\n",
    "         }# диапазон значений гиперпараметров для реализации случайного поиска\n",
    "\n",
    "rf = RandomForestClassifier(random_state=12345)\n",
    "#запускаем случайный поиск в 500 итераций лучших гиперпараметров для лучшего 'accuracy' \n",
    "rf_random = RandomizedSearchCV(rf, rs_space, n_iter=500, scoring='accuracy', n_jobs=-1, cv=3)\n",
    "model_random = rf_random.fit(features_valid,target_valid)\n",
    "\n",
    "print('Лучшие гиперпараметры: '+str(model_random.best_params_))\n",
    "print('Лучший результат: '+str(model_random.best_score_))"
   ]
  },
  {
   "cell_type": "markdown",
   "metadata": {},
   "source": [
    "****Вывод****\n",
    "\n",
    "Точнойсть модели RandomForestClassifier(случайный лес) улучшилась после того как мы нашли оптимальную комбиназию гиперпараметров."
   ]
  },
  {
   "cell_type": "code",
   "execution_count": 18,
   "metadata": {},
   "outputs": [
    {
     "name": "stdout",
     "output_type": "stream",
     "text": [
      "Best grid search hyperparameters are: {'max_depth': None, 'max_features': 1, 'min_samples_leaf': 2, 'min_samples_split': 2, 'n_estimators': 100}\n",
      "\n",
      "Best grid search score is: 0.8129132633216646\n",
      "\n",
      "Best grid estimator is: RandomForestClassifier(max_features=1, min_samples_leaf=2, random_state=12345)\n",
      "CPU times: user 2min 50s, sys: 818 ms, total: 2min 51s\n",
      "Wall time: 2min 51s\n"
     ]
    }
   ],
   "source": [
    "%%time\n",
    "\n",
    "#делим исходный датасет на обучающую и тестовую выборки в соотнощении 0.8/0.2\n",
    "features_train_gs, features_test_gs, target_train_gs, target_test_gs = \\\n",
    "        train_test_split(features,target,train_size=0.8,random_state=12345)\n",
    "\n",
    "# grid search cv\n",
    "grid_space={'max_depth':[3,5,10,None],\n",
    "              'n_estimators':[10,100,200],\n",
    "              'max_features':[1,3,5,7],\n",
    "              'min_samples_leaf':[1,2,3],\n",
    "              'min_samples_split':[1,2,3]\n",
    "           }\n",
    "\n",
    "grid = GridSearchCV(rf,param_grid=grid_space,cv=3,scoring='accuracy')\n",
    "model_grid = grid.fit(features_train_gs,target_train_gs)\n",
    "\n",
    "# grid search results\n",
    "print('Best grid search hyperparameters are: '+str(model_grid.best_params_))\n",
    "print()\n",
    "print('Best grid search score is: '+str(model_grid.best_score_))\n",
    "print()\n",
    "print('Best grid estimator is: '+str(model_grid.best_estimator_))\n",
    "\n",
    "\n",
    "\n"
   ]
  },
  {
   "cell_type": "code",
   "execution_count": 19,
   "metadata": {},
   "outputs": [
    {
     "data": {
      "text/plain": [
       "['mean_fit_time',\n",
       " 'mean_score_time',\n",
       " 'mean_test_score',\n",
       " 'param_max_depth',\n",
       " 'param_max_features',\n",
       " 'param_min_samples_leaf',\n",
       " 'param_min_samples_split',\n",
       " 'param_n_estimators',\n",
       " 'params',\n",
       " 'rank_test_score',\n",
       " 'split0_test_score',\n",
       " 'split1_test_score',\n",
       " 'split2_test_score',\n",
       " 'std_fit_time',\n",
       " 'std_score_time',\n",
       " 'std_test_score']"
      ]
     },
     "execution_count": 19,
     "metadata": {},
     "output_type": "execute_result"
    }
   ],
   "source": [
    "#смотрим какие метрики в результатах\n",
    "sorted(model_grid.cv_results_.keys())"
   ]
  },
  {
   "cell_type": "code",
   "execution_count": 20,
   "metadata": {},
   "outputs": [
    {
     "data": {
      "image/png": "[encoded data removed]",
      "text/plain": [
       "<Figure size 432x288 with 1 Axes>"
      ]
     },
     "metadata": {
      "needs_background": "light"
     },
     "output_type": "display_data"
    }
   ],
   "source": [
    "\n",
    "split0_scores = model_grid.cv_results_['split0_test_score']\n",
    "split1_scores = model_grid.cv_results_['split1_test_score']\n",
    "split2_scores = model_grid.cv_results_['split2_test_score']\n",
    "\n",
    "plt.plot(split0_scores, label='split0')\n",
    "plt.plot(split1_scores, label='split1')\n",
    "plt.plot(split2_scores, label='split2')\n",
    "plt.title('Визуализация процесса обучения на Split test scores')\n",
    "plt.legend(loc='best')\n",
    "plt.show()"
   ]
  },
  {
   "cell_type": "markdown",
   "metadata": {},
   "source": [
    "## Проверьте модель на тестовой выборке"
   ]
  },
  {
   "cell_type": "markdown",
   "metadata": {},
   "source": [
    "Теперь проверим сохраняет ли качество наша выбранная модель RandomForestClassifier с лучшими гиперпараметрами на тестовой выборке. "
   ]
  },
  {
   "cell_type": "code",
   "execution_count": 21,
   "metadata": {},
   "outputs": [
    {
     "name": "stdout",
     "output_type": "stream",
     "text": [
      "Accuracy RandomForestClassifier на тестовой выборке: 0.8164852255054432\n"
     ]
    }
   ],
   "source": [
    "rf = RandomForestClassifier(**model_random.best_params_)\n",
    "rf.fit(features_train, target_train)\n",
    "target_pred = rf.predict(features_test)\n",
    "print('Accuracy RandomForestClassifier на тестовой выборке:', accuracy_score(target_test, target_pred))"
   ]
  },
  {
   "cell_type": "markdown",
   "metadata": {},
   "source": [
    "****Вывод****\n",
    "\n",
    "Качество модели RandomForestClassifier на тестовой выборке немного меньше, но значительно не страдает "
   ]
  },
  {
   "cell_type": "code",
   "execution_count": 22,
   "metadata": {},
   "outputs": [
    {
     "name": "stdout",
     "output_type": "stream",
     "text": [
      "              precision    recall  f1-score   support\n",
      "\n",
      "           0       0.82      0.95      0.88       446\n",
      "           1       0.82      0.51      0.63       197\n",
      "\n",
      "    accuracy                           0.82       643\n",
      "   macro avg       0.82      0.73      0.75       643\n",
      "weighted avg       0.82      0.82      0.80       643\n",
      "\n",
      "confusion_matrix\n",
      "[[424  22]\n",
      " [ 96 101]]\n"
     ]
    },
    {
     "data": {
      "image/png": "[encoded data removed]",
      "text/plain": [
       "<Figure size 432x288 with 2 Axes>"
      ]
     },
     "metadata": {
      "needs_background": "light"
     },
     "output_type": "display_data"
    }
   ],
   "source": [
    "from sklearn. metrics import classification_report\n",
    "from sklearn.metrics import confusion_matrix\n",
    "from sklearn.metrics import ConfusionMatrixDisplay\n",
    "\n",
    "report = classification_report(target_test, rf.predict(features_test))#, target_names=['Non-churned', 'Churned'])\n",
    "print(report)\n",
    "\n",
    "\n",
    "print(\"confusion_matrix\")\n",
    "print(confusion_matrix(target_test, target_pred))\n",
    "\n",
    "cm = confusion_matrix(target_test, target_pred)\n",
    "ConfusionMatrixDisplay(cm).plot();\n",
    "plt.title(\"Матрица ошибок\");\n"
   ]
  },
  {
   "cell_type": "markdown",
   "metadata": {},
   "source": [
    "    \n",
    "**Precision(точность)**: Процент правильных положительных прогнозов по отношению к общему количеству положительных прогнозов.\n",
    "\n",
    "**Recall(отзыв)** : процент правильных положительных прогнозов по отношению к общему количеству фактических положительных результатов.\n",
    "\n",
    "**F1-score(Оценка F1)** : средневзвешенное гармоническое значение точности и полноты. Чем ближе к 1, тем лучше модель.\n",
    "\n",
    "**Support** : эти значения просто говорят нам, сколько контрактов соответствует каждому классу в тестовом наборе данных. Мы видим, что контрактов на тарифе Ultra 196, а на тарифе Smart 447\n",
    "\n",
    "**Confusion matrix(Матрица ошибок)** – это показатель успешности классификации, где классов два или более. Это таблица с 4 различными комбинациями сочетаний прогнозируемых и фактических значений. Значения 425(тариф Smart реально Smart) и 98(Тариф Ultra реально Ultra) верно предсказаны моделью, а значения 99 (предсказанный тариф Smart в реальности Ultra) и 21 (предсказанный тариф Ultra в реальности тариф Smart) ошибочно пердсказаны моделью.\n",
    "\n"
   ]
  },
  {
   "cell_type": "markdown",
   "metadata": {},
   "source": [
    "## (бонус) Проверьте модели на адекватность"
   ]
  },
  {
   "cell_type": "markdown",
   "metadata": {},
   "source": [
    "Для проверки нашей модели на адекватность создадим  простейшую (dummy) модель, которая всегда предсказывает наиболее часто встречающийся класс. Так мы получим контрольные данные для сравнительной оценки построенной нами более сложной модели. К тому же мы сможем быть уверены в качестве ее работы, например, в том, что она выдает не просто набор случайно подобранных данных."
   ]
  },
  {
   "cell_type": "code",
   "execution_count": 23,
   "metadata": {},
   "outputs": [
    {
     "name": "stdout",
     "output_type": "stream",
     "text": [
      "Accuracy DummyClassifier: 0.6936236391912908\n"
     ]
    }
   ],
   "source": [
    "model_dc = DummyClassifier(strategy='most_frequent', random_state=12345)#создаем простейшую модель\n",
    "model_dc.fit(features_train, target_train)#обучаем модель на тренировочных данных\n",
    "result_dc = model_dc.score(features_valid, target_valid)#получаем результат на проверочных данных\n",
    "print('Accuracy DummyClassifier:', result_dc)"
   ]
  },
  {
   "cell_type": "markdown",
   "metadata": {},
   "source": [
    "Вывод\n",
    "\n",
    "Качество модели RandomForestClassifier гораздо выше чем простейшей модели Dummy, это означает, что наша модель вполне вменяема и эффективна."
   ]
  },
  {
   "cell_type": "markdown",
   "metadata": {},
   "source": [
    "## Общий вывод\n",
    "- Исходные данные предобработанны заранее,выглядят без проблем, единственное, что в ходе в ходе изучения был заменен тип столбцов \"calls\" и \"messages\" на целочисленный;\n",
    "\n",
    "- Были исследованы модели DecisionTreeClassifier, RandomForestClassifier и LogisticRegression;\n",
    "\n",
    "- Предварительно наилучшую точность показала модель RandomForestClassifier, после чего, для улучшения модели, были отобрана комбинация гиперпараметров методом RandomizedSearchCV;\n",
    "\n",
    "- Модель RandomForestClassifier с наилучшими гиперапараметрами была проверена на тестовой выборке и не показала ухудшения качества;\n",
    "\n",
    "- Модель RandomForestClassifier проверенная на тестовой выборке была проверена на адекватность.Для сравнения использовалась простейшая модель DummyClassifier, которая показала результат Accuracy хуже, в следствие чего построенная модель случайного леса признана адекватной и эффективной. \n",
    "\n",
    "- В соответсвии с поставленной задачей Accuracy не ниже 0,75 достичь удалось"
   ]
  }
 ],
 "metadata": {
  "ExecuteTimeLog": [
   {
    "duration": 1263,
    "start_time": "2023-04-14T12:15:45.750Z"
   },
   {
    "duration": 19,
    "start_time": "2023-04-14T12:15:47.016Z"
   },
   {
    "duration": 11,
    "start_time": "2023-04-14T12:15:47.037Z"
   },
   {
    "duration": 4,
    "start_time": "2023-04-14T12:15:47.051Z"
   },
   {
    "duration": 8,
    "start_time": "2023-04-14T12:15:47.057Z"
   },
   {
    "duration": 32,
    "start_time": "2023-04-14T12:15:47.067Z"
   },
   {
    "duration": 68,
    "start_time": "2023-04-14T12:15:47.101Z"
   },
   {
    "duration": 39,
    "start_time": "2023-04-14T12:16:17.642Z"
   },
   {
    "duration": 4731,
    "start_time": "2023-04-14T12:20:24.764Z"
   },
   {
    "duration": 129,
    "start_time": "2023-04-14T12:32:14.232Z"
   },
   {
    "duration": 1238,
    "start_time": "2023-04-14T12:36:16.562Z"
   },
   {
    "duration": 30,
    "start_time": "2023-04-14T12:36:17.804Z"
   },
   {
    "duration": 17,
    "start_time": "2023-04-14T12:36:17.836Z"
   },
   {
    "duration": 5,
    "start_time": "2023-04-14T12:36:17.855Z"
   },
   {
    "duration": 23,
    "start_time": "2023-04-14T12:36:17.862Z"
   },
   {
    "duration": 32,
    "start_time": "2023-04-14T12:36:17.886Z"
   },
   {
    "duration": 55,
    "start_time": "2023-04-14T12:36:17.920Z"
   },
   {
    "duration": 4870,
    "start_time": "2023-04-14T12:36:17.977Z"
   },
   {
    "duration": 31,
    "start_time": "2023-04-14T14:44:44.867Z"
   },
   {
    "duration": 33,
    "start_time": "2023-04-14T14:44:47.877Z"
   },
   {
    "duration": 36,
    "start_time": "2023-04-14T16:09:22.623Z"
   },
   {
    "duration": 34,
    "start_time": "2023-04-14T16:22:40.252Z"
   },
   {
    "duration": 192,
    "start_time": "2023-04-14T16:35:55.178Z"
   },
   {
    "duration": 100,
    "start_time": "2023-04-14T16:38:34.519Z"
   },
   {
    "duration": 145,
    "start_time": "2023-04-14T16:39:34.790Z"
   },
   {
    "duration": 153,
    "start_time": "2023-04-14T16:39:43.400Z"
   },
   {
    "duration": 140,
    "start_time": "2023-04-14T16:39:58.512Z"
   },
   {
    "duration": 158,
    "start_time": "2023-04-14T16:40:15.867Z"
   },
   {
    "duration": 124,
    "start_time": "2023-04-14T16:40:22.518Z"
   },
   {
    "duration": 186,
    "start_time": "2023-04-14T16:40:28.404Z"
   },
   {
    "duration": 53,
    "start_time": "2023-04-14T16:40:57.449Z"
   },
   {
    "duration": 1243,
    "start_time": "2023-04-14T16:41:50.835Z"
   },
   {
    "duration": 23,
    "start_time": "2023-04-14T16:41:52.081Z"
   },
   {
    "duration": 16,
    "start_time": "2023-04-14T16:41:52.106Z"
   },
   {
    "duration": 7,
    "start_time": "2023-04-14T16:41:52.127Z"
   },
   {
    "duration": 14,
    "start_time": "2023-04-14T16:41:52.137Z"
   },
   {
    "duration": 16,
    "start_time": "2023-04-14T16:41:52.153Z"
   },
   {
    "duration": 211,
    "start_time": "2023-04-14T16:41:52.172Z"
   },
   {
    "duration": 60,
    "start_time": "2023-04-14T16:41:52.385Z"
   },
   {
    "duration": 99,
    "start_time": "2023-04-14T16:45:21.781Z"
   },
   {
    "duration": 78,
    "start_time": "2023-04-14T16:45:45.921Z"
   },
   {
    "duration": 606,
    "start_time": "2023-04-14T16:45:59.363Z"
   },
   {
    "duration": 90,
    "start_time": "2023-04-14T16:46:09.730Z"
   },
   {
    "duration": 85,
    "start_time": "2023-04-14T16:46:16.916Z"
   },
   {
    "duration": 139,
    "start_time": "2023-04-14T16:46:55.421Z"
   },
   {
    "duration": 1310,
    "start_time": "2023-04-15T12:30:10.956Z"
   },
   {
    "duration": 25,
    "start_time": "2023-04-15T12:30:12.268Z"
   },
   {
    "duration": 14,
    "start_time": "2023-04-15T12:30:12.295Z"
   },
   {
    "duration": 7,
    "start_time": "2023-04-15T12:30:12.311Z"
   },
   {
    "duration": 20,
    "start_time": "2023-04-15T12:30:12.320Z"
   },
   {
    "duration": 45,
    "start_time": "2023-04-15T12:30:12.342Z"
   },
   {
    "duration": 95,
    "start_time": "2023-04-15T12:30:12.389Z"
   },
   {
    "duration": 2,
    "start_time": "2023-04-15T12:30:12.486Z"
   },
   {
    "duration": 640,
    "start_time": "2023-04-15T12:30:12.490Z"
   },
   {
    "duration": 154,
    "start_time": "2023-04-15T12:30:13.133Z"
   },
   {
    "duration": 31,
    "start_time": "2023-04-15T12:31:01.273Z"
   },
   {
    "duration": 1679,
    "start_time": "2023-04-15T13:40:08.258Z"
   },
   {
    "duration": 17,
    "start_time": "2023-04-15T13:40:09.938Z"
   },
   {
    "duration": 10,
    "start_time": "2023-04-15T13:40:09.957Z"
   },
   {
    "duration": 13,
    "start_time": "2023-04-15T13:40:09.969Z"
   },
   {
    "duration": 10,
    "start_time": "2023-04-15T13:40:09.984Z"
   },
   {
    "duration": 19,
    "start_time": "2023-04-15T13:40:09.996Z"
   },
   {
    "duration": 97,
    "start_time": "2023-04-15T13:40:10.016Z"
   },
   {
    "duration": 3,
    "start_time": "2023-04-15T13:40:10.114Z"
   },
   {
    "duration": 114,
    "start_time": "2023-04-15T13:40:10.118Z"
   },
   {
    "duration": 0,
    "start_time": "2023-04-15T13:40:10.233Z"
   },
   {
    "duration": 0,
    "start_time": "2023-04-15T13:40:10.234Z"
   },
   {
    "duration": 1162,
    "start_time": "2023-04-15T13:53:13.615Z"
   },
   {
    "duration": 18,
    "start_time": "2023-04-15T13:53:14.779Z"
   },
   {
    "duration": 11,
    "start_time": "2023-04-15T13:53:14.798Z"
   },
   {
    "duration": 6,
    "start_time": "2023-04-15T13:53:14.811Z"
   },
   {
    "duration": 12,
    "start_time": "2023-04-15T13:53:14.819Z"
   },
   {
    "duration": 13,
    "start_time": "2023-04-15T13:53:14.832Z"
   },
   {
    "duration": 78,
    "start_time": "2023-04-15T13:53:14.846Z"
   },
   {
    "duration": 2,
    "start_time": "2023-04-15T13:53:14.926Z"
   },
   {
    "duration": 94766,
    "start_time": "2023-04-15T13:53:14.930Z"
   },
   {
    "duration": 84,
    "start_time": "2023-04-15T13:54:49.699Z"
   },
   {
    "duration": 0,
    "start_time": "2023-04-15T13:54:49.785Z"
   },
   {
    "duration": 574,
    "start_time": "2023-04-15T14:06:30.965Z"
   },
   {
    "duration": 1117,
    "start_time": "2023-04-15T14:06:49.571Z"
   },
   {
    "duration": 17,
    "start_time": "2023-04-15T14:06:50.690Z"
   },
   {
    "duration": 10,
    "start_time": "2023-04-15T14:06:50.709Z"
   },
   {
    "duration": 8,
    "start_time": "2023-04-15T14:06:50.721Z"
   },
   {
    "duration": 7,
    "start_time": "2023-04-15T14:06:50.731Z"
   },
   {
    "duration": 16,
    "start_time": "2023-04-15T14:06:50.739Z"
   },
   {
    "duration": 75,
    "start_time": "2023-04-15T14:06:50.756Z"
   },
   {
    "duration": 2,
    "start_time": "2023-04-15T14:06:50.833Z"
   },
   {
    "duration": 29274,
    "start_time": "2023-04-15T14:06:50.836Z"
   },
   {
    "duration": 580,
    "start_time": "2023-04-15T14:07:20.112Z"
   },
   {
    "duration": 32,
    "start_time": "2023-04-15T14:07:20.693Z"
   },
   {
    "duration": 29500,
    "start_time": "2023-04-15T14:09:48.899Z"
   },
   {
    "duration": 51,
    "start_time": "2023-04-15T14:17:57.571Z"
   },
   {
    "duration": 42389,
    "start_time": "2023-04-15T14:21:50.014Z"
   },
   {
    "duration": 16544,
    "start_time": "2023-04-15T14:23:19.528Z"
   },
   {
    "duration": 29815,
    "start_time": "2023-04-15T14:24:48.922Z"
   },
   {
    "duration": 30073,
    "start_time": "2023-04-15T14:30:28.577Z"
   },
   {
    "duration": 127,
    "start_time": "2023-04-15T14:35:12.432Z"
   },
   {
    "duration": 7398,
    "start_time": "2023-04-15T14:36:50.506Z"
   },
   {
    "duration": 70,
    "start_time": "2023-04-15T14:37:59.170Z"
   },
   {
    "duration": 605,
    "start_time": "2023-04-15T14:38:34.850Z"
   },
   {
    "duration": 30,
    "start_time": "2023-04-15T14:50:56.090Z"
   },
   {
    "duration": 37,
    "start_time": "2023-04-15T14:50:58.648Z"
   },
   {
    "duration": 34,
    "start_time": "2023-04-15T14:51:00.484Z"
   },
   {
    "duration": 29,
    "start_time": "2023-04-15T14:51:02.067Z"
   },
   {
    "duration": 31,
    "start_time": "2023-04-15T14:51:03.416Z"
   },
   {
    "duration": 60,
    "start_time": "2023-04-15T15:05:31.432Z"
   },
   {
    "duration": 61,
    "start_time": "2023-04-15T15:07:39.366Z"
   },
   {
    "duration": 64,
    "start_time": "2023-04-15T15:09:07.906Z"
   },
   {
    "duration": 59861,
    "start_time": "2023-04-15T15:14:40.782Z"
   },
   {
    "duration": 69,
    "start_time": "2023-04-15T15:16:26.437Z"
   },
   {
    "duration": 75,
    "start_time": "2023-04-15T15:16:39.257Z"
   },
   {
    "duration": 68,
    "start_time": "2023-04-15T15:16:40.614Z"
   },
   {
    "duration": 66,
    "start_time": "2023-04-15T15:16:41.611Z"
   },
   {
    "duration": 70,
    "start_time": "2023-04-15T15:16:42.531Z"
   },
   {
    "duration": 66,
    "start_time": "2023-04-15T15:16:43.691Z"
   },
   {
    "duration": 1210,
    "start_time": "2023-04-15T15:16:55.428Z"
   },
   {
    "duration": 18,
    "start_time": "2023-04-15T15:16:56.640Z"
   },
   {
    "duration": 11,
    "start_time": "2023-04-15T15:16:56.659Z"
   },
   {
    "duration": 6,
    "start_time": "2023-04-15T15:16:56.672Z"
   },
   {
    "duration": 9,
    "start_time": "2023-04-15T15:16:56.681Z"
   },
   {
    "duration": 12,
    "start_time": "2023-04-15T15:16:56.691Z"
   },
   {
    "duration": 102,
    "start_time": "2023-04-15T15:16:56.705Z"
   },
   {
    "duration": 7381,
    "start_time": "2023-04-15T15:16:56.809Z"
   },
   {
    "duration": 625,
    "start_time": "2023-04-15T15:17:04.192Z"
   },
   {
    "duration": 59235,
    "start_time": "2023-04-15T15:17:04.818Z"
   },
   {
    "duration": 31,
    "start_time": "2023-04-15T15:18:04.054Z"
   },
   {
    "duration": 80,
    "start_time": "2023-04-15T15:18:04.087Z"
   },
   {
    "duration": 1178,
    "start_time": "2023-04-15T15:19:35.538Z"
   },
   {
    "duration": 17,
    "start_time": "2023-04-15T15:19:36.718Z"
   },
   {
    "duration": 17,
    "start_time": "2023-04-15T15:19:36.737Z"
   },
   {
    "duration": 5,
    "start_time": "2023-04-15T15:19:36.756Z"
   },
   {
    "duration": 13,
    "start_time": "2023-04-15T15:19:36.763Z"
   },
   {
    "duration": 12,
    "start_time": "2023-04-15T15:19:36.778Z"
   },
   {
    "duration": 92,
    "start_time": "2023-04-15T15:19:36.791Z"
   },
   {
    "duration": 14330,
    "start_time": "2023-04-15T15:19:36.884Z"
   },
   {
    "duration": 616,
    "start_time": "2023-04-15T15:19:51.216Z"
   },
   {
    "duration": 57585,
    "start_time": "2023-04-15T15:19:51.834Z"
   },
   {
    "duration": 36,
    "start_time": "2023-04-15T15:20:49.420Z"
   },
   {
    "duration": 69,
    "start_time": "2023-04-15T15:20:49.458Z"
   },
   {
    "duration": 438,
    "start_time": "2023-04-15T15:22:09.408Z"
   },
   {
    "duration": 418,
    "start_time": "2023-04-15T15:22:38.578Z"
   },
   {
    "duration": 406,
    "start_time": "2023-04-15T15:22:41.921Z"
   },
   {
    "duration": 420,
    "start_time": "2023-04-15T15:22:43.874Z"
   },
   {
    "duration": 437,
    "start_time": "2023-04-15T15:22:46.999Z"
   },
   {
    "duration": 423,
    "start_time": "2023-04-15T15:22:56.276Z"
   },
   {
    "duration": 419,
    "start_time": "2023-04-15T15:22:58.276Z"
   },
   {
    "duration": 417,
    "start_time": "2023-04-15T15:23:00.059Z"
   },
   {
    "duration": 426,
    "start_time": "2023-04-15T15:23:28.385Z"
   },
   {
    "duration": 6,
    "start_time": "2023-04-15T15:34:32.177Z"
   },
   {
    "duration": 54,
    "start_time": "2023-04-15T15:40:24.918Z"
   },
   {
    "duration": 113,
    "start_time": "2023-04-15T15:40:49.543Z"
   },
   {
    "duration": 68,
    "start_time": "2023-04-15T15:41:02.736Z"
   },
   {
    "duration": 56,
    "start_time": "2023-04-15T15:41:06.081Z"
   },
   {
    "duration": 58,
    "start_time": "2023-04-15T15:41:07.341Z"
   },
   {
    "duration": 57,
    "start_time": "2023-04-15T15:41:09.220Z"
   },
   {
    "duration": 55,
    "start_time": "2023-04-15T15:41:11.139Z"
   },
   {
    "duration": 456,
    "start_time": "2023-04-15T15:41:34.366Z"
   },
   {
    "duration": 444,
    "start_time": "2023-04-15T15:43:33.278Z"
   },
   {
    "duration": 433,
    "start_time": "2023-04-15T15:43:42.870Z"
   },
   {
    "duration": 4,
    "start_time": "2023-04-15T15:57:23.903Z"
   },
   {
    "duration": 5,
    "start_time": "2023-04-15T15:58:31.894Z"
   },
   {
    "duration": 4,
    "start_time": "2023-04-15T15:58:57.970Z"
   },
   {
    "duration": 6,
    "start_time": "2023-04-15T15:59:21.082Z"
   },
   {
    "duration": 7,
    "start_time": "2023-04-15T16:00:42.182Z"
   },
   {
    "duration": 11,
    "start_time": "2023-04-15T16:04:40.988Z"
   },
   {
    "duration": 10,
    "start_time": "2023-04-15T16:06:27.858Z"
   },
   {
    "duration": 1173,
    "start_time": "2023-04-15T16:11:44.430Z"
   },
   {
    "duration": 21,
    "start_time": "2023-04-15T16:11:45.605Z"
   },
   {
    "duration": 13,
    "start_time": "2023-04-15T16:11:45.628Z"
   },
   {
    "duration": 13,
    "start_time": "2023-04-15T16:11:45.643Z"
   },
   {
    "duration": 12,
    "start_time": "2023-04-15T16:11:45.658Z"
   },
   {
    "duration": 26,
    "start_time": "2023-04-15T16:11:45.672Z"
   },
   {
    "duration": 93,
    "start_time": "2023-04-15T16:11:45.700Z"
   },
   {
    "duration": 14393,
    "start_time": "2023-04-15T16:11:45.795Z"
   },
   {
    "duration": 584,
    "start_time": "2023-04-15T16:12:00.190Z"
   },
   {
    "duration": 59147,
    "start_time": "2023-04-15T16:12:00.777Z"
   },
   {
    "duration": 35,
    "start_time": "2023-04-15T16:12:59.926Z"
   },
   {
    "duration": 421,
    "start_time": "2023-04-15T16:12:59.962Z"
   },
   {
    "duration": 5,
    "start_time": "2023-04-15T16:13:00.384Z"
   },
   {
    "duration": 29747,
    "start_time": "2023-04-15T16:14:36.265Z"
   },
   {
    "duration": 3,
    "start_time": "2023-04-15T16:16:35.422Z"
   },
   {
    "duration": 11812,
    "start_time": "2023-04-15T16:19:46.889Z"
   },
   {
    "duration": 30396,
    "start_time": "2023-04-15T16:20:15.190Z"
   },
   {
    "duration": 421,
    "start_time": "2023-04-15T16:20:57.941Z"
   },
   {
    "duration": 438,
    "start_time": "2023-04-15T16:20:59.557Z"
   },
   {
    "duration": 435,
    "start_time": "2023-04-15T16:21:01.082Z"
   },
   {
    "duration": 53,
    "start_time": "2023-04-15T16:22:27.329Z"
   },
   {
    "duration": 51,
    "start_time": "2023-04-15T16:22:40.909Z"
   },
   {
    "duration": 53,
    "start_time": "2023-04-15T16:23:07.990Z"
   },
   {
    "duration": 1225,
    "start_time": "2023-04-17T05:23:36.978Z"
   },
   {
    "duration": 25,
    "start_time": "2023-04-17T05:23:38.205Z"
   },
   {
    "duration": 15,
    "start_time": "2023-04-17T05:23:38.232Z"
   },
   {
    "duration": 13,
    "start_time": "2023-04-17T05:23:38.250Z"
   },
   {
    "duration": 22,
    "start_time": "2023-04-17T05:23:38.265Z"
   },
   {
    "duration": 22,
    "start_time": "2023-04-17T05:23:38.290Z"
   },
   {
    "duration": 98,
    "start_time": "2023-04-17T05:23:38.314Z"
   },
   {
    "duration": 13823,
    "start_time": "2023-04-17T05:23:38.414Z"
   },
   {
    "duration": 565,
    "start_time": "2023-04-17T05:23:52.239Z"
   },
   {
    "duration": 28544,
    "start_time": "2023-04-17T05:23:52.806Z"
   },
   {
    "duration": 36,
    "start_time": "2023-04-17T05:24:21.352Z"
   },
   {
    "duration": 114,
    "start_time": "2023-04-17T05:24:21.390Z"
   },
   {
    "duration": 0,
    "start_time": "2023-04-17T05:24:21.506Z"
   },
   {
    "duration": 75,
    "start_time": "2023-04-17T05:25:33.571Z"
   },
   {
    "duration": 71,
    "start_time": "2023-04-17T05:26:08.057Z"
   },
   {
    "duration": 1160,
    "start_time": "2023-04-17T05:27:05.281Z"
   },
   {
    "duration": 18,
    "start_time": "2023-04-17T05:27:06.443Z"
   },
   {
    "duration": 11,
    "start_time": "2023-04-17T05:27:06.463Z"
   },
   {
    "duration": 26,
    "start_time": "2023-04-17T05:27:06.475Z"
   },
   {
    "duration": 56,
    "start_time": "2023-04-17T05:27:06.503Z"
   },
   {
    "duration": 48,
    "start_time": "2023-04-17T05:27:06.561Z"
   },
   {
    "duration": 101,
    "start_time": "2023-04-17T05:27:06.610Z"
   },
   {
    "duration": 14443,
    "start_time": "2023-04-17T05:27:06.713Z"
   },
   {
    "duration": 603,
    "start_time": "2023-04-17T05:27:21.158Z"
   },
   {
    "duration": 28865,
    "start_time": "2023-04-17T05:27:21.762Z"
   },
   {
    "duration": 29,
    "start_time": "2023-04-17T05:27:50.629Z"
   },
   {
    "duration": 65,
    "start_time": "2023-04-17T05:27:50.659Z"
   },
   {
    "duration": 6,
    "start_time": "2023-04-17T05:27:50.725Z"
   },
   {
    "duration": 1154,
    "start_time": "2023-04-17T05:29:11.100Z"
   },
   {
    "duration": 18,
    "start_time": "2023-04-17T05:29:12.255Z"
   },
   {
    "duration": 11,
    "start_time": "2023-04-17T05:29:12.274Z"
   },
   {
    "duration": 7,
    "start_time": "2023-04-17T05:29:12.286Z"
   },
   {
    "duration": 7,
    "start_time": "2023-04-17T05:29:12.295Z"
   },
   {
    "duration": 15,
    "start_time": "2023-04-17T05:29:12.303Z"
   },
   {
    "duration": 130,
    "start_time": "2023-04-17T05:29:12.319Z"
   },
   {
    "duration": 14451,
    "start_time": "2023-04-17T05:29:12.451Z"
   },
   {
    "duration": 544,
    "start_time": "2023-04-17T05:29:26.903Z"
   },
   {
    "duration": 28202,
    "start_time": "2023-04-17T05:29:27.449Z"
   },
   {
    "duration": 36,
    "start_time": "2023-04-17T05:29:55.653Z"
   },
   {
    "duration": 82,
    "start_time": "2023-04-17T05:29:55.691Z"
   },
   {
    "duration": 6,
    "start_time": "2023-04-17T05:29:55.775Z"
   },
   {
    "duration": 1080,
    "start_time": "2023-04-17T06:47:49.112Z"
   },
   {
    "duration": 17,
    "start_time": "2023-04-17T06:47:50.194Z"
   },
   {
    "duration": 19,
    "start_time": "2023-04-17T06:47:50.213Z"
   },
   {
    "duration": 9,
    "start_time": "2023-04-17T06:47:50.234Z"
   },
   {
    "duration": 10,
    "start_time": "2023-04-17T06:47:50.246Z"
   },
   {
    "duration": 13,
    "start_time": "2023-04-17T06:47:50.258Z"
   },
   {
    "duration": 102,
    "start_time": "2023-04-17T06:47:50.272Z"
   },
   {
    "duration": 591,
    "start_time": "2023-04-17T06:47:50.375Z"
   },
   {
    "duration": 34,
    "start_time": "2023-04-17T06:47:50.967Z"
   },
   {
    "duration": 28451,
    "start_time": "2023-04-17T06:47:51.002Z"
   },
   {
    "duration": 83,
    "start_time": "2023-04-17T06:48:19.455Z"
   },
   {
    "duration": 5,
    "start_time": "2023-04-17T06:48:19.539Z"
   },
   {
    "duration": 1057,
    "start_time": "2023-04-17T06:48:57.087Z"
   },
   {
    "duration": 17,
    "start_time": "2023-04-17T06:48:58.147Z"
   },
   {
    "duration": 17,
    "start_time": "2023-04-17T06:48:58.165Z"
   },
   {
    "duration": 8,
    "start_time": "2023-04-17T06:48:58.184Z"
   },
   {
    "duration": 29,
    "start_time": "2023-04-17T06:48:58.193Z"
   },
   {
    "duration": 19,
    "start_time": "2023-04-17T06:48:58.223Z"
   },
   {
    "duration": 84,
    "start_time": "2023-04-17T06:48:58.244Z"
   },
   {
    "duration": 554,
    "start_time": "2023-04-17T06:48:58.330Z"
   },
   {
    "duration": 28,
    "start_time": "2023-04-17T06:48:58.886Z"
   },
   {
    "duration": 26795,
    "start_time": "2023-04-17T06:48:58.916Z"
   },
   {
    "duration": 79,
    "start_time": "2023-04-17T06:49:25.713Z"
   },
   {
    "duration": 5,
    "start_time": "2023-04-17T06:49:25.794Z"
   },
   {
    "duration": 12,
    "start_time": "2023-04-17T07:07:31.666Z"
   },
   {
    "duration": 9,
    "start_time": "2023-04-17T07:07:50.154Z"
   },
   {
    "duration": 14,
    "start_time": "2023-04-17T07:30:32.536Z"
   },
   {
    "duration": 1106,
    "start_time": "2023-04-17T07:52:02.511Z"
   },
   {
    "duration": 17,
    "start_time": "2023-04-17T07:52:03.619Z"
   },
   {
    "duration": 12,
    "start_time": "2023-04-17T07:52:03.638Z"
   },
   {
    "duration": 13,
    "start_time": "2023-04-17T07:52:03.651Z"
   },
   {
    "duration": 3,
    "start_time": "2023-04-17T07:52:03.665Z"
   },
   {
    "duration": 24,
    "start_time": "2023-04-17T07:52:03.669Z"
   },
   {
    "duration": 15,
    "start_time": "2023-04-17T07:52:03.694Z"
   },
   {
    "duration": 90,
    "start_time": "2023-04-17T07:52:03.711Z"
   },
   {
    "duration": 581,
    "start_time": "2023-04-17T07:52:03.802Z"
   },
   {
    "duration": 30,
    "start_time": "2023-04-17T07:52:04.385Z"
   },
   {
    "duration": 28871,
    "start_time": "2023-04-17T07:52:04.416Z"
   },
   {
    "duration": 52,
    "start_time": "2023-04-17T07:52:33.288Z"
   },
   {
    "duration": 5,
    "start_time": "2023-04-17T07:52:33.341Z"
   },
   {
    "duration": 2746,
    "start_time": "2023-04-17T08:08:13.030Z"
   },
   {
    "duration": 18,
    "start_time": "2023-04-17T08:08:15.778Z"
   },
   {
    "duration": 12,
    "start_time": "2023-04-17T08:08:15.797Z"
   },
   {
    "duration": 26,
    "start_time": "2023-04-17T08:08:15.811Z"
   },
   {
    "duration": 5,
    "start_time": "2023-04-17T08:08:15.839Z"
   },
   {
    "duration": 9,
    "start_time": "2023-04-17T08:08:15.845Z"
   },
   {
    "duration": 15,
    "start_time": "2023-04-17T08:08:15.856Z"
   },
   {
    "duration": 73,
    "start_time": "2023-04-17T08:08:15.919Z"
   },
   {
    "duration": 604,
    "start_time": "2023-04-17T08:08:15.993Z"
   },
   {
    "duration": 57,
    "start_time": "2023-04-17T08:08:16.599Z"
   },
   {
    "duration": 33639,
    "start_time": "2023-04-17T08:08:16.658Z"
   },
   {
    "duration": 64,
    "start_time": "2023-04-17T08:08:50.299Z"
   },
   {
    "duration": 6,
    "start_time": "2023-04-17T08:08:50.365Z"
   },
   {
    "duration": 1204,
    "start_time": "2023-04-17T12:06:50.701Z"
   },
   {
    "duration": 17,
    "start_time": "2023-04-17T12:06:51.907Z"
   },
   {
    "duration": 19,
    "start_time": "2023-04-17T12:06:51.925Z"
   },
   {
    "duration": 23,
    "start_time": "2023-04-17T12:06:51.945Z"
   },
   {
    "duration": 8,
    "start_time": "2023-04-17T12:06:51.970Z"
   },
   {
    "duration": 17,
    "start_time": "2023-04-17T12:06:51.980Z"
   },
   {
    "duration": 18,
    "start_time": "2023-04-17T12:06:51.999Z"
   },
   {
    "duration": 86,
    "start_time": "2023-04-17T12:06:52.018Z"
   },
   {
    "duration": 605,
    "start_time": "2023-04-17T12:06:52.105Z"
   },
   {
    "duration": 42,
    "start_time": "2023-04-17T12:06:52.712Z"
   },
   {
    "duration": 29564,
    "start_time": "2023-04-17T12:06:52.756Z"
   },
   {
    "duration": 67,
    "start_time": "2023-04-17T12:07:22.321Z"
   },
   {
    "duration": 4,
    "start_time": "2023-04-17T12:07:22.390Z"
   },
   {
    "duration": 1085,
    "start_time": "2023-04-17T12:08:15.607Z"
   },
   {
    "duration": 17,
    "start_time": "2023-04-17T12:08:16.694Z"
   },
   {
    "duration": 11,
    "start_time": "2023-04-17T12:08:16.713Z"
   },
   {
    "duration": 13,
    "start_time": "2023-04-17T12:08:16.727Z"
   },
   {
    "duration": 18,
    "start_time": "2023-04-17T12:08:16.742Z"
   },
   {
    "duration": 16,
    "start_time": "2023-04-17T12:08:16.762Z"
   },
   {
    "duration": 14,
    "start_time": "2023-04-17T12:08:16.779Z"
   },
   {
    "duration": 80,
    "start_time": "2023-04-17T12:08:16.795Z"
   },
   {
    "duration": 601,
    "start_time": "2023-04-17T12:08:16.877Z"
   },
   {
    "duration": 30,
    "start_time": "2023-04-17T12:08:17.481Z"
   },
   {
    "duration": 29274,
    "start_time": "2023-04-17T12:08:17.512Z"
   },
   {
    "duration": 64,
    "start_time": "2023-04-17T12:08:46.788Z"
   },
   {
    "duration": 5,
    "start_time": "2023-04-17T12:08:46.853Z"
   },
   {
    "duration": 29177,
    "start_time": "2023-04-17T12:14:59.953Z"
   },
   {
    "duration": 28793,
    "start_time": "2023-04-17T12:16:52.642Z"
   },
   {
    "duration": 1255,
    "start_time": "2023-04-17T12:18:22.819Z"
   },
   {
    "duration": 18,
    "start_time": "2023-04-17T12:18:24.076Z"
   },
   {
    "duration": 14,
    "start_time": "2023-04-17T12:18:24.095Z"
   },
   {
    "duration": 14,
    "start_time": "2023-04-17T12:18:24.111Z"
   },
   {
    "duration": 4,
    "start_time": "2023-04-17T12:18:24.126Z"
   },
   {
    "duration": 7,
    "start_time": "2023-04-17T12:18:24.131Z"
   },
   {
    "duration": 12,
    "start_time": "2023-04-17T12:18:24.139Z"
   },
   {
    "duration": 71,
    "start_time": "2023-04-17T12:18:24.153Z"
   },
   {
    "duration": 611,
    "start_time": "2023-04-17T12:18:24.225Z"
   },
   {
    "duration": 30,
    "start_time": "2023-04-17T12:18:24.848Z"
   },
   {
    "duration": 28694,
    "start_time": "2023-04-17T12:18:24.880Z"
   },
   {
    "duration": 88,
    "start_time": "2023-04-17T12:18:53.576Z"
   },
   {
    "duration": 5,
    "start_time": "2023-04-17T12:18:53.665Z"
   },
   {
    "duration": 29235,
    "start_time": "2023-04-17T12:30:42.709Z"
   },
   {
    "duration": 29594,
    "start_time": "2023-04-17T12:31:41.887Z"
   },
   {
    "duration": 29532,
    "start_time": "2023-04-17T12:39:43.885Z"
   },
   {
    "duration": 30167,
    "start_time": "2023-04-17T12:40:22.869Z"
   },
   {
    "duration": 32935,
    "start_time": "2023-04-17T12:52:07.377Z"
   },
   {
    "duration": 117,
    "start_time": "2023-04-17T12:55:50.613Z"
   },
   {
    "duration": 7676,
    "start_time": "2023-04-17T12:56:07.483Z"
   },
   {
    "duration": 630,
    "start_time": "2023-04-17T12:57:07.216Z"
   },
   {
    "duration": 7498,
    "start_time": "2023-04-17T12:58:12.055Z"
   },
   {
    "duration": 8,
    "start_time": "2023-04-17T13:05:21.278Z"
   },
   {
    "duration": 8,
    "start_time": "2023-04-17T13:05:55.184Z"
   },
   {
    "duration": 8,
    "start_time": "2023-04-17T13:07:22.397Z"
   },
   {
    "duration": 9,
    "start_time": "2023-04-17T13:07:23.909Z"
   },
   {
    "duration": 78,
    "start_time": "2023-04-17T13:15:14.200Z"
   },
   {
    "duration": 112,
    "start_time": "2023-04-17T13:16:21.047Z"
   },
   {
    "duration": 1273,
    "start_time": "2023-04-17T13:28:11.140Z"
   },
   {
    "duration": 18,
    "start_time": "2023-04-17T13:28:12.415Z"
   },
   {
    "duration": 38,
    "start_time": "2023-04-17T13:28:12.436Z"
   },
   {
    "duration": 24,
    "start_time": "2023-04-17T13:28:12.476Z"
   },
   {
    "duration": 4,
    "start_time": "2023-04-17T13:28:12.503Z"
   },
   {
    "duration": 9,
    "start_time": "2023-04-17T13:28:12.508Z"
   },
   {
    "duration": 19,
    "start_time": "2023-04-17T13:28:12.519Z"
   },
   {
    "duration": 80,
    "start_time": "2023-04-17T13:28:12.539Z"
   },
   {
    "duration": 7397,
    "start_time": "2023-04-17T13:28:12.621Z"
   },
   {
    "duration": 48,
    "start_time": "2023-04-17T13:28:20.020Z"
   },
   {
    "duration": 31195,
    "start_time": "2023-04-17T13:28:20.070Z"
   },
   {
    "duration": 41,
    "start_time": "2023-04-17T13:28:51.267Z"
   },
   {
    "duration": 6,
    "start_time": "2023-04-17T13:28:51.309Z"
   },
   {
    "duration": 617,
    "start_time": "2023-04-17T13:30:39.562Z"
   },
   {
    "duration": 135,
    "start_time": "2023-04-17T13:57:22.071Z"
   },
   {
    "duration": 78,
    "start_time": "2023-04-17T14:02:52.005Z"
   },
   {
    "duration": 9,
    "start_time": "2023-04-17T14:03:13.942Z"
   },
   {
    "duration": 12,
    "start_time": "2023-04-17T14:08:18.104Z"
   },
   {
    "duration": 11,
    "start_time": "2023-04-17T14:11:56.003Z"
   },
   {
    "duration": 14,
    "start_time": "2023-04-17T14:27:51.977Z"
   },
   {
    "duration": 64782,
    "start_time": "2023-04-17T15:31:40.126Z"
   },
   {
    "duration": 149071,
    "start_time": "2023-04-17T15:39:14.248Z"
   },
   {
    "duration": 168633,
    "start_time": "2023-04-17T15:45:41.410Z"
   },
   {
    "duration": 1702,
    "start_time": "2023-04-17T15:53:49.499Z"
   },
   {
    "duration": 17,
    "start_time": "2023-04-17T15:53:51.203Z"
   },
   {
    "duration": 15,
    "start_time": "2023-04-17T15:53:51.222Z"
   },
   {
    "duration": 48,
    "start_time": "2023-04-17T15:53:51.240Z"
   },
   {
    "duration": 5,
    "start_time": "2023-04-17T15:53:51.292Z"
   },
   {
    "duration": 35,
    "start_time": "2023-04-17T15:53:51.299Z"
   },
   {
    "duration": 31,
    "start_time": "2023-04-17T15:53:51.337Z"
   },
   {
    "duration": 113,
    "start_time": "2023-04-17T15:53:51.370Z"
   },
   {
    "duration": 639,
    "start_time": "2023-04-17T15:53:51.484Z"
   },
   {
    "duration": 46,
    "start_time": "2023-04-17T15:53:52.125Z"
   },
   {
    "duration": 231,
    "start_time": "2023-04-17T15:53:52.172Z"
   },
   {
    "duration": 190,
    "start_time": "2023-04-17T15:53:52.404Z"
   },
   {
    "duration": 10,
    "start_time": "2023-04-17T15:53:52.596Z"
   },
   {
    "duration": 0,
    "start_time": "2023-04-17T15:53:52.608Z"
   },
   {
    "duration": 0,
    "start_time": "2023-04-17T15:53:52.609Z"
   },
   {
    "duration": 1203,
    "start_time": "2023-04-17T15:55:51.979Z"
   },
   {
    "duration": 16,
    "start_time": "2023-04-17T15:55:53.184Z"
   },
   {
    "duration": 12,
    "start_time": "2023-04-17T15:55:53.201Z"
   },
   {
    "duration": 18,
    "start_time": "2023-04-17T15:55:53.215Z"
   },
   {
    "duration": 6,
    "start_time": "2023-04-17T15:55:53.235Z"
   },
   {
    "duration": 26,
    "start_time": "2023-04-17T15:55:53.243Z"
   },
   {
    "duration": 14,
    "start_time": "2023-04-17T15:55:53.270Z"
   },
   {
    "duration": 116,
    "start_time": "2023-04-17T15:55:53.285Z"
   },
   {
    "duration": 653,
    "start_time": "2023-04-17T15:55:53.402Z"
   },
   {
    "duration": 32,
    "start_time": "2023-04-17T15:55:54.060Z"
   },
   {
    "duration": 30768,
    "start_time": "2023-04-17T15:55:54.093Z"
   },
   {
    "duration": 152474,
    "start_time": "2023-04-17T15:56:24.863Z"
   },
   {
    "duration": 72,
    "start_time": "2023-04-17T15:58:57.338Z"
   },
   {
    "duration": 169,
    "start_time": "2023-04-17T15:58:57.412Z"
   },
   {
    "duration": 0,
    "start_time": "2023-04-17T15:58:57.583Z"
   },
   {
    "duration": 123,
    "start_time": "2023-04-17T16:01:51.789Z"
   },
   {
    "duration": 127,
    "start_time": "2023-04-17T16:02:19.593Z"
   },
   {
    "duration": 29,
    "start_time": "2023-04-17T16:13:19.546Z"
   },
   {
    "duration": 22,
    "start_time": "2023-04-17T16:16:14.467Z"
   },
   {
    "duration": 13,
    "start_time": "2023-04-17T16:17:06.172Z"
   },
   {
    "duration": 49,
    "start_time": "2023-04-18T15:07:04.848Z"
   },
   {
    "duration": 1344,
    "start_time": "2023-04-18T15:07:22.553Z"
   },
   {
    "duration": 120,
    "start_time": "2023-04-18T15:07:23.899Z"
   },
   {
    "duration": 20,
    "start_time": "2023-04-18T15:07:24.021Z"
   },
   {
    "duration": 22,
    "start_time": "2023-04-18T15:07:24.043Z"
   },
   {
    "duration": 34,
    "start_time": "2023-04-18T15:07:24.067Z"
   },
   {
    "duration": 28,
    "start_time": "2023-04-18T15:07:24.104Z"
   },
   {
    "duration": 8,
    "start_time": "2023-04-18T15:07:24.134Z"
   },
   {
    "duration": 29,
    "start_time": "2023-04-18T15:07:24.143Z"
   },
   {
    "duration": 62,
    "start_time": "2023-04-18T15:07:24.174Z"
   },
   {
    "duration": 107,
    "start_time": "2023-04-18T15:07:24.238Z"
   },
   {
    "duration": 635,
    "start_time": "2023-04-18T15:07:24.347Z"
   },
   {
    "duration": 58,
    "start_time": "2023-04-18T15:07:24.984Z"
   },
   {
    "duration": 33716,
    "start_time": "2023-04-18T15:07:25.043Z"
   },
   {
    "duration": 152217,
    "start_time": "2023-04-18T15:07:58.762Z"
   },
   {
    "duration": 55,
    "start_time": "2023-04-18T15:10:30.980Z"
   },
   {
    "duration": 25,
    "start_time": "2023-04-18T15:10:31.037Z"
   },
   {
    "duration": 42,
    "start_time": "2023-04-18T15:10:31.063Z"
   },
   {
    "duration": 85,
    "start_time": "2023-04-18T15:24:58.019Z"
   },
   {
    "duration": 79,
    "start_time": "2023-04-18T15:28:43.713Z"
   },
   {
    "duration": 104,
    "start_time": "2023-04-18T15:29:04.931Z"
   },
   {
    "duration": 587,
    "start_time": "2023-04-18T15:29:14.013Z"
   },
   {
    "duration": 95,
    "start_time": "2023-04-18T15:35:07.763Z"
   },
   {
    "duration": 103,
    "start_time": "2023-04-18T15:35:14.417Z"
   },
   {
    "duration": 98,
    "start_time": "2023-04-18T15:36:02.913Z"
   },
   {
    "duration": 93,
    "start_time": "2023-04-18T15:36:29.347Z"
   },
   {
    "duration": 80,
    "start_time": "2023-04-18T15:38:38.705Z"
   },
   {
    "duration": 1093,
    "start_time": "2023-04-19T07:55:11.146Z"
   },
   {
    "duration": 68,
    "start_time": "2023-04-19T07:55:12.242Z"
   },
   {
    "duration": 19,
    "start_time": "2023-04-19T07:55:12.312Z"
   },
   {
    "duration": 14,
    "start_time": "2023-04-19T07:55:12.332Z"
   },
   {
    "duration": 29,
    "start_time": "2023-04-19T07:55:12.348Z"
   },
   {
    "duration": 19,
    "start_time": "2023-04-19T07:55:12.379Z"
   },
   {
    "duration": 562,
    "start_time": "2023-04-19T07:55:12.400Z"
   },
   {
    "duration": 4,
    "start_time": "2023-04-19T07:55:12.964Z"
   },
   {
    "duration": 10,
    "start_time": "2023-04-19T07:55:12.970Z"
   },
   {
    "duration": 17,
    "start_time": "2023-04-19T07:55:12.982Z"
   },
   {
    "duration": 105,
    "start_time": "2023-04-19T07:55:13.001Z"
   },
   {
    "duration": 632,
    "start_time": "2023-04-19T07:55:13.108Z"
   },
   {
    "duration": 30,
    "start_time": "2023-04-19T07:55:13.742Z"
   },
   {
    "duration": 31069,
    "start_time": "2023-04-19T07:55:13.774Z"
   },
   {
    "duration": 1018,
    "start_time": "2023-04-19T07:57:31.195Z"
   },
   {
    "duration": 31,
    "start_time": "2023-04-19T07:57:32.215Z"
   },
   {
    "duration": 22,
    "start_time": "2023-04-19T07:57:32.248Z"
   },
   {
    "duration": 17,
    "start_time": "2023-04-19T07:57:32.273Z"
   },
   {
    "duration": 29,
    "start_time": "2023-04-19T07:57:32.292Z"
   },
   {
    "duration": 34,
    "start_time": "2023-04-19T07:57:32.322Z"
   },
   {
    "duration": 366,
    "start_time": "2023-04-19T07:57:32.358Z"
   },
   {
    "duration": 4,
    "start_time": "2023-04-19T07:57:32.726Z"
   },
   {
    "duration": 13,
    "start_time": "2023-04-19T07:57:32.731Z"
   },
   {
    "duration": 14,
    "start_time": "2023-04-19T07:57:32.757Z"
   },
   {
    "duration": 103,
    "start_time": "2023-04-19T07:57:32.773Z"
   },
   {
    "duration": 553,
    "start_time": "2023-04-19T07:57:32.878Z"
   },
   {
    "duration": 55,
    "start_time": "2023-04-19T07:57:33.433Z"
   },
   {
    "duration": 30881,
    "start_time": "2023-04-19T07:57:33.490Z"
   },
   {
    "duration": 140308,
    "start_time": "2023-04-19T07:58:04.373Z"
   },
   {
    "duration": 58,
    "start_time": "2023-04-19T08:00:24.683Z"
   },
   {
    "duration": 25,
    "start_time": "2023-04-19T08:00:24.743Z"
   },
   {
    "duration": 5,
    "start_time": "2023-04-19T08:00:24.769Z"
   },
   {
    "duration": 3519,
    "start_time": "2023-04-19T08:12:55.216Z"
   },
   {
    "duration": 3616,
    "start_time": "2023-04-19T08:16:45.927Z"
   },
   {
    "duration": 31855,
    "start_time": "2023-04-19T08:32:56.590Z"
   },
   {
    "duration": 156,
    "start_time": "2023-04-19T08:34:37.485Z"
   },
   {
    "duration": 31009,
    "start_time": "2023-04-19T08:40:04.417Z"
   },
   {
    "duration": 8,
    "start_time": "2023-04-19T09:04:21.876Z"
   },
   {
    "duration": 352,
    "start_time": "2023-04-19T09:31:36.080Z"
   },
   {
    "duration": 458,
    "start_time": "2023-04-19T09:33:42.964Z"
   },
   {
    "duration": 165,
    "start_time": "2023-04-19T10:26:07.075Z"
   },
   {
    "duration": 14,
    "start_time": "2023-04-19T10:42:10.345Z"
   },
   {
    "duration": 1042,
    "start_time": "2023-04-19T10:44:27.775Z"
   },
   {
    "duration": 32,
    "start_time": "2023-04-19T10:44:28.819Z"
   },
   {
    "duration": 17,
    "start_time": "2023-04-19T10:44:28.852Z"
   },
   {
    "duration": 11,
    "start_time": "2023-04-19T10:44:28.870Z"
   },
   {
    "duration": 22,
    "start_time": "2023-04-19T10:44:28.884Z"
   },
   {
    "duration": 16,
    "start_time": "2023-04-19T10:44:28.908Z"
   },
   {
    "duration": 403,
    "start_time": "2023-04-19T10:44:28.925Z"
   },
   {
    "duration": 374,
    "start_time": "2023-04-19T10:44:29.330Z"
   },
   {
    "duration": 4,
    "start_time": "2023-04-19T10:44:29.706Z"
   },
   {
    "duration": 9,
    "start_time": "2023-04-19T10:44:29.712Z"
   },
   {
    "duration": 37,
    "start_time": "2023-04-19T10:44:29.723Z"
   },
   {
    "duration": 73,
    "start_time": "2023-04-19T10:44:29.761Z"
   },
   {
    "duration": 3663,
    "start_time": "2023-04-19T10:44:29.836Z"
   },
   {
    "duration": 33,
    "start_time": "2023-04-19T10:44:33.501Z"
   },
   {
    "duration": 31137,
    "start_time": "2023-04-19T10:44:33.535Z"
   },
   {
    "duration": 142305,
    "start_time": "2023-04-19T10:45:04.674Z"
   },
   {
    "duration": 61,
    "start_time": "2023-04-19T10:47:26.980Z"
   },
   {
    "duration": 133,
    "start_time": "2023-04-19T10:47:27.043Z"
   },
   {
    "duration": 0,
    "start_time": "2023-04-19T10:47:27.178Z"
   },
   {
    "duration": 157,
    "start_time": "2023-04-19T10:49:09.456Z"
   },
   {
    "duration": 165,
    "start_time": "2023-04-19T10:52:58.269Z"
   },
   {
    "duration": 159,
    "start_time": "2023-04-19T10:53:29.885Z"
   },
   {
    "duration": 269,
    "start_time": "2023-04-19T10:55:09.906Z"
   },
   {
    "duration": 193,
    "start_time": "2023-04-19T10:55:49.791Z"
   },
   {
    "duration": 254,
    "start_time": "2023-04-19T10:56:10.480Z"
   },
   {
    "duration": 152,
    "start_time": "2023-04-19T10:56:24.438Z"
   },
   {
    "duration": 149,
    "start_time": "2023-04-19T10:56:48.149Z"
   },
   {
    "duration": 75,
    "start_time": "2023-04-19T12:07:22.936Z"
   },
   {
    "duration": 9,
    "start_time": "2023-04-19T12:35:39.804Z"
   },
   {
    "duration": 11,
    "start_time": "2023-04-19T12:36:19.154Z"
   },
   {
    "duration": 81,
    "start_time": "2023-04-19T12:37:11.317Z"
   },
   {
    "duration": 13,
    "start_time": "2023-04-19T12:38:41.776Z"
   },
   {
    "duration": 113,
    "start_time": "2023-04-19T12:39:48.514Z"
   },
   {
    "duration": 11,
    "start_time": "2023-04-19T12:42:58.974Z"
   },
   {
    "duration": 1082,
    "start_time": "2023-04-19T12:44:36.470Z"
   },
   {
    "duration": 39,
    "start_time": "2023-04-19T12:44:37.554Z"
   },
   {
    "duration": 17,
    "start_time": "2023-04-19T12:44:37.595Z"
   },
   {
    "duration": 10,
    "start_time": "2023-04-19T12:44:37.614Z"
   },
   {
    "duration": 26,
    "start_time": "2023-04-19T12:44:37.627Z"
   },
   {
    "duration": 20,
    "start_time": "2023-04-19T12:44:37.655Z"
   },
   {
    "duration": 392,
    "start_time": "2023-04-19T12:44:37.677Z"
   },
   {
    "duration": 343,
    "start_time": "2023-04-19T12:44:38.071Z"
   },
   {
    "duration": 3,
    "start_time": "2023-04-19T12:44:38.416Z"
   },
   {
    "duration": 13,
    "start_time": "2023-04-19T12:44:38.421Z"
   },
   {
    "duration": 34,
    "start_time": "2023-04-19T12:44:38.435Z"
   },
   {
    "duration": 67,
    "start_time": "2023-04-19T12:44:38.470Z"
   },
   {
    "duration": 3652,
    "start_time": "2023-04-19T12:44:38.538Z"
   },
   {
    "duration": 45,
    "start_time": "2023-04-19T12:44:42.192Z"
   },
   {
    "duration": 32472,
    "start_time": "2023-04-19T12:44:42.239Z"
   },
   {
    "duration": 145456,
    "start_time": "2023-04-19T12:45:14.713Z"
   },
   {
    "duration": 127,
    "start_time": "2023-04-19T12:47:40.171Z"
   },
   {
    "duration": 126,
    "start_time": "2023-04-19T12:47:40.300Z"
   },
   {
    "duration": 0,
    "start_time": "2023-04-19T12:47:40.428Z"
   },
   {
    "duration": 0,
    "start_time": "2023-04-19T12:47:40.429Z"
   },
   {
    "duration": 0,
    "start_time": "2023-04-19T12:47:40.430Z"
   },
   {
    "duration": 13,
    "start_time": "2023-04-19T12:50:46.287Z"
   },
   {
    "duration": 12,
    "start_time": "2023-04-19T12:52:15.210Z"
   },
   {
    "duration": 13,
    "start_time": "2023-04-19T12:52:47.911Z"
   },
   {
    "duration": 16,
    "start_time": "2023-04-19T12:53:09.511Z"
   },
   {
    "duration": 6,
    "start_time": "2023-04-19T12:57:11.573Z"
   },
   {
    "duration": 18,
    "start_time": "2023-04-19T12:59:05.722Z"
   },
   {
    "duration": 16,
    "start_time": "2023-04-19T13:01:56.527Z"
   },
   {
    "duration": 392,
    "start_time": "2023-04-19T13:02:53.100Z"
   },
   {
    "duration": 455,
    "start_time": "2023-04-19T13:04:36.189Z"
   },
   {
    "duration": 421,
    "start_time": "2023-04-19T13:04:37.869Z"
   },
   {
    "duration": 9,
    "start_time": "2023-04-19T13:10:07.074Z"
   },
   {
    "duration": 97,
    "start_time": "2023-04-19T13:10:14.653Z"
   },
   {
    "duration": 442,
    "start_time": "2023-04-19T13:12:09.617Z"
   },
   {
    "duration": 6,
    "start_time": "2023-04-19T13:20:33.405Z"
   },
   {
    "duration": 16,
    "start_time": "2023-04-19T13:21:34.315Z"
   },
   {
    "duration": 13,
    "start_time": "2023-04-19T13:22:26.914Z"
   },
   {
    "duration": 13,
    "start_time": "2023-04-19T13:25:41.486Z"
   },
   {
    "duration": 6,
    "start_time": "2023-04-19T13:25:52.022Z"
   },
   {
    "duration": 19,
    "start_time": "2023-04-19T13:25:56.373Z"
   },
   {
    "duration": 9,
    "start_time": "2023-04-19T13:26:17.963Z"
   },
   {
    "duration": 8,
    "start_time": "2023-04-19T13:26:22.090Z"
   },
   {
    "duration": 13,
    "start_time": "2023-04-19T13:26:27.096Z"
   },
   {
    "duration": 15,
    "start_time": "2023-04-19T13:31:59.228Z"
   },
   {
    "duration": 16,
    "start_time": "2023-04-19T13:33:06.328Z"
   },
   {
    "duration": 88,
    "start_time": "2023-04-19T13:34:38.586Z"
   },
   {
    "duration": 16,
    "start_time": "2023-04-19T13:35:00.420Z"
   },
   {
    "duration": 10,
    "start_time": "2023-04-19T13:36:25.717Z"
   },
   {
    "duration": 11,
    "start_time": "2023-04-19T13:36:38.117Z"
   },
   {
    "duration": 142,
    "start_time": "2023-04-19T13:37:10.179Z"
   },
   {
    "duration": 22,
    "start_time": "2023-04-19T13:38:11.444Z"
   },
   {
    "duration": 124,
    "start_time": "2023-04-19T13:42:10.781Z"
   },
   {
    "duration": 20,
    "start_time": "2023-04-19T13:42:43.059Z"
   },
   {
    "duration": 16,
    "start_time": "2023-04-19T13:42:51.871Z"
   },
   {
    "duration": 94,
    "start_time": "2023-04-19T13:47:54.583Z"
   },
   {
    "duration": 20,
    "start_time": "2023-04-19T13:50:15.651Z"
   },
   {
    "duration": 16,
    "start_time": "2023-04-19T13:50:36.578Z"
   },
   {
    "duration": 33,
    "start_time": "2023-04-19T13:54:15.051Z"
   },
   {
    "duration": 20,
    "start_time": "2023-04-19T13:55:54.012Z"
   },
   {
    "duration": 20,
    "start_time": "2023-04-19T13:59:43.206Z"
   },
   {
    "duration": 17,
    "start_time": "2023-04-19T14:00:31.489Z"
   },
   {
    "duration": 21,
    "start_time": "2023-04-19T14:01:37.208Z"
   },
   {
    "duration": 16,
    "start_time": "2023-04-19T14:03:36.421Z"
   },
   {
    "duration": 15,
    "start_time": "2023-04-19T14:03:59.881Z"
   },
   {
    "duration": 1165,
    "start_time": "2023-04-19T14:05:45.917Z"
   },
   {
    "duration": 33,
    "start_time": "2023-04-19T14:05:47.085Z"
   },
   {
    "duration": 20,
    "start_time": "2023-04-19T14:05:47.120Z"
   },
   {
    "duration": 15,
    "start_time": "2023-04-19T14:05:47.142Z"
   },
   {
    "duration": 30,
    "start_time": "2023-04-19T14:05:47.160Z"
   },
   {
    "duration": 16,
    "start_time": "2023-04-19T14:05:47.192Z"
   },
   {
    "duration": 480,
    "start_time": "2023-04-19T14:05:47.209Z"
   },
   {
    "duration": 406,
    "start_time": "2023-04-19T14:05:47.690Z"
   },
   {
    "duration": 4,
    "start_time": "2023-04-19T14:05:48.099Z"
   },
   {
    "duration": 24,
    "start_time": "2023-04-19T14:05:48.105Z"
   },
   {
    "duration": 33,
    "start_time": "2023-04-19T14:05:48.131Z"
   },
   {
    "duration": 103,
    "start_time": "2023-04-19T14:05:48.166Z"
   },
   {
    "duration": 3902,
    "start_time": "2023-04-19T14:05:48.272Z"
   },
   {
    "duration": 34,
    "start_time": "2023-04-19T14:05:52.177Z"
   },
   {
    "duration": 32323,
    "start_time": "2023-04-19T14:05:52.212Z"
   },
   {
    "duration": 153603,
    "start_time": "2023-04-19T14:06:24.537Z"
   },
   {
    "duration": 136,
    "start_time": "2023-04-19T14:08:58.142Z"
   },
   {
    "duration": 123,
    "start_time": "2023-04-19T14:08:58.279Z"
   },
   {
    "duration": 0,
    "start_time": "2023-04-19T14:08:58.404Z"
   },
   {
    "duration": 0,
    "start_time": "2023-04-19T14:08:58.405Z"
   },
   {
    "duration": 0,
    "start_time": "2023-04-19T14:08:58.406Z"
   },
   {
    "duration": 18,
    "start_time": "2023-04-19T14:10:53.989Z"
   },
   {
    "duration": 24,
    "start_time": "2023-04-19T14:11:16.174Z"
   },
   {
    "duration": 16,
    "start_time": "2023-04-19T14:11:37.799Z"
   },
   {
    "duration": 16,
    "start_time": "2023-04-19T14:12:23.510Z"
   },
   {
    "duration": 13,
    "start_time": "2023-04-19T14:23:55.601Z"
   },
   {
    "duration": 11,
    "start_time": "2023-04-19T14:32:08.582Z"
   },
   {
    "duration": 129,
    "start_time": "2023-04-19T14:32:14.575Z"
   },
   {
    "duration": 19,
    "start_time": "2023-04-19T14:54:40.220Z"
   },
   {
    "duration": 624,
    "start_time": "2023-04-19T14:56:00.700Z"
   },
   {
    "duration": 174,
    "start_time": "2023-04-19T14:57:45.089Z"
   },
   {
    "duration": 238,
    "start_time": "2023-04-19T14:58:33.713Z"
   },
   {
    "duration": 189,
    "start_time": "2023-04-19T14:58:45.288Z"
   },
   {
    "duration": 137,
    "start_time": "2023-04-19T15:03:29.983Z"
   },
   {
    "duration": 4,
    "start_time": "2023-04-19T15:03:46.388Z"
   },
   {
    "duration": 161,
    "start_time": "2023-04-19T15:08:21.129Z"
   },
   {
    "duration": 138,
    "start_time": "2023-04-19T15:09:16.707Z"
   },
   {
    "duration": 226,
    "start_time": "2023-04-19T15:14:47.404Z"
   },
   {
    "duration": 177,
    "start_time": "2023-04-19T15:22:21.603Z"
   },
   {
    "duration": 168,
    "start_time": "2023-04-19T15:22:45.513Z"
   },
   {
    "duration": 176,
    "start_time": "2023-04-19T15:24:25.518Z"
   },
   {
    "duration": 181,
    "start_time": "2023-04-19T15:47:33.645Z"
   },
   {
    "duration": 47,
    "start_time": "2023-04-19T15:55:26.077Z"
   },
   {
    "duration": 1139,
    "start_time": "2023-04-20T03:29:15.871Z"
   },
   {
    "duration": 62,
    "start_time": "2023-04-20T03:29:17.012Z"
   },
   {
    "duration": 19,
    "start_time": "2023-04-20T03:29:17.076Z"
   },
   {
    "duration": 11,
    "start_time": "2023-04-20T03:29:17.096Z"
   },
   {
    "duration": 24,
    "start_time": "2023-04-20T03:29:17.109Z"
   },
   {
    "duration": 14,
    "start_time": "2023-04-20T03:29:17.135Z"
   },
   {
    "duration": 602,
    "start_time": "2023-04-20T03:29:17.151Z"
   },
   {
    "duration": 435,
    "start_time": "2023-04-20T03:29:17.755Z"
   },
   {
    "duration": 3,
    "start_time": "2023-04-20T03:29:18.192Z"
   },
   {
    "duration": 16,
    "start_time": "2023-04-20T03:29:18.197Z"
   },
   {
    "duration": 12,
    "start_time": "2023-04-20T03:29:18.214Z"
   },
   {
    "duration": 110,
    "start_time": "2023-04-20T03:29:18.228Z"
   },
   {
    "duration": 73,
    "start_time": "2023-04-20T03:29:18.340Z"
   },
   {
    "duration": 0,
    "start_time": "2023-04-20T03:29:18.415Z"
   },
   {
    "duration": 0,
    "start_time": "2023-04-20T03:29:18.416Z"
   },
   {
    "duration": 0,
    "start_time": "2023-04-20T03:29:18.417Z"
   },
   {
    "duration": 0,
    "start_time": "2023-04-20T03:29:18.418Z"
   },
   {
    "duration": 0,
    "start_time": "2023-04-20T03:29:18.420Z"
   },
   {
    "duration": 0,
    "start_time": "2023-04-20T03:29:18.421Z"
   },
   {
    "duration": 0,
    "start_time": "2023-04-20T03:29:18.422Z"
   },
   {
    "duration": 0,
    "start_time": "2023-04-20T03:29:18.423Z"
   },
   {
    "duration": 0,
    "start_time": "2023-04-20T03:29:18.424Z"
   },
   {
    "duration": 123,
    "start_time": "2023-04-20T03:29:53.019Z"
   },
   {
    "duration": 12,
    "start_time": "2023-04-20T03:30:33.582Z"
   },
   {
    "duration": 13,
    "start_time": "2023-04-20T03:31:55.660Z"
   },
   {
    "duration": 13,
    "start_time": "2023-04-20T03:33:48.323Z"
   },
   {
    "duration": 11,
    "start_time": "2023-04-20T03:37:50.836Z"
   },
   {
    "duration": 13,
    "start_time": "2023-04-20T03:39:12.850Z"
   },
   {
    "duration": 18,
    "start_time": "2023-04-20T03:39:34.900Z"
   },
   {
    "duration": 12,
    "start_time": "2023-04-20T03:42:47.812Z"
   },
   {
    "duration": 9492,
    "start_time": "2023-04-20T03:43:30.721Z"
   },
   {
    "duration": 20,
    "start_time": "2023-04-20T03:53:17.083Z"
   },
   {
    "duration": 12,
    "start_time": "2023-04-20T04:00:53.836Z"
   },
   {
    "duration": 8382,
    "start_time": "2023-04-20T04:01:11.800Z"
   },
   {
    "duration": 913,
    "start_time": "2023-04-20T04:02:51.473Z"
   },
   {
    "duration": 911,
    "start_time": "2023-04-20T04:05:09.512Z"
   },
   {
    "duration": 856,
    "start_time": "2023-04-20T04:06:24.863Z"
   },
   {
    "duration": 1709,
    "start_time": "2023-04-20T04:08:17.795Z"
   },
   {
    "duration": 947,
    "start_time": "2023-04-20T04:10:02.688Z"
   },
   {
    "duration": 816,
    "start_time": "2023-04-20T04:11:11.449Z"
   },
   {
    "duration": 821,
    "start_time": "2023-04-20T04:11:58.508Z"
   },
   {
    "duration": 157,
    "start_time": "2023-04-20T04:12:23.020Z"
   },
   {
    "duration": 943,
    "start_time": "2023-04-20T04:12:30.529Z"
   },
   {
    "duration": 49,
    "start_time": "2023-04-20T04:18:04.016Z"
   },
   {
    "duration": 824,
    "start_time": "2023-04-20T04:18:18.596Z"
   },
   {
    "duration": 159,
    "start_time": "2023-04-20T04:18:59.456Z"
   },
   {
    "duration": 848,
    "start_time": "2023-04-20T04:20:25.777Z"
   },
   {
    "duration": 161,
    "start_time": "2023-04-20T04:20:59.996Z"
   },
   {
    "duration": 887,
    "start_time": "2023-04-20T04:21:10.236Z"
   },
   {
    "duration": 876,
    "start_time": "2023-04-20T04:22:22.357Z"
   },
   {
    "duration": 161,
    "start_time": "2023-04-20T04:23:15.197Z"
   },
   {
    "duration": 876,
    "start_time": "2023-04-20T04:23:27.139Z"
   },
   {
    "duration": 860,
    "start_time": "2023-04-20T04:25:06.457Z"
   },
   {
    "duration": 1023,
    "start_time": "2023-04-20T04:29:00.400Z"
   },
   {
    "duration": 65,
    "start_time": "2023-04-20T04:48:42.073Z"
   },
   {
    "duration": 219,
    "start_time": "2023-04-20T04:49:17.384Z"
   },
   {
    "duration": 102,
    "start_time": "2023-04-20T04:50:32.813Z"
   },
   {
    "duration": 124,
    "start_time": "2023-04-20T04:52:17.323Z"
   },
   {
    "duration": 13,
    "start_time": "2023-04-20T04:54:34.199Z"
   },
   {
    "duration": 139,
    "start_time": "2023-04-20T04:56:59.129Z"
   },
   {
    "duration": 128,
    "start_time": "2023-04-20T04:57:59.489Z"
   },
   {
    "duration": 73,
    "start_time": "2023-04-20T05:04:36.393Z"
   },
   {
    "duration": 111,
    "start_time": "2023-04-20T05:04:56.983Z"
   },
   {
    "duration": 112,
    "start_time": "2023-04-20T05:06:10.921Z"
   },
   {
    "duration": 132,
    "start_time": "2023-04-20T05:06:30.488Z"
   },
   {
    "duration": 132,
    "start_time": "2023-04-20T05:06:57.881Z"
   },
   {
    "duration": 364,
    "start_time": "2023-04-20T05:09:08.504Z"
   },
   {
    "duration": 132,
    "start_time": "2023-04-20T05:09:23.821Z"
   },
   {
    "duration": 125,
    "start_time": "2023-04-20T05:10:05.077Z"
   },
   {
    "duration": 343,
    "start_time": "2023-04-20T05:15:52.503Z"
   },
   {
    "duration": 150,
    "start_time": "2023-04-20T05:20:55.036Z"
   },
   {
    "duration": 204,
    "start_time": "2023-04-20T05:22:55.781Z"
   },
   {
    "duration": 142,
    "start_time": "2023-04-20T05:23:05.621Z"
   },
   {
    "duration": 205,
    "start_time": "2023-04-20T05:23:50.234Z"
   },
   {
    "duration": 159,
    "start_time": "2023-04-20T05:24:34.570Z"
   },
   {
    "duration": 280,
    "start_time": "2023-04-20T05:25:23.922Z"
   },
   {
    "duration": 320,
    "start_time": "2023-04-20T05:26:01.120Z"
   },
   {
    "duration": 228,
    "start_time": "2023-04-20T05:26:17.780Z"
   },
   {
    "duration": 239,
    "start_time": "2023-04-20T05:26:50.225Z"
   },
   {
    "duration": 477,
    "start_time": "2023-04-20T05:27:10.059Z"
   },
   {
    "duration": 257,
    "start_time": "2023-04-20T05:27:30.703Z"
   },
   {
    "duration": 266,
    "start_time": "2023-04-20T05:27:56.175Z"
   },
   {
    "duration": 223,
    "start_time": "2023-04-20T05:29:52.509Z"
   },
   {
    "duration": 270,
    "start_time": "2023-04-20T05:30:44.659Z"
   },
   {
    "duration": 306,
    "start_time": "2023-04-20T05:31:05.068Z"
   },
   {
    "duration": 216,
    "start_time": "2023-04-20T05:31:32.244Z"
   },
   {
    "duration": 1472,
    "start_time": "2023-04-20T05:33:11.273Z"
   },
   {
    "duration": 30,
    "start_time": "2023-04-20T05:33:12.747Z"
   },
   {
    "duration": 23,
    "start_time": "2023-04-20T05:33:12.778Z"
   },
   {
    "duration": 16,
    "start_time": "2023-04-20T05:33:12.809Z"
   },
   {
    "duration": 24,
    "start_time": "2023-04-20T05:33:12.828Z"
   },
   {
    "duration": 16,
    "start_time": "2023-04-20T05:33:12.854Z"
   },
   {
    "duration": 138,
    "start_time": "2023-04-20T05:33:12.885Z"
   },
   {
    "duration": 463,
    "start_time": "2023-04-20T05:33:13.026Z"
   },
   {
    "duration": 4,
    "start_time": "2023-04-20T05:33:13.490Z"
   },
   {
    "duration": 13,
    "start_time": "2023-04-20T05:33:13.496Z"
   },
   {
    "duration": 17,
    "start_time": "2023-04-20T05:33:13.513Z"
   },
   {
    "duration": 491,
    "start_time": "2023-04-20T05:33:13.532Z"
   },
   {
    "duration": 312,
    "start_time": "2023-04-20T05:33:14.025Z"
   },
   {
    "duration": 343,
    "start_time": "2023-04-20T05:33:14.341Z"
   },
   {
    "duration": 0,
    "start_time": "2023-04-20T05:33:14.688Z"
   },
   {
    "duration": 0,
    "start_time": "2023-04-20T05:33:14.689Z"
   },
   {
    "duration": 0,
    "start_time": "2023-04-20T05:33:14.690Z"
   },
   {
    "duration": 0,
    "start_time": "2023-04-20T05:33:14.691Z"
   },
   {
    "duration": 0,
    "start_time": "2023-04-20T05:33:14.692Z"
   },
   {
    "duration": 0,
    "start_time": "2023-04-20T05:33:14.694Z"
   },
   {
    "duration": 0,
    "start_time": "2023-04-20T05:33:14.695Z"
   },
   {
    "duration": 0,
    "start_time": "2023-04-20T05:33:14.698Z"
   },
   {
    "duration": 0,
    "start_time": "2023-04-20T05:33:14.699Z"
   },
   {
    "duration": 1669,
    "start_time": "2023-04-20T05:37:42.751Z"
   },
   {
    "duration": 32,
    "start_time": "2023-04-20T05:37:44.423Z"
   },
   {
    "duration": 20,
    "start_time": "2023-04-20T05:37:44.457Z"
   },
   {
    "duration": 19,
    "start_time": "2023-04-20T05:37:44.479Z"
   },
   {
    "duration": 35,
    "start_time": "2023-04-20T05:37:44.501Z"
   },
   {
    "duration": 20,
    "start_time": "2023-04-20T05:37:44.538Z"
   },
   {
    "duration": 158,
    "start_time": "2023-04-20T05:37:44.560Z"
   },
   {
    "duration": 422,
    "start_time": "2023-04-20T05:37:44.720Z"
   },
   {
    "duration": 4,
    "start_time": "2023-04-20T05:37:45.143Z"
   },
   {
    "duration": 16,
    "start_time": "2023-04-20T05:37:45.149Z"
   },
   {
    "duration": 43,
    "start_time": "2023-04-20T05:37:45.166Z"
   },
   {
    "duration": 393,
    "start_time": "2023-04-20T05:37:45.211Z"
   },
   {
    "duration": 217,
    "start_time": "2023-04-20T05:37:45.606Z"
   },
   {
    "duration": 1017,
    "start_time": "2023-04-20T05:37:45.824Z"
   },
   {
    "duration": 4384,
    "start_time": "2023-04-20T05:37:46.842Z"
   },
   {
    "duration": 34,
    "start_time": "2023-04-20T05:37:51.227Z"
   },
   {
    "duration": 38142,
    "start_time": "2023-04-20T05:37:51.262Z"
   },
   {
    "duration": 171913,
    "start_time": "2023-04-20T05:38:29.415Z"
   },
   {
    "duration": 5,
    "start_time": "2023-04-20T05:41:21.330Z"
   },
   {
    "duration": 245,
    "start_time": "2023-04-20T05:41:21.337Z"
   },
   {
    "duration": 65,
    "start_time": "2023-04-20T05:41:21.585Z"
   },
   {
    "duration": 217,
    "start_time": "2023-04-20T05:41:21.652Z"
   },
   {
    "duration": 17,
    "start_time": "2023-04-20T05:41:21.871Z"
   }
  ],
  "kernelspec": {
   "display_name": "Python 3 (ipykernel)",
   "language": "python",
   "name": "python3"
  },
  "language_info": {
   "codemirror_mode": {
    "name": "ipython",
    "version": 3
   },
   "file_extension": ".py",
   "mimetype": "text/x-python",
   "name": "python",
   "nbconvert_exporter": "python",
   "pygments_lexer": "ipython3",
   "version": "3.9.13"
  },
  "toc": {
   "base_numbering": 1,
   "nav_menu": {},
   "number_sections": true,
   "sideBar": true,
   "skip_h1_title": true,
   "title_cell": "Table of Contents",
   "title_sidebar": "Contents",
   "toc_cell": false,
   "toc_position": {},
   "toc_section_display": true,
   "toc_window_display": false
  }
 },
 "nbformat": 4,
 "nbformat_minor": 2
}

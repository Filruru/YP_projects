{
 "cells": [
  {
   "cell_type": "markdown",
   "metadata": {},
   "source": [
    "# Исследование объявлений о продаже квартир\n",
    "\n",
    "В вашем распоряжении данные сервиса Яндекс.Недвижимость — архив объявлений о продаже квартир в Санкт-Петербурге и соседних населённых пунктов за несколько лет. Нужно научиться определять рыночную стоимость объектов недвижимости. Ваша задача — установить параметры. Это позволит построить автоматизированную систему: она отследит аномалии и мошенническую деятельность. \n",
    "\n",
    "По каждой квартире на продажу доступны два вида данных. Первые вписаны пользователем, вторые — получены автоматически на основе картографических данных. Например, расстояние до центра, аэропорта, ближайшего парка и водоёма. "
   ]
  },
  {
   "cell_type": "markdown",
   "metadata": {},
   "source": [
    "### Откройте файл с данными и изучите общую информацию. "
   ]
  },
  {
   "cell_type": "code",
   "execution_count": 1,
   "metadata": {},
   "outputs": [],
   "source": [
    "import pandas as pd\n",
    "import matplotlib.pyplot as plt\n",
    "import numpy as np\n",
    "import warnings\n",
    "warnings.simplefilter('ignore')"
   ]
  },
  {
   "cell_type": "code",
   "execution_count": 2,
   "metadata": {},
   "outputs": [
    {
     "name": "stdout",
     "output_type": "stream",
     "text": [
      "<class 'pandas.core.frame.DataFrame'>\n",
      "RangeIndex: 23699 entries, 0 to 23698\n",
      "Data columns (total 22 columns):\n",
      " #   Column                Non-Null Count  Dtype  \n",
      "---  ------                --------------  -----  \n",
      " 0   total_images          23699 non-null  int64  \n",
      " 1   last_price            23699 non-null  float64\n",
      " 2   total_area            23699 non-null  float64\n",
      " 3   first_day_exposition  23699 non-null  object \n",
      " 4   rooms                 23699 non-null  int64  \n",
      " 5   ceiling_height        14504 non-null  float64\n",
      " 6   floors_total          23613 non-null  float64\n",
      " 7   living_area           21796 non-null  float64\n",
      " 8   floor                 23699 non-null  int64  \n",
      " 9   is_apartment          2775 non-null   object \n",
      " 10  studio                23699 non-null  bool   \n",
      " 11  open_plan             23699 non-null  bool   \n",
      " 12  kitchen_area          21421 non-null  float64\n",
      " 13  balcony               12180 non-null  float64\n",
      " 14  locality_name         23650 non-null  object \n",
      " 15  airports_nearest      18157 non-null  float64\n",
      " 16  cityCenters_nearest   18180 non-null  float64\n",
      " 17  parks_around3000      18181 non-null  float64\n",
      " 18  parks_nearest         8079 non-null   float64\n",
      " 19  ponds_around3000      18181 non-null  float64\n",
      " 20  ponds_nearest         9110 non-null   float64\n",
      " 21  days_exposition       20518 non-null  float64\n",
      "dtypes: bool(2), float64(14), int64(3), object(3)\n",
      "memory usage: 3.7+ MB\n"
     ]
    }
   ],
   "source": [
    "data=pd.read_csv('/datasets/real_estate_data.csv',sep='\\t')\n",
    "data.info()"
   ]
  },
  {
   "cell_type": "code",
   "execution_count": 3,
   "metadata": {},
   "outputs": [
    {
     "data": {
      "text/html": [
       "<div>\n",
       "<style scoped>\n",
       "    .dataframe tbody tr th:only-of-type {\n",
       "        vertical-align: middle;\n",
       "    }\n",
       "\n",
       "    .dataframe tbody tr th {\n",
       "        vertical-align: top;\n",
       "    }\n",
       "\n",
       "    .dataframe thead th {\n",
       "        text-align: right;\n",
       "    }\n",
       "</style>\n",
       "<table border=\"1\" class=\"dataframe\">\n",
       "  <thead>\n",
       "    <tr style=\"text-align: right;\">\n",
       "      <th></th>\n",
       "      <th>total_images</th>\n",
       "      <th>last_price</th>\n",
       "      <th>total_area</th>\n",
       "      <th>rooms</th>\n",
       "      <th>ceiling_height</th>\n",
       "      <th>floors_total</th>\n",
       "      <th>living_area</th>\n",
       "      <th>floor</th>\n",
       "      <th>kitchen_area</th>\n",
       "      <th>balcony</th>\n",
       "      <th>airports_nearest</th>\n",
       "      <th>cityCenters_nearest</th>\n",
       "      <th>parks_around3000</th>\n",
       "      <th>parks_nearest</th>\n",
       "      <th>ponds_around3000</th>\n",
       "      <th>ponds_nearest</th>\n",
       "      <th>days_exposition</th>\n",
       "    </tr>\n",
       "  </thead>\n",
       "  <tbody>\n",
       "    <tr>\n",
       "      <th>count</th>\n",
       "      <td>23699.000000</td>\n",
       "      <td>2.369900e+04</td>\n",
       "      <td>23699.000000</td>\n",
       "      <td>23699.000000</td>\n",
       "      <td>14504.000000</td>\n",
       "      <td>23613.000000</td>\n",
       "      <td>21796.000000</td>\n",
       "      <td>23699.000000</td>\n",
       "      <td>21421.000000</td>\n",
       "      <td>12180.000000</td>\n",
       "      <td>18157.000000</td>\n",
       "      <td>18180.000000</td>\n",
       "      <td>18181.000000</td>\n",
       "      <td>8079.000000</td>\n",
       "      <td>18181.000000</td>\n",
       "      <td>9110.000000</td>\n",
       "      <td>20518.000000</td>\n",
       "    </tr>\n",
       "    <tr>\n",
       "      <th>mean</th>\n",
       "      <td>9.858475</td>\n",
       "      <td>6.541549e+06</td>\n",
       "      <td>60.348651</td>\n",
       "      <td>2.070636</td>\n",
       "      <td>2.771499</td>\n",
       "      <td>10.673824</td>\n",
       "      <td>34.457852</td>\n",
       "      <td>5.892358</td>\n",
       "      <td>10.569807</td>\n",
       "      <td>1.150082</td>\n",
       "      <td>28793.672193</td>\n",
       "      <td>14191.277833</td>\n",
       "      <td>0.611408</td>\n",
       "      <td>490.804555</td>\n",
       "      <td>0.770255</td>\n",
       "      <td>517.980900</td>\n",
       "      <td>180.888634</td>\n",
       "    </tr>\n",
       "    <tr>\n",
       "      <th>std</th>\n",
       "      <td>5.682529</td>\n",
       "      <td>1.088701e+07</td>\n",
       "      <td>35.654083</td>\n",
       "      <td>1.078405</td>\n",
       "      <td>1.261056</td>\n",
       "      <td>6.597173</td>\n",
       "      <td>22.030445</td>\n",
       "      <td>4.885249</td>\n",
       "      <td>5.905438</td>\n",
       "      <td>1.071300</td>\n",
       "      <td>12630.880622</td>\n",
       "      <td>8608.386210</td>\n",
       "      <td>0.802074</td>\n",
       "      <td>342.317995</td>\n",
       "      <td>0.938346</td>\n",
       "      <td>277.720643</td>\n",
       "      <td>219.727988</td>\n",
       "    </tr>\n",
       "    <tr>\n",
       "      <th>min</th>\n",
       "      <td>0.000000</td>\n",
       "      <td>1.219000e+04</td>\n",
       "      <td>12.000000</td>\n",
       "      <td>0.000000</td>\n",
       "      <td>1.000000</td>\n",
       "      <td>1.000000</td>\n",
       "      <td>2.000000</td>\n",
       "      <td>1.000000</td>\n",
       "      <td>1.300000</td>\n",
       "      <td>0.000000</td>\n",
       "      <td>0.000000</td>\n",
       "      <td>181.000000</td>\n",
       "      <td>0.000000</td>\n",
       "      <td>1.000000</td>\n",
       "      <td>0.000000</td>\n",
       "      <td>13.000000</td>\n",
       "      <td>1.000000</td>\n",
       "    </tr>\n",
       "    <tr>\n",
       "      <th>25%</th>\n",
       "      <td>6.000000</td>\n",
       "      <td>3.400000e+06</td>\n",
       "      <td>40.000000</td>\n",
       "      <td>1.000000</td>\n",
       "      <td>2.520000</td>\n",
       "      <td>5.000000</td>\n",
       "      <td>18.600000</td>\n",
       "      <td>2.000000</td>\n",
       "      <td>7.000000</td>\n",
       "      <td>0.000000</td>\n",
       "      <td>18585.000000</td>\n",
       "      <td>9238.000000</td>\n",
       "      <td>0.000000</td>\n",
       "      <td>288.000000</td>\n",
       "      <td>0.000000</td>\n",
       "      <td>294.000000</td>\n",
       "      <td>45.000000</td>\n",
       "    </tr>\n",
       "    <tr>\n",
       "      <th>50%</th>\n",
       "      <td>9.000000</td>\n",
       "      <td>4.650000e+06</td>\n",
       "      <td>52.000000</td>\n",
       "      <td>2.000000</td>\n",
       "      <td>2.650000</td>\n",
       "      <td>9.000000</td>\n",
       "      <td>30.000000</td>\n",
       "      <td>4.000000</td>\n",
       "      <td>9.100000</td>\n",
       "      <td>1.000000</td>\n",
       "      <td>26726.000000</td>\n",
       "      <td>13098.500000</td>\n",
       "      <td>0.000000</td>\n",
       "      <td>455.000000</td>\n",
       "      <td>1.000000</td>\n",
       "      <td>502.000000</td>\n",
       "      <td>95.000000</td>\n",
       "    </tr>\n",
       "    <tr>\n",
       "      <th>75%</th>\n",
       "      <td>14.000000</td>\n",
       "      <td>6.800000e+06</td>\n",
       "      <td>69.900000</td>\n",
       "      <td>3.000000</td>\n",
       "      <td>2.800000</td>\n",
       "      <td>16.000000</td>\n",
       "      <td>42.300000</td>\n",
       "      <td>8.000000</td>\n",
       "      <td>12.000000</td>\n",
       "      <td>2.000000</td>\n",
       "      <td>37273.000000</td>\n",
       "      <td>16293.000000</td>\n",
       "      <td>1.000000</td>\n",
       "      <td>612.000000</td>\n",
       "      <td>1.000000</td>\n",
       "      <td>729.000000</td>\n",
       "      <td>232.000000</td>\n",
       "    </tr>\n",
       "    <tr>\n",
       "      <th>max</th>\n",
       "      <td>50.000000</td>\n",
       "      <td>7.630000e+08</td>\n",
       "      <td>900.000000</td>\n",
       "      <td>19.000000</td>\n",
       "      <td>100.000000</td>\n",
       "      <td>60.000000</td>\n",
       "      <td>409.700000</td>\n",
       "      <td>33.000000</td>\n",
       "      <td>112.000000</td>\n",
       "      <td>5.000000</td>\n",
       "      <td>84869.000000</td>\n",
       "      <td>65968.000000</td>\n",
       "      <td>3.000000</td>\n",
       "      <td>3190.000000</td>\n",
       "      <td>3.000000</td>\n",
       "      <td>1344.000000</td>\n",
       "      <td>1580.000000</td>\n",
       "    </tr>\n",
       "  </tbody>\n",
       "</table>\n",
       "</div>"
      ],
      "text/plain": [
       "       total_images    last_price    total_area         rooms  ceiling_height  \\\n",
       "count  23699.000000  2.369900e+04  23699.000000  23699.000000    14504.000000   \n",
       "mean       9.858475  6.541549e+06     60.348651      2.070636        2.771499   \n",
       "std        5.682529  1.088701e+07     35.654083      1.078405        1.261056   \n",
       "min        0.000000  1.219000e+04     12.000000      0.000000        1.000000   \n",
       "25%        6.000000  3.400000e+06     40.000000      1.000000        2.520000   \n",
       "50%        9.000000  4.650000e+06     52.000000      2.000000        2.650000   \n",
       "75%       14.000000  6.800000e+06     69.900000      3.000000        2.800000   \n",
       "max       50.000000  7.630000e+08    900.000000     19.000000      100.000000   \n",
       "\n",
       "       floors_total   living_area         floor  kitchen_area       balcony  \\\n",
       "count  23613.000000  21796.000000  23699.000000  21421.000000  12180.000000   \n",
       "mean      10.673824     34.457852      5.892358     10.569807      1.150082   \n",
       "std        6.597173     22.030445      4.885249      5.905438      1.071300   \n",
       "min        1.000000      2.000000      1.000000      1.300000      0.000000   \n",
       "25%        5.000000     18.600000      2.000000      7.000000      0.000000   \n",
       "50%        9.000000     30.000000      4.000000      9.100000      1.000000   \n",
       "75%       16.000000     42.300000      8.000000     12.000000      2.000000   \n",
       "max       60.000000    409.700000     33.000000    112.000000      5.000000   \n",
       "\n",
       "       airports_nearest  cityCenters_nearest  parks_around3000  parks_nearest  \\\n",
       "count      18157.000000         18180.000000      18181.000000    8079.000000   \n",
       "mean       28793.672193         14191.277833          0.611408     490.804555   \n",
       "std        12630.880622          8608.386210          0.802074     342.317995   \n",
       "min            0.000000           181.000000          0.000000       1.000000   \n",
       "25%        18585.000000          9238.000000          0.000000     288.000000   \n",
       "50%        26726.000000         13098.500000          0.000000     455.000000   \n",
       "75%        37273.000000         16293.000000          1.000000     612.000000   \n",
       "max        84869.000000         65968.000000          3.000000    3190.000000   \n",
       "\n",
       "       ponds_around3000  ponds_nearest  days_exposition  \n",
       "count      18181.000000    9110.000000     20518.000000  \n",
       "mean           0.770255     517.980900       180.888634  \n",
       "std            0.938346     277.720643       219.727988  \n",
       "min            0.000000      13.000000         1.000000  \n",
       "25%            0.000000     294.000000        45.000000  \n",
       "50%            1.000000     502.000000        95.000000  \n",
       "75%            1.000000     729.000000       232.000000  \n",
       "max            3.000000    1344.000000      1580.000000  "
      ]
     },
     "execution_count": 3,
     "metadata": {},
     "output_type": "execute_result"
    }
   ],
   "source": [
    "data.describe()"
   ]
  },
  {
   "cell_type": "code",
   "execution_count": 4,
   "metadata": {},
   "outputs": [
    {
     "data": {
      "text/html": [
       "<div>\n",
       "<style scoped>\n",
       "    .dataframe tbody tr th:only-of-type {\n",
       "        vertical-align: middle;\n",
       "    }\n",
       "\n",
       "    .dataframe tbody tr th {\n",
       "        vertical-align: top;\n",
       "    }\n",
       "\n",
       "    .dataframe thead th {\n",
       "        text-align: right;\n",
       "    }\n",
       "</style>\n",
       "<table border=\"1\" class=\"dataframe\">\n",
       "  <thead>\n",
       "    <tr style=\"text-align: right;\">\n",
       "      <th></th>\n",
       "      <th>total_images</th>\n",
       "      <th>last_price</th>\n",
       "      <th>total_area</th>\n",
       "      <th>first_day_exposition</th>\n",
       "      <th>rooms</th>\n",
       "      <th>ceiling_height</th>\n",
       "      <th>floors_total</th>\n",
       "      <th>living_area</th>\n",
       "      <th>floor</th>\n",
       "      <th>is_apartment</th>\n",
       "      <th>...</th>\n",
       "      <th>kitchen_area</th>\n",
       "      <th>balcony</th>\n",
       "      <th>locality_name</th>\n",
       "      <th>airports_nearest</th>\n",
       "      <th>cityCenters_nearest</th>\n",
       "      <th>parks_around3000</th>\n",
       "      <th>parks_nearest</th>\n",
       "      <th>ponds_around3000</th>\n",
       "      <th>ponds_nearest</th>\n",
       "      <th>days_exposition</th>\n",
       "    </tr>\n",
       "  </thead>\n",
       "  <tbody>\n",
       "    <tr>\n",
       "      <th>0</th>\n",
       "      <td>20</td>\n",
       "      <td>13000000.0</td>\n",
       "      <td>108.00</td>\n",
       "      <td>2019-03-07T00:00:00</td>\n",
       "      <td>3</td>\n",
       "      <td>2.70</td>\n",
       "      <td>16.0</td>\n",
       "      <td>51.00</td>\n",
       "      <td>8</td>\n",
       "      <td>NaN</td>\n",
       "      <td>...</td>\n",
       "      <td>25.00</td>\n",
       "      <td>NaN</td>\n",
       "      <td>Санкт-Петербург</td>\n",
       "      <td>18863.0</td>\n",
       "      <td>16028.0</td>\n",
       "      <td>1.0</td>\n",
       "      <td>482.0</td>\n",
       "      <td>2.0</td>\n",
       "      <td>755.0</td>\n",
       "      <td>NaN</td>\n",
       "    </tr>\n",
       "    <tr>\n",
       "      <th>1</th>\n",
       "      <td>7</td>\n",
       "      <td>3350000.0</td>\n",
       "      <td>40.40</td>\n",
       "      <td>2018-12-04T00:00:00</td>\n",
       "      <td>1</td>\n",
       "      <td>NaN</td>\n",
       "      <td>11.0</td>\n",
       "      <td>18.60</td>\n",
       "      <td>1</td>\n",
       "      <td>NaN</td>\n",
       "      <td>...</td>\n",
       "      <td>11.00</td>\n",
       "      <td>2.0</td>\n",
       "      <td>посёлок Шушары</td>\n",
       "      <td>12817.0</td>\n",
       "      <td>18603.0</td>\n",
       "      <td>0.0</td>\n",
       "      <td>NaN</td>\n",
       "      <td>0.0</td>\n",
       "      <td>NaN</td>\n",
       "      <td>81.0</td>\n",
       "    </tr>\n",
       "    <tr>\n",
       "      <th>2</th>\n",
       "      <td>10</td>\n",
       "      <td>5196000.0</td>\n",
       "      <td>56.00</td>\n",
       "      <td>2015-08-20T00:00:00</td>\n",
       "      <td>2</td>\n",
       "      <td>NaN</td>\n",
       "      <td>5.0</td>\n",
       "      <td>34.30</td>\n",
       "      <td>4</td>\n",
       "      <td>NaN</td>\n",
       "      <td>...</td>\n",
       "      <td>8.30</td>\n",
       "      <td>0.0</td>\n",
       "      <td>Санкт-Петербург</td>\n",
       "      <td>21741.0</td>\n",
       "      <td>13933.0</td>\n",
       "      <td>1.0</td>\n",
       "      <td>90.0</td>\n",
       "      <td>2.0</td>\n",
       "      <td>574.0</td>\n",
       "      <td>558.0</td>\n",
       "    </tr>\n",
       "    <tr>\n",
       "      <th>3</th>\n",
       "      <td>0</td>\n",
       "      <td>64900000.0</td>\n",
       "      <td>159.00</td>\n",
       "      <td>2015-07-24T00:00:00</td>\n",
       "      <td>3</td>\n",
       "      <td>NaN</td>\n",
       "      <td>14.0</td>\n",
       "      <td>NaN</td>\n",
       "      <td>9</td>\n",
       "      <td>NaN</td>\n",
       "      <td>...</td>\n",
       "      <td>NaN</td>\n",
       "      <td>0.0</td>\n",
       "      <td>Санкт-Петербург</td>\n",
       "      <td>28098.0</td>\n",
       "      <td>6800.0</td>\n",
       "      <td>2.0</td>\n",
       "      <td>84.0</td>\n",
       "      <td>3.0</td>\n",
       "      <td>234.0</td>\n",
       "      <td>424.0</td>\n",
       "    </tr>\n",
       "    <tr>\n",
       "      <th>4</th>\n",
       "      <td>2</td>\n",
       "      <td>10000000.0</td>\n",
       "      <td>100.00</td>\n",
       "      <td>2018-06-19T00:00:00</td>\n",
       "      <td>2</td>\n",
       "      <td>3.03</td>\n",
       "      <td>14.0</td>\n",
       "      <td>32.00</td>\n",
       "      <td>13</td>\n",
       "      <td>NaN</td>\n",
       "      <td>...</td>\n",
       "      <td>41.00</td>\n",
       "      <td>NaN</td>\n",
       "      <td>Санкт-Петербург</td>\n",
       "      <td>31856.0</td>\n",
       "      <td>8098.0</td>\n",
       "      <td>2.0</td>\n",
       "      <td>112.0</td>\n",
       "      <td>1.0</td>\n",
       "      <td>48.0</td>\n",
       "      <td>121.0</td>\n",
       "    </tr>\n",
       "    <tr>\n",
       "      <th>5</th>\n",
       "      <td>10</td>\n",
       "      <td>2890000.0</td>\n",
       "      <td>30.40</td>\n",
       "      <td>2018-09-10T00:00:00</td>\n",
       "      <td>1</td>\n",
       "      <td>NaN</td>\n",
       "      <td>12.0</td>\n",
       "      <td>14.40</td>\n",
       "      <td>5</td>\n",
       "      <td>NaN</td>\n",
       "      <td>...</td>\n",
       "      <td>9.10</td>\n",
       "      <td>NaN</td>\n",
       "      <td>городской посёлок Янино-1</td>\n",
       "      <td>NaN</td>\n",
       "      <td>NaN</td>\n",
       "      <td>NaN</td>\n",
       "      <td>NaN</td>\n",
       "      <td>NaN</td>\n",
       "      <td>NaN</td>\n",
       "      <td>55.0</td>\n",
       "    </tr>\n",
       "    <tr>\n",
       "      <th>6</th>\n",
       "      <td>6</td>\n",
       "      <td>3700000.0</td>\n",
       "      <td>37.30</td>\n",
       "      <td>2017-11-02T00:00:00</td>\n",
       "      <td>1</td>\n",
       "      <td>NaN</td>\n",
       "      <td>26.0</td>\n",
       "      <td>10.60</td>\n",
       "      <td>6</td>\n",
       "      <td>NaN</td>\n",
       "      <td>...</td>\n",
       "      <td>14.40</td>\n",
       "      <td>1.0</td>\n",
       "      <td>посёлок Парголово</td>\n",
       "      <td>52996.0</td>\n",
       "      <td>19143.0</td>\n",
       "      <td>0.0</td>\n",
       "      <td>NaN</td>\n",
       "      <td>0.0</td>\n",
       "      <td>NaN</td>\n",
       "      <td>155.0</td>\n",
       "    </tr>\n",
       "    <tr>\n",
       "      <th>7</th>\n",
       "      <td>5</td>\n",
       "      <td>7915000.0</td>\n",
       "      <td>71.60</td>\n",
       "      <td>2019-04-18T00:00:00</td>\n",
       "      <td>2</td>\n",
       "      <td>NaN</td>\n",
       "      <td>24.0</td>\n",
       "      <td>NaN</td>\n",
       "      <td>22</td>\n",
       "      <td>NaN</td>\n",
       "      <td>...</td>\n",
       "      <td>18.90</td>\n",
       "      <td>2.0</td>\n",
       "      <td>Санкт-Петербург</td>\n",
       "      <td>23982.0</td>\n",
       "      <td>11634.0</td>\n",
       "      <td>0.0</td>\n",
       "      <td>NaN</td>\n",
       "      <td>0.0</td>\n",
       "      <td>NaN</td>\n",
       "      <td>NaN</td>\n",
       "    </tr>\n",
       "    <tr>\n",
       "      <th>8</th>\n",
       "      <td>20</td>\n",
       "      <td>2900000.0</td>\n",
       "      <td>33.16</td>\n",
       "      <td>2018-05-23T00:00:00</td>\n",
       "      <td>1</td>\n",
       "      <td>NaN</td>\n",
       "      <td>27.0</td>\n",
       "      <td>15.43</td>\n",
       "      <td>26</td>\n",
       "      <td>NaN</td>\n",
       "      <td>...</td>\n",
       "      <td>8.81</td>\n",
       "      <td>NaN</td>\n",
       "      <td>посёлок Мурино</td>\n",
       "      <td>NaN</td>\n",
       "      <td>NaN</td>\n",
       "      <td>NaN</td>\n",
       "      <td>NaN</td>\n",
       "      <td>NaN</td>\n",
       "      <td>NaN</td>\n",
       "      <td>189.0</td>\n",
       "    </tr>\n",
       "    <tr>\n",
       "      <th>9</th>\n",
       "      <td>18</td>\n",
       "      <td>5400000.0</td>\n",
       "      <td>61.00</td>\n",
       "      <td>2017-02-26T00:00:00</td>\n",
       "      <td>3</td>\n",
       "      <td>2.50</td>\n",
       "      <td>9.0</td>\n",
       "      <td>43.60</td>\n",
       "      <td>7</td>\n",
       "      <td>NaN</td>\n",
       "      <td>...</td>\n",
       "      <td>6.50</td>\n",
       "      <td>2.0</td>\n",
       "      <td>Санкт-Петербург</td>\n",
       "      <td>50898.0</td>\n",
       "      <td>15008.0</td>\n",
       "      <td>0.0</td>\n",
       "      <td>NaN</td>\n",
       "      <td>0.0</td>\n",
       "      <td>NaN</td>\n",
       "      <td>289.0</td>\n",
       "    </tr>\n",
       "    <tr>\n",
       "      <th>10</th>\n",
       "      <td>5</td>\n",
       "      <td>5050000.0</td>\n",
       "      <td>39.60</td>\n",
       "      <td>2017-11-16T00:00:00</td>\n",
       "      <td>1</td>\n",
       "      <td>2.67</td>\n",
       "      <td>12.0</td>\n",
       "      <td>20.30</td>\n",
       "      <td>3</td>\n",
       "      <td>NaN</td>\n",
       "      <td>...</td>\n",
       "      <td>8.50</td>\n",
       "      <td>NaN</td>\n",
       "      <td>Санкт-Петербург</td>\n",
       "      <td>38357.0</td>\n",
       "      <td>13878.0</td>\n",
       "      <td>1.0</td>\n",
       "      <td>310.0</td>\n",
       "      <td>2.0</td>\n",
       "      <td>553.0</td>\n",
       "      <td>137.0</td>\n",
       "    </tr>\n",
       "    <tr>\n",
       "      <th>11</th>\n",
       "      <td>9</td>\n",
       "      <td>3300000.0</td>\n",
       "      <td>44.00</td>\n",
       "      <td>2018-08-27T00:00:00</td>\n",
       "      <td>2</td>\n",
       "      <td>NaN</td>\n",
       "      <td>5.0</td>\n",
       "      <td>31.00</td>\n",
       "      <td>4</td>\n",
       "      <td>False</td>\n",
       "      <td>...</td>\n",
       "      <td>6.00</td>\n",
       "      <td>1.0</td>\n",
       "      <td>Ломоносов</td>\n",
       "      <td>48252.0</td>\n",
       "      <td>51677.0</td>\n",
       "      <td>0.0</td>\n",
       "      <td>NaN</td>\n",
       "      <td>0.0</td>\n",
       "      <td>NaN</td>\n",
       "      <td>7.0</td>\n",
       "    </tr>\n",
       "    <tr>\n",
       "      <th>12</th>\n",
       "      <td>10</td>\n",
       "      <td>3890000.0</td>\n",
       "      <td>54.00</td>\n",
       "      <td>2016-06-30T00:00:00</td>\n",
       "      <td>2</td>\n",
       "      <td>NaN</td>\n",
       "      <td>5.0</td>\n",
       "      <td>30.00</td>\n",
       "      <td>5</td>\n",
       "      <td>NaN</td>\n",
       "      <td>...</td>\n",
       "      <td>9.00</td>\n",
       "      <td>0.0</td>\n",
       "      <td>Сертолово</td>\n",
       "      <td>NaN</td>\n",
       "      <td>NaN</td>\n",
       "      <td>NaN</td>\n",
       "      <td>NaN</td>\n",
       "      <td>NaN</td>\n",
       "      <td>NaN</td>\n",
       "      <td>90.0</td>\n",
       "    </tr>\n",
       "    <tr>\n",
       "      <th>13</th>\n",
       "      <td>20</td>\n",
       "      <td>3550000.0</td>\n",
       "      <td>42.80</td>\n",
       "      <td>2017-07-01T00:00:00</td>\n",
       "      <td>2</td>\n",
       "      <td>2.56</td>\n",
       "      <td>5.0</td>\n",
       "      <td>27.00</td>\n",
       "      <td>5</td>\n",
       "      <td>NaN</td>\n",
       "      <td>...</td>\n",
       "      <td>5.20</td>\n",
       "      <td>1.0</td>\n",
       "      <td>Петергоф</td>\n",
       "      <td>37868.0</td>\n",
       "      <td>33058.0</td>\n",
       "      <td>1.0</td>\n",
       "      <td>294.0</td>\n",
       "      <td>3.0</td>\n",
       "      <td>298.0</td>\n",
       "      <td>366.0</td>\n",
       "    </tr>\n",
       "    <tr>\n",
       "      <th>14</th>\n",
       "      <td>1</td>\n",
       "      <td>4400000.0</td>\n",
       "      <td>36.00</td>\n",
       "      <td>2016-06-23T00:00:00</td>\n",
       "      <td>1</td>\n",
       "      <td>NaN</td>\n",
       "      <td>6.0</td>\n",
       "      <td>17.00</td>\n",
       "      <td>1</td>\n",
       "      <td>NaN</td>\n",
       "      <td>...</td>\n",
       "      <td>8.00</td>\n",
       "      <td>0.0</td>\n",
       "      <td>Пушкин</td>\n",
       "      <td>20782.0</td>\n",
       "      <td>30759.0</td>\n",
       "      <td>0.0</td>\n",
       "      <td>NaN</td>\n",
       "      <td>1.0</td>\n",
       "      <td>96.0</td>\n",
       "      <td>203.0</td>\n",
       "    </tr>\n",
       "    <tr>\n",
       "      <th>15</th>\n",
       "      <td>16</td>\n",
       "      <td>4650000.0</td>\n",
       "      <td>39.00</td>\n",
       "      <td>2017-11-18T00:00:00</td>\n",
       "      <td>1</td>\n",
       "      <td>NaN</td>\n",
       "      <td>14.0</td>\n",
       "      <td>20.50</td>\n",
       "      <td>5</td>\n",
       "      <td>NaN</td>\n",
       "      <td>...</td>\n",
       "      <td>7.60</td>\n",
       "      <td>1.0</td>\n",
       "      <td>Санкт-Петербург</td>\n",
       "      <td>12900.0</td>\n",
       "      <td>14259.0</td>\n",
       "      <td>1.0</td>\n",
       "      <td>590.0</td>\n",
       "      <td>1.0</td>\n",
       "      <td>296.0</td>\n",
       "      <td>19.0</td>\n",
       "    </tr>\n",
       "    <tr>\n",
       "      <th>16</th>\n",
       "      <td>11</td>\n",
       "      <td>6700000.0</td>\n",
       "      <td>82.00</td>\n",
       "      <td>2017-11-23T00:00:00</td>\n",
       "      <td>3</td>\n",
       "      <td>3.05</td>\n",
       "      <td>5.0</td>\n",
       "      <td>55.60</td>\n",
       "      <td>1</td>\n",
       "      <td>NaN</td>\n",
       "      <td>...</td>\n",
       "      <td>9.00</td>\n",
       "      <td>NaN</td>\n",
       "      <td>Санкт-Петербург</td>\n",
       "      <td>22108.0</td>\n",
       "      <td>10698.0</td>\n",
       "      <td>3.0</td>\n",
       "      <td>420.0</td>\n",
       "      <td>0.0</td>\n",
       "      <td>NaN</td>\n",
       "      <td>397.0</td>\n",
       "    </tr>\n",
       "    <tr>\n",
       "      <th>17</th>\n",
       "      <td>6</td>\n",
       "      <td>4180000.0</td>\n",
       "      <td>36.00</td>\n",
       "      <td>2016-09-09T00:00:00</td>\n",
       "      <td>1</td>\n",
       "      <td>NaN</td>\n",
       "      <td>17.0</td>\n",
       "      <td>16.50</td>\n",
       "      <td>7</td>\n",
       "      <td>NaN</td>\n",
       "      <td>...</td>\n",
       "      <td>11.00</td>\n",
       "      <td>1.0</td>\n",
       "      <td>Санкт-Петербург</td>\n",
       "      <td>33564.0</td>\n",
       "      <td>14616.0</td>\n",
       "      <td>0.0</td>\n",
       "      <td>NaN</td>\n",
       "      <td>1.0</td>\n",
       "      <td>859.0</td>\n",
       "      <td>571.0</td>\n",
       "    </tr>\n",
       "    <tr>\n",
       "      <th>18</th>\n",
       "      <td>8</td>\n",
       "      <td>3250000.0</td>\n",
       "      <td>31.00</td>\n",
       "      <td>2017-01-27T00:00:00</td>\n",
       "      <td>1</td>\n",
       "      <td>2.50</td>\n",
       "      <td>5.0</td>\n",
       "      <td>19.40</td>\n",
       "      <td>2</td>\n",
       "      <td>NaN</td>\n",
       "      <td>...</td>\n",
       "      <td>5.60</td>\n",
       "      <td>1.0</td>\n",
       "      <td>Санкт-Петербург</td>\n",
       "      <td>44060.0</td>\n",
       "      <td>10842.0</td>\n",
       "      <td>1.0</td>\n",
       "      <td>759.0</td>\n",
       "      <td>0.0</td>\n",
       "      <td>NaN</td>\n",
       "      <td>168.0</td>\n",
       "    </tr>\n",
       "    <tr>\n",
       "      <th>19</th>\n",
       "      <td>16</td>\n",
       "      <td>14200000.0</td>\n",
       "      <td>121.00</td>\n",
       "      <td>2019-01-09T00:00:00</td>\n",
       "      <td>3</td>\n",
       "      <td>2.75</td>\n",
       "      <td>16.0</td>\n",
       "      <td>76.00</td>\n",
       "      <td>8</td>\n",
       "      <td>NaN</td>\n",
       "      <td>...</td>\n",
       "      <td>12.00</td>\n",
       "      <td>NaN</td>\n",
       "      <td>Санкт-Петербург</td>\n",
       "      <td>38900.0</td>\n",
       "      <td>12843.0</td>\n",
       "      <td>0.0</td>\n",
       "      <td>NaN</td>\n",
       "      <td>0.0</td>\n",
       "      <td>NaN</td>\n",
       "      <td>97.0</td>\n",
       "    </tr>\n",
       "  </tbody>\n",
       "</table>\n",
       "<p>20 rows × 22 columns</p>\n",
       "</div>"
      ],
      "text/plain": [
       "    total_images  last_price  total_area first_day_exposition  rooms  \\\n",
       "0             20  13000000.0      108.00  2019-03-07T00:00:00      3   \n",
       "1              7   3350000.0       40.40  2018-12-04T00:00:00      1   \n",
       "2             10   5196000.0       56.00  2015-08-20T00:00:00      2   \n",
       "3              0  64900000.0      159.00  2015-07-24T00:00:00      3   \n",
       "4              2  10000000.0      100.00  2018-06-19T00:00:00      2   \n",
       "5             10   2890000.0       30.40  2018-09-10T00:00:00      1   \n",
       "6              6   3700000.0       37.30  2017-11-02T00:00:00      1   \n",
       "7              5   7915000.0       71.60  2019-04-18T00:00:00      2   \n",
       "8             20   2900000.0       33.16  2018-05-23T00:00:00      1   \n",
       "9             18   5400000.0       61.00  2017-02-26T00:00:00      3   \n",
       "10             5   5050000.0       39.60  2017-11-16T00:00:00      1   \n",
       "11             9   3300000.0       44.00  2018-08-27T00:00:00      2   \n",
       "12            10   3890000.0       54.00  2016-06-30T00:00:00      2   \n",
       "13            20   3550000.0       42.80  2017-07-01T00:00:00      2   \n",
       "14             1   4400000.0       36.00  2016-06-23T00:00:00      1   \n",
       "15            16   4650000.0       39.00  2017-11-18T00:00:00      1   \n",
       "16            11   6700000.0       82.00  2017-11-23T00:00:00      3   \n",
       "17             6   4180000.0       36.00  2016-09-09T00:00:00      1   \n",
       "18             8   3250000.0       31.00  2017-01-27T00:00:00      1   \n",
       "19            16  14200000.0      121.00  2019-01-09T00:00:00      3   \n",
       "\n",
       "    ceiling_height  floors_total  living_area  floor is_apartment  ...  \\\n",
       "0             2.70          16.0        51.00      8          NaN  ...   \n",
       "1              NaN          11.0        18.60      1          NaN  ...   \n",
       "2              NaN           5.0        34.30      4          NaN  ...   \n",
       "3              NaN          14.0          NaN      9          NaN  ...   \n",
       "4             3.03          14.0        32.00     13          NaN  ...   \n",
       "5              NaN          12.0        14.40      5          NaN  ...   \n",
       "6              NaN          26.0        10.60      6          NaN  ...   \n",
       "7              NaN          24.0          NaN     22          NaN  ...   \n",
       "8              NaN          27.0        15.43     26          NaN  ...   \n",
       "9             2.50           9.0        43.60      7          NaN  ...   \n",
       "10            2.67          12.0        20.30      3          NaN  ...   \n",
       "11             NaN           5.0        31.00      4        False  ...   \n",
       "12             NaN           5.0        30.00      5          NaN  ...   \n",
       "13            2.56           5.0        27.00      5          NaN  ...   \n",
       "14             NaN           6.0        17.00      1          NaN  ...   \n",
       "15             NaN          14.0        20.50      5          NaN  ...   \n",
       "16            3.05           5.0        55.60      1          NaN  ...   \n",
       "17             NaN          17.0        16.50      7          NaN  ...   \n",
       "18            2.50           5.0        19.40      2          NaN  ...   \n",
       "19            2.75          16.0        76.00      8          NaN  ...   \n",
       "\n",
       "    kitchen_area  balcony              locality_name  airports_nearest  \\\n",
       "0          25.00      NaN            Санкт-Петербург           18863.0   \n",
       "1          11.00      2.0             посёлок Шушары           12817.0   \n",
       "2           8.30      0.0            Санкт-Петербург           21741.0   \n",
       "3            NaN      0.0            Санкт-Петербург           28098.0   \n",
       "4          41.00      NaN            Санкт-Петербург           31856.0   \n",
       "5           9.10      NaN  городской посёлок Янино-1               NaN   \n",
       "6          14.40      1.0          посёлок Парголово           52996.0   \n",
       "7          18.90      2.0            Санкт-Петербург           23982.0   \n",
       "8           8.81      NaN             посёлок Мурино               NaN   \n",
       "9           6.50      2.0            Санкт-Петербург           50898.0   \n",
       "10          8.50      NaN            Санкт-Петербург           38357.0   \n",
       "11          6.00      1.0                  Ломоносов           48252.0   \n",
       "12          9.00      0.0                  Сертолово               NaN   \n",
       "13          5.20      1.0                   Петергоф           37868.0   \n",
       "14          8.00      0.0                     Пушкин           20782.0   \n",
       "15          7.60      1.0            Санкт-Петербург           12900.0   \n",
       "16          9.00      NaN            Санкт-Петербург           22108.0   \n",
       "17         11.00      1.0            Санкт-Петербург           33564.0   \n",
       "18          5.60      1.0            Санкт-Петербург           44060.0   \n",
       "19         12.00      NaN            Санкт-Петербург           38900.0   \n",
       "\n",
       "   cityCenters_nearest  parks_around3000  parks_nearest  ponds_around3000  \\\n",
       "0              16028.0               1.0          482.0               2.0   \n",
       "1              18603.0               0.0            NaN               0.0   \n",
       "2              13933.0               1.0           90.0               2.0   \n",
       "3               6800.0               2.0           84.0               3.0   \n",
       "4               8098.0               2.0          112.0               1.0   \n",
       "5                  NaN               NaN            NaN               NaN   \n",
       "6              19143.0               0.0            NaN               0.0   \n",
       "7              11634.0               0.0            NaN               0.0   \n",
       "8                  NaN               NaN            NaN               NaN   \n",
       "9              15008.0               0.0            NaN               0.0   \n",
       "10             13878.0               1.0          310.0               2.0   \n",
       "11             51677.0               0.0            NaN               0.0   \n",
       "12                 NaN               NaN            NaN               NaN   \n",
       "13             33058.0               1.0          294.0               3.0   \n",
       "14             30759.0               0.0            NaN               1.0   \n",
       "15             14259.0               1.0          590.0               1.0   \n",
       "16             10698.0               3.0          420.0               0.0   \n",
       "17             14616.0               0.0            NaN               1.0   \n",
       "18             10842.0               1.0          759.0               0.0   \n",
       "19             12843.0               0.0            NaN               0.0   \n",
       "\n",
       "    ponds_nearest  days_exposition  \n",
       "0           755.0              NaN  \n",
       "1             NaN             81.0  \n",
       "2           574.0            558.0  \n",
       "3           234.0            424.0  \n",
       "4            48.0            121.0  \n",
       "5             NaN             55.0  \n",
       "6             NaN            155.0  \n",
       "7             NaN              NaN  \n",
       "8             NaN            189.0  \n",
       "9             NaN            289.0  \n",
       "10          553.0            137.0  \n",
       "11            NaN              7.0  \n",
       "12            NaN             90.0  \n",
       "13          298.0            366.0  \n",
       "14           96.0            203.0  \n",
       "15          296.0             19.0  \n",
       "16            NaN            397.0  \n",
       "17          859.0            571.0  \n",
       "18            NaN            168.0  \n",
       "19            NaN             97.0  \n",
       "\n",
       "[20 rows x 22 columns]"
      ]
     },
     "execution_count": 4,
     "metadata": {},
     "output_type": "execute_result"
    }
   ],
   "source": [
    "data.head(20)"
   ]
  },
  {
   "cell_type": "code",
   "execution_count": 5,
   "metadata": {},
   "outputs": [
    {
     "data": {
      "image/png": "[encoded data removed]",
      "text/plain": [
       "<Figure size 1080x1440 with 20 Axes>"
      ]
     },
     "metadata": {
      "needs_background": "light"
     },
     "output_type": "display_data"
    }
   ],
   "source": [
    "data.hist(figsize=(15, 20));"
   ]
  },
  {
   "cell_type": "markdown",
   "metadata": {},
   "source": [
    "### Предобработка данных"
   ]
  },
  {
   "cell_type": "markdown",
   "metadata": {},
   "source": [
    "Посмотрим, где имеются пропуски данных."
   ]
  },
  {
   "cell_type": "code",
   "execution_count": 6,
   "metadata": {
    "scrolled": true
   },
   "outputs": [
    {
     "data": {
      "text/plain": [
       "total_images                0\n",
       "last_price                  0\n",
       "total_area                  0\n",
       "first_day_exposition        0\n",
       "rooms                       0\n",
       "ceiling_height           9195\n",
       "floors_total               86\n",
       "living_area              1903\n",
       "floor                       0\n",
       "is_apartment            20924\n",
       "studio                      0\n",
       "open_plan                   0\n",
       "kitchen_area             2278\n",
       "balcony                 11519\n",
       "locality_name              49\n",
       "airports_nearest         5542\n",
       "cityCenters_nearest      5519\n",
       "parks_around3000         5518\n",
       "parks_nearest           15620\n",
       "ponds_around3000         5518\n",
       "ponds_nearest           14589\n",
       "days_exposition          3181\n",
       "dtype: int64"
      ]
     },
     "execution_count": 6,
     "metadata": {},
     "output_type": "execute_result"
    }
   ],
   "source": [
    "data.isnull().sum()"
   ]
  },
  {
   "cell_type": "markdown",
   "metadata": {},
   "source": [
    "По 14 параметрам видим проблемы, бросаются в глаза большие пропуски в признаке апартаментов(20924), наличие или отсутствие балконов(11519), и наличие пропусков в данных, зависящих от карт и геолокации(последние 7 столбцов), что может говорить о проблемах с этими картами."
   ]
  },
  {
   "cell_type": "markdown",
   "metadata": {},
   "source": [
    "Изучим высоту потолков, чтобы понять на что менять пустые значения.Медианное значение по выборке (2,65м) укладывается в наиболее применяемые строительные нормы 2,5-2,7м. Но тут же мы видим странности по наличию потолков высотой 1м. и даже 100м., что явно не корректные данные и надо их исправить."
   ]
  },
  {
   "cell_type": "code",
   "execution_count": 7,
   "metadata": {},
   "outputs": [
    {
     "data": {
      "text/plain": [
       "count    14504.000000\n",
       "mean         2.771499\n",
       "std          1.261056\n",
       "min          1.000000\n",
       "25%          2.520000\n",
       "50%          2.650000\n",
       "75%          2.800000\n",
       "max        100.000000\n",
       "Name: ceiling_height, dtype: float64"
      ]
     },
     "execution_count": 7,
     "metadata": {},
     "output_type": "execute_result"
    }
   ],
   "source": [
    "data.ceiling_height.describe()"
   ]
  },
  {
   "cell_type": "code",
   "execution_count": 8,
   "metadata": {},
   "outputs": [
    {
     "data": {
      "text/plain": [
       "array([  2.7 ,    nan,   3.03,   2.5 ,   2.67,   2.56,   3.05,   2.75,\n",
       "         2.6 ,   2.9 ,   2.8 ,   2.55,   3.  ,   2.65,   3.2 ,   2.61,\n",
       "         3.25,   3.45,   2.77,   2.85,   2.64,   2.57,   4.15,   3.5 ,\n",
       "         3.3 ,   2.71,   4.  ,   2.47,   2.73,   2.84,   3.1 ,   2.34,\n",
       "         3.4 ,   3.06,   2.72,   2.54,   2.51,   2.78,   2.76,  25.  ,\n",
       "         2.58,   3.7 ,   2.52,   5.2 ,   2.87,   2.66,   2.59,   2.  ,\n",
       "         2.45,   3.6 ,   2.92,   3.11,   3.13,   3.8 ,   3.15,   3.55,\n",
       "         3.16,   3.62,   3.12,   2.53,   2.74,   2.96,   2.46,   5.3 ,\n",
       "         5.  ,   2.79,   2.95,   4.06,   2.94,   3.82,   3.54,   3.53,\n",
       "         2.83,   4.7 ,   2.4 ,   3.38,   3.01,   5.6 ,   3.65,   3.9 ,\n",
       "         3.18,   3.35,   2.3 ,   3.57,   2.48,   2.62,   2.82,   3.98,\n",
       "         2.63,   3.83,   3.52,   3.95,   3.75,   2.88,   3.67,   3.87,\n",
       "         3.66,   3.85,   3.86,   4.19,   3.24,   4.8 ,   4.5 ,   4.2 ,\n",
       "         3.36,  32.  ,   3.08,   3.68,   3.07,   3.37,   3.09,   8.  ,\n",
       "         3.26,   3.34,   2.81,   3.44,   2.97,   3.14,   4.37,   2.68,\n",
       "         3.22,   3.27,  27.  ,   4.1 ,   2.93,   3.46,  24.  ,   3.47,\n",
       "         3.33,   3.63,   3.32,  26.  ,   1.2 ,   8.3 ,   2.98,   2.86,\n",
       "         3.17,   4.4 ,   3.28,   3.04,   4.45,   5.5 ,   3.84,   3.23,\n",
       "         3.02,   3.21,   3.43,   3.78,   4.3 ,   3.39,   2.69,   3.31,\n",
       "         4.65,   3.56,   2.2 ,   3.51,   3.93,   3.42,   2.99,   3.49,\n",
       "        14.  ,   4.14,   2.91,   3.88,   1.75,   4.25,   3.29,  20.  ,\n",
       "         2.25,   3.76,   3.69,   6.  ,  22.6 ,   2.89,   3.58,   5.8 ,\n",
       "        27.5 ,   2.49,   4.9 ,   3.48,  10.3 ,   1.  , 100.  ,   3.59])"
      ]
     },
     "execution_count": 8,
     "metadata": {},
     "output_type": "execute_result"
    }
   ],
   "source": [
    "data.ceiling_height.unique()"
   ]
  },
  {
   "cell_type": "markdown",
   "metadata": {},
   "source": [
    "Взглянув на уникальные значения по высоте потолков видно,что есть значение и 20,24,27 метров. Посчитаем что это ошибки ввода данных и на самом деле это например 2,0-2,4-2,7."
   ]
  },
  {
   "cell_type": "markdown",
   "metadata": {},
   "source": []
  },
  {
   "cell_type": "code",
   "execution_count": 9,
   "metadata": {},
   "outputs": [
    {
     "data": {
      "text/html": [
       "<div>\n",
       "<style scoped>\n",
       "    .dataframe tbody tr th:only-of-type {\n",
       "        vertical-align: middle;\n",
       "    }\n",
       "\n",
       "    .dataframe tbody tr th {\n",
       "        vertical-align: top;\n",
       "    }\n",
       "\n",
       "    .dataframe thead th {\n",
       "        text-align: right;\n",
       "    }\n",
       "</style>\n",
       "<table border=\"1\" class=\"dataframe\">\n",
       "  <thead>\n",
       "    <tr style=\"text-align: right;\">\n",
       "      <th></th>\n",
       "      <th>total_images</th>\n",
       "      <th>last_price</th>\n",
       "      <th>total_area</th>\n",
       "      <th>first_day_exposition</th>\n",
       "      <th>rooms</th>\n",
       "      <th>ceiling_height</th>\n",
       "      <th>floors_total</th>\n",
       "      <th>living_area</th>\n",
       "      <th>floor</th>\n",
       "      <th>is_apartment</th>\n",
       "      <th>...</th>\n",
       "      <th>kitchen_area</th>\n",
       "      <th>balcony</th>\n",
       "      <th>locality_name</th>\n",
       "      <th>airports_nearest</th>\n",
       "      <th>cityCenters_nearest</th>\n",
       "      <th>parks_around3000</th>\n",
       "      <th>parks_nearest</th>\n",
       "      <th>ponds_around3000</th>\n",
       "      <th>ponds_nearest</th>\n",
       "      <th>days_exposition</th>\n",
       "    </tr>\n",
       "  </thead>\n",
       "  <tbody>\n",
       "    <tr>\n",
       "      <th>22590</th>\n",
       "      <td>16</td>\n",
       "      <td>6000000.0</td>\n",
       "      <td>55.0</td>\n",
       "      <td>2018-10-31T00:00:00</td>\n",
       "      <td>2</td>\n",
       "      <td>1.00</td>\n",
       "      <td>12.0</td>\n",
       "      <td>32.4</td>\n",
       "      <td>7</td>\n",
       "      <td>NaN</td>\n",
       "      <td>...</td>\n",
       "      <td>10.00</td>\n",
       "      <td>NaN</td>\n",
       "      <td>Санкт-Петербург</td>\n",
       "      <td>33053.0</td>\n",
       "      <td>14217.0</td>\n",
       "      <td>2.0</td>\n",
       "      <td>293.0</td>\n",
       "      <td>2.0</td>\n",
       "      <td>289.0</td>\n",
       "      <td>13.0</td>\n",
       "    </tr>\n",
       "    <tr>\n",
       "      <th>5712</th>\n",
       "      <td>5</td>\n",
       "      <td>1500000.0</td>\n",
       "      <td>42.8</td>\n",
       "      <td>2017-08-14T00:00:00</td>\n",
       "      <td>2</td>\n",
       "      <td>1.20</td>\n",
       "      <td>2.0</td>\n",
       "      <td>27.5</td>\n",
       "      <td>1</td>\n",
       "      <td>NaN</td>\n",
       "      <td>...</td>\n",
       "      <td>5.20</td>\n",
       "      <td>NaN</td>\n",
       "      <td>городской посёлок Мга</td>\n",
       "      <td>NaN</td>\n",
       "      <td>NaN</td>\n",
       "      <td>NaN</td>\n",
       "      <td>NaN</td>\n",
       "      <td>NaN</td>\n",
       "      <td>NaN</td>\n",
       "      <td>248.0</td>\n",
       "    </tr>\n",
       "    <tr>\n",
       "      <th>16934</th>\n",
       "      <td>5</td>\n",
       "      <td>4100000.0</td>\n",
       "      <td>40.0</td>\n",
       "      <td>2017-10-17T00:00:00</td>\n",
       "      <td>1</td>\n",
       "      <td>1.75</td>\n",
       "      <td>37.0</td>\n",
       "      <td>17.4</td>\n",
       "      <td>5</td>\n",
       "      <td>NaN</td>\n",
       "      <td>...</td>\n",
       "      <td>8.34</td>\n",
       "      <td>NaN</td>\n",
       "      <td>Санкт-Петербург</td>\n",
       "      <td>18732.0</td>\n",
       "      <td>20444.0</td>\n",
       "      <td>0.0</td>\n",
       "      <td>NaN</td>\n",
       "      <td>3.0</td>\n",
       "      <td>80.0</td>\n",
       "      <td>71.0</td>\n",
       "    </tr>\n",
       "    <tr>\n",
       "      <th>464</th>\n",
       "      <td>15</td>\n",
       "      <td>66571000.0</td>\n",
       "      <td>280.3</td>\n",
       "      <td>2015-06-11T00:00:00</td>\n",
       "      <td>6</td>\n",
       "      <td>5.20</td>\n",
       "      <td>8.0</td>\n",
       "      <td>159.5</td>\n",
       "      <td>7</td>\n",
       "      <td>NaN</td>\n",
       "      <td>...</td>\n",
       "      <td>21.10</td>\n",
       "      <td>0.0</td>\n",
       "      <td>Санкт-Петербург</td>\n",
       "      <td>26316.0</td>\n",
       "      <td>6655.0</td>\n",
       "      <td>3.0</td>\n",
       "      <td>187.0</td>\n",
       "      <td>1.0</td>\n",
       "      <td>616.0</td>\n",
       "      <td>578.0</td>\n",
       "    </tr>\n",
       "    <tr>\n",
       "      <th>12628</th>\n",
       "      <td>14</td>\n",
       "      <td>3900000.0</td>\n",
       "      <td>50.0</td>\n",
       "      <td>2018-03-29T00:00:00</td>\n",
       "      <td>1</td>\n",
       "      <td>5.30</td>\n",
       "      <td>5.0</td>\n",
       "      <td>NaN</td>\n",
       "      <td>5</td>\n",
       "      <td>NaN</td>\n",
       "      <td>...</td>\n",
       "      <td>NaN</td>\n",
       "      <td>NaN</td>\n",
       "      <td>Санкт-Петербург</td>\n",
       "      <td>19644.0</td>\n",
       "      <td>3918.0</td>\n",
       "      <td>1.0</td>\n",
       "      <td>505.0</td>\n",
       "      <td>1.0</td>\n",
       "      <td>92.0</td>\n",
       "      <td>8.0</td>\n",
       "    </tr>\n",
       "    <tr>\n",
       "      <th>1026</th>\n",
       "      <td>20</td>\n",
       "      <td>155000000.0</td>\n",
       "      <td>310.0</td>\n",
       "      <td>2018-10-12T00:00:00</td>\n",
       "      <td>5</td>\n",
       "      <td>5.30</td>\n",
       "      <td>3.0</td>\n",
       "      <td>190.0</td>\n",
       "      <td>3</td>\n",
       "      <td>NaN</td>\n",
       "      <td>...</td>\n",
       "      <td>63.00</td>\n",
       "      <td>2.0</td>\n",
       "      <td>Санкт-Петербург</td>\n",
       "      <td>24899.0</td>\n",
       "      <td>4785.0</td>\n",
       "      <td>0.0</td>\n",
       "      <td>NaN</td>\n",
       "      <td>1.0</td>\n",
       "      <td>603.0</td>\n",
       "      <td>NaN</td>\n",
       "    </tr>\n",
       "    <tr>\n",
       "      <th>7578</th>\n",
       "      <td>17</td>\n",
       "      <td>38000000.0</td>\n",
       "      <td>143.0</td>\n",
       "      <td>2017-11-02T00:00:00</td>\n",
       "      <td>3</td>\n",
       "      <td>5.50</td>\n",
       "      <td>5.0</td>\n",
       "      <td>83.0</td>\n",
       "      <td>5</td>\n",
       "      <td>NaN</td>\n",
       "      <td>...</td>\n",
       "      <td>29.00</td>\n",
       "      <td>1.0</td>\n",
       "      <td>Санкт-Петербург</td>\n",
       "      <td>26333.0</td>\n",
       "      <td>6448.0</td>\n",
       "      <td>3.0</td>\n",
       "      <td>479.0</td>\n",
       "      <td>0.0</td>\n",
       "      <td>NaN</td>\n",
       "      <td>NaN</td>\n",
       "    </tr>\n",
       "    <tr>\n",
       "      <th>1388</th>\n",
       "      <td>20</td>\n",
       "      <td>59800000.0</td>\n",
       "      <td>399.0</td>\n",
       "      <td>2015-01-21T00:00:00</td>\n",
       "      <td>5</td>\n",
       "      <td>5.60</td>\n",
       "      <td>6.0</td>\n",
       "      <td>NaN</td>\n",
       "      <td>6</td>\n",
       "      <td>NaN</td>\n",
       "      <td>...</td>\n",
       "      <td>NaN</td>\n",
       "      <td>0.0</td>\n",
       "      <td>Санкт-Петербург</td>\n",
       "      <td>26204.0</td>\n",
       "      <td>6934.0</td>\n",
       "      <td>2.0</td>\n",
       "      <td>149.0</td>\n",
       "      <td>2.0</td>\n",
       "      <td>577.0</td>\n",
       "      <td>719.0</td>\n",
       "    </tr>\n",
       "    <tr>\n",
       "      <th>21227</th>\n",
       "      <td>0</td>\n",
       "      <td>8200000.0</td>\n",
       "      <td>71.0</td>\n",
       "      <td>2017-07-21T00:00:00</td>\n",
       "      <td>0</td>\n",
       "      <td>5.80</td>\n",
       "      <td>5.0</td>\n",
       "      <td>68.0</td>\n",
       "      <td>5</td>\n",
       "      <td>NaN</td>\n",
       "      <td>...</td>\n",
       "      <td>NaN</td>\n",
       "      <td>0.0</td>\n",
       "      <td>Санкт-Петербург</td>\n",
       "      <td>20170.0</td>\n",
       "      <td>1261.0</td>\n",
       "      <td>2.0</td>\n",
       "      <td>295.0</td>\n",
       "      <td>3.0</td>\n",
       "      <td>366.0</td>\n",
       "      <td>30.0</td>\n",
       "    </tr>\n",
       "    <tr>\n",
       "      <th>20264</th>\n",
       "      <td>17</td>\n",
       "      <td>119000000.0</td>\n",
       "      <td>187.6</td>\n",
       "      <td>2017-07-10T00:00:00</td>\n",
       "      <td>4</td>\n",
       "      <td>6.00</td>\n",
       "      <td>7.0</td>\n",
       "      <td>147.0</td>\n",
       "      <td>7</td>\n",
       "      <td>NaN</td>\n",
       "      <td>...</td>\n",
       "      <td>15.60</td>\n",
       "      <td>NaN</td>\n",
       "      <td>Санкт-Петербург</td>\n",
       "      <td>26902.0</td>\n",
       "      <td>5605.0</td>\n",
       "      <td>3.0</td>\n",
       "      <td>484.0</td>\n",
       "      <td>1.0</td>\n",
       "      <td>305.0</td>\n",
       "      <td>259.0</td>\n",
       "    </tr>\n",
       "    <tr>\n",
       "      <th>3474</th>\n",
       "      <td>3</td>\n",
       "      <td>1400000.0</td>\n",
       "      <td>30.0</td>\n",
       "      <td>2018-03-16T00:00:00</td>\n",
       "      <td>1</td>\n",
       "      <td>8.00</td>\n",
       "      <td>5.0</td>\n",
       "      <td>15.3</td>\n",
       "      <td>2</td>\n",
       "      <td>False</td>\n",
       "      <td>...</td>\n",
       "      <td>7.30</td>\n",
       "      <td>NaN</td>\n",
       "      <td>деревня Нурма</td>\n",
       "      <td>NaN</td>\n",
       "      <td>NaN</td>\n",
       "      <td>NaN</td>\n",
       "      <td>NaN</td>\n",
       "      <td>NaN</td>\n",
       "      <td>NaN</td>\n",
       "      <td>125.0</td>\n",
       "    </tr>\n",
       "    <tr>\n",
       "      <th>15743</th>\n",
       "      <td>14</td>\n",
       "      <td>5600000.0</td>\n",
       "      <td>67.0</td>\n",
       "      <td>2016-11-11T00:00:00</td>\n",
       "      <td>3</td>\n",
       "      <td>8.00</td>\n",
       "      <td>16.0</td>\n",
       "      <td>41.0</td>\n",
       "      <td>1</td>\n",
       "      <td>NaN</td>\n",
       "      <td>...</td>\n",
       "      <td>8.00</td>\n",
       "      <td>NaN</td>\n",
       "      <td>Санкт-Петербург</td>\n",
       "      <td>32691.0</td>\n",
       "      <td>11035.0</td>\n",
       "      <td>1.0</td>\n",
       "      <td>723.0</td>\n",
       "      <td>0.0</td>\n",
       "      <td>NaN</td>\n",
       "      <td>474.0</td>\n",
       "    </tr>\n",
       "    <tr>\n",
       "      <th>17442</th>\n",
       "      <td>0</td>\n",
       "      <td>5350000.0</td>\n",
       "      <td>54.0</td>\n",
       "      <td>2015-06-16T00:00:00</td>\n",
       "      <td>2</td>\n",
       "      <td>8.00</td>\n",
       "      <td>5.0</td>\n",
       "      <td>29.0</td>\n",
       "      <td>2</td>\n",
       "      <td>NaN</td>\n",
       "      <td>...</td>\n",
       "      <td>NaN</td>\n",
       "      <td>1.0</td>\n",
       "      <td>Красное Село</td>\n",
       "      <td>24638.0</td>\n",
       "      <td>28062.0</td>\n",
       "      <td>0.0</td>\n",
       "      <td>NaN</td>\n",
       "      <td>0.0</td>\n",
       "      <td>NaN</td>\n",
       "      <td>469.0</td>\n",
       "    </tr>\n",
       "    <tr>\n",
       "      <th>5863</th>\n",
       "      <td>20</td>\n",
       "      <td>5650000.0</td>\n",
       "      <td>45.0</td>\n",
       "      <td>2018-08-15T00:00:00</td>\n",
       "      <td>1</td>\n",
       "      <td>8.30</td>\n",
       "      <td>16.0</td>\n",
       "      <td>19.3</td>\n",
       "      <td>14</td>\n",
       "      <td>NaN</td>\n",
       "      <td>...</td>\n",
       "      <td>8.30</td>\n",
       "      <td>1.0</td>\n",
       "      <td>Санкт-Петербург</td>\n",
       "      <td>13069.0</td>\n",
       "      <td>10763.0</td>\n",
       "      <td>0.0</td>\n",
       "      <td>NaN</td>\n",
       "      <td>1.0</td>\n",
       "      <td>613.0</td>\n",
       "      <td>14.0</td>\n",
       "    </tr>\n",
       "    <tr>\n",
       "      <th>22309</th>\n",
       "      <td>20</td>\n",
       "      <td>5300000.0</td>\n",
       "      <td>45.0</td>\n",
       "      <td>2017-09-30T00:00:00</td>\n",
       "      <td>1</td>\n",
       "      <td>10.30</td>\n",
       "      <td>16.0</td>\n",
       "      <td>15.5</td>\n",
       "      <td>15</td>\n",
       "      <td>NaN</td>\n",
       "      <td>...</td>\n",
       "      <td>NaN</td>\n",
       "      <td>NaN</td>\n",
       "      <td>Санкт-Петербург</td>\n",
       "      <td>36353.0</td>\n",
       "      <td>11936.0</td>\n",
       "      <td>2.0</td>\n",
       "      <td>440.0</td>\n",
       "      <td>2.0</td>\n",
       "      <td>450.0</td>\n",
       "      <td>136.0</td>\n",
       "    </tr>\n",
       "    <tr>\n",
       "      <th>15061</th>\n",
       "      <td>19</td>\n",
       "      <td>5600000.0</td>\n",
       "      <td>56.4</td>\n",
       "      <td>2018-05-11T00:00:00</td>\n",
       "      <td>2</td>\n",
       "      <td>14.00</td>\n",
       "      <td>14.0</td>\n",
       "      <td>32.4</td>\n",
       "      <td>5</td>\n",
       "      <td>NaN</td>\n",
       "      <td>...</td>\n",
       "      <td>9.10</td>\n",
       "      <td>2.0</td>\n",
       "      <td>Санкт-Петербург</td>\n",
       "      <td>14814.0</td>\n",
       "      <td>13610.0</td>\n",
       "      <td>0.0</td>\n",
       "      <td>NaN</td>\n",
       "      <td>0.0</td>\n",
       "      <td>NaN</td>\n",
       "      <td>315.0</td>\n",
       "    </tr>\n",
       "    <tr>\n",
       "      <th>17496</th>\n",
       "      <td>15</td>\n",
       "      <td>6700000.0</td>\n",
       "      <td>92.9</td>\n",
       "      <td>2019-02-19T00:00:00</td>\n",
       "      <td>3</td>\n",
       "      <td>20.00</td>\n",
       "      <td>17.0</td>\n",
       "      <td>53.2</td>\n",
       "      <td>14</td>\n",
       "      <td>NaN</td>\n",
       "      <td>...</td>\n",
       "      <td>12.00</td>\n",
       "      <td>5.0</td>\n",
       "      <td>Санкт-Петербург</td>\n",
       "      <td>16295.0</td>\n",
       "      <td>15092.0</td>\n",
       "      <td>1.0</td>\n",
       "      <td>967.0</td>\n",
       "      <td>0.0</td>\n",
       "      <td>NaN</td>\n",
       "      <td>NaN</td>\n",
       "    </tr>\n",
       "    <tr>\n",
       "      <th>20507</th>\n",
       "      <td>12</td>\n",
       "      <td>5950000.0</td>\n",
       "      <td>60.0</td>\n",
       "      <td>2018-02-19T00:00:00</td>\n",
       "      <td>2</td>\n",
       "      <td>22.60</td>\n",
       "      <td>14.0</td>\n",
       "      <td>35.0</td>\n",
       "      <td>11</td>\n",
       "      <td>NaN</td>\n",
       "      <td>...</td>\n",
       "      <td>13.00</td>\n",
       "      <td>1.0</td>\n",
       "      <td>Санкт-Петербург</td>\n",
       "      <td>27028.0</td>\n",
       "      <td>12570.0</td>\n",
       "      <td>0.0</td>\n",
       "      <td>NaN</td>\n",
       "      <td>0.0</td>\n",
       "      <td>NaN</td>\n",
       "      <td>40.0</td>\n",
       "    </tr>\n",
       "    <tr>\n",
       "      <th>5076</th>\n",
       "      <td>0</td>\n",
       "      <td>3850000.0</td>\n",
       "      <td>30.5</td>\n",
       "      <td>2018-10-03T00:00:00</td>\n",
       "      <td>1</td>\n",
       "      <td>24.00</td>\n",
       "      <td>5.0</td>\n",
       "      <td>19.5</td>\n",
       "      <td>1</td>\n",
       "      <td>True</td>\n",
       "      <td>...</td>\n",
       "      <td>5.50</td>\n",
       "      <td>NaN</td>\n",
       "      <td>Санкт-Петербург</td>\n",
       "      <td>29686.0</td>\n",
       "      <td>8389.0</td>\n",
       "      <td>3.0</td>\n",
       "      <td>397.0</td>\n",
       "      <td>1.0</td>\n",
       "      <td>578.0</td>\n",
       "      <td>7.0</td>\n",
       "    </tr>\n",
       "    <tr>\n",
       "      <th>18545</th>\n",
       "      <td>6</td>\n",
       "      <td>3750000.0</td>\n",
       "      <td>43.0</td>\n",
       "      <td>2019-03-18T00:00:00</td>\n",
       "      <td>2</td>\n",
       "      <td>25.00</td>\n",
       "      <td>5.0</td>\n",
       "      <td>29.0</td>\n",
       "      <td>3</td>\n",
       "      <td>False</td>\n",
       "      <td>...</td>\n",
       "      <td>NaN</td>\n",
       "      <td>NaN</td>\n",
       "      <td>Санкт-Петербург</td>\n",
       "      <td>27054.0</td>\n",
       "      <td>8033.0</td>\n",
       "      <td>1.0</td>\n",
       "      <td>540.0</td>\n",
       "      <td>0.0</td>\n",
       "      <td>NaN</td>\n",
       "      <td>12.0</td>\n",
       "    </tr>\n",
       "    <tr>\n",
       "      <th>355</th>\n",
       "      <td>17</td>\n",
       "      <td>3600000.0</td>\n",
       "      <td>55.2</td>\n",
       "      <td>2018-07-12T00:00:00</td>\n",
       "      <td>2</td>\n",
       "      <td>25.00</td>\n",
       "      <td>5.0</td>\n",
       "      <td>32.0</td>\n",
       "      <td>2</td>\n",
       "      <td>False</td>\n",
       "      <td>...</td>\n",
       "      <td>NaN</td>\n",
       "      <td>2.0</td>\n",
       "      <td>Гатчина</td>\n",
       "      <td>NaN</td>\n",
       "      <td>NaN</td>\n",
       "      <td>NaN</td>\n",
       "      <td>NaN</td>\n",
       "      <td>NaN</td>\n",
       "      <td>NaN</td>\n",
       "      <td>259.0</td>\n",
       "    </tr>\n",
       "    <tr>\n",
       "      <th>11285</th>\n",
       "      <td>0</td>\n",
       "      <td>1950000.0</td>\n",
       "      <td>37.0</td>\n",
       "      <td>2019-03-20T00:00:00</td>\n",
       "      <td>1</td>\n",
       "      <td>25.00</td>\n",
       "      <td>5.0</td>\n",
       "      <td>17.0</td>\n",
       "      <td>4</td>\n",
       "      <td>False</td>\n",
       "      <td>...</td>\n",
       "      <td>9.00</td>\n",
       "      <td>2.0</td>\n",
       "      <td>Луга</td>\n",
       "      <td>NaN</td>\n",
       "      <td>NaN</td>\n",
       "      <td>NaN</td>\n",
       "      <td>NaN</td>\n",
       "      <td>NaN</td>\n",
       "      <td>NaN</td>\n",
       "      <td>18.0</td>\n",
       "    </tr>\n",
       "    <tr>\n",
       "      <th>4643</th>\n",
       "      <td>0</td>\n",
       "      <td>4300000.0</td>\n",
       "      <td>45.0</td>\n",
       "      <td>2018-02-01T00:00:00</td>\n",
       "      <td>2</td>\n",
       "      <td>25.00</td>\n",
       "      <td>9.0</td>\n",
       "      <td>30.0</td>\n",
       "      <td>2</td>\n",
       "      <td>NaN</td>\n",
       "      <td>...</td>\n",
       "      <td>7.00</td>\n",
       "      <td>1.0</td>\n",
       "      <td>Санкт-Петербург</td>\n",
       "      <td>12016.0</td>\n",
       "      <td>13256.0</td>\n",
       "      <td>1.0</td>\n",
       "      <td>658.0</td>\n",
       "      <td>1.0</td>\n",
       "      <td>331.0</td>\n",
       "      <td>181.0</td>\n",
       "    </tr>\n",
       "    <tr>\n",
       "      <th>9379</th>\n",
       "      <td>5</td>\n",
       "      <td>3950000.0</td>\n",
       "      <td>42.0</td>\n",
       "      <td>2017-03-26T00:00:00</td>\n",
       "      <td>3</td>\n",
       "      <td>25.00</td>\n",
       "      <td>5.0</td>\n",
       "      <td>30.0</td>\n",
       "      <td>2</td>\n",
       "      <td>NaN</td>\n",
       "      <td>...</td>\n",
       "      <td>5.20</td>\n",
       "      <td>NaN</td>\n",
       "      <td>Санкт-Петербург</td>\n",
       "      <td>11647.0</td>\n",
       "      <td>13581.0</td>\n",
       "      <td>0.0</td>\n",
       "      <td>NaN</td>\n",
       "      <td>0.0</td>\n",
       "      <td>NaN</td>\n",
       "      <td>NaN</td>\n",
       "    </tr>\n",
       "    <tr>\n",
       "      <th>6246</th>\n",
       "      <td>6</td>\n",
       "      <td>3300000.0</td>\n",
       "      <td>44.4</td>\n",
       "      <td>2019-03-25T00:00:00</td>\n",
       "      <td>2</td>\n",
       "      <td>25.00</td>\n",
       "      <td>5.0</td>\n",
       "      <td>31.3</td>\n",
       "      <td>5</td>\n",
       "      <td>NaN</td>\n",
       "      <td>...</td>\n",
       "      <td>5.70</td>\n",
       "      <td>NaN</td>\n",
       "      <td>Кронштадт</td>\n",
       "      <td>68923.0</td>\n",
       "      <td>50649.0</td>\n",
       "      <td>1.0</td>\n",
       "      <td>417.0</td>\n",
       "      <td>2.0</td>\n",
       "      <td>73.0</td>\n",
       "      <td>NaN</td>\n",
       "    </tr>\n",
       "    <tr>\n",
       "      <th>14382</th>\n",
       "      <td>9</td>\n",
       "      <td>1700000.0</td>\n",
       "      <td>35.0</td>\n",
       "      <td>2015-12-04T00:00:00</td>\n",
       "      <td>1</td>\n",
       "      <td>25.00</td>\n",
       "      <td>5.0</td>\n",
       "      <td>20.0</td>\n",
       "      <td>2</td>\n",
       "      <td>False</td>\n",
       "      <td>...</td>\n",
       "      <td>8.00</td>\n",
       "      <td>1.0</td>\n",
       "      <td>поселок Новый Свет</td>\n",
       "      <td>NaN</td>\n",
       "      <td>NaN</td>\n",
       "      <td>NaN</td>\n",
       "      <td>NaN</td>\n",
       "      <td>NaN</td>\n",
       "      <td>NaN</td>\n",
       "      <td>206.0</td>\n",
       "    </tr>\n",
       "    <tr>\n",
       "      <th>5669</th>\n",
       "      <td>4</td>\n",
       "      <td>4400000.0</td>\n",
       "      <td>50.0</td>\n",
       "      <td>2017-08-08T00:00:00</td>\n",
       "      <td>2</td>\n",
       "      <td>26.00</td>\n",
       "      <td>9.0</td>\n",
       "      <td>21.3</td>\n",
       "      <td>3</td>\n",
       "      <td>NaN</td>\n",
       "      <td>...</td>\n",
       "      <td>7.00</td>\n",
       "      <td>2.0</td>\n",
       "      <td>Санкт-Петербург</td>\n",
       "      <td>28981.0</td>\n",
       "      <td>10912.0</td>\n",
       "      <td>1.0</td>\n",
       "      <td>305.0</td>\n",
       "      <td>0.0</td>\n",
       "      <td>NaN</td>\n",
       "      <td>267.0</td>\n",
       "    </tr>\n",
       "    <tr>\n",
       "      <th>20478</th>\n",
       "      <td>11</td>\n",
       "      <td>8000000.0</td>\n",
       "      <td>45.0</td>\n",
       "      <td>2017-07-18T00:00:00</td>\n",
       "      <td>1</td>\n",
       "      <td>27.00</td>\n",
       "      <td>4.0</td>\n",
       "      <td>22.0</td>\n",
       "      <td>2</td>\n",
       "      <td>NaN</td>\n",
       "      <td>...</td>\n",
       "      <td>10.00</td>\n",
       "      <td>1.0</td>\n",
       "      <td>Санкт-Петербург</td>\n",
       "      <td>18975.0</td>\n",
       "      <td>3246.0</td>\n",
       "      <td>0.0</td>\n",
       "      <td>NaN</td>\n",
       "      <td>3.0</td>\n",
       "      <td>449.0</td>\n",
       "      <td>429.0</td>\n",
       "    </tr>\n",
       "    <tr>\n",
       "      <th>21824</th>\n",
       "      <td>20</td>\n",
       "      <td>2450000.0</td>\n",
       "      <td>44.0</td>\n",
       "      <td>2019-02-12T00:00:00</td>\n",
       "      <td>2</td>\n",
       "      <td>27.00</td>\n",
       "      <td>2.0</td>\n",
       "      <td>38.0</td>\n",
       "      <td>2</td>\n",
       "      <td>False</td>\n",
       "      <td>...</td>\n",
       "      <td>8.60</td>\n",
       "      <td>2.0</td>\n",
       "      <td>городской поселок Большая Ижора</td>\n",
       "      <td>NaN</td>\n",
       "      <td>NaN</td>\n",
       "      <td>NaN</td>\n",
       "      <td>NaN</td>\n",
       "      <td>NaN</td>\n",
       "      <td>NaN</td>\n",
       "      <td>NaN</td>\n",
       "    </tr>\n",
       "    <tr>\n",
       "      <th>4876</th>\n",
       "      <td>7</td>\n",
       "      <td>3000000.0</td>\n",
       "      <td>25.0</td>\n",
       "      <td>2017-09-27T00:00:00</td>\n",
       "      <td>0</td>\n",
       "      <td>27.00</td>\n",
       "      <td>25.0</td>\n",
       "      <td>17.0</td>\n",
       "      <td>17</td>\n",
       "      <td>NaN</td>\n",
       "      <td>...</td>\n",
       "      <td>NaN</td>\n",
       "      <td>2.0</td>\n",
       "      <td>посёлок Мурино</td>\n",
       "      <td>NaN</td>\n",
       "      <td>NaN</td>\n",
       "      <td>NaN</td>\n",
       "      <td>NaN</td>\n",
       "      <td>NaN</td>\n",
       "      <td>NaN</td>\n",
       "      <td>28.0</td>\n",
       "    </tr>\n",
       "    <tr>\n",
       "      <th>22938</th>\n",
       "      <td>14</td>\n",
       "      <td>4000000.0</td>\n",
       "      <td>98.0</td>\n",
       "      <td>2018-03-15T00:00:00</td>\n",
       "      <td>4</td>\n",
       "      <td>27.00</td>\n",
       "      <td>2.0</td>\n",
       "      <td>73.0</td>\n",
       "      <td>2</td>\n",
       "      <td>True</td>\n",
       "      <td>...</td>\n",
       "      <td>9.00</td>\n",
       "      <td>1.0</td>\n",
       "      <td>деревня Нижняя</td>\n",
       "      <td>NaN</td>\n",
       "      <td>NaN</td>\n",
       "      <td>NaN</td>\n",
       "      <td>NaN</td>\n",
       "      <td>NaN</td>\n",
       "      <td>NaN</td>\n",
       "      <td>27.0</td>\n",
       "    </tr>\n",
       "    <tr>\n",
       "      <th>5807</th>\n",
       "      <td>17</td>\n",
       "      <td>8150000.0</td>\n",
       "      <td>80.0</td>\n",
       "      <td>2019-01-09T00:00:00</td>\n",
       "      <td>2</td>\n",
       "      <td>27.00</td>\n",
       "      <td>36.0</td>\n",
       "      <td>41.0</td>\n",
       "      <td>13</td>\n",
       "      <td>NaN</td>\n",
       "      <td>...</td>\n",
       "      <td>12.00</td>\n",
       "      <td>5.0</td>\n",
       "      <td>Санкт-Петербург</td>\n",
       "      <td>18732.0</td>\n",
       "      <td>20444.0</td>\n",
       "      <td>0.0</td>\n",
       "      <td>NaN</td>\n",
       "      <td>3.0</td>\n",
       "      <td>80.0</td>\n",
       "      <td>38.0</td>\n",
       "    </tr>\n",
       "    <tr>\n",
       "      <th>17857</th>\n",
       "      <td>1</td>\n",
       "      <td>3900000.0</td>\n",
       "      <td>56.0</td>\n",
       "      <td>2017-12-22T00:00:00</td>\n",
       "      <td>3</td>\n",
       "      <td>27.00</td>\n",
       "      <td>5.0</td>\n",
       "      <td>33.0</td>\n",
       "      <td>4</td>\n",
       "      <td>False</td>\n",
       "      <td>...</td>\n",
       "      <td>NaN</td>\n",
       "      <td>NaN</td>\n",
       "      <td>Санкт-Петербург</td>\n",
       "      <td>41030.0</td>\n",
       "      <td>15543.0</td>\n",
       "      <td>0.0</td>\n",
       "      <td>NaN</td>\n",
       "      <td>0.0</td>\n",
       "      <td>NaN</td>\n",
       "      <td>73.0</td>\n",
       "    </tr>\n",
       "    <tr>\n",
       "      <th>10773</th>\n",
       "      <td>8</td>\n",
       "      <td>3800000.0</td>\n",
       "      <td>58.0</td>\n",
       "      <td>2017-10-13T00:00:00</td>\n",
       "      <td>2</td>\n",
       "      <td>27.00</td>\n",
       "      <td>10.0</td>\n",
       "      <td>30.1</td>\n",
       "      <td>3</td>\n",
       "      <td>False</td>\n",
       "      <td>...</td>\n",
       "      <td>8.10</td>\n",
       "      <td>2.0</td>\n",
       "      <td>посёлок Мурино</td>\n",
       "      <td>NaN</td>\n",
       "      <td>NaN</td>\n",
       "      <td>NaN</td>\n",
       "      <td>NaN</td>\n",
       "      <td>NaN</td>\n",
       "      <td>NaN</td>\n",
       "      <td>71.0</td>\n",
       "    </tr>\n",
       "    <tr>\n",
       "      <th>5246</th>\n",
       "      <td>0</td>\n",
       "      <td>2500000.0</td>\n",
       "      <td>54.0</td>\n",
       "      <td>2017-10-13T00:00:00</td>\n",
       "      <td>2</td>\n",
       "      <td>27.00</td>\n",
       "      <td>5.0</td>\n",
       "      <td>30.0</td>\n",
       "      <td>3</td>\n",
       "      <td>NaN</td>\n",
       "      <td>...</td>\n",
       "      <td>9.00</td>\n",
       "      <td>2.0</td>\n",
       "      <td>деревня Мины</td>\n",
       "      <td>NaN</td>\n",
       "      <td>NaN</td>\n",
       "      <td>NaN</td>\n",
       "      <td>NaN</td>\n",
       "      <td>NaN</td>\n",
       "      <td>NaN</td>\n",
       "      <td>540.0</td>\n",
       "    </tr>\n",
       "    <tr>\n",
       "      <th>21377</th>\n",
       "      <td>19</td>\n",
       "      <td>4900000.0</td>\n",
       "      <td>42.0</td>\n",
       "      <td>2017-04-18T00:00:00</td>\n",
       "      <td>1</td>\n",
       "      <td>27.50</td>\n",
       "      <td>24.0</td>\n",
       "      <td>37.7</td>\n",
       "      <td>19</td>\n",
       "      <td>False</td>\n",
       "      <td>...</td>\n",
       "      <td>11.00</td>\n",
       "      <td>2.0</td>\n",
       "      <td>Санкт-Петербург</td>\n",
       "      <td>42742.0</td>\n",
       "      <td>9760.0</td>\n",
       "      <td>0.0</td>\n",
       "      <td>NaN</td>\n",
       "      <td>0.0</td>\n",
       "      <td>NaN</td>\n",
       "      <td>61.0</td>\n",
       "    </tr>\n",
       "    <tr>\n",
       "      <th>22336</th>\n",
       "      <td>19</td>\n",
       "      <td>9999000.0</td>\n",
       "      <td>92.4</td>\n",
       "      <td>2019-04-05T00:00:00</td>\n",
       "      <td>2</td>\n",
       "      <td>32.00</td>\n",
       "      <td>6.0</td>\n",
       "      <td>55.5</td>\n",
       "      <td>5</td>\n",
       "      <td>False</td>\n",
       "      <td>...</td>\n",
       "      <td>16.50</td>\n",
       "      <td>4.0</td>\n",
       "      <td>Санкт-Петербург</td>\n",
       "      <td>18838.0</td>\n",
       "      <td>3506.0</td>\n",
       "      <td>0.0</td>\n",
       "      <td>NaN</td>\n",
       "      <td>3.0</td>\n",
       "      <td>511.0</td>\n",
       "      <td>NaN</td>\n",
       "    </tr>\n",
       "    <tr>\n",
       "      <th>3148</th>\n",
       "      <td>14</td>\n",
       "      <td>2900000.0</td>\n",
       "      <td>75.0</td>\n",
       "      <td>2018-11-12T00:00:00</td>\n",
       "      <td>3</td>\n",
       "      <td>32.00</td>\n",
       "      <td>3.0</td>\n",
       "      <td>53.0</td>\n",
       "      <td>2</td>\n",
       "      <td>NaN</td>\n",
       "      <td>...</td>\n",
       "      <td>8.00</td>\n",
       "      <td>NaN</td>\n",
       "      <td>Волхов</td>\n",
       "      <td>NaN</td>\n",
       "      <td>NaN</td>\n",
       "      <td>NaN</td>\n",
       "      <td>NaN</td>\n",
       "      <td>NaN</td>\n",
       "      <td>NaN</td>\n",
       "      <td>NaN</td>\n",
       "    </tr>\n",
       "    <tr>\n",
       "      <th>22869</th>\n",
       "      <td>0</td>\n",
       "      <td>15000000.0</td>\n",
       "      <td>25.0</td>\n",
       "      <td>2018-07-25T00:00:00</td>\n",
       "      <td>1</td>\n",
       "      <td>100.00</td>\n",
       "      <td>5.0</td>\n",
       "      <td>14.0</td>\n",
       "      <td>5</td>\n",
       "      <td>True</td>\n",
       "      <td>...</td>\n",
       "      <td>11.00</td>\n",
       "      <td>5.0</td>\n",
       "      <td>Санкт-Петербург</td>\n",
       "      <td>34963.0</td>\n",
       "      <td>8283.0</td>\n",
       "      <td>1.0</td>\n",
       "      <td>223.0</td>\n",
       "      <td>3.0</td>\n",
       "      <td>30.0</td>\n",
       "      <td>19.0</td>\n",
       "    </tr>\n",
       "  </tbody>\n",
       "</table>\n",
       "<p>39 rows × 22 columns</p>\n",
       "</div>"
      ],
      "text/plain": [
       "       total_images   last_price  total_area first_day_exposition  rooms  \\\n",
       "22590            16    6000000.0        55.0  2018-10-31T00:00:00      2   \n",
       "5712              5    1500000.0        42.8  2017-08-14T00:00:00      2   \n",
       "16934             5    4100000.0        40.0  2017-10-17T00:00:00      1   \n",
       "464              15   66571000.0       280.3  2015-06-11T00:00:00      6   \n",
       "12628            14    3900000.0        50.0  2018-03-29T00:00:00      1   \n",
       "1026             20  155000000.0       310.0  2018-10-12T00:00:00      5   \n",
       "7578             17   38000000.0       143.0  2017-11-02T00:00:00      3   \n",
       "1388             20   59800000.0       399.0  2015-01-21T00:00:00      5   \n",
       "21227             0    8200000.0        71.0  2017-07-21T00:00:00      0   \n",
       "20264            17  119000000.0       187.6  2017-07-10T00:00:00      4   \n",
       "3474              3    1400000.0        30.0  2018-03-16T00:00:00      1   \n",
       "15743            14    5600000.0        67.0  2016-11-11T00:00:00      3   \n",
       "17442             0    5350000.0        54.0  2015-06-16T00:00:00      2   \n",
       "5863             20    5650000.0        45.0  2018-08-15T00:00:00      1   \n",
       "22309            20    5300000.0        45.0  2017-09-30T00:00:00      1   \n",
       "15061            19    5600000.0        56.4  2018-05-11T00:00:00      2   \n",
       "17496            15    6700000.0        92.9  2019-02-19T00:00:00      3   \n",
       "20507            12    5950000.0        60.0  2018-02-19T00:00:00      2   \n",
       "5076              0    3850000.0        30.5  2018-10-03T00:00:00      1   \n",
       "18545             6    3750000.0        43.0  2019-03-18T00:00:00      2   \n",
       "355              17    3600000.0        55.2  2018-07-12T00:00:00      2   \n",
       "11285             0    1950000.0        37.0  2019-03-20T00:00:00      1   \n",
       "4643              0    4300000.0        45.0  2018-02-01T00:00:00      2   \n",
       "9379              5    3950000.0        42.0  2017-03-26T00:00:00      3   \n",
       "6246              6    3300000.0        44.4  2019-03-25T00:00:00      2   \n",
       "14382             9    1700000.0        35.0  2015-12-04T00:00:00      1   \n",
       "5669              4    4400000.0        50.0  2017-08-08T00:00:00      2   \n",
       "20478            11    8000000.0        45.0  2017-07-18T00:00:00      1   \n",
       "21824            20    2450000.0        44.0  2019-02-12T00:00:00      2   \n",
       "4876              7    3000000.0        25.0  2017-09-27T00:00:00      0   \n",
       "22938            14    4000000.0        98.0  2018-03-15T00:00:00      4   \n",
       "5807             17    8150000.0        80.0  2019-01-09T00:00:00      2   \n",
       "17857             1    3900000.0        56.0  2017-12-22T00:00:00      3   \n",
       "10773             8    3800000.0        58.0  2017-10-13T00:00:00      2   \n",
       "5246              0    2500000.0        54.0  2017-10-13T00:00:00      2   \n",
       "21377            19    4900000.0        42.0  2017-04-18T00:00:00      1   \n",
       "22336            19    9999000.0        92.4  2019-04-05T00:00:00      2   \n",
       "3148             14    2900000.0        75.0  2018-11-12T00:00:00      3   \n",
       "22869             0   15000000.0        25.0  2018-07-25T00:00:00      1   \n",
       "\n",
       "       ceiling_height  floors_total  living_area  floor is_apartment  ...  \\\n",
       "22590            1.00          12.0         32.4      7          NaN  ...   \n",
       "5712             1.20           2.0         27.5      1          NaN  ...   \n",
       "16934            1.75          37.0         17.4      5          NaN  ...   \n",
       "464              5.20           8.0        159.5      7          NaN  ...   \n",
       "12628            5.30           5.0          NaN      5          NaN  ...   \n",
       "1026             5.30           3.0        190.0      3          NaN  ...   \n",
       "7578             5.50           5.0         83.0      5          NaN  ...   \n",
       "1388             5.60           6.0          NaN      6          NaN  ...   \n",
       "21227            5.80           5.0         68.0      5          NaN  ...   \n",
       "20264            6.00           7.0        147.0      7          NaN  ...   \n",
       "3474             8.00           5.0         15.3      2        False  ...   \n",
       "15743            8.00          16.0         41.0      1          NaN  ...   \n",
       "17442            8.00           5.0         29.0      2          NaN  ...   \n",
       "5863             8.30          16.0         19.3     14          NaN  ...   \n",
       "22309           10.30          16.0         15.5     15          NaN  ...   \n",
       "15061           14.00          14.0         32.4      5          NaN  ...   \n",
       "17496           20.00          17.0         53.2     14          NaN  ...   \n",
       "20507           22.60          14.0         35.0     11          NaN  ...   \n",
       "5076            24.00           5.0         19.5      1         True  ...   \n",
       "18545           25.00           5.0         29.0      3        False  ...   \n",
       "355             25.00           5.0         32.0      2        False  ...   \n",
       "11285           25.00           5.0         17.0      4        False  ...   \n",
       "4643            25.00           9.0         30.0      2          NaN  ...   \n",
       "9379            25.00           5.0         30.0      2          NaN  ...   \n",
       "6246            25.00           5.0         31.3      5          NaN  ...   \n",
       "14382           25.00           5.0         20.0      2        False  ...   \n",
       "5669            26.00           9.0         21.3      3          NaN  ...   \n",
       "20478           27.00           4.0         22.0      2          NaN  ...   \n",
       "21824           27.00           2.0         38.0      2        False  ...   \n",
       "4876            27.00          25.0         17.0     17          NaN  ...   \n",
       "22938           27.00           2.0         73.0      2         True  ...   \n",
       "5807            27.00          36.0         41.0     13          NaN  ...   \n",
       "17857           27.00           5.0         33.0      4        False  ...   \n",
       "10773           27.00          10.0         30.1      3        False  ...   \n",
       "5246            27.00           5.0         30.0      3          NaN  ...   \n",
       "21377           27.50          24.0         37.7     19        False  ...   \n",
       "22336           32.00           6.0         55.5      5        False  ...   \n",
       "3148            32.00           3.0         53.0      2          NaN  ...   \n",
       "22869          100.00           5.0         14.0      5         True  ...   \n",
       "\n",
       "       kitchen_area  balcony                    locality_name  \\\n",
       "22590         10.00      NaN                  Санкт-Петербург   \n",
       "5712           5.20      NaN            городской посёлок Мга   \n",
       "16934          8.34      NaN                  Санкт-Петербург   \n",
       "464           21.10      0.0                  Санкт-Петербург   \n",
       "12628           NaN      NaN                  Санкт-Петербург   \n",
       "1026          63.00      2.0                  Санкт-Петербург   \n",
       "7578          29.00      1.0                  Санкт-Петербург   \n",
       "1388            NaN      0.0                  Санкт-Петербург   \n",
       "21227           NaN      0.0                  Санкт-Петербург   \n",
       "20264         15.60      NaN                  Санкт-Петербург   \n",
       "3474           7.30      NaN                    деревня Нурма   \n",
       "15743          8.00      NaN                  Санкт-Петербург   \n",
       "17442           NaN      1.0                     Красное Село   \n",
       "5863           8.30      1.0                  Санкт-Петербург   \n",
       "22309           NaN      NaN                  Санкт-Петербург   \n",
       "15061          9.10      2.0                  Санкт-Петербург   \n",
       "17496         12.00      5.0                  Санкт-Петербург   \n",
       "20507         13.00      1.0                  Санкт-Петербург   \n",
       "5076           5.50      NaN                  Санкт-Петербург   \n",
       "18545           NaN      NaN                  Санкт-Петербург   \n",
       "355             NaN      2.0                          Гатчина   \n",
       "11285          9.00      2.0                             Луга   \n",
       "4643           7.00      1.0                  Санкт-Петербург   \n",
       "9379           5.20      NaN                  Санкт-Петербург   \n",
       "6246           5.70      NaN                        Кронштадт   \n",
       "14382          8.00      1.0               поселок Новый Свет   \n",
       "5669           7.00      2.0                  Санкт-Петербург   \n",
       "20478         10.00      1.0                  Санкт-Петербург   \n",
       "21824          8.60      2.0  городской поселок Большая Ижора   \n",
       "4876            NaN      2.0                   посёлок Мурино   \n",
       "22938          9.00      1.0                   деревня Нижняя   \n",
       "5807          12.00      5.0                  Санкт-Петербург   \n",
       "17857           NaN      NaN                  Санкт-Петербург   \n",
       "10773          8.10      2.0                   посёлок Мурино   \n",
       "5246           9.00      2.0                     деревня Мины   \n",
       "21377         11.00      2.0                  Санкт-Петербург   \n",
       "22336         16.50      4.0                  Санкт-Петербург   \n",
       "3148           8.00      NaN                           Волхов   \n",
       "22869         11.00      5.0                  Санкт-Петербург   \n",
       "\n",
       "       airports_nearest cityCenters_nearest  parks_around3000  parks_nearest  \\\n",
       "22590           33053.0             14217.0               2.0          293.0   \n",
       "5712                NaN                 NaN               NaN            NaN   \n",
       "16934           18732.0             20444.0               0.0            NaN   \n",
       "464             26316.0              6655.0               3.0          187.0   \n",
       "12628           19644.0              3918.0               1.0          505.0   \n",
       "1026            24899.0              4785.0               0.0            NaN   \n",
       "7578            26333.0              6448.0               3.0          479.0   \n",
       "1388            26204.0              6934.0               2.0          149.0   \n",
       "21227           20170.0              1261.0               2.0          295.0   \n",
       "20264           26902.0              5605.0               3.0          484.0   \n",
       "3474                NaN                 NaN               NaN            NaN   \n",
       "15743           32691.0             11035.0               1.0          723.0   \n",
       "17442           24638.0             28062.0               0.0            NaN   \n",
       "5863            13069.0             10763.0               0.0            NaN   \n",
       "22309           36353.0             11936.0               2.0          440.0   \n",
       "15061           14814.0             13610.0               0.0            NaN   \n",
       "17496           16295.0             15092.0               1.0          967.0   \n",
       "20507           27028.0             12570.0               0.0            NaN   \n",
       "5076            29686.0              8389.0               3.0          397.0   \n",
       "18545           27054.0              8033.0               1.0          540.0   \n",
       "355                 NaN                 NaN               NaN            NaN   \n",
       "11285               NaN                 NaN               NaN            NaN   \n",
       "4643            12016.0             13256.0               1.0          658.0   \n",
       "9379            11647.0             13581.0               0.0            NaN   \n",
       "6246            68923.0             50649.0               1.0          417.0   \n",
       "14382               NaN                 NaN               NaN            NaN   \n",
       "5669            28981.0             10912.0               1.0          305.0   \n",
       "20478           18975.0              3246.0               0.0            NaN   \n",
       "21824               NaN                 NaN               NaN            NaN   \n",
       "4876                NaN                 NaN               NaN            NaN   \n",
       "22938               NaN                 NaN               NaN            NaN   \n",
       "5807            18732.0             20444.0               0.0            NaN   \n",
       "17857           41030.0             15543.0               0.0            NaN   \n",
       "10773               NaN                 NaN               NaN            NaN   \n",
       "5246                NaN                 NaN               NaN            NaN   \n",
       "21377           42742.0              9760.0               0.0            NaN   \n",
       "22336           18838.0              3506.0               0.0            NaN   \n",
       "3148                NaN                 NaN               NaN            NaN   \n",
       "22869           34963.0              8283.0               1.0          223.0   \n",
       "\n",
       "       ponds_around3000  ponds_nearest  days_exposition  \n",
       "22590               2.0          289.0             13.0  \n",
       "5712                NaN            NaN            248.0  \n",
       "16934               3.0           80.0             71.0  \n",
       "464                 1.0          616.0            578.0  \n",
       "12628               1.0           92.0              8.0  \n",
       "1026                1.0          603.0              NaN  \n",
       "7578                0.0            NaN              NaN  \n",
       "1388                2.0          577.0            719.0  \n",
       "21227               3.0          366.0             30.0  \n",
       "20264               1.0          305.0            259.0  \n",
       "3474                NaN            NaN            125.0  \n",
       "15743               0.0            NaN            474.0  \n",
       "17442               0.0            NaN            469.0  \n",
       "5863                1.0          613.0             14.0  \n",
       "22309               2.0          450.0            136.0  \n",
       "15061               0.0            NaN            315.0  \n",
       "17496               0.0            NaN              NaN  \n",
       "20507               0.0            NaN             40.0  \n",
       "5076                1.0          578.0              7.0  \n",
       "18545               0.0            NaN             12.0  \n",
       "355                 NaN            NaN            259.0  \n",
       "11285               NaN            NaN             18.0  \n",
       "4643                1.0          331.0            181.0  \n",
       "9379                0.0            NaN              NaN  \n",
       "6246                2.0           73.0              NaN  \n",
       "14382               NaN            NaN            206.0  \n",
       "5669                0.0            NaN            267.0  \n",
       "20478               3.0          449.0            429.0  \n",
       "21824               NaN            NaN              NaN  \n",
       "4876                NaN            NaN             28.0  \n",
       "22938               NaN            NaN             27.0  \n",
       "5807                3.0           80.0             38.0  \n",
       "17857               0.0            NaN             73.0  \n",
       "10773               NaN            NaN             71.0  \n",
       "5246                NaN            NaN            540.0  \n",
       "21377               0.0            NaN             61.0  \n",
       "22336               3.0          511.0              NaN  \n",
       "3148                NaN            NaN              NaN  \n",
       "22869               3.0           30.0             19.0  \n",
       "\n",
       "[39 rows x 22 columns]"
      ]
     },
     "metadata": {},
     "output_type": "display_data"
    }
   ],
   "source": [
    "display(data.query('ceiling_height > 5 or ceiling_height <2').sort_values(by='ceiling_height'))"
   ]
  },
  {
   "cell_type": "markdown",
   "metadata": {},
   "source": [
    "Делаем выборку во высоте потолков, которую считаем аномально маленькой или аномально большой и заменяем эти значение на медианные"
   ]
  },
  {
   "cell_type": "code",
   "execution_count": 11,
   "metadata": {},
   "outputs": [
    {
     "name": "stdout",
     "output_type": "stream",
     "text": [
      "до обработки\n"
     ]
    },
    {
     "data": {
      "text/plain": [
       "3474       8.00\n",
       "5712       1.20\n",
       "5863       8.30\n",
       "15061     14.00\n",
       "15743      8.00\n",
       "16934      1.75\n",
       "17442      8.00\n",
       "22309     10.30\n",
       "22590      1.00\n",
       "22869    100.00\n",
       "Name: ceiling_height, dtype: float64"
      ]
     },
     "metadata": {},
     "output_type": "display_data"
    },
    {
     "name": "stdout",
     "output_type": "stream",
     "text": [
      "после обработки\n"
     ]
    },
    {
     "data": {
      "text/plain": [
       "3474     2.65\n",
       "5712     2.65\n",
       "5863     2.65\n",
       "15061    2.65\n",
       "15743    2.65\n",
       "16934    2.65\n",
       "17442    2.65\n",
       "22309    2.65\n",
       "22590    2.65\n",
       "22869    2.65\n",
       "Name: ceiling_height, dtype: float64"
      ]
     },
     "metadata": {},
     "output_type": "display_data"
    }
   ],
   "source": [
    "ceiling_height_corr = data.query('ceiling_height < 2 or 6 < ceiling_height < 20 or ceiling_height >32')\n",
    "\n",
    "print('до обработки')#проверяем что есть в срезе\n",
    "display(ceiling_height_corr['ceiling_height'])\n",
    "\n",
    "#значения из среза меняем на медианное значение по параметру \n",
    "ceiling_height_corr['ceiling_height'] = data['ceiling_height'].median()\n",
    "\n",
    "print('после обработки')# проверяем, что получилось\n",
    "display(ceiling_height_corr['ceiling_height'])\n",
    "\n",
    "#обработанные значения из среза по индексу вставляем в исходный датасет\n",
    "data.loc[ceiling_height_corr.index,'ceiling_height'] = ceiling_height_corr['ceiling_height']\n"
   ]
  },
  {
   "cell_type": "markdown",
   "metadata": {},
   "source": [
    "Делаем выборку по высоте потолков в интервале 20-32 метра и делим значения на 10, так как решили считать что это ошибки ввода."
   ]
  },
  {
   "cell_type": "code",
   "execution_count": 12,
   "metadata": {},
   "outputs": [
    {
     "name": "stdout",
     "output_type": "stream",
     "text": [
      "до обработки\n"
     ]
    },
    {
     "data": {
      "text/plain": [
       "355      25.0\n",
       "3148     32.0\n",
       "4643     25.0\n",
       "4876     27.0\n",
       "5076     24.0\n",
       "5246     27.0\n",
       "5669     26.0\n",
       "5807     27.0\n",
       "6246     25.0\n",
       "9379     25.0\n",
       "10773    27.0\n",
       "11285    25.0\n",
       "14382    25.0\n",
       "17496    20.0\n",
       "17857    27.0\n",
       "18545    25.0\n",
       "20478    27.0\n",
       "20507    22.6\n",
       "21377    27.5\n",
       "21824    27.0\n",
       "22336    32.0\n",
       "22938    27.0\n",
       "Name: ceiling_height, dtype: float64"
      ]
     },
     "metadata": {},
     "output_type": "display_data"
    },
    {
     "name": "stdout",
     "output_type": "stream",
     "text": [
      "после обработки\n"
     ]
    },
    {
     "data": {
      "text/plain": [
       "355      2.50\n",
       "3148     3.20\n",
       "4643     2.50\n",
       "4876     2.70\n",
       "5076     2.40\n",
       "5246     2.70\n",
       "5669     2.60\n",
       "5807     2.70\n",
       "6246     2.50\n",
       "9379     2.50\n",
       "10773    2.70\n",
       "11285    2.50\n",
       "14382    2.50\n",
       "17496    2.00\n",
       "17857    2.70\n",
       "18545    2.50\n",
       "20478    2.70\n",
       "20507    2.26\n",
       "21377    2.75\n",
       "21824    2.70\n",
       "22336    3.20\n",
       "22938    2.70\n",
       "Name: ceiling_height, dtype: float64"
      ]
     },
     "metadata": {},
     "output_type": "display_data"
    }
   ],
   "source": [
    "ceiling_height_corr1 = data.query('20 <= ceiling_height <= 32')\n",
    "print('до обработки')#проверяем что есть в срезе\n",
    "display(ceiling_height_corr1['ceiling_height'])\n",
    "\n",
    "#делим значения из среза на 10\n",
    "ceiling_height_corr1['ceiling_height'] = data['ceiling_height']/10\n",
    "\n",
    "print('после обработки')# проверяем, что получилось\n",
    "display(ceiling_height_corr1['ceiling_height'])\n",
    "\n",
    "#обработанные значения из среза по индексу вставляем в исходный датасет\n",
    "data.loc[ceiling_height_corr1.index,'ceiling_height'] = ceiling_height_corr1['ceiling_height']\n"
   ]
  },
  {
   "cell_type": "code",
   "execution_count": 13,
   "metadata": {},
   "outputs": [],
   "source": [
    "#заменяем пустые значения 'ceiling_height' на медианные по данному параметру\n",
    "data['ceiling_height'] = data['ceiling_height'].fillna(data['ceiling_height'].median())"
   ]
  },
  {
   "cell_type": "code",
   "execution_count": 14,
   "metadata": {},
   "outputs": [
    {
     "data": {
      "text/plain": [
       "count    23699.000000\n",
       "mean         2.696862\n",
       "std          0.221130\n",
       "min          2.000000\n",
       "25%          2.600000\n",
       "50%          2.650000\n",
       "75%          2.700000\n",
       "max          6.000000\n",
       "Name: ceiling_height, dtype: float64"
      ]
     },
     "execution_count": 14,
     "metadata": {},
     "output_type": "execute_result"
    }
   ],
   "source": [
    "data.ceiling_height.describe()"
   ]
  },
  {
   "cell_type": "markdown",
   "metadata": {},
   "source": [
    "После обработки видим, что с потолками теперь все нормально и неадекватных выбросов нет."
   ]
  },
  {
   "cell_type": "markdown",
   "metadata": {},
   "source": [
    "Посмотрим картину по неуказанной этажности здания и этажу квартиры. Видим,что выяснить из входных данных в скольки этажном здании находиться квартира не представляется возможным.\n"
   ]
  },
  {
   "cell_type": "code",
   "execution_count": 15,
   "metadata": {},
   "outputs": [
    {
     "data": {
      "text/html": [
       "<div>\n",
       "<style scoped>\n",
       "    .dataframe tbody tr th:only-of-type {\n",
       "        vertical-align: middle;\n",
       "    }\n",
       "\n",
       "    .dataframe tbody tr th {\n",
       "        vertical-align: top;\n",
       "    }\n",
       "\n",
       "    .dataframe thead th {\n",
       "        text-align: right;\n",
       "    }\n",
       "</style>\n",
       "<table border=\"1\" class=\"dataframe\">\n",
       "  <thead>\n",
       "    <tr style=\"text-align: right;\">\n",
       "      <th></th>\n",
       "      <th>floors_total</th>\n",
       "      <th>floor</th>\n",
       "    </tr>\n",
       "  </thead>\n",
       "  <tbody>\n",
       "    <tr>\n",
       "      <th>186</th>\n",
       "      <td>NaN</td>\n",
       "      <td>4</td>\n",
       "    </tr>\n",
       "    <tr>\n",
       "      <th>237</th>\n",
       "      <td>NaN</td>\n",
       "      <td>1</td>\n",
       "    </tr>\n",
       "    <tr>\n",
       "      <th>457</th>\n",
       "      <td>NaN</td>\n",
       "      <td>12</td>\n",
       "    </tr>\n",
       "    <tr>\n",
       "      <th>671</th>\n",
       "      <td>NaN</td>\n",
       "      <td>8</td>\n",
       "    </tr>\n",
       "    <tr>\n",
       "      <th>1757</th>\n",
       "      <td>NaN</td>\n",
       "      <td>9</td>\n",
       "    </tr>\n",
       "    <tr>\n",
       "      <th>1930</th>\n",
       "      <td>NaN</td>\n",
       "      <td>4</td>\n",
       "    </tr>\n",
       "    <tr>\n",
       "      <th>2392</th>\n",
       "      <td>NaN</td>\n",
       "      <td>22</td>\n",
       "    </tr>\n",
       "    <tr>\n",
       "      <th>2846</th>\n",
       "      <td>NaN</td>\n",
       "      <td>15</td>\n",
       "    </tr>\n",
       "    <tr>\n",
       "      <th>2952</th>\n",
       "      <td>NaN</td>\n",
       "      <td>6</td>\n",
       "    </tr>\n",
       "    <tr>\n",
       "      <th>3031</th>\n",
       "      <td>NaN</td>\n",
       "      <td>12</td>\n",
       "    </tr>\n",
       "    <tr>\n",
       "      <th>3438</th>\n",
       "      <td>NaN</td>\n",
       "      <td>12</td>\n",
       "    </tr>\n",
       "    <tr>\n",
       "      <th>3817</th>\n",
       "      <td>NaN</td>\n",
       "      <td>1</td>\n",
       "    </tr>\n",
       "    <tr>\n",
       "      <th>3831</th>\n",
       "      <td>NaN</td>\n",
       "      <td>7</td>\n",
       "    </tr>\n",
       "    <tr>\n",
       "      <th>4140</th>\n",
       "      <td>NaN</td>\n",
       "      <td>3</td>\n",
       "    </tr>\n",
       "    <tr>\n",
       "      <th>4617</th>\n",
       "      <td>NaN</td>\n",
       "      <td>12</td>\n",
       "    </tr>\n",
       "    <tr>\n",
       "      <th>4848</th>\n",
       "      <td>NaN</td>\n",
       "      <td>18</td>\n",
       "    </tr>\n",
       "    <tr>\n",
       "      <th>4901</th>\n",
       "      <td>NaN</td>\n",
       "      <td>6</td>\n",
       "    </tr>\n",
       "    <tr>\n",
       "      <th>5146</th>\n",
       "      <td>NaN</td>\n",
       "      <td>12</td>\n",
       "    </tr>\n",
       "    <tr>\n",
       "      <th>5187</th>\n",
       "      <td>NaN</td>\n",
       "      <td>15</td>\n",
       "    </tr>\n",
       "    <tr>\n",
       "      <th>5784</th>\n",
       "      <td>NaN</td>\n",
       "      <td>18</td>\n",
       "    </tr>\n",
       "  </tbody>\n",
       "</table>\n",
       "</div>"
      ],
      "text/plain": [
       "      floors_total  floor\n",
       "186            NaN      4\n",
       "237            NaN      1\n",
       "457            NaN     12\n",
       "671            NaN      8\n",
       "1757           NaN      9\n",
       "1930           NaN      4\n",
       "2392           NaN     22\n",
       "2846           NaN     15\n",
       "2952           NaN      6\n",
       "3031           NaN     12\n",
       "3438           NaN     12\n",
       "3817           NaN      1\n",
       "3831           NaN      7\n",
       "4140           NaN      3\n",
       "4617           NaN     12\n",
       "4848           NaN     18\n",
       "4901           NaN      6\n",
       "5146           NaN     12\n",
       "5187           NaN     15\n",
       "5784           NaN     18"
      ]
     },
     "metadata": {},
     "output_type": "display_data"
    }
   ],
   "source": [
    "df = data[['floors_total','floor']]\n",
    "display(df[df['floors_total'].isnull()].head(20))"
   ]
  },
  {
   "cell_type": "markdown",
   "metadata": {},
   "source": [
    "Удаляем пустые строки общей этажности недвижимости, это гораздо меньше 10% общих данных и не вызовет проблем в исследовании."
   ]
  },
  {
   "cell_type": "code",
   "execution_count": 16,
   "metadata": {},
   "outputs": [],
   "source": [
    "data = data.dropna(subset = ['floors_total'])"
   ]
  },
  {
   "cell_type": "markdown",
   "metadata": {},
   "source": [
    "По жилой площади странно выглядят обьекты с минимальной площадью 2м2. Всего обьектов в интервале 2-5 метров жилой площади 4шт., при этом эти объекты имеют нормальную жилую площадь.Удалим эти строки. Максимальная жилая площадь более 400 кв.м не вызывает сомнений, бывает и больше."
   ]
  },
  {
   "cell_type": "code",
   "execution_count": 17,
   "metadata": {},
   "outputs": [
    {
     "data": {
      "text/plain": [
       "count    21743.000000\n",
       "mean        34.462781\n",
       "std         22.037433\n",
       "min          2.000000\n",
       "25%         18.600000\n",
       "50%         30.000000\n",
       "75%         42.300000\n",
       "max        409.700000\n",
       "Name: living_area, dtype: float64"
      ]
     },
     "execution_count": 17,
     "metadata": {},
     "output_type": "execute_result"
    }
   ],
   "source": [
    "data.living_area.describe()\n"
   ]
  },
  {
   "cell_type": "code",
   "execution_count": 18,
   "metadata": {},
   "outputs": [
    {
     "data": {
      "text/html": [
       "<div>\n",
       "<style scoped>\n",
       "    .dataframe tbody tr th:only-of-type {\n",
       "        vertical-align: middle;\n",
       "    }\n",
       "\n",
       "    .dataframe tbody tr th {\n",
       "        vertical-align: top;\n",
       "    }\n",
       "\n",
       "    .dataframe thead th {\n",
       "        text-align: right;\n",
       "    }\n",
       "</style>\n",
       "<table border=\"1\" class=\"dataframe\">\n",
       "  <thead>\n",
       "    <tr style=\"text-align: right;\">\n",
       "      <th></th>\n",
       "      <th>total_images</th>\n",
       "      <th>last_price</th>\n",
       "      <th>total_area</th>\n",
       "      <th>first_day_exposition</th>\n",
       "      <th>rooms</th>\n",
       "      <th>ceiling_height</th>\n",
       "      <th>floors_total</th>\n",
       "      <th>living_area</th>\n",
       "      <th>floor</th>\n",
       "      <th>is_apartment</th>\n",
       "      <th>...</th>\n",
       "      <th>kitchen_area</th>\n",
       "      <th>balcony</th>\n",
       "      <th>locality_name</th>\n",
       "      <th>airports_nearest</th>\n",
       "      <th>cityCenters_nearest</th>\n",
       "      <th>parks_around3000</th>\n",
       "      <th>parks_nearest</th>\n",
       "      <th>ponds_around3000</th>\n",
       "      <th>ponds_nearest</th>\n",
       "      <th>days_exposition</th>\n",
       "    </tr>\n",
       "  </thead>\n",
       "  <tbody>\n",
       "    <tr>\n",
       "      <th>3242</th>\n",
       "      <td>7</td>\n",
       "      <td>4440000.0</td>\n",
       "      <td>41.0</td>\n",
       "      <td>2017-07-02T00:00:00</td>\n",
       "      <td>1</td>\n",
       "      <td>2.65</td>\n",
       "      <td>17.0</td>\n",
       "      <td>3.0</td>\n",
       "      <td>17</td>\n",
       "      <td>NaN</td>\n",
       "      <td>...</td>\n",
       "      <td>11.0</td>\n",
       "      <td>NaN</td>\n",
       "      <td>Санкт-Петербург</td>\n",
       "      <td>19272.0</td>\n",
       "      <td>13073.0</td>\n",
       "      <td>0.0</td>\n",
       "      <td>NaN</td>\n",
       "      <td>0.0</td>\n",
       "      <td>NaN</td>\n",
       "      <td>216.0</td>\n",
       "    </tr>\n",
       "    <tr>\n",
       "      <th>13915</th>\n",
       "      <td>20</td>\n",
       "      <td>6350000.0</td>\n",
       "      <td>52.0</td>\n",
       "      <td>2018-02-06T00:00:00</td>\n",
       "      <td>2</td>\n",
       "      <td>3.00</td>\n",
       "      <td>6.0</td>\n",
       "      <td>2.0</td>\n",
       "      <td>2</td>\n",
       "      <td>NaN</td>\n",
       "      <td>...</td>\n",
       "      <td>9.0</td>\n",
       "      <td>NaN</td>\n",
       "      <td>Санкт-Петербург</td>\n",
       "      <td>32453.0</td>\n",
       "      <td>6521.0</td>\n",
       "      <td>0.0</td>\n",
       "      <td>NaN</td>\n",
       "      <td>1.0</td>\n",
       "      <td>1012.0</td>\n",
       "      <td>91.0</td>\n",
       "    </tr>\n",
       "    <tr>\n",
       "      <th>21758</th>\n",
       "      <td>0</td>\n",
       "      <td>2330000.0</td>\n",
       "      <td>23.0</td>\n",
       "      <td>2018-01-01T00:00:00</td>\n",
       "      <td>0</td>\n",
       "      <td>2.65</td>\n",
       "      <td>24.0</td>\n",
       "      <td>2.0</td>\n",
       "      <td>22</td>\n",
       "      <td>NaN</td>\n",
       "      <td>...</td>\n",
       "      <td>NaN</td>\n",
       "      <td>NaN</td>\n",
       "      <td>посёлок Мурино</td>\n",
       "      <td>NaN</td>\n",
       "      <td>NaN</td>\n",
       "      <td>NaN</td>\n",
       "      <td>NaN</td>\n",
       "      <td>NaN</td>\n",
       "      <td>NaN</td>\n",
       "      <td>66.0</td>\n",
       "    </tr>\n",
       "    <tr>\n",
       "      <th>23574</th>\n",
       "      <td>14</td>\n",
       "      <td>64990000.0</td>\n",
       "      <td>139.0</td>\n",
       "      <td>2015-11-24T00:00:00</td>\n",
       "      <td>3</td>\n",
       "      <td>3.00</td>\n",
       "      <td>8.0</td>\n",
       "      <td>3.0</td>\n",
       "      <td>8</td>\n",
       "      <td>NaN</td>\n",
       "      <td>...</td>\n",
       "      <td>16.0</td>\n",
       "      <td>1.0</td>\n",
       "      <td>Санкт-Петербург</td>\n",
       "      <td>33255.0</td>\n",
       "      <td>5975.0</td>\n",
       "      <td>1.0</td>\n",
       "      <td>630.0</td>\n",
       "      <td>3.0</td>\n",
       "      <td>100.0</td>\n",
       "      <td>280.0</td>\n",
       "    </tr>\n",
       "  </tbody>\n",
       "</table>\n",
       "<p>4 rows × 22 columns</p>\n",
       "</div>"
      ],
      "text/plain": [
       "       total_images  last_price  total_area first_day_exposition  rooms  \\\n",
       "3242              7   4440000.0        41.0  2017-07-02T00:00:00      1   \n",
       "13915            20   6350000.0        52.0  2018-02-06T00:00:00      2   \n",
       "21758             0   2330000.0        23.0  2018-01-01T00:00:00      0   \n",
       "23574            14  64990000.0       139.0  2015-11-24T00:00:00      3   \n",
       "\n",
       "       ceiling_height  floors_total  living_area  floor is_apartment  ...  \\\n",
       "3242             2.65          17.0          3.0     17          NaN  ...   \n",
       "13915            3.00           6.0          2.0      2          NaN  ...   \n",
       "21758            2.65          24.0          2.0     22          NaN  ...   \n",
       "23574            3.00           8.0          3.0      8          NaN  ...   \n",
       "\n",
       "       kitchen_area  balcony    locality_name  airports_nearest  \\\n",
       "3242           11.0      NaN  Санкт-Петербург           19272.0   \n",
       "13915           9.0      NaN  Санкт-Петербург           32453.0   \n",
       "21758           NaN      NaN   посёлок Мурино               NaN   \n",
       "23574          16.0      1.0  Санкт-Петербург           33255.0   \n",
       "\n",
       "      cityCenters_nearest  parks_around3000  parks_nearest  ponds_around3000  \\\n",
       "3242              13073.0               0.0            NaN               0.0   \n",
       "13915              6521.0               0.0            NaN               1.0   \n",
       "21758                 NaN               NaN            NaN               NaN   \n",
       "23574              5975.0               1.0          630.0               3.0   \n",
       "\n",
       "       ponds_nearest  days_exposition  \n",
       "3242             NaN            216.0  \n",
       "13915         1012.0             91.0  \n",
       "21758            NaN             66.0  \n",
       "23574          100.0            280.0  \n",
       "\n",
       "[4 rows x 22 columns]"
      ]
     },
     "execution_count": 18,
     "metadata": {},
     "output_type": "execute_result"
    }
   ],
   "source": [
    "data.query('2 <= living_area < 5')"
   ]
  },
  {
   "cell_type": "code",
   "execution_count": 19,
   "metadata": {},
   "outputs": [],
   "source": [
    "data.drop(index=data.query('2 <= living_area < 5').index,inplace=True)"
   ]
  },
  {
   "cell_type": "code",
   "execution_count": 20,
   "metadata": {},
   "outputs": [
    {
     "data": {
      "text/plain": [
       "count    21739.000000\n",
       "mean        34.468662\n",
       "std         22.035193\n",
       "min          5.000000\n",
       "25%         18.600000\n",
       "50%         30.000000\n",
       "75%         42.300000\n",
       "max        409.700000\n",
       "Name: living_area, dtype: float64"
      ]
     },
     "execution_count": 20,
     "metadata": {},
     "output_type": "execute_result"
    }
   ],
   "source": [
    "data.living_area.describe()"
   ]
  },
  {
   "cell_type": "code",
   "execution_count": 21,
   "metadata": {
    "scrolled": true
   },
   "outputs": [
    {
     "data": {
      "image/png": "[encoded data removed]",
      "text/plain": [
       "<Figure size 432x288 with 1 Axes>"
      ]
     },
     "metadata": {
      "needs_background": "light"
     },
     "output_type": "display_data"
    }
   ],
   "source": [
    "plt.ylim(0, 100)\n",
    "data.boxplot('living_area')\n",
    "plt.show()"
   ]
  },
  {
   "cell_type": "markdown",
   "metadata": {},
   "source": [
    "Считаем коэффициент отношения жилой площади к общей и с помощью этого коэффициента заполняем пропуски. В начале и конце обработки выводим датафремы для проверки."
   ]
  },
  {
   "cell_type": "code",
   "execution_count": 22,
   "metadata": {},
   "outputs": [
    {
     "data": {
      "text/html": [
       "<div>\n",
       "<style scoped>\n",
       "    .dataframe tbody tr th:only-of-type {\n",
       "        vertical-align: middle;\n",
       "    }\n",
       "\n",
       "    .dataframe tbody tr th {\n",
       "        vertical-align: top;\n",
       "    }\n",
       "\n",
       "    .dataframe thead th {\n",
       "        text-align: right;\n",
       "    }\n",
       "</style>\n",
       "<table border=\"1\" class=\"dataframe\">\n",
       "  <thead>\n",
       "    <tr style=\"text-align: right;\">\n",
       "      <th></th>\n",
       "      <th>total_area</th>\n",
       "      <th>living_area</th>\n",
       "      <th>kitchen_area</th>\n",
       "    </tr>\n",
       "  </thead>\n",
       "  <tbody>\n",
       "    <tr>\n",
       "      <th>0</th>\n",
       "      <td>108.00</td>\n",
       "      <td>51.00</td>\n",
       "      <td>25.00</td>\n",
       "    </tr>\n",
       "    <tr>\n",
       "      <th>1</th>\n",
       "      <td>40.40</td>\n",
       "      <td>18.60</td>\n",
       "      <td>11.00</td>\n",
       "    </tr>\n",
       "    <tr>\n",
       "      <th>2</th>\n",
       "      <td>56.00</td>\n",
       "      <td>34.30</td>\n",
       "      <td>8.30</td>\n",
       "    </tr>\n",
       "    <tr>\n",
       "      <th>3</th>\n",
       "      <td>159.00</td>\n",
       "      <td>NaN</td>\n",
       "      <td>NaN</td>\n",
       "    </tr>\n",
       "    <tr>\n",
       "      <th>4</th>\n",
       "      <td>100.00</td>\n",
       "      <td>32.00</td>\n",
       "      <td>41.00</td>\n",
       "    </tr>\n",
       "    <tr>\n",
       "      <th>5</th>\n",
       "      <td>30.40</td>\n",
       "      <td>14.40</td>\n",
       "      <td>9.10</td>\n",
       "    </tr>\n",
       "    <tr>\n",
       "      <th>6</th>\n",
       "      <td>37.30</td>\n",
       "      <td>10.60</td>\n",
       "      <td>14.40</td>\n",
       "    </tr>\n",
       "    <tr>\n",
       "      <th>7</th>\n",
       "      <td>71.60</td>\n",
       "      <td>NaN</td>\n",
       "      <td>18.90</td>\n",
       "    </tr>\n",
       "    <tr>\n",
       "      <th>8</th>\n",
       "      <td>33.16</td>\n",
       "      <td>15.43</td>\n",
       "      <td>8.81</td>\n",
       "    </tr>\n",
       "    <tr>\n",
       "      <th>9</th>\n",
       "      <td>61.00</td>\n",
       "      <td>43.60</td>\n",
       "      <td>6.50</td>\n",
       "    </tr>\n",
       "    <tr>\n",
       "      <th>10</th>\n",
       "      <td>39.60</td>\n",
       "      <td>20.30</td>\n",
       "      <td>8.50</td>\n",
       "    </tr>\n",
       "    <tr>\n",
       "      <th>11</th>\n",
       "      <td>44.00</td>\n",
       "      <td>31.00</td>\n",
       "      <td>6.00</td>\n",
       "    </tr>\n",
       "    <tr>\n",
       "      <th>12</th>\n",
       "      <td>54.00</td>\n",
       "      <td>30.00</td>\n",
       "      <td>9.00</td>\n",
       "    </tr>\n",
       "    <tr>\n",
       "      <th>13</th>\n",
       "      <td>42.80</td>\n",
       "      <td>27.00</td>\n",
       "      <td>5.20</td>\n",
       "    </tr>\n",
       "    <tr>\n",
       "      <th>14</th>\n",
       "      <td>36.00</td>\n",
       "      <td>17.00</td>\n",
       "      <td>8.00</td>\n",
       "    </tr>\n",
       "    <tr>\n",
       "      <th>15</th>\n",
       "      <td>39.00</td>\n",
       "      <td>20.50</td>\n",
       "      <td>7.60</td>\n",
       "    </tr>\n",
       "    <tr>\n",
       "      <th>16</th>\n",
       "      <td>82.00</td>\n",
       "      <td>55.60</td>\n",
       "      <td>9.00</td>\n",
       "    </tr>\n",
       "    <tr>\n",
       "      <th>17</th>\n",
       "      <td>36.00</td>\n",
       "      <td>16.50</td>\n",
       "      <td>11.00</td>\n",
       "    </tr>\n",
       "    <tr>\n",
       "      <th>18</th>\n",
       "      <td>31.00</td>\n",
       "      <td>19.40</td>\n",
       "      <td>5.60</td>\n",
       "    </tr>\n",
       "    <tr>\n",
       "      <th>19</th>\n",
       "      <td>121.00</td>\n",
       "      <td>76.00</td>\n",
       "      <td>12.00</td>\n",
       "    </tr>\n",
       "  </tbody>\n",
       "</table>\n",
       "</div>"
      ],
      "text/plain": [
       "    total_area  living_area  kitchen_area\n",
       "0       108.00        51.00         25.00\n",
       "1        40.40        18.60         11.00\n",
       "2        56.00        34.30          8.30\n",
       "3       159.00          NaN           NaN\n",
       "4       100.00        32.00         41.00\n",
       "5        30.40        14.40          9.10\n",
       "6        37.30        10.60         14.40\n",
       "7        71.60          NaN         18.90\n",
       "8        33.16        15.43          8.81\n",
       "9        61.00        43.60          6.50\n",
       "10       39.60        20.30          8.50\n",
       "11       44.00        31.00          6.00\n",
       "12       54.00        30.00          9.00\n",
       "13       42.80        27.00          5.20\n",
       "14       36.00        17.00          8.00\n",
       "15       39.00        20.50          7.60\n",
       "16       82.00        55.60          9.00\n",
       "17       36.00        16.50         11.00\n",
       "18       31.00        19.40          5.60\n",
       "19      121.00        76.00         12.00"
      ]
     },
     "execution_count": 22,
     "metadata": {},
     "output_type": "execute_result"
    }
   ],
   "source": [
    "df = data[['total_area','living_area','kitchen_area']]\n",
    "df[df.any(axis=1)].head(20)"
   ]
  },
  {
   "cell_type": "code",
   "execution_count": 23,
   "metadata": {},
   "outputs": [
    {
     "data": {
      "text/html": [
       "<div>\n",
       "<style scoped>\n",
       "    .dataframe tbody tr th:only-of-type {\n",
       "        vertical-align: middle;\n",
       "    }\n",
       "\n",
       "    .dataframe tbody tr th {\n",
       "        vertical-align: top;\n",
       "    }\n",
       "\n",
       "    .dataframe thead th {\n",
       "        text-align: right;\n",
       "    }\n",
       "</style>\n",
       "<table border=\"1\" class=\"dataframe\">\n",
       "  <thead>\n",
       "    <tr style=\"text-align: right;\">\n",
       "      <th></th>\n",
       "      <th>living_area</th>\n",
       "      <th>total_area</th>\n",
       "    </tr>\n",
       "  </thead>\n",
       "  <tbody>\n",
       "    <tr>\n",
       "      <th>0</th>\n",
       "      <td>51.000000</td>\n",
       "      <td>108.00</td>\n",
       "    </tr>\n",
       "    <tr>\n",
       "      <th>1</th>\n",
       "      <td>18.600000</td>\n",
       "      <td>40.40</td>\n",
       "    </tr>\n",
       "    <tr>\n",
       "      <th>2</th>\n",
       "      <td>34.300000</td>\n",
       "      <td>56.00</td>\n",
       "    </tr>\n",
       "    <tr>\n",
       "      <th>3</th>\n",
       "      <td>91.730769</td>\n",
       "      <td>159.00</td>\n",
       "    </tr>\n",
       "    <tr>\n",
       "      <th>4</th>\n",
       "      <td>32.000000</td>\n",
       "      <td>100.00</td>\n",
       "    </tr>\n",
       "    <tr>\n",
       "      <th>5</th>\n",
       "      <td>14.400000</td>\n",
       "      <td>30.40</td>\n",
       "    </tr>\n",
       "    <tr>\n",
       "      <th>6</th>\n",
       "      <td>10.600000</td>\n",
       "      <td>37.30</td>\n",
       "    </tr>\n",
       "    <tr>\n",
       "      <th>7</th>\n",
       "      <td>41.307692</td>\n",
       "      <td>71.60</td>\n",
       "    </tr>\n",
       "    <tr>\n",
       "      <th>8</th>\n",
       "      <td>15.430000</td>\n",
       "      <td>33.16</td>\n",
       "    </tr>\n",
       "    <tr>\n",
       "      <th>9</th>\n",
       "      <td>43.600000</td>\n",
       "      <td>61.00</td>\n",
       "    </tr>\n",
       "    <tr>\n",
       "      <th>10</th>\n",
       "      <td>20.300000</td>\n",
       "      <td>39.60</td>\n",
       "    </tr>\n",
       "    <tr>\n",
       "      <th>11</th>\n",
       "      <td>31.000000</td>\n",
       "      <td>44.00</td>\n",
       "    </tr>\n",
       "    <tr>\n",
       "      <th>12</th>\n",
       "      <td>30.000000</td>\n",
       "      <td>54.00</td>\n",
       "    </tr>\n",
       "    <tr>\n",
       "      <th>13</th>\n",
       "      <td>27.000000</td>\n",
       "      <td>42.80</td>\n",
       "    </tr>\n",
       "    <tr>\n",
       "      <th>14</th>\n",
       "      <td>17.000000</td>\n",
       "      <td>36.00</td>\n",
       "    </tr>\n",
       "    <tr>\n",
       "      <th>15</th>\n",
       "      <td>20.500000</td>\n",
       "      <td>39.00</td>\n",
       "    </tr>\n",
       "    <tr>\n",
       "      <th>16</th>\n",
       "      <td>55.600000</td>\n",
       "      <td>82.00</td>\n",
       "    </tr>\n",
       "    <tr>\n",
       "      <th>17</th>\n",
       "      <td>16.500000</td>\n",
       "      <td>36.00</td>\n",
       "    </tr>\n",
       "    <tr>\n",
       "      <th>18</th>\n",
       "      <td>19.400000</td>\n",
       "      <td>31.00</td>\n",
       "    </tr>\n",
       "    <tr>\n",
       "      <th>19</th>\n",
       "      <td>76.000000</td>\n",
       "      <td>121.00</td>\n",
       "    </tr>\n",
       "  </tbody>\n",
       "</table>\n",
       "</div>"
      ],
      "text/plain": [
       "    living_area  total_area\n",
       "0     51.000000      108.00\n",
       "1     18.600000       40.40\n",
       "2     34.300000       56.00\n",
       "3     91.730769      159.00\n",
       "4     32.000000      100.00\n",
       "5     14.400000       30.40\n",
       "6     10.600000       37.30\n",
       "7     41.307692       71.60\n",
       "8     15.430000       33.16\n",
       "9     43.600000       61.00\n",
       "10    20.300000       39.60\n",
       "11    31.000000       44.00\n",
       "12    30.000000       54.00\n",
       "13    27.000000       42.80\n",
       "14    17.000000       36.00\n",
       "15    20.500000       39.00\n",
       "16    55.600000       82.00\n",
       "17    16.500000       36.00\n",
       "18    19.400000       31.00\n",
       "19    76.000000      121.00"
      ]
     },
     "execution_count": 23,
     "metadata": {},
     "output_type": "execute_result"
    }
   ],
   "source": [
    "liv_area_koeff = data.living_area.median()/data.total_area.median()\n",
    "\n",
    "data['living_area'] = data['living_area'].fillna(data['total_area']*liv_area_koeff)\n",
    "df = data[['living_area','total_area']]\n",
    "df[df.any(axis=1)].head(20)\n"
   ]
  },
  {
   "cell_type": "markdown",
   "metadata": {},
   "source": [
    "Признак отношения к апартаментам не указан в большинстве случаев,\n",
    "скорее всего жилье апартаментами не является или продавцы не понимают, \n",
    "что это такое при выставлении продажи, поэтому ставим признак \"не является\" "
   ]
  },
  {
   "cell_type": "code",
   "execution_count": 24,
   "metadata": {},
   "outputs": [
    {
     "data": {
      "text/plain": [
       "count     23609\n",
       "unique        2\n",
       "top       False\n",
       "freq      23559\n",
       "Name: is_apartment, dtype: object"
      ]
     },
     "execution_count": 24,
     "metadata": {},
     "output_type": "execute_result"
    }
   ],
   "source": [
    "data.is_apartment = data.is_apartment.fillna(False)\n",
    "data.is_apartment.describe()"
   ]
  },
  {
   "cell_type": "markdown",
   "metadata": {},
   "source": [
    "Считаем коэффициент отношения площади кухни к общей и с помощью этого коэффициента заполняем пропуски. В начале и конце обработки выводим датафремы для проверки.\n"
   ]
  },
  {
   "cell_type": "code",
   "execution_count": 25,
   "metadata": {},
   "outputs": [
    {
     "data": {
      "text/html": [
       "<div>\n",
       "<style scoped>\n",
       "    .dataframe tbody tr th:only-of-type {\n",
       "        vertical-align: middle;\n",
       "    }\n",
       "\n",
       "    .dataframe tbody tr th {\n",
       "        vertical-align: top;\n",
       "    }\n",
       "\n",
       "    .dataframe thead th {\n",
       "        text-align: right;\n",
       "    }\n",
       "</style>\n",
       "<table border=\"1\" class=\"dataframe\">\n",
       "  <thead>\n",
       "    <tr style=\"text-align: right;\">\n",
       "      <th></th>\n",
       "      <th>kitchen_area</th>\n",
       "      <th>total_area</th>\n",
       "    </tr>\n",
       "  </thead>\n",
       "  <tbody>\n",
       "    <tr>\n",
       "      <th>0</th>\n",
       "      <td>25.000</td>\n",
       "      <td>108.00</td>\n",
       "    </tr>\n",
       "    <tr>\n",
       "      <th>1</th>\n",
       "      <td>11.000</td>\n",
       "      <td>40.40</td>\n",
       "    </tr>\n",
       "    <tr>\n",
       "      <th>2</th>\n",
       "      <td>8.300</td>\n",
       "      <td>56.00</td>\n",
       "    </tr>\n",
       "    <tr>\n",
       "      <th>3</th>\n",
       "      <td>27.825</td>\n",
       "      <td>159.00</td>\n",
       "    </tr>\n",
       "    <tr>\n",
       "      <th>4</th>\n",
       "      <td>41.000</td>\n",
       "      <td>100.00</td>\n",
       "    </tr>\n",
       "    <tr>\n",
       "      <th>5</th>\n",
       "      <td>9.100</td>\n",
       "      <td>30.40</td>\n",
       "    </tr>\n",
       "    <tr>\n",
       "      <th>6</th>\n",
       "      <td>14.400</td>\n",
       "      <td>37.30</td>\n",
       "    </tr>\n",
       "    <tr>\n",
       "      <th>7</th>\n",
       "      <td>18.900</td>\n",
       "      <td>71.60</td>\n",
       "    </tr>\n",
       "    <tr>\n",
       "      <th>8</th>\n",
       "      <td>8.810</td>\n",
       "      <td>33.16</td>\n",
       "    </tr>\n",
       "    <tr>\n",
       "      <th>9</th>\n",
       "      <td>6.500</td>\n",
       "      <td>61.00</td>\n",
       "    </tr>\n",
       "    <tr>\n",
       "      <th>10</th>\n",
       "      <td>8.500</td>\n",
       "      <td>39.60</td>\n",
       "    </tr>\n",
       "    <tr>\n",
       "      <th>11</th>\n",
       "      <td>6.000</td>\n",
       "      <td>44.00</td>\n",
       "    </tr>\n",
       "    <tr>\n",
       "      <th>12</th>\n",
       "      <td>9.000</td>\n",
       "      <td>54.00</td>\n",
       "    </tr>\n",
       "    <tr>\n",
       "      <th>13</th>\n",
       "      <td>5.200</td>\n",
       "      <td>42.80</td>\n",
       "    </tr>\n",
       "    <tr>\n",
       "      <th>14</th>\n",
       "      <td>8.000</td>\n",
       "      <td>36.00</td>\n",
       "    </tr>\n",
       "    <tr>\n",
       "      <th>15</th>\n",
       "      <td>7.600</td>\n",
       "      <td>39.00</td>\n",
       "    </tr>\n",
       "    <tr>\n",
       "      <th>16</th>\n",
       "      <td>9.000</td>\n",
       "      <td>82.00</td>\n",
       "    </tr>\n",
       "    <tr>\n",
       "      <th>17</th>\n",
       "      <td>11.000</td>\n",
       "      <td>36.00</td>\n",
       "    </tr>\n",
       "    <tr>\n",
       "      <th>18</th>\n",
       "      <td>5.600</td>\n",
       "      <td>31.00</td>\n",
       "    </tr>\n",
       "    <tr>\n",
       "      <th>19</th>\n",
       "      <td>12.000</td>\n",
       "      <td>121.00</td>\n",
       "    </tr>\n",
       "  </tbody>\n",
       "</table>\n",
       "</div>"
      ],
      "text/plain": [
       "    kitchen_area  total_area\n",
       "0         25.000      108.00\n",
       "1         11.000       40.40\n",
       "2          8.300       56.00\n",
       "3         27.825      159.00\n",
       "4         41.000      100.00\n",
       "5          9.100       30.40\n",
       "6         14.400       37.30\n",
       "7         18.900       71.60\n",
       "8          8.810       33.16\n",
       "9          6.500       61.00\n",
       "10         8.500       39.60\n",
       "11         6.000       44.00\n",
       "12         9.000       54.00\n",
       "13         5.200       42.80\n",
       "14         8.000       36.00\n",
       "15         7.600       39.00\n",
       "16         9.000       82.00\n",
       "17        11.000       36.00\n",
       "18         5.600       31.00\n",
       "19        12.000      121.00"
      ]
     },
     "execution_count": 25,
     "metadata": {},
     "output_type": "execute_result"
    }
   ],
   "source": [
    "kitch_area_koeff = data.kitchen_area.median()/data.total_area.median()\n",
    "\n",
    "data['kitchen_area'] = data['kitchen_area'].fillna(data['total_area']*kitch_area_koeff)\n",
    "df = data[['kitchen_area','total_area']]\n",
    "df[df.any(axis=1)].head(20)"
   ]
  },
  {
   "cell_type": "markdown",
   "metadata": {},
   "source": [
    "Будем считать что пропуски балконов означают их отсутствие, поэтому пропуски заменяем на 0"
   ]
  },
  {
   "cell_type": "code",
   "execution_count": 26,
   "metadata": {},
   "outputs": [],
   "source": [
    "data.balcony = data.balcony.fillna(0)"
   ]
  },
  {
   "cell_type": "markdown",
   "metadata": {},
   "source": [
    "В locality_name явных дубликатов вроде нет, но присутствуют множество неявных дубликатов, например:\n",
    "- Поселок Мурино - Мурино\n",
    "- Село Никольское - Никольское\n",
    "- Деревня Кудрово - Кудрово\n",
    "- поселок - посёлок и тп\n",
    "\n"
   ]
  },
  {
   "cell_type": "code",
   "execution_count": 27,
   "metadata": {},
   "outputs": [
    {
     "data": {
      "text/plain": [
       "{nan,\n",
       " 'Бокситогорск',\n",
       " 'Волосово',\n",
       " 'Волхов',\n",
       " 'Всеволожск',\n",
       " 'Выборг',\n",
       " 'Высоцк',\n",
       " 'Гатчина',\n",
       " 'Зеленогорск',\n",
       " 'Ивангород',\n",
       " 'Каменногорск',\n",
       " 'Кингисепп',\n",
       " 'Кириши',\n",
       " 'Кировск',\n",
       " 'Колпино',\n",
       " 'Коммунар',\n",
       " 'Красное Село',\n",
       " 'Кронштадт',\n",
       " 'Кудрово',\n",
       " 'Лодейное Поле',\n",
       " 'Ломоносов',\n",
       " 'Луга',\n",
       " 'Любань',\n",
       " 'Мурино',\n",
       " 'Никольское',\n",
       " 'Новая Ладога',\n",
       " 'Отрадное',\n",
       " 'Павловск',\n",
       " 'Петергоф',\n",
       " 'Пикалёво',\n",
       " 'Подпорожье',\n",
       " 'Приморск',\n",
       " 'Приозерск',\n",
       " 'Пушкин',\n",
       " 'Санкт-Петербург',\n",
       " 'Светогорск',\n",
       " 'Сертолово',\n",
       " 'Сестрорецк',\n",
       " 'Сланцы',\n",
       " 'Сосновый Бор',\n",
       " 'Сясьстрой',\n",
       " 'Тихвин',\n",
       " 'Тосно',\n",
       " 'Шлиссельбург',\n",
       " 'городской поселок Большая Ижора',\n",
       " 'городской поселок Янино-1',\n",
       " 'городской посёлок Будогощь',\n",
       " 'городской посёлок Виллози',\n",
       " 'городской посёлок Лесогорский',\n",
       " 'городской посёлок Мга',\n",
       " 'городской посёлок Назия',\n",
       " 'городской посёлок Новоселье',\n",
       " 'городской посёлок Павлово',\n",
       " 'городской посёлок Рощино',\n",
       " 'городской посёлок Свирьстрой',\n",
       " 'городской посёлок Советский',\n",
       " 'городской посёлок Фёдоровское',\n",
       " 'городской посёлок Янино-1',\n",
       " 'деревня Агалатово',\n",
       " 'деревня Аро',\n",
       " 'деревня Батово',\n",
       " 'деревня Бегуницы',\n",
       " 'деревня Белогорка',\n",
       " 'деревня Большая Вруда',\n",
       " 'деревня Большая Пустомержа',\n",
       " 'деревня Большие Колпаны',\n",
       " 'деревня Большое Рейзино',\n",
       " 'деревня Большой Сабск',\n",
       " 'деревня Бор',\n",
       " 'деревня Борисова Грива',\n",
       " 'деревня Ваганово',\n",
       " 'деревня Вартемяги',\n",
       " 'деревня Вахнова Кара',\n",
       " 'деревня Выскатка',\n",
       " 'деревня Гарболово',\n",
       " 'деревня Глинка',\n",
       " 'деревня Горбунки',\n",
       " 'деревня Гостилицы',\n",
       " 'деревня Заклинье',\n",
       " 'деревня Заневка',\n",
       " 'деревня Зимитицы',\n",
       " 'деревня Извара',\n",
       " 'деревня Иссад',\n",
       " 'деревня Калитино',\n",
       " 'деревня Кальтино',\n",
       " 'деревня Камышовка',\n",
       " 'деревня Каськово',\n",
       " 'деревня Келози',\n",
       " 'деревня Кипень',\n",
       " 'деревня Кисельня',\n",
       " 'деревня Колтуши',\n",
       " 'деревня Коркино',\n",
       " 'деревня Котлы',\n",
       " 'деревня Кривко',\n",
       " 'деревня Кудрово',\n",
       " 'деревня Кузьмолово',\n",
       " 'деревня Курковицы',\n",
       " 'деревня Куровицы',\n",
       " 'деревня Куттузи',\n",
       " 'деревня Лаврики',\n",
       " 'деревня Лаголово',\n",
       " 'деревня Лампово',\n",
       " 'деревня Лесколово',\n",
       " 'деревня Лопухинка',\n",
       " 'деревня Лупполово',\n",
       " 'деревня Малая Романовка',\n",
       " 'деревня Малое Верево',\n",
       " 'деревня Малое Карлино',\n",
       " 'деревня Малые Колпаны',\n",
       " 'деревня Мануйлово',\n",
       " 'деревня Меньково',\n",
       " 'деревня Мины',\n",
       " 'деревня Мистолово',\n",
       " 'деревня Ненимяки',\n",
       " 'деревня Нижние Осельки',\n",
       " 'деревня Нижняя',\n",
       " 'деревня Низино',\n",
       " 'деревня Новое Девяткино',\n",
       " 'деревня Новолисино',\n",
       " 'деревня Нурма',\n",
       " 'деревня Оржицы',\n",
       " 'деревня Парицы',\n",
       " 'деревня Пельгора',\n",
       " 'деревня Пеники',\n",
       " 'деревня Пижма',\n",
       " 'деревня Пикколово',\n",
       " 'деревня Пудомяги',\n",
       " 'деревня Пустынка',\n",
       " 'деревня Пчева',\n",
       " 'деревня Рабитицы',\n",
       " 'деревня Разбегаево',\n",
       " 'деревня Раздолье',\n",
       " 'деревня Разметелево',\n",
       " 'деревня Рапполово',\n",
       " 'деревня Реброво',\n",
       " 'деревня Русско',\n",
       " 'деревня Сижно',\n",
       " 'деревня Снегирёвка',\n",
       " 'деревня Старая',\n",
       " 'деревня Старая Пустошь',\n",
       " 'деревня Старое Хинколово',\n",
       " 'деревня Старополье',\n",
       " 'деревня Старосиверская',\n",
       " 'деревня Старые Бегуницы',\n",
       " 'деревня Суоранда',\n",
       " 'деревня Сяськелево',\n",
       " 'деревня Тарасово',\n",
       " 'деревня Терпилицы',\n",
       " 'деревня Тихковицы',\n",
       " 'деревня Тойворово',\n",
       " 'деревня Торосово',\n",
       " 'деревня Торошковичи',\n",
       " 'деревня Трубников Бор',\n",
       " 'деревня Фалилеево',\n",
       " 'деревня Фёдоровское',\n",
       " 'деревня Хапо-Ое',\n",
       " 'деревня Хязельки',\n",
       " 'деревня Чудской Бор',\n",
       " 'деревня Шпаньково',\n",
       " 'деревня Щеглово',\n",
       " 'деревня Юкки',\n",
       " 'деревня Ялгино',\n",
       " 'деревня Яльгелево',\n",
       " 'деревня Ям-Тесово',\n",
       " 'коттеджный поселок Кивеннапа Север',\n",
       " 'коттеджный поселок Счастье',\n",
       " 'коттеджный посёлок Лесное',\n",
       " 'поселок Аннино',\n",
       " 'поселок Барышево',\n",
       " 'поселок Бугры',\n",
       " 'поселок Возрождение',\n",
       " 'поселок Войсковицы',\n",
       " 'поселок Володарское',\n",
       " 'поселок Гаврилово',\n",
       " 'поселок Гарболово',\n",
       " 'поселок Гладкое',\n",
       " 'поселок Глажево',\n",
       " 'поселок Глебычево',\n",
       " 'поселок Гончарово',\n",
       " 'поселок Громово',\n",
       " 'поселок Дружноселье',\n",
       " 'поселок Елизаветино',\n",
       " 'поселок Жилгородок',\n",
       " 'поселок Жилпосёлок',\n",
       " 'поселок Житково',\n",
       " 'поселок Заводской',\n",
       " 'поселок Запорожское',\n",
       " 'поселок Зимитицы',\n",
       " 'поселок Ильичёво',\n",
       " 'поселок Калитино',\n",
       " 'поселок Каложицы',\n",
       " 'поселок Кингисеппский',\n",
       " 'поселок Кирпичное',\n",
       " 'поселок Кобралово',\n",
       " 'поселок Кобринское',\n",
       " 'поселок Коммунары',\n",
       " 'поселок Коробицыно',\n",
       " 'поселок Котельский',\n",
       " 'поселок Красная Долина',\n",
       " 'поселок Красносельское',\n",
       " 'поселок Лесное',\n",
       " 'поселок Лисий Нос',\n",
       " 'поселок Лукаши',\n",
       " 'поселок Любань',\n",
       " 'поселок Мельниково',\n",
       " 'поселок Мичуринское',\n",
       " 'поселок Молодцово',\n",
       " 'поселок Мурино',\n",
       " 'поселок Новый Свет',\n",
       " 'поселок Новый Учхоз',\n",
       " 'поселок Оредеж',\n",
       " 'поселок Пансионат Зелёный Бор',\n",
       " 'поселок Первомайское',\n",
       " 'поселок Перово',\n",
       " 'поселок Петровское',\n",
       " 'поселок Победа',\n",
       " 'поселок Поляны',\n",
       " 'поселок Почап',\n",
       " 'поселок Починок',\n",
       " 'поселок Пушное',\n",
       " 'поселок Пчевжа',\n",
       " 'поселок Рабитицы',\n",
       " 'поселок Романовка',\n",
       " 'поселок Ромашки',\n",
       " 'поселок Рябово',\n",
       " 'поселок Севастьяново',\n",
       " 'поселок Селезнёво',\n",
       " 'поселок Сельцо',\n",
       " 'поселок Семиозерье',\n",
       " 'поселок Семрино',\n",
       " 'поселок Серебрянский',\n",
       " 'поселок Совхозный',\n",
       " 'поселок Старая Малукса',\n",
       " 'поселок Стеклянный',\n",
       " 'поселок Сумино',\n",
       " 'поселок Суходолье',\n",
       " 'поселок Тельмана',\n",
       " 'поселок Терволово',\n",
       " 'поселок Торковичи',\n",
       " 'поселок Тёсово-4',\n",
       " 'поселок Углово',\n",
       " 'поселок Усть-Луга',\n",
       " 'поселок Ушаки',\n",
       " 'поселок Цвелодубово',\n",
       " 'поселок Цвылёво',\n",
       " 'поселок городского типа Большая Ижора',\n",
       " 'поселок городского типа Вырица',\n",
       " 'поселок городского типа Дружная Горка',\n",
       " 'поселок городского типа Дубровка',\n",
       " 'поселок городского типа Ефимовский',\n",
       " 'поселок городского типа Кондратьево',\n",
       " 'поселок городского типа Красный Бор',\n",
       " 'поселок городского типа Кузьмоловский',\n",
       " 'поселок городского типа Лебяжье',\n",
       " 'поселок городского типа Лесогорский',\n",
       " 'поселок городского типа Назия',\n",
       " 'поселок городского типа Никольский',\n",
       " 'поселок городского типа Приладожский',\n",
       " 'поселок городского типа Рахья',\n",
       " 'поселок городского типа Рощино',\n",
       " 'поселок городского типа Рябово',\n",
       " 'поселок городского типа Синявино',\n",
       " 'поселок городского типа Советский',\n",
       " 'поселок городского типа Токсово',\n",
       " 'поселок городского типа Форносово',\n",
       " 'поселок городского типа имени Свердлова',\n",
       " 'поселок станции Вещево',\n",
       " 'поселок станции Корнево',\n",
       " 'поселок станции Лужайка',\n",
       " 'поселок станции Приветнинское',\n",
       " 'посёлок Александровская',\n",
       " 'посёлок Алексеевка',\n",
       " 'посёлок Аннино',\n",
       " 'посёлок Белоостров',\n",
       " 'посёлок Бугры',\n",
       " 'посёлок Возрождение',\n",
       " 'посёлок Войскорово',\n",
       " 'посёлок Высокоключевой',\n",
       " 'посёлок Гаврилово',\n",
       " 'посёлок Дзержинского',\n",
       " 'посёлок Жилгородок',\n",
       " 'посёлок Ильичёво',\n",
       " 'посёлок Кикерино',\n",
       " 'посёлок Кобралово',\n",
       " 'посёлок Коробицыно',\n",
       " 'посёлок Левашово',\n",
       " 'посёлок Ленинское',\n",
       " 'посёлок Лисий Нос',\n",
       " 'посёлок Мельниково',\n",
       " 'посёлок Металлострой',\n",
       " 'посёлок Мичуринское',\n",
       " 'посёлок Молодёжное',\n",
       " 'посёлок Мурино',\n",
       " 'посёлок Мыза-Ивановка',\n",
       " 'посёлок Новогорелово',\n",
       " 'посёлок Новый Свет',\n",
       " 'посёлок Пансионат Зелёный Бор',\n",
       " 'посёлок Парголово',\n",
       " 'посёлок Перово',\n",
       " 'посёлок Песочный',\n",
       " 'посёлок Петро-Славянка',\n",
       " 'посёлок Петровское',\n",
       " 'посёлок Платформа 69-й километр',\n",
       " 'посёлок Плодовое',\n",
       " 'посёлок Плоское',\n",
       " 'посёлок Победа',\n",
       " 'посёлок Поляны',\n",
       " 'посёлок Понтонный',\n",
       " 'посёлок Пригородный',\n",
       " 'посёлок Пудость',\n",
       " 'посёлок Репино',\n",
       " 'посёлок Ропша',\n",
       " 'посёлок Сапёрное',\n",
       " 'посёлок Сапёрный',\n",
       " 'посёлок Сосново',\n",
       " 'посёлок Старая Малукса',\n",
       " 'посёлок Стеклянный',\n",
       " 'посёлок Стрельна',\n",
       " 'посёлок Суйда',\n",
       " 'посёлок Сумино',\n",
       " 'посёлок Тельмана',\n",
       " 'посёлок Терволово',\n",
       " 'посёлок Торфяное',\n",
       " 'посёлок Усть-Ижора',\n",
       " 'посёлок Усть-Луга',\n",
       " 'посёлок Форт Красная Горка',\n",
       " 'посёлок Шугозеро',\n",
       " 'посёлок Шушары',\n",
       " 'посёлок Щеглово',\n",
       " 'посёлок городского типа Важины',\n",
       " 'посёлок городского типа Вознесенье',\n",
       " 'посёлок городского типа Вырица',\n",
       " 'посёлок городского типа Красный Бор',\n",
       " 'посёлок городского типа Кузнечное',\n",
       " 'посёлок городского типа Кузьмоловский',\n",
       " 'посёлок городского типа Лебяжье',\n",
       " 'посёлок городского типа Мга',\n",
       " 'посёлок городского типа Павлово',\n",
       " 'посёлок городского типа Рощино',\n",
       " 'посёлок городского типа Рябово',\n",
       " 'посёлок городского типа Сиверский',\n",
       " 'посёлок городского типа Тайцы',\n",
       " 'посёлок городского типа Токсово',\n",
       " 'посёлок городского типа Ульяновка',\n",
       " 'посёлок городского типа Форносово',\n",
       " 'посёлок городского типа имени Морозова',\n",
       " 'посёлок городского типа имени Свердлова',\n",
       " 'посёлок при железнодорожной станции Вещево',\n",
       " 'посёлок при железнодорожной станции Приветнинское',\n",
       " 'посёлок станции Громово',\n",
       " 'посёлок станции Свирь',\n",
       " 'садоводческое некоммерческое товарищество Лесная Поляна',\n",
       " 'садовое товарищество Новая Ропша',\n",
       " 'садовое товарищество Приладожский',\n",
       " 'садовое товарищество Рахья',\n",
       " 'садовое товарищество Садко',\n",
       " 'село Копорье',\n",
       " 'село Никольское',\n",
       " 'село Павлово',\n",
       " 'село Паша',\n",
       " 'село Путилово',\n",
       " 'село Рождествено',\n",
       " 'село Русско-Высоцкое',\n",
       " 'село Старая Ладога',\n",
       " 'село Шум'}"
      ]
     },
     "execution_count": 27,
     "metadata": {},
     "output_type": "execute_result"
    }
   ],
   "source": [
    "set(data.locality_name)\n",
    "\n"
   ]
  },
  {
   "cell_type": "code",
   "execution_count": 28,
   "metadata": {},
   "outputs": [
    {
     "name": "stdout",
     "output_type": "stream",
     "text": [
      "количество уникальных локаций: 364\n"
     ]
    }
   ],
   "source": [
    "print('количество уникальных локаций:', data.locality_name.nunique())"
   ]
  },
  {
   "cell_type": "markdown",
   "metadata": {},
   "source": [
    "Сначала удаляем строки, где не указано locality_name. Исследовать неизвестно что не имеет смысла и строк мало 49шт, данных под удаление гораздо меньше 10%, что совсем не критично. "
   ]
  },
  {
   "cell_type": "code",
   "execution_count": 29,
   "metadata": {},
   "outputs": [],
   "source": [
    "data = data.dropna(subset = ['locality_name'])"
   ]
  },
  {
   "cell_type": "markdown",
   "metadata": {},
   "source": [
    "Используем следующую обработку с целью разбить строковые значения наименований населенный пунктов по словам, чтобы в конечном итоге оставить только уникальное название населенного пункта, из которых мы составим  новый список из однословных названий и заменим им столбец locality_name"
   ]
  },
  {
   "cell_type": "code",
   "execution_count": 30,
   "metadata": {},
   "outputs": [],
   "source": [
    "#список слов, которые будем удалять\n",
    "words_to_delete= ['городской','посёлок','деревня','коттеджный','поселок','городского',\n",
    "            'типа','при','железнодорожной','станции','садоводческое','некоммерческое',         \n",
    "            'садовое', 'товарищество', 'село','типа']\n",
    "\n",
    "list_to_correct = data['locality_name']#переменная - столбец locality_name, который будем корректрировать\n",
    "\n",
    "new_list = [] #новый список куда будем вносить однословные названия населенных пунктов\n",
    " \n",
    "for row in list_to_correct:\n",
    "#перебираем циклом все строки в locality_name\n",
    "#в переменную resultwords записываем только то слово в разделенной строке методом split,\n",
    "#которое не присутствует в списке слов на удаление\n",
    "    resultwords  = [word for word in str(row).split() if word not in words_to_delete]\n",
    "#переменной result вместо пропуска присоединяем слово в resultwords методом append\n",
    "#добавляем в конец нового списка\n",
    "    result = ' '.join(resultwords)\n",
    "    new_list.append(result)\n",
    "   \n",
    " data['name_new'] = new_list #в столбец name_new заносим данные из списка c новыми названиями\n",
    "\n",
    "data['locality_name'] = data['name_new'] #данные столбца locality_name меняем на новые данные в столбце 'name_new'\n",
    "data.drop(['name_new'], axis = 1, inplace = True) #удаляем использованный столбец с новыми именами"
   ]
  },
  {
   "cell_type": "code",
   "execution_count": 31,
   "metadata": {},
   "outputs": [
    {
     "name": "stdout",
     "output_type": "stream",
     "text": [
      "количество уникальных названий после обработки: 305\n"
     ]
    }
   ],
   "source": [
    "print('количество уникальных названий после обработки:', data.locality_name.nunique())"
   ]
  },
  {
   "cell_type": "markdown",
   "metadata": {},
   "source": [
    "сбросим индекс строк после удаления "
   ]
  },
  {
   "cell_type": "code",
   "execution_count": 32,
   "metadata": {},
   "outputs": [],
   "source": [
    "data.reset_index(drop=True,inplace=True)"
   ]
  },
  {
   "cell_type": "code",
   "execution_count": 33,
   "metadata": {},
   "outputs": [
    {
     "name": "stdout",
     "output_type": "stream",
     "text": [
      "количество дубликатов названий после обработки: 0\n"
     ]
    }
   ],
   "source": [
    "print('количество дубликатов названий после обработки:' ,data.duplicated().sum())"
   ]
  },
  {
   "cell_type": "markdown",
   "metadata": {},
   "source": [
    "Пустые значения расстояния до ближайщего аэропорта заполняем медианным значением до аэропорта по локациям, незаполненные данные будут означать, что для данных локаций вообще отсутствует какая-либо информация и медианное значение невозможно определить. В этом случае оставляем пропуски в данном признаке как есть."
   ]
  },
  {
   "cell_type": "code",
   "execution_count": 34,
   "metadata": {},
   "outputs": [
    {
     "name": "stdout",
     "output_type": "stream",
     "text": [
      "Пропуски в airports_nearest после обработки --> 5431 Пропуски до обработки --> 5523\n"
     ]
    }
   ],
   "source": [
    "before = data.airports_nearest.isnull().sum()\n",
    "\n",
    "for locality_name in data['locality_name'].unique():\n",
    "    data.loc[(data['locality_name'] == locality_name) & (data['airports_nearest'].isna()), 'airports_nearest'] = \\\n",
    "    data.loc[(data['locality_name'] == locality_name), 'airports_nearest'].median()  \n",
    "\n",
    "print('Пропуски в airports_nearest после обработки -->', data.airports_nearest.isnull().sum(), 'Пропуски до обработки -->', before)"
   ]
  },
  {
   "cell_type": "markdown",
   "metadata": {},
   "source": [
    "Пустые значения расстояния до сентра города, количества парков в 3 км,расстояние до ближайшего парка, количество водоемов в 3 км,расстояние до ближайшего водоема заполняем медианным значением данных величин по локациям в представленных данных. Незаполненные данные будут означать, что для данных локаций вообще отсутствует какая-либо информация и медианное значение для признака невозможно определить. В этом случае оставляем пропуски в данном признаке как есть.После каждой замены проверяем сумму пропусков до и после обработки."
   ]
  },
  {
   "cell_type": "code",
   "execution_count": 35,
   "metadata": {},
   "outputs": [
    {
     "name": "stdout",
     "output_type": "stream",
     "text": [
      "Пропуски в cityCenters_nearest после обработки --> 5431 Пропуски до обработки --> 5500\n"
     ]
    }
   ],
   "source": [
    "before = data.cityCenters_nearest.isnull().sum()\n",
    "\n",
    "for locality_name in data['locality_name'].unique():\n",
    "    data.loc[(data['locality_name'] == locality_name) & (data['cityCenters_nearest'].isna()), 'cityCenters_nearest'] = \\\n",
    "    data.loc[(data['locality_name'] == locality_name), 'cityCenters_nearest'].median()  \n",
    "\n",
    "print('Пропуски в cityCenters_nearest после обработки -->', data.cityCenters_nearest.isnull().sum(), 'Пропуски до обработки -->', before)"
   ]
  },
  {
   "cell_type": "code",
   "execution_count": 36,
   "metadata": {
    "scrolled": true
   },
   "outputs": [
    {
     "name": "stdout",
     "output_type": "stream",
     "text": [
      "Пропуски в parks_around3000 после обработки --> 5431 Пропуски до обработки --> 5499\n"
     ]
    }
   ],
   "source": [
    "before = data.parks_around3000.isnull().sum()\n",
    "\n",
    "for locality_name in data['locality_name'].unique():\n",
    "    data.loc[(data['locality_name'] == locality_name) & (data['parks_around3000'].isna()), 'parks_around3000'] = \\\n",
    "    data.loc[(data['locality_name'] == locality_name), 'parks_around3000'].median()\n",
    "\n",
    "print('Пропуски в parks_around3000 после обработки -->', data.parks_around3000.isnull().sum(), 'Пропуски до обработки -->', before)"
   ]
  },
  {
   "cell_type": "code",
   "execution_count": 37,
   "metadata": {},
   "outputs": [
    {
     "name": "stdout",
     "output_type": "stream",
     "text": [
      "Пропуски в parks_nearest после обработки --> 5985 Пропуски до обработки --> 15532\n"
     ]
    }
   ],
   "source": [
    "before = data.parks_nearest.isnull().sum()\n",
    "\n",
    "for locality_name in data['locality_name'].unique():\n",
    "    data.loc[(data['locality_name'] == locality_name) & (data['parks_nearest'].isna()), 'parks_nearest'] = \\\n",
    "    data.loc[(data['locality_name'] == locality_name), 'parks_nearest'].median()    \n",
    "\n",
    "print('Пропуски в parks_nearest после обработки -->', data.parks_nearest.isnull().sum(), 'Пропуски до обработки -->', before)"
   ]
  },
  {
   "cell_type": "code",
   "execution_count": 38,
   "metadata": {},
   "outputs": [
    {
     "name": "stdout",
     "output_type": "stream",
     "text": [
      "Пропуски в ponds_around3000 после обработки --> 5431 Пропуски до обработки --> 5499\n"
     ]
    }
   ],
   "source": [
    "before = data.ponds_around3000.isnull().sum()\n",
    "\n",
    "for locality_name in data['locality_name'].unique():\n",
    "    data.loc[(data['locality_name'] == locality_name) & (data['ponds_around3000'].isna()), 'ponds_around3000'] = \\\n",
    "    data.loc[(data['locality_name'] == locality_name), 'ponds_around3000'].median()   \n",
    "\n",
    "print('Пропуски в ponds_around3000 после обработки -->', data.ponds_around3000.isnull().sum(), 'Пропуски до обработки -->', before)"
   ]
  },
  {
   "cell_type": "code",
   "execution_count": 39,
   "metadata": {},
   "outputs": [
    {
     "name": "stdout",
     "output_type": "stream",
     "text": [
      "Пропуски в ponds_nearest после обработки --> 5516 Пропуски до обработки --> 14527\n"
     ]
    }
   ],
   "source": [
    "before = data.ponds_nearest.isnull().sum()\n",
    "\n",
    "for locality_name in data['locality_name'].unique():\n",
    "    data.loc[(data['locality_name'] == locality_name) & (data['ponds_nearest'].isna()), 'ponds_nearest'] = \\\n",
    "    data.loc[(data['locality_name'] == locality_name), 'ponds_nearest'].median()   \n",
    "\n",
    "print('Пропуски в ponds_nearest после обработки -->', data.ponds_nearest.isnull().sum(), 'Пропуски до обработки -->', before)"
   ]
  },
  {
   "cell_type": "code",
   "execution_count": 40,
   "metadata": {},
   "outputs": [
    {
     "data": {
      "text/plain": [
       "0"
      ]
     },
     "execution_count": 40,
     "metadata": {},
     "output_type": "execute_result"
    }
   ],
   "source": [
    "data.days_exposition = data.days_exposition.fillna(data.days_exposition.median())     \n",
    "data.days_exposition.isnull().sum()"
   ]
  },
  {
   "cell_type": "markdown",
   "metadata": {},
   "source": [
    "Проверяем что пустых значений больше нет."
   ]
  },
  {
   "cell_type": "code",
   "execution_count": 41,
   "metadata": {},
   "outputs": [
    {
     "data": {
      "text/plain": [
       "total_images               0\n",
       "last_price                 0\n",
       "total_area                 0\n",
       "first_day_exposition       0\n",
       "rooms                      0\n",
       "ceiling_height             0\n",
       "floors_total               0\n",
       "living_area                0\n",
       "floor                      0\n",
       "is_apartment               0\n",
       "studio                     0\n",
       "open_plan                  0\n",
       "kitchen_area               0\n",
       "balcony                    0\n",
       "locality_name              0\n",
       "airports_nearest        5431\n",
       "cityCenters_nearest     5431\n",
       "parks_around3000        5431\n",
       "parks_nearest           5985\n",
       "ponds_around3000        5431\n",
       "ponds_nearest           5516\n",
       "days_exposition            0\n",
       "dtype: int64"
      ]
     },
     "execution_count": 41,
     "metadata": {},
     "output_type": "execute_result"
    }
   ],
   "source": [
    "data.isnull().sum()"
   ]
  },
  {
   "cell_type": "markdown",
   "metadata": {},
   "source": [
    "**Проверка и исправление типов данных в каждом столбце** "
   ]
  },
  {
   "cell_type": "code",
   "execution_count": 42,
   "metadata": {},
   "outputs": [
    {
     "name": "stdout",
     "output_type": "stream",
     "text": [
      "<class 'pandas.core.frame.DataFrame'>\n",
      "RangeIndex: 23561 entries, 0 to 23560\n",
      "Data columns (total 22 columns):\n",
      " #   Column                Non-Null Count  Dtype  \n",
      "---  ------                --------------  -----  \n",
      " 0   total_images          23561 non-null  int64  \n",
      " 1   last_price            23561 non-null  float64\n",
      " 2   total_area            23561 non-null  float64\n",
      " 3   first_day_exposition  23561 non-null  object \n",
      " 4   rooms                 23561 non-null  int64  \n",
      " 5   ceiling_height        23561 non-null  float64\n",
      " 6   floors_total          23561 non-null  float64\n",
      " 7   living_area           23561 non-null  float64\n",
      " 8   floor                 23561 non-null  int64  \n",
      " 9   is_apartment          23561 non-null  bool   \n",
      " 10  studio                23561 non-null  bool   \n",
      " 11  open_plan             23561 non-null  bool   \n",
      " 12  kitchen_area          23561 non-null  float64\n",
      " 13  balcony               23561 non-null  float64\n",
      " 14  locality_name         23561 non-null  object \n",
      " 15  airports_nearest      18130 non-null  float64\n",
      " 16  cityCenters_nearest   18130 non-null  float64\n",
      " 17  parks_around3000      18130 non-null  float64\n",
      " 18  parks_nearest         17576 non-null  float64\n",
      " 19  ponds_around3000      18130 non-null  float64\n",
      " 20  ponds_nearest         18045 non-null  float64\n",
      " 21  days_exposition       23561 non-null  float64\n",
      "dtypes: bool(3), float64(14), int64(3), object(2)\n",
      "memory usage: 3.5+ MB\n"
     ]
    }
   ],
   "source": [
    "data.info()"
   ]
  },
  {
   "cell_type": "markdown",
   "metadata": {},
   "source": [
    " - тип данных is_apartment меняем на булевский, \n",
    " - из формата данных обрезаем время,так как в исходных данных оно везде рано нулю, \n",
    " - типы данных количество балконов,общее количество этажей,дни продажи, количество парков и водоемов в пределах 3 км меняем на целое число."
   ]
  },
  {
   "cell_type": "code",
   "execution_count": 43,
   "metadata": {},
   "outputs": [
    {
     "data": {
      "text/plain": [
       "0         95.0\n",
       "1         81.0\n",
       "2        558.0\n",
       "3        424.0\n",
       "4        121.0\n",
       "         ...  \n",
       "23556     95.0\n",
       "23557     45.0\n",
       "23558     95.0\n",
       "23559    602.0\n",
       "23560     95.0\n",
       "Name: days_exposition, Length: 23561, dtype: float64"
      ]
     },
     "metadata": {},
     "output_type": "display_data"
    }
   ],
   "source": [
    "display(data['days_exposition'])"
   ]
  },
  {
   "cell_type": "code",
   "execution_count": 44,
   "metadata": {},
   "outputs": [
    {
     "name": "stdout",
     "output_type": "stream",
     "text": [
      "<class 'pandas.core.frame.DataFrame'>\n",
      "RangeIndex: 23561 entries, 0 to 23560\n",
      "Data columns (total 22 columns):\n",
      " #   Column                Non-Null Count  Dtype         \n",
      "---  ------                --------------  -----         \n",
      " 0   total_images          23561 non-null  int64         \n",
      " 1   last_price            23561 non-null  float64       \n",
      " 2   total_area            23561 non-null  float64       \n",
      " 3   first_day_exposition  23561 non-null  datetime64[ns]\n",
      " 4   rooms                 23561 non-null  int64         \n",
      " 5   ceiling_height        23561 non-null  float64       \n",
      " 6   floors_total          23561 non-null  int64         \n",
      " 7   living_area           23561 non-null  float64       \n",
      " 8   floor                 23561 non-null  int64         \n",
      " 9   is_apartment          23561 non-null  bool          \n",
      " 10  studio                23561 non-null  bool          \n",
      " 11  open_plan             23561 non-null  bool          \n",
      " 12  kitchen_area          23561 non-null  float64       \n",
      " 13  balcony               23561 non-null  int64         \n",
      " 14  locality_name         23561 non-null  object        \n",
      " 15  airports_nearest      18130 non-null  float64       \n",
      " 16  cityCenters_nearest   18130 non-null  float64       \n",
      " 17  parks_around3000      23561 non-null  int64         \n",
      " 18  parks_nearest         17576 non-null  float64       \n",
      " 19  ponds_around3000      23561 non-null  int64         \n",
      " 20  ponds_nearest         18045 non-null  float64       \n",
      " 21  days_exposition       23561 non-null  int64         \n",
      "dtypes: bool(3), datetime64[ns](1), float64(9), int64(8), object(1)\n",
      "memory usage: 3.5+ MB\n"
     ]
    }
   ],
   "source": [
    "data.is_apartment = data.is_apartment.astype('bool')\n",
    "data.first_day_exposition = pd.to_datetime(data.first_day_exposition, format='%Y-%m-%d')\n",
    "data['balcony'] = data['balcony'].astype('int')\n",
    "data['floors_total'] = data['floors_total'].astype('int')\n",
    "data['days_exposition'] = data['days_exposition'].astype('int')\n",
    "data['parks_around3000'] = data['parks_around3000'].fillna(0).astype('int')\n",
    "data['ponds_around3000'] = data['ponds_around3000'].fillna(0).astype('int')\n",
    "\n",
    "data.info()"
   ]
  },
  {
   "cell_type": "markdown",
   "metadata": {},
   "source": [
    "### Посчитайте и добавьте в таблицу новые столбцы"
   ]
  },
  {
   "cell_type": "markdown",
   "metadata": {},
   "source": [
    "•\tцена одного квадратного метра"
   ]
  },
  {
   "cell_type": "code",
   "execution_count": 45,
   "metadata": {},
   "outputs": [],
   "source": [
    "data['sqm_price'] = data['last_price']/data['total_area']"
   ]
  },
  {
   "cell_type": "markdown",
   "metadata": {},
   "source": [
    "•\tдень недели публикации объявления (0 — понедельник, 1 — вторник и так далее)"
   ]
  },
  {
   "cell_type": "code",
   "execution_count": 46,
   "metadata": {},
   "outputs": [],
   "source": [
    "data['weekday_exposition'] = data['first_day_exposition'].dt.dayofweek"
   ]
  },
  {
   "cell_type": "markdown",
   "metadata": {},
   "source": [
    "•\tмесяц публикации объявления"
   ]
  },
  {
   "cell_type": "code",
   "execution_count": 47,
   "metadata": {},
   "outputs": [],
   "source": [
    "data['month_exposition'] = data['first_day_exposition'].dt.month"
   ]
  },
  {
   "cell_type": "markdown",
   "metadata": {},
   "source": [
    "•\tгод публикации объявления"
   ]
  },
  {
   "cell_type": "code",
   "execution_count": 48,
   "metadata": {},
   "outputs": [],
   "source": [
    "data['year_exposition'] = data['first_day_exposition'].dt.year"
   ]
  },
  {
   "cell_type": "markdown",
   "metadata": {},
   "source": [
    "•\tтип этажа квартиры (значения — «первый», «последний», «другой»)"
   ]
  },
  {
   "cell_type": "code",
   "execution_count": 49,
   "metadata": {},
   "outputs": [],
   "source": [
    "data['floor_type'] = np.where(data['floor'] == 1,'Первый', np.where(data['floor'] == data['floors_total'], 'Последний', 'Другой'))\n"
   ]
  },
  {
   "cell_type": "markdown",
   "metadata": {},
   "source": [
    "•\tрасстояние до центра города в километрах (переведите из м в км и округлите до целых значений)"
   ]
  },
  {
   "cell_type": "code",
   "execution_count": 50,
   "metadata": {},
   "outputs": [],
   "source": [
    "data['center_distance_km'] = round(data['cityCenters_nearest']/1000)"
   ]
  },
  {
   "cell_type": "markdown",
   "metadata": {},
   "source": [
    "Проверяем соответствие типов данных и наличие новых добавленных столбцов"
   ]
  },
  {
   "cell_type": "code",
   "execution_count": 51,
   "metadata": {},
   "outputs": [
    {
     "name": "stdout",
     "output_type": "stream",
     "text": [
      "<class 'pandas.core.frame.DataFrame'>\n",
      "RangeIndex: 23561 entries, 0 to 23560\n",
      "Data columns (total 28 columns):\n",
      " #   Column                Non-Null Count  Dtype         \n",
      "---  ------                --------------  -----         \n",
      " 0   total_images          23561 non-null  int64         \n",
      " 1   last_price            23561 non-null  float64       \n",
      " 2   total_area            23561 non-null  float64       \n",
      " 3   first_day_exposition  23561 non-null  datetime64[ns]\n",
      " 4   rooms                 23561 non-null  int64         \n",
      " 5   ceiling_height        23561 non-null  float64       \n",
      " 6   floors_total          23561 non-null  int64         \n",
      " 7   living_area           23561 non-null  float64       \n",
      " 8   floor                 23561 non-null  int64         \n",
      " 9   is_apartment          23561 non-null  bool          \n",
      " 10  studio                23561 non-null  bool          \n",
      " 11  open_plan             23561 non-null  bool          \n",
      " 12  kitchen_area          23561 non-null  float64       \n",
      " 13  balcony               23561 non-null  int64         \n",
      " 14  locality_name         23561 non-null  object        \n",
      " 15  airports_nearest      18130 non-null  float64       \n",
      " 16  cityCenters_nearest   18130 non-null  float64       \n",
      " 17  parks_around3000      23561 non-null  int64         \n",
      " 18  parks_nearest         17576 non-null  float64       \n",
      " 19  ponds_around3000      23561 non-null  int64         \n",
      " 20  ponds_nearest         18045 non-null  float64       \n",
      " 21  days_exposition       23561 non-null  int64         \n",
      " 22  sqm_price             23561 non-null  float64       \n",
      " 23  weekday_exposition    23561 non-null  int64         \n",
      " 24  month_exposition      23561 non-null  int64         \n",
      " 25  year_exposition       23561 non-null  int64         \n",
      " 26  floor_type            23561 non-null  object        \n",
      " 27  center_distance_km    18130 non-null  float64       \n",
      "dtypes: bool(3), datetime64[ns](1), float64(11), int64(11), object(2)\n",
      "memory usage: 4.6+ MB\n"
     ]
    }
   ],
   "source": [
    "data.info()"
   ]
  },
  {
   "cell_type": "markdown",
   "metadata": {},
   "source": [
    "### Проведите исследовательский анализ данных"
   ]
  },
  {
   "cell_type": "markdown",
   "metadata": {},
   "source": [
    " - #### Общая площадь"
   ]
  },
  {
   "cell_type": "code",
   "execution_count": 52,
   "metadata": {},
   "outputs": [
    {
     "data": {
      "image/png": "[encoded data removed]",
      "text/plain": [
       "<Figure size 432x288 with 1 Axes>"
      ]
     },
     "metadata": {
      "needs_background": "light"
     },
     "output_type": "display_data"
    },
    {
     "data": {
      "image/png": "[encoded data removed]",
      "text/plain": [
       "<Figure size 432x288 with 1 Axes>"
      ]
     },
     "metadata": {
      "needs_background": "light"
     },
     "output_type": "display_data"
    }
   ],
   "source": [
    "data.total_area.plot(kind='hist', bins=100)\n",
    "plt.show()\n",
    "data.total_area.plot(kind='hist', bins=100, range=(20,70))\n",
    "plt.show()\n"
   ]
  },
  {
   "cell_type": "markdown",
   "metadata": {},
   "source": [
    "Большинство обьектов недвижимости в диапазоне общей площади 30-70 м2. Выделяются стандартные значения ~33м2, ~46м2, ~62м2, что сокрее всего соответствует 1,2,3 комнатным квартирам которых на рынке большинство."
   ]
  },
  {
   "cell_type": "markdown",
   "metadata": {},
   "source": [
    "- #### Жилая площадь"
   ]
  },
  {
   "cell_type": "code",
   "execution_count": 53,
   "metadata": {},
   "outputs": [
    {
     "data": {
      "image/png": "[encoded data removed]",
      "text/plain": [
       "<Figure size 432x288 with 1 Axes>"
      ]
     },
     "metadata": {
      "needs_background": "light"
     },
     "output_type": "display_data"
    },
    {
     "data": {
      "image/png": "[encoded data removed]",
      "text/plain": [
       "<Figure size 432x288 with 1 Axes>"
      ]
     },
     "metadata": {
      "needs_background": "light"
     },
     "output_type": "display_data"
    },
    {
     "data": {
      "text/plain": [
       "count    23561.000000\n",
       "mean        34.626561\n",
       "std         22.397816\n",
       "min          5.000000\n",
       "25%         19.000000\n",
       "50%         30.000000\n",
       "75%         42.115385\n",
       "max        409.700000\n",
       "Name: living_area, dtype: float64"
      ]
     },
     "execution_count": 53,
     "metadata": {},
     "output_type": "execute_result"
    }
   ],
   "source": [
    "data.living_area.plot(kind='hist', bins=100)\n",
    "plt.show()\n",
    "data.living_area.plot(kind='hist', bins=100, range=(0,50))\n",
    "plt.show()\n",
    "data.living_area\n",
    "data.living_area.describe()"
   ]
  },
  {
   "cell_type": "markdown",
   "metadata": {},
   "source": [
    "По жилой площади основное количество квартир находится в диапазоне 19-42м2, выбиваются на этом фоне обьекты площадью 16-18м2 (вероятно комнаты в коммуналках,общежитиях или студии) и квартиры с жилой площадью 30м2."
   ]
  },
  {
   "cell_type": "markdown",
   "metadata": {},
   "source": [
    "- #### Площадь кухни"
   ]
  },
  {
   "cell_type": "code",
   "execution_count": 54,
   "metadata": {},
   "outputs": [
    {
     "data": {
      "image/png": "[encoded data removed]",
      "text/plain": [
       "<Figure size 432x288 with 1 Axes>"
      ]
     },
     "metadata": {
      "needs_background": "light"
     },
     "output_type": "display_data"
    },
    {
     "data": {
      "image/png": "[encoded data removed]",
      "text/plain": [
       "<Figure size 432x288 with 1 Axes>"
      ]
     },
     "metadata": {
      "needs_background": "light"
     },
     "output_type": "display_data"
    }
   ],
   "source": [
    "data.kitchen_area.plot(kind='hist', bins=100)\n",
    "plt.show()\n",
    "data.kitchen_area.plot(kind='hist', bins=100, range=(5,12))\n",
    "plt.show()"
   ]
  },
  {
   "cell_type": "markdown",
   "metadata": {},
   "source": [
    "В площади кухни лидирует стандартная кухня 6 и 10м2, потом 7м2  8м2 и 9м2"
   ]
  },
  {
   "cell_type": "markdown",
   "metadata": {},
   "source": [
    "- #### Цена квартиры"
   ]
  },
  {
   "cell_type": "code",
   "execution_count": 55,
   "metadata": {},
   "outputs": [
    {
     "data": {
      "image/png": "[encoded data removed]",
      "text/plain": [
       "<Figure size 432x288 with 1 Axes>"
      ]
     },
     "metadata": {
      "needs_background": "light"
     },
     "output_type": "display_data"
    },
    {
     "data": {
      "image/png": "[encoded data removed]",
      "text/plain": [
       "<Figure size 432x288 with 1 Axes>"
      ]
     },
     "metadata": {
      "needs_background": "light"
     },
     "output_type": "display_data"
    }
   ],
   "source": [
    "data.last_price.plot(kind='hist')\n",
    "plt.show()\n",
    "data.last_price.plot(kind='hist',bins=50, range=(1000000,8000000))\n",
    "plt.show()"
   ]
  },
  {
   "cell_type": "markdown",
   "metadata": {},
   "source": [
    "Больше всего квартир на рынке Санкт-Петербурга и области стоят 3,5 млн рублей."
   ]
  },
  {
   "cell_type": "markdown",
   "metadata": {},
   "source": [
    "- #### Количество комнат"
   ]
  },
  {
   "cell_type": "code",
   "execution_count": 56,
   "metadata": {},
   "outputs": [
    {
     "data": {
      "image/png": "[encoded data removed]",
      "text/plain": [
       "<Figure size 432x288 with 1 Axes>"
      ]
     },
     "metadata": {
      "needs_background": "light"
     },
     "output_type": "display_data"
    },
    {
     "data": {
      "image/png": "[encoded data removed]",
      "text/plain": [
       "<Figure size 432x288 with 1 Axes>"
      ]
     },
     "metadata": {
      "needs_background": "light"
     },
     "output_type": "display_data"
    }
   ],
   "source": [
    "data.rooms.plot(kind='hist', bins=100)\n",
    "plt.show()\n",
    "data.rooms.plot(kind='hist', bins=100, range=(0,5))\n",
    "plt.show()"
   ]
  },
  {
   "cell_type": "markdown",
   "metadata": {},
   "source": [
    "Больше всего на продажу выставлены 1,2,3х комнатные квартиры в порядке убывания"
   ]
  },
  {
   "cell_type": "markdown",
   "metadata": {},
   "source": [
    "- #### Высота потолков"
   ]
  },
  {
   "cell_type": "code",
   "execution_count": 57,
   "metadata": {},
   "outputs": [
    {
     "data": {
      "image/png": "[encoded data removed]",
      "text/plain": [
       "<Figure size 432x288 with 1 Axes>"
      ]
     },
     "metadata": {
      "needs_background": "light"
     },
     "output_type": "display_data"
    },
    {
     "data": {
      "image/png": "[encoded data removed]",
      "text/plain": [
       "<Figure size 432x288 with 1 Axes>"
      ]
     },
     "metadata": {
      "needs_background": "light"
     },
     "output_type": "display_data"
    }
   ],
   "source": [
    "data.ceiling_height.plot(kind='hist', bins=100)\n",
    "plt.show()\n",
    "data.ceiling_height.plot(kind='hist', bins=100, range=(2,3))\n",
    "plt.show()"
   ]
  },
  {
   "cell_type": "markdown",
   "metadata": {},
   "source": [
    "Недвижимость в продаже в основном со стандартной высотой потолков 2,7м, на втором месте высота 2,5м"
   ]
  },
  {
   "cell_type": "markdown",
   "metadata": {},
   "source": [
    "- #### Этажность квартир"
   ]
  },
  {
   "cell_type": "code",
   "execution_count": 58,
   "metadata": {},
   "outputs": [
    {
     "data": {
      "image/png": "[encoded data removed]",
      "text/plain": [
       "<Figure size 432x288 with 1 Axes>"
      ]
     },
     "metadata": {
      "needs_background": "light"
     },
     "output_type": "display_data"
    }
   ],
   "source": [
    "data.floor.plot(kind='hist', bins=100)\n",
    "plt.show()"
   ]
  },
  {
   "cell_type": "code",
   "execution_count": 59,
   "metadata": {
    "scrolled": true
   },
   "outputs": [
    {
     "data": {
      "image/png": "[encoded data removed]",
      "text/plain": [
       "<Figure size 432x288 with 1 Axes>"
      ]
     },
     "metadata": {
      "needs_background": "light"
     },
     "output_type": "display_data"
    }
   ],
   "source": [
    "data.floor_type.hist();"
   ]
  },
  {
   "cell_type": "markdown",
   "metadata": {},
   "source": [
    "В основном продаются квартиры между первым и последним этажами."
   ]
  },
  {
   "cell_type": "markdown",
   "metadata": {},
   "source": [
    "- #### Этажность домов, где продаются квартиры"
   ]
  },
  {
   "cell_type": "code",
   "execution_count": 60,
   "metadata": {},
   "outputs": [
    {
     "data": {
      "image/png": "[encoded data removed]",
      "text/plain": [
       "<Figure size 432x288 with 1 Axes>"
      ]
     },
     "metadata": {
      "needs_background": "light"
     },
     "output_type": "display_data"
    },
    {
     "data": {
      "image/png": "[encoded data removed]",
      "text/plain": [
       "<Figure size 432x288 with 1 Axes>"
      ]
     },
     "metadata": {
      "needs_background": "light"
     },
     "output_type": "display_data"
    }
   ],
   "source": [
    "data.floors_total.plot(kind='hist', bins=100)\n",
    "plt.show()\n",
    "data.floors_total.plot(kind='hist', bins=100, range=(0,10))\n",
    "plt.show()"
   ]
  },
  {
   "cell_type": "markdown",
   "metadata": {},
   "source": [
    "Наибольшее количество продаваемых квартир в 5ти и 9ти этажных домах."
   ]
  },
  {
   "cell_type": "markdown",
   "metadata": {},
   "source": [
    "- #### Расстояние квартир до центра города"
   ]
  },
  {
   "cell_type": "code",
   "execution_count": 61,
   "metadata": {},
   "outputs": [
    {
     "data": {
      "image/png": "[encoded data removed]",
      "text/plain": [
       "<Figure size 432x288 with 1 Axes>"
      ]
     },
     "metadata": {
      "needs_background": "light"
     },
     "output_type": "display_data"
    },
    {
     "data": {
      "image/png": "[encoded data removed]",
      "text/plain": [
       "<Figure size 432x288 with 1 Axes>"
      ]
     },
     "metadata": {
      "needs_background": "light"
     },
     "output_type": "display_data"
    }
   ],
   "source": [
    "data.cityCenters_nearest.plot(kind='hist', bins=100)\n",
    "plt.show()\n",
    "data.cityCenters_nearest.plot(kind='hist', bins=100, range=(0,2e04))\n",
    "plt.show()"
   ]
  },
  {
   "cell_type": "markdown",
   "metadata": {},
   "source": [
    "В среднем большинство квартир находиться от центра города в диапазоне 11-13 км."
   ]
  },
  {
   "cell_type": "markdown",
   "metadata": {},
   "source": [
    "- #### Расстояние до парков "
   ]
  },
  {
   "cell_type": "code",
   "execution_count": 62,
   "metadata": {},
   "outputs": [
    {
     "data": {
      "image/png": "[encoded data removed]",
      "text/plain": [
       "<Figure size 432x288 with 1 Axes>"
      ]
     },
     "metadata": {
      "needs_background": "light"
     },
     "output_type": "display_data"
    },
    {
     "data": {
      "image/png": "[encoded data removed]",
      "text/plain": [
       "<Figure size 432x288 with 1 Axes>"
      ]
     },
     "metadata": {
      "needs_background": "light"
     },
     "output_type": "display_data"
    }
   ],
   "source": [
    "data.parks_nearest.plot(kind='hist', bins=100)\n",
    "plt.show()\n",
    "data.parks_nearest.plot(kind='hist', bins=100, range=(0,1000))\n",
    "plt.show()"
   ]
  },
  {
   "cell_type": "markdown",
   "metadata": {},
   "source": [
    "Для большинства квартир с предоставленными данными по геолокации парки в шаговой доступности 450-500 метров. "
   ]
  },
  {
   "cell_type": "markdown",
   "metadata": {},
   "source": [
    "- #### Расстояние до водоемов"
   ]
  },
  {
   "cell_type": "code",
   "execution_count": 63,
   "metadata": {},
   "outputs": [
    {
     "data": {
      "image/png": "[encoded data removed]",
      "text/plain": [
       "<Figure size 432x288 with 1 Axes>"
      ]
     },
     "metadata": {
      "needs_background": "light"
     },
     "output_type": "display_data"
    },
    {
     "data": {
      "image/png": "[encoded data removed]",
      "text/plain": [
       "<Figure size 432x288 with 1 Axes>"
      ]
     },
     "metadata": {
      "needs_background": "light"
     },
     "output_type": "display_data"
    }
   ],
   "source": [
    "data.ponds_nearest.plot(kind='hist', bins=100)\n",
    "plt.show()\n",
    "data.ponds_nearest.plot(kind='hist', bins=100, range=(475,525))\n",
    "plt.show()"
   ]
  },
  {
   "cell_type": "markdown",
   "metadata": {},
   "source": [
    "Для большинства квартир где имеются предоставленные данные геолокации имеются водоемы в радиусе 500м(выброс на диаграмме). "
   ]
  },
  {
   "cell_type": "markdown",
   "metadata": {},
   "source": [
    "- #### День недели, когда квартиры выставляются на продажу"
   ]
  },
  {
   "cell_type": "code",
   "execution_count": 64,
   "metadata": {},
   "outputs": [
    {
     "data": {
      "image/png": "[encoded data removed]",
      "text/plain": [
       "<Figure size 432x288 with 1 Axes>"
      ]
     },
     "metadata": {
      "needs_background": "light"
     },
     "output_type": "display_data"
    }
   ],
   "source": [
    "data.weekday_exposition.plot(kind='hist', bins=7)\n",
    "plt.show()"
   ]
  },
  {
   "cell_type": "markdown",
   "metadata": {},
   "source": [
    "Квартиры выставляются на продажу наиболее активно в будние дни и реже в выходные. "
   ]
  },
  {
   "cell_type": "markdown",
   "metadata": {},
   "source": [
    "- #### Месяц выставления квартир на продажу"
   ]
  },
  {
   "cell_type": "code",
   "execution_count": 65,
   "metadata": {},
   "outputs": [
    {
     "data": {
      "image/png": "[encoded data removed]",
      "text/plain": [
       "<Figure size 432x288 with 1 Axes>"
      ]
     },
     "metadata": {
      "needs_background": "light"
     },
     "output_type": "display_data"
    }
   ],
   "source": [
    "data.month_exposition.plot(kind='hist', bins=12)\n",
    "plt.show()"
   ]
  },
  {
   "cell_type": "markdown",
   "metadata": {},
   "source": [
    "Квартиры наиболее реже выставляются на продажу в мае,январе и декабре и наиболее чаще в феврале,марте,апреле,ноябре."
   ]
  },
  {
   "cell_type": "markdown",
   "metadata": {},
   "source": [
    "- #### Количество дней продажи квартиры."
   ]
  },
  {
   "cell_type": "code",
   "execution_count": 66,
   "metadata": {},
   "outputs": [
    {
     "data": {
      "image/png": "[encoded data removed]",
      "text/plain": [
       "<Figure size 432x288 with 1 Axes>"
      ]
     },
     "metadata": {
      "needs_background": "light"
     },
     "output_type": "display_data"
    },
    {
     "data": {
      "text/plain": [
       "count    23561.000000\n",
       "mean       169.204703\n",
       "std        206.512048\n",
       "min          1.000000\n",
       "25%         45.000000\n",
       "50%         95.000000\n",
       "75%        198.000000\n",
       "max       1580.000000\n",
       "Name: days_exposition, dtype: float64"
      ]
     },
     "execution_count": 66,
     "metadata": {},
     "output_type": "execute_result"
    }
   ],
   "source": [
    "data.days_exposition.plot(kind='hist', bins=100, range=(0,200))\n",
    "plt.show()\n",
    "data.days_exposition.describe()"
   ]
  },
  {
   "cell_type": "markdown",
   "metadata": {},
   "source": [
    "Есть квартиры которые продаются годами, есть за 1 день, обычно квартира продается за 3 месяца (95 дней)"
   ]
  },
  {
   "cell_type": "markdown",
   "metadata": {},
   "source": [
    "**Какие факторы больше всего влияют на общую (полную) стоимость объекта?**\n",
    "\n",
    "Чем ближе коэффициент корреляции Пирсона к крайним значениям 1 или -1, тем теснее линейная взаимосвязь. Если значение близко к нулю, значит, линейная связь слабая либо отсутствует вовсе.\n",
    "Из построенных ниже графиков корреляции видно что линейная зависимость цены обьекта недвижимости слабо выражена и падает в следующем порядке:\n",
    "       \n"
   ]
  },
  {
   "cell_type": "code",
   "execution_count": 67,
   "metadata": {},
   "outputs": [
    {
     "name": "stdout",
     "output_type": "stream",
     "text": [
      "Коэффициент корреляции: 0.6535862299198448\n"
     ]
    },
    {
     "data": {
      "image/png": "[encoded data removed]",
      "text/plain": [
       "<Figure size 432x288 with 1 Axes>"
      ]
     },
     "metadata": {
      "needs_background": "light"
     },
     "output_type": "display_data"
    }
   ],
   "source": [
    "print('Коэффициент корреляции:', data['last_price'].corr(data['total_area']))\n",
    "data.plot(x='last_price', y='total_area', kind='scatter', alpha=0.3)\n",
    "plt.show()"
   ]
  },
  {
   "cell_type": "markdown",
   "metadata": {},
   "source": [
    "Зависимость между ценой и общей площадью квартиры имеется,но не ярко выражена."
   ]
  },
  {
   "cell_type": "code",
   "execution_count": 68,
   "metadata": {},
   "outputs": [
    {
     "name": "stdout",
     "output_type": "stream",
     "text": [
      "Коэффициент корреляции: 0.5865295019578675\n"
     ]
    },
    {
     "data": {
      "image/png": "[encoded data removed]",
      "text/plain": [
       "<Figure size 432x288 with 1 Axes>"
      ]
     },
     "metadata": {
      "needs_background": "light"
     },
     "output_type": "display_data"
    }
   ],
   "source": [
    "print('Коэффициент корреляции:', data['last_price'].corr(data['living_area']))\n",
    "data.plot(x='last_price', y='living_area', kind='scatter', alpha=0.3)\n",
    "plt.show()"
   ]
  },
  {
   "cell_type": "markdown",
   "metadata": {},
   "source": [
    "Зависимость между ценой и жилой площадью квартиры имеется,но не ярко выражена и она ниже чем зависимотсть от общей площади."
   ]
  },
  {
   "cell_type": "code",
   "execution_count": 69,
   "metadata": {},
   "outputs": [
    {
     "name": "stdout",
     "output_type": "stream",
     "text": [
      "Коэффициент корреляции: 0.5146264631427829\n"
     ]
    },
    {
     "data": {
      "image/png": "[encoded data removed]",
      "text/plain": [
       "<Figure size 432x288 with 1 Axes>"
      ]
     },
     "metadata": {
      "needs_background": "light"
     },
     "output_type": "display_data"
    }
   ],
   "source": [
    "print('Коэффициент корреляции:', data['last_price'].corr(data['kitchen_area']))\n",
    "data.plot(x='last_price', y='kitchen_area', kind='scatter', alpha=0.3)\n",
    "plt.show()"
   ]
  },
  {
   "cell_type": "markdown",
   "metadata": {},
   "source": [
    "Зависимость между ценой и площадью кухни квартиры имеется,но она слабая и еще ниже чем зависимость от общей и жилой  площади."
   ]
  },
  {
   "cell_type": "code",
   "execution_count": 70,
   "metadata": {},
   "outputs": [
    {
     "name": "stdout",
     "output_type": "stream",
     "text": [
      "Коэффициент корреляции: 0.3632195100156262\n"
     ]
    },
    {
     "data": {
      "image/png": "[encoded data removed]",
      "text/plain": [
       "<Figure size 432x288 with 1 Axes>"
      ]
     },
     "metadata": {
      "needs_background": "light"
     },
     "output_type": "display_data"
    }
   ],
   "source": [
    "print('Коэффициент корреляции:', data['last_price'].corr(data['rooms']))\n",
    "\n",
    "data.plot(x='last_price', y='rooms', kind='scatter', alpha=0.3)\n",
    "plt.show()"
   ]
  },
  {
   "cell_type": "markdown",
   "metadata": {},
   "source": [
    "Зависимость между ценой и числом комнат квартиры имеется,но она слабая и еще ниже чем зависимость от общей,жилой и кухонной площадей."
   ]
  },
  {
   "cell_type": "markdown",
   "metadata": {},
   "source": [
    "**Используем  метод pyplot для построения другого типа диаграммы с нечисловыми параметрами**\n"
   ]
  },
  {
   "cell_type": "code",
   "execution_count": 71,
   "metadata": {},
   "outputs": [
    {
     "data": {
      "image/png": "[encoded data removed]",
      "text/plain": [
       "<Figure size 432x288 with 1 Axes>"
      ]
     },
     "metadata": {
      "needs_background": "light"
     },
     "output_type": "display_data"
    }
   ],
   "source": [
    "plt.bar(data['floor_type'],data['last_price']);"
   ]
  },
  {
   "cell_type": "markdown",
   "metadata": {},
   "source": [
    "На диаграмме видна зависимость от этажности квартиры. Традиционно квартиры на первом этаже самые дешевые, самые дорогие на последнем этаже, может быть влияет вид,тишина чистый воздух или пентхаузы на последних этажах стали популярны?"
   ]
  },
  {
   "cell_type": "code",
   "execution_count": 72,
   "metadata": {},
   "outputs": [
    {
     "name": "stdout",
     "output_type": "stream",
     "text": [
      "Коэффициент корреляции: 0.0015488975857827962\n"
     ]
    },
    {
     "data": {
      "image/png": "[encoded data removed]",
      "text/plain": [
       "<Figure size 432x288 with 1 Axes>"
      ]
     },
     "metadata": {
      "needs_background": "light"
     },
     "output_type": "display_data"
    }
   ],
   "source": [
    "print('Коэффициент корреляции:', data['last_price'].corr(data['weekday_exposition']))\n",
    "data.pivot_table(index='weekday_exposition',values='last_price',aggfunc='median').plot(y='last_price', kind='bar', title='median')\n",
    "plt.show()"
   ]
  },
  {
   "cell_type": "markdown",
   "metadata": {},
   "source": [
    "Зависимости цены квартиры от дня недели выставления на продажу нет."
   ]
  },
  {
   "cell_type": "code",
   "execution_count": 73,
   "metadata": {},
   "outputs": [
    {
     "name": "stdout",
     "output_type": "stream",
     "text": [
      "Коэффициент корреляции: 0.002403591365699242\n"
     ]
    },
    {
     "data": {
      "image/png": "[encoded data removed]",
      "text/plain": [
       "<Figure size 432x288 with 1 Axes>"
      ]
     },
     "metadata": {
      "needs_background": "light"
     },
     "output_type": "display_data"
    }
   ],
   "source": [
    "print('Коэффициент корреляции:', data['last_price'].corr(data['month_exposition']))\n",
    "data.pivot_table(index='month_exposition',values='last_price',aggfunc='median').plot(y='last_price', kind='bar', title='median')\n",
    "plt.show()"
   ]
  },
  {
   "cell_type": "markdown",
   "metadata": {},
   "source": [
    "Зависимости цены квартиры от месяца выставления на продажу нет."
   ]
  },
  {
   "cell_type": "code",
   "execution_count": 74,
   "metadata": {},
   "outputs": [
    {
     "data": {
      "image/png": "[encoded data removed]",
      "text/plain": [
       "<Figure size 432x288 with 1 Axes>"
      ]
     },
     "metadata": {
      "needs_background": "light"
     },
     "output_type": "display_data"
    }
   ],
   "source": [
    "plt.bar(data['year_exposition'], data['last_price'])\n",
    "plt.show()"
   ]
  },
  {
   "cell_type": "markdown",
   "metadata": {},
   "source": [
    "Видно что цены на квартриры с 2014 года показывали непрерывной рост достигший максимума в 2017 году, после этого цены упали и в 18,19 годах оставались приблизительно на одном уровне. Посмотрим как выглядит тот же график по медианным значениям, представленным ниже. Здесь мы видим отсутствие зависимости."
   ]
  },
  {
   "cell_type": "code",
   "execution_count": 75,
   "metadata": {},
   "outputs": [
    {
     "name": "stdout",
     "output_type": "stream",
     "text": [
      "Коэффициент корреляции: -0.04236853582027851\n"
     ]
    },
    {
     "data": {
      "image/png": "[encoded data removed]",
      "text/plain": [
       "<Figure size 432x288 with 1 Axes>"
      ]
     },
     "metadata": {
      "needs_background": "light"
     },
     "output_type": "display_data"
    }
   ],
   "source": [
    "print('Коэффициент корреляции:', data['last_price'].corr(data['year_exposition']))\n",
    "data.pivot_table(index='year_exposition',values='last_price',aggfunc='median').plot(y='last_price', kind='bar', title='median')\n",
    "plt.show()"
   ]
  },
  {
   "cell_type": "markdown",
   "metadata": {},
   "source": [
    "С помощью сводной таблицы наглядно посмотрим среднюю цену квадратного метра 10 локаций с наиболее частыми обьявлениями о продаже. Чаще всего продают квартиры естественно во второй столице России Санкт-Петербурге и цена квадратного метра здесь естественно выше всех. В ценовой категории на фоне остальных городов Ленинградской области выделяется Пушкин,так как это исторический,культурный и туристический центр. Самая низкая стоимость кв.м. из 10 наиболее продаваемых локаций в Выборге."
   ]
  },
  {
   "cell_type": "code",
   "execution_count": 76,
   "metadata": {},
   "outputs": [
    {
     "name": "stdout",
     "output_type": "stream",
     "text": [
      "                 count           mean\n",
      "locality_name                        \n",
      "Санкт-Петербург  15648  114846.295836\n",
      "Мурино             585   86015.025069\n",
      "Кудрово            470   95260.846171\n",
      "Шушары             439   78551.344545\n",
      "Всеволожск         398   68654.473986\n",
      "Пушкин             369  103125.819291\n",
      "Колпино            338   75424.579098\n",
      "Парголово          327   90175.913458\n",
      "Гатчина            307   68746.146763\n",
      "Выборг             237   58141.909153\n"
     ]
    }
   ],
   "source": [
    "sqm_price_by_local = data.pivot_table(index='locality_name', values='sqm_price', aggfunc={'mean','count'}).sort_values(by='count',ascending=False)\n",
    "print(sqm_price_by_local.head(10))"
   ]
  },
  {
   "cell_type": "markdown",
   "metadata": {},
   "source": [
    "С помощью сводной таблицы выделим квартиры в Санкт-Петербурге (locality_name = Санкт-Петербург) и вычислим среднюю цену по километрам удаленности от центра города. "
   ]
  },
  {
   "cell_type": "code",
   "execution_count": 77,
   "metadata": {},
   "outputs": [
    {
     "name": "stdout",
     "output_type": "stream",
     "text": [
      "                            mean\n",
      "center_distance_km              \n",
      "0.0                 3.144912e+07\n",
      "1.0                 2.120672e+07\n",
      "2.0                 1.778832e+07\n",
      "3.0                 1.113739e+07\n",
      "4.0                 1.330428e+07\n",
      "5.0                 1.445600e+07\n",
      "6.0                 1.525795e+07\n",
      "7.0                 1.479526e+07\n",
      "8.0                 9.949111e+06\n",
      "9.0                 6.956583e+06\n",
      "10.0                6.500434e+06\n",
      "11.0                6.228108e+06\n",
      "12.0                6.197926e+06\n",
      "13.0                6.078772e+06\n",
      "14.0                5.625173e+06\n",
      "15.0                5.876323e+06\n",
      "16.0                5.373131e+06\n",
      "17.0                5.299496e+06\n",
      "18.0                5.091331e+06\n",
      "19.0                5.051410e+06\n",
      "20.0                5.951465e+06\n",
      "21.0                5.493469e+06\n",
      "22.0                5.415524e+06\n",
      "23.0                4.985376e+06\n",
      "24.0                3.854430e+06\n",
      "25.0                4.052840e+06\n",
      "26.0                4.014287e+06\n",
      "27.0                8.300000e+06\n",
      "28.0                5.026429e+06\n",
      "29.0                4.236667e+06\n"
     ]
    },
    {
     "data": {
      "image/png": "[encoded data removed]",
      "text/plain": [
       "<Figure size 432x288 with 1 Axes>"
      ]
     },
     "metadata": {
      "needs_background": "light"
     },
     "output_type": "display_data"
    }
   ],
   "source": [
    "sqm_price_spb_center_km = data.loc[data['locality_name']=='Санкт-Петербург'].pivot_table(index='center_distance_km', values='last_price', aggfunc={'mean'})\n",
    "print(sqm_price_spb_center_km)\n",
    "sqm_price_spb_center_km.plot(y='mean', kind='bar')\n",
    "plt.show()"
   ]
  },
  {
   "cell_type": "markdown",
   "metadata": {},
   "source": [
    "Традиционно, чем ближе к центру тем недвижимость дороже, в данном случае Санкт-Петербург не исключение. В центре города квартиры стоят более 30 млн.руб, а в 3х км. можно купить в 3 раза дешевле. На дистанции 5-7 км от центра города, наблюдается опять рост цен на квартиры, который потом переходит в падение в зависимости от удаленности. При всем при этом, в 27 километрах от центра имеется недвижимость по такой же цене как в 8 км от центра, это вероятно какой-то перспективный или респектабельный район."
   ]
  },
  {
   "cell_type": "markdown",
   "metadata": {},
   "source": [
    "### Общий вывод"
   ]
  },
  {
   "cell_type": "markdown",
   "metadata": {},
   "source": [
    "Для исследования продаж недвижимости на платформа ЯНДЕКС и ответа на поставленные вопросы были проделаны следующие этапы:\n",
    "\n",
    " - Изучена входящая информация.\n",
    " \n",
    " - Проведена предобработка данных, в ходе которой были: \n",
    "   - обнаружены пропуски информации в 14 столбцах. Пропуски данных в большинстве случаев были заменены на медианные значения по конкретным столбцам, за исключением этажности (замена на 1 - одноэтажное здание), наличие балконов (замена на 0 - отсутствие балкона), признак принадлежности к апартаментам (замена на False - не апартаменты). 49 строк с пропусками в локации были удалены из данных.\n",
    "   - Выявлены и исправлены аномальные значения: высота потолков приведена к адекватным значениям, удалены строки с аномально малыми значениями жилой площади.\n",
    "   - Выявлены и удалены неявные дубликаты в названиях населенных пунктах.\n",
    "   - Проверены и исправлены типы данных в каждом столбце.\n",
    " - Добавлены новые столбцы с исходную таблицу данных для более глубокого анализа в соответсвии с заданием.\n",
    " - Проведен исследовательский анализ данных, который показал:\n",
    "   - Большинство обьектов недвижимости в диапазоне общей площади 30-70 м2. Выделяются стандартные значения ~33м2, ~46м2, ~62м2, что сокрее всего соответствует 1,2,3 комнатным квартирам, которых на рынке большинство.\n",
    "   - По жилой площади основное количество квартир находится в диапазоне 19-42м2, выбиваются на этом фоне обьекты площадью 16-18м2 (вероятно комнаты в коммуналках,общежитиях или студии) и квартиры с жилой площадью 30м2.\n",
    "   - В площади кухни лидирует стандартная кухня 9м2.\n",
    "   - Больше всего квартир на рынке Санкт-Петербурга и области стоят 3,5 млн рублей.\n",
    "   - Больше всего на продажу выставлены 1,2,3х комнатные квартиры в порядке убывания.\n",
    "   - Недвижимость в продаже в основном со стандартной высотой потолков 2,7м, на втором месте высота 2,5м\n",
    "   - В основном продаются квартиры между первым и последним этажами.\n",
    "   - Наибольшее количество продаваемых квартир в 5ти и 9ти этажных домах.  \n",
    "   - В среднем большинство квартир находиться от центра города в диапазоне 11-13 км.\n",
    "   - Парки и водоемы для большинства квартир находяться в шаговой доступности 400-500м.\n",
    "   - Квартиры выставляются на продажу наиболее активно в будние дни и реже в выходные.\n",
    "   - Квартиры наиболее реже выставляются на продажу в мае,январе и декабре и наиболее чаще в феврале,марте,апреле,ноябре.\n",
    "   - Есть квартиры которые продаются годами, есть за 1 день, обычно квартира продается за 3 месяца (95 дней)\n",
    " - Для поиска факторов влияющих на зависимость цены обьектат были построены графики взаимозависимостей цены от заданных параметров и сделан вывод:\n",
    "    - линейная зависимость цены обьекта недвижимости слабо выражена и падает по параметрам  в следующем порядке:\n",
    "      общая площадь (0,65), жилая площадь (0,54), площадь кухни (0,44), количество комнат (0,36)\n",
    "    - есть зависимость от этажа квартиры.Традиционно квартиры на первом этаже самые дешевые, самые дорогие получились на последнем этаже, может быть влияет вид,тишина чистый воздух или пентхаузы на последних этажах стали популярны.\n",
    "    - Зависимости цены квартиры от дня недели,месяца и года выставления на продажу нет.\n",
    " - Дополнительный анализ по 10 самым популярным локациям продажи, показал:\n",
    "    - Чаще всего продают квартиры естественно во второй столице России Санкт-Петербурге и цена квадратного метра здесь естественно выше всех. В ценовой категории на фоне остальных городов ЛО выделяется Пушкин,так как это исторический,культурный и туристический центр ЛО. Самая низкая стоимость кв.м. из 10 наиболее продаваемых локаций в Выборге.\n",
    " - Анализ стоимости жилья по километражу от центра Санкт- Птербурга показал:\n",
    "    - Традиционно, чем ближе к центру тем недвижимость дороже, за редким исключением некоторых престижных городских локаций.\n",
    " \n",
    "    \n",
    "    \n",
    "    "
   ]
  }
 ],
 "metadata": {
  "ExecuteTimeLog": [
   {
    "duration": 578,
    "start_time": "2023-03-06T13:48:03.192Z"
   },
   {
    "duration": 373,
    "start_time": "2023-03-06T13:48:35.133Z"
   },
   {
    "duration": 159,
    "start_time": "2023-03-06T13:48:49.959Z"
   },
   {
    "duration": 108,
    "start_time": "2023-03-06T13:53:21.949Z"
   },
   {
    "duration": 113,
    "start_time": "2023-03-06T13:58:56.422Z"
   },
   {
    "duration": 96,
    "start_time": "2023-03-06T14:02:25.276Z"
   },
   {
    "duration": 99,
    "start_time": "2023-03-06T14:02:52.804Z"
   },
   {
    "duration": 15,
    "start_time": "2023-03-06T14:06:43.890Z"
   },
   {
    "duration": 118,
    "start_time": "2023-03-06T14:07:26.432Z"
   },
   {
    "duration": 117,
    "start_time": "2023-03-06T14:08:15.404Z"
   },
   {
    "duration": 11,
    "start_time": "2023-03-06T14:12:26.203Z"
   },
   {
    "duration": 113,
    "start_time": "2023-03-06T14:18:09.602Z"
   },
   {
    "duration": 117,
    "start_time": "2023-03-06T14:18:44.347Z"
   },
   {
    "duration": 3,
    "start_time": "2023-03-06T14:21:26.996Z"
   },
   {
    "duration": 98,
    "start_time": "2023-03-06T14:21:30.294Z"
   },
   {
    "duration": 29,
    "start_time": "2023-03-06T14:21:57.189Z"
   },
   {
    "duration": 5,
    "start_time": "2023-03-06T14:22:06.932Z"
   },
   {
    "duration": 117,
    "start_time": "2023-03-06T14:23:08.584Z"
   },
   {
    "duration": 78,
    "start_time": "2023-03-06T14:23:40.851Z"
   },
   {
    "duration": 25,
    "start_time": "2023-03-06T14:23:49.511Z"
   },
   {
    "duration": 2138,
    "start_time": "2023-03-06T14:27:10.546Z"
   },
   {
    "duration": 1497,
    "start_time": "2023-03-06T14:29:43.192Z"
   },
   {
    "duration": 893,
    "start_time": "2023-03-06T14:30:50.665Z"
   },
   {
    "duration": 2084,
    "start_time": "2023-03-06T14:31:37.080Z"
   },
   {
    "duration": 10,
    "start_time": "2023-03-06T14:43:55.809Z"
   },
   {
    "duration": 60,
    "start_time": "2023-03-07T07:48:10.189Z"
   },
   {
    "duration": 838,
    "start_time": "2023-03-07T07:48:32.982Z"
   },
   {
    "duration": 291,
    "start_time": "2023-03-07T07:48:33.823Z"
   },
   {
    "duration": 103,
    "start_time": "2023-03-07T07:48:34.115Z"
   },
   {
    "duration": 20,
    "start_time": "2023-03-07T07:48:34.220Z"
   },
   {
    "duration": 2283,
    "start_time": "2023-03-07T07:48:34.243Z"
   },
   {
    "duration": 12,
    "start_time": "2023-03-07T07:48:36.548Z"
   },
   {
    "duration": 78,
    "start_time": "2023-03-07T07:48:36.562Z"
   },
   {
    "duration": 8,
    "start_time": "2023-03-07T07:49:31.784Z"
   },
   {
    "duration": 8,
    "start_time": "2023-03-07T07:56:55.437Z"
   },
   {
    "duration": 10,
    "start_time": "2023-03-07T07:57:39.411Z"
   },
   {
    "duration": 6,
    "start_time": "2023-03-07T08:08:01.624Z"
   },
   {
    "duration": 7,
    "start_time": "2023-03-07T08:08:41.694Z"
   },
   {
    "duration": 1086,
    "start_time": "2023-03-07T08:09:40.178Z"
   },
   {
    "duration": 7,
    "start_time": "2023-03-07T08:10:06.714Z"
   },
   {
    "duration": 7,
    "start_time": "2023-03-07T08:11:05.214Z"
   },
   {
    "duration": 6,
    "start_time": "2023-03-07T08:14:28.822Z"
   },
   {
    "duration": 8,
    "start_time": "2023-03-07T08:28:43.890Z"
   },
   {
    "duration": 5,
    "start_time": "2023-03-07T08:28:48.126Z"
   },
   {
    "duration": 5,
    "start_time": "2023-03-07T08:28:55.633Z"
   },
   {
    "duration": 4,
    "start_time": "2023-03-07T08:28:56.998Z"
   },
   {
    "duration": 7,
    "start_time": "2023-03-07T08:29:04.290Z"
   },
   {
    "duration": 4,
    "start_time": "2023-03-07T08:29:07.396Z"
   },
   {
    "duration": 4,
    "start_time": "2023-03-07T08:31:12.497Z"
   },
   {
    "duration": 21,
    "start_time": "2023-03-07T08:34:20.706Z"
   },
   {
    "duration": 11,
    "start_time": "2023-03-07T08:35:53.583Z"
   },
   {
    "duration": 6,
    "start_time": "2023-03-07T08:58:54.728Z"
   },
   {
    "duration": 16,
    "start_time": "2023-03-07T08:59:27.235Z"
   },
   {
    "duration": 78,
    "start_time": "2023-03-07T13:39:38.679Z"
   },
   {
    "duration": 69,
    "start_time": "2023-03-07T13:39:54.323Z"
   },
   {
    "duration": 46,
    "start_time": "2023-03-07T13:40:01.352Z"
   },
   {
    "duration": 852,
    "start_time": "2023-03-07T13:40:22.715Z"
   },
   {
    "duration": 349,
    "start_time": "2023-03-07T13:40:23.569Z"
   },
   {
    "duration": 84,
    "start_time": "2023-03-07T13:40:23.920Z"
   },
   {
    "duration": 17,
    "start_time": "2023-03-07T13:40:24.006Z"
   },
   {
    "duration": 2025,
    "start_time": "2023-03-07T13:40:24.025Z"
   },
   {
    "duration": 10,
    "start_time": "2023-03-07T13:40:26.052Z"
   },
   {
    "duration": 28,
    "start_time": "2023-03-07T13:40:26.063Z"
   },
   {
    "duration": 28,
    "start_time": "2023-03-07T13:40:26.092Z"
   },
   {
    "duration": 40,
    "start_time": "2023-03-07T13:40:26.122Z"
   },
   {
    "duration": 688,
    "start_time": "2023-03-07T13:40:26.163Z"
   },
   {
    "duration": 576,
    "start_time": "2023-03-07T13:40:54.671Z"
   },
   {
    "duration": 26,
    "start_time": "2023-03-07T13:45:06.426Z"
   },
   {
    "duration": 26,
    "start_time": "2023-03-07T14:06:10.270Z"
   },
   {
    "duration": 40,
    "start_time": "2023-03-07T14:07:22.509Z"
   },
   {
    "duration": 5,
    "start_time": "2023-03-07T14:11:06.983Z"
   },
   {
    "duration": 6,
    "start_time": "2023-03-07T14:11:20.796Z"
   },
   {
    "duration": 4,
    "start_time": "2023-03-07T14:11:51.693Z"
   },
   {
    "duration": 5,
    "start_time": "2023-03-07T14:11:58.326Z"
   },
   {
    "duration": 5,
    "start_time": "2023-03-07T14:13:05.205Z"
   },
   {
    "duration": 11,
    "start_time": "2023-03-07T14:14:55.555Z"
   },
   {
    "duration": 106,
    "start_time": "2023-03-07T14:15:17.658Z"
   },
   {
    "duration": 5,
    "start_time": "2023-03-07T14:16:03.529Z"
   },
   {
    "duration": 8,
    "start_time": "2023-03-07T14:16:18.975Z"
   },
   {
    "duration": 3,
    "start_time": "2023-03-07T14:16:51.999Z"
   },
   {
    "duration": 4,
    "start_time": "2023-03-07T14:16:54.435Z"
   },
   {
    "duration": 10,
    "start_time": "2023-03-07T14:16:58.016Z"
   },
   {
    "duration": 8,
    "start_time": "2023-03-07T14:17:04.680Z"
   },
   {
    "duration": 24,
    "start_time": "2023-03-07T14:23:32.870Z"
   },
   {
    "duration": 22,
    "start_time": "2023-03-07T14:24:08.126Z"
   },
   {
    "duration": 11,
    "start_time": "2023-03-07T14:25:36.116Z"
   },
   {
    "duration": 21,
    "start_time": "2023-03-07T14:25:59.601Z"
   },
   {
    "duration": 9,
    "start_time": "2023-03-07T14:34:12.775Z"
   },
   {
    "duration": 27,
    "start_time": "2023-03-07T14:35:11.628Z"
   },
   {
    "duration": 20,
    "start_time": "2023-03-07T14:35:26.063Z"
   },
   {
    "duration": 8,
    "start_time": "2023-03-07T15:46:49.330Z"
   },
   {
    "duration": 7,
    "start_time": "2023-03-07T15:49:39.505Z"
   },
   {
    "duration": 83,
    "start_time": "2023-03-07T15:53:04.531Z"
   },
   {
    "duration": 16,
    "start_time": "2023-03-07T15:53:23.415Z"
   },
   {
    "duration": 40,
    "start_time": "2023-03-07T15:54:12.832Z"
   },
   {
    "duration": 27,
    "start_time": "2023-03-07T15:59:09.714Z"
   },
   {
    "duration": 23,
    "start_time": "2023-03-07T15:59:39.843Z"
   },
   {
    "duration": 22,
    "start_time": "2023-03-07T16:00:05.566Z"
   },
   {
    "duration": 44,
    "start_time": "2023-03-07T16:02:23.505Z"
   },
   {
    "duration": 66,
    "start_time": "2023-03-07T16:04:51.223Z"
   },
   {
    "duration": 72,
    "start_time": "2023-03-07T16:08:25.206Z"
   },
   {
    "duration": 81,
    "start_time": "2023-03-07T16:14:59.539Z"
   },
   {
    "duration": 75,
    "start_time": "2023-03-07T16:17:05.619Z"
   },
   {
    "duration": 664,
    "start_time": "2023-03-07T16:17:48.159Z"
   },
   {
    "duration": 109,
    "start_time": "2023-03-07T16:17:48.825Z"
   },
   {
    "duration": 83,
    "start_time": "2023-03-07T16:17:48.936Z"
   },
   {
    "duration": 15,
    "start_time": "2023-03-07T16:17:49.020Z"
   },
   {
    "duration": 2129,
    "start_time": "2023-03-07T16:17:49.037Z"
   },
   {
    "duration": 10,
    "start_time": "2023-03-07T16:17:51.168Z"
   },
   {
    "duration": 4,
    "start_time": "2023-03-07T16:17:51.179Z"
   },
   {
    "duration": 14,
    "start_time": "2023-03-07T16:17:51.184Z"
   },
   {
    "duration": 12,
    "start_time": "2023-03-07T16:17:51.201Z"
   },
   {
    "duration": 29,
    "start_time": "2023-03-07T16:17:51.214Z"
   },
   {
    "duration": 26,
    "start_time": "2023-03-07T16:17:51.244Z"
   },
   {
    "duration": 75,
    "start_time": "2023-03-07T16:17:51.272Z"
   },
   {
    "duration": 9,
    "start_time": "2023-03-07T16:17:51.349Z"
   },
   {
    "duration": 104,
    "start_time": "2023-03-07T16:17:51.361Z"
   },
   {
    "duration": 75,
    "start_time": "2023-03-07T16:18:47.804Z"
   },
   {
    "duration": 67,
    "start_time": "2023-03-07T16:19:43.076Z"
   },
   {
    "duration": 651,
    "start_time": "2023-03-07T16:20:39.305Z"
   },
   {
    "duration": 113,
    "start_time": "2023-03-07T16:20:39.959Z"
   },
   {
    "duration": 84,
    "start_time": "2023-03-07T16:20:40.074Z"
   },
   {
    "duration": 14,
    "start_time": "2023-03-07T16:20:40.160Z"
   },
   {
    "duration": 2102,
    "start_time": "2023-03-07T16:20:40.176Z"
   },
   {
    "duration": 9,
    "start_time": "2023-03-07T16:20:42.280Z"
   },
   {
    "duration": 18,
    "start_time": "2023-03-07T16:20:42.293Z"
   },
   {
    "duration": 10,
    "start_time": "2023-03-07T16:20:42.312Z"
   },
   {
    "duration": 5,
    "start_time": "2023-03-07T16:20:42.324Z"
   },
   {
    "duration": 22,
    "start_time": "2023-03-07T16:20:42.331Z"
   },
   {
    "duration": 35,
    "start_time": "2023-03-07T16:20:42.354Z"
   },
   {
    "duration": 85,
    "start_time": "2023-03-07T16:20:42.395Z"
   },
   {
    "duration": 21,
    "start_time": "2023-03-07T16:20:42.491Z"
   },
   {
    "duration": 126,
    "start_time": "2023-03-07T16:20:42.514Z"
   },
   {
    "duration": 62,
    "start_time": "2023-03-07T16:21:43.715Z"
   },
   {
    "duration": 718,
    "start_time": "2023-03-07T16:21:57.528Z"
   },
   {
    "duration": 125,
    "start_time": "2023-03-07T16:21:58.248Z"
   },
   {
    "duration": 103,
    "start_time": "2023-03-07T16:21:58.375Z"
   },
   {
    "duration": 40,
    "start_time": "2023-03-07T16:21:58.481Z"
   },
   {
    "duration": 2381,
    "start_time": "2023-03-07T16:21:58.523Z"
   },
   {
    "duration": 19,
    "start_time": "2023-03-07T16:22:00.914Z"
   },
   {
    "duration": 28,
    "start_time": "2023-03-07T16:22:00.935Z"
   },
   {
    "duration": 65,
    "start_time": "2023-03-07T16:22:00.965Z"
   },
   {
    "duration": 53,
    "start_time": "2023-03-07T16:22:01.031Z"
   },
   {
    "duration": 74,
    "start_time": "2023-03-07T16:22:01.088Z"
   },
   {
    "duration": 54,
    "start_time": "2023-03-07T16:22:01.164Z"
   },
   {
    "duration": 93,
    "start_time": "2023-03-07T16:22:01.220Z"
   },
   {
    "duration": 11,
    "start_time": "2023-03-07T16:22:01.315Z"
   },
   {
    "duration": 140,
    "start_time": "2023-03-07T16:22:01.328Z"
   },
   {
    "duration": 81,
    "start_time": "2023-03-07T16:23:28.345Z"
   },
   {
    "duration": 75,
    "start_time": "2023-03-07T16:23:32.860Z"
   },
   {
    "duration": 24,
    "start_time": "2023-03-07T16:26:35.502Z"
   },
   {
    "duration": 27,
    "start_time": "2023-03-07T16:26:50.444Z"
   },
   {
    "duration": 31,
    "start_time": "2023-03-07T16:26:59.078Z"
   },
   {
    "duration": 32,
    "start_time": "2023-03-07T16:27:12.416Z"
   },
   {
    "duration": 37,
    "start_time": "2023-03-07T16:28:26.406Z"
   },
   {
    "duration": 22,
    "start_time": "2023-03-07T16:28:37.846Z"
   },
   {
    "duration": 23,
    "start_time": "2023-03-07T16:29:15.104Z"
   },
   {
    "duration": 25,
    "start_time": "2023-03-07T16:29:56.306Z"
   },
   {
    "duration": 8,
    "start_time": "2023-03-07T16:30:00.375Z"
   },
   {
    "duration": 11,
    "start_time": "2023-03-07T16:30:53.107Z"
   },
   {
    "duration": 75,
    "start_time": "2023-03-07T16:31:09.955Z"
   },
   {
    "duration": 7,
    "start_time": "2023-03-07T16:31:25.813Z"
   },
   {
    "duration": 94,
    "start_time": "2023-03-07T16:32:22.555Z"
   },
   {
    "duration": 61,
    "start_time": "2023-03-07T16:34:06.599Z"
   },
   {
    "duration": 8,
    "start_time": "2023-03-07T16:34:11.211Z"
   },
   {
    "duration": 8,
    "start_time": "2023-03-07T16:36:09.000Z"
   },
   {
    "duration": 12,
    "start_time": "2023-03-07T16:36:41.951Z"
   },
   {
    "duration": 11,
    "start_time": "2023-03-07T16:37:02.906Z"
   },
   {
    "duration": 12,
    "start_time": "2023-03-07T16:37:24.431Z"
   },
   {
    "duration": 14,
    "start_time": "2023-03-07T16:39:41.048Z"
   },
   {
    "duration": 10,
    "start_time": "2023-03-07T16:39:56.744Z"
   },
   {
    "duration": 31,
    "start_time": "2023-03-07T16:45:37.911Z"
   },
   {
    "duration": 9,
    "start_time": "2023-03-07T16:45:47.941Z"
   },
   {
    "duration": 12,
    "start_time": "2023-03-07T16:45:50.778Z"
   },
   {
    "duration": 57,
    "start_time": "2023-03-07T16:47:43.807Z"
   },
   {
    "duration": 13,
    "start_time": "2023-03-07T16:48:08.628Z"
   },
   {
    "duration": 919,
    "start_time": "2023-03-08T14:12:26.347Z"
   },
   {
    "duration": 160,
    "start_time": "2023-03-08T14:12:27.269Z"
   },
   {
    "duration": 83,
    "start_time": "2023-03-08T14:12:27.431Z"
   },
   {
    "duration": 16,
    "start_time": "2023-03-08T14:12:27.516Z"
   },
   {
    "duration": 1984,
    "start_time": "2023-03-08T14:12:27.541Z"
   },
   {
    "duration": 9,
    "start_time": "2023-03-08T14:12:29.527Z"
   },
   {
    "duration": 10,
    "start_time": "2023-03-08T14:12:29.537Z"
   },
   {
    "duration": 21,
    "start_time": "2023-03-08T14:12:29.548Z"
   },
   {
    "duration": 4,
    "start_time": "2023-03-08T14:12:29.571Z"
   },
   {
    "duration": 31,
    "start_time": "2023-03-08T14:12:29.577Z"
   },
   {
    "duration": 7,
    "start_time": "2023-03-08T14:12:29.610Z"
   },
   {
    "duration": 30,
    "start_time": "2023-03-08T14:12:29.618Z"
   },
   {
    "duration": 38,
    "start_time": "2023-03-08T14:12:29.649Z"
   },
   {
    "duration": 7,
    "start_time": "2023-03-08T14:12:29.689Z"
   },
   {
    "duration": 14,
    "start_time": "2023-03-08T14:12:29.697Z"
   },
   {
    "duration": 100,
    "start_time": "2023-03-08T14:12:29.712Z"
   },
   {
    "duration": 46,
    "start_time": "2023-03-08T14:13:09.438Z"
   },
   {
    "duration": 37,
    "start_time": "2023-03-08T14:13:37.087Z"
   },
   {
    "duration": 22,
    "start_time": "2023-03-08T14:15:10.911Z"
   },
   {
    "duration": 22,
    "start_time": "2023-03-08T14:17:17.987Z"
   },
   {
    "duration": 38,
    "start_time": "2023-03-08T14:18:31.110Z"
   },
   {
    "duration": 644,
    "start_time": "2023-03-08T14:21:13.023Z"
   },
   {
    "duration": 103,
    "start_time": "2023-03-08T14:21:13.669Z"
   },
   {
    "duration": 81,
    "start_time": "2023-03-08T14:21:13.774Z"
   },
   {
    "duration": 17,
    "start_time": "2023-03-08T14:21:13.856Z"
   },
   {
    "duration": 1887,
    "start_time": "2023-03-08T14:21:13.876Z"
   },
   {
    "duration": 12,
    "start_time": "2023-03-08T14:21:15.765Z"
   },
   {
    "duration": 6,
    "start_time": "2023-03-08T14:21:15.778Z"
   },
   {
    "duration": 8,
    "start_time": "2023-03-08T14:21:15.786Z"
   },
   {
    "duration": 3,
    "start_time": "2023-03-08T14:21:15.796Z"
   },
   {
    "duration": 28,
    "start_time": "2023-03-08T14:21:15.801Z"
   },
   {
    "duration": 13,
    "start_time": "2023-03-08T14:21:15.830Z"
   },
   {
    "duration": 42,
    "start_time": "2023-03-08T14:21:15.845Z"
   },
   {
    "duration": 90,
    "start_time": "2023-03-08T14:21:15.888Z"
   },
   {
    "duration": 8,
    "start_time": "2023-03-08T14:21:15.980Z"
   },
   {
    "duration": 14,
    "start_time": "2023-03-08T14:21:15.990Z"
   },
   {
    "duration": 101,
    "start_time": "2023-03-08T14:21:16.006Z"
   },
   {
    "duration": 70,
    "start_time": "2023-03-08T14:25:20.786Z"
   },
   {
    "duration": 578,
    "start_time": "2023-03-08T14:26:16.944Z"
   },
   {
    "duration": 102,
    "start_time": "2023-03-08T14:26:17.524Z"
   },
   {
    "duration": 70,
    "start_time": "2023-03-08T14:26:17.628Z"
   },
   {
    "duration": 15,
    "start_time": "2023-03-08T14:26:17.700Z"
   },
   {
    "duration": 1919,
    "start_time": "2023-03-08T14:26:17.716Z"
   },
   {
    "duration": 11,
    "start_time": "2023-03-08T14:26:19.637Z"
   },
   {
    "duration": 3,
    "start_time": "2023-03-08T14:26:19.650Z"
   },
   {
    "duration": 5,
    "start_time": "2023-03-08T14:26:19.655Z"
   },
   {
    "duration": 6,
    "start_time": "2023-03-08T14:26:19.661Z"
   },
   {
    "duration": 19,
    "start_time": "2023-03-08T14:26:19.670Z"
   },
   {
    "duration": 8,
    "start_time": "2023-03-08T14:26:19.691Z"
   },
   {
    "duration": 60,
    "start_time": "2023-03-08T14:26:19.700Z"
   },
   {
    "duration": 126,
    "start_time": "2023-03-08T14:26:19.762Z"
   },
   {
    "duration": 10,
    "start_time": "2023-03-08T14:26:19.890Z"
   },
   {
    "duration": 19,
    "start_time": "2023-03-08T14:26:19.902Z"
   },
   {
    "duration": 96,
    "start_time": "2023-03-08T14:26:19.923Z"
   },
   {
    "duration": 27,
    "start_time": "2023-03-08T14:30:14.302Z"
   },
   {
    "duration": 10,
    "start_time": "2023-03-08T14:34:11.436Z"
   },
   {
    "duration": 111,
    "start_time": "2023-03-08T14:36:47.677Z"
   },
   {
    "duration": 104,
    "start_time": "2023-03-08T14:37:04.008Z"
   },
   {
    "duration": 114,
    "start_time": "2023-03-08T14:37:13.507Z"
   },
   {
    "duration": 104,
    "start_time": "2023-03-08T14:38:52.756Z"
   },
   {
    "duration": 10,
    "start_time": "2023-03-08T14:39:17.136Z"
   },
   {
    "duration": 101,
    "start_time": "2023-03-08T14:39:20.156Z"
   },
   {
    "duration": 56,
    "start_time": "2023-03-08T14:43:53.956Z"
   },
   {
    "duration": 120,
    "start_time": "2023-03-08T14:44:03.555Z"
   },
   {
    "duration": 167,
    "start_time": "2023-03-08T14:46:56.200Z"
   },
   {
    "duration": 12,
    "start_time": "2023-03-08T14:54:26.161Z"
   },
   {
    "duration": 25,
    "start_time": "2023-03-08T14:54:34.433Z"
   },
   {
    "duration": 14,
    "start_time": "2023-03-08T14:56:45.535Z"
   },
   {
    "duration": 21,
    "start_time": "2023-03-08T14:58:16.445Z"
   },
   {
    "duration": 35,
    "start_time": "2023-03-08T14:58:46.480Z"
   },
   {
    "duration": 38,
    "start_time": "2023-03-08T14:59:17.161Z"
   },
   {
    "duration": 17,
    "start_time": "2023-03-08T14:59:35.599Z"
   },
   {
    "duration": 12,
    "start_time": "2023-03-08T15:00:47.172Z"
   },
   {
    "duration": 17,
    "start_time": "2023-03-08T15:01:50.767Z"
   },
   {
    "duration": 14,
    "start_time": "2023-03-08T15:02:03.495Z"
   },
   {
    "duration": 12,
    "start_time": "2023-03-08T15:02:15.292Z"
   },
   {
    "duration": 13,
    "start_time": "2023-03-08T15:02:54.698Z"
   },
   {
    "duration": 13,
    "start_time": "2023-03-08T15:07:33.737Z"
   },
   {
    "duration": 10,
    "start_time": "2023-03-08T15:12:43.497Z"
   },
   {
    "duration": 6,
    "start_time": "2023-03-08T15:13:45.894Z"
   },
   {
    "duration": 26,
    "start_time": "2023-03-08T15:14:16.299Z"
   },
   {
    "duration": 25,
    "start_time": "2023-03-08T15:16:03.133Z"
   },
   {
    "duration": 17,
    "start_time": "2023-03-08T15:16:44.555Z"
   },
   {
    "duration": 20,
    "start_time": "2023-03-08T15:17:51.333Z"
   },
   {
    "duration": 47,
    "start_time": "2023-03-08T15:28:07.917Z"
   },
   {
    "duration": 19,
    "start_time": "2023-03-08T15:28:29.959Z"
   },
   {
    "duration": 18,
    "start_time": "2023-03-08T15:31:34.167Z"
   },
   {
    "duration": 15,
    "start_time": "2023-03-08T15:38:43.142Z"
   },
   {
    "duration": 15,
    "start_time": "2023-03-08T15:40:05.651Z"
   },
   {
    "duration": 46,
    "start_time": "2023-03-08T15:45:56.508Z"
   },
   {
    "duration": 18,
    "start_time": "2023-03-08T15:46:44.908Z"
   },
   {
    "duration": 49,
    "start_time": "2023-03-08T15:48:15.203Z"
   },
   {
    "duration": 45,
    "start_time": "2023-03-08T15:49:20.111Z"
   },
   {
    "duration": 431,
    "start_time": "2023-03-08T15:50:02.711Z"
   },
   {
    "duration": 435,
    "start_time": "2023-03-08T15:53:08.936Z"
   },
   {
    "duration": 400,
    "start_time": "2023-03-08T15:54:16.056Z"
   },
   {
    "duration": 31,
    "start_time": "2023-03-08T15:58:23.525Z"
   },
   {
    "duration": 19,
    "start_time": "2023-03-08T15:58:58.071Z"
   },
   {
    "duration": 60,
    "start_time": "2023-03-08T16:04:48.374Z"
   },
   {
    "duration": 29,
    "start_time": "2023-03-08T16:06:07.974Z"
   },
   {
    "duration": 30,
    "start_time": "2023-03-08T16:07:05.854Z"
   },
   {
    "duration": 16,
    "start_time": "2023-03-08T16:13:21.247Z"
   },
   {
    "duration": 31,
    "start_time": "2023-03-08T16:19:27.015Z"
   },
   {
    "duration": 52,
    "start_time": "2023-03-08T16:23:11.844Z"
   },
   {
    "duration": 14,
    "start_time": "2023-03-08T16:32:25.415Z"
   },
   {
    "duration": 23,
    "start_time": "2023-03-08T16:33:19.312Z"
   },
   {
    "duration": 16,
    "start_time": "2023-03-08T16:33:27.115Z"
   },
   {
    "duration": 16,
    "start_time": "2023-03-08T16:34:32.099Z"
   },
   {
    "duration": 658,
    "start_time": "2023-03-08T16:35:00.810Z"
   },
   {
    "duration": 102,
    "start_time": "2023-03-08T16:35:01.470Z"
   },
   {
    "duration": 81,
    "start_time": "2023-03-08T16:35:01.573Z"
   },
   {
    "duration": 16,
    "start_time": "2023-03-08T16:35:01.657Z"
   },
   {
    "duration": 1925,
    "start_time": "2023-03-08T16:35:01.674Z"
   },
   {
    "duration": 9,
    "start_time": "2023-03-08T16:35:03.601Z"
   },
   {
    "duration": 5,
    "start_time": "2023-03-08T16:35:03.611Z"
   },
   {
    "duration": 7,
    "start_time": "2023-03-08T16:35:03.617Z"
   },
   {
    "duration": 22,
    "start_time": "2023-03-08T16:35:03.625Z"
   },
   {
    "duration": 7,
    "start_time": "2023-03-08T16:35:03.649Z"
   },
   {
    "duration": 27,
    "start_time": "2023-03-08T16:35:03.658Z"
   },
   {
    "duration": 93,
    "start_time": "2023-03-08T16:35:03.687Z"
   },
   {
    "duration": 7,
    "start_time": "2023-03-08T16:35:03.782Z"
   },
   {
    "duration": 11,
    "start_time": "2023-03-08T16:35:03.790Z"
   },
   {
    "duration": 107,
    "start_time": "2023-03-08T16:35:03.802Z"
   },
   {
    "duration": 4,
    "start_time": "2023-03-08T16:35:03.910Z"
   },
   {
    "duration": 12,
    "start_time": "2023-03-08T16:35:03.916Z"
   },
   {
    "duration": 77,
    "start_time": "2023-03-08T16:35:03.940Z"
   },
   {
    "duration": 6,
    "start_time": "2023-03-08T16:35:30.257Z"
   },
   {
    "duration": 17,
    "start_time": "2023-03-08T16:35:57.325Z"
   },
   {
    "duration": 8,
    "start_time": "2023-03-08T16:36:44.179Z"
   },
   {
    "duration": 5,
    "start_time": "2023-03-08T16:37:35.554Z"
   },
   {
    "duration": 10,
    "start_time": "2023-03-08T16:38:53.310Z"
   },
   {
    "duration": 10,
    "start_time": "2023-03-08T16:41:55.356Z"
   },
   {
    "duration": 4,
    "start_time": "2023-03-08T16:42:03.937Z"
   },
   {
    "duration": 11,
    "start_time": "2023-03-08T16:42:08.229Z"
   },
   {
    "duration": 9,
    "start_time": "2023-03-08T16:43:09.775Z"
   },
   {
    "duration": 8,
    "start_time": "2023-03-08T16:58:30.054Z"
   },
   {
    "duration": 6,
    "start_time": "2023-03-08T16:58:54.166Z"
   },
   {
    "duration": 6,
    "start_time": "2023-03-08T16:59:02.076Z"
   },
   {
    "duration": 6,
    "start_time": "2023-03-08T16:59:03.965Z"
   },
   {
    "duration": 6,
    "start_time": "2023-03-08T16:59:05.691Z"
   },
   {
    "duration": 6,
    "start_time": "2023-03-08T16:59:07.332Z"
   },
   {
    "duration": 4,
    "start_time": "2023-03-08T16:59:10.199Z"
   },
   {
    "duration": 8,
    "start_time": "2023-03-08T16:59:13.174Z"
   },
   {
    "duration": 21,
    "start_time": "2023-03-08T17:00:28.214Z"
   },
   {
    "duration": 3,
    "start_time": "2023-03-08T17:00:57.358Z"
   },
   {
    "duration": 5,
    "start_time": "2023-03-08T17:01:00.295Z"
   },
   {
    "duration": 8,
    "start_time": "2023-03-08T17:01:03.096Z"
   },
   {
    "duration": 14,
    "start_time": "2023-03-08T17:05:26.161Z"
   },
   {
    "duration": 20,
    "start_time": "2023-03-08T17:05:54.487Z"
   },
   {
    "duration": 16,
    "start_time": "2023-03-08T17:06:51.994Z"
   },
   {
    "duration": 6,
    "start_time": "2023-03-08T17:07:12.905Z"
   },
   {
    "duration": 6,
    "start_time": "2023-03-08T17:07:17.325Z"
   },
   {
    "duration": 6,
    "start_time": "2023-03-08T17:07:18.391Z"
   },
   {
    "duration": 4,
    "start_time": "2023-03-08T17:07:21.303Z"
   },
   {
    "duration": 7,
    "start_time": "2023-03-08T17:07:27.814Z"
   },
   {
    "duration": 715,
    "start_time": "2023-03-08T17:07:46.924Z"
   },
   {
    "duration": 149,
    "start_time": "2023-03-08T17:07:47.641Z"
   },
   {
    "duration": 92,
    "start_time": "2023-03-08T17:07:47.792Z"
   },
   {
    "duration": 20,
    "start_time": "2023-03-08T17:07:47.887Z"
   },
   {
    "duration": 2306,
    "start_time": "2023-03-08T17:07:47.909Z"
   },
   {
    "duration": 10,
    "start_time": "2023-03-08T17:07:50.217Z"
   },
   {
    "duration": 34,
    "start_time": "2023-03-08T17:07:50.229Z"
   },
   {
    "duration": 25,
    "start_time": "2023-03-08T17:07:50.266Z"
   },
   {
    "duration": 15,
    "start_time": "2023-03-08T17:07:50.293Z"
   },
   {
    "duration": 26,
    "start_time": "2023-03-08T17:07:50.311Z"
   },
   {
    "duration": 55,
    "start_time": "2023-03-08T17:07:50.339Z"
   },
   {
    "duration": 106,
    "start_time": "2023-03-08T17:07:50.396Z"
   },
   {
    "duration": 103,
    "start_time": "2023-03-08T17:07:50.503Z"
   },
   {
    "duration": 8,
    "start_time": "2023-03-08T17:07:50.607Z"
   },
   {
    "duration": 51,
    "start_time": "2023-03-08T17:07:50.617Z"
   },
   {
    "duration": 143,
    "start_time": "2023-03-08T17:07:50.670Z"
   },
   {
    "duration": 6,
    "start_time": "2023-03-08T17:07:50.815Z"
   },
   {
    "duration": 24,
    "start_time": "2023-03-08T17:07:50.823Z"
   },
   {
    "duration": 10,
    "start_time": "2023-03-08T17:07:50.850Z"
   },
   {
    "duration": 22,
    "start_time": "2023-03-08T17:07:50.863Z"
   },
   {
    "duration": 11,
    "start_time": "2023-03-08T17:07:50.887Z"
   },
   {
    "duration": 13,
    "start_time": "2023-03-08T17:07:50.900Z"
   },
   {
    "duration": 154,
    "start_time": "2023-03-08T17:07:50.915Z"
   },
   {
    "duration": 853,
    "start_time": "2023-03-09T06:38:23.704Z"
   },
   {
    "duration": 309,
    "start_time": "2023-03-09T06:38:25.464Z"
   },
   {
    "duration": 105,
    "start_time": "2023-03-09T06:38:29.263Z"
   },
   {
    "duration": 16,
    "start_time": "2023-03-09T06:38:32.277Z"
   },
   {
    "duration": 2009,
    "start_time": "2023-03-09T06:38:35.944Z"
   },
   {
    "duration": 11,
    "start_time": "2023-03-09T06:38:41.783Z"
   },
   {
    "duration": 10,
    "start_time": "2023-03-09T06:38:45.089Z"
   },
   {
    "duration": 4,
    "start_time": "2023-03-09T06:38:47.715Z"
   },
   {
    "duration": 4,
    "start_time": "2023-03-09T06:38:54.144Z"
   },
   {
    "duration": 22,
    "start_time": "2023-03-09T06:38:55.853Z"
   },
   {
    "duration": 8,
    "start_time": "2023-03-09T06:39:00.694Z"
   },
   {
    "duration": 10,
    "start_time": "2023-03-09T06:39:08.385Z"
   },
   {
    "duration": 112,
    "start_time": "2023-03-09T06:39:10.664Z"
   },
   {
    "duration": 6,
    "start_time": "2023-03-09T06:39:13.504Z"
   },
   {
    "duration": 13,
    "start_time": "2023-03-09T06:39:16.065Z"
   },
   {
    "duration": 10,
    "start_time": "2023-03-09T06:39:21.867Z"
   },
   {
    "duration": 6,
    "start_time": "2023-03-09T06:39:29.775Z"
   },
   {
    "duration": 4,
    "start_time": "2023-03-09T06:39:32.154Z"
   },
   {
    "duration": 14,
    "start_time": "2023-03-09T06:39:35.105Z"
   },
   {
    "duration": 6,
    "start_time": "2023-03-09T06:47:28.516Z"
   },
   {
    "duration": 14,
    "start_time": "2023-03-09T06:47:31.975Z"
   },
   {
    "duration": 13,
    "start_time": "2023-03-09T06:47:35.078Z"
   },
   {
    "duration": 11,
    "start_time": "2023-03-09T06:48:01.239Z"
   },
   {
    "duration": 82,
    "start_time": "2023-03-09T06:50:55.870Z"
   },
   {
    "duration": 10,
    "start_time": "2023-03-09T06:51:52.433Z"
   },
   {
    "duration": 8,
    "start_time": "2023-03-09T06:52:01.710Z"
   },
   {
    "duration": 11,
    "start_time": "2023-03-09T06:52:07.442Z"
   },
   {
    "duration": 12,
    "start_time": "2023-03-09T07:03:44.030Z"
   },
   {
    "duration": 78,
    "start_time": "2023-03-09T07:35:36.012Z"
   },
   {
    "duration": 82,
    "start_time": "2023-03-09T07:36:12.855Z"
   },
   {
    "duration": 36,
    "start_time": "2023-03-09T07:39:38.859Z"
   },
   {
    "duration": 2817,
    "start_time": "2023-03-09T07:49:07.031Z"
   },
   {
    "duration": 35,
    "start_time": "2023-03-09T07:51:27.237Z"
   },
   {
    "duration": 35,
    "start_time": "2023-03-09T07:54:07.238Z"
   },
   {
    "duration": 10,
    "start_time": "2023-03-09T07:54:30.162Z"
   },
   {
    "duration": 30,
    "start_time": "2023-03-09T07:54:39.846Z"
   },
   {
    "duration": 15,
    "start_time": "2023-03-09T07:58:59.076Z"
   },
   {
    "duration": 31,
    "start_time": "2023-03-09T07:59:20.914Z"
   },
   {
    "duration": 25,
    "start_time": "2023-03-09T08:09:48.508Z"
   },
   {
    "duration": 24,
    "start_time": "2023-03-09T08:13:29.805Z"
   },
   {
    "duration": 4,
    "start_time": "2023-03-09T08:13:34.594Z"
   },
   {
    "duration": 20,
    "start_time": "2023-03-09T08:13:37.549Z"
   },
   {
    "duration": 37,
    "start_time": "2023-03-09T08:14:12.701Z"
   },
   {
    "duration": 17,
    "start_time": "2023-03-09T08:14:25.151Z"
   },
   {
    "duration": 46,
    "start_time": "2023-03-09T08:14:40.254Z"
   },
   {
    "duration": 17,
    "start_time": "2023-03-09T08:15:31.690Z"
   },
   {
    "duration": 700,
    "start_time": "2023-03-09T08:16:06.652Z"
   },
   {
    "duration": 121,
    "start_time": "2023-03-09T08:16:07.355Z"
   },
   {
    "duration": 97,
    "start_time": "2023-03-09T08:16:07.478Z"
   },
   {
    "duration": 38,
    "start_time": "2023-03-09T08:16:07.577Z"
   },
   {
    "duration": 2355,
    "start_time": "2023-03-09T08:16:07.622Z"
   },
   {
    "duration": 9,
    "start_time": "2023-03-09T08:16:09.979Z"
   },
   {
    "duration": 13,
    "start_time": "2023-03-09T08:16:09.990Z"
   },
   {
    "duration": 23,
    "start_time": "2023-03-09T08:16:10.005Z"
   },
   {
    "duration": 7,
    "start_time": "2023-03-09T08:16:10.030Z"
   },
   {
    "duration": 12,
    "start_time": "2023-03-09T08:16:10.040Z"
   },
   {
    "duration": 18,
    "start_time": "2023-03-09T08:16:10.053Z"
   },
   {
    "duration": 50,
    "start_time": "2023-03-09T08:16:10.073Z"
   },
   {
    "duration": 16,
    "start_time": "2023-03-09T08:16:10.125Z"
   },
   {
    "duration": 33,
    "start_time": "2023-03-09T08:16:10.142Z"
   },
   {
    "duration": 11,
    "start_time": "2023-03-09T08:16:10.177Z"
   },
   {
    "duration": 122,
    "start_time": "2023-03-09T08:16:10.203Z"
   },
   {
    "duration": 5,
    "start_time": "2023-03-09T08:16:10.327Z"
   },
   {
    "duration": 12,
    "start_time": "2023-03-09T08:16:10.334Z"
   },
   {
    "duration": 13,
    "start_time": "2023-03-09T08:16:10.348Z"
   },
   {
    "duration": 6,
    "start_time": "2023-03-09T08:16:10.363Z"
   },
   {
    "duration": 34,
    "start_time": "2023-03-09T08:16:10.371Z"
   },
   {
    "duration": 18,
    "start_time": "2023-03-09T08:16:10.407Z"
   },
   {
    "duration": 17,
    "start_time": "2023-03-09T08:16:10.427Z"
   },
   {
    "duration": 16,
    "start_time": "2023-03-09T08:16:10.446Z"
   },
   {
    "duration": 108,
    "start_time": "2023-03-09T08:16:10.464Z"
   },
   {
    "duration": 9,
    "start_time": "2023-03-09T08:17:52.374Z"
   },
   {
    "duration": 10,
    "start_time": "2023-03-09T08:18:23.248Z"
   },
   {
    "duration": 18,
    "start_time": "2023-03-09T08:19:18.819Z"
   },
   {
    "duration": 9,
    "start_time": "2023-03-09T08:19:57.793Z"
   },
   {
    "duration": 21,
    "start_time": "2023-03-09T08:20:19.295Z"
   },
   {
    "duration": 744,
    "start_time": "2023-03-09T08:20:30.029Z"
   },
   {
    "duration": 150,
    "start_time": "2023-03-09T08:20:30.777Z"
   },
   {
    "duration": 112,
    "start_time": "2023-03-09T08:20:30.929Z"
   },
   {
    "duration": 18,
    "start_time": "2023-03-09T08:20:31.043Z"
   },
   {
    "duration": 2534,
    "start_time": "2023-03-09T08:20:31.063Z"
   },
   {
    "duration": 24,
    "start_time": "2023-03-09T08:20:33.599Z"
   },
   {
    "duration": 47,
    "start_time": "2023-03-09T08:20:33.624Z"
   },
   {
    "duration": 5,
    "start_time": "2023-03-09T08:20:33.673Z"
   },
   {
    "duration": 14,
    "start_time": "2023-03-09T08:20:33.680Z"
   },
   {
    "duration": 33,
    "start_time": "2023-03-09T08:20:33.697Z"
   },
   {
    "duration": 22,
    "start_time": "2023-03-09T08:20:33.732Z"
   },
   {
    "duration": 18,
    "start_time": "2023-03-09T08:20:33.756Z"
   },
   {
    "duration": 60,
    "start_time": "2023-03-09T08:20:33.776Z"
   },
   {
    "duration": 13,
    "start_time": "2023-03-09T08:20:33.838Z"
   },
   {
    "duration": 67,
    "start_time": "2023-03-09T08:20:33.853Z"
   },
   {
    "duration": 12,
    "start_time": "2023-03-09T08:20:33.925Z"
   },
   {
    "duration": 123,
    "start_time": "2023-03-09T08:20:33.939Z"
   },
   {
    "duration": 6,
    "start_time": "2023-03-09T08:20:34.065Z"
   },
   {
    "duration": 35,
    "start_time": "2023-03-09T08:20:34.072Z"
   },
   {
    "duration": 35,
    "start_time": "2023-03-09T08:20:34.109Z"
   },
   {
    "duration": 6,
    "start_time": "2023-03-09T08:20:34.146Z"
   },
   {
    "duration": 20,
    "start_time": "2023-03-09T08:20:34.154Z"
   },
   {
    "duration": 24,
    "start_time": "2023-03-09T08:20:34.177Z"
   },
   {
    "duration": 87,
    "start_time": "2023-03-09T08:20:34.205Z"
   },
   {
    "duration": 59,
    "start_time": "2023-03-09T08:20:34.294Z"
   },
   {
    "duration": 131,
    "start_time": "2023-03-09T08:20:34.356Z"
   },
   {
    "duration": 113,
    "start_time": "2023-03-09T08:22:40.043Z"
   },
   {
    "duration": 19,
    "start_time": "2023-03-09T08:22:49.629Z"
   },
   {
    "duration": 7,
    "start_time": "2023-03-09T08:27:03.986Z"
   },
   {
    "duration": 1106,
    "start_time": "2023-03-09T08:27:21.466Z"
   },
   {
    "duration": 117,
    "start_time": "2023-03-09T08:27:23.564Z"
   },
   {
    "duration": 107,
    "start_time": "2023-03-09T08:27:33.666Z"
   },
   {
    "duration": 17,
    "start_time": "2023-03-09T08:27:37.267Z"
   },
   {
    "duration": 2442,
    "start_time": "2023-03-09T08:27:39.947Z"
   },
   {
    "duration": 10,
    "start_time": "2023-03-09T08:27:46.666Z"
   },
   {
    "duration": 11,
    "start_time": "2023-03-09T08:27:49.748Z"
   },
   {
    "duration": 8,
    "start_time": "2023-03-09T08:28:10.605Z"
   },
   {
    "duration": 5,
    "start_time": "2023-03-09T08:28:13.986Z"
   },
   {
    "duration": 14,
    "start_time": "2023-03-09T08:28:22.402Z"
   },
   {
    "duration": 9,
    "start_time": "2023-03-09T08:28:27.181Z"
   },
   {
    "duration": 15,
    "start_time": "2023-03-09T08:28:34.121Z"
   },
   {
    "duration": 7,
    "start_time": "2023-03-09T08:29:15.979Z"
   },
   {
    "duration": 11,
    "start_time": "2023-03-09T08:29:28.768Z"
   },
   {
    "duration": 9,
    "start_time": "2023-03-09T08:29:33.039Z"
   },
   {
    "duration": 9,
    "start_time": "2023-03-09T08:29:36.457Z"
   },
   {
    "duration": 45,
    "start_time": "2023-03-09T08:29:57.073Z"
   },
   {
    "duration": 11,
    "start_time": "2023-03-09T08:30:06.939Z"
   },
   {
    "duration": 34,
    "start_time": "2023-03-09T08:30:14.377Z"
   },
   {
    "duration": 124,
    "start_time": "2023-03-09T08:38:46.565Z"
   },
   {
    "duration": 106,
    "start_time": "2023-03-09T08:42:41.587Z"
   },
   {
    "duration": 24,
    "start_time": "2023-03-09T08:50:21.111Z"
   },
   {
    "duration": 7,
    "start_time": "2023-03-09T08:50:24.179Z"
   },
   {
    "duration": 8,
    "start_time": "2023-03-09T08:50:33.036Z"
   },
   {
    "duration": 750,
    "start_time": "2023-03-09T08:51:01.753Z"
   },
   {
    "duration": 149,
    "start_time": "2023-03-09T08:51:02.505Z"
   },
   {
    "duration": 99,
    "start_time": "2023-03-09T08:51:02.656Z"
   },
   {
    "duration": 18,
    "start_time": "2023-03-09T08:51:02.756Z"
   },
   {
    "duration": 2601,
    "start_time": "2023-03-09T08:51:02.776Z"
   },
   {
    "duration": 11,
    "start_time": "2023-03-09T08:51:05.379Z"
   },
   {
    "duration": 12,
    "start_time": "2023-03-09T08:51:05.392Z"
   },
   {
    "duration": 41,
    "start_time": "2023-03-09T08:51:05.406Z"
   },
   {
    "duration": 13,
    "start_time": "2023-03-09T08:51:05.449Z"
   },
   {
    "duration": 10,
    "start_time": "2023-03-09T08:51:05.464Z"
   },
   {
    "duration": 159,
    "start_time": "2023-03-09T08:51:05.476Z"
   },
   {
    "duration": 6,
    "start_time": "2023-03-09T08:51:05.637Z"
   },
   {
    "duration": 32,
    "start_time": "2023-03-09T08:51:05.645Z"
   },
   {
    "duration": 12,
    "start_time": "2023-03-09T08:51:05.680Z"
   },
   {
    "duration": 5,
    "start_time": "2023-03-09T08:51:05.693Z"
   },
   {
    "duration": 50,
    "start_time": "2023-03-09T08:51:05.700Z"
   },
   {
    "duration": 10,
    "start_time": "2023-03-09T08:51:05.752Z"
   },
   {
    "duration": 10,
    "start_time": "2023-03-09T08:51:05.764Z"
   },
   {
    "duration": 13,
    "start_time": "2023-03-09T08:51:05.776Z"
   },
   {
    "duration": 8,
    "start_time": "2023-03-09T08:51:05.790Z"
   },
   {
    "duration": 68,
    "start_time": "2023-03-09T08:51:05.799Z"
   },
   {
    "duration": 9,
    "start_time": "2023-03-09T08:51:05.869Z"
   },
   {
    "duration": 42,
    "start_time": "2023-03-09T08:51:05.880Z"
   },
   {
    "duration": 9,
    "start_time": "2023-03-09T08:51:05.926Z"
   },
   {
    "duration": 31,
    "start_time": "2023-03-09T08:51:05.938Z"
   },
   {
    "duration": 20,
    "start_time": "2023-03-09T08:51:05.971Z"
   },
   {
    "duration": 209,
    "start_time": "2023-03-09T08:51:05.992Z"
   },
   {
    "duration": 112,
    "start_time": "2023-03-09T09:20:23.299Z"
   },
   {
    "duration": 1335,
    "start_time": "2023-03-09T09:20:34.027Z"
   },
   {
    "duration": 8,
    "start_time": "2023-03-09T09:21:12.909Z"
   },
   {
    "duration": 21,
    "start_time": "2023-03-09T09:21:58.336Z"
   },
   {
    "duration": 1132,
    "start_time": "2023-03-09T09:31:17.436Z"
   },
   {
    "duration": 1278,
    "start_time": "2023-03-09T09:32:28.711Z"
   },
   {
    "duration": 1306,
    "start_time": "2023-03-09T09:34:48.974Z"
   },
   {
    "duration": 1258,
    "start_time": "2023-03-09T09:37:36.548Z"
   },
   {
    "duration": 16,
    "start_time": "2023-03-09T09:48:06.333Z"
   },
   {
    "duration": 15,
    "start_time": "2023-03-09T09:48:15.707Z"
   },
   {
    "duration": 18,
    "start_time": "2023-03-09T09:48:41.937Z"
   },
   {
    "duration": 24,
    "start_time": "2023-03-09T09:48:54.701Z"
   },
   {
    "duration": 22,
    "start_time": "2023-03-09T09:51:11.021Z"
   },
   {
    "duration": 17,
    "start_time": "2023-03-09T09:51:43.045Z"
   },
   {
    "duration": 1646,
    "start_time": "2023-03-09T10:01:27.933Z"
   },
   {
    "duration": 1764,
    "start_time": "2023-03-09T10:01:54.202Z"
   },
   {
    "duration": 1398,
    "start_time": "2023-03-09T10:02:15.602Z"
   },
   {
    "duration": 17,
    "start_time": "2023-03-09T10:03:23.361Z"
   },
   {
    "duration": 1319,
    "start_time": "2023-03-09T10:08:23.581Z"
   },
   {
    "duration": 1433,
    "start_time": "2023-03-09T10:12:04.827Z"
   },
   {
    "duration": 1363,
    "start_time": "2023-03-09T10:13:27.902Z"
   },
   {
    "duration": 1560,
    "start_time": "2023-03-09T10:14:54.971Z"
   },
   {
    "duration": 1644,
    "start_time": "2023-03-09T10:15:08.879Z"
   },
   {
    "duration": 1495,
    "start_time": "2023-03-09T10:15:21.990Z"
   },
   {
    "duration": 1480,
    "start_time": "2023-03-09T10:15:33.170Z"
   },
   {
    "duration": 813,
    "start_time": "2023-03-09T10:16:21.239Z"
   },
   {
    "duration": 142,
    "start_time": "2023-03-09T10:16:22.055Z"
   },
   {
    "duration": 94,
    "start_time": "2023-03-09T10:16:22.199Z"
   },
   {
    "duration": 48,
    "start_time": "2023-03-09T10:16:22.295Z"
   },
   {
    "duration": 2498,
    "start_time": "2023-03-09T10:16:22.352Z"
   },
   {
    "duration": 13,
    "start_time": "2023-03-09T10:16:24.853Z"
   },
   {
    "duration": 10,
    "start_time": "2023-03-09T10:16:24.868Z"
   },
   {
    "duration": 3,
    "start_time": "2023-03-09T10:16:24.880Z"
   },
   {
    "duration": 6,
    "start_time": "2023-03-09T10:16:24.885Z"
   },
   {
    "duration": 26,
    "start_time": "2023-03-09T10:16:24.893Z"
   },
   {
    "duration": 160,
    "start_time": "2023-03-09T10:16:24.940Z"
   },
   {
    "duration": 22,
    "start_time": "2023-03-09T10:16:25.113Z"
   },
   {
    "duration": 45,
    "start_time": "2023-03-09T10:16:25.139Z"
   },
   {
    "duration": 12,
    "start_time": "2023-03-09T10:16:25.186Z"
   },
   {
    "duration": 8,
    "start_time": "2023-03-09T10:16:25.200Z"
   },
   {
    "duration": 59,
    "start_time": "2023-03-09T10:16:25.212Z"
   },
   {
    "duration": 15,
    "start_time": "2023-03-09T10:16:25.273Z"
   },
   {
    "duration": 14,
    "start_time": "2023-03-09T10:16:25.289Z"
   },
   {
    "duration": 60,
    "start_time": "2023-03-09T10:16:25.310Z"
   },
   {
    "duration": 7,
    "start_time": "2023-03-09T10:16:25.372Z"
   },
   {
    "duration": 58,
    "start_time": "2023-03-09T10:16:25.381Z"
   },
   {
    "duration": 25,
    "start_time": "2023-03-09T10:16:25.442Z"
   },
   {
    "duration": 34,
    "start_time": "2023-03-09T10:16:25.469Z"
   },
   {
    "duration": 1546,
    "start_time": "2023-03-09T10:16:25.505Z"
   },
   {
    "duration": 1283,
    "start_time": "2023-03-09T10:16:27.054Z"
   },
   {
    "duration": 26,
    "start_time": "2023-03-09T10:16:28.347Z"
   },
   {
    "duration": 1597,
    "start_time": "2023-03-09T10:16:28.375Z"
   },
   {
    "duration": 1679,
    "start_time": "2023-03-09T10:16:29.976Z"
   },
   {
    "duration": 1636,
    "start_time": "2023-03-09T10:16:31.659Z"
   },
   {
    "duration": 1560,
    "start_time": "2023-03-09T10:16:33.297Z"
   },
   {
    "duration": 32,
    "start_time": "2023-03-09T10:16:34.859Z"
   },
   {
    "duration": 160,
    "start_time": "2023-03-09T10:16:34.893Z"
   },
   {
    "duration": 1633,
    "start_time": "2023-03-09T10:17:50.761Z"
   },
   {
    "duration": 772,
    "start_time": "2023-03-09T10:19:26.626Z"
   },
   {
    "duration": 173,
    "start_time": "2023-03-09T10:19:27.400Z"
   },
   {
    "duration": 99,
    "start_time": "2023-03-09T10:19:27.575Z"
   },
   {
    "duration": 18,
    "start_time": "2023-03-09T10:19:27.676Z"
   },
   {
    "duration": 2657,
    "start_time": "2023-03-09T10:19:27.712Z"
   },
   {
    "duration": 9,
    "start_time": "2023-03-09T10:19:30.371Z"
   },
   {
    "duration": 13,
    "start_time": "2023-03-09T10:19:30.382Z"
   },
   {
    "duration": 55,
    "start_time": "2023-03-09T10:19:30.397Z"
   },
   {
    "duration": 19,
    "start_time": "2023-03-09T10:19:30.454Z"
   },
   {
    "duration": 24,
    "start_time": "2023-03-09T10:19:30.475Z"
   },
   {
    "duration": 174,
    "start_time": "2023-03-09T10:19:30.500Z"
   },
   {
    "duration": 5,
    "start_time": "2023-03-09T10:19:30.676Z"
   },
   {
    "duration": 86,
    "start_time": "2023-03-09T10:19:30.683Z"
   },
   {
    "duration": 79,
    "start_time": "2023-03-09T10:19:30.773Z"
   },
   {
    "duration": 31,
    "start_time": "2023-03-09T10:19:30.855Z"
   },
   {
    "duration": 40,
    "start_time": "2023-03-09T10:19:30.888Z"
   },
   {
    "duration": 58,
    "start_time": "2023-03-09T10:19:30.930Z"
   },
   {
    "duration": 92,
    "start_time": "2023-03-09T10:19:30.990Z"
   },
   {
    "duration": 58,
    "start_time": "2023-03-09T10:19:31.084Z"
   },
   {
    "duration": 31,
    "start_time": "2023-03-09T10:19:31.145Z"
   },
   {
    "duration": 53,
    "start_time": "2023-03-09T10:19:31.178Z"
   },
   {
    "duration": 50,
    "start_time": "2023-03-09T10:19:31.233Z"
   },
   {
    "duration": 41,
    "start_time": "2023-03-09T10:19:31.285Z"
   },
   {
    "duration": 1507,
    "start_time": "2023-03-09T10:19:31.336Z"
   },
   {
    "duration": 1294,
    "start_time": "2023-03-09T10:19:32.845Z"
   },
   {
    "duration": 23,
    "start_time": "2023-03-09T10:19:34.145Z"
   },
   {
    "duration": 1519,
    "start_time": "2023-03-09T10:19:34.170Z"
   },
   {
    "duration": 1493,
    "start_time": "2023-03-09T10:19:35.691Z"
   },
   {
    "duration": 1522,
    "start_time": "2023-03-09T10:19:37.186Z"
   },
   {
    "duration": 1607,
    "start_time": "2023-03-09T10:19:38.717Z"
   },
   {
    "duration": 39,
    "start_time": "2023-03-09T10:19:40.331Z"
   },
   {
    "duration": 113,
    "start_time": "2023-03-09T10:19:40.372Z"
   },
   {
    "duration": 1335,
    "start_time": "2023-03-09T10:21:22.562Z"
   },
   {
    "duration": 1508,
    "start_time": "2023-03-09T10:21:34.864Z"
   },
   {
    "duration": 20,
    "start_time": "2023-03-09T10:28:27.717Z"
   },
   {
    "duration": 9,
    "start_time": "2023-03-09T10:28:46.462Z"
   },
   {
    "duration": 1284,
    "start_time": "2023-03-09T10:30:49.529Z"
   },
   {
    "duration": 1326,
    "start_time": "2023-03-09T10:31:22.288Z"
   },
   {
    "duration": 1550,
    "start_time": "2023-03-09T10:31:55.934Z"
   },
   {
    "duration": 1434,
    "start_time": "2023-03-09T10:32:40.118Z"
   },
   {
    "duration": 1407,
    "start_time": "2023-03-09T10:33:17.726Z"
   },
   {
    "duration": 1363,
    "start_time": "2023-03-09T10:33:42.200Z"
   },
   {
    "duration": 1456,
    "start_time": "2023-03-09T10:34:31.430Z"
   },
   {
    "duration": 1684,
    "start_time": "2023-03-09T10:37:47.708Z"
   },
   {
    "duration": 1355,
    "start_time": "2023-03-09T10:42:55.072Z"
   },
   {
    "duration": 1245,
    "start_time": "2023-03-09T10:45:24.790Z"
   },
   {
    "duration": 40,
    "start_time": "2023-03-09T10:45:49.116Z"
   },
   {
    "duration": 32,
    "start_time": "2023-03-09T10:46:13.657Z"
   },
   {
    "duration": 33,
    "start_time": "2023-03-09T10:46:30.633Z"
   },
   {
    "duration": 35,
    "start_time": "2023-03-09T10:46:32.329Z"
   },
   {
    "duration": 46,
    "start_time": "2023-03-09T10:58:42.891Z"
   },
   {
    "duration": 49,
    "start_time": "2023-03-09T11:00:18.565Z"
   },
   {
    "duration": 36,
    "start_time": "2023-03-09T11:00:27.141Z"
   },
   {
    "duration": 35,
    "start_time": "2023-03-09T11:00:28.328Z"
   },
   {
    "duration": 35,
    "start_time": "2023-03-09T11:00:29.525Z"
   },
   {
    "duration": 8,
    "start_time": "2023-03-09T11:00:37.151Z"
   },
   {
    "duration": 8,
    "start_time": "2023-03-09T11:00:56.631Z"
   },
   {
    "duration": 6,
    "start_time": "2023-03-09T11:00:59.178Z"
   },
   {
    "duration": 5,
    "start_time": "2023-03-09T11:01:00.066Z"
   },
   {
    "duration": 12,
    "start_time": "2023-03-09T11:01:00.811Z"
   },
   {
    "duration": 710,
    "start_time": "2023-03-09T11:01:15.664Z"
   },
   {
    "duration": 123,
    "start_time": "2023-03-09T11:01:16.376Z"
   },
   {
    "duration": 88,
    "start_time": "2023-03-09T11:01:16.507Z"
   },
   {
    "duration": 23,
    "start_time": "2023-03-09T11:01:16.602Z"
   },
   {
    "duration": 2500,
    "start_time": "2023-03-09T11:01:16.627Z"
   },
   {
    "duration": 14,
    "start_time": "2023-03-09T11:01:19.136Z"
   },
   {
    "duration": 21,
    "start_time": "2023-03-09T11:01:19.152Z"
   },
   {
    "duration": 7,
    "start_time": "2023-03-09T11:01:19.174Z"
   },
   {
    "duration": 62,
    "start_time": "2023-03-09T11:01:19.183Z"
   },
   {
    "duration": 18,
    "start_time": "2023-03-09T11:01:19.249Z"
   },
   {
    "duration": 128,
    "start_time": "2023-03-09T11:01:19.269Z"
   },
   {
    "duration": 8,
    "start_time": "2023-03-09T11:01:19.402Z"
   },
   {
    "duration": 54,
    "start_time": "2023-03-09T11:01:19.412Z"
   },
   {
    "duration": 23,
    "start_time": "2023-03-09T11:01:19.468Z"
   },
   {
    "duration": 5,
    "start_time": "2023-03-09T11:01:19.493Z"
   },
   {
    "duration": 49,
    "start_time": "2023-03-09T11:01:19.500Z"
   },
   {
    "duration": 11,
    "start_time": "2023-03-09T11:01:19.551Z"
   },
   {
    "duration": 18,
    "start_time": "2023-03-09T11:01:19.564Z"
   },
   {
    "duration": 38,
    "start_time": "2023-03-09T11:01:19.584Z"
   },
   {
    "duration": 29,
    "start_time": "2023-03-09T11:01:19.634Z"
   },
   {
    "duration": 32,
    "start_time": "2023-03-09T11:01:19.665Z"
   },
   {
    "duration": 13,
    "start_time": "2023-03-09T11:01:19.698Z"
   },
   {
    "duration": 61,
    "start_time": "2023-03-09T11:01:19.712Z"
   },
   {
    "duration": 10,
    "start_time": "2023-03-09T11:01:19.774Z"
   },
   {
    "duration": 99,
    "start_time": "2023-03-09T11:01:19.786Z"
   },
   {
    "duration": 0,
    "start_time": "2023-03-09T11:01:19.886Z"
   },
   {
    "duration": 0,
    "start_time": "2023-03-09T11:01:19.888Z"
   },
   {
    "duration": 0,
    "start_time": "2023-03-09T11:01:19.888Z"
   },
   {
    "duration": 0,
    "start_time": "2023-03-09T11:01:19.889Z"
   },
   {
    "duration": 0,
    "start_time": "2023-03-09T11:01:19.890Z"
   },
   {
    "duration": 0,
    "start_time": "2023-03-09T11:01:19.891Z"
   },
   {
    "duration": 0,
    "start_time": "2023-03-09T11:01:19.906Z"
   },
   {
    "duration": 0,
    "start_time": "2023-03-09T11:01:19.907Z"
   },
   {
    "duration": 0,
    "start_time": "2023-03-09T11:01:19.907Z"
   },
   {
    "duration": 0,
    "start_time": "2023-03-09T11:01:19.908Z"
   },
   {
    "duration": 1190,
    "start_time": "2023-03-09T11:01:51.629Z"
   },
   {
    "duration": 1381,
    "start_time": "2023-03-09T11:02:12.871Z"
   },
   {
    "duration": 1234,
    "start_time": "2023-03-09T11:02:29.245Z"
   },
   {
    "duration": 16,
    "start_time": "2023-03-09T11:21:25.920Z"
   },
   {
    "duration": 1051,
    "start_time": "2023-03-09T11:21:39.850Z"
   },
   {
    "duration": 8,
    "start_time": "2023-03-09T11:24:43.077Z"
   },
   {
    "duration": 7,
    "start_time": "2023-03-09T11:24:55.204Z"
   },
   {
    "duration": 7,
    "start_time": "2023-03-09T11:27:40.227Z"
   },
   {
    "duration": 7,
    "start_time": "2023-03-09T11:28:38.153Z"
   },
   {
    "duration": 7,
    "start_time": "2023-03-09T11:30:18.061Z"
   },
   {
    "duration": 8,
    "start_time": "2023-03-09T11:31:49.918Z"
   },
   {
    "duration": 8,
    "start_time": "2023-03-09T11:33:02.554Z"
   },
   {
    "duration": 6,
    "start_time": "2023-03-09T11:34:27.135Z"
   },
   {
    "duration": 8,
    "start_time": "2023-03-09T11:34:46.825Z"
   },
   {
    "duration": 7,
    "start_time": "2023-03-09T11:35:37.224Z"
   },
   {
    "duration": 12,
    "start_time": "2023-03-09T11:39:32.315Z"
   },
   {
    "duration": 7,
    "start_time": "2023-03-09T11:43:42.991Z"
   },
   {
    "duration": 11,
    "start_time": "2023-03-09T11:43:46.925Z"
   },
   {
    "duration": 16,
    "start_time": "2023-03-09T11:46:39.219Z"
   },
   {
    "duration": 24,
    "start_time": "2023-03-09T11:46:57.780Z"
   },
   {
    "duration": 1222,
    "start_time": "2023-03-09T11:52:34.741Z"
   },
   {
    "duration": 32,
    "start_time": "2023-03-09T11:53:01.231Z"
   },
   {
    "duration": 27,
    "start_time": "2023-03-09T11:53:42.711Z"
   },
   {
    "duration": 104,
    "start_time": "2023-03-09T11:59:24.389Z"
   },
   {
    "duration": 185,
    "start_time": "2023-03-09T11:59:41.830Z"
   },
   {
    "duration": 118,
    "start_time": "2023-03-09T12:00:07.530Z"
   },
   {
    "duration": 110,
    "start_time": "2023-03-09T12:00:35.591Z"
   },
   {
    "duration": 119,
    "start_time": "2023-03-09T12:00:52.423Z"
   },
   {
    "duration": 124,
    "start_time": "2023-03-09T12:01:25.690Z"
   },
   {
    "duration": 132,
    "start_time": "2023-03-09T12:02:21.096Z"
   },
   {
    "duration": 111,
    "start_time": "2023-03-09T12:36:30.513Z"
   },
   {
    "duration": 124,
    "start_time": "2023-03-09T12:36:49.122Z"
   },
   {
    "duration": 12,
    "start_time": "2023-03-09T12:38:43.699Z"
   },
   {
    "duration": 6,
    "start_time": "2023-03-09T12:38:51.230Z"
   },
   {
    "duration": 111,
    "start_time": "2023-03-09T12:47:57.159Z"
   },
   {
    "duration": 32,
    "start_time": "2023-03-09T12:48:10.595Z"
   },
   {
    "duration": 9,
    "start_time": "2023-03-09T12:50:06.368Z"
   },
   {
    "duration": 13,
    "start_time": "2023-03-09T12:50:26.015Z"
   },
   {
    "duration": 27,
    "start_time": "2023-03-09T12:50:40.857Z"
   },
   {
    "duration": 12,
    "start_time": "2023-03-09T12:53:40.264Z"
   },
   {
    "duration": 24,
    "start_time": "2023-03-09T12:54:12.221Z"
   },
   {
    "duration": 111,
    "start_time": "2023-03-09T13:04:23.893Z"
   },
   {
    "duration": 25,
    "start_time": "2023-03-09T13:04:53.814Z"
   },
   {
    "duration": 25,
    "start_time": "2023-03-09T13:06:15.423Z"
   },
   {
    "duration": 12,
    "start_time": "2023-03-09T13:17:53.282Z"
   },
   {
    "duration": 40,
    "start_time": "2023-03-09T13:18:54.786Z"
   },
   {
    "duration": 13,
    "start_time": "2023-03-09T13:40:51.218Z"
   },
   {
    "duration": 11,
    "start_time": "2023-03-09T13:40:52.913Z"
   },
   {
    "duration": 15,
    "start_time": "2023-03-09T13:41:29.456Z"
   },
   {
    "duration": 21,
    "start_time": "2023-03-09T14:01:04.332Z"
   },
   {
    "duration": 31,
    "start_time": "2023-03-09T14:01:35.794Z"
   },
   {
    "duration": 32,
    "start_time": "2023-03-09T14:05:29.007Z"
   },
   {
    "duration": 122,
    "start_time": "2023-03-09T14:05:54.074Z"
   },
   {
    "duration": 331,
    "start_time": "2023-03-09T14:10:20.034Z"
   },
   {
    "duration": 39,
    "start_time": "2023-03-09T14:10:32.888Z"
   },
   {
    "duration": 77,
    "start_time": "2023-03-09T14:12:24.406Z"
   },
   {
    "duration": 1265,
    "start_time": "2023-03-09T14:12:43.404Z"
   },
   {
    "duration": 1345,
    "start_time": "2023-03-09T14:12:57.001Z"
   },
   {
    "duration": 1139,
    "start_time": "2023-03-09T14:13:26.110Z"
   },
   {
    "duration": 1230,
    "start_time": "2023-03-09T14:13:43.084Z"
   },
   {
    "duration": 23,
    "start_time": "2023-03-09T14:14:27.103Z"
   },
   {
    "duration": 105,
    "start_time": "2023-03-09T14:19:12.634Z"
   },
   {
    "duration": 87,
    "start_time": "2023-03-09T14:19:25.390Z"
   },
   {
    "duration": 94,
    "start_time": "2023-03-09T14:22:38.376Z"
   },
   {
    "duration": 102,
    "start_time": "2023-03-09T14:22:45.619Z"
   },
   {
    "duration": 124,
    "start_time": "2023-03-09T14:23:12.317Z"
   },
   {
    "duration": 727,
    "start_time": "2023-03-09T14:23:48.961Z"
   },
   {
    "duration": 387,
    "start_time": "2023-03-09T14:23:49.691Z"
   },
   {
    "duration": 91,
    "start_time": "2023-03-09T14:23:50.080Z"
   },
   {
    "duration": 28,
    "start_time": "2023-03-09T14:23:50.174Z"
   },
   {
    "duration": 2428,
    "start_time": "2023-03-09T14:23:50.205Z"
   },
   {
    "duration": 11,
    "start_time": "2023-03-09T14:23:52.634Z"
   },
   {
    "duration": 12,
    "start_time": "2023-03-09T14:23:52.646Z"
   },
   {
    "duration": 4,
    "start_time": "2023-03-09T14:23:52.660Z"
   },
   {
    "duration": 15,
    "start_time": "2023-03-09T14:23:52.665Z"
   },
   {
    "duration": 42,
    "start_time": "2023-03-09T14:23:52.682Z"
   },
   {
    "duration": 118,
    "start_time": "2023-03-09T14:23:52.728Z"
   },
   {
    "duration": 138,
    "start_time": "2023-03-09T14:23:52.848Z"
   },
   {
    "duration": 4,
    "start_time": "2023-03-09T14:23:52.989Z"
   },
   {
    "duration": 16,
    "start_time": "2023-03-09T14:23:53.011Z"
   },
   {
    "duration": 133,
    "start_time": "2023-03-09T14:23:53.029Z"
   },
   {
    "duration": 6,
    "start_time": "2023-03-09T14:23:53.164Z"
   },
   {
    "duration": 19,
    "start_time": "2023-03-09T14:23:53.172Z"
   },
   {
    "duration": 16,
    "start_time": "2023-03-09T14:23:53.202Z"
   },
   {
    "duration": 7,
    "start_time": "2023-03-09T14:23:53.219Z"
   },
   {
    "duration": 8,
    "start_time": "2023-03-09T14:23:53.228Z"
   },
   {
    "duration": 8,
    "start_time": "2023-03-09T14:23:53.238Z"
   },
   {
    "duration": 12,
    "start_time": "2023-03-09T14:23:53.248Z"
   },
   {
    "duration": 16,
    "start_time": "2023-03-09T14:23:53.262Z"
   },
   {
    "duration": 28,
    "start_time": "2023-03-09T14:23:53.280Z"
   },
   {
    "duration": 56,
    "start_time": "2023-03-09T14:23:53.310Z"
   },
   {
    "duration": 32,
    "start_time": "2023-03-09T14:23:53.368Z"
   },
   {
    "duration": 56,
    "start_time": "2023-03-09T14:23:53.403Z"
   },
   {
    "duration": 10,
    "start_time": "2023-03-09T14:23:53.461Z"
   },
   {
    "duration": 19,
    "start_time": "2023-03-09T14:23:53.472Z"
   },
   {
    "duration": 12,
    "start_time": "2023-03-09T14:23:53.493Z"
   },
   {
    "duration": 20,
    "start_time": "2023-03-09T14:23:53.508Z"
   },
   {
    "duration": 9,
    "start_time": "2023-03-09T14:23:53.530Z"
   },
   {
    "duration": 7,
    "start_time": "2023-03-09T14:23:53.541Z"
   },
   {
    "duration": 7,
    "start_time": "2023-03-09T14:23:53.549Z"
   },
   {
    "duration": 17,
    "start_time": "2023-03-09T14:23:53.557Z"
   },
   {
    "duration": 7,
    "start_time": "2023-03-09T14:23:53.576Z"
   },
   {
    "duration": 16,
    "start_time": "2023-03-09T14:23:53.604Z"
   },
   {
    "duration": 22,
    "start_time": "2023-03-09T14:23:53.622Z"
   },
   {
    "duration": 27,
    "start_time": "2023-03-09T14:23:53.646Z"
   },
   {
    "duration": 59,
    "start_time": "2023-03-09T14:25:19.403Z"
   },
   {
    "duration": 88,
    "start_time": "2023-03-09T14:25:34.304Z"
   },
   {
    "duration": 75,
    "start_time": "2023-03-09T14:25:36.732Z"
   },
   {
    "duration": 94,
    "start_time": "2023-03-09T14:25:59.072Z"
   },
   {
    "duration": 1413,
    "start_time": "2023-03-09T14:27:17.871Z"
   },
   {
    "duration": 109,
    "start_time": "2023-03-09T14:27:37.342Z"
   },
   {
    "duration": 1493,
    "start_time": "2023-03-09T14:32:20.122Z"
   },
   {
    "duration": 1373,
    "start_time": "2023-03-09T14:32:35.358Z"
   },
   {
    "duration": 1232,
    "start_time": "2023-03-09T14:32:53.318Z"
   },
   {
    "duration": 1422,
    "start_time": "2023-03-09T14:33:21.851Z"
   },
   {
    "duration": 34,
    "start_time": "2023-03-09T14:37:04.455Z"
   },
   {
    "duration": 46,
    "start_time": "2023-03-09T14:37:16.392Z"
   },
   {
    "duration": 31,
    "start_time": "2023-03-09T14:37:18.062Z"
   },
   {
    "duration": 38,
    "start_time": "2023-03-09T14:37:19.088Z"
   },
   {
    "duration": 42,
    "start_time": "2023-03-09T14:37:20.155Z"
   },
   {
    "duration": 34,
    "start_time": "2023-03-09T14:37:21.312Z"
   },
   {
    "duration": 34,
    "start_time": "2023-03-09T14:37:22.510Z"
   },
   {
    "duration": 29,
    "start_time": "2023-03-09T14:37:24.267Z"
   },
   {
    "duration": 30,
    "start_time": "2023-03-09T14:37:37.553Z"
   },
   {
    "duration": 10,
    "start_time": "2023-03-09T14:59:57.214Z"
   },
   {
    "duration": 12,
    "start_time": "2023-03-09T15:00:03.253Z"
   },
   {
    "duration": 11,
    "start_time": "2023-03-09T15:02:16.688Z"
   },
   {
    "duration": 11,
    "start_time": "2023-03-09T15:02:56.360Z"
   },
   {
    "duration": 39,
    "start_time": "2023-03-09T15:03:06.315Z"
   },
   {
    "duration": 12,
    "start_time": "2023-03-09T15:07:16.198Z"
   },
   {
    "duration": 11,
    "start_time": "2023-03-09T15:10:00.608Z"
   },
   {
    "duration": 14,
    "start_time": "2023-03-09T15:12:12.065Z"
   },
   {
    "duration": 12,
    "start_time": "2023-03-09T15:14:32.326Z"
   },
   {
    "duration": 11,
    "start_time": "2023-03-09T15:15:57.977Z"
   },
   {
    "duration": 10,
    "start_time": "2023-03-09T15:16:00.298Z"
   },
   {
    "duration": 840,
    "start_time": "2023-03-09T15:16:41.664Z"
   },
   {
    "duration": 128,
    "start_time": "2023-03-09T15:16:42.507Z"
   },
   {
    "duration": 96,
    "start_time": "2023-03-09T15:16:42.637Z"
   },
   {
    "duration": 19,
    "start_time": "2023-03-09T15:16:42.736Z"
   },
   {
    "duration": 2316,
    "start_time": "2023-03-09T15:16:42.757Z"
   },
   {
    "duration": 11,
    "start_time": "2023-03-09T15:16:45.075Z"
   },
   {
    "duration": 12,
    "start_time": "2023-03-09T15:16:45.088Z"
   },
   {
    "duration": 4,
    "start_time": "2023-03-09T15:16:45.101Z"
   },
   {
    "duration": 20,
    "start_time": "2023-03-09T15:16:45.110Z"
   },
   {
    "duration": 32,
    "start_time": "2023-03-09T15:16:45.132Z"
   },
   {
    "duration": 170,
    "start_time": "2023-03-09T15:16:45.166Z"
   },
   {
    "duration": 34,
    "start_time": "2023-03-09T15:16:45.337Z"
   },
   {
    "duration": 146,
    "start_time": "2023-03-09T15:16:45.373Z"
   },
   {
    "duration": 4,
    "start_time": "2023-03-09T15:16:45.526Z"
   },
   {
    "duration": 13,
    "start_time": "2023-03-09T15:16:45.532Z"
   },
   {
    "duration": 127,
    "start_time": "2023-03-09T15:16:45.547Z"
   },
   {
    "duration": 6,
    "start_time": "2023-03-09T15:16:45.675Z"
   },
   {
    "duration": 35,
    "start_time": "2023-03-09T15:16:45.682Z"
   },
   {
    "duration": 11,
    "start_time": "2023-03-09T15:16:45.719Z"
   },
   {
    "duration": 5,
    "start_time": "2023-03-09T15:16:45.732Z"
   },
   {
    "duration": 5,
    "start_time": "2023-03-09T15:16:45.739Z"
   },
   {
    "duration": 9,
    "start_time": "2023-03-09T15:16:45.745Z"
   },
   {
    "duration": 11,
    "start_time": "2023-03-09T15:16:45.756Z"
   },
   {
    "duration": 50,
    "start_time": "2023-03-09T15:16:45.768Z"
   },
   {
    "duration": 11,
    "start_time": "2023-03-09T15:16:45.820Z"
   },
   {
    "duration": 41,
    "start_time": "2023-03-09T15:16:45.834Z"
   },
   {
    "duration": 9,
    "start_time": "2023-03-09T15:16:45.877Z"
   },
   {
    "duration": 53,
    "start_time": "2023-03-09T15:16:45.902Z"
   },
   {
    "duration": 12,
    "start_time": "2023-03-09T15:16:45.957Z"
   },
   {
    "duration": 17,
    "start_time": "2023-03-09T15:16:45.971Z"
   },
   {
    "duration": 18,
    "start_time": "2023-03-09T15:16:46.002Z"
   },
   {
    "duration": 16,
    "start_time": "2023-03-09T15:16:46.022Z"
   },
   {
    "duration": 7,
    "start_time": "2023-03-09T15:16:46.040Z"
   },
   {
    "duration": 12,
    "start_time": "2023-03-09T15:16:46.050Z"
   },
   {
    "duration": 8,
    "start_time": "2023-03-09T15:16:46.064Z"
   },
   {
    "duration": 7,
    "start_time": "2023-03-09T15:16:46.074Z"
   },
   {
    "duration": 19,
    "start_time": "2023-03-09T15:16:46.106Z"
   },
   {
    "duration": 12,
    "start_time": "2023-03-09T15:16:46.127Z"
   },
   {
    "duration": 16,
    "start_time": "2023-03-09T15:16:46.141Z"
   },
   {
    "duration": 49,
    "start_time": "2023-03-09T15:16:46.159Z"
   },
   {
    "duration": 21,
    "start_time": "2023-03-09T15:18:47.015Z"
   },
   {
    "duration": 11,
    "start_time": "2023-03-09T15:20:17.818Z"
   },
   {
    "duration": 153,
    "start_time": "2023-03-09T15:21:14.858Z"
   },
   {
    "duration": 141,
    "start_time": "2023-03-09T15:21:54.047Z"
   },
   {
    "duration": 166,
    "start_time": "2023-03-09T15:23:14.696Z"
   },
   {
    "duration": 10,
    "start_time": "2023-03-09T15:35:35.700Z"
   },
   {
    "duration": 10,
    "start_time": "2023-03-09T15:41:41.110Z"
   },
   {
    "duration": 5,
    "start_time": "2023-03-09T15:42:13.570Z"
   },
   {
    "duration": 10,
    "start_time": "2023-03-09T15:43:03.392Z"
   },
   {
    "duration": 5,
    "start_time": "2023-03-09T15:43:33.128Z"
   },
   {
    "duration": 95,
    "start_time": "2023-03-09T15:44:02.392Z"
   },
   {
    "duration": 10,
    "start_time": "2023-03-09T15:48:42.200Z"
   },
   {
    "duration": 8,
    "start_time": "2023-03-09T15:48:54.609Z"
   },
   {
    "duration": 3,
    "start_time": "2023-03-09T16:04:26.149Z"
   },
   {
    "duration": 25,
    "start_time": "2023-03-09T16:04:31.245Z"
   },
   {
    "duration": 19,
    "start_time": "2023-03-09T16:16:00.824Z"
   },
   {
    "duration": 660,
    "start_time": "2023-03-09T16:16:36.117Z"
   },
   {
    "duration": 111,
    "start_time": "2023-03-09T16:16:36.779Z"
   },
   {
    "duration": 82,
    "start_time": "2023-03-09T16:16:36.892Z"
   },
   {
    "duration": 34,
    "start_time": "2023-03-09T16:16:36.977Z"
   },
   {
    "duration": 2128,
    "start_time": "2023-03-09T16:16:37.013Z"
   },
   {
    "duration": 11,
    "start_time": "2023-03-09T16:16:39.142Z"
   },
   {
    "duration": 9,
    "start_time": "2023-03-09T16:16:39.155Z"
   },
   {
    "duration": 7,
    "start_time": "2023-03-09T16:16:39.166Z"
   },
   {
    "duration": 57,
    "start_time": "2023-03-09T16:16:39.175Z"
   },
   {
    "duration": 160,
    "start_time": "2023-03-09T16:16:39.236Z"
   },
   {
    "duration": 11,
    "start_time": "2023-03-09T16:16:39.402Z"
   },
   {
    "duration": 5,
    "start_time": "2023-03-09T16:16:39.414Z"
   },
   {
    "duration": 15,
    "start_time": "2023-03-09T16:16:39.420Z"
   },
   {
    "duration": 129,
    "start_time": "2023-03-09T16:16:39.437Z"
   },
   {
    "duration": 5,
    "start_time": "2023-03-09T16:16:39.567Z"
   },
   {
    "duration": 13,
    "start_time": "2023-03-09T16:16:39.573Z"
   },
   {
    "duration": 22,
    "start_time": "2023-03-09T16:16:39.587Z"
   },
   {
    "duration": 5,
    "start_time": "2023-03-09T16:16:39.610Z"
   },
   {
    "duration": 4,
    "start_time": "2023-03-09T16:16:39.616Z"
   },
   {
    "duration": 8,
    "start_time": "2023-03-09T16:16:39.621Z"
   },
   {
    "duration": 9,
    "start_time": "2023-03-09T16:16:39.630Z"
   },
   {
    "duration": 15,
    "start_time": "2023-03-09T16:16:39.641Z"
   },
   {
    "duration": 47,
    "start_time": "2023-03-09T16:16:39.658Z"
   },
   {
    "duration": 47,
    "start_time": "2023-03-09T16:16:39.708Z"
   },
   {
    "duration": 7,
    "start_time": "2023-03-09T16:16:39.756Z"
   },
   {
    "duration": 4,
    "start_time": "2023-03-09T16:16:39.765Z"
   },
   {
    "duration": 57,
    "start_time": "2023-03-09T16:16:39.770Z"
   },
   {
    "duration": 10,
    "start_time": "2023-03-09T16:16:39.830Z"
   },
   {
    "duration": 14,
    "start_time": "2023-03-09T16:16:39.842Z"
   },
   {
    "duration": 6,
    "start_time": "2023-03-09T16:16:39.858Z"
   },
   {
    "duration": 8,
    "start_time": "2023-03-09T16:16:39.866Z"
   },
   {
    "duration": 7,
    "start_time": "2023-03-09T16:16:39.902Z"
   },
   {
    "duration": 10,
    "start_time": "2023-03-09T16:16:39.910Z"
   },
   {
    "duration": 10,
    "start_time": "2023-03-09T16:16:39.921Z"
   },
   {
    "duration": 10,
    "start_time": "2023-03-09T16:16:39.933Z"
   },
   {
    "duration": 7,
    "start_time": "2023-03-09T16:16:39.944Z"
   },
   {
    "duration": 10,
    "start_time": "2023-03-09T16:16:39.952Z"
   },
   {
    "duration": 49,
    "start_time": "2023-03-09T16:16:39.964Z"
   },
   {
    "duration": 26,
    "start_time": "2023-03-09T16:16:40.016Z"
   },
   {
    "duration": 4,
    "start_time": "2023-03-09T16:16:40.044Z"
   },
   {
    "duration": 12,
    "start_time": "2023-03-09T16:16:40.050Z"
   },
   {
    "duration": 13,
    "start_time": "2023-03-09T16:16:40.064Z"
   },
   {
    "duration": 25,
    "start_time": "2023-03-09T16:16:40.079Z"
   },
   {
    "duration": 10,
    "start_time": "2023-03-09T16:16:40.106Z"
   },
   {
    "duration": 5,
    "start_time": "2023-03-09T16:16:40.117Z"
   },
   {
    "duration": 21,
    "start_time": "2023-03-09T16:16:40.124Z"
   },
   {
    "duration": 106,
    "start_time": "2023-03-09T16:20:59.597Z"
   },
   {
    "duration": 32,
    "start_time": "2023-03-09T16:21:30.896Z"
   },
   {
    "duration": 29,
    "start_time": "2023-03-09T16:21:45.558Z"
   },
   {
    "duration": 34,
    "start_time": "2023-03-09T16:24:56.667Z"
   },
   {
    "duration": 1113,
    "start_time": "2023-03-09T16:25:21.414Z"
   },
   {
    "duration": 1149,
    "start_time": "2023-03-09T16:26:05.887Z"
   },
   {
    "duration": 704,
    "start_time": "2023-03-09T16:26:31.477Z"
   },
   {
    "duration": 108,
    "start_time": "2023-03-09T16:26:32.183Z"
   },
   {
    "duration": 76,
    "start_time": "2023-03-09T16:26:32.293Z"
   },
   {
    "duration": 16,
    "start_time": "2023-03-09T16:26:32.371Z"
   },
   {
    "duration": 1972,
    "start_time": "2023-03-09T16:26:32.389Z"
   },
   {
    "duration": 11,
    "start_time": "2023-03-09T16:26:34.363Z"
   },
   {
    "duration": 9,
    "start_time": "2023-03-09T16:26:34.375Z"
   },
   {
    "duration": 5,
    "start_time": "2023-03-09T16:26:34.385Z"
   },
   {
    "duration": 32,
    "start_time": "2023-03-09T16:26:34.392Z"
   },
   {
    "duration": 133,
    "start_time": "2023-03-09T16:26:34.426Z"
   },
   {
    "duration": 9,
    "start_time": "2023-03-09T16:26:34.561Z"
   },
   {
    "duration": 3,
    "start_time": "2023-03-09T16:26:34.571Z"
   },
   {
    "duration": 12,
    "start_time": "2023-03-09T16:26:34.576Z"
   },
   {
    "duration": 105,
    "start_time": "2023-03-09T16:26:34.602Z"
   },
   {
    "duration": 5,
    "start_time": "2023-03-09T16:26:34.709Z"
   },
   {
    "duration": 11,
    "start_time": "2023-03-09T16:26:34.715Z"
   },
   {
    "duration": 10,
    "start_time": "2023-03-09T16:26:34.728Z"
   },
   {
    "duration": 5,
    "start_time": "2023-03-09T16:26:34.739Z"
   },
   {
    "duration": 5,
    "start_time": "2023-03-09T16:26:34.745Z"
   },
   {
    "duration": 9,
    "start_time": "2023-03-09T16:26:34.751Z"
   },
   {
    "duration": 44,
    "start_time": "2023-03-09T16:26:34.761Z"
   },
   {
    "duration": 13,
    "start_time": "2023-03-09T16:26:34.807Z"
   },
   {
    "duration": 7,
    "start_time": "2023-03-09T16:26:34.821Z"
   },
   {
    "duration": 30,
    "start_time": "2023-03-09T16:26:34.830Z"
   },
   {
    "duration": 7,
    "start_time": "2023-03-09T16:26:34.861Z"
   },
   {
    "duration": 3,
    "start_time": "2023-03-09T16:26:34.870Z"
   },
   {
    "duration": 51,
    "start_time": "2023-03-09T16:26:34.875Z"
   },
   {
    "duration": 8,
    "start_time": "2023-03-09T16:26:34.930Z"
   },
   {
    "duration": 14,
    "start_time": "2023-03-09T16:26:34.940Z"
   },
   {
    "duration": 7,
    "start_time": "2023-03-09T16:26:34.956Z"
   },
   {
    "duration": 38,
    "start_time": "2023-03-09T16:26:34.965Z"
   },
   {
    "duration": 8,
    "start_time": "2023-03-09T16:26:35.005Z"
   },
   {
    "duration": 7,
    "start_time": "2023-03-09T16:26:35.014Z"
   },
   {
    "duration": 10,
    "start_time": "2023-03-09T16:26:35.022Z"
   },
   {
    "duration": 8,
    "start_time": "2023-03-09T16:26:35.034Z"
   },
   {
    "duration": 9,
    "start_time": "2023-03-09T16:26:35.043Z"
   },
   {
    "duration": 12,
    "start_time": "2023-03-09T16:26:35.054Z"
   },
   {
    "duration": 19,
    "start_time": "2023-03-09T16:26:35.101Z"
   },
   {
    "duration": 25,
    "start_time": "2023-03-09T16:26:35.122Z"
   },
   {
    "duration": 4,
    "start_time": "2023-03-09T16:26:35.149Z"
   },
   {
    "duration": 10,
    "start_time": "2023-03-09T16:26:35.155Z"
   },
   {
    "duration": 6,
    "start_time": "2023-03-09T16:26:35.167Z"
   },
   {
    "duration": 31,
    "start_time": "2023-03-09T16:26:35.175Z"
   },
   {
    "duration": 9,
    "start_time": "2023-03-09T16:26:35.208Z"
   },
   {
    "duration": 5,
    "start_time": "2023-03-09T16:26:35.219Z"
   },
   {
    "duration": 29,
    "start_time": "2023-03-09T16:26:35.225Z"
   },
   {
    "duration": 259,
    "start_time": "2023-03-09T16:36:40.772Z"
   },
   {
    "duration": 182,
    "start_time": "2023-03-09T16:36:58.596Z"
   },
   {
    "duration": 137,
    "start_time": "2023-03-09T16:37:06.441Z"
   },
   {
    "duration": 280,
    "start_time": "2023-03-09T16:37:25.122Z"
   },
   {
    "duration": 70,
    "start_time": "2023-03-10T00:42:06.409Z"
   },
   {
    "duration": 902,
    "start_time": "2023-03-10T00:42:26.920Z"
   },
   {
    "duration": 414,
    "start_time": "2023-03-10T00:42:27.824Z"
   },
   {
    "duration": 96,
    "start_time": "2023-03-10T00:42:28.239Z"
   },
   {
    "duration": 20,
    "start_time": "2023-03-10T00:42:28.337Z"
   },
   {
    "duration": 2164,
    "start_time": "2023-03-10T00:42:28.361Z"
   },
   {
    "duration": 17,
    "start_time": "2023-03-10T00:42:30.528Z"
   },
   {
    "duration": 57,
    "start_time": "2023-03-10T00:42:30.547Z"
   },
   {
    "duration": 26,
    "start_time": "2023-03-10T00:42:30.607Z"
   },
   {
    "duration": 98,
    "start_time": "2023-03-10T00:42:30.635Z"
   },
   {
    "duration": 163,
    "start_time": "2023-03-10T00:42:30.735Z"
   },
   {
    "duration": 12,
    "start_time": "2023-03-10T00:42:30.900Z"
   },
   {
    "duration": 52,
    "start_time": "2023-03-10T00:42:30.914Z"
   },
   {
    "duration": 39,
    "start_time": "2023-03-10T00:42:30.968Z"
   },
   {
    "duration": 159,
    "start_time": "2023-03-10T00:42:31.012Z"
   },
   {
    "duration": 7,
    "start_time": "2023-03-10T00:42:31.174Z"
   },
   {
    "duration": 36,
    "start_time": "2023-03-10T00:42:31.183Z"
   },
   {
    "duration": 14,
    "start_time": "2023-03-10T00:42:31.222Z"
   },
   {
    "duration": 36,
    "start_time": "2023-03-10T00:42:31.238Z"
   },
   {
    "duration": 6,
    "start_time": "2023-03-10T00:42:31.276Z"
   },
   {
    "duration": 24,
    "start_time": "2023-03-10T00:42:31.285Z"
   },
   {
    "duration": 52,
    "start_time": "2023-03-10T00:42:31.310Z"
   },
   {
    "duration": 14,
    "start_time": "2023-03-10T00:42:31.364Z"
   },
   {
    "duration": 8,
    "start_time": "2023-03-10T00:42:31.380Z"
   },
   {
    "duration": 37,
    "start_time": "2023-03-10T00:42:31.389Z"
   },
   {
    "duration": 39,
    "start_time": "2023-03-10T00:42:31.428Z"
   },
   {
    "duration": 18,
    "start_time": "2023-03-10T00:42:31.470Z"
   },
   {
    "duration": 52,
    "start_time": "2023-03-10T00:42:31.490Z"
   },
   {
    "duration": 13,
    "start_time": "2023-03-10T00:42:31.544Z"
   },
   {
    "duration": 35,
    "start_time": "2023-03-10T00:42:31.559Z"
   },
   {
    "duration": 9,
    "start_time": "2023-03-10T00:42:31.596Z"
   },
   {
    "duration": 26,
    "start_time": "2023-03-10T00:42:31.608Z"
   },
   {
    "duration": 40,
    "start_time": "2023-03-10T00:42:31.635Z"
   },
   {
    "duration": 15,
    "start_time": "2023-03-10T00:42:31.677Z"
   },
   {
    "duration": 10,
    "start_time": "2023-03-10T00:42:31.694Z"
   },
   {
    "duration": 9,
    "start_time": "2023-03-10T00:42:31.706Z"
   },
   {
    "duration": 16,
    "start_time": "2023-03-10T00:42:31.717Z"
   },
   {
    "duration": 30,
    "start_time": "2023-03-10T00:42:31.735Z"
   },
   {
    "duration": 16,
    "start_time": "2023-03-10T00:42:31.767Z"
   },
   {
    "duration": 24,
    "start_time": "2023-03-10T00:42:31.785Z"
   },
   {
    "duration": 23,
    "start_time": "2023-03-10T00:42:31.811Z"
   },
   {
    "duration": 28,
    "start_time": "2023-03-10T00:42:31.840Z"
   },
   {
    "duration": 7,
    "start_time": "2023-03-10T00:42:31.871Z"
   },
   {
    "duration": 8,
    "start_time": "2023-03-10T00:42:31.880Z"
   },
   {
    "duration": 11,
    "start_time": "2023-03-10T00:42:31.890Z"
   },
   {
    "duration": 29,
    "start_time": "2023-03-10T00:42:31.903Z"
   },
   {
    "duration": 24,
    "start_time": "2023-03-10T00:42:31.934Z"
   },
   {
    "duration": 112,
    "start_time": "2023-03-10T00:42:31.961Z"
   },
   {
    "duration": 2144,
    "start_time": "2023-03-10T00:42:56.889Z"
   },
   {
    "duration": 79,
    "start_time": "2023-03-10T01:09:17.288Z"
   },
   {
    "duration": 75,
    "start_time": "2023-03-10T01:12:31.980Z"
   },
   {
    "duration": 67,
    "start_time": "2023-03-10T01:12:34.640Z"
   },
   {
    "duration": 815,
    "start_time": "2023-03-10T01:12:51.317Z"
   },
   {
    "duration": 20,
    "start_time": "2023-03-10T01:14:08.227Z"
   },
   {
    "duration": 127,
    "start_time": "2023-03-10T01:14:27.210Z"
   },
   {
    "duration": 1223,
    "start_time": "2023-03-10T01:17:12.681Z"
   },
   {
    "duration": 16,
    "start_time": "2023-03-10T01:18:48.203Z"
   },
   {
    "duration": 453,
    "start_time": "2023-03-10T01:19:00.725Z"
   },
   {
    "duration": 0,
    "start_time": "2023-03-10T01:21:08.345Z"
   },
   {
    "duration": 21,
    "start_time": "2023-03-10T01:21:20.260Z"
   },
   {
    "duration": 1142,
    "start_time": "2023-03-10T01:22:18.059Z"
   },
   {
    "duration": 1040,
    "start_time": "2023-03-10T01:22:37.048Z"
   },
   {
    "duration": 11,
    "start_time": "2023-03-10T01:27:16.168Z"
   },
   {
    "duration": 304,
    "start_time": "2023-03-10T01:27:36.002Z"
   },
   {
    "duration": 532,
    "start_time": "2023-03-10T01:28:58.239Z"
   },
   {
    "duration": 413,
    "start_time": "2023-03-10T01:29:21.980Z"
   },
   {
    "duration": 15,
    "start_time": "2023-03-10T01:29:43.196Z"
   },
   {
    "duration": 16,
    "start_time": "2023-03-10T01:29:52.885Z"
   },
   {
    "duration": 15,
    "start_time": "2023-03-10T01:29:56.156Z"
   },
   {
    "duration": 101,
    "start_time": "2023-03-10T01:30:09.177Z"
   },
   {
    "duration": 1412,
    "start_time": "2023-03-10T01:30:13.336Z"
   },
   {
    "duration": 1228,
    "start_time": "2023-03-10T01:30:30.545Z"
   },
   {
    "duration": 1118,
    "start_time": "2023-03-10T01:30:48.016Z"
   },
   {
    "duration": 1089,
    "start_time": "2023-03-10T01:31:16.456Z"
   },
   {
    "duration": 9,
    "start_time": "2023-03-10T01:34:47.678Z"
   },
   {
    "duration": 2133,
    "start_time": "2023-03-10T01:37:52.222Z"
   },
   {
    "duration": 12,
    "start_time": "2023-03-10T01:39:31.164Z"
   },
   {
    "duration": 316,
    "start_time": "2023-03-10T01:39:40.825Z"
   },
   {
    "duration": 141,
    "start_time": "2023-03-10T01:40:56.685Z"
   },
   {
    "duration": 75,
    "start_time": "2023-03-10T01:43:12.329Z"
   },
   {
    "duration": 81,
    "start_time": "2023-03-10T01:43:24.608Z"
   },
   {
    "duration": 76,
    "start_time": "2023-03-10T01:43:33.660Z"
   },
   {
    "duration": 1061,
    "start_time": "2023-03-10T01:43:39.162Z"
   },
   {
    "duration": 85,
    "start_time": "2023-03-10T01:44:54.048Z"
   },
   {
    "duration": 79,
    "start_time": "2023-03-10T01:45:06.046Z"
   },
   {
    "duration": 98,
    "start_time": "2023-03-10T01:45:14.537Z"
   },
   {
    "duration": 75,
    "start_time": "2023-03-10T01:45:24.053Z"
   },
   {
    "duration": 78,
    "start_time": "2023-03-10T01:45:46.661Z"
   },
   {
    "duration": 4,
    "start_time": "2023-03-10T01:45:55.172Z"
   },
   {
    "duration": 1349,
    "start_time": "2023-03-10T01:46:20.701Z"
   },
   {
    "duration": 1902,
    "start_time": "2023-03-10T01:47:41.133Z"
   },
   {
    "duration": 76,
    "start_time": "2023-03-10T01:53:11.373Z"
   },
   {
    "duration": 69,
    "start_time": "2023-03-10T01:55:59.209Z"
   },
   {
    "duration": 1173,
    "start_time": "2023-03-10T01:56:11.010Z"
   },
   {
    "duration": 84,
    "start_time": "2023-03-10T01:57:01.570Z"
   },
   {
    "duration": 2214,
    "start_time": "2023-03-10T01:57:29.261Z"
   },
   {
    "duration": 2004,
    "start_time": "2023-03-10T02:01:58.359Z"
   },
   {
    "duration": 119,
    "start_time": "2023-03-10T02:02:08.959Z"
   },
   {
    "duration": 4,
    "start_time": "2023-03-10T02:03:18.559Z"
   },
   {
    "duration": 2103,
    "start_time": "2023-03-10T02:06:44.620Z"
   },
   {
    "duration": 3903,
    "start_time": "2023-03-10T02:08:47.640Z"
   },
   {
    "duration": 4187,
    "start_time": "2023-03-10T02:10:25.876Z"
   },
   {
    "duration": 4229,
    "start_time": "2023-03-10T02:10:38.868Z"
   },
   {
    "duration": 5054,
    "start_time": "2023-03-10T02:11:02.241Z"
   },
   {
    "duration": 4579,
    "start_time": "2023-03-10T02:11:23.888Z"
   },
   {
    "duration": 3652,
    "start_time": "2023-03-10T02:13:52.558Z"
   },
   {
    "duration": 79,
    "start_time": "2023-03-10T02:19:33.361Z"
   },
   {
    "duration": 2128,
    "start_time": "2023-03-10T02:21:48.620Z"
   },
   {
    "duration": 2873,
    "start_time": "2023-03-10T02:22:33.887Z"
   },
   {
    "duration": 3821,
    "start_time": "2023-03-10T02:25:09.538Z"
   },
   {
    "duration": 5873,
    "start_time": "2023-03-10T02:25:55.479Z"
   },
   {
    "duration": 5236,
    "start_time": "2023-03-10T02:26:13.497Z"
   },
   {
    "duration": 4519,
    "start_time": "2023-03-10T02:26:43.204Z"
   },
   {
    "duration": 3808,
    "start_time": "2023-03-10T02:27:09.975Z"
   },
   {
    "duration": 398,
    "start_time": "2023-03-10T02:28:18.204Z"
   },
   {
    "duration": 3678,
    "start_time": "2023-03-10T02:28:42.674Z"
   },
   {
    "duration": 111,
    "start_time": "2023-03-10T02:30:34.076Z"
   },
   {
    "duration": 504,
    "start_time": "2023-03-10T02:30:40.276Z"
   },
   {
    "duration": 234,
    "start_time": "2023-03-10T02:30:58.322Z"
   },
   {
    "duration": 235,
    "start_time": "2023-03-10T02:31:38.119Z"
   },
   {
    "duration": 222,
    "start_time": "2023-03-10T02:32:28.946Z"
   },
   {
    "duration": 475,
    "start_time": "2023-03-10T02:34:20.757Z"
   },
   {
    "duration": 610,
    "start_time": "2023-03-10T02:34:39.829Z"
   },
   {
    "duration": 471,
    "start_time": "2023-03-10T02:35:17.083Z"
   },
   {
    "duration": 669,
    "start_time": "2023-03-10T02:36:05.751Z"
   },
   {
    "duration": 487,
    "start_time": "2023-03-10T02:36:17.716Z"
   },
   {
    "duration": 475,
    "start_time": "2023-03-10T02:37:23.386Z"
   },
   {
    "duration": 354,
    "start_time": "2023-03-10T02:37:52.264Z"
   },
   {
    "duration": 521,
    "start_time": "2023-03-10T02:38:06.639Z"
   },
   {
    "duration": 312,
    "start_time": "2023-03-10T02:38:23.997Z"
   },
   {
    "duration": 315,
    "start_time": "2023-03-10T02:39:08.097Z"
   },
   {
    "duration": 350,
    "start_time": "2023-03-10T02:39:25.724Z"
   },
   {
    "duration": 321,
    "start_time": "2023-03-10T02:39:43.136Z"
   },
   {
    "duration": 436,
    "start_time": "2023-03-10T02:40:08.278Z"
   },
   {
    "duration": 5,
    "start_time": "2023-03-10T02:41:16.910Z"
   },
   {
    "duration": 326,
    "start_time": "2023-03-10T02:41:23.941Z"
   },
   {
    "duration": 316,
    "start_time": "2023-03-10T02:41:43.965Z"
   },
   {
    "duration": 499,
    "start_time": "2023-03-10T02:43:01.815Z"
   },
   {
    "duration": 674,
    "start_time": "2023-03-10T02:44:54.857Z"
   },
   {
    "duration": 531,
    "start_time": "2023-03-10T02:45:58.150Z"
   },
   {
    "duration": 10,
    "start_time": "2023-03-10T02:47:20.461Z"
   },
   {
    "duration": 490,
    "start_time": "2023-03-10T02:47:29.755Z"
   },
   {
    "duration": 617,
    "start_time": "2023-03-10T02:47:47.740Z"
   },
   {
    "duration": 488,
    "start_time": "2023-03-10T02:48:04.543Z"
   },
   {
    "duration": 476,
    "start_time": "2023-03-10T02:49:56.069Z"
   },
   {
    "duration": 639,
    "start_time": "2023-03-10T02:50:17.279Z"
   },
   {
    "duration": 252,
    "start_time": "2023-03-10T02:50:48.129Z"
   },
   {
    "duration": 508,
    "start_time": "2023-03-10T02:52:35.084Z"
   },
   {
    "duration": 632,
    "start_time": "2023-03-10T02:52:48.119Z"
   },
   {
    "duration": 444,
    "start_time": "2023-03-10T02:54:21.599Z"
   },
   {
    "duration": 504,
    "start_time": "2023-03-10T02:54:50.901Z"
   },
   {
    "duration": 10,
    "start_time": "2023-03-10T02:56:11.210Z"
   },
   {
    "duration": 691,
    "start_time": "2023-03-10T02:56:42.850Z"
   },
   {
    "duration": 512,
    "start_time": "2023-03-10T02:57:00.412Z"
   },
   {
    "duration": 636,
    "start_time": "2023-03-10T02:57:51.719Z"
   },
   {
    "duration": 489,
    "start_time": "2023-03-10T02:58:10.901Z"
   },
   {
    "duration": 502,
    "start_time": "2023-03-10T02:58:35.233Z"
   },
   {
    "duration": 642,
    "start_time": "2023-03-10T02:58:52.659Z"
   },
   {
    "duration": 533,
    "start_time": "2023-03-10T03:00:34.137Z"
   },
   {
    "duration": 333,
    "start_time": "2023-03-10T03:00:47.478Z"
   },
   {
    "duration": 481,
    "start_time": "2023-03-10T03:01:19.133Z"
   },
   {
    "duration": 127,
    "start_time": "2023-03-10T03:02:02.364Z"
   },
   {
    "duration": 128,
    "start_time": "2023-03-10T03:02:51.110Z"
   },
   {
    "duration": 145,
    "start_time": "2023-03-10T03:07:13.317Z"
   },
   {
    "duration": 9,
    "start_time": "2023-03-10T03:07:36.276Z"
   },
   {
    "duration": 285,
    "start_time": "2023-03-10T03:10:46.365Z"
   },
   {
    "duration": 290,
    "start_time": "2023-03-10T03:12:02.298Z"
   },
   {
    "duration": 243,
    "start_time": "2023-03-10T03:12:43.913Z"
   },
   {
    "duration": 412,
    "start_time": "2023-03-10T03:13:02.632Z"
   },
   {
    "duration": 271,
    "start_time": "2023-03-10T03:15:45.492Z"
   },
   {
    "duration": 310,
    "start_time": "2023-03-10T03:15:57.162Z"
   },
   {
    "duration": 293,
    "start_time": "2023-03-10T03:16:36.417Z"
   },
   {
    "duration": 21,
    "start_time": "2023-03-10T03:19:02.196Z"
   },
   {
    "duration": 199,
    "start_time": "2023-03-10T03:45:33.288Z"
   },
   {
    "duration": 183,
    "start_time": "2023-03-10T03:46:22.277Z"
   },
   {
    "duration": 214,
    "start_time": "2023-03-10T03:48:25.693Z"
   },
   {
    "duration": 191,
    "start_time": "2023-03-10T03:50:16.813Z"
   },
   {
    "duration": 321,
    "start_time": "2023-03-10T03:51:38.692Z"
   },
   {
    "duration": 203,
    "start_time": "2023-03-10T03:55:02.331Z"
   },
   {
    "duration": 209,
    "start_time": "2023-03-10T03:56:05.344Z"
   },
   {
    "duration": 34621,
    "start_time": "2023-03-10T04:05:41.522Z"
   },
   {
    "duration": 355,
    "start_time": "2023-03-10T04:08:05.367Z"
   },
   {
    "duration": 41405,
    "start_time": "2023-03-10T04:08:18.387Z"
   },
   {
    "duration": 43900,
    "start_time": "2023-03-10T04:09:56.749Z"
   },
   {
    "duration": 49265,
    "start_time": "2023-03-10T04:11:26.502Z"
   },
   {
    "duration": 1127,
    "start_time": "2023-03-10T04:13:43.419Z"
   },
   {
    "duration": 180,
    "start_time": "2023-03-10T04:23:16.139Z"
   },
   {
    "duration": 161,
    "start_time": "2023-03-10T04:24:52.811Z"
   },
   {
    "duration": 207,
    "start_time": "2023-03-10T04:27:00.917Z"
   },
   {
    "duration": 172,
    "start_time": "2023-03-10T04:31:53.164Z"
   },
   {
    "duration": 155,
    "start_time": "2023-03-10T04:32:55.445Z"
   },
   {
    "duration": 9,
    "start_time": "2023-03-10T04:54:16.472Z"
   },
   {
    "duration": 20,
    "start_time": "2023-03-10T04:54:30.881Z"
   },
   {
    "duration": 24,
    "start_time": "2023-03-10T04:55:12.043Z"
   },
   {
    "duration": 38,
    "start_time": "2023-03-10T05:06:33.633Z"
   },
   {
    "duration": 139,
    "start_time": "2023-03-10T05:12:14.512Z"
   },
   {
    "duration": 28,
    "start_time": "2023-03-10T05:13:51.742Z"
   },
   {
    "duration": 29,
    "start_time": "2023-03-10T05:14:33.766Z"
   },
   {
    "duration": 27,
    "start_time": "2023-03-10T05:14:34.944Z"
   },
   {
    "duration": 29,
    "start_time": "2023-03-10T05:14:36.072Z"
   },
   {
    "duration": 21,
    "start_time": "2023-03-10T05:14:44.494Z"
   },
   {
    "duration": 19,
    "start_time": "2023-03-10T05:21:13.457Z"
   },
   {
    "duration": 25,
    "start_time": "2023-03-10T05:21:33.852Z"
   },
   {
    "duration": 18,
    "start_time": "2023-03-10T05:31:10.293Z"
   },
   {
    "duration": 18,
    "start_time": "2023-03-10T05:31:14.837Z"
   },
   {
    "duration": 21,
    "start_time": "2023-03-10T05:31:49.513Z"
   },
   {
    "duration": 22,
    "start_time": "2023-03-10T05:33:37.954Z"
   },
   {
    "duration": 22,
    "start_time": "2023-03-10T05:33:40.263Z"
   },
   {
    "duration": 35,
    "start_time": "2023-03-10T05:50:18.418Z"
   },
   {
    "duration": 173,
    "start_time": "2023-03-10T05:56:19.971Z"
   },
   {
    "duration": 179,
    "start_time": "2023-03-10T05:57:37.230Z"
   },
   {
    "duration": 185,
    "start_time": "2023-03-10T05:57:57.729Z"
   },
   {
    "duration": 161,
    "start_time": "2023-03-10T05:58:39.086Z"
   },
   {
    "duration": 480,
    "start_time": "2023-03-10T06:13:41.135Z"
   },
   {
    "duration": 501,
    "start_time": "2023-03-10T06:15:13.094Z"
   },
   {
    "duration": 518,
    "start_time": "2023-03-10T06:15:20.206Z"
   },
   {
    "duration": 176,
    "start_time": "2023-03-10T06:21:09.400Z"
   },
   {
    "duration": 504,
    "start_time": "2023-03-10T06:33:20.964Z"
   },
   {
    "duration": 532,
    "start_time": "2023-03-10T06:34:02.484Z"
   },
   {
    "duration": 522,
    "start_time": "2023-03-10T06:37:28.840Z"
   },
   {
    "duration": 596,
    "start_time": "2023-03-10T06:38:27.506Z"
   },
   {
    "duration": 530,
    "start_time": "2023-03-10T06:38:50.653Z"
   },
   {
    "duration": 522,
    "start_time": "2023-03-10T06:39:00.593Z"
   },
   {
    "duration": 353,
    "start_time": "2023-03-10T06:46:48.834Z"
   },
   {
    "duration": 383,
    "start_time": "2023-03-10T06:47:22.994Z"
   },
   {
    "duration": 385,
    "start_time": "2023-03-10T06:47:34.922Z"
   },
   {
    "duration": 90,
    "start_time": "2023-03-10T06:50:09.946Z"
   },
   {
    "duration": 534,
    "start_time": "2023-03-10T06:53:54.961Z"
   },
   {
    "duration": 144,
    "start_time": "2023-03-10T06:56:26.277Z"
   },
   {
    "duration": 84,
    "start_time": "2023-03-10T07:03:21.326Z"
   },
   {
    "duration": 76,
    "start_time": "2023-03-10T07:21:10.996Z"
   },
   {
    "duration": 101,
    "start_time": "2023-03-10T08:01:06.005Z"
   },
   {
    "duration": 369,
    "start_time": "2023-03-10T08:01:41.077Z"
   },
   {
    "duration": 168,
    "start_time": "2023-03-10T08:04:21.094Z"
   },
   {
    "duration": 98,
    "start_time": "2023-03-10T08:04:45.797Z"
   },
   {
    "duration": 182,
    "start_time": "2023-03-10T08:05:18.929Z"
   },
   {
    "duration": 761,
    "start_time": "2023-03-10T08:06:53.765Z"
   },
   {
    "duration": 138,
    "start_time": "2023-03-10T08:06:54.528Z"
   },
   {
    "duration": 129,
    "start_time": "2023-03-10T08:06:54.669Z"
   },
   {
    "duration": 34,
    "start_time": "2023-03-10T08:06:54.801Z"
   },
   {
    "duration": 2470,
    "start_time": "2023-03-10T08:06:54.839Z"
   },
   {
    "duration": 10,
    "start_time": "2023-03-10T08:06:57.312Z"
   },
   {
    "duration": 24,
    "start_time": "2023-03-10T08:06:57.324Z"
   },
   {
    "duration": 11,
    "start_time": "2023-03-10T08:06:57.349Z"
   },
   {
    "duration": 35,
    "start_time": "2023-03-10T08:06:57.361Z"
   },
   {
    "duration": 19,
    "start_time": "2023-03-10T08:06:57.399Z"
   },
   {
    "duration": 26,
    "start_time": "2023-03-10T08:06:57.420Z"
   },
   {
    "duration": 8,
    "start_time": "2023-03-10T08:06:57.448Z"
   },
   {
    "duration": 14,
    "start_time": "2023-03-10T08:06:57.458Z"
   },
   {
    "duration": 123,
    "start_time": "2023-03-10T08:06:57.474Z"
   },
   {
    "duration": 5,
    "start_time": "2023-03-10T08:06:57.600Z"
   },
   {
    "duration": 30,
    "start_time": "2023-03-10T08:06:57.607Z"
   },
   {
    "duration": 14,
    "start_time": "2023-03-10T08:06:57.643Z"
   },
   {
    "duration": 11,
    "start_time": "2023-03-10T08:06:57.659Z"
   },
   {
    "duration": 7,
    "start_time": "2023-03-10T08:06:57.672Z"
   },
   {
    "duration": 14,
    "start_time": "2023-03-10T08:06:57.681Z"
   },
   {
    "duration": 14,
    "start_time": "2023-03-10T08:06:57.697Z"
   },
   {
    "duration": 43,
    "start_time": "2023-03-10T08:06:57.713Z"
   },
   {
    "duration": 10,
    "start_time": "2023-03-10T08:06:57.758Z"
   },
   {
    "duration": 36,
    "start_time": "2023-03-10T08:06:57.770Z"
   },
   {
    "duration": 9,
    "start_time": "2023-03-10T08:06:57.808Z"
   },
   {
    "duration": 17,
    "start_time": "2023-03-10T08:06:57.818Z"
   },
   {
    "duration": 40,
    "start_time": "2023-03-10T08:06:57.839Z"
   },
   {
    "duration": 12,
    "start_time": "2023-03-10T08:06:57.884Z"
   },
   {
    "duration": 16,
    "start_time": "2023-03-10T08:06:57.898Z"
   },
   {
    "duration": 10,
    "start_time": "2023-03-10T08:06:57.932Z"
   },
   {
    "duration": 16,
    "start_time": "2023-03-10T08:06:57.948Z"
   },
   {
    "duration": 29,
    "start_time": "2023-03-10T08:06:57.967Z"
   },
   {
    "duration": 24,
    "start_time": "2023-03-10T08:06:57.999Z"
   },
   {
    "duration": 24,
    "start_time": "2023-03-10T08:06:58.025Z"
   },
   {
    "duration": 13,
    "start_time": "2023-03-10T08:06:58.053Z"
   },
   {
    "duration": 10,
    "start_time": "2023-03-10T08:06:58.068Z"
   },
   {
    "duration": 17,
    "start_time": "2023-03-10T08:06:58.080Z"
   },
   {
    "duration": 44,
    "start_time": "2023-03-10T08:06:58.099Z"
   },
   {
    "duration": 34,
    "start_time": "2023-03-10T08:06:58.148Z"
   },
   {
    "duration": 6,
    "start_time": "2023-03-10T08:06:58.185Z"
   },
   {
    "duration": 23,
    "start_time": "2023-03-10T08:06:58.194Z"
   },
   {
    "duration": 20,
    "start_time": "2023-03-10T08:06:58.220Z"
   },
   {
    "duration": 22,
    "start_time": "2023-03-10T08:06:58.244Z"
   },
   {
    "duration": 10,
    "start_time": "2023-03-10T08:06:58.269Z"
   },
   {
    "duration": 6,
    "start_time": "2023-03-10T08:06:58.281Z"
   },
   {
    "duration": 24,
    "start_time": "2023-03-10T08:06:58.289Z"
   },
   {
    "duration": 541,
    "start_time": "2023-03-10T08:06:58.316Z"
   },
   {
    "duration": 650,
    "start_time": "2023-03-10T08:06:58.858Z"
   },
   {
    "duration": 541,
    "start_time": "2023-03-10T08:06:59.510Z"
   },
   {
    "duration": 394,
    "start_time": "2023-03-10T08:07:00.053Z"
   },
   {
    "duration": 819,
    "start_time": "2023-03-10T08:07:00.449Z"
   },
   {
    "duration": 545,
    "start_time": "2023-03-10T08:07:01.270Z"
   },
   {
    "duration": 299,
    "start_time": "2023-03-10T08:07:01.817Z"
   },
   {
    "duration": 152,
    "start_time": "2023-03-10T08:07:02.118Z"
   },
   {
    "duration": 751,
    "start_time": "2023-03-10T08:07:02.272Z"
   },
   {
    "duration": 621,
    "start_time": "2023-03-10T08:07:03.025Z"
   },
   {
    "duration": 642,
    "start_time": "2023-03-10T08:07:03.650Z"
   },
   {
    "duration": 830,
    "start_time": "2023-03-10T08:07:04.295Z"
   },
   {
    "duration": 170,
    "start_time": "2023-03-10T08:07:05.133Z"
   },
   {
    "duration": 163,
    "start_time": "2023-03-10T08:07:05.305Z"
   },
   {
    "duration": 293,
    "start_time": "2023-03-10T08:07:05.470Z"
   },
   {
    "duration": 251,
    "start_time": "2023-03-10T08:07:05.765Z"
   },
   {
    "duration": 269,
    "start_time": "2023-03-10T08:07:06.019Z"
   },
   {
    "duration": 253,
    "start_time": "2023-03-10T08:07:06.290Z"
   },
   {
    "duration": 261,
    "start_time": "2023-03-10T08:07:06.552Z"
   },
   {
    "duration": 749,
    "start_time": "2023-03-10T08:07:52.198Z"
   },
   {
    "duration": 155,
    "start_time": "2023-03-10T08:07:52.950Z"
   },
   {
    "duration": 119,
    "start_time": "2023-03-10T08:07:53.108Z"
   },
   {
    "duration": 21,
    "start_time": "2023-03-10T08:07:53.237Z"
   },
   {
    "duration": 2333,
    "start_time": "2023-03-10T08:07:53.260Z"
   },
   {
    "duration": 9,
    "start_time": "2023-03-10T08:07:55.596Z"
   },
   {
    "duration": 15,
    "start_time": "2023-03-10T08:07:55.607Z"
   },
   {
    "duration": 6,
    "start_time": "2023-03-10T08:07:55.624Z"
   },
   {
    "duration": 60,
    "start_time": "2023-03-10T08:07:55.638Z"
   },
   {
    "duration": 19,
    "start_time": "2023-03-10T08:07:55.701Z"
   },
   {
    "duration": 32,
    "start_time": "2023-03-10T08:07:55.722Z"
   },
   {
    "duration": 6,
    "start_time": "2023-03-10T08:07:55.756Z"
   },
   {
    "duration": 35,
    "start_time": "2023-03-10T08:07:55.764Z"
   },
   {
    "duration": 156,
    "start_time": "2023-03-10T08:07:55.801Z"
   },
   {
    "duration": 6,
    "start_time": "2023-03-10T08:07:55.959Z"
   },
   {
    "duration": 28,
    "start_time": "2023-03-10T08:07:55.968Z"
   },
   {
    "duration": 26,
    "start_time": "2023-03-10T08:07:55.999Z"
   },
   {
    "duration": 16,
    "start_time": "2023-03-10T08:07:56.027Z"
   },
   {
    "duration": 30,
    "start_time": "2023-03-10T08:07:56.045Z"
   },
   {
    "duration": 18,
    "start_time": "2023-03-10T08:07:56.078Z"
   },
   {
    "duration": 28,
    "start_time": "2023-03-10T08:07:56.098Z"
   },
   {
    "duration": 55,
    "start_time": "2023-03-10T08:07:56.128Z"
   },
   {
    "duration": 20,
    "start_time": "2023-03-10T08:07:56.187Z"
   },
   {
    "duration": 52,
    "start_time": "2023-03-10T08:07:56.210Z"
   },
   {
    "duration": 8,
    "start_time": "2023-03-10T08:07:56.264Z"
   },
   {
    "duration": 9,
    "start_time": "2023-03-10T08:07:56.273Z"
   },
   {
    "duration": 35,
    "start_time": "2023-03-10T08:07:56.284Z"
   },
   {
    "duration": 11,
    "start_time": "2023-03-10T08:07:56.335Z"
   },
   {
    "duration": 30,
    "start_time": "2023-03-10T08:07:56.349Z"
   },
   {
    "duration": 8,
    "start_time": "2023-03-10T08:07:56.381Z"
   },
   {
    "duration": 9,
    "start_time": "2023-03-10T08:07:56.391Z"
   },
   {
    "duration": 12,
    "start_time": "2023-03-10T08:07:56.402Z"
   },
   {
    "duration": 30,
    "start_time": "2023-03-10T08:07:56.416Z"
   },
   {
    "duration": 23,
    "start_time": "2023-03-10T08:07:56.449Z"
   },
   {
    "duration": 17,
    "start_time": "2023-03-10T08:07:56.473Z"
   },
   {
    "duration": 14,
    "start_time": "2023-03-10T08:07:56.492Z"
   },
   {
    "duration": 58,
    "start_time": "2023-03-10T08:07:56.508Z"
   },
   {
    "duration": 17,
    "start_time": "2023-03-10T08:07:56.568Z"
   },
   {
    "duration": 36,
    "start_time": "2023-03-10T08:07:56.588Z"
   },
   {
    "duration": 9,
    "start_time": "2023-03-10T08:07:56.626Z"
   },
   {
    "duration": 20,
    "start_time": "2023-03-10T08:07:56.643Z"
   },
   {
    "duration": 11,
    "start_time": "2023-03-10T08:07:56.665Z"
   },
   {
    "duration": 15,
    "start_time": "2023-03-10T08:07:56.679Z"
   },
   {
    "duration": 40,
    "start_time": "2023-03-10T08:07:56.706Z"
   },
   {
    "duration": 9,
    "start_time": "2023-03-10T08:07:56.749Z"
   },
   {
    "duration": 22,
    "start_time": "2023-03-10T08:07:56.759Z"
   },
   {
    "duration": 532,
    "start_time": "2023-03-10T08:07:56.782Z"
   },
   {
    "duration": 681,
    "start_time": "2023-03-10T08:07:57.316Z"
   },
   {
    "duration": 527,
    "start_time": "2023-03-10T08:07:57.999Z"
   },
   {
    "duration": 389,
    "start_time": "2023-03-10T08:07:58.531Z"
   },
   {
    "duration": 734,
    "start_time": "2023-03-10T08:07:58.922Z"
   },
   {
    "duration": 567,
    "start_time": "2023-03-10T08:07:59.658Z"
   },
   {
    "duration": 287,
    "start_time": "2023-03-10T08:08:00.227Z"
   },
   {
    "duration": 169,
    "start_time": "2023-03-10T08:08:00.517Z"
   },
   {
    "duration": 764,
    "start_time": "2023-03-10T08:08:00.688Z"
   },
   {
    "duration": 555,
    "start_time": "2023-03-10T08:08:01.454Z"
   },
   {
    "duration": 540,
    "start_time": "2023-03-10T08:08:02.011Z"
   },
   {
    "duration": 730,
    "start_time": "2023-03-10T08:08:02.553Z"
   },
   {
    "duration": 144,
    "start_time": "2023-03-10T08:08:03.285Z"
   },
   {
    "duration": 152,
    "start_time": "2023-03-10T08:08:03.436Z"
   },
   {
    "duration": 299,
    "start_time": "2023-03-10T08:08:03.590Z"
   },
   {
    "duration": 245,
    "start_time": "2023-03-10T08:08:03.891Z"
   },
   {
    "duration": 232,
    "start_time": "2023-03-10T08:08:04.143Z"
   },
   {
    "duration": 246,
    "start_time": "2023-03-10T08:08:04.378Z"
   },
   {
    "duration": 244,
    "start_time": "2023-03-10T08:08:04.626Z"
   },
   {
    "duration": 207,
    "start_time": "2023-03-10T08:08:43.877Z"
   },
   {
    "duration": 194,
    "start_time": "2023-03-10T08:08:44.086Z"
   },
   {
    "duration": 113,
    "start_time": "2023-03-10T08:08:44.283Z"
   },
   {
    "duration": 0,
    "start_time": "2023-03-10T08:08:44.398Z"
   },
   {
    "duration": 0,
    "start_time": "2023-03-10T08:08:44.399Z"
   },
   {
    "duration": 0,
    "start_time": "2023-03-10T08:08:44.402Z"
   },
   {
    "duration": 0,
    "start_time": "2023-03-10T08:08:44.404Z"
   },
   {
    "duration": 0,
    "start_time": "2023-03-10T08:08:44.405Z"
   },
   {
    "duration": 0,
    "start_time": "2023-03-10T08:08:44.408Z"
   },
   {
    "duration": 117,
    "start_time": "2023-03-10T08:09:10.030Z"
   },
   {
    "duration": 2510,
    "start_time": "2023-03-10T08:09:19.449Z"
   },
   {
    "duration": 43485,
    "start_time": "2023-03-10T08:09:30.114Z"
   },
   {
    "duration": 50951,
    "start_time": "2023-03-10T08:10:33.144Z"
   },
   {
    "duration": 250,
    "start_time": "2023-03-10T08:12:08.363Z"
   },
   {
    "duration": 226,
    "start_time": "2023-03-10T08:12:10.694Z"
   },
   {
    "duration": 26,
    "start_time": "2023-03-10T08:12:49.494Z"
   },
   {
    "duration": 23,
    "start_time": "2023-03-10T08:12:55.570Z"
   },
   {
    "duration": 21,
    "start_time": "2023-03-10T08:12:59.966Z"
   },
   {
    "duration": 245,
    "start_time": "2023-03-10T08:13:14.223Z"
   },
   {
    "duration": 95,
    "start_time": "2023-03-11T08:27:55.361Z"
   },
   {
    "duration": 130,
    "start_time": "2023-03-11T08:29:27.133Z"
   },
   {
    "duration": 88,
    "start_time": "2023-03-11T08:43:57.298Z"
   },
   {
    "duration": 995,
    "start_time": "2023-03-11T08:44:22.319Z"
   },
   {
    "duration": 393,
    "start_time": "2023-03-11T08:44:23.317Z"
   },
   {
    "duration": 96,
    "start_time": "2023-03-11T08:44:23.712Z"
   },
   {
    "duration": 18,
    "start_time": "2023-03-11T08:44:23.811Z"
   },
   {
    "duration": 2533,
    "start_time": "2023-03-11T08:44:23.831Z"
   },
   {
    "duration": 21,
    "start_time": "2023-03-11T08:44:26.367Z"
   },
   {
    "duration": 26,
    "start_time": "2023-03-11T08:44:26.390Z"
   },
   {
    "duration": 7,
    "start_time": "2023-03-11T08:44:26.417Z"
   },
   {
    "duration": 44,
    "start_time": "2023-03-11T08:44:26.425Z"
   },
   {
    "duration": 31,
    "start_time": "2023-03-11T08:44:26.472Z"
   },
   {
    "duration": 14,
    "start_time": "2023-03-11T08:44:26.505Z"
   },
   {
    "duration": 6,
    "start_time": "2023-03-11T08:44:26.522Z"
   },
   {
    "duration": 13,
    "start_time": "2023-03-11T08:44:26.530Z"
   },
   {
    "duration": 170,
    "start_time": "2023-03-11T08:44:26.545Z"
   },
   {
    "duration": 6,
    "start_time": "2023-03-11T08:44:26.717Z"
   },
   {
    "duration": 16,
    "start_time": "2023-03-11T08:44:26.725Z"
   },
   {
    "duration": 32,
    "start_time": "2023-03-11T08:44:26.744Z"
   },
   {
    "duration": 16,
    "start_time": "2023-03-11T08:44:26.778Z"
   },
   {
    "duration": 19,
    "start_time": "2023-03-11T08:44:26.797Z"
   },
   {
    "duration": 35,
    "start_time": "2023-03-11T08:44:26.818Z"
   },
   {
    "duration": 13,
    "start_time": "2023-03-11T08:44:26.855Z"
   },
   {
    "duration": 43,
    "start_time": "2023-03-11T08:44:26.870Z"
   },
   {
    "duration": 7,
    "start_time": "2023-03-11T08:44:26.915Z"
   },
   {
    "duration": 44,
    "start_time": "2023-03-11T08:44:26.924Z"
   },
   {
    "duration": 90,
    "start_time": "2023-03-11T08:44:26.970Z"
   },
   {
    "duration": 32,
    "start_time": "2023-03-11T08:44:27.062Z"
   },
   {
    "duration": 47,
    "start_time": "2023-03-11T08:44:27.096Z"
   },
   {
    "duration": 11,
    "start_time": "2023-03-11T08:44:27.147Z"
   },
   {
    "duration": 17,
    "start_time": "2023-03-11T08:44:27.160Z"
   },
   {
    "duration": 28,
    "start_time": "2023-03-11T08:44:27.179Z"
   },
   {
    "duration": 10,
    "start_time": "2023-03-11T08:44:27.209Z"
   },
   {
    "duration": 8,
    "start_time": "2023-03-11T08:44:27.220Z"
   },
   {
    "duration": 16,
    "start_time": "2023-03-11T08:44:27.229Z"
   },
   {
    "duration": 11,
    "start_time": "2023-03-11T08:44:27.247Z"
   },
   {
    "duration": 21,
    "start_time": "2023-03-11T08:44:27.260Z"
   },
   {
    "duration": 16,
    "start_time": "2023-03-11T08:44:27.283Z"
   },
   {
    "duration": 20,
    "start_time": "2023-03-11T08:44:27.300Z"
   },
   {
    "duration": 15,
    "start_time": "2023-03-11T08:44:27.322Z"
   },
   {
    "duration": 41,
    "start_time": "2023-03-11T08:44:27.338Z"
   },
   {
    "duration": 8,
    "start_time": "2023-03-11T08:44:27.381Z"
   },
   {
    "duration": 25,
    "start_time": "2023-03-11T08:44:27.392Z"
   },
   {
    "duration": 8,
    "start_time": "2023-03-11T08:44:27.419Z"
   },
   {
    "duration": 9,
    "start_time": "2023-03-11T08:44:27.429Z"
   },
   {
    "duration": 9,
    "start_time": "2023-03-11T08:44:27.440Z"
   },
   {
    "duration": 4,
    "start_time": "2023-03-11T08:44:27.451Z"
   },
   {
    "duration": 65,
    "start_time": "2023-03-11T08:44:27.457Z"
   },
   {
    "duration": 548,
    "start_time": "2023-03-11T08:44:27.523Z"
   },
   {
    "duration": 675,
    "start_time": "2023-03-11T08:44:28.073Z"
   },
   {
    "duration": 595,
    "start_time": "2023-03-11T08:44:28.750Z"
   },
   {
    "duration": 394,
    "start_time": "2023-03-11T08:44:29.347Z"
   },
   {
    "duration": 734,
    "start_time": "2023-03-11T08:44:29.743Z"
   },
   {
    "duration": 639,
    "start_time": "2023-03-11T08:44:30.488Z"
   },
   {
    "duration": 290,
    "start_time": "2023-03-11T08:44:31.129Z"
   },
   {
    "duration": 153,
    "start_time": "2023-03-11T08:44:31.421Z"
   },
   {
    "duration": 685,
    "start_time": "2023-03-11T08:44:31.575Z"
   },
   {
    "duration": 604,
    "start_time": "2023-03-11T08:44:32.262Z"
   },
   {
    "duration": 619,
    "start_time": "2023-03-11T08:44:32.876Z"
   },
   {
    "duration": 724,
    "start_time": "2023-03-11T08:44:33.503Z"
   },
   {
    "duration": 168,
    "start_time": "2023-03-11T08:44:34.230Z"
   },
   {
    "duration": 158,
    "start_time": "2023-03-11T08:44:34.411Z"
   },
   {
    "duration": 334,
    "start_time": "2023-03-11T08:44:34.571Z"
   },
   {
    "duration": 220,
    "start_time": "2023-03-11T08:44:34.908Z"
   },
   {
    "duration": 233,
    "start_time": "2023-03-11T08:44:35.130Z"
   },
   {
    "duration": 281,
    "start_time": "2023-03-11T08:44:35.365Z"
   },
   {
    "duration": 277,
    "start_time": "2023-03-11T08:44:35.649Z"
   },
   {
    "duration": 40982,
    "start_time": "2023-03-11T08:44:35.928Z"
   },
   {
    "duration": 208,
    "start_time": "2023-03-11T08:45:16.915Z"
   },
   {
    "duration": 206,
    "start_time": "2023-03-11T08:45:17.124Z"
   },
   {
    "duration": 2196,
    "start_time": "2023-03-11T08:45:17.332Z"
   },
   {
    "duration": 44648,
    "start_time": "2023-03-11T08:45:19.530Z"
   },
   {
    "duration": 37,
    "start_time": "2023-03-11T08:46:04.188Z"
   },
   {
    "duration": 28,
    "start_time": "2023-03-11T08:46:04.228Z"
   },
   {
    "duration": 262,
    "start_time": "2023-03-11T08:46:04.258Z"
   },
   {
    "duration": 224,
    "start_time": "2023-03-11T08:47:46.780Z"
   },
   {
    "duration": 4026,
    "start_time": "2023-03-11T08:48:26.801Z"
   },
   {
    "duration": 219,
    "start_time": "2023-03-11T08:48:53.389Z"
   },
   {
    "duration": 197,
    "start_time": "2023-03-11T08:49:20.001Z"
   },
   {
    "duration": 50859,
    "start_time": "2023-03-11T08:52:59.600Z"
   },
   {
    "duration": 5,
    "start_time": "2023-03-11T09:04:02.905Z"
   },
   {
    "duration": 96,
    "start_time": "2023-03-11T09:04:21.972Z"
   },
   {
    "duration": 28,
    "start_time": "2023-03-11T09:05:04.551Z"
   },
   {
    "duration": 184,
    "start_time": "2023-03-11T09:05:16.950Z"
   },
   {
    "duration": 37,
    "start_time": "2023-03-11T09:06:13.547Z"
   },
   {
    "duration": 210,
    "start_time": "2023-03-11T09:11:18.530Z"
   },
   {
    "duration": 111,
    "start_time": "2023-03-11T09:16:28.414Z"
   },
   {
    "duration": 43,
    "start_time": "2023-03-11T09:16:38.463Z"
   },
   {
    "duration": 1894,
    "start_time": "2023-03-11T09:17:13.569Z"
   },
   {
    "duration": 7,
    "start_time": "2023-03-11T09:17:19.439Z"
   },
   {
    "duration": 1842,
    "start_time": "2023-03-11T09:18:21.585Z"
   },
   {
    "duration": 3744,
    "start_time": "2023-03-11T09:18:53.710Z"
   },
   {
    "duration": 1955,
    "start_time": "2023-03-11T09:19:13.633Z"
   },
   {
    "duration": 1910,
    "start_time": "2023-03-11T09:20:44.303Z"
   },
   {
    "duration": 2077,
    "start_time": "2023-03-11T09:21:32.616Z"
   },
   {
    "duration": 2025,
    "start_time": "2023-03-11T09:21:54.807Z"
   },
   {
    "duration": 37,
    "start_time": "2023-03-11T09:29:29.280Z"
   },
   {
    "duration": 42,
    "start_time": "2023-03-11T09:36:51.958Z"
   },
   {
    "duration": 1801,
    "start_time": "2023-03-11T09:38:28.406Z"
   },
   {
    "duration": 1650,
    "start_time": "2023-03-11T09:38:53.273Z"
   },
   {
    "duration": 2098,
    "start_time": "2023-03-11T09:40:47.344Z"
   },
   {
    "duration": 760,
    "start_time": "2023-03-11T09:43:41.693Z"
   },
   {
    "duration": 143,
    "start_time": "2023-03-11T09:43:42.472Z"
   },
   {
    "duration": 115,
    "start_time": "2023-03-11T09:43:42.617Z"
   },
   {
    "duration": 21,
    "start_time": "2023-03-11T09:43:42.735Z"
   },
   {
    "duration": 2368,
    "start_time": "2023-03-11T09:43:42.776Z"
   },
   {
    "duration": 12,
    "start_time": "2023-03-11T09:43:45.146Z"
   },
   {
    "duration": 31,
    "start_time": "2023-03-11T09:43:45.160Z"
   },
   {
    "duration": 9,
    "start_time": "2023-03-11T09:43:45.193Z"
   },
   {
    "duration": 63,
    "start_time": "2023-03-11T09:43:45.204Z"
   },
   {
    "duration": 34,
    "start_time": "2023-03-11T09:43:45.272Z"
   },
   {
    "duration": 12,
    "start_time": "2023-03-11T09:43:45.309Z"
   },
   {
    "duration": 9,
    "start_time": "2023-03-11T09:43:45.323Z"
   },
   {
    "duration": 17,
    "start_time": "2023-03-11T09:43:45.334Z"
   },
   {
    "duration": 150,
    "start_time": "2023-03-11T09:43:45.354Z"
   },
   {
    "duration": 5,
    "start_time": "2023-03-11T09:43:45.506Z"
   },
   {
    "duration": 14,
    "start_time": "2023-03-11T09:43:45.513Z"
   },
   {
    "duration": 13,
    "start_time": "2023-03-11T09:43:45.529Z"
   },
   {
    "duration": 33,
    "start_time": "2023-03-11T09:43:45.545Z"
   },
   {
    "duration": 19,
    "start_time": "2023-03-11T09:43:45.580Z"
   },
   {
    "duration": 12,
    "start_time": "2023-03-11T09:43:45.601Z"
   },
   {
    "duration": 14,
    "start_time": "2023-03-11T09:43:45.615Z"
   },
   {
    "duration": 17,
    "start_time": "2023-03-11T09:43:45.632Z"
   },
   {
    "duration": 14,
    "start_time": "2023-03-11T09:43:45.651Z"
   },
   {
    "duration": 65,
    "start_time": "2023-03-11T09:43:45.667Z"
   },
   {
    "duration": 10,
    "start_time": "2023-03-11T09:43:45.734Z"
   },
   {
    "duration": 6,
    "start_time": "2023-03-11T09:43:45.747Z"
   },
   {
    "duration": 37,
    "start_time": "2023-03-11T09:43:45.755Z"
   },
   {
    "duration": 14,
    "start_time": "2023-03-11T09:43:45.797Z"
   },
   {
    "duration": 268,
    "start_time": "2023-03-11T09:43:45.812Z"
   },
   {
    "duration": 20,
    "start_time": "2023-03-11T09:43:46.081Z"
   },
   {
    "duration": 7,
    "start_time": "2023-03-11T09:43:46.103Z"
   },
   {
    "duration": 8,
    "start_time": "2023-03-11T09:43:46.112Z"
   },
   {
    "duration": 8,
    "start_time": "2023-03-11T09:43:46.122Z"
   },
   {
    "duration": 48,
    "start_time": "2023-03-11T09:43:46.132Z"
   },
   {
    "duration": 22,
    "start_time": "2023-03-11T09:43:46.182Z"
   },
   {
    "duration": 13,
    "start_time": "2023-03-11T09:43:46.206Z"
   },
   {
    "duration": 20,
    "start_time": "2023-03-11T09:43:46.221Z"
   },
   {
    "duration": 52,
    "start_time": "2023-03-11T09:43:46.244Z"
   },
   {
    "duration": 5,
    "start_time": "2023-03-11T09:43:46.299Z"
   },
   {
    "duration": 10,
    "start_time": "2023-03-11T09:43:46.306Z"
   },
   {
    "duration": 8,
    "start_time": "2023-03-11T09:43:46.318Z"
   },
   {
    "duration": 8,
    "start_time": "2023-03-11T09:43:46.328Z"
   },
   {
    "duration": 47,
    "start_time": "2023-03-11T09:43:46.339Z"
   },
   {
    "duration": 18,
    "start_time": "2023-03-11T09:43:46.388Z"
   },
   {
    "duration": 24,
    "start_time": "2023-03-11T09:43:46.408Z"
   },
   {
    "duration": 608,
    "start_time": "2023-03-11T09:43:46.433Z"
   },
   {
    "duration": 793,
    "start_time": "2023-03-11T09:43:47.044Z"
   },
   {
    "duration": 606,
    "start_time": "2023-03-11T09:43:47.839Z"
   },
   {
    "duration": 413,
    "start_time": "2023-03-11T09:43:48.447Z"
   },
   {
    "duration": 737,
    "start_time": "2023-03-11T09:43:48.863Z"
   },
   {
    "duration": 588,
    "start_time": "2023-03-11T09:43:49.602Z"
   },
   {
    "duration": 369,
    "start_time": "2023-03-11T09:43:50.194Z"
   },
   {
    "duration": 221,
    "start_time": "2023-03-11T09:43:50.566Z"
   },
   {
    "duration": 895,
    "start_time": "2023-03-11T09:43:50.792Z"
   },
   {
    "duration": 614,
    "start_time": "2023-03-11T09:43:51.691Z"
   },
   {
    "duration": 587,
    "start_time": "2023-03-11T09:43:52.307Z"
   },
   {
    "duration": 745,
    "start_time": "2023-03-11T09:43:52.897Z"
   },
   {
    "duration": 179,
    "start_time": "2023-03-11T09:43:53.645Z"
   },
   {
    "duration": 165,
    "start_time": "2023-03-11T09:43:53.827Z"
   },
   {
    "duration": 317,
    "start_time": "2023-03-11T09:43:53.996Z"
   },
   {
    "duration": 299,
    "start_time": "2023-03-11T09:43:54.315Z"
   },
   {
    "duration": 321,
    "start_time": "2023-03-11T09:43:54.616Z"
   },
   {
    "duration": 222,
    "start_time": "2023-03-11T09:43:54.939Z"
   },
   {
    "duration": 246,
    "start_time": "2023-03-11T09:43:55.162Z"
   },
   {
    "duration": 39952,
    "start_time": "2023-03-11T09:43:55.410Z"
   },
   {
    "duration": 236,
    "start_time": "2023-03-11T09:44:35.364Z"
   },
   {
    "duration": 226,
    "start_time": "2023-03-11T09:44:35.601Z"
   },
   {
    "duration": 46510,
    "start_time": "2023-03-11T09:44:35.830Z"
   },
   {
    "duration": 195,
    "start_time": "2023-03-11T09:45:22.342Z"
   },
   {
    "duration": 40,
    "start_time": "2023-03-11T09:45:22.539Z"
   },
   {
    "duration": 29,
    "start_time": "2023-03-11T09:45:22.582Z"
   },
   {
    "duration": 217,
    "start_time": "2023-03-11T09:45:22.614Z"
   },
   {
    "duration": 6,
    "start_time": "2023-03-11T09:45:28.744Z"
   },
   {
    "duration": 8,
    "start_time": "2023-03-11T09:51:09.256Z"
   },
   {
    "duration": 9,
    "start_time": "2023-03-11T09:51:22.959Z"
   },
   {
    "duration": 10,
    "start_time": "2023-03-11T09:53:06.249Z"
   },
   {
    "duration": 9092,
    "start_time": "2023-03-11T10:00:22.060Z"
   },
   {
    "duration": 4,
    "start_time": "2023-03-11T10:27:42.436Z"
   },
   {
    "duration": 6,
    "start_time": "2023-03-11T10:27:52.868Z"
   },
   {
    "duration": 8,
    "start_time": "2023-03-11T10:28:03.405Z"
   },
   {
    "duration": 73,
    "start_time": "2023-03-11T10:52:24.898Z"
   },
   {
    "duration": 81,
    "start_time": "2023-03-11T10:52:54.695Z"
   },
   {
    "duration": 75,
    "start_time": "2023-03-11T10:53:04.329Z"
   },
   {
    "duration": 92,
    "start_time": "2023-03-11T10:53:46.922Z"
   },
   {
    "duration": 65,
    "start_time": "2023-03-11T10:54:11.495Z"
   },
   {
    "duration": 88,
    "start_time": "2023-03-11T10:55:29.153Z"
   },
   {
    "duration": 19,
    "start_time": "2023-03-11T10:55:55.204Z"
   },
   {
    "duration": 19,
    "start_time": "2023-03-11T10:56:02.137Z"
   },
   {
    "duration": 19,
    "start_time": "2023-03-11T10:56:04.032Z"
   },
   {
    "duration": 19,
    "start_time": "2023-03-11T10:57:37.332Z"
   },
   {
    "duration": 15,
    "start_time": "2023-03-11T11:32:23.427Z"
   },
   {
    "duration": 750,
    "start_time": "2023-03-11T11:42:20.455Z"
   },
   {
    "duration": 118,
    "start_time": "2023-03-11T11:42:21.208Z"
   },
   {
    "duration": 95,
    "start_time": "2023-03-11T11:42:21.328Z"
   },
   {
    "duration": 19,
    "start_time": "2023-03-11T11:42:21.425Z"
   },
   {
    "duration": 2255,
    "start_time": "2023-03-11T11:42:21.445Z"
   },
   {
    "duration": 10,
    "start_time": "2023-03-11T11:42:23.702Z"
   },
   {
    "duration": 10,
    "start_time": "2023-03-11T11:42:23.713Z"
   },
   {
    "duration": 16,
    "start_time": "2023-03-11T11:42:23.724Z"
   },
   {
    "duration": 43,
    "start_time": "2023-03-11T11:42:23.741Z"
   },
   {
    "duration": 20,
    "start_time": "2023-03-11T11:42:23.790Z"
   },
   {
    "duration": 24,
    "start_time": "2023-03-11T11:42:23.812Z"
   },
   {
    "duration": 4,
    "start_time": "2023-03-11T11:42:23.837Z"
   },
   {
    "duration": 21,
    "start_time": "2023-03-11T11:42:23.843Z"
   },
   {
    "duration": 135,
    "start_time": "2023-03-11T11:42:23.866Z"
   },
   {
    "duration": 5,
    "start_time": "2023-03-11T11:42:24.002Z"
   },
   {
    "duration": 15,
    "start_time": "2023-03-11T11:42:24.009Z"
   },
   {
    "duration": 15,
    "start_time": "2023-03-11T11:42:24.025Z"
   },
   {
    "duration": 15,
    "start_time": "2023-03-11T11:42:24.042Z"
   },
   {
    "duration": 18,
    "start_time": "2023-03-11T11:42:24.059Z"
   },
   {
    "duration": 23,
    "start_time": "2023-03-11T11:42:24.079Z"
   },
   {
    "duration": 12,
    "start_time": "2023-03-11T11:42:24.104Z"
   },
   {
    "duration": 23,
    "start_time": "2023-03-11T11:42:24.118Z"
   },
   {
    "duration": 27,
    "start_time": "2023-03-11T11:42:24.143Z"
   },
   {
    "duration": 58,
    "start_time": "2023-03-11T11:42:24.172Z"
   },
   {
    "duration": 24,
    "start_time": "2023-03-11T11:42:24.232Z"
   },
   {
    "duration": 11,
    "start_time": "2023-03-11T11:42:24.258Z"
   },
   {
    "duration": 57,
    "start_time": "2023-03-11T11:42:24.271Z"
   },
   {
    "duration": 10,
    "start_time": "2023-03-11T11:42:24.333Z"
   },
   {
    "duration": 23,
    "start_time": "2023-03-11T11:42:24.345Z"
   },
   {
    "duration": 17,
    "start_time": "2023-03-11T11:42:24.370Z"
   },
   {
    "duration": 31,
    "start_time": "2023-03-11T11:42:24.389Z"
   },
   {
    "duration": 17,
    "start_time": "2023-03-11T11:42:24.422Z"
   },
   {
    "duration": 7,
    "start_time": "2023-03-11T11:42:24.441Z"
   },
   {
    "duration": 15,
    "start_time": "2023-03-11T11:42:24.449Z"
   },
   {
    "duration": 7,
    "start_time": "2023-03-11T11:42:24.465Z"
   },
   {
    "duration": 38,
    "start_time": "2023-03-11T11:42:24.477Z"
   },
   {
    "duration": 29,
    "start_time": "2023-03-11T11:42:24.516Z"
   },
   {
    "duration": 33,
    "start_time": "2023-03-11T11:42:24.547Z"
   },
   {
    "duration": 16,
    "start_time": "2023-03-11T11:42:24.582Z"
   },
   {
    "duration": 32,
    "start_time": "2023-03-11T11:42:24.601Z"
   },
   {
    "duration": 22,
    "start_time": "2023-03-11T11:42:24.634Z"
   },
   {
    "duration": 7,
    "start_time": "2023-03-11T11:42:24.658Z"
   },
   {
    "duration": 21,
    "start_time": "2023-03-11T11:42:24.667Z"
   },
   {
    "duration": 20,
    "start_time": "2023-03-11T11:42:24.690Z"
   },
   {
    "duration": 23,
    "start_time": "2023-03-11T11:42:24.713Z"
   },
   {
    "duration": 512,
    "start_time": "2023-03-11T11:42:24.738Z"
   },
   {
    "duration": 648,
    "start_time": "2023-03-11T11:42:25.252Z"
   },
   {
    "duration": 516,
    "start_time": "2023-03-11T11:42:25.902Z"
   },
   {
    "duration": 368,
    "start_time": "2023-03-11T11:42:26.419Z"
   },
   {
    "duration": 639,
    "start_time": "2023-03-11T11:42:26.789Z"
   },
   {
    "duration": 522,
    "start_time": "2023-03-11T11:42:27.430Z"
   },
   {
    "duration": 268,
    "start_time": "2023-03-11T11:42:27.954Z"
   },
   {
    "duration": 153,
    "start_time": "2023-03-11T11:42:28.224Z"
   },
   {
    "duration": 620,
    "start_time": "2023-03-11T11:42:28.379Z"
   },
   {
    "duration": 531,
    "start_time": "2023-03-11T11:42:29.000Z"
   },
   {
    "duration": 537,
    "start_time": "2023-03-11T11:42:29.532Z"
   },
   {
    "duration": 743,
    "start_time": "2023-03-11T11:42:30.072Z"
   },
   {
    "duration": 142,
    "start_time": "2023-03-11T11:42:30.817Z"
   },
   {
    "duration": 168,
    "start_time": "2023-03-11T11:42:30.961Z"
   },
   {
    "duration": 288,
    "start_time": "2023-03-11T11:42:31.131Z"
   },
   {
    "duration": 235,
    "start_time": "2023-03-11T11:42:31.421Z"
   },
   {
    "duration": 238,
    "start_time": "2023-03-11T11:42:31.658Z"
   },
   {
    "duration": 208,
    "start_time": "2023-03-11T11:42:31.898Z"
   },
   {
    "duration": 240,
    "start_time": "2023-03-11T11:42:32.108Z"
   },
   {
    "duration": 37137,
    "start_time": "2023-03-11T11:42:32.351Z"
   },
   {
    "duration": 181,
    "start_time": "2023-03-11T11:43:09.490Z"
   },
   {
    "duration": 208,
    "start_time": "2023-03-11T11:43:09.676Z"
   },
   {
    "duration": 42561,
    "start_time": "2023-03-11T11:43:09.888Z"
   },
   {
    "duration": 199,
    "start_time": "2023-03-11T11:43:52.451Z"
   },
   {
    "duration": 35,
    "start_time": "2023-03-11T11:43:52.652Z"
   },
   {
    "duration": 21,
    "start_time": "2023-03-11T11:43:52.689Z"
   },
   {
    "duration": 198,
    "start_time": "2023-03-11T11:43:52.712Z"
   },
   {
    "duration": 11,
    "start_time": "2023-03-11T11:44:07.925Z"
   },
   {
    "duration": 9,
    "start_time": "2023-03-11T11:44:11.647Z"
   },
   {
    "duration": 76,
    "start_time": "2023-03-11T11:47:59.949Z"
   },
   {
    "duration": 9,
    "start_time": "2023-03-11T12:17:40.511Z"
   },
   {
    "duration": 31,
    "start_time": "2023-03-11T12:22:32.699Z"
   },
   {
    "duration": 712,
    "start_time": "2023-03-11T12:28:12.404Z"
   },
   {
    "duration": 146,
    "start_time": "2023-03-11T12:28:13.118Z"
   },
   {
    "duration": 105,
    "start_time": "2023-03-11T12:28:13.273Z"
   },
   {
    "duration": 22,
    "start_time": "2023-03-11T12:28:13.384Z"
   },
   {
    "duration": 2359,
    "start_time": "2023-03-11T12:28:13.409Z"
   },
   {
    "duration": 23,
    "start_time": "2023-03-11T12:28:15.770Z"
   },
   {
    "duration": 10,
    "start_time": "2023-03-11T12:28:15.795Z"
   },
   {
    "duration": 8,
    "start_time": "2023-03-11T12:28:15.807Z"
   },
   {
    "duration": 31,
    "start_time": "2023-03-11T12:28:15.817Z"
   },
   {
    "duration": 30,
    "start_time": "2023-03-11T12:28:15.850Z"
   },
   {
    "duration": 20,
    "start_time": "2023-03-11T12:28:15.887Z"
   },
   {
    "duration": 16,
    "start_time": "2023-03-11T12:28:15.909Z"
   },
   {
    "duration": 28,
    "start_time": "2023-03-11T12:28:15.927Z"
   },
   {
    "duration": 140,
    "start_time": "2023-03-11T12:28:15.958Z"
   },
   {
    "duration": 5,
    "start_time": "2023-03-11T12:28:16.100Z"
   },
   {
    "duration": 23,
    "start_time": "2023-03-11T12:28:16.107Z"
   },
   {
    "duration": 28,
    "start_time": "2023-03-11T12:28:16.132Z"
   },
   {
    "duration": 40,
    "start_time": "2023-03-11T12:28:16.162Z"
   },
   {
    "duration": 29,
    "start_time": "2023-03-11T12:28:16.204Z"
   },
   {
    "duration": 45,
    "start_time": "2023-03-11T12:28:16.235Z"
   },
   {
    "duration": 30,
    "start_time": "2023-03-11T12:28:16.282Z"
   },
   {
    "duration": 16,
    "start_time": "2023-03-11T12:28:16.314Z"
   },
   {
    "duration": 9,
    "start_time": "2023-03-11T12:28:16.332Z"
   },
   {
    "duration": 0,
    "start_time": "2023-03-11T12:28:16.343Z"
   },
   {
    "duration": 0,
    "start_time": "2023-03-11T12:28:16.345Z"
   },
   {
    "duration": 0,
    "start_time": "2023-03-11T12:28:16.346Z"
   },
   {
    "duration": 0,
    "start_time": "2023-03-11T12:28:16.347Z"
   },
   {
    "duration": 0,
    "start_time": "2023-03-11T12:28:16.349Z"
   },
   {
    "duration": 0,
    "start_time": "2023-03-11T12:28:16.350Z"
   },
   {
    "duration": 0,
    "start_time": "2023-03-11T12:28:16.351Z"
   },
   {
    "duration": 0,
    "start_time": "2023-03-11T12:28:16.352Z"
   },
   {
    "duration": 0,
    "start_time": "2023-03-11T12:28:16.354Z"
   },
   {
    "duration": 0,
    "start_time": "2023-03-11T12:28:16.355Z"
   },
   {
    "duration": 0,
    "start_time": "2023-03-11T12:28:16.356Z"
   },
   {
    "duration": 0,
    "start_time": "2023-03-11T12:28:16.358Z"
   },
   {
    "duration": 0,
    "start_time": "2023-03-11T12:28:16.358Z"
   },
   {
    "duration": 0,
    "start_time": "2023-03-11T12:28:16.360Z"
   },
   {
    "duration": 0,
    "start_time": "2023-03-11T12:28:16.373Z"
   },
   {
    "duration": 0,
    "start_time": "2023-03-11T12:28:16.374Z"
   },
   {
    "duration": 0,
    "start_time": "2023-03-11T12:28:16.375Z"
   },
   {
    "duration": 0,
    "start_time": "2023-03-11T12:28:16.376Z"
   },
   {
    "duration": 0,
    "start_time": "2023-03-11T12:28:16.377Z"
   },
   {
    "duration": 0,
    "start_time": "2023-03-11T12:28:16.378Z"
   },
   {
    "duration": 0,
    "start_time": "2023-03-11T12:28:16.379Z"
   },
   {
    "duration": 0,
    "start_time": "2023-03-11T12:28:16.380Z"
   },
   {
    "duration": 0,
    "start_time": "2023-03-11T12:28:16.381Z"
   },
   {
    "duration": 0,
    "start_time": "2023-03-11T12:28:16.382Z"
   },
   {
    "duration": 0,
    "start_time": "2023-03-11T12:28:16.383Z"
   },
   {
    "duration": 0,
    "start_time": "2023-03-11T12:28:16.384Z"
   },
   {
    "duration": 0,
    "start_time": "2023-03-11T12:28:16.385Z"
   },
   {
    "duration": 0,
    "start_time": "2023-03-11T12:28:16.386Z"
   },
   {
    "duration": 0,
    "start_time": "2023-03-11T12:28:16.387Z"
   },
   {
    "duration": 0,
    "start_time": "2023-03-11T12:28:16.388Z"
   },
   {
    "duration": 0,
    "start_time": "2023-03-11T12:28:16.389Z"
   },
   {
    "duration": 0,
    "start_time": "2023-03-11T12:28:16.390Z"
   },
   {
    "duration": 0,
    "start_time": "2023-03-11T12:28:16.391Z"
   },
   {
    "duration": 0,
    "start_time": "2023-03-11T12:28:16.392Z"
   },
   {
    "duration": 0,
    "start_time": "2023-03-11T12:28:16.393Z"
   },
   {
    "duration": 0,
    "start_time": "2023-03-11T12:28:16.394Z"
   },
   {
    "duration": 0,
    "start_time": "2023-03-11T12:28:16.395Z"
   },
   {
    "duration": 0,
    "start_time": "2023-03-11T12:28:16.396Z"
   },
   {
    "duration": 0,
    "start_time": "2023-03-11T12:28:16.397Z"
   },
   {
    "duration": 0,
    "start_time": "2023-03-11T12:28:16.398Z"
   },
   {
    "duration": 0,
    "start_time": "2023-03-11T12:28:16.399Z"
   },
   {
    "duration": 0,
    "start_time": "2023-03-11T12:28:16.400Z"
   },
   {
    "duration": 0,
    "start_time": "2023-03-11T12:28:16.401Z"
   },
   {
    "duration": 0,
    "start_time": "2023-03-11T12:28:16.402Z"
   },
   {
    "duration": 0,
    "start_time": "2023-03-11T12:28:16.403Z"
   },
   {
    "duration": 0,
    "start_time": "2023-03-11T12:28:16.404Z"
   },
   {
    "duration": 0,
    "start_time": "2023-03-11T12:28:16.405Z"
   },
   {
    "duration": 0,
    "start_time": "2023-03-11T12:28:16.406Z"
   },
   {
    "duration": 42,
    "start_time": "2023-03-11T12:29:25.387Z"
   },
   {
    "duration": 774,
    "start_time": "2023-03-11T12:29:45.077Z"
   },
   {
    "duration": 120,
    "start_time": "2023-03-11T12:29:45.853Z"
   },
   {
    "duration": 85,
    "start_time": "2023-03-11T12:29:45.975Z"
   },
   {
    "duration": 29,
    "start_time": "2023-03-11T12:29:46.062Z"
   },
   {
    "duration": 2380,
    "start_time": "2023-03-11T12:29:46.094Z"
   },
   {
    "duration": 18,
    "start_time": "2023-03-11T12:29:48.479Z"
   },
   {
    "duration": 17,
    "start_time": "2023-03-11T12:29:48.499Z"
   },
   {
    "duration": 8,
    "start_time": "2023-03-11T12:29:48.518Z"
   },
   {
    "duration": 70,
    "start_time": "2023-03-11T12:29:48.528Z"
   },
   {
    "duration": 20,
    "start_time": "2023-03-11T12:29:48.600Z"
   },
   {
    "duration": 9,
    "start_time": "2023-03-11T12:29:48.622Z"
   },
   {
    "duration": 4,
    "start_time": "2023-03-11T12:29:48.633Z"
   },
   {
    "duration": 41,
    "start_time": "2023-03-11T12:29:48.639Z"
   },
   {
    "duration": 120,
    "start_time": "2023-03-11T12:29:48.688Z"
   },
   {
    "duration": 5,
    "start_time": "2023-03-11T12:29:48.810Z"
   },
   {
    "duration": 14,
    "start_time": "2023-03-11T12:29:48.816Z"
   },
   {
    "duration": 14,
    "start_time": "2023-03-11T12:29:48.832Z"
   },
   {
    "duration": 37,
    "start_time": "2023-03-11T12:29:48.848Z"
   },
   {
    "duration": 8,
    "start_time": "2023-03-11T12:29:48.888Z"
   },
   {
    "duration": 16,
    "start_time": "2023-03-11T12:29:48.898Z"
   },
   {
    "duration": 13,
    "start_time": "2023-03-11T12:29:48.916Z"
   },
   {
    "duration": 14,
    "start_time": "2023-03-11T12:29:48.931Z"
   },
   {
    "duration": 73,
    "start_time": "2023-03-11T12:29:48.947Z"
   },
   {
    "duration": 13,
    "start_time": "2023-03-11T12:29:49.022Z"
   },
   {
    "duration": 15,
    "start_time": "2023-03-11T12:29:49.037Z"
   },
   {
    "duration": 37,
    "start_time": "2023-03-11T12:29:49.054Z"
   },
   {
    "duration": 13,
    "start_time": "2023-03-11T12:29:49.094Z"
   },
   {
    "duration": 9,
    "start_time": "2023-03-11T12:29:49.109Z"
   },
   {
    "duration": 16,
    "start_time": "2023-03-11T12:29:49.120Z"
   },
   {
    "duration": 13,
    "start_time": "2023-03-11T12:29:49.137Z"
   },
   {
    "duration": 26,
    "start_time": "2023-03-11T12:29:49.152Z"
   },
   {
    "duration": 13,
    "start_time": "2023-03-11T12:29:49.188Z"
   },
   {
    "duration": 7,
    "start_time": "2023-03-11T12:29:49.203Z"
   },
   {
    "duration": 7,
    "start_time": "2023-03-11T12:29:49.212Z"
   },
   {
    "duration": 10,
    "start_time": "2023-03-11T12:29:49.221Z"
   },
   {
    "duration": 50,
    "start_time": "2023-03-11T12:29:49.233Z"
   },
   {
    "duration": 34,
    "start_time": "2023-03-11T12:29:49.286Z"
   },
   {
    "duration": 5,
    "start_time": "2023-03-11T12:29:49.322Z"
   },
   {
    "duration": 17,
    "start_time": "2023-03-11T12:29:49.328Z"
   },
   {
    "duration": 28,
    "start_time": "2023-03-11T12:29:49.347Z"
   },
   {
    "duration": 9,
    "start_time": "2023-03-11T12:29:49.382Z"
   },
   {
    "duration": 20,
    "start_time": "2023-03-11T12:29:49.394Z"
   },
   {
    "duration": 12,
    "start_time": "2023-03-11T12:29:49.416Z"
   },
   {
    "duration": 23,
    "start_time": "2023-03-11T12:29:49.430Z"
   },
   {
    "duration": 579,
    "start_time": "2023-03-11T12:29:49.455Z"
   },
   {
    "duration": 826,
    "start_time": "2023-03-11T12:29:50.036Z"
   },
   {
    "duration": 582,
    "start_time": "2023-03-11T12:29:50.864Z"
   },
   {
    "duration": 375,
    "start_time": "2023-03-11T12:29:51.448Z"
   },
   {
    "duration": 702,
    "start_time": "2023-03-11T12:29:51.825Z"
   },
   {
    "duration": 563,
    "start_time": "2023-03-11T12:29:52.529Z"
   },
   {
    "duration": 313,
    "start_time": "2023-03-11T12:29:53.095Z"
   },
   {
    "duration": 147,
    "start_time": "2023-03-11T12:29:53.410Z"
   },
   {
    "duration": 633,
    "start_time": "2023-03-11T12:29:53.559Z"
   },
   {
    "duration": 569,
    "start_time": "2023-03-11T12:29:54.194Z"
   },
   {
    "duration": 559,
    "start_time": "2023-03-11T12:29:54.765Z"
   },
   {
    "duration": 655,
    "start_time": "2023-03-11T12:29:55.326Z"
   },
   {
    "duration": 134,
    "start_time": "2023-03-11T12:29:55.987Z"
   },
   {
    "duration": 144,
    "start_time": "2023-03-11T12:29:56.123Z"
   },
   {
    "duration": 309,
    "start_time": "2023-03-11T12:29:56.274Z"
   },
   {
    "duration": 220,
    "start_time": "2023-03-11T12:29:56.593Z"
   },
   {
    "duration": 237,
    "start_time": "2023-03-11T12:29:56.815Z"
   },
   {
    "duration": 222,
    "start_time": "2023-03-11T12:29:57.054Z"
   },
   {
    "duration": 223,
    "start_time": "2023-03-11T12:29:57.284Z"
   },
   {
    "duration": 38611,
    "start_time": "2023-03-11T12:29:57.509Z"
   },
   {
    "duration": 201,
    "start_time": "2023-03-11T12:30:36.122Z"
   },
   {
    "duration": 234,
    "start_time": "2023-03-11T12:30:36.325Z"
   },
   {
    "duration": 43343,
    "start_time": "2023-03-11T12:30:36.561Z"
   },
   {
    "duration": 196,
    "start_time": "2023-03-11T12:31:19.906Z"
   },
   {
    "duration": 24,
    "start_time": "2023-03-11T12:31:20.104Z"
   },
   {
    "duration": 21,
    "start_time": "2023-03-11T12:31:20.129Z"
   },
   {
    "duration": 185,
    "start_time": "2023-03-11T12:31:20.174Z"
   },
   {
    "duration": 4309,
    "start_time": "2023-03-11T12:31:21.751Z"
   },
   {
    "duration": 203,
    "start_time": "2023-03-11T12:34:20.418Z"
   },
   {
    "duration": 32,
    "start_time": "2023-03-11T13:10:48.343Z"
   },
   {
    "duration": 329,
    "start_time": "2023-03-11T13:16:57.493Z"
   },
   {
    "duration": 92,
    "start_time": "2023-03-11T13:40:57.867Z"
   },
   {
    "duration": 54,
    "start_time": "2023-03-11T13:41:16.540Z"
   },
   {
    "duration": 33,
    "start_time": "2023-03-11T13:42:55.140Z"
   },
   {
    "duration": 58,
    "start_time": "2023-03-11T13:44:54.511Z"
   },
   {
    "duration": 32,
    "start_time": "2023-03-11T13:45:32.621Z"
   },
   {
    "duration": 73,
    "start_time": "2023-03-11T13:45:45.147Z"
   },
   {
    "duration": 40,
    "start_time": "2023-03-11T13:46:25.105Z"
   },
   {
    "duration": 28,
    "start_time": "2023-03-11T13:48:32.722Z"
   },
   {
    "duration": 8,
    "start_time": "2023-03-11T13:50:23.363Z"
   },
   {
    "duration": 8,
    "start_time": "2023-03-11T13:50:32.700Z"
   },
   {
    "duration": 9,
    "start_time": "2023-03-11T13:50:37.222Z"
   },
   {
    "duration": 7,
    "start_time": "2023-03-11T13:50:52.703Z"
   },
   {
    "duration": 9,
    "start_time": "2023-03-11T13:50:53.944Z"
   },
   {
    "duration": 7,
    "start_time": "2023-03-11T13:50:54.714Z"
   },
   {
    "duration": 7,
    "start_time": "2023-03-11T13:50:55.423Z"
   },
   {
    "duration": 9,
    "start_time": "2023-03-11T13:51:23.943Z"
   },
   {
    "duration": 3,
    "start_time": "2023-03-11T13:51:43.103Z"
   },
   {
    "duration": 52,
    "start_time": "2023-03-11T13:57:18.834Z"
   },
   {
    "duration": 13,
    "start_time": "2023-03-11T14:03:57.497Z"
   },
   {
    "duration": 27,
    "start_time": "2023-03-11T14:04:08.635Z"
   },
   {
    "duration": 14,
    "start_time": "2023-03-11T14:06:32.308Z"
   },
   {
    "duration": 12,
    "start_time": "2023-03-11T14:06:49.945Z"
   },
   {
    "duration": 10,
    "start_time": "2023-03-11T14:07:31.945Z"
   },
   {
    "duration": 136,
    "start_time": "2023-03-11T14:09:57.665Z"
   },
   {
    "duration": 698,
    "start_time": "2023-03-11T14:49:15.304Z"
   },
   {
    "duration": 598,
    "start_time": "2023-03-11T14:49:31.700Z"
   },
   {
    "duration": 776,
    "start_time": "2023-03-11T15:24:41.781Z"
   },
   {
    "duration": 163,
    "start_time": "2023-03-11T15:24:42.560Z"
   },
   {
    "duration": 104,
    "start_time": "2023-03-11T15:24:42.725Z"
   },
   {
    "duration": 19,
    "start_time": "2023-03-11T15:24:42.832Z"
   },
   {
    "duration": 2407,
    "start_time": "2023-03-11T15:24:42.853Z"
   },
   {
    "duration": 26,
    "start_time": "2023-03-11T15:24:45.263Z"
   },
   {
    "duration": 15,
    "start_time": "2023-03-11T15:24:45.291Z"
   },
   {
    "duration": 15,
    "start_time": "2023-03-11T15:24:45.308Z"
   },
   {
    "duration": 36,
    "start_time": "2023-03-11T15:24:45.325Z"
   },
   {
    "duration": 41,
    "start_time": "2023-03-11T15:24:45.365Z"
   },
   {
    "duration": 21,
    "start_time": "2023-03-11T15:24:45.408Z"
   },
   {
    "duration": 16,
    "start_time": "2023-03-11T15:24:45.431Z"
   },
   {
    "duration": 8,
    "start_time": "2023-03-11T15:24:45.449Z"
   },
   {
    "duration": 32,
    "start_time": "2023-03-11T15:24:45.459Z"
   },
   {
    "duration": 43,
    "start_time": "2023-03-11T15:24:45.493Z"
   },
   {
    "duration": 12,
    "start_time": "2023-03-11T15:24:45.538Z"
   },
   {
    "duration": 11,
    "start_time": "2023-03-11T15:24:45.552Z"
   },
   {
    "duration": 145,
    "start_time": "2023-03-11T15:24:45.565Z"
   },
   {
    "duration": 6,
    "start_time": "2023-03-11T15:24:45.712Z"
   },
   {
    "duration": 18,
    "start_time": "2023-03-11T15:24:45.720Z"
   },
   {
    "duration": 12,
    "start_time": "2023-03-11T15:24:45.740Z"
   },
   {
    "duration": 15,
    "start_time": "2023-03-11T15:24:45.772Z"
   },
   {
    "duration": 29,
    "start_time": "2023-03-11T15:24:45.789Z"
   },
   {
    "duration": 15,
    "start_time": "2023-03-11T15:24:45.821Z"
   },
   {
    "duration": 12,
    "start_time": "2023-03-11T15:24:45.839Z"
   },
   {
    "duration": 14,
    "start_time": "2023-03-11T15:24:45.853Z"
   },
   {
    "duration": 69,
    "start_time": "2023-03-11T15:24:45.869Z"
   },
   {
    "duration": 11,
    "start_time": "2023-03-11T15:24:45.945Z"
   },
   {
    "duration": 3,
    "start_time": "2023-03-11T15:24:45.959Z"
   },
   {
    "duration": 63,
    "start_time": "2023-03-11T15:24:45.978Z"
   },
   {
    "duration": 11,
    "start_time": "2023-03-11T15:24:46.043Z"
   },
   {
    "duration": 7,
    "start_time": "2023-03-11T15:24:46.056Z"
   },
   {
    "duration": 14,
    "start_time": "2023-03-11T15:24:46.065Z"
   },
   {
    "duration": 32,
    "start_time": "2023-03-11T15:24:46.080Z"
   },
   {
    "duration": 6,
    "start_time": "2023-03-11T15:24:46.115Z"
   },
   {
    "duration": 8,
    "start_time": "2023-03-11T15:24:46.123Z"
   },
   {
    "duration": 7,
    "start_time": "2023-03-11T15:24:46.133Z"
   },
   {
    "duration": 8,
    "start_time": "2023-03-11T15:24:46.142Z"
   },
   {
    "duration": 32,
    "start_time": "2023-03-11T15:24:46.152Z"
   },
   {
    "duration": 21,
    "start_time": "2023-03-11T15:24:46.187Z"
   },
   {
    "duration": 30,
    "start_time": "2023-03-11T15:24:46.211Z"
   },
   {
    "duration": 5,
    "start_time": "2023-03-11T15:24:46.243Z"
   },
   {
    "duration": 27,
    "start_time": "2023-03-11T15:24:46.250Z"
   },
   {
    "duration": 12,
    "start_time": "2023-03-11T15:24:46.280Z"
   },
   {
    "duration": 29,
    "start_time": "2023-03-11T15:24:46.294Z"
   },
   {
    "duration": 9,
    "start_time": "2023-03-11T15:24:46.326Z"
   },
   {
    "duration": 5,
    "start_time": "2023-03-11T15:24:46.336Z"
   },
   {
    "duration": 27,
    "start_time": "2023-03-11T15:24:46.343Z"
   },
   {
    "duration": 701,
    "start_time": "2023-03-11T15:24:46.375Z"
   },
   {
    "duration": 736,
    "start_time": "2023-03-11T15:24:47.080Z"
   },
   {
    "duration": 613,
    "start_time": "2023-03-11T15:24:47.817Z"
   },
   {
    "duration": 462,
    "start_time": "2023-03-11T15:24:48.432Z"
   },
   {
    "duration": 860,
    "start_time": "2023-03-11T15:24:48.898Z"
   },
   {
    "duration": 575,
    "start_time": "2023-03-11T15:24:49.760Z"
   },
   {
    "duration": 380,
    "start_time": "2023-03-11T15:24:50.337Z"
   },
   {
    "duration": 195,
    "start_time": "2023-03-11T15:24:50.720Z"
   },
   {
    "duration": 742,
    "start_time": "2023-03-11T15:24:50.917Z"
   },
   {
    "duration": 604,
    "start_time": "2023-03-11T15:24:51.661Z"
   },
   {
    "duration": 644,
    "start_time": "2023-03-11T15:24:52.266Z"
   },
   {
    "duration": 717,
    "start_time": "2023-03-11T15:24:52.913Z"
   },
   {
    "duration": 157,
    "start_time": "2023-03-11T15:24:53.632Z"
   },
   {
    "duration": 153,
    "start_time": "2023-03-11T15:24:53.792Z"
   },
   {
    "duration": 312,
    "start_time": "2023-03-11T15:24:53.948Z"
   },
   {
    "duration": 250,
    "start_time": "2023-03-11T15:24:54.262Z"
   },
   {
    "duration": 252,
    "start_time": "2023-03-11T15:24:54.514Z"
   },
   {
    "duration": 248,
    "start_time": "2023-03-11T15:24:54.773Z"
   },
   {
    "duration": 319,
    "start_time": "2023-03-11T15:24:55.023Z"
   },
   {
    "duration": 42593,
    "start_time": "2023-03-11T15:24:55.345Z"
   },
   {
    "duration": 199,
    "start_time": "2023-03-11T15:25:37.939Z"
   },
   {
    "duration": 223,
    "start_time": "2023-03-11T15:25:38.140Z"
   },
   {
    "duration": 45548,
    "start_time": "2023-03-11T15:25:38.365Z"
   },
   {
    "duration": 204,
    "start_time": "2023-03-11T15:26:23.915Z"
   },
   {
    "duration": 23,
    "start_time": "2023-03-11T15:26:24.121Z"
   },
   {
    "duration": 382,
    "start_time": "2023-03-11T15:26:24.146Z"
   },
   {
    "duration": 48,
    "start_time": "2023-03-13T04:25:07.803Z"
   },
   {
    "duration": 836,
    "start_time": "2023-03-13T04:31:22.062Z"
   },
   {
    "duration": 179,
    "start_time": "2023-03-13T04:31:22.900Z"
   },
   {
    "duration": 71,
    "start_time": "2023-03-13T04:31:23.081Z"
   },
   {
    "duration": 27,
    "start_time": "2023-03-13T04:31:23.153Z"
   },
   {
    "duration": 1758,
    "start_time": "2023-03-13T04:31:23.183Z"
   },
   {
    "duration": 8,
    "start_time": "2023-03-13T04:31:24.943Z"
   },
   {
    "duration": 12,
    "start_time": "2023-03-13T04:31:24.953Z"
   },
   {
    "duration": 14,
    "start_time": "2023-03-13T04:31:24.966Z"
   },
   {
    "duration": 28,
    "start_time": "2023-03-13T04:31:24.981Z"
   },
   {
    "duration": 16,
    "start_time": "2023-03-13T04:31:25.011Z"
   },
   {
    "duration": 19,
    "start_time": "2023-03-13T04:31:25.029Z"
   },
   {
    "duration": 21,
    "start_time": "2023-03-13T04:31:25.049Z"
   },
   {
    "duration": 74,
    "start_time": "2023-03-13T04:31:25.071Z"
   },
   {
    "duration": 0,
    "start_time": "2023-03-13T04:31:25.161Z"
   },
   {
    "duration": 0,
    "start_time": "2023-03-13T04:31:25.161Z"
   },
   {
    "duration": 0,
    "start_time": "2023-03-13T04:31:25.162Z"
   },
   {
    "duration": 0,
    "start_time": "2023-03-13T04:31:25.162Z"
   },
   {
    "duration": 0,
    "start_time": "2023-03-13T04:31:25.163Z"
   },
   {
    "duration": 0,
    "start_time": "2023-03-13T04:31:25.164Z"
   },
   {
    "duration": 0,
    "start_time": "2023-03-13T04:31:25.168Z"
   },
   {
    "duration": 0,
    "start_time": "2023-03-13T04:31:25.169Z"
   },
   {
    "duration": 0,
    "start_time": "2023-03-13T04:31:25.169Z"
   },
   {
    "duration": 0,
    "start_time": "2023-03-13T04:31:25.171Z"
   },
   {
    "duration": 0,
    "start_time": "2023-03-13T04:31:25.173Z"
   },
   {
    "duration": 0,
    "start_time": "2023-03-13T04:31:25.174Z"
   },
   {
    "duration": 0,
    "start_time": "2023-03-13T04:31:25.175Z"
   },
   {
    "duration": 0,
    "start_time": "2023-03-13T04:31:25.175Z"
   },
   {
    "duration": 0,
    "start_time": "2023-03-13T04:31:25.177Z"
   },
   {
    "duration": 0,
    "start_time": "2023-03-13T04:31:25.177Z"
   },
   {
    "duration": 0,
    "start_time": "2023-03-13T04:31:25.178Z"
   },
   {
    "duration": 0,
    "start_time": "2023-03-13T04:31:25.179Z"
   },
   {
    "duration": 0,
    "start_time": "2023-03-13T04:31:25.180Z"
   },
   {
    "duration": 0,
    "start_time": "2023-03-13T04:31:25.181Z"
   },
   {
    "duration": 0,
    "start_time": "2023-03-13T04:31:25.182Z"
   },
   {
    "duration": 0,
    "start_time": "2023-03-13T04:31:25.183Z"
   },
   {
    "duration": 0,
    "start_time": "2023-03-13T04:31:25.184Z"
   },
   {
    "duration": 0,
    "start_time": "2023-03-13T04:31:25.185Z"
   },
   {
    "duration": 0,
    "start_time": "2023-03-13T04:31:25.186Z"
   },
   {
    "duration": 0,
    "start_time": "2023-03-13T04:31:25.187Z"
   },
   {
    "duration": 0,
    "start_time": "2023-03-13T04:31:25.188Z"
   },
   {
    "duration": 0,
    "start_time": "2023-03-13T04:31:25.189Z"
   },
   {
    "duration": 0,
    "start_time": "2023-03-13T04:31:25.190Z"
   },
   {
    "duration": 0,
    "start_time": "2023-03-13T04:31:25.191Z"
   },
   {
    "duration": 0,
    "start_time": "2023-03-13T04:31:25.192Z"
   },
   {
    "duration": 0,
    "start_time": "2023-03-13T04:31:25.193Z"
   },
   {
    "duration": 0,
    "start_time": "2023-03-13T04:31:25.194Z"
   },
   {
    "duration": 0,
    "start_time": "2023-03-13T04:31:25.194Z"
   },
   {
    "duration": 0,
    "start_time": "2023-03-13T04:31:25.196Z"
   },
   {
    "duration": 0,
    "start_time": "2023-03-13T04:31:25.197Z"
   },
   {
    "duration": 0,
    "start_time": "2023-03-13T04:31:25.197Z"
   },
   {
    "duration": 0,
    "start_time": "2023-03-13T04:31:25.198Z"
   },
   {
    "duration": 0,
    "start_time": "2023-03-13T04:31:25.199Z"
   },
   {
    "duration": 0,
    "start_time": "2023-03-13T04:31:25.200Z"
   },
   {
    "duration": 0,
    "start_time": "2023-03-13T04:31:25.201Z"
   },
   {
    "duration": 0,
    "start_time": "2023-03-13T04:31:25.202Z"
   },
   {
    "duration": 0,
    "start_time": "2023-03-13T04:31:25.203Z"
   },
   {
    "duration": 0,
    "start_time": "2023-03-13T04:31:25.203Z"
   },
   {
    "duration": 0,
    "start_time": "2023-03-13T04:31:25.204Z"
   },
   {
    "duration": 0,
    "start_time": "2023-03-13T04:31:25.205Z"
   },
   {
    "duration": 0,
    "start_time": "2023-03-13T04:31:25.255Z"
   },
   {
    "duration": 0,
    "start_time": "2023-03-13T04:31:25.255Z"
   },
   {
    "duration": 0,
    "start_time": "2023-03-13T04:31:25.256Z"
   },
   {
    "duration": 0,
    "start_time": "2023-03-13T04:31:25.257Z"
   },
   {
    "duration": 0,
    "start_time": "2023-03-13T04:31:25.257Z"
   },
   {
    "duration": 0,
    "start_time": "2023-03-13T04:31:25.258Z"
   },
   {
    "duration": 0,
    "start_time": "2023-03-13T04:31:25.258Z"
   },
   {
    "duration": 0,
    "start_time": "2023-03-13T04:31:25.259Z"
   },
   {
    "duration": 0,
    "start_time": "2023-03-13T04:31:25.260Z"
   },
   {
    "duration": 0,
    "start_time": "2023-03-13T04:31:25.261Z"
   },
   {
    "duration": 0,
    "start_time": "2023-03-13T04:31:25.261Z"
   },
   {
    "duration": 0,
    "start_time": "2023-03-13T04:31:25.262Z"
   },
   {
    "duration": 0,
    "start_time": "2023-03-13T04:31:25.263Z"
   },
   {
    "duration": 0,
    "start_time": "2023-03-13T04:31:25.264Z"
   },
   {
    "duration": 0,
    "start_time": "2023-03-13T04:31:25.264Z"
   },
   {
    "duration": 9,
    "start_time": "2023-03-13T04:35:23.906Z"
   },
   {
    "duration": 22,
    "start_time": "2023-03-13T04:36:01.108Z"
   },
   {
    "duration": 50,
    "start_time": "2023-03-13T04:37:32.689Z"
   },
   {
    "duration": 35,
    "start_time": "2023-03-13T04:39:08.084Z"
   },
   {
    "duration": 6,
    "start_time": "2023-03-13T04:39:11.538Z"
   },
   {
    "duration": 9,
    "start_time": "2023-03-13T04:40:53.140Z"
   },
   {
    "duration": 9,
    "start_time": "2023-03-13T04:41:14.989Z"
   },
   {
    "duration": 8,
    "start_time": "2023-03-13T04:43:33.021Z"
   },
   {
    "duration": 4,
    "start_time": "2023-03-13T04:47:03.782Z"
   },
   {
    "duration": 4,
    "start_time": "2023-03-13T04:47:28.695Z"
   },
   {
    "duration": 4,
    "start_time": "2023-03-13T04:47:30.327Z"
   },
   {
    "duration": 4,
    "start_time": "2023-03-13T04:47:32.280Z"
   },
   {
    "duration": 3,
    "start_time": "2023-03-13T04:54:12.473Z"
   },
   {
    "duration": 4,
    "start_time": "2023-03-13T04:54:24.906Z"
   },
   {
    "duration": 41,
    "start_time": "2023-03-13T04:56:43.625Z"
   },
   {
    "duration": 20,
    "start_time": "2023-03-13T05:03:55.071Z"
   },
   {
    "duration": 632,
    "start_time": "2023-03-13T05:06:58.651Z"
   },
   {
    "duration": 102,
    "start_time": "2023-03-13T05:06:59.285Z"
   },
   {
    "duration": 80,
    "start_time": "2023-03-13T05:06:59.388Z"
   },
   {
    "duration": 40,
    "start_time": "2023-03-13T05:06:59.469Z"
   },
   {
    "duration": 1830,
    "start_time": "2023-03-13T05:06:59.511Z"
   },
   {
    "duration": 8,
    "start_time": "2023-03-13T05:07:01.343Z"
   },
   {
    "duration": 47,
    "start_time": "2023-03-13T05:07:01.352Z"
   },
   {
    "duration": 15,
    "start_time": "2023-03-13T05:07:01.400Z"
   },
   {
    "duration": 58,
    "start_time": "2023-03-13T05:07:01.417Z"
   },
   {
    "duration": 20,
    "start_time": "2023-03-13T05:07:01.477Z"
   },
   {
    "duration": 42,
    "start_time": "2023-03-13T05:07:01.499Z"
   },
   {
    "duration": 44,
    "start_time": "2023-03-13T05:07:01.542Z"
   },
   {
    "duration": 17,
    "start_time": "2023-03-13T05:07:01.588Z"
   },
   {
    "duration": 8,
    "start_time": "2023-03-13T05:07:01.607Z"
   },
   {
    "duration": 27,
    "start_time": "2023-03-13T05:07:01.617Z"
   },
   {
    "duration": 14,
    "start_time": "2023-03-13T05:07:01.646Z"
   },
   {
    "duration": 15,
    "start_time": "2023-03-13T05:07:01.669Z"
   },
   {
    "duration": 120,
    "start_time": "2023-03-13T05:07:01.686Z"
   },
   {
    "duration": 5,
    "start_time": "2023-03-13T05:07:01.807Z"
   },
   {
    "duration": 19,
    "start_time": "2023-03-13T05:07:01.813Z"
   },
   {
    "duration": 37,
    "start_time": "2023-03-13T05:07:01.833Z"
   },
   {
    "duration": 25,
    "start_time": "2023-03-13T05:07:01.872Z"
   },
   {
    "duration": 9,
    "start_time": "2023-03-13T05:07:01.899Z"
   },
   {
    "duration": 31,
    "start_time": "2023-03-13T05:07:01.909Z"
   },
   {
    "duration": 32,
    "start_time": "2023-03-13T05:07:01.941Z"
   },
   {
    "duration": 28,
    "start_time": "2023-03-13T05:07:01.975Z"
   },
   {
    "duration": 37,
    "start_time": "2023-03-13T05:07:02.005Z"
   },
   {
    "duration": 39,
    "start_time": "2023-03-13T05:07:02.047Z"
   },
   {
    "duration": 26,
    "start_time": "2023-03-13T05:07:02.088Z"
   },
   {
    "duration": 51,
    "start_time": "2023-03-13T05:07:02.115Z"
   },
   {
    "duration": 10,
    "start_time": "2023-03-13T05:07:02.168Z"
   },
   {
    "duration": 20,
    "start_time": "2023-03-13T05:07:02.180Z"
   },
   {
    "duration": 16,
    "start_time": "2023-03-13T05:07:02.202Z"
   },
   {
    "duration": 9,
    "start_time": "2023-03-13T05:07:02.220Z"
   },
   {
    "duration": 42,
    "start_time": "2023-03-13T05:07:02.230Z"
   },
   {
    "duration": 20,
    "start_time": "2023-03-13T05:07:02.274Z"
   },
   {
    "duration": 19,
    "start_time": "2023-03-13T05:07:02.295Z"
   },
   {
    "duration": 23,
    "start_time": "2023-03-13T05:07:02.315Z"
   },
   {
    "duration": 28,
    "start_time": "2023-03-13T05:07:02.339Z"
   },
   {
    "duration": 13,
    "start_time": "2023-03-13T05:07:02.369Z"
   },
   {
    "duration": 97,
    "start_time": "2023-03-13T05:07:02.384Z"
   },
   {
    "duration": 0,
    "start_time": "2023-03-13T05:07:02.482Z"
   },
   {
    "duration": 0,
    "start_time": "2023-03-13T05:07:02.483Z"
   },
   {
    "duration": 0,
    "start_time": "2023-03-13T05:07:02.484Z"
   },
   {
    "duration": 0,
    "start_time": "2023-03-13T05:07:02.486Z"
   },
   {
    "duration": 0,
    "start_time": "2023-03-13T05:07:02.486Z"
   },
   {
    "duration": 0,
    "start_time": "2023-03-13T05:07:02.488Z"
   },
   {
    "duration": 0,
    "start_time": "2023-03-13T05:07:02.489Z"
   },
   {
    "duration": 0,
    "start_time": "2023-03-13T05:07:02.490Z"
   },
   {
    "duration": 0,
    "start_time": "2023-03-13T05:07:02.491Z"
   },
   {
    "duration": 0,
    "start_time": "2023-03-13T05:07:02.493Z"
   },
   {
    "duration": 0,
    "start_time": "2023-03-13T05:07:02.494Z"
   },
   {
    "duration": 0,
    "start_time": "2023-03-13T05:07:02.495Z"
   },
   {
    "duration": 0,
    "start_time": "2023-03-13T05:07:02.496Z"
   },
   {
    "duration": 0,
    "start_time": "2023-03-13T05:07:02.497Z"
   },
   {
    "duration": 0,
    "start_time": "2023-03-13T05:07:02.498Z"
   },
   {
    "duration": 0,
    "start_time": "2023-03-13T05:07:02.499Z"
   },
   {
    "duration": 0,
    "start_time": "2023-03-13T05:07:02.500Z"
   },
   {
    "duration": 0,
    "start_time": "2023-03-13T05:07:02.501Z"
   },
   {
    "duration": 0,
    "start_time": "2023-03-13T05:07:02.502Z"
   },
   {
    "duration": 0,
    "start_time": "2023-03-13T05:07:02.503Z"
   },
   {
    "duration": 0,
    "start_time": "2023-03-13T05:07:02.505Z"
   },
   {
    "duration": 0,
    "start_time": "2023-03-13T05:07:02.506Z"
   },
   {
    "duration": 0,
    "start_time": "2023-03-13T05:07:02.507Z"
   },
   {
    "duration": 0,
    "start_time": "2023-03-13T05:07:02.508Z"
   },
   {
    "duration": 0,
    "start_time": "2023-03-13T05:07:02.510Z"
   },
   {
    "duration": 0,
    "start_time": "2023-03-13T05:07:02.562Z"
   },
   {
    "duration": 0,
    "start_time": "2023-03-13T05:07:02.563Z"
   },
   {
    "duration": 0,
    "start_time": "2023-03-13T05:07:02.564Z"
   },
   {
    "duration": 0,
    "start_time": "2023-03-13T05:07:02.566Z"
   },
   {
    "duration": 0,
    "start_time": "2023-03-13T05:07:02.567Z"
   },
   {
    "duration": 0,
    "start_time": "2023-03-13T05:07:02.568Z"
   },
   {
    "duration": 0,
    "start_time": "2023-03-13T05:07:02.570Z"
   },
   {
    "duration": 0,
    "start_time": "2023-03-13T05:07:02.571Z"
   },
   {
    "duration": 69,
    "start_time": "2023-03-13T05:24:47.185Z"
   },
   {
    "duration": 11,
    "start_time": "2023-03-13T05:24:53.894Z"
   },
   {
    "duration": 14,
    "start_time": "2023-03-13T05:25:07.812Z"
   },
   {
    "duration": 14,
    "start_time": "2023-03-13T05:25:31.226Z"
   },
   {
    "duration": 7,
    "start_time": "2023-03-13T05:38:43.812Z"
   },
   {
    "duration": 3,
    "start_time": "2023-03-13T05:38:53.247Z"
   },
   {
    "duration": 5,
    "start_time": "2023-03-13T05:39:02.281Z"
   },
   {
    "duration": 8,
    "start_time": "2023-03-13T05:39:39.682Z"
   },
   {
    "duration": 3,
    "start_time": "2023-03-13T05:46:44.326Z"
   },
   {
    "duration": 13,
    "start_time": "2023-03-13T05:46:56.408Z"
   },
   {
    "duration": 7,
    "start_time": "2023-03-13T05:47:33.728Z"
   },
   {
    "duration": 644,
    "start_time": "2023-03-13T05:48:21.753Z"
   },
   {
    "duration": 106,
    "start_time": "2023-03-13T05:48:22.399Z"
   },
   {
    "duration": 83,
    "start_time": "2023-03-13T05:48:22.507Z"
   },
   {
    "duration": 41,
    "start_time": "2023-03-13T05:48:22.592Z"
   },
   {
    "duration": 1873,
    "start_time": "2023-03-13T05:48:22.636Z"
   },
   {
    "duration": 9,
    "start_time": "2023-03-13T05:48:24.511Z"
   },
   {
    "duration": 8,
    "start_time": "2023-03-13T05:48:24.521Z"
   },
   {
    "duration": 5,
    "start_time": "2023-03-13T05:48:24.530Z"
   },
   {
    "duration": 40,
    "start_time": "2023-03-13T05:48:24.536Z"
   },
   {
    "duration": 19,
    "start_time": "2023-03-13T05:48:24.579Z"
   },
   {
    "duration": 7,
    "start_time": "2023-03-13T05:48:24.600Z"
   },
   {
    "duration": 8,
    "start_time": "2023-03-13T05:48:24.608Z"
   },
   {
    "duration": 10,
    "start_time": "2023-03-13T05:48:24.617Z"
   },
   {
    "duration": 10,
    "start_time": "2023-03-13T05:48:24.631Z"
   },
   {
    "duration": 41,
    "start_time": "2023-03-13T05:48:24.642Z"
   },
   {
    "duration": 9,
    "start_time": "2023-03-13T05:48:24.685Z"
   },
   {
    "duration": 9,
    "start_time": "2023-03-13T05:48:24.696Z"
   },
   {
    "duration": 119,
    "start_time": "2023-03-13T05:48:24.707Z"
   },
   {
    "duration": 4,
    "start_time": "2023-03-13T05:48:24.828Z"
   },
   {
    "duration": 10,
    "start_time": "2023-03-13T05:48:24.833Z"
   },
   {
    "duration": 33,
    "start_time": "2023-03-13T05:48:24.844Z"
   },
   {
    "duration": 4,
    "start_time": "2023-03-13T05:48:24.881Z"
   },
   {
    "duration": 3,
    "start_time": "2023-03-13T05:48:24.887Z"
   },
   {
    "duration": 11,
    "start_time": "2023-03-13T05:48:24.891Z"
   },
   {
    "duration": 15,
    "start_time": "2023-03-13T05:48:24.904Z"
   },
   {
    "duration": 8,
    "start_time": "2023-03-13T05:48:24.921Z"
   },
   {
    "duration": 37,
    "start_time": "2023-03-13T05:48:24.931Z"
   },
   {
    "duration": 13,
    "start_time": "2023-03-13T05:48:24.969Z"
   },
   {
    "duration": 6,
    "start_time": "2023-03-13T05:48:24.984Z"
   },
   {
    "duration": 21,
    "start_time": "2023-03-13T05:48:24.992Z"
   },
   {
    "duration": 8,
    "start_time": "2023-03-13T05:48:25.014Z"
   },
   {
    "duration": 5,
    "start_time": "2023-03-13T05:48:25.023Z"
   },
   {
    "duration": 5,
    "start_time": "2023-03-13T05:48:25.030Z"
   },
   {
    "duration": 45,
    "start_time": "2023-03-13T05:48:25.036Z"
   },
   {
    "duration": 6,
    "start_time": "2023-03-13T05:48:25.083Z"
   },
   {
    "duration": 8,
    "start_time": "2023-03-13T05:48:25.090Z"
   },
   {
    "duration": 6,
    "start_time": "2023-03-13T05:48:25.099Z"
   },
   {
    "duration": 5,
    "start_time": "2023-03-13T05:48:25.106Z"
   },
   {
    "duration": 7,
    "start_time": "2023-03-13T05:48:25.113Z"
   },
   {
    "duration": 12,
    "start_time": "2023-03-13T05:48:25.121Z"
   },
   {
    "duration": 139,
    "start_time": "2023-03-13T05:48:25.137Z"
   },
   {
    "duration": 0,
    "start_time": "2023-03-13T05:48:25.281Z"
   },
   {
    "duration": 0,
    "start_time": "2023-03-13T05:48:25.284Z"
   },
   {
    "duration": 0,
    "start_time": "2023-03-13T05:48:25.285Z"
   },
   {
    "duration": 0,
    "start_time": "2023-03-13T05:48:25.286Z"
   },
   {
    "duration": 0,
    "start_time": "2023-03-13T05:48:25.286Z"
   },
   {
    "duration": 0,
    "start_time": "2023-03-13T05:48:25.287Z"
   },
   {
    "duration": 0,
    "start_time": "2023-03-13T05:48:25.289Z"
   },
   {
    "duration": 0,
    "start_time": "2023-03-13T05:48:25.290Z"
   },
   {
    "duration": 0,
    "start_time": "2023-03-13T05:48:25.292Z"
   },
   {
    "duration": 0,
    "start_time": "2023-03-13T05:48:25.293Z"
   },
   {
    "duration": 0,
    "start_time": "2023-03-13T05:48:25.295Z"
   },
   {
    "duration": 0,
    "start_time": "2023-03-13T05:48:25.296Z"
   },
   {
    "duration": 0,
    "start_time": "2023-03-13T05:48:25.297Z"
   },
   {
    "duration": 0,
    "start_time": "2023-03-13T05:48:25.299Z"
   },
   {
    "duration": 0,
    "start_time": "2023-03-13T05:48:25.301Z"
   },
   {
    "duration": 0,
    "start_time": "2023-03-13T05:48:25.303Z"
   },
   {
    "duration": 0,
    "start_time": "2023-03-13T05:48:25.305Z"
   },
   {
    "duration": 0,
    "start_time": "2023-03-13T05:48:25.306Z"
   },
   {
    "duration": 0,
    "start_time": "2023-03-13T05:48:25.307Z"
   },
   {
    "duration": 0,
    "start_time": "2023-03-13T05:48:25.308Z"
   },
   {
    "duration": 0,
    "start_time": "2023-03-13T05:48:25.309Z"
   },
   {
    "duration": 0,
    "start_time": "2023-03-13T05:48:25.311Z"
   },
   {
    "duration": 0,
    "start_time": "2023-03-13T05:48:25.312Z"
   },
   {
    "duration": 0,
    "start_time": "2023-03-13T05:48:25.314Z"
   },
   {
    "duration": 0,
    "start_time": "2023-03-13T05:48:25.315Z"
   },
   {
    "duration": 0,
    "start_time": "2023-03-13T05:48:25.361Z"
   },
   {
    "duration": 0,
    "start_time": "2023-03-13T05:48:25.362Z"
   },
   {
    "duration": 0,
    "start_time": "2023-03-13T05:48:25.363Z"
   },
   {
    "duration": 0,
    "start_time": "2023-03-13T05:48:25.365Z"
   },
   {
    "duration": 0,
    "start_time": "2023-03-13T05:48:25.366Z"
   },
   {
    "duration": 0,
    "start_time": "2023-03-13T05:48:25.368Z"
   },
   {
    "duration": 0,
    "start_time": "2023-03-13T05:48:25.369Z"
   },
   {
    "duration": 0,
    "start_time": "2023-03-13T05:48:25.370Z"
   },
   {
    "duration": 7,
    "start_time": "2023-03-13T05:49:28.546Z"
   },
   {
    "duration": 29,
    "start_time": "2023-03-13T05:50:13.749Z"
   },
   {
    "duration": 20,
    "start_time": "2023-03-13T05:50:23.454Z"
   },
   {
    "duration": 31,
    "start_time": "2023-03-13T05:50:33.637Z"
   },
   {
    "duration": 24,
    "start_time": "2023-03-13T05:51:23.882Z"
   },
   {
    "duration": 33,
    "start_time": "2023-03-13T05:51:48.218Z"
   },
   {
    "duration": 449,
    "start_time": "2023-03-13T06:00:39.853Z"
   },
   {
    "duration": 8,
    "start_time": "2023-03-13T06:02:53.614Z"
   },
   {
    "duration": 430,
    "start_time": "2023-03-13T06:03:11.593Z"
   },
   {
    "duration": 829,
    "start_time": "2023-03-13T06:03:48.814Z"
   },
   {
    "duration": 10,
    "start_time": "2023-03-13T06:04:45.118Z"
   },
   {
    "duration": 10,
    "start_time": "2023-03-13T06:05:08.105Z"
   },
   {
    "duration": 7,
    "start_time": "2023-03-13T06:09:15.018Z"
   },
   {
    "duration": 11,
    "start_time": "2023-03-13T06:10:12.283Z"
   },
   {
    "duration": 45,
    "start_time": "2023-03-13T06:22:18.592Z"
   },
   {
    "duration": 40,
    "start_time": "2023-03-13T06:55:32.766Z"
   },
   {
    "duration": 51,
    "start_time": "2023-03-13T07:06:08.487Z"
   },
   {
    "duration": 535,
    "start_time": "2023-03-13T07:06:16.318Z"
   },
   {
    "duration": 549,
    "start_time": "2023-03-13T07:07:32.834Z"
   },
   {
    "duration": 63,
    "start_time": "2023-03-13T07:12:40.993Z"
   },
   {
    "duration": 4,
    "start_time": "2023-03-13T07:13:02.034Z"
   },
   {
    "duration": 592,
    "start_time": "2023-03-13T07:13:59.095Z"
   },
   {
    "duration": 723,
    "start_time": "2023-03-13T07:14:55.517Z"
   },
   {
    "duration": 813,
    "start_time": "2023-03-13T07:17:43.699Z"
   },
   {
    "duration": 743,
    "start_time": "2023-03-13T07:20:05.766Z"
   },
   {
    "duration": 716,
    "start_time": "2023-03-13T07:21:03.583Z"
   },
   {
    "duration": 1094,
    "start_time": "2023-03-13T07:22:42.649Z"
   },
   {
    "duration": 624,
    "start_time": "2023-03-13T07:23:32.766Z"
   },
   {
    "duration": 102,
    "start_time": "2023-03-13T07:23:33.392Z"
   },
   {
    "duration": 84,
    "start_time": "2023-03-13T07:23:33.496Z"
   },
   {
    "duration": 40,
    "start_time": "2023-03-13T07:23:33.582Z"
   },
   {
    "duration": 1914,
    "start_time": "2023-03-13T07:23:33.623Z"
   },
   {
    "duration": 8,
    "start_time": "2023-03-13T07:23:35.539Z"
   },
   {
    "duration": 8,
    "start_time": "2023-03-13T07:23:35.549Z"
   },
   {
    "duration": 6,
    "start_time": "2023-03-13T07:23:35.559Z"
   },
   {
    "duration": 30,
    "start_time": "2023-03-13T07:23:35.566Z"
   },
   {
    "duration": 16,
    "start_time": "2023-03-13T07:23:35.598Z"
   },
   {
    "duration": 8,
    "start_time": "2023-03-13T07:23:35.616Z"
   },
   {
    "duration": 9,
    "start_time": "2023-03-13T07:23:35.625Z"
   },
   {
    "duration": 33,
    "start_time": "2023-03-13T07:23:35.635Z"
   },
   {
    "duration": 12,
    "start_time": "2023-03-13T07:23:35.669Z"
   },
   {
    "duration": 26,
    "start_time": "2023-03-13T07:23:35.682Z"
   },
   {
    "duration": 10,
    "start_time": "2023-03-13T07:23:35.710Z"
   },
   {
    "duration": 36,
    "start_time": "2023-03-13T07:23:35.722Z"
   },
   {
    "duration": 112,
    "start_time": "2023-03-13T07:23:35.760Z"
   },
   {
    "duration": 5,
    "start_time": "2023-03-13T07:23:35.874Z"
   },
   {
    "duration": 14,
    "start_time": "2023-03-13T07:23:35.880Z"
   },
   {
    "duration": 9,
    "start_time": "2023-03-13T07:23:35.896Z"
   },
   {
    "duration": 4,
    "start_time": "2023-03-13T07:23:35.906Z"
   },
   {
    "duration": 4,
    "start_time": "2023-03-13T07:23:35.911Z"
   },
   {
    "duration": 8,
    "start_time": "2023-03-13T07:23:35.917Z"
   },
   {
    "duration": 34,
    "start_time": "2023-03-13T07:23:35.926Z"
   },
   {
    "duration": 10,
    "start_time": "2023-03-13T07:23:35.962Z"
   },
   {
    "duration": 29,
    "start_time": "2023-03-13T07:23:35.973Z"
   },
   {
    "duration": 14,
    "start_time": "2023-03-13T07:23:36.006Z"
   },
   {
    "duration": 3,
    "start_time": "2023-03-13T07:23:36.022Z"
   },
   {
    "duration": 39,
    "start_time": "2023-03-13T07:23:36.027Z"
   },
   {
    "duration": 9,
    "start_time": "2023-03-13T07:23:36.069Z"
   },
   {
    "duration": 5,
    "start_time": "2023-03-13T07:23:36.080Z"
   },
   {
    "duration": 4,
    "start_time": "2023-03-13T07:23:36.086Z"
   },
   {
    "duration": 1192,
    "start_time": "2023-03-13T07:23:36.091Z"
   },
   {
    "duration": 5,
    "start_time": "2023-03-13T07:23:37.285Z"
   },
   {
    "duration": 7,
    "start_time": "2023-03-13T07:23:37.291Z"
   },
   {
    "duration": 14,
    "start_time": "2023-03-13T07:23:37.299Z"
   },
   {
    "duration": 15,
    "start_time": "2023-03-13T07:23:37.314Z"
   },
   {
    "duration": 15,
    "start_time": "2023-03-13T07:23:37.330Z"
   },
   {
    "duration": 14,
    "start_time": "2023-03-13T07:23:37.347Z"
   },
   {
    "duration": 16,
    "start_time": "2023-03-13T07:23:37.363Z"
   },
   {
    "duration": 25,
    "start_time": "2023-03-13T07:23:37.380Z"
   },
   {
    "duration": 3,
    "start_time": "2023-03-13T07:23:37.407Z"
   },
   {
    "duration": 7,
    "start_time": "2023-03-13T07:23:37.412Z"
   },
   {
    "duration": 5,
    "start_time": "2023-03-13T07:23:37.422Z"
   },
   {
    "duration": 4,
    "start_time": "2023-03-13T07:23:37.429Z"
   },
   {
    "duration": 11,
    "start_time": "2023-03-13T07:23:37.456Z"
   },
   {
    "duration": 4,
    "start_time": "2023-03-13T07:23:37.469Z"
   },
   {
    "duration": 15,
    "start_time": "2023-03-13T07:23:37.475Z"
   },
   {
    "duration": 464,
    "start_time": "2023-03-13T07:23:37.491Z"
   },
   {
    "duration": 528,
    "start_time": "2023-03-13T07:23:37.957Z"
   },
   {
    "duration": 442,
    "start_time": "2023-03-13T07:23:38.486Z"
   },
   {
    "duration": 299,
    "start_time": "2023-03-13T07:23:38.929Z"
   },
   {
    "duration": 496,
    "start_time": "2023-03-13T07:23:39.230Z"
   },
   {
    "duration": 424,
    "start_time": "2023-03-13T07:23:39.728Z"
   },
   {
    "duration": 217,
    "start_time": "2023-03-13T07:23:40.154Z"
   },
   {
    "duration": 116,
    "start_time": "2023-03-13T07:23:40.373Z"
   },
   {
    "duration": 489,
    "start_time": "2023-03-13T07:23:40.491Z"
   },
   {
    "duration": 445,
    "start_time": "2023-03-13T07:23:40.981Z"
   },
   {
    "duration": 457,
    "start_time": "2023-03-13T07:23:41.428Z"
   },
   {
    "duration": 501,
    "start_time": "2023-03-13T07:23:41.887Z"
   },
   {
    "duration": 127,
    "start_time": "2023-03-13T07:23:42.390Z"
   },
   {
    "duration": 120,
    "start_time": "2023-03-13T07:23:42.519Z"
   },
   {
    "duration": 235,
    "start_time": "2023-03-13T07:23:42.640Z"
   },
   {
    "duration": 201,
    "start_time": "2023-03-13T07:23:42.876Z"
   },
   {
    "duration": 184,
    "start_time": "2023-03-13T07:23:43.081Z"
   },
   {
    "duration": 179,
    "start_time": "2023-03-13T07:23:43.266Z"
   },
   {
    "duration": 190,
    "start_time": "2023-03-13T07:23:43.446Z"
   },
   {
    "duration": 27667,
    "start_time": "2023-03-13T07:23:43.638Z"
   },
   {
    "duration": 144,
    "start_time": "2023-03-13T07:24:11.307Z"
   },
   {
    "duration": 171,
    "start_time": "2023-03-13T07:24:11.455Z"
   },
   {
    "duration": 30875,
    "start_time": "2023-03-13T07:24:11.628Z"
   },
   {
    "duration": 148,
    "start_time": "2023-03-13T07:24:42.504Z"
   },
   {
    "duration": 18,
    "start_time": "2023-03-13T07:24:42.654Z"
   },
   {
    "duration": 270,
    "start_time": "2023-03-13T07:24:42.673Z"
   },
   {
    "duration": 816,
    "start_time": "2023-03-13T07:29:20.782Z"
   },
   {
    "duration": 118,
    "start_time": "2023-03-13T07:29:21.600Z"
   },
   {
    "duration": 92,
    "start_time": "2023-03-13T07:29:21.720Z"
   },
   {
    "duration": 81,
    "start_time": "2023-03-13T07:29:21.814Z"
   },
   {
    "duration": 2092,
    "start_time": "2023-03-13T07:29:21.898Z"
   },
   {
    "duration": 14,
    "start_time": "2023-03-13T07:29:23.992Z"
   },
   {
    "duration": 13,
    "start_time": "2023-03-13T07:29:24.008Z"
   },
   {
    "duration": 7,
    "start_time": "2023-03-13T07:29:24.022Z"
   },
   {
    "duration": 51,
    "start_time": "2023-03-13T07:29:24.031Z"
   },
   {
    "duration": 23,
    "start_time": "2023-03-13T07:29:24.086Z"
   },
   {
    "duration": 9,
    "start_time": "2023-03-13T07:29:24.111Z"
   },
   {
    "duration": 10,
    "start_time": "2023-03-13T07:29:24.122Z"
   },
   {
    "duration": 33,
    "start_time": "2023-03-13T07:29:24.133Z"
   },
   {
    "duration": 13,
    "start_time": "2023-03-13T07:29:24.170Z"
   },
   {
    "duration": 40,
    "start_time": "2023-03-13T07:29:24.185Z"
   },
   {
    "duration": 17,
    "start_time": "2023-03-13T07:29:24.255Z"
   },
   {
    "duration": 11,
    "start_time": "2023-03-13T07:29:24.276Z"
   },
   {
    "duration": 175,
    "start_time": "2023-03-13T07:29:24.289Z"
   },
   {
    "duration": 5,
    "start_time": "2023-03-13T07:29:24.466Z"
   },
   {
    "duration": 14,
    "start_time": "2023-03-13T07:29:24.473Z"
   },
   {
    "duration": 14,
    "start_time": "2023-03-13T07:29:24.490Z"
   },
   {
    "duration": 8,
    "start_time": "2023-03-13T07:29:24.506Z"
   },
   {
    "duration": 4,
    "start_time": "2023-03-13T07:29:24.517Z"
   },
   {
    "duration": 43,
    "start_time": "2023-03-13T07:29:24.523Z"
   },
   {
    "duration": 10,
    "start_time": "2023-03-13T07:29:24.568Z"
   },
   {
    "duration": 10,
    "start_time": "2023-03-13T07:29:24.580Z"
   },
   {
    "duration": 69,
    "start_time": "2023-03-13T07:29:24.592Z"
   },
   {
    "duration": 19,
    "start_time": "2023-03-13T07:29:24.666Z"
   },
   {
    "duration": 3,
    "start_time": "2023-03-13T07:29:24.687Z"
   },
   {
    "duration": 36,
    "start_time": "2023-03-13T07:29:24.692Z"
   },
   {
    "duration": 11,
    "start_time": "2023-03-13T07:29:24.732Z"
   },
   {
    "duration": 16,
    "start_time": "2023-03-13T07:29:24.745Z"
   },
   {
    "duration": 3,
    "start_time": "2023-03-13T07:29:24.762Z"
   },
   {
    "duration": 1537,
    "start_time": "2023-03-13T07:29:24.766Z"
   },
   {
    "duration": 7,
    "start_time": "2023-03-13T07:29:26.305Z"
   },
   {
    "duration": 7,
    "start_time": "2023-03-13T07:29:26.313Z"
   },
   {
    "duration": 35,
    "start_time": "2023-03-13T07:29:26.321Z"
   },
   {
    "duration": 7,
    "start_time": "2023-03-13T07:29:26.361Z"
   },
   {
    "duration": 7,
    "start_time": "2023-03-13T07:29:26.370Z"
   },
   {
    "duration": 10,
    "start_time": "2023-03-13T07:29:26.379Z"
   },
   {
    "duration": 17,
    "start_time": "2023-03-13T07:29:26.390Z"
   },
   {
    "duration": 61,
    "start_time": "2023-03-13T07:29:26.409Z"
   },
   {
    "duration": 4,
    "start_time": "2023-03-13T07:29:26.472Z"
   },
   {
    "duration": 8,
    "start_time": "2023-03-13T07:29:26.480Z"
   },
   {
    "duration": 6,
    "start_time": "2023-03-13T07:29:26.489Z"
   },
   {
    "duration": 5,
    "start_time": "2023-03-13T07:29:26.499Z"
   },
   {
    "duration": 8,
    "start_time": "2023-03-13T07:29:26.506Z"
   },
   {
    "duration": 4,
    "start_time": "2023-03-13T07:29:26.517Z"
   },
   {
    "duration": 65,
    "start_time": "2023-03-13T07:29:26.523Z"
   },
   {
    "duration": 586,
    "start_time": "2023-03-13T07:29:26.589Z"
   },
   {
    "duration": 573,
    "start_time": "2023-03-13T07:29:27.177Z"
   },
   {
    "duration": 551,
    "start_time": "2023-03-13T07:29:27.754Z"
   },
   {
    "duration": 369,
    "start_time": "2023-03-13T07:29:28.306Z"
   },
   {
    "duration": 591,
    "start_time": "2023-03-13T07:29:28.677Z"
   },
   {
    "duration": 708,
    "start_time": "2023-03-13T07:29:29.271Z"
   },
   {
    "duration": 363,
    "start_time": "2023-03-13T07:29:29.981Z"
   },
   {
    "duration": 138,
    "start_time": "2023-03-13T07:29:30.346Z"
   },
   {
    "duration": 551,
    "start_time": "2023-03-13T07:29:30.486Z"
   },
   {
    "duration": 500,
    "start_time": "2023-03-13T07:29:31.038Z"
   },
   {
    "duration": 497,
    "start_time": "2023-03-13T07:29:31.540Z"
   },
   {
    "duration": 606,
    "start_time": "2023-03-13T07:29:32.039Z"
   },
   {
    "duration": 170,
    "start_time": "2023-03-13T07:29:32.647Z"
   },
   {
    "duration": 137,
    "start_time": "2023-03-13T07:29:32.819Z"
   },
   {
    "duration": 282,
    "start_time": "2023-03-13T07:29:32.958Z"
   },
   {
    "duration": 238,
    "start_time": "2023-03-13T07:29:33.243Z"
   },
   {
    "duration": 211,
    "start_time": "2023-03-13T07:29:33.483Z"
   },
   {
    "duration": 199,
    "start_time": "2023-03-13T07:29:33.696Z"
   },
   {
    "duration": 222,
    "start_time": "2023-03-13T07:29:33.897Z"
   },
   {
    "duration": 32123,
    "start_time": "2023-03-13T07:29:34.121Z"
   },
   {
    "duration": 170,
    "start_time": "2023-03-13T07:30:06.246Z"
   },
   {
    "duration": 215,
    "start_time": "2023-03-13T07:30:06.418Z"
   },
   {
    "duration": 35554,
    "start_time": "2023-03-13T07:30:06.635Z"
   },
   {
    "duration": 164,
    "start_time": "2023-03-13T07:30:42.191Z"
   },
   {
    "duration": 36,
    "start_time": "2023-03-13T07:30:42.356Z"
   },
   {
    "duration": 308,
    "start_time": "2023-03-13T07:30:42.395Z"
   },
   {
    "duration": 1095,
    "start_time": "2023-03-13T07:31:43.799Z"
   },
   {
    "duration": 1152,
    "start_time": "2023-03-13T07:35:06.709Z"
   },
   {
    "duration": 2797,
    "start_time": "2023-03-13T07:37:30.587Z"
   },
   {
    "duration": 2669,
    "start_time": "2023-03-13T07:53:27.909Z"
   },
   {
    "duration": 2948,
    "start_time": "2023-03-13T07:54:59.848Z"
   },
   {
    "duration": 884,
    "start_time": "2023-03-13T13:45:45.250Z"
   },
   {
    "duration": 3,
    "start_time": "2023-03-13T13:45:49.238Z"
   },
   {
    "duration": 360,
    "start_time": "2023-03-13T13:45:54.340Z"
   },
   {
    "duration": 680,
    "start_time": "2023-03-13T13:46:06.816Z"
   },
   {
    "duration": 112,
    "start_time": "2023-03-13T13:46:07.498Z"
   },
   {
    "duration": 91,
    "start_time": "2023-03-13T13:46:07.612Z"
   },
   {
    "duration": 69,
    "start_time": "2023-03-13T13:46:07.705Z"
   },
   {
    "duration": 2133,
    "start_time": "2023-03-13T13:46:07.775Z"
   },
   {
    "duration": 10,
    "start_time": "2023-03-13T13:46:09.909Z"
   },
   {
    "duration": 12,
    "start_time": "2023-03-13T13:46:09.921Z"
   },
   {
    "duration": 7,
    "start_time": "2023-03-13T13:46:09.935Z"
   },
   {
    "duration": 44,
    "start_time": "2023-03-13T13:46:09.944Z"
   },
   {
    "duration": 21,
    "start_time": "2023-03-13T13:46:09.991Z"
   },
   {
    "duration": 30,
    "start_time": "2023-03-13T13:46:10.014Z"
   },
   {
    "duration": 18,
    "start_time": "2023-03-13T13:46:10.046Z"
   },
   {
    "duration": 12,
    "start_time": "2023-03-13T13:46:10.065Z"
   },
   {
    "duration": 16,
    "start_time": "2023-03-13T13:46:10.079Z"
   },
   {
    "duration": 28,
    "start_time": "2023-03-13T13:46:10.097Z"
   },
   {
    "duration": 11,
    "start_time": "2023-03-13T13:46:10.127Z"
   },
   {
    "duration": 31,
    "start_time": "2023-03-13T13:46:10.140Z"
   },
   {
    "duration": 125,
    "start_time": "2023-03-13T13:46:10.173Z"
   },
   {
    "duration": 5,
    "start_time": "2023-03-13T13:46:10.300Z"
   },
   {
    "duration": 14,
    "start_time": "2023-03-13T13:46:10.306Z"
   },
   {
    "duration": 17,
    "start_time": "2023-03-13T13:46:10.322Z"
   },
   {
    "duration": 23,
    "start_time": "2023-03-13T13:46:10.341Z"
   },
   {
    "duration": 4,
    "start_time": "2023-03-13T13:46:10.366Z"
   },
   {
    "duration": 17,
    "start_time": "2023-03-13T13:46:10.372Z"
   },
   {
    "duration": 9,
    "start_time": "2023-03-13T13:46:10.391Z"
   },
   {
    "duration": 12,
    "start_time": "2023-03-13T13:46:10.402Z"
   },
   {
    "duration": 53,
    "start_time": "2023-03-13T13:46:10.416Z"
   },
   {
    "duration": 9,
    "start_time": "2023-03-13T13:46:10.473Z"
   },
   {
    "duration": 7,
    "start_time": "2023-03-13T13:46:10.484Z"
   },
   {
    "duration": 30,
    "start_time": "2023-03-13T13:46:10.493Z"
   },
   {
    "duration": 10,
    "start_time": "2023-03-13T13:46:10.525Z"
   },
   {
    "duration": 107,
    "start_time": "2023-03-13T13:46:10.537Z"
   },
   {
    "duration": 0,
    "start_time": "2023-03-13T13:46:10.646Z"
   },
   {
    "duration": 1,
    "start_time": "2023-03-13T13:46:10.647Z"
   },
   {
    "duration": 0,
    "start_time": "2023-03-13T13:46:10.649Z"
   },
   {
    "duration": 0,
    "start_time": "2023-03-13T13:46:10.650Z"
   },
   {
    "duration": 0,
    "start_time": "2023-03-13T13:46:10.665Z"
   },
   {
    "duration": 0,
    "start_time": "2023-03-13T13:46:10.666Z"
   },
   {
    "duration": 0,
    "start_time": "2023-03-13T13:46:10.667Z"
   },
   {
    "duration": 0,
    "start_time": "2023-03-13T13:46:10.668Z"
   },
   {
    "duration": 0,
    "start_time": "2023-03-13T13:46:10.669Z"
   },
   {
    "duration": 0,
    "start_time": "2023-03-13T13:46:10.671Z"
   },
   {
    "duration": 0,
    "start_time": "2023-03-13T13:46:10.672Z"
   },
   {
    "duration": 0,
    "start_time": "2023-03-13T13:46:10.673Z"
   },
   {
    "duration": 0,
    "start_time": "2023-03-13T13:46:10.674Z"
   },
   {
    "duration": 0,
    "start_time": "2023-03-13T13:46:10.675Z"
   },
   {
    "duration": 0,
    "start_time": "2023-03-13T13:46:10.676Z"
   },
   {
    "duration": 0,
    "start_time": "2023-03-13T13:46:10.678Z"
   },
   {
    "duration": 0,
    "start_time": "2023-03-13T13:46:10.679Z"
   },
   {
    "duration": 0,
    "start_time": "2023-03-13T13:46:10.679Z"
   },
   {
    "duration": 0,
    "start_time": "2023-03-13T13:46:10.681Z"
   },
   {
    "duration": 0,
    "start_time": "2023-03-13T13:46:10.681Z"
   },
   {
    "duration": 0,
    "start_time": "2023-03-13T13:46:10.683Z"
   },
   {
    "duration": 0,
    "start_time": "2023-03-13T13:46:10.684Z"
   },
   {
    "duration": 0,
    "start_time": "2023-03-13T13:46:10.685Z"
   },
   {
    "duration": 0,
    "start_time": "2023-03-13T13:46:10.686Z"
   },
   {
    "duration": 0,
    "start_time": "2023-03-13T13:46:10.687Z"
   },
   {
    "duration": 0,
    "start_time": "2023-03-13T13:46:10.688Z"
   },
   {
    "duration": 0,
    "start_time": "2023-03-13T13:46:10.689Z"
   },
   {
    "duration": 0,
    "start_time": "2023-03-13T13:46:10.690Z"
   },
   {
    "duration": 0,
    "start_time": "2023-03-13T13:46:10.691Z"
   },
   {
    "duration": 0,
    "start_time": "2023-03-13T13:46:10.692Z"
   },
   {
    "duration": 0,
    "start_time": "2023-03-13T13:46:10.693Z"
   },
   {
    "duration": 0,
    "start_time": "2023-03-13T13:46:10.695Z"
   },
   {
    "duration": 0,
    "start_time": "2023-03-13T13:46:10.695Z"
   },
   {
    "duration": 0,
    "start_time": "2023-03-13T13:46:10.697Z"
   },
   {
    "duration": 0,
    "start_time": "2023-03-13T13:46:10.697Z"
   },
   {
    "duration": 0,
    "start_time": "2023-03-13T13:46:10.699Z"
   },
   {
    "duration": 0,
    "start_time": "2023-03-13T13:46:10.700Z"
   },
   {
    "duration": 0,
    "start_time": "2023-03-13T13:46:10.765Z"
   },
   {
    "duration": 0,
    "start_time": "2023-03-13T13:46:10.766Z"
   },
   {
    "duration": 0,
    "start_time": "2023-03-13T13:46:10.767Z"
   },
   {
    "duration": 0,
    "start_time": "2023-03-13T13:46:10.769Z"
   },
   {
    "duration": 0,
    "start_time": "2023-03-13T13:46:10.769Z"
   },
   {
    "duration": 0,
    "start_time": "2023-03-13T13:46:10.771Z"
   },
   {
    "duration": 0,
    "start_time": "2023-03-13T13:46:10.772Z"
   },
   {
    "duration": 0,
    "start_time": "2023-03-13T13:46:10.774Z"
   },
   {
    "duration": 0,
    "start_time": "2023-03-13T13:46:10.775Z"
   },
   {
    "duration": 0,
    "start_time": "2023-03-13T13:46:10.776Z"
   },
   {
    "duration": 0,
    "start_time": "2023-03-13T13:46:10.777Z"
   },
   {
    "duration": 0,
    "start_time": "2023-03-13T13:46:10.778Z"
   },
   {
    "duration": 1187,
    "start_time": "2023-03-13T13:46:55.905Z"
   },
   {
    "duration": 7,
    "start_time": "2023-03-13T13:47:01.430Z"
   },
   {
    "duration": 12,
    "start_time": "2023-03-13T13:47:04.859Z"
   },
   {
    "duration": 6,
    "start_time": "2023-03-13T13:47:23.721Z"
   },
   {
    "duration": 1200,
    "start_time": "2023-03-13T13:47:41.772Z"
   },
   {
    "duration": 5,
    "start_time": "2023-03-13T13:47:45.177Z"
   },
   {
    "duration": 1243,
    "start_time": "2023-03-13T13:47:54.266Z"
   },
   {
    "duration": 6,
    "start_time": "2023-03-13T13:47:57.253Z"
   },
   {
    "duration": 5,
    "start_time": "2023-03-13T13:52:31.753Z"
   },
   {
    "duration": 1197,
    "start_time": "2023-03-13T13:52:47.594Z"
   },
   {
    "duration": 5,
    "start_time": "2023-03-13T13:52:50.776Z"
   },
   {
    "duration": 1153,
    "start_time": "2023-03-13T13:55:55.402Z"
   },
   {
    "duration": 70,
    "start_time": "2023-03-13T13:57:21.077Z"
   },
   {
    "duration": 1187,
    "start_time": "2023-03-13T13:57:29.839Z"
   },
   {
    "duration": 1189,
    "start_time": "2023-03-13T13:59:32.782Z"
   },
   {
    "duration": 1242,
    "start_time": "2023-03-13T14:00:25.798Z"
   },
   {
    "duration": 71,
    "start_time": "2023-03-13T14:00:44.030Z"
   },
   {
    "duration": 85,
    "start_time": "2023-03-13T14:00:53.819Z"
   },
   {
    "duration": 71,
    "start_time": "2023-03-13T14:01:00.318Z"
   },
   {
    "duration": 69,
    "start_time": "2023-03-13T14:01:08.139Z"
   },
   {
    "duration": 1335,
    "start_time": "2023-03-13T14:01:24.059Z"
   },
   {
    "duration": 1120,
    "start_time": "2023-03-13T14:02:02.560Z"
   },
   {
    "duration": 1142,
    "start_time": "2023-03-13T14:02:37.638Z"
   },
   {
    "duration": 1128,
    "start_time": "2023-03-13T14:04:19.299Z"
   },
   {
    "duration": 1144,
    "start_time": "2023-03-13T14:06:09.377Z"
   },
   {
    "duration": 1270,
    "start_time": "2023-03-13T14:06:37.449Z"
   },
   {
    "duration": 1139,
    "start_time": "2023-03-13T14:08:37.570Z"
   },
   {
    "duration": 1233,
    "start_time": "2023-03-13T14:10:07.238Z"
   },
   {
    "duration": 1568,
    "start_time": "2023-03-13T14:15:57.738Z"
   },
   {
    "duration": 1188,
    "start_time": "2023-03-13T14:16:04.458Z"
   },
   {
    "duration": 697,
    "start_time": "2023-03-13T14:17:50.777Z"
   },
   {
    "duration": 116,
    "start_time": "2023-03-13T14:17:51.477Z"
   },
   {
    "duration": 98,
    "start_time": "2023-03-13T14:17:51.595Z"
   },
   {
    "duration": 50,
    "start_time": "2023-03-13T14:17:51.696Z"
   },
   {
    "duration": 2091,
    "start_time": "2023-03-13T14:17:51.765Z"
   },
   {
    "duration": 12,
    "start_time": "2023-03-13T14:17:53.858Z"
   },
   {
    "duration": 10,
    "start_time": "2023-03-13T14:17:53.873Z"
   },
   {
    "duration": 7,
    "start_time": "2023-03-13T14:17:53.885Z"
   },
   {
    "duration": 36,
    "start_time": "2023-03-13T14:17:53.893Z"
   },
   {
    "duration": 38,
    "start_time": "2023-03-13T14:17:53.932Z"
   },
   {
    "duration": 10,
    "start_time": "2023-03-13T14:17:53.972Z"
   },
   {
    "duration": 10,
    "start_time": "2023-03-13T14:17:53.983Z"
   },
   {
    "duration": 19,
    "start_time": "2023-03-13T14:17:53.995Z"
   },
   {
    "duration": 11,
    "start_time": "2023-03-13T14:17:54.016Z"
   },
   {
    "duration": 56,
    "start_time": "2023-03-13T14:17:54.029Z"
   },
   {
    "duration": 10,
    "start_time": "2023-03-13T14:17:54.088Z"
   },
   {
    "duration": 11,
    "start_time": "2023-03-13T14:17:54.100Z"
   },
   {
    "duration": 131,
    "start_time": "2023-03-13T14:17:54.113Z"
   },
   {
    "duration": 5,
    "start_time": "2023-03-13T14:17:54.246Z"
   },
   {
    "duration": 20,
    "start_time": "2023-03-13T14:17:54.253Z"
   },
   {
    "duration": 20,
    "start_time": "2023-03-13T14:17:54.275Z"
   },
   {
    "duration": 12,
    "start_time": "2023-03-13T14:17:54.296Z"
   },
   {
    "duration": 11,
    "start_time": "2023-03-13T14:17:54.310Z"
   },
   {
    "duration": 15,
    "start_time": "2023-03-13T14:17:54.323Z"
   },
   {
    "duration": 9,
    "start_time": "2023-03-13T14:17:54.339Z"
   },
   {
    "duration": 10,
    "start_time": "2023-03-13T14:17:54.363Z"
   },
   {
    "duration": 34,
    "start_time": "2023-03-13T14:17:54.374Z"
   },
   {
    "duration": 11,
    "start_time": "2023-03-13T14:17:54.412Z"
   },
   {
    "duration": 4,
    "start_time": "2023-03-13T14:17:54.424Z"
   },
   {
    "duration": 51,
    "start_time": "2023-03-13T14:17:54.429Z"
   },
   {
    "duration": 1209,
    "start_time": "2023-03-13T14:17:54.482Z"
   },
   {
    "duration": 1238,
    "start_time": "2023-03-13T14:17:55.693Z"
   },
   {
    "duration": 1171,
    "start_time": "2023-03-13T14:17:56.932Z"
   },
   {
    "duration": 1139,
    "start_time": "2023-03-13T14:17:58.105Z"
   },
   {
    "duration": 1190,
    "start_time": "2023-03-13T14:17:59.246Z"
   },
   {
    "duration": 1169,
    "start_time": "2023-03-13T14:18:00.437Z"
   },
   {
    "duration": 7,
    "start_time": "2023-03-13T14:18:01.608Z"
   },
   {
    "duration": 18,
    "start_time": "2023-03-13T14:18:01.617Z"
   },
   {
    "duration": 35,
    "start_time": "2023-03-13T14:18:01.637Z"
   },
   {
    "duration": 123,
    "start_time": "2023-03-13T14:18:01.674Z"
   },
   {
    "duration": 0,
    "start_time": "2023-03-13T14:18:01.799Z"
   },
   {
    "duration": 0,
    "start_time": "2023-03-13T14:18:01.800Z"
   },
   {
    "duration": 0,
    "start_time": "2023-03-13T14:18:01.802Z"
   },
   {
    "duration": 0,
    "start_time": "2023-03-13T14:18:01.803Z"
   },
   {
    "duration": 0,
    "start_time": "2023-03-13T14:18:01.804Z"
   },
   {
    "duration": 0,
    "start_time": "2023-03-13T14:18:01.805Z"
   },
   {
    "duration": 0,
    "start_time": "2023-03-13T14:18:01.806Z"
   },
   {
    "duration": 0,
    "start_time": "2023-03-13T14:18:01.807Z"
   },
   {
    "duration": 0,
    "start_time": "2023-03-13T14:18:01.809Z"
   },
   {
    "duration": 0,
    "start_time": "2023-03-13T14:18:01.810Z"
   },
   {
    "duration": 0,
    "start_time": "2023-03-13T14:18:01.811Z"
   },
   {
    "duration": 0,
    "start_time": "2023-03-13T14:18:01.812Z"
   },
   {
    "duration": 0,
    "start_time": "2023-03-13T14:18:01.813Z"
   },
   {
    "duration": 0,
    "start_time": "2023-03-13T14:18:01.814Z"
   },
   {
    "duration": 0,
    "start_time": "2023-03-13T14:18:01.815Z"
   },
   {
    "duration": 0,
    "start_time": "2023-03-13T14:18:01.816Z"
   },
   {
    "duration": 0,
    "start_time": "2023-03-13T14:18:01.817Z"
   },
   {
    "duration": 0,
    "start_time": "2023-03-13T14:18:01.817Z"
   },
   {
    "duration": 0,
    "start_time": "2023-03-13T14:18:01.818Z"
   },
   {
    "duration": 0,
    "start_time": "2023-03-13T14:18:01.820Z"
   },
   {
    "duration": 0,
    "start_time": "2023-03-13T14:18:01.821Z"
   },
   {
    "duration": 0,
    "start_time": "2023-03-13T14:18:01.822Z"
   },
   {
    "duration": 0,
    "start_time": "2023-03-13T14:18:01.864Z"
   },
   {
    "duration": 0,
    "start_time": "2023-03-13T14:18:01.865Z"
   },
   {
    "duration": 0,
    "start_time": "2023-03-13T14:18:01.866Z"
   },
   {
    "duration": 0,
    "start_time": "2023-03-13T14:18:01.868Z"
   },
   {
    "duration": 0,
    "start_time": "2023-03-13T14:18:01.869Z"
   },
   {
    "duration": 0,
    "start_time": "2023-03-13T14:18:01.871Z"
   },
   {
    "duration": 0,
    "start_time": "2023-03-13T14:18:01.872Z"
   },
   {
    "duration": 0,
    "start_time": "2023-03-13T14:18:01.873Z"
   },
   {
    "duration": 1,
    "start_time": "2023-03-13T14:18:01.873Z"
   },
   {
    "duration": 0,
    "start_time": "2023-03-13T14:18:01.874Z"
   },
   {
    "duration": 0,
    "start_time": "2023-03-13T14:18:01.876Z"
   },
   {
    "duration": 7,
    "start_time": "2023-03-13T14:20:21.357Z"
   },
   {
    "duration": 7,
    "start_time": "2023-03-13T14:20:47.795Z"
   },
   {
    "duration": 25,
    "start_time": "2023-03-13T14:20:58.958Z"
   },
   {
    "duration": 28,
    "start_time": "2023-03-13T14:22:31.317Z"
   },
   {
    "duration": 651,
    "start_time": "2023-03-13T14:23:08.215Z"
   },
   {
    "duration": 114,
    "start_time": "2023-03-13T14:23:08.868Z"
   },
   {
    "duration": 89,
    "start_time": "2023-03-13T14:23:08.983Z"
   },
   {
    "duration": 48,
    "start_time": "2023-03-13T14:23:09.074Z"
   },
   {
    "duration": 2100,
    "start_time": "2023-03-13T14:23:09.124Z"
   },
   {
    "duration": 10,
    "start_time": "2023-03-13T14:23:11.226Z"
   },
   {
    "duration": 33,
    "start_time": "2023-03-13T14:23:11.239Z"
   },
   {
    "duration": 13,
    "start_time": "2023-03-13T14:23:11.274Z"
   },
   {
    "duration": 34,
    "start_time": "2023-03-13T14:23:11.289Z"
   },
   {
    "duration": 37,
    "start_time": "2023-03-13T14:23:11.327Z"
   },
   {
    "duration": 10,
    "start_time": "2023-03-13T14:23:11.366Z"
   },
   {
    "duration": 16,
    "start_time": "2023-03-13T14:23:11.378Z"
   },
   {
    "duration": 16,
    "start_time": "2023-03-13T14:23:11.396Z"
   },
   {
    "duration": 16,
    "start_time": "2023-03-13T14:23:11.414Z"
   },
   {
    "duration": 46,
    "start_time": "2023-03-13T14:23:11.433Z"
   },
   {
    "duration": 10,
    "start_time": "2023-03-13T14:23:11.480Z"
   },
   {
    "duration": 9,
    "start_time": "2023-03-13T14:23:11.492Z"
   },
   {
    "duration": 137,
    "start_time": "2023-03-13T14:23:11.503Z"
   },
   {
    "duration": 11,
    "start_time": "2023-03-13T14:23:11.642Z"
   },
   {
    "duration": 18,
    "start_time": "2023-03-13T14:23:11.655Z"
   },
   {
    "duration": 11,
    "start_time": "2023-03-13T14:23:11.675Z"
   },
   {
    "duration": 5,
    "start_time": "2023-03-13T14:23:11.687Z"
   },
   {
    "duration": 6,
    "start_time": "2023-03-13T14:23:11.694Z"
   },
   {
    "duration": 15,
    "start_time": "2023-03-13T14:23:11.701Z"
   },
   {
    "duration": 10,
    "start_time": "2023-03-13T14:23:11.717Z"
   },
   {
    "duration": 40,
    "start_time": "2023-03-13T14:23:11.729Z"
   },
   {
    "duration": 34,
    "start_time": "2023-03-13T14:23:11.770Z"
   },
   {
    "duration": 9,
    "start_time": "2023-03-13T14:23:11.809Z"
   },
   {
    "duration": 4,
    "start_time": "2023-03-13T14:23:11.820Z"
   },
   {
    "duration": 49,
    "start_time": "2023-03-13T14:23:11.825Z"
   },
   {
    "duration": 1161,
    "start_time": "2023-03-13T14:23:11.876Z"
   },
   {
    "duration": 1161,
    "start_time": "2023-03-13T14:23:13.040Z"
   },
   {
    "duration": 1274,
    "start_time": "2023-03-13T14:23:14.203Z"
   },
   {
    "duration": 1204,
    "start_time": "2023-03-13T14:23:15.479Z"
   },
   {
    "duration": 1320,
    "start_time": "2023-03-13T14:23:16.686Z"
   },
   {
    "duration": 1263,
    "start_time": "2023-03-13T14:23:18.007Z"
   },
   {
    "duration": 8,
    "start_time": "2023-03-13T14:23:19.272Z"
   },
   {
    "duration": 14,
    "start_time": "2023-03-13T14:23:19.282Z"
   },
   {
    "duration": 16,
    "start_time": "2023-03-13T14:23:19.298Z"
   },
   {
    "duration": 54,
    "start_time": "2023-03-13T14:23:19.316Z"
   },
   {
    "duration": 5,
    "start_time": "2023-03-13T14:23:19.371Z"
   },
   {
    "duration": 11,
    "start_time": "2023-03-13T14:23:19.378Z"
   },
   {
    "duration": 6,
    "start_time": "2023-03-13T14:23:19.392Z"
   },
   {
    "duration": 15,
    "start_time": "2023-03-13T14:23:19.400Z"
   },
   {
    "duration": 11,
    "start_time": "2023-03-13T14:23:19.417Z"
   },
   {
    "duration": 5,
    "start_time": "2023-03-13T14:23:19.430Z"
   },
   {
    "duration": 43,
    "start_time": "2023-03-13T14:23:19.437Z"
   },
   {
    "duration": 553,
    "start_time": "2023-03-13T14:23:19.482Z"
   },
   {
    "duration": 688,
    "start_time": "2023-03-13T14:23:20.037Z"
   },
   {
    "duration": 554,
    "start_time": "2023-03-13T14:23:20.727Z"
   },
   {
    "duration": 382,
    "start_time": "2023-03-13T14:23:21.283Z"
   },
   {
    "duration": 688,
    "start_time": "2023-03-13T14:23:21.668Z"
   },
   {
    "duration": 532,
    "start_time": "2023-03-13T14:23:22.359Z"
   },
   {
    "duration": 283,
    "start_time": "2023-03-13T14:23:22.893Z"
   },
   {
    "duration": 148,
    "start_time": "2023-03-13T14:23:23.179Z"
   },
   {
    "duration": 644,
    "start_time": "2023-03-13T14:23:23.329Z"
   },
   {
    "duration": 613,
    "start_time": "2023-03-13T14:23:23.975Z"
   },
   {
    "duration": 604,
    "start_time": "2023-03-13T14:23:24.592Z"
   },
   {
    "duration": 653,
    "start_time": "2023-03-13T14:23:25.198Z"
   },
   {
    "duration": 166,
    "start_time": "2023-03-13T14:23:25.853Z"
   },
   {
    "duration": 159,
    "start_time": "2023-03-13T14:23:26.021Z"
   },
   {
    "duration": 273,
    "start_time": "2023-03-13T14:23:26.182Z"
   },
   {
    "duration": 210,
    "start_time": "2023-03-13T14:23:26.457Z"
   },
   {
    "duration": 229,
    "start_time": "2023-03-13T14:23:26.669Z"
   },
   {
    "duration": 201,
    "start_time": "2023-03-13T14:23:26.899Z"
   },
   {
    "duration": 209,
    "start_time": "2023-03-13T14:23:27.101Z"
   },
   {
    "duration": 35568,
    "start_time": "2023-03-13T14:23:27.312Z"
   },
   {
    "duration": 170,
    "start_time": "2023-03-13T14:24:02.882Z"
   },
   {
    "duration": 214,
    "start_time": "2023-03-13T14:24:03.053Z"
   },
   {
    "duration": 39109,
    "start_time": "2023-03-13T14:24:03.269Z"
   },
   {
    "duration": 184,
    "start_time": "2023-03-13T14:24:42.380Z"
   },
   {
    "duration": 20,
    "start_time": "2023-03-13T14:24:42.566Z"
   },
   {
    "duration": 333,
    "start_time": "2023-03-13T14:24:42.588Z"
   },
   {
    "duration": 4146,
    "start_time": "2023-03-13T14:27:39.589Z"
   },
   {
    "duration": 8,
    "start_time": "2023-03-13T15:31:40.010Z"
   },
   {
    "duration": 8,
    "start_time": "2023-03-13T15:37:54.217Z"
   },
   {
    "duration": 8,
    "start_time": "2023-03-13T15:37:59.324Z"
   },
   {
    "duration": 15,
    "start_time": "2023-03-13T15:38:42.117Z"
   },
   {
    "duration": 1210,
    "start_time": "2023-03-13T15:42:19.215Z"
   },
   {
    "duration": 12,
    "start_time": "2023-03-13T15:42:41.067Z"
   },
   {
    "duration": 723,
    "start_time": "2023-03-13T15:45:59.902Z"
   },
   {
    "duration": 122,
    "start_time": "2023-03-13T15:46:00.627Z"
   },
   {
    "duration": 98,
    "start_time": "2023-03-13T15:46:00.751Z"
   },
   {
    "duration": 55,
    "start_time": "2023-03-13T15:46:00.865Z"
   },
   {
    "duration": 2358,
    "start_time": "2023-03-13T15:46:00.922Z"
   },
   {
    "duration": 14,
    "start_time": "2023-03-13T15:46:03.282Z"
   },
   {
    "duration": 22,
    "start_time": "2023-03-13T15:46:03.298Z"
   },
   {
    "duration": 8,
    "start_time": "2023-03-13T15:46:03.322Z"
   },
   {
    "duration": 56,
    "start_time": "2023-03-13T15:46:03.332Z"
   },
   {
    "duration": 22,
    "start_time": "2023-03-13T15:46:03.390Z"
   },
   {
    "duration": 34,
    "start_time": "2023-03-13T15:46:03.414Z"
   },
   {
    "duration": 24,
    "start_time": "2023-03-13T15:46:03.451Z"
   },
   {
    "duration": 25,
    "start_time": "2023-03-13T15:46:03.478Z"
   },
   {
    "duration": 23,
    "start_time": "2023-03-13T15:46:03.506Z"
   },
   {
    "duration": 14,
    "start_time": "2023-03-13T15:46:03.531Z"
   },
   {
    "duration": 51,
    "start_time": "2023-03-13T15:46:03.547Z"
   },
   {
    "duration": 21,
    "start_time": "2023-03-13T15:46:03.600Z"
   },
   {
    "duration": 25,
    "start_time": "2023-03-13T15:46:03.623Z"
   },
   {
    "duration": 140,
    "start_time": "2023-03-13T15:46:03.650Z"
   },
   {
    "duration": 9,
    "start_time": "2023-03-13T15:46:03.792Z"
   },
   {
    "duration": 31,
    "start_time": "2023-03-13T15:46:03.803Z"
   },
   {
    "duration": 15,
    "start_time": "2023-03-13T15:46:03.835Z"
   },
   {
    "duration": 35,
    "start_time": "2023-03-13T15:46:03.851Z"
   },
   {
    "duration": 15,
    "start_time": "2023-03-13T15:46:03.888Z"
   },
   {
    "duration": 29,
    "start_time": "2023-03-13T15:46:03.904Z"
   },
   {
    "duration": 27,
    "start_time": "2023-03-13T15:46:03.935Z"
   },
   {
    "duration": 31,
    "start_time": "2023-03-13T15:46:03.964Z"
   },
   {
    "duration": 18,
    "start_time": "2023-03-13T15:46:03.996Z"
   },
   {
    "duration": 51,
    "start_time": "2023-03-13T15:46:04.017Z"
   },
   {
    "duration": 31,
    "start_time": "2023-03-13T15:46:04.071Z"
   },
   {
    "duration": 8,
    "start_time": "2023-03-13T15:46:04.104Z"
   },
   {
    "duration": 64,
    "start_time": "2023-03-13T15:46:04.115Z"
   },
   {
    "duration": 1371,
    "start_time": "2023-03-13T15:46:04.181Z"
   },
   {
    "duration": 1305,
    "start_time": "2023-03-13T15:46:05.553Z"
   },
   {
    "duration": 1326,
    "start_time": "2023-03-13T15:46:06.859Z"
   },
   {
    "duration": 1329,
    "start_time": "2023-03-13T15:46:08.187Z"
   },
   {
    "duration": 1284,
    "start_time": "2023-03-13T15:46:09.518Z"
   },
   {
    "duration": 1296,
    "start_time": "2023-03-13T15:46:10.804Z"
   },
   {
    "duration": 8,
    "start_time": "2023-03-13T15:46:12.102Z"
   },
   {
    "duration": 19,
    "start_time": "2023-03-13T15:46:12.111Z"
   },
   {
    "duration": 31,
    "start_time": "2023-03-13T15:46:12.135Z"
   },
   {
    "duration": 30,
    "start_time": "2023-03-13T15:46:12.169Z"
   },
   {
    "duration": 38,
    "start_time": "2023-03-13T15:46:12.201Z"
   },
   {
    "duration": 23,
    "start_time": "2023-03-13T15:46:12.241Z"
   },
   {
    "duration": 17,
    "start_time": "2023-03-13T15:46:12.267Z"
   },
   {
    "duration": 8,
    "start_time": "2023-03-13T15:46:12.287Z"
   },
   {
    "duration": 18,
    "start_time": "2023-03-13T15:46:12.297Z"
   },
   {
    "duration": 7,
    "start_time": "2023-03-13T15:46:12.317Z"
   },
   {
    "duration": 20,
    "start_time": "2023-03-13T15:46:12.326Z"
   },
   {
    "duration": 563,
    "start_time": "2023-03-13T15:46:12.348Z"
   },
   {
    "duration": 712,
    "start_time": "2023-03-13T15:46:12.913Z"
   },
   {
    "duration": 529,
    "start_time": "2023-03-13T15:46:13.627Z"
   },
   {
    "duration": 410,
    "start_time": "2023-03-13T15:46:14.158Z"
   },
   {
    "duration": 782,
    "start_time": "2023-03-13T15:46:14.572Z"
   },
   {
    "duration": 564,
    "start_time": "2023-03-13T15:46:15.355Z"
   },
   {
    "duration": 295,
    "start_time": "2023-03-13T15:46:15.920Z"
   },
   {
    "duration": 145,
    "start_time": "2023-03-13T15:46:16.217Z"
   },
   {
    "duration": 711,
    "start_time": "2023-03-13T15:46:16.364Z"
   },
   {
    "duration": 566,
    "start_time": "2023-03-13T15:46:17.077Z"
   },
   {
    "duration": 549,
    "start_time": "2023-03-13T15:46:17.645Z"
   },
   {
    "duration": 662,
    "start_time": "2023-03-13T15:46:18.196Z"
   },
   {
    "duration": 164,
    "start_time": "2023-03-13T15:46:18.860Z"
   },
   {
    "duration": 144,
    "start_time": "2023-03-13T15:46:19.026Z"
   },
   {
    "duration": 302,
    "start_time": "2023-03-13T15:46:19.172Z"
   },
   {
    "duration": 220,
    "start_time": "2023-03-13T15:46:19.477Z"
   },
   {
    "duration": 228,
    "start_time": "2023-03-13T15:46:19.699Z"
   },
   {
    "duration": 238,
    "start_time": "2023-03-13T15:46:19.929Z"
   },
   {
    "duration": 236,
    "start_time": "2023-03-13T15:46:20.169Z"
   },
   {
    "duration": 38786,
    "start_time": "2023-03-13T15:46:20.406Z"
   },
   {
    "duration": 176,
    "start_time": "2023-03-13T15:46:59.194Z"
   },
   {
    "duration": 227,
    "start_time": "2023-03-13T15:46:59.372Z"
   },
   {
    "duration": 41733,
    "start_time": "2023-03-13T15:46:59.600Z"
   },
   {
    "duration": 195,
    "start_time": "2023-03-13T15:47:41.335Z"
   },
   {
    "duration": 31,
    "start_time": "2023-03-13T15:47:41.533Z"
   },
   {
    "duration": 339,
    "start_time": "2023-03-13T15:47:41.567Z"
   },
   {
    "duration": 9,
    "start_time": "2023-03-13T15:47:51.145Z"
   },
   {
    "duration": 86,
    "start_time": "2023-03-13T15:48:13.106Z"
   },
   {
    "duration": 13,
    "start_time": "2023-03-13T15:48:46.307Z"
   },
   {
    "duration": 12,
    "start_time": "2023-03-13T15:49:07.876Z"
   },
   {
    "duration": 13,
    "start_time": "2023-03-13T15:49:21.035Z"
   },
   {
    "duration": 14,
    "start_time": "2023-03-13T15:49:36.545Z"
   },
   {
    "duration": 16,
    "start_time": "2023-03-13T15:51:32.963Z"
   },
   {
    "duration": 75,
    "start_time": "2023-03-13T15:51:50.654Z"
   },
   {
    "duration": 4,
    "start_time": "2023-03-13T15:52:10.391Z"
   },
   {
    "duration": 10,
    "start_time": "2023-03-13T15:52:24.685Z"
   },
   {
    "duration": 8,
    "start_time": "2023-03-13T15:52:49.516Z"
   },
   {
    "duration": 11,
    "start_time": "2023-03-13T15:53:15.455Z"
   },
   {
    "duration": 4,
    "start_time": "2023-03-13T15:53:49.638Z"
   },
   {
    "duration": 4,
    "start_time": "2023-03-13T15:53:52.315Z"
   },
   {
    "duration": 12,
    "start_time": "2023-03-13T15:53:56.515Z"
   },
   {
    "duration": 3970,
    "start_time": "2023-03-13T15:54:39.329Z"
   },
   {
    "duration": 29,
    "start_time": "2023-03-13T15:55:16.288Z"
   },
   {
    "duration": 68,
    "start_time": "2023-03-13T15:55:38.895Z"
   },
   {
    "duration": 74,
    "start_time": "2023-03-13T15:55:48.900Z"
   },
   {
    "duration": 29,
    "start_time": "2023-03-13T15:55:55.878Z"
   },
   {
    "duration": 10,
    "start_time": "2023-03-13T15:57:37.322Z"
   },
   {
    "duration": 726,
    "start_time": "2023-03-13T15:58:05.806Z"
   },
   {
    "duration": 139,
    "start_time": "2023-03-13T15:58:06.535Z"
   },
   {
    "duration": 129,
    "start_time": "2023-03-13T15:58:06.678Z"
   },
   {
    "duration": 81,
    "start_time": "2023-03-13T15:58:06.809Z"
   },
   {
    "duration": 2448,
    "start_time": "2023-03-13T15:58:06.892Z"
   },
   {
    "duration": 12,
    "start_time": "2023-03-13T15:58:09.342Z"
   },
   {
    "duration": 16,
    "start_time": "2023-03-13T15:58:09.356Z"
   },
   {
    "duration": 23,
    "start_time": "2023-03-13T15:58:09.374Z"
   },
   {
    "duration": 41,
    "start_time": "2023-03-13T15:58:09.399Z"
   },
   {
    "duration": 20,
    "start_time": "2023-03-13T15:58:09.443Z"
   },
   {
    "duration": 18,
    "start_time": "2023-03-13T15:58:09.468Z"
   },
   {
    "duration": 20,
    "start_time": "2023-03-13T15:58:09.488Z"
   },
   {
    "duration": 25,
    "start_time": "2023-03-13T15:58:09.511Z"
   },
   {
    "duration": 19,
    "start_time": "2023-03-13T15:58:09.538Z"
   },
   {
    "duration": 25,
    "start_time": "2023-03-13T15:58:09.559Z"
   },
   {
    "duration": 47,
    "start_time": "2023-03-13T15:58:09.586Z"
   },
   {
    "duration": 12,
    "start_time": "2023-03-13T15:58:09.634Z"
   },
   {
    "duration": 29,
    "start_time": "2023-03-13T15:58:09.648Z"
   },
   {
    "duration": 149,
    "start_time": "2023-03-13T15:58:09.681Z"
   },
   {
    "duration": 13,
    "start_time": "2023-03-13T15:58:09.833Z"
   },
   {
    "duration": 35,
    "start_time": "2023-03-13T15:58:09.848Z"
   },
   {
    "duration": 13,
    "start_time": "2023-03-13T15:58:09.885Z"
   },
   {
    "duration": 18,
    "start_time": "2023-03-13T15:58:09.900Z"
   },
   {
    "duration": 11,
    "start_time": "2023-03-13T15:58:09.920Z"
   },
   {
    "duration": 10,
    "start_time": "2023-03-13T15:58:09.935Z"
   },
   {
    "duration": 29,
    "start_time": "2023-03-13T15:58:09.947Z"
   },
   {
    "duration": 17,
    "start_time": "2023-03-13T15:58:09.978Z"
   },
   {
    "duration": 12,
    "start_time": "2023-03-13T15:58:10.000Z"
   },
   {
    "duration": 57,
    "start_time": "2023-03-13T15:58:10.014Z"
   },
   {
    "duration": 19,
    "start_time": "2023-03-13T15:58:10.074Z"
   },
   {
    "duration": 11,
    "start_time": "2023-03-13T15:58:10.096Z"
   },
   {
    "duration": 58,
    "start_time": "2023-03-13T15:58:10.109Z"
   },
   {
    "duration": 1355,
    "start_time": "2023-03-13T15:58:10.170Z"
   },
   {
    "duration": 1323,
    "start_time": "2023-03-13T15:58:11.526Z"
   },
   {
    "duration": 1360,
    "start_time": "2023-03-13T15:58:12.851Z"
   },
   {
    "duration": 1405,
    "start_time": "2023-03-13T15:58:14.213Z"
   },
   {
    "duration": 1332,
    "start_time": "2023-03-13T15:58:15.620Z"
   },
   {
    "duration": 1348,
    "start_time": "2023-03-13T15:58:16.954Z"
   },
   {
    "duration": 7,
    "start_time": "2023-03-13T15:58:18.304Z"
   },
   {
    "duration": 14,
    "start_time": "2023-03-13T15:58:18.313Z"
   },
   {
    "duration": 42,
    "start_time": "2023-03-13T15:58:18.329Z"
   },
   {
    "duration": 28,
    "start_time": "2023-03-13T15:58:18.376Z"
   },
   {
    "duration": 5,
    "start_time": "2023-03-13T15:58:18.406Z"
   },
   {
    "duration": 28,
    "start_time": "2023-03-13T15:58:18.413Z"
   },
   {
    "duration": 36,
    "start_time": "2023-03-13T15:58:18.443Z"
   },
   {
    "duration": 57,
    "start_time": "2023-03-13T15:58:18.481Z"
   },
   {
    "duration": 15,
    "start_time": "2023-03-13T15:58:18.540Z"
   },
   {
    "duration": 28,
    "start_time": "2023-03-13T15:58:18.557Z"
   },
   {
    "duration": 48,
    "start_time": "2023-03-13T15:58:18.587Z"
   },
   {
    "duration": 542,
    "start_time": "2023-03-13T15:58:18.636Z"
   },
   {
    "duration": 674,
    "start_time": "2023-03-13T15:58:19.181Z"
   },
   {
    "duration": 545,
    "start_time": "2023-03-13T15:58:19.856Z"
   },
   {
    "duration": 365,
    "start_time": "2023-03-13T15:58:20.403Z"
   },
   {
    "duration": 659,
    "start_time": "2023-03-13T15:58:20.770Z"
   },
   {
    "duration": 522,
    "start_time": "2023-03-13T15:58:21.431Z"
   },
   {
    "duration": 281,
    "start_time": "2023-03-13T15:58:21.955Z"
   },
   {
    "duration": 151,
    "start_time": "2023-03-13T15:58:22.238Z"
   },
   {
    "duration": 617,
    "start_time": "2023-03-13T15:58:22.391Z"
   },
   {
    "duration": 562,
    "start_time": "2023-03-13T15:58:23.009Z"
   },
   {
    "duration": 537,
    "start_time": "2023-03-13T15:58:23.573Z"
   },
   {
    "duration": 774,
    "start_time": "2023-03-13T15:58:24.113Z"
   },
   {
    "duration": 159,
    "start_time": "2023-03-13T15:58:24.890Z"
   },
   {
    "duration": 169,
    "start_time": "2023-03-13T15:58:25.051Z"
   },
   {
    "duration": 322,
    "start_time": "2023-03-13T15:58:25.223Z"
   },
   {
    "duration": 224,
    "start_time": "2023-03-13T15:58:25.547Z"
   },
   {
    "duration": 242,
    "start_time": "2023-03-13T15:58:25.773Z"
   },
   {
    "duration": 225,
    "start_time": "2023-03-13T15:58:26.017Z"
   },
   {
    "duration": 238,
    "start_time": "2023-03-13T15:58:26.244Z"
   },
   {
    "duration": 37574,
    "start_time": "2023-03-13T15:58:26.484Z"
   },
   {
    "duration": 189,
    "start_time": "2023-03-13T15:59:04.060Z"
   },
   {
    "duration": 253,
    "start_time": "2023-03-13T15:59:04.251Z"
   },
   {
    "duration": 41116,
    "start_time": "2023-03-13T15:59:04.506Z"
   },
   {
    "duration": 192,
    "start_time": "2023-03-13T15:59:45.624Z"
   },
   {
    "duration": 23,
    "start_time": "2023-03-13T15:59:45.818Z"
   },
   {
    "duration": 372,
    "start_time": "2023-03-13T15:59:45.843Z"
   },
   {
    "duration": 16,
    "start_time": "2023-03-13T16:00:01.277Z"
   },
   {
    "duration": 18,
    "start_time": "2023-03-13T16:01:24.425Z"
   },
   {
    "duration": 18,
    "start_time": "2023-03-13T16:03:45.905Z"
   },
   {
    "duration": 13,
    "start_time": "2023-03-13T16:07:14.599Z"
   },
   {
    "duration": 660,
    "start_time": "2023-03-13T16:07:45.718Z"
   },
   {
    "duration": 125,
    "start_time": "2023-03-13T16:07:46.381Z"
   },
   {
    "duration": 99,
    "start_time": "2023-03-13T16:07:46.508Z"
   },
   {
    "duration": 70,
    "start_time": "2023-03-13T16:07:46.609Z"
   },
   {
    "duration": 2308,
    "start_time": "2023-03-13T16:07:46.680Z"
   },
   {
    "duration": 12,
    "start_time": "2023-03-13T16:07:48.990Z"
   },
   {
    "duration": 11,
    "start_time": "2023-03-13T16:07:49.004Z"
   },
   {
    "duration": 8,
    "start_time": "2023-03-13T16:07:49.016Z"
   },
   {
    "duration": 46,
    "start_time": "2023-03-13T16:07:49.025Z"
   },
   {
    "duration": 22,
    "start_time": "2023-03-13T16:07:49.074Z"
   },
   {
    "duration": 9,
    "start_time": "2023-03-13T16:07:49.098Z"
   },
   {
    "duration": 47,
    "start_time": "2023-03-13T16:07:49.108Z"
   },
   {
    "duration": 31,
    "start_time": "2023-03-13T16:07:49.157Z"
   },
   {
    "duration": 20,
    "start_time": "2023-03-13T16:07:49.190Z"
   },
   {
    "duration": 20,
    "start_time": "2023-03-13T16:07:49.213Z"
   },
   {
    "duration": 59,
    "start_time": "2023-03-13T16:07:49.235Z"
   },
   {
    "duration": 11,
    "start_time": "2023-03-13T16:07:49.296Z"
   },
   {
    "duration": 19,
    "start_time": "2023-03-13T16:07:49.308Z"
   },
   {
    "duration": 125,
    "start_time": "2023-03-13T16:07:49.329Z"
   },
   {
    "duration": 28,
    "start_time": "2023-03-13T16:07:49.456Z"
   },
   {
    "duration": 24,
    "start_time": "2023-03-13T16:07:49.485Z"
   },
   {
    "duration": 10,
    "start_time": "2023-03-13T16:07:49.511Z"
   },
   {
    "duration": 20,
    "start_time": "2023-03-13T16:07:49.524Z"
   },
   {
    "duration": 21,
    "start_time": "2023-03-13T16:07:49.546Z"
   },
   {
    "duration": 9,
    "start_time": "2023-03-13T16:07:49.569Z"
   },
   {
    "duration": 21,
    "start_time": "2023-03-13T16:07:49.579Z"
   },
   {
    "duration": 12,
    "start_time": "2023-03-13T16:07:49.603Z"
   },
   {
    "duration": 9,
    "start_time": "2023-03-13T16:07:49.620Z"
   },
   {
    "duration": 60,
    "start_time": "2023-03-13T16:07:49.631Z"
   },
   {
    "duration": 37,
    "start_time": "2023-03-13T16:07:49.693Z"
   },
   {
    "duration": 13,
    "start_time": "2023-03-13T16:07:49.732Z"
   },
   {
    "duration": 54,
    "start_time": "2023-03-13T16:07:49.747Z"
   },
   {
    "duration": 1241,
    "start_time": "2023-03-13T16:07:49.803Z"
   },
   {
    "duration": 1255,
    "start_time": "2023-03-13T16:07:51.046Z"
   },
   {
    "duration": 1252,
    "start_time": "2023-03-13T16:07:52.303Z"
   },
   {
    "duration": 1322,
    "start_time": "2023-03-13T16:07:53.557Z"
   },
   {
    "duration": 1245,
    "start_time": "2023-03-13T16:07:54.881Z"
   },
   {
    "duration": 1317,
    "start_time": "2023-03-13T16:07:56.128Z"
   },
   {
    "duration": 7,
    "start_time": "2023-03-13T16:07:57.447Z"
   },
   {
    "duration": 20,
    "start_time": "2023-03-13T16:07:57.465Z"
   },
   {
    "duration": 28,
    "start_time": "2023-03-13T16:07:57.488Z"
   },
   {
    "duration": 26,
    "start_time": "2023-03-13T16:07:57.517Z"
   },
   {
    "duration": 20,
    "start_time": "2023-03-13T16:07:57.545Z"
   },
   {
    "duration": 28,
    "start_time": "2023-03-13T16:07:57.568Z"
   },
   {
    "duration": 25,
    "start_time": "2023-03-13T16:07:57.599Z"
   },
   {
    "duration": 10,
    "start_time": "2023-03-13T16:07:57.626Z"
   },
   {
    "duration": 13,
    "start_time": "2023-03-13T16:07:57.638Z"
   },
   {
    "duration": 9,
    "start_time": "2023-03-13T16:07:57.653Z"
   },
   {
    "duration": 40,
    "start_time": "2023-03-13T16:07:57.664Z"
   },
   {
    "duration": 521,
    "start_time": "2023-03-13T16:07:57.706Z"
   },
   {
    "duration": 681,
    "start_time": "2023-03-13T16:07:58.229Z"
   },
   {
    "duration": 508,
    "start_time": "2023-03-13T16:07:58.912Z"
   },
   {
    "duration": 370,
    "start_time": "2023-03-13T16:07:59.422Z"
   },
   {
    "duration": 681,
    "start_time": "2023-03-13T16:07:59.794Z"
   },
   {
    "duration": 533,
    "start_time": "2023-03-13T16:08:00.479Z"
   },
   {
    "duration": 276,
    "start_time": "2023-03-13T16:08:01.014Z"
   },
   {
    "duration": 145,
    "start_time": "2023-03-13T16:08:01.292Z"
   },
   {
    "duration": 642,
    "start_time": "2023-03-13T16:08:01.439Z"
   },
   {
    "duration": 531,
    "start_time": "2023-03-13T16:08:02.083Z"
   },
   {
    "duration": 530,
    "start_time": "2023-03-13T16:08:02.615Z"
   },
   {
    "duration": 617,
    "start_time": "2023-03-13T16:08:03.147Z"
   },
   {
    "duration": 159,
    "start_time": "2023-03-13T16:08:03.766Z"
   },
   {
    "duration": 150,
    "start_time": "2023-03-13T16:08:03.927Z"
   },
   {
    "duration": 302,
    "start_time": "2023-03-13T16:08:04.084Z"
   },
   {
    "duration": 246,
    "start_time": "2023-03-13T16:08:04.388Z"
   },
   {
    "duration": 252,
    "start_time": "2023-03-13T16:08:04.636Z"
   },
   {
    "duration": 203,
    "start_time": "2023-03-13T16:08:04.889Z"
   },
   {
    "duration": 220,
    "start_time": "2023-03-13T16:08:05.093Z"
   },
   {
    "duration": 36344,
    "start_time": "2023-03-13T16:08:05.315Z"
   },
   {
    "duration": 166,
    "start_time": "2023-03-13T16:08:41.663Z"
   },
   {
    "duration": 213,
    "start_time": "2023-03-13T16:08:41.831Z"
   },
   {
    "duration": 40077,
    "start_time": "2023-03-13T16:08:42.046Z"
   },
   {
    "duration": 178,
    "start_time": "2023-03-13T16:09:22.125Z"
   },
   {
    "duration": 20,
    "start_time": "2023-03-13T16:09:22.305Z"
   },
   {
    "duration": 344,
    "start_time": "2023-03-13T16:09:22.327Z"
   },
   {
    "duration": 13,
    "start_time": "2023-03-13T16:13:06.416Z"
   },
   {
    "duration": 19,
    "start_time": "2023-03-13T16:13:44.446Z"
   },
   {
    "duration": 784,
    "start_time": "2023-03-13T16:15:10.537Z"
   },
   {
    "duration": 129,
    "start_time": "2023-03-13T16:15:11.323Z"
   },
   {
    "duration": 114,
    "start_time": "2023-03-13T16:15:11.453Z"
   },
   {
    "duration": 54,
    "start_time": "2023-03-13T16:15:11.570Z"
   },
   {
    "duration": 2351,
    "start_time": "2023-03-13T16:15:11.626Z"
   },
   {
    "duration": 16,
    "start_time": "2023-03-13T16:15:13.981Z"
   },
   {
    "duration": 12,
    "start_time": "2023-03-13T16:15:13.999Z"
   },
   {
    "duration": 8,
    "start_time": "2023-03-13T16:15:14.012Z"
   },
   {
    "duration": 46,
    "start_time": "2023-03-13T16:15:14.021Z"
   },
   {
    "duration": 34,
    "start_time": "2023-03-13T16:15:14.071Z"
   },
   {
    "duration": 28,
    "start_time": "2023-03-13T16:15:14.107Z"
   },
   {
    "duration": 18,
    "start_time": "2023-03-13T16:15:14.137Z"
   },
   {
    "duration": 14,
    "start_time": "2023-03-13T16:15:14.158Z"
   },
   {
    "duration": 29,
    "start_time": "2023-03-13T16:15:14.175Z"
   },
   {
    "duration": 10,
    "start_time": "2023-03-13T16:15:14.206Z"
   },
   {
    "duration": 28,
    "start_time": "2023-03-13T16:15:14.218Z"
   },
   {
    "duration": 20,
    "start_time": "2023-03-13T16:15:14.248Z"
   },
   {
    "duration": 32,
    "start_time": "2023-03-13T16:15:14.271Z"
   },
   {
    "duration": 131,
    "start_time": "2023-03-13T16:15:14.305Z"
   },
   {
    "duration": 14,
    "start_time": "2023-03-13T16:15:14.438Z"
   },
   {
    "duration": 36,
    "start_time": "2023-03-13T16:15:14.453Z"
   },
   {
    "duration": 19,
    "start_time": "2023-03-13T16:15:14.492Z"
   },
   {
    "duration": 29,
    "start_time": "2023-03-13T16:15:14.513Z"
   },
   {
    "duration": 24,
    "start_time": "2023-03-13T16:15:14.544Z"
   },
   {
    "duration": 37,
    "start_time": "2023-03-13T16:15:14.571Z"
   },
   {
    "duration": 28,
    "start_time": "2023-03-13T16:15:14.610Z"
   },
   {
    "duration": 50,
    "start_time": "2023-03-13T16:15:14.640Z"
   },
   {
    "duration": 31,
    "start_time": "2023-03-13T16:15:14.696Z"
   },
   {
    "duration": 84,
    "start_time": "2023-03-13T16:15:14.729Z"
   },
   {
    "duration": 13,
    "start_time": "2023-03-13T16:15:14.815Z"
   },
   {
    "duration": 25,
    "start_time": "2023-03-13T16:15:14.830Z"
   },
   {
    "duration": 88,
    "start_time": "2023-03-13T16:15:14.858Z"
   },
   {
    "duration": 1372,
    "start_time": "2023-03-13T16:15:14.948Z"
   },
   {
    "duration": 1384,
    "start_time": "2023-03-13T16:15:16.322Z"
   },
   {
    "duration": 1351,
    "start_time": "2023-03-13T16:15:17.707Z"
   },
   {
    "duration": 1344,
    "start_time": "2023-03-13T16:15:19.059Z"
   },
   {
    "duration": 1317,
    "start_time": "2023-03-13T16:15:20.405Z"
   },
   {
    "duration": 1332,
    "start_time": "2023-03-13T16:15:21.723Z"
   },
   {
    "duration": 8,
    "start_time": "2023-03-13T16:15:23.057Z"
   },
   {
    "duration": 35,
    "start_time": "2023-03-13T16:15:23.068Z"
   },
   {
    "duration": 19,
    "start_time": "2023-03-13T16:15:23.105Z"
   },
   {
    "duration": 26,
    "start_time": "2023-03-13T16:15:23.126Z"
   },
   {
    "duration": 4,
    "start_time": "2023-03-13T16:15:23.154Z"
   },
   {
    "duration": 27,
    "start_time": "2023-03-13T16:15:23.160Z"
   },
   {
    "duration": 16,
    "start_time": "2023-03-13T16:15:23.189Z"
   },
   {
    "duration": 14,
    "start_time": "2023-03-13T16:15:23.207Z"
   },
   {
    "duration": 9,
    "start_time": "2023-03-13T16:15:23.223Z"
   },
   {
    "duration": 9,
    "start_time": "2023-03-13T16:15:23.233Z"
   },
   {
    "duration": 24,
    "start_time": "2023-03-13T16:15:23.244Z"
   },
   {
    "duration": 557,
    "start_time": "2023-03-13T16:15:23.273Z"
   },
   {
    "duration": 777,
    "start_time": "2023-03-13T16:15:23.832Z"
   },
   {
    "duration": 645,
    "start_time": "2023-03-13T16:15:24.611Z"
   },
   {
    "duration": 409,
    "start_time": "2023-03-13T16:15:25.258Z"
   },
   {
    "duration": 693,
    "start_time": "2023-03-13T16:15:25.673Z"
   },
   {
    "duration": 588,
    "start_time": "2023-03-13T16:15:26.369Z"
   },
   {
    "duration": 298,
    "start_time": "2023-03-13T16:15:26.959Z"
   },
   {
    "duration": 161,
    "start_time": "2023-03-13T16:15:27.259Z"
   },
   {
    "duration": 647,
    "start_time": "2023-03-13T16:15:27.422Z"
   },
   {
    "duration": 575,
    "start_time": "2023-03-13T16:15:28.072Z"
   },
   {
    "duration": 560,
    "start_time": "2023-03-13T16:15:28.649Z"
   },
   {
    "duration": 673,
    "start_time": "2023-03-13T16:15:29.211Z"
   },
   {
    "duration": 168,
    "start_time": "2023-03-13T16:15:29.887Z"
   },
   {
    "duration": 152,
    "start_time": "2023-03-13T16:15:30.057Z"
   },
   {
    "duration": 306,
    "start_time": "2023-03-13T16:15:30.211Z"
   },
   {
    "duration": 218,
    "start_time": "2023-03-13T16:15:30.518Z"
   },
   {
    "duration": 230,
    "start_time": "2023-03-13T16:15:30.737Z"
   },
   {
    "duration": 231,
    "start_time": "2023-03-13T16:15:30.969Z"
   },
   {
    "duration": 241,
    "start_time": "2023-03-13T16:15:31.201Z"
   },
   {
    "duration": 40081,
    "start_time": "2023-03-13T16:15:31.444Z"
   },
   {
    "duration": 199,
    "start_time": "2023-03-13T16:16:11.527Z"
   },
   {
    "duration": 226,
    "start_time": "2023-03-13T16:16:11.728Z"
   },
   {
    "duration": 46939,
    "start_time": "2023-03-13T16:16:11.956Z"
   },
   {
    "duration": 216,
    "start_time": "2023-03-13T16:16:58.898Z"
   },
   {
    "duration": 20,
    "start_time": "2023-03-13T16:16:59.115Z"
   },
   {
    "duration": 377,
    "start_time": "2023-03-13T16:16:59.137Z"
   },
   {
    "duration": 18,
    "start_time": "2023-03-13T16:17:59.847Z"
   },
   {
    "duration": 16,
    "start_time": "2023-03-13T16:18:34.526Z"
   },
   {
    "duration": 15,
    "start_time": "2023-03-13T16:18:58.979Z"
   },
   {
    "duration": 713,
    "start_time": "2023-03-13T16:19:22.181Z"
   },
   {
    "duration": 130,
    "start_time": "2023-03-13T16:19:22.896Z"
   },
   {
    "duration": 96,
    "start_time": "2023-03-13T16:19:23.028Z"
   },
   {
    "duration": 70,
    "start_time": "2023-03-13T16:19:23.126Z"
   },
   {
    "duration": 2434,
    "start_time": "2023-03-13T16:19:23.198Z"
   },
   {
    "duration": 10,
    "start_time": "2023-03-13T16:19:25.634Z"
   },
   {
    "duration": 17,
    "start_time": "2023-03-13T16:19:25.645Z"
   },
   {
    "duration": 8,
    "start_time": "2023-03-13T16:19:25.664Z"
   },
   {
    "duration": 44,
    "start_time": "2023-03-13T16:19:25.674Z"
   },
   {
    "duration": 23,
    "start_time": "2023-03-13T16:19:25.719Z"
   },
   {
    "duration": 21,
    "start_time": "2023-03-13T16:19:25.744Z"
   },
   {
    "duration": 23,
    "start_time": "2023-03-13T16:19:25.768Z"
   },
   {
    "duration": 13,
    "start_time": "2023-03-13T16:19:25.793Z"
   },
   {
    "duration": 15,
    "start_time": "2023-03-13T16:19:25.809Z"
   },
   {
    "duration": 12,
    "start_time": "2023-03-13T16:19:25.826Z"
   },
   {
    "duration": 54,
    "start_time": "2023-03-13T16:19:25.840Z"
   },
   {
    "duration": 11,
    "start_time": "2023-03-13T16:19:25.896Z"
   },
   {
    "duration": 12,
    "start_time": "2023-03-13T16:19:25.909Z"
   },
   {
    "duration": 145,
    "start_time": "2023-03-13T16:19:25.922Z"
   },
   {
    "duration": 21,
    "start_time": "2023-03-13T16:19:26.070Z"
   },
   {
    "duration": 17,
    "start_time": "2023-03-13T16:19:26.093Z"
   },
   {
    "duration": 14,
    "start_time": "2023-03-13T16:19:26.112Z"
   },
   {
    "duration": 39,
    "start_time": "2023-03-13T16:19:26.128Z"
   },
   {
    "duration": 21,
    "start_time": "2023-03-13T16:19:26.169Z"
   },
   {
    "duration": 4,
    "start_time": "2023-03-13T16:19:26.191Z"
   },
   {
    "duration": 14,
    "start_time": "2023-03-13T16:19:26.198Z"
   },
   {
    "duration": 9,
    "start_time": "2023-03-13T16:19:26.214Z"
   },
   {
    "duration": 14,
    "start_time": "2023-03-13T16:19:26.225Z"
   },
   {
    "duration": 40,
    "start_time": "2023-03-13T16:19:26.265Z"
   },
   {
    "duration": 15,
    "start_time": "2023-03-13T16:19:26.307Z"
   },
   {
    "duration": 7,
    "start_time": "2023-03-13T16:19:26.324Z"
   },
   {
    "duration": 41,
    "start_time": "2023-03-13T16:19:26.333Z"
   },
   {
    "duration": 1313,
    "start_time": "2023-03-13T16:19:26.377Z"
   },
   {
    "duration": 1300,
    "start_time": "2023-03-13T16:19:27.691Z"
   },
   {
    "duration": 1291,
    "start_time": "2023-03-13T16:19:28.993Z"
   },
   {
    "duration": 1284,
    "start_time": "2023-03-13T16:19:30.287Z"
   },
   {
    "duration": 1248,
    "start_time": "2023-03-13T16:19:31.573Z"
   },
   {
    "duration": 1275,
    "start_time": "2023-03-13T16:19:32.823Z"
   },
   {
    "duration": 7,
    "start_time": "2023-03-13T16:19:34.100Z"
   },
   {
    "duration": 39,
    "start_time": "2023-03-13T16:19:34.109Z"
   },
   {
    "duration": 57,
    "start_time": "2023-03-13T16:19:34.152Z"
   },
   {
    "duration": 43,
    "start_time": "2023-03-13T16:19:34.211Z"
   },
   {
    "duration": 34,
    "start_time": "2023-03-13T16:19:34.256Z"
   },
   {
    "duration": 38,
    "start_time": "2023-03-13T16:19:34.293Z"
   },
   {
    "duration": 13,
    "start_time": "2023-03-13T16:19:34.333Z"
   },
   {
    "duration": 25,
    "start_time": "2023-03-13T16:19:34.348Z"
   },
   {
    "duration": 38,
    "start_time": "2023-03-13T16:19:34.379Z"
   },
   {
    "duration": 6,
    "start_time": "2023-03-13T16:19:34.420Z"
   },
   {
    "duration": 52,
    "start_time": "2023-03-13T16:19:34.428Z"
   },
   {
    "duration": 596,
    "start_time": "2023-03-13T16:19:34.482Z"
   },
   {
    "duration": 713,
    "start_time": "2023-03-13T16:19:35.081Z"
   },
   {
    "duration": 542,
    "start_time": "2023-03-13T16:19:35.796Z"
   },
   {
    "duration": 383,
    "start_time": "2023-03-13T16:19:36.340Z"
   },
   {
    "duration": 673,
    "start_time": "2023-03-13T16:19:36.726Z"
   },
   {
    "duration": 537,
    "start_time": "2023-03-13T16:19:37.400Z"
   },
   {
    "duration": 301,
    "start_time": "2023-03-13T16:19:37.939Z"
   },
   {
    "duration": 152,
    "start_time": "2023-03-13T16:19:38.243Z"
   },
   {
    "duration": 645,
    "start_time": "2023-03-13T16:19:38.397Z"
   },
   {
    "duration": 557,
    "start_time": "2023-03-13T16:19:39.044Z"
   },
   {
    "duration": 552,
    "start_time": "2023-03-13T16:19:39.603Z"
   },
   {
    "duration": 660,
    "start_time": "2023-03-13T16:19:40.157Z"
   },
   {
    "duration": 162,
    "start_time": "2023-03-13T16:19:40.819Z"
   },
   {
    "duration": 144,
    "start_time": "2023-03-13T16:19:40.983Z"
   },
   {
    "duration": 294,
    "start_time": "2023-03-13T16:19:41.129Z"
   },
   {
    "duration": 220,
    "start_time": "2023-03-13T16:19:41.425Z"
   },
   {
    "duration": 234,
    "start_time": "2023-03-13T16:19:41.647Z"
   },
   {
    "duration": 223,
    "start_time": "2023-03-13T16:19:41.883Z"
   },
   {
    "duration": 230,
    "start_time": "2023-03-13T16:19:42.108Z"
   },
   {
    "duration": 38309,
    "start_time": "2023-03-13T16:19:42.340Z"
   },
   {
    "duration": 192,
    "start_time": "2023-03-13T16:20:20.650Z"
   },
   {
    "duration": 215,
    "start_time": "2023-03-13T16:20:20.844Z"
   },
   {
    "duration": 44616,
    "start_time": "2023-03-13T16:20:21.064Z"
   },
   {
    "duration": 207,
    "start_time": "2023-03-13T16:21:05.684Z"
   },
   {
    "duration": 22,
    "start_time": "2023-03-13T16:21:05.893Z"
   },
   {
    "duration": 362,
    "start_time": "2023-03-13T16:21:05.917Z"
   },
   {
    "duration": 77,
    "start_time": "2023-03-13T16:26:28.998Z"
   },
   {
    "duration": 5490,
    "start_time": "2023-03-13T16:28:34.739Z"
   },
   {
    "duration": 77,
    "start_time": "2023-03-13T16:36:58.403Z"
   },
   {
    "duration": 104,
    "start_time": "2023-03-13T16:42:50.140Z"
   },
   {
    "duration": 82,
    "start_time": "2023-03-13T16:44:14.220Z"
   },
   {
    "duration": 23,
    "start_time": "2023-03-13T16:44:29.504Z"
   },
   {
    "duration": 31,
    "start_time": "2023-03-13T16:44:35.301Z"
   },
   {
    "duration": 43,
    "start_time": "2023-03-13T16:46:38.361Z"
   },
   {
    "duration": 69,
    "start_time": "2023-03-13T16:49:37.701Z"
   },
   {
    "duration": 79,
    "start_time": "2023-03-13T16:52:59.557Z"
   },
   {
    "duration": 54,
    "start_time": "2023-03-14T11:31:35.335Z"
   },
   {
    "duration": 815,
    "start_time": "2023-03-14T11:33:07.414Z"
   },
   {
    "duration": 148,
    "start_time": "2023-03-14T11:33:08.231Z"
   },
   {
    "duration": 68,
    "start_time": "2023-03-14T11:33:08.381Z"
   },
   {
    "duration": 35,
    "start_time": "2023-03-14T11:33:08.451Z"
   },
   {
    "duration": 1748,
    "start_time": "2023-03-14T11:33:08.489Z"
   },
   {
    "duration": 9,
    "start_time": "2023-03-14T11:33:10.239Z"
   },
   {
    "duration": 8,
    "start_time": "2023-03-14T11:33:10.249Z"
   },
   {
    "duration": 4,
    "start_time": "2023-03-14T11:33:10.259Z"
   },
   {
    "duration": 27,
    "start_time": "2023-03-14T11:33:10.265Z"
   },
   {
    "duration": 752,
    "start_time": "2023-03-14T11:33:10.293Z"
   },
   {
    "duration": 0,
    "start_time": "2023-03-14T11:33:11.048Z"
   },
   {
    "duration": 0,
    "start_time": "2023-03-14T11:33:11.049Z"
   },
   {
    "duration": 0,
    "start_time": "2023-03-14T11:33:11.050Z"
   },
   {
    "duration": 0,
    "start_time": "2023-03-14T11:33:11.051Z"
   },
   {
    "duration": 0,
    "start_time": "2023-03-14T11:33:11.052Z"
   },
   {
    "duration": 0,
    "start_time": "2023-03-14T11:33:11.053Z"
   },
   {
    "duration": 0,
    "start_time": "2023-03-14T11:33:11.054Z"
   },
   {
    "duration": 0,
    "start_time": "2023-03-14T11:33:11.055Z"
   },
   {
    "duration": 0,
    "start_time": "2023-03-14T11:33:11.056Z"
   },
   {
    "duration": 0,
    "start_time": "2023-03-14T11:33:11.057Z"
   },
   {
    "duration": 0,
    "start_time": "2023-03-14T11:33:11.058Z"
   },
   {
    "duration": 0,
    "start_time": "2023-03-14T11:33:11.059Z"
   },
   {
    "duration": 0,
    "start_time": "2023-03-14T11:33:11.060Z"
   },
   {
    "duration": 0,
    "start_time": "2023-03-14T11:33:11.061Z"
   },
   {
    "duration": 0,
    "start_time": "2023-03-14T11:33:11.062Z"
   },
   {
    "duration": 0,
    "start_time": "2023-03-14T11:33:11.063Z"
   },
   {
    "duration": 0,
    "start_time": "2023-03-14T11:33:11.063Z"
   },
   {
    "duration": 0,
    "start_time": "2023-03-14T11:33:11.064Z"
   },
   {
    "duration": 0,
    "start_time": "2023-03-14T11:33:11.065Z"
   },
   {
    "duration": 0,
    "start_time": "2023-03-14T11:33:11.066Z"
   },
   {
    "duration": 0,
    "start_time": "2023-03-14T11:33:11.067Z"
   },
   {
    "duration": 0,
    "start_time": "2023-03-14T11:33:11.068Z"
   },
   {
    "duration": 0,
    "start_time": "2023-03-14T11:33:11.069Z"
   },
   {
    "duration": 0,
    "start_time": "2023-03-14T11:33:11.070Z"
   },
   {
    "duration": 0,
    "start_time": "2023-03-14T11:33:11.070Z"
   },
   {
    "duration": 0,
    "start_time": "2023-03-14T11:33:11.071Z"
   },
   {
    "duration": 1,
    "start_time": "2023-03-14T11:33:11.072Z"
   },
   {
    "duration": 0,
    "start_time": "2023-03-14T11:33:11.073Z"
   },
   {
    "duration": 0,
    "start_time": "2023-03-14T11:33:11.074Z"
   },
   {
    "duration": 0,
    "start_time": "2023-03-14T11:33:11.075Z"
   },
   {
    "duration": 0,
    "start_time": "2023-03-14T11:33:11.076Z"
   },
   {
    "duration": 0,
    "start_time": "2023-03-14T11:33:11.077Z"
   },
   {
    "duration": 0,
    "start_time": "2023-03-14T11:33:11.077Z"
   },
   {
    "duration": 0,
    "start_time": "2023-03-14T11:33:11.078Z"
   },
   {
    "duration": 0,
    "start_time": "2023-03-14T11:33:11.079Z"
   },
   {
    "duration": 0,
    "start_time": "2023-03-14T11:33:11.080Z"
   },
   {
    "duration": 0,
    "start_time": "2023-03-14T11:33:11.081Z"
   },
   {
    "duration": 0,
    "start_time": "2023-03-14T11:33:11.082Z"
   },
   {
    "duration": 0,
    "start_time": "2023-03-14T11:33:11.083Z"
   },
   {
    "duration": 0,
    "start_time": "2023-03-14T11:33:11.084Z"
   },
   {
    "duration": 0,
    "start_time": "2023-03-14T11:33:11.085Z"
   },
   {
    "duration": 0,
    "start_time": "2023-03-14T11:33:11.086Z"
   },
   {
    "duration": 0,
    "start_time": "2023-03-14T11:33:11.086Z"
   },
   {
    "duration": 0,
    "start_time": "2023-03-14T11:33:11.088Z"
   },
   {
    "duration": 0,
    "start_time": "2023-03-14T11:33:11.088Z"
   },
   {
    "duration": 0,
    "start_time": "2023-03-14T11:33:11.089Z"
   },
   {
    "duration": 0,
    "start_time": "2023-03-14T11:33:11.090Z"
   },
   {
    "duration": 0,
    "start_time": "2023-03-14T11:33:11.091Z"
   },
   {
    "duration": 0,
    "start_time": "2023-03-14T11:33:11.092Z"
   },
   {
    "duration": 0,
    "start_time": "2023-03-14T11:33:11.093Z"
   },
   {
    "duration": 0,
    "start_time": "2023-03-14T11:33:11.093Z"
   },
   {
    "duration": 0,
    "start_time": "2023-03-14T11:33:11.094Z"
   },
   {
    "duration": 0,
    "start_time": "2023-03-14T11:33:11.095Z"
   },
   {
    "duration": 0,
    "start_time": "2023-03-14T11:33:11.155Z"
   },
   {
    "duration": 0,
    "start_time": "2023-03-14T11:33:11.156Z"
   },
   {
    "duration": 0,
    "start_time": "2023-03-14T11:33:11.157Z"
   },
   {
    "duration": 0,
    "start_time": "2023-03-14T11:33:11.158Z"
   },
   {
    "duration": 0,
    "start_time": "2023-03-14T11:33:11.159Z"
   },
   {
    "duration": 0,
    "start_time": "2023-03-14T11:33:11.160Z"
   },
   {
    "duration": 0,
    "start_time": "2023-03-14T11:33:11.161Z"
   },
   {
    "duration": 0,
    "start_time": "2023-03-14T11:33:11.162Z"
   },
   {
    "duration": 0,
    "start_time": "2023-03-14T11:33:11.162Z"
   },
   {
    "duration": 0,
    "start_time": "2023-03-14T11:33:11.163Z"
   },
   {
    "duration": 4,
    "start_time": "2023-03-14T11:34:02.236Z"
   },
   {
    "duration": 8,
    "start_time": "2023-03-14T11:34:36.950Z"
   },
   {
    "duration": 21,
    "start_time": "2023-03-14T11:34:48.247Z"
   },
   {
    "duration": 12,
    "start_time": "2023-03-14T11:36:33.877Z"
   },
   {
    "duration": 18,
    "start_time": "2023-03-14T11:37:53.609Z"
   },
   {
    "duration": 691,
    "start_time": "2023-03-14T11:40:10.936Z"
   },
   {
    "duration": 106,
    "start_time": "2023-03-14T11:40:11.629Z"
   },
   {
    "duration": 82,
    "start_time": "2023-03-14T11:40:11.736Z"
   },
   {
    "duration": 48,
    "start_time": "2023-03-14T11:40:11.821Z"
   },
   {
    "duration": 1810,
    "start_time": "2023-03-14T11:40:11.871Z"
   },
   {
    "duration": 10,
    "start_time": "2023-03-14T11:40:13.684Z"
   },
   {
    "duration": 9,
    "start_time": "2023-03-14T11:40:13.696Z"
   },
   {
    "duration": 6,
    "start_time": "2023-03-14T11:40:13.706Z"
   },
   {
    "duration": 35,
    "start_time": "2023-03-14T11:40:13.713Z"
   },
   {
    "duration": 23,
    "start_time": "2023-03-14T11:40:13.751Z"
   },
   {
    "duration": 9,
    "start_time": "2023-03-14T11:40:13.776Z"
   },
   {
    "duration": 9,
    "start_time": "2023-03-14T11:40:13.787Z"
   },
   {
    "duration": 10,
    "start_time": "2023-03-14T11:40:13.798Z"
   },
   {
    "duration": 13,
    "start_time": "2023-03-14T11:40:13.810Z"
   },
   {
    "duration": 27,
    "start_time": "2023-03-14T11:40:13.856Z"
   },
   {
    "duration": 13,
    "start_time": "2023-03-14T11:40:13.885Z"
   },
   {
    "duration": 11,
    "start_time": "2023-03-14T11:40:13.899Z"
   },
   {
    "duration": 143,
    "start_time": "2023-03-14T11:40:13.912Z"
   },
   {
    "duration": 17,
    "start_time": "2023-03-14T11:40:14.057Z"
   },
   {
    "duration": 15,
    "start_time": "2023-03-14T11:40:14.077Z"
   },
   {
    "duration": 9,
    "start_time": "2023-03-14T11:40:14.093Z"
   },
   {
    "duration": 18,
    "start_time": "2023-03-14T11:40:14.104Z"
   },
   {
    "duration": 4,
    "start_time": "2023-03-14T11:40:14.155Z"
   },
   {
    "duration": 17,
    "start_time": "2023-03-14T11:40:14.160Z"
   },
   {
    "duration": 15,
    "start_time": "2023-03-14T11:40:14.178Z"
   },
   {
    "duration": 14,
    "start_time": "2023-03-14T11:40:14.195Z"
   },
   {
    "duration": 65,
    "start_time": "2023-03-14T11:40:14.211Z"
   },
   {
    "duration": 8,
    "start_time": "2023-03-14T11:40:14.282Z"
   },
   {
    "duration": 8,
    "start_time": "2023-03-14T11:40:14.291Z"
   },
   {
    "duration": 27,
    "start_time": "2023-03-14T11:40:14.301Z"
   },
   {
    "duration": 1020,
    "start_time": "2023-03-14T11:40:14.330Z"
   },
   {
    "duration": 1044,
    "start_time": "2023-03-14T11:40:15.351Z"
   },
   {
    "duration": 1073,
    "start_time": "2023-03-14T11:40:16.398Z"
   },
   {
    "duration": 997,
    "start_time": "2023-03-14T11:40:17.473Z"
   },
   {
    "duration": 962,
    "start_time": "2023-03-14T11:40:18.471Z"
   },
   {
    "duration": 965,
    "start_time": "2023-03-14T11:40:19.434Z"
   },
   {
    "duration": 6,
    "start_time": "2023-03-14T11:40:20.400Z"
   },
   {
    "duration": 16,
    "start_time": "2023-03-14T11:40:20.407Z"
   },
   {
    "duration": 14,
    "start_time": "2023-03-14T11:40:20.424Z"
   },
   {
    "duration": 108,
    "start_time": "2023-03-14T11:40:20.439Z"
   },
   {
    "duration": 0,
    "start_time": "2023-03-14T11:40:20.555Z"
   },
   {
    "duration": 0,
    "start_time": "2023-03-14T11:40:20.556Z"
   },
   {
    "duration": 0,
    "start_time": "2023-03-14T11:40:20.557Z"
   },
   {
    "duration": 0,
    "start_time": "2023-03-14T11:40:20.559Z"
   },
   {
    "duration": 0,
    "start_time": "2023-03-14T11:40:20.560Z"
   },
   {
    "duration": 0,
    "start_time": "2023-03-14T11:40:20.561Z"
   },
   {
    "duration": 0,
    "start_time": "2023-03-14T11:40:20.562Z"
   },
   {
    "duration": 0,
    "start_time": "2023-03-14T11:40:20.563Z"
   },
   {
    "duration": 0,
    "start_time": "2023-03-14T11:40:20.564Z"
   },
   {
    "duration": 0,
    "start_time": "2023-03-14T11:40:20.565Z"
   },
   {
    "duration": 0,
    "start_time": "2023-03-14T11:40:20.566Z"
   },
   {
    "duration": 0,
    "start_time": "2023-03-14T11:40:20.567Z"
   },
   {
    "duration": 0,
    "start_time": "2023-03-14T11:40:20.568Z"
   },
   {
    "duration": 0,
    "start_time": "2023-03-14T11:40:20.569Z"
   },
   {
    "duration": 0,
    "start_time": "2023-03-14T11:40:20.570Z"
   },
   {
    "duration": 0,
    "start_time": "2023-03-14T11:40:20.571Z"
   },
   {
    "duration": 0,
    "start_time": "2023-03-14T11:40:20.572Z"
   },
   {
    "duration": 0,
    "start_time": "2023-03-14T11:40:20.574Z"
   },
   {
    "duration": 0,
    "start_time": "2023-03-14T11:40:20.574Z"
   },
   {
    "duration": 0,
    "start_time": "2023-03-14T11:40:20.576Z"
   },
   {
    "duration": 0,
    "start_time": "2023-03-14T11:40:20.577Z"
   },
   {
    "duration": 0,
    "start_time": "2023-03-14T11:40:20.578Z"
   },
   {
    "duration": 0,
    "start_time": "2023-03-14T11:40:20.579Z"
   },
   {
    "duration": 0,
    "start_time": "2023-03-14T11:40:20.579Z"
   },
   {
    "duration": 0,
    "start_time": "2023-03-14T11:40:20.580Z"
   },
   {
    "duration": 0,
    "start_time": "2023-03-14T11:40:20.581Z"
   },
   {
    "duration": 0,
    "start_time": "2023-03-14T11:40:20.582Z"
   },
   {
    "duration": 0,
    "start_time": "2023-03-14T11:40:20.583Z"
   },
   {
    "duration": 0,
    "start_time": "2023-03-14T11:40:20.583Z"
   },
   {
    "duration": 0,
    "start_time": "2023-03-14T11:40:20.585Z"
   },
   {
    "duration": 0,
    "start_time": "2023-03-14T11:40:20.586Z"
   },
   {
    "duration": 0,
    "start_time": "2023-03-14T11:40:20.587Z"
   },
   {
    "duration": 0,
    "start_time": "2023-03-14T11:40:20.588Z"
   },
   {
    "duration": 9,
    "start_time": "2023-03-14T11:51:09.937Z"
   },
   {
    "duration": 79,
    "start_time": "2023-03-14T11:52:01.311Z"
   },
   {
    "duration": 20,
    "start_time": "2023-03-14T11:52:48.974Z"
   },
   {
    "duration": 20,
    "start_time": "2023-03-14T11:54:44.523Z"
   },
   {
    "duration": 20,
    "start_time": "2023-03-14T11:55:38.763Z"
   },
   {
    "duration": 20,
    "start_time": "2023-03-14T11:55:40.169Z"
   },
   {
    "duration": 18,
    "start_time": "2023-03-14T11:55:50.923Z"
   },
   {
    "duration": 25,
    "start_time": "2023-03-14T11:58:56.014Z"
   },
   {
    "duration": 21,
    "start_time": "2023-03-14T11:59:45.585Z"
   },
   {
    "duration": 21,
    "start_time": "2023-03-14T11:59:51.514Z"
   },
   {
    "duration": 55,
    "start_time": "2023-03-14T12:04:07.183Z"
   },
   {
    "duration": 55,
    "start_time": "2023-03-14T12:05:44.234Z"
   },
   {
    "duration": 24,
    "start_time": "2023-03-14T12:05:48.165Z"
   },
   {
    "duration": 614,
    "start_time": "2023-03-14T12:42:20.271Z"
   },
   {
    "duration": 102,
    "start_time": "2023-03-14T12:42:20.888Z"
   },
   {
    "duration": 76,
    "start_time": "2023-03-14T12:42:20.992Z"
   },
   {
    "duration": 34,
    "start_time": "2023-03-14T12:42:21.069Z"
   },
   {
    "duration": 1799,
    "start_time": "2023-03-14T12:42:21.106Z"
   },
   {
    "duration": 9,
    "start_time": "2023-03-14T12:42:22.907Z"
   },
   {
    "duration": 18,
    "start_time": "2023-03-14T12:42:22.917Z"
   },
   {
    "duration": 8,
    "start_time": "2023-03-14T12:42:22.936Z"
   },
   {
    "duration": 62,
    "start_time": "2023-03-14T12:42:22.945Z"
   },
   {
    "duration": 3,
    "start_time": "2023-03-14T12:42:23.008Z"
   },
   {
    "duration": 26,
    "start_time": "2023-03-14T12:42:23.012Z"
   },
   {
    "duration": 14,
    "start_time": "2023-03-14T12:42:23.039Z"
   },
   {
    "duration": 16,
    "start_time": "2023-03-14T12:42:23.055Z"
   },
   {
    "duration": 8,
    "start_time": "2023-03-14T12:42:23.075Z"
   },
   {
    "duration": 24,
    "start_time": "2023-03-14T12:42:23.085Z"
   },
   {
    "duration": 9,
    "start_time": "2023-03-14T12:42:23.111Z"
   },
   {
    "duration": 8,
    "start_time": "2023-03-14T12:42:23.121Z"
   },
   {
    "duration": 114,
    "start_time": "2023-03-14T12:42:23.130Z"
   },
   {
    "duration": 19,
    "start_time": "2023-03-14T12:42:23.246Z"
   },
   {
    "duration": 13,
    "start_time": "2023-03-14T12:42:23.267Z"
   },
   {
    "duration": 8,
    "start_time": "2023-03-14T12:42:23.281Z"
   },
   {
    "duration": 14,
    "start_time": "2023-03-14T12:42:23.290Z"
   },
   {
    "duration": 10,
    "start_time": "2023-03-14T12:42:23.305Z"
   },
   {
    "duration": 9,
    "start_time": "2023-03-14T12:42:23.316Z"
   },
   {
    "duration": 33,
    "start_time": "2023-03-14T12:42:23.326Z"
   },
   {
    "duration": 15,
    "start_time": "2023-03-14T12:42:23.360Z"
   },
   {
    "duration": 32,
    "start_time": "2023-03-14T12:42:23.377Z"
   },
   {
    "duration": 6,
    "start_time": "2023-03-14T12:42:23.410Z"
   },
   {
    "duration": 9,
    "start_time": "2023-03-14T12:42:23.418Z"
   },
   {
    "duration": 30,
    "start_time": "2023-03-14T12:42:23.428Z"
   },
   {
    "duration": 980,
    "start_time": "2023-03-14T12:42:23.460Z"
   },
   {
    "duration": 1001,
    "start_time": "2023-03-14T12:42:24.442Z"
   },
   {
    "duration": 1046,
    "start_time": "2023-03-14T12:42:25.445Z"
   },
   {
    "duration": 980,
    "start_time": "2023-03-14T12:42:26.492Z"
   },
   {
    "duration": 1016,
    "start_time": "2023-03-14T12:42:27.474Z"
   },
   {
    "duration": 932,
    "start_time": "2023-03-14T12:42:28.491Z"
   },
   {
    "duration": 5,
    "start_time": "2023-03-14T12:42:29.425Z"
   },
   {
    "duration": 23,
    "start_time": "2023-03-14T12:42:29.432Z"
   },
   {
    "duration": 13,
    "start_time": "2023-03-14T12:42:29.456Z"
   },
   {
    "duration": 101,
    "start_time": "2023-03-14T12:42:29.470Z"
   },
   {
    "duration": 0,
    "start_time": "2023-03-14T12:42:29.573Z"
   },
   {
    "duration": 0,
    "start_time": "2023-03-14T12:42:29.574Z"
   },
   {
    "duration": 0,
    "start_time": "2023-03-14T12:42:29.575Z"
   },
   {
    "duration": 0,
    "start_time": "2023-03-14T12:42:29.576Z"
   },
   {
    "duration": 0,
    "start_time": "2023-03-14T12:42:29.577Z"
   },
   {
    "duration": 0,
    "start_time": "2023-03-14T12:42:29.578Z"
   },
   {
    "duration": 0,
    "start_time": "2023-03-14T12:42:29.579Z"
   },
   {
    "duration": 0,
    "start_time": "2023-03-14T12:42:29.580Z"
   },
   {
    "duration": 0,
    "start_time": "2023-03-14T12:42:29.581Z"
   },
   {
    "duration": 0,
    "start_time": "2023-03-14T12:42:29.582Z"
   },
   {
    "duration": 0,
    "start_time": "2023-03-14T12:42:29.582Z"
   },
   {
    "duration": 0,
    "start_time": "2023-03-14T12:42:29.583Z"
   },
   {
    "duration": 0,
    "start_time": "2023-03-14T12:42:29.584Z"
   },
   {
    "duration": 0,
    "start_time": "2023-03-14T12:42:29.585Z"
   },
   {
    "duration": 0,
    "start_time": "2023-03-14T12:42:29.587Z"
   },
   {
    "duration": 0,
    "start_time": "2023-03-14T12:42:29.588Z"
   },
   {
    "duration": 0,
    "start_time": "2023-03-14T12:42:29.588Z"
   },
   {
    "duration": 0,
    "start_time": "2023-03-14T12:42:29.589Z"
   },
   {
    "duration": 0,
    "start_time": "2023-03-14T12:42:29.590Z"
   },
   {
    "duration": 0,
    "start_time": "2023-03-14T12:42:29.591Z"
   },
   {
    "duration": 0,
    "start_time": "2023-03-14T12:42:29.592Z"
   },
   {
    "duration": 0,
    "start_time": "2023-03-14T12:42:29.594Z"
   },
   {
    "duration": 0,
    "start_time": "2023-03-14T12:42:29.594Z"
   },
   {
    "duration": 0,
    "start_time": "2023-03-14T12:42:29.595Z"
   },
   {
    "duration": 0,
    "start_time": "2023-03-14T12:42:29.596Z"
   },
   {
    "duration": 1,
    "start_time": "2023-03-14T12:42:29.596Z"
   },
   {
    "duration": 0,
    "start_time": "2023-03-14T12:42:29.597Z"
   },
   {
    "duration": 0,
    "start_time": "2023-03-14T12:42:29.598Z"
   },
   {
    "duration": 0,
    "start_time": "2023-03-14T12:42:29.599Z"
   },
   {
    "duration": 0,
    "start_time": "2023-03-14T12:42:29.600Z"
   },
   {
    "duration": 0,
    "start_time": "2023-03-14T12:42:29.601Z"
   },
   {
    "duration": 0,
    "start_time": "2023-03-14T12:42:29.602Z"
   },
   {
    "duration": 0,
    "start_time": "2023-03-14T12:42:29.603Z"
   },
   {
    "duration": 36,
    "start_time": "2023-03-14T12:43:00.630Z"
   },
   {
    "duration": 15,
    "start_time": "2023-03-14T12:52:38.819Z"
   },
   {
    "duration": 24,
    "start_time": "2023-03-14T12:53:41.200Z"
   },
   {
    "duration": 354,
    "start_time": "2023-03-14T12:54:01.015Z"
   },
   {
    "duration": 24,
    "start_time": "2023-03-14T12:54:11.595Z"
   },
   {
    "duration": 28,
    "start_time": "2023-03-14T12:55:39.895Z"
   },
   {
    "duration": 29,
    "start_time": "2023-03-14T12:56:34.124Z"
   },
   {
    "duration": 8,
    "start_time": "2023-03-14T12:57:56.081Z"
   },
   {
    "duration": 13,
    "start_time": "2023-03-14T12:58:27.572Z"
   },
   {
    "duration": 29,
    "start_time": "2023-03-14T12:59:18.260Z"
   },
   {
    "duration": 34,
    "start_time": "2023-03-14T13:02:09.786Z"
   },
   {
    "duration": 35,
    "start_time": "2023-03-14T13:02:42.631Z"
   },
   {
    "duration": 4,
    "start_time": "2023-03-14T13:11:48.542Z"
   },
   {
    "duration": 36,
    "start_time": "2023-03-14T13:12:14.841Z"
   },
   {
    "duration": 42,
    "start_time": "2023-03-14T13:12:51.207Z"
   },
   {
    "duration": 44,
    "start_time": "2023-03-14T13:13:33.596Z"
   },
   {
    "duration": 11,
    "start_time": "2023-03-14T13:21:17.641Z"
   },
   {
    "duration": 9,
    "start_time": "2023-03-14T13:21:52.602Z"
   },
   {
    "duration": 10,
    "start_time": "2023-03-14T13:22:23.201Z"
   },
   {
    "duration": 13,
    "start_time": "2023-03-14T13:22:55.401Z"
   },
   {
    "duration": 9,
    "start_time": "2023-03-14T13:23:33.008Z"
   },
   {
    "duration": 11,
    "start_time": "2023-03-14T13:23:34.094Z"
   },
   {
    "duration": 10,
    "start_time": "2023-03-14T13:23:35.050Z"
   },
   {
    "duration": 11,
    "start_time": "2023-03-14T13:23:54.163Z"
   },
   {
    "duration": 43,
    "start_time": "2023-03-14T13:24:58.755Z"
   },
   {
    "duration": 6,
    "start_time": "2023-03-14T13:25:07.245Z"
   },
   {
    "duration": 5,
    "start_time": "2023-03-14T13:25:52.956Z"
   },
   {
    "duration": 51,
    "start_time": "2023-03-14T13:27:35.460Z"
   },
   {
    "duration": 52,
    "start_time": "2023-03-14T13:28:48.710Z"
   },
   {
    "duration": 60,
    "start_time": "2023-03-14T13:29:14.012Z"
   },
   {
    "duration": 27,
    "start_time": "2023-03-14T13:30:28.075Z"
   },
   {
    "duration": 16,
    "start_time": "2023-03-14T13:32:48.513Z"
   },
   {
    "duration": 18,
    "start_time": "2023-03-14T13:32:51.893Z"
   },
   {
    "duration": 18,
    "start_time": "2023-03-14T13:34:16.472Z"
   },
   {
    "duration": 18,
    "start_time": "2023-03-14T13:34:19.108Z"
   },
   {
    "duration": 17,
    "start_time": "2023-03-14T13:34:20.613Z"
   },
   {
    "duration": 19,
    "start_time": "2023-03-14T13:34:21.816Z"
   },
   {
    "duration": 19,
    "start_time": "2023-03-14T13:34:22.821Z"
   },
   {
    "duration": 24,
    "start_time": "2023-03-14T13:34:25.241Z"
   },
   {
    "duration": 640,
    "start_time": "2023-03-14T13:34:37.521Z"
   },
   {
    "duration": 136,
    "start_time": "2023-03-14T13:34:38.164Z"
   },
   {
    "duration": 89,
    "start_time": "2023-03-14T13:34:38.302Z"
   },
   {
    "duration": 36,
    "start_time": "2023-03-14T13:34:38.392Z"
   },
   {
    "duration": 1811,
    "start_time": "2023-03-14T13:34:38.430Z"
   },
   {
    "duration": 13,
    "start_time": "2023-03-14T13:34:40.243Z"
   },
   {
    "duration": 16,
    "start_time": "2023-03-14T13:34:40.258Z"
   },
   {
    "duration": 6,
    "start_time": "2023-03-14T13:34:40.276Z"
   },
   {
    "duration": 72,
    "start_time": "2023-03-14T13:34:40.284Z"
   },
   {
    "duration": 22,
    "start_time": "2023-03-14T13:34:40.358Z"
   },
   {
    "duration": 7,
    "start_time": "2023-03-14T13:34:40.382Z"
   },
   {
    "duration": 8,
    "start_time": "2023-03-14T13:34:40.390Z"
   },
   {
    "duration": 7,
    "start_time": "2023-03-14T13:34:40.400Z"
   },
   {
    "duration": 8,
    "start_time": "2023-03-14T13:34:40.409Z"
   },
   {
    "duration": 23,
    "start_time": "2023-03-14T13:34:40.455Z"
   },
   {
    "duration": 8,
    "start_time": "2023-03-14T13:34:40.479Z"
   },
   {
    "duration": 8,
    "start_time": "2023-03-14T13:34:40.488Z"
   },
   {
    "duration": 122,
    "start_time": "2023-03-14T13:34:40.497Z"
   },
   {
    "duration": 12,
    "start_time": "2023-03-14T13:34:40.620Z"
   },
   {
    "duration": 28,
    "start_time": "2023-03-14T13:34:40.634Z"
   },
   {
    "duration": 10,
    "start_time": "2023-03-14T13:34:40.664Z"
   },
   {
    "duration": 13,
    "start_time": "2023-03-14T13:34:40.676Z"
   },
   {
    "duration": 3,
    "start_time": "2023-03-14T13:34:40.691Z"
   },
   {
    "duration": 10,
    "start_time": "2023-03-14T13:34:40.695Z"
   },
   {
    "duration": 7,
    "start_time": "2023-03-14T13:34:40.706Z"
   },
   {
    "duration": 44,
    "start_time": "2023-03-14T13:34:40.714Z"
   },
   {
    "duration": 36,
    "start_time": "2023-03-14T13:34:40.760Z"
   },
   {
    "duration": 8,
    "start_time": "2023-03-14T13:34:40.797Z"
   },
   {
    "duration": 3,
    "start_time": "2023-03-14T13:34:40.807Z"
   },
   {
    "duration": 54,
    "start_time": "2023-03-14T13:34:40.812Z"
   },
   {
    "duration": 1059,
    "start_time": "2023-03-14T13:34:40.868Z"
   },
   {
    "duration": 1022,
    "start_time": "2023-03-14T13:34:41.928Z"
   },
   {
    "duration": 1033,
    "start_time": "2023-03-14T13:34:42.951Z"
   },
   {
    "duration": 1002,
    "start_time": "2023-03-14T13:34:43.985Z"
   },
   {
    "duration": 1054,
    "start_time": "2023-03-14T13:34:44.988Z"
   },
   {
    "duration": 1007,
    "start_time": "2023-03-14T13:34:46.043Z"
   },
   {
    "duration": 6,
    "start_time": "2023-03-14T13:34:47.055Z"
   },
   {
    "duration": 10,
    "start_time": "2023-03-14T13:34:47.063Z"
   },
   {
    "duration": 14,
    "start_time": "2023-03-14T13:34:47.074Z"
   },
   {
    "duration": 138,
    "start_time": "2023-03-14T13:34:47.090Z"
   },
   {
    "duration": 0,
    "start_time": "2023-03-14T13:34:47.231Z"
   },
   {
    "duration": 0,
    "start_time": "2023-03-14T13:34:47.232Z"
   },
   {
    "duration": 0,
    "start_time": "2023-03-14T13:34:47.233Z"
   },
   {
    "duration": 0,
    "start_time": "2023-03-14T13:34:47.234Z"
   },
   {
    "duration": 0,
    "start_time": "2023-03-14T13:34:47.235Z"
   },
   {
    "duration": 0,
    "start_time": "2023-03-14T13:34:47.236Z"
   },
   {
    "duration": 0,
    "start_time": "2023-03-14T13:34:47.255Z"
   },
   {
    "duration": 0,
    "start_time": "2023-03-14T13:34:47.256Z"
   },
   {
    "duration": 0,
    "start_time": "2023-03-14T13:34:47.257Z"
   },
   {
    "duration": 0,
    "start_time": "2023-03-14T13:34:47.259Z"
   },
   {
    "duration": 0,
    "start_time": "2023-03-14T13:34:47.261Z"
   },
   {
    "duration": 0,
    "start_time": "2023-03-14T13:34:47.262Z"
   },
   {
    "duration": 0,
    "start_time": "2023-03-14T13:34:47.263Z"
   },
   {
    "duration": 0,
    "start_time": "2023-03-14T13:34:47.264Z"
   },
   {
    "duration": 0,
    "start_time": "2023-03-14T13:34:47.265Z"
   },
   {
    "duration": 0,
    "start_time": "2023-03-14T13:34:47.266Z"
   },
   {
    "duration": 0,
    "start_time": "2023-03-14T13:34:47.268Z"
   },
   {
    "duration": 0,
    "start_time": "2023-03-14T13:34:47.269Z"
   },
   {
    "duration": 0,
    "start_time": "2023-03-14T13:34:47.270Z"
   },
   {
    "duration": 0,
    "start_time": "2023-03-14T13:34:47.271Z"
   },
   {
    "duration": 0,
    "start_time": "2023-03-14T13:34:47.272Z"
   },
   {
    "duration": 0,
    "start_time": "2023-03-14T13:34:47.273Z"
   },
   {
    "duration": 0,
    "start_time": "2023-03-14T13:34:47.275Z"
   },
   {
    "duration": 0,
    "start_time": "2023-03-14T13:34:47.276Z"
   },
   {
    "duration": 0,
    "start_time": "2023-03-14T13:34:47.277Z"
   },
   {
    "duration": 0,
    "start_time": "2023-03-14T13:34:47.279Z"
   },
   {
    "duration": 0,
    "start_time": "2023-03-14T13:34:47.281Z"
   },
   {
    "duration": 0,
    "start_time": "2023-03-14T13:34:47.282Z"
   },
   {
    "duration": 0,
    "start_time": "2023-03-14T13:34:47.284Z"
   },
   {
    "duration": 0,
    "start_time": "2023-03-14T13:34:47.285Z"
   },
   {
    "duration": 0,
    "start_time": "2023-03-14T13:34:47.286Z"
   },
   {
    "duration": 0,
    "start_time": "2023-03-14T13:34:47.287Z"
   },
   {
    "duration": 0,
    "start_time": "2023-03-14T13:34:47.288Z"
   },
   {
    "duration": 19,
    "start_time": "2023-03-14T13:35:26.334Z"
   },
   {
    "duration": 20,
    "start_time": "2023-03-14T13:35:27.607Z"
   },
   {
    "duration": 19,
    "start_time": "2023-03-14T13:35:28.775Z"
   },
   {
    "duration": 20,
    "start_time": "2023-03-14T13:35:30.716Z"
   },
   {
    "duration": 18,
    "start_time": "2023-03-14T13:35:31.750Z"
   },
   {
    "duration": 18,
    "start_time": "2023-03-14T13:35:32.653Z"
   },
   {
    "duration": 18,
    "start_time": "2023-03-14T13:35:33.596Z"
   },
   {
    "duration": 620,
    "start_time": "2023-03-14T13:36:17.315Z"
   },
   {
    "duration": 99,
    "start_time": "2023-03-14T13:36:19.051Z"
   },
   {
    "duration": 69,
    "start_time": "2023-03-14T13:36:23.121Z"
   },
   {
    "duration": 43,
    "start_time": "2023-03-14T13:36:26.931Z"
   },
   {
    "duration": 1780,
    "start_time": "2023-03-14T13:36:30.421Z"
   },
   {
    "duration": 10,
    "start_time": "2023-03-14T13:36:35.940Z"
   },
   {
    "duration": 10,
    "start_time": "2023-03-14T13:36:38.615Z"
   },
   {
    "duration": 5,
    "start_time": "2023-03-14T13:36:41.321Z"
   },
   {
    "duration": 54,
    "start_time": "2023-03-14T13:36:47.955Z"
   },
   {
    "duration": 22,
    "start_time": "2023-03-14T13:37:13.608Z"
   },
   {
    "duration": 17,
    "start_time": "2023-03-14T13:37:44.633Z"
   },
   {
    "duration": 18,
    "start_time": "2023-03-14T13:37:47.143Z"
   },
   {
    "duration": 16,
    "start_time": "2023-03-14T13:38:19.236Z"
   },
   {
    "duration": 18,
    "start_time": "2023-03-14T13:38:26.055Z"
   },
   {
    "duration": 46,
    "start_time": "2023-03-14T13:38:42.922Z"
   },
   {
    "duration": 18,
    "start_time": "2023-03-14T13:38:57.743Z"
   },
   {
    "duration": 17,
    "start_time": "2023-03-14T13:41:05.231Z"
   },
   {
    "duration": 16,
    "start_time": "2023-03-14T13:41:15.275Z"
   },
   {
    "duration": 17,
    "start_time": "2023-03-14T13:41:16.312Z"
   },
   {
    "duration": 19,
    "start_time": "2023-03-14T13:41:17.309Z"
   },
   {
    "duration": 17,
    "start_time": "2023-03-14T13:41:18.651Z"
   },
   {
    "duration": 17,
    "start_time": "2023-03-14T13:41:19.556Z"
   },
   {
    "duration": 17,
    "start_time": "2023-03-14T13:41:42.431Z"
   },
   {
    "duration": 48,
    "start_time": "2023-03-14T13:43:02.747Z"
   },
   {
    "duration": 48,
    "start_time": "2023-03-14T13:43:27.110Z"
   },
   {
    "duration": 18,
    "start_time": "2023-03-14T13:43:51.246Z"
   },
   {
    "duration": 21,
    "start_time": "2023-03-14T13:44:36.602Z"
   },
   {
    "duration": 16,
    "start_time": "2023-03-14T13:44:38.510Z"
   },
   {
    "duration": 15,
    "start_time": "2023-03-14T13:47:33.612Z"
   },
   {
    "duration": 14,
    "start_time": "2023-03-14T13:47:36.274Z"
   },
   {
    "duration": 16,
    "start_time": "2023-03-14T13:47:37.273Z"
   },
   {
    "duration": 14,
    "start_time": "2023-03-14T13:47:38.071Z"
   },
   {
    "duration": 15,
    "start_time": "2023-03-14T13:47:38.861Z"
   },
   {
    "duration": 15,
    "start_time": "2023-03-14T13:47:39.933Z"
   },
   {
    "duration": 16,
    "start_time": "2023-03-14T13:48:57.235Z"
   },
   {
    "duration": 88,
    "start_time": "2023-03-14T13:49:30.848Z"
   },
   {
    "duration": 16,
    "start_time": "2023-03-14T13:49:59.139Z"
   },
   {
    "duration": 16,
    "start_time": "2023-03-14T13:50:00.672Z"
   },
   {
    "duration": 16,
    "start_time": "2023-03-14T13:50:01.911Z"
   },
   {
    "duration": 643,
    "start_time": "2023-03-14T13:50:31.420Z"
   },
   {
    "duration": 131,
    "start_time": "2023-03-14T13:50:33.635Z"
   },
   {
    "duration": 70,
    "start_time": "2023-03-14T13:50:35.670Z"
   },
   {
    "duration": 36,
    "start_time": "2023-03-14T13:50:39.251Z"
   },
   {
    "duration": 1720,
    "start_time": "2023-03-14T13:50:41.974Z"
   },
   {
    "duration": 8,
    "start_time": "2023-03-14T13:50:47.551Z"
   },
   {
    "duration": 9,
    "start_time": "2023-03-14T13:50:51.250Z"
   },
   {
    "duration": 55,
    "start_time": "2023-03-14T13:50:54.814Z"
   },
   {
    "duration": 92,
    "start_time": "2023-03-14T13:51:08.605Z"
   },
   {
    "duration": 54,
    "start_time": "2023-03-14T13:52:02.711Z"
   },
   {
    "duration": 60,
    "start_time": "2023-03-14T13:52:31.608Z"
   },
   {
    "duration": 55,
    "start_time": "2023-03-14T13:52:57.240Z"
   },
   {
    "duration": 54,
    "start_time": "2023-03-14T13:52:59.413Z"
   },
   {
    "duration": 57,
    "start_time": "2023-03-14T13:53:01.012Z"
   },
   {
    "duration": 54,
    "start_time": "2023-03-14T13:53:02.411Z"
   },
   {
    "duration": 54,
    "start_time": "2023-03-14T13:53:04.274Z"
   },
   {
    "duration": 54,
    "start_time": "2023-03-14T13:53:05.811Z"
   },
   {
    "duration": 56,
    "start_time": "2023-03-14T13:53:08.329Z"
   },
   {
    "duration": 73,
    "start_time": "2023-03-14T13:53:10.007Z"
   },
   {
    "duration": 2,
    "start_time": "2023-03-14T13:53:48.066Z"
   },
   {
    "duration": 60,
    "start_time": "2023-03-14T13:53:53.199Z"
   },
   {
    "duration": 7,
    "start_time": "2023-03-14T13:54:12.824Z"
   },
   {
    "duration": 7,
    "start_time": "2023-03-14T13:55:02.334Z"
   },
   {
    "duration": 7,
    "start_time": "2023-03-14T13:55:03.542Z"
   },
   {
    "duration": 7,
    "start_time": "2023-03-14T13:55:04.307Z"
   },
   {
    "duration": 7,
    "start_time": "2023-03-14T13:55:05.133Z"
   },
   {
    "duration": 342,
    "start_time": "2023-03-14T13:55:35.234Z"
   },
   {
    "duration": 7,
    "start_time": "2023-03-14T13:56:03.132Z"
   },
   {
    "duration": 56,
    "start_time": "2023-03-14T13:56:53.207Z"
   },
   {
    "duration": 37,
    "start_time": "2023-03-14T14:04:56.177Z"
   },
   {
    "duration": 49,
    "start_time": "2023-03-14T14:11:34.533Z"
   },
   {
    "duration": 39,
    "start_time": "2023-03-14T14:11:45.251Z"
   },
   {
    "duration": 19,
    "start_time": "2023-03-14T14:12:52.198Z"
   },
   {
    "duration": 31,
    "start_time": "2023-03-14T14:13:10.282Z"
   },
   {
    "duration": 8,
    "start_time": "2023-03-14T14:17:27.648Z"
   },
   {
    "duration": 15,
    "start_time": "2023-03-14T14:18:59.536Z"
   },
   {
    "duration": 9,
    "start_time": "2023-03-14T14:19:47.363Z"
   },
   {
    "duration": 19,
    "start_time": "2023-03-14T14:20:19.304Z"
   },
   {
    "duration": 28,
    "start_time": "2023-03-14T14:21:10.176Z"
   },
   {
    "duration": 567,
    "start_time": "2023-03-14T14:21:50.100Z"
   },
   {
    "duration": 103,
    "start_time": "2023-03-14T14:21:52.333Z"
   },
   {
    "duration": 74,
    "start_time": "2023-03-14T14:21:55.124Z"
   },
   {
    "duration": 36,
    "start_time": "2023-03-14T14:21:57.306Z"
   },
   {
    "duration": 1754,
    "start_time": "2023-03-14T14:22:01.888Z"
   },
   {
    "duration": 10,
    "start_time": "2023-03-14T14:22:06.454Z"
   },
   {
    "duration": 10,
    "start_time": "2023-03-14T14:22:09.063Z"
   },
   {
    "duration": 36,
    "start_time": "2023-03-14T14:22:59.335Z"
   },
   {
    "duration": 44,
    "start_time": "2023-03-14T14:27:39.855Z"
   },
   {
    "duration": 36,
    "start_time": "2023-03-14T14:27:55.100Z"
   },
   {
    "duration": 30,
    "start_time": "2023-03-14T14:29:27.052Z"
   },
   {
    "duration": 593,
    "start_time": "2023-03-14T14:32:05.564Z"
   },
   {
    "duration": 100,
    "start_time": "2023-03-14T14:32:07.508Z"
   },
   {
    "duration": 72,
    "start_time": "2023-03-14T14:32:09.934Z"
   },
   {
    "duration": 37,
    "start_time": "2023-03-14T14:32:14.023Z"
   },
   {
    "duration": 8,
    "start_time": "2023-03-14T14:32:21.608Z"
   },
   {
    "duration": 5,
    "start_time": "2023-03-14T14:32:25.774Z"
   },
   {
    "duration": 52,
    "start_time": "2023-03-14T14:32:50.360Z"
   },
   {
    "duration": 34,
    "start_time": "2023-03-14T14:34:56.014Z"
   },
   {
    "duration": 29,
    "start_time": "2023-03-14T14:35:06.655Z"
   },
   {
    "duration": 601,
    "start_time": "2023-03-14T14:37:03.285Z"
   },
   {
    "duration": 110,
    "start_time": "2023-03-14T14:37:05.336Z"
   },
   {
    "duration": 73,
    "start_time": "2023-03-14T14:37:07.325Z"
   },
   {
    "duration": 8,
    "start_time": "2023-03-14T14:37:16.575Z"
   },
   {
    "duration": 9,
    "start_time": "2023-03-14T14:37:21.115Z"
   },
   {
    "duration": 54,
    "start_time": "2023-03-14T14:37:33.216Z"
   },
   {
    "duration": 10,
    "start_time": "2023-03-14T14:38:12.013Z"
   },
   {
    "duration": 6,
    "start_time": "2023-03-14T14:41:16.556Z"
   },
   {
    "duration": 9,
    "start_time": "2023-03-14T14:41:20.748Z"
   },
   {
    "duration": 22,
    "start_time": "2023-03-14T14:42:52.417Z"
   },
   {
    "duration": 4,
    "start_time": "2023-03-14T14:43:15.977Z"
   },
   {
    "duration": 8,
    "start_time": "2023-03-14T14:43:18.976Z"
   },
   {
    "duration": 670,
    "start_time": "2023-03-14T14:43:37.023Z"
   },
   {
    "duration": 96,
    "start_time": "2023-03-14T14:43:37.695Z"
   },
   {
    "duration": 81,
    "start_time": "2023-03-14T14:43:37.793Z"
   },
   {
    "duration": 38,
    "start_time": "2023-03-14T14:43:37.876Z"
   },
   {
    "duration": 1778,
    "start_time": "2023-03-14T14:43:37.915Z"
   },
   {
    "duration": 8,
    "start_time": "2023-03-14T14:43:39.695Z"
   },
   {
    "duration": 8,
    "start_time": "2023-03-14T14:43:39.705Z"
   },
   {
    "duration": 24,
    "start_time": "2023-03-14T14:43:39.714Z"
   },
   {
    "duration": 3,
    "start_time": "2023-03-14T14:43:39.739Z"
   },
   {
    "duration": 42,
    "start_time": "2023-03-14T14:43:39.744Z"
   },
   {
    "duration": 42,
    "start_time": "2023-03-14T14:43:39.788Z"
   },
   {
    "duration": 24,
    "start_time": "2023-03-14T14:43:39.831Z"
   },
   {
    "duration": 7,
    "start_time": "2023-03-14T14:43:39.857Z"
   },
   {
    "duration": 9,
    "start_time": "2023-03-14T14:43:39.866Z"
   },
   {
    "duration": 10,
    "start_time": "2023-03-14T14:43:39.876Z"
   },
   {
    "duration": 9,
    "start_time": "2023-03-14T14:43:39.888Z"
   },
   {
    "duration": 25,
    "start_time": "2023-03-14T14:43:39.898Z"
   },
   {
    "duration": 11,
    "start_time": "2023-03-14T14:43:39.955Z"
   },
   {
    "duration": 8,
    "start_time": "2023-03-14T14:43:39.967Z"
   },
   {
    "duration": 104,
    "start_time": "2023-03-14T14:43:39.977Z"
   },
   {
    "duration": 14,
    "start_time": "2023-03-14T14:43:40.083Z"
   },
   {
    "duration": 12,
    "start_time": "2023-03-14T14:43:40.098Z"
   },
   {
    "duration": 9,
    "start_time": "2023-03-14T14:43:40.112Z"
   },
   {
    "duration": 42,
    "start_time": "2023-03-14T14:43:40.122Z"
   },
   {
    "duration": 3,
    "start_time": "2023-03-14T14:43:40.166Z"
   },
   {
    "duration": 17,
    "start_time": "2023-03-14T14:43:40.171Z"
   },
   {
    "duration": 20,
    "start_time": "2023-03-14T14:43:40.190Z"
   },
   {
    "duration": 27,
    "start_time": "2023-03-14T14:43:40.214Z"
   },
   {
    "duration": 45,
    "start_time": "2023-03-14T14:43:40.243Z"
   },
   {
    "duration": 8,
    "start_time": "2023-03-14T14:43:40.290Z"
   },
   {
    "duration": 15,
    "start_time": "2023-03-14T14:43:40.299Z"
   },
   {
    "duration": 24,
    "start_time": "2023-03-14T14:43:40.315Z"
   },
   {
    "duration": 956,
    "start_time": "2023-03-14T14:43:40.340Z"
   },
   {
    "duration": 953,
    "start_time": "2023-03-14T14:43:41.297Z"
   },
   {
    "duration": 950,
    "start_time": "2023-03-14T14:43:42.251Z"
   },
   {
    "duration": 962,
    "start_time": "2023-03-14T14:43:43.202Z"
   },
   {
    "duration": 958,
    "start_time": "2023-03-14T14:43:44.166Z"
   },
   {
    "duration": 1030,
    "start_time": "2023-03-14T14:43:45.125Z"
   },
   {
    "duration": 7,
    "start_time": "2023-03-14T14:43:46.157Z"
   },
   {
    "duration": 8,
    "start_time": "2023-03-14T14:43:46.166Z"
   },
   {
    "duration": 17,
    "start_time": "2023-03-14T14:43:46.175Z"
   },
   {
    "duration": 115,
    "start_time": "2023-03-14T14:43:46.193Z"
   },
   {
    "duration": 0,
    "start_time": "2023-03-14T14:43:46.310Z"
   },
   {
    "duration": 0,
    "start_time": "2023-03-14T14:43:46.311Z"
   },
   {
    "duration": 0,
    "start_time": "2023-03-14T14:43:46.313Z"
   },
   {
    "duration": 0,
    "start_time": "2023-03-14T14:43:46.314Z"
   },
   {
    "duration": 0,
    "start_time": "2023-03-14T14:43:46.315Z"
   },
   {
    "duration": 0,
    "start_time": "2023-03-14T14:43:46.317Z"
   },
   {
    "duration": 0,
    "start_time": "2023-03-14T14:43:46.318Z"
   },
   {
    "duration": 0,
    "start_time": "2023-03-14T14:43:46.319Z"
   },
   {
    "duration": 0,
    "start_time": "2023-03-14T14:43:46.320Z"
   },
   {
    "duration": 0,
    "start_time": "2023-03-14T14:43:46.322Z"
   },
   {
    "duration": 0,
    "start_time": "2023-03-14T14:43:46.323Z"
   },
   {
    "duration": 0,
    "start_time": "2023-03-14T14:43:46.324Z"
   },
   {
    "duration": 0,
    "start_time": "2023-03-14T14:43:46.325Z"
   },
   {
    "duration": 0,
    "start_time": "2023-03-14T14:43:46.326Z"
   },
   {
    "duration": 0,
    "start_time": "2023-03-14T14:43:46.357Z"
   },
   {
    "duration": 0,
    "start_time": "2023-03-14T14:43:46.358Z"
   },
   {
    "duration": 0,
    "start_time": "2023-03-14T14:43:46.359Z"
   },
   {
    "duration": 0,
    "start_time": "2023-03-14T14:43:46.360Z"
   },
   {
    "duration": 0,
    "start_time": "2023-03-14T14:43:46.361Z"
   },
   {
    "duration": 0,
    "start_time": "2023-03-14T14:43:46.362Z"
   },
   {
    "duration": 0,
    "start_time": "2023-03-14T14:43:46.363Z"
   },
   {
    "duration": 0,
    "start_time": "2023-03-14T14:43:46.366Z"
   },
   {
    "duration": 0,
    "start_time": "2023-03-14T14:43:46.367Z"
   },
   {
    "duration": 0,
    "start_time": "2023-03-14T14:43:46.368Z"
   },
   {
    "duration": 0,
    "start_time": "2023-03-14T14:43:46.369Z"
   },
   {
    "duration": 0,
    "start_time": "2023-03-14T14:43:46.370Z"
   },
   {
    "duration": 0,
    "start_time": "2023-03-14T14:43:46.371Z"
   },
   {
    "duration": 0,
    "start_time": "2023-03-14T14:43:46.372Z"
   },
   {
    "duration": 0,
    "start_time": "2023-03-14T14:43:46.373Z"
   },
   {
    "duration": 0,
    "start_time": "2023-03-14T14:43:46.374Z"
   },
   {
    "duration": 0,
    "start_time": "2023-03-14T14:43:46.374Z"
   },
   {
    "duration": 0,
    "start_time": "2023-03-14T14:43:46.375Z"
   },
   {
    "duration": 0,
    "start_time": "2023-03-14T14:43:46.376Z"
   },
   {
    "duration": 658,
    "start_time": "2023-03-14T14:47:36.881Z"
   },
   {
    "duration": 110,
    "start_time": "2023-03-14T14:47:37.541Z"
   },
   {
    "duration": 75,
    "start_time": "2023-03-14T14:47:37.653Z"
   },
   {
    "duration": 60,
    "start_time": "2023-03-14T14:47:37.729Z"
   },
   {
    "duration": 1910,
    "start_time": "2023-03-14T14:47:37.792Z"
   },
   {
    "duration": 13,
    "start_time": "2023-03-14T14:47:39.703Z"
   },
   {
    "duration": 13,
    "start_time": "2023-03-14T14:47:39.717Z"
   },
   {
    "duration": 8,
    "start_time": "2023-03-14T14:47:39.732Z"
   },
   {
    "duration": 7,
    "start_time": "2023-03-14T14:47:39.741Z"
   },
   {
    "duration": 40,
    "start_time": "2023-03-14T14:47:39.749Z"
   },
   {
    "duration": 64,
    "start_time": "2023-03-14T14:47:39.791Z"
   },
   {
    "duration": 4,
    "start_time": "2023-03-14T14:47:39.857Z"
   },
   {
    "duration": 14,
    "start_time": "2023-03-14T14:47:39.863Z"
   },
   {
    "duration": 12,
    "start_time": "2023-03-14T14:47:39.880Z"
   },
   {
    "duration": 18,
    "start_time": "2023-03-14T14:47:39.894Z"
   },
   {
    "duration": 44,
    "start_time": "2023-03-14T14:47:39.914Z"
   },
   {
    "duration": 26,
    "start_time": "2023-03-14T14:47:39.960Z"
   },
   {
    "duration": 9,
    "start_time": "2023-03-14T14:47:39.988Z"
   },
   {
    "duration": 10,
    "start_time": "2023-03-14T14:47:39.999Z"
   },
   {
    "duration": 131,
    "start_time": "2023-03-14T14:47:40.011Z"
   },
   {
    "duration": 15,
    "start_time": "2023-03-14T14:47:40.155Z"
   },
   {
    "duration": 38,
    "start_time": "2023-03-14T14:47:40.172Z"
   },
   {
    "duration": 31,
    "start_time": "2023-03-14T14:47:40.213Z"
   },
   {
    "duration": 25,
    "start_time": "2023-03-14T14:47:40.246Z"
   },
   {
    "duration": 4,
    "start_time": "2023-03-14T14:47:40.273Z"
   },
   {
    "duration": 55,
    "start_time": "2023-03-14T14:47:40.279Z"
   },
   {
    "duration": 8,
    "start_time": "2023-03-14T14:47:40.337Z"
   },
   {
    "duration": 20,
    "start_time": "2023-03-14T14:47:40.347Z"
   },
   {
    "duration": 43,
    "start_time": "2023-03-14T14:47:40.370Z"
   },
   {
    "duration": 7,
    "start_time": "2023-03-14T14:47:40.415Z"
   },
   {
    "duration": 15,
    "start_time": "2023-03-14T14:47:40.424Z"
   },
   {
    "duration": 47,
    "start_time": "2023-03-14T14:47:40.441Z"
   },
   {
    "duration": 986,
    "start_time": "2023-03-14T14:47:40.490Z"
   },
   {
    "duration": 1021,
    "start_time": "2023-03-14T14:47:41.478Z"
   },
   {
    "duration": 1036,
    "start_time": "2023-03-14T14:47:42.500Z"
   },
   {
    "duration": 960,
    "start_time": "2023-03-14T14:47:43.538Z"
   },
   {
    "duration": 972,
    "start_time": "2023-03-14T14:47:44.499Z"
   },
   {
    "duration": 1053,
    "start_time": "2023-03-14T14:47:45.473Z"
   },
   {
    "duration": 6,
    "start_time": "2023-03-14T14:47:46.528Z"
   },
   {
    "duration": 20,
    "start_time": "2023-03-14T14:47:46.535Z"
   },
   {
    "duration": 14,
    "start_time": "2023-03-14T14:47:46.559Z"
   },
   {
    "duration": 108,
    "start_time": "2023-03-14T14:47:46.574Z"
   },
   {
    "duration": 0,
    "start_time": "2023-03-14T14:47:46.684Z"
   },
   {
    "duration": 1,
    "start_time": "2023-03-14T14:47:46.685Z"
   },
   {
    "duration": 0,
    "start_time": "2023-03-14T14:47:46.687Z"
   },
   {
    "duration": 0,
    "start_time": "2023-03-14T14:47:46.687Z"
   },
   {
    "duration": 0,
    "start_time": "2023-03-14T14:47:46.688Z"
   },
   {
    "duration": 0,
    "start_time": "2023-03-14T14:47:46.690Z"
   },
   {
    "duration": 0,
    "start_time": "2023-03-14T14:47:46.691Z"
   },
   {
    "duration": 0,
    "start_time": "2023-03-14T14:47:46.693Z"
   },
   {
    "duration": 0,
    "start_time": "2023-03-14T14:47:46.694Z"
   },
   {
    "duration": 0,
    "start_time": "2023-03-14T14:47:46.695Z"
   },
   {
    "duration": 0,
    "start_time": "2023-03-14T14:47:46.696Z"
   },
   {
    "duration": 0,
    "start_time": "2023-03-14T14:47:46.697Z"
   },
   {
    "duration": 0,
    "start_time": "2023-03-14T14:47:46.698Z"
   },
   {
    "duration": 0,
    "start_time": "2023-03-14T14:47:46.699Z"
   },
   {
    "duration": 0,
    "start_time": "2023-03-14T14:47:46.700Z"
   },
   {
    "duration": 0,
    "start_time": "2023-03-14T14:47:46.701Z"
   },
   {
    "duration": 0,
    "start_time": "2023-03-14T14:47:46.702Z"
   },
   {
    "duration": 0,
    "start_time": "2023-03-14T14:47:46.703Z"
   },
   {
    "duration": 0,
    "start_time": "2023-03-14T14:47:46.704Z"
   },
   {
    "duration": 0,
    "start_time": "2023-03-14T14:47:46.705Z"
   },
   {
    "duration": 0,
    "start_time": "2023-03-14T14:47:46.706Z"
   },
   {
    "duration": 0,
    "start_time": "2023-03-14T14:47:46.707Z"
   },
   {
    "duration": 0,
    "start_time": "2023-03-14T14:47:46.708Z"
   },
   {
    "duration": 0,
    "start_time": "2023-03-14T14:47:46.755Z"
   },
   {
    "duration": 0,
    "start_time": "2023-03-14T14:47:46.756Z"
   },
   {
    "duration": 0,
    "start_time": "2023-03-14T14:47:46.757Z"
   },
   {
    "duration": 0,
    "start_time": "2023-03-14T14:47:46.758Z"
   },
   {
    "duration": 0,
    "start_time": "2023-03-14T14:47:46.759Z"
   },
   {
    "duration": 0,
    "start_time": "2023-03-14T14:47:46.760Z"
   },
   {
    "duration": 0,
    "start_time": "2023-03-14T14:47:46.761Z"
   },
   {
    "duration": 0,
    "start_time": "2023-03-14T14:47:46.762Z"
   },
   {
    "duration": 0,
    "start_time": "2023-03-14T14:47:46.763Z"
   },
   {
    "duration": 0,
    "start_time": "2023-03-14T14:47:46.764Z"
   },
   {
    "duration": 24,
    "start_time": "2023-03-14T14:49:07.939Z"
   },
   {
    "duration": 5,
    "start_time": "2023-03-14T14:50:26.138Z"
   },
   {
    "duration": 705,
    "start_time": "2023-03-14T14:53:44.928Z"
   },
   {
    "duration": 108,
    "start_time": "2023-03-14T14:53:45.635Z"
   },
   {
    "duration": 78,
    "start_time": "2023-03-14T14:53:45.744Z"
   },
   {
    "duration": 59,
    "start_time": "2023-03-14T14:53:45.825Z"
   },
   {
    "duration": 2003,
    "start_time": "2023-03-14T14:53:45.886Z"
   },
   {
    "duration": 9,
    "start_time": "2023-03-14T14:53:47.891Z"
   },
   {
    "duration": 8,
    "start_time": "2023-03-14T14:53:47.902Z"
   },
   {
    "duration": 5,
    "start_time": "2023-03-14T14:53:47.912Z"
   },
   {
    "duration": 9,
    "start_time": "2023-03-14T14:53:47.918Z"
   },
   {
    "duration": 38,
    "start_time": "2023-03-14T14:53:47.930Z"
   },
   {
    "duration": 44,
    "start_time": "2023-03-14T14:53:47.970Z"
   },
   {
    "duration": 5,
    "start_time": "2023-03-14T14:53:48.016Z"
   },
   {
    "duration": 15,
    "start_time": "2023-03-14T14:53:48.022Z"
   },
   {
    "duration": 25,
    "start_time": "2023-03-14T14:53:48.038Z"
   },
   {
    "duration": 11,
    "start_time": "2023-03-14T14:53:48.065Z"
   },
   {
    "duration": 9,
    "start_time": "2023-03-14T14:53:48.078Z"
   },
   {
    "duration": 40,
    "start_time": "2023-03-14T14:53:48.089Z"
   },
   {
    "duration": 36,
    "start_time": "2023-03-14T14:53:48.131Z"
   },
   {
    "duration": 14,
    "start_time": "2023-03-14T14:53:48.169Z"
   },
   {
    "duration": 111,
    "start_time": "2023-03-14T14:53:48.185Z"
   },
   {
    "duration": 13,
    "start_time": "2023-03-14T14:53:48.298Z"
   },
   {
    "duration": 14,
    "start_time": "2023-03-14T14:53:48.312Z"
   },
   {
    "duration": 31,
    "start_time": "2023-03-14T14:53:48.328Z"
   },
   {
    "duration": 15,
    "start_time": "2023-03-14T14:53:48.360Z"
   },
   {
    "duration": 3,
    "start_time": "2023-03-14T14:53:48.377Z"
   },
   {
    "duration": 20,
    "start_time": "2023-03-14T14:53:48.382Z"
   },
   {
    "duration": 8,
    "start_time": "2023-03-14T14:53:48.403Z"
   },
   {
    "duration": 8,
    "start_time": "2023-03-14T14:53:48.415Z"
   },
   {
    "duration": 61,
    "start_time": "2023-03-14T14:53:48.425Z"
   },
   {
    "duration": 8,
    "start_time": "2023-03-14T14:53:48.487Z"
   },
   {
    "duration": 4,
    "start_time": "2023-03-14T14:53:48.496Z"
   },
   {
    "duration": 25,
    "start_time": "2023-03-14T14:53:48.501Z"
   },
   {
    "duration": 1028,
    "start_time": "2023-03-14T14:53:48.528Z"
   },
   {
    "duration": 1038,
    "start_time": "2023-03-14T14:53:49.558Z"
   },
   {
    "duration": 1029,
    "start_time": "2023-03-14T14:53:50.598Z"
   },
   {
    "duration": 1001,
    "start_time": "2023-03-14T14:53:51.629Z"
   },
   {
    "duration": 1000,
    "start_time": "2023-03-14T14:53:52.631Z"
   },
   {
    "duration": 1039,
    "start_time": "2023-03-14T14:53:53.633Z"
   },
   {
    "duration": 6,
    "start_time": "2023-03-14T14:53:54.674Z"
   },
   {
    "duration": 15,
    "start_time": "2023-03-14T14:53:54.681Z"
   },
   {
    "duration": 19,
    "start_time": "2023-03-14T14:53:54.697Z"
   },
   {
    "duration": 109,
    "start_time": "2023-03-14T14:53:54.717Z"
   },
   {
    "duration": 0,
    "start_time": "2023-03-14T14:53:54.828Z"
   },
   {
    "duration": 0,
    "start_time": "2023-03-14T14:53:54.829Z"
   },
   {
    "duration": 0,
    "start_time": "2023-03-14T14:53:54.830Z"
   },
   {
    "duration": 0,
    "start_time": "2023-03-14T14:53:54.831Z"
   },
   {
    "duration": 0,
    "start_time": "2023-03-14T14:53:54.833Z"
   },
   {
    "duration": 0,
    "start_time": "2023-03-14T14:53:54.833Z"
   },
   {
    "duration": 0,
    "start_time": "2023-03-14T14:53:54.834Z"
   },
   {
    "duration": 0,
    "start_time": "2023-03-14T14:53:54.835Z"
   },
   {
    "duration": 0,
    "start_time": "2023-03-14T14:53:54.855Z"
   },
   {
    "duration": 0,
    "start_time": "2023-03-14T14:53:54.856Z"
   },
   {
    "duration": 0,
    "start_time": "2023-03-14T14:53:54.857Z"
   },
   {
    "duration": 0,
    "start_time": "2023-03-14T14:53:54.858Z"
   },
   {
    "duration": 0,
    "start_time": "2023-03-14T14:53:54.860Z"
   },
   {
    "duration": 0,
    "start_time": "2023-03-14T14:53:54.861Z"
   },
   {
    "duration": 0,
    "start_time": "2023-03-14T14:53:54.862Z"
   },
   {
    "duration": 0,
    "start_time": "2023-03-14T14:53:54.863Z"
   },
   {
    "duration": 0,
    "start_time": "2023-03-14T14:53:54.864Z"
   },
   {
    "duration": 0,
    "start_time": "2023-03-14T14:53:54.865Z"
   },
   {
    "duration": 0,
    "start_time": "2023-03-14T14:53:54.867Z"
   },
   {
    "duration": 0,
    "start_time": "2023-03-14T14:53:54.867Z"
   },
   {
    "duration": 0,
    "start_time": "2023-03-14T14:53:54.869Z"
   },
   {
    "duration": 0,
    "start_time": "2023-03-14T14:53:54.870Z"
   },
   {
    "duration": 0,
    "start_time": "2023-03-14T14:53:54.871Z"
   },
   {
    "duration": 0,
    "start_time": "2023-03-14T14:53:54.872Z"
   },
   {
    "duration": 0,
    "start_time": "2023-03-14T14:53:54.873Z"
   },
   {
    "duration": 0,
    "start_time": "2023-03-14T14:53:54.874Z"
   },
   {
    "duration": 0,
    "start_time": "2023-03-14T14:53:54.875Z"
   },
   {
    "duration": 0,
    "start_time": "2023-03-14T14:53:54.877Z"
   },
   {
    "duration": 0,
    "start_time": "2023-03-14T14:53:54.878Z"
   },
   {
    "duration": 0,
    "start_time": "2023-03-14T14:53:54.879Z"
   },
   {
    "duration": 0,
    "start_time": "2023-03-14T14:53:54.880Z"
   },
   {
    "duration": 0,
    "start_time": "2023-03-14T14:53:54.881Z"
   },
   {
    "duration": 0,
    "start_time": "2023-03-14T14:53:54.882Z"
   },
   {
    "duration": 685,
    "start_time": "2023-03-14T15:06:32.831Z"
   },
   {
    "duration": 101,
    "start_time": "2023-03-14T15:06:33.519Z"
   },
   {
    "duration": 87,
    "start_time": "2023-03-14T15:06:33.622Z"
   },
   {
    "duration": 59,
    "start_time": "2023-03-14T15:06:33.711Z"
   },
   {
    "duration": 1940,
    "start_time": "2023-03-14T15:06:33.773Z"
   },
   {
    "duration": 9,
    "start_time": "2023-03-14T15:06:35.715Z"
   },
   {
    "duration": 15,
    "start_time": "2023-03-14T15:06:35.725Z"
   },
   {
    "duration": 9,
    "start_time": "2023-03-14T15:06:35.741Z"
   },
   {
    "duration": 13,
    "start_time": "2023-03-14T15:06:35.752Z"
   },
   {
    "duration": 50,
    "start_time": "2023-03-14T15:06:35.768Z"
   },
   {
    "duration": 45,
    "start_time": "2023-03-14T15:06:35.819Z"
   },
   {
    "duration": 4,
    "start_time": "2023-03-14T15:06:35.868Z"
   },
   {
    "duration": 17,
    "start_time": "2023-03-14T15:06:35.873Z"
   },
   {
    "duration": 10,
    "start_time": "2023-03-14T15:06:35.893Z"
   },
   {
    "duration": 17,
    "start_time": "2023-03-14T15:06:35.905Z"
   },
   {
    "duration": 21,
    "start_time": "2023-03-14T15:06:35.924Z"
   },
   {
    "duration": 28,
    "start_time": "2023-03-14T15:06:35.946Z"
   },
   {
    "duration": 16,
    "start_time": "2023-03-14T15:06:35.976Z"
   },
   {
    "duration": 27,
    "start_time": "2023-03-14T15:06:35.994Z"
   },
   {
    "duration": 109,
    "start_time": "2023-03-14T15:06:36.023Z"
   },
   {
    "duration": 23,
    "start_time": "2023-03-14T15:06:36.133Z"
   },
   {
    "duration": 14,
    "start_time": "2023-03-14T15:06:36.157Z"
   },
   {
    "duration": 10,
    "start_time": "2023-03-14T15:06:36.173Z"
   },
   {
    "duration": 19,
    "start_time": "2023-03-14T15:06:36.186Z"
   },
   {
    "duration": 6,
    "start_time": "2023-03-14T15:06:36.208Z"
   },
   {
    "duration": 15,
    "start_time": "2023-03-14T15:06:36.216Z"
   },
   {
    "duration": 7,
    "start_time": "2023-03-14T15:06:36.255Z"
   },
   {
    "duration": 21,
    "start_time": "2023-03-14T15:06:36.263Z"
   },
   {
    "duration": 49,
    "start_time": "2023-03-14T15:06:36.285Z"
   },
   {
    "duration": 40,
    "start_time": "2023-03-14T15:06:36.335Z"
   },
   {
    "duration": 46,
    "start_time": "2023-03-14T15:06:36.377Z"
   },
   {
    "duration": 55,
    "start_time": "2023-03-14T15:06:36.424Z"
   },
   {
    "duration": 1094,
    "start_time": "2023-03-14T15:06:36.480Z"
   },
   {
    "duration": 1039,
    "start_time": "2023-03-14T15:06:37.575Z"
   },
   {
    "duration": 990,
    "start_time": "2023-03-14T15:06:38.616Z"
   },
   {
    "duration": 984,
    "start_time": "2023-03-14T15:06:39.608Z"
   },
   {
    "duration": 985,
    "start_time": "2023-03-14T15:06:40.593Z"
   },
   {
    "duration": 1000,
    "start_time": "2023-03-14T15:06:41.580Z"
   },
   {
    "duration": 5,
    "start_time": "2023-03-14T15:06:42.582Z"
   },
   {
    "duration": 8,
    "start_time": "2023-03-14T15:06:42.589Z"
   },
   {
    "duration": 15,
    "start_time": "2023-03-14T15:06:42.601Z"
   },
   {
    "duration": 121,
    "start_time": "2023-03-14T15:06:42.617Z"
   },
   {
    "duration": 0,
    "start_time": "2023-03-14T15:06:42.740Z"
   },
   {
    "duration": 0,
    "start_time": "2023-03-14T15:06:42.742Z"
   },
   {
    "duration": 0,
    "start_time": "2023-03-14T15:06:42.743Z"
   },
   {
    "duration": 0,
    "start_time": "2023-03-14T15:06:42.744Z"
   },
   {
    "duration": 0,
    "start_time": "2023-03-14T15:06:42.755Z"
   },
   {
    "duration": 0,
    "start_time": "2023-03-14T15:06:42.757Z"
   },
   {
    "duration": 0,
    "start_time": "2023-03-14T15:06:42.758Z"
   },
   {
    "duration": 0,
    "start_time": "2023-03-14T15:06:42.760Z"
   },
   {
    "duration": 0,
    "start_time": "2023-03-14T15:06:42.761Z"
   },
   {
    "duration": 0,
    "start_time": "2023-03-14T15:06:42.762Z"
   },
   {
    "duration": 0,
    "start_time": "2023-03-14T15:06:42.764Z"
   },
   {
    "duration": 0,
    "start_time": "2023-03-14T15:06:42.765Z"
   },
   {
    "duration": 0,
    "start_time": "2023-03-14T15:06:42.767Z"
   },
   {
    "duration": 0,
    "start_time": "2023-03-14T15:06:42.768Z"
   },
   {
    "duration": 0,
    "start_time": "2023-03-14T15:06:42.770Z"
   },
   {
    "duration": 0,
    "start_time": "2023-03-14T15:06:42.771Z"
   },
   {
    "duration": 0,
    "start_time": "2023-03-14T15:06:42.773Z"
   },
   {
    "duration": 0,
    "start_time": "2023-03-14T15:06:42.774Z"
   },
   {
    "duration": 0,
    "start_time": "2023-03-14T15:06:42.775Z"
   },
   {
    "duration": 0,
    "start_time": "2023-03-14T15:06:42.776Z"
   },
   {
    "duration": 0,
    "start_time": "2023-03-14T15:06:42.777Z"
   },
   {
    "duration": 0,
    "start_time": "2023-03-14T15:06:42.778Z"
   },
   {
    "duration": 0,
    "start_time": "2023-03-14T15:06:42.779Z"
   },
   {
    "duration": 0,
    "start_time": "2023-03-14T15:06:42.780Z"
   },
   {
    "duration": 0,
    "start_time": "2023-03-14T15:06:42.781Z"
   },
   {
    "duration": 0,
    "start_time": "2023-03-14T15:06:42.782Z"
   },
   {
    "duration": 0,
    "start_time": "2023-03-14T15:06:42.783Z"
   },
   {
    "duration": 0,
    "start_time": "2023-03-14T15:06:42.784Z"
   },
   {
    "duration": 0,
    "start_time": "2023-03-14T15:06:42.785Z"
   },
   {
    "duration": 0,
    "start_time": "2023-03-14T15:06:42.786Z"
   },
   {
    "duration": 0,
    "start_time": "2023-03-14T15:06:42.787Z"
   },
   {
    "duration": 0,
    "start_time": "2023-03-14T15:06:42.788Z"
   },
   {
    "duration": 0,
    "start_time": "2023-03-14T15:06:42.789Z"
   },
   {
    "duration": 22,
    "start_time": "2023-03-14T15:25:49.380Z"
   },
   {
    "duration": 24,
    "start_time": "2023-03-14T15:27:00.798Z"
   },
   {
    "duration": 643,
    "start_time": "2023-03-14T15:27:34.347Z"
   },
   {
    "duration": 102,
    "start_time": "2023-03-14T15:27:34.992Z"
   },
   {
    "duration": 79,
    "start_time": "2023-03-14T15:27:35.096Z"
   },
   {
    "duration": 35,
    "start_time": "2023-03-14T15:27:35.177Z"
   },
   {
    "duration": 1859,
    "start_time": "2023-03-14T15:27:35.214Z"
   },
   {
    "duration": 9,
    "start_time": "2023-03-14T15:27:37.075Z"
   },
   {
    "duration": 9,
    "start_time": "2023-03-14T15:27:37.085Z"
   },
   {
    "duration": 4,
    "start_time": "2023-03-14T15:27:37.096Z"
   },
   {
    "duration": 2,
    "start_time": "2023-03-14T15:27:37.102Z"
   },
   {
    "duration": 53,
    "start_time": "2023-03-14T15:27:37.106Z"
   },
   {
    "duration": 61,
    "start_time": "2023-03-14T15:27:37.161Z"
   },
   {
    "duration": 6,
    "start_time": "2023-03-14T15:27:37.224Z"
   },
   {
    "duration": 7,
    "start_time": "2023-03-14T15:27:37.258Z"
   },
   {
    "duration": 23,
    "start_time": "2023-03-14T15:27:37.268Z"
   },
   {
    "duration": 20,
    "start_time": "2023-03-14T15:27:37.292Z"
   },
   {
    "duration": 13,
    "start_time": "2023-03-14T15:27:37.314Z"
   },
   {
    "duration": 44,
    "start_time": "2023-03-14T15:27:37.329Z"
   },
   {
    "duration": 9,
    "start_time": "2023-03-14T15:27:37.375Z"
   },
   {
    "duration": 8,
    "start_time": "2023-03-14T15:27:37.385Z"
   },
   {
    "duration": 121,
    "start_time": "2023-03-14T15:27:37.395Z"
   },
   {
    "duration": 13,
    "start_time": "2023-03-14T15:27:37.517Z"
   },
   {
    "duration": 28,
    "start_time": "2023-03-14T15:27:37.532Z"
   },
   {
    "duration": 10,
    "start_time": "2023-03-14T15:27:37.561Z"
   },
   {
    "duration": 19,
    "start_time": "2023-03-14T15:27:37.572Z"
   },
   {
    "duration": 3,
    "start_time": "2023-03-14T15:27:37.593Z"
   },
   {
    "duration": 24,
    "start_time": "2023-03-14T15:27:37.597Z"
   },
   {
    "duration": 6,
    "start_time": "2023-03-14T15:27:37.623Z"
   },
   {
    "duration": 23,
    "start_time": "2023-03-14T15:27:37.632Z"
   },
   {
    "duration": 36,
    "start_time": "2023-03-14T15:27:37.657Z"
   },
   {
    "duration": 17,
    "start_time": "2023-03-14T15:27:37.695Z"
   },
   {
    "duration": 3,
    "start_time": "2023-03-14T15:27:37.713Z"
   },
   {
    "duration": 23,
    "start_time": "2023-03-14T15:27:37.717Z"
   },
   {
    "duration": 994,
    "start_time": "2023-03-14T15:27:37.742Z"
   },
   {
    "duration": 976,
    "start_time": "2023-03-14T15:27:38.737Z"
   },
   {
    "duration": 984,
    "start_time": "2023-03-14T15:27:39.714Z"
   },
   {
    "duration": 983,
    "start_time": "2023-03-14T15:27:40.699Z"
   },
   {
    "duration": 962,
    "start_time": "2023-03-14T15:27:41.684Z"
   },
   {
    "duration": 957,
    "start_time": "2023-03-14T15:27:42.647Z"
   },
   {
    "duration": 6,
    "start_time": "2023-03-14T15:27:43.605Z"
   },
   {
    "duration": 7,
    "start_time": "2023-03-14T15:27:43.613Z"
   },
   {
    "duration": 32,
    "start_time": "2023-03-14T15:27:43.624Z"
   },
   {
    "duration": 101,
    "start_time": "2023-03-14T15:27:43.658Z"
   },
   {
    "duration": 0,
    "start_time": "2023-03-14T15:27:43.761Z"
   },
   {
    "duration": 0,
    "start_time": "2023-03-14T15:27:43.762Z"
   },
   {
    "duration": 0,
    "start_time": "2023-03-14T15:27:43.764Z"
   },
   {
    "duration": 0,
    "start_time": "2023-03-14T15:27:43.765Z"
   },
   {
    "duration": 0,
    "start_time": "2023-03-14T15:27:43.766Z"
   },
   {
    "duration": 0,
    "start_time": "2023-03-14T15:27:43.767Z"
   },
   {
    "duration": 0,
    "start_time": "2023-03-14T15:27:43.769Z"
   },
   {
    "duration": 0,
    "start_time": "2023-03-14T15:27:43.770Z"
   },
   {
    "duration": 0,
    "start_time": "2023-03-14T15:27:43.771Z"
   },
   {
    "duration": 0,
    "start_time": "2023-03-14T15:27:43.772Z"
   },
   {
    "duration": 0,
    "start_time": "2023-03-14T15:27:43.774Z"
   },
   {
    "duration": 0,
    "start_time": "2023-03-14T15:27:43.775Z"
   },
   {
    "duration": 0,
    "start_time": "2023-03-14T15:27:43.776Z"
   },
   {
    "duration": 0,
    "start_time": "2023-03-14T15:27:43.777Z"
   },
   {
    "duration": 0,
    "start_time": "2023-03-14T15:27:43.778Z"
   },
   {
    "duration": 1,
    "start_time": "2023-03-14T15:27:43.778Z"
   },
   {
    "duration": 0,
    "start_time": "2023-03-14T15:27:43.780Z"
   },
   {
    "duration": 0,
    "start_time": "2023-03-14T15:27:43.780Z"
   },
   {
    "duration": 0,
    "start_time": "2023-03-14T15:27:43.781Z"
   },
   {
    "duration": 0,
    "start_time": "2023-03-14T15:27:43.782Z"
   },
   {
    "duration": 0,
    "start_time": "2023-03-14T15:27:43.783Z"
   },
   {
    "duration": 0,
    "start_time": "2023-03-14T15:27:43.784Z"
   },
   {
    "duration": 0,
    "start_time": "2023-03-14T15:27:43.785Z"
   },
   {
    "duration": 0,
    "start_time": "2023-03-14T15:27:43.786Z"
   },
   {
    "duration": 0,
    "start_time": "2023-03-14T15:27:43.786Z"
   },
   {
    "duration": 0,
    "start_time": "2023-03-14T15:27:43.787Z"
   },
   {
    "duration": 0,
    "start_time": "2023-03-14T15:27:43.788Z"
   },
   {
    "duration": 0,
    "start_time": "2023-03-14T15:27:43.789Z"
   },
   {
    "duration": 0,
    "start_time": "2023-03-14T15:27:43.790Z"
   },
   {
    "duration": 0,
    "start_time": "2023-03-14T15:27:43.791Z"
   },
   {
    "duration": 0,
    "start_time": "2023-03-14T15:27:43.792Z"
   },
   {
    "duration": 0,
    "start_time": "2023-03-14T15:27:43.793Z"
   },
   {
    "duration": 0,
    "start_time": "2023-03-14T15:27:43.794Z"
   },
   {
    "duration": 9,
    "start_time": "2023-03-14T15:29:04.653Z"
   },
   {
    "duration": 9,
    "start_time": "2023-03-14T15:29:21.323Z"
   },
   {
    "duration": 594,
    "start_time": "2023-03-14T15:34:05.973Z"
   },
   {
    "duration": 111,
    "start_time": "2023-03-14T15:34:06.570Z"
   },
   {
    "duration": 103,
    "start_time": "2023-03-14T15:34:06.683Z"
   },
   {
    "duration": 41,
    "start_time": "2023-03-14T15:34:06.788Z"
   },
   {
    "duration": 1778,
    "start_time": "2023-03-14T15:34:06.831Z"
   },
   {
    "duration": 11,
    "start_time": "2023-03-14T15:34:08.611Z"
   },
   {
    "duration": 31,
    "start_time": "2023-03-14T15:34:08.623Z"
   },
   {
    "duration": 5,
    "start_time": "2023-03-14T15:34:08.656Z"
   },
   {
    "duration": 28,
    "start_time": "2023-03-14T15:34:08.662Z"
   },
   {
    "duration": 14,
    "start_time": "2023-03-14T15:34:08.694Z"
   },
   {
    "duration": 49,
    "start_time": "2023-03-14T15:34:08.710Z"
   },
   {
    "duration": 16,
    "start_time": "2023-03-14T15:34:08.761Z"
   },
   {
    "duration": 10,
    "start_time": "2023-03-14T15:34:08.780Z"
   },
   {
    "duration": 18,
    "start_time": "2023-03-14T15:34:08.791Z"
   },
   {
    "duration": 8,
    "start_time": "2023-03-14T15:34:08.810Z"
   },
   {
    "duration": 18,
    "start_time": "2023-03-14T15:34:08.819Z"
   },
   {
    "duration": 16,
    "start_time": "2023-03-14T15:34:08.838Z"
   },
   {
    "duration": 44,
    "start_time": "2023-03-14T15:34:08.855Z"
   },
   {
    "duration": 9,
    "start_time": "2023-03-14T15:34:08.901Z"
   },
   {
    "duration": 18,
    "start_time": "2023-03-14T15:34:08.911Z"
   },
   {
    "duration": 105,
    "start_time": "2023-03-14T15:34:08.930Z"
   },
   {
    "duration": 18,
    "start_time": "2023-03-14T15:34:09.037Z"
   },
   {
    "duration": 13,
    "start_time": "2023-03-14T15:34:09.057Z"
   },
   {
    "duration": 11,
    "start_time": "2023-03-14T15:34:09.071Z"
   },
   {
    "duration": 14,
    "start_time": "2023-03-14T15:34:09.083Z"
   },
   {
    "duration": 4,
    "start_time": "2023-03-14T15:34:09.099Z"
   },
   {
    "duration": 26,
    "start_time": "2023-03-14T15:34:09.105Z"
   },
   {
    "duration": 6,
    "start_time": "2023-03-14T15:34:09.135Z"
   },
   {
    "duration": 11,
    "start_time": "2023-03-14T15:34:09.155Z"
   },
   {
    "duration": 31,
    "start_time": "2023-03-14T15:34:09.168Z"
   },
   {
    "duration": 7,
    "start_time": "2023-03-14T15:34:09.202Z"
   },
   {
    "duration": 7,
    "start_time": "2023-03-14T15:34:09.211Z"
   },
   {
    "duration": 40,
    "start_time": "2023-03-14T15:34:09.220Z"
   },
   {
    "duration": 978,
    "start_time": "2023-03-14T15:34:09.261Z"
   },
   {
    "duration": 978,
    "start_time": "2023-03-14T15:34:10.241Z"
   },
   {
    "duration": 976,
    "start_time": "2023-03-14T15:34:11.220Z"
   },
   {
    "duration": 951,
    "start_time": "2023-03-14T15:34:12.198Z"
   },
   {
    "duration": 974,
    "start_time": "2023-03-14T15:34:13.150Z"
   },
   {
    "duration": 976,
    "start_time": "2023-03-14T15:34:14.125Z"
   },
   {
    "duration": 6,
    "start_time": "2023-03-14T15:34:15.102Z"
   },
   {
    "duration": 8,
    "start_time": "2023-03-14T15:34:15.110Z"
   },
   {
    "duration": 12,
    "start_time": "2023-03-14T15:34:15.119Z"
   },
   {
    "duration": 112,
    "start_time": "2023-03-14T15:34:15.132Z"
   },
   {
    "duration": 0,
    "start_time": "2023-03-14T15:34:15.245Z"
   },
   {
    "duration": 0,
    "start_time": "2023-03-14T15:34:15.247Z"
   },
   {
    "duration": 0,
    "start_time": "2023-03-14T15:34:15.247Z"
   },
   {
    "duration": 0,
    "start_time": "2023-03-14T15:34:15.248Z"
   },
   {
    "duration": 0,
    "start_time": "2023-03-14T15:34:15.249Z"
   },
   {
    "duration": 0,
    "start_time": "2023-03-14T15:34:15.255Z"
   },
   {
    "duration": 0,
    "start_time": "2023-03-14T15:34:15.256Z"
   },
   {
    "duration": 0,
    "start_time": "2023-03-14T15:34:15.257Z"
   },
   {
    "duration": 0,
    "start_time": "2023-03-14T15:34:15.258Z"
   },
   {
    "duration": 0,
    "start_time": "2023-03-14T15:34:15.259Z"
   },
   {
    "duration": 0,
    "start_time": "2023-03-14T15:34:15.260Z"
   },
   {
    "duration": 0,
    "start_time": "2023-03-14T15:34:15.261Z"
   },
   {
    "duration": 0,
    "start_time": "2023-03-14T15:34:15.262Z"
   },
   {
    "duration": 0,
    "start_time": "2023-03-14T15:34:15.263Z"
   },
   {
    "duration": 0,
    "start_time": "2023-03-14T15:34:15.264Z"
   },
   {
    "duration": 0,
    "start_time": "2023-03-14T15:34:15.265Z"
   },
   {
    "duration": 0,
    "start_time": "2023-03-14T15:34:15.265Z"
   },
   {
    "duration": 0,
    "start_time": "2023-03-14T15:34:15.266Z"
   },
   {
    "duration": 0,
    "start_time": "2023-03-14T15:34:15.267Z"
   },
   {
    "duration": 0,
    "start_time": "2023-03-14T15:34:15.268Z"
   },
   {
    "duration": 0,
    "start_time": "2023-03-14T15:34:15.268Z"
   },
   {
    "duration": 0,
    "start_time": "2023-03-14T15:34:15.271Z"
   },
   {
    "duration": 0,
    "start_time": "2023-03-14T15:34:15.271Z"
   },
   {
    "duration": 0,
    "start_time": "2023-03-14T15:34:15.272Z"
   },
   {
    "duration": 0,
    "start_time": "2023-03-14T15:34:15.273Z"
   },
   {
    "duration": 0,
    "start_time": "2023-03-14T15:34:15.274Z"
   },
   {
    "duration": 0,
    "start_time": "2023-03-14T15:34:15.275Z"
   },
   {
    "duration": 0,
    "start_time": "2023-03-14T15:34:15.276Z"
   },
   {
    "duration": 0,
    "start_time": "2023-03-14T15:34:15.277Z"
   },
   {
    "duration": 0,
    "start_time": "2023-03-14T15:34:15.278Z"
   },
   {
    "duration": 0,
    "start_time": "2023-03-14T15:34:15.279Z"
   },
   {
    "duration": 0,
    "start_time": "2023-03-14T15:34:15.279Z"
   },
   {
    "duration": 0,
    "start_time": "2023-03-14T15:34:15.280Z"
   },
   {
    "duration": 29,
    "start_time": "2023-03-14T15:35:45.891Z"
   },
   {
    "duration": 641,
    "start_time": "2023-03-14T15:36:59.643Z"
   },
   {
    "duration": 96,
    "start_time": "2023-03-14T15:37:00.285Z"
   },
   {
    "duration": 77,
    "start_time": "2023-03-14T15:37:00.382Z"
   },
   {
    "duration": 35,
    "start_time": "2023-03-14T15:37:00.460Z"
   },
   {
    "duration": 1879,
    "start_time": "2023-03-14T15:37:00.498Z"
   },
   {
    "duration": 9,
    "start_time": "2023-03-14T15:37:02.379Z"
   },
   {
    "duration": 45,
    "start_time": "2023-03-14T15:37:02.390Z"
   },
   {
    "duration": 4,
    "start_time": "2023-03-14T15:37:02.437Z"
   },
   {
    "duration": 54,
    "start_time": "2023-03-14T15:37:02.443Z"
   },
   {
    "duration": 3,
    "start_time": "2023-03-14T15:37:02.499Z"
   },
   {
    "duration": 22,
    "start_time": "2023-03-14T15:37:02.504Z"
   },
   {
    "duration": 29,
    "start_time": "2023-03-14T15:37:02.528Z"
   },
   {
    "duration": 5,
    "start_time": "2023-03-14T15:37:02.559Z"
   },
   {
    "duration": 16,
    "start_time": "2023-03-14T15:37:02.567Z"
   },
   {
    "duration": 10,
    "start_time": "2023-03-14T15:37:02.585Z"
   },
   {
    "duration": 9,
    "start_time": "2023-03-14T15:37:02.597Z"
   },
   {
    "duration": 9,
    "start_time": "2023-03-14T15:37:02.607Z"
   },
   {
    "duration": 56,
    "start_time": "2023-03-14T15:37:02.618Z"
   },
   {
    "duration": 10,
    "start_time": "2023-03-14T15:37:02.676Z"
   },
   {
    "duration": 9,
    "start_time": "2023-03-14T15:37:02.687Z"
   },
   {
    "duration": 116,
    "start_time": "2023-03-14T15:37:02.698Z"
   },
   {
    "duration": 14,
    "start_time": "2023-03-14T15:37:02.816Z"
   },
   {
    "duration": 33,
    "start_time": "2023-03-14T15:37:02.832Z"
   },
   {
    "duration": 10,
    "start_time": "2023-03-14T15:37:02.867Z"
   },
   {
    "duration": 14,
    "start_time": "2023-03-14T15:37:02.878Z"
   },
   {
    "duration": 3,
    "start_time": "2023-03-14T15:37:02.894Z"
   },
   {
    "duration": 9,
    "start_time": "2023-03-14T15:37:02.898Z"
   },
   {
    "duration": 6,
    "start_time": "2023-03-14T15:37:02.908Z"
   },
   {
    "duration": 42,
    "start_time": "2023-03-14T15:37:02.915Z"
   },
   {
    "duration": 37,
    "start_time": "2023-03-14T15:37:02.959Z"
   },
   {
    "duration": 7,
    "start_time": "2023-03-14T15:37:02.997Z"
   },
   {
    "duration": 4,
    "start_time": "2023-03-14T15:37:03.005Z"
   },
   {
    "duration": 24,
    "start_time": "2023-03-14T15:37:03.010Z"
   },
   {
    "duration": 957,
    "start_time": "2023-03-14T15:37:03.035Z"
   },
   {
    "duration": 962,
    "start_time": "2023-03-14T15:37:03.994Z"
   },
   {
    "duration": 992,
    "start_time": "2023-03-14T15:37:04.958Z"
   },
   {
    "duration": 923,
    "start_time": "2023-03-14T15:37:05.951Z"
   },
   {
    "duration": 1033,
    "start_time": "2023-03-14T15:37:06.876Z"
   },
   {
    "duration": 965,
    "start_time": "2023-03-14T15:37:07.911Z"
   },
   {
    "duration": 5,
    "start_time": "2023-03-14T15:37:08.877Z"
   },
   {
    "duration": 8,
    "start_time": "2023-03-14T15:37:08.886Z"
   },
   {
    "duration": 16,
    "start_time": "2023-03-14T15:37:08.895Z"
   },
   {
    "duration": 113,
    "start_time": "2023-03-14T15:37:08.912Z"
   },
   {
    "duration": 0,
    "start_time": "2023-03-14T15:37:09.026Z"
   },
   {
    "duration": 0,
    "start_time": "2023-03-14T15:37:09.027Z"
   },
   {
    "duration": 0,
    "start_time": "2023-03-14T15:37:09.028Z"
   },
   {
    "duration": 0,
    "start_time": "2023-03-14T15:37:09.029Z"
   },
   {
    "duration": 0,
    "start_time": "2023-03-14T15:37:09.030Z"
   },
   {
    "duration": 0,
    "start_time": "2023-03-14T15:37:09.031Z"
   },
   {
    "duration": 0,
    "start_time": "2023-03-14T15:37:09.032Z"
   },
   {
    "duration": 0,
    "start_time": "2023-03-14T15:37:09.033Z"
   },
   {
    "duration": 0,
    "start_time": "2023-03-14T15:37:09.033Z"
   },
   {
    "duration": 0,
    "start_time": "2023-03-14T15:37:09.034Z"
   },
   {
    "duration": 0,
    "start_time": "2023-03-14T15:37:09.035Z"
   },
   {
    "duration": 0,
    "start_time": "2023-03-14T15:37:09.055Z"
   },
   {
    "duration": 0,
    "start_time": "2023-03-14T15:37:09.056Z"
   },
   {
    "duration": 0,
    "start_time": "2023-03-14T15:37:09.057Z"
   },
   {
    "duration": 0,
    "start_time": "2023-03-14T15:37:09.058Z"
   },
   {
    "duration": 0,
    "start_time": "2023-03-14T15:37:09.058Z"
   },
   {
    "duration": 0,
    "start_time": "2023-03-14T15:37:09.059Z"
   },
   {
    "duration": 0,
    "start_time": "2023-03-14T15:37:09.060Z"
   },
   {
    "duration": 0,
    "start_time": "2023-03-14T15:37:09.061Z"
   },
   {
    "duration": 0,
    "start_time": "2023-03-14T15:37:09.062Z"
   },
   {
    "duration": 0,
    "start_time": "2023-03-14T15:37:09.063Z"
   },
   {
    "duration": 0,
    "start_time": "2023-03-14T15:37:09.063Z"
   },
   {
    "duration": 0,
    "start_time": "2023-03-14T15:37:09.064Z"
   },
   {
    "duration": 0,
    "start_time": "2023-03-14T15:37:09.065Z"
   },
   {
    "duration": 0,
    "start_time": "2023-03-14T15:37:09.066Z"
   },
   {
    "duration": 0,
    "start_time": "2023-03-14T15:37:09.067Z"
   },
   {
    "duration": 0,
    "start_time": "2023-03-14T15:37:09.068Z"
   },
   {
    "duration": 0,
    "start_time": "2023-03-14T15:37:09.069Z"
   },
   {
    "duration": 0,
    "start_time": "2023-03-14T15:37:09.069Z"
   },
   {
    "duration": 0,
    "start_time": "2023-03-14T15:37:09.070Z"
   },
   {
    "duration": 0,
    "start_time": "2023-03-14T15:37:09.071Z"
   },
   {
    "duration": 0,
    "start_time": "2023-03-14T15:37:09.072Z"
   },
   {
    "duration": 0,
    "start_time": "2023-03-14T15:37:09.073Z"
   },
   {
    "duration": 39,
    "start_time": "2023-03-14T15:54:50.667Z"
   },
   {
    "duration": 46,
    "start_time": "2023-03-14T15:55:16.872Z"
   },
   {
    "duration": 26,
    "start_time": "2023-03-14T15:59:32.173Z"
   },
   {
    "duration": 33,
    "start_time": "2023-03-14T15:59:40.132Z"
   },
   {
    "duration": 28,
    "start_time": "2023-03-14T15:59:44.413Z"
   },
   {
    "duration": 104,
    "start_time": "2023-03-14T15:59:54.707Z"
   },
   {
    "duration": 597,
    "start_time": "2023-03-14T16:01:11.502Z"
   },
   {
    "duration": 99,
    "start_time": "2023-03-14T16:01:12.100Z"
   },
   {
    "duration": 83,
    "start_time": "2023-03-14T16:01:12.200Z"
   },
   {
    "duration": 35,
    "start_time": "2023-03-14T16:01:12.284Z"
   },
   {
    "duration": 1792,
    "start_time": "2023-03-14T16:01:12.321Z"
   },
   {
    "duration": 9,
    "start_time": "2023-03-14T16:01:14.115Z"
   },
   {
    "duration": 9,
    "start_time": "2023-03-14T16:01:14.125Z"
   },
   {
    "duration": 5,
    "start_time": "2023-03-14T16:01:14.136Z"
   },
   {
    "duration": 61,
    "start_time": "2023-03-14T16:01:14.142Z"
   },
   {
    "duration": 3,
    "start_time": "2023-03-14T16:01:14.204Z"
   },
   {
    "duration": 18,
    "start_time": "2023-03-14T16:01:14.209Z"
   },
   {
    "duration": 37,
    "start_time": "2023-03-14T16:01:14.229Z"
   },
   {
    "duration": 4,
    "start_time": "2023-03-14T16:01:14.267Z"
   },
   {
    "duration": 9,
    "start_time": "2023-03-14T16:01:14.274Z"
   },
   {
    "duration": 9,
    "start_time": "2023-03-14T16:01:14.285Z"
   },
   {
    "duration": 11,
    "start_time": "2023-03-14T16:01:14.296Z"
   },
   {
    "duration": 8,
    "start_time": "2023-03-14T16:01:14.308Z"
   },
   {
    "duration": 26,
    "start_time": "2023-03-14T16:01:14.354Z"
   },
   {
    "duration": 10,
    "start_time": "2023-03-14T16:01:14.381Z"
   },
   {
    "duration": 8,
    "start_time": "2023-03-14T16:01:14.393Z"
   },
   {
    "duration": 117,
    "start_time": "2023-03-14T16:01:14.402Z"
   },
   {
    "duration": 20,
    "start_time": "2023-03-14T16:01:14.521Z"
   },
   {
    "duration": 32,
    "start_time": "2023-03-14T16:01:14.543Z"
   },
   {
    "duration": 10,
    "start_time": "2023-03-14T16:01:14.576Z"
   },
   {
    "duration": 13,
    "start_time": "2023-03-14T16:01:14.587Z"
   },
   {
    "duration": 3,
    "start_time": "2023-03-14T16:01:14.601Z"
   },
   {
    "duration": 10,
    "start_time": "2023-03-14T16:01:14.606Z"
   },
   {
    "duration": 40,
    "start_time": "2023-03-14T16:01:14.618Z"
   },
   {
    "duration": 11,
    "start_time": "2023-03-14T16:01:14.660Z"
   },
   {
    "duration": 57,
    "start_time": "2023-03-14T16:01:14.674Z"
   },
   {
    "duration": 28,
    "start_time": "2023-03-14T16:01:14.733Z"
   },
   {
    "duration": 3,
    "start_time": "2023-03-14T16:01:14.763Z"
   },
   {
    "duration": 25,
    "start_time": "2023-03-14T16:01:14.767Z"
   },
   {
    "duration": 1042,
    "start_time": "2023-03-14T16:01:14.794Z"
   },
   {
    "duration": 1007,
    "start_time": "2023-03-14T16:01:15.838Z"
   },
   {
    "duration": 1081,
    "start_time": "2023-03-14T16:01:16.847Z"
   },
   {
    "duration": 988,
    "start_time": "2023-03-14T16:01:17.930Z"
   },
   {
    "duration": 984,
    "start_time": "2023-03-14T16:01:18.919Z"
   },
   {
    "duration": 981,
    "start_time": "2023-03-14T16:01:19.905Z"
   },
   {
    "duration": 5,
    "start_time": "2023-03-14T16:01:20.888Z"
   },
   {
    "duration": 7,
    "start_time": "2023-03-14T16:01:20.898Z"
   },
   {
    "duration": 16,
    "start_time": "2023-03-14T16:01:20.907Z"
   },
   {
    "duration": 110,
    "start_time": "2023-03-14T16:01:20.924Z"
   },
   {
    "duration": 0,
    "start_time": "2023-03-14T16:01:21.036Z"
   },
   {
    "duration": 0,
    "start_time": "2023-03-14T16:01:21.037Z"
   },
   {
    "duration": 0,
    "start_time": "2023-03-14T16:01:21.038Z"
   },
   {
    "duration": 0,
    "start_time": "2023-03-14T16:01:21.039Z"
   },
   {
    "duration": 0,
    "start_time": "2023-03-14T16:01:21.039Z"
   },
   {
    "duration": 0,
    "start_time": "2023-03-14T16:01:21.040Z"
   },
   {
    "duration": 0,
    "start_time": "2023-03-14T16:01:21.055Z"
   },
   {
    "duration": 0,
    "start_time": "2023-03-14T16:01:21.056Z"
   },
   {
    "duration": 0,
    "start_time": "2023-03-14T16:01:21.057Z"
   },
   {
    "duration": 0,
    "start_time": "2023-03-14T16:01:21.058Z"
   },
   {
    "duration": 0,
    "start_time": "2023-03-14T16:01:21.059Z"
   },
   {
    "duration": 0,
    "start_time": "2023-03-14T16:01:21.060Z"
   },
   {
    "duration": 0,
    "start_time": "2023-03-14T16:01:21.061Z"
   },
   {
    "duration": 0,
    "start_time": "2023-03-14T16:01:21.062Z"
   },
   {
    "duration": 0,
    "start_time": "2023-03-14T16:01:21.063Z"
   },
   {
    "duration": 0,
    "start_time": "2023-03-14T16:01:21.064Z"
   },
   {
    "duration": 0,
    "start_time": "2023-03-14T16:01:21.065Z"
   },
   {
    "duration": 0,
    "start_time": "2023-03-14T16:01:21.066Z"
   },
   {
    "duration": 0,
    "start_time": "2023-03-14T16:01:21.067Z"
   },
   {
    "duration": 0,
    "start_time": "2023-03-14T16:01:21.067Z"
   },
   {
    "duration": 0,
    "start_time": "2023-03-14T16:01:21.069Z"
   },
   {
    "duration": 0,
    "start_time": "2023-03-14T16:01:21.070Z"
   },
   {
    "duration": 0,
    "start_time": "2023-03-14T16:01:21.071Z"
   },
   {
    "duration": 0,
    "start_time": "2023-03-14T16:01:21.072Z"
   },
   {
    "duration": 0,
    "start_time": "2023-03-14T16:01:21.073Z"
   },
   {
    "duration": 0,
    "start_time": "2023-03-14T16:01:21.074Z"
   },
   {
    "duration": 0,
    "start_time": "2023-03-14T16:01:21.075Z"
   },
   {
    "duration": 0,
    "start_time": "2023-03-14T16:01:21.076Z"
   },
   {
    "duration": 0,
    "start_time": "2023-03-14T16:01:21.077Z"
   },
   {
    "duration": 0,
    "start_time": "2023-03-14T16:01:21.078Z"
   },
   {
    "duration": 0,
    "start_time": "2023-03-14T16:01:21.079Z"
   },
   {
    "duration": 0,
    "start_time": "2023-03-14T16:01:21.080Z"
   },
   {
    "duration": 0,
    "start_time": "2023-03-14T16:01:21.081Z"
   },
   {
    "duration": 25,
    "start_time": "2023-03-14T16:07:13.822Z"
   },
   {
    "duration": 31,
    "start_time": "2023-03-14T16:07:16.342Z"
   },
   {
    "duration": 30,
    "start_time": "2023-03-14T16:07:17.596Z"
   },
   {
    "duration": 100,
    "start_time": "2023-03-14T16:08:13.303Z"
   },
   {
    "duration": 28,
    "start_time": "2023-03-14T16:08:25.385Z"
   },
   {
    "duration": 27,
    "start_time": "2023-03-14T16:08:26.831Z"
   },
   {
    "duration": 25,
    "start_time": "2023-03-14T16:08:27.810Z"
   },
   {
    "duration": 23,
    "start_time": "2023-03-14T16:08:28.750Z"
   },
   {
    "duration": 657,
    "start_time": "2023-03-14T16:08:54.427Z"
   },
   {
    "duration": 100,
    "start_time": "2023-03-14T16:08:55.086Z"
   },
   {
    "duration": 79,
    "start_time": "2023-03-14T16:08:55.188Z"
   },
   {
    "duration": 42,
    "start_time": "2023-03-14T16:08:55.269Z"
   },
   {
    "duration": 1948,
    "start_time": "2023-03-14T16:08:55.313Z"
   },
   {
    "duration": 9,
    "start_time": "2023-03-14T16:08:57.263Z"
   },
   {
    "duration": 9,
    "start_time": "2023-03-14T16:08:57.274Z"
   },
   {
    "duration": 5,
    "start_time": "2023-03-14T16:08:57.284Z"
   },
   {
    "duration": 84,
    "start_time": "2023-03-14T16:08:57.291Z"
   },
   {
    "duration": 3,
    "start_time": "2023-03-14T16:08:57.377Z"
   },
   {
    "duration": 27,
    "start_time": "2023-03-14T16:08:57.381Z"
   },
   {
    "duration": 25,
    "start_time": "2023-03-14T16:08:57.409Z"
   },
   {
    "duration": 24,
    "start_time": "2023-03-14T16:08:57.436Z"
   },
   {
    "duration": 22,
    "start_time": "2023-03-14T16:08:57.462Z"
   },
   {
    "duration": 26,
    "start_time": "2023-03-14T16:08:57.485Z"
   },
   {
    "duration": 16,
    "start_time": "2023-03-14T16:08:57.513Z"
   },
   {
    "duration": 12,
    "start_time": "2023-03-14T16:08:57.530Z"
   },
   {
    "duration": 26,
    "start_time": "2023-03-14T16:08:57.543Z"
   },
   {
    "duration": 10,
    "start_time": "2023-03-14T16:08:57.571Z"
   },
   {
    "duration": 9,
    "start_time": "2023-03-14T16:08:57.582Z"
   },
   {
    "duration": 135,
    "start_time": "2023-03-14T16:08:57.594Z"
   },
   {
    "duration": 16,
    "start_time": "2023-03-14T16:08:57.731Z"
   },
   {
    "duration": 20,
    "start_time": "2023-03-14T16:08:57.748Z"
   },
   {
    "duration": 12,
    "start_time": "2023-03-14T16:08:57.770Z"
   },
   {
    "duration": 30,
    "start_time": "2023-03-14T16:08:57.783Z"
   },
   {
    "duration": 3,
    "start_time": "2023-03-14T16:08:57.816Z"
   },
   {
    "duration": 11,
    "start_time": "2023-03-14T16:08:57.821Z"
   },
   {
    "duration": 7,
    "start_time": "2023-03-14T16:08:57.856Z"
   },
   {
    "duration": 10,
    "start_time": "2023-03-14T16:08:57.864Z"
   },
   {
    "duration": 41,
    "start_time": "2023-03-14T16:08:57.876Z"
   },
   {
    "duration": 37,
    "start_time": "2023-03-14T16:08:57.918Z"
   },
   {
    "duration": 2,
    "start_time": "2023-03-14T16:08:57.957Z"
   },
   {
    "duration": 27,
    "start_time": "2023-03-14T16:08:57.961Z"
   },
   {
    "duration": 991,
    "start_time": "2023-03-14T16:08:57.990Z"
   },
   {
    "duration": 1017,
    "start_time": "2023-03-14T16:08:58.983Z"
   },
   {
    "duration": 985,
    "start_time": "2023-03-14T16:09:00.002Z"
   },
   {
    "duration": 985,
    "start_time": "2023-03-14T16:09:00.988Z"
   },
   {
    "duration": 1006,
    "start_time": "2023-03-14T16:09:01.976Z"
   },
   {
    "duration": 932,
    "start_time": "2023-03-14T16:09:02.983Z"
   },
   {
    "duration": 5,
    "start_time": "2023-03-14T16:09:03.916Z"
   },
   {
    "duration": 10,
    "start_time": "2023-03-14T16:09:03.922Z"
   },
   {
    "duration": 27,
    "start_time": "2023-03-14T16:09:03.934Z"
   },
   {
    "duration": 98,
    "start_time": "2023-03-14T16:09:03.962Z"
   },
   {
    "duration": 0,
    "start_time": "2023-03-14T16:09:04.062Z"
   },
   {
    "duration": 0,
    "start_time": "2023-03-14T16:09:04.063Z"
   },
   {
    "duration": 0,
    "start_time": "2023-03-14T16:09:04.065Z"
   },
   {
    "duration": 0,
    "start_time": "2023-03-14T16:09:04.067Z"
   },
   {
    "duration": 0,
    "start_time": "2023-03-14T16:09:04.068Z"
   },
   {
    "duration": 0,
    "start_time": "2023-03-14T16:09:04.069Z"
   },
   {
    "duration": 0,
    "start_time": "2023-03-14T16:09:04.071Z"
   },
   {
    "duration": 0,
    "start_time": "2023-03-14T16:09:04.072Z"
   },
   {
    "duration": 0,
    "start_time": "2023-03-14T16:09:04.073Z"
   },
   {
    "duration": 0,
    "start_time": "2023-03-14T16:09:04.074Z"
   },
   {
    "duration": 0,
    "start_time": "2023-03-14T16:09:04.076Z"
   },
   {
    "duration": 0,
    "start_time": "2023-03-14T16:09:04.077Z"
   },
   {
    "duration": 0,
    "start_time": "2023-03-14T16:09:04.079Z"
   },
   {
    "duration": 0,
    "start_time": "2023-03-14T16:09:04.080Z"
   },
   {
    "duration": 0,
    "start_time": "2023-03-14T16:09:04.082Z"
   },
   {
    "duration": 0,
    "start_time": "2023-03-14T16:09:04.082Z"
   },
   {
    "duration": 0,
    "start_time": "2023-03-14T16:09:04.084Z"
   },
   {
    "duration": 0,
    "start_time": "2023-03-14T16:09:04.085Z"
   },
   {
    "duration": 0,
    "start_time": "2023-03-14T16:09:04.085Z"
   },
   {
    "duration": 0,
    "start_time": "2023-03-14T16:09:04.086Z"
   },
   {
    "duration": 0,
    "start_time": "2023-03-14T16:09:04.087Z"
   },
   {
    "duration": 0,
    "start_time": "2023-03-14T16:09:04.088Z"
   },
   {
    "duration": 0,
    "start_time": "2023-03-14T16:09:04.090Z"
   },
   {
    "duration": 0,
    "start_time": "2023-03-14T16:09:04.091Z"
   },
   {
    "duration": 0,
    "start_time": "2023-03-14T16:09:04.092Z"
   },
   {
    "duration": 0,
    "start_time": "2023-03-14T16:09:04.094Z"
   },
   {
    "duration": 0,
    "start_time": "2023-03-14T16:09:04.095Z"
   },
   {
    "duration": 0,
    "start_time": "2023-03-14T16:09:04.096Z"
   },
   {
    "duration": 0,
    "start_time": "2023-03-14T16:09:04.155Z"
   },
   {
    "duration": 0,
    "start_time": "2023-03-14T16:09:04.157Z"
   },
   {
    "duration": 0,
    "start_time": "2023-03-14T16:09:04.158Z"
   },
   {
    "duration": 0,
    "start_time": "2023-03-14T16:09:04.160Z"
   },
   {
    "duration": 0,
    "start_time": "2023-03-14T16:09:04.161Z"
   },
   {
    "duration": 27,
    "start_time": "2023-03-14T16:09:51.207Z"
   },
   {
    "duration": 25,
    "start_time": "2023-03-14T16:09:52.530Z"
   },
   {
    "duration": 23,
    "start_time": "2023-03-14T16:09:54.921Z"
   },
   {
    "duration": 95,
    "start_time": "2023-03-14T16:10:31.499Z"
   },
   {
    "duration": 24,
    "start_time": "2023-03-14T16:10:33.098Z"
   },
   {
    "duration": 28,
    "start_time": "2023-03-14T16:10:34.161Z"
   },
   {
    "duration": 24,
    "start_time": "2023-03-14T16:10:35.262Z"
   },
   {
    "duration": 26,
    "start_time": "2023-03-14T16:10:36.396Z"
   },
   {
    "duration": 24,
    "start_time": "2023-03-14T16:10:37.320Z"
   },
   {
    "duration": 38,
    "start_time": "2023-03-14T16:13:56.623Z"
   },
   {
    "duration": 26,
    "start_time": "2023-03-14T16:13:58.516Z"
   },
   {
    "duration": 27,
    "start_time": "2023-03-14T16:14:00.251Z"
   },
   {
    "duration": 28,
    "start_time": "2023-03-14T16:14:01.720Z"
   },
   {
    "duration": 90,
    "start_time": "2023-03-14T16:17:56.731Z"
   },
   {
    "duration": 660,
    "start_time": "2023-03-14T16:18:55.248Z"
   },
   {
    "duration": 100,
    "start_time": "2023-03-14T16:18:55.911Z"
   },
   {
    "duration": 93,
    "start_time": "2023-03-14T16:18:56.013Z"
   },
   {
    "duration": 65,
    "start_time": "2023-03-14T16:18:56.109Z"
   },
   {
    "duration": 2145,
    "start_time": "2023-03-14T16:18:56.177Z"
   },
   {
    "duration": 14,
    "start_time": "2023-03-14T16:18:58.324Z"
   },
   {
    "duration": 11,
    "start_time": "2023-03-14T16:18:58.340Z"
   },
   {
    "duration": 6,
    "start_time": "2023-03-14T16:18:58.353Z"
   },
   {
    "duration": 80,
    "start_time": "2023-03-14T16:18:58.362Z"
   },
   {
    "duration": 11,
    "start_time": "2023-03-14T16:18:58.446Z"
   },
   {
    "duration": 34,
    "start_time": "2023-03-14T16:18:58.459Z"
   },
   {
    "duration": 19,
    "start_time": "2023-03-14T16:18:58.495Z"
   },
   {
    "duration": 5,
    "start_time": "2023-03-14T16:18:58.516Z"
   },
   {
    "duration": 36,
    "start_time": "2023-03-14T16:18:58.522Z"
   },
   {
    "duration": 13,
    "start_time": "2023-03-14T16:18:58.560Z"
   },
   {
    "duration": 9,
    "start_time": "2023-03-14T16:18:58.575Z"
   },
   {
    "duration": 10,
    "start_time": "2023-03-14T16:18:58.586Z"
   },
   {
    "duration": 60,
    "start_time": "2023-03-14T16:18:58.597Z"
   },
   {
    "duration": 11,
    "start_time": "2023-03-14T16:18:58.658Z"
   },
   {
    "duration": 18,
    "start_time": "2023-03-14T16:18:58.670Z"
   },
   {
    "duration": 144,
    "start_time": "2023-03-14T16:18:58.690Z"
   },
   {
    "duration": 24,
    "start_time": "2023-03-14T16:18:58.836Z"
   },
   {
    "duration": 15,
    "start_time": "2023-03-14T16:18:58.861Z"
   },
   {
    "duration": 22,
    "start_time": "2023-03-14T16:18:58.877Z"
   },
   {
    "duration": 27,
    "start_time": "2023-03-14T16:18:58.901Z"
   },
   {
    "duration": 3,
    "start_time": "2023-03-14T16:18:58.930Z"
   },
   {
    "duration": 31,
    "start_time": "2023-03-14T16:18:58.935Z"
   },
   {
    "duration": 10,
    "start_time": "2023-03-14T16:18:58.972Z"
   },
   {
    "duration": 9,
    "start_time": "2023-03-14T16:18:58.984Z"
   },
   {
    "duration": 33,
    "start_time": "2023-03-14T16:18:58.994Z"
   },
   {
    "duration": 7,
    "start_time": "2023-03-14T16:18:59.056Z"
   },
   {
    "duration": 4,
    "start_time": "2023-03-14T16:18:59.065Z"
   },
   {
    "duration": 34,
    "start_time": "2023-03-14T16:18:59.070Z"
   },
   {
    "duration": 1070,
    "start_time": "2023-03-14T16:18:59.106Z"
   },
   {
    "duration": 1054,
    "start_time": "2023-03-14T16:19:00.178Z"
   },
   {
    "duration": 1015,
    "start_time": "2023-03-14T16:19:01.233Z"
   },
   {
    "duration": 976,
    "start_time": "2023-03-14T16:19:02.250Z"
   },
   {
    "duration": 951,
    "start_time": "2023-03-14T16:19:03.228Z"
   },
   {
    "duration": 989,
    "start_time": "2023-03-14T16:19:04.181Z"
   },
   {
    "duration": 7,
    "start_time": "2023-03-14T16:19:05.171Z"
   },
   {
    "duration": 27,
    "start_time": "2023-03-14T16:19:05.180Z"
   },
   {
    "duration": 13,
    "start_time": "2023-03-14T16:19:05.209Z"
   },
   {
    "duration": 114,
    "start_time": "2023-03-14T16:19:05.224Z"
   },
   {
    "duration": 0,
    "start_time": "2023-03-14T16:19:05.340Z"
   },
   {
    "duration": 0,
    "start_time": "2023-03-14T16:19:05.342Z"
   },
   {
    "duration": 0,
    "start_time": "2023-03-14T16:19:05.343Z"
   },
   {
    "duration": 1,
    "start_time": "2023-03-14T16:19:05.343Z"
   },
   {
    "duration": 0,
    "start_time": "2023-03-14T16:19:05.356Z"
   },
   {
    "duration": 0,
    "start_time": "2023-03-14T16:19:05.357Z"
   },
   {
    "duration": 0,
    "start_time": "2023-03-14T16:19:05.358Z"
   },
   {
    "duration": 0,
    "start_time": "2023-03-14T16:19:05.360Z"
   },
   {
    "duration": 0,
    "start_time": "2023-03-14T16:19:05.361Z"
   },
   {
    "duration": 0,
    "start_time": "2023-03-14T16:19:05.363Z"
   },
   {
    "duration": 0,
    "start_time": "2023-03-14T16:19:05.364Z"
   },
   {
    "duration": 0,
    "start_time": "2023-03-14T16:19:05.366Z"
   },
   {
    "duration": 0,
    "start_time": "2023-03-14T16:19:05.367Z"
   },
   {
    "duration": 0,
    "start_time": "2023-03-14T16:19:05.368Z"
   },
   {
    "duration": 0,
    "start_time": "2023-03-14T16:19:05.369Z"
   },
   {
    "duration": 0,
    "start_time": "2023-03-14T16:19:05.371Z"
   },
   {
    "duration": 0,
    "start_time": "2023-03-14T16:19:05.372Z"
   },
   {
    "duration": 0,
    "start_time": "2023-03-14T16:19:05.373Z"
   },
   {
    "duration": 0,
    "start_time": "2023-03-14T16:19:05.374Z"
   },
   {
    "duration": 0,
    "start_time": "2023-03-14T16:19:05.376Z"
   },
   {
    "duration": 1,
    "start_time": "2023-03-14T16:19:05.377Z"
   },
   {
    "duration": 0,
    "start_time": "2023-03-14T16:19:05.380Z"
   },
   {
    "duration": 0,
    "start_time": "2023-03-14T16:19:05.381Z"
   },
   {
    "duration": 0,
    "start_time": "2023-03-14T16:19:05.383Z"
   },
   {
    "duration": 0,
    "start_time": "2023-03-14T16:19:05.388Z"
   },
   {
    "duration": 0,
    "start_time": "2023-03-14T16:19:05.389Z"
   },
   {
    "duration": 0,
    "start_time": "2023-03-14T16:19:05.390Z"
   },
   {
    "duration": 0,
    "start_time": "2023-03-14T16:19:05.391Z"
   },
   {
    "duration": 0,
    "start_time": "2023-03-14T16:19:05.393Z"
   },
   {
    "duration": 0,
    "start_time": "2023-03-14T16:19:05.394Z"
   },
   {
    "duration": 0,
    "start_time": "2023-03-14T16:19:05.395Z"
   },
   {
    "duration": 0,
    "start_time": "2023-03-14T16:19:05.456Z"
   },
   {
    "duration": 1,
    "start_time": "2023-03-14T16:19:05.458Z"
   },
   {
    "duration": 27,
    "start_time": "2023-03-14T16:20:41.244Z"
   },
   {
    "duration": 27,
    "start_time": "2023-03-14T16:20:43.254Z"
   },
   {
    "duration": 621,
    "start_time": "2023-03-14T16:20:52.884Z"
   },
   {
    "duration": 97,
    "start_time": "2023-03-14T16:20:53.507Z"
   },
   {
    "duration": 77,
    "start_time": "2023-03-14T16:20:53.606Z"
   },
   {
    "duration": 35,
    "start_time": "2023-03-14T16:20:53.685Z"
   },
   {
    "duration": 1833,
    "start_time": "2023-03-14T16:20:53.721Z"
   },
   {
    "duration": 9,
    "start_time": "2023-03-14T16:20:55.555Z"
   },
   {
    "duration": 8,
    "start_time": "2023-03-14T16:20:55.566Z"
   },
   {
    "duration": 5,
    "start_time": "2023-03-14T16:20:55.575Z"
   },
   {
    "duration": 82,
    "start_time": "2023-03-14T16:20:55.581Z"
   },
   {
    "duration": 3,
    "start_time": "2023-03-14T16:20:55.666Z"
   },
   {
    "duration": 19,
    "start_time": "2023-03-14T16:20:55.670Z"
   },
   {
    "duration": 14,
    "start_time": "2023-03-14T16:20:55.690Z"
   },
   {
    "duration": 4,
    "start_time": "2023-03-14T16:20:55.706Z"
   },
   {
    "duration": 12,
    "start_time": "2023-03-14T16:20:55.711Z"
   },
   {
    "duration": 38,
    "start_time": "2023-03-14T16:20:55.724Z"
   },
   {
    "duration": 23,
    "start_time": "2023-03-14T16:20:55.764Z"
   },
   {
    "duration": 8,
    "start_time": "2023-03-14T16:20:55.789Z"
   },
   {
    "duration": 33,
    "start_time": "2023-03-14T16:20:55.799Z"
   },
   {
    "duration": 9,
    "start_time": "2023-03-14T16:20:55.834Z"
   },
   {
    "duration": 14,
    "start_time": "2023-03-14T16:20:55.845Z"
   },
   {
    "duration": 104,
    "start_time": "2023-03-14T16:20:55.861Z"
   },
   {
    "duration": 14,
    "start_time": "2023-03-14T16:20:55.967Z"
   },
   {
    "duration": 14,
    "start_time": "2023-03-14T16:20:55.982Z"
   },
   {
    "duration": 9,
    "start_time": "2023-03-14T16:20:55.998Z"
   },
   {
    "duration": 27,
    "start_time": "2023-03-14T16:20:56.008Z"
   },
   {
    "duration": 19,
    "start_time": "2023-03-14T16:20:56.037Z"
   },
   {
    "duration": 10,
    "start_time": "2023-03-14T16:20:56.058Z"
   },
   {
    "duration": 10,
    "start_time": "2023-03-14T16:20:56.072Z"
   },
   {
    "duration": 8,
    "start_time": "2023-03-14T16:20:56.084Z"
   },
   {
    "duration": 32,
    "start_time": "2023-03-14T16:20:56.094Z"
   },
   {
    "duration": 8,
    "start_time": "2023-03-14T16:20:56.155Z"
   },
   {
    "duration": 4,
    "start_time": "2023-03-14T16:20:56.165Z"
   },
   {
    "duration": 27,
    "start_time": "2023-03-14T16:20:56.170Z"
   },
   {
    "duration": 1008,
    "start_time": "2023-03-14T16:20:56.199Z"
   },
   {
    "duration": 963,
    "start_time": "2023-03-14T16:20:57.208Z"
   },
   {
    "duration": 925,
    "start_time": "2023-03-14T16:20:58.173Z"
   },
   {
    "duration": 972,
    "start_time": "2023-03-14T16:20:59.100Z"
   },
   {
    "duration": 1013,
    "start_time": "2023-03-14T16:21:00.074Z"
   },
   {
    "duration": 1002,
    "start_time": "2023-03-14T16:21:01.089Z"
   },
   {
    "duration": 6,
    "start_time": "2023-03-14T16:21:02.093Z"
   },
   {
    "duration": 24,
    "start_time": "2023-03-14T16:21:02.100Z"
   },
   {
    "duration": 42,
    "start_time": "2023-03-14T16:21:02.126Z"
   },
   {
    "duration": 98,
    "start_time": "2023-03-14T16:21:02.170Z"
   },
   {
    "duration": 0,
    "start_time": "2023-03-14T16:21:02.270Z"
   },
   {
    "duration": 0,
    "start_time": "2023-03-14T16:21:02.271Z"
   },
   {
    "duration": 0,
    "start_time": "2023-03-14T16:21:02.271Z"
   },
   {
    "duration": 0,
    "start_time": "2023-03-14T16:21:02.273Z"
   },
   {
    "duration": 0,
    "start_time": "2023-03-14T16:21:02.274Z"
   },
   {
    "duration": 0,
    "start_time": "2023-03-14T16:21:02.275Z"
   },
   {
    "duration": 0,
    "start_time": "2023-03-14T16:21:02.276Z"
   },
   {
    "duration": 0,
    "start_time": "2023-03-14T16:21:02.277Z"
   },
   {
    "duration": 0,
    "start_time": "2023-03-14T16:21:02.278Z"
   },
   {
    "duration": 0,
    "start_time": "2023-03-14T16:21:02.279Z"
   },
   {
    "duration": 0,
    "start_time": "2023-03-14T16:21:02.280Z"
   },
   {
    "duration": 0,
    "start_time": "2023-03-14T16:21:02.281Z"
   },
   {
    "duration": 0,
    "start_time": "2023-03-14T16:21:02.283Z"
   },
   {
    "duration": 0,
    "start_time": "2023-03-14T16:21:02.284Z"
   },
   {
    "duration": 0,
    "start_time": "2023-03-14T16:21:02.285Z"
   },
   {
    "duration": 0,
    "start_time": "2023-03-14T16:21:02.286Z"
   },
   {
    "duration": 0,
    "start_time": "2023-03-14T16:21:02.286Z"
   },
   {
    "duration": 0,
    "start_time": "2023-03-14T16:21:02.287Z"
   },
   {
    "duration": 0,
    "start_time": "2023-03-14T16:21:02.288Z"
   },
   {
    "duration": 0,
    "start_time": "2023-03-14T16:21:02.289Z"
   },
   {
    "duration": 0,
    "start_time": "2023-03-14T16:21:02.290Z"
   },
   {
    "duration": 0,
    "start_time": "2023-03-14T16:21:02.291Z"
   },
   {
    "duration": 0,
    "start_time": "2023-03-14T16:21:02.292Z"
   },
   {
    "duration": 0,
    "start_time": "2023-03-14T16:21:02.294Z"
   },
   {
    "duration": 0,
    "start_time": "2023-03-14T16:21:02.294Z"
   },
   {
    "duration": 0,
    "start_time": "2023-03-14T16:21:02.295Z"
   },
   {
    "duration": 0,
    "start_time": "2023-03-14T16:21:02.296Z"
   },
   {
    "duration": 0,
    "start_time": "2023-03-14T16:21:02.297Z"
   },
   {
    "duration": 0,
    "start_time": "2023-03-14T16:21:02.298Z"
   },
   {
    "duration": 0,
    "start_time": "2023-03-14T16:21:02.299Z"
   },
   {
    "duration": 0,
    "start_time": "2023-03-14T16:21:02.300Z"
   },
   {
    "duration": 0,
    "start_time": "2023-03-14T16:21:02.301Z"
   },
   {
    "duration": 1,
    "start_time": "2023-03-14T16:21:02.355Z"
   },
   {
    "duration": 6,
    "start_time": "2023-03-14T16:22:42.961Z"
   },
   {
    "duration": 8,
    "start_time": "2023-03-14T16:23:58.372Z"
   },
   {
    "duration": 28,
    "start_time": "2023-03-14T16:24:01.633Z"
   },
   {
    "duration": 30,
    "start_time": "2023-03-14T16:24:02.902Z"
   },
   {
    "duration": 24,
    "start_time": "2023-03-14T16:24:04.545Z"
   },
   {
    "duration": 87,
    "start_time": "2023-03-14T16:24:14.234Z"
   },
   {
    "duration": 26,
    "start_time": "2023-03-14T16:24:34.344Z"
   },
   {
    "duration": 25,
    "start_time": "2023-03-14T16:25:26.613Z"
   },
   {
    "duration": 610,
    "start_time": "2023-03-14T16:25:39.613Z"
   },
   {
    "duration": 97,
    "start_time": "2023-03-14T16:25:40.225Z"
   },
   {
    "duration": 75,
    "start_time": "2023-03-14T16:25:40.323Z"
   },
   {
    "duration": 36,
    "start_time": "2023-03-14T16:25:40.400Z"
   },
   {
    "duration": 1771,
    "start_time": "2023-03-14T16:25:40.438Z"
   },
   {
    "duration": 8,
    "start_time": "2023-03-14T16:25:42.211Z"
   },
   {
    "duration": 8,
    "start_time": "2023-03-14T16:25:42.221Z"
   },
   {
    "duration": 4,
    "start_time": "2023-03-14T16:25:42.231Z"
   },
   {
    "duration": 60,
    "start_time": "2023-03-14T16:25:42.237Z"
   },
   {
    "duration": 2,
    "start_time": "2023-03-14T16:25:42.300Z"
   },
   {
    "duration": 18,
    "start_time": "2023-03-14T16:25:42.303Z"
   },
   {
    "duration": 35,
    "start_time": "2023-03-14T16:25:42.322Z"
   },
   {
    "duration": 5,
    "start_time": "2023-03-14T16:25:42.358Z"
   },
   {
    "duration": 11,
    "start_time": "2023-03-14T16:25:42.364Z"
   },
   {
    "duration": 9,
    "start_time": "2023-03-14T16:25:42.376Z"
   },
   {
    "duration": 8,
    "start_time": "2023-03-14T16:25:42.386Z"
   },
   {
    "duration": 8,
    "start_time": "2023-03-14T16:25:42.396Z"
   },
   {
    "duration": 54,
    "start_time": "2023-03-14T16:25:42.405Z"
   },
   {
    "duration": 9,
    "start_time": "2023-03-14T16:25:42.461Z"
   },
   {
    "duration": 7,
    "start_time": "2023-03-14T16:25:42.472Z"
   },
   {
    "duration": 113,
    "start_time": "2023-03-14T16:25:42.480Z"
   },
   {
    "duration": 13,
    "start_time": "2023-03-14T16:25:42.594Z"
   },
   {
    "duration": 13,
    "start_time": "2023-03-14T16:25:42.608Z"
   },
   {
    "duration": 9,
    "start_time": "2023-03-14T16:25:42.622Z"
   },
   {
    "duration": 33,
    "start_time": "2023-03-14T16:25:42.632Z"
   },
   {
    "duration": 3,
    "start_time": "2023-03-14T16:25:42.667Z"
   },
   {
    "duration": 20,
    "start_time": "2023-03-14T16:25:42.671Z"
   },
   {
    "duration": 6,
    "start_time": "2023-03-14T16:25:42.695Z"
   },
   {
    "duration": 8,
    "start_time": "2023-03-14T16:25:42.703Z"
   },
   {
    "duration": 49,
    "start_time": "2023-03-14T16:25:42.712Z"
   },
   {
    "duration": 11,
    "start_time": "2023-03-14T16:25:42.763Z"
   },
   {
    "duration": 3,
    "start_time": "2023-03-14T16:25:42.776Z"
   },
   {
    "duration": 35,
    "start_time": "2023-03-14T16:25:42.781Z"
   },
   {
    "duration": 954,
    "start_time": "2023-03-14T16:25:42.818Z"
   },
   {
    "duration": 938,
    "start_time": "2023-03-14T16:25:43.774Z"
   },
   {
    "duration": 981,
    "start_time": "2023-03-14T16:25:44.714Z"
   },
   {
    "duration": 956,
    "start_time": "2023-03-14T16:25:45.697Z"
   },
   {
    "duration": 1032,
    "start_time": "2023-03-14T16:25:46.655Z"
   },
   {
    "duration": 970,
    "start_time": "2023-03-14T16:25:47.688Z"
   },
   {
    "duration": 6,
    "start_time": "2023-03-14T16:25:48.660Z"
   },
   {
    "duration": 15,
    "start_time": "2023-03-14T16:25:48.667Z"
   },
   {
    "duration": 13,
    "start_time": "2023-03-14T16:25:48.683Z"
   },
   {
    "duration": 117,
    "start_time": "2023-03-14T16:25:48.698Z"
   },
   {
    "duration": 0,
    "start_time": "2023-03-14T16:25:48.817Z"
   },
   {
    "duration": 0,
    "start_time": "2023-03-14T16:25:48.818Z"
   },
   {
    "duration": 0,
    "start_time": "2023-03-14T16:25:48.819Z"
   },
   {
    "duration": 0,
    "start_time": "2023-03-14T16:25:48.820Z"
   },
   {
    "duration": 0,
    "start_time": "2023-03-14T16:25:48.821Z"
   },
   {
    "duration": 0,
    "start_time": "2023-03-14T16:25:48.822Z"
   },
   {
    "duration": 0,
    "start_time": "2023-03-14T16:25:48.824Z"
   },
   {
    "duration": 0,
    "start_time": "2023-03-14T16:25:48.825Z"
   },
   {
    "duration": 0,
    "start_time": "2023-03-14T16:25:48.826Z"
   },
   {
    "duration": 0,
    "start_time": "2023-03-14T16:25:48.826Z"
   },
   {
    "duration": 0,
    "start_time": "2023-03-14T16:25:48.827Z"
   },
   {
    "duration": 0,
    "start_time": "2023-03-14T16:25:48.855Z"
   },
   {
    "duration": 0,
    "start_time": "2023-03-14T16:25:48.856Z"
   },
   {
    "duration": 0,
    "start_time": "2023-03-14T16:25:48.857Z"
   },
   {
    "duration": 0,
    "start_time": "2023-03-14T16:25:48.858Z"
   },
   {
    "duration": 0,
    "start_time": "2023-03-14T16:25:48.859Z"
   },
   {
    "duration": 0,
    "start_time": "2023-03-14T16:25:48.860Z"
   },
   {
    "duration": 0,
    "start_time": "2023-03-14T16:25:48.861Z"
   },
   {
    "duration": 0,
    "start_time": "2023-03-14T16:25:48.861Z"
   },
   {
    "duration": 0,
    "start_time": "2023-03-14T16:25:48.862Z"
   },
   {
    "duration": 0,
    "start_time": "2023-03-14T16:25:48.863Z"
   },
   {
    "duration": 0,
    "start_time": "2023-03-14T16:25:48.864Z"
   },
   {
    "duration": 0,
    "start_time": "2023-03-14T16:25:48.865Z"
   },
   {
    "duration": 0,
    "start_time": "2023-03-14T16:25:48.866Z"
   },
   {
    "duration": 0,
    "start_time": "2023-03-14T16:25:48.866Z"
   },
   {
    "duration": 0,
    "start_time": "2023-03-14T16:25:48.868Z"
   },
   {
    "duration": 0,
    "start_time": "2023-03-14T16:25:48.869Z"
   },
   {
    "duration": 0,
    "start_time": "2023-03-14T16:25:48.870Z"
   },
   {
    "duration": 0,
    "start_time": "2023-03-14T16:25:48.870Z"
   },
   {
    "duration": 0,
    "start_time": "2023-03-14T16:25:48.871Z"
   },
   {
    "duration": 0,
    "start_time": "2023-03-14T16:25:48.872Z"
   },
   {
    "duration": 0,
    "start_time": "2023-03-14T16:25:48.873Z"
   },
   {
    "duration": 0,
    "start_time": "2023-03-14T16:25:48.874Z"
   },
   {
    "duration": 643,
    "start_time": "2023-03-14T16:32:35.253Z"
   },
   {
    "duration": 96,
    "start_time": "2023-03-14T16:32:35.898Z"
   },
   {
    "duration": 74,
    "start_time": "2023-03-14T16:32:35.996Z"
   },
   {
    "duration": 34,
    "start_time": "2023-03-14T16:32:36.071Z"
   },
   {
    "duration": 1858,
    "start_time": "2023-03-14T16:32:36.107Z"
   },
   {
    "duration": 9,
    "start_time": "2023-03-14T16:32:37.967Z"
   },
   {
    "duration": 9,
    "start_time": "2023-03-14T16:32:37.977Z"
   },
   {
    "duration": 4,
    "start_time": "2023-03-14T16:32:37.987Z"
   },
   {
    "duration": 69,
    "start_time": "2023-03-14T16:32:37.992Z"
   },
   {
    "duration": 2,
    "start_time": "2023-03-14T16:32:38.063Z"
   },
   {
    "duration": 22,
    "start_time": "2023-03-14T16:32:38.067Z"
   },
   {
    "duration": 14,
    "start_time": "2023-03-14T16:32:38.090Z"
   },
   {
    "duration": 4,
    "start_time": "2023-03-14T16:32:38.105Z"
   },
   {
    "duration": 8,
    "start_time": "2023-03-14T16:32:38.111Z"
   },
   {
    "duration": 41,
    "start_time": "2023-03-14T16:32:38.120Z"
   },
   {
    "duration": 8,
    "start_time": "2023-03-14T16:32:38.162Z"
   },
   {
    "duration": 8,
    "start_time": "2023-03-14T16:32:38.172Z"
   },
   {
    "duration": 24,
    "start_time": "2023-03-14T16:32:38.181Z"
   },
   {
    "duration": 10,
    "start_time": "2023-03-14T16:32:38.206Z"
   },
   {
    "duration": 39,
    "start_time": "2023-03-14T16:32:38.218Z"
   },
   {
    "duration": 105,
    "start_time": "2023-03-14T16:32:38.259Z"
   },
   {
    "duration": 13,
    "start_time": "2023-03-14T16:32:38.365Z"
   },
   {
    "duration": 14,
    "start_time": "2023-03-14T16:32:38.379Z"
   },
   {
    "duration": 8,
    "start_time": "2023-03-14T16:32:38.395Z"
   },
   {
    "duration": 12,
    "start_time": "2023-03-14T16:32:38.404Z"
   },
   {
    "duration": 3,
    "start_time": "2023-03-14T16:32:38.418Z"
   },
   {
    "duration": 35,
    "start_time": "2023-03-14T16:32:38.422Z"
   },
   {
    "duration": 6,
    "start_time": "2023-03-14T16:32:38.459Z"
   },
   {
    "duration": 8,
    "start_time": "2023-03-14T16:32:38.466Z"
   },
   {
    "duration": 31,
    "start_time": "2023-03-14T16:32:38.476Z"
   },
   {
    "duration": 9,
    "start_time": "2023-03-14T16:32:38.509Z"
   },
   {
    "duration": 3,
    "start_time": "2023-03-14T16:32:38.519Z"
   },
   {
    "duration": 47,
    "start_time": "2023-03-14T16:32:38.523Z"
   },
   {
    "duration": 943,
    "start_time": "2023-03-14T16:32:38.572Z"
   },
   {
    "duration": 958,
    "start_time": "2023-03-14T16:32:39.516Z"
   },
   {
    "duration": 939,
    "start_time": "2023-03-14T16:32:40.475Z"
   },
   {
    "duration": 932,
    "start_time": "2023-03-14T16:32:41.415Z"
   },
   {
    "duration": 916,
    "start_time": "2023-03-14T16:32:42.349Z"
   },
   {
    "duration": 940,
    "start_time": "2023-03-14T16:32:43.267Z"
   },
   {
    "duration": 5,
    "start_time": "2023-03-14T16:32:44.209Z"
   },
   {
    "duration": 8,
    "start_time": "2023-03-14T16:32:44.218Z"
   },
   {
    "duration": 31,
    "start_time": "2023-03-14T16:32:44.227Z"
   },
   {
    "duration": 100,
    "start_time": "2023-03-14T16:32:44.259Z"
   },
   {
    "duration": 0,
    "start_time": "2023-03-14T16:32:44.360Z"
   },
   {
    "duration": 0,
    "start_time": "2023-03-14T16:32:44.362Z"
   },
   {
    "duration": 0,
    "start_time": "2023-03-14T16:32:44.363Z"
   },
   {
    "duration": 0,
    "start_time": "2023-03-14T16:32:44.364Z"
   },
   {
    "duration": 0,
    "start_time": "2023-03-14T16:32:44.366Z"
   },
   {
    "duration": 0,
    "start_time": "2023-03-14T16:32:44.367Z"
   },
   {
    "duration": 0,
    "start_time": "2023-03-14T16:32:44.368Z"
   },
   {
    "duration": 0,
    "start_time": "2023-03-14T16:32:44.370Z"
   },
   {
    "duration": 0,
    "start_time": "2023-03-14T16:32:44.371Z"
   },
   {
    "duration": 0,
    "start_time": "2023-03-14T16:32:44.372Z"
   },
   {
    "duration": 0,
    "start_time": "2023-03-14T16:32:44.374Z"
   },
   {
    "duration": 0,
    "start_time": "2023-03-14T16:32:44.375Z"
   },
   {
    "duration": 0,
    "start_time": "2023-03-14T16:32:44.376Z"
   },
   {
    "duration": 0,
    "start_time": "2023-03-14T16:32:44.378Z"
   },
   {
    "duration": 0,
    "start_time": "2023-03-14T16:32:44.379Z"
   },
   {
    "duration": 0,
    "start_time": "2023-03-14T16:32:44.380Z"
   },
   {
    "duration": 0,
    "start_time": "2023-03-14T16:32:44.381Z"
   },
   {
    "duration": 0,
    "start_time": "2023-03-14T16:32:44.382Z"
   },
   {
    "duration": 0,
    "start_time": "2023-03-14T16:32:44.384Z"
   },
   {
    "duration": 0,
    "start_time": "2023-03-14T16:32:44.385Z"
   },
   {
    "duration": 0,
    "start_time": "2023-03-14T16:32:44.386Z"
   },
   {
    "duration": 0,
    "start_time": "2023-03-14T16:32:44.387Z"
   },
   {
    "duration": 0,
    "start_time": "2023-03-14T16:32:44.388Z"
   },
   {
    "duration": 0,
    "start_time": "2023-03-14T16:32:44.389Z"
   },
   {
    "duration": 0,
    "start_time": "2023-03-14T16:32:44.390Z"
   },
   {
    "duration": 0,
    "start_time": "2023-03-14T16:32:44.391Z"
   },
   {
    "duration": 0,
    "start_time": "2023-03-14T16:32:44.392Z"
   },
   {
    "duration": 0,
    "start_time": "2023-03-14T16:32:44.393Z"
   },
   {
    "duration": 0,
    "start_time": "2023-03-14T16:32:44.394Z"
   },
   {
    "duration": 0,
    "start_time": "2023-03-14T16:32:44.395Z"
   },
   {
    "duration": 0,
    "start_time": "2023-03-14T16:32:44.395Z"
   },
   {
    "duration": 0,
    "start_time": "2023-03-14T16:32:44.455Z"
   },
   {
    "duration": 0,
    "start_time": "2023-03-14T16:32:44.456Z"
   },
   {
    "duration": 25,
    "start_time": "2023-03-14T16:45:33.869Z"
   },
   {
    "duration": 25,
    "start_time": "2023-03-14T16:48:11.093Z"
   },
   {
    "duration": 30,
    "start_time": "2023-03-14T16:48:22.151Z"
   },
   {
    "duration": 112,
    "start_time": "2023-03-14T16:48:23.566Z"
   },
   {
    "duration": 26,
    "start_time": "2023-03-14T16:48:24.966Z"
   },
   {
    "duration": 25,
    "start_time": "2023-03-14T16:48:26.034Z"
   },
   {
    "duration": 647,
    "start_time": "2023-03-14T16:49:17.146Z"
   },
   {
    "duration": 105,
    "start_time": "2023-03-14T16:49:17.794Z"
   },
   {
    "duration": 78,
    "start_time": "2023-03-14T16:49:17.900Z"
   },
   {
    "duration": 36,
    "start_time": "2023-03-14T16:49:17.979Z"
   },
   {
    "duration": 1817,
    "start_time": "2023-03-14T16:49:18.016Z"
   },
   {
    "duration": 9,
    "start_time": "2023-03-14T16:49:19.834Z"
   },
   {
    "duration": 8,
    "start_time": "2023-03-14T16:49:19.844Z"
   },
   {
    "duration": 14,
    "start_time": "2023-03-14T16:49:19.854Z"
   },
   {
    "duration": 60,
    "start_time": "2023-03-14T16:49:19.873Z"
   },
   {
    "duration": 2,
    "start_time": "2023-03-14T16:49:19.937Z"
   },
   {
    "duration": 30,
    "start_time": "2023-03-14T16:49:19.941Z"
   },
   {
    "duration": 15,
    "start_time": "2023-03-14T16:49:19.972Z"
   },
   {
    "duration": 5,
    "start_time": "2023-03-14T16:49:19.989Z"
   },
   {
    "duration": 9,
    "start_time": "2023-03-14T16:49:19.995Z"
   },
   {
    "duration": 9,
    "start_time": "2023-03-14T16:49:20.006Z"
   },
   {
    "duration": 51,
    "start_time": "2023-03-14T16:49:20.017Z"
   },
   {
    "duration": 9,
    "start_time": "2023-03-14T16:49:20.070Z"
   },
   {
    "duration": 25,
    "start_time": "2023-03-14T16:49:20.080Z"
   },
   {
    "duration": 10,
    "start_time": "2023-03-14T16:49:20.107Z"
   },
   {
    "duration": 8,
    "start_time": "2023-03-14T16:49:20.119Z"
   },
   {
    "duration": 119,
    "start_time": "2023-03-14T16:49:20.128Z"
   },
   {
    "duration": 31,
    "start_time": "2023-03-14T16:49:20.249Z"
   },
   {
    "duration": 13,
    "start_time": "2023-03-14T16:49:20.281Z"
   },
   {
    "duration": 25,
    "start_time": "2023-03-14T16:49:20.295Z"
   },
   {
    "duration": 28,
    "start_time": "2023-03-14T16:49:20.321Z"
   },
   {
    "duration": 3,
    "start_time": "2023-03-14T16:49:20.351Z"
   },
   {
    "duration": 25,
    "start_time": "2023-03-14T16:49:20.365Z"
   },
   {
    "duration": 17,
    "start_time": "2023-03-14T16:49:20.394Z"
   },
   {
    "duration": 22,
    "start_time": "2023-03-14T16:49:20.413Z"
   },
   {
    "duration": 49,
    "start_time": "2023-03-14T16:49:20.436Z"
   },
   {
    "duration": 7,
    "start_time": "2023-03-14T16:49:20.486Z"
   },
   {
    "duration": 45,
    "start_time": "2023-03-14T16:49:20.494Z"
   },
   {
    "duration": 61,
    "start_time": "2023-03-14T16:49:20.541Z"
   },
   {
    "duration": 996,
    "start_time": "2023-03-14T16:49:20.603Z"
   },
   {
    "duration": 1014,
    "start_time": "2023-03-14T16:49:21.601Z"
   },
   {
    "duration": 1013,
    "start_time": "2023-03-14T16:49:22.616Z"
   },
   {
    "duration": 1042,
    "start_time": "2023-03-14T16:49:23.631Z"
   },
   {
    "duration": 1060,
    "start_time": "2023-03-14T16:49:24.674Z"
   },
   {
    "duration": 1071,
    "start_time": "2023-03-14T16:49:25.736Z"
   },
   {
    "duration": 7,
    "start_time": "2023-03-14T16:49:26.809Z"
   },
   {
    "duration": 11,
    "start_time": "2023-03-14T16:49:26.818Z"
   },
   {
    "duration": 39,
    "start_time": "2023-03-14T16:49:26.831Z"
   },
   {
    "duration": 151,
    "start_time": "2023-03-14T16:49:26.877Z"
   },
   {
    "duration": 0,
    "start_time": "2023-03-14T16:49:27.030Z"
   },
   {
    "duration": 0,
    "start_time": "2023-03-14T16:49:27.031Z"
   },
   {
    "duration": 0,
    "start_time": "2023-03-14T16:49:27.032Z"
   },
   {
    "duration": 0,
    "start_time": "2023-03-14T16:49:27.033Z"
   },
   {
    "duration": 0,
    "start_time": "2023-03-14T16:49:27.034Z"
   },
   {
    "duration": 0,
    "start_time": "2023-03-14T16:49:27.035Z"
   },
   {
    "duration": 0,
    "start_time": "2023-03-14T16:49:27.036Z"
   },
   {
    "duration": 1,
    "start_time": "2023-03-14T16:49:27.060Z"
   },
   {
    "duration": 0,
    "start_time": "2023-03-14T16:49:27.061Z"
   },
   {
    "duration": 3,
    "start_time": "2023-03-14T16:49:27.062Z"
   },
   {
    "duration": 0,
    "start_time": "2023-03-14T16:49:27.066Z"
   },
   {
    "duration": 0,
    "start_time": "2023-03-14T16:49:27.066Z"
   },
   {
    "duration": 0,
    "start_time": "2023-03-14T16:49:27.067Z"
   },
   {
    "duration": 0,
    "start_time": "2023-03-14T16:49:27.068Z"
   },
   {
    "duration": 0,
    "start_time": "2023-03-14T16:49:27.070Z"
   },
   {
    "duration": 0,
    "start_time": "2023-03-14T16:49:27.071Z"
   },
   {
    "duration": 0,
    "start_time": "2023-03-14T16:49:27.072Z"
   },
   {
    "duration": 0,
    "start_time": "2023-03-14T16:49:27.073Z"
   },
   {
    "duration": 0,
    "start_time": "2023-03-14T16:49:27.073Z"
   },
   {
    "duration": 0,
    "start_time": "2023-03-14T16:49:27.074Z"
   },
   {
    "duration": 0,
    "start_time": "2023-03-14T16:49:27.075Z"
   },
   {
    "duration": 0,
    "start_time": "2023-03-14T16:49:27.076Z"
   },
   {
    "duration": 0,
    "start_time": "2023-03-14T16:49:27.077Z"
   },
   {
    "duration": 0,
    "start_time": "2023-03-14T16:49:27.078Z"
   },
   {
    "duration": 0,
    "start_time": "2023-03-14T16:49:27.079Z"
   },
   {
    "duration": 0,
    "start_time": "2023-03-14T16:49:27.080Z"
   },
   {
    "duration": 0,
    "start_time": "2023-03-14T16:49:27.081Z"
   },
   {
    "duration": 0,
    "start_time": "2023-03-14T16:49:27.082Z"
   },
   {
    "duration": 0,
    "start_time": "2023-03-14T16:49:27.083Z"
   },
   {
    "duration": 0,
    "start_time": "2023-03-14T16:49:27.084Z"
   },
   {
    "duration": 0,
    "start_time": "2023-03-14T16:49:27.084Z"
   },
   {
    "duration": 0,
    "start_time": "2023-03-14T16:49:27.085Z"
   },
   {
    "duration": 0,
    "start_time": "2023-03-14T16:49:27.086Z"
   },
   {
    "duration": 23,
    "start_time": "2023-03-14T16:50:38.797Z"
   },
   {
    "duration": 614,
    "start_time": "2023-03-14T16:51:09.277Z"
   },
   {
    "duration": 104,
    "start_time": "2023-03-14T16:51:09.894Z"
   },
   {
    "duration": 78,
    "start_time": "2023-03-14T16:51:09.999Z"
   },
   {
    "duration": 35,
    "start_time": "2023-03-14T16:51:10.079Z"
   },
   {
    "duration": 1798,
    "start_time": "2023-03-14T16:51:10.115Z"
   },
   {
    "duration": 10,
    "start_time": "2023-03-14T16:51:11.915Z"
   },
   {
    "duration": 9,
    "start_time": "2023-03-14T16:51:11.926Z"
   },
   {
    "duration": 5,
    "start_time": "2023-03-14T16:51:11.937Z"
   },
   {
    "duration": 72,
    "start_time": "2023-03-14T16:51:11.943Z"
   },
   {
    "duration": 2,
    "start_time": "2023-03-14T16:51:12.018Z"
   },
   {
    "duration": 19,
    "start_time": "2023-03-14T16:51:12.022Z"
   },
   {
    "duration": 36,
    "start_time": "2023-03-14T16:51:12.042Z"
   },
   {
    "duration": 3,
    "start_time": "2023-03-14T16:51:12.080Z"
   },
   {
    "duration": 7,
    "start_time": "2023-03-14T16:51:12.085Z"
   },
   {
    "duration": 9,
    "start_time": "2023-03-14T16:51:12.094Z"
   },
   {
    "duration": 8,
    "start_time": "2023-03-14T16:51:12.104Z"
   },
   {
    "duration": 8,
    "start_time": "2023-03-14T16:51:12.113Z"
   },
   {
    "duration": 59,
    "start_time": "2023-03-14T16:51:12.123Z"
   },
   {
    "duration": 11,
    "start_time": "2023-03-14T16:51:12.183Z"
   },
   {
    "duration": 7,
    "start_time": "2023-03-14T16:51:12.196Z"
   },
   {
    "duration": 110,
    "start_time": "2023-03-14T16:51:12.204Z"
   },
   {
    "duration": 14,
    "start_time": "2023-03-14T16:51:12.315Z"
   },
   {
    "duration": 36,
    "start_time": "2023-03-14T16:51:12.330Z"
   },
   {
    "duration": 11,
    "start_time": "2023-03-14T16:51:12.367Z"
   },
   {
    "duration": 13,
    "start_time": "2023-03-14T16:51:12.379Z"
   },
   {
    "duration": 3,
    "start_time": "2023-03-14T16:51:12.394Z"
   },
   {
    "duration": 8,
    "start_time": "2023-03-14T16:51:12.398Z"
   },
   {
    "duration": 6,
    "start_time": "2023-03-14T16:51:12.410Z"
   },
   {
    "duration": 8,
    "start_time": "2023-03-14T16:51:12.417Z"
   },
   {
    "duration": 69,
    "start_time": "2023-03-14T16:51:12.427Z"
   },
   {
    "duration": 6,
    "start_time": "2023-03-14T16:51:12.497Z"
   },
   {
    "duration": 2,
    "start_time": "2023-03-14T16:51:12.505Z"
   },
   {
    "duration": 36,
    "start_time": "2023-03-14T16:51:12.509Z"
   },
   {
    "duration": 994,
    "start_time": "2023-03-14T16:51:12.546Z"
   },
   {
    "duration": 991,
    "start_time": "2023-03-14T16:51:13.541Z"
   },
   {
    "duration": 1018,
    "start_time": "2023-03-14T16:51:14.534Z"
   },
   {
    "duration": 994,
    "start_time": "2023-03-14T16:51:15.561Z"
   },
   {
    "duration": 1045,
    "start_time": "2023-03-14T16:51:16.569Z"
   },
   {
    "duration": 1123,
    "start_time": "2023-03-14T16:51:17.615Z"
   },
   {
    "duration": 5,
    "start_time": "2023-03-14T16:51:18.740Z"
   },
   {
    "duration": 24,
    "start_time": "2023-03-14T16:51:18.746Z"
   },
   {
    "duration": 12,
    "start_time": "2023-03-14T16:51:18.771Z"
   },
   {
    "duration": 18,
    "start_time": "2023-03-14T16:51:18.785Z"
   },
   {
    "duration": 4,
    "start_time": "2023-03-14T16:51:18.804Z"
   },
   {
    "duration": 7,
    "start_time": "2023-03-14T16:51:18.809Z"
   },
   {
    "duration": 3,
    "start_time": "2023-03-14T16:51:18.817Z"
   },
   {
    "duration": 4,
    "start_time": "2023-03-14T16:51:18.822Z"
   },
   {
    "duration": 38,
    "start_time": "2023-03-14T16:51:18.828Z"
   },
   {
    "duration": 5,
    "start_time": "2023-03-14T16:51:18.867Z"
   },
   {
    "duration": 13,
    "start_time": "2023-03-14T16:51:18.874Z"
   },
   {
    "duration": 97,
    "start_time": "2023-03-14T16:51:18.889Z"
   },
   {
    "duration": 0,
    "start_time": "2023-03-14T16:51:18.987Z"
   },
   {
    "duration": 0,
    "start_time": "2023-03-14T16:51:18.989Z"
   },
   {
    "duration": 0,
    "start_time": "2023-03-14T16:51:18.990Z"
   },
   {
    "duration": 0,
    "start_time": "2023-03-14T16:51:18.991Z"
   },
   {
    "duration": 1,
    "start_time": "2023-03-14T16:51:18.992Z"
   },
   {
    "duration": 0,
    "start_time": "2023-03-14T16:51:18.994Z"
   },
   {
    "duration": 0,
    "start_time": "2023-03-14T16:51:18.995Z"
   },
   {
    "duration": 0,
    "start_time": "2023-03-14T16:51:18.997Z"
   },
   {
    "duration": 0,
    "start_time": "2023-03-14T16:51:18.998Z"
   },
   {
    "duration": 0,
    "start_time": "2023-03-14T16:51:18.999Z"
   },
   {
    "duration": 0,
    "start_time": "2023-03-14T16:51:19.001Z"
   },
   {
    "duration": 0,
    "start_time": "2023-03-14T16:51:19.002Z"
   },
   {
    "duration": 0,
    "start_time": "2023-03-14T16:51:19.003Z"
   },
   {
    "duration": 0,
    "start_time": "2023-03-14T16:51:19.005Z"
   },
   {
    "duration": 0,
    "start_time": "2023-03-14T16:51:19.006Z"
   },
   {
    "duration": 0,
    "start_time": "2023-03-14T16:51:19.007Z"
   },
   {
    "duration": 0,
    "start_time": "2023-03-14T16:51:19.009Z"
   },
   {
    "duration": 0,
    "start_time": "2023-03-14T16:51:19.010Z"
   },
   {
    "duration": 0,
    "start_time": "2023-03-14T16:51:19.011Z"
   },
   {
    "duration": 0,
    "start_time": "2023-03-14T16:51:19.012Z"
   },
   {
    "duration": 0,
    "start_time": "2023-03-14T16:51:19.013Z"
   },
   {
    "duration": 0,
    "start_time": "2023-03-14T16:51:19.015Z"
   },
   {
    "duration": 0,
    "start_time": "2023-03-14T16:51:19.016Z"
   },
   {
    "duration": 1,
    "start_time": "2023-03-14T16:51:19.055Z"
   },
   {
    "duration": 0,
    "start_time": "2023-03-14T16:51:19.057Z"
   },
   {
    "duration": 10,
    "start_time": "2023-03-14T16:53:35.415Z"
   },
   {
    "duration": 8,
    "start_time": "2023-03-14T16:53:37.834Z"
   },
   {
    "duration": 13,
    "start_time": "2023-03-14T16:53:39.354Z"
   },
   {
    "duration": 7,
    "start_time": "2023-03-14T16:59:58.022Z"
   },
   {
    "duration": 7,
    "start_time": "2023-03-14T17:00:32.441Z"
   },
   {
    "duration": 6,
    "start_time": "2023-03-14T17:01:05.502Z"
   },
   {
    "duration": 6,
    "start_time": "2023-03-14T17:01:23.659Z"
   },
   {
    "duration": 5,
    "start_time": "2023-03-14T17:01:35.522Z"
   },
   {
    "duration": 36,
    "start_time": "2023-03-14T17:03:00.689Z"
   },
   {
    "duration": 25,
    "start_time": "2023-03-14T17:03:23.494Z"
   },
   {
    "duration": 4,
    "start_time": "2023-03-14T17:03:36.302Z"
   },
   {
    "duration": 9,
    "start_time": "2023-03-14T17:03:45.002Z"
   },
   {
    "duration": 179,
    "start_time": "2023-03-14T17:04:29.202Z"
   },
   {
    "duration": 8,
    "start_time": "2023-03-14T17:04:43.894Z"
   },
   {
    "duration": 8,
    "start_time": "2023-03-14T17:04:45.862Z"
   },
   {
    "duration": 10,
    "start_time": "2023-03-14T17:04:53.233Z"
   },
   {
    "duration": 8,
    "start_time": "2023-03-14T17:05:03.794Z"
   },
   {
    "duration": 283,
    "start_time": "2023-03-14T17:05:30.922Z"
   },
   {
    "duration": 433,
    "start_time": "2023-03-14T17:05:45.311Z"
   },
   {
    "duration": 272,
    "start_time": "2023-03-14T17:06:09.608Z"
   },
   {
    "duration": 436,
    "start_time": "2023-03-14T17:06:27.562Z"
   },
   {
    "duration": 472,
    "start_time": "2023-03-14T17:06:43.244Z"
   },
   {
    "duration": 216,
    "start_time": "2023-03-14T17:06:57.330Z"
   },
   {
    "duration": 113,
    "start_time": "2023-03-14T17:07:08.742Z"
   },
   {
    "duration": 9,
    "start_time": "2023-03-14T17:07:16.462Z"
   },
   {
    "duration": 214,
    "start_time": "2023-03-14T17:07:23.003Z"
   },
   {
    "duration": 474,
    "start_time": "2023-03-14T17:07:29.742Z"
   },
   {
    "duration": 580,
    "start_time": "2023-03-14T17:08:45.797Z"
   },
   {
    "duration": 99,
    "start_time": "2023-03-14T17:08:46.379Z"
   },
   {
    "duration": 85,
    "start_time": "2023-03-14T17:08:46.480Z"
   },
   {
    "duration": 47,
    "start_time": "2023-03-14T17:08:46.567Z"
   },
   {
    "duration": 1929,
    "start_time": "2023-03-14T17:08:46.617Z"
   },
   {
    "duration": 9,
    "start_time": "2023-03-14T17:08:48.548Z"
   },
   {
    "duration": 8,
    "start_time": "2023-03-14T17:08:48.558Z"
   },
   {
    "duration": 5,
    "start_time": "2023-03-14T17:08:48.568Z"
   },
   {
    "duration": 63,
    "start_time": "2023-03-14T17:08:48.574Z"
   },
   {
    "duration": 17,
    "start_time": "2023-03-14T17:08:48.639Z"
   },
   {
    "duration": 19,
    "start_time": "2023-03-14T17:08:48.657Z"
   },
   {
    "duration": 14,
    "start_time": "2023-03-14T17:08:48.677Z"
   },
   {
    "duration": 4,
    "start_time": "2023-03-14T17:08:48.693Z"
   },
   {
    "duration": 7,
    "start_time": "2023-03-14T17:08:48.700Z"
   },
   {
    "duration": 12,
    "start_time": "2023-03-14T17:08:48.708Z"
   },
   {
    "duration": 8,
    "start_time": "2023-03-14T17:08:48.756Z"
   },
   {
    "duration": 9,
    "start_time": "2023-03-14T17:08:48.765Z"
   },
   {
    "duration": 24,
    "start_time": "2023-03-14T17:08:48.775Z"
   },
   {
    "duration": 9,
    "start_time": "2023-03-14T17:08:48.801Z"
   },
   {
    "duration": 28,
    "start_time": "2023-03-14T17:08:48.812Z"
   },
   {
    "duration": 116,
    "start_time": "2023-03-14T17:08:48.841Z"
   },
   {
    "duration": 15,
    "start_time": "2023-03-14T17:08:48.959Z"
   },
   {
    "duration": 13,
    "start_time": "2023-03-14T17:08:48.975Z"
   },
   {
    "duration": 9,
    "start_time": "2023-03-14T17:08:48.989Z"
   },
   {
    "duration": 15,
    "start_time": "2023-03-14T17:08:48.999Z"
   },
   {
    "duration": 3,
    "start_time": "2023-03-14T17:08:49.015Z"
   },
   {
    "duration": 40,
    "start_time": "2023-03-14T17:08:49.019Z"
   },
   {
    "duration": 12,
    "start_time": "2023-03-14T17:08:49.061Z"
   },
   {
    "duration": 15,
    "start_time": "2023-03-14T17:08:49.074Z"
   },
   {
    "duration": 31,
    "start_time": "2023-03-14T17:08:49.090Z"
   },
   {
    "duration": 6,
    "start_time": "2023-03-14T17:08:49.123Z"
   },
   {
    "duration": 4,
    "start_time": "2023-03-14T17:08:49.130Z"
   },
   {
    "duration": 91,
    "start_time": "2023-03-14T17:08:49.135Z"
   },
   {
    "duration": 943,
    "start_time": "2023-03-14T17:08:49.228Z"
   },
   {
    "duration": 1231,
    "start_time": "2023-03-14T17:08:50.173Z"
   },
   {
    "duration": 939,
    "start_time": "2023-03-14T17:08:51.405Z"
   },
   {
    "duration": 964,
    "start_time": "2023-03-14T17:08:52.346Z"
   },
   {
    "duration": 951,
    "start_time": "2023-03-14T17:08:53.312Z"
   },
   {
    "duration": 1004,
    "start_time": "2023-03-14T17:08:54.265Z"
   },
   {
    "duration": 6,
    "start_time": "2023-03-14T17:08:55.271Z"
   },
   {
    "duration": 7,
    "start_time": "2023-03-14T17:08:55.281Z"
   },
   {
    "duration": 22,
    "start_time": "2023-03-14T17:08:55.289Z"
   },
   {
    "duration": 5,
    "start_time": "2023-03-14T17:08:55.312Z"
   },
   {
    "duration": 46,
    "start_time": "2023-03-14T17:08:55.318Z"
   },
   {
    "duration": 20,
    "start_time": "2023-03-14T17:08:55.366Z"
   },
   {
    "duration": 17,
    "start_time": "2023-03-14T17:08:55.388Z"
   },
   {
    "duration": 15,
    "start_time": "2023-03-14T17:08:55.406Z"
   },
   {
    "duration": 11,
    "start_time": "2023-03-14T17:08:55.423Z"
   },
   {
    "duration": 10,
    "start_time": "2023-03-14T17:08:55.435Z"
   },
   {
    "duration": 4,
    "start_time": "2023-03-14T17:08:55.446Z"
   },
   {
    "duration": 19,
    "start_time": "2023-03-14T17:08:55.452Z"
   },
   {
    "duration": 88,
    "start_time": "2023-03-14T17:08:55.473Z"
   },
   {
    "duration": 0,
    "start_time": "2023-03-14T17:08:55.563Z"
   },
   {
    "duration": 0,
    "start_time": "2023-03-14T17:08:55.564Z"
   },
   {
    "duration": 0,
    "start_time": "2023-03-14T17:08:55.566Z"
   },
   {
    "duration": 0,
    "start_time": "2023-03-14T17:08:55.567Z"
   },
   {
    "duration": 0,
    "start_time": "2023-03-14T17:08:55.569Z"
   },
   {
    "duration": 0,
    "start_time": "2023-03-14T17:08:55.570Z"
   },
   {
    "duration": 0,
    "start_time": "2023-03-14T17:08:55.571Z"
   },
   {
    "duration": 0,
    "start_time": "2023-03-14T17:08:55.572Z"
   },
   {
    "duration": 0,
    "start_time": "2023-03-14T17:08:55.574Z"
   },
   {
    "duration": 0,
    "start_time": "2023-03-14T17:08:55.575Z"
   },
   {
    "duration": 0,
    "start_time": "2023-03-14T17:08:55.576Z"
   },
   {
    "duration": 0,
    "start_time": "2023-03-14T17:08:55.577Z"
   },
   {
    "duration": 0,
    "start_time": "2023-03-14T17:08:55.579Z"
   },
   {
    "duration": 0,
    "start_time": "2023-03-14T17:08:55.580Z"
   },
   {
    "duration": 0,
    "start_time": "2023-03-14T17:08:55.581Z"
   },
   {
    "duration": 0,
    "start_time": "2023-03-14T17:08:55.583Z"
   },
   {
    "duration": 0,
    "start_time": "2023-03-14T17:08:55.584Z"
   },
   {
    "duration": 0,
    "start_time": "2023-03-14T17:08:55.584Z"
   },
   {
    "duration": 0,
    "start_time": "2023-03-14T17:08:55.585Z"
   },
   {
    "duration": 0,
    "start_time": "2023-03-14T17:08:55.587Z"
   },
   {
    "duration": 0,
    "start_time": "2023-03-14T17:08:55.587Z"
   },
   {
    "duration": 0,
    "start_time": "2023-03-14T17:08:55.588Z"
   },
   {
    "duration": 0,
    "start_time": "2023-03-14T17:08:55.589Z"
   },
   {
    "duration": 0,
    "start_time": "2023-03-14T17:08:55.590Z"
   },
   {
    "duration": 0,
    "start_time": "2023-03-14T17:08:55.591Z"
   },
   {
    "duration": 670,
    "start_time": "2023-03-14T17:11:47.036Z"
   },
   {
    "duration": 96,
    "start_time": "2023-03-14T17:11:47.708Z"
   },
   {
    "duration": 90,
    "start_time": "2023-03-14T17:11:47.805Z"
   },
   {
    "duration": 37,
    "start_time": "2023-03-14T17:11:47.898Z"
   },
   {
    "duration": 1857,
    "start_time": "2023-03-14T17:11:47.937Z"
   },
   {
    "duration": 9,
    "start_time": "2023-03-14T17:11:49.795Z"
   },
   {
    "duration": 14,
    "start_time": "2023-03-14T17:11:49.805Z"
   },
   {
    "duration": 6,
    "start_time": "2023-03-14T17:11:49.820Z"
   },
   {
    "duration": 58,
    "start_time": "2023-03-14T17:11:49.828Z"
   },
   {
    "duration": 2,
    "start_time": "2023-03-14T17:11:49.889Z"
   },
   {
    "duration": 26,
    "start_time": "2023-03-14T17:11:49.893Z"
   },
   {
    "duration": 15,
    "start_time": "2023-03-14T17:11:49.920Z"
   },
   {
    "duration": 22,
    "start_time": "2023-03-14T17:11:49.936Z"
   },
   {
    "duration": 9,
    "start_time": "2023-03-14T17:11:49.959Z"
   },
   {
    "duration": 9,
    "start_time": "2023-03-14T17:11:49.969Z"
   },
   {
    "duration": 9,
    "start_time": "2023-03-14T17:11:49.980Z"
   },
   {
    "duration": 10,
    "start_time": "2023-03-14T17:11:49.990Z"
   },
   {
    "duration": 77,
    "start_time": "2023-03-14T17:11:50.002Z"
   },
   {
    "duration": 10,
    "start_time": "2023-03-14T17:11:50.081Z"
   },
   {
    "duration": 8,
    "start_time": "2023-03-14T17:11:50.093Z"
   },
   {
    "duration": 120,
    "start_time": "2023-03-14T17:11:50.102Z"
   },
   {
    "duration": 14,
    "start_time": "2023-03-14T17:11:50.223Z"
   },
   {
    "duration": 27,
    "start_time": "2023-03-14T17:11:50.239Z"
   },
   {
    "duration": 8,
    "start_time": "2023-03-14T17:11:50.268Z"
   },
   {
    "duration": 13,
    "start_time": "2023-03-14T17:11:50.278Z"
   },
   {
    "duration": 4,
    "start_time": "2023-03-14T17:11:50.293Z"
   },
   {
    "duration": 11,
    "start_time": "2023-03-14T17:11:50.298Z"
   },
   {
    "duration": 8,
    "start_time": "2023-03-14T17:11:50.312Z"
   },
   {
    "duration": 41,
    "start_time": "2023-03-14T17:11:50.321Z"
   },
   {
    "duration": 32,
    "start_time": "2023-03-14T17:11:50.364Z"
   },
   {
    "duration": 7,
    "start_time": "2023-03-14T17:11:50.398Z"
   },
   {
    "duration": 2,
    "start_time": "2023-03-14T17:11:50.407Z"
   },
   {
    "duration": 48,
    "start_time": "2023-03-14T17:11:50.411Z"
   },
   {
    "duration": 994,
    "start_time": "2023-03-14T17:11:50.461Z"
   },
   {
    "duration": 993,
    "start_time": "2023-03-14T17:11:51.457Z"
   },
   {
    "duration": 1031,
    "start_time": "2023-03-14T17:11:52.455Z"
   },
   {
    "duration": 967,
    "start_time": "2023-03-14T17:11:53.488Z"
   },
   {
    "duration": 1003,
    "start_time": "2023-03-14T17:11:54.457Z"
   },
   {
    "duration": 986,
    "start_time": "2023-03-14T17:11:55.462Z"
   },
   {
    "duration": 9,
    "start_time": "2023-03-14T17:11:56.449Z"
   },
   {
    "duration": 8,
    "start_time": "2023-03-14T17:11:56.459Z"
   },
   {
    "duration": 12,
    "start_time": "2023-03-14T17:11:56.469Z"
   },
   {
    "duration": 6,
    "start_time": "2023-03-14T17:11:56.482Z"
   },
   {
    "duration": 22,
    "start_time": "2023-03-14T17:11:56.490Z"
   },
   {
    "duration": 3,
    "start_time": "2023-03-14T17:11:56.514Z"
   },
   {
    "duration": 45,
    "start_time": "2023-03-14T17:11:56.518Z"
   },
   {
    "duration": 4,
    "start_time": "2023-03-14T17:11:56.565Z"
   },
   {
    "duration": 4,
    "start_time": "2023-03-14T17:11:56.571Z"
   },
   {
    "duration": 8,
    "start_time": "2023-03-14T17:11:56.576Z"
   },
   {
    "duration": 4,
    "start_time": "2023-03-14T17:11:56.585Z"
   },
   {
    "duration": 15,
    "start_time": "2023-03-14T17:11:56.590Z"
   },
   {
    "duration": 520,
    "start_time": "2023-03-14T17:11:56.606Z"
   },
   {
    "duration": 85,
    "start_time": "2023-03-14T17:11:57.127Z"
   },
   {
    "duration": 0,
    "start_time": "2023-03-14T17:11:57.213Z"
   },
   {
    "duration": 0,
    "start_time": "2023-03-14T17:11:57.214Z"
   },
   {
    "duration": 0,
    "start_time": "2023-03-14T17:11:57.215Z"
   },
   {
    "duration": 0,
    "start_time": "2023-03-14T17:11:57.217Z"
   },
   {
    "duration": 0,
    "start_time": "2023-03-14T17:11:57.218Z"
   },
   {
    "duration": 0,
    "start_time": "2023-03-14T17:11:57.219Z"
   },
   {
    "duration": 0,
    "start_time": "2023-03-14T17:11:57.219Z"
   },
   {
    "duration": 0,
    "start_time": "2023-03-14T17:11:57.220Z"
   },
   {
    "duration": 0,
    "start_time": "2023-03-14T17:11:57.221Z"
   },
   {
    "duration": 0,
    "start_time": "2023-03-14T17:11:57.222Z"
   },
   {
    "duration": 0,
    "start_time": "2023-03-14T17:11:57.223Z"
   },
   {
    "duration": 0,
    "start_time": "2023-03-14T17:11:57.224Z"
   },
   {
    "duration": 0,
    "start_time": "2023-03-14T17:11:57.225Z"
   },
   {
    "duration": 0,
    "start_time": "2023-03-14T17:11:57.226Z"
   },
   {
    "duration": 0,
    "start_time": "2023-03-14T17:11:57.227Z"
   },
   {
    "duration": 0,
    "start_time": "2023-03-14T17:11:57.228Z"
   },
   {
    "duration": 0,
    "start_time": "2023-03-14T17:11:57.229Z"
   },
   {
    "duration": 0,
    "start_time": "2023-03-14T17:11:57.255Z"
   },
   {
    "duration": 0,
    "start_time": "2023-03-14T17:11:57.256Z"
   },
   {
    "duration": 0,
    "start_time": "2023-03-14T17:11:57.257Z"
   },
   {
    "duration": 0,
    "start_time": "2023-03-14T17:11:57.258Z"
   },
   {
    "duration": 0,
    "start_time": "2023-03-14T17:11:57.259Z"
   },
   {
    "duration": 0,
    "start_time": "2023-03-14T17:11:57.260Z"
   },
   {
    "duration": 0,
    "start_time": "2023-03-14T17:11:57.261Z"
   },
   {
    "duration": 627,
    "start_time": "2023-03-14T17:13:52.816Z"
   },
   {
    "duration": 97,
    "start_time": "2023-03-14T17:13:53.445Z"
   },
   {
    "duration": 71,
    "start_time": "2023-03-14T17:13:53.543Z"
   },
   {
    "duration": 56,
    "start_time": "2023-03-14T17:13:53.616Z"
   },
   {
    "duration": 1779,
    "start_time": "2023-03-14T17:13:53.674Z"
   },
   {
    "duration": 8,
    "start_time": "2023-03-14T17:13:55.455Z"
   },
   {
    "duration": 9,
    "start_time": "2023-03-14T17:13:55.465Z"
   },
   {
    "duration": 4,
    "start_time": "2023-03-14T17:13:55.476Z"
   },
   {
    "duration": 79,
    "start_time": "2023-03-14T17:13:55.482Z"
   },
   {
    "duration": 2,
    "start_time": "2023-03-14T17:13:55.564Z"
   },
   {
    "duration": 25,
    "start_time": "2023-03-14T17:13:55.567Z"
   },
   {
    "duration": 15,
    "start_time": "2023-03-14T17:13:55.593Z"
   },
   {
    "duration": 3,
    "start_time": "2023-03-14T17:13:55.610Z"
   },
   {
    "duration": 8,
    "start_time": "2023-03-14T17:13:55.614Z"
   },
   {
    "duration": 12,
    "start_time": "2023-03-14T17:13:55.655Z"
   },
   {
    "duration": 8,
    "start_time": "2023-03-14T17:13:55.669Z"
   },
   {
    "duration": 8,
    "start_time": "2023-03-14T17:13:55.679Z"
   },
   {
    "duration": 25,
    "start_time": "2023-03-14T17:13:55.688Z"
   },
   {
    "duration": 40,
    "start_time": "2023-03-14T17:13:55.715Z"
   },
   {
    "duration": 8,
    "start_time": "2023-03-14T17:13:55.757Z"
   },
   {
    "duration": 115,
    "start_time": "2023-03-14T17:13:55.767Z"
   },
   {
    "duration": 13,
    "start_time": "2023-03-14T17:13:55.884Z"
   },
   {
    "duration": 28,
    "start_time": "2023-03-14T17:13:55.899Z"
   },
   {
    "duration": 9,
    "start_time": "2023-03-14T17:13:55.929Z"
   },
   {
    "duration": 26,
    "start_time": "2023-03-14T17:13:55.941Z"
   },
   {
    "duration": 3,
    "start_time": "2023-03-14T17:13:55.969Z"
   },
   {
    "duration": 10,
    "start_time": "2023-03-14T17:13:55.974Z"
   },
   {
    "duration": 6,
    "start_time": "2023-03-14T17:13:55.989Z"
   },
   {
    "duration": 8,
    "start_time": "2023-03-14T17:13:55.997Z"
   },
   {
    "duration": 69,
    "start_time": "2023-03-14T17:13:56.007Z"
   },
   {
    "duration": 8,
    "start_time": "2023-03-14T17:13:56.077Z"
   },
   {
    "duration": 4,
    "start_time": "2023-03-14T17:13:56.086Z"
   },
   {
    "duration": 25,
    "start_time": "2023-03-14T17:13:56.092Z"
   },
   {
    "duration": 1112,
    "start_time": "2023-03-14T17:13:56.119Z"
   },
   {
    "duration": 1028,
    "start_time": "2023-03-14T17:13:57.232Z"
   },
   {
    "duration": 1014,
    "start_time": "2023-03-14T17:13:58.261Z"
   },
   {
    "duration": 970,
    "start_time": "2023-03-14T17:13:59.276Z"
   },
   {
    "duration": 965,
    "start_time": "2023-03-14T17:14:00.247Z"
   },
   {
    "duration": 977,
    "start_time": "2023-03-14T17:14:01.213Z"
   },
   {
    "duration": 5,
    "start_time": "2023-03-14T17:14:02.192Z"
   },
   {
    "duration": 28,
    "start_time": "2023-03-14T17:14:02.198Z"
   },
   {
    "duration": 21,
    "start_time": "2023-03-14T17:14:02.228Z"
   },
   {
    "duration": 19,
    "start_time": "2023-03-14T17:14:02.251Z"
   },
   {
    "duration": 45,
    "start_time": "2023-03-14T17:14:02.271Z"
   },
   {
    "duration": 17,
    "start_time": "2023-03-14T17:14:02.318Z"
   },
   {
    "duration": 27,
    "start_time": "2023-03-14T17:14:02.336Z"
   },
   {
    "duration": 9,
    "start_time": "2023-03-14T17:14:02.364Z"
   },
   {
    "duration": 18,
    "start_time": "2023-03-14T17:14:02.375Z"
   },
   {
    "duration": 30,
    "start_time": "2023-03-14T17:14:02.395Z"
   },
   {
    "duration": 8,
    "start_time": "2023-03-14T17:14:02.427Z"
   },
   {
    "duration": 34,
    "start_time": "2023-03-14T17:14:02.437Z"
   },
   {
    "duration": 404,
    "start_time": "2023-03-14T17:14:02.472Z"
   },
   {
    "duration": 500,
    "start_time": "2023-03-14T17:14:02.877Z"
   },
   {
    "duration": 431,
    "start_time": "2023-03-14T17:14:03.378Z"
   },
   {
    "duration": 309,
    "start_time": "2023-03-14T17:14:03.811Z"
   },
   {
    "duration": 565,
    "start_time": "2023-03-14T17:14:04.121Z"
   },
   {
    "duration": 474,
    "start_time": "2023-03-14T17:14:04.688Z"
   },
   {
    "duration": 230,
    "start_time": "2023-03-14T17:14:05.163Z"
   },
   {
    "duration": 131,
    "start_time": "2023-03-14T17:14:05.395Z"
   },
   {
    "duration": 499,
    "start_time": "2023-03-14T17:14:05.527Z"
   },
   {
    "duration": 431,
    "start_time": "2023-03-14T17:14:06.029Z"
   },
   {
    "duration": 507,
    "start_time": "2023-03-14T17:14:06.462Z"
   },
   {
    "duration": 504,
    "start_time": "2023-03-14T17:14:06.970Z"
   },
   {
    "duration": 126,
    "start_time": "2023-03-14T17:14:07.475Z"
   },
   {
    "duration": 129,
    "start_time": "2023-03-14T17:14:07.603Z"
   },
   {
    "duration": 227,
    "start_time": "2023-03-14T17:14:07.733Z"
   },
   {
    "duration": 194,
    "start_time": "2023-03-14T17:14:07.961Z"
   },
   {
    "duration": 190,
    "start_time": "2023-03-14T17:14:08.156Z"
   },
   {
    "duration": 189,
    "start_time": "2023-03-14T17:14:08.347Z"
   },
   {
    "duration": 209,
    "start_time": "2023-03-14T17:14:08.538Z"
   },
   {
    "duration": 27039,
    "start_time": "2023-03-14T17:14:08.748Z"
   },
   {
    "duration": 142,
    "start_time": "2023-03-14T17:14:35.789Z"
   },
   {
    "duration": 186,
    "start_time": "2023-03-14T17:14:35.933Z"
   },
   {
    "duration": 30719,
    "start_time": "2023-03-14T17:14:36.120Z"
   },
   {
    "duration": 178,
    "start_time": "2023-03-14T17:15:06.841Z"
   },
   {
    "duration": 34,
    "start_time": "2023-03-14T17:15:07.022Z"
   },
   {
    "duration": 262,
    "start_time": "2023-03-14T17:15:07.058Z"
   },
   {
    "duration": 3291,
    "start_time": "2023-03-14T17:27:02.595Z"
   },
   {
    "duration": 21,
    "start_time": "2023-03-14T17:29:24.236Z"
   },
   {
    "duration": 51,
    "start_time": "2023-03-14T17:31:30.655Z"
   },
   {
    "duration": 21,
    "start_time": "2023-03-14T17:31:39.694Z"
   },
   {
    "duration": 26,
    "start_time": "2023-03-14T17:38:04.825Z"
   },
   {
    "duration": 27,
    "start_time": "2023-03-14T17:38:07.383Z"
   },
   {
    "duration": 23,
    "start_time": "2023-03-14T17:38:09.223Z"
   },
   {
    "duration": 26,
    "start_time": "2023-03-14T17:38:10.497Z"
   },
   {
    "duration": 29,
    "start_time": "2023-03-14T17:39:09.775Z"
   },
   {
    "duration": 34,
    "start_time": "2023-03-14T17:40:51.893Z"
   },
   {
    "duration": 87,
    "start_time": "2023-03-14T17:41:27.736Z"
   },
   {
    "duration": 644,
    "start_time": "2023-03-14T17:42:07.528Z"
   },
   {
    "duration": 120,
    "start_time": "2023-03-14T17:42:08.174Z"
   },
   {
    "duration": 88,
    "start_time": "2023-03-14T17:42:08.296Z"
   },
   {
    "duration": 36,
    "start_time": "2023-03-14T17:42:08.386Z"
   },
   {
    "duration": 1955,
    "start_time": "2023-03-14T17:42:08.423Z"
   },
   {
    "duration": 10,
    "start_time": "2023-03-14T17:42:10.380Z"
   },
   {
    "duration": 11,
    "start_time": "2023-03-14T17:42:10.392Z"
   },
   {
    "duration": 7,
    "start_time": "2023-03-14T17:42:10.405Z"
   },
   {
    "duration": 57,
    "start_time": "2023-03-14T17:42:10.413Z"
   },
   {
    "duration": 2,
    "start_time": "2023-03-14T17:42:10.473Z"
   },
   {
    "duration": 20,
    "start_time": "2023-03-14T17:42:10.477Z"
   },
   {
    "duration": 19,
    "start_time": "2023-03-14T17:42:10.499Z"
   },
   {
    "duration": 5,
    "start_time": "2023-03-14T17:42:10.555Z"
   },
   {
    "duration": 13,
    "start_time": "2023-03-14T17:42:10.562Z"
   },
   {
    "duration": 13,
    "start_time": "2023-03-14T17:42:10.577Z"
   },
   {
    "duration": 12,
    "start_time": "2023-03-14T17:42:10.592Z"
   },
   {
    "duration": 13,
    "start_time": "2023-03-14T17:42:10.606Z"
   },
   {
    "duration": 69,
    "start_time": "2023-03-14T17:42:10.620Z"
   },
   {
    "duration": 12,
    "start_time": "2023-03-14T17:42:10.690Z"
   },
   {
    "duration": 9,
    "start_time": "2023-03-14T17:42:10.703Z"
   },
   {
    "duration": 127,
    "start_time": "2023-03-14T17:42:10.714Z"
   },
   {
    "duration": 25,
    "start_time": "2023-03-14T17:42:10.843Z"
   },
   {
    "duration": 14,
    "start_time": "2023-03-14T17:42:10.870Z"
   },
   {
    "duration": 16,
    "start_time": "2023-03-14T17:42:10.885Z"
   },
   {
    "duration": 16,
    "start_time": "2023-03-14T17:42:10.903Z"
   },
   {
    "duration": 34,
    "start_time": "2023-03-14T17:42:10.921Z"
   },
   {
    "duration": 10,
    "start_time": "2023-03-14T17:42:10.958Z"
   },
   {
    "duration": 7,
    "start_time": "2023-03-14T17:42:10.974Z"
   },
   {
    "duration": 8,
    "start_time": "2023-03-14T17:42:10.983Z"
   },
   {
    "duration": 64,
    "start_time": "2023-03-14T17:42:10.993Z"
   },
   {
    "duration": 7,
    "start_time": "2023-03-14T17:42:11.058Z"
   },
   {
    "duration": 4,
    "start_time": "2023-03-14T17:42:11.066Z"
   },
   {
    "duration": 26,
    "start_time": "2023-03-14T17:42:11.071Z"
   },
   {
    "duration": 1188,
    "start_time": "2023-03-14T17:42:11.099Z"
   },
   {
    "duration": 1046,
    "start_time": "2023-03-14T17:42:12.289Z"
   },
   {
    "duration": 1050,
    "start_time": "2023-03-14T17:42:13.336Z"
   },
   {
    "duration": 1305,
    "start_time": "2023-03-14T17:42:14.387Z"
   },
   {
    "duration": 1098,
    "start_time": "2023-03-14T17:42:15.695Z"
   },
   {
    "duration": 1482,
    "start_time": "2023-03-14T17:42:16.795Z"
   },
   {
    "duration": 8,
    "start_time": "2023-03-14T17:42:18.279Z"
   },
   {
    "duration": 9,
    "start_time": "2023-03-14T17:42:18.289Z"
   },
   {
    "duration": 13,
    "start_time": "2023-03-14T17:42:18.300Z"
   },
   {
    "duration": 6,
    "start_time": "2023-03-14T17:42:18.316Z"
   },
   {
    "duration": 56,
    "start_time": "2023-03-14T17:42:18.323Z"
   },
   {
    "duration": 4,
    "start_time": "2023-03-14T17:42:18.382Z"
   },
   {
    "duration": 6,
    "start_time": "2023-03-14T17:42:18.388Z"
   },
   {
    "duration": 5,
    "start_time": "2023-03-14T17:42:18.396Z"
   },
   {
    "duration": 5,
    "start_time": "2023-03-14T17:42:18.402Z"
   },
   {
    "duration": 8,
    "start_time": "2023-03-14T17:42:18.408Z"
   },
   {
    "duration": 44,
    "start_time": "2023-03-14T17:42:18.417Z"
   },
   {
    "duration": 17,
    "start_time": "2023-03-14T17:42:18.463Z"
   },
   {
    "duration": 483,
    "start_time": "2023-03-14T17:42:18.482Z"
   },
   {
    "duration": 633,
    "start_time": "2023-03-14T17:42:18.966Z"
   },
   {
    "duration": 521,
    "start_time": "2023-03-14T17:42:19.601Z"
   },
   {
    "duration": 323,
    "start_time": "2023-03-14T17:42:20.123Z"
   },
   {
    "duration": 653,
    "start_time": "2023-03-14T17:42:20.448Z"
   },
   {
    "duration": 462,
    "start_time": "2023-03-14T17:42:21.103Z"
   },
   {
    "duration": 261,
    "start_time": "2023-03-14T17:42:21.569Z"
   },
   {
    "duration": 161,
    "start_time": "2023-03-14T17:42:21.832Z"
   },
   {
    "duration": 552,
    "start_time": "2023-03-14T17:42:21.997Z"
   },
   {
    "duration": 579,
    "start_time": "2023-03-14T17:42:22.551Z"
   },
   {
    "duration": 657,
    "start_time": "2023-03-14T17:42:23.133Z"
   },
   {
    "duration": 687,
    "start_time": "2023-03-14T17:42:23.792Z"
   },
   {
    "duration": 176,
    "start_time": "2023-03-14T17:42:24.481Z"
   },
   {
    "duration": 158,
    "start_time": "2023-03-14T17:42:24.658Z"
   },
   {
    "duration": 312,
    "start_time": "2023-03-14T17:42:24.818Z"
   },
   {
    "duration": 209,
    "start_time": "2023-03-14T17:42:25.132Z"
   },
   {
    "duration": 245,
    "start_time": "2023-03-14T17:42:25.343Z"
   },
   {
    "duration": 245,
    "start_time": "2023-03-14T17:42:25.591Z"
   },
   {
    "duration": 197,
    "start_time": "2023-03-14T17:42:25.839Z"
   },
   {
    "duration": 35264,
    "start_time": "2023-03-14T17:42:26.038Z"
   },
   {
    "duration": 179,
    "start_time": "2023-03-14T17:43:01.304Z"
   },
   {
    "duration": 226,
    "start_time": "2023-03-14T17:43:01.485Z"
   },
   {
    "duration": 38132,
    "start_time": "2023-03-14T17:43:01.713Z"
   },
   {
    "duration": 204,
    "start_time": "2023-03-14T17:43:39.847Z"
   },
   {
    "duration": 36,
    "start_time": "2023-03-14T17:43:40.056Z"
   },
   {
    "duration": 423,
    "start_time": "2023-03-14T17:43:40.098Z"
   }
  ],
  "kernelspec": {
   "display_name": "Python 3 (ipykernel)",
   "language": "python",
   "name": "python3"
  },
  "language_info": {
   "codemirror_mode": {
    "name": "ipython",
    "version": 3
   },
   "file_extension": ".py",
   "mimetype": "text/x-python",
   "name": "python",
   "nbconvert_exporter": "python",
   "pygments_lexer": "ipython3",
   "version": "3.9.13"
  },
  "toc": {
   "base_numbering": 1,
   "nav_menu": {},
   "number_sections": true,
   "sideBar": true,
   "skip_h1_title": true,
   "title_cell": "Table of Contents",
   "title_sidebar": "Contents",
   "toc_cell": false,
   "toc_position": {},
   "toc_section_display": true,
   "toc_window_display": false
  }
 },
 "nbformat": 4,
 "nbformat_minor": 2
}
